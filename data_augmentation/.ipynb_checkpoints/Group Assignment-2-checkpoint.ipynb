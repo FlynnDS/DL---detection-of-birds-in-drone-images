{
 "cells": [
  {
   "cell_type": "markdown",
   "id": "0e96f895",
   "metadata": {},
   "source": [
    "# Group assignment object detection"
   ]
  },
  {
   "cell_type": "markdown",
   "id": "88e81934",
   "metadata": {},
   "source": [
    "### Choice of model\n",
    "\n",
    "In this project, the task is to determine the birds and their location inside a picture. Birds can be of many differnt shapes and forms, so it is important to have a generalizable model. Secondly, it is critical that the model can make predictions in a tractable manner. It should be fast enough to have the model running on inference on the drone's hardware. For that reason, the model can't be large and complex, it should be lightweight and apaptable. "
   ]
  },
  {
   "cell_type": "markdown",
   "id": "2bfcaa20",
   "metadata": {},
   "source": [
    "YOLO is a model that is known for its speed, it is fast and flexible. This will be the basis of our model's architecture. Yolo predicts a location bound for an object. "
   ]
  },
  {
   "cell_type": "markdown",
   "id": "fc84bf51",
   "metadata": {},
   "source": [
    "An issue I have with the data is that I want to use apple's background removing feature but because of the file names. That are super long and complex as they are hashes, it gets confused because the hash potentially mimics a hash that is protected or another reason. So the best appraoch is to clean the file names. But I don't want to do that as it seems cumbersome as my whole code is already great as it is now. "
   ]
  },
  {
   "cell_type": "code",
   "execution_count": 111,
   "id": "818caf07",
   "metadata": {},
   "outputs": [],
   "source": [
    "from typing import Dict, List, Tuple\n",
    "from pydantic import BaseModel\n",
    "import os\n",
    "import random\n",
    "import shutil\n",
    "from IPython.display import Image, display\n",
    "from PIL import Image as PILImage\n",
    "class ImageData(BaseModel):\n",
    "    image_name: str\n",
    "    image_paths: List[str] = list()\n",
    "    label_text: str\n",
    "    bird_class: int = None # 0 = crow, 1 = , 2 = , 3 = pigeon, 4 = other\n",
    "    cleaned_file: str = \"\"\n",
    "\n",
    "    def model_post_init(self, context):\n",
    "        self.bird_class = int(self.label_text[0])\n",
    "\n",
    "        return super().model_post_init(context)\n",
    "\n",
    "    def get_random_image_path(self):\n",
    "        random_image = random.choice(self.image_paths)\n",
    "        random_image = self.image_paths[0]\n",
    "\n",
    "        return self.image_name, random_image, self.label_text, self.bird_class\n",
    "\n",
    "    def get_cleaned_image(self):\n",
    "        display(Image(filename=self.cleaned_file))\n",
    "\n",
    "    def get_cleaned_scaled_image(self, new_width, new_height):\n",
    "        img = PILImage.open(self.cleaned_file)\n",
    "        wpercent = (new_width / float(img.size[0]))\n",
    "        hsize = int((float(img.size[1]) * float(wpercent)))\n",
    "        img_resized = img.resize((new_width, hsize), PILImage.Resampling.LANCZOS)\n",
    "        #img_resized.save(\"test.png\")\n",
    "        display(img_resized)\n",
    "\n",
    "    def get_cropped_images(self, new_width):\n",
    "        img = PILImage.open(self.cleaned_file)\n",
    "        img_width, img_height = img.size\n",
    "\n",
    "        bounding_boxes = self.label_text.split(\"\\n\")\n",
    "        # You only want to take one of the bounding boxes to display because we only want to add one picture into another picture\n",
    "        # So we take the largest one, which has the highest probability to be one that is the most complete bird\n",
    "        largest_bounding_box = sorted(bounding_boxes, reverse=True, key= lambda x: x[3])[0]\n",
    "        if len(largest_bounding_box.split(\" \")) != 5:\n",
    "            return False\n",
    "        bird_class, x_center_rel, y_center_rel, width_rel, height_rel = map(float, largest_bounding_box.split(\" \"))\n",
    "        x_center = x_center_rel * img_width\n",
    "        y_center = y_center_rel * img_height\n",
    "        width = width_rel * img_width\n",
    "        height = height_rel * img_height\n",
    "\n",
    "        x_short = x_center - (0.5 * width)\n",
    "        x_long = x_center + (0.5 * width)\n",
    "        y_short = y_center - (0.5 * height)\n",
    "        y_long = y_center + (0.5 * height)\n",
    "        cropped_img = img.crop((x_short, y_short, x_long, y_long))\n",
    "\n",
    "        # now we are scaling the cropped image to the correct size\n",
    "        wpercent = (new_width / float(img_width))\n",
    "        hsize = int((float(img_height) * wpercent))\n",
    "        img_resized = cropped_img.resize((new_width, hsize), PILImage.Resampling.LANCZOS)\n",
    "        display(img_resized)\n",
    "\n",
    "        return img_resized\n",
    "\n",
    "class AllImages(BaseModel):\n",
    "    images_dict: Dict[str, ImageData] = dict()\n",
    "\n",
    "    def get_image_list_index(self, bird_classes: Tuple[int] = (0, 1, 2, 3, 4), cleaned_file=False):\n",
    "        \"\"\"gets a list of bird images that satisify the requirement of input\"\"\"\n",
    "        if cleaned_file:\n",
    "            found_image_dict = {index: image_name\n",
    "                        for index, (image_name, image)\n",
    "                          in enumerate(self.images_dict.items())\n",
    "                          if image.bird_class in bird_classes and image.cleaned_file != \"\"}\n",
    "        else:\n",
    "            found_image_dict = {index: image_name\n",
    "                            for index, (image_name, image)\n",
    "                            in enumerate(self.images_dict.items())\n",
    "                            if image.bird_class in bird_classes}\n",
    "        print(len(found_image_dict))\n",
    "        return found_image_dict\n",
    "\n",
    "    def get_random_instance(self, bird_classes: Tuple[int] = (0, 1, 2, 3, 4), cleaned_file=False):\n",
    "        found_image_dict = self.get_image_list_index(bird_classes, cleaned_file)\n",
    "        random_key = random.choice(list(found_image_dict.keys()))\n",
    "        found_image = found_image_dict[random_key]\n",
    "        return self.images_dict[found_image]\n",
    "    \n",
    "    def get_random_picture(self, bird_classes: Tuple[int] = (0, 1, 2, 3, 4)):\n",
    "        \n",
    "        found_image = self.get_random_instance(bird_classes)\n",
    "        image_name, found_image_path, label_text, bird_class = found_image.get_random_image_path()\n",
    "        display(Image(filename=found_image_path))\n",
    "        return found_image_path\n",
    "    \n",
    "    def get_random_clean_image(self, new_width, new_height):\n",
    "        image = self.get_random_instance((0, 3), True)\n",
    "        print(image.image_name)\n",
    "        print(image.cleaned_file)\n",
    "        image.get_cleaned_scaled_image(new_width, new_height)\n",
    "\n",
    "    def get_random_cropped_images(self, new_width):\n",
    "        image = self.get_random_instance((0, 3), True)\n",
    "        print(image.image_name)\n",
    "        print(image.cleaned_file)\n",
    "\n",
    "        # Sometimes the cropped image is in the wrong format. So we recursively call this function to retry another one\n",
    "        for i in range(5):\n",
    "            cropped_image = image.get_cropped_images(new_width)\n",
    "            if cropped_image != False:\n",
    "                break\n",
    "        \n",
    "    def get_list_of_paths_crows_pigeons(self):\n",
    "        \"\"\"returns all of the information of the files as a list of lists. \n",
    "        only includes pigeons and crows\"\"\"\n",
    "        found_images_objects = self.get_image_list_index((0, 3))\n",
    "        image_paths = [self.images_dict[image].get_random_image_path() for image in list(found_images_objects.values())]\n",
    "        return image_paths\n",
    "    \n",
    "    def copy_crows_pigeons(self, destination_folder: str):\n",
    "        crows_pigeon_paths = self.get_list_of_paths_crows_pigeons()\n",
    "        crows_path = f\"{destination_folder}/crows\"\n",
    "        pigeons_path = f\"{destination_folder}/pigeons\"\n",
    "        if not os.path.exists(destination_folder):\n",
    "            os.mkdir(destination_folder)\n",
    "            os.mkdir(crows_path)\n",
    "            os.mkdir(f\"{crows_path}/labels\")\n",
    "            os.mkdir(pigeons_path)\n",
    "            os.mkdir(f\"{pigeons_path}/labels\")\n",
    "        else:\n",
    "            raise Exception(\"folder already exists\")\n",
    "        \n",
    "        \n",
    "        for index, (image_name, image_path, label_text, bird_class) in enumerate(crows_pigeon_paths):\n",
    "            bird_cat = \"c\" if bird_class == 0 else \"p\"\n",
    "            image_name = f\"{bird_cat}_{index}\"\n",
    "            if bird_class == 0:\n",
    "                #shutil.copy(image_path, f\"{crows_path}/{image_name}.jpg\")\n",
    "                shutil.copy(image_path, crows_path)\n",
    "                with open(f\"{crows_path}/labels/{image_name}.txt\", \"w\") as f:\n",
    "                    f.write(label_text)\n",
    "\n",
    "            elif bird_class == 3:\n",
    "                #shutil.copy(image_path, f\"{pigeons_path}/{image_name}.jpg\")\n",
    "                shutil.copy(image_path, pigeons_path)\n",
    "\n",
    "                with open(f\"{pigeons_path}/labels/{image_name}.txt\", \"w\") as f:\n",
    "                    f.write(label_text)\n",
    "\n",
    "    def load_removed_background_pictures(self, path: str):\n",
    "        \"\"\"give the folder of where the pictures are that have removed the background\n",
    "        the path folder should contain two folders \"pigeons\" and \"crows\"\n",
    "        \"\"\"\n",
    "        folders = os.listdir(path)\n",
    "        if not (\"pigeons\" in folders and \"crows\" in folders):\n",
    "            raise Exception(\"pigeons and crows doesn't exist in folder\")\n",
    "        \n",
    "        for file in os.listdir(f\"{path}/pigeons\"):\n",
    "            if \".DS_Store\" in file:\n",
    "                continue\n",
    "            first_file_name = file.split(\".\")[0]\n",
    "            self.images_dict[first_file_name].cleaned_file = f\"{path}/pigeons/{file}\"\n",
    "\n",
    "        for file in os.listdir(f\"{path}/crows\"):\n",
    "            if \".DS_Store\" in file:\n",
    "                continue\n",
    "            first_file_name = file.split(\".\")[0]\n",
    "            self.images_dict[first_file_name].cleaned_file = f\"{path}/crows/{file}\"\n",
    "\n",
    "        \n",
    "        \n"
   ]
  },
  {
   "cell_type": "code",
   "execution_count": 112,
   "id": "b3cb807a",
   "metadata": {},
   "outputs": [],
   "source": [
    "folder_path = \"Harmful Birds Detection.v1i.yolov11\"\n",
    "os.listdir(folder_path)\n",
    "\n",
    "def get_related_pictures_from_file_path(label_file: str, image_paths: List[str]):\n",
    "    return [file_path for file_path in image_paths if label_file in file_path]\n",
    "\n",
    "def get_files_in_data_folder(path, all_images: AllImages):\n",
    "    images_paths = [f\"{path}/images/{file_path}\" for file_path in os.listdir(f\"{path}/images\")]\n",
    "    label_file_names = [file_path for file_path in os.listdir(f\"{path}/labels\")]\n",
    "    \n",
    "    for label_file in label_file_names:\n",
    "        if \".DS_Store\" in label_file:\n",
    "            continue\n",
    "        # the same picture has the first part the same but might have had different augmentation\n",
    "        first_file_name = label_file.split(\".\")[0]\n",
    "        if first_file_name in all_images.images_dict:\n",
    "            image = all_images.images_dict[first_file_name]\n",
    "        else:\n",
    "            with open(f\"{path}/labels/{label_file}\") as f:\n",
    "                label_text = f.read()\n",
    "            image = ImageData(image_name=first_file_name,\n",
    "                              label_text=label_text)\n",
    "        label_file_no_ext = os.path.splitext(label_file)[0]\n",
    "        found_image = [file_name for file_name in images_paths if label_file_no_ext in file_name][0]\n",
    "        image.image_paths.append(found_image)\n",
    "        all_images.images_dict[first_file_name] = image\n",
    "    \n",
    "    return all_images\n",
    "\n",
    "def get_all_files():\n",
    "    all_images = AllImages()\n",
    "    test_images = get_files_in_data_folder(\"Harmful Birds Detection.v1i.yolov11/test\", all_images)\n",
    "    train_images = get_files_in_data_folder(\"Harmful Birds Detection.v1i.yolov11/train\", all_images)\n",
    "    valid_images = get_files_in_data_folder(\"Harmful Birds Detection.v1i.yolov11/valid\", all_images)\n",
    "    return all_images\n",
    "\n",
    "all_images_objects = get_all_files()\n",
    "\n",
    "\n",
    "\n"
   ]
  },
  {
   "cell_type": "markdown",
   "id": "eb53b2e1",
   "metadata": {},
   "source": [
    "### Create export of images of pigeons and crows"
   ]
  },
  {
   "cell_type": "code",
   "execution_count": 107,
   "id": "02b52f4b",
   "metadata": {},
   "outputs": [
    {
     "data": {
      "text/plain": [
       "False"
      ]
     },
     "execution_count": 107,
     "metadata": {},
     "output_type": "execute_result"
    }
   ],
   "source": [
    "len('0 0.37265625 0.31875 0.18125 0.2953125'.split(\" \")) != 5"
   ]
  },
  {
   "cell_type": "code",
   "execution_count": 108,
   "id": "c117679d",
   "metadata": {},
   "outputs": [
    {
     "name": "stdout",
     "output_type": "stream",
     "text": [
      "1913\n"
     ]
    },
    {
     "ename": "Exception",
     "evalue": "folder already exists",
     "output_type": "error",
     "traceback": [
      "\u001b[0;31m---------------------------------------------------------------------------\u001b[0m",
      "\u001b[0;31mException\u001b[0m                                 Traceback (most recent call last)",
      "Cell \u001b[0;32mIn[108], line 1\u001b[0m\n\u001b[0;32m----> 1\u001b[0m \u001b[43mall_images_objects\u001b[49m\u001b[38;5;241;43m.\u001b[39;49m\u001b[43mcopy_crows_pigeons\u001b[49m\u001b[43m(\u001b[49m\u001b[38;5;124;43m\"\u001b[39;49m\u001b[38;5;124;43mfiles_to_clean_nopixels\u001b[39;49m\u001b[38;5;124;43m\"\u001b[39;49m\u001b[43m)\u001b[49m\n",
      "Cell \u001b[0;32mIn[104], line 133\u001b[0m, in \u001b[0;36mAllImages.copy_crows_pigeons\u001b[0;34m(self, destination_folder)\u001b[0m\n\u001b[1;32m    131\u001b[0m     os\u001b[38;5;241m.\u001b[39mmkdir(\u001b[38;5;124mf\u001b[39m\u001b[38;5;124m\"\u001b[39m\u001b[38;5;132;01m{\u001b[39;00mpigeons_path\u001b[38;5;132;01m}\u001b[39;00m\u001b[38;5;124m/labels\u001b[39m\u001b[38;5;124m\"\u001b[39m)\n\u001b[1;32m    132\u001b[0m \u001b[38;5;28;01melse\u001b[39;00m:\n\u001b[0;32m--> 133\u001b[0m     \u001b[38;5;28;01mraise\u001b[39;00m \u001b[38;5;167;01mException\u001b[39;00m(\u001b[38;5;124m\"\u001b[39m\u001b[38;5;124mfolder already exists\u001b[39m\u001b[38;5;124m\"\u001b[39m)\n\u001b[1;32m    136\u001b[0m \u001b[38;5;28;01mfor\u001b[39;00m index, (image_name, image_path, label_text, bird_class) \u001b[38;5;129;01min\u001b[39;00m \u001b[38;5;28menumerate\u001b[39m(crows_pigeon_paths):\n\u001b[1;32m    137\u001b[0m     bird_cat \u001b[38;5;241m=\u001b[39m \u001b[38;5;124m\"\u001b[39m\u001b[38;5;124mc\u001b[39m\u001b[38;5;124m\"\u001b[39m \u001b[38;5;28;01mif\u001b[39;00m bird_class \u001b[38;5;241m==\u001b[39m \u001b[38;5;241m0\u001b[39m \u001b[38;5;28;01melse\u001b[39;00m \u001b[38;5;124m\"\u001b[39m\u001b[38;5;124mp\u001b[39m\u001b[38;5;124m\"\u001b[39m\n",
      "\u001b[0;31mException\u001b[0m: folder already exists"
     ]
    }
   ],
   "source": [
    "all_images_objects.copy_crows_pigeons(\"files_to_clean_nopixels\")"
   ]
  },
  {
   "cell_type": "markdown",
   "id": "82ce1930",
   "metadata": {},
   "source": [
    "# Preprocess locally using Apple shortcuts\n",
    "\n",
    "Now you made a folder with \"crows\" and \"pigeons\" as subfolders. You need to use apple shortcuts to remove the background of these pictures and add them to a folder. Do this seperately for the pigeons and crows folders. Important to create a \"pigeons\" and \"crows\" folder in this new folder. Use this new folder to add the pictures without background to the existing AllImages object\n",
    "\n",
    "Link to Apple shortcut (Self made)\n",
    "https://www.icloud.com/shortcuts/cb718c0257a8443fb68a9d5243597a47"
   ]
  },
  {
   "cell_type": "markdown",
   "id": "48c9602d",
   "metadata": {},
   "source": [
    "### Recognized problem\n",
    "\n",
    "Some of the images have instead of 4 yolo coordinates have 6 and many classifications, even though there is only a single pigeon in the bird. Therefore these are removed. These pictures are annoated with an outline around the bird, but that is not the correct format for our project"
   ]
  },
  {
   "cell_type": "code",
   "execution_count": 113,
   "id": "c13e2847",
   "metadata": {},
   "outputs": [],
   "source": [
    "all_images_objects.load_removed_background_pictures(\"Subject images crows/Subjects not pixelated\")"
   ]
  },
  {
   "cell_type": "code",
   "execution_count": 1,
   "id": "80a72afb",
   "metadata": {},
   "outputs": [
    {
     "ename": "NameError",
     "evalue": "name 'all_images_objects' is not defined",
     "output_type": "error",
     "traceback": [
      "\u001b[0;31m---------------------------------------------------------------------------\u001b[0m",
      "\u001b[0;31mNameError\u001b[0m                                 Traceback (most recent call last)",
      "Cell \u001b[0;32mIn[1], line 1\u001b[0m\n\u001b[0;32m----> 1\u001b[0m image \u001b[38;5;241m=\u001b[39m \u001b[43mall_images_objects\u001b[49m\u001b[38;5;241m.\u001b[39mget_random_cropped_images(\u001b[38;5;241m25\u001b[39m)\n",
      "\u001b[0;31mNameError\u001b[0m: name 'all_images_objects' is not defined"
     ]
    }
   ],
   "source": [
    "image = all_images_objects.get_random_cropped_images(25)\n",
    "\n"
   ]
  },
  {
   "cell_type": "code",
   "execution_count": null,
   "id": "c3122145",
   "metadata": {},
   "outputs": [],
   "source": []
  },
  {
   "cell_type": "markdown",
   "id": "4c701a01",
   "metadata": {},
   "source": [
    "Opencv to add the pictures to the pictures"
   ]
  }
 ],
 "metadata": {
  "kernelspec": {
   "display_name": "venv",
   "language": "python",
   "name": "python3"
  },
  "language_info": {
   "codemirror_mode": {
    "name": "ipython",
    "version": 3
   },
   "file_extension": ".py",
   "mimetype": "text/x-python",
   "name": "python",
   "nbconvert_exporter": "python",
   "pygments_lexer": "ipython3",
   "version": "3.10.12"
  }
 },
 "nbformat": 4,
 "nbformat_minor": 5
}
