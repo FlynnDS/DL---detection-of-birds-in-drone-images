{
 "cells": [
  {
   "cell_type": "code",
   "metadata": {
    "ExecuteTime": {
     "end_time": "2025-05-05T10:40:26.841852Z",
     "start_time": "2025-05-05T10:40:26.837334Z"
    }
   },
   "source": [
    "import os\n",
    "import shutil\n",
    "from random import shuffle\n",
    "import yaml\n",
    "import json\n",
    "import cv2"
   ],
   "outputs": [],
   "execution_count": 29
  },
  {
   "cell_type": "code",
   "metadata": {
    "ExecuteTime": {
     "end_time": "2025-05-05T10:40:26.869764Z",
     "start_time": "2025-05-05T10:40:26.865825Z"
    }
   },
   "source": [
    "CONSTRUCT_BASE_FOLDER = lambda x: f\".\\\\scarecrow_dataset\\\\{x}\"\n",
    "VARIANTS = [\"train\", \"test\", \"val\"]\n",
    "\n",
    "OUTPUT_FOLDER = \"./output\"\n"
   ],
   "outputs": [],
   "execution_count": 30
  },
  {
   "cell_type": "code",
   "metadata": {
    "ExecuteTime": {
     "end_time": "2025-05-05T10:40:26.907003Z",
     "start_time": "2025-05-05T10:40:26.899963Z"
    }
   },
   "source": [
    "# Create the folder structure\n",
    "if not os.path.exists(OUTPUT_FOLDER):\n",
    "    os.mkdir(OUTPUT_FOLDER)\n",
    "\n",
    "for variant in VARIANTS:\n",
    "    annotations_folder = os.path.join(OUTPUT_FOLDER, variant, 'labels')\n",
    "    if not os.path.exists(annotations_folder):\n",
    "        os.makedirs(annotations_folder)\n",
    "        \n",
    "    image_folder = os.path.join(OUTPUT_FOLDER, variant, 'images')\n",
    "    if not os.path.exists(image_folder):\n",
    "        os.makedirs(image_folder)"
   ],
   "outputs": [],
   "execution_count": 31
  },
  {
   "cell_type": "code",
   "metadata": {
    "ExecuteTime": {
     "end_time": "2025-05-05T10:40:26.939534Z",
     "start_time": "2025-05-05T10:40:26.933903Z"
    }
   },
   "source": [
    "def construct_annotation_line(image_width: int, image_height: int, annotation: dict):\n",
    "    # Extract COCO bounding box\n",
    "    coords = annotation[\"Coordinates\"]\n",
    "\n",
    "    # Convert to YOLO format\n",
    "    x_center = (coords[0][\"X\"] + coords[1][\"X\"]) / 2\n",
    "    y_center = (coords[1][\"Y\"] + coords[2][\"Y\"]) / 2\n",
    "    width = coords[1][\"X\"] - coords[0][\"X\"]\n",
    "    height = coords[2][\"Y\"] - coords[1][\"Y\"]\n",
    "\n",
    "    x_center_norm = x_center / image_width\n",
    "    y_center_norm = y_center / image_height\n",
    "    width_norm = width / image_width\n",
    "    height_norm = height / image_height\n",
    "\n",
    "    return f\"0 {x_center_norm} {y_center_norm} {width_norm} {height_norm}\""
   ],
   "outputs": [],
   "execution_count": 32
  },
  {
   "cell_type": "code",
   "metadata": {
    "ExecuteTime": {
     "end_time": "2025-05-05T10:41:18.799213Z",
     "start_time": "2025-05-05T10:40:26.961230Z"
    }
   },
   "source": [
    "# {\"image\": path/to/image, \"annotations\": str_including_newlines}\n",
    "combination = {x: [] for x in VARIANTS}\n",
    "\n",
    "for variant in VARIANTS:\n",
    "    base_folder = CONSTRUCT_BASE_FOLDER(variant)\n",
    "    annotations_file = os.path.join(base_folder, \"annotations.json\")\n",
    "    \n",
    "    with open(annotations_file, \"r\") as f:\n",
    "        data = json.load(f)\n",
    "        \n",
    "    for image in data:\n",
    "        # image[\"annotations\"] = list(filter(lambda x: x[\"image_id\"] == image[\"id\"], data[\"annotations\"]))\n",
    "\n",
    "        image_path = str(os.path.join(base_folder, \"images\", image[\"OriginalFileName\"]))\n",
    "        img = cv2.imread(image_path)\n",
    "        img_width, img_height = img.shape[1], img.shape[0]\n",
    "\n",
    "        # Image\n",
    "        comb = {\"image\": image_path}\n",
    "        \n",
    "        # Output the annotation\n",
    "        lines = [construct_annotation_line(img_width, img_height, x) for x in image[\"AnnotationData\"]]\n",
    "        comb[\"annotations\"] = \"\\n\".join(lines)\n",
    "        \n",
    "        combination[variant].append(comb)"
   ],
   "outputs": [],
   "execution_count": 33
  },
  {
   "cell_type": "code",
   "metadata": {
    "ExecuteTime": {
     "end_time": "2025-05-05T10:41:24.119287Z",
     "start_time": "2025-05-05T10:41:18.815933Z"
    }
   },
   "source": [
    "\n",
    "for variant in VARIANTS:\n",
    "    variant_output_folder = os.path.join(OUTPUT_FOLDER, variant)\n",
    "    for comb in combination[variant]:\n",
    "        file_name = comb[\"image\"].rsplit(\"\\\\\", 1)[-1].rsplit(\".\", 1)\n",
    "        base_file_name = file_name[0]\n",
    "        extension = file_name[1]\n",
    "\n",
    "        # Make the image a jpeg\n",
    "        output_path = str(os.path.join(variant_output_folder, \"images\", base_file_name + \".\" + extension))\n",
    "        shutil.copy(comb[\"image\"], output_path)\n",
    "        \n",
    "        file_name = str(os.path.join(variant_output_folder, \"labels\", base_file_name + \".txt\"))\n",
    "        with open(file_name, \"w\") as f:\n",
    "            f.write(comb[\"annotations\"])"
   ],
   "outputs": [],
   "execution_count": 34
  },
  {
   "cell_type": "code",
   "metadata": {
    "ExecuteTime": {
     "end_time": "2025-05-05T10:41:24.144180Z",
     "start_time": "2025-05-05T10:41:24.138141Z"
    }
   },
   "source": [
    "category_names = {0: \"bird\"}\n",
    "    \n",
    "content = {\n",
    "    \"nc\": 1,\n",
    "    \"train\": \"train/images\",\n",
    "    \"test\": \"test/images\",\n",
    "    \"val\": \"valid/images\",\n",
    "    \"names\": category_names\n",
    "}\n",
    "\n",
    "with open(os.path.join(OUTPUT_FOLDER, \"data.yaml\"), \"w\") as f:\n",
    "    yaml.dump(content, f)"
   ],
   "outputs": [],
   "execution_count": 35
  },
  {
   "cell_type": "code",
   "metadata": {
    "ExecuteTime": {
     "end_time": "2025-05-05T10:41:24.171300Z",
     "start_time": "2025-05-05T10:41:24.168784Z"
    }
   },
   "source": [],
   "outputs": [],
   "execution_count": null
  }
 ],
 "metadata": {
  "kernelspec": {
   "display_name": "venv",
   "language": "python",
   "name": "python3"
  },
  "language_info": {
   "codemirror_mode": {
    "name": "ipython",
    "version": 3
   },
   "file_extension": ".py",
   "mimetype": "text/x-python",
   "name": "python",
   "nbconvert_exporter": "python",
   "pygments_lexer": "ipython3",
   "version": "3.12.0"
  }
 },
 "nbformat": 4,
 "nbformat_minor": 2
}
