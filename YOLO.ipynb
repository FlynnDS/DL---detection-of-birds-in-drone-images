{
 "cells": [
  {
   "cell_type": "code",
   "execution_count": 1,
   "metadata": {
    "colab": {
     "base_uri": "https://localhost:8080/"
    },
    "execution": {
     "iopub.execute_input": "2025-05-11T16:18:24.612827Z",
     "iopub.status.busy": "2025-05-11T16:18:24.612265Z",
     "iopub.status.idle": "2025-05-11T16:18:33.283083Z",
     "shell.execute_reply": "2025-05-11T16:18:33.282398Z",
     "shell.execute_reply.started": "2025-05-11T16:18:24.612805Z"
    },
    "executionInfo": {
     "elapsed": 100633,
     "status": "ok",
     "timestamp": 1746638667522,
     "user": {
      "displayName": "Eugen Falca",
      "userId": "06470857081734833614"
     },
     "user_tz": -120
    },
    "id": "rbXRKiXXLqHN",
    "outputId": "d93ba768-7cc0-4576-eced-462ba64b881f"
   },
   "outputs": [
    {
     "name": "stdout",
     "output_type": "stream",
     "text": [
      "Collecting ultralytics\n",
      "  Downloading ultralytics-8.3.131-py3-none-any.whl.metadata (37 kB)\n",
      "Requirement already satisfied: numpy>=1.23.0 in /usr/local/lib/python3.11/dist-packages (from ultralytics) (1.26.3)\n",
      "Requirement already satisfied: matplotlib>=3.3.0 in /usr/local/lib/python3.11/dist-packages (from ultralytics) (3.7.3)\n",
      "Requirement already satisfied: opencv-python>=4.6.0 in /usr/local/lib/python3.11/dist-packages (from ultralytics) (4.8.0.76)\n",
      "Requirement already satisfied: pillow>=7.1.2 in /usr/local/lib/python3.11/dist-packages (from ultralytics) (9.5.0)\n",
      "Requirement already satisfied: pyyaml>=5.3.1 in /usr/lib/python3/dist-packages (from ultralytics) (5.4.1)\n",
      "Requirement already satisfied: requests>=2.23.0 in /usr/local/lib/python3.11/dist-packages (from ultralytics) (2.31.0)\n",
      "Requirement already satisfied: scipy>=1.4.1 in /usr/local/lib/python3.11/dist-packages (from ultralytics) (1.11.2)\n",
      "Requirement already satisfied: torch>=1.8.0 in /usr/local/lib/python3.11/dist-packages (from ultralytics) (2.1.1+cu121)\n",
      "Requirement already satisfied: torchvision>=0.9.0 in /usr/local/lib/python3.11/dist-packages (from ultralytics) (0.16.1+cu121)\n",
      "Requirement already satisfied: tqdm>=4.64.0 in /usr/local/lib/python3.11/dist-packages (from ultralytics) (4.66.1)\n",
      "Requirement already satisfied: psutil in /usr/local/lib/python3.11/dist-packages (from ultralytics) (5.9.8)\n",
      "Requirement already satisfied: py-cpuinfo in /usr/local/lib/python3.11/dist-packages (from ultralytics) (9.0.0)\n",
      "Requirement already satisfied: pandas>=1.1.4 in /usr/local/lib/python3.11/dist-packages (from ultralytics) (2.2.0)\n",
      "Requirement already satisfied: seaborn>=0.11.0 in /usr/local/lib/python3.11/dist-packages (from ultralytics) (0.12.2)\n",
      "Collecting ultralytics-thop>=2.0.0 (from ultralytics)\n",
      "  Downloading ultralytics_thop-2.0.14-py3-none-any.whl.metadata (9.4 kB)\n",
      "Requirement already satisfied: contourpy>=1.0.1 in /usr/local/lib/python3.11/dist-packages (from matplotlib>=3.3.0->ultralytics) (1.2.0)\n",
      "Requirement already satisfied: cycler>=0.10 in /usr/local/lib/python3.11/dist-packages (from matplotlib>=3.3.0->ultralytics) (0.12.1)\n",
      "Requirement already satisfied: fonttools>=4.22.0 in /usr/local/lib/python3.11/dist-packages (from matplotlib>=3.3.0->ultralytics) (4.47.2)\n",
      "Requirement already satisfied: kiwisolver>=1.0.1 in /usr/local/lib/python3.11/dist-packages (from matplotlib>=3.3.0->ultralytics) (1.4.5)\n",
      "Requirement already satisfied: packaging>=20.0 in /usr/local/lib/python3.11/dist-packages (from matplotlib>=3.3.0->ultralytics) (23.2)\n",
      "Requirement already satisfied: pyparsing>=2.3.1 in /usr/lib/python3/dist-packages (from matplotlib>=3.3.0->ultralytics) (2.4.7)\n",
      "Requirement already satisfied: python-dateutil>=2.7 in /usr/local/lib/python3.11/dist-packages (from matplotlib>=3.3.0->ultralytics) (2.8.2)\n",
      "Requirement already satisfied: pytz>=2020.1 in /usr/lib/python3/dist-packages (from pandas>=1.1.4->ultralytics) (2022.1)\n",
      "Requirement already satisfied: tzdata>=2022.7 in /usr/local/lib/python3.11/dist-packages (from pandas>=1.1.4->ultralytics) (2023.4)\n",
      "Requirement already satisfied: charset-normalizer<4,>=2 in /usr/local/lib/python3.11/dist-packages (from requests>=2.23.0->ultralytics) (3.3.2)\n",
      "Requirement already satisfied: idna<4,>=2.5 in /usr/lib/python3/dist-packages (from requests>=2.23.0->ultralytics) (3.3)\n",
      "Requirement already satisfied: urllib3<3,>=1.21.1 in /usr/local/lib/python3.11/dist-packages (from requests>=2.23.0->ultralytics) (2.0.7)\n",
      "Requirement already satisfied: certifi>=2017.4.17 in /usr/lib/python3/dist-packages (from requests>=2.23.0->ultralytics) (2020.6.20)\n",
      "Requirement already satisfied: filelock in /usr/local/lib/python3.11/dist-packages (from torch>=1.8.0->ultralytics) (3.13.1)\n",
      "Requirement already satisfied: typing-extensions in /usr/local/lib/python3.11/dist-packages (from torch>=1.8.0->ultralytics) (4.9.0)\n",
      "Requirement already satisfied: sympy in /usr/local/lib/python3.11/dist-packages (from torch>=1.8.0->ultralytics) (1.12)\n",
      "Requirement already satisfied: networkx in /usr/local/lib/python3.11/dist-packages (from torch>=1.8.0->ultralytics) (3.2.1)\n",
      "Requirement already satisfied: jinja2 in /usr/local/lib/python3.11/dist-packages (from torch>=1.8.0->ultralytics) (3.1.3)\n",
      "Requirement already satisfied: fsspec in /usr/local/lib/python3.11/dist-packages (from torch>=1.8.0->ultralytics) (2023.6.0)\n",
      "Requirement already satisfied: triton==2.1.0 in /usr/local/lib/python3.11/dist-packages (from torch>=1.8.0->ultralytics) (2.1.0)\n",
      "Requirement already satisfied: six>=1.5 in /usr/lib/python3/dist-packages (from python-dateutil>=2.7->matplotlib>=3.3.0->ultralytics) (1.16.0)\n",
      "Requirement already satisfied: MarkupSafe>=2.0 in /usr/local/lib/python3.11/dist-packages (from jinja2->torch>=1.8.0->ultralytics) (2.1.4)\n",
      "Requirement already satisfied: mpmath>=0.19 in /usr/local/lib/python3.11/dist-packages (from sympy->torch>=1.8.0->ultralytics) (1.3.0)\n",
      "Downloading ultralytics-8.3.131-py3-none-any.whl (1.0 MB)\n",
      "\u001b[2K   \u001b[90m━━━━━━━━━━━━━━━━━━━━━━━━━━━━━━━━━━━━━━━━\u001b[0m \u001b[32m1.0/1.0 MB\u001b[0m \u001b[31m34.7 MB/s\u001b[0m eta \u001b[36m0:00:00\u001b[0m\n",
      "\u001b[?25hDownloading ultralytics_thop-2.0.14-py3-none-any.whl (26 kB)\n",
      "Installing collected packages: ultralytics-thop, ultralytics\n",
      "Successfully installed ultralytics-8.3.131 ultralytics-thop-2.0.14\n",
      "\u001b[33mWARNING: Running pip as the 'root' user can result in broken permissions and conflicting behaviour with the system package manager. It is recommended to use a virtual environment instead: https://pip.pypa.io/warnings/venv\u001b[0m\u001b[33m\n",
      "\u001b[0mCreating new Ultralytics Settings v0.0.6 file ✅ \n",
      "View Ultralytics Settings with 'yolo settings' or at '/root/.config/Ultralytics/settings.json'\n",
      "Update Settings with 'yolo settings key=value', i.e. 'yolo settings runs_dir=path/to/dir'. For help see https://docs.ultralytics.com/quickstart/#ultralytics-settings.\n"
     ]
    }
   ],
   "source": [
    "!pip install ultralytics\n",
    "import shutil\n",
    "from ultralytics import YOLO\n",
    "import cv2\n",
    "import matplotlib.pyplot as plt"
   ]
  },
  {
   "cell_type": "code",
   "execution_count": 2,
   "metadata": {
    "execution": {
     "iopub.execute_input": "2025-05-11T16:18:33.284325Z",
     "iopub.status.busy": "2025-05-11T16:18:33.284078Z",
     "iopub.status.idle": "2025-05-11T16:18:33.289982Z",
     "shell.execute_reply": "2025-05-11T16:18:33.289382Z",
     "shell.execute_reply.started": "2025-05-11T16:18:33.284308Z"
    }
   },
   "outputs": [
    {
     "data": {
      "text/plain": [
       "'/notebooks/DL---detection-of-birds-in-drone-images'"
      ]
     },
     "execution_count": 2,
     "metadata": {},
     "output_type": "execute_result"
    }
   ],
   "source": [
    "import os\n",
    "os.path.abspath(\".\")"
   ]
  },
  {
   "cell_type": "code",
   "execution_count": 3,
   "metadata": {
    "execution": {
     "iopub.execute_input": "2025-05-11T16:18:49.689288Z",
     "iopub.status.busy": "2025-05-11T16:18:49.688996Z",
     "iopub.status.idle": "2025-05-11T16:18:49.692356Z",
     "shell.execute_reply": "2025-05-11T16:18:49.691645Z",
     "shell.execute_reply.started": "2025-05-11T16:18:49.689267Z"
    },
    "executionInfo": {
     "elapsed": 42,
     "status": "ok",
     "timestamp": 1746638686061,
     "user": {
      "displayName": "Eugen Falca",
      "userId": "06470857081734833614"
     },
     "user_tz": -120
    },
    "id": "EPJWUrX-Qgei"
   },
   "outputs": [],
   "source": [
    "# datasets\n",
    "folder_path = '/notebooks/DL---detection-of-birds-in-drone-images/data/'\n",
    "\n",
    "# models\n",
    "models = '/notebooks/DL---detection-of-birds-in-drone-images/models'\n",
    "\n",
    "# logs\n",
    "logs = '/notebooks/DL---detection-of-birds-in-drone-images/logs/'\n",
    "\n",
    "#yolo_data = folder_path + 'data_yolo_format/data.yaml'\n",
    "yolo_data = folder_path + 'tiled_augmented_1280_good_augment_yolo_data/data.yaml'"
   ]
  },
  {
   "cell_type": "code",
   "execution_count": 5,
   "metadata": {
    "colab": {
     "base_uri": "https://localhost:8080/"
    },
    "execution": {
     "iopub.execute_input": "2025-05-11T16:19:12.288538Z",
     "iopub.status.busy": "2025-05-11T16:19:12.288309Z",
     "iopub.status.idle": "2025-05-11T16:19:12.382187Z",
     "shell.execute_reply": "2025-05-11T16:19:12.381595Z",
     "shell.execute_reply.started": "2025-05-11T16:19:12.288535Z"
    },
    "executionInfo": {
     "elapsed": 1024,
     "status": "ok",
     "timestamp": 1746645444606,
     "user": {
      "displayName": "Eugen Falca",
      "userId": "06470857081734833614"
     },
     "user_tz": -120
    },
    "id": "RoDv_WjFLuNE",
    "outputId": "7a5856d2-948f-4baa-f208-9ea3c17d3642"
   },
   "outputs": [],
   "source": [
    "model_stage_1 = YOLO(\"yolo11m.pt\")"
   ]
  },
  {
   "cell_type": "code",
   "execution_count": 7,
   "metadata": {
    "colab": {
     "base_uri": "https://localhost:8080/"
    },
    "execution": {
     "iopub.execute_input": "2025-05-11T16:21:37.895009Z",
     "iopub.status.busy": "2025-05-11T16:21:37.894690Z",
     "iopub.status.idle": "2025-05-11T17:16:05.913832Z",
     "shell.execute_reply": "2025-05-11T17:16:05.913383Z",
     "shell.execute_reply.started": "2025-05-11T16:21:37.894990Z"
    },
    "executionInfo": {
     "elapsed": 5611210,
     "status": "ok",
     "timestamp": 1746644956329,
     "user": {
      "displayName": "Eugen Falca",
      "userId": "06470857081734833614"
     },
     "user_tz": -120
    },
    "id": "-ACwPCUbLwI9",
    "outputId": "8f91e165-410c-462a-cecf-a4e6ebfdf049"
   },
   "outputs": [
    {
     "name": "stdout",
     "output_type": "stream",
     "text": [
      "Ultralytics 8.3.131 🚀 Python-3.11.7 torch-2.1.1+cu121 CUDA:0 (NVIDIA RTX A4000, 16102MiB)\n",
      "\u001b[34m\u001b[1mengine/trainer: \u001b[0magnostic_nms=False, amp=True, augment=False, auto_augment=randaugment, batch=-1, bgr=0.0, box=7.5, cache=False, cfg=None, classes=None, close_mosaic=10, cls=0.5, conf=None, copy_paste=0.0, copy_paste_mode=flip, cos_lr=False, cutmix=0.0, data=/notebooks/DL---detection-of-birds-in-drone-images/data/tiled_augmented_1280_good_augment_yolo_data/data.yaml, degrees=0.0, deterministic=True, device=None, dfl=1.5, dnn=False, dropout=0.0, dynamic=False, embed=None, epochs=100, erasing=0.4, exist_ok=False, fliplr=0.5, flipud=0.0, format=torchscript, fraction=1.0, freeze=10, half=False, hsv_h=0.015, hsv_s=0.7, hsv_v=0.4, imgsz=1280, int8=False, iou=0.7, keras=False, kobj=1.0, line_width=None, lr0=0.01, lrf=0.01, mask_ratio=4, max_det=300, mixup=0.0, mode=train, model=yolo11m.pt, momentum=0.937, mosaic=1.0, multi_scale=False, name=2_birds_1280_default2, nbs=64, nms=False, opset=None, optimize=False, optimizer=auto, overlap_mask=True, patience=12, perspective=0.0, plots=True, pose=12.0, pretrained=True, profile=False, project=yolo_run_2_brids, rect=False, resume=False, retina_masks=False, save=True, save_conf=False, save_crop=False, save_dir=yolo_run_2_brids/2_birds_1280_default2, save_frames=False, save_json=False, save_period=-1, save_txt=False, scale=0.5, seed=42, shear=0.0, show=False, show_boxes=True, show_conf=True, show_labels=True, simplify=True, single_cls=False, source=None, split=val, stream_buffer=False, task=detect, time=None, tracker=botsort.yaml, translate=0.1, val=True, verbose=True, vid_stride=1, visualize=False, warmup_bias_lr=0.1, warmup_epochs=3.0, warmup_momentum=0.8, weight_decay=0.0005, workers=8, workspace=None\n",
      "Downloading https://ultralytics.com/assets/Arial.ttf to '/root/.config/Ultralytics/Arial.ttf'...\n"
     ]
    },
    {
     "name": "stderr",
     "output_type": "stream",
     "text": [
      "100%|██████████| 755k/755k [00:00<00:00, 47.9MB/s]"
     ]
    },
    {
     "name": "stdout",
     "output_type": "stream",
     "text": [
      "Overriding model.yaml nc=80 with nc=1\n",
      "\n",
      "                   from  n    params  module                                       arguments                     \n",
      "  0                  -1  1      1856  ultralytics.nn.modules.conv.Conv             [3, 64, 3, 2]                 \n",
      "  1                  -1  1     73984  ultralytics.nn.modules.conv.Conv             [64, 128, 3, 2]               \n",
      "  2                  -1  1    111872  ultralytics.nn.modules.block.C3k2            [128, 256, 1, True, 0.25]     \n",
      "  3                  -1  1    590336  ultralytics.nn.modules.conv.Conv             [256, 256, 3, 2]              \n",
      "  4                  -1  1    444928  ultralytics.nn.modules.block.C3k2            [256, 512, 1, True, 0.25]     \n",
      "  5                  -1  1   2360320  ultralytics.nn.modules.conv.Conv             [512, 512, 3, 2]              \n",
      "  6                  -1  1   1380352  ultralytics.nn.modules.block.C3k2            [512, 512, 1, True]           \n",
      "  7                  -1  1   2360320  ultralytics.nn.modules.conv.Conv             [512, 512, 3, 2]              \n",
      "  8                  -1  1   1380352  ultralytics.nn.modules.block.C3k2            [512, 512, 1, True]           \n",
      "  9                  -1  1    656896  ultralytics.nn.modules.block.SPPF            [512, 512, 5]                 \n",
      " 10                  -1  1    990976  ultralytics.nn.modules.block.C2PSA           [512, 512, 1]                 \n",
      " 11                  -1  1         0  torch.nn.modules.upsampling.Upsample         [None, 2, 'nearest']          \n",
      " 12             [-1, 6]  1         0  ultralytics.nn.modules.conv.Concat           [1]                           \n",
      " 13                  -1  1   1642496  ultralytics.nn.modules.block.C3k2            [1024, 512, 1, True]          \n",
      " 14                  -1  1         0  torch.nn.modules.upsampling.Upsample         [None, 2, 'nearest']          \n",
      " 15             [-1, 4]  1         0  ultralytics.nn.modules.conv.Concat           [1]                           \n",
      " 16                  -1  1    542720  ultralytics.nn.modules.block.C3k2            [1024, 256, 1, True]          \n",
      " 17                  -1  1    590336  ultralytics.nn.modules.conv.Conv             [256, 256, 3, 2]              \n",
      " 18            [-1, 13]  1         0  ultralytics.nn.modules.conv.Concat           [1]                           \n",
      " 19                  -1  1   1511424  ultralytics.nn.modules.block.C3k2            [768, 512, 1, True]           \n",
      " 20                  -1  1   2360320  ultralytics.nn.modules.conv.Conv             [512, 512, 3, 2]              \n",
      " 21            [-1, 10]  1         0  ultralytics.nn.modules.conv.Concat           [1]                           \n"
     ]
    },
    {
     "name": "stderr",
     "output_type": "stream",
     "text": [
      "\n"
     ]
    },
    {
     "name": "stdout",
     "output_type": "stream",
     "text": [
      " 22                  -1  1   1642496  ultralytics.nn.modules.block.C3k2            [1024, 512, 1, True]          \n",
      " 23        [16, 19, 22]  1   1411795  ultralytics.nn.modules.head.Detect           [1, [256, 512, 512]]          \n",
      "YOLO11m summary: 231 layers, 20,053,779 parameters, 20,053,763 gradients, 68.2 GFLOPs\n",
      "\n",
      "Transferred 643/649 items from pretrained weights\n",
      "Freezing layer 'model.0.conv.weight'\n",
      "Freezing layer 'model.0.bn.weight'\n",
      "Freezing layer 'model.0.bn.bias'\n",
      "Freezing layer 'model.1.conv.weight'\n",
      "Freezing layer 'model.1.bn.weight'\n",
      "Freezing layer 'model.1.bn.bias'\n",
      "Freezing layer 'model.2.cv1.conv.weight'\n",
      "Freezing layer 'model.2.cv1.bn.weight'\n",
      "Freezing layer 'model.2.cv1.bn.bias'\n",
      "Freezing layer 'model.2.cv2.conv.weight'\n",
      "Freezing layer 'model.2.cv2.bn.weight'\n",
      "Freezing layer 'model.2.cv2.bn.bias'\n",
      "Freezing layer 'model.2.m.0.cv1.conv.weight'\n",
      "Freezing layer 'model.2.m.0.cv1.bn.weight'\n",
      "Freezing layer 'model.2.m.0.cv1.bn.bias'\n",
      "Freezing layer 'model.2.m.0.cv2.conv.weight'\n",
      "Freezing layer 'model.2.m.0.cv2.bn.weight'\n",
      "Freezing layer 'model.2.m.0.cv2.bn.bias'\n",
      "Freezing layer 'model.2.m.0.cv3.conv.weight'\n",
      "Freezing layer 'model.2.m.0.cv3.bn.weight'\n",
      "Freezing layer 'model.2.m.0.cv3.bn.bias'\n",
      "Freezing layer 'model.2.m.0.m.0.cv1.conv.weight'\n",
      "Freezing layer 'model.2.m.0.m.0.cv1.bn.weight'\n",
      "Freezing layer 'model.2.m.0.m.0.cv1.bn.bias'\n",
      "Freezing layer 'model.2.m.0.m.0.cv2.conv.weight'\n",
      "Freezing layer 'model.2.m.0.m.0.cv2.bn.weight'\n",
      "Freezing layer 'model.2.m.0.m.0.cv2.bn.bias'\n",
      "Freezing layer 'model.2.m.0.m.1.cv1.conv.weight'\n",
      "Freezing layer 'model.2.m.0.m.1.cv1.bn.weight'\n",
      "Freezing layer 'model.2.m.0.m.1.cv1.bn.bias'\n",
      "Freezing layer 'model.2.m.0.m.1.cv2.conv.weight'\n",
      "Freezing layer 'model.2.m.0.m.1.cv2.bn.weight'\n",
      "Freezing layer 'model.2.m.0.m.1.cv2.bn.bias'\n",
      "Freezing layer 'model.3.conv.weight'\n",
      "Freezing layer 'model.3.bn.weight'\n",
      "Freezing layer 'model.3.bn.bias'\n",
      "Freezing layer 'model.4.cv1.conv.weight'\n",
      "Freezing layer 'model.4.cv1.bn.weight'\n",
      "Freezing layer 'model.4.cv1.bn.bias'\n",
      "Freezing layer 'model.4.cv2.conv.weight'\n",
      "Freezing layer 'model.4.cv2.bn.weight'\n",
      "Freezing layer 'model.4.cv2.bn.bias'\n",
      "Freezing layer 'model.4.m.0.cv1.conv.weight'\n",
      "Freezing layer 'model.4.m.0.cv1.bn.weight'\n",
      "Freezing layer 'model.4.m.0.cv1.bn.bias'\n",
      "Freezing layer 'model.4.m.0.cv2.conv.weight'\n",
      "Freezing layer 'model.4.m.0.cv2.bn.weight'\n",
      "Freezing layer 'model.4.m.0.cv2.bn.bias'\n",
      "Freezing layer 'model.4.m.0.cv3.conv.weight'\n",
      "Freezing layer 'model.4.m.0.cv3.bn.weight'\n",
      "Freezing layer 'model.4.m.0.cv3.bn.bias'\n",
      "Freezing layer 'model.4.m.0.m.0.cv1.conv.weight'\n",
      "Freezing layer 'model.4.m.0.m.0.cv1.bn.weight'\n",
      "Freezing layer 'model.4.m.0.m.0.cv1.bn.bias'\n",
      "Freezing layer 'model.4.m.0.m.0.cv2.conv.weight'\n",
      "Freezing layer 'model.4.m.0.m.0.cv2.bn.weight'\n",
      "Freezing layer 'model.4.m.0.m.0.cv2.bn.bias'\n",
      "Freezing layer 'model.4.m.0.m.1.cv1.conv.weight'\n",
      "Freezing layer 'model.4.m.0.m.1.cv1.bn.weight'\n",
      "Freezing layer 'model.4.m.0.m.1.cv1.bn.bias'\n",
      "Freezing layer 'model.4.m.0.m.1.cv2.conv.weight'\n",
      "Freezing layer 'model.4.m.0.m.1.cv2.bn.weight'\n",
      "Freezing layer 'model.4.m.0.m.1.cv2.bn.bias'\n",
      "Freezing layer 'model.5.conv.weight'\n",
      "Freezing layer 'model.5.bn.weight'\n",
      "Freezing layer 'model.5.bn.bias'\n",
      "Freezing layer 'model.6.cv1.conv.weight'\n",
      "Freezing layer 'model.6.cv1.bn.weight'\n",
      "Freezing layer 'model.6.cv1.bn.bias'\n",
      "Freezing layer 'model.6.cv2.conv.weight'\n",
      "Freezing layer 'model.6.cv2.bn.weight'\n",
      "Freezing layer 'model.6.cv2.bn.bias'\n",
      "Freezing layer 'model.6.m.0.cv1.conv.weight'\n",
      "Freezing layer 'model.6.m.0.cv1.bn.weight'\n",
      "Freezing layer 'model.6.m.0.cv1.bn.bias'\n",
      "Freezing layer 'model.6.m.0.cv2.conv.weight'\n",
      "Freezing layer 'model.6.m.0.cv2.bn.weight'\n",
      "Freezing layer 'model.6.m.0.cv2.bn.bias'\n",
      "Freezing layer 'model.6.m.0.cv3.conv.weight'\n",
      "Freezing layer 'model.6.m.0.cv3.bn.weight'\n",
      "Freezing layer 'model.6.m.0.cv3.bn.bias'\n",
      "Freezing layer 'model.6.m.0.m.0.cv1.conv.weight'\n",
      "Freezing layer 'model.6.m.0.m.0.cv1.bn.weight'\n",
      "Freezing layer 'model.6.m.0.m.0.cv1.bn.bias'\n",
      "Freezing layer 'model.6.m.0.m.0.cv2.conv.weight'\n",
      "Freezing layer 'model.6.m.0.m.0.cv2.bn.weight'\n",
      "Freezing layer 'model.6.m.0.m.0.cv2.bn.bias'\n",
      "Freezing layer 'model.6.m.0.m.1.cv1.conv.weight'\n",
      "Freezing layer 'model.6.m.0.m.1.cv1.bn.weight'\n",
      "Freezing layer 'model.6.m.0.m.1.cv1.bn.bias'\n",
      "Freezing layer 'model.6.m.0.m.1.cv2.conv.weight'\n",
      "Freezing layer 'model.6.m.0.m.1.cv2.bn.weight'\n",
      "Freezing layer 'model.6.m.0.m.1.cv2.bn.bias'\n",
      "Freezing layer 'model.7.conv.weight'\n",
      "Freezing layer 'model.7.bn.weight'\n",
      "Freezing layer 'model.7.bn.bias'\n",
      "Freezing layer 'model.8.cv1.conv.weight'\n",
      "Freezing layer 'model.8.cv1.bn.weight'\n",
      "Freezing layer 'model.8.cv1.bn.bias'\n",
      "Freezing layer 'model.8.cv2.conv.weight'\n",
      "Freezing layer 'model.8.cv2.bn.weight'\n",
      "Freezing layer 'model.8.cv2.bn.bias'\n",
      "Freezing layer 'model.8.m.0.cv1.conv.weight'\n",
      "Freezing layer 'model.8.m.0.cv1.bn.weight'\n",
      "Freezing layer 'model.8.m.0.cv1.bn.bias'\n",
      "Freezing layer 'model.8.m.0.cv2.conv.weight'\n",
      "Freezing layer 'model.8.m.0.cv2.bn.weight'\n",
      "Freezing layer 'model.8.m.0.cv2.bn.bias'\n",
      "Freezing layer 'model.8.m.0.cv3.conv.weight'\n",
      "Freezing layer 'model.8.m.0.cv3.bn.weight'\n",
      "Freezing layer 'model.8.m.0.cv3.bn.bias'\n",
      "Freezing layer 'model.8.m.0.m.0.cv1.conv.weight'\n",
      "Freezing layer 'model.8.m.0.m.0.cv1.bn.weight'\n",
      "Freezing layer 'model.8.m.0.m.0.cv1.bn.bias'\n",
      "Freezing layer 'model.8.m.0.m.0.cv2.conv.weight'\n",
      "Freezing layer 'model.8.m.0.m.0.cv2.bn.weight'\n",
      "Freezing layer 'model.8.m.0.m.0.cv2.bn.bias'\n",
      "Freezing layer 'model.8.m.0.m.1.cv1.conv.weight'\n",
      "Freezing layer 'model.8.m.0.m.1.cv1.bn.weight'\n",
      "Freezing layer 'model.8.m.0.m.1.cv1.bn.bias'\n",
      "Freezing layer 'model.8.m.0.m.1.cv2.conv.weight'\n",
      "Freezing layer 'model.8.m.0.m.1.cv2.bn.weight'\n",
      "Freezing layer 'model.8.m.0.m.1.cv2.bn.bias'\n",
      "Freezing layer 'model.9.cv1.conv.weight'\n",
      "Freezing layer 'model.9.cv1.bn.weight'\n",
      "Freezing layer 'model.9.cv1.bn.bias'\n",
      "Freezing layer 'model.9.cv2.conv.weight'\n",
      "Freezing layer 'model.9.cv2.bn.weight'\n",
      "Freezing layer 'model.9.cv2.bn.bias'\n",
      "Freezing layer 'model.23.dfl.conv.weight'\n",
      "\u001b[34m\u001b[1mAMP: \u001b[0mrunning Automatic Mixed Precision (AMP) checks...\n",
      "\u001b[34m\u001b[1mAMP: \u001b[0mchecks passed ✅\n",
      "\u001b[34m\u001b[1mtrain: \u001b[0mFast image access ✅ (ping: 0.0±0.0 ms, read: 3775.6±1090.2 MB/s, size: 2309.3 KB)\n"
     ]
    },
    {
     "name": "stderr",
     "output_type": "stream",
     "text": [
      "\u001b[34m\u001b[1mtrain: \u001b[0mScanning /notebooks/DL---detection-of-birds-in-drone-images/data/tiled_augmented_1280_good_augment_yolo_data/train/labels... 1496 images, 85 backgrounds, 0 corrupt: 100%|██████████| 1496/1496 [00:18<00:00, 82.46it/s] "
     ]
    },
    {
     "name": "stdout",
     "output_type": "stream",
     "text": [
      "\u001b[34m\u001b[1mtrain: \u001b[0mNew cache created: /notebooks/DL---detection-of-birds-in-drone-images/data/tiled_augmented_1280_good_augment_yolo_data/train/labels.cache\n"
     ]
    },
    {
     "name": "stderr",
     "output_type": "stream",
     "text": [
      "\n"
     ]
    },
    {
     "name": "stdout",
     "output_type": "stream",
     "text": [
      "\u001b[34m\u001b[1mAutoBatch: \u001b[0mComputing optimal batch size for imgsz=1280 at 60.0% CUDA memory utilization.\n",
      "\u001b[34m\u001b[1mAutoBatch: \u001b[0mCUDA:0 (NVIDIA RTX A4000) 15.72G total, 0.37G reserved, 0.19G allocated, 15.16G free\n",
      "      Params      GFLOPs  GPU_mem (GB)  forward (ms) backward (ms)                   input                  output\n",
      "    20053779       272.8         2.659         99.51         803.3      (1, 3, 1280, 1280)                    list\n",
      "    20053779       545.5         3.901         47.67         198.9      (2, 3, 1280, 1280)                    list\n",
      "    20053779        1091         5.838         92.19         175.6      (4, 3, 1280, 1280)                    list\n",
      "    20053779        2182         9.857         184.7         199.3      (8, 3, 1280, 1280)                    list\n",
      "    20053779        4364        18.577         358.1         284.2     (16, 3, 1280, 1280)                    list\n",
      "\u001b[34m\u001b[1mAutoBatch: \u001b[0mUsing batch-size 7 for CUDA:0 9.43G/15.72G (60%) ✅\n",
      "\u001b[34m\u001b[1mtrain: \u001b[0mFast image access ✅ (ping: 0.0±0.0 ms, read: 2537.3±1037.1 MB/s, size: 2585.1 KB)\n"
     ]
    },
    {
     "name": "stderr",
     "output_type": "stream",
     "text": [
      "\u001b[34m\u001b[1mtrain: \u001b[0mScanning /notebooks/DL---detection-of-birds-in-drone-images/data/tiled_augmented_1280_good_augment_yolo_data/train/labels.cache... 1496 images, 85 backgrounds, 0 corrupt: 100%|██████████| 1496/1496 [00:00<?, ?it/s]\n"
     ]
    },
    {
     "name": "stdout",
     "output_type": "stream",
     "text": [
      "\u001b[34m\u001b[1mval: \u001b[0mFast image access ✅ (ping: 0.0±0.0 ms, read: 2083.5±829.8 MB/s, size: 2841.7 KB)\n"
     ]
    },
    {
     "name": "stderr",
     "output_type": "stream",
     "text": [
      "\u001b[34m\u001b[1mval: \u001b[0mScanning /notebooks/DL---detection-of-birds-in-drone-images/data/tiled_augmented_1280_good_augment_yolo_data/valid/labels... 178 images, 129 backgrounds, 0 corrupt: 100%|██████████| 178/178 [00:02<00:00, 64.23it/s]"
     ]
    },
    {
     "name": "stdout",
     "output_type": "stream",
     "text": [
      "\u001b[34m\u001b[1mval: \u001b[0m/notebooks/DL---detection-of-birds-in-drone-images/data/tiled_augmented_1280_good_augment_yolo_data/valid/images/DJI_0319_tile-0.png: 1 duplicate labels removed\n",
      "\u001b[34m\u001b[1mval: \u001b[0mNew cache created: /notebooks/DL---detection-of-birds-in-drone-images/data/tiled_augmented_1280_good_augment_yolo_data/valid/labels.cache\n"
     ]
    },
    {
     "name": "stderr",
     "output_type": "stream",
     "text": [
      "\n"
     ]
    },
    {
     "name": "stdout",
     "output_type": "stream",
     "text": [
      "Plotting labels to yolo_run_2_brids/2_birds_1280_default2/labels.jpg... \n",
      "\u001b[34m\u001b[1moptimizer:\u001b[0m 'optimizer=auto' found, ignoring 'lr0=0.01' and 'momentum=0.937' and determining best 'optimizer', 'lr0' and 'momentum' automatically... \n",
      "\u001b[34m\u001b[1moptimizer:\u001b[0m AdamW(lr=0.002, momentum=0.9) with parameter groups 106 weight(decay=0.0), 113 weight(decay=0.0004921875), 112 bias(decay=0.0)\n",
      "Image sizes 1280 train, 1280 val\n",
      "Using 8 dataloader workers\n",
      "Logging results to \u001b[1myolo_run_2_brids/2_birds_1280_default2\u001b[0m\n",
      "Starting training for 100 epochs...\n",
      "\n",
      "      Epoch    GPU_mem   box_loss   cls_loss   dfl_loss  Instances       Size\n"
     ]
    },
    {
     "name": "stderr",
     "output_type": "stream",
     "text": [
      "      1/100      6.32G      1.642       1.96      1.119         14       1280: 100%|██████████| 214/214 [01:10<00:00,  3.03it/s]\n",
      "                 Class     Images  Instances      Box(P          R      mAP50  mAP50-95): 100%|██████████| 13/13 [00:04<00:00,  2.77it/s]"
     ]
    },
    {
     "name": "stdout",
     "output_type": "stream",
     "text": [
      "                   all        178        206      0.576      0.495      0.497      0.237\n"
     ]
    },
    {
     "name": "stderr",
     "output_type": "stream",
     "text": [
      "\n"
     ]
    },
    {
     "name": "stdout",
     "output_type": "stream",
     "text": [
      "\n",
      "      Epoch    GPU_mem   box_loss   cls_loss   dfl_loss  Instances       Size\n"
     ]
    },
    {
     "name": "stderr",
     "output_type": "stream",
     "text": [
      "      2/100      6.34G      1.657       1.06      1.146         29       1280: 100%|██████████| 214/214 [01:03<00:00,  3.40it/s]\n",
      "                 Class     Images  Instances      Box(P          R      mAP50  mAP50-95): 100%|██████████| 13/13 [00:04<00:00,  3.15it/s]"
     ]
    },
    {
     "name": "stdout",
     "output_type": "stream",
     "text": [
      "                   all        178        206      0.585      0.553      0.526       0.23\n"
     ]
    },
    {
     "name": "stderr",
     "output_type": "stream",
     "text": [
      "\n"
     ]
    },
    {
     "name": "stdout",
     "output_type": "stream",
     "text": [
      "\n",
      "      Epoch    GPU_mem   box_loss   cls_loss   dfl_loss  Instances       Size\n"
     ]
    },
    {
     "name": "stderr",
     "output_type": "stream",
     "text": [
      "      3/100      6.34G       1.63       0.98      1.141         32       1280: 100%|██████████| 214/214 [01:03<00:00,  3.36it/s]\n",
      "                 Class     Images  Instances      Box(P          R      mAP50  mAP50-95): 100%|██████████| 13/13 [00:03<00:00,  3.28it/s]"
     ]
    },
    {
     "name": "stdout",
     "output_type": "stream",
     "text": [
      "                   all        178        206      0.523      0.592      0.445      0.177\n"
     ]
    },
    {
     "name": "stderr",
     "output_type": "stream",
     "text": [
      "\n"
     ]
    },
    {
     "name": "stdout",
     "output_type": "stream",
     "text": [
      "\n",
      "      Epoch    GPU_mem   box_loss   cls_loss   dfl_loss  Instances       Size\n"
     ]
    },
    {
     "name": "stderr",
     "output_type": "stream",
     "text": [
      "      4/100      6.35G      1.564     0.8953      1.133         30       1280: 100%|██████████| 214/214 [01:02<00:00,  3.43it/s]\n",
      "                 Class     Images  Instances      Box(P          R      mAP50  mAP50-95): 100%|██████████| 13/13 [00:03<00:00,  3.52it/s]"
     ]
    },
    {
     "name": "stdout",
     "output_type": "stream",
     "text": [
      "                   all        178        206      0.604      0.597      0.543      0.232\n"
     ]
    },
    {
     "name": "stderr",
     "output_type": "stream",
     "text": [
      "\n"
     ]
    },
    {
     "name": "stdout",
     "output_type": "stream",
     "text": [
      "\n",
      "      Epoch    GPU_mem   box_loss   cls_loss   dfl_loss  Instances       Size\n"
     ]
    },
    {
     "name": "stderr",
     "output_type": "stream",
     "text": [
      "      5/100      6.37G      1.507     0.8932      1.075         15       1280: 100%|██████████| 214/214 [01:02<00:00,  3.44it/s]\n",
      "                 Class     Images  Instances      Box(P          R      mAP50  mAP50-95): 100%|██████████| 13/13 [00:03<00:00,  3.51it/s]"
     ]
    },
    {
     "name": "stdout",
     "output_type": "stream",
     "text": [
      "                   all        178        206      0.685      0.573      0.603      0.276\n"
     ]
    },
    {
     "name": "stderr",
     "output_type": "stream",
     "text": [
      "\n"
     ]
    },
    {
     "name": "stdout",
     "output_type": "stream",
     "text": [
      "\n",
      "      Epoch    GPU_mem   box_loss   cls_loss   dfl_loss  Instances       Size\n"
     ]
    },
    {
     "name": "stderr",
     "output_type": "stream",
     "text": [
      "      6/100      6.35G       1.47     0.8258      1.081         20       1280: 100%|██████████| 214/214 [01:02<00:00,  3.43it/s]\n",
      "                 Class     Images  Instances      Box(P          R      mAP50  mAP50-95): 100%|██████████| 13/13 [00:03<00:00,  3.54it/s]"
     ]
    },
    {
     "name": "stdout",
     "output_type": "stream",
     "text": [
      "                   all        178        206      0.651      0.621       0.57      0.247\n"
     ]
    },
    {
     "name": "stderr",
     "output_type": "stream",
     "text": [
      "\n"
     ]
    },
    {
     "name": "stdout",
     "output_type": "stream",
     "text": [
      "\n",
      "      Epoch    GPU_mem   box_loss   cls_loss   dfl_loss  Instances       Size\n"
     ]
    },
    {
     "name": "stderr",
     "output_type": "stream",
     "text": [
      "      7/100      6.34G       1.46     0.7832      1.093         23       1280: 100%|██████████| 214/214 [01:02<00:00,  3.43it/s]\n",
      "                 Class     Images  Instances      Box(P          R      mAP50  mAP50-95): 100%|██████████| 13/13 [00:03<00:00,  3.52it/s]"
     ]
    },
    {
     "name": "stdout",
     "output_type": "stream",
     "text": [
      "                   all        178        206      0.694       0.65      0.647      0.301\n"
     ]
    },
    {
     "name": "stderr",
     "output_type": "stream",
     "text": [
      "\n"
     ]
    },
    {
     "name": "stdout",
     "output_type": "stream",
     "text": [
      "\n",
      "      Epoch    GPU_mem   box_loss   cls_loss   dfl_loss  Instances       Size\n"
     ]
    },
    {
     "name": "stderr",
     "output_type": "stream",
     "text": [
      "      8/100      6.35G       1.45     0.8082      1.054         26       1280: 100%|██████████| 214/214 [01:02<00:00,  3.43it/s]\n",
      "                 Class     Images  Instances      Box(P          R      mAP50  mAP50-95): 100%|██████████| 13/13 [00:03<00:00,  3.49it/s]"
     ]
    },
    {
     "name": "stdout",
     "output_type": "stream",
     "text": [
      "                   all        178        206      0.725      0.636      0.678      0.337\n"
     ]
    },
    {
     "name": "stderr",
     "output_type": "stream",
     "text": [
      "\n"
     ]
    },
    {
     "name": "stdout",
     "output_type": "stream",
     "text": [
      "\n",
      "      Epoch    GPU_mem   box_loss   cls_loss   dfl_loss  Instances       Size\n"
     ]
    },
    {
     "name": "stderr",
     "output_type": "stream",
     "text": [
      "      9/100      6.35G      1.402     0.7678      1.068         17       1280: 100%|██████████| 214/214 [01:02<00:00,  3.43it/s]\n",
      "                 Class     Images  Instances      Box(P          R      mAP50  mAP50-95): 100%|██████████| 13/13 [00:03<00:00,  3.53it/s]"
     ]
    },
    {
     "name": "stdout",
     "output_type": "stream",
     "text": [
      "                   all        178        206      0.735      0.674      0.658      0.296\n"
     ]
    },
    {
     "name": "stderr",
     "output_type": "stream",
     "text": [
      "\n"
     ]
    },
    {
     "name": "stdout",
     "output_type": "stream",
     "text": [
      "\n",
      "      Epoch    GPU_mem   box_loss   cls_loss   dfl_loss  Instances       Size\n"
     ]
    },
    {
     "name": "stderr",
     "output_type": "stream",
     "text": [
      "     10/100      6.31G      1.419     0.7624      1.057         30       1280: 100%|██████████| 214/214 [01:02<00:00,  3.43it/s]\n",
      "                 Class     Images  Instances      Box(P          R      mAP50  mAP50-95): 100%|██████████| 13/13 [00:03<00:00,  3.50it/s]"
     ]
    },
    {
     "name": "stdout",
     "output_type": "stream",
     "text": [
      "                   all        178        206       0.71      0.665      0.667      0.303\n"
     ]
    },
    {
     "name": "stderr",
     "output_type": "stream",
     "text": [
      "\n"
     ]
    },
    {
     "name": "stdout",
     "output_type": "stream",
     "text": [
      "\n",
      "      Epoch    GPU_mem   box_loss   cls_loss   dfl_loss  Instances       Size\n"
     ]
    },
    {
     "name": "stderr",
     "output_type": "stream",
     "text": [
      "     11/100      6.34G      1.372     0.7462      1.053         28       1280: 100%|██████████| 214/214 [01:02<00:00,  3.42it/s]\n",
      "                 Class     Images  Instances      Box(P          R      mAP50  mAP50-95): 100%|██████████| 13/13 [00:03<00:00,  3.48it/s]"
     ]
    },
    {
     "name": "stdout",
     "output_type": "stream",
     "text": [
      "                   all        178        206      0.694      0.665      0.694       0.34\n"
     ]
    },
    {
     "name": "stderr",
     "output_type": "stream",
     "text": [
      "\n"
     ]
    },
    {
     "name": "stdout",
     "output_type": "stream",
     "text": [
      "\n",
      "      Epoch    GPU_mem   box_loss   cls_loss   dfl_loss  Instances       Size\n"
     ]
    },
    {
     "name": "stderr",
     "output_type": "stream",
     "text": [
      "     12/100      6.34G       1.35     0.7193       1.02          8       1280: 100%|██████████| 214/214 [01:02<00:00,  3.42it/s]\n",
      "                 Class     Images  Instances      Box(P          R      mAP50  mAP50-95): 100%|██████████| 13/13 [00:03<00:00,  3.57it/s]"
     ]
    },
    {
     "name": "stdout",
     "output_type": "stream",
     "text": [
      "                   all        178        206      0.687      0.631      0.634      0.302\n"
     ]
    },
    {
     "name": "stderr",
     "output_type": "stream",
     "text": [
      "\n"
     ]
    },
    {
     "name": "stdout",
     "output_type": "stream",
     "text": [
      "\n",
      "      Epoch    GPU_mem   box_loss   cls_loss   dfl_loss  Instances       Size\n"
     ]
    },
    {
     "name": "stderr",
     "output_type": "stream",
     "text": [
      "     13/100      6.34G      1.326     0.6879      1.031         22       1280: 100%|██████████| 214/214 [01:02<00:00,  3.43it/s]\n",
      "                 Class     Images  Instances      Box(P          R      mAP50  mAP50-95): 100%|██████████| 13/13 [00:03<00:00,  3.53it/s]"
     ]
    },
    {
     "name": "stdout",
     "output_type": "stream",
     "text": [
      "                   all        178        206      0.672      0.646      0.628      0.299\n"
     ]
    },
    {
     "name": "stderr",
     "output_type": "stream",
     "text": [
      "\n"
     ]
    },
    {
     "name": "stdout",
     "output_type": "stream",
     "text": [
      "\n",
      "      Epoch    GPU_mem   box_loss   cls_loss   dfl_loss  Instances       Size\n"
     ]
    },
    {
     "name": "stderr",
     "output_type": "stream",
     "text": [
      "     14/100      6.35G       1.31     0.6915      1.019         38       1280: 100%|██████████| 214/214 [01:04<00:00,  3.34it/s]\n",
      "                 Class     Images  Instances      Box(P          R      mAP50  mAP50-95): 100%|██████████| 13/13 [00:03<00:00,  3.50it/s]"
     ]
    },
    {
     "name": "stdout",
     "output_type": "stream",
     "text": [
      "                   all        178        206      0.712      0.696      0.664      0.304\n"
     ]
    },
    {
     "name": "stderr",
     "output_type": "stream",
     "text": [
      "\n"
     ]
    },
    {
     "name": "stdout",
     "output_type": "stream",
     "text": [
      "\n",
      "      Epoch    GPU_mem   box_loss   cls_loss   dfl_loss  Instances       Size\n"
     ]
    },
    {
     "name": "stderr",
     "output_type": "stream",
     "text": [
      "     15/100      6.34G      1.337     0.7241      1.037          7       1280: 100%|██████████| 214/214 [01:02<00:00,  3.44it/s]\n",
      "                 Class     Images  Instances      Box(P          R      mAP50  mAP50-95): 100%|██████████| 13/13 [00:03<00:00,  3.52it/s]"
     ]
    },
    {
     "name": "stdout",
     "output_type": "stream",
     "text": [
      "                   all        178        206      0.669      0.637      0.625      0.276\n"
     ]
    },
    {
     "name": "stderr",
     "output_type": "stream",
     "text": [
      "\n"
     ]
    },
    {
     "name": "stdout",
     "output_type": "stream",
     "text": [
      "\n",
      "      Epoch    GPU_mem   box_loss   cls_loss   dfl_loss  Instances       Size\n"
     ]
    },
    {
     "name": "stderr",
     "output_type": "stream",
     "text": [
      "     16/100      6.35G      1.335      0.741      1.028         26       1280: 100%|██████████| 214/214 [01:02<00:00,  3.44it/s]\n",
      "                 Class     Images  Instances      Box(P          R      mAP50  mAP50-95): 100%|██████████| 13/13 [00:03<00:00,  3.52it/s]"
     ]
    },
    {
     "name": "stdout",
     "output_type": "stream",
     "text": [
      "                   all        178        206      0.575       0.66       0.62      0.294\n"
     ]
    },
    {
     "name": "stderr",
     "output_type": "stream",
     "text": [
      "\n"
     ]
    },
    {
     "name": "stdout",
     "output_type": "stream",
     "text": [
      "\n",
      "      Epoch    GPU_mem   box_loss   cls_loss   dfl_loss  Instances       Size\n"
     ]
    },
    {
     "name": "stderr",
     "output_type": "stream",
     "text": [
      "     17/100      6.34G      1.278     0.6612      1.006         26       1280: 100%|██████████| 214/214 [01:02<00:00,  3.43it/s]\n",
      "                 Class     Images  Instances      Box(P          R      mAP50  mAP50-95): 100%|██████████| 13/13 [00:03<00:00,  3.55it/s]"
     ]
    },
    {
     "name": "stdout",
     "output_type": "stream",
     "text": [
      "                   all        178        206       0.67      0.711      0.695      0.308\n"
     ]
    },
    {
     "name": "stderr",
     "output_type": "stream",
     "text": [
      "\n"
     ]
    },
    {
     "name": "stdout",
     "output_type": "stream",
     "text": [
      "\n",
      "      Epoch    GPU_mem   box_loss   cls_loss   dfl_loss  Instances       Size\n"
     ]
    },
    {
     "name": "stderr",
     "output_type": "stream",
     "text": [
      "     18/100      6.54G      1.315     0.7095      1.017         28       1280: 100%|██████████| 214/214 [01:02<00:00,  3.44it/s]\n",
      "                 Class     Images  Instances      Box(P          R      mAP50  mAP50-95): 100%|██████████| 13/13 [00:03<00:00,  3.49it/s]"
     ]
    },
    {
     "name": "stdout",
     "output_type": "stream",
     "text": [
      "                   all        178        206      0.754      0.641      0.674       0.31\n"
     ]
    },
    {
     "name": "stderr",
     "output_type": "stream",
     "text": [
      "\n"
     ]
    },
    {
     "name": "stdout",
     "output_type": "stream",
     "text": [
      "\n",
      "      Epoch    GPU_mem   box_loss   cls_loss   dfl_loss  Instances       Size\n"
     ]
    },
    {
     "name": "stderr",
     "output_type": "stream",
     "text": [
      "     19/100      6.31G      1.288     0.6927      1.024         17       1280: 100%|██████████| 214/214 [01:02<00:00,  3.44it/s]\n",
      "                 Class     Images  Instances      Box(P          R      mAP50  mAP50-95): 100%|██████████| 13/13 [00:03<00:00,  3.52it/s]"
     ]
    },
    {
     "name": "stdout",
     "output_type": "stream",
     "text": [
      "                   all        178        206      0.662      0.665      0.636      0.305\n"
     ]
    },
    {
     "name": "stderr",
     "output_type": "stream",
     "text": [
      "\n"
     ]
    },
    {
     "name": "stdout",
     "output_type": "stream",
     "text": [
      "\n",
      "      Epoch    GPU_mem   box_loss   cls_loss   dfl_loss  Instances       Size\n"
     ]
    },
    {
     "name": "stderr",
     "output_type": "stream",
     "text": [
      "     20/100      6.33G      1.298     0.6814      1.011         20       1280: 100%|██████████| 214/214 [01:02<00:00,  3.45it/s]\n",
      "                 Class     Images  Instances      Box(P          R      mAP50  mAP50-95): 100%|██████████| 13/13 [00:03<00:00,  3.53it/s]"
     ]
    },
    {
     "name": "stdout",
     "output_type": "stream",
     "text": [
      "                   all        178        206      0.722      0.668      0.669      0.304\n"
     ]
    },
    {
     "name": "stderr",
     "output_type": "stream",
     "text": [
      "\n"
     ]
    },
    {
     "name": "stdout",
     "output_type": "stream",
     "text": [
      "\n",
      "      Epoch    GPU_mem   box_loss   cls_loss   dfl_loss  Instances       Size\n"
     ]
    },
    {
     "name": "stderr",
     "output_type": "stream",
     "text": [
      "     21/100      6.35G      1.247      0.649      1.001         26       1280: 100%|██████████| 214/214 [01:02<00:00,  3.44it/s]\n",
      "                 Class     Images  Instances      Box(P          R      mAP50  mAP50-95): 100%|██████████| 13/13 [00:03<00:00,  3.43it/s]"
     ]
    },
    {
     "name": "stdout",
     "output_type": "stream",
     "text": [
      "                   all        178        206      0.739       0.68      0.704       0.34\n"
     ]
    },
    {
     "name": "stderr",
     "output_type": "stream",
     "text": [
      "\n"
     ]
    },
    {
     "name": "stdout",
     "output_type": "stream",
     "text": [
      "\n",
      "      Epoch    GPU_mem   box_loss   cls_loss   dfl_loss  Instances       Size\n"
     ]
    },
    {
     "name": "stderr",
     "output_type": "stream",
     "text": [
      "     22/100      6.33G      1.258     0.6622      1.006         13       1280: 100%|██████████| 214/214 [01:04<00:00,  3.30it/s]\n",
      "                 Class     Images  Instances      Box(P          R      mAP50  mAP50-95): 100%|██████████| 13/13 [00:03<00:00,  3.50it/s]"
     ]
    },
    {
     "name": "stdout",
     "output_type": "stream",
     "text": [
      "                   all        178        206      0.651      0.704       0.65      0.326\n"
     ]
    },
    {
     "name": "stderr",
     "output_type": "stream",
     "text": [
      "\n"
     ]
    },
    {
     "name": "stdout",
     "output_type": "stream",
     "text": [
      "\n",
      "      Epoch    GPU_mem   box_loss   cls_loss   dfl_loss  Instances       Size\n"
     ]
    },
    {
     "name": "stderr",
     "output_type": "stream",
     "text": [
      "     23/100      6.36G      1.229      0.632     0.9964         19       1280: 100%|██████████| 214/214 [01:02<00:00,  3.44it/s]\n",
      "                 Class     Images  Instances      Box(P          R      mAP50  mAP50-95): 100%|██████████| 13/13 [00:03<00:00,  3.52it/s]"
     ]
    },
    {
     "name": "stdout",
     "output_type": "stream",
     "text": [
      "                   all        178        206      0.778      0.662      0.674      0.324\n"
     ]
    },
    {
     "name": "stderr",
     "output_type": "stream",
     "text": [
      "\n"
     ]
    },
    {
     "name": "stdout",
     "output_type": "stream",
     "text": [
      "\n",
      "      Epoch    GPU_mem   box_loss   cls_loss   dfl_loss  Instances       Size\n"
     ]
    },
    {
     "name": "stderr",
     "output_type": "stream",
     "text": [
      "     24/100      6.33G      1.268     0.6579      1.003         38       1280: 100%|██████████| 214/214 [01:02<00:00,  3.44it/s]\n",
      "                 Class     Images  Instances      Box(P          R      mAP50  mAP50-95): 100%|██████████| 13/13 [00:03<00:00,  3.56it/s]"
     ]
    },
    {
     "name": "stdout",
     "output_type": "stream",
     "text": [
      "                   all        178        206      0.766       0.67      0.689      0.323\n"
     ]
    },
    {
     "name": "stderr",
     "output_type": "stream",
     "text": [
      "\n"
     ]
    },
    {
     "name": "stdout",
     "output_type": "stream",
     "text": [
      "\n",
      "      Epoch    GPU_mem   box_loss   cls_loss   dfl_loss  Instances       Size\n"
     ]
    },
    {
     "name": "stderr",
     "output_type": "stream",
     "text": [
      "     25/100      6.44G      1.209      0.645     0.9787         26       1280: 100%|██████████| 214/214 [01:02<00:00,  3.45it/s]\n",
      "                 Class     Images  Instances      Box(P          R      mAP50  mAP50-95): 100%|██████████| 13/13 [00:03<00:00,  3.56it/s]"
     ]
    },
    {
     "name": "stdout",
     "output_type": "stream",
     "text": [
      "                   all        178        206      0.682      0.636      0.616      0.295\n"
     ]
    },
    {
     "name": "stderr",
     "output_type": "stream",
     "text": [
      "\n"
     ]
    },
    {
     "name": "stdout",
     "output_type": "stream",
     "text": [
      "\n",
      "      Epoch    GPU_mem   box_loss   cls_loss   dfl_loss  Instances       Size\n"
     ]
    },
    {
     "name": "stderr",
     "output_type": "stream",
     "text": [
      "     26/100      6.34G      1.203     0.6366     0.9808         11       1280: 100%|██████████| 214/214 [01:02<00:00,  3.43it/s]\n",
      "                 Class     Images  Instances      Box(P          R      mAP50  mAP50-95): 100%|██████████| 13/13 [00:03<00:00,  3.53it/s]"
     ]
    },
    {
     "name": "stdout",
     "output_type": "stream",
     "text": [
      "                   all        178        206      0.729      0.652      0.655      0.318\n"
     ]
    },
    {
     "name": "stderr",
     "output_type": "stream",
     "text": [
      "\n"
     ]
    },
    {
     "name": "stdout",
     "output_type": "stream",
     "text": [
      "\n",
      "      Epoch    GPU_mem   box_loss   cls_loss   dfl_loss  Instances       Size\n"
     ]
    },
    {
     "name": "stderr",
     "output_type": "stream",
     "text": [
      "     27/100      6.33G       1.23     0.6349     0.9847         23       1280: 100%|██████████| 214/214 [01:02<00:00,  3.43it/s]\n",
      "                 Class     Images  Instances      Box(P          R      mAP50  mAP50-95): 100%|██████████| 13/13 [00:03<00:00,  3.53it/s]"
     ]
    },
    {
     "name": "stdout",
     "output_type": "stream",
     "text": [
      "                   all        178        206      0.735      0.723      0.707      0.336\n"
     ]
    },
    {
     "name": "stderr",
     "output_type": "stream",
     "text": [
      "\n"
     ]
    },
    {
     "name": "stdout",
     "output_type": "stream",
     "text": [
      "\n",
      "      Epoch    GPU_mem   box_loss   cls_loss   dfl_loss  Instances       Size\n"
     ]
    },
    {
     "name": "stderr",
     "output_type": "stream",
     "text": [
      "     28/100      6.32G      1.204     0.6283     0.9867         12       1280: 100%|██████████| 214/214 [01:02<00:00,  3.44it/s]\n",
      "                 Class     Images  Instances      Box(P          R      mAP50  mAP50-95): 100%|██████████| 13/13 [00:03<00:00,  3.51it/s]"
     ]
    },
    {
     "name": "stdout",
     "output_type": "stream",
     "text": [
      "                   all        178        206      0.726       0.68      0.677      0.316\n"
     ]
    },
    {
     "name": "stderr",
     "output_type": "stream",
     "text": [
      "\n"
     ]
    },
    {
     "name": "stdout",
     "output_type": "stream",
     "text": [
      "\n",
      "      Epoch    GPU_mem   box_loss   cls_loss   dfl_loss  Instances       Size\n"
     ]
    },
    {
     "name": "stderr",
     "output_type": "stream",
     "text": [
      "     29/100      6.35G      1.204     0.6285      1.001         26       1280: 100%|██████████| 214/214 [01:02<00:00,  3.44it/s]\n",
      "                 Class     Images  Instances      Box(P          R      mAP50  mAP50-95): 100%|██████████| 13/13 [00:03<00:00,  3.50it/s]"
     ]
    },
    {
     "name": "stdout",
     "output_type": "stream",
     "text": [
      "                   all        178        206      0.714      0.655      0.626      0.288\n"
     ]
    },
    {
     "name": "stderr",
     "output_type": "stream",
     "text": [
      "\n"
     ]
    },
    {
     "name": "stdout",
     "output_type": "stream",
     "text": [
      "\n",
      "      Epoch    GPU_mem   box_loss   cls_loss   dfl_loss  Instances       Size\n"
     ]
    },
    {
     "name": "stderr",
     "output_type": "stream",
     "text": [
      "     30/100      6.33G      1.192     0.6132      0.983         12       1280: 100%|██████████| 214/214 [01:02<00:00,  3.43it/s]\n",
      "                 Class     Images  Instances      Box(P          R      mAP50  mAP50-95): 100%|██████████| 13/13 [00:03<00:00,  3.51it/s]"
     ]
    },
    {
     "name": "stdout",
     "output_type": "stream",
     "text": [
      "                   all        178        206      0.724       0.67       0.67      0.319\n"
     ]
    },
    {
     "name": "stderr",
     "output_type": "stream",
     "text": [
      "\n"
     ]
    },
    {
     "name": "stdout",
     "output_type": "stream",
     "text": [
      "\n",
      "      Epoch    GPU_mem   box_loss   cls_loss   dfl_loss  Instances       Size\n"
     ]
    },
    {
     "name": "stderr",
     "output_type": "stream",
     "text": [
      "     31/100      6.33G      1.188     0.6107     0.9767         12       1280: 100%|██████████| 214/214 [01:02<00:00,  3.45it/s]\n",
      "                 Class     Images  Instances      Box(P          R      mAP50  mAP50-95): 100%|██████████| 13/13 [00:03<00:00,  3.54it/s]"
     ]
    },
    {
     "name": "stdout",
     "output_type": "stream",
     "text": [
      "                   all        178        206      0.724      0.674      0.698      0.323\n"
     ]
    },
    {
     "name": "stderr",
     "output_type": "stream",
     "text": [
      "\n"
     ]
    },
    {
     "name": "stdout",
     "output_type": "stream",
     "text": [
      "\n",
      "      Epoch    GPU_mem   box_loss   cls_loss   dfl_loss  Instances       Size\n"
     ]
    },
    {
     "name": "stderr",
     "output_type": "stream",
     "text": [
      "     32/100      6.58G      1.192     0.6162     0.9588         15       1280: 100%|██████████| 214/214 [01:04<00:00,  3.32it/s]\n",
      "                 Class     Images  Instances      Box(P          R      mAP50  mAP50-95): 100%|██████████| 13/13 [00:03<00:00,  3.49it/s]"
     ]
    },
    {
     "name": "stdout",
     "output_type": "stream",
     "text": [
      "                   all        178        206      0.707      0.691      0.653      0.307\n"
     ]
    },
    {
     "name": "stderr",
     "output_type": "stream",
     "text": [
      "\n"
     ]
    },
    {
     "name": "stdout",
     "output_type": "stream",
     "text": [
      "\n",
      "      Epoch    GPU_mem   box_loss   cls_loss   dfl_loss  Instances       Size\n"
     ]
    },
    {
     "name": "stderr",
     "output_type": "stream",
     "text": [
      "     33/100      6.34G      1.182       0.61     0.9716         16       1280: 100%|██████████| 214/214 [01:02<00:00,  3.43it/s]\n",
      "                 Class     Images  Instances      Box(P          R      mAP50  mAP50-95): 100%|██████████| 13/13 [00:03<00:00,  3.50it/s]"
     ]
    },
    {
     "name": "stdout",
     "output_type": "stream",
     "text": [
      "                   all        178        206       0.76       0.67      0.715      0.346\n"
     ]
    },
    {
     "name": "stderr",
     "output_type": "stream",
     "text": [
      "\n"
     ]
    },
    {
     "name": "stdout",
     "output_type": "stream",
     "text": [
      "\n",
      "      Epoch    GPU_mem   box_loss   cls_loss   dfl_loss  Instances       Size\n"
     ]
    },
    {
     "name": "stderr",
     "output_type": "stream",
     "text": [
      "     34/100      6.33G       1.19     0.6025     0.9812         13       1280: 100%|██████████| 214/214 [01:02<00:00,  3.44it/s]\n",
      "                 Class     Images  Instances      Box(P          R      mAP50  mAP50-95): 100%|██████████| 13/13 [00:03<00:00,  3.56it/s]"
     ]
    },
    {
     "name": "stdout",
     "output_type": "stream",
     "text": [
      "                   all        178        206       0.68      0.714       0.73      0.343\n"
     ]
    },
    {
     "name": "stderr",
     "output_type": "stream",
     "text": [
      "\n"
     ]
    },
    {
     "name": "stdout",
     "output_type": "stream",
     "text": [
      "\n",
      "      Epoch    GPU_mem   box_loss   cls_loss   dfl_loss  Instances       Size\n"
     ]
    },
    {
     "name": "stderr",
     "output_type": "stream",
     "text": [
      "     35/100      6.34G      1.163     0.5916     0.9672         16       1280: 100%|██████████| 214/214 [01:02<00:00,  3.44it/s]\n",
      "                 Class     Images  Instances      Box(P          R      mAP50  mAP50-95): 100%|██████████| 13/13 [00:03<00:00,  3.57it/s]"
     ]
    },
    {
     "name": "stdout",
     "output_type": "stream",
     "text": [
      "                   all        178        206      0.673       0.66      0.665      0.328\n"
     ]
    },
    {
     "name": "stderr",
     "output_type": "stream",
     "text": [
      "\n"
     ]
    },
    {
     "name": "stdout",
     "output_type": "stream",
     "text": [
      "\n",
      "      Epoch    GPU_mem   box_loss   cls_loss   dfl_loss  Instances       Size\n"
     ]
    },
    {
     "name": "stderr",
     "output_type": "stream",
     "text": [
      "     36/100      6.34G       1.16     0.5921     0.9556         16       1280: 100%|██████████| 214/214 [01:02<00:00,  3.44it/s]\n",
      "                 Class     Images  Instances      Box(P          R      mAP50  mAP50-95): 100%|██████████| 13/13 [00:03<00:00,  3.51it/s]"
     ]
    },
    {
     "name": "stdout",
     "output_type": "stream",
     "text": [
      "                   all        178        206      0.712      0.675      0.719      0.351\n"
     ]
    },
    {
     "name": "stderr",
     "output_type": "stream",
     "text": [
      "\n"
     ]
    },
    {
     "name": "stdout",
     "output_type": "stream",
     "text": [
      "\n",
      "      Epoch    GPU_mem   box_loss   cls_loss   dfl_loss  Instances       Size\n"
     ]
    },
    {
     "name": "stderr",
     "output_type": "stream",
     "text": [
      "     37/100      6.32G      1.154     0.5813      0.944         28       1280: 100%|██████████| 214/214 [01:02<00:00,  3.44it/s]\n",
      "                 Class     Images  Instances      Box(P          R      mAP50  mAP50-95): 100%|██████████| 13/13 [00:03<00:00,  3.52it/s]"
     ]
    },
    {
     "name": "stdout",
     "output_type": "stream",
     "text": [
      "                   all        178        206      0.627      0.689      0.665      0.318\n"
     ]
    },
    {
     "name": "stderr",
     "output_type": "stream",
     "text": [
      "\n"
     ]
    },
    {
     "name": "stdout",
     "output_type": "stream",
     "text": [
      "\n",
      "      Epoch    GPU_mem   box_loss   cls_loss   dfl_loss  Instances       Size\n"
     ]
    },
    {
     "name": "stderr",
     "output_type": "stream",
     "text": [
      "     38/100      6.34G      1.141     0.5812      0.957         13       1280: 100%|██████████| 214/214 [01:02<00:00,  3.43it/s]\n",
      "                 Class     Images  Instances      Box(P          R      mAP50  mAP50-95): 100%|██████████| 13/13 [00:03<00:00,  3.50it/s]"
     ]
    },
    {
     "name": "stdout",
     "output_type": "stream",
     "text": [
      "                   all        178        206      0.732      0.699      0.696      0.332\n"
     ]
    },
    {
     "name": "stderr",
     "output_type": "stream",
     "text": [
      "\n"
     ]
    },
    {
     "name": "stdout",
     "output_type": "stream",
     "text": [
      "\n",
      "      Epoch    GPU_mem   box_loss   cls_loss   dfl_loss  Instances       Size\n"
     ]
    },
    {
     "name": "stderr",
     "output_type": "stream",
     "text": [
      "     39/100      6.33G      1.165     0.5887     0.9585         16       1280: 100%|██████████| 214/214 [01:02<00:00,  3.44it/s]\n",
      "                 Class     Images  Instances      Box(P          R      mAP50  mAP50-95): 100%|██████████| 13/13 [00:03<00:00,  3.50it/s]"
     ]
    },
    {
     "name": "stdout",
     "output_type": "stream",
     "text": [
      "                   all        178        206      0.719      0.684      0.701      0.323\n"
     ]
    },
    {
     "name": "stderr",
     "output_type": "stream",
     "text": [
      "\n"
     ]
    },
    {
     "name": "stdout",
     "output_type": "stream",
     "text": [
      "\n",
      "      Epoch    GPU_mem   box_loss   cls_loss   dfl_loss  Instances       Size\n"
     ]
    },
    {
     "name": "stderr",
     "output_type": "stream",
     "text": [
      "     40/100      6.34G       1.14     0.5931      0.954         11       1280: 100%|██████████| 214/214 [01:04<00:00,  3.31it/s]\n",
      "                 Class     Images  Instances      Box(P          R      mAP50  mAP50-95): 100%|██████████| 13/13 [00:03<00:00,  3.36it/s]"
     ]
    },
    {
     "name": "stdout",
     "output_type": "stream",
     "text": [
      "                   all        178        206      0.713      0.743      0.729      0.329\n"
     ]
    },
    {
     "name": "stderr",
     "output_type": "stream",
     "text": [
      "\n"
     ]
    },
    {
     "name": "stdout",
     "output_type": "stream",
     "text": [
      "\n",
      "      Epoch    GPU_mem   box_loss   cls_loss   dfl_loss  Instances       Size\n"
     ]
    },
    {
     "name": "stderr",
     "output_type": "stream",
     "text": [
      "     41/100      6.36G      1.135      0.571     0.9501         31       1280: 100%|██████████| 214/214 [01:02<00:00,  3.44it/s]\n",
      "                 Class     Images  Instances      Box(P          R      mAP50  mAP50-95): 100%|██████████| 13/13 [00:03<00:00,  3.53it/s]"
     ]
    },
    {
     "name": "stdout",
     "output_type": "stream",
     "text": [
      "                   all        178        206      0.755      0.699      0.724      0.347\n"
     ]
    },
    {
     "name": "stderr",
     "output_type": "stream",
     "text": [
      "\n"
     ]
    },
    {
     "name": "stdout",
     "output_type": "stream",
     "text": [
      "\n",
      "      Epoch    GPU_mem   box_loss   cls_loss   dfl_loss  Instances       Size\n"
     ]
    },
    {
     "name": "stderr",
     "output_type": "stream",
     "text": [
      "     42/100      6.35G      1.087     0.5471     0.9313         15       1280: 100%|██████████| 214/214 [01:02<00:00,  3.43it/s]\n",
      "                 Class     Images  Instances      Box(P          R      mAP50  mAP50-95): 100%|██████████| 13/13 [00:03<00:00,  3.53it/s]"
     ]
    },
    {
     "name": "stdout",
     "output_type": "stream",
     "text": [
      "                   all        178        206      0.775      0.651      0.703      0.338\n"
     ]
    },
    {
     "name": "stderr",
     "output_type": "stream",
     "text": [
      "\n"
     ]
    },
    {
     "name": "stdout",
     "output_type": "stream",
     "text": [
      "\n",
      "      Epoch    GPU_mem   box_loss   cls_loss   dfl_loss  Instances       Size\n"
     ]
    },
    {
     "name": "stderr",
     "output_type": "stream",
     "text": [
      "     43/100      6.42G      1.114     0.5612      0.944         30       1280: 100%|██████████| 214/214 [01:02<00:00,  3.44it/s]\n",
      "                 Class     Images  Instances      Box(P          R      mAP50  mAP50-95): 100%|██████████| 13/13 [00:03<00:00,  3.54it/s]"
     ]
    },
    {
     "name": "stdout",
     "output_type": "stream",
     "text": [
      "                   all        178        206      0.704      0.699       0.69      0.331\n"
     ]
    },
    {
     "name": "stderr",
     "output_type": "stream",
     "text": [
      "\n"
     ]
    },
    {
     "name": "stdout",
     "output_type": "stream",
     "text": [
      "\n",
      "      Epoch    GPU_mem   box_loss   cls_loss   dfl_loss  Instances       Size\n"
     ]
    },
    {
     "name": "stderr",
     "output_type": "stream",
     "text": [
      "     44/100      6.33G      1.106     0.5612     0.9572         13       1280: 100%|██████████| 214/214 [01:02<00:00,  3.42it/s]\n",
      "                 Class     Images  Instances      Box(P          R      mAP50  mAP50-95): 100%|██████████| 13/13 [00:03<00:00,  3.55it/s]"
     ]
    },
    {
     "name": "stdout",
     "output_type": "stream",
     "text": [
      "                   all        178        206      0.748      0.684      0.684      0.326\n"
     ]
    },
    {
     "name": "stderr",
     "output_type": "stream",
     "text": [
      "\n"
     ]
    },
    {
     "name": "stdout",
     "output_type": "stream",
     "text": [
      "\n",
      "      Epoch    GPU_mem   box_loss   cls_loss   dfl_loss  Instances       Size\n"
     ]
    },
    {
     "name": "stderr",
     "output_type": "stream",
     "text": [
      "     45/100      6.35G      1.076     0.5466     0.9396         39       1280: 100%|██████████| 214/214 [01:02<00:00,  3.42it/s]\n",
      "                 Class     Images  Instances      Box(P          R      mAP50  mAP50-95): 100%|██████████| 13/13 [00:03<00:00,  3.54it/s]"
     ]
    },
    {
     "name": "stdout",
     "output_type": "stream",
     "text": [
      "                   all        178        206       0.69      0.733      0.714      0.343\n"
     ]
    },
    {
     "name": "stderr",
     "output_type": "stream",
     "text": [
      "\n"
     ]
    },
    {
     "name": "stdout",
     "output_type": "stream",
     "text": [
      "\n",
      "      Epoch    GPU_mem   box_loss   cls_loss   dfl_loss  Instances       Size\n"
     ]
    },
    {
     "name": "stderr",
     "output_type": "stream",
     "text": [
      "     46/100      6.32G      1.092     0.5498     0.9352         10       1280: 100%|██████████| 214/214 [01:02<00:00,  3.43it/s]\n",
      "                 Class     Images  Instances      Box(P          R      mAP50  mAP50-95): 100%|██████████| 13/13 [00:03<00:00,  3.48it/s]"
     ]
    },
    {
     "name": "stdout",
     "output_type": "stream",
     "text": [
      "                   all        178        206      0.686      0.723      0.695       0.33\n"
     ]
    },
    {
     "name": "stderr",
     "output_type": "stream",
     "text": [
      "\n"
     ]
    },
    {
     "name": "stdout",
     "output_type": "stream",
     "text": [
      "\n",
      "      Epoch    GPU_mem   box_loss   cls_loss   dfl_loss  Instances       Size\n"
     ]
    },
    {
     "name": "stderr",
     "output_type": "stream",
     "text": [
      "     47/100      6.34G      1.088     0.5448     0.9248         35       1280: 100%|██████████| 214/214 [01:02<00:00,  3.42it/s]\n",
      "                 Class     Images  Instances      Box(P          R      mAP50  mAP50-95): 100%|██████████| 13/13 [00:03<00:00,  3.49it/s]"
     ]
    },
    {
     "name": "stdout",
     "output_type": "stream",
     "text": [
      "                   all        178        206      0.777      0.677      0.719      0.337\n"
     ]
    },
    {
     "name": "stderr",
     "output_type": "stream",
     "text": [
      "\n"
     ]
    },
    {
     "name": "stdout",
     "output_type": "stream",
     "text": [
      "\n",
      "      Epoch    GPU_mem   box_loss   cls_loss   dfl_loss  Instances       Size\n"
     ]
    },
    {
     "name": "stderr",
     "output_type": "stream",
     "text": [
      "     48/100      6.34G      1.098     0.5649     0.9325         12       1280: 100%|██████████| 214/214 [01:02<00:00,  3.41it/s]\n",
      "                 Class     Images  Instances      Box(P          R      mAP50  mAP50-95): 100%|██████████| 13/13 [00:03<00:00,  3.53it/s]"
     ]
    },
    {
     "name": "stdout",
     "output_type": "stream",
     "text": [
      "                   all        178        206      0.726       0.72      0.713      0.346\n",
      "\u001b[34m\u001b[1mEarlyStopping: \u001b[0mTraining stopped early as no improvement observed in last 12 epochs. Best results observed at epoch 36, best model saved as best.pt.\n",
      "To update EarlyStopping(patience=12) pass a new patience value, i.e. `patience=300` or use `patience=0` to disable EarlyStopping.\n"
     ]
    },
    {
     "name": "stderr",
     "output_type": "stream",
     "text": [
      "\n"
     ]
    },
    {
     "name": "stdout",
     "output_type": "stream",
     "text": [
      "\n",
      "48 epochs completed in 0.895 hours.\n",
      "Optimizer stripped from yolo_run_2_brids/2_birds_1280_default2/weights/last.pt, 40.6MB\n",
      "Optimizer stripped from yolo_run_2_brids/2_birds_1280_default2/weights/best.pt, 40.6MB\n",
      "\n",
      "Validating yolo_run_2_brids/2_birds_1280_default2/weights/best.pt...\n",
      "Ultralytics 8.3.131 🚀 Python-3.11.7 torch-2.1.1+cu121 CUDA:0 (NVIDIA RTX A4000, 16102MiB)\n",
      "YOLO11m summary (fused): 125 layers, 20,030,803 parameters, 0 gradients, 67.6 GFLOPs\n"
     ]
    },
    {
     "name": "stderr",
     "output_type": "stream",
     "text": [
      "                 Class     Images  Instances      Box(P          R      mAP50  mAP50-95): 100%|██████████| 13/13 [00:04<00:00,  3.10it/s]\n"
     ]
    },
    {
     "name": "stdout",
     "output_type": "stream",
     "text": [
      "                   all        178        206      0.763      0.665      0.719       0.35\n",
      "Speed: 0.6ms preprocess, 18.8ms inference, 0.0ms loss, 1.4ms postprocess per image\n",
      "Results saved to \u001b[1myolo_run_2_brids/2_birds_1280_default2\u001b[0m\n"
     ]
    },
    {
     "data": {
      "text/plain": [
       "ultralytics.utils.metrics.DetMetrics object with attributes:\n",
       "\n",
       "ap_class_index: array([0])\n",
       "box: ultralytics.utils.metrics.Metric object\n",
       "confusion_matrix: <ultralytics.utils.metrics.ConfusionMatrix object at 0x7fb759adb4d0>\n",
       "curves: ['Precision-Recall(B)', 'F1-Confidence(B)', 'Precision-Confidence(B)', 'Recall-Confidence(B)']\n",
       "curves_results: [[array([          0,    0.001001,    0.002002,    0.003003,    0.004004,    0.005005,    0.006006,    0.007007,    0.008008,    0.009009,     0.01001,    0.011011,    0.012012,    0.013013,    0.014014,    0.015015,    0.016016,    0.017017,    0.018018,    0.019019,     0.02002,    0.021021,    0.022022,    0.023023,\n",
       "          0.024024,    0.025025,    0.026026,    0.027027,    0.028028,    0.029029,     0.03003,    0.031031,    0.032032,    0.033033,    0.034034,    0.035035,    0.036036,    0.037037,    0.038038,    0.039039,     0.04004,    0.041041,    0.042042,    0.043043,    0.044044,    0.045045,    0.046046,    0.047047,\n",
       "          0.048048,    0.049049,     0.05005,    0.051051,    0.052052,    0.053053,    0.054054,    0.055055,    0.056056,    0.057057,    0.058058,    0.059059,     0.06006,    0.061061,    0.062062,    0.063063,    0.064064,    0.065065,    0.066066,    0.067067,    0.068068,    0.069069,     0.07007,    0.071071,\n",
       "          0.072072,    0.073073,    0.074074,    0.075075,    0.076076,    0.077077,    0.078078,    0.079079,     0.08008,    0.081081,    0.082082,    0.083083,    0.084084,    0.085085,    0.086086,    0.087087,    0.088088,    0.089089,     0.09009,    0.091091,    0.092092,    0.093093,    0.094094,    0.095095,\n",
       "          0.096096,    0.097097,    0.098098,    0.099099,      0.1001,      0.1011,      0.1021,      0.1031,      0.1041,     0.10511,     0.10611,     0.10711,     0.10811,     0.10911,     0.11011,     0.11111,     0.11211,     0.11311,     0.11411,     0.11512,     0.11612,     0.11712,     0.11812,     0.11912,\n",
       "           0.12012,     0.12112,     0.12212,     0.12312,     0.12412,     0.12513,     0.12613,     0.12713,     0.12813,     0.12913,     0.13013,     0.13113,     0.13213,     0.13313,     0.13413,     0.13514,     0.13614,     0.13714,     0.13814,     0.13914,     0.14014,     0.14114,     0.14214,     0.14314,\n",
       "           0.14414,     0.14515,     0.14615,     0.14715,     0.14815,     0.14915,     0.15015,     0.15115,     0.15215,     0.15315,     0.15415,     0.15516,     0.15616,     0.15716,     0.15816,     0.15916,     0.16016,     0.16116,     0.16216,     0.16316,     0.16416,     0.16517,     0.16617,     0.16717,\n",
       "           0.16817,     0.16917,     0.17017,     0.17117,     0.17217,     0.17317,     0.17417,     0.17518,     0.17618,     0.17718,     0.17818,     0.17918,     0.18018,     0.18118,     0.18218,     0.18318,     0.18418,     0.18519,     0.18619,     0.18719,     0.18819,     0.18919,     0.19019,     0.19119,\n",
       "           0.19219,     0.19319,     0.19419,      0.1952,      0.1962,      0.1972,      0.1982,      0.1992,      0.2002,      0.2012,      0.2022,      0.2032,      0.2042,     0.20521,     0.20621,     0.20721,     0.20821,     0.20921,     0.21021,     0.21121,     0.21221,     0.21321,     0.21421,     0.21522,\n",
       "           0.21622,     0.21722,     0.21822,     0.21922,     0.22022,     0.22122,     0.22222,     0.22322,     0.22422,     0.22523,     0.22623,     0.22723,     0.22823,     0.22923,     0.23023,     0.23123,     0.23223,     0.23323,     0.23423,     0.23524,     0.23624,     0.23724,     0.23824,     0.23924,\n",
       "           0.24024,     0.24124,     0.24224,     0.24324,     0.24424,     0.24525,     0.24625,     0.24725,     0.24825,     0.24925,     0.25025,     0.25125,     0.25225,     0.25325,     0.25425,     0.25526,     0.25626,     0.25726,     0.25826,     0.25926,     0.26026,     0.26126,     0.26226,     0.26326,\n",
       "           0.26426,     0.26527,     0.26627,     0.26727,     0.26827,     0.26927,     0.27027,     0.27127,     0.27227,     0.27327,     0.27427,     0.27528,     0.27628,     0.27728,     0.27828,     0.27928,     0.28028,     0.28128,     0.28228,     0.28328,     0.28428,     0.28529,     0.28629,     0.28729,\n",
       "           0.28829,     0.28929,     0.29029,     0.29129,     0.29229,     0.29329,     0.29429,      0.2953,      0.2963,      0.2973,      0.2983,      0.2993,      0.3003,      0.3013,      0.3023,      0.3033,      0.3043,     0.30531,     0.30631,     0.30731,     0.30831,     0.30931,     0.31031,     0.31131,\n",
       "           0.31231,     0.31331,     0.31431,     0.31532,     0.31632,     0.31732,     0.31832,     0.31932,     0.32032,     0.32132,     0.32232,     0.32332,     0.32432,     0.32533,     0.32633,     0.32733,     0.32833,     0.32933,     0.33033,     0.33133,     0.33233,     0.33333,     0.33433,     0.33534,\n",
       "           0.33634,     0.33734,     0.33834,     0.33934,     0.34034,     0.34134,     0.34234,     0.34334,     0.34434,     0.34535,     0.34635,     0.34735,     0.34835,     0.34935,     0.35035,     0.35135,     0.35235,     0.35335,     0.35435,     0.35536,     0.35636,     0.35736,     0.35836,     0.35936,\n",
       "           0.36036,     0.36136,     0.36236,     0.36336,     0.36436,     0.36537,     0.36637,     0.36737,     0.36837,     0.36937,     0.37037,     0.37137,     0.37237,     0.37337,     0.37437,     0.37538,     0.37638,     0.37738,     0.37838,     0.37938,     0.38038,     0.38138,     0.38238,     0.38338,\n",
       "           0.38438,     0.38539,     0.38639,     0.38739,     0.38839,     0.38939,     0.39039,     0.39139,     0.39239,     0.39339,     0.39439,      0.3954,      0.3964,      0.3974,      0.3984,      0.3994,      0.4004,      0.4014,      0.4024,      0.4034,      0.4044,     0.40541,     0.40641,     0.40741,\n",
       "           0.40841,     0.40941,     0.41041,     0.41141,     0.41241,     0.41341,     0.41441,     0.41542,     0.41642,     0.41742,     0.41842,     0.41942,     0.42042,     0.42142,     0.42242,     0.42342,     0.42442,     0.42543,     0.42643,     0.42743,     0.42843,     0.42943,     0.43043,     0.43143,\n",
       "           0.43243,     0.43343,     0.43443,     0.43544,     0.43644,     0.43744,     0.43844,     0.43944,     0.44044,     0.44144,     0.44244,     0.44344,     0.44444,     0.44545,     0.44645,     0.44745,     0.44845,     0.44945,     0.45045,     0.45145,     0.45245,     0.45345,     0.45445,     0.45546,\n",
       "           0.45646,     0.45746,     0.45846,     0.45946,     0.46046,     0.46146,     0.46246,     0.46346,     0.46446,     0.46547,     0.46647,     0.46747,     0.46847,     0.46947,     0.47047,     0.47147,     0.47247,     0.47347,     0.47447,     0.47548,     0.47648,     0.47748,     0.47848,     0.47948,\n",
       "           0.48048,     0.48148,     0.48248,     0.48348,     0.48448,     0.48549,     0.48649,     0.48749,     0.48849,     0.48949,     0.49049,     0.49149,     0.49249,     0.49349,     0.49449,      0.4955,      0.4965,      0.4975,      0.4985,      0.4995,      0.5005,      0.5015,      0.5025,      0.5035,\n",
       "            0.5045,     0.50551,     0.50651,     0.50751,     0.50851,     0.50951,     0.51051,     0.51151,     0.51251,     0.51351,     0.51451,     0.51552,     0.51652,     0.51752,     0.51852,     0.51952,     0.52052,     0.52152,     0.52252,     0.52352,     0.52452,     0.52553,     0.52653,     0.52753,\n",
       "           0.52853,     0.52953,     0.53053,     0.53153,     0.53253,     0.53353,     0.53453,     0.53554,     0.53654,     0.53754,     0.53854,     0.53954,     0.54054,     0.54154,     0.54254,     0.54354,     0.54454,     0.54555,     0.54655,     0.54755,     0.54855,     0.54955,     0.55055,     0.55155,\n",
       "           0.55255,     0.55355,     0.55455,     0.55556,     0.55656,     0.55756,     0.55856,     0.55956,     0.56056,     0.56156,     0.56256,     0.56356,     0.56456,     0.56557,     0.56657,     0.56757,     0.56857,     0.56957,     0.57057,     0.57157,     0.57257,     0.57357,     0.57457,     0.57558,\n",
       "           0.57658,     0.57758,     0.57858,     0.57958,     0.58058,     0.58158,     0.58258,     0.58358,     0.58458,     0.58559,     0.58659,     0.58759,     0.58859,     0.58959,     0.59059,     0.59159,     0.59259,     0.59359,     0.59459,      0.5956,      0.5966,      0.5976,      0.5986,      0.5996,\n",
       "            0.6006,      0.6016,      0.6026,      0.6036,      0.6046,     0.60561,     0.60661,     0.60761,     0.60861,     0.60961,     0.61061,     0.61161,     0.61261,     0.61361,     0.61461,     0.61562,     0.61662,     0.61762,     0.61862,     0.61962,     0.62062,     0.62162,     0.62262,     0.62362,\n",
       "           0.62462,     0.62563,     0.62663,     0.62763,     0.62863,     0.62963,     0.63063,     0.63163,     0.63263,     0.63363,     0.63463,     0.63564,     0.63664,     0.63764,     0.63864,     0.63964,     0.64064,     0.64164,     0.64264,     0.64364,     0.64464,     0.64565,     0.64665,     0.64765,\n",
       "           0.64865,     0.64965,     0.65065,     0.65165,     0.65265,     0.65365,     0.65465,     0.65566,     0.65666,     0.65766,     0.65866,     0.65966,     0.66066,     0.66166,     0.66266,     0.66366,     0.66466,     0.66567,     0.66667,     0.66767,     0.66867,     0.66967,     0.67067,     0.67167,\n",
       "           0.67267,     0.67367,     0.67467,     0.67568,     0.67668,     0.67768,     0.67868,     0.67968,     0.68068,     0.68168,     0.68268,     0.68368,     0.68468,     0.68569,     0.68669,     0.68769,     0.68869,     0.68969,     0.69069,     0.69169,     0.69269,     0.69369,     0.69469,      0.6957,\n",
       "            0.6967,      0.6977,      0.6987,      0.6997,      0.7007,      0.7017,      0.7027,      0.7037,      0.7047,     0.70571,     0.70671,     0.70771,     0.70871,     0.70971,     0.71071,     0.71171,     0.71271,     0.71371,     0.71471,     0.71572,     0.71672,     0.71772,     0.71872,     0.71972,\n",
       "           0.72072,     0.72172,     0.72272,     0.72372,     0.72472,     0.72573,     0.72673,     0.72773,     0.72873,     0.72973,     0.73073,     0.73173,     0.73273,     0.73373,     0.73473,     0.73574,     0.73674,     0.73774,     0.73874,     0.73974,     0.74074,     0.74174,     0.74274,     0.74374,\n",
       "           0.74474,     0.74575,     0.74675,     0.74775,     0.74875,     0.74975,     0.75075,     0.75175,     0.75275,     0.75375,     0.75475,     0.75576,     0.75676,     0.75776,     0.75876,     0.75976,     0.76076,     0.76176,     0.76276,     0.76376,     0.76476,     0.76577,     0.76677,     0.76777,\n",
       "           0.76877,     0.76977,     0.77077,     0.77177,     0.77277,     0.77377,     0.77477,     0.77578,     0.77678,     0.77778,     0.77878,     0.77978,     0.78078,     0.78178,     0.78278,     0.78378,     0.78478,     0.78579,     0.78679,     0.78779,     0.78879,     0.78979,     0.79079,     0.79179,\n",
       "           0.79279,     0.79379,     0.79479,      0.7958,      0.7968,      0.7978,      0.7988,      0.7998,      0.8008,      0.8018,      0.8028,      0.8038,      0.8048,     0.80581,     0.80681,     0.80781,     0.80881,     0.80981,     0.81081,     0.81181,     0.81281,     0.81381,     0.81481,     0.81582,\n",
       "           0.81682,     0.81782,     0.81882,     0.81982,     0.82082,     0.82182,     0.82282,     0.82382,     0.82482,     0.82583,     0.82683,     0.82783,     0.82883,     0.82983,     0.83083,     0.83183,     0.83283,     0.83383,     0.83483,     0.83584,     0.83684,     0.83784,     0.83884,     0.83984,\n",
       "           0.84084,     0.84184,     0.84284,     0.84384,     0.84484,     0.84585,     0.84685,     0.84785,     0.84885,     0.84985,     0.85085,     0.85185,     0.85285,     0.85385,     0.85485,     0.85586,     0.85686,     0.85786,     0.85886,     0.85986,     0.86086,     0.86186,     0.86286,     0.86386,\n",
       "           0.86486,     0.86587,     0.86687,     0.86787,     0.86887,     0.86987,     0.87087,     0.87187,     0.87287,     0.87387,     0.87487,     0.87588,     0.87688,     0.87788,     0.87888,     0.87988,     0.88088,     0.88188,     0.88288,     0.88388,     0.88488,     0.88589,     0.88689,     0.88789,\n",
       "           0.88889,     0.88989,     0.89089,     0.89189,     0.89289,     0.89389,     0.89489,      0.8959,      0.8969,      0.8979,      0.8989,      0.8999,      0.9009,      0.9019,      0.9029,      0.9039,      0.9049,     0.90591,     0.90691,     0.90791,     0.90891,     0.90991,     0.91091,     0.91191,\n",
       "           0.91291,     0.91391,     0.91491,     0.91592,     0.91692,     0.91792,     0.91892,     0.91992,     0.92092,     0.92192,     0.92292,     0.92392,     0.92492,     0.92593,     0.92693,     0.92793,     0.92893,     0.92993,     0.93093,     0.93193,     0.93293,     0.93393,     0.93493,     0.93594,\n",
       "           0.93694,     0.93794,     0.93894,     0.93994,     0.94094,     0.94194,     0.94294,     0.94394,     0.94494,     0.94595,     0.94695,     0.94795,     0.94895,     0.94995,     0.95095,     0.95195,     0.95295,     0.95395,     0.95495,     0.95596,     0.95696,     0.95796,     0.95896,     0.95996,\n",
       "           0.96096,     0.96196,     0.96296,     0.96396,     0.96496,     0.96597,     0.96697,     0.96797,     0.96897,     0.96997,     0.97097,     0.97197,     0.97297,     0.97397,     0.97497,     0.97598,     0.97698,     0.97798,     0.97898,     0.97998,     0.98098,     0.98198,     0.98298,     0.98398,\n",
       "           0.98498,     0.98599,     0.98699,     0.98799,     0.98899,     0.98999,     0.99099,     0.99199,     0.99299,     0.99399,     0.99499,       0.996,       0.997,       0.998,       0.999,           1]), array([[          1,           1,           1,           1,           1,           1,           1,           1,           1,           1,           1,           1,           1,           1,           1,           1,           1,           1,           1,           1,           1,           1,           1,\n",
       "                  1,           1,           1,           1,           1,           1,           1,           1,           1,           1,           1,           1,           1,           1,           1,           1,           1,           1,           1,           1,           1,           1,           1,\n",
       "                  1,           1,           1,           1,           1,           1,           1,           1,           1,           1,           1,           1,           1,           1,           1,           1,           1,           1,           1,           1,           1,           1,           1,\n",
       "                  1,           1,           1,           1,           1,           1,           1,           1,           1,           1,           1,           1,           1,           1,           1,           1,           1,           1,           1,           1,           1,           1,           1,\n",
       "                  1,           1,           1,           1,           1,           1,           1,           1,           1,           1,           1,           1,           1,           1,           1,           1,           1,           1,           1,           1,           1,           1,           1,\n",
       "                  1,           1,     0.96429,     0.96429,     0.96429,     0.96429,     0.96429,     0.96429,     0.96429,     0.96429,     0.96429,     0.96429,     0.96429,     0.96429,     0.96429,     0.96429,        0.95,        0.95,        0.95,        0.95,        0.95,        0.95,        0.95,\n",
       "               0.95,        0.95,        0.95,        0.95,        0.95,        0.95,        0.95,        0.95,        0.95,        0.95,        0.95,        0.95,        0.95,        0.95,        0.95,        0.95,        0.95,        0.95,        0.95,        0.95,        0.95,        0.95,        0.95,\n",
       "               0.95,        0.95,        0.95,        0.95,        0.95,        0.95,        0.95,        0.95,        0.95,        0.95,        0.95,        0.95,        0.95,        0.95,        0.95,        0.95,        0.95,        0.95,        0.95,        0.95,        0.95,        0.95,        0.95,\n",
       "               0.95,      0.9375,      0.9375,      0.9375,      0.9375,      0.9375,      0.9375,      0.9375,      0.9375,      0.9375,      0.9375,      0.9375,      0.9375,      0.9375,      0.9375,      0.9375,      0.9375,      0.9375,      0.9375,      0.9375,      0.9375,      0.9375,      0.9375,\n",
       "             0.9375,      0.9375,      0.9375,      0.9375,      0.9375,      0.9375,      0.9375,      0.9375,      0.9375,      0.9375,      0.9375,      0.9375,     0.93103,     0.93103,     0.93103,     0.93103,     0.93103,     0.93103,     0.93103,     0.93103,     0.93103,     0.93103,     0.93103,\n",
       "            0.93103,     0.93103,     0.93103,     0.93103,     0.93103,     0.93103,     0.93103,     0.93103,     0.93103,     0.93103,     0.93103,     0.93103,     0.93103,     0.93103,     0.93103,     0.93103,     0.93103,     0.93103,     0.93103,     0.93103,     0.93103,     0.93103,     0.93103,\n",
       "            0.93103,     0.93103,     0.93103,     0.93103,     0.93103,     0.93103,     0.93103,     0.93103,     0.93103,     0.92424,     0.92424,     0.92424,     0.92424,     0.92424,     0.92424,     0.92424,     0.92424,     0.92424,     0.92424,     0.92424,     0.92424,     0.92424,     0.92424,\n",
       "            0.92424,     0.92424,     0.92424,     0.92424,     0.92424,     0.92424,     0.92424,     0.92424,     0.92424,     0.92424,     0.92424,     0.92424,     0.92424,     0.92424,     0.92424,     0.92424,     0.92424,     0.92424,     0.92424,     0.92424,     0.91304,     0.91304,     0.91304,\n",
       "            0.91304,     0.91304,     0.91304,     0.91304,     0.91304,     0.91304,     0.91304,     0.90278,     0.90278,     0.90278,     0.90278,     0.90278,     0.90278,     0.90278,     0.90278,     0.90278,     0.90278,     0.90123,     0.90123,     0.90123,     0.90123,     0.90123,     0.90123,\n",
       "            0.90123,     0.90123,     0.90123,     0.90123,     0.90123,     0.90123,     0.90123,     0.90123,     0.90123,     0.90123,     0.90123,     0.90123,     0.90123,     0.90123,     0.90123,     0.90123,     0.90123,     0.90123,     0.90123,     0.90123,     0.90123,     0.90123,     0.90123,\n",
       "            0.90123,     0.90123,     0.90123,     0.90123,     0.90123,     0.90123,     0.90123,     0.90123,     0.90123,     0.90123,     0.89157,     0.89157,     0.89157,     0.89157,     0.88372,     0.88372,     0.88372,     0.88372,     0.88372,     0.88372,     0.88372,     0.88372,     0.88372,\n",
       "            0.88372,        0.88,        0.88,        0.88,        0.88,        0.88,        0.88,        0.88,        0.88,        0.88,        0.88,        0.88,        0.88,        0.88,        0.88,        0.88,        0.88,        0.88,        0.88,        0.88,        0.88,        0.88,        0.88,\n",
       "               0.88,        0.88,        0.88,        0.88,        0.88,        0.88,        0.88,        0.88,        0.88,        0.88,        0.88,        0.88,        0.88,        0.88,        0.88,        0.88,        0.88,        0.88,        0.88,        0.88,        0.88,        0.88,        0.88,\n",
       "               0.88,        0.88,        0.88,        0.88,        0.88,        0.88,        0.88,        0.88,        0.88,        0.88,        0.88,        0.88,        0.88,     0.87379,     0.87379,     0.87379,     0.87379,     0.87379,     0.87379,     0.87379,     0.87379,     0.87379,     0.87379,\n",
       "            0.86486,     0.86486,     0.86486,     0.86486,     0.86486,     0.86486,     0.86486,     0.86486,     0.86486,     0.86486,     0.86486,     0.86486,     0.86486,     0.86486,     0.86486,     0.86486,     0.86486,     0.86486,     0.86486,     0.86486,     0.86486,     0.86486,     0.86486,\n",
       "            0.86486,     0.86486,     0.86486,     0.86486,     0.86486,     0.86486,     0.86087,     0.86087,     0.86087,     0.86087,     0.86087,     0.86087,     0.86087,     0.86087,     0.86087,     0.86087,     0.86087,     0.86087,     0.86087,     0.86087,     0.86087,     0.85484,     0.85484,\n",
       "            0.85484,     0.85484,     0.85484,     0.85484,     0.85484,     0.85484,     0.85484,     0.85484,     0.85484,     0.85484,     0.85484,     0.85484,     0.85484,     0.85484,     0.85484,     0.85484,     0.85484,     0.85484,     0.85484,     0.85484,     0.85484,     0.85484,     0.85484,\n",
       "            0.85484,     0.85484,     0.85484,     0.85484,     0.85484,     0.85484,     0.85484,     0.85484,     0.85484,     0.85039,     0.85039,     0.85039,     0.85039,     0.85039,     0.85039,     0.85039,     0.85039,     0.85039,     0.83969,     0.83969,     0.83969,     0.83969,     0.83969,\n",
       "            0.83969,     0.83969,     0.83969,     0.83969,     0.83969,     0.81884,     0.81884,     0.81884,     0.81884,     0.81884,     0.81884,     0.81884,     0.81884,     0.81884,     0.81884,     0.81884,     0.81884,     0.81884,     0.81884,      0.8156,      0.8156,      0.8156,      0.8156,\n",
       "             0.8156,      0.8156,      0.8156,      0.8156,      0.8156,      0.8156,     0.81507,     0.81507,     0.81507,     0.81507,     0.81507,     0.81507,     0.81507,     0.81507,     0.81507,     0.81507,     0.81507,     0.81507,     0.81507,     0.81507,     0.81507,     0.81507,     0.81507,\n",
       "            0.81507,     0.81507,     0.81507,     0.80921,     0.80921,     0.80921,     0.80921,     0.80921,     0.80921,     0.80921,     0.80921,     0.80921,     0.80921,     0.80921,     0.80921,     0.80921,     0.80921,     0.80921,     0.80921,     0.80921,     0.80921,     0.80921,     0.79012,\n",
       "            0.79012,     0.79012,     0.79012,     0.79012,     0.79012,     0.79012,     0.79012,     0.79012,     0.79012,     0.79012,     0.79012,     0.79012,     0.79012,     0.79012,     0.79012,     0.79012,     0.79012,     0.79012,     0.79012,     0.79012,     0.79012,     0.79012,     0.79012,\n",
       "            0.77647,     0.77647,     0.77647,     0.77647,     0.77647,     0.77647,     0.77647,     0.77647,     0.77647,     0.77647,     0.77647,     0.77647,     0.77647,     0.77647,     0.77647,     0.77647,     0.77647,     0.77647,     0.77647,     0.77647,     0.77011,     0.77011,     0.77011,\n",
       "            0.77011,     0.77011,     0.77011,     0.77011,     0.77011,     0.77011,     0.76536,     0.76536,     0.76536,     0.76536,     0.76536,     0.76536,     0.76536,     0.76536,     0.76536,     0.76536,     0.76536,     0.76536,     0.76536,     0.76536,     0.76536,        0.75,        0.75,\n",
       "               0.75,        0.75,        0.75,     0.73936,     0.73936,     0.73936,     0.73936,     0.73936,     0.71429,     0.71429,     0.71429,     0.71429,     0.71287,     0.71287,     0.71287,     0.71287,     0.71287,     0.71287,     0.71287,     0.71287,     0.71287,     0.71287,     0.71287,\n",
       "            0.71287,     0.71287,     0.71287,     0.71287,     0.71287,     0.71287,     0.71287,     0.71287,     0.71287,     0.70732,     0.70732,     0.70732,     0.70732,     0.70732,     0.67907,     0.67907,     0.67907,     0.67907,     0.67907,      0.6758,      0.6758,      0.6758,      0.6758,\n",
       "             0.6758,      0.6758,      0.6758,      0.6758,      0.6758,     0.67117,     0.67117,     0.67117,     0.67117,     0.67117,     0.66667,     0.66667,     0.66667,     0.66667,     0.66667,     0.66228,     0.66228,     0.66228,     0.66228,     0.66228,     0.64681,     0.64681,     0.64681,\n",
       "            0.64681,     0.64681,     0.64435,     0.64435,     0.64435,     0.64435,     0.64435,     0.64435,     0.64435,     0.64435,     0.64435,     0.64344,     0.64344,     0.64344,     0.64344,     0.64344,     0.64344,     0.64344,     0.64344,     0.64344,     0.64344,     0.64344,     0.64344,\n",
       "            0.64344,     0.64344,     0.64344,       0.632,       0.632,       0.632,       0.632,       0.632,     0.62109,     0.62109,     0.62109,     0.62109,     0.62109,     0.61538,     0.61538,     0.61538,     0.61538,     0.60985,     0.60985,     0.60985,     0.60985,     0.60985,     0.59341,\n",
       "            0.59341,     0.59341,     0.59341,     0.59341,     0.57394,     0.57394,     0.57394,     0.57394,     0.57394,     0.56747,     0.56747,     0.56747,     0.56747,     0.56747,     0.56507,     0.56507,     0.56507,     0.56507,     0.56507,     0.54072,     0.54072,     0.54072,     0.54072,\n",
       "            0.54072,      0.5076,      0.5076,      0.5076,      0.5076,     0.50755,     0.50755,     0.50755,     0.50755,     0.50755,     0.48159,     0.48159,     0.48159,     0.48159,     0.48159,     0.48159,     0.48159,     0.48159,     0.48159,     0.48159,     0.45968,     0.45968,     0.45968,\n",
       "            0.45968,     0.45968,        0.43,        0.43,        0.43,        0.43,        0.43,     0.37939,     0.37939,     0.37939,     0.37939,     0.30634,     0.30634,     0.30634,     0.30634,     0.30634,      0.2324,      0.2324,      0.2324,      0.2324,      0.2324,     0.20853,     0.20853,\n",
       "            0.20853,     0.20853,     0.20853,     0.19843,     0.19843,     0.19843,     0.19843,     0.19843,      0.1914,      0.1914,      0.1914,      0.1914,      0.1914,     0.15131,     0.15131,     0.15131,     0.15131,     0.15131,     0.13709,     0.13709,     0.13709,     0.13709,     0.12091,\n",
       "            0.12091,     0.12091,     0.12091,     0.12091,    0.098659,    0.097844,    0.097028,    0.096213,    0.095398,    0.094582,    0.093767,    0.092952,    0.092136,    0.091321,    0.090505,     0.08969,    0.088875,    0.088059,    0.087244,    0.086429,    0.085613,    0.084798,    0.083983,\n",
       "           0.083167,    0.082352,    0.081536,    0.080721,    0.079906,     0.07909,    0.078275,     0.07746,    0.076644,    0.075829,    0.075014,    0.074198,    0.073383,    0.072567,    0.071752,    0.070937,    0.070121,    0.069306,    0.068491,    0.067675,     0.06686,    0.066045,    0.065229,\n",
       "           0.064414,    0.063598,    0.062783,    0.061968,    0.061152,    0.060337,    0.059522,    0.058706,    0.057891,    0.057076,     0.05626,    0.055445,    0.054629,    0.053814,    0.052999,    0.052183,    0.051368,    0.050553,    0.049737,    0.048922,    0.048107,    0.047291,    0.046476,\n",
       "            0.04566,    0.044845,     0.04403,    0.043214,    0.042399,    0.041584,    0.040768,    0.039953,    0.039138,    0.038322,    0.037507,    0.036691,    0.035876,    0.035061,    0.034245,     0.03343,    0.032615,    0.031799,    0.030984,    0.030168,    0.029353,    0.028538,    0.027722,\n",
       "           0.026907,    0.026092,    0.025276,    0.024461,    0.023646,     0.02283,    0.022015,    0.021199,    0.020384,    0.019569,    0.018753,    0.017938,    0.017123,    0.016307,    0.015492,    0.014677,    0.013861,    0.013046,     0.01223,    0.011415,      0.0106,   0.0097844,    0.008969,\n",
       "          0.0081536,   0.0073383,   0.0065229,   0.0057076,   0.0048922,   0.0040768,   0.0032615,   0.0024461,   0.0016307,  0.00081536,           0]]), 'Recall', 'Precision'], [array([          0,    0.001001,    0.002002,    0.003003,    0.004004,    0.005005,    0.006006,    0.007007,    0.008008,    0.009009,     0.01001,    0.011011,    0.012012,    0.013013,    0.014014,    0.015015,    0.016016,    0.017017,    0.018018,    0.019019,     0.02002,    0.021021,    0.022022,    0.023023,\n",
       "          0.024024,    0.025025,    0.026026,    0.027027,    0.028028,    0.029029,     0.03003,    0.031031,    0.032032,    0.033033,    0.034034,    0.035035,    0.036036,    0.037037,    0.038038,    0.039039,     0.04004,    0.041041,    0.042042,    0.043043,    0.044044,    0.045045,    0.046046,    0.047047,\n",
       "          0.048048,    0.049049,     0.05005,    0.051051,    0.052052,    0.053053,    0.054054,    0.055055,    0.056056,    0.057057,    0.058058,    0.059059,     0.06006,    0.061061,    0.062062,    0.063063,    0.064064,    0.065065,    0.066066,    0.067067,    0.068068,    0.069069,     0.07007,    0.071071,\n",
       "          0.072072,    0.073073,    0.074074,    0.075075,    0.076076,    0.077077,    0.078078,    0.079079,     0.08008,    0.081081,    0.082082,    0.083083,    0.084084,    0.085085,    0.086086,    0.087087,    0.088088,    0.089089,     0.09009,    0.091091,    0.092092,    0.093093,    0.094094,    0.095095,\n",
       "          0.096096,    0.097097,    0.098098,    0.099099,      0.1001,      0.1011,      0.1021,      0.1031,      0.1041,     0.10511,     0.10611,     0.10711,     0.10811,     0.10911,     0.11011,     0.11111,     0.11211,     0.11311,     0.11411,     0.11512,     0.11612,     0.11712,     0.11812,     0.11912,\n",
       "           0.12012,     0.12112,     0.12212,     0.12312,     0.12412,     0.12513,     0.12613,     0.12713,     0.12813,     0.12913,     0.13013,     0.13113,     0.13213,     0.13313,     0.13413,     0.13514,     0.13614,     0.13714,     0.13814,     0.13914,     0.14014,     0.14114,     0.14214,     0.14314,\n",
       "           0.14414,     0.14515,     0.14615,     0.14715,     0.14815,     0.14915,     0.15015,     0.15115,     0.15215,     0.15315,     0.15415,     0.15516,     0.15616,     0.15716,     0.15816,     0.15916,     0.16016,     0.16116,     0.16216,     0.16316,     0.16416,     0.16517,     0.16617,     0.16717,\n",
       "           0.16817,     0.16917,     0.17017,     0.17117,     0.17217,     0.17317,     0.17417,     0.17518,     0.17618,     0.17718,     0.17818,     0.17918,     0.18018,     0.18118,     0.18218,     0.18318,     0.18418,     0.18519,     0.18619,     0.18719,     0.18819,     0.18919,     0.19019,     0.19119,\n",
       "           0.19219,     0.19319,     0.19419,      0.1952,      0.1962,      0.1972,      0.1982,      0.1992,      0.2002,      0.2012,      0.2022,      0.2032,      0.2042,     0.20521,     0.20621,     0.20721,     0.20821,     0.20921,     0.21021,     0.21121,     0.21221,     0.21321,     0.21421,     0.21522,\n",
       "           0.21622,     0.21722,     0.21822,     0.21922,     0.22022,     0.22122,     0.22222,     0.22322,     0.22422,     0.22523,     0.22623,     0.22723,     0.22823,     0.22923,     0.23023,     0.23123,     0.23223,     0.23323,     0.23423,     0.23524,     0.23624,     0.23724,     0.23824,     0.23924,\n",
       "           0.24024,     0.24124,     0.24224,     0.24324,     0.24424,     0.24525,     0.24625,     0.24725,     0.24825,     0.24925,     0.25025,     0.25125,     0.25225,     0.25325,     0.25425,     0.25526,     0.25626,     0.25726,     0.25826,     0.25926,     0.26026,     0.26126,     0.26226,     0.26326,\n",
       "           0.26426,     0.26527,     0.26627,     0.26727,     0.26827,     0.26927,     0.27027,     0.27127,     0.27227,     0.27327,     0.27427,     0.27528,     0.27628,     0.27728,     0.27828,     0.27928,     0.28028,     0.28128,     0.28228,     0.28328,     0.28428,     0.28529,     0.28629,     0.28729,\n",
       "           0.28829,     0.28929,     0.29029,     0.29129,     0.29229,     0.29329,     0.29429,      0.2953,      0.2963,      0.2973,      0.2983,      0.2993,      0.3003,      0.3013,      0.3023,      0.3033,      0.3043,     0.30531,     0.30631,     0.30731,     0.30831,     0.30931,     0.31031,     0.31131,\n",
       "           0.31231,     0.31331,     0.31431,     0.31532,     0.31632,     0.31732,     0.31832,     0.31932,     0.32032,     0.32132,     0.32232,     0.32332,     0.32432,     0.32533,     0.32633,     0.32733,     0.32833,     0.32933,     0.33033,     0.33133,     0.33233,     0.33333,     0.33433,     0.33534,\n",
       "           0.33634,     0.33734,     0.33834,     0.33934,     0.34034,     0.34134,     0.34234,     0.34334,     0.34434,     0.34535,     0.34635,     0.34735,     0.34835,     0.34935,     0.35035,     0.35135,     0.35235,     0.35335,     0.35435,     0.35536,     0.35636,     0.35736,     0.35836,     0.35936,\n",
       "           0.36036,     0.36136,     0.36236,     0.36336,     0.36436,     0.36537,     0.36637,     0.36737,     0.36837,     0.36937,     0.37037,     0.37137,     0.37237,     0.37337,     0.37437,     0.37538,     0.37638,     0.37738,     0.37838,     0.37938,     0.38038,     0.38138,     0.38238,     0.38338,\n",
       "           0.38438,     0.38539,     0.38639,     0.38739,     0.38839,     0.38939,     0.39039,     0.39139,     0.39239,     0.39339,     0.39439,      0.3954,      0.3964,      0.3974,      0.3984,      0.3994,      0.4004,      0.4014,      0.4024,      0.4034,      0.4044,     0.40541,     0.40641,     0.40741,\n",
       "           0.40841,     0.40941,     0.41041,     0.41141,     0.41241,     0.41341,     0.41441,     0.41542,     0.41642,     0.41742,     0.41842,     0.41942,     0.42042,     0.42142,     0.42242,     0.42342,     0.42442,     0.42543,     0.42643,     0.42743,     0.42843,     0.42943,     0.43043,     0.43143,\n",
       "           0.43243,     0.43343,     0.43443,     0.43544,     0.43644,     0.43744,     0.43844,     0.43944,     0.44044,     0.44144,     0.44244,     0.44344,     0.44444,     0.44545,     0.44645,     0.44745,     0.44845,     0.44945,     0.45045,     0.45145,     0.45245,     0.45345,     0.45445,     0.45546,\n",
       "           0.45646,     0.45746,     0.45846,     0.45946,     0.46046,     0.46146,     0.46246,     0.46346,     0.46446,     0.46547,     0.46647,     0.46747,     0.46847,     0.46947,     0.47047,     0.47147,     0.47247,     0.47347,     0.47447,     0.47548,     0.47648,     0.47748,     0.47848,     0.47948,\n",
       "           0.48048,     0.48148,     0.48248,     0.48348,     0.48448,     0.48549,     0.48649,     0.48749,     0.48849,     0.48949,     0.49049,     0.49149,     0.49249,     0.49349,     0.49449,      0.4955,      0.4965,      0.4975,      0.4985,      0.4995,      0.5005,      0.5015,      0.5025,      0.5035,\n",
       "            0.5045,     0.50551,     0.50651,     0.50751,     0.50851,     0.50951,     0.51051,     0.51151,     0.51251,     0.51351,     0.51451,     0.51552,     0.51652,     0.51752,     0.51852,     0.51952,     0.52052,     0.52152,     0.52252,     0.52352,     0.52452,     0.52553,     0.52653,     0.52753,\n",
       "           0.52853,     0.52953,     0.53053,     0.53153,     0.53253,     0.53353,     0.53453,     0.53554,     0.53654,     0.53754,     0.53854,     0.53954,     0.54054,     0.54154,     0.54254,     0.54354,     0.54454,     0.54555,     0.54655,     0.54755,     0.54855,     0.54955,     0.55055,     0.55155,\n",
       "           0.55255,     0.55355,     0.55455,     0.55556,     0.55656,     0.55756,     0.55856,     0.55956,     0.56056,     0.56156,     0.56256,     0.56356,     0.56456,     0.56557,     0.56657,     0.56757,     0.56857,     0.56957,     0.57057,     0.57157,     0.57257,     0.57357,     0.57457,     0.57558,\n",
       "           0.57658,     0.57758,     0.57858,     0.57958,     0.58058,     0.58158,     0.58258,     0.58358,     0.58458,     0.58559,     0.58659,     0.58759,     0.58859,     0.58959,     0.59059,     0.59159,     0.59259,     0.59359,     0.59459,      0.5956,      0.5966,      0.5976,      0.5986,      0.5996,\n",
       "            0.6006,      0.6016,      0.6026,      0.6036,      0.6046,     0.60561,     0.60661,     0.60761,     0.60861,     0.60961,     0.61061,     0.61161,     0.61261,     0.61361,     0.61461,     0.61562,     0.61662,     0.61762,     0.61862,     0.61962,     0.62062,     0.62162,     0.62262,     0.62362,\n",
       "           0.62462,     0.62563,     0.62663,     0.62763,     0.62863,     0.62963,     0.63063,     0.63163,     0.63263,     0.63363,     0.63463,     0.63564,     0.63664,     0.63764,     0.63864,     0.63964,     0.64064,     0.64164,     0.64264,     0.64364,     0.64464,     0.64565,     0.64665,     0.64765,\n",
       "           0.64865,     0.64965,     0.65065,     0.65165,     0.65265,     0.65365,     0.65465,     0.65566,     0.65666,     0.65766,     0.65866,     0.65966,     0.66066,     0.66166,     0.66266,     0.66366,     0.66466,     0.66567,     0.66667,     0.66767,     0.66867,     0.66967,     0.67067,     0.67167,\n",
       "           0.67267,     0.67367,     0.67467,     0.67568,     0.67668,     0.67768,     0.67868,     0.67968,     0.68068,     0.68168,     0.68268,     0.68368,     0.68468,     0.68569,     0.68669,     0.68769,     0.68869,     0.68969,     0.69069,     0.69169,     0.69269,     0.69369,     0.69469,      0.6957,\n",
       "            0.6967,      0.6977,      0.6987,      0.6997,      0.7007,      0.7017,      0.7027,      0.7037,      0.7047,     0.70571,     0.70671,     0.70771,     0.70871,     0.70971,     0.71071,     0.71171,     0.71271,     0.71371,     0.71471,     0.71572,     0.71672,     0.71772,     0.71872,     0.71972,\n",
       "           0.72072,     0.72172,     0.72272,     0.72372,     0.72472,     0.72573,     0.72673,     0.72773,     0.72873,     0.72973,     0.73073,     0.73173,     0.73273,     0.73373,     0.73473,     0.73574,     0.73674,     0.73774,     0.73874,     0.73974,     0.74074,     0.74174,     0.74274,     0.74374,\n",
       "           0.74474,     0.74575,     0.74675,     0.74775,     0.74875,     0.74975,     0.75075,     0.75175,     0.75275,     0.75375,     0.75475,     0.75576,     0.75676,     0.75776,     0.75876,     0.75976,     0.76076,     0.76176,     0.76276,     0.76376,     0.76476,     0.76577,     0.76677,     0.76777,\n",
       "           0.76877,     0.76977,     0.77077,     0.77177,     0.77277,     0.77377,     0.77477,     0.77578,     0.77678,     0.77778,     0.77878,     0.77978,     0.78078,     0.78178,     0.78278,     0.78378,     0.78478,     0.78579,     0.78679,     0.78779,     0.78879,     0.78979,     0.79079,     0.79179,\n",
       "           0.79279,     0.79379,     0.79479,      0.7958,      0.7968,      0.7978,      0.7988,      0.7998,      0.8008,      0.8018,      0.8028,      0.8038,      0.8048,     0.80581,     0.80681,     0.80781,     0.80881,     0.80981,     0.81081,     0.81181,     0.81281,     0.81381,     0.81481,     0.81582,\n",
       "           0.81682,     0.81782,     0.81882,     0.81982,     0.82082,     0.82182,     0.82282,     0.82382,     0.82482,     0.82583,     0.82683,     0.82783,     0.82883,     0.82983,     0.83083,     0.83183,     0.83283,     0.83383,     0.83483,     0.83584,     0.83684,     0.83784,     0.83884,     0.83984,\n",
       "           0.84084,     0.84184,     0.84284,     0.84384,     0.84484,     0.84585,     0.84685,     0.84785,     0.84885,     0.84985,     0.85085,     0.85185,     0.85285,     0.85385,     0.85485,     0.85586,     0.85686,     0.85786,     0.85886,     0.85986,     0.86086,     0.86186,     0.86286,     0.86386,\n",
       "           0.86486,     0.86587,     0.86687,     0.86787,     0.86887,     0.86987,     0.87087,     0.87187,     0.87287,     0.87387,     0.87487,     0.87588,     0.87688,     0.87788,     0.87888,     0.87988,     0.88088,     0.88188,     0.88288,     0.88388,     0.88488,     0.88589,     0.88689,     0.88789,\n",
       "           0.88889,     0.88989,     0.89089,     0.89189,     0.89289,     0.89389,     0.89489,      0.8959,      0.8969,      0.8979,      0.8989,      0.8999,      0.9009,      0.9019,      0.9029,      0.9039,      0.9049,     0.90591,     0.90691,     0.90791,     0.90891,     0.90991,     0.91091,     0.91191,\n",
       "           0.91291,     0.91391,     0.91491,     0.91592,     0.91692,     0.91792,     0.91892,     0.91992,     0.92092,     0.92192,     0.92292,     0.92392,     0.92492,     0.92593,     0.92693,     0.92793,     0.92893,     0.92993,     0.93093,     0.93193,     0.93293,     0.93393,     0.93493,     0.93594,\n",
       "           0.93694,     0.93794,     0.93894,     0.93994,     0.94094,     0.94194,     0.94294,     0.94394,     0.94494,     0.94595,     0.94695,     0.94795,     0.94895,     0.94995,     0.95095,     0.95195,     0.95295,     0.95395,     0.95495,     0.95596,     0.95696,     0.95796,     0.95896,     0.95996,\n",
       "           0.96096,     0.96196,     0.96296,     0.96396,     0.96496,     0.96597,     0.96697,     0.96797,     0.96897,     0.96997,     0.97097,     0.97197,     0.97297,     0.97397,     0.97497,     0.97598,     0.97698,     0.97798,     0.97898,     0.97998,     0.98098,     0.98198,     0.98298,     0.98398,\n",
       "           0.98498,     0.98599,     0.98699,     0.98799,     0.98899,     0.98999,     0.99099,     0.99199,     0.99299,     0.99399,     0.99499,       0.996,       0.997,       0.998,       0.999,           1]), array([[    0.17771,     0.17771,     0.24998,      0.3022,     0.33586,     0.36368,     0.38201,     0.39813,     0.41793,      0.4298,     0.44388,     0.45484,     0.46825,     0.47688,     0.48497,     0.49713,     0.51205,     0.51857,     0.52147,     0.52502,     0.53708,       0.542,     0.54772,\n",
       "            0.55571,     0.56125,      0.5656,     0.56924,     0.57491,     0.57876,     0.58445,     0.59045,     0.59183,     0.59747,     0.59956,     0.60415,     0.60527,     0.60732,     0.60679,     0.60783,     0.60863,     0.61284,     0.61628,     0.61792,      0.6203,     0.62114,     0.62247,\n",
       "            0.62315,     0.62427,     0.62528,     0.62434,     0.62339,     0.62227,     0.62447,     0.62645,      0.6273,     0.63153,     0.63388,     0.63452,      0.6356,     0.63703,     0.64076,       0.643,     0.64411,      0.6452,      0.6461,     0.64667,     0.64751,     0.64816,     0.65092,\n",
       "             0.6531,     0.65737,     0.66011,     0.66207,     0.66177,     0.66013,      0.6616,     0.66259,     0.66143,     0.66292,      0.6641,     0.66503,     0.66265,     0.66311,     0.66357,     0.66443,     0.66599,     0.66808,     0.66852,     0.66897,     0.66941,     0.67097,     0.67152,\n",
       "            0.67206,     0.67401,     0.67539,     0.67596,     0.67975,     0.68079,     0.68131,     0.68184,     0.68241,     0.68309,     0.68236,     0.68269,     0.68303,     0.68336,     0.68369,     0.68557,     0.68601,     0.68645,     0.68593,     0.68415,     0.68624,     0.68822,     0.68717,\n",
       "            0.68597,     0.68757,     0.68983,     0.69111,     0.69282,     0.69105,     0.69246,     0.69466,     0.69502,     0.69534,     0.69567,       0.696,     0.69634,     0.69669,     0.69704,     0.69739,     0.69774,      0.6972,     0.69655,     0.69591,     0.69527,     0.69436,     0.69303,\n",
       "            0.69217,     0.69323,     0.69131,     0.69166,     0.69105,     0.69043,     0.68981,     0.68919,     0.68832,     0.68745,     0.68659,     0.68872,     0.68702,     0.68965,     0.69064,     0.69269,     0.69309,     0.69348,     0.69388,     0.69426,     0.69444,     0.69462,     0.69479,\n",
       "            0.69497,     0.69515,     0.69533,      0.6955,     0.69568,     0.69582,      0.6947,     0.69358,     0.69301,      0.6935,     0.69398,     0.69446,     0.69482,     0.69518,     0.69554,     0.69589,     0.69471,     0.69409,     0.69575,      0.6961,     0.69584,     0.69558,     0.69532,\n",
       "            0.69506,      0.6948,     0.69454,     0.69428,     0.69402,     0.69375,     0.69349,     0.69323,     0.69369,     0.69423,     0.69476,     0.69509,     0.69538,     0.69567,     0.69596,     0.69625,     0.69319,     0.69238,     0.69156,     0.69074,     0.69094,     0.69207,     0.69259,\n",
       "            0.69311,     0.69341,     0.69109,     0.69095,     0.69159,     0.69384,      0.6942,     0.69456,     0.69492,     0.69528,     0.69693,     0.69728,     0.69746,     0.69763,     0.69781,     0.69799,     0.69816,     0.69834,     0.69852,     0.69869,     0.69892,     0.69923,     0.69954,\n",
       "            0.69985,     0.70016,     0.70046,     0.70156,     0.70246,     0.70307,     0.70368,     0.70536,     0.70257,     0.70297,     0.70337,     0.70378,     0.70416,      0.7043,     0.70444,     0.70458,     0.70472,     0.70486,       0.705,     0.70514,     0.70528,     0.70541,     0.70555,\n",
       "            0.70569,     0.70583,     0.70575,     0.70553,      0.7053,     0.70508,     0.70486,     0.70464,     0.70442,      0.7042,     0.70398,     0.70376,     0.70354,     0.70332,      0.7031,     0.70287,     0.70258,     0.70206,     0.70154,     0.70101,     0.70049,     0.69996,     0.69938,\n",
       "            0.69837,     0.69735,     0.69634,      0.6955,     0.69468,     0.69385,     0.69313,     0.69431,     0.69584,     0.69634,     0.69605,     0.69576,     0.69547,     0.69518,     0.69489,      0.6946,     0.69431,     0.69402,     0.69373,     0.69344,     0.69421,     0.69524,      0.6956,\n",
       "            0.69595,     0.69631,     0.69667,     0.69731,     0.69803,     0.70033,     0.70054,     0.70075,     0.70097,     0.70118,     0.70139,     0.70161,     0.70182,     0.70382,     0.70423,     0.70464,     0.70504,     0.70545,      0.7043,     0.70237,      0.7033,     0.70435,      0.7054,\n",
       "            0.70723,     0.70493,     0.70499,     0.70574,     0.70631,      0.7066,      0.7069,      0.7072,      0.7075,      0.7078,     0.70877,     0.70992,     0.71006,     0.71021,     0.71035,     0.71049,     0.71063,     0.71077,     0.71091,     0.71105,     0.71119,     0.71133,     0.71146,\n",
       "             0.7116,     0.71032,     0.70473,     0.70417,     0.70361,     0.70306,      0.7025,     0.70195,      0.7017,      0.7021,      0.7025,     0.70289,     0.70329,       0.705,     0.70462,     0.70425,     0.70387,     0.70349,     0.70311,     0.70273,     0.70235,     0.70197,     0.70051,\n",
       "            0.69849,     0.69869,     0.69899,     0.69928,     0.69957,     0.69986,     0.70015,     0.70047,      0.7008,     0.70114,     0.70147,      0.7018,     0.70212,     0.70175,     0.70138,     0.70101,     0.70063,     0.70026,     0.69988,     0.69951,     0.69914,     0.69876,     0.69169,\n",
       "            0.69134,       0.691,     0.69066,     0.69031,     0.68997,     0.68963,     0.68928,     0.68894,      0.6886,     0.68825,     0.68834,     0.68856,     0.68877,     0.68899,     0.68921,     0.68943,     0.68964,     0.68986,     0.69047,     0.69198,     0.69231,     0.69265,     0.69298,\n",
       "            0.69331,     0.69365,     0.69418,     0.69483,     0.69547,       0.695,     0.69409,     0.69318,     0.69227,     0.69039,     0.68833,     0.68649,     0.68485,     0.68432,     0.68379,     0.68326,     0.68273,      0.6822,     0.68167,     0.68099,        0.68,     0.67901,     0.67801,\n",
       "            0.67794,     0.67833,     0.67871,      0.6791,     0.67948,     0.68109,     0.68176,     0.68215,     0.68253,     0.68292,     0.68331,     0.68425,     0.68522,     0.68552,     0.68582,     0.68611,      0.6864,     0.68669,     0.68698,      0.6864,     0.68451,     0.68334,     0.68305,\n",
       "            0.68276,     0.68247,     0.68218,     0.68189,     0.68159,      0.6813,     0.68101,     0.68072,     0.68043,     0.68014,     0.67984,     0.67685,     0.67555,     0.67491,     0.67427,     0.67364,       0.673,     0.67236,     0.67255,     0.67279,     0.67304,     0.67328,     0.67352,\n",
       "            0.67377,     0.67401,     0.67429,     0.67478,     0.67527,     0.67576,     0.67569,     0.67376,     0.66466,      0.6643,     0.66394,     0.66359,     0.66323,     0.66287,     0.66251,     0.66216,      0.6618,     0.66144,     0.66108,     0.66174,     0.65976,     0.65658,     0.65448,\n",
       "            0.65176,     0.64974,     0.64842,      0.6474,     0.64639,     0.64537,      0.6467,     0.65058,     0.65131,      0.6518,      0.6523,     0.65279,     0.65205,     0.65123,     0.65041,     0.64958,      0.6488,     0.64858,     0.64836,     0.64814,     0.64793,     0.64771,     0.64749,\n",
       "            0.64728,     0.64706,     0.64684,     0.64662,      0.6464,     0.64619,     0.64597,     0.64575,     0.64553,     0.64532,      0.6451,     0.64488,     0.64488,     0.64508,     0.64528,     0.64548,     0.64567,     0.64587,     0.64607,     0.64627,     0.64646,     0.64666,     0.64701,\n",
       "            0.64741,     0.64781,     0.64821,     0.64861,     0.64782,      0.6469,     0.64597,     0.64504,     0.64248,     0.64153,     0.64196,     0.64111,     0.64027,     0.63942,     0.63858,     0.63271,     0.63057,     0.62894,      0.6275,     0.62606,     0.62508,     0.62421,     0.62335,\n",
       "            0.62248,     0.62161,     0.61326,     0.61484,      0.6168,     0.61124,     0.60997,     0.60869,     0.60764,     0.60674,     0.60584,     0.60494,     0.60405,       0.604,     0.60433,     0.60465,     0.60498,      0.6053,     0.60563,     0.60377,     0.60151,     0.59174,      0.5902,\n",
       "            0.58866,     0.58712,     0.58558,     0.58403,     0.58294,     0.58222,      0.5815,     0.58079,     0.58007,     0.57935,     0.57898,     0.57994,      0.5809,     0.58186,     0.58216,     0.58098,     0.57981,     0.57863,     0.57737,     0.57602,     0.57466,      0.5733,     0.57514,\n",
       "            0.57355,     0.57195,     0.56099,     0.56024,     0.55949,     0.55874,     0.55799,     0.55723,     0.55648,     0.55262,     0.54768,     0.54129,     0.53962,     0.53795,     0.53707,     0.53748,      0.5379,     0.53831,     0.53872,     0.53622,     0.53373,     0.53227,     0.53082,\n",
       "            0.52936,      0.5281,     0.52696,     0.52582,     0.52468,      0.5232,     0.52062,     0.51929,     0.51482,     0.51272,     0.51062,     0.51114,     0.51204,     0.50742,     0.50794,     0.50846,       0.503,     0.50203,     0.50105,     0.50007,     0.49909,     0.49281,     0.49172,\n",
       "            0.49063,     0.48954,     0.48844,     0.47094,     0.46907,      0.4672,     0.46612,     0.46661,      0.4671,     0.46759,     0.45677,     0.45734,      0.4579,     0.45246,     0.44692,     0.44777,     0.44748,     0.44162,     0.43965,     0.43768,     0.42853,     0.41819,     0.41257,\n",
       "            0.40848,     0.40816,     0.40895,      0.3959,     0.39275,     0.37972,     0.37261,     0.35974,     0.35523,     0.35113,       0.339,     0.32109,     0.31647,     0.31336,     0.31137,     0.30937,     0.30783,     0.30869,     0.30647,     0.30293,     0.28445,     0.27246,     0.26754,\n",
       "            0.25634,     0.25259,     0.24772,     0.23007,     0.23073,     0.22588,     0.20802,     0.20848,     0.19802,     0.18484,      0.1821,     0.17936,     0.17661,     0.17384,     0.17107,     0.16853,     0.16686,     0.16519,     0.16351,     0.16183,     0.15057,     0.14488,     0.12558,\n",
       "            0.12364,     0.12169,     0.11974,     0.11589,     0.11007,     0.10896,     0.10785,     0.10673,     0.10562,      0.1045,     0.10338,     0.10226,     0.10074,    0.097748,    0.094743,    0.092016,    0.090001,    0.087982,    0.085959,    0.083931,    0.071454,    0.067745,     0.05603,\n",
       "           0.054776,     0.05352,    0.052262,    0.051003,    0.049742,     0.04848,     0.04706,    0.044685,    0.042304,    0.039917,     0.02864,    0.028356,    0.028071,    0.027787,    0.027502,    0.027217,    0.026933,    0.026648,    0.026363,    0.026078,    0.025793,    0.025507,    0.025222,\n",
       "           0.024937,    0.024651,    0.024366,     0.02408,    0.023794,    0.023508,    0.023222,    0.022936,     0.02265,    0.022364,    0.022078,    0.021792,    0.021505,    0.021219,    0.020932,    0.020646,    0.020359,    0.020072,    0.019785,    0.019498,     0.01912,    0.017491,     0.01586,\n",
       "           0.014226,     0.01259,    0.010951,           0,           0,           0,           0,           0,           0,           0,           0,           0,           0,           0,           0,           0,           0,           0,           0,           0,           0,           0,           0,\n",
       "                  0,           0,           0,           0,           0,           0,           0,           0,           0,           0,           0,           0,           0,           0,           0,           0,           0,           0,           0,           0,           0,           0,           0,\n",
       "                  0,           0,           0,           0,           0,           0,           0,           0,           0,           0,           0,           0,           0,           0,           0,           0,           0,           0,           0,           0,           0,           0,           0,\n",
       "                  0,           0,           0,           0,           0,           0,           0,           0,           0,           0,           0,           0,           0,           0,           0,           0,           0,           0,           0,           0,           0,           0,           0,\n",
       "                  0,           0,           0,           0,           0,           0,           0,           0,           0,           0,           0,           0,           0,           0,           0,           0,           0,           0,           0,           0,           0,           0,           0,\n",
       "                  0,           0,           0,           0,           0,           0,           0,           0,           0,           0,           0,           0,           0,           0,           0,           0,           0,           0,           0,           0,           0,           0,           0,\n",
       "                  0,           0,           0,           0,           0,           0,           0,           0,           0,           0,           0,           0,           0,           0,           0,           0,           0,           0,           0,           0,           0,           0,           0,\n",
       "                  0,           0,           0,           0,           0,           0,           0,           0,           0,           0,           0,           0,           0,           0,           0,           0,           0,           0,           0,           0,           0,           0,           0,\n",
       "                  0,           0,           0,           0,           0,           0,           0,           0,           0,           0,           0]]), 'Confidence', 'F1'], [array([          0,    0.001001,    0.002002,    0.003003,    0.004004,    0.005005,    0.006006,    0.007007,    0.008008,    0.009009,     0.01001,    0.011011,    0.012012,    0.013013,    0.014014,    0.015015,    0.016016,    0.017017,    0.018018,    0.019019,     0.02002,    0.021021,    0.022022,    0.023023,\n",
       "          0.024024,    0.025025,    0.026026,    0.027027,    0.028028,    0.029029,     0.03003,    0.031031,    0.032032,    0.033033,    0.034034,    0.035035,    0.036036,    0.037037,    0.038038,    0.039039,     0.04004,    0.041041,    0.042042,    0.043043,    0.044044,    0.045045,    0.046046,    0.047047,\n",
       "          0.048048,    0.049049,     0.05005,    0.051051,    0.052052,    0.053053,    0.054054,    0.055055,    0.056056,    0.057057,    0.058058,    0.059059,     0.06006,    0.061061,    0.062062,    0.063063,    0.064064,    0.065065,    0.066066,    0.067067,    0.068068,    0.069069,     0.07007,    0.071071,\n",
       "          0.072072,    0.073073,    0.074074,    0.075075,    0.076076,    0.077077,    0.078078,    0.079079,     0.08008,    0.081081,    0.082082,    0.083083,    0.084084,    0.085085,    0.086086,    0.087087,    0.088088,    0.089089,     0.09009,    0.091091,    0.092092,    0.093093,    0.094094,    0.095095,\n",
       "          0.096096,    0.097097,    0.098098,    0.099099,      0.1001,      0.1011,      0.1021,      0.1031,      0.1041,     0.10511,     0.10611,     0.10711,     0.10811,     0.10911,     0.11011,     0.11111,     0.11211,     0.11311,     0.11411,     0.11512,     0.11612,     0.11712,     0.11812,     0.11912,\n",
       "           0.12012,     0.12112,     0.12212,     0.12312,     0.12412,     0.12513,     0.12613,     0.12713,     0.12813,     0.12913,     0.13013,     0.13113,     0.13213,     0.13313,     0.13413,     0.13514,     0.13614,     0.13714,     0.13814,     0.13914,     0.14014,     0.14114,     0.14214,     0.14314,\n",
       "           0.14414,     0.14515,     0.14615,     0.14715,     0.14815,     0.14915,     0.15015,     0.15115,     0.15215,     0.15315,     0.15415,     0.15516,     0.15616,     0.15716,     0.15816,     0.15916,     0.16016,     0.16116,     0.16216,     0.16316,     0.16416,     0.16517,     0.16617,     0.16717,\n",
       "           0.16817,     0.16917,     0.17017,     0.17117,     0.17217,     0.17317,     0.17417,     0.17518,     0.17618,     0.17718,     0.17818,     0.17918,     0.18018,     0.18118,     0.18218,     0.18318,     0.18418,     0.18519,     0.18619,     0.18719,     0.18819,     0.18919,     0.19019,     0.19119,\n",
       "           0.19219,     0.19319,     0.19419,      0.1952,      0.1962,      0.1972,      0.1982,      0.1992,      0.2002,      0.2012,      0.2022,      0.2032,      0.2042,     0.20521,     0.20621,     0.20721,     0.20821,     0.20921,     0.21021,     0.21121,     0.21221,     0.21321,     0.21421,     0.21522,\n",
       "           0.21622,     0.21722,     0.21822,     0.21922,     0.22022,     0.22122,     0.22222,     0.22322,     0.22422,     0.22523,     0.22623,     0.22723,     0.22823,     0.22923,     0.23023,     0.23123,     0.23223,     0.23323,     0.23423,     0.23524,     0.23624,     0.23724,     0.23824,     0.23924,\n",
       "           0.24024,     0.24124,     0.24224,     0.24324,     0.24424,     0.24525,     0.24625,     0.24725,     0.24825,     0.24925,     0.25025,     0.25125,     0.25225,     0.25325,     0.25425,     0.25526,     0.25626,     0.25726,     0.25826,     0.25926,     0.26026,     0.26126,     0.26226,     0.26326,\n",
       "           0.26426,     0.26527,     0.26627,     0.26727,     0.26827,     0.26927,     0.27027,     0.27127,     0.27227,     0.27327,     0.27427,     0.27528,     0.27628,     0.27728,     0.27828,     0.27928,     0.28028,     0.28128,     0.28228,     0.28328,     0.28428,     0.28529,     0.28629,     0.28729,\n",
       "           0.28829,     0.28929,     0.29029,     0.29129,     0.29229,     0.29329,     0.29429,      0.2953,      0.2963,      0.2973,      0.2983,      0.2993,      0.3003,      0.3013,      0.3023,      0.3033,      0.3043,     0.30531,     0.30631,     0.30731,     0.30831,     0.30931,     0.31031,     0.31131,\n",
       "           0.31231,     0.31331,     0.31431,     0.31532,     0.31632,     0.31732,     0.31832,     0.31932,     0.32032,     0.32132,     0.32232,     0.32332,     0.32432,     0.32533,     0.32633,     0.32733,     0.32833,     0.32933,     0.33033,     0.33133,     0.33233,     0.33333,     0.33433,     0.33534,\n",
       "           0.33634,     0.33734,     0.33834,     0.33934,     0.34034,     0.34134,     0.34234,     0.34334,     0.34434,     0.34535,     0.34635,     0.34735,     0.34835,     0.34935,     0.35035,     0.35135,     0.35235,     0.35335,     0.35435,     0.35536,     0.35636,     0.35736,     0.35836,     0.35936,\n",
       "           0.36036,     0.36136,     0.36236,     0.36336,     0.36436,     0.36537,     0.36637,     0.36737,     0.36837,     0.36937,     0.37037,     0.37137,     0.37237,     0.37337,     0.37437,     0.37538,     0.37638,     0.37738,     0.37838,     0.37938,     0.38038,     0.38138,     0.38238,     0.38338,\n",
       "           0.38438,     0.38539,     0.38639,     0.38739,     0.38839,     0.38939,     0.39039,     0.39139,     0.39239,     0.39339,     0.39439,      0.3954,      0.3964,      0.3974,      0.3984,      0.3994,      0.4004,      0.4014,      0.4024,      0.4034,      0.4044,     0.40541,     0.40641,     0.40741,\n",
       "           0.40841,     0.40941,     0.41041,     0.41141,     0.41241,     0.41341,     0.41441,     0.41542,     0.41642,     0.41742,     0.41842,     0.41942,     0.42042,     0.42142,     0.42242,     0.42342,     0.42442,     0.42543,     0.42643,     0.42743,     0.42843,     0.42943,     0.43043,     0.43143,\n",
       "           0.43243,     0.43343,     0.43443,     0.43544,     0.43644,     0.43744,     0.43844,     0.43944,     0.44044,     0.44144,     0.44244,     0.44344,     0.44444,     0.44545,     0.44645,     0.44745,     0.44845,     0.44945,     0.45045,     0.45145,     0.45245,     0.45345,     0.45445,     0.45546,\n",
       "           0.45646,     0.45746,     0.45846,     0.45946,     0.46046,     0.46146,     0.46246,     0.46346,     0.46446,     0.46547,     0.46647,     0.46747,     0.46847,     0.46947,     0.47047,     0.47147,     0.47247,     0.47347,     0.47447,     0.47548,     0.47648,     0.47748,     0.47848,     0.47948,\n",
       "           0.48048,     0.48148,     0.48248,     0.48348,     0.48448,     0.48549,     0.48649,     0.48749,     0.48849,     0.48949,     0.49049,     0.49149,     0.49249,     0.49349,     0.49449,      0.4955,      0.4965,      0.4975,      0.4985,      0.4995,      0.5005,      0.5015,      0.5025,      0.5035,\n",
       "            0.5045,     0.50551,     0.50651,     0.50751,     0.50851,     0.50951,     0.51051,     0.51151,     0.51251,     0.51351,     0.51451,     0.51552,     0.51652,     0.51752,     0.51852,     0.51952,     0.52052,     0.52152,     0.52252,     0.52352,     0.52452,     0.52553,     0.52653,     0.52753,\n",
       "           0.52853,     0.52953,     0.53053,     0.53153,     0.53253,     0.53353,     0.53453,     0.53554,     0.53654,     0.53754,     0.53854,     0.53954,     0.54054,     0.54154,     0.54254,     0.54354,     0.54454,     0.54555,     0.54655,     0.54755,     0.54855,     0.54955,     0.55055,     0.55155,\n",
       "           0.55255,     0.55355,     0.55455,     0.55556,     0.55656,     0.55756,     0.55856,     0.55956,     0.56056,     0.56156,     0.56256,     0.56356,     0.56456,     0.56557,     0.56657,     0.56757,     0.56857,     0.56957,     0.57057,     0.57157,     0.57257,     0.57357,     0.57457,     0.57558,\n",
       "           0.57658,     0.57758,     0.57858,     0.57958,     0.58058,     0.58158,     0.58258,     0.58358,     0.58458,     0.58559,     0.58659,     0.58759,     0.58859,     0.58959,     0.59059,     0.59159,     0.59259,     0.59359,     0.59459,      0.5956,      0.5966,      0.5976,      0.5986,      0.5996,\n",
       "            0.6006,      0.6016,      0.6026,      0.6036,      0.6046,     0.60561,     0.60661,     0.60761,     0.60861,     0.60961,     0.61061,     0.61161,     0.61261,     0.61361,     0.61461,     0.61562,     0.61662,     0.61762,     0.61862,     0.61962,     0.62062,     0.62162,     0.62262,     0.62362,\n",
       "           0.62462,     0.62563,     0.62663,     0.62763,     0.62863,     0.62963,     0.63063,     0.63163,     0.63263,     0.63363,     0.63463,     0.63564,     0.63664,     0.63764,     0.63864,     0.63964,     0.64064,     0.64164,     0.64264,     0.64364,     0.64464,     0.64565,     0.64665,     0.64765,\n",
       "           0.64865,     0.64965,     0.65065,     0.65165,     0.65265,     0.65365,     0.65465,     0.65566,     0.65666,     0.65766,     0.65866,     0.65966,     0.66066,     0.66166,     0.66266,     0.66366,     0.66466,     0.66567,     0.66667,     0.66767,     0.66867,     0.66967,     0.67067,     0.67167,\n",
       "           0.67267,     0.67367,     0.67467,     0.67568,     0.67668,     0.67768,     0.67868,     0.67968,     0.68068,     0.68168,     0.68268,     0.68368,     0.68468,     0.68569,     0.68669,     0.68769,     0.68869,     0.68969,     0.69069,     0.69169,     0.69269,     0.69369,     0.69469,      0.6957,\n",
       "            0.6967,      0.6977,      0.6987,      0.6997,      0.7007,      0.7017,      0.7027,      0.7037,      0.7047,     0.70571,     0.70671,     0.70771,     0.70871,     0.70971,     0.71071,     0.71171,     0.71271,     0.71371,     0.71471,     0.71572,     0.71672,     0.71772,     0.71872,     0.71972,\n",
       "           0.72072,     0.72172,     0.72272,     0.72372,     0.72472,     0.72573,     0.72673,     0.72773,     0.72873,     0.72973,     0.73073,     0.73173,     0.73273,     0.73373,     0.73473,     0.73574,     0.73674,     0.73774,     0.73874,     0.73974,     0.74074,     0.74174,     0.74274,     0.74374,\n",
       "           0.74474,     0.74575,     0.74675,     0.74775,     0.74875,     0.74975,     0.75075,     0.75175,     0.75275,     0.75375,     0.75475,     0.75576,     0.75676,     0.75776,     0.75876,     0.75976,     0.76076,     0.76176,     0.76276,     0.76376,     0.76476,     0.76577,     0.76677,     0.76777,\n",
       "           0.76877,     0.76977,     0.77077,     0.77177,     0.77277,     0.77377,     0.77477,     0.77578,     0.77678,     0.77778,     0.77878,     0.77978,     0.78078,     0.78178,     0.78278,     0.78378,     0.78478,     0.78579,     0.78679,     0.78779,     0.78879,     0.78979,     0.79079,     0.79179,\n",
       "           0.79279,     0.79379,     0.79479,      0.7958,      0.7968,      0.7978,      0.7988,      0.7998,      0.8008,      0.8018,      0.8028,      0.8038,      0.8048,     0.80581,     0.80681,     0.80781,     0.80881,     0.80981,     0.81081,     0.81181,     0.81281,     0.81381,     0.81481,     0.81582,\n",
       "           0.81682,     0.81782,     0.81882,     0.81982,     0.82082,     0.82182,     0.82282,     0.82382,     0.82482,     0.82583,     0.82683,     0.82783,     0.82883,     0.82983,     0.83083,     0.83183,     0.83283,     0.83383,     0.83483,     0.83584,     0.83684,     0.83784,     0.83884,     0.83984,\n",
       "           0.84084,     0.84184,     0.84284,     0.84384,     0.84484,     0.84585,     0.84685,     0.84785,     0.84885,     0.84985,     0.85085,     0.85185,     0.85285,     0.85385,     0.85485,     0.85586,     0.85686,     0.85786,     0.85886,     0.85986,     0.86086,     0.86186,     0.86286,     0.86386,\n",
       "           0.86486,     0.86587,     0.86687,     0.86787,     0.86887,     0.86987,     0.87087,     0.87187,     0.87287,     0.87387,     0.87487,     0.87588,     0.87688,     0.87788,     0.87888,     0.87988,     0.88088,     0.88188,     0.88288,     0.88388,     0.88488,     0.88589,     0.88689,     0.88789,\n",
       "           0.88889,     0.88989,     0.89089,     0.89189,     0.89289,     0.89389,     0.89489,      0.8959,      0.8969,      0.8979,      0.8989,      0.8999,      0.9009,      0.9019,      0.9029,      0.9039,      0.9049,     0.90591,     0.90691,     0.90791,     0.90891,     0.90991,     0.91091,     0.91191,\n",
       "           0.91291,     0.91391,     0.91491,     0.91592,     0.91692,     0.91792,     0.91892,     0.91992,     0.92092,     0.92192,     0.92292,     0.92392,     0.92492,     0.92593,     0.92693,     0.92793,     0.92893,     0.92993,     0.93093,     0.93193,     0.93293,     0.93393,     0.93493,     0.93594,\n",
       "           0.93694,     0.93794,     0.93894,     0.93994,     0.94094,     0.94194,     0.94294,     0.94394,     0.94494,     0.94595,     0.94695,     0.94795,     0.94895,     0.94995,     0.95095,     0.95195,     0.95295,     0.95395,     0.95495,     0.95596,     0.95696,     0.95796,     0.95896,     0.95996,\n",
       "           0.96096,     0.96196,     0.96296,     0.96396,     0.96496,     0.96597,     0.96697,     0.96797,     0.96897,     0.96997,     0.97097,     0.97197,     0.97297,     0.97397,     0.97497,     0.97598,     0.97698,     0.97798,     0.97898,     0.97998,     0.98098,     0.98198,     0.98298,     0.98398,\n",
       "           0.98498,     0.98599,     0.98699,     0.98799,     0.98899,     0.98999,     0.99099,     0.99199,     0.99299,     0.99399,     0.99499,       0.996,       0.997,       0.998,       0.999,           1]), array([[   0.098853,    0.098853,     0.14599,     0.18312,     0.20931,     0.23136,     0.24682,     0.26045,     0.27766,     0.28823,     0.30104,     0.31188,     0.32462,     0.33298,     0.34093,     0.35307,      0.3683,     0.37509,     0.37814,     0.38289,     0.39586,     0.40123,     0.40753,\n",
       "            0.41644,     0.42269,     0.42764,     0.43313,     0.43973,     0.44425,     0.45099,     0.45818,     0.46134,     0.46824,      0.4708,     0.47649,     0.47789,     0.48045,     0.48313,     0.48444,     0.48546,     0.49085,     0.49527,      0.4974,     0.50049,     0.50158,     0.50332,\n",
       "             0.5042,     0.50568,     0.50731,     0.50676,     0.50621,     0.50682,     0.50975,      0.5124,     0.51353,     0.51922,     0.52241,     0.52328,     0.52475,      0.5267,     0.53182,     0.53492,     0.53645,     0.53797,     0.54011,     0.54221,      0.5434,     0.54432,     0.54822,\n",
       "            0.55132,     0.55744,     0.56139,     0.56423,     0.56458,     0.56382,     0.56596,     0.56742,      0.5682,      0.5704,     0.57215,     0.57353,     0.57254,     0.57323,     0.57393,     0.57521,     0.57755,      0.5807,     0.58138,     0.58205,     0.58272,     0.58509,     0.58592,\n",
       "            0.58675,     0.58973,     0.59183,      0.5955,      0.6014,     0.60304,     0.60386,     0.60469,     0.60559,     0.60666,     0.60846,     0.60899,     0.60951,     0.61004,     0.61057,     0.61358,     0.61428,     0.61498,     0.61498,     0.61405,     0.61773,     0.62094,      0.6205,\n",
       "            0.61987,     0.62305,     0.62678,     0.62889,     0.63174,      0.6321,     0.63446,     0.63816,     0.63876,     0.63932,     0.63987,     0.64043,     0.64099,     0.64159,     0.64219,     0.64279,     0.64339,     0.64315,     0.64282,      0.6425,     0.64217,     0.64171,     0.64104,\n",
       "            0.64086,     0.64267,     0.64203,     0.64411,      0.6438,     0.64348,     0.64317,     0.64286,     0.64241,     0.64197,     0.64153,      0.6465,     0.64646,     0.65113,     0.65291,     0.65658,     0.65729,       0.658,     0.65871,     0.65941,     0.65973,     0.66005,     0.66037,\n",
       "            0.66069,     0.66101,     0.66133,     0.66165,     0.66197,     0.66226,     0.66171,     0.66116,      0.6611,     0.66199,     0.66288,     0.66375,     0.66441,     0.66506,     0.66571,     0.66637,     0.66601,     0.66714,     0.67022,     0.67109,     0.67097,     0.67084,     0.67071,\n",
       "            0.67058,     0.67046,     0.67033,      0.6702,     0.67008,     0.66995,     0.66982,      0.6697,     0.67059,     0.67159,     0.67259,      0.6732,     0.67374,     0.67429,     0.67484,     0.67539,     0.67421,     0.67382,     0.67342,     0.67302,     0.67401,     0.67617,     0.67716,\n",
       "            0.67816,     0.67898,     0.67786,     0.67849,     0.67973,     0.68409,     0.68478,     0.68548,     0.68618,     0.68688,     0.69011,      0.6908,     0.69115,     0.69149,     0.69184,     0.69219,     0.69254,     0.69288,     0.69323,     0.69358,     0.69404,     0.69464,     0.69525,\n",
       "            0.69586,     0.69647,     0.69707,     0.69926,     0.70105,     0.70226,     0.70348,     0.70721,     0.70615,     0.70696,     0.70777,     0.70859,     0.70938,     0.70966,     0.70994,     0.71022,      0.7105,     0.71079,     0.71107,     0.71135,     0.71163,     0.71192,      0.7122,\n",
       "            0.71248,     0.71276,     0.71281,     0.71271,     0.71261,     0.71251,     0.71241,     0.71231,     0.71221,     0.71212,     0.71202,     0.71192,     0.71182,     0.71172,     0.71162,     0.71152,     0.71139,     0.71115,     0.71092,     0.71068,     0.71044,     0.71021,     0.70994,\n",
       "            0.70948,     0.70902,     0.70856,     0.70818,      0.7078,     0.70743,     0.70721,     0.70966,     0.71286,     0.71421,     0.71407,     0.71394,     0.71381,     0.71368,     0.71355,     0.71342,     0.71329,     0.71316,     0.71303,      0.7129,     0.71482,       0.717,     0.71776,\n",
       "            0.71852,     0.71928,     0.72005,     0.72142,     0.72296,     0.72791,     0.72837,     0.72883,      0.7293,     0.72976,     0.73022,     0.73068,     0.73114,      0.7355,     0.73639,     0.73728,     0.73817,     0.73906,     0.73882,       0.738,      0.7402,     0.74253,     0.74488,\n",
       "            0.74896,     0.74886,     0.75005,     0.75173,     0.75302,      0.7537,     0.75438,     0.75507,     0.75575,     0.75643,     0.75863,     0.76129,     0.76162,     0.76194,     0.76226,     0.76259,     0.76291,     0.76323,     0.76355,     0.76388,      0.7642,     0.76452,     0.76485,\n",
       "            0.76517,     0.76482,     0.76262,      0.7624,     0.76218,     0.76195,     0.76173,     0.76151,     0.76167,     0.76261,     0.76355,     0.76449,     0.76542,     0.77001,     0.76987,     0.76972,     0.76957,     0.76942,     0.76928,     0.76913,     0.76898,     0.76884,     0.76826,\n",
       "            0.76747,     0.76812,     0.76883,     0.76954,     0.77024,     0.77095,     0.77166,     0.77243,     0.77324,     0.77405,     0.77486,     0.77567,     0.77647,     0.77633,     0.77618,     0.77604,      0.7759,     0.77576,     0.77561,     0.77547,     0.77533,     0.77518,     0.77245,\n",
       "            0.77232,     0.77219,     0.77205,     0.77192,     0.77178,     0.77165,     0.77152,     0.77138,     0.77125,     0.77112,      0.7715,     0.77205,      0.7726,     0.77315,     0.77369,     0.77424,     0.77479,     0.77534,     0.77687,      0.7807,     0.78156,     0.78241,     0.78327,\n",
       "            0.78412,     0.78497,     0.78634,       0.788,     0.78966,     0.78988,     0.78955,     0.78922,     0.78888,     0.78819,     0.78743,     0.78674,     0.78613,     0.78593,     0.78574,     0.78554,     0.78534,     0.78514,     0.78494,     0.78469,     0.78431,     0.78394,     0.78356,\n",
       "            0.78413,     0.78516,     0.78619,     0.78722,     0.78825,     0.79259,     0.79441,     0.79547,     0.79652,     0.79758,     0.79864,     0.80121,     0.80389,     0.80471,     0.80552,     0.80632,     0.80712,     0.80793,     0.80873,     0.80895,      0.8083,      0.8079,      0.8078,\n",
       "             0.8077,      0.8076,      0.8075,      0.8074,      0.8073,     0.80719,     0.80709,     0.80699,     0.80689,     0.80679,     0.80669,     0.80565,     0.80519,     0.80497,     0.80474,     0.80452,     0.80429,     0.80407,     0.80471,     0.80541,     0.80611,     0.80681,     0.80752,\n",
       "            0.80822,     0.80892,     0.80971,     0.81113,     0.81256,     0.81398,     0.81492,     0.81426,     0.81115,     0.81103,     0.81091,     0.81078,     0.81066,     0.81053,     0.81041,     0.81029,     0.81016,     0.81004,     0.80992,     0.81523,     0.81456,     0.81347,       0.818,\n",
       "            0.81707,     0.81639,     0.81593,     0.81558,     0.81524,     0.81489,     0.81976,     0.83232,     0.83471,     0.83634,     0.83797,      0.8396,     0.83946,      0.8392,     0.83895,      0.8387,     0.83846,     0.83839,     0.83832,     0.83825,     0.83819,     0.83812,     0.83805,\n",
       "            0.83798,     0.83792,     0.83785,     0.83778,     0.83771,     0.83765,     0.83758,     0.83751,     0.83744,     0.83738,     0.83731,     0.83724,     0.83756,     0.83823,      0.8389,     0.83957,     0.84024,     0.84091,     0.84158,     0.84225,     0.84293,      0.8436,      0.8448,\n",
       "            0.84616,     0.84752,     0.84888,     0.85025,     0.85015,     0.84988,     0.84961,     0.84934,     0.84859,     0.85169,     0.85471,     0.85446,     0.85422,     0.85398,     0.85374,     0.85204,     0.85141,     0.85093,     0.85051,     0.85009,     0.84979,     0.84954,     0.84928,\n",
       "            0.84902,     0.84876,     0.84623,     0.85319,     0.86079,     0.85929,     0.85893,     0.85856,     0.85826,       0.858,     0.85774,     0.85748,     0.85722,     0.85806,     0.85938,      0.8607,     0.86202,     0.86334,     0.86466,     0.86433,      0.8637,     0.86093,     0.86049,\n",
       "            0.86004,      0.8596,     0.85915,     0.85869,     0.85837,     0.85816,     0.85795,     0.85774,     0.85752,     0.85731,     0.85803,     0.86225,      0.8665,      0.8708,     0.87369,     0.87337,     0.87305,     0.87274,      0.8724,     0.87203,     0.87166,     0.87129,     0.87999,\n",
       "            0.87958,     0.87917,     0.87627,     0.87607,     0.87586,     0.87566,     0.87546,     0.87525,     0.87505,     0.87399,     0.87262,     0.87082,     0.87034,     0.86986,      0.8704,     0.87257,     0.87475,     0.87693,      0.8791,     0.87844,     0.87776,     0.87736,     0.87696,\n",
       "            0.87656,      0.8762,     0.87588,     0.87556,     0.87524,     0.87483,     0.87409,     0.87652,     0.88218,      0.8816,     0.88103,     0.88568,     0.89112,      0.8932,     0.89642,     0.89964,     0.89988,     0.89965,     0.89941,     0.89917,     0.89894,      0.8974,     0.89713,\n",
       "            0.89685,     0.89658,     0.89631,     0.89176,     0.89125,     0.89075,     0.89162,     0.89524,     0.89886,     0.90248,     0.90192,     0.90638,     0.91083,     0.91174,     0.91074,     0.91781,     0.92403,     0.92283,     0.92242,     0.92201,     0.92004,     0.91774,     0.91644,\n",
       "            0.91547,     0.92151,     0.92959,     0.92835,     0.92768,     0.92483,      0.9232,     0.92009,     0.91895,     0.93685,     0.93428,     0.93019,     0.92905,     0.92828,     0.92777,     0.92726,     0.92942,     0.94525,     0.94954,     0.94888,     0.94518,     0.94253,     0.94138,\n",
       "             0.9386,     0.93763,      0.9363,      0.9403,     0.96302,     0.96343,     0.96986,     0.99036,           1,           1,           1,           1,           1,           1,           1,           1,           1,           1,           1,           1,           1,           1,           1,\n",
       "                  1,           1,           1,           1,           1,           1,           1,           1,           1,           1,           1,           1,           1,           1,           1,           1,           1,           1,           1,           1,           1,           1,           1,\n",
       "                  1,           1,           1,           1,           1,           1,           1,           1,           1,           1,           1,           1,           1,           1,           1,           1,           1,           1,           1,           1,           1,           1,           1,\n",
       "                  1,           1,           1,           1,           1,           1,           1,           1,           1,           1,           1,           1,           1,           1,           1,           1,           1,           1,           1,           1,           1,           1,           1,\n",
       "                  1,           1,           1,           1,           1,           1,           1,           1,           1,           1,           1,           1,           1,           1,           1,           1,           1,           1,           1,           1,           1,           1,           1,\n",
       "                  1,           1,           1,           1,           1,           1,           1,           1,           1,           1,           1,           1,           1,           1,           1,           1,           1,           1,           1,           1,           1,           1,           1,\n",
       "                  1,           1,           1,           1,           1,           1,           1,           1,           1,           1,           1,           1,           1,           1,           1,           1,           1,           1,           1,           1,           1,           1,           1,\n",
       "                  1,           1,           1,           1,           1,           1,           1,           1,           1,           1,           1,           1,           1,           1,           1,           1,           1,           1,           1,           1,           1,           1,           1,\n",
       "                  1,           1,           1,           1,           1,           1,           1,           1,           1,           1,           1,           1,           1,           1,           1,           1,           1,           1,           1,           1,           1,           1,           1,\n",
       "                  1,           1,           1,           1,           1,           1,           1,           1,           1,           1,           1,           1,           1,           1,           1,           1,           1,           1,           1,           1,           1,           1,           1,\n",
       "                  1,           1,           1,           1,           1,           1,           1,           1,           1,           1,           1,           1,           1,           1,           1,           1,           1,           1,           1,           1,           1,           1,           1,\n",
       "                  1,           1,           1,           1,           1,           1,           1,           1,           1,           1,           1,           1,           1,           1,           1,           1,           1,           1,           1,           1,           1,           1,           1,\n",
       "                  1,           1,           1,           1,           1,           1,           1,           1,           1,           1,           1]]), 'Confidence', 'Precision'], [array([          0,    0.001001,    0.002002,    0.003003,    0.004004,    0.005005,    0.006006,    0.007007,    0.008008,    0.009009,     0.01001,    0.011011,    0.012012,    0.013013,    0.014014,    0.015015,    0.016016,    0.017017,    0.018018,    0.019019,     0.02002,    0.021021,    0.022022,    0.023023,\n",
       "          0.024024,    0.025025,    0.026026,    0.027027,    0.028028,    0.029029,     0.03003,    0.031031,    0.032032,    0.033033,    0.034034,    0.035035,    0.036036,    0.037037,    0.038038,    0.039039,     0.04004,    0.041041,    0.042042,    0.043043,    0.044044,    0.045045,    0.046046,    0.047047,\n",
       "          0.048048,    0.049049,     0.05005,    0.051051,    0.052052,    0.053053,    0.054054,    0.055055,    0.056056,    0.057057,    0.058058,    0.059059,     0.06006,    0.061061,    0.062062,    0.063063,    0.064064,    0.065065,    0.066066,    0.067067,    0.068068,    0.069069,     0.07007,    0.071071,\n",
       "          0.072072,    0.073073,    0.074074,    0.075075,    0.076076,    0.077077,    0.078078,    0.079079,     0.08008,    0.081081,    0.082082,    0.083083,    0.084084,    0.085085,    0.086086,    0.087087,    0.088088,    0.089089,     0.09009,    0.091091,    0.092092,    0.093093,    0.094094,    0.095095,\n",
       "          0.096096,    0.097097,    0.098098,    0.099099,      0.1001,      0.1011,      0.1021,      0.1031,      0.1041,     0.10511,     0.10611,     0.10711,     0.10811,     0.10911,     0.11011,     0.11111,     0.11211,     0.11311,     0.11411,     0.11512,     0.11612,     0.11712,     0.11812,     0.11912,\n",
       "           0.12012,     0.12112,     0.12212,     0.12312,     0.12412,     0.12513,     0.12613,     0.12713,     0.12813,     0.12913,     0.13013,     0.13113,     0.13213,     0.13313,     0.13413,     0.13514,     0.13614,     0.13714,     0.13814,     0.13914,     0.14014,     0.14114,     0.14214,     0.14314,\n",
       "           0.14414,     0.14515,     0.14615,     0.14715,     0.14815,     0.14915,     0.15015,     0.15115,     0.15215,     0.15315,     0.15415,     0.15516,     0.15616,     0.15716,     0.15816,     0.15916,     0.16016,     0.16116,     0.16216,     0.16316,     0.16416,     0.16517,     0.16617,     0.16717,\n",
       "           0.16817,     0.16917,     0.17017,     0.17117,     0.17217,     0.17317,     0.17417,     0.17518,     0.17618,     0.17718,     0.17818,     0.17918,     0.18018,     0.18118,     0.18218,     0.18318,     0.18418,     0.18519,     0.18619,     0.18719,     0.18819,     0.18919,     0.19019,     0.19119,\n",
       "           0.19219,     0.19319,     0.19419,      0.1952,      0.1962,      0.1972,      0.1982,      0.1992,      0.2002,      0.2012,      0.2022,      0.2032,      0.2042,     0.20521,     0.20621,     0.20721,     0.20821,     0.20921,     0.21021,     0.21121,     0.21221,     0.21321,     0.21421,     0.21522,\n",
       "           0.21622,     0.21722,     0.21822,     0.21922,     0.22022,     0.22122,     0.22222,     0.22322,     0.22422,     0.22523,     0.22623,     0.22723,     0.22823,     0.22923,     0.23023,     0.23123,     0.23223,     0.23323,     0.23423,     0.23524,     0.23624,     0.23724,     0.23824,     0.23924,\n",
       "           0.24024,     0.24124,     0.24224,     0.24324,     0.24424,     0.24525,     0.24625,     0.24725,     0.24825,     0.24925,     0.25025,     0.25125,     0.25225,     0.25325,     0.25425,     0.25526,     0.25626,     0.25726,     0.25826,     0.25926,     0.26026,     0.26126,     0.26226,     0.26326,\n",
       "           0.26426,     0.26527,     0.26627,     0.26727,     0.26827,     0.26927,     0.27027,     0.27127,     0.27227,     0.27327,     0.27427,     0.27528,     0.27628,     0.27728,     0.27828,     0.27928,     0.28028,     0.28128,     0.28228,     0.28328,     0.28428,     0.28529,     0.28629,     0.28729,\n",
       "           0.28829,     0.28929,     0.29029,     0.29129,     0.29229,     0.29329,     0.29429,      0.2953,      0.2963,      0.2973,      0.2983,      0.2993,      0.3003,      0.3013,      0.3023,      0.3033,      0.3043,     0.30531,     0.30631,     0.30731,     0.30831,     0.30931,     0.31031,     0.31131,\n",
       "           0.31231,     0.31331,     0.31431,     0.31532,     0.31632,     0.31732,     0.31832,     0.31932,     0.32032,     0.32132,     0.32232,     0.32332,     0.32432,     0.32533,     0.32633,     0.32733,     0.32833,     0.32933,     0.33033,     0.33133,     0.33233,     0.33333,     0.33433,     0.33534,\n",
       "           0.33634,     0.33734,     0.33834,     0.33934,     0.34034,     0.34134,     0.34234,     0.34334,     0.34434,     0.34535,     0.34635,     0.34735,     0.34835,     0.34935,     0.35035,     0.35135,     0.35235,     0.35335,     0.35435,     0.35536,     0.35636,     0.35736,     0.35836,     0.35936,\n",
       "           0.36036,     0.36136,     0.36236,     0.36336,     0.36436,     0.36537,     0.36637,     0.36737,     0.36837,     0.36937,     0.37037,     0.37137,     0.37237,     0.37337,     0.37437,     0.37538,     0.37638,     0.37738,     0.37838,     0.37938,     0.38038,     0.38138,     0.38238,     0.38338,\n",
       "           0.38438,     0.38539,     0.38639,     0.38739,     0.38839,     0.38939,     0.39039,     0.39139,     0.39239,     0.39339,     0.39439,      0.3954,      0.3964,      0.3974,      0.3984,      0.3994,      0.4004,      0.4014,      0.4024,      0.4034,      0.4044,     0.40541,     0.40641,     0.40741,\n",
       "           0.40841,     0.40941,     0.41041,     0.41141,     0.41241,     0.41341,     0.41441,     0.41542,     0.41642,     0.41742,     0.41842,     0.41942,     0.42042,     0.42142,     0.42242,     0.42342,     0.42442,     0.42543,     0.42643,     0.42743,     0.42843,     0.42943,     0.43043,     0.43143,\n",
       "           0.43243,     0.43343,     0.43443,     0.43544,     0.43644,     0.43744,     0.43844,     0.43944,     0.44044,     0.44144,     0.44244,     0.44344,     0.44444,     0.44545,     0.44645,     0.44745,     0.44845,     0.44945,     0.45045,     0.45145,     0.45245,     0.45345,     0.45445,     0.45546,\n",
       "           0.45646,     0.45746,     0.45846,     0.45946,     0.46046,     0.46146,     0.46246,     0.46346,     0.46446,     0.46547,     0.46647,     0.46747,     0.46847,     0.46947,     0.47047,     0.47147,     0.47247,     0.47347,     0.47447,     0.47548,     0.47648,     0.47748,     0.47848,     0.47948,\n",
       "           0.48048,     0.48148,     0.48248,     0.48348,     0.48448,     0.48549,     0.48649,     0.48749,     0.48849,     0.48949,     0.49049,     0.49149,     0.49249,     0.49349,     0.49449,      0.4955,      0.4965,      0.4975,      0.4985,      0.4995,      0.5005,      0.5015,      0.5025,      0.5035,\n",
       "            0.5045,     0.50551,     0.50651,     0.50751,     0.50851,     0.50951,     0.51051,     0.51151,     0.51251,     0.51351,     0.51451,     0.51552,     0.51652,     0.51752,     0.51852,     0.51952,     0.52052,     0.52152,     0.52252,     0.52352,     0.52452,     0.52553,     0.52653,     0.52753,\n",
       "           0.52853,     0.52953,     0.53053,     0.53153,     0.53253,     0.53353,     0.53453,     0.53554,     0.53654,     0.53754,     0.53854,     0.53954,     0.54054,     0.54154,     0.54254,     0.54354,     0.54454,     0.54555,     0.54655,     0.54755,     0.54855,     0.54955,     0.55055,     0.55155,\n",
       "           0.55255,     0.55355,     0.55455,     0.55556,     0.55656,     0.55756,     0.55856,     0.55956,     0.56056,     0.56156,     0.56256,     0.56356,     0.56456,     0.56557,     0.56657,     0.56757,     0.56857,     0.56957,     0.57057,     0.57157,     0.57257,     0.57357,     0.57457,     0.57558,\n",
       "           0.57658,     0.57758,     0.57858,     0.57958,     0.58058,     0.58158,     0.58258,     0.58358,     0.58458,     0.58559,     0.58659,     0.58759,     0.58859,     0.58959,     0.59059,     0.59159,     0.59259,     0.59359,     0.59459,      0.5956,      0.5966,      0.5976,      0.5986,      0.5996,\n",
       "            0.6006,      0.6016,      0.6026,      0.6036,      0.6046,     0.60561,     0.60661,     0.60761,     0.60861,     0.60961,     0.61061,     0.61161,     0.61261,     0.61361,     0.61461,     0.61562,     0.61662,     0.61762,     0.61862,     0.61962,     0.62062,     0.62162,     0.62262,     0.62362,\n",
       "           0.62462,     0.62563,     0.62663,     0.62763,     0.62863,     0.62963,     0.63063,     0.63163,     0.63263,     0.63363,     0.63463,     0.63564,     0.63664,     0.63764,     0.63864,     0.63964,     0.64064,     0.64164,     0.64264,     0.64364,     0.64464,     0.64565,     0.64665,     0.64765,\n",
       "           0.64865,     0.64965,     0.65065,     0.65165,     0.65265,     0.65365,     0.65465,     0.65566,     0.65666,     0.65766,     0.65866,     0.65966,     0.66066,     0.66166,     0.66266,     0.66366,     0.66466,     0.66567,     0.66667,     0.66767,     0.66867,     0.66967,     0.67067,     0.67167,\n",
       "           0.67267,     0.67367,     0.67467,     0.67568,     0.67668,     0.67768,     0.67868,     0.67968,     0.68068,     0.68168,     0.68268,     0.68368,     0.68468,     0.68569,     0.68669,     0.68769,     0.68869,     0.68969,     0.69069,     0.69169,     0.69269,     0.69369,     0.69469,      0.6957,\n",
       "            0.6967,      0.6977,      0.6987,      0.6997,      0.7007,      0.7017,      0.7027,      0.7037,      0.7047,     0.70571,     0.70671,     0.70771,     0.70871,     0.70971,     0.71071,     0.71171,     0.71271,     0.71371,     0.71471,     0.71572,     0.71672,     0.71772,     0.71872,     0.71972,\n",
       "           0.72072,     0.72172,     0.72272,     0.72372,     0.72472,     0.72573,     0.72673,     0.72773,     0.72873,     0.72973,     0.73073,     0.73173,     0.73273,     0.73373,     0.73473,     0.73574,     0.73674,     0.73774,     0.73874,     0.73974,     0.74074,     0.74174,     0.74274,     0.74374,\n",
       "           0.74474,     0.74575,     0.74675,     0.74775,     0.74875,     0.74975,     0.75075,     0.75175,     0.75275,     0.75375,     0.75475,     0.75576,     0.75676,     0.75776,     0.75876,     0.75976,     0.76076,     0.76176,     0.76276,     0.76376,     0.76476,     0.76577,     0.76677,     0.76777,\n",
       "           0.76877,     0.76977,     0.77077,     0.77177,     0.77277,     0.77377,     0.77477,     0.77578,     0.77678,     0.77778,     0.77878,     0.77978,     0.78078,     0.78178,     0.78278,     0.78378,     0.78478,     0.78579,     0.78679,     0.78779,     0.78879,     0.78979,     0.79079,     0.79179,\n",
       "           0.79279,     0.79379,     0.79479,      0.7958,      0.7968,      0.7978,      0.7988,      0.7998,      0.8008,      0.8018,      0.8028,      0.8038,      0.8048,     0.80581,     0.80681,     0.80781,     0.80881,     0.80981,     0.81081,     0.81181,     0.81281,     0.81381,     0.81481,     0.81582,\n",
       "           0.81682,     0.81782,     0.81882,     0.81982,     0.82082,     0.82182,     0.82282,     0.82382,     0.82482,     0.82583,     0.82683,     0.82783,     0.82883,     0.82983,     0.83083,     0.83183,     0.83283,     0.83383,     0.83483,     0.83584,     0.83684,     0.83784,     0.83884,     0.83984,\n",
       "           0.84084,     0.84184,     0.84284,     0.84384,     0.84484,     0.84585,     0.84685,     0.84785,     0.84885,     0.84985,     0.85085,     0.85185,     0.85285,     0.85385,     0.85485,     0.85586,     0.85686,     0.85786,     0.85886,     0.85986,     0.86086,     0.86186,     0.86286,     0.86386,\n",
       "           0.86486,     0.86587,     0.86687,     0.86787,     0.86887,     0.86987,     0.87087,     0.87187,     0.87287,     0.87387,     0.87487,     0.87588,     0.87688,     0.87788,     0.87888,     0.87988,     0.88088,     0.88188,     0.88288,     0.88388,     0.88488,     0.88589,     0.88689,     0.88789,\n",
       "           0.88889,     0.88989,     0.89089,     0.89189,     0.89289,     0.89389,     0.89489,      0.8959,      0.8969,      0.8979,      0.8989,      0.8999,      0.9009,      0.9019,      0.9029,      0.9039,      0.9049,     0.90591,     0.90691,     0.90791,     0.90891,     0.90991,     0.91091,     0.91191,\n",
       "           0.91291,     0.91391,     0.91491,     0.91592,     0.91692,     0.91792,     0.91892,     0.91992,     0.92092,     0.92192,     0.92292,     0.92392,     0.92492,     0.92593,     0.92693,     0.92793,     0.92893,     0.92993,     0.93093,     0.93193,     0.93293,     0.93393,     0.93493,     0.93594,\n",
       "           0.93694,     0.93794,     0.93894,     0.93994,     0.94094,     0.94194,     0.94294,     0.94394,     0.94494,     0.94595,     0.94695,     0.94795,     0.94895,     0.94995,     0.95095,     0.95195,     0.95295,     0.95395,     0.95495,     0.95596,     0.95696,     0.95796,     0.95896,     0.95996,\n",
       "           0.96096,     0.96196,     0.96296,     0.96396,     0.96496,     0.96597,     0.96697,     0.96797,     0.96897,     0.96997,     0.97097,     0.97197,     0.97297,     0.97397,     0.97497,     0.97598,     0.97698,     0.97798,     0.97898,     0.97998,     0.98098,     0.98198,     0.98298,     0.98398,\n",
       "           0.98498,     0.98599,     0.98699,     0.98799,     0.98899,     0.98999,     0.99099,     0.99199,     0.99299,     0.99399,     0.99499,       0.996,       0.997,       0.998,       0.999,           1]), array([[    0.87864,     0.87864,     0.86893,     0.86408,     0.84951,     0.84951,     0.84466,     0.84466,     0.84466,     0.84466,     0.84466,     0.83981,     0.83981,     0.83981,     0.83981,     0.83981,     0.83981,     0.83981,     0.83981,     0.83495,     0.83495,     0.83495,     0.83495,\n",
       "            0.83495,     0.83495,     0.83495,      0.8301,      0.8301,      0.8301,      0.8301,      0.8301,     0.82524,     0.82524,     0.82524,     0.82524,     0.82524,     0.82524,     0.81553,     0.81553,     0.81553,     0.81553,     0.81553,     0.81553,     0.81553,     0.81553,     0.81553,\n",
       "            0.81553,     0.81553,     0.81475,     0.81296,     0.81117,     0.80583,     0.80583,     0.80583,     0.80583,     0.80583,     0.80583,     0.80583,     0.80583,     0.80583,     0.80583,     0.80583,     0.80583,     0.80583,     0.80385,     0.80097,     0.80097,     0.80097,     0.80097,\n",
       "            0.80097,     0.80097,     0.80097,     0.80097,     0.79938,     0.79612,     0.79612,     0.79612,     0.79126,     0.79126,     0.79126,     0.79126,     0.78641,     0.78641,     0.78641,     0.78641,     0.78641,     0.78641,     0.78641,     0.78641,     0.78641,     0.78641,     0.78641,\n",
       "            0.78641,     0.78641,     0.78641,     0.78155,     0.78155,     0.78155,     0.78155,     0.78155,     0.78155,     0.78155,      0.7767,      0.7767,      0.7767,      0.7767,      0.7767,      0.7767,      0.7767,      0.7767,     0.77538,     0.77232,     0.77184,     0.77184,      0.7699,\n",
       "            0.76786,     0.76699,     0.76699,     0.76699,     0.76699,     0.76214,     0.76214,     0.76214,     0.76214,     0.76214,     0.76214,     0.76214,     0.76214,     0.76214,     0.76214,     0.76214,     0.76214,     0.76116,     0.76009,     0.75901,     0.75793,     0.75641,      0.7542,\n",
       "            0.75243,     0.75243,     0.74877,      0.7468,     0.74578,     0.74476,     0.74374,     0.74271,     0.74129,     0.73987,     0.73845,     0.73686,     0.73301,     0.73301,     0.73301,     0.73301,     0.73301,     0.73301,     0.73301,     0.73301,     0.73301,     0.73301,     0.73301,\n",
       "            0.73301,     0.73301,     0.73301,     0.73301,     0.73301,     0.73296,     0.73115,     0.72934,     0.72816,     0.72816,     0.72816,     0.72816,     0.72816,     0.72816,     0.72816,     0.72816,       0.726,      0.7233,      0.7233,     0.72305,     0.72263,     0.72222,      0.7218,\n",
       "            0.72139,     0.72097,     0.72056,     0.72014,     0.71973,     0.71931,      0.7189,     0.71849,     0.71845,     0.71845,     0.71845,     0.71845,     0.71845,     0.71845,     0.71845,     0.71845,     0.71327,     0.71199,      0.7107,     0.70942,     0.70874,     0.70874,     0.70874,\n",
       "            0.70874,     0.70845,     0.70484,     0.70388,     0.70388,     0.70388,     0.70388,     0.70388,     0.70388,     0.70388,     0.70388,     0.70388,     0.70388,     0.70388,     0.70388,     0.70388,     0.70388,     0.70388,     0.70388,     0.70388,     0.70388,     0.70388,     0.70388,\n",
       "            0.70388,     0.70388,     0.70388,     0.70388,     0.70388,     0.70388,     0.70388,     0.70352,     0.69903,     0.69903,     0.69903,     0.69903,     0.69903,     0.69903,     0.69903,     0.69903,     0.69903,     0.69903,     0.69903,     0.69903,     0.69903,     0.69903,     0.69903,\n",
       "            0.69903,     0.69903,     0.69882,     0.69848,     0.69815,     0.69781,     0.69747,     0.69713,      0.6968,     0.69646,     0.69612,     0.69579,     0.69545,     0.69511,     0.69477,     0.69444,     0.69399,      0.6932,      0.6924,     0.69161,     0.69081,     0.69001,     0.68912,\n",
       "            0.68759,     0.68606,     0.68453,     0.68327,     0.68203,     0.68079,     0.67961,     0.67961,     0.67961,     0.67934,     0.67891,     0.67848,     0.67805,     0.67761,     0.67718,     0.67675,     0.67632,     0.67588,     0.67545,     0.67502,     0.67476,     0.67476,     0.67476,\n",
       "            0.67476,     0.67476,     0.67476,     0.67476,     0.67476,     0.67476,     0.67476,     0.67476,     0.67476,     0.67476,     0.67476,     0.67476,     0.67476,     0.67476,     0.67476,     0.67476,     0.67476,     0.67476,     0.67286,     0.67002,      0.6699,      0.6699,      0.6699,\n",
       "             0.6699,     0.66586,     0.66505,     0.66505,     0.66505,     0.66505,     0.66505,     0.66505,     0.66505,     0.66505,     0.66505,     0.66505,     0.66505,     0.66505,     0.66505,     0.66505,     0.66505,     0.66505,     0.66505,     0.66505,     0.66505,     0.66505,     0.66505,\n",
       "            0.66505,     0.66306,       0.655,     0.65421,     0.65341,     0.65261,     0.65182,     0.65102,     0.65049,     0.65049,     0.65049,     0.65049,     0.65049,     0.65011,     0.64958,     0.64904,      0.6485,     0.64796,     0.64742,     0.64689,     0.64635,     0.64581,     0.64373,\n",
       "            0.64089,     0.64078,     0.64078,     0.64078,     0.64078,     0.64078,     0.64078,     0.64078,     0.64078,     0.64078,     0.64078,     0.64078,     0.64077,     0.64025,     0.63972,      0.6392,     0.63868,     0.63815,     0.63763,     0.63711,     0.63658,     0.63606,     0.62621,\n",
       "            0.62574,     0.62526,     0.62479,     0.62431,     0.62384,     0.62337,     0.62289,     0.62242,     0.62194,     0.62147,     0.62136,     0.62136,     0.62136,     0.62136,     0.62136,     0.62136,     0.62136,     0.62136,     0.62136,     0.62136,     0.62136,     0.62136,     0.62136,\n",
       "            0.62136,     0.62136,     0.62136,     0.62136,     0.62136,     0.62047,     0.61922,     0.61798,     0.61673,     0.61419,     0.61138,     0.60889,     0.60668,     0.60597,     0.60526,     0.60455,     0.60384,     0.60313,     0.60242,     0.60151,     0.60018,     0.59885,     0.59753,\n",
       "            0.59709,     0.59709,     0.59709,     0.59709,     0.59709,     0.59709,     0.59709,     0.59709,     0.59709,     0.59709,     0.59709,     0.59709,     0.59709,     0.59709,     0.59709,     0.59709,     0.59709,     0.59709,     0.59709,     0.59609,      0.5936,     0.59206,     0.59168,\n",
       "             0.5913,     0.59091,     0.59053,     0.59015,     0.58976,     0.58938,       0.589,     0.58862,     0.58823,     0.58785,     0.58747,     0.58356,     0.58187,     0.58104,     0.58021,     0.57938,     0.57855,     0.57772,     0.57767,     0.57767,     0.57767,     0.57767,     0.57767,\n",
       "            0.57767,     0.57767,     0.57767,     0.57767,     0.57767,     0.57767,     0.57709,     0.57461,     0.56298,     0.56253,     0.56208,     0.56162,     0.56117,     0.56072,     0.56027,     0.55981,     0.55936,     0.55891,     0.55846,     0.55689,      0.5544,     0.55042,     0.54545,\n",
       "            0.54208,     0.53959,     0.53797,     0.53673,     0.53548,     0.53424,     0.53398,     0.53398,     0.53398,     0.53398,     0.53398,     0.53398,     0.53305,     0.53205,     0.53106,     0.53006,     0.52911,     0.52885,     0.52859,     0.52832,     0.52806,      0.5278,     0.52754,\n",
       "            0.52728,     0.52702,     0.52675,     0.52649,     0.52623,     0.52597,     0.52571,     0.52544,     0.52518,     0.52492,     0.52466,      0.5244,     0.52427,     0.52427,     0.52427,     0.52427,     0.52427,     0.52427,     0.52427,     0.52427,     0.52427,     0.52427,     0.52427,\n",
       "            0.52427,     0.52427,     0.52427,     0.52427,     0.52329,     0.52218,     0.52107,     0.51997,     0.51692,     0.51456,     0.51402,     0.51302,     0.51203,     0.51103,     0.51003,     0.50318,     0.50069,      0.4988,     0.49715,     0.49549,     0.49436,     0.49336,     0.49236,\n",
       "            0.49137,     0.49037,     0.48088,     0.48058,     0.48058,     0.47432,      0.4729,     0.47148,      0.4703,     0.46931,     0.46831,     0.46732,     0.46632,     0.46602,     0.46602,     0.46602,     0.46602,     0.46602,     0.46602,     0.46392,     0.46143,     0.45078,     0.44913,\n",
       "            0.44747,     0.44581,     0.44415,     0.44249,     0.44133,     0.44056,     0.43979,     0.43903,     0.43826,      0.4375,     0.43689,     0.43689,     0.43689,     0.43689,     0.43651,     0.43527,     0.43402,     0.43278,     0.43146,     0.43004,     0.42862,      0.4272,     0.42716,\n",
       "             0.4255,     0.42384,     0.41255,     0.41179,     0.41102,     0.41026,     0.40949,     0.40873,     0.40796,     0.40405,     0.39907,     0.39269,     0.39103,     0.38938,     0.38835,     0.38835,     0.38835,     0.38835,     0.38835,     0.38588,     0.38344,     0.38202,     0.38059,\n",
       "            0.37917,     0.37795,     0.37684,     0.37574,     0.37463,      0.3732,     0.37071,     0.36893,     0.36346,     0.36147,     0.35948,     0.35922,     0.35922,     0.35437,     0.35437,     0.35437,     0.34906,     0.34815,     0.34725,     0.34634,     0.34544,     0.33967,     0.33867,\n",
       "            0.33768,     0.33668,     0.33569,     0.31996,      0.3183,     0.31664,     0.31553,     0.31553,     0.31553,     0.31553,     0.30583,     0.30583,     0.30583,     0.30089,     0.29612,     0.29612,     0.29522,     0.29026,      0.2886,     0.28695,     0.27931,     0.27079,     0.26621,\n",
       "            0.26289,     0.26214,     0.26214,      0.2516,     0.24911,     0.23891,     0.23341,     0.22358,     0.22017,     0.21606,     0.20706,     0.19404,     0.19072,      0.1885,     0.18708,     0.18566,     0.18447,     0.18447,     0.18272,     0.18024,     0.16742,     0.15925,     0.15593,\n",
       "            0.14844,     0.14595,     0.14274,     0.13107,     0.13107,     0.12794,      0.1165,      0.1165,     0.10989,     0.10183,     0.10017,    0.098514,    0.096856,    0.095197,    0.093539,    0.092021,    0.091026,    0.090031,    0.089036,     0.08804,    0.081413,    0.078096,    0.066997,\n",
       "           0.065892,    0.064786,     0.06368,     0.06151,    0.058241,    0.057619,    0.056997,    0.056375,    0.055753,    0.055131,    0.054509,    0.053887,    0.053044,    0.051386,    0.049727,    0.048227,    0.047121,    0.046015,     0.04491,    0.043804,    0.037051,     0.03506,    0.028823,\n",
       "           0.028159,    0.027496,    0.026832,    0.026169,    0.025505,    0.024842,    0.024097,    0.022853,    0.021609,    0.020365,    0.014528,    0.014382,    0.014236,    0.014089,    0.013943,    0.013796,     0.01365,    0.013504,    0.013357,    0.013211,    0.013065,    0.012918,    0.012772,\n",
       "           0.012626,    0.012479,    0.012333,    0.012187,     0.01204,    0.011894,    0.011748,    0.011601,    0.011455,    0.011309,    0.011162,    0.011016,     0.01087,    0.010723,    0.010577,     0.01043,    0.010284,    0.010138,   0.0099914,   0.0098451,    0.009652,   0.0088227,   0.0079934,\n",
       "          0.0071641,   0.0063348,   0.0055055,           0,           0,           0,           0,           0,           0,           0,           0,           0,           0,           0,           0,           0,           0,           0,           0,           0,           0,           0,           0,\n",
       "                  0,           0,           0,           0,           0,           0,           0,           0,           0,           0,           0,           0,           0,           0,           0,           0,           0,           0,           0,           0,           0,           0,           0,\n",
       "                  0,           0,           0,           0,           0,           0,           0,           0,           0,           0,           0,           0,           0,           0,           0,           0,           0,           0,           0,           0,           0,           0,           0,\n",
       "                  0,           0,           0,           0,           0,           0,           0,           0,           0,           0,           0,           0,           0,           0,           0,           0,           0,           0,           0,           0,           0,           0,           0,\n",
       "                  0,           0,           0,           0,           0,           0,           0,           0,           0,           0,           0,           0,           0,           0,           0,           0,           0,           0,           0,           0,           0,           0,           0,\n",
       "                  0,           0,           0,           0,           0,           0,           0,           0,           0,           0,           0,           0,           0,           0,           0,           0,           0,           0,           0,           0,           0,           0,           0,\n",
       "                  0,           0,           0,           0,           0,           0,           0,           0,           0,           0,           0,           0,           0,           0,           0,           0,           0,           0,           0,           0,           0,           0,           0,\n",
       "                  0,           0,           0,           0,           0,           0,           0,           0,           0,           0,           0,           0,           0,           0,           0,           0,           0,           0,           0,           0,           0,           0,           0,\n",
       "                  0,           0,           0,           0,           0,           0,           0,           0,           0,           0,           0]]), 'Confidence', 'Recall']]\n",
       "fitness: 0.38715220185248683\n",
       "keys: ['metrics/precision(B)', 'metrics/recall(B)', 'metrics/mAP50(B)', 'metrics/mAP50-95(B)']\n",
       "maps: array([    0.35028])\n",
       "names: {0: 'bird'}\n",
       "plot: True\n",
       "results_dict: {'metrics/precision(B)': 0.7632319176891217, 'metrics/recall(B)': 0.6650485436893204, 'metrics/mAP50(B)': 0.7190039914898133, 'metrics/mAP50-95(B)': 0.35027978078167277, 'fitness': 0.38715220185248683}\n",
       "save_dir: PosixPath('yolo_run_2_brids/2_birds_1280_default2')\n",
       "speed: {'preprocess': 0.6439337190958406, 'inference': 18.77447452244177, 'loss': 0.0005177246881491933, 'postprocess': 1.4485306123634891}\n",
       "task: 'detect'"
      ]
     },
     "execution_count": 7,
     "metadata": {},
     "output_type": "execute_result"
    }
   ],
   "source": [
    "model_stage_1.train(\n",
    "    data=yolo_data,          # Path to your dataset configuration file\n",
    "\n",
    "    # Hyperparameters\n",
    "    epochs=100,                    # Number of epochs\n",
    "    batch=-1,                     # batch size\n",
    "    imgsz=1280,                    # Image size\n",
    "    freeze=10,                     # Freeze first 10 layers\n",
    "    patience=12,\n",
    "    project=\"yolo_run_2_brids\",\n",
    "    name=f\"2_birds_1280_default\",\n",
    "    # Reproducability\n",
    "    seed = 42\n",
    ")"
   ]
  },
  {
   "cell_type": "code",
   "execution_count": 9,
   "metadata": {
    "execution": {
     "iopub.execute_input": "2025-05-11T17:32:06.853160Z",
     "iopub.status.busy": "2025-05-11T17:32:06.852892Z",
     "iopub.status.idle": "2025-05-11T17:32:16.491136Z",
     "shell.execute_reply": "2025-05-11T17:32:16.490417Z",
     "shell.execute_reply.started": "2025-05-11T17:32:06.853142Z"
    }
   },
   "outputs": [
    {
     "name": "stdout",
     "output_type": "stream",
     "text": [
      "Ultralytics 8.3.131 🚀 Python-3.11.7 torch-2.1.1+cu121 CUDA:0 (NVIDIA RTX A4000, 16102MiB)\n",
      "YOLO11m summary (fused): 125 layers, 20,030,803 parameters, 0 gradients, 67.6 GFLOPs\n",
      "\u001b[34m\u001b[1mval: \u001b[0mFast image access ✅ (ping: 0.0±0.0 ms, read: 92.3±11.1 MB/s, size: 2768.3 KB)\n"
     ]
    },
    {
     "name": "stderr",
     "output_type": "stream",
     "text": [
      "\u001b[34m\u001b[1mval: \u001b[0mScanning /notebooks/DL---detection-of-birds-in-drone-images/data/tiled_augmented_1280_good_augment_yolo_data/valid/labels.cache... 178 images, 129 backgrounds, 0 corrupt: 100%|██████████| 178/178 [00:00<?, ?it/s]"
     ]
    },
    {
     "name": "stdout",
     "output_type": "stream",
     "text": [
      "\u001b[34m\u001b[1mval: \u001b[0m/notebooks/DL---detection-of-birds-in-drone-images/data/tiled_augmented_1280_good_augment_yolo_data/valid/images/DJI_0319_tile-0.png: 1 duplicate labels removed\n"
     ]
    },
    {
     "name": "stderr",
     "output_type": "stream",
     "text": [
      "\n",
      "                 Class     Images  Instances      Box(P          R      mAP50  mAP50-95): 100%|██████████| 26/26 [00:06<00:00,  4.10it/s]\n"
     ]
    },
    {
     "name": "stdout",
     "output_type": "stream",
     "text": [
      "                   all        178        206      0.718      0.681      0.724      0.357\n",
      "Speed: 1.6ms preprocess, 29.1ms inference, 0.0ms loss, 1.6ms postprocess per image\n",
      "Results saved to \u001b[1myolo_run_2_brids/2_birds_1280_default22\u001b[0m\n"
     ]
    },
    {
     "data": {
      "text/plain": [
       "ultralytics.utils.metrics.DetMetrics object with attributes:\n",
       "\n",
       "ap_class_index: array([0])\n",
       "box: ultralytics.utils.metrics.Metric object\n",
       "confusion_matrix: <ultralytics.utils.metrics.ConfusionMatrix object at 0x7fb7d85a0150>\n",
       "curves: ['Precision-Recall(B)', 'F1-Confidence(B)', 'Precision-Confidence(B)', 'Recall-Confidence(B)']\n",
       "curves_results: [[array([          0,    0.001001,    0.002002,    0.003003,    0.004004,    0.005005,    0.006006,    0.007007,    0.008008,    0.009009,     0.01001,    0.011011,    0.012012,    0.013013,    0.014014,    0.015015,    0.016016,    0.017017,    0.018018,    0.019019,     0.02002,    0.021021,    0.022022,    0.023023,\n",
       "          0.024024,    0.025025,    0.026026,    0.027027,    0.028028,    0.029029,     0.03003,    0.031031,    0.032032,    0.033033,    0.034034,    0.035035,    0.036036,    0.037037,    0.038038,    0.039039,     0.04004,    0.041041,    0.042042,    0.043043,    0.044044,    0.045045,    0.046046,    0.047047,\n",
       "          0.048048,    0.049049,     0.05005,    0.051051,    0.052052,    0.053053,    0.054054,    0.055055,    0.056056,    0.057057,    0.058058,    0.059059,     0.06006,    0.061061,    0.062062,    0.063063,    0.064064,    0.065065,    0.066066,    0.067067,    0.068068,    0.069069,     0.07007,    0.071071,\n",
       "          0.072072,    0.073073,    0.074074,    0.075075,    0.076076,    0.077077,    0.078078,    0.079079,     0.08008,    0.081081,    0.082082,    0.083083,    0.084084,    0.085085,    0.086086,    0.087087,    0.088088,    0.089089,     0.09009,    0.091091,    0.092092,    0.093093,    0.094094,    0.095095,\n",
       "          0.096096,    0.097097,    0.098098,    0.099099,      0.1001,      0.1011,      0.1021,      0.1031,      0.1041,     0.10511,     0.10611,     0.10711,     0.10811,     0.10911,     0.11011,     0.11111,     0.11211,     0.11311,     0.11411,     0.11512,     0.11612,     0.11712,     0.11812,     0.11912,\n",
       "           0.12012,     0.12112,     0.12212,     0.12312,     0.12412,     0.12513,     0.12613,     0.12713,     0.12813,     0.12913,     0.13013,     0.13113,     0.13213,     0.13313,     0.13413,     0.13514,     0.13614,     0.13714,     0.13814,     0.13914,     0.14014,     0.14114,     0.14214,     0.14314,\n",
       "           0.14414,     0.14515,     0.14615,     0.14715,     0.14815,     0.14915,     0.15015,     0.15115,     0.15215,     0.15315,     0.15415,     0.15516,     0.15616,     0.15716,     0.15816,     0.15916,     0.16016,     0.16116,     0.16216,     0.16316,     0.16416,     0.16517,     0.16617,     0.16717,\n",
       "           0.16817,     0.16917,     0.17017,     0.17117,     0.17217,     0.17317,     0.17417,     0.17518,     0.17618,     0.17718,     0.17818,     0.17918,     0.18018,     0.18118,     0.18218,     0.18318,     0.18418,     0.18519,     0.18619,     0.18719,     0.18819,     0.18919,     0.19019,     0.19119,\n",
       "           0.19219,     0.19319,     0.19419,      0.1952,      0.1962,      0.1972,      0.1982,      0.1992,      0.2002,      0.2012,      0.2022,      0.2032,      0.2042,     0.20521,     0.20621,     0.20721,     0.20821,     0.20921,     0.21021,     0.21121,     0.21221,     0.21321,     0.21421,     0.21522,\n",
       "           0.21622,     0.21722,     0.21822,     0.21922,     0.22022,     0.22122,     0.22222,     0.22322,     0.22422,     0.22523,     0.22623,     0.22723,     0.22823,     0.22923,     0.23023,     0.23123,     0.23223,     0.23323,     0.23423,     0.23524,     0.23624,     0.23724,     0.23824,     0.23924,\n",
       "           0.24024,     0.24124,     0.24224,     0.24324,     0.24424,     0.24525,     0.24625,     0.24725,     0.24825,     0.24925,     0.25025,     0.25125,     0.25225,     0.25325,     0.25425,     0.25526,     0.25626,     0.25726,     0.25826,     0.25926,     0.26026,     0.26126,     0.26226,     0.26326,\n",
       "           0.26426,     0.26527,     0.26627,     0.26727,     0.26827,     0.26927,     0.27027,     0.27127,     0.27227,     0.27327,     0.27427,     0.27528,     0.27628,     0.27728,     0.27828,     0.27928,     0.28028,     0.28128,     0.28228,     0.28328,     0.28428,     0.28529,     0.28629,     0.28729,\n",
       "           0.28829,     0.28929,     0.29029,     0.29129,     0.29229,     0.29329,     0.29429,      0.2953,      0.2963,      0.2973,      0.2983,      0.2993,      0.3003,      0.3013,      0.3023,      0.3033,      0.3043,     0.30531,     0.30631,     0.30731,     0.30831,     0.30931,     0.31031,     0.31131,\n",
       "           0.31231,     0.31331,     0.31431,     0.31532,     0.31632,     0.31732,     0.31832,     0.31932,     0.32032,     0.32132,     0.32232,     0.32332,     0.32432,     0.32533,     0.32633,     0.32733,     0.32833,     0.32933,     0.33033,     0.33133,     0.33233,     0.33333,     0.33433,     0.33534,\n",
       "           0.33634,     0.33734,     0.33834,     0.33934,     0.34034,     0.34134,     0.34234,     0.34334,     0.34434,     0.34535,     0.34635,     0.34735,     0.34835,     0.34935,     0.35035,     0.35135,     0.35235,     0.35335,     0.35435,     0.35536,     0.35636,     0.35736,     0.35836,     0.35936,\n",
       "           0.36036,     0.36136,     0.36236,     0.36336,     0.36436,     0.36537,     0.36637,     0.36737,     0.36837,     0.36937,     0.37037,     0.37137,     0.37237,     0.37337,     0.37437,     0.37538,     0.37638,     0.37738,     0.37838,     0.37938,     0.38038,     0.38138,     0.38238,     0.38338,\n",
       "           0.38438,     0.38539,     0.38639,     0.38739,     0.38839,     0.38939,     0.39039,     0.39139,     0.39239,     0.39339,     0.39439,      0.3954,      0.3964,      0.3974,      0.3984,      0.3994,      0.4004,      0.4014,      0.4024,      0.4034,      0.4044,     0.40541,     0.40641,     0.40741,\n",
       "           0.40841,     0.40941,     0.41041,     0.41141,     0.41241,     0.41341,     0.41441,     0.41542,     0.41642,     0.41742,     0.41842,     0.41942,     0.42042,     0.42142,     0.42242,     0.42342,     0.42442,     0.42543,     0.42643,     0.42743,     0.42843,     0.42943,     0.43043,     0.43143,\n",
       "           0.43243,     0.43343,     0.43443,     0.43544,     0.43644,     0.43744,     0.43844,     0.43944,     0.44044,     0.44144,     0.44244,     0.44344,     0.44444,     0.44545,     0.44645,     0.44745,     0.44845,     0.44945,     0.45045,     0.45145,     0.45245,     0.45345,     0.45445,     0.45546,\n",
       "           0.45646,     0.45746,     0.45846,     0.45946,     0.46046,     0.46146,     0.46246,     0.46346,     0.46446,     0.46547,     0.46647,     0.46747,     0.46847,     0.46947,     0.47047,     0.47147,     0.47247,     0.47347,     0.47447,     0.47548,     0.47648,     0.47748,     0.47848,     0.47948,\n",
       "           0.48048,     0.48148,     0.48248,     0.48348,     0.48448,     0.48549,     0.48649,     0.48749,     0.48849,     0.48949,     0.49049,     0.49149,     0.49249,     0.49349,     0.49449,      0.4955,      0.4965,      0.4975,      0.4985,      0.4995,      0.5005,      0.5015,      0.5025,      0.5035,\n",
       "            0.5045,     0.50551,     0.50651,     0.50751,     0.50851,     0.50951,     0.51051,     0.51151,     0.51251,     0.51351,     0.51451,     0.51552,     0.51652,     0.51752,     0.51852,     0.51952,     0.52052,     0.52152,     0.52252,     0.52352,     0.52452,     0.52553,     0.52653,     0.52753,\n",
       "           0.52853,     0.52953,     0.53053,     0.53153,     0.53253,     0.53353,     0.53453,     0.53554,     0.53654,     0.53754,     0.53854,     0.53954,     0.54054,     0.54154,     0.54254,     0.54354,     0.54454,     0.54555,     0.54655,     0.54755,     0.54855,     0.54955,     0.55055,     0.55155,\n",
       "           0.55255,     0.55355,     0.55455,     0.55556,     0.55656,     0.55756,     0.55856,     0.55956,     0.56056,     0.56156,     0.56256,     0.56356,     0.56456,     0.56557,     0.56657,     0.56757,     0.56857,     0.56957,     0.57057,     0.57157,     0.57257,     0.57357,     0.57457,     0.57558,\n",
       "           0.57658,     0.57758,     0.57858,     0.57958,     0.58058,     0.58158,     0.58258,     0.58358,     0.58458,     0.58559,     0.58659,     0.58759,     0.58859,     0.58959,     0.59059,     0.59159,     0.59259,     0.59359,     0.59459,      0.5956,      0.5966,      0.5976,      0.5986,      0.5996,\n",
       "            0.6006,      0.6016,      0.6026,      0.6036,      0.6046,     0.60561,     0.60661,     0.60761,     0.60861,     0.60961,     0.61061,     0.61161,     0.61261,     0.61361,     0.61461,     0.61562,     0.61662,     0.61762,     0.61862,     0.61962,     0.62062,     0.62162,     0.62262,     0.62362,\n",
       "           0.62462,     0.62563,     0.62663,     0.62763,     0.62863,     0.62963,     0.63063,     0.63163,     0.63263,     0.63363,     0.63463,     0.63564,     0.63664,     0.63764,     0.63864,     0.63964,     0.64064,     0.64164,     0.64264,     0.64364,     0.64464,     0.64565,     0.64665,     0.64765,\n",
       "           0.64865,     0.64965,     0.65065,     0.65165,     0.65265,     0.65365,     0.65465,     0.65566,     0.65666,     0.65766,     0.65866,     0.65966,     0.66066,     0.66166,     0.66266,     0.66366,     0.66466,     0.66567,     0.66667,     0.66767,     0.66867,     0.66967,     0.67067,     0.67167,\n",
       "           0.67267,     0.67367,     0.67467,     0.67568,     0.67668,     0.67768,     0.67868,     0.67968,     0.68068,     0.68168,     0.68268,     0.68368,     0.68468,     0.68569,     0.68669,     0.68769,     0.68869,     0.68969,     0.69069,     0.69169,     0.69269,     0.69369,     0.69469,      0.6957,\n",
       "            0.6967,      0.6977,      0.6987,      0.6997,      0.7007,      0.7017,      0.7027,      0.7037,      0.7047,     0.70571,     0.70671,     0.70771,     0.70871,     0.70971,     0.71071,     0.71171,     0.71271,     0.71371,     0.71471,     0.71572,     0.71672,     0.71772,     0.71872,     0.71972,\n",
       "           0.72072,     0.72172,     0.72272,     0.72372,     0.72472,     0.72573,     0.72673,     0.72773,     0.72873,     0.72973,     0.73073,     0.73173,     0.73273,     0.73373,     0.73473,     0.73574,     0.73674,     0.73774,     0.73874,     0.73974,     0.74074,     0.74174,     0.74274,     0.74374,\n",
       "           0.74474,     0.74575,     0.74675,     0.74775,     0.74875,     0.74975,     0.75075,     0.75175,     0.75275,     0.75375,     0.75475,     0.75576,     0.75676,     0.75776,     0.75876,     0.75976,     0.76076,     0.76176,     0.76276,     0.76376,     0.76476,     0.76577,     0.76677,     0.76777,\n",
       "           0.76877,     0.76977,     0.77077,     0.77177,     0.77277,     0.77377,     0.77477,     0.77578,     0.77678,     0.77778,     0.77878,     0.77978,     0.78078,     0.78178,     0.78278,     0.78378,     0.78478,     0.78579,     0.78679,     0.78779,     0.78879,     0.78979,     0.79079,     0.79179,\n",
       "           0.79279,     0.79379,     0.79479,      0.7958,      0.7968,      0.7978,      0.7988,      0.7998,      0.8008,      0.8018,      0.8028,      0.8038,      0.8048,     0.80581,     0.80681,     0.80781,     0.80881,     0.80981,     0.81081,     0.81181,     0.81281,     0.81381,     0.81481,     0.81582,\n",
       "           0.81682,     0.81782,     0.81882,     0.81982,     0.82082,     0.82182,     0.82282,     0.82382,     0.82482,     0.82583,     0.82683,     0.82783,     0.82883,     0.82983,     0.83083,     0.83183,     0.83283,     0.83383,     0.83483,     0.83584,     0.83684,     0.83784,     0.83884,     0.83984,\n",
       "           0.84084,     0.84184,     0.84284,     0.84384,     0.84484,     0.84585,     0.84685,     0.84785,     0.84885,     0.84985,     0.85085,     0.85185,     0.85285,     0.85385,     0.85485,     0.85586,     0.85686,     0.85786,     0.85886,     0.85986,     0.86086,     0.86186,     0.86286,     0.86386,\n",
       "           0.86486,     0.86587,     0.86687,     0.86787,     0.86887,     0.86987,     0.87087,     0.87187,     0.87287,     0.87387,     0.87487,     0.87588,     0.87688,     0.87788,     0.87888,     0.87988,     0.88088,     0.88188,     0.88288,     0.88388,     0.88488,     0.88589,     0.88689,     0.88789,\n",
       "           0.88889,     0.88989,     0.89089,     0.89189,     0.89289,     0.89389,     0.89489,      0.8959,      0.8969,      0.8979,      0.8989,      0.8999,      0.9009,      0.9019,      0.9029,      0.9039,      0.9049,     0.90591,     0.90691,     0.90791,     0.90891,     0.90991,     0.91091,     0.91191,\n",
       "           0.91291,     0.91391,     0.91491,     0.91592,     0.91692,     0.91792,     0.91892,     0.91992,     0.92092,     0.92192,     0.92292,     0.92392,     0.92492,     0.92593,     0.92693,     0.92793,     0.92893,     0.92993,     0.93093,     0.93193,     0.93293,     0.93393,     0.93493,     0.93594,\n",
       "           0.93694,     0.93794,     0.93894,     0.93994,     0.94094,     0.94194,     0.94294,     0.94394,     0.94494,     0.94595,     0.94695,     0.94795,     0.94895,     0.94995,     0.95095,     0.95195,     0.95295,     0.95395,     0.95495,     0.95596,     0.95696,     0.95796,     0.95896,     0.95996,\n",
       "           0.96096,     0.96196,     0.96296,     0.96396,     0.96496,     0.96597,     0.96697,     0.96797,     0.96897,     0.96997,     0.97097,     0.97197,     0.97297,     0.97397,     0.97497,     0.97598,     0.97698,     0.97798,     0.97898,     0.97998,     0.98098,     0.98198,     0.98298,     0.98398,\n",
       "           0.98498,     0.98599,     0.98699,     0.98799,     0.98899,     0.98999,     0.99099,     0.99199,     0.99299,     0.99399,     0.99499,       0.996,       0.997,       0.998,       0.999,           1]), array([[          1,           1,           1,           1,           1,           1,           1,           1,           1,           1,           1,           1,           1,           1,           1,           1,           1,           1,           1,           1,           1,           1,           1,\n",
       "                  1,           1,           1,           1,           1,           1,           1,           1,           1,           1,           1,           1,           1,           1,           1,           1,           1,           1,           1,           1,           1,           1,           1,\n",
       "                  1,           1,           1,           1,           1,           1,           1,           1,           1,           1,           1,           1,           1,           1,           1,           1,           1,           1,           1,           1,           1,           1,           1,\n",
       "                  1,           1,           1,           1,           1,           1,           1,           1,           1,           1,           1,           1,           1,           1,           1,           1,           1,           1,           1,           1,           1,           1,           1,\n",
       "                  1,           1,           1,           1,           1,           1,           1,           1,           1,           1,           1,           1,           1,           1,           1,           1,           1,           1,           1,           1,           1,           1,           1,\n",
       "                  1,           1,     0.96552,     0.96552,     0.96552,     0.96552,     0.96552,     0.96552,     0.96552,     0.96552,     0.96552,     0.96552,     0.96552,     0.96552,     0.96552,     0.96552,     0.96552,     0.96552,     0.96552,     0.96552,     0.96552,     0.95833,     0.95833,\n",
       "            0.95833,     0.95833,     0.95833,     0.95833,     0.95833,     0.95833,     0.95833,     0.95833,     0.95833,     0.95833,     0.95833,     0.95833,     0.95833,     0.95833,     0.95833,     0.95833,     0.95833,     0.95833,     0.95833,     0.95833,     0.95833,     0.95833,     0.95833,\n",
       "            0.95833,     0.95833,     0.95833,     0.95833,     0.95833,     0.95833,     0.95833,     0.95833,     0.95833,     0.95833,     0.95833,     0.95833,     0.95833,     0.95833,     0.95833,     0.95833,     0.95833,     0.95833,     0.95833,     0.95833,     0.95833,     0.95833,     0.95833,\n",
       "            0.95833,     0.95833,     0.95833,     0.95833,     0.95833,     0.95833,     0.95833,     0.95833,     0.95833,     0.95833,     0.95833,     0.95833,     0.95833,     0.95833,     0.95833,     0.95833,     0.95833,     0.95833,     0.95833,     0.95833,     0.95833,     0.95833,     0.95833,\n",
       "            0.95833,     0.95833,     0.95833,     0.95833,     0.95833,     0.95833,     0.95833,     0.95833,     0.95833,     0.95833,     0.95833,     0.95833,     0.95833,     0.95833,     0.95833,     0.95833,     0.95833,     0.94828,     0.94828,     0.94828,     0.94828,     0.94828,     0.94828,\n",
       "            0.94828,     0.94828,     0.94828,     0.94828,     0.94828,     0.94828,     0.94828,     0.94828,     0.94828,     0.94828,     0.94828,     0.94828,     0.94828,     0.94828,     0.94828,     0.94828,     0.94828,     0.94828,     0.94828,     0.94828,     0.94828,     0.94828,     0.94828,\n",
       "            0.94828,     0.94828,     0.94828,     0.94828,     0.94828,     0.94828,     0.94828,     0.94828,     0.94828,     0.94828,     0.94828,     0.94828,     0.94828,     0.94828,     0.93939,     0.93939,     0.93939,     0.93939,     0.93939,     0.93939,     0.93939,     0.93939,     0.93939,\n",
       "            0.93939,     0.93939,     0.93939,     0.93939,     0.93939,     0.93939,     0.93939,     0.93939,     0.93939,     0.93939,     0.93939,     0.93939,     0.93939,     0.93939,     0.93939,     0.93939,     0.93939,     0.93939,     0.93939,     0.93939,     0.93939,     0.93939,     0.93939,\n",
       "            0.93939,     0.93939,     0.92754,     0.92754,     0.92754,     0.92754,     0.92754,     0.92754,     0.92754,     0.92754,     0.92754,     0.92754,     0.91667,     0.91667,     0.91667,     0.91667,     0.91667,     0.91667,     0.91667,     0.91667,     0.91667,     0.91667,     0.91463,\n",
       "            0.91463,     0.91463,     0.91463,     0.91463,     0.91463,     0.91463,     0.91463,     0.91463,     0.91463,     0.91463,     0.91463,     0.91463,     0.91463,     0.91463,     0.91463,     0.91463,     0.91463,     0.91463,     0.91463,     0.91463,     0.91463,     0.91463,     0.91463,\n",
       "            0.91463,     0.91463,     0.91463,     0.91463,     0.91463,     0.91463,     0.91463,     0.91463,     0.91463,     0.91463,     0.91463,     0.91463,     0.91463,     0.91463,     0.91463,     0.91463,     0.91463,     0.91463,     0.91463,     0.89535,     0.89535,     0.89535,     0.89535,\n",
       "            0.89535,     0.89535,     0.89535,     0.89535,     0.89535,     0.89535,     0.88636,     0.88636,     0.88636,     0.88636,     0.88636,     0.88043,     0.88043,     0.88043,     0.88043,     0.88043,     0.88043,     0.88043,     0.88043,     0.88043,     0.88043,     0.88043,     0.88043,\n",
       "            0.88043,     0.88043,        0.88,        0.88,        0.88,        0.88,        0.88,        0.88,        0.88,        0.88,        0.88,        0.88,        0.88,        0.88,        0.88,        0.88,        0.88,        0.88,        0.88,        0.88,        0.88,        0.88,        0.88,\n",
       "               0.88,        0.88,        0.88,        0.88,        0.88,        0.88,        0.88,        0.88,        0.88,        0.88,        0.88,        0.88,        0.88,     0.87379,     0.87379,     0.87379,     0.87379,     0.87379,     0.87379,     0.87379,     0.87379,     0.87379,     0.87379,\n",
       "            0.86486,     0.86486,     0.86486,     0.86486,     0.86486,     0.86486,     0.86486,     0.86486,     0.86486,     0.86486,     0.86486,     0.86486,     0.86486,     0.86486,     0.86486,     0.86486,     0.86486,     0.86486,     0.86486,     0.86486,     0.86486,     0.86486,     0.86486,\n",
       "            0.86486,     0.86486,     0.86486,     0.86486,     0.86486,     0.86486,     0.85841,     0.85841,     0.85841,     0.85841,     0.85841,     0.85484,     0.85484,     0.85484,     0.85484,     0.85484,     0.85484,     0.85484,     0.85484,     0.85484,     0.85484,     0.85484,     0.85484,\n",
       "            0.85484,     0.85484,     0.85484,     0.85484,     0.85484,     0.85484,     0.85484,     0.85484,     0.85484,     0.85484,     0.85484,     0.85484,     0.85484,     0.85484,     0.85484,     0.85484,     0.85484,     0.85484,     0.85484,     0.85484,     0.85484,     0.85484,     0.85484,\n",
       "            0.85484,     0.85484,     0.85484,     0.85484,     0.85484,     0.85484,     0.85484,     0.85484,     0.85484,     0.85039,     0.85039,     0.85039,     0.85039,     0.85039,     0.85039,     0.85039,     0.85039,     0.85039,     0.83846,     0.83846,     0.83846,     0.83846,     0.83846,\n",
       "            0.82836,     0.82836,     0.82836,     0.82836,     0.82836,     0.82836,     0.82836,     0.82836,     0.82836,     0.82836,     0.81752,     0.81752,     0.81752,     0.81752,     0.81752,     0.81507,     0.81507,     0.81507,     0.81507,     0.81507,     0.81507,     0.81507,     0.81507,\n",
       "            0.81507,     0.81507,     0.81507,     0.81507,     0.81507,     0.81507,     0.81507,     0.81507,     0.81507,     0.81507,     0.81507,     0.81507,     0.81507,     0.81507,     0.81507,     0.81507,     0.81507,     0.81507,     0.81507,     0.81507,     0.81507,     0.81507,     0.81507,\n",
       "            0.81507,     0.81507,     0.81507,     0.81457,     0.81457,     0.81457,     0.81457,     0.81457,     0.81457,     0.81457,     0.81457,     0.81457,     0.81457,     0.81457,     0.81457,     0.81457,     0.81457,     0.81457,     0.81457,     0.81457,     0.81457,     0.81457,     0.81046,\n",
       "            0.81046,     0.81046,     0.81046,     0.81046,     0.78528,     0.78528,     0.78528,     0.78528,     0.78528,     0.78528,     0.78528,     0.78528,     0.78528,     0.78528,     0.78528,     0.78528,     0.78528,     0.78528,     0.78528,     0.78528,     0.78528,     0.78528,     0.78528,\n",
       "            0.77778,     0.77778,     0.77778,     0.77778,     0.77778,     0.77778,     0.77778,     0.77778,     0.77778,     0.77778,     0.77778,     0.77778,     0.77778,     0.77778,     0.77778,     0.77778,     0.77778,     0.77778,     0.77778,     0.77778,     0.77778,     0.77778,     0.77778,\n",
       "            0.77778,     0.76571,     0.76571,     0.76571,     0.76571,     0.76571,     0.76111,     0.76111,     0.76111,     0.76111,     0.76111,     0.76111,     0.76111,     0.76111,     0.76111,     0.76111,     0.76111,     0.76111,     0.76111,     0.76111,     0.76111,      0.7541,      0.7541,\n",
       "             0.7541,      0.7541,      0.7541,     0.74731,     0.74731,     0.74731,     0.74731,     0.74731,     0.72539,     0.72539,     0.72539,     0.72539,     0.72362,     0.72362,     0.72362,     0.72362,     0.72362,     0.72362,     0.72362,     0.72362,     0.72362,     0.72362,     0.72362,\n",
       "            0.72362,     0.72362,     0.72362,     0.72362,     0.72362,     0.72362,     0.72362,     0.72362,     0.72362,     0.71429,     0.71429,     0.71429,     0.71429,     0.71429,     0.69194,     0.69194,     0.69194,     0.69194,     0.69194,     0.68837,     0.68837,     0.68837,     0.68837,\n",
       "            0.68837,     0.68837,     0.68837,     0.68837,     0.68837,     0.68349,     0.68349,     0.68349,     0.68349,     0.68349,     0.67873,     0.67873,     0.67873,     0.67873,     0.67873,     0.67411,     0.67411,     0.67411,     0.67411,     0.67411,     0.65833,     0.65833,     0.65833,\n",
       "            0.65833,     0.65833,     0.65833,     0.65833,     0.65833,     0.65833,     0.65833,     0.65833,     0.65833,     0.65833,     0.65833,     0.65833,     0.65833,     0.65833,     0.65833,     0.65833,     0.65833,     0.65833,     0.65833,     0.65833,     0.65833,     0.65833,     0.65833,\n",
       "            0.65833,     0.65833,     0.65833,     0.65833,     0.65833,     0.65833,     0.65833,     0.65833,     0.63855,     0.63855,     0.63855,     0.63855,     0.63855,     0.63745,     0.63745,     0.63745,     0.63745,     0.63386,     0.63386,     0.63386,     0.63386,     0.63386,     0.62791,\n",
       "            0.62791,     0.62791,     0.62791,     0.62791,      0.6037,      0.6037,      0.6037,      0.6037,      0.6037,     0.58571,     0.58571,     0.58571,     0.58571,     0.58571,     0.57491,     0.57491,     0.57491,     0.57491,     0.57491,     0.55333,     0.55333,     0.55333,     0.55333,\n",
       "            0.55333,     0.51543,     0.51543,     0.51543,     0.51543,      0.5122,      0.5122,      0.5122,      0.5122,      0.5122,     0.48571,     0.48571,     0.48571,     0.48571,     0.48571,     0.48571,     0.48571,     0.48571,     0.48571,     0.48571,     0.45968,     0.45968,     0.45968,\n",
       "            0.45968,     0.45968,     0.44103,     0.44103,     0.44103,     0.44103,     0.44103,     0.39498,     0.39498,     0.39498,     0.39498,     0.31465,     0.31465,     0.31465,     0.31465,     0.31465,     0.20468,     0.20468,     0.20468,     0.20468,     0.20468,     0.19977,     0.19977,\n",
       "            0.19977,     0.19977,     0.19977,     0.18399,     0.18399,     0.18399,     0.18399,     0.18399,     0.15253,     0.15253,     0.15253,     0.15253,     0.15253,     0.14263,     0.14263,     0.14263,     0.14263,     0.14263,     0.13783,     0.13783,     0.13783,     0.13783,     0.09905,\n",
       "           0.098264,    0.097478,    0.096692,    0.095906,     0.09512,    0.094334,    0.093547,    0.092761,    0.091975,    0.091189,    0.090403,    0.089617,    0.088831,    0.088045,    0.087259,    0.086472,    0.085686,      0.0849,    0.084114,    0.083328,    0.082542,    0.081756,     0.08097,\n",
       "           0.080184,    0.079397,    0.078611,    0.077825,    0.077039,    0.076253,    0.075467,    0.074681,    0.073895,    0.073109,    0.072322,    0.071536,     0.07075,    0.069964,    0.069178,    0.068392,    0.067606,     0.06682,    0.066034,    0.065247,    0.064461,    0.063675,    0.062889,\n",
       "           0.062103,    0.061317,    0.060531,    0.059745,    0.058958,    0.058172,    0.057386,      0.0566,    0.055814,    0.055028,    0.054242,    0.053456,     0.05267,    0.051883,    0.051097,    0.050311,    0.049525,    0.048739,    0.047953,    0.047167,    0.046381,    0.045595,    0.044808,\n",
       "           0.044022,    0.043236,     0.04245,    0.041664,    0.040878,    0.040092,    0.039306,     0.03852,    0.037733,    0.036947,    0.036161,    0.035375,    0.034589,    0.033803,    0.033017,    0.032231,    0.031445,    0.030658,    0.029872,    0.029086,      0.0283,    0.027514,    0.026728,\n",
       "           0.025942,    0.025156,     0.02437,    0.023583,    0.022797,    0.022011,    0.021225,    0.020439,    0.019653,    0.018867,    0.018081,    0.017294,    0.016508,    0.015722,    0.014936,     0.01415,    0.013364,    0.012578,    0.011792,    0.011006,    0.010219,   0.0094334,   0.0086472,\n",
       "          0.0078611,    0.007075,   0.0062889,   0.0055028,   0.0047167,   0.0039306,   0.0031445,   0.0023583,   0.0015722,  0.00078611,           0]]), 'Recall', 'Precision'], [array([          0,    0.001001,    0.002002,    0.003003,    0.004004,    0.005005,    0.006006,    0.007007,    0.008008,    0.009009,     0.01001,    0.011011,    0.012012,    0.013013,    0.014014,    0.015015,    0.016016,    0.017017,    0.018018,    0.019019,     0.02002,    0.021021,    0.022022,    0.023023,\n",
       "          0.024024,    0.025025,    0.026026,    0.027027,    0.028028,    0.029029,     0.03003,    0.031031,    0.032032,    0.033033,    0.034034,    0.035035,    0.036036,    0.037037,    0.038038,    0.039039,     0.04004,    0.041041,    0.042042,    0.043043,    0.044044,    0.045045,    0.046046,    0.047047,\n",
       "          0.048048,    0.049049,     0.05005,    0.051051,    0.052052,    0.053053,    0.054054,    0.055055,    0.056056,    0.057057,    0.058058,    0.059059,     0.06006,    0.061061,    0.062062,    0.063063,    0.064064,    0.065065,    0.066066,    0.067067,    0.068068,    0.069069,     0.07007,    0.071071,\n",
       "          0.072072,    0.073073,    0.074074,    0.075075,    0.076076,    0.077077,    0.078078,    0.079079,     0.08008,    0.081081,    0.082082,    0.083083,    0.084084,    0.085085,    0.086086,    0.087087,    0.088088,    0.089089,     0.09009,    0.091091,    0.092092,    0.093093,    0.094094,    0.095095,\n",
       "          0.096096,    0.097097,    0.098098,    0.099099,      0.1001,      0.1011,      0.1021,      0.1031,      0.1041,     0.10511,     0.10611,     0.10711,     0.10811,     0.10911,     0.11011,     0.11111,     0.11211,     0.11311,     0.11411,     0.11512,     0.11612,     0.11712,     0.11812,     0.11912,\n",
       "           0.12012,     0.12112,     0.12212,     0.12312,     0.12412,     0.12513,     0.12613,     0.12713,     0.12813,     0.12913,     0.13013,     0.13113,     0.13213,     0.13313,     0.13413,     0.13514,     0.13614,     0.13714,     0.13814,     0.13914,     0.14014,     0.14114,     0.14214,     0.14314,\n",
       "           0.14414,     0.14515,     0.14615,     0.14715,     0.14815,     0.14915,     0.15015,     0.15115,     0.15215,     0.15315,     0.15415,     0.15516,     0.15616,     0.15716,     0.15816,     0.15916,     0.16016,     0.16116,     0.16216,     0.16316,     0.16416,     0.16517,     0.16617,     0.16717,\n",
       "           0.16817,     0.16917,     0.17017,     0.17117,     0.17217,     0.17317,     0.17417,     0.17518,     0.17618,     0.17718,     0.17818,     0.17918,     0.18018,     0.18118,     0.18218,     0.18318,     0.18418,     0.18519,     0.18619,     0.18719,     0.18819,     0.18919,     0.19019,     0.19119,\n",
       "           0.19219,     0.19319,     0.19419,      0.1952,      0.1962,      0.1972,      0.1982,      0.1992,      0.2002,      0.2012,      0.2022,      0.2032,      0.2042,     0.20521,     0.20621,     0.20721,     0.20821,     0.20921,     0.21021,     0.21121,     0.21221,     0.21321,     0.21421,     0.21522,\n",
       "           0.21622,     0.21722,     0.21822,     0.21922,     0.22022,     0.22122,     0.22222,     0.22322,     0.22422,     0.22523,     0.22623,     0.22723,     0.22823,     0.22923,     0.23023,     0.23123,     0.23223,     0.23323,     0.23423,     0.23524,     0.23624,     0.23724,     0.23824,     0.23924,\n",
       "           0.24024,     0.24124,     0.24224,     0.24324,     0.24424,     0.24525,     0.24625,     0.24725,     0.24825,     0.24925,     0.25025,     0.25125,     0.25225,     0.25325,     0.25425,     0.25526,     0.25626,     0.25726,     0.25826,     0.25926,     0.26026,     0.26126,     0.26226,     0.26326,\n",
       "           0.26426,     0.26527,     0.26627,     0.26727,     0.26827,     0.26927,     0.27027,     0.27127,     0.27227,     0.27327,     0.27427,     0.27528,     0.27628,     0.27728,     0.27828,     0.27928,     0.28028,     0.28128,     0.28228,     0.28328,     0.28428,     0.28529,     0.28629,     0.28729,\n",
       "           0.28829,     0.28929,     0.29029,     0.29129,     0.29229,     0.29329,     0.29429,      0.2953,      0.2963,      0.2973,      0.2983,      0.2993,      0.3003,      0.3013,      0.3023,      0.3033,      0.3043,     0.30531,     0.30631,     0.30731,     0.30831,     0.30931,     0.31031,     0.31131,\n",
       "           0.31231,     0.31331,     0.31431,     0.31532,     0.31632,     0.31732,     0.31832,     0.31932,     0.32032,     0.32132,     0.32232,     0.32332,     0.32432,     0.32533,     0.32633,     0.32733,     0.32833,     0.32933,     0.33033,     0.33133,     0.33233,     0.33333,     0.33433,     0.33534,\n",
       "           0.33634,     0.33734,     0.33834,     0.33934,     0.34034,     0.34134,     0.34234,     0.34334,     0.34434,     0.34535,     0.34635,     0.34735,     0.34835,     0.34935,     0.35035,     0.35135,     0.35235,     0.35335,     0.35435,     0.35536,     0.35636,     0.35736,     0.35836,     0.35936,\n",
       "           0.36036,     0.36136,     0.36236,     0.36336,     0.36436,     0.36537,     0.36637,     0.36737,     0.36837,     0.36937,     0.37037,     0.37137,     0.37237,     0.37337,     0.37437,     0.37538,     0.37638,     0.37738,     0.37838,     0.37938,     0.38038,     0.38138,     0.38238,     0.38338,\n",
       "           0.38438,     0.38539,     0.38639,     0.38739,     0.38839,     0.38939,     0.39039,     0.39139,     0.39239,     0.39339,     0.39439,      0.3954,      0.3964,      0.3974,      0.3984,      0.3994,      0.4004,      0.4014,      0.4024,      0.4034,      0.4044,     0.40541,     0.40641,     0.40741,\n",
       "           0.40841,     0.40941,     0.41041,     0.41141,     0.41241,     0.41341,     0.41441,     0.41542,     0.41642,     0.41742,     0.41842,     0.41942,     0.42042,     0.42142,     0.42242,     0.42342,     0.42442,     0.42543,     0.42643,     0.42743,     0.42843,     0.42943,     0.43043,     0.43143,\n",
       "           0.43243,     0.43343,     0.43443,     0.43544,     0.43644,     0.43744,     0.43844,     0.43944,     0.44044,     0.44144,     0.44244,     0.44344,     0.44444,     0.44545,     0.44645,     0.44745,     0.44845,     0.44945,     0.45045,     0.45145,     0.45245,     0.45345,     0.45445,     0.45546,\n",
       "           0.45646,     0.45746,     0.45846,     0.45946,     0.46046,     0.46146,     0.46246,     0.46346,     0.46446,     0.46547,     0.46647,     0.46747,     0.46847,     0.46947,     0.47047,     0.47147,     0.47247,     0.47347,     0.47447,     0.47548,     0.47648,     0.47748,     0.47848,     0.47948,\n",
       "           0.48048,     0.48148,     0.48248,     0.48348,     0.48448,     0.48549,     0.48649,     0.48749,     0.48849,     0.48949,     0.49049,     0.49149,     0.49249,     0.49349,     0.49449,      0.4955,      0.4965,      0.4975,      0.4985,      0.4995,      0.5005,      0.5015,      0.5025,      0.5035,\n",
       "            0.5045,     0.50551,     0.50651,     0.50751,     0.50851,     0.50951,     0.51051,     0.51151,     0.51251,     0.51351,     0.51451,     0.51552,     0.51652,     0.51752,     0.51852,     0.51952,     0.52052,     0.52152,     0.52252,     0.52352,     0.52452,     0.52553,     0.52653,     0.52753,\n",
       "           0.52853,     0.52953,     0.53053,     0.53153,     0.53253,     0.53353,     0.53453,     0.53554,     0.53654,     0.53754,     0.53854,     0.53954,     0.54054,     0.54154,     0.54254,     0.54354,     0.54454,     0.54555,     0.54655,     0.54755,     0.54855,     0.54955,     0.55055,     0.55155,\n",
       "           0.55255,     0.55355,     0.55455,     0.55556,     0.55656,     0.55756,     0.55856,     0.55956,     0.56056,     0.56156,     0.56256,     0.56356,     0.56456,     0.56557,     0.56657,     0.56757,     0.56857,     0.56957,     0.57057,     0.57157,     0.57257,     0.57357,     0.57457,     0.57558,\n",
       "           0.57658,     0.57758,     0.57858,     0.57958,     0.58058,     0.58158,     0.58258,     0.58358,     0.58458,     0.58559,     0.58659,     0.58759,     0.58859,     0.58959,     0.59059,     0.59159,     0.59259,     0.59359,     0.59459,      0.5956,      0.5966,      0.5976,      0.5986,      0.5996,\n",
       "            0.6006,      0.6016,      0.6026,      0.6036,      0.6046,     0.60561,     0.60661,     0.60761,     0.60861,     0.60961,     0.61061,     0.61161,     0.61261,     0.61361,     0.61461,     0.61562,     0.61662,     0.61762,     0.61862,     0.61962,     0.62062,     0.62162,     0.62262,     0.62362,\n",
       "           0.62462,     0.62563,     0.62663,     0.62763,     0.62863,     0.62963,     0.63063,     0.63163,     0.63263,     0.63363,     0.63463,     0.63564,     0.63664,     0.63764,     0.63864,     0.63964,     0.64064,     0.64164,     0.64264,     0.64364,     0.64464,     0.64565,     0.64665,     0.64765,\n",
       "           0.64865,     0.64965,     0.65065,     0.65165,     0.65265,     0.65365,     0.65465,     0.65566,     0.65666,     0.65766,     0.65866,     0.65966,     0.66066,     0.66166,     0.66266,     0.66366,     0.66466,     0.66567,     0.66667,     0.66767,     0.66867,     0.66967,     0.67067,     0.67167,\n",
       "           0.67267,     0.67367,     0.67467,     0.67568,     0.67668,     0.67768,     0.67868,     0.67968,     0.68068,     0.68168,     0.68268,     0.68368,     0.68468,     0.68569,     0.68669,     0.68769,     0.68869,     0.68969,     0.69069,     0.69169,     0.69269,     0.69369,     0.69469,      0.6957,\n",
       "            0.6967,      0.6977,      0.6987,      0.6997,      0.7007,      0.7017,      0.7027,      0.7037,      0.7047,     0.70571,     0.70671,     0.70771,     0.70871,     0.70971,     0.71071,     0.71171,     0.71271,     0.71371,     0.71471,     0.71572,     0.71672,     0.71772,     0.71872,     0.71972,\n",
       "           0.72072,     0.72172,     0.72272,     0.72372,     0.72472,     0.72573,     0.72673,     0.72773,     0.72873,     0.72973,     0.73073,     0.73173,     0.73273,     0.73373,     0.73473,     0.73574,     0.73674,     0.73774,     0.73874,     0.73974,     0.74074,     0.74174,     0.74274,     0.74374,\n",
       "           0.74474,     0.74575,     0.74675,     0.74775,     0.74875,     0.74975,     0.75075,     0.75175,     0.75275,     0.75375,     0.75475,     0.75576,     0.75676,     0.75776,     0.75876,     0.75976,     0.76076,     0.76176,     0.76276,     0.76376,     0.76476,     0.76577,     0.76677,     0.76777,\n",
       "           0.76877,     0.76977,     0.77077,     0.77177,     0.77277,     0.77377,     0.77477,     0.77578,     0.77678,     0.77778,     0.77878,     0.77978,     0.78078,     0.78178,     0.78278,     0.78378,     0.78478,     0.78579,     0.78679,     0.78779,     0.78879,     0.78979,     0.79079,     0.79179,\n",
       "           0.79279,     0.79379,     0.79479,      0.7958,      0.7968,      0.7978,      0.7988,      0.7998,      0.8008,      0.8018,      0.8028,      0.8038,      0.8048,     0.80581,     0.80681,     0.80781,     0.80881,     0.80981,     0.81081,     0.81181,     0.81281,     0.81381,     0.81481,     0.81582,\n",
       "           0.81682,     0.81782,     0.81882,     0.81982,     0.82082,     0.82182,     0.82282,     0.82382,     0.82482,     0.82583,     0.82683,     0.82783,     0.82883,     0.82983,     0.83083,     0.83183,     0.83283,     0.83383,     0.83483,     0.83584,     0.83684,     0.83784,     0.83884,     0.83984,\n",
       "           0.84084,     0.84184,     0.84284,     0.84384,     0.84484,     0.84585,     0.84685,     0.84785,     0.84885,     0.84985,     0.85085,     0.85185,     0.85285,     0.85385,     0.85485,     0.85586,     0.85686,     0.85786,     0.85886,     0.85986,     0.86086,     0.86186,     0.86286,     0.86386,\n",
       "           0.86486,     0.86587,     0.86687,     0.86787,     0.86887,     0.86987,     0.87087,     0.87187,     0.87287,     0.87387,     0.87487,     0.87588,     0.87688,     0.87788,     0.87888,     0.87988,     0.88088,     0.88188,     0.88288,     0.88388,     0.88488,     0.88589,     0.88689,     0.88789,\n",
       "           0.88889,     0.88989,     0.89089,     0.89189,     0.89289,     0.89389,     0.89489,      0.8959,      0.8969,      0.8979,      0.8989,      0.8999,      0.9009,      0.9019,      0.9029,      0.9039,      0.9049,     0.90591,     0.90691,     0.90791,     0.90891,     0.90991,     0.91091,     0.91191,\n",
       "           0.91291,     0.91391,     0.91491,     0.91592,     0.91692,     0.91792,     0.91892,     0.91992,     0.92092,     0.92192,     0.92292,     0.92392,     0.92492,     0.92593,     0.92693,     0.92793,     0.92893,     0.92993,     0.93093,     0.93193,     0.93293,     0.93393,     0.93493,     0.93594,\n",
       "           0.93694,     0.93794,     0.93894,     0.93994,     0.94094,     0.94194,     0.94294,     0.94394,     0.94494,     0.94595,     0.94695,     0.94795,     0.94895,     0.94995,     0.95095,     0.95195,     0.95295,     0.95395,     0.95495,     0.95596,     0.95696,     0.95796,     0.95896,     0.95996,\n",
       "           0.96096,     0.96196,     0.96296,     0.96396,     0.96496,     0.96597,     0.96697,     0.96797,     0.96897,     0.96997,     0.97097,     0.97197,     0.97297,     0.97397,     0.97497,     0.97598,     0.97698,     0.97798,     0.97898,     0.97998,     0.98098,     0.98198,     0.98298,     0.98398,\n",
       "           0.98498,     0.98599,     0.98699,     0.98799,     0.98899,     0.98999,     0.99099,     0.99199,     0.99299,     0.99399,     0.99499,       0.996,       0.997,       0.998,       0.999,           1]), array([[    0.17804,     0.17806,     0.25121,     0.30296,     0.33609,     0.36356,     0.38714,     0.40761,     0.42661,     0.43744,     0.44983,     0.46147,     0.47375,     0.48599,     0.49271,     0.50803,     0.52135,     0.52639,     0.53197,     0.53733,     0.54617,     0.55078,     0.55527,\n",
       "            0.56231,     0.57069,     0.57523,     0.57756,      0.5809,     0.58817,     0.58994,     0.59202,     0.60107,     0.60477,     0.60587,     0.60949,     0.61104,     0.60869,     0.61174,     0.61466,     0.61527,     0.61801,     0.62034,     0.62231,     0.62494,     0.62571,     0.62719,\n",
       "            0.62775,     0.62894,     0.62694,     0.62883,     0.63004,     0.62986,     0.63089,     0.63271,     0.63689,     0.63896,     0.64023,     0.64259,     0.64359,     0.64402,     0.64446,      0.6475,     0.64937,     0.65054,     0.65598,     0.65473,     0.65347,     0.65561,     0.65876,\n",
       "            0.65941,     0.66256,     0.66485,     0.66876,     0.66831,     0.66819,     0.66973,      0.6703,     0.67129,     0.67322,     0.67483,     0.67361,     0.67238,     0.67345,     0.67446,     0.67559,     0.67726,     0.67827,     0.67894,     0.68104,     0.68479,     0.68376,     0.68274,\n",
       "            0.68386,      0.6851,     0.68725,     0.68976,     0.69267,      0.6938,     0.69475,     0.69623,     0.69741,     0.69826,     0.69611,     0.69574,     0.69612,      0.6965,     0.69688,      0.6987,     0.69917,     0.69965,     0.69937,     0.69722,     0.69786,     0.69851,     0.69944,\n",
       "            0.69955,     0.69809,     0.69638,     0.69836,     0.70154,     0.70387,     0.70457,     0.70526,      0.7071,      0.7075,      0.7079,      0.7083,     0.70818,      0.7074,     0.70661,     0.70583,     0.70536,       0.705,     0.70464,     0.70429,     0.70393,     0.70357,     0.70321,\n",
       "            0.70286,     0.69845,     0.69915,     0.69985,      0.6994,     0.69863,     0.69786,     0.69709,     0.69527,     0.69453,      0.6954,     0.69342,      0.6947,     0.69707,     0.69825,     0.69913,     0.69948,     0.69983,     0.70018,     0.70053,     0.70081,     0.70102,     0.70123,\n",
       "            0.70144,     0.70166,     0.70187,     0.70208,     0.70229,     0.70181,     0.70121,     0.70061,         0.7,      0.6994,     0.69963,     0.70002,     0.70041,      0.7008,     0.70175,     0.70229,     0.70142,     0.70055,     0.69968,     0.70268,     0.70256,     0.70229,     0.70202,\n",
       "            0.70175,     0.70148,     0.70122,     0.70095,     0.70068,     0.70041,     0.70014,     0.69987,     0.70012,     0.70071,     0.70129,     0.70162,     0.70187,     0.70213,     0.70238,     0.70263,     0.70289,     0.70041,     0.69909,     0.69814,      0.6972,     0.69873,     0.69915,\n",
       "            0.69958,         0.7,     0.69725,     0.69897,     0.69936,     0.69975,     0.70014,      0.7006,     0.70171,     0.70252,      0.7031,     0.70368,     0.70407,     0.70435,     0.70463,     0.70491,     0.70519,     0.70546,     0.70571,     0.70592,     0.70613,     0.70634,     0.70655,\n",
       "            0.70676,     0.70697,     0.70718,     0.70801,     0.70708,     0.70767,     0.70799,     0.70832,     0.70864,     0.70896,     0.70928,     0.70944,     0.70955,     0.70966,     0.70977,     0.70988,     0.70998,     0.71009,      0.7102,     0.71031,     0.71042,     0.71053,     0.71063,\n",
       "            0.71074,     0.71085,     0.71096,     0.71107,     0.71097,     0.71073,     0.71048,     0.71024,     0.70999,     0.70975,     0.70951,     0.70926,     0.70902,     0.70877,     0.70853,     0.70829,     0.70804,     0.70756,     0.70686,     0.70615,     0.70545,     0.70474,     0.70407,\n",
       "             0.7034,     0.70274,     0.70207,     0.70134,     0.70031,     0.69927,     0.69827,     0.69886,     0.69945,     0.70016,     0.70167,     0.70143,     0.70118,     0.70094,      0.7007,     0.70046,     0.70022,     0.69998,     0.69974,      0.6995,     0.69925,     0.69901,     0.69877,\n",
       "            0.69853,     0.69906,     0.69972,      0.7015,     0.70219,     0.70237,     0.70255,     0.70274,     0.70292,      0.7031,     0.70328,     0.70347,     0.70365,     0.70514,     0.70588,     0.70619,      0.7065,     0.70681,     0.70712,     0.70748,     0.70805,     0.70862,     0.70881,\n",
       "            0.70792,     0.70836,      0.7088,     0.70924,     0.70933,     0.70883,     0.70834,     0.70784,     0.70734,     0.70685,     0.70635,      0.7066,     0.70721,     0.70782,     0.70814,     0.70832,     0.70851,     0.70869,     0.70888,     0.70906,     0.70924,     0.70943,     0.70961,\n",
       "             0.7098,     0.70711,     0.70577,      0.7049,     0.70404,     0.70317,     0.70245,     0.70173,     0.70102,      0.7003,     0.70023,     0.70182,     0.70241,       0.703,     0.70212,      0.7001,     0.70031,     0.70051,     0.70072,     0.70092,     0.70113,     0.70133,     0.70154,\n",
       "            0.70174,     0.70201,     0.70235,     0.70269,     0.70302,     0.70336,     0.70369,     0.70392,     0.70414,     0.70436,     0.70458,      0.7048,     0.70502,     0.70524,     0.70546,     0.70533,     0.70486,      0.7044,     0.70393,     0.70346,     0.70299,     0.70252,     0.70114,\n",
       "            0.69822,      0.6975,     0.69678,     0.69606,     0.69534,     0.69465,     0.69397,     0.69329,     0.69261,     0.69193,     0.68878,     0.68838,     0.68862,     0.68886,     0.68909,     0.68933,     0.68957,     0.68981,     0.69005,     0.69035,     0.69065,     0.69094,     0.69124,\n",
       "            0.69154,     0.69183,     0.69271,     0.69371,     0.69315,      0.6925,     0.69185,      0.6912,     0.69055,     0.68978,     0.68887,     0.68796,     0.68705,     0.68627,      0.6856,     0.68492,     0.68424,     0.68356,     0.68239,     0.67978,     0.67968,     0.67994,     0.68019,\n",
       "            0.68045,     0.68071,     0.68096,     0.68122,     0.68252,     0.68414,     0.68528,     0.68584,      0.6864,     0.68696,     0.68774,     0.68853,     0.68926,     0.68993,      0.6906,     0.69029,     0.68955,      0.6888,     0.68806,     0.68731,     0.68614,     0.68515,     0.68485,\n",
       "            0.68455,     0.68426,     0.68396,     0.68366,     0.68336,     0.68306,     0.68276,     0.68246,     0.68217,     0.68187,     0.67796,     0.67771,     0.67746,     0.67721,     0.67695,      0.6767,     0.67645,      0.6762,     0.67594,     0.67569,     0.67544,     0.67519,     0.67493,\n",
       "            0.67468,     0.67443,     0.67431,     0.67483,     0.67535,     0.67586,     0.67324,     0.67101,     0.66943,     0.66438,     0.66232,     0.66071,     0.66006,     0.65941,     0.65876,     0.65811,     0.65746,     0.65719,     0.65754,     0.65789,     0.65824,     0.65859,     0.65894,\n",
       "              0.656,     0.65254,     0.65137,      0.6502,     0.64926,     0.65096,     0.65075,     0.64602,     0.64707,     0.64732,     0.64756,     0.64781,     0.64805,      0.6483,     0.64854,     0.64879,     0.64863,     0.64842,     0.64822,     0.64802,     0.64782,     0.64761,     0.64741,\n",
       "            0.64721,       0.647,      0.6468,      0.6466,     0.64639,     0.64619,     0.64599,     0.64578,     0.64558,     0.64538,     0.64517,     0.64497,     0.64479,     0.64503,     0.64528,     0.64553,     0.64577,     0.64602,     0.64627,     0.64651,     0.64674,     0.64691,     0.64708,\n",
       "            0.64725,     0.64742,     0.64759,     0.64776,     0.64793,      0.6481,     0.64826,     0.64843,      0.6486,     0.64529,     0.64191,      0.6409,      0.6399,     0.63889,     0.63389,      0.6311,     0.62934,     0.62829,     0.62723,     0.62618,     0.62512,     0.62406,       0.623,\n",
       "            0.62194,     0.61869,     0.61434,     0.61246,      0.6105,     0.60671,     0.60734,     0.60797,     0.60755,     0.60671,     0.60586,     0.60502,     0.60417,     0.60395,     0.60428,     0.60461,     0.60494,     0.60527,      0.6056,     0.60367,     0.60102,     0.59853,     0.59592,\n",
       "            0.59305,     0.58755,     0.58551,     0.58347,      0.5826,     0.58181,     0.58102,     0.58023,     0.57944,     0.57888,      0.5795,     0.58012,     0.58077,     0.58169,     0.58236,     0.58048,      0.5786,     0.57718,     0.57603,     0.57487,     0.57372,     0.57423,     0.57468,\n",
       "            0.57337,     0.57206,     0.57074,     0.56548,     0.56456,     0.56365,     0.56273,     0.56181,     0.56054,     0.55766,     0.55491,     0.55228,     0.54791,     0.54523,     0.54333,     0.54192,     0.54249,     0.54306,     0.54362,     0.53686,     0.53342,     0.53254,     0.53166,\n",
       "            0.53077,     0.52988,       0.529,     0.52937,     0.53007,     0.52986,     0.52643,     0.52452,     0.52146,     0.51977,     0.51806,     0.51812,     0.52053,     0.51935,      0.5177,     0.51606,      0.5103,     0.50919,     0.50807,     0.50696,     0.50584,     0.49951,     0.49846,\n",
       "            0.49741,     0.49637,     0.49532,      0.4821,     0.47606,     0.47316,     0.47361,     0.47405,     0.47449,     0.46828,     0.46381,     0.46462,     0.46542,     0.46176,     0.45451,     0.45569,     0.45166,     0.44866,     0.44651,     0.43857,     0.43578,     0.43299,     0.41915,\n",
       "            0.41622,      0.4165,     0.41285,     0.40287,     0.39494,     0.38621,     0.37207,     0.36637,     0.36185,     0.35649,     0.34643,     0.32863,     0.32564,     0.32264,      0.3208,     0.31898,     0.31716,     0.31441,     0.30868,     0.29419,     0.28729,     0.27735,     0.25856,\n",
       "            0.25596,     0.25335,     0.24667,     0.23716,     0.23338,     0.21946,     0.20822,     0.20653,     0.19873,     0.18837,     0.18255,     0.17981,     0.17706,     0.17481,     0.17257,     0.17031,     0.16789,     0.16518,     0.16245,     0.15889,     0.15385,     0.14706,     0.12648,\n",
       "            0.12449,     0.12249,     0.12048,     0.11808,     0.11276,     0.10951,     0.10833,     0.10715,     0.10598,      0.1048,     0.10362,     0.10243,     0.10098,    0.097446,    0.093896,     0.09124,    0.089102,     0.08696,    0.084812,    0.077281,    0.071197,    0.066765,    0.056548,\n",
       "           0.055237,    0.053924,    0.052609,    0.051292,    0.049973,    0.048653,    0.047284,    0.044983,    0.042677,    0.040366,     0.03381,     0.02842,    0.028125,     0.02783,    0.027535,     0.02724,    0.026945,     0.02665,    0.026354,    0.026059,    0.025763,    0.025467,    0.025172,\n",
       "           0.024876,     0.02458,    0.024284,    0.023987,    0.023691,    0.023395,    0.023099,    0.022802,    0.022505,    0.022209,    0.021912,    0.021615,    0.021318,    0.021021,    0.020724,    0.020427,    0.020129,    0.019832,    0.019535,    0.019237,    0.017904,    0.016546,    0.015187,\n",
       "           0.013826,    0.012462,    0.011097,   0.0097307,           0,           0,           0,           0,           0,           0,           0,           0,           0,           0,           0,           0,           0,           0,           0,           0,           0,           0,           0,\n",
       "                  0,           0,           0,           0,           0,           0,           0,           0,           0,           0,           0,           0,           0,           0,           0,           0,           0,           0,           0,           0,           0,           0,           0,\n",
       "                  0,           0,           0,           0,           0,           0,           0,           0,           0,           0,           0,           0,           0,           0,           0,           0,           0,           0,           0,           0,           0,           0,           0,\n",
       "                  0,           0,           0,           0,           0,           0,           0,           0,           0,           0,           0,           0,           0,           0,           0,           0,           0,           0,           0,           0,           0,           0,           0,\n",
       "                  0,           0,           0,           0,           0,           0,           0,           0,           0,           0,           0,           0,           0,           0,           0,           0,           0,           0,           0,           0,           0,           0,           0,\n",
       "                  0,           0,           0,           0,           0,           0,           0,           0,           0,           0,           0,           0,           0,           0,           0,           0,           0,           0,           0,           0,           0,           0,           0,\n",
       "                  0,           0,           0,           0,           0,           0,           0,           0,           0,           0,           0,           0,           0,           0,           0,           0,           0,           0,           0,           0,           0,           0,           0,\n",
       "                  0,           0,           0,           0,           0,           0,           0,           0,           0,           0,           0,           0,           0,           0,           0,           0,           0,           0,           0,           0,           0,           0,           0,\n",
       "                  0,           0,           0,           0,           0,           0,           0,           0,           0,           0,           0]]), 'Confidence', 'F1'], [array([          0,    0.001001,    0.002002,    0.003003,    0.004004,    0.005005,    0.006006,    0.007007,    0.008008,    0.009009,     0.01001,    0.011011,    0.012012,    0.013013,    0.014014,    0.015015,    0.016016,    0.017017,    0.018018,    0.019019,     0.02002,    0.021021,    0.022022,    0.023023,\n",
       "          0.024024,    0.025025,    0.026026,    0.027027,    0.028028,    0.029029,     0.03003,    0.031031,    0.032032,    0.033033,    0.034034,    0.035035,    0.036036,    0.037037,    0.038038,    0.039039,     0.04004,    0.041041,    0.042042,    0.043043,    0.044044,    0.045045,    0.046046,    0.047047,\n",
       "          0.048048,    0.049049,     0.05005,    0.051051,    0.052052,    0.053053,    0.054054,    0.055055,    0.056056,    0.057057,    0.058058,    0.059059,     0.06006,    0.061061,    0.062062,    0.063063,    0.064064,    0.065065,    0.066066,    0.067067,    0.068068,    0.069069,     0.07007,    0.071071,\n",
       "          0.072072,    0.073073,    0.074074,    0.075075,    0.076076,    0.077077,    0.078078,    0.079079,     0.08008,    0.081081,    0.082082,    0.083083,    0.084084,    0.085085,    0.086086,    0.087087,    0.088088,    0.089089,     0.09009,    0.091091,    0.092092,    0.093093,    0.094094,    0.095095,\n",
       "          0.096096,    0.097097,    0.098098,    0.099099,      0.1001,      0.1011,      0.1021,      0.1031,      0.1041,     0.10511,     0.10611,     0.10711,     0.10811,     0.10911,     0.11011,     0.11111,     0.11211,     0.11311,     0.11411,     0.11512,     0.11612,     0.11712,     0.11812,     0.11912,\n",
       "           0.12012,     0.12112,     0.12212,     0.12312,     0.12412,     0.12513,     0.12613,     0.12713,     0.12813,     0.12913,     0.13013,     0.13113,     0.13213,     0.13313,     0.13413,     0.13514,     0.13614,     0.13714,     0.13814,     0.13914,     0.14014,     0.14114,     0.14214,     0.14314,\n",
       "           0.14414,     0.14515,     0.14615,     0.14715,     0.14815,     0.14915,     0.15015,     0.15115,     0.15215,     0.15315,     0.15415,     0.15516,     0.15616,     0.15716,     0.15816,     0.15916,     0.16016,     0.16116,     0.16216,     0.16316,     0.16416,     0.16517,     0.16617,     0.16717,\n",
       "           0.16817,     0.16917,     0.17017,     0.17117,     0.17217,     0.17317,     0.17417,     0.17518,     0.17618,     0.17718,     0.17818,     0.17918,     0.18018,     0.18118,     0.18218,     0.18318,     0.18418,     0.18519,     0.18619,     0.18719,     0.18819,     0.18919,     0.19019,     0.19119,\n",
       "           0.19219,     0.19319,     0.19419,      0.1952,      0.1962,      0.1972,      0.1982,      0.1992,      0.2002,      0.2012,      0.2022,      0.2032,      0.2042,     0.20521,     0.20621,     0.20721,     0.20821,     0.20921,     0.21021,     0.21121,     0.21221,     0.21321,     0.21421,     0.21522,\n",
       "           0.21622,     0.21722,     0.21822,     0.21922,     0.22022,     0.22122,     0.22222,     0.22322,     0.22422,     0.22523,     0.22623,     0.22723,     0.22823,     0.22923,     0.23023,     0.23123,     0.23223,     0.23323,     0.23423,     0.23524,     0.23624,     0.23724,     0.23824,     0.23924,\n",
       "           0.24024,     0.24124,     0.24224,     0.24324,     0.24424,     0.24525,     0.24625,     0.24725,     0.24825,     0.24925,     0.25025,     0.25125,     0.25225,     0.25325,     0.25425,     0.25526,     0.25626,     0.25726,     0.25826,     0.25926,     0.26026,     0.26126,     0.26226,     0.26326,\n",
       "           0.26426,     0.26527,     0.26627,     0.26727,     0.26827,     0.26927,     0.27027,     0.27127,     0.27227,     0.27327,     0.27427,     0.27528,     0.27628,     0.27728,     0.27828,     0.27928,     0.28028,     0.28128,     0.28228,     0.28328,     0.28428,     0.28529,     0.28629,     0.28729,\n",
       "           0.28829,     0.28929,     0.29029,     0.29129,     0.29229,     0.29329,     0.29429,      0.2953,      0.2963,      0.2973,      0.2983,      0.2993,      0.3003,      0.3013,      0.3023,      0.3033,      0.3043,     0.30531,     0.30631,     0.30731,     0.30831,     0.30931,     0.31031,     0.31131,\n",
       "           0.31231,     0.31331,     0.31431,     0.31532,     0.31632,     0.31732,     0.31832,     0.31932,     0.32032,     0.32132,     0.32232,     0.32332,     0.32432,     0.32533,     0.32633,     0.32733,     0.32833,     0.32933,     0.33033,     0.33133,     0.33233,     0.33333,     0.33433,     0.33534,\n",
       "           0.33634,     0.33734,     0.33834,     0.33934,     0.34034,     0.34134,     0.34234,     0.34334,     0.34434,     0.34535,     0.34635,     0.34735,     0.34835,     0.34935,     0.35035,     0.35135,     0.35235,     0.35335,     0.35435,     0.35536,     0.35636,     0.35736,     0.35836,     0.35936,\n",
       "           0.36036,     0.36136,     0.36236,     0.36336,     0.36436,     0.36537,     0.36637,     0.36737,     0.36837,     0.36937,     0.37037,     0.37137,     0.37237,     0.37337,     0.37437,     0.37538,     0.37638,     0.37738,     0.37838,     0.37938,     0.38038,     0.38138,     0.38238,     0.38338,\n",
       "           0.38438,     0.38539,     0.38639,     0.38739,     0.38839,     0.38939,     0.39039,     0.39139,     0.39239,     0.39339,     0.39439,      0.3954,      0.3964,      0.3974,      0.3984,      0.3994,      0.4004,      0.4014,      0.4024,      0.4034,      0.4044,     0.40541,     0.40641,     0.40741,\n",
       "           0.40841,     0.40941,     0.41041,     0.41141,     0.41241,     0.41341,     0.41441,     0.41542,     0.41642,     0.41742,     0.41842,     0.41942,     0.42042,     0.42142,     0.42242,     0.42342,     0.42442,     0.42543,     0.42643,     0.42743,     0.42843,     0.42943,     0.43043,     0.43143,\n",
       "           0.43243,     0.43343,     0.43443,     0.43544,     0.43644,     0.43744,     0.43844,     0.43944,     0.44044,     0.44144,     0.44244,     0.44344,     0.44444,     0.44545,     0.44645,     0.44745,     0.44845,     0.44945,     0.45045,     0.45145,     0.45245,     0.45345,     0.45445,     0.45546,\n",
       "           0.45646,     0.45746,     0.45846,     0.45946,     0.46046,     0.46146,     0.46246,     0.46346,     0.46446,     0.46547,     0.46647,     0.46747,     0.46847,     0.46947,     0.47047,     0.47147,     0.47247,     0.47347,     0.47447,     0.47548,     0.47648,     0.47748,     0.47848,     0.47948,\n",
       "           0.48048,     0.48148,     0.48248,     0.48348,     0.48448,     0.48549,     0.48649,     0.48749,     0.48849,     0.48949,     0.49049,     0.49149,     0.49249,     0.49349,     0.49449,      0.4955,      0.4965,      0.4975,      0.4985,      0.4995,      0.5005,      0.5015,      0.5025,      0.5035,\n",
       "            0.5045,     0.50551,     0.50651,     0.50751,     0.50851,     0.50951,     0.51051,     0.51151,     0.51251,     0.51351,     0.51451,     0.51552,     0.51652,     0.51752,     0.51852,     0.51952,     0.52052,     0.52152,     0.52252,     0.52352,     0.52452,     0.52553,     0.52653,     0.52753,\n",
       "           0.52853,     0.52953,     0.53053,     0.53153,     0.53253,     0.53353,     0.53453,     0.53554,     0.53654,     0.53754,     0.53854,     0.53954,     0.54054,     0.54154,     0.54254,     0.54354,     0.54454,     0.54555,     0.54655,     0.54755,     0.54855,     0.54955,     0.55055,     0.55155,\n",
       "           0.55255,     0.55355,     0.55455,     0.55556,     0.55656,     0.55756,     0.55856,     0.55956,     0.56056,     0.56156,     0.56256,     0.56356,     0.56456,     0.56557,     0.56657,     0.56757,     0.56857,     0.56957,     0.57057,     0.57157,     0.57257,     0.57357,     0.57457,     0.57558,\n",
       "           0.57658,     0.57758,     0.57858,     0.57958,     0.58058,     0.58158,     0.58258,     0.58358,     0.58458,     0.58559,     0.58659,     0.58759,     0.58859,     0.58959,     0.59059,     0.59159,     0.59259,     0.59359,     0.59459,      0.5956,      0.5966,      0.5976,      0.5986,      0.5996,\n",
       "            0.6006,      0.6016,      0.6026,      0.6036,      0.6046,     0.60561,     0.60661,     0.60761,     0.60861,     0.60961,     0.61061,     0.61161,     0.61261,     0.61361,     0.61461,     0.61562,     0.61662,     0.61762,     0.61862,     0.61962,     0.62062,     0.62162,     0.62262,     0.62362,\n",
       "           0.62462,     0.62563,     0.62663,     0.62763,     0.62863,     0.62963,     0.63063,     0.63163,     0.63263,     0.63363,     0.63463,     0.63564,     0.63664,     0.63764,     0.63864,     0.63964,     0.64064,     0.64164,     0.64264,     0.64364,     0.64464,     0.64565,     0.64665,     0.64765,\n",
       "           0.64865,     0.64965,     0.65065,     0.65165,     0.65265,     0.65365,     0.65465,     0.65566,     0.65666,     0.65766,     0.65866,     0.65966,     0.66066,     0.66166,     0.66266,     0.66366,     0.66466,     0.66567,     0.66667,     0.66767,     0.66867,     0.66967,     0.67067,     0.67167,\n",
       "           0.67267,     0.67367,     0.67467,     0.67568,     0.67668,     0.67768,     0.67868,     0.67968,     0.68068,     0.68168,     0.68268,     0.68368,     0.68468,     0.68569,     0.68669,     0.68769,     0.68869,     0.68969,     0.69069,     0.69169,     0.69269,     0.69369,     0.69469,      0.6957,\n",
       "            0.6967,      0.6977,      0.6987,      0.6997,      0.7007,      0.7017,      0.7027,      0.7037,      0.7047,     0.70571,     0.70671,     0.70771,     0.70871,     0.70971,     0.71071,     0.71171,     0.71271,     0.71371,     0.71471,     0.71572,     0.71672,     0.71772,     0.71872,     0.71972,\n",
       "           0.72072,     0.72172,     0.72272,     0.72372,     0.72472,     0.72573,     0.72673,     0.72773,     0.72873,     0.72973,     0.73073,     0.73173,     0.73273,     0.73373,     0.73473,     0.73574,     0.73674,     0.73774,     0.73874,     0.73974,     0.74074,     0.74174,     0.74274,     0.74374,\n",
       "           0.74474,     0.74575,     0.74675,     0.74775,     0.74875,     0.74975,     0.75075,     0.75175,     0.75275,     0.75375,     0.75475,     0.75576,     0.75676,     0.75776,     0.75876,     0.75976,     0.76076,     0.76176,     0.76276,     0.76376,     0.76476,     0.76577,     0.76677,     0.76777,\n",
       "           0.76877,     0.76977,     0.77077,     0.77177,     0.77277,     0.77377,     0.77477,     0.77578,     0.77678,     0.77778,     0.77878,     0.77978,     0.78078,     0.78178,     0.78278,     0.78378,     0.78478,     0.78579,     0.78679,     0.78779,     0.78879,     0.78979,     0.79079,     0.79179,\n",
       "           0.79279,     0.79379,     0.79479,      0.7958,      0.7968,      0.7978,      0.7988,      0.7998,      0.8008,      0.8018,      0.8028,      0.8038,      0.8048,     0.80581,     0.80681,     0.80781,     0.80881,     0.80981,     0.81081,     0.81181,     0.81281,     0.81381,     0.81481,     0.81582,\n",
       "           0.81682,     0.81782,     0.81882,     0.81982,     0.82082,     0.82182,     0.82282,     0.82382,     0.82482,     0.82583,     0.82683,     0.82783,     0.82883,     0.82983,     0.83083,     0.83183,     0.83283,     0.83383,     0.83483,     0.83584,     0.83684,     0.83784,     0.83884,     0.83984,\n",
       "           0.84084,     0.84184,     0.84284,     0.84384,     0.84484,     0.84585,     0.84685,     0.84785,     0.84885,     0.84985,     0.85085,     0.85185,     0.85285,     0.85385,     0.85485,     0.85586,     0.85686,     0.85786,     0.85886,     0.85986,     0.86086,     0.86186,     0.86286,     0.86386,\n",
       "           0.86486,     0.86587,     0.86687,     0.86787,     0.86887,     0.86987,     0.87087,     0.87187,     0.87287,     0.87387,     0.87487,     0.87588,     0.87688,     0.87788,     0.87888,     0.87988,     0.88088,     0.88188,     0.88288,     0.88388,     0.88488,     0.88589,     0.88689,     0.88789,\n",
       "           0.88889,     0.88989,     0.89089,     0.89189,     0.89289,     0.89389,     0.89489,      0.8959,      0.8969,      0.8979,      0.8989,      0.8999,      0.9009,      0.9019,      0.9029,      0.9039,      0.9049,     0.90591,     0.90691,     0.90791,     0.90891,     0.90991,     0.91091,     0.91191,\n",
       "           0.91291,     0.91391,     0.91491,     0.91592,     0.91692,     0.91792,     0.91892,     0.91992,     0.92092,     0.92192,     0.92292,     0.92392,     0.92492,     0.92593,     0.92693,     0.92793,     0.92893,     0.92993,     0.93093,     0.93193,     0.93293,     0.93393,     0.93493,     0.93594,\n",
       "           0.93694,     0.93794,     0.93894,     0.93994,     0.94094,     0.94194,     0.94294,     0.94394,     0.94494,     0.94595,     0.94695,     0.94795,     0.94895,     0.94995,     0.95095,     0.95195,     0.95295,     0.95395,     0.95495,     0.95596,     0.95696,     0.95796,     0.95896,     0.95996,\n",
       "           0.96096,     0.96196,     0.96296,     0.96396,     0.96496,     0.96597,     0.96697,     0.96797,     0.96897,     0.96997,     0.97097,     0.97197,     0.97297,     0.97397,     0.97497,     0.97598,     0.97698,     0.97798,     0.97898,     0.97998,     0.98098,     0.98198,     0.98298,     0.98398,\n",
       "           0.98498,     0.98599,     0.98699,     0.98799,     0.98899,     0.98999,     0.99099,     0.99199,     0.99299,     0.99399,     0.99499,       0.996,       0.997,       0.998,       0.999,           1]), array([[   0.099119,    0.099132,     0.14697,     0.18412,     0.20978,     0.23163,     0.25112,     0.26862,     0.28537,     0.29515,     0.30654,     0.31815,     0.32994,     0.34194,     0.34862,     0.36416,       0.378,     0.38333,     0.38928,     0.39612,     0.40581,     0.41092,     0.41594,\n",
       "             0.4239,     0.43349,     0.43875,     0.44284,     0.44677,     0.45544,     0.45863,     0.46157,     0.47267,     0.47726,     0.47864,     0.48316,     0.48512,     0.48479,     0.48944,     0.49318,     0.49397,     0.49751,     0.50054,     0.50311,     0.50655,     0.50757,     0.50952,\n",
       "            0.51026,     0.51183,      0.5111,     0.51361,     0.51523,     0.51697,     0.51837,     0.52083,     0.52651,     0.52935,      0.5311,     0.53435,     0.53573,     0.53633,     0.53694,     0.54118,     0.54379,     0.54544,     0.55325,     0.55255,     0.55184,      0.5549,     0.55944,\n",
       "            0.56037,     0.56493,     0.56828,     0.57401,     0.57433,     0.57568,     0.57798,     0.57883,     0.58031,     0.58319,     0.58568,     0.58501,     0.58435,     0.58618,     0.58771,     0.58943,     0.59198,     0.59352,     0.59454,     0.59777,     0.60366,     0.60311,     0.60257,\n",
       "            0.60498,     0.60691,     0.61029,     0.61426,     0.61891,      0.6207,     0.62223,     0.62461,     0.62651,     0.62789,     0.62679,      0.6269,     0.62752,     0.62814,     0.62877,     0.63173,     0.63251,     0.63328,     0.63354,     0.63249,     0.63356,     0.63462,     0.63616,\n",
       "            0.63711,     0.63721,     0.63768,     0.64101,     0.64639,     0.65034,     0.65154,     0.65273,     0.65589,     0.65658,     0.65726,     0.65795,     0.65817,     0.65778,     0.65739,     0.65701,     0.65677,      0.6566,     0.65642,     0.65624,     0.65607,     0.65589,     0.65571,\n",
       "            0.65554,     0.65538,     0.65662,     0.65785,     0.65782,     0.65744,     0.65706,     0.65668,     0.65577,     0.65601,     0.65788,      0.6569,      0.6602,     0.66449,     0.66664,     0.66824,     0.66888,     0.66952,     0.67016,      0.6708,     0.67131,     0.67171,      0.6721,\n",
       "            0.67249,     0.67288,     0.67327,     0.67366,     0.67405,     0.67386,     0.67357,     0.67328,     0.67298,     0.67269,     0.67326,     0.67398,     0.67471,     0.67543,      0.6772,      0.6786,     0.67818,     0.67776,     0.67734,     0.68321,     0.68336,     0.68323,      0.6831,\n",
       "            0.68297,     0.68285,     0.68272,     0.68259,     0.68246,     0.68233,     0.68221,     0.68208,     0.68271,     0.68382,     0.68493,     0.68556,     0.68605,     0.68653,     0.68702,      0.6875,     0.68799,     0.68711,     0.68648,     0.68604,     0.68559,       0.689,     0.68982,\n",
       "            0.69065,     0.69148,     0.69075,     0.69412,     0.69489,     0.69566,     0.69643,     0.69735,     0.69956,     0.70116,     0.70232,     0.70348,     0.70425,     0.70481,     0.70537,     0.70593,     0.70649,     0.70705,     0.70754,     0.70797,     0.70839,     0.70882,     0.70924,\n",
       "            0.70966,     0.71009,     0.71051,     0.71218,     0.71341,     0.71653,     0.71719,     0.71785,     0.71851,     0.71917,     0.71984,     0.72017,     0.72039,     0.72062,     0.72084,     0.72106,     0.72129,     0.72151,     0.72173,     0.72196,     0.72218,     0.72241,     0.72263,\n",
       "            0.72285,     0.72308,      0.7233,     0.72353,     0.72356,     0.72345,     0.72334,     0.72324,     0.72313,     0.72302,     0.72292,     0.72281,      0.7227,     0.72259,     0.72249,     0.72238,     0.72227,     0.72206,     0.72175,     0.72144,     0.72113,     0.72082,     0.72053,\n",
       "            0.72023,     0.71994,     0.71964,     0.71932,     0.71886,      0.7184,     0.71797,     0.71923,     0.72048,       0.722,     0.72535,     0.72524,     0.72514,     0.72503,     0.72493,     0.72482,     0.72472,     0.72461,      0.7245,      0.7244,     0.72429,     0.72419,     0.72408,\n",
       "            0.72397,     0.72517,      0.7266,     0.73046,     0.73194,     0.73234,     0.73274,     0.73314,     0.73353,     0.73393,     0.73433,     0.73473,     0.73513,     0.73838,     0.74001,     0.74069,     0.74138,     0.74207,     0.74275,     0.74355,     0.74481,     0.74607,     0.74716,\n",
       "            0.75051,      0.7515,     0.75249,     0.75347,     0.75402,     0.75382,     0.75362,     0.75342,     0.75322,     0.75301,     0.75281,     0.75369,     0.75508,     0.75647,      0.7572,     0.75762,     0.75804,     0.75846,     0.75889,     0.75931,     0.75973,     0.76016,     0.76058,\n",
       "              0.761,     0.76002,     0.75949,     0.75914,     0.75879,     0.75844,     0.75815,     0.75786,     0.75758,     0.75729,     0.75821,     0.76194,     0.76334,     0.76474,      0.7652,     0.76461,     0.76511,      0.7656,     0.76609,     0.76658,     0.76707,     0.76756,     0.76805,\n",
       "            0.76854,     0.76919,        0.77,     0.77081,     0.77161,     0.77242,     0.77323,     0.77378,     0.77431,     0.77484,     0.77538,     0.77591,     0.77645,     0.77698,     0.77752,     0.77769,     0.77751,     0.77733,     0.77715,     0.77698,      0.7768,     0.77662,     0.77609,\n",
       "            0.77498,      0.7747,     0.77442,     0.77415,     0.77387,      0.7736,     0.77334,     0.77308,     0.77281,     0.77255,     0.77132,      0.7716,      0.7722,      0.7728,      0.7734,       0.774,      0.7746,      0.7752,     0.77581,     0.77657,     0.77732,     0.77808,     0.77883,\n",
       "            0.77959,     0.78034,     0.78256,     0.78514,     0.78505,      0.7848,     0.78456,     0.78432,     0.78408,     0.78378,     0.78344,      0.7831,     0.78276,     0.78247,     0.78221,     0.78195,      0.7817,     0.78144,       0.781,        0.78,     0.78047,     0.78115,     0.78183,\n",
       "            0.78251,     0.78319,     0.78387,     0.78455,     0.78799,     0.79234,      0.7954,     0.79691,     0.79842,     0.79993,     0.80206,     0.80421,      0.8062,     0.80804,     0.80989,     0.81028,     0.81003,     0.80977,     0.80952,     0.80927,     0.81358,     0.81325,     0.81315,\n",
       "            0.81305,     0.81295,     0.81285,     0.81275,     0.81264,     0.81254,     0.81244,     0.81234,     0.81224,     0.81214,     0.81081,     0.81072,     0.81064,     0.81055,     0.81046,     0.81038,     0.81029,      0.8102,     0.81012,     0.81003,     0.80994,     0.80986,     0.80977,\n",
       "            0.80968,      0.8096,     0.80979,     0.81128,     0.81278,     0.81427,     0.81409,     0.81333,     0.81279,     0.81106,     0.81034,     0.80979,     0.80956,     0.80933,     0.80911,     0.80888,     0.80865,     0.80891,     0.80997,     0.81104,      0.8121,     0.81316,     0.81422,\n",
       "            0.81327,     0.81734,     0.81694,     0.81654,     0.81662,     0.82201,     0.82765,     0.82921,     0.83268,      0.8335,     0.83431,     0.83512,     0.83594,     0.83675,     0.83757,     0.83838,      0.8384,     0.83834,     0.83828,     0.83822,     0.83815,     0.83809,     0.83803,\n",
       "            0.83796,      0.8379,     0.83784,     0.83777,     0.83771,     0.83765,     0.83758,     0.83752,     0.83746,      0.8374,     0.83733,     0.83727,     0.83725,     0.83808,     0.83892,     0.83975,     0.84058,     0.84142,     0.84225,     0.84309,     0.84387,     0.84445,     0.84503,\n",
       "             0.8456,     0.84618,     0.84676,     0.84734,     0.84792,     0.84849,     0.84907,     0.84965,     0.85023,     0.84941,     0.85469,      0.8544,     0.85412,     0.85383,     0.85238,     0.85157,     0.85105,     0.85074,     0.85043,     0.85012,     0.84981,     0.84949,     0.84917,\n",
       "            0.84886,     0.85278,     0.85328,     0.85273,     0.85215,     0.85268,     0.85517,     0.85767,     0.85823,     0.85799,     0.85775,      0.8575,     0.85726,     0.85786,     0.85919,     0.86053,     0.86187,      0.8632,     0.86454,      0.8643,     0.86357,     0.86287,     0.86213,\n",
       "            0.86131,     0.85972,     0.85913,     0.85853,     0.85827,     0.85804,      0.8578,     0.85757,     0.85734,      0.8576,     0.86032,     0.86304,     0.86594,     0.87004,     0.87374,     0.87324,     0.87273,     0.87235,     0.87203,     0.87172,      0.8714,     0.87565,     0.87987,\n",
       "            0.87953,     0.87919,     0.87885,     0.87747,     0.87722,     0.87698,     0.87673,     0.87649,     0.87615,     0.87537,     0.87462,      0.8739,     0.87268,     0.87193,      0.8714,     0.87157,     0.87452,     0.87748,     0.88043,     0.87861,     0.87768,     0.87743,     0.87719,\n",
       "            0.87694,      0.8767,     0.87645,     0.87948,     0.88335,     0.88617,     0.88528,     0.89465,      0.8939,     0.89348,     0.89306,     0.89813,     0.91275,     0.91433,     0.91399,     0.91366,     0.91246,     0.91222,     0.91199,     0.91175,     0.91151,     0.91015,     0.90992,\n",
       "            0.90969,     0.90946,     0.90923,     0.90623,     0.90481,     0.90442,     0.90769,     0.91096,     0.91423,     0.91527,      0.9143,     0.92091,     0.92753,     0.92683,     0.92785,     0.93777,      0.9387,     0.93821,     0.93784,     0.93649,       0.936,     0.93551,     0.93297,\n",
       "            0.93242,     0.94658,      0.9477,     0.94615,     0.94487,     0.94341,      0.9409,     0.93984,     0.93898,     0.95755,     0.95611,     0.95337,     0.95288,     0.95239,     0.95208,     0.95176,     0.95145,     0.95097,     0.94995,     0.94719,     0.94578,     0.94363,     0.93917,\n",
       "             0.9385,     0.93782,     0.93601,     0.96533,     0.96471,     0.96227,     0.97876,           1,           1,           1,           1,           1,           1,           1,           1,           1,           1,           1,           1,           1,           1,           1,           1,\n",
       "                  1,           1,           1,           1,           1,           1,           1,           1,           1,           1,           1,           1,           1,           1,           1,           1,           1,           1,           1,           1,           1,           1,           1,\n",
       "                  1,           1,           1,           1,           1,           1,           1,           1,           1,           1,           1,           1,           1,           1,           1,           1,           1,           1,           1,           1,           1,           1,           1,\n",
       "                  1,           1,           1,           1,           1,           1,           1,           1,           1,           1,           1,           1,           1,           1,           1,           1,           1,           1,           1,           1,           1,           1,           1,\n",
       "                  1,           1,           1,           1,           1,           1,           1,           1,           1,           1,           1,           1,           1,           1,           1,           1,           1,           1,           1,           1,           1,           1,           1,\n",
       "                  1,           1,           1,           1,           1,           1,           1,           1,           1,           1,           1,           1,           1,           1,           1,           1,           1,           1,           1,           1,           1,           1,           1,\n",
       "                  1,           1,           1,           1,           1,           1,           1,           1,           1,           1,           1,           1,           1,           1,           1,           1,           1,           1,           1,           1,           1,           1,           1,\n",
       "                  1,           1,           1,           1,           1,           1,           1,           1,           1,           1,           1,           1,           1,           1,           1,           1,           1,           1,           1,           1,           1,           1,           1,\n",
       "                  1,           1,           1,           1,           1,           1,           1,           1,           1,           1,           1,           1,           1,           1,           1,           1,           1,           1,           1,           1,           1,           1,           1,\n",
       "                  1,           1,           1,           1,           1,           1,           1,           1,           1,           1,           1,           1,           1,           1,           1,           1,           1,           1,           1,           1,           1,           1,           1,\n",
       "                  1,           1,           1,           1,           1,           1,           1,           1,           1,           1,           1,           1,           1,           1,           1,           1,           1,           1,           1,           1,           1,           1,           1,\n",
       "                  1,           1,           1,           1,           1,           1,           1,           1,           1,           1,           1,           1,           1,           1,           1,           1,           1,           1,           1,           1,           1,           1,           1,\n",
       "                  1,           1,           1,           1,           1,           1,           1,           1,           1,           1,           1]]), 'Confidence', 'Precision'], [array([          0,    0.001001,    0.002002,    0.003003,    0.004004,    0.005005,    0.006006,    0.007007,    0.008008,    0.009009,     0.01001,    0.011011,    0.012012,    0.013013,    0.014014,    0.015015,    0.016016,    0.017017,    0.018018,    0.019019,     0.02002,    0.021021,    0.022022,    0.023023,\n",
       "          0.024024,    0.025025,    0.026026,    0.027027,    0.028028,    0.029029,     0.03003,    0.031031,    0.032032,    0.033033,    0.034034,    0.035035,    0.036036,    0.037037,    0.038038,    0.039039,     0.04004,    0.041041,    0.042042,    0.043043,    0.044044,    0.045045,    0.046046,    0.047047,\n",
       "          0.048048,    0.049049,     0.05005,    0.051051,    0.052052,    0.053053,    0.054054,    0.055055,    0.056056,    0.057057,    0.058058,    0.059059,     0.06006,    0.061061,    0.062062,    0.063063,    0.064064,    0.065065,    0.066066,    0.067067,    0.068068,    0.069069,     0.07007,    0.071071,\n",
       "          0.072072,    0.073073,    0.074074,    0.075075,    0.076076,    0.077077,    0.078078,    0.079079,     0.08008,    0.081081,    0.082082,    0.083083,    0.084084,    0.085085,    0.086086,    0.087087,    0.088088,    0.089089,     0.09009,    0.091091,    0.092092,    0.093093,    0.094094,    0.095095,\n",
       "          0.096096,    0.097097,    0.098098,    0.099099,      0.1001,      0.1011,      0.1021,      0.1031,      0.1041,     0.10511,     0.10611,     0.10711,     0.10811,     0.10911,     0.11011,     0.11111,     0.11211,     0.11311,     0.11411,     0.11512,     0.11612,     0.11712,     0.11812,     0.11912,\n",
       "           0.12012,     0.12112,     0.12212,     0.12312,     0.12412,     0.12513,     0.12613,     0.12713,     0.12813,     0.12913,     0.13013,     0.13113,     0.13213,     0.13313,     0.13413,     0.13514,     0.13614,     0.13714,     0.13814,     0.13914,     0.14014,     0.14114,     0.14214,     0.14314,\n",
       "           0.14414,     0.14515,     0.14615,     0.14715,     0.14815,     0.14915,     0.15015,     0.15115,     0.15215,     0.15315,     0.15415,     0.15516,     0.15616,     0.15716,     0.15816,     0.15916,     0.16016,     0.16116,     0.16216,     0.16316,     0.16416,     0.16517,     0.16617,     0.16717,\n",
       "           0.16817,     0.16917,     0.17017,     0.17117,     0.17217,     0.17317,     0.17417,     0.17518,     0.17618,     0.17718,     0.17818,     0.17918,     0.18018,     0.18118,     0.18218,     0.18318,     0.18418,     0.18519,     0.18619,     0.18719,     0.18819,     0.18919,     0.19019,     0.19119,\n",
       "           0.19219,     0.19319,     0.19419,      0.1952,      0.1962,      0.1972,      0.1982,      0.1992,      0.2002,      0.2012,      0.2022,      0.2032,      0.2042,     0.20521,     0.20621,     0.20721,     0.20821,     0.20921,     0.21021,     0.21121,     0.21221,     0.21321,     0.21421,     0.21522,\n",
       "           0.21622,     0.21722,     0.21822,     0.21922,     0.22022,     0.22122,     0.22222,     0.22322,     0.22422,     0.22523,     0.22623,     0.22723,     0.22823,     0.22923,     0.23023,     0.23123,     0.23223,     0.23323,     0.23423,     0.23524,     0.23624,     0.23724,     0.23824,     0.23924,\n",
       "           0.24024,     0.24124,     0.24224,     0.24324,     0.24424,     0.24525,     0.24625,     0.24725,     0.24825,     0.24925,     0.25025,     0.25125,     0.25225,     0.25325,     0.25425,     0.25526,     0.25626,     0.25726,     0.25826,     0.25926,     0.26026,     0.26126,     0.26226,     0.26326,\n",
       "           0.26426,     0.26527,     0.26627,     0.26727,     0.26827,     0.26927,     0.27027,     0.27127,     0.27227,     0.27327,     0.27427,     0.27528,     0.27628,     0.27728,     0.27828,     0.27928,     0.28028,     0.28128,     0.28228,     0.28328,     0.28428,     0.28529,     0.28629,     0.28729,\n",
       "           0.28829,     0.28929,     0.29029,     0.29129,     0.29229,     0.29329,     0.29429,      0.2953,      0.2963,      0.2973,      0.2983,      0.2993,      0.3003,      0.3013,      0.3023,      0.3033,      0.3043,     0.30531,     0.30631,     0.30731,     0.30831,     0.30931,     0.31031,     0.31131,\n",
       "           0.31231,     0.31331,     0.31431,     0.31532,     0.31632,     0.31732,     0.31832,     0.31932,     0.32032,     0.32132,     0.32232,     0.32332,     0.32432,     0.32533,     0.32633,     0.32733,     0.32833,     0.32933,     0.33033,     0.33133,     0.33233,     0.33333,     0.33433,     0.33534,\n",
       "           0.33634,     0.33734,     0.33834,     0.33934,     0.34034,     0.34134,     0.34234,     0.34334,     0.34434,     0.34535,     0.34635,     0.34735,     0.34835,     0.34935,     0.35035,     0.35135,     0.35235,     0.35335,     0.35435,     0.35536,     0.35636,     0.35736,     0.35836,     0.35936,\n",
       "           0.36036,     0.36136,     0.36236,     0.36336,     0.36436,     0.36537,     0.36637,     0.36737,     0.36837,     0.36937,     0.37037,     0.37137,     0.37237,     0.37337,     0.37437,     0.37538,     0.37638,     0.37738,     0.37838,     0.37938,     0.38038,     0.38138,     0.38238,     0.38338,\n",
       "           0.38438,     0.38539,     0.38639,     0.38739,     0.38839,     0.38939,     0.39039,     0.39139,     0.39239,     0.39339,     0.39439,      0.3954,      0.3964,      0.3974,      0.3984,      0.3994,      0.4004,      0.4014,      0.4024,      0.4034,      0.4044,     0.40541,     0.40641,     0.40741,\n",
       "           0.40841,     0.40941,     0.41041,     0.41141,     0.41241,     0.41341,     0.41441,     0.41542,     0.41642,     0.41742,     0.41842,     0.41942,     0.42042,     0.42142,     0.42242,     0.42342,     0.42442,     0.42543,     0.42643,     0.42743,     0.42843,     0.42943,     0.43043,     0.43143,\n",
       "           0.43243,     0.43343,     0.43443,     0.43544,     0.43644,     0.43744,     0.43844,     0.43944,     0.44044,     0.44144,     0.44244,     0.44344,     0.44444,     0.44545,     0.44645,     0.44745,     0.44845,     0.44945,     0.45045,     0.45145,     0.45245,     0.45345,     0.45445,     0.45546,\n",
       "           0.45646,     0.45746,     0.45846,     0.45946,     0.46046,     0.46146,     0.46246,     0.46346,     0.46446,     0.46547,     0.46647,     0.46747,     0.46847,     0.46947,     0.47047,     0.47147,     0.47247,     0.47347,     0.47447,     0.47548,     0.47648,     0.47748,     0.47848,     0.47948,\n",
       "           0.48048,     0.48148,     0.48248,     0.48348,     0.48448,     0.48549,     0.48649,     0.48749,     0.48849,     0.48949,     0.49049,     0.49149,     0.49249,     0.49349,     0.49449,      0.4955,      0.4965,      0.4975,      0.4985,      0.4995,      0.5005,      0.5015,      0.5025,      0.5035,\n",
       "            0.5045,     0.50551,     0.50651,     0.50751,     0.50851,     0.50951,     0.51051,     0.51151,     0.51251,     0.51351,     0.51451,     0.51552,     0.51652,     0.51752,     0.51852,     0.51952,     0.52052,     0.52152,     0.52252,     0.52352,     0.52452,     0.52553,     0.52653,     0.52753,\n",
       "           0.52853,     0.52953,     0.53053,     0.53153,     0.53253,     0.53353,     0.53453,     0.53554,     0.53654,     0.53754,     0.53854,     0.53954,     0.54054,     0.54154,     0.54254,     0.54354,     0.54454,     0.54555,     0.54655,     0.54755,     0.54855,     0.54955,     0.55055,     0.55155,\n",
       "           0.55255,     0.55355,     0.55455,     0.55556,     0.55656,     0.55756,     0.55856,     0.55956,     0.56056,     0.56156,     0.56256,     0.56356,     0.56456,     0.56557,     0.56657,     0.56757,     0.56857,     0.56957,     0.57057,     0.57157,     0.57257,     0.57357,     0.57457,     0.57558,\n",
       "           0.57658,     0.57758,     0.57858,     0.57958,     0.58058,     0.58158,     0.58258,     0.58358,     0.58458,     0.58559,     0.58659,     0.58759,     0.58859,     0.58959,     0.59059,     0.59159,     0.59259,     0.59359,     0.59459,      0.5956,      0.5966,      0.5976,      0.5986,      0.5996,\n",
       "            0.6006,      0.6016,      0.6026,      0.6036,      0.6046,     0.60561,     0.60661,     0.60761,     0.60861,     0.60961,     0.61061,     0.61161,     0.61261,     0.61361,     0.61461,     0.61562,     0.61662,     0.61762,     0.61862,     0.61962,     0.62062,     0.62162,     0.62262,     0.62362,\n",
       "           0.62462,     0.62563,     0.62663,     0.62763,     0.62863,     0.62963,     0.63063,     0.63163,     0.63263,     0.63363,     0.63463,     0.63564,     0.63664,     0.63764,     0.63864,     0.63964,     0.64064,     0.64164,     0.64264,     0.64364,     0.64464,     0.64565,     0.64665,     0.64765,\n",
       "           0.64865,     0.64965,     0.65065,     0.65165,     0.65265,     0.65365,     0.65465,     0.65566,     0.65666,     0.65766,     0.65866,     0.65966,     0.66066,     0.66166,     0.66266,     0.66366,     0.66466,     0.66567,     0.66667,     0.66767,     0.66867,     0.66967,     0.67067,     0.67167,\n",
       "           0.67267,     0.67367,     0.67467,     0.67568,     0.67668,     0.67768,     0.67868,     0.67968,     0.68068,     0.68168,     0.68268,     0.68368,     0.68468,     0.68569,     0.68669,     0.68769,     0.68869,     0.68969,     0.69069,     0.69169,     0.69269,     0.69369,     0.69469,      0.6957,\n",
       "            0.6967,      0.6977,      0.6987,      0.6997,      0.7007,      0.7017,      0.7027,      0.7037,      0.7047,     0.70571,     0.70671,     0.70771,     0.70871,     0.70971,     0.71071,     0.71171,     0.71271,     0.71371,     0.71471,     0.71572,     0.71672,     0.71772,     0.71872,     0.71972,\n",
       "           0.72072,     0.72172,     0.72272,     0.72372,     0.72472,     0.72573,     0.72673,     0.72773,     0.72873,     0.72973,     0.73073,     0.73173,     0.73273,     0.73373,     0.73473,     0.73574,     0.73674,     0.73774,     0.73874,     0.73974,     0.74074,     0.74174,     0.74274,     0.74374,\n",
       "           0.74474,     0.74575,     0.74675,     0.74775,     0.74875,     0.74975,     0.75075,     0.75175,     0.75275,     0.75375,     0.75475,     0.75576,     0.75676,     0.75776,     0.75876,     0.75976,     0.76076,     0.76176,     0.76276,     0.76376,     0.76476,     0.76577,     0.76677,     0.76777,\n",
       "           0.76877,     0.76977,     0.77077,     0.77177,     0.77277,     0.77377,     0.77477,     0.77578,     0.77678,     0.77778,     0.77878,     0.77978,     0.78078,     0.78178,     0.78278,     0.78378,     0.78478,     0.78579,     0.78679,     0.78779,     0.78879,     0.78979,     0.79079,     0.79179,\n",
       "           0.79279,     0.79379,     0.79479,      0.7958,      0.7968,      0.7978,      0.7988,      0.7998,      0.8008,      0.8018,      0.8028,      0.8038,      0.8048,     0.80581,     0.80681,     0.80781,     0.80881,     0.80981,     0.81081,     0.81181,     0.81281,     0.81381,     0.81481,     0.81582,\n",
       "           0.81682,     0.81782,     0.81882,     0.81982,     0.82082,     0.82182,     0.82282,     0.82382,     0.82482,     0.82583,     0.82683,     0.82783,     0.82883,     0.82983,     0.83083,     0.83183,     0.83283,     0.83383,     0.83483,     0.83584,     0.83684,     0.83784,     0.83884,     0.83984,\n",
       "           0.84084,     0.84184,     0.84284,     0.84384,     0.84484,     0.84585,     0.84685,     0.84785,     0.84885,     0.84985,     0.85085,     0.85185,     0.85285,     0.85385,     0.85485,     0.85586,     0.85686,     0.85786,     0.85886,     0.85986,     0.86086,     0.86186,     0.86286,     0.86386,\n",
       "           0.86486,     0.86587,     0.86687,     0.86787,     0.86887,     0.86987,     0.87087,     0.87187,     0.87287,     0.87387,     0.87487,     0.87588,     0.87688,     0.87788,     0.87888,     0.87988,     0.88088,     0.88188,     0.88288,     0.88388,     0.88488,     0.88589,     0.88689,     0.88789,\n",
       "           0.88889,     0.88989,     0.89089,     0.89189,     0.89289,     0.89389,     0.89489,      0.8959,      0.8969,      0.8979,      0.8989,      0.8999,      0.9009,      0.9019,      0.9029,      0.9039,      0.9049,     0.90591,     0.90691,     0.90791,     0.90891,     0.90991,     0.91091,     0.91191,\n",
       "           0.91291,     0.91391,     0.91491,     0.91592,     0.91692,     0.91792,     0.91892,     0.91992,     0.92092,     0.92192,     0.92292,     0.92392,     0.92492,     0.92593,     0.92693,     0.92793,     0.92893,     0.92993,     0.93093,     0.93193,     0.93293,     0.93393,     0.93493,     0.93594,\n",
       "           0.93694,     0.93794,     0.93894,     0.93994,     0.94094,     0.94194,     0.94294,     0.94394,     0.94494,     0.94595,     0.94695,     0.94795,     0.94895,     0.94995,     0.95095,     0.95195,     0.95295,     0.95395,     0.95495,     0.95596,     0.95696,     0.95796,     0.95896,     0.95996,\n",
       "           0.96096,     0.96196,     0.96296,     0.96396,     0.96496,     0.96597,     0.96697,     0.96797,     0.96897,     0.96997,     0.97097,     0.97197,     0.97297,     0.97397,     0.97497,     0.97598,     0.97698,     0.97798,     0.97898,     0.97998,     0.98098,     0.98198,     0.98298,     0.98398,\n",
       "           0.98498,     0.98599,     0.98699,     0.98799,     0.98899,     0.98999,     0.99099,     0.99199,     0.99299,     0.99399,     0.99499,       0.996,       0.997,       0.998,       0.999,           1]), array([[    0.87379,     0.87379,     0.86408,     0.85437,     0.84466,     0.84466,     0.84466,     0.84466,     0.84466,     0.84466,     0.84466,     0.83981,     0.83981,     0.83981,     0.83981,     0.83981,     0.83981,     0.83981,     0.83981,     0.83495,     0.83495,     0.83495,     0.83495,\n",
       "            0.83495,     0.83495,     0.83495,      0.8301,      0.8301,      0.8301,      0.8266,     0.82524,     0.82524,     0.82524,     0.82524,     0.82524,     0.82524,     0.81764,     0.81553,     0.81553,     0.81553,     0.81553,     0.81553,     0.81553,     0.81553,     0.81553,     0.81553,\n",
       "            0.81553,     0.81553,     0.81068,     0.81068,     0.81068,     0.80583,     0.80583,     0.80583,     0.80583,     0.80583,     0.80583,     0.80583,     0.80583,     0.80583,     0.80583,     0.80583,     0.80583,     0.80583,     0.80555,     0.80327,     0.80099,     0.80097,     0.80097,\n",
       "            0.80097,     0.80097,     0.80097,     0.80097,     0.79906,     0.79612,     0.79612,     0.79612,     0.79612,     0.79612,       0.796,     0.79382,     0.79165,     0.79126,     0.79126,     0.79126,     0.79126,     0.79126,     0.79126,     0.79126,     0.79111,     0.78932,     0.78752,\n",
       "            0.78641,     0.78641,     0.78641,     0.78641,     0.78641,     0.78641,     0.78641,     0.78641,     0.78641,     0.78641,     0.78266,     0.78155,     0.78155,     0.78155,     0.78155,     0.78155,     0.78155,     0.78155,     0.78048,      0.7767,      0.7767,      0.7767,      0.7767,\n",
       "            0.77555,     0.77184,     0.76699,     0.76699,     0.76699,     0.76699,     0.76699,     0.76699,     0.76699,     0.76699,     0.76699,     0.76699,     0.76642,     0.76511,      0.7638,     0.76249,      0.7617,     0.76111,     0.76051,     0.75992,     0.75932,     0.75873,     0.75813,\n",
       "            0.75754,     0.74757,     0.74757,     0.74757,     0.74658,     0.74532,     0.74406,      0.7428,     0.73983,     0.73786,     0.73746,     0.73424,     0.73301,     0.73301,     0.73301,     0.73301,     0.73301,     0.73301,     0.73301,     0.73301,     0.73301,     0.73301,     0.73301,\n",
       "            0.73301,     0.73301,     0.73301,     0.73301,     0.73301,     0.73219,     0.73122,     0.73025,     0.72928,     0.72831,     0.72816,     0.72816,     0.72816,     0.72816,     0.72816,      0.7277,     0.72631,     0.72492,     0.72353,      0.7233,     0.72288,     0.72245,     0.72202,\n",
       "             0.7216,     0.72117,     0.72074,     0.72032,     0.71989,     0.71946,     0.71904,     0.71861,     0.71845,     0.71845,     0.71845,     0.71845,     0.71845,     0.71845,     0.71845,     0.71845,     0.71845,     0.71423,     0.71216,     0.71068,     0.70921,     0.70874,     0.70874,\n",
       "            0.70874,     0.70874,     0.70388,     0.70388,     0.70388,     0.70388,     0.70388,     0.70388,     0.70388,     0.70388,     0.70388,     0.70388,     0.70388,     0.70388,     0.70388,     0.70388,     0.70388,     0.70388,     0.70388,     0.70388,     0.70388,     0.70388,     0.70388,\n",
       "            0.70388,     0.70388,     0.70388,     0.70388,     0.70086,     0.69903,     0.69903,     0.69903,     0.69903,     0.69903,     0.69903,     0.69903,     0.69903,     0.69903,     0.69903,     0.69903,     0.69903,     0.69903,     0.69903,     0.69903,     0.69903,     0.69903,     0.69903,\n",
       "            0.69903,     0.69903,     0.69903,     0.69903,     0.69881,     0.69844,     0.69807,      0.6977,     0.69733,     0.69696,     0.69658,     0.69621,     0.69584,     0.69547,      0.6951,     0.69473,     0.69436,     0.69363,     0.69256,      0.6915,     0.69043,     0.68936,     0.68835,\n",
       "            0.68734,     0.68634,     0.68533,     0.68424,     0.68269,     0.68114,     0.67961,     0.67961,     0.67961,     0.67961,     0.67948,     0.67912,     0.67876,      0.6784,     0.67804,     0.67769,     0.67733,     0.67697,     0.67661,     0.67625,     0.67589,     0.67553,     0.67517,\n",
       "            0.67481,     0.67476,     0.67476,     0.67476,     0.67476,     0.67476,     0.67476,     0.67476,     0.67476,     0.67476,     0.67476,     0.67476,     0.67476,     0.67476,     0.67476,     0.67476,     0.67476,     0.67476,     0.67476,     0.67476,     0.67476,     0.67476,     0.67421,\n",
       "             0.6699,      0.6699,      0.6699,      0.6699,     0.66964,     0.66891,     0.66819,     0.66746,     0.66674,     0.66601,     0.66528,     0.66505,     0.66505,     0.66505,     0.66505,     0.66505,     0.66505,     0.66505,     0.66505,     0.66505,     0.66505,     0.66505,     0.66505,\n",
       "            0.66505,     0.66109,     0.65915,      0.6579,     0.65665,      0.6554,     0.65437,     0.65334,     0.65232,     0.65129,     0.65049,     0.65049,     0.65049,     0.65049,     0.64864,     0.64563,     0.64563,     0.64563,     0.64563,     0.64563,     0.64563,     0.64563,     0.64563,\n",
       "            0.64563,     0.64563,     0.64563,     0.64563,     0.64563,     0.64563,     0.64563,     0.64563,     0.64563,     0.64563,     0.64563,     0.64563,     0.64563,     0.64563,     0.64563,     0.64529,     0.64463,     0.64397,     0.64331,     0.64265,     0.64199,     0.64133,     0.63939,\n",
       "             0.6353,      0.6343,     0.63329,     0.63229,     0.63128,     0.63033,     0.62938,     0.62844,     0.62749,     0.62655,      0.6222,     0.62136,     0.62136,     0.62136,     0.62136,     0.62136,     0.62136,     0.62136,     0.62136,     0.62136,     0.62136,     0.62136,     0.62136,\n",
       "            0.62136,     0.62136,     0.62136,     0.62136,     0.62052,     0.61963,     0.61874,     0.61785,     0.61696,      0.6159,     0.61467,     0.61343,      0.6122,     0.61114,     0.61023,     0.60931,     0.60839,     0.60748,      0.6059,     0.60238,     0.60194,     0.60194,     0.60194,\n",
       "            0.60194,     0.60194,     0.60194,     0.60194,     0.60194,     0.60194,     0.60194,     0.60194,     0.60194,     0.60194,     0.60194,     0.60194,     0.60194,     0.60194,     0.60194,     0.60126,     0.60027,     0.59928,     0.59829,      0.5973,     0.59321,     0.59191,     0.59152,\n",
       "            0.59113,     0.59074,     0.59035,     0.58996,     0.58957,     0.58917,     0.58878,     0.58839,       0.588,     0.58761,     0.58252,     0.58219,     0.58187,     0.58154,     0.58121,     0.58088,     0.58056,     0.58023,      0.5799,     0.57957,     0.57925,     0.57892,     0.57859,\n",
       "            0.57827,     0.57794,     0.57767,     0.57767,     0.57767,     0.57767,     0.57394,     0.57108,     0.56906,     0.56263,     0.56002,     0.55799,     0.55717,     0.55635,     0.55554,     0.55472,     0.55391,      0.5534,      0.5534,      0.5534,      0.5534,      0.5534,      0.5534,\n",
       "             0.5497,     0.54304,      0.5416,     0.54016,     0.53883,     0.53883,     0.53616,     0.52913,     0.52913,     0.52913,     0.52913,     0.52913,     0.52913,     0.52913,     0.52913,     0.52913,     0.52891,     0.52866,     0.52842,     0.52817,     0.52793,     0.52768,     0.52744,\n",
       "            0.52719,     0.52695,     0.52671,     0.52646,     0.52622,     0.52597,     0.52573,     0.52548,     0.52524,     0.52499,     0.52475,     0.52451,     0.52427,     0.52427,     0.52427,     0.52427,     0.52427,     0.52427,     0.52427,     0.52427,     0.52427,     0.52427,     0.52427,\n",
       "            0.52427,     0.52427,     0.52427,     0.52427,     0.52427,     0.52427,     0.52427,     0.52427,     0.52427,     0.52027,     0.51395,     0.51277,     0.51159,     0.51041,     0.50456,     0.50131,     0.49927,     0.49805,     0.49684,     0.49562,      0.4944,     0.49318,     0.49196,\n",
       "            0.49075,     0.48544,     0.47995,     0.47783,     0.47563,     0.47087,     0.47087,     0.47087,     0.47021,     0.46927,     0.46833,      0.4674,     0.46646,     0.46602,     0.46602,     0.46602,     0.46602,     0.46602,     0.46602,      0.4638,      0.4609,     0.45817,     0.45532,\n",
       "            0.45221,     0.44627,     0.44408,     0.44189,     0.44096,     0.44012,     0.43928,     0.43844,     0.43759,     0.43689,     0.43689,     0.43689,     0.43689,     0.43689,     0.43672,     0.43473,     0.43275,     0.43126,     0.43005,     0.42884,     0.42763,     0.42718,     0.42668,\n",
       "            0.42532,     0.42395,     0.42259,     0.41715,     0.41621,     0.41527,     0.41433,     0.41339,      0.4121,     0.40916,     0.40637,      0.4037,      0.3993,     0.39662,     0.39472,      0.3932,      0.3932,      0.3932,      0.3932,     0.38652,     0.38314,     0.38228,     0.38141,\n",
       "            0.38055,     0.37968,     0.37882,     0.37864,     0.37864,     0.37791,      0.3746,     0.37102,      0.3681,     0.36648,     0.36486,     0.36408,     0.36408,     0.36268,     0.36113,     0.35958,     0.35419,     0.35316,     0.35212,     0.35108,     0.35005,     0.34421,     0.34325,\n",
       "            0.34229,     0.34133,     0.34037,      0.3284,       0.323,     0.32039,     0.32039,     0.32039,     0.32039,     0.31463,     0.31072,     0.31068,     0.31065,     0.30748,     0.30097,     0.30097,     0.29737,     0.29482,       0.293,     0.28633,     0.28401,     0.28168,     0.27029,\n",
       "             0.2679,     0.26699,     0.26391,     0.25592,     0.24964,      0.2428,     0.23188,     0.22753,      0.2241,     0.21901,     0.21154,     0.19853,     0.19637,     0.19422,      0.1929,      0.1916,      0.1903,     0.18834,     0.18428,     0.17414,     0.16937,     0.16256,     0.14991,\n",
       "            0.14819,     0.14646,     0.14205,     0.13518,     0.13275,     0.12385,      0.1165,     0.11515,     0.11033,     0.10398,     0.10044,    0.098787,     0.09713,    0.095776,     0.09443,    0.093084,    0.091639,    0.090023,    0.088406,    0.086299,    0.083334,    0.079365,     0.06751,\n",
       "           0.066374,    0.065239,    0.064104,    0.062742,    0.059751,    0.057925,    0.057267,     0.05661,    0.055953,    0.055296,    0.054638,    0.053981,    0.053177,    0.051219,     0.04926,    0.047801,    0.046628,    0.045456,    0.044284,    0.040194,    0.036913,    0.034535,    0.029097,\n",
       "           0.028403,    0.027709,    0.027015,    0.026321,    0.025627,    0.024933,    0.024215,    0.023009,    0.021804,    0.020599,    0.017196,    0.014415,    0.014263,    0.014112,     0.01396,    0.013808,    0.013656,    0.013505,    0.013353,    0.013201,     0.01305,    0.012898,    0.012746,\n",
       "           0.012594,    0.012443,    0.012291,    0.012139,    0.011988,    0.011836,    0.011684,    0.011532,    0.011381,    0.011229,    0.011077,    0.010926,    0.010774,    0.010622,     0.01047,    0.010319,    0.010167,    0.010015,   0.0098636,   0.0097119,   0.0090327,   0.0083421,   0.0076515,\n",
       "          0.0069609,   0.0062703,   0.0055797,   0.0048891,           0,           0,           0,           0,           0,           0,           0,           0,           0,           0,           0,           0,           0,           0,           0,           0,           0,           0,           0,\n",
       "                  0,           0,           0,           0,           0,           0,           0,           0,           0,           0,           0,           0,           0,           0,           0,           0,           0,           0,           0,           0,           0,           0,           0,\n",
       "                  0,           0,           0,           0,           0,           0,           0,           0,           0,           0,           0,           0,           0,           0,           0,           0,           0,           0,           0,           0,           0,           0,           0,\n",
       "                  0,           0,           0,           0,           0,           0,           0,           0,           0,           0,           0,           0,           0,           0,           0,           0,           0,           0,           0,           0,           0,           0,           0,\n",
       "                  0,           0,           0,           0,           0,           0,           0,           0,           0,           0,           0,           0,           0,           0,           0,           0,           0,           0,           0,           0,           0,           0,           0,\n",
       "                  0,           0,           0,           0,           0,           0,           0,           0,           0,           0,           0,           0,           0,           0,           0,           0,           0,           0,           0,           0,           0,           0,           0,\n",
       "                  0,           0,           0,           0,           0,           0,           0,           0,           0,           0,           0,           0,           0,           0,           0,           0,           0,           0,           0,           0,           0,           0,           0,\n",
       "                  0,           0,           0,           0,           0,           0,           0,           0,           0,           0,           0,           0,           0,           0,           0,           0,           0,           0,           0,           0,           0,           0,           0,\n",
       "                  0,           0,           0,           0,           0,           0,           0,           0,           0,           0,           0]]), 'Confidence', 'Recall']]\n",
       "fitness: 0.3934643856034731\n",
       "keys: ['metrics/precision(B)', 'metrics/recall(B)', 'metrics/mAP50(B)', 'metrics/mAP50-95(B)']\n",
       "maps: array([    0.35669])\n",
       "names: {0: 'bird'}\n",
       "plot: True\n",
       "results_dict: {'metrics/precision(B)': 0.7184005214672514, 'metrics/recall(B)': 0.6811357396715226, 'metrics/mAP50(B)': 0.724448006030975, 'metrics/mAP50-95(B)': 0.3566884277781951, 'fitness': 0.3934643856034731}\n",
       "save_dir: PosixPath('yolo_run_2_brids/2_birds_1280_default22')\n",
       "speed: {'preprocess': 1.6334101347955143, 'inference': 29.135231556169906, 'loss': 0.0010067921997115978, 'postprocess': 1.64505483148838}\n",
       "task: 'detect'"
      ]
     },
     "execution_count": 9,
     "metadata": {},
     "output_type": "execute_result"
    }
   ],
   "source": [
    "model_stage_1.val(data=yolo_data, save=True)"
   ]
  },
  {
   "cell_type": "code",
   "execution_count": 11,
   "metadata": {
    "colab": {
     "base_uri": "https://localhost:8080/"
    },
    "execution": {
     "iopub.execute_input": "2025-05-11T11:50:37.976858Z",
     "iopub.status.busy": "2025-05-11T11:50:37.976555Z",
     "iopub.status.idle": "2025-05-11T11:50:47.702300Z",
     "shell.execute_reply": "2025-05-11T11:50:47.701879Z",
     "shell.execute_reply.started": "2025-05-11T11:50:37.976835Z"
    },
    "executionInfo": {
     "elapsed": 13430,
     "status": "ok",
     "timestamp": 1746613891532,
     "user": {
      "displayName": "Eugen Falca",
      "userId": "06470857081734833614"
     },
     "user_tz": -120
    },
    "id": "4LCoIMVdL6ul",
    "outputId": "a07f8a7b-e363-4a9b-983b-f1e0c1d0b42d"
   },
   "outputs": [
    {
     "name": "stdout",
     "output_type": "stream",
     "text": [
      "Ultralytics 8.3.131 🚀 Python-3.11.7 torch-2.1.1+cu121 CUDA:0 (NVIDIA RTX A4000, 16102MiB)\n",
      "\u001b[34m\u001b[1mval: \u001b[0mFast image access ✅ (ping: 0.0±0.0 ms, read: 2851.3±993.4 MB/s, size: 3191.0 KB)\n"
     ]
    },
    {
     "name": "stderr",
     "output_type": "stream",
     "text": [
      "\u001b[34m\u001b[1mval: \u001b[0mScanning /notebooks/DL---detection-of-birds-in-drone-images/data/tiled_augmented_2_yolo_data/valid/labels.cache... 178 images, 129 backgrounds, 0 corrupt: 100%|██████████| 178/178 [00:00<?, ?it/s]"
     ]
    },
    {
     "name": "stdout",
     "output_type": "stream",
     "text": [
      "\u001b[34m\u001b[1mval: \u001b[0m/notebooks/DL---detection-of-birds-in-drone-images/data/tiled_augmented_2_yolo_data/valid/images/DJI_0319_tile-0.png: 1 duplicate labels removed\n"
     ]
    },
    {
     "name": "stderr",
     "output_type": "stream",
     "text": [
      "\n",
      "                 Class     Images  Instances      Box(P          R      mAP50  mAP50-95): 100%|██████████| 12/12 [00:07<00:00,  1.61it/s]\n"
     ]
    },
    {
     "name": "stdout",
     "output_type": "stream",
     "text": [
      "                   all        178        206      0.704      0.723      0.712      0.343\n",
      "Speed: 3.4ms preprocess, 27.9ms inference, 0.0ms loss, 1.3ms postprocess per image\n",
      "Results saved to \u001b[1mruns/detect/val6\u001b[0m\n"
     ]
    },
    {
     "data": {
      "text/plain": [
       "ultralytics.utils.metrics.DetMetrics object with attributes:\n",
       "\n",
       "ap_class_index: array([0])\n",
       "box: ultralytics.utils.metrics.Metric object\n",
       "confusion_matrix: <ultralytics.utils.metrics.ConfusionMatrix object at 0x7f17e23e3990>\n",
       "curves: ['Precision-Recall(B)', 'F1-Confidence(B)', 'Precision-Confidence(B)', 'Recall-Confidence(B)']\n",
       "curves_results: [[array([          0,    0.001001,    0.002002,    0.003003,    0.004004,    0.005005,    0.006006,    0.007007,    0.008008,    0.009009,     0.01001,    0.011011,    0.012012,    0.013013,    0.014014,    0.015015,    0.016016,    0.017017,    0.018018,    0.019019,     0.02002,    0.021021,    0.022022,    0.023023,\n",
       "          0.024024,    0.025025,    0.026026,    0.027027,    0.028028,    0.029029,     0.03003,    0.031031,    0.032032,    0.033033,    0.034034,    0.035035,    0.036036,    0.037037,    0.038038,    0.039039,     0.04004,    0.041041,    0.042042,    0.043043,    0.044044,    0.045045,    0.046046,    0.047047,\n",
       "          0.048048,    0.049049,     0.05005,    0.051051,    0.052052,    0.053053,    0.054054,    0.055055,    0.056056,    0.057057,    0.058058,    0.059059,     0.06006,    0.061061,    0.062062,    0.063063,    0.064064,    0.065065,    0.066066,    0.067067,    0.068068,    0.069069,     0.07007,    0.071071,\n",
       "          0.072072,    0.073073,    0.074074,    0.075075,    0.076076,    0.077077,    0.078078,    0.079079,     0.08008,    0.081081,    0.082082,    0.083083,    0.084084,    0.085085,    0.086086,    0.087087,    0.088088,    0.089089,     0.09009,    0.091091,    0.092092,    0.093093,    0.094094,    0.095095,\n",
       "          0.096096,    0.097097,    0.098098,    0.099099,      0.1001,      0.1011,      0.1021,      0.1031,      0.1041,     0.10511,     0.10611,     0.10711,     0.10811,     0.10911,     0.11011,     0.11111,     0.11211,     0.11311,     0.11411,     0.11512,     0.11612,     0.11712,     0.11812,     0.11912,\n",
       "           0.12012,     0.12112,     0.12212,     0.12312,     0.12412,     0.12513,     0.12613,     0.12713,     0.12813,     0.12913,     0.13013,     0.13113,     0.13213,     0.13313,     0.13413,     0.13514,     0.13614,     0.13714,     0.13814,     0.13914,     0.14014,     0.14114,     0.14214,     0.14314,\n",
       "           0.14414,     0.14515,     0.14615,     0.14715,     0.14815,     0.14915,     0.15015,     0.15115,     0.15215,     0.15315,     0.15415,     0.15516,     0.15616,     0.15716,     0.15816,     0.15916,     0.16016,     0.16116,     0.16216,     0.16316,     0.16416,     0.16517,     0.16617,     0.16717,\n",
       "           0.16817,     0.16917,     0.17017,     0.17117,     0.17217,     0.17317,     0.17417,     0.17518,     0.17618,     0.17718,     0.17818,     0.17918,     0.18018,     0.18118,     0.18218,     0.18318,     0.18418,     0.18519,     0.18619,     0.18719,     0.18819,     0.18919,     0.19019,     0.19119,\n",
       "           0.19219,     0.19319,     0.19419,      0.1952,      0.1962,      0.1972,      0.1982,      0.1992,      0.2002,      0.2012,      0.2022,      0.2032,      0.2042,     0.20521,     0.20621,     0.20721,     0.20821,     0.20921,     0.21021,     0.21121,     0.21221,     0.21321,     0.21421,     0.21522,\n",
       "           0.21622,     0.21722,     0.21822,     0.21922,     0.22022,     0.22122,     0.22222,     0.22322,     0.22422,     0.22523,     0.22623,     0.22723,     0.22823,     0.22923,     0.23023,     0.23123,     0.23223,     0.23323,     0.23423,     0.23524,     0.23624,     0.23724,     0.23824,     0.23924,\n",
       "           0.24024,     0.24124,     0.24224,     0.24324,     0.24424,     0.24525,     0.24625,     0.24725,     0.24825,     0.24925,     0.25025,     0.25125,     0.25225,     0.25325,     0.25425,     0.25526,     0.25626,     0.25726,     0.25826,     0.25926,     0.26026,     0.26126,     0.26226,     0.26326,\n",
       "           0.26426,     0.26527,     0.26627,     0.26727,     0.26827,     0.26927,     0.27027,     0.27127,     0.27227,     0.27327,     0.27427,     0.27528,     0.27628,     0.27728,     0.27828,     0.27928,     0.28028,     0.28128,     0.28228,     0.28328,     0.28428,     0.28529,     0.28629,     0.28729,\n",
       "           0.28829,     0.28929,     0.29029,     0.29129,     0.29229,     0.29329,     0.29429,      0.2953,      0.2963,      0.2973,      0.2983,      0.2993,      0.3003,      0.3013,      0.3023,      0.3033,      0.3043,     0.30531,     0.30631,     0.30731,     0.30831,     0.30931,     0.31031,     0.31131,\n",
       "           0.31231,     0.31331,     0.31431,     0.31532,     0.31632,     0.31732,     0.31832,     0.31932,     0.32032,     0.32132,     0.32232,     0.32332,     0.32432,     0.32533,     0.32633,     0.32733,     0.32833,     0.32933,     0.33033,     0.33133,     0.33233,     0.33333,     0.33433,     0.33534,\n",
       "           0.33634,     0.33734,     0.33834,     0.33934,     0.34034,     0.34134,     0.34234,     0.34334,     0.34434,     0.34535,     0.34635,     0.34735,     0.34835,     0.34935,     0.35035,     0.35135,     0.35235,     0.35335,     0.35435,     0.35536,     0.35636,     0.35736,     0.35836,     0.35936,\n",
       "           0.36036,     0.36136,     0.36236,     0.36336,     0.36436,     0.36537,     0.36637,     0.36737,     0.36837,     0.36937,     0.37037,     0.37137,     0.37237,     0.37337,     0.37437,     0.37538,     0.37638,     0.37738,     0.37838,     0.37938,     0.38038,     0.38138,     0.38238,     0.38338,\n",
       "           0.38438,     0.38539,     0.38639,     0.38739,     0.38839,     0.38939,     0.39039,     0.39139,     0.39239,     0.39339,     0.39439,      0.3954,      0.3964,      0.3974,      0.3984,      0.3994,      0.4004,      0.4014,      0.4024,      0.4034,      0.4044,     0.40541,     0.40641,     0.40741,\n",
       "           0.40841,     0.40941,     0.41041,     0.41141,     0.41241,     0.41341,     0.41441,     0.41542,     0.41642,     0.41742,     0.41842,     0.41942,     0.42042,     0.42142,     0.42242,     0.42342,     0.42442,     0.42543,     0.42643,     0.42743,     0.42843,     0.42943,     0.43043,     0.43143,\n",
       "           0.43243,     0.43343,     0.43443,     0.43544,     0.43644,     0.43744,     0.43844,     0.43944,     0.44044,     0.44144,     0.44244,     0.44344,     0.44444,     0.44545,     0.44645,     0.44745,     0.44845,     0.44945,     0.45045,     0.45145,     0.45245,     0.45345,     0.45445,     0.45546,\n",
       "           0.45646,     0.45746,     0.45846,     0.45946,     0.46046,     0.46146,     0.46246,     0.46346,     0.46446,     0.46547,     0.46647,     0.46747,     0.46847,     0.46947,     0.47047,     0.47147,     0.47247,     0.47347,     0.47447,     0.47548,     0.47648,     0.47748,     0.47848,     0.47948,\n",
       "           0.48048,     0.48148,     0.48248,     0.48348,     0.48448,     0.48549,     0.48649,     0.48749,     0.48849,     0.48949,     0.49049,     0.49149,     0.49249,     0.49349,     0.49449,      0.4955,      0.4965,      0.4975,      0.4985,      0.4995,      0.5005,      0.5015,      0.5025,      0.5035,\n",
       "            0.5045,     0.50551,     0.50651,     0.50751,     0.50851,     0.50951,     0.51051,     0.51151,     0.51251,     0.51351,     0.51451,     0.51552,     0.51652,     0.51752,     0.51852,     0.51952,     0.52052,     0.52152,     0.52252,     0.52352,     0.52452,     0.52553,     0.52653,     0.52753,\n",
       "           0.52853,     0.52953,     0.53053,     0.53153,     0.53253,     0.53353,     0.53453,     0.53554,     0.53654,     0.53754,     0.53854,     0.53954,     0.54054,     0.54154,     0.54254,     0.54354,     0.54454,     0.54555,     0.54655,     0.54755,     0.54855,     0.54955,     0.55055,     0.55155,\n",
       "           0.55255,     0.55355,     0.55455,     0.55556,     0.55656,     0.55756,     0.55856,     0.55956,     0.56056,     0.56156,     0.56256,     0.56356,     0.56456,     0.56557,     0.56657,     0.56757,     0.56857,     0.56957,     0.57057,     0.57157,     0.57257,     0.57357,     0.57457,     0.57558,\n",
       "           0.57658,     0.57758,     0.57858,     0.57958,     0.58058,     0.58158,     0.58258,     0.58358,     0.58458,     0.58559,     0.58659,     0.58759,     0.58859,     0.58959,     0.59059,     0.59159,     0.59259,     0.59359,     0.59459,      0.5956,      0.5966,      0.5976,      0.5986,      0.5996,\n",
       "            0.6006,      0.6016,      0.6026,      0.6036,      0.6046,     0.60561,     0.60661,     0.60761,     0.60861,     0.60961,     0.61061,     0.61161,     0.61261,     0.61361,     0.61461,     0.61562,     0.61662,     0.61762,     0.61862,     0.61962,     0.62062,     0.62162,     0.62262,     0.62362,\n",
       "           0.62462,     0.62563,     0.62663,     0.62763,     0.62863,     0.62963,     0.63063,     0.63163,     0.63263,     0.63363,     0.63463,     0.63564,     0.63664,     0.63764,     0.63864,     0.63964,     0.64064,     0.64164,     0.64264,     0.64364,     0.64464,     0.64565,     0.64665,     0.64765,\n",
       "           0.64865,     0.64965,     0.65065,     0.65165,     0.65265,     0.65365,     0.65465,     0.65566,     0.65666,     0.65766,     0.65866,     0.65966,     0.66066,     0.66166,     0.66266,     0.66366,     0.66466,     0.66567,     0.66667,     0.66767,     0.66867,     0.66967,     0.67067,     0.67167,\n",
       "           0.67267,     0.67367,     0.67467,     0.67568,     0.67668,     0.67768,     0.67868,     0.67968,     0.68068,     0.68168,     0.68268,     0.68368,     0.68468,     0.68569,     0.68669,     0.68769,     0.68869,     0.68969,     0.69069,     0.69169,     0.69269,     0.69369,     0.69469,      0.6957,\n",
       "            0.6967,      0.6977,      0.6987,      0.6997,      0.7007,      0.7017,      0.7027,      0.7037,      0.7047,     0.70571,     0.70671,     0.70771,     0.70871,     0.70971,     0.71071,     0.71171,     0.71271,     0.71371,     0.71471,     0.71572,     0.71672,     0.71772,     0.71872,     0.71972,\n",
       "           0.72072,     0.72172,     0.72272,     0.72372,     0.72472,     0.72573,     0.72673,     0.72773,     0.72873,     0.72973,     0.73073,     0.73173,     0.73273,     0.73373,     0.73473,     0.73574,     0.73674,     0.73774,     0.73874,     0.73974,     0.74074,     0.74174,     0.74274,     0.74374,\n",
       "           0.74474,     0.74575,     0.74675,     0.74775,     0.74875,     0.74975,     0.75075,     0.75175,     0.75275,     0.75375,     0.75475,     0.75576,     0.75676,     0.75776,     0.75876,     0.75976,     0.76076,     0.76176,     0.76276,     0.76376,     0.76476,     0.76577,     0.76677,     0.76777,\n",
       "           0.76877,     0.76977,     0.77077,     0.77177,     0.77277,     0.77377,     0.77477,     0.77578,     0.77678,     0.77778,     0.77878,     0.77978,     0.78078,     0.78178,     0.78278,     0.78378,     0.78478,     0.78579,     0.78679,     0.78779,     0.78879,     0.78979,     0.79079,     0.79179,\n",
       "           0.79279,     0.79379,     0.79479,      0.7958,      0.7968,      0.7978,      0.7988,      0.7998,      0.8008,      0.8018,      0.8028,      0.8038,      0.8048,     0.80581,     0.80681,     0.80781,     0.80881,     0.80981,     0.81081,     0.81181,     0.81281,     0.81381,     0.81481,     0.81582,\n",
       "           0.81682,     0.81782,     0.81882,     0.81982,     0.82082,     0.82182,     0.82282,     0.82382,     0.82482,     0.82583,     0.82683,     0.82783,     0.82883,     0.82983,     0.83083,     0.83183,     0.83283,     0.83383,     0.83483,     0.83584,     0.83684,     0.83784,     0.83884,     0.83984,\n",
       "           0.84084,     0.84184,     0.84284,     0.84384,     0.84484,     0.84585,     0.84685,     0.84785,     0.84885,     0.84985,     0.85085,     0.85185,     0.85285,     0.85385,     0.85485,     0.85586,     0.85686,     0.85786,     0.85886,     0.85986,     0.86086,     0.86186,     0.86286,     0.86386,\n",
       "           0.86486,     0.86587,     0.86687,     0.86787,     0.86887,     0.86987,     0.87087,     0.87187,     0.87287,     0.87387,     0.87487,     0.87588,     0.87688,     0.87788,     0.87888,     0.87988,     0.88088,     0.88188,     0.88288,     0.88388,     0.88488,     0.88589,     0.88689,     0.88789,\n",
       "           0.88889,     0.88989,     0.89089,     0.89189,     0.89289,     0.89389,     0.89489,      0.8959,      0.8969,      0.8979,      0.8989,      0.8999,      0.9009,      0.9019,      0.9029,      0.9039,      0.9049,     0.90591,     0.90691,     0.90791,     0.90891,     0.90991,     0.91091,     0.91191,\n",
       "           0.91291,     0.91391,     0.91491,     0.91592,     0.91692,     0.91792,     0.91892,     0.91992,     0.92092,     0.92192,     0.92292,     0.92392,     0.92492,     0.92593,     0.92693,     0.92793,     0.92893,     0.92993,     0.93093,     0.93193,     0.93293,     0.93393,     0.93493,     0.93594,\n",
       "           0.93694,     0.93794,     0.93894,     0.93994,     0.94094,     0.94194,     0.94294,     0.94394,     0.94494,     0.94595,     0.94695,     0.94795,     0.94895,     0.94995,     0.95095,     0.95195,     0.95295,     0.95395,     0.95495,     0.95596,     0.95696,     0.95796,     0.95896,     0.95996,\n",
       "           0.96096,     0.96196,     0.96296,     0.96396,     0.96496,     0.96597,     0.96697,     0.96797,     0.96897,     0.96997,     0.97097,     0.97197,     0.97297,     0.97397,     0.97497,     0.97598,     0.97698,     0.97798,     0.97898,     0.97998,     0.98098,     0.98198,     0.98298,     0.98398,\n",
       "           0.98498,     0.98599,     0.98699,     0.98799,     0.98899,     0.98999,     0.99099,     0.99199,     0.99299,     0.99399,     0.99499,       0.996,       0.997,       0.998,       0.999,           1]), array([[          1,           1,           1,           1,           1,           1,           1,           1,           1,           1,           1,           1,           1,           1,           1,           1,           1,           1,           1,           1,           1,           1,           1,\n",
       "                  1,           1,           1,           1,           1,           1,           1,           1,           1,           1,           1,           1,           1,           1,           1,           1,           1,           1,           1,           1,           1,           1,           1,\n",
       "                  1,           1,           1,           1,           1,           1,           1,           1,           1,           1,           1,           1,           1,           1,           1,           1,           1,           1,           1,           1,           1,           1,           1,\n",
       "                  1,           1,           1,           1,           1,           1,           1,           1,           1,           1,           1,           1,           1,           1,           1,           1,           1,           1,           1,           1,           1,           1,           1,\n",
       "                  1,           1,           1,           1,           1,           1,           1,           1,           1,           1,           1,           1,           1,           1,           1,           1,           1,           1,           1,           1,           1,           1,           1,\n",
       "                  1,           1,           1,           1,           1,           1,           1,     0.97436,     0.97436,     0.97436,     0.97436,     0.97436,     0.97436,     0.97436,     0.97436,     0.97436,     0.97436,     0.97436,     0.97436,     0.97436,     0.97436,     0.97436,     0.97436,\n",
       "            0.97436,     0.97436,     0.97436,     0.97436,     0.97436,     0.97436,     0.97436,     0.97436,     0.97436,     0.97436,     0.97436,     0.97436,     0.97436,     0.97436,     0.97436,     0.97436,     0.97436,     0.97436,     0.97436,     0.97436,     0.97436,     0.97436,     0.97436,\n",
       "            0.97436,     0.97436,     0.97436,     0.97436,     0.97436,     0.97436,     0.97436,     0.97436,     0.97436,     0.97436,     0.97436,     0.97436,     0.97436,     0.97436,     0.97436,     0.97436,     0.97436,     0.97436,     0.97436,     0.97436,     0.97436,     0.97436,     0.97436,\n",
       "            0.97436,     0.95652,     0.95652,     0.95652,     0.95652,     0.95652,     0.95652,     0.95652,     0.95652,     0.95652,     0.95652,     0.95652,     0.95652,     0.95652,     0.95652,     0.95652,     0.95652,     0.95652,     0.95652,     0.95652,     0.95652,     0.95652,     0.95652,\n",
       "            0.95652,     0.95652,     0.95652,     0.95652,     0.95652,     0.95652,     0.95652,     0.93878,     0.93878,     0.93878,     0.93878,     0.93878,     0.93878,     0.93878,     0.93878,     0.93878,     0.93878,     0.92308,     0.92308,     0.92308,     0.92308,     0.92308,     0.92308,\n",
       "            0.92308,     0.92308,     0.92308,     0.89091,     0.89091,     0.89091,     0.89091,     0.89091,     0.89062,     0.89062,     0.89062,     0.89062,     0.89062,     0.89062,     0.89062,     0.89062,     0.89062,     0.89062,     0.89062,     0.89062,     0.89062,     0.89062,     0.89062,\n",
       "            0.89062,     0.89062,     0.89062,     0.89062,     0.89062,     0.89062,     0.89062,     0.89062,     0.89062,     0.89062,     0.89062,     0.89062,     0.89062,     0.89062,     0.89062,     0.89062,     0.89062,     0.89062,     0.89062,     0.89062,     0.89062,     0.89062,     0.89062,\n",
       "            0.89062,     0.88506,     0.88506,     0.88506,     0.88506,     0.88506,     0.88506,     0.88506,     0.88506,     0.88506,     0.88506,     0.88506,     0.88506,     0.88506,     0.88506,     0.88506,     0.88506,     0.88506,     0.88506,     0.88506,     0.88506,     0.88506,     0.88506,\n",
       "            0.88506,     0.88506,     0.88506,     0.88506,     0.88506,     0.88506,     0.88506,     0.88506,     0.88506,     0.88506,     0.88506,     0.88506,     0.88506,     0.88506,     0.88506,     0.88506,     0.88506,     0.88506,     0.88506,     0.88506,     0.88506,     0.88506,     0.88506,\n",
       "            0.88506,     0.88506,     0.88506,     0.88506,     0.88506,     0.88506,     0.88506,     0.88506,     0.88506,     0.88506,     0.88506,     0.88506,     0.88506,     0.88506,     0.88506,     0.88506,     0.88506,     0.88506,     0.88506,     0.88506,     0.88506,     0.88506,     0.88506,\n",
       "            0.88506,     0.88506,     0.88506,     0.88506,     0.88506,     0.88506,     0.88506,     0.88506,     0.88506,     0.88506,     0.88506,     0.88506,     0.88506,     0.88506,     0.88506,     0.88506,     0.88506,     0.88506,     0.88506,     0.88506,     0.88506,     0.88506,     0.88506,\n",
       "            0.88506,     0.88506,     0.88506,     0.88506,     0.88506,     0.88506,     0.88043,     0.88043,     0.88043,     0.88043,     0.88043,     0.88043,     0.88043,     0.88043,     0.88043,     0.88043,     0.88043,     0.88043,     0.88043,     0.88043,     0.88043,     0.88043,     0.88043,\n",
       "            0.88043,     0.88043,       0.875,       0.875,       0.875,       0.875,       0.875,       0.875,       0.875,       0.875,       0.875,       0.875,       0.875,       0.875,       0.875,       0.875,       0.875,     0.87037,     0.87037,     0.87037,     0.87037,     0.87037,     0.87037,\n",
       "            0.87037,     0.87037,     0.87037,     0.87037,     0.87037,     0.87037,     0.87037,     0.87037,     0.87037,     0.87037,     0.87037,     0.87037,     0.87037,     0.87037,     0.87037,     0.87037,     0.87037,     0.87037,     0.87037,     0.87037,     0.87037,     0.87037,     0.87037,\n",
       "            0.87037,     0.87037,     0.87037,     0.87037,     0.87037,     0.87037,     0.87037,     0.87037,     0.87037,     0.87037,     0.87037,     0.87037,     0.87037,     0.87037,     0.87037,     0.87037,     0.87037,     0.87037,     0.87037,     0.86842,     0.86842,     0.86842,     0.86842,\n",
       "            0.86842,     0.86842,     0.86842,     0.86842,     0.86842,     0.86842,     0.86842,     0.86842,     0.86842,     0.86842,     0.86842,     0.86842,     0.86842,     0.86842,     0.86842,     0.86842,     0.86842,     0.86842,     0.86842,     0.86842,     0.86842,     0.86441,     0.86441,\n",
       "            0.86441,     0.86441,     0.86441,     0.86441,     0.86441,     0.86441,     0.86441,     0.86441,     0.86441,     0.86441,     0.86441,     0.86441,      0.8595,      0.8595,      0.8595,      0.8595,      0.8595,      0.8595,      0.8595,      0.8595,      0.8595,      0.8595,     0.85366,\n",
       "            0.85366,     0.85366,     0.85366,     0.85366,     0.84127,     0.84127,     0.84127,     0.84127,     0.84127,     0.83942,     0.83942,     0.83942,     0.83942,     0.83942,     0.83942,     0.83942,     0.83942,     0.83942,     0.83942,     0.83942,     0.83942,     0.83942,     0.83942,\n",
       "            0.83942,     0.83942,     0.83942,     0.83942,     0.83942,     0.83942,     0.83942,     0.83942,     0.83942,     0.83942,     0.83942,     0.83942,     0.83942,     0.83942,     0.83942,     0.83942,     0.83942,     0.83942,     0.83942,     0.83942,     0.83942,     0.83942,     0.83942,\n",
       "            0.83942,     0.83942,     0.83942,     0.83942,     0.83942,     0.83942,     0.83571,     0.83571,     0.83571,     0.83571,     0.83571,     0.83571,     0.83571,     0.83571,     0.83571,     0.83571,     0.81944,     0.81944,     0.81944,     0.81944,     0.81944,     0.80952,     0.80952,\n",
       "            0.80952,     0.80952,     0.80952,     0.80795,     0.80795,     0.80795,     0.80795,     0.80795,     0.80795,     0.80795,     0.80795,     0.80795,     0.80795,     0.80795,     0.80795,     0.80795,     0.80795,     0.80392,     0.80392,     0.80392,     0.80392,     0.80392,         0.8,\n",
       "                0.8,         0.8,         0.8,         0.8,     0.79618,     0.79618,     0.79618,     0.79618,     0.79618,     0.79394,     0.79394,     0.79394,     0.79394,     0.79394,     0.79394,     0.79394,     0.79394,     0.79394,     0.79394,     0.79394,     0.79394,     0.79394,     0.79394,\n",
       "            0.79394,     0.79394,     0.79394,     0.79394,     0.79394,     0.79394,     0.79394,     0.79394,     0.79394,     0.79394,     0.79394,     0.79394,     0.79394,     0.79394,     0.79394,     0.78571,     0.78571,     0.78571,     0.78571,     0.78571,     0.77778,     0.77778,     0.77778,\n",
       "            0.77778,     0.77586,     0.77586,     0.77586,     0.77586,     0.77586,     0.77586,     0.77586,     0.77586,     0.77586,     0.77586,     0.75824,     0.75824,     0.75824,     0.75824,     0.75824,     0.75824,     0.75824,     0.75824,     0.75824,     0.75824,     0.75824,     0.75824,\n",
       "            0.75824,     0.75824,     0.75824,     0.75135,     0.75135,     0.75135,     0.75135,     0.75135,     0.75132,     0.75132,     0.75132,     0.75132,     0.75132,     0.75132,     0.75132,     0.75132,     0.75132,     0.75132,     0.75132,     0.75132,     0.75132,     0.75132,     0.73604,\n",
       "            0.73604,     0.73604,     0.73604,     0.73604,     0.73604,     0.73604,     0.73604,     0.73604,     0.73604,     0.73604,     0.73604,     0.73604,     0.73604,     0.73604,        0.73,        0.73,        0.73,        0.73,        0.73,     0.71707,     0.71707,     0.71707,     0.71707,\n",
       "            0.70813,     0.70813,     0.70813,     0.70813,     0.70813,     0.70616,     0.70616,     0.70616,     0.70616,     0.70616,     0.70561,     0.70561,     0.70561,     0.70561,     0.70561,     0.70561,     0.70561,     0.70561,     0.70561,     0.70561,     0.70507,     0.70507,     0.70507,\n",
       "            0.70507,     0.70507,     0.70507,     0.70507,     0.70507,     0.70507,         0.7,         0.7,         0.7,         0.7,         0.7,     0.67982,     0.67982,     0.67982,     0.67982,     0.67982,     0.65546,     0.65546,     0.65546,     0.65546,     0.65546,     0.61719,     0.61719,\n",
       "            0.61719,     0.61719,     0.61719,     0.61719,     0.61719,     0.61719,     0.61719,     0.61719,     0.56383,     0.56383,     0.56383,     0.56383,     0.56383,     0.55749,     0.55749,     0.55749,     0.55749,     0.53311,     0.53311,     0.53311,     0.53311,     0.53311,     0.49091,\n",
       "            0.49091,     0.49091,     0.49091,     0.49091,     0.48949,     0.48949,     0.48949,     0.48949,     0.48949,     0.47674,     0.47674,     0.47674,     0.47674,     0.47674,      0.4661,      0.4661,      0.4661,      0.4661,      0.4661,     0.38249,     0.38249,     0.38249,     0.38249,\n",
       "            0.38249,     0.36703,     0.36703,     0.36703,     0.36703,     0.36443,     0.36443,     0.36443,     0.36443,     0.36443,     0.34917,     0.34917,     0.34917,     0.34917,     0.34917,     0.34765,     0.34765,     0.34765,     0.34765,     0.34765,     0.34064,     0.34064,     0.34064,\n",
       "            0.34064,     0.34064,     0.33922,     0.33922,     0.33922,     0.33922,     0.33922,     0.33922,     0.33922,     0.33922,     0.33922,     0.29642,     0.29642,     0.29642,     0.29642,     0.29642,     0.25926,     0.25926,     0.25926,     0.25926,     0.25926,     0.21027,     0.21027,\n",
       "            0.21027,     0.21027,     0.21027,     0.11252,     0.11252,     0.11252,     0.11252,     0.11252,     0.10189,     0.10189,     0.10189,     0.10189,     0.10189,    0.085442,    0.085442,    0.085442,    0.085442,    0.085442,    0.084034,    0.084034,    0.084034,    0.084034,    0.076089,\n",
       "           0.075485,    0.074882,    0.074278,    0.073674,     0.07307,    0.072466,    0.071862,    0.071258,    0.070654,    0.070051,    0.069447,    0.068843,    0.068239,    0.067635,    0.067031,    0.066427,    0.065823,    0.065219,    0.064616,    0.064012,    0.063408,    0.062804,      0.0622,\n",
       "           0.061596,    0.060992,    0.060388,    0.059785,    0.059181,    0.058577,    0.057973,    0.057369,    0.056765,    0.056161,    0.055557,    0.054953,     0.05435,    0.053746,    0.053142,    0.052538,    0.051934,     0.05133,    0.050726,    0.050122,    0.049518,    0.048915,    0.048311,\n",
       "           0.047707,    0.047103,    0.046499,    0.045895,    0.045291,    0.044687,    0.044084,     0.04348,    0.042876,    0.042272,    0.041668,    0.041064,     0.04046,    0.039856,    0.039252,    0.038649,    0.038045,    0.037441,    0.036837,    0.036233,    0.035629,    0.035025,    0.034421,\n",
       "           0.033817,    0.033214,     0.03261,    0.032006,    0.031402,    0.030798,    0.030194,     0.02959,    0.028986,    0.028383,    0.027779,    0.027175,    0.026571,    0.025967,    0.025363,    0.024759,    0.024155,    0.023551,    0.022948,    0.022344,     0.02174,    0.021136,    0.020532,\n",
       "           0.019928,    0.019324,     0.01872,    0.018117,    0.017513,    0.016909,    0.016305,    0.015701,    0.015097,    0.014493,    0.013889,    0.013285,    0.012682,    0.012078,    0.011474,     0.01087,    0.010266,   0.0096621,   0.0090583,   0.0084544,   0.0078505,   0.0072466,   0.0066427,\n",
       "          0.0060388,    0.005435,   0.0048311,   0.0042272,   0.0036233,   0.0030194,   0.0024155,   0.0018117,   0.0012078,  0.00060388,           0]]), 'Recall', 'Precision'], [array([          0,    0.001001,    0.002002,    0.003003,    0.004004,    0.005005,    0.006006,    0.007007,    0.008008,    0.009009,     0.01001,    0.011011,    0.012012,    0.013013,    0.014014,    0.015015,    0.016016,    0.017017,    0.018018,    0.019019,     0.02002,    0.021021,    0.022022,    0.023023,\n",
       "          0.024024,    0.025025,    0.026026,    0.027027,    0.028028,    0.029029,     0.03003,    0.031031,    0.032032,    0.033033,    0.034034,    0.035035,    0.036036,    0.037037,    0.038038,    0.039039,     0.04004,    0.041041,    0.042042,    0.043043,    0.044044,    0.045045,    0.046046,    0.047047,\n",
       "          0.048048,    0.049049,     0.05005,    0.051051,    0.052052,    0.053053,    0.054054,    0.055055,    0.056056,    0.057057,    0.058058,    0.059059,     0.06006,    0.061061,    0.062062,    0.063063,    0.064064,    0.065065,    0.066066,    0.067067,    0.068068,    0.069069,     0.07007,    0.071071,\n",
       "          0.072072,    0.073073,    0.074074,    0.075075,    0.076076,    0.077077,    0.078078,    0.079079,     0.08008,    0.081081,    0.082082,    0.083083,    0.084084,    0.085085,    0.086086,    0.087087,    0.088088,    0.089089,     0.09009,    0.091091,    0.092092,    0.093093,    0.094094,    0.095095,\n",
       "          0.096096,    0.097097,    0.098098,    0.099099,      0.1001,      0.1011,      0.1021,      0.1031,      0.1041,     0.10511,     0.10611,     0.10711,     0.10811,     0.10911,     0.11011,     0.11111,     0.11211,     0.11311,     0.11411,     0.11512,     0.11612,     0.11712,     0.11812,     0.11912,\n",
       "           0.12012,     0.12112,     0.12212,     0.12312,     0.12412,     0.12513,     0.12613,     0.12713,     0.12813,     0.12913,     0.13013,     0.13113,     0.13213,     0.13313,     0.13413,     0.13514,     0.13614,     0.13714,     0.13814,     0.13914,     0.14014,     0.14114,     0.14214,     0.14314,\n",
       "           0.14414,     0.14515,     0.14615,     0.14715,     0.14815,     0.14915,     0.15015,     0.15115,     0.15215,     0.15315,     0.15415,     0.15516,     0.15616,     0.15716,     0.15816,     0.15916,     0.16016,     0.16116,     0.16216,     0.16316,     0.16416,     0.16517,     0.16617,     0.16717,\n",
       "           0.16817,     0.16917,     0.17017,     0.17117,     0.17217,     0.17317,     0.17417,     0.17518,     0.17618,     0.17718,     0.17818,     0.17918,     0.18018,     0.18118,     0.18218,     0.18318,     0.18418,     0.18519,     0.18619,     0.18719,     0.18819,     0.18919,     0.19019,     0.19119,\n",
       "           0.19219,     0.19319,     0.19419,      0.1952,      0.1962,      0.1972,      0.1982,      0.1992,      0.2002,      0.2012,      0.2022,      0.2032,      0.2042,     0.20521,     0.20621,     0.20721,     0.20821,     0.20921,     0.21021,     0.21121,     0.21221,     0.21321,     0.21421,     0.21522,\n",
       "           0.21622,     0.21722,     0.21822,     0.21922,     0.22022,     0.22122,     0.22222,     0.22322,     0.22422,     0.22523,     0.22623,     0.22723,     0.22823,     0.22923,     0.23023,     0.23123,     0.23223,     0.23323,     0.23423,     0.23524,     0.23624,     0.23724,     0.23824,     0.23924,\n",
       "           0.24024,     0.24124,     0.24224,     0.24324,     0.24424,     0.24525,     0.24625,     0.24725,     0.24825,     0.24925,     0.25025,     0.25125,     0.25225,     0.25325,     0.25425,     0.25526,     0.25626,     0.25726,     0.25826,     0.25926,     0.26026,     0.26126,     0.26226,     0.26326,\n",
       "           0.26426,     0.26527,     0.26627,     0.26727,     0.26827,     0.26927,     0.27027,     0.27127,     0.27227,     0.27327,     0.27427,     0.27528,     0.27628,     0.27728,     0.27828,     0.27928,     0.28028,     0.28128,     0.28228,     0.28328,     0.28428,     0.28529,     0.28629,     0.28729,\n",
       "           0.28829,     0.28929,     0.29029,     0.29129,     0.29229,     0.29329,     0.29429,      0.2953,      0.2963,      0.2973,      0.2983,      0.2993,      0.3003,      0.3013,      0.3023,      0.3033,      0.3043,     0.30531,     0.30631,     0.30731,     0.30831,     0.30931,     0.31031,     0.31131,\n",
       "           0.31231,     0.31331,     0.31431,     0.31532,     0.31632,     0.31732,     0.31832,     0.31932,     0.32032,     0.32132,     0.32232,     0.32332,     0.32432,     0.32533,     0.32633,     0.32733,     0.32833,     0.32933,     0.33033,     0.33133,     0.33233,     0.33333,     0.33433,     0.33534,\n",
       "           0.33634,     0.33734,     0.33834,     0.33934,     0.34034,     0.34134,     0.34234,     0.34334,     0.34434,     0.34535,     0.34635,     0.34735,     0.34835,     0.34935,     0.35035,     0.35135,     0.35235,     0.35335,     0.35435,     0.35536,     0.35636,     0.35736,     0.35836,     0.35936,\n",
       "           0.36036,     0.36136,     0.36236,     0.36336,     0.36436,     0.36537,     0.36637,     0.36737,     0.36837,     0.36937,     0.37037,     0.37137,     0.37237,     0.37337,     0.37437,     0.37538,     0.37638,     0.37738,     0.37838,     0.37938,     0.38038,     0.38138,     0.38238,     0.38338,\n",
       "           0.38438,     0.38539,     0.38639,     0.38739,     0.38839,     0.38939,     0.39039,     0.39139,     0.39239,     0.39339,     0.39439,      0.3954,      0.3964,      0.3974,      0.3984,      0.3994,      0.4004,      0.4014,      0.4024,      0.4034,      0.4044,     0.40541,     0.40641,     0.40741,\n",
       "           0.40841,     0.40941,     0.41041,     0.41141,     0.41241,     0.41341,     0.41441,     0.41542,     0.41642,     0.41742,     0.41842,     0.41942,     0.42042,     0.42142,     0.42242,     0.42342,     0.42442,     0.42543,     0.42643,     0.42743,     0.42843,     0.42943,     0.43043,     0.43143,\n",
       "           0.43243,     0.43343,     0.43443,     0.43544,     0.43644,     0.43744,     0.43844,     0.43944,     0.44044,     0.44144,     0.44244,     0.44344,     0.44444,     0.44545,     0.44645,     0.44745,     0.44845,     0.44945,     0.45045,     0.45145,     0.45245,     0.45345,     0.45445,     0.45546,\n",
       "           0.45646,     0.45746,     0.45846,     0.45946,     0.46046,     0.46146,     0.46246,     0.46346,     0.46446,     0.46547,     0.46647,     0.46747,     0.46847,     0.46947,     0.47047,     0.47147,     0.47247,     0.47347,     0.47447,     0.47548,     0.47648,     0.47748,     0.47848,     0.47948,\n",
       "           0.48048,     0.48148,     0.48248,     0.48348,     0.48448,     0.48549,     0.48649,     0.48749,     0.48849,     0.48949,     0.49049,     0.49149,     0.49249,     0.49349,     0.49449,      0.4955,      0.4965,      0.4975,      0.4985,      0.4995,      0.5005,      0.5015,      0.5025,      0.5035,\n",
       "            0.5045,     0.50551,     0.50651,     0.50751,     0.50851,     0.50951,     0.51051,     0.51151,     0.51251,     0.51351,     0.51451,     0.51552,     0.51652,     0.51752,     0.51852,     0.51952,     0.52052,     0.52152,     0.52252,     0.52352,     0.52452,     0.52553,     0.52653,     0.52753,\n",
       "           0.52853,     0.52953,     0.53053,     0.53153,     0.53253,     0.53353,     0.53453,     0.53554,     0.53654,     0.53754,     0.53854,     0.53954,     0.54054,     0.54154,     0.54254,     0.54354,     0.54454,     0.54555,     0.54655,     0.54755,     0.54855,     0.54955,     0.55055,     0.55155,\n",
       "           0.55255,     0.55355,     0.55455,     0.55556,     0.55656,     0.55756,     0.55856,     0.55956,     0.56056,     0.56156,     0.56256,     0.56356,     0.56456,     0.56557,     0.56657,     0.56757,     0.56857,     0.56957,     0.57057,     0.57157,     0.57257,     0.57357,     0.57457,     0.57558,\n",
       "           0.57658,     0.57758,     0.57858,     0.57958,     0.58058,     0.58158,     0.58258,     0.58358,     0.58458,     0.58559,     0.58659,     0.58759,     0.58859,     0.58959,     0.59059,     0.59159,     0.59259,     0.59359,     0.59459,      0.5956,      0.5966,      0.5976,      0.5986,      0.5996,\n",
       "            0.6006,      0.6016,      0.6026,      0.6036,      0.6046,     0.60561,     0.60661,     0.60761,     0.60861,     0.60961,     0.61061,     0.61161,     0.61261,     0.61361,     0.61461,     0.61562,     0.61662,     0.61762,     0.61862,     0.61962,     0.62062,     0.62162,     0.62262,     0.62362,\n",
       "           0.62462,     0.62563,     0.62663,     0.62763,     0.62863,     0.62963,     0.63063,     0.63163,     0.63263,     0.63363,     0.63463,     0.63564,     0.63664,     0.63764,     0.63864,     0.63964,     0.64064,     0.64164,     0.64264,     0.64364,     0.64464,     0.64565,     0.64665,     0.64765,\n",
       "           0.64865,     0.64965,     0.65065,     0.65165,     0.65265,     0.65365,     0.65465,     0.65566,     0.65666,     0.65766,     0.65866,     0.65966,     0.66066,     0.66166,     0.66266,     0.66366,     0.66466,     0.66567,     0.66667,     0.66767,     0.66867,     0.66967,     0.67067,     0.67167,\n",
       "           0.67267,     0.67367,     0.67467,     0.67568,     0.67668,     0.67768,     0.67868,     0.67968,     0.68068,     0.68168,     0.68268,     0.68368,     0.68468,     0.68569,     0.68669,     0.68769,     0.68869,     0.68969,     0.69069,     0.69169,     0.69269,     0.69369,     0.69469,      0.6957,\n",
       "            0.6967,      0.6977,      0.6987,      0.6997,      0.7007,      0.7017,      0.7027,      0.7037,      0.7047,     0.70571,     0.70671,     0.70771,     0.70871,     0.70971,     0.71071,     0.71171,     0.71271,     0.71371,     0.71471,     0.71572,     0.71672,     0.71772,     0.71872,     0.71972,\n",
       "           0.72072,     0.72172,     0.72272,     0.72372,     0.72472,     0.72573,     0.72673,     0.72773,     0.72873,     0.72973,     0.73073,     0.73173,     0.73273,     0.73373,     0.73473,     0.73574,     0.73674,     0.73774,     0.73874,     0.73974,     0.74074,     0.74174,     0.74274,     0.74374,\n",
       "           0.74474,     0.74575,     0.74675,     0.74775,     0.74875,     0.74975,     0.75075,     0.75175,     0.75275,     0.75375,     0.75475,     0.75576,     0.75676,     0.75776,     0.75876,     0.75976,     0.76076,     0.76176,     0.76276,     0.76376,     0.76476,     0.76577,     0.76677,     0.76777,\n",
       "           0.76877,     0.76977,     0.77077,     0.77177,     0.77277,     0.77377,     0.77477,     0.77578,     0.77678,     0.77778,     0.77878,     0.77978,     0.78078,     0.78178,     0.78278,     0.78378,     0.78478,     0.78579,     0.78679,     0.78779,     0.78879,     0.78979,     0.79079,     0.79179,\n",
       "           0.79279,     0.79379,     0.79479,      0.7958,      0.7968,      0.7978,      0.7988,      0.7998,      0.8008,      0.8018,      0.8028,      0.8038,      0.8048,     0.80581,     0.80681,     0.80781,     0.80881,     0.80981,     0.81081,     0.81181,     0.81281,     0.81381,     0.81481,     0.81582,\n",
       "           0.81682,     0.81782,     0.81882,     0.81982,     0.82082,     0.82182,     0.82282,     0.82382,     0.82482,     0.82583,     0.82683,     0.82783,     0.82883,     0.82983,     0.83083,     0.83183,     0.83283,     0.83383,     0.83483,     0.83584,     0.83684,     0.83784,     0.83884,     0.83984,\n",
       "           0.84084,     0.84184,     0.84284,     0.84384,     0.84484,     0.84585,     0.84685,     0.84785,     0.84885,     0.84985,     0.85085,     0.85185,     0.85285,     0.85385,     0.85485,     0.85586,     0.85686,     0.85786,     0.85886,     0.85986,     0.86086,     0.86186,     0.86286,     0.86386,\n",
       "           0.86486,     0.86587,     0.86687,     0.86787,     0.86887,     0.86987,     0.87087,     0.87187,     0.87287,     0.87387,     0.87487,     0.87588,     0.87688,     0.87788,     0.87888,     0.87988,     0.88088,     0.88188,     0.88288,     0.88388,     0.88488,     0.88589,     0.88689,     0.88789,\n",
       "           0.88889,     0.88989,     0.89089,     0.89189,     0.89289,     0.89389,     0.89489,      0.8959,      0.8969,      0.8979,      0.8989,      0.8999,      0.9009,      0.9019,      0.9029,      0.9039,      0.9049,     0.90591,     0.90691,     0.90791,     0.90891,     0.90991,     0.91091,     0.91191,\n",
       "           0.91291,     0.91391,     0.91491,     0.91592,     0.91692,     0.91792,     0.91892,     0.91992,     0.92092,     0.92192,     0.92292,     0.92392,     0.92492,     0.92593,     0.92693,     0.92793,     0.92893,     0.92993,     0.93093,     0.93193,     0.93293,     0.93393,     0.93493,     0.93594,\n",
       "           0.93694,     0.93794,     0.93894,     0.93994,     0.94094,     0.94194,     0.94294,     0.94394,     0.94494,     0.94595,     0.94695,     0.94795,     0.94895,     0.94995,     0.95095,     0.95195,     0.95295,     0.95395,     0.95495,     0.95596,     0.95696,     0.95796,     0.95896,     0.95996,\n",
       "           0.96096,     0.96196,     0.96296,     0.96396,     0.96496,     0.96597,     0.96697,     0.96797,     0.96897,     0.96997,     0.97097,     0.97197,     0.97297,     0.97397,     0.97497,     0.97598,     0.97698,     0.97798,     0.97898,     0.97998,     0.98098,     0.98198,     0.98298,     0.98398,\n",
       "           0.98498,     0.98599,     0.98699,     0.98799,     0.98899,     0.98999,     0.99099,     0.99199,     0.99299,     0.99399,     0.99499,       0.996,       0.997,       0.998,       0.999,           1]), array([[    0.14008,     0.14591,     0.19129,     0.22047,     0.24431,     0.26521,      0.2824,     0.29554,     0.30601,      0.3162,     0.32313,     0.33216,     0.33963,      0.3496,     0.36141,     0.36925,     0.37792,     0.38596,     0.39343,     0.39701,      0.4003,     0.40801,     0.41278,\n",
       "            0.41958,      0.4245,      0.4277,     0.43075,     0.43449,     0.43771,     0.43876,     0.44267,     0.44654,     0.44942,     0.45144,     0.45586,     0.46056,     0.46493,     0.46974,     0.47555,       0.481,     0.48182,     0.48147,     0.48158,     0.48372,     0.48843,     0.48801,\n",
       "            0.48787,     0.49573,     0.49816,     0.50168,     0.50193,     0.50283,     0.50363,     0.50452,     0.50551,     0.50821,     0.51033,     0.51141,     0.51259,     0.51392,     0.51573,     0.51846,     0.52094,      0.5228,     0.52349,     0.52484,     0.52544,     0.52595,     0.52668,\n",
       "            0.52914,     0.53146,      0.5342,     0.53478,     0.53749,     0.53933,     0.53989,     0.54162,     0.54312,     0.54433,     0.54597,     0.54684,     0.54786,     0.55058,     0.55205,     0.55354,     0.55654,     0.55694,     0.55733,     0.55854,     0.55907,     0.56008,       0.562,\n",
       "            0.56274,     0.56377,     0.56467,     0.56553,     0.56628,     0.56676,     0.56807,     0.56943,     0.57111,     0.57175,     0.57412,     0.57503,     0.57549,     0.57594,      0.5762,     0.57647,     0.57673,     0.57923,     0.58074,     0.58294,     0.58518,     0.58574,      0.5876,\n",
       "            0.58776,     0.58914,     0.58957,     0.59022,     0.59138,     0.59258,     0.59437,     0.59487,     0.59542,     0.59619,      0.5952,      0.5972,      0.5978,     0.59851,     0.59965,     0.60166,     0.60331,     0.60452,     0.60318,     0.60332,     0.60378,     0.60435,     0.60527,\n",
       "            0.60718,     0.60883,     0.60918,     0.60952,     0.60998,     0.61182,     0.61375,     0.61437,     0.61577,     0.61601,     0.61626,     0.61651,     0.61675,     0.61748,     0.61967,     0.62179,     0.62272,     0.62353,      0.6254,     0.62621,     0.62668,     0.62701,     0.62733,\n",
       "            0.62765,     0.63154,     0.63202,     0.63249,     0.63284,     0.63315,     0.63346,     0.63377,     0.63131,     0.63158,     0.63185,     0.63212,     0.63239,     0.63389,     0.63419,     0.63449,     0.63479,     0.63748,     0.63782,     0.63816,      0.6385,     0.64016,      0.6419,\n",
       "             0.6434,       0.644,     0.64422,     0.64444,     0.64467,     0.64489,     0.64511,     0.64623,     0.64716,     0.64857,     0.64773,     0.64855,     0.64917,     0.64957,     0.64997,     0.65151,     0.65036,     0.64921,     0.64915,     0.64954,     0.64993,     0.65045,     0.65127,\n",
       "            0.65325,     0.65417,     0.65484,     0.65548,     0.65619,     0.65692,     0.65972,     0.66017,     0.66062,     0.66107,     0.66267,     0.66385,     0.66471,     0.66539,     0.66577,     0.66615,     0.66653,     0.66816,     0.66905,     0.67022,     0.67175,     0.67259,     0.67299,\n",
       "            0.67339,     0.67379,     0.67428,     0.67477,     0.67526,      0.6757,     0.67614,     0.67658,     0.67876,     0.68039,     0.68115,     0.68131,     0.68147,     0.68164,      0.6818,     0.68196,     0.68212,     0.68228,     0.68244,     0.68321,     0.68308,     0.67835,     0.67892,\n",
       "            0.67949,     0.68063,     0.68136,     0.68157,     0.68179,     0.68201,     0.68222,     0.68244,     0.68265,     0.68381,     0.68611,     0.68673,     0.68728,     0.68755,     0.68783,     0.68811,     0.68838,     0.68866,     0.68931,     0.69012,     0.69153,     0.69231,     0.69294,\n",
       "            0.69351,     0.69398,     0.69446,     0.69558,     0.69968,      0.7001,     0.70052,     0.70094,     0.70191,     0.70227,     0.70124,     0.70021,     0.70035,     0.70136,     0.70195,     0.70255,     0.70336,     0.70458,     0.70564,     0.70635,     0.70674,     0.70712,     0.70751,\n",
       "            0.70781,     0.70793,     0.70806,     0.70818,     0.70831,     0.70844,     0.70856,     0.70869,     0.70881,     0.70894,     0.70906,     0.70919,     0.70932,     0.70956,     0.70995,     0.71034,     0.71072,     0.71181,     0.71297,     0.71342,     0.71387,     0.71417,     0.71243,\n",
       "            0.71172,     0.71284,     0.71377,     0.71466,     0.71535,     0.71603,      0.7169,     0.71788,     0.71845,     0.71899,     0.71953,      0.7198,     0.72002,     0.72024,     0.72045,     0.72067,     0.72088,      0.7211,     0.72132,     0.72208,     0.72284,     0.72278,     0.72249,\n",
       "             0.7222,     0.72191,     0.72162,     0.72133,     0.72105,     0.72076,     0.72047,     0.72018,     0.72009,     0.72034,     0.72059,     0.72083,     0.72108,     0.72132,     0.72157,     0.72318,     0.72219,     0.72119,     0.71963,     0.71874,     0.71712,     0.71573,     0.71487,\n",
       "            0.71402,     0.71316,     0.71308,      0.7133,     0.71352,     0.71374,     0.71397,     0.71419,     0.71441,     0.71462,     0.71385,     0.71309,     0.71233,     0.71156,      0.7105,     0.71197,     0.71241,     0.71285,     0.71329,     0.71379,     0.71441,     0.71503,     0.71447,\n",
       "            0.71284,      0.7125,     0.71301,     0.71351,     0.71411,     0.71532,     0.71883,     0.71667,     0.71851,     0.71826,     0.71582,     0.71507,     0.71432,     0.71357,     0.71159,      0.7118,     0.71235,     0.71289,     0.71344,     0.71614,     0.71735,     0.71759,     0.71783,\n",
       "            0.71808,     0.71832,     0.71856,      0.7188,     0.71876,     0.71782,     0.71688,     0.71594,     0.71329,     0.70991,     0.70938,     0.70964,     0.70989,     0.71014,     0.71039,     0.71064,     0.71089,     0.71069,     0.71018,     0.70967,     0.70915,     0.70863,     0.70812,\n",
       "            0.70773,     0.70797,     0.70821,     0.70844,     0.70868,     0.70892,     0.70915,     0.70939,     0.70969,     0.71006,     0.71042,     0.71079,     0.71116,     0.71075,     0.70957,     0.70838,     0.70437,     0.70318,     0.70198,     0.70167,     0.70252,     0.70324,     0.70363,\n",
       "            0.70402,     0.70442,     0.70481,     0.70766,     0.70892,     0.70928,     0.70964,     0.70999,     0.71035,     0.71029,     0.70981,     0.70933,     0.70885,     0.70837,     0.70789,     0.70741,     0.70435,     0.70527,     0.70484,     0.70441,     0.70397,     0.70354,     0.70311,\n",
       "            0.70267,     0.70224,     0.70276,     0.70361,     0.70415,     0.70443,     0.70471,     0.70499,     0.70527,     0.70555,     0.70583,     0.70496,     0.70383,      0.7027,     0.70589,      0.7052,      0.7041,     0.70301,     0.70212,     0.70131,      0.7005,     0.69968,     0.69839,\n",
       "            0.69635,     0.69524,     0.69461,     0.69399,     0.69336,     0.69274,     0.69211,     0.69107,     0.69002,     0.68898,     0.69004,     0.68918,     0.68774,     0.68806,     0.68792,     0.68696,       0.686,     0.68521,     0.68621,     0.68408,     0.68396,     0.68492,     0.68378,\n",
       "            0.68158,     0.67844,     0.67584,     0.67353,     0.67247,     0.67344,     0.67413,     0.67285,     0.67157,     0.67067,     0.67181,     0.67447,     0.67479,     0.67511,     0.67544,     0.67576,     0.67609,     0.67579,     0.67427,     0.67275,     0.67192,     0.67124,     0.67057,\n",
       "            0.66989,     0.66922,     0.66862,     0.66883,     0.66904,     0.66925,     0.66946,     0.66967,     0.66988,     0.67009,      0.6703,      0.6705,     0.66901,     0.66699,     0.66578,     0.66473,     0.66368,     0.66254,     0.66076,     0.65898,     0.65808,     0.65727,     0.65645,\n",
       "            0.65564,     0.65436,     0.64947,     0.64704,     0.64563,     0.64428,     0.64294,     0.64033,      0.6393,     0.63826,     0.63722,     0.63771,     0.63545,     0.63493,     0.63581,     0.63661,     0.63729,     0.63797,     0.63464,     0.63553,     0.63509,      0.6335,     0.63191,\n",
       "            0.62846,     0.62962,     0.62849,     0.62736,     0.62623,     0.62494,     0.62322,     0.62149,     0.61703,      0.6177,     0.61836,     0.61399,     0.61272,     0.61144,     0.61016,     0.59978,     0.59655,       0.593,     0.59113,     0.58936,      0.5879,     0.58643,     0.58295,\n",
       "            0.57513,     0.57327,     0.57044,      0.5672,     0.56765,     0.56809,     0.56853,     0.56609,      0.5631,     0.56056,     0.55828,     0.55631,      0.5553,     0.54406,     0.54281,     0.53495,     0.53214,      0.5304,     0.52709,     0.52433,     0.52495,     0.52557,     0.52453,\n",
       "            0.52341,     0.52228,     0.52115,     0.51782,     0.51417,     0.51201,      0.5054,     0.50291,      0.5006,     0.49865,     0.49683,     0.49501,     0.48603,     0.47591,     0.46654,     0.45673,     0.45245,     0.44612,     0.44217,     0.44025,      0.4267,     0.40884,      0.4028,\n",
       "            0.39796,     0.38593,     0.38446,     0.38299,     0.38152,     0.37405,     0.37458,      0.3751,      0.3741,     0.36926,     0.36986,     0.37045,     0.37152,     0.36305,     0.36064,     0.35894,     0.35694,     0.35493,     0.34145,     0.33933,      0.3372,     0.33501,     0.33276,\n",
       "             0.3305,     0.31959,      0.3131,     0.31006,     0.30986,      0.2891,     0.28585,     0.28259,     0.26882,     0.26537,      0.2626,     0.25808,     0.24344,      0.2267,     0.21631,     0.21244,     0.20752,     0.20113,     0.19734,     0.19365,     0.18346,     0.17541,     0.16672,\n",
       "             0.1637,     0.16066,     0.15736,     0.15405,     0.14692,     0.14227,     0.13973,     0.13718,     0.13104,      0.1246,     0.12048,     0.11651,     0.11267,     0.10848,     0.10362,     0.10017,    0.097916,    0.095659,    0.093398,    0.083124,    0.081572,    0.080017,    0.078459,\n",
       "             0.0769,    0.075337,    0.073708,     0.07204,    0.070368,    0.068694,    0.067016,    0.054252,     0.04637,     0.04374,    0.041103,    0.038459,    0.030345,    0.025895,    0.022448,    0.019131,    0.017706,    0.016278,    0.014848,    0.013417,    0.011983,    0.010547,           0,\n",
       "                  0,           0,           0,           0,           0,           0,           0,           0,           0,           0,           0,           0,           0,           0,           0,           0,           0,           0,           0,           0,           0,           0,           0,\n",
       "                  0,           0,           0,           0,           0,           0,           0,           0,           0,           0,           0,           0,           0,           0,           0,           0,           0,           0,           0,           0,           0,           0,           0,\n",
       "                  0,           0,           0,           0,           0,           0,           0,           0,           0,           0,           0,           0,           0,           0,           0,           0,           0,           0,           0,           0,           0,           0,           0,\n",
       "                  0,           0,           0,           0,           0,           0,           0,           0,           0,           0,           0,           0,           0,           0,           0,           0,           0,           0,           0,           0,           0,           0,           0,\n",
       "                  0,           0,           0,           0,           0,           0,           0,           0,           0,           0,           0,           0,           0,           0,           0,           0,           0,           0,           0,           0,           0,           0,           0,\n",
       "                  0,           0,           0,           0,           0,           0,           0,           0,           0,           0,           0,           0,           0,           0,           0,           0,           0,           0,           0,           0,           0,           0,           0,\n",
       "                  0,           0,           0,           0,           0,           0,           0,           0,           0,           0,           0,           0,           0,           0,           0,           0,           0,           0,           0,           0,           0,           0,           0,\n",
       "                  0,           0,           0,           0,           0,           0,           0,           0,           0,           0,           0,           0,           0,           0,           0,           0,           0,           0,           0,           0,           0,           0,           0,\n",
       "                  0,           0,           0,           0,           0,           0,           0,           0,           0,           0,           0,           0,           0,           0,           0,           0,           0,           0,           0,           0,           0,           0,           0,\n",
       "                  0,           0,           0,           0,           0,           0,           0,           0,           0,           0,           0,           0,           0,           0,           0,           0,           0,           0,           0,           0,           0,           0,           0,\n",
       "                  0,           0,           0,           0,           0,           0,           0,           0,           0,           0,           0]]), 'Confidence', 'F1'], [array([          0,    0.001001,    0.002002,    0.003003,    0.004004,    0.005005,    0.006006,    0.007007,    0.008008,    0.009009,     0.01001,    0.011011,    0.012012,    0.013013,    0.014014,    0.015015,    0.016016,    0.017017,    0.018018,    0.019019,     0.02002,    0.021021,    0.022022,    0.023023,\n",
       "          0.024024,    0.025025,    0.026026,    0.027027,    0.028028,    0.029029,     0.03003,    0.031031,    0.032032,    0.033033,    0.034034,    0.035035,    0.036036,    0.037037,    0.038038,    0.039039,     0.04004,    0.041041,    0.042042,    0.043043,    0.044044,    0.045045,    0.046046,    0.047047,\n",
       "          0.048048,    0.049049,     0.05005,    0.051051,    0.052052,    0.053053,    0.054054,    0.055055,    0.056056,    0.057057,    0.058058,    0.059059,     0.06006,    0.061061,    0.062062,    0.063063,    0.064064,    0.065065,    0.066066,    0.067067,    0.068068,    0.069069,     0.07007,    0.071071,\n",
       "          0.072072,    0.073073,    0.074074,    0.075075,    0.076076,    0.077077,    0.078078,    0.079079,     0.08008,    0.081081,    0.082082,    0.083083,    0.084084,    0.085085,    0.086086,    0.087087,    0.088088,    0.089089,     0.09009,    0.091091,    0.092092,    0.093093,    0.094094,    0.095095,\n",
       "          0.096096,    0.097097,    0.098098,    0.099099,      0.1001,      0.1011,      0.1021,      0.1031,      0.1041,     0.10511,     0.10611,     0.10711,     0.10811,     0.10911,     0.11011,     0.11111,     0.11211,     0.11311,     0.11411,     0.11512,     0.11612,     0.11712,     0.11812,     0.11912,\n",
       "           0.12012,     0.12112,     0.12212,     0.12312,     0.12412,     0.12513,     0.12613,     0.12713,     0.12813,     0.12913,     0.13013,     0.13113,     0.13213,     0.13313,     0.13413,     0.13514,     0.13614,     0.13714,     0.13814,     0.13914,     0.14014,     0.14114,     0.14214,     0.14314,\n",
       "           0.14414,     0.14515,     0.14615,     0.14715,     0.14815,     0.14915,     0.15015,     0.15115,     0.15215,     0.15315,     0.15415,     0.15516,     0.15616,     0.15716,     0.15816,     0.15916,     0.16016,     0.16116,     0.16216,     0.16316,     0.16416,     0.16517,     0.16617,     0.16717,\n",
       "           0.16817,     0.16917,     0.17017,     0.17117,     0.17217,     0.17317,     0.17417,     0.17518,     0.17618,     0.17718,     0.17818,     0.17918,     0.18018,     0.18118,     0.18218,     0.18318,     0.18418,     0.18519,     0.18619,     0.18719,     0.18819,     0.18919,     0.19019,     0.19119,\n",
       "           0.19219,     0.19319,     0.19419,      0.1952,      0.1962,      0.1972,      0.1982,      0.1992,      0.2002,      0.2012,      0.2022,      0.2032,      0.2042,     0.20521,     0.20621,     0.20721,     0.20821,     0.20921,     0.21021,     0.21121,     0.21221,     0.21321,     0.21421,     0.21522,\n",
       "           0.21622,     0.21722,     0.21822,     0.21922,     0.22022,     0.22122,     0.22222,     0.22322,     0.22422,     0.22523,     0.22623,     0.22723,     0.22823,     0.22923,     0.23023,     0.23123,     0.23223,     0.23323,     0.23423,     0.23524,     0.23624,     0.23724,     0.23824,     0.23924,\n",
       "           0.24024,     0.24124,     0.24224,     0.24324,     0.24424,     0.24525,     0.24625,     0.24725,     0.24825,     0.24925,     0.25025,     0.25125,     0.25225,     0.25325,     0.25425,     0.25526,     0.25626,     0.25726,     0.25826,     0.25926,     0.26026,     0.26126,     0.26226,     0.26326,\n",
       "           0.26426,     0.26527,     0.26627,     0.26727,     0.26827,     0.26927,     0.27027,     0.27127,     0.27227,     0.27327,     0.27427,     0.27528,     0.27628,     0.27728,     0.27828,     0.27928,     0.28028,     0.28128,     0.28228,     0.28328,     0.28428,     0.28529,     0.28629,     0.28729,\n",
       "           0.28829,     0.28929,     0.29029,     0.29129,     0.29229,     0.29329,     0.29429,      0.2953,      0.2963,      0.2973,      0.2983,      0.2993,      0.3003,      0.3013,      0.3023,      0.3033,      0.3043,     0.30531,     0.30631,     0.30731,     0.30831,     0.30931,     0.31031,     0.31131,\n",
       "           0.31231,     0.31331,     0.31431,     0.31532,     0.31632,     0.31732,     0.31832,     0.31932,     0.32032,     0.32132,     0.32232,     0.32332,     0.32432,     0.32533,     0.32633,     0.32733,     0.32833,     0.32933,     0.33033,     0.33133,     0.33233,     0.33333,     0.33433,     0.33534,\n",
       "           0.33634,     0.33734,     0.33834,     0.33934,     0.34034,     0.34134,     0.34234,     0.34334,     0.34434,     0.34535,     0.34635,     0.34735,     0.34835,     0.34935,     0.35035,     0.35135,     0.35235,     0.35335,     0.35435,     0.35536,     0.35636,     0.35736,     0.35836,     0.35936,\n",
       "           0.36036,     0.36136,     0.36236,     0.36336,     0.36436,     0.36537,     0.36637,     0.36737,     0.36837,     0.36937,     0.37037,     0.37137,     0.37237,     0.37337,     0.37437,     0.37538,     0.37638,     0.37738,     0.37838,     0.37938,     0.38038,     0.38138,     0.38238,     0.38338,\n",
       "           0.38438,     0.38539,     0.38639,     0.38739,     0.38839,     0.38939,     0.39039,     0.39139,     0.39239,     0.39339,     0.39439,      0.3954,      0.3964,      0.3974,      0.3984,      0.3994,      0.4004,      0.4014,      0.4024,      0.4034,      0.4044,     0.40541,     0.40641,     0.40741,\n",
       "           0.40841,     0.40941,     0.41041,     0.41141,     0.41241,     0.41341,     0.41441,     0.41542,     0.41642,     0.41742,     0.41842,     0.41942,     0.42042,     0.42142,     0.42242,     0.42342,     0.42442,     0.42543,     0.42643,     0.42743,     0.42843,     0.42943,     0.43043,     0.43143,\n",
       "           0.43243,     0.43343,     0.43443,     0.43544,     0.43644,     0.43744,     0.43844,     0.43944,     0.44044,     0.44144,     0.44244,     0.44344,     0.44444,     0.44545,     0.44645,     0.44745,     0.44845,     0.44945,     0.45045,     0.45145,     0.45245,     0.45345,     0.45445,     0.45546,\n",
       "           0.45646,     0.45746,     0.45846,     0.45946,     0.46046,     0.46146,     0.46246,     0.46346,     0.46446,     0.46547,     0.46647,     0.46747,     0.46847,     0.46947,     0.47047,     0.47147,     0.47247,     0.47347,     0.47447,     0.47548,     0.47648,     0.47748,     0.47848,     0.47948,\n",
       "           0.48048,     0.48148,     0.48248,     0.48348,     0.48448,     0.48549,     0.48649,     0.48749,     0.48849,     0.48949,     0.49049,     0.49149,     0.49249,     0.49349,     0.49449,      0.4955,      0.4965,      0.4975,      0.4985,      0.4995,      0.5005,      0.5015,      0.5025,      0.5035,\n",
       "            0.5045,     0.50551,     0.50651,     0.50751,     0.50851,     0.50951,     0.51051,     0.51151,     0.51251,     0.51351,     0.51451,     0.51552,     0.51652,     0.51752,     0.51852,     0.51952,     0.52052,     0.52152,     0.52252,     0.52352,     0.52452,     0.52553,     0.52653,     0.52753,\n",
       "           0.52853,     0.52953,     0.53053,     0.53153,     0.53253,     0.53353,     0.53453,     0.53554,     0.53654,     0.53754,     0.53854,     0.53954,     0.54054,     0.54154,     0.54254,     0.54354,     0.54454,     0.54555,     0.54655,     0.54755,     0.54855,     0.54955,     0.55055,     0.55155,\n",
       "           0.55255,     0.55355,     0.55455,     0.55556,     0.55656,     0.55756,     0.55856,     0.55956,     0.56056,     0.56156,     0.56256,     0.56356,     0.56456,     0.56557,     0.56657,     0.56757,     0.56857,     0.56957,     0.57057,     0.57157,     0.57257,     0.57357,     0.57457,     0.57558,\n",
       "           0.57658,     0.57758,     0.57858,     0.57958,     0.58058,     0.58158,     0.58258,     0.58358,     0.58458,     0.58559,     0.58659,     0.58759,     0.58859,     0.58959,     0.59059,     0.59159,     0.59259,     0.59359,     0.59459,      0.5956,      0.5966,      0.5976,      0.5986,      0.5996,\n",
       "            0.6006,      0.6016,      0.6026,      0.6036,      0.6046,     0.60561,     0.60661,     0.60761,     0.60861,     0.60961,     0.61061,     0.61161,     0.61261,     0.61361,     0.61461,     0.61562,     0.61662,     0.61762,     0.61862,     0.61962,     0.62062,     0.62162,     0.62262,     0.62362,\n",
       "           0.62462,     0.62563,     0.62663,     0.62763,     0.62863,     0.62963,     0.63063,     0.63163,     0.63263,     0.63363,     0.63463,     0.63564,     0.63664,     0.63764,     0.63864,     0.63964,     0.64064,     0.64164,     0.64264,     0.64364,     0.64464,     0.64565,     0.64665,     0.64765,\n",
       "           0.64865,     0.64965,     0.65065,     0.65165,     0.65265,     0.65365,     0.65465,     0.65566,     0.65666,     0.65766,     0.65866,     0.65966,     0.66066,     0.66166,     0.66266,     0.66366,     0.66466,     0.66567,     0.66667,     0.66767,     0.66867,     0.66967,     0.67067,     0.67167,\n",
       "           0.67267,     0.67367,     0.67467,     0.67568,     0.67668,     0.67768,     0.67868,     0.67968,     0.68068,     0.68168,     0.68268,     0.68368,     0.68468,     0.68569,     0.68669,     0.68769,     0.68869,     0.68969,     0.69069,     0.69169,     0.69269,     0.69369,     0.69469,      0.6957,\n",
       "            0.6967,      0.6977,      0.6987,      0.6997,      0.7007,      0.7017,      0.7027,      0.7037,      0.7047,     0.70571,     0.70671,     0.70771,     0.70871,     0.70971,     0.71071,     0.71171,     0.71271,     0.71371,     0.71471,     0.71572,     0.71672,     0.71772,     0.71872,     0.71972,\n",
       "           0.72072,     0.72172,     0.72272,     0.72372,     0.72472,     0.72573,     0.72673,     0.72773,     0.72873,     0.72973,     0.73073,     0.73173,     0.73273,     0.73373,     0.73473,     0.73574,     0.73674,     0.73774,     0.73874,     0.73974,     0.74074,     0.74174,     0.74274,     0.74374,\n",
       "           0.74474,     0.74575,     0.74675,     0.74775,     0.74875,     0.74975,     0.75075,     0.75175,     0.75275,     0.75375,     0.75475,     0.75576,     0.75676,     0.75776,     0.75876,     0.75976,     0.76076,     0.76176,     0.76276,     0.76376,     0.76476,     0.76577,     0.76677,     0.76777,\n",
       "           0.76877,     0.76977,     0.77077,     0.77177,     0.77277,     0.77377,     0.77477,     0.77578,     0.77678,     0.77778,     0.77878,     0.77978,     0.78078,     0.78178,     0.78278,     0.78378,     0.78478,     0.78579,     0.78679,     0.78779,     0.78879,     0.78979,     0.79079,     0.79179,\n",
       "           0.79279,     0.79379,     0.79479,      0.7958,      0.7968,      0.7978,      0.7988,      0.7998,      0.8008,      0.8018,      0.8028,      0.8038,      0.8048,     0.80581,     0.80681,     0.80781,     0.80881,     0.80981,     0.81081,     0.81181,     0.81281,     0.81381,     0.81481,     0.81582,\n",
       "           0.81682,     0.81782,     0.81882,     0.81982,     0.82082,     0.82182,     0.82282,     0.82382,     0.82482,     0.82583,     0.82683,     0.82783,     0.82883,     0.82983,     0.83083,     0.83183,     0.83283,     0.83383,     0.83483,     0.83584,     0.83684,     0.83784,     0.83884,     0.83984,\n",
       "           0.84084,     0.84184,     0.84284,     0.84384,     0.84484,     0.84585,     0.84685,     0.84785,     0.84885,     0.84985,     0.85085,     0.85185,     0.85285,     0.85385,     0.85485,     0.85586,     0.85686,     0.85786,     0.85886,     0.85986,     0.86086,     0.86186,     0.86286,     0.86386,\n",
       "           0.86486,     0.86587,     0.86687,     0.86787,     0.86887,     0.86987,     0.87087,     0.87187,     0.87287,     0.87387,     0.87487,     0.87588,     0.87688,     0.87788,     0.87888,     0.87988,     0.88088,     0.88188,     0.88288,     0.88388,     0.88488,     0.88589,     0.88689,     0.88789,\n",
       "           0.88889,     0.88989,     0.89089,     0.89189,     0.89289,     0.89389,     0.89489,      0.8959,      0.8969,      0.8979,      0.8989,      0.8999,      0.9009,      0.9019,      0.9029,      0.9039,      0.9049,     0.90591,     0.90691,     0.90791,     0.90891,     0.90991,     0.91091,     0.91191,\n",
       "           0.91291,     0.91391,     0.91491,     0.91592,     0.91692,     0.91792,     0.91892,     0.91992,     0.92092,     0.92192,     0.92292,     0.92392,     0.92492,     0.92593,     0.92693,     0.92793,     0.92893,     0.92993,     0.93093,     0.93193,     0.93293,     0.93393,     0.93493,     0.93594,\n",
       "           0.93694,     0.93794,     0.93894,     0.93994,     0.94094,     0.94194,     0.94294,     0.94394,     0.94494,     0.94595,     0.94695,     0.94795,     0.94895,     0.94995,     0.95095,     0.95195,     0.95295,     0.95395,     0.95495,     0.95596,     0.95696,     0.95796,     0.95896,     0.95996,\n",
       "           0.96096,     0.96196,     0.96296,     0.96396,     0.96496,     0.96597,     0.96697,     0.96797,     0.96897,     0.96997,     0.97097,     0.97197,     0.97297,     0.97397,     0.97497,     0.97598,     0.97698,     0.97798,     0.97898,     0.97998,     0.98098,     0.98198,     0.98298,     0.98398,\n",
       "           0.98498,     0.98599,     0.98699,     0.98799,     0.98899,     0.98999,     0.99099,     0.99199,     0.99299,     0.99399,     0.99499,       0.996,       0.997,       0.998,       0.999,           1]), array([[   0.076142,      0.0796,     0.10762,     0.12657,     0.14254,     0.15697,     0.16915,     0.17867,     0.18638,       0.194,     0.19924,     0.20615,     0.21224,     0.22009,     0.22953,     0.23589,     0.24302,      0.2497,     0.25599,     0.25949,      0.2623,     0.26896,     0.27313,\n",
       "            0.27912,     0.28349,     0.28635,     0.28909,     0.29247,     0.29539,     0.29695,     0.30055,     0.30412,      0.3068,     0.30869,     0.31283,     0.31728,     0.32144,     0.32606,     0.33169,     0.33701,     0.33835,     0.33907,     0.33999,     0.34213,     0.34686,      0.3473,\n",
       "            0.34803,     0.35609,      0.3586,     0.36226,     0.36331,     0.36443,     0.36527,     0.36622,     0.36827,     0.37114,      0.3734,     0.37456,     0.37583,     0.37726,     0.37921,     0.38231,       0.386,     0.38804,      0.3888,     0.39029,     0.39095,     0.39152,     0.39233,\n",
       "            0.39507,     0.39765,     0.40073,     0.40138,     0.40445,     0.40653,     0.40717,     0.40914,     0.41085,     0.41225,     0.41413,     0.41513,     0.41631,     0.41946,     0.42117,      0.4229,     0.42642,     0.42688,     0.42734,     0.42877,     0.42939,     0.43058,     0.43286,\n",
       "            0.43374,     0.43496,     0.43604,     0.43706,     0.43796,     0.43853,      0.4401,     0.44174,     0.44376,     0.44453,     0.44741,     0.44851,     0.44907,     0.44962,     0.44994,     0.45026,     0.45058,     0.45365,      0.4555,     0.45821,     0.46099,     0.46169,       0.464,\n",
       "            0.46519,     0.46757,     0.46812,     0.46894,      0.4704,     0.47193,      0.4742,     0.47484,     0.47554,     0.47652,     0.47701,     0.47958,     0.48035,     0.48127,     0.48275,     0.48536,      0.4875,     0.48931,      0.4892,     0.49128,     0.49189,     0.49265,     0.49387,\n",
       "            0.49642,     0.49863,      0.4991,     0.49956,     0.50017,     0.50265,     0.50526,     0.50611,     0.50801,     0.50834,     0.50868,     0.50902,     0.50935,     0.51034,     0.51335,     0.51626,     0.51755,     0.51866,     0.52125,     0.52237,     0.52304,     0.52349,     0.52394,\n",
       "            0.52439,     0.52985,     0.53051,     0.53118,     0.53168,     0.53211,     0.53255,     0.53299,     0.53176,     0.53215,     0.53253,     0.53292,      0.5333,     0.53545,     0.53587,      0.5363,     0.53673,     0.54058,     0.54107,     0.54156,     0.54205,     0.54445,     0.54696,\n",
       "            0.54915,     0.55003,     0.55035,     0.55068,       0.551,     0.55132,     0.55165,      0.5533,     0.55465,      0.5572,       0.558,     0.55922,     0.56015,     0.56074,     0.56134,     0.56376,     0.56311,     0.56247,     0.56269,     0.56328,     0.56387,     0.56465,     0.56589,\n",
       "            0.56889,     0.57028,      0.5713,     0.57228,     0.57337,     0.57447,     0.57877,     0.57946,     0.58015,     0.58085,     0.58332,     0.58516,     0.58649,     0.58757,     0.58816,     0.58875,     0.58934,     0.59189,      0.5933,     0.59513,     0.59754,     0.59889,     0.59952,\n",
       "            0.60015,     0.60079,     0.60157,     0.60235,     0.60312,     0.60383,     0.60453,     0.60523,     0.60874,     0.61136,     0.61259,     0.61285,     0.61311,     0.61338,     0.61364,      0.6139,     0.61416,     0.61442,     0.61469,     0.61594,     0.61671,     0.61433,     0.61526,\n",
       "            0.61619,     0.61808,     0.61927,     0.61963,     0.61999,     0.62034,      0.6207,     0.62106,     0.62142,     0.62334,     0.62717,      0.6282,     0.62912,     0.62958,     0.63005,     0.63051,     0.63098,     0.63144,     0.63253,      0.6339,     0.63628,     0.63761,     0.63867,\n",
       "            0.63964,     0.64045,     0.64126,     0.64317,     0.65023,     0.65096,     0.65168,     0.65241,     0.65408,     0.65525,     0.65474,     0.65423,     0.65502,     0.65678,     0.65783,     0.65888,      0.6603,     0.66245,     0.66433,     0.66559,     0.66628,     0.66697,     0.66766,\n",
       "            0.66818,     0.66841,     0.66863,     0.66886,     0.66908,      0.6693,     0.66953,     0.66975,     0.66998,      0.6702,     0.67043,     0.67065,     0.67088,     0.67132,     0.67201,     0.67271,      0.6734,     0.67535,     0.67745,     0.67826,     0.67907,     0.67977,     0.67894,\n",
       "            0.67914,     0.68119,     0.68289,     0.68453,     0.68578,     0.68704,     0.68864,     0.69045,     0.69151,     0.69251,     0.69351,     0.69402,     0.69443,     0.69483,     0.69523,     0.69563,     0.69603,     0.69643,     0.69685,     0.69827,     0.69969,      0.6999,     0.69977,\n",
       "            0.69963,      0.6995,     0.69937,     0.69924,     0.69911,     0.69897,     0.69884,     0.69871,     0.69881,     0.69927,     0.69974,      0.7002,     0.70066,     0.70112,     0.70159,     0.70497,     0.70452,     0.70407,     0.70336,     0.70547,     0.70473,     0.70411,     0.70372,\n",
       "            0.70333,     0.70294,     0.70314,     0.70357,       0.704,     0.70444,     0.70487,      0.7053,     0.70574,     0.70616,     0.70581,     0.70546,     0.70512,     0.70477,     0.70689,     0.71036,     0.71123,     0.71211,     0.71299,     0.71398,     0.71523,     0.71648,     0.71669,\n",
       "            0.71597,     0.71631,     0.71732,     0.71834,     0.71957,     0.72203,      0.7292,     0.72891,     0.73375,     0.73547,     0.73444,     0.73412,      0.7338,     0.73348,     0.73264,     0.73579,     0.73696,     0.73814,     0.73931,     0.74514,     0.74775,     0.74828,     0.74881,\n",
       "            0.74934,     0.74987,     0.75039,     0.75092,     0.75123,     0.75085,     0.75047,     0.75008,       0.749,     0.74761,     0.74775,     0.74832,     0.74888,     0.74944,        0.75,     0.75056,     0.75112,     0.75123,     0.75102,     0.75081,      0.7506,     0.75038,     0.75017,\n",
       "            0.75009,     0.75062,     0.75116,     0.75169,     0.75222,     0.75276,     0.75329,     0.75382,      0.7545,     0.75533,     0.75616,     0.75699,     0.75782,     0.75801,     0.75753,     0.75705,     0.75544,     0.75495,     0.75447,     0.75504,     0.75702,     0.75869,     0.75961,\n",
       "            0.76052,     0.76144,     0.76235,     0.76907,     0.77205,      0.7729,     0.77374,     0.77459,     0.77544,     0.77577,     0.77559,     0.77541,     0.77522,     0.77504,     0.77486,     0.77467,     0.77482,     0.77766,      0.7775,     0.77733,     0.77717,     0.77701,     0.77684,\n",
       "            0.77668,     0.77651,     0.77802,      0.7801,     0.78144,     0.78213,     0.78282,     0.78351,     0.78421,      0.7849,     0.78559,     0.78537,     0.78495,     0.78454,     0.79315,     0.79358,     0.79319,     0.79279,     0.79247,     0.79218,     0.79188,     0.79159,     0.79112,\n",
       "            0.79038,     0.78997,     0.78974,     0.78951,     0.78928,     0.78905,     0.78882,     0.78844,     0.78805,     0.78767,     0.79149,       0.792,     0.79148,     0.79446,      0.7959,     0.79555,      0.7952,     0.79522,     0.79973,     0.79897,     0.80041,     0.80304,     0.80341,\n",
       "            0.80264,      0.8062,     0.80529,     0.80754,     0.81412,     0.81695,     0.81939,     0.81897,     0.81854,     0.81871,     0.82212,     0.83013,     0.83112,      0.8321,     0.83309,     0.83407,     0.83506,     0.83556,     0.83509,     0.83462,     0.83436,     0.83415,     0.83394,\n",
       "            0.83373,     0.83352,      0.8334,     0.83405,      0.8347,     0.83535,       0.836,     0.83666,     0.83731,     0.83796,     0.83861,     0.83926,     0.83895,     0.83833,     0.83796,     0.83764,     0.83732,     0.83697,     0.83642,     0.83587,     0.83559,     0.83533,     0.83508,\n",
       "            0.83483,     0.83443,     0.83288,     0.83211,     0.83166,     0.83123,      0.8308,     0.83581,     0.83549,     0.83516,     0.83483,     0.84101,     0.84031,     0.84172,     0.84481,     0.84766,     0.85006,     0.85247,      0.8526,     0.85749,     0.85923,     0.85878,     0.85834,\n",
       "            0.86001,      0.8644,      0.8641,     0.86379,     0.86348,     0.86312,     0.86265,     0.86217,     0.86169,     0.86428,     0.86688,     0.86714,     0.86679,     0.86645,      0.8661,     0.86322,     0.86978,     0.86882,      0.8683,     0.86782,     0.86741,       0.867,     0.86603,\n",
       "            0.86381,     0.86327,     0.86246,     0.86336,     0.86543,      0.8675,     0.86957,     0.86929,     0.86845,     0.86773,     0.86708,     0.86651,      0.8701,      0.8716,     0.87616,      0.8781,     0.87732,     0.87684,     0.87592,     0.87791,      0.8814,     0.88489,     0.88477,\n",
       "            0.88448,     0.88418,     0.88388,     0.88299,       0.882,     0.88141,     0.87958,     0.87887,     0.87822,     0.87766,     0.87714,     0.87661,     0.87396,     0.87087,     0.86792,     0.86473,     0.86329,     0.87274,     0.87254,     0.88304,     0.87886,      0.8866,      0.8847,\n",
       "            0.88316,     0.87916,     0.87865,     0.87814,     0.87764,     0.87502,     0.88084,     0.88666,     0.89046,     0.88923,     0.89624,     0.90325,     0.91612,      0.9209,     0.93687,     0.93841,     0.93801,     0.93762,     0.95538,     0.95505,     0.95473,     0.95439,     0.95403,\n",
       "            0.95368,     0.95187,     0.95074,      0.9502,     0.96762,      0.9722,     0.97184,     0.97148,     0.96982,     0.96938,     0.96902,     0.96842,     0.96631,     0.96358,     0.99422,           1,           1,           1,           1,           1,           1,           1,           1,\n",
       "                  1,           1,           1,           1,           1,           1,           1,           1,           1,           1,           1,           1,           1,           1,           1,           1,           1,           1,           1,           1,           1,           1,           1,\n",
       "                  1,           1,           1,           1,           1,           1,           1,           1,           1,           1,           1,           1,           1,           1,           1,           1,           1,           1,           1,           1,           1,           1,           1,\n",
       "                  1,           1,           1,           1,           1,           1,           1,           1,           1,           1,           1,           1,           1,           1,           1,           1,           1,           1,           1,           1,           1,           1,           1,\n",
       "                  1,           1,           1,           1,           1,           1,           1,           1,           1,           1,           1,           1,           1,           1,           1,           1,           1,           1,           1,           1,           1,           1,           1,\n",
       "                  1,           1,           1,           1,           1,           1,           1,           1,           1,           1,           1,           1,           1,           1,           1,           1,           1,           1,           1,           1,           1,           1,           1,\n",
       "                  1,           1,           1,           1,           1,           1,           1,           1,           1,           1,           1,           1,           1,           1,           1,           1,           1,           1,           1,           1,           1,           1,           1,\n",
       "                  1,           1,           1,           1,           1,           1,           1,           1,           1,           1,           1,           1,           1,           1,           1,           1,           1,           1,           1,           1,           1,           1,           1,\n",
       "                  1,           1,           1,           1,           1,           1,           1,           1,           1,           1,           1,           1,           1,           1,           1,           1,           1,           1,           1,           1,           1,           1,           1,\n",
       "                  1,           1,           1,           1,           1,           1,           1,           1,           1,           1,           1,           1,           1,           1,           1,           1,           1,           1,           1,           1,           1,           1,           1,\n",
       "                  1,           1,           1,           1,           1,           1,           1,           1,           1,           1,           1,           1,           1,           1,           1,           1,           1,           1,           1,           1,           1,           1,           1,\n",
       "                  1,           1,           1,           1,           1,           1,           1,           1,           1,           1,           1,           1,           1,           1,           1,           1,           1,           1,           1,           1,           1,           1,           1,\n",
       "                  1,           1,           1,           1,           1,           1,           1,           1,           1,           1,           1,           1,           1,           1,           1,           1,           1,           1,           1,           1,           1,           1,           1,\n",
       "                  1,           1,           1,           1,           1,           1,           1,           1,           1,           1,           1]]), 'Confidence', 'Precision'], [array([          0,    0.001001,    0.002002,    0.003003,    0.004004,    0.005005,    0.006006,    0.007007,    0.008008,    0.009009,     0.01001,    0.011011,    0.012012,    0.013013,    0.014014,    0.015015,    0.016016,    0.017017,    0.018018,    0.019019,     0.02002,    0.021021,    0.022022,    0.023023,\n",
       "          0.024024,    0.025025,    0.026026,    0.027027,    0.028028,    0.029029,     0.03003,    0.031031,    0.032032,    0.033033,    0.034034,    0.035035,    0.036036,    0.037037,    0.038038,    0.039039,     0.04004,    0.041041,    0.042042,    0.043043,    0.044044,    0.045045,    0.046046,    0.047047,\n",
       "          0.048048,    0.049049,     0.05005,    0.051051,    0.052052,    0.053053,    0.054054,    0.055055,    0.056056,    0.057057,    0.058058,    0.059059,     0.06006,    0.061061,    0.062062,    0.063063,    0.064064,    0.065065,    0.066066,    0.067067,    0.068068,    0.069069,     0.07007,    0.071071,\n",
       "          0.072072,    0.073073,    0.074074,    0.075075,    0.076076,    0.077077,    0.078078,    0.079079,     0.08008,    0.081081,    0.082082,    0.083083,    0.084084,    0.085085,    0.086086,    0.087087,    0.088088,    0.089089,     0.09009,    0.091091,    0.092092,    0.093093,    0.094094,    0.095095,\n",
       "          0.096096,    0.097097,    0.098098,    0.099099,      0.1001,      0.1011,      0.1021,      0.1031,      0.1041,     0.10511,     0.10611,     0.10711,     0.10811,     0.10911,     0.11011,     0.11111,     0.11211,     0.11311,     0.11411,     0.11512,     0.11612,     0.11712,     0.11812,     0.11912,\n",
       "           0.12012,     0.12112,     0.12212,     0.12312,     0.12412,     0.12513,     0.12613,     0.12713,     0.12813,     0.12913,     0.13013,     0.13113,     0.13213,     0.13313,     0.13413,     0.13514,     0.13614,     0.13714,     0.13814,     0.13914,     0.14014,     0.14114,     0.14214,     0.14314,\n",
       "           0.14414,     0.14515,     0.14615,     0.14715,     0.14815,     0.14915,     0.15015,     0.15115,     0.15215,     0.15315,     0.15415,     0.15516,     0.15616,     0.15716,     0.15816,     0.15916,     0.16016,     0.16116,     0.16216,     0.16316,     0.16416,     0.16517,     0.16617,     0.16717,\n",
       "           0.16817,     0.16917,     0.17017,     0.17117,     0.17217,     0.17317,     0.17417,     0.17518,     0.17618,     0.17718,     0.17818,     0.17918,     0.18018,     0.18118,     0.18218,     0.18318,     0.18418,     0.18519,     0.18619,     0.18719,     0.18819,     0.18919,     0.19019,     0.19119,\n",
       "           0.19219,     0.19319,     0.19419,      0.1952,      0.1962,      0.1972,      0.1982,      0.1992,      0.2002,      0.2012,      0.2022,      0.2032,      0.2042,     0.20521,     0.20621,     0.20721,     0.20821,     0.20921,     0.21021,     0.21121,     0.21221,     0.21321,     0.21421,     0.21522,\n",
       "           0.21622,     0.21722,     0.21822,     0.21922,     0.22022,     0.22122,     0.22222,     0.22322,     0.22422,     0.22523,     0.22623,     0.22723,     0.22823,     0.22923,     0.23023,     0.23123,     0.23223,     0.23323,     0.23423,     0.23524,     0.23624,     0.23724,     0.23824,     0.23924,\n",
       "           0.24024,     0.24124,     0.24224,     0.24324,     0.24424,     0.24525,     0.24625,     0.24725,     0.24825,     0.24925,     0.25025,     0.25125,     0.25225,     0.25325,     0.25425,     0.25526,     0.25626,     0.25726,     0.25826,     0.25926,     0.26026,     0.26126,     0.26226,     0.26326,\n",
       "           0.26426,     0.26527,     0.26627,     0.26727,     0.26827,     0.26927,     0.27027,     0.27127,     0.27227,     0.27327,     0.27427,     0.27528,     0.27628,     0.27728,     0.27828,     0.27928,     0.28028,     0.28128,     0.28228,     0.28328,     0.28428,     0.28529,     0.28629,     0.28729,\n",
       "           0.28829,     0.28929,     0.29029,     0.29129,     0.29229,     0.29329,     0.29429,      0.2953,      0.2963,      0.2973,      0.2983,      0.2993,      0.3003,      0.3013,      0.3023,      0.3033,      0.3043,     0.30531,     0.30631,     0.30731,     0.30831,     0.30931,     0.31031,     0.31131,\n",
       "           0.31231,     0.31331,     0.31431,     0.31532,     0.31632,     0.31732,     0.31832,     0.31932,     0.32032,     0.32132,     0.32232,     0.32332,     0.32432,     0.32533,     0.32633,     0.32733,     0.32833,     0.32933,     0.33033,     0.33133,     0.33233,     0.33333,     0.33433,     0.33534,\n",
       "           0.33634,     0.33734,     0.33834,     0.33934,     0.34034,     0.34134,     0.34234,     0.34334,     0.34434,     0.34535,     0.34635,     0.34735,     0.34835,     0.34935,     0.35035,     0.35135,     0.35235,     0.35335,     0.35435,     0.35536,     0.35636,     0.35736,     0.35836,     0.35936,\n",
       "           0.36036,     0.36136,     0.36236,     0.36336,     0.36436,     0.36537,     0.36637,     0.36737,     0.36837,     0.36937,     0.37037,     0.37137,     0.37237,     0.37337,     0.37437,     0.37538,     0.37638,     0.37738,     0.37838,     0.37938,     0.38038,     0.38138,     0.38238,     0.38338,\n",
       "           0.38438,     0.38539,     0.38639,     0.38739,     0.38839,     0.38939,     0.39039,     0.39139,     0.39239,     0.39339,     0.39439,      0.3954,      0.3964,      0.3974,      0.3984,      0.3994,      0.4004,      0.4014,      0.4024,      0.4034,      0.4044,     0.40541,     0.40641,     0.40741,\n",
       "           0.40841,     0.40941,     0.41041,     0.41141,     0.41241,     0.41341,     0.41441,     0.41542,     0.41642,     0.41742,     0.41842,     0.41942,     0.42042,     0.42142,     0.42242,     0.42342,     0.42442,     0.42543,     0.42643,     0.42743,     0.42843,     0.42943,     0.43043,     0.43143,\n",
       "           0.43243,     0.43343,     0.43443,     0.43544,     0.43644,     0.43744,     0.43844,     0.43944,     0.44044,     0.44144,     0.44244,     0.44344,     0.44444,     0.44545,     0.44645,     0.44745,     0.44845,     0.44945,     0.45045,     0.45145,     0.45245,     0.45345,     0.45445,     0.45546,\n",
       "           0.45646,     0.45746,     0.45846,     0.45946,     0.46046,     0.46146,     0.46246,     0.46346,     0.46446,     0.46547,     0.46647,     0.46747,     0.46847,     0.46947,     0.47047,     0.47147,     0.47247,     0.47347,     0.47447,     0.47548,     0.47648,     0.47748,     0.47848,     0.47948,\n",
       "           0.48048,     0.48148,     0.48248,     0.48348,     0.48448,     0.48549,     0.48649,     0.48749,     0.48849,     0.48949,     0.49049,     0.49149,     0.49249,     0.49349,     0.49449,      0.4955,      0.4965,      0.4975,      0.4985,      0.4995,      0.5005,      0.5015,      0.5025,      0.5035,\n",
       "            0.5045,     0.50551,     0.50651,     0.50751,     0.50851,     0.50951,     0.51051,     0.51151,     0.51251,     0.51351,     0.51451,     0.51552,     0.51652,     0.51752,     0.51852,     0.51952,     0.52052,     0.52152,     0.52252,     0.52352,     0.52452,     0.52553,     0.52653,     0.52753,\n",
       "           0.52853,     0.52953,     0.53053,     0.53153,     0.53253,     0.53353,     0.53453,     0.53554,     0.53654,     0.53754,     0.53854,     0.53954,     0.54054,     0.54154,     0.54254,     0.54354,     0.54454,     0.54555,     0.54655,     0.54755,     0.54855,     0.54955,     0.55055,     0.55155,\n",
       "           0.55255,     0.55355,     0.55455,     0.55556,     0.55656,     0.55756,     0.55856,     0.55956,     0.56056,     0.56156,     0.56256,     0.56356,     0.56456,     0.56557,     0.56657,     0.56757,     0.56857,     0.56957,     0.57057,     0.57157,     0.57257,     0.57357,     0.57457,     0.57558,\n",
       "           0.57658,     0.57758,     0.57858,     0.57958,     0.58058,     0.58158,     0.58258,     0.58358,     0.58458,     0.58559,     0.58659,     0.58759,     0.58859,     0.58959,     0.59059,     0.59159,     0.59259,     0.59359,     0.59459,      0.5956,      0.5966,      0.5976,      0.5986,      0.5996,\n",
       "            0.6006,      0.6016,      0.6026,      0.6036,      0.6046,     0.60561,     0.60661,     0.60761,     0.60861,     0.60961,     0.61061,     0.61161,     0.61261,     0.61361,     0.61461,     0.61562,     0.61662,     0.61762,     0.61862,     0.61962,     0.62062,     0.62162,     0.62262,     0.62362,\n",
       "           0.62462,     0.62563,     0.62663,     0.62763,     0.62863,     0.62963,     0.63063,     0.63163,     0.63263,     0.63363,     0.63463,     0.63564,     0.63664,     0.63764,     0.63864,     0.63964,     0.64064,     0.64164,     0.64264,     0.64364,     0.64464,     0.64565,     0.64665,     0.64765,\n",
       "           0.64865,     0.64965,     0.65065,     0.65165,     0.65265,     0.65365,     0.65465,     0.65566,     0.65666,     0.65766,     0.65866,     0.65966,     0.66066,     0.66166,     0.66266,     0.66366,     0.66466,     0.66567,     0.66667,     0.66767,     0.66867,     0.66967,     0.67067,     0.67167,\n",
       "           0.67267,     0.67367,     0.67467,     0.67568,     0.67668,     0.67768,     0.67868,     0.67968,     0.68068,     0.68168,     0.68268,     0.68368,     0.68468,     0.68569,     0.68669,     0.68769,     0.68869,     0.68969,     0.69069,     0.69169,     0.69269,     0.69369,     0.69469,      0.6957,\n",
       "            0.6967,      0.6977,      0.6987,      0.6997,      0.7007,      0.7017,      0.7027,      0.7037,      0.7047,     0.70571,     0.70671,     0.70771,     0.70871,     0.70971,     0.71071,     0.71171,     0.71271,     0.71371,     0.71471,     0.71572,     0.71672,     0.71772,     0.71872,     0.71972,\n",
       "           0.72072,     0.72172,     0.72272,     0.72372,     0.72472,     0.72573,     0.72673,     0.72773,     0.72873,     0.72973,     0.73073,     0.73173,     0.73273,     0.73373,     0.73473,     0.73574,     0.73674,     0.73774,     0.73874,     0.73974,     0.74074,     0.74174,     0.74274,     0.74374,\n",
       "           0.74474,     0.74575,     0.74675,     0.74775,     0.74875,     0.74975,     0.75075,     0.75175,     0.75275,     0.75375,     0.75475,     0.75576,     0.75676,     0.75776,     0.75876,     0.75976,     0.76076,     0.76176,     0.76276,     0.76376,     0.76476,     0.76577,     0.76677,     0.76777,\n",
       "           0.76877,     0.76977,     0.77077,     0.77177,     0.77277,     0.77377,     0.77477,     0.77578,     0.77678,     0.77778,     0.77878,     0.77978,     0.78078,     0.78178,     0.78278,     0.78378,     0.78478,     0.78579,     0.78679,     0.78779,     0.78879,     0.78979,     0.79079,     0.79179,\n",
       "           0.79279,     0.79379,     0.79479,      0.7958,      0.7968,      0.7978,      0.7988,      0.7998,      0.8008,      0.8018,      0.8028,      0.8038,      0.8048,     0.80581,     0.80681,     0.80781,     0.80881,     0.80981,     0.81081,     0.81181,     0.81281,     0.81381,     0.81481,     0.81582,\n",
       "           0.81682,     0.81782,     0.81882,     0.81982,     0.82082,     0.82182,     0.82282,     0.82382,     0.82482,     0.82583,     0.82683,     0.82783,     0.82883,     0.82983,     0.83083,     0.83183,     0.83283,     0.83383,     0.83483,     0.83584,     0.83684,     0.83784,     0.83884,     0.83984,\n",
       "           0.84084,     0.84184,     0.84284,     0.84384,     0.84484,     0.84585,     0.84685,     0.84785,     0.84885,     0.84985,     0.85085,     0.85185,     0.85285,     0.85385,     0.85485,     0.85586,     0.85686,     0.85786,     0.85886,     0.85986,     0.86086,     0.86186,     0.86286,     0.86386,\n",
       "           0.86486,     0.86587,     0.86687,     0.86787,     0.86887,     0.86987,     0.87087,     0.87187,     0.87287,     0.87387,     0.87487,     0.87588,     0.87688,     0.87788,     0.87888,     0.87988,     0.88088,     0.88188,     0.88288,     0.88388,     0.88488,     0.88589,     0.88689,     0.88789,\n",
       "           0.88889,     0.88989,     0.89089,     0.89189,     0.89289,     0.89389,     0.89489,      0.8959,      0.8969,      0.8979,      0.8989,      0.8999,      0.9009,      0.9019,      0.9029,      0.9039,      0.9049,     0.90591,     0.90691,     0.90791,     0.90891,     0.90991,     0.91091,     0.91191,\n",
       "           0.91291,     0.91391,     0.91491,     0.91592,     0.91692,     0.91792,     0.91892,     0.91992,     0.92092,     0.92192,     0.92292,     0.92392,     0.92492,     0.92593,     0.92693,     0.92793,     0.92893,     0.92993,     0.93093,     0.93193,     0.93293,     0.93393,     0.93493,     0.93594,\n",
       "           0.93694,     0.93794,     0.93894,     0.93994,     0.94094,     0.94194,     0.94294,     0.94394,     0.94494,     0.94595,     0.94695,     0.94795,     0.94895,     0.94995,     0.95095,     0.95195,     0.95295,     0.95395,     0.95495,     0.95596,     0.95696,     0.95796,     0.95896,     0.95996,\n",
       "           0.96096,     0.96196,     0.96296,     0.96396,     0.96496,     0.96597,     0.96697,     0.96797,     0.96897,     0.96997,     0.97097,     0.97197,     0.97297,     0.97397,     0.97497,     0.97598,     0.97698,     0.97798,     0.97898,     0.97998,     0.98098,     0.98198,     0.98298,     0.98398,\n",
       "           0.98498,     0.98599,     0.98699,     0.98799,     0.98899,     0.98999,     0.99099,     0.99199,     0.99299,     0.99399,     0.99499,       0.996,       0.997,       0.998,       0.999,           1]), array([[    0.87379,     0.87379,     0.85922,     0.85437,     0.85437,     0.85437,     0.85437,     0.85437,     0.85437,     0.85437,     0.85437,     0.85437,     0.84951,     0.84951,     0.84951,     0.84951,     0.84951,     0.84951,     0.84951,     0.84466,     0.84466,     0.84466,     0.84466,\n",
       "            0.84466,     0.84466,     0.84466,     0.84466,     0.84466,     0.84466,     0.83981,     0.83981,     0.83981,     0.83981,     0.83981,     0.83981,     0.83981,     0.83981,     0.83981,     0.83981,     0.83981,     0.83656,      0.8301,     0.82524,     0.82524,     0.82524,     0.82039,\n",
       "            0.81553,     0.81553,     0.81553,     0.81553,      0.8116,     0.81068,     0.81068,     0.81068,     0.80583,     0.80583,     0.80583,     0.80583,     0.80583,     0.80583,     0.80583,     0.80522,     0.80097,     0.80097,     0.80097,     0.80097,     0.80097,     0.80097,     0.80097,\n",
       "            0.80097,     0.80097,     0.80097,     0.80097,     0.80097,     0.80097,     0.80097,     0.80097,     0.80097,     0.80097,     0.80097,     0.80097,     0.80097,     0.80097,     0.80097,     0.80097,     0.80097,     0.80097,     0.80097,     0.80097,     0.80097,     0.80097,     0.80097,\n",
       "            0.80097,     0.80097,     0.80097,     0.80097,     0.80097,     0.80097,     0.80097,     0.80097,     0.80097,     0.80097,     0.80097,     0.80097,     0.80097,     0.80097,     0.80097,     0.80097,     0.80097,     0.80097,     0.80097,     0.80097,     0.80097,     0.80097,     0.80097,\n",
       "            0.79803,     0.79612,     0.79612,     0.79612,     0.79612,     0.79612,     0.79612,     0.79612,     0.79612,     0.79612,     0.79126,     0.79126,     0.79126,     0.79126,     0.79126,     0.79126,     0.79126,      0.7907,     0.78641,     0.78155,     0.78155,     0.78155,     0.78155,\n",
       "            0.78155,     0.78155,     0.78155,     0.78155,     0.78155,     0.78155,     0.78155,     0.78155,     0.78155,     0.78155,     0.78155,     0.78155,     0.78155,     0.78155,     0.78155,     0.78155,     0.78155,     0.78155,     0.78155,     0.78155,     0.78155,     0.78155,     0.78155,\n",
       "            0.78155,     0.78155,     0.78155,     0.78155,     0.78155,     0.78155,     0.78155,     0.78155,      0.7767,      0.7767,      0.7767,      0.7767,      0.7767,      0.7767,      0.7767,      0.7767,      0.7767,      0.7767,      0.7767,      0.7767,      0.7767,      0.7767,      0.7767,\n",
       "             0.7767,      0.7767,      0.7767,      0.7767,      0.7767,      0.7767,      0.7767,      0.7767,      0.7767,     0.77578,     0.77184,     0.77184,     0.77184,     0.77184,     0.77184,     0.77162,      0.7696,     0.76759,     0.76699,     0.76699,     0.76699,     0.76699,     0.76699,\n",
       "            0.76699,     0.76699,     0.76699,     0.76699,     0.76699,     0.76699,     0.76699,     0.76699,     0.76699,     0.76699,     0.76699,     0.76699,     0.76699,     0.76699,     0.76699,     0.76699,     0.76699,     0.76699,     0.76699,     0.76699,     0.76699,     0.76699,     0.76699,\n",
       "            0.76699,     0.76699,     0.76699,     0.76699,     0.76699,     0.76699,     0.76699,     0.76699,     0.76699,     0.76699,     0.76699,     0.76699,     0.76699,     0.76699,     0.76699,     0.76699,     0.76699,     0.76699,     0.76699,     0.76699,     0.76546,     0.75728,     0.75728,\n",
       "            0.75728,     0.75728,     0.75728,     0.75728,     0.75728,     0.75728,     0.75728,     0.75728,     0.75728,     0.75728,     0.75728,     0.75728,     0.75728,     0.75728,     0.75728,     0.75728,     0.75728,     0.75728,     0.75728,     0.75728,     0.75728,     0.75728,     0.75728,\n",
       "            0.75728,     0.75728,     0.75728,     0.75728,     0.75728,     0.75728,     0.75728,     0.75728,     0.75728,     0.75656,     0.75486,     0.75316,     0.75243,     0.75243,     0.75243,     0.75243,     0.75243,     0.75243,     0.75243,     0.75243,     0.75243,     0.75243,     0.75243,\n",
       "            0.75243,     0.75243,     0.75243,     0.75243,     0.75243,     0.75243,     0.75243,     0.75243,     0.75243,     0.75243,     0.75243,     0.75243,     0.75243,     0.75243,     0.75243,     0.75243,     0.75243,     0.75243,     0.75243,     0.75243,     0.75243,     0.75224,      0.7494,\n",
       "            0.74757,     0.74757,     0.74757,     0.74757,     0.74757,     0.74757,     0.74757,     0.74757,     0.74757,     0.74757,     0.74757,     0.74757,     0.74757,     0.74757,     0.74757,     0.74757,     0.74757,     0.74757,     0.74757,     0.74757,     0.74757,     0.74721,     0.74674,\n",
       "            0.74627,     0.74581,     0.74534,     0.74487,     0.74441,     0.74394,     0.74347,     0.74301,     0.74272,     0.74272,     0.74272,     0.74272,     0.74272,     0.74272,     0.74272,     0.74236,     0.74076,     0.73917,     0.73667,     0.73252,     0.72994,     0.72774,     0.72639,\n",
       "            0.72504,     0.72369,      0.7233,      0.7233,      0.7233,      0.7233,      0.7233,      0.7233,      0.7233,     0.72328,     0.72208,     0.72088,     0.71969,     0.71849,     0.71414,     0.71359,     0.71359,     0.71359,     0.71359,     0.71359,     0.71359,     0.71359,     0.71227,\n",
       "            0.70973,     0.70874,     0.70874,     0.70874,     0.70874,     0.70874,     0.70874,     0.70483,     0.70388,     0.70184,     0.69812,     0.69698,     0.69585,     0.69471,     0.69171,     0.68932,     0.68932,     0.68932,     0.68932,     0.68932,     0.68932,     0.68932,     0.68932,\n",
       "            0.68932,     0.68932,     0.68932,     0.68932,     0.68898,     0.68758,     0.68617,     0.68477,     0.68084,     0.67584,     0.67476,     0.67476,     0.67476,     0.67476,     0.67476,     0.67476,     0.67476,     0.67431,     0.67355,      0.6728,     0.67204,     0.67129,     0.67053,\n",
       "             0.6699,      0.6699,      0.6699,      0.6699,      0.6699,      0.6699,      0.6699,      0.6699,      0.6699,      0.6699,      0.6699,      0.6699,      0.6699,     0.66905,     0.66732,     0.66559,     0.65977,     0.65805,     0.65632,     0.65534,     0.65534,     0.65534,     0.65534,\n",
       "            0.65534,     0.65534,     0.65534,     0.65534,     0.65534,     0.65534,     0.65534,     0.65534,     0.65534,       0.655,     0.65431,     0.65363,     0.65295,     0.65226,     0.65158,     0.65089,     0.64563,     0.64521,      0.6446,     0.64399,     0.64338,     0.64277,     0.64216,\n",
       "            0.64155,     0.64093,     0.64078,     0.64078,     0.64078,     0.64078,     0.64078,     0.64078,     0.64078,     0.64078,     0.64078,     0.63948,      0.6379,     0.63632,     0.63592,     0.63453,     0.63301,     0.63149,     0.63026,     0.62914,     0.62802,      0.6269,     0.62512,\n",
       "            0.62232,      0.6208,     0.61994,     0.61908,     0.61823,     0.61737,     0.61652,     0.61511,     0.61368,     0.61226,     0.61165,     0.60998,     0.60805,      0.6068,     0.60574,     0.60446,     0.60317,     0.60194,     0.60092,     0.59808,     0.59709,     0.59709,     0.59516,\n",
       "            0.59225,     0.58564,     0.58225,     0.57767,     0.57282,     0.57282,     0.57262,     0.57098,     0.56934,     0.56796,     0.56796,     0.56796,     0.56796,     0.56796,     0.56796,     0.56796,     0.56796,     0.56732,     0.56539,     0.56347,     0.56242,     0.56157,     0.56072,\n",
       "            0.55987,     0.55902,     0.55825,     0.55825,     0.55825,     0.55825,     0.55825,     0.55825,     0.55825,     0.55825,     0.55825,     0.55825,     0.55632,      0.5538,      0.5523,     0.55099,     0.54969,     0.54827,     0.54608,     0.54388,     0.54278,     0.54178,     0.54078,\n",
       "            0.53978,     0.53822,     0.53226,     0.52931,     0.52761,     0.52599,     0.52437,     0.51896,     0.51772,     0.51649,     0.51526,     0.51356,     0.51089,     0.50971,     0.50971,     0.50971,     0.50971,     0.50971,     0.50543,     0.50485,      0.5037,     0.50185,     0.50001,\n",
       "            0.49515,     0.49514,     0.49384,     0.49255,     0.49125,     0.48978,     0.48782,     0.48586,     0.48058,     0.48058,     0.48058,     0.47525,     0.47383,     0.47241,     0.47099,     0.45954,     0.45395,     0.45011,     0.44809,     0.44619,     0.44462,     0.44305,     0.43935,\n",
       "            0.43107,     0.42911,     0.42615,     0.42233,     0.42233,     0.42233,     0.42233,     0.41971,     0.41662,       0.414,     0.41167,     0.40966,     0.40777,     0.39545,      0.3932,     0.38464,     0.38188,     0.38019,     0.37696,     0.37379,     0.37379,     0.37379,     0.37276,\n",
       "            0.37168,     0.37059,     0.36951,     0.36633,     0.36285,      0.3608,     0.35456,     0.35223,     0.35007,     0.34826,     0.34657,     0.34488,     0.33661,     0.32741,     0.31901,     0.31032,     0.30656,     0.29964,     0.29612,     0.29322,     0.28175,     0.26568,     0.26076,\n",
       "            0.25685,     0.24723,     0.24606,      0.2449,     0.24373,     0.23786,     0.23786,     0.23786,     0.23679,     0.23301,     0.23301,     0.23301,     0.23301,     0.22609,      0.2233,     0.22191,      0.2204,      0.2189,     0.20787,     0.20631,     0.20476,     0.20316,     0.20152,\n",
       "            0.19989,     0.19203,     0.18741,     0.18526,     0.18447,      0.1698,     0.16757,     0.16534,     0.15603,     0.15372,     0.15188,     0.14888,     0.13927,     0.12846,     0.12136,     0.11884,     0.11577,     0.11181,     0.10947,      0.1072,     0.10099,    0.096136,     0.09094,\n",
       "           0.089144,    0.087345,      0.0854,    0.083455,    0.079284,    0.076582,    0.075112,    0.073643,    0.070116,    0.066438,    0.064099,    0.061861,    0.059698,    0.057353,    0.054642,    0.052724,    0.051478,    0.050232,    0.048986,    0.043364,     0.04252,    0.041676,    0.040832,\n",
       "           0.039987,    0.039143,    0.038264,    0.037366,    0.036467,    0.035568,     0.03467,    0.027883,    0.023735,    0.022359,    0.020983,    0.019606,    0.015406,    0.013117,    0.011351,   0.0096579,   0.0089318,   0.0082058,   0.0074797,   0.0067536,   0.0060275,   0.0053015,           0,\n",
       "                  0,           0,           0,           0,           0,           0,           0,           0,           0,           0,           0,           0,           0,           0,           0,           0,           0,           0,           0,           0,           0,           0,           0,\n",
       "                  0,           0,           0,           0,           0,           0,           0,           0,           0,           0,           0,           0,           0,           0,           0,           0,           0,           0,           0,           0,           0,           0,           0,\n",
       "                  0,           0,           0,           0,           0,           0,           0,           0,           0,           0,           0,           0,           0,           0,           0,           0,           0,           0,           0,           0,           0,           0,           0,\n",
       "                  0,           0,           0,           0,           0,           0,           0,           0,           0,           0,           0,           0,           0,           0,           0,           0,           0,           0,           0,           0,           0,           0,           0,\n",
       "                  0,           0,           0,           0,           0,           0,           0,           0,           0,           0,           0,           0,           0,           0,           0,           0,           0,           0,           0,           0,           0,           0,           0,\n",
       "                  0,           0,           0,           0,           0,           0,           0,           0,           0,           0,           0,           0,           0,           0,           0,           0,           0,           0,           0,           0,           0,           0,           0,\n",
       "                  0,           0,           0,           0,           0,           0,           0,           0,           0,           0,           0,           0,           0,           0,           0,           0,           0,           0,           0,           0,           0,           0,           0,\n",
       "                  0,           0,           0,           0,           0,           0,           0,           0,           0,           0,           0,           0,           0,           0,           0,           0,           0,           0,           0,           0,           0,           0,           0,\n",
       "                  0,           0,           0,           0,           0,           0,           0,           0,           0,           0,           0,           0,           0,           0,           0,           0,           0,           0,           0,           0,           0,           0,           0,\n",
       "                  0,           0,           0,           0,           0,           0,           0,           0,           0,           0,           0,           0,           0,           0,           0,           0,           0,           0,           0,           0,           0,           0,           0,\n",
       "                  0,           0,           0,           0,           0,           0,           0,           0,           0,           0,           0]]), 'Confidence', 'Recall']]\n",
       "fitness: 0.3795770989981645\n",
       "keys: ['metrics/precision(B)', 'metrics/recall(B)', 'metrics/mAP50(B)', 'metrics/mAP50-95(B)']\n",
       "maps: array([    0.34269])\n",
       "names: {0: 'bird'}\n",
       "plot: True\n",
       "results_dict: {'metrics/precision(B)': 0.7040040893723258, 'metrics/recall(B)': 0.7233009708737864, 'metrics/mAP50(B)': 0.7115739887247439, 'metrics/mAP50-95(B)': 0.34268855569521117, 'fitness': 0.3795770989981645}\n",
       "save_dir: PosixPath('runs/detect/val6')\n",
       "speed: {'preprocess': 3.3930002873909944, 'inference': 27.92113532673233, 'loss': 0.000810909890726711, 'postprocess': 1.3282336948669693}\n",
       "task: 'detect'"
      ]
     },
     "execution_count": 11,
     "metadata": {},
     "output_type": "execute_result"
    }
   ],
   "source": [
    "# load the last model of the previous stage to run the validation dataset\n",
    "model_stage_1.val(data=yolo_data, save=True, conf=0.0009)"
   ]
  },
  {
   "cell_type": "code",
   "execution_count": null,
   "metadata": {},
   "outputs": [],
   "source": [
    "# datasets\n",
    "folder_path = '/notebooks/DL---detection-of-birds-in-drone-images/data/'\n",
    "of\n",
    "# models\n",
    "models = '/notebooks/DL---detection-of-birds-in-drone-images/models'\n",
    "\n",
    "# logs\n",
    "logs = '/notebooks/DL---detection-of-birds-in-drone-images/logs/'\n",
    "\n",
    "#yolo_data = folder_path + 'data_yolo_format/data.yaml'\n",
    "yolo_data_1 = folder_path + 'tiled_augmented_640_good_augment_yolo_data/data.yaml'\n",
    "\n",
    "model_stage_1 = YOLO(\"yolo11m.pt\")\n",
    "\n",
    "model_stage_1.train(\n",
    "    data=yolo_data_1,          # Path to your dataset configuration file\n",
    "\n",
    "    # Hyperparameters\n",
    "    epochs=100,                    # Number of epochs\n",
    "    batch=-1,                     # batch size\n",
    "    imgsz=640,                    # Image size\n",
    "    freeze=10,                     # Freeze first 10 layers\n",
    "    patience=12,\n",
    "    # Reproducability\n",
    "    seed = 42\n",
    ")"
   ]
  },
  {
   "cell_type": "code",
   "execution_count": null,
   "metadata": {},
   "outputs": [],
   "source": [
    "model_stage_1.val(data=yolo_data_1, save=True)"
   ]
  },
  {
   "cell_type": "code",
   "execution_count": 6,
   "metadata": {
    "colab": {
     "base_uri": "https://localhost:8080/"
    },
    "execution": {
     "iopub.execute_input": "2025-05-09T15:36:13.188180Z",
     "iopub.status.busy": "2025-05-09T15:36:13.187837Z",
     "iopub.status.idle": "2025-05-09T15:37:10.831962Z",
     "shell.execute_reply": "2025-05-09T15:37:10.827943Z",
     "shell.execute_reply.started": "2025-05-09T15:36:13.188155Z"
    },
    "executionInfo": {
     "elapsed": 22982,
     "status": "ok",
     "timestamp": 1746645097089,
     "user": {
      "displayName": "Eugen Falca",
      "userId": "06470857081734833614"
     },
     "user_tz": -120
    },
    "id": "x02pN7-BGoP_",
    "outputId": "2cb75ca8-43ae-426a-8669-e8644f3f0f0f"
   },
   "outputs": [
    {
     "name": "stdout",
     "output_type": "stream",
     "text": [
      "Ultralytics 8.3.130 🚀 Python-3.11.7 torch-2.1.1+cu121 CUDA:0 (Quadro RTX 5000, 16110MiB)\n",
      "YOLO11m summary (fused): 125 layers, 20,030,803 parameters, 0 gradients, 67.6 GFLOPs\n",
      "\u001b[34m\u001b[1mval: \u001b[0mFast image access ✅ (ping: 0.0±0.0 ms, read: 58.9±7.9 MB/s, size: 609.7 KB)\n"
     ]
    },
    {
     "name": "stderr",
     "output_type": "stream",
     "text": [
      "\u001b[34m\u001b[1mval: \u001b[0mScanning /notebooks/DL---detection-of-birds-in-drone-images/data/tiled_augmented_2_640_yolo_data/test/labels... 651 images, 577 backgrounds, 0 corrupt: 100%|██████████| 651/651 [00:04<00:00, 150.97it/s]\n"
     ]
    },
    {
     "name": "stdout",
     "output_type": "stream",
     "text": [
      "\u001b[34m\u001b[1mval: \u001b[0mNew cache created: /notebooks/DL---detection-of-birds-in-drone-images/data/tiled_augmented_2_640_yolo_data/test/labels.cache\n"
     ]
    },
    {
     "name": "stderr",
     "output_type": "stream",
     "text": [
      "                 Class     Images  Instances      Box(P          R      mAP50  mAP50-95): 100%|██████████| 41/41 [00:34<00:00,  1.17it/s]\n"
     ]
    },
    {
     "name": "stdout",
     "output_type": "stream",
     "text": [
      "                   all        651        158      0.808      0.641      0.715      0.365\n",
      "Speed: 2.1ms preprocess, 42.1ms inference, 0.0ms loss, 3.6ms postprocess per image\n",
      "Results saved to \u001b[1mruns/detect/val3\u001b[0m\n",
      "ultralytics.utils.metrics.DetMetrics object with attributes:\n",
      "\n",
      "ap_class_index: array([0])\n",
      "box: ultralytics.utils.metrics.Metric object\n",
      "confusion_matrix: <ultralytics.utils.metrics.ConfusionMatrix object at 0x7f13a016c210>\n",
      "curves: ['Precision-Recall(B)', 'F1-Confidence(B)', 'Precision-Confidence(B)', 'Recall-Confidence(B)']\n",
      "curves_results: [[array([          0,    0.001001,    0.002002,    0.003003,    0.004004,    0.005005,    0.006006,    0.007007,    0.008008,    0.009009,     0.01001,    0.011011,    0.012012,    0.013013,    0.014014,    0.015015,    0.016016,    0.017017,    0.018018,    0.019019,     0.02002,    0.021021,    0.022022,    0.023023,\n",
      "          0.024024,    0.025025,    0.026026,    0.027027,    0.028028,    0.029029,     0.03003,    0.031031,    0.032032,    0.033033,    0.034034,    0.035035,    0.036036,    0.037037,    0.038038,    0.039039,     0.04004,    0.041041,    0.042042,    0.043043,    0.044044,    0.045045,    0.046046,    0.047047,\n",
      "          0.048048,    0.049049,     0.05005,    0.051051,    0.052052,    0.053053,    0.054054,    0.055055,    0.056056,    0.057057,    0.058058,    0.059059,     0.06006,    0.061061,    0.062062,    0.063063,    0.064064,    0.065065,    0.066066,    0.067067,    0.068068,    0.069069,     0.07007,    0.071071,\n",
      "          0.072072,    0.073073,    0.074074,    0.075075,    0.076076,    0.077077,    0.078078,    0.079079,     0.08008,    0.081081,    0.082082,    0.083083,    0.084084,    0.085085,    0.086086,    0.087087,    0.088088,    0.089089,     0.09009,    0.091091,    0.092092,    0.093093,    0.094094,    0.095095,\n",
      "          0.096096,    0.097097,    0.098098,    0.099099,      0.1001,      0.1011,      0.1021,      0.1031,      0.1041,     0.10511,     0.10611,     0.10711,     0.10811,     0.10911,     0.11011,     0.11111,     0.11211,     0.11311,     0.11411,     0.11512,     0.11612,     0.11712,     0.11812,     0.11912,\n",
      "           0.12012,     0.12112,     0.12212,     0.12312,     0.12412,     0.12513,     0.12613,     0.12713,     0.12813,     0.12913,     0.13013,     0.13113,     0.13213,     0.13313,     0.13413,     0.13514,     0.13614,     0.13714,     0.13814,     0.13914,     0.14014,     0.14114,     0.14214,     0.14314,\n",
      "           0.14414,     0.14515,     0.14615,     0.14715,     0.14815,     0.14915,     0.15015,     0.15115,     0.15215,     0.15315,     0.15415,     0.15516,     0.15616,     0.15716,     0.15816,     0.15916,     0.16016,     0.16116,     0.16216,     0.16316,     0.16416,     0.16517,     0.16617,     0.16717,\n",
      "           0.16817,     0.16917,     0.17017,     0.17117,     0.17217,     0.17317,     0.17417,     0.17518,     0.17618,     0.17718,     0.17818,     0.17918,     0.18018,     0.18118,     0.18218,     0.18318,     0.18418,     0.18519,     0.18619,     0.18719,     0.18819,     0.18919,     0.19019,     0.19119,\n",
      "           0.19219,     0.19319,     0.19419,      0.1952,      0.1962,      0.1972,      0.1982,      0.1992,      0.2002,      0.2012,      0.2022,      0.2032,      0.2042,     0.20521,     0.20621,     0.20721,     0.20821,     0.20921,     0.21021,     0.21121,     0.21221,     0.21321,     0.21421,     0.21522,\n",
      "           0.21622,     0.21722,     0.21822,     0.21922,     0.22022,     0.22122,     0.22222,     0.22322,     0.22422,     0.22523,     0.22623,     0.22723,     0.22823,     0.22923,     0.23023,     0.23123,     0.23223,     0.23323,     0.23423,     0.23524,     0.23624,     0.23724,     0.23824,     0.23924,\n",
      "           0.24024,     0.24124,     0.24224,     0.24324,     0.24424,     0.24525,     0.24625,     0.24725,     0.24825,     0.24925,     0.25025,     0.25125,     0.25225,     0.25325,     0.25425,     0.25526,     0.25626,     0.25726,     0.25826,     0.25926,     0.26026,     0.26126,     0.26226,     0.26326,\n",
      "           0.26426,     0.26527,     0.26627,     0.26727,     0.26827,     0.26927,     0.27027,     0.27127,     0.27227,     0.27327,     0.27427,     0.27528,     0.27628,     0.27728,     0.27828,     0.27928,     0.28028,     0.28128,     0.28228,     0.28328,     0.28428,     0.28529,     0.28629,     0.28729,\n",
      "           0.28829,     0.28929,     0.29029,     0.29129,     0.29229,     0.29329,     0.29429,      0.2953,      0.2963,      0.2973,      0.2983,      0.2993,      0.3003,      0.3013,      0.3023,      0.3033,      0.3043,     0.30531,     0.30631,     0.30731,     0.30831,     0.30931,     0.31031,     0.31131,\n",
      "           0.31231,     0.31331,     0.31431,     0.31532,     0.31632,     0.31732,     0.31832,     0.31932,     0.32032,     0.32132,     0.32232,     0.32332,     0.32432,     0.32533,     0.32633,     0.32733,     0.32833,     0.32933,     0.33033,     0.33133,     0.33233,     0.33333,     0.33433,     0.33534,\n",
      "           0.33634,     0.33734,     0.33834,     0.33934,     0.34034,     0.34134,     0.34234,     0.34334,     0.34434,     0.34535,     0.34635,     0.34735,     0.34835,     0.34935,     0.35035,     0.35135,     0.35235,     0.35335,     0.35435,     0.35536,     0.35636,     0.35736,     0.35836,     0.35936,\n",
      "           0.36036,     0.36136,     0.36236,     0.36336,     0.36436,     0.36537,     0.36637,     0.36737,     0.36837,     0.36937,     0.37037,     0.37137,     0.37237,     0.37337,     0.37437,     0.37538,     0.37638,     0.37738,     0.37838,     0.37938,     0.38038,     0.38138,     0.38238,     0.38338,\n",
      "           0.38438,     0.38539,     0.38639,     0.38739,     0.38839,     0.38939,     0.39039,     0.39139,     0.39239,     0.39339,     0.39439,      0.3954,      0.3964,      0.3974,      0.3984,      0.3994,      0.4004,      0.4014,      0.4024,      0.4034,      0.4044,     0.40541,     0.40641,     0.40741,\n",
      "           0.40841,     0.40941,     0.41041,     0.41141,     0.41241,     0.41341,     0.41441,     0.41542,     0.41642,     0.41742,     0.41842,     0.41942,     0.42042,     0.42142,     0.42242,     0.42342,     0.42442,     0.42543,     0.42643,     0.42743,     0.42843,     0.42943,     0.43043,     0.43143,\n",
      "           0.43243,     0.43343,     0.43443,     0.43544,     0.43644,     0.43744,     0.43844,     0.43944,     0.44044,     0.44144,     0.44244,     0.44344,     0.44444,     0.44545,     0.44645,     0.44745,     0.44845,     0.44945,     0.45045,     0.45145,     0.45245,     0.45345,     0.45445,     0.45546,\n",
      "           0.45646,     0.45746,     0.45846,     0.45946,     0.46046,     0.46146,     0.46246,     0.46346,     0.46446,     0.46547,     0.46647,     0.46747,     0.46847,     0.46947,     0.47047,     0.47147,     0.47247,     0.47347,     0.47447,     0.47548,     0.47648,     0.47748,     0.47848,     0.47948,\n",
      "           0.48048,     0.48148,     0.48248,     0.48348,     0.48448,     0.48549,     0.48649,     0.48749,     0.48849,     0.48949,     0.49049,     0.49149,     0.49249,     0.49349,     0.49449,      0.4955,      0.4965,      0.4975,      0.4985,      0.4995,      0.5005,      0.5015,      0.5025,      0.5035,\n",
      "            0.5045,     0.50551,     0.50651,     0.50751,     0.50851,     0.50951,     0.51051,     0.51151,     0.51251,     0.51351,     0.51451,     0.51552,     0.51652,     0.51752,     0.51852,     0.51952,     0.52052,     0.52152,     0.52252,     0.52352,     0.52452,     0.52553,     0.52653,     0.52753,\n",
      "           0.52853,     0.52953,     0.53053,     0.53153,     0.53253,     0.53353,     0.53453,     0.53554,     0.53654,     0.53754,     0.53854,     0.53954,     0.54054,     0.54154,     0.54254,     0.54354,     0.54454,     0.54555,     0.54655,     0.54755,     0.54855,     0.54955,     0.55055,     0.55155,\n",
      "           0.55255,     0.55355,     0.55455,     0.55556,     0.55656,     0.55756,     0.55856,     0.55956,     0.56056,     0.56156,     0.56256,     0.56356,     0.56456,     0.56557,     0.56657,     0.56757,     0.56857,     0.56957,     0.57057,     0.57157,     0.57257,     0.57357,     0.57457,     0.57558,\n",
      "           0.57658,     0.57758,     0.57858,     0.57958,     0.58058,     0.58158,     0.58258,     0.58358,     0.58458,     0.58559,     0.58659,     0.58759,     0.58859,     0.58959,     0.59059,     0.59159,     0.59259,     0.59359,     0.59459,      0.5956,      0.5966,      0.5976,      0.5986,      0.5996,\n",
      "            0.6006,      0.6016,      0.6026,      0.6036,      0.6046,     0.60561,     0.60661,     0.60761,     0.60861,     0.60961,     0.61061,     0.61161,     0.61261,     0.61361,     0.61461,     0.61562,     0.61662,     0.61762,     0.61862,     0.61962,     0.62062,     0.62162,     0.62262,     0.62362,\n",
      "           0.62462,     0.62563,     0.62663,     0.62763,     0.62863,     0.62963,     0.63063,     0.63163,     0.63263,     0.63363,     0.63463,     0.63564,     0.63664,     0.63764,     0.63864,     0.63964,     0.64064,     0.64164,     0.64264,     0.64364,     0.64464,     0.64565,     0.64665,     0.64765,\n",
      "           0.64865,     0.64965,     0.65065,     0.65165,     0.65265,     0.65365,     0.65465,     0.65566,     0.65666,     0.65766,     0.65866,     0.65966,     0.66066,     0.66166,     0.66266,     0.66366,     0.66466,     0.66567,     0.66667,     0.66767,     0.66867,     0.66967,     0.67067,     0.67167,\n",
      "           0.67267,     0.67367,     0.67467,     0.67568,     0.67668,     0.67768,     0.67868,     0.67968,     0.68068,     0.68168,     0.68268,     0.68368,     0.68468,     0.68569,     0.68669,     0.68769,     0.68869,     0.68969,     0.69069,     0.69169,     0.69269,     0.69369,     0.69469,      0.6957,\n",
      "            0.6967,      0.6977,      0.6987,      0.6997,      0.7007,      0.7017,      0.7027,      0.7037,      0.7047,     0.70571,     0.70671,     0.70771,     0.70871,     0.70971,     0.71071,     0.71171,     0.71271,     0.71371,     0.71471,     0.71572,     0.71672,     0.71772,     0.71872,     0.71972,\n",
      "           0.72072,     0.72172,     0.72272,     0.72372,     0.72472,     0.72573,     0.72673,     0.72773,     0.72873,     0.72973,     0.73073,     0.73173,     0.73273,     0.73373,     0.73473,     0.73574,     0.73674,     0.73774,     0.73874,     0.73974,     0.74074,     0.74174,     0.74274,     0.74374,\n",
      "           0.74474,     0.74575,     0.74675,     0.74775,     0.74875,     0.74975,     0.75075,     0.75175,     0.75275,     0.75375,     0.75475,     0.75576,     0.75676,     0.75776,     0.75876,     0.75976,     0.76076,     0.76176,     0.76276,     0.76376,     0.76476,     0.76577,     0.76677,     0.76777,\n",
      "           0.76877,     0.76977,     0.77077,     0.77177,     0.77277,     0.77377,     0.77477,     0.77578,     0.77678,     0.77778,     0.77878,     0.77978,     0.78078,     0.78178,     0.78278,     0.78378,     0.78478,     0.78579,     0.78679,     0.78779,     0.78879,     0.78979,     0.79079,     0.79179,\n",
      "           0.79279,     0.79379,     0.79479,      0.7958,      0.7968,      0.7978,      0.7988,      0.7998,      0.8008,      0.8018,      0.8028,      0.8038,      0.8048,     0.80581,     0.80681,     0.80781,     0.80881,     0.80981,     0.81081,     0.81181,     0.81281,     0.81381,     0.81481,     0.81582,\n",
      "           0.81682,     0.81782,     0.81882,     0.81982,     0.82082,     0.82182,     0.82282,     0.82382,     0.82482,     0.82583,     0.82683,     0.82783,     0.82883,     0.82983,     0.83083,     0.83183,     0.83283,     0.83383,     0.83483,     0.83584,     0.83684,     0.83784,     0.83884,     0.83984,\n",
      "           0.84084,     0.84184,     0.84284,     0.84384,     0.84484,     0.84585,     0.84685,     0.84785,     0.84885,     0.84985,     0.85085,     0.85185,     0.85285,     0.85385,     0.85485,     0.85586,     0.85686,     0.85786,     0.85886,     0.85986,     0.86086,     0.86186,     0.86286,     0.86386,\n",
      "           0.86486,     0.86587,     0.86687,     0.86787,     0.86887,     0.86987,     0.87087,     0.87187,     0.87287,     0.87387,     0.87487,     0.87588,     0.87688,     0.87788,     0.87888,     0.87988,     0.88088,     0.88188,     0.88288,     0.88388,     0.88488,     0.88589,     0.88689,     0.88789,\n",
      "           0.88889,     0.88989,     0.89089,     0.89189,     0.89289,     0.89389,     0.89489,      0.8959,      0.8969,      0.8979,      0.8989,      0.8999,      0.9009,      0.9019,      0.9029,      0.9039,      0.9049,     0.90591,     0.90691,     0.90791,     0.90891,     0.90991,     0.91091,     0.91191,\n",
      "           0.91291,     0.91391,     0.91491,     0.91592,     0.91692,     0.91792,     0.91892,     0.91992,     0.92092,     0.92192,     0.92292,     0.92392,     0.92492,     0.92593,     0.92693,     0.92793,     0.92893,     0.92993,     0.93093,     0.93193,     0.93293,     0.93393,     0.93493,     0.93594,\n",
      "           0.93694,     0.93794,     0.93894,     0.93994,     0.94094,     0.94194,     0.94294,     0.94394,     0.94494,     0.94595,     0.94695,     0.94795,     0.94895,     0.94995,     0.95095,     0.95195,     0.95295,     0.95395,     0.95495,     0.95596,     0.95696,     0.95796,     0.95896,     0.95996,\n",
      "           0.96096,     0.96196,     0.96296,     0.96396,     0.96496,     0.96597,     0.96697,     0.96797,     0.96897,     0.96997,     0.97097,     0.97197,     0.97297,     0.97397,     0.97497,     0.97598,     0.97698,     0.97798,     0.97898,     0.97998,     0.98098,     0.98198,     0.98298,     0.98398,\n",
      "           0.98498,     0.98599,     0.98699,     0.98799,     0.98899,     0.98999,     0.99099,     0.99199,     0.99299,     0.99399,     0.99499,       0.996,       0.997,       0.998,       0.999,           1]), array([[          1,           1,           1,           1,           1,           1,           1,           1,           1,           1,           1,           1,           1,           1,           1,           1,           1,           1,           1,           1,           1,           1,           1,\n",
      "                  1,           1,           1,           1,           1,           1,           1,           1,           1,           1,           1,           1,           1,           1,           1,           1,           1,           1,           1,           1,           1,           1,           1,\n",
      "                  1,           1,           1,           1,           1,           1,           1,           1,           1,           1,           1,           1,           1,           1,           1,           1,           1,           1,           1,           1,           1,           1,           1,\n",
      "                  1,           1,           1,           1,           1,           1,           1,           1,           1,           1,           1,           1,           1,           1,           1,           1,           1,           1,           1,           1,           1,           1,           1,\n",
      "                  1,           1,           1,           1,           1,           1,           1,           1,           1,           1,           1,           1,           1,           1,           1,           1,           1,           1,           1,           1,           1,           1,           1,\n",
      "                  1,           1,           1,           1,           1,           1,           1,           1,           1,           1,           1,           1,     0.95238,     0.95238,     0.95238,     0.95238,     0.95238,     0.95238,     0.95238,     0.95238,     0.95238,     0.95238,     0.95238,\n",
      "            0.95238,     0.95238,     0.95238,     0.95238,     0.95238,     0.95238,     0.95238,     0.95238,     0.95238,     0.95238,     0.95238,     0.95238,     0.95238,     0.95238,     0.95238,     0.95238,     0.95238,     0.95238,     0.95238,     0.95238,     0.95238,     0.95238,     0.95238,\n",
      "            0.95238,     0.95238,     0.95238,     0.95238,     0.95238,     0.95238,     0.95238,     0.95238,     0.95238,     0.95238,     0.95238,     0.95238,     0.95238,     0.95238,     0.95238,     0.95238,     0.95238,     0.95238,     0.95238,     0.95238,     0.95238,     0.95238,     0.95238,\n",
      "            0.95238,     0.95238,     0.95238,     0.95238,     0.95238,     0.95238,     0.95238,     0.95238,     0.95238,     0.95238,     0.95238,     0.95238,     0.95238,     0.95238,     0.95238,     0.95238,     0.95238,     0.95238,     0.95238,     0.95238,     0.95238,     0.95238,     0.95238,\n",
      "            0.95238,     0.95238,     0.95238,     0.95238,     0.95238,     0.95238,     0.95238,     0.95238,     0.95238,     0.95238,     0.95238,     0.95238,     0.95238,     0.95238,     0.95238,     0.95238,     0.95238,     0.95238,     0.95238,     0.95238,     0.95238,     0.95238,     0.95238,\n",
      "            0.95238,     0.95238,     0.95238,     0.95238,     0.95238,     0.95238,     0.95238,     0.95238,     0.95238,     0.95238,     0.95238,     0.95238,     0.95238,     0.95238,     0.95238,     0.95238,     0.95238,     0.95238,     0.95238,     0.95238,     0.95238,     0.95238,     0.95238,\n",
      "            0.93478,     0.93478,     0.93478,     0.93478,     0.93478,     0.93478,     0.93478,     0.93478,     0.93478,     0.93478,     0.93478,     0.93478,     0.93478,     0.93478,     0.93478,     0.93478,     0.93478,     0.93478,     0.93478,     0.92727,     0.92727,     0.92727,     0.92727,\n",
      "            0.92727,     0.92727,     0.92727,     0.92727,     0.92727,     0.92727,     0.92727,     0.92727,     0.92727,     0.92727,     0.92727,     0.92727,     0.92727,     0.92727,     0.92727,     0.92727,     0.92727,     0.92727,     0.92727,     0.92727,     0.92727,     0.92727,     0.92727,\n",
      "            0.92727,     0.92727,     0.92727,     0.92727,     0.92727,     0.92727,     0.92727,     0.92727,     0.92727,     0.92727,     0.92727,     0.92727,     0.92727,     0.92727,     0.92727,     0.92727,     0.92727,     0.92727,     0.92727,     0.92727,     0.92727,     0.92727,     0.92727,\n",
      "            0.92727,     0.92308,     0.92308,     0.92308,     0.92308,     0.92308,     0.92308,     0.92308,     0.92308,     0.92308,     0.92308,     0.92308,     0.92308,     0.92308,     0.92308,     0.92308,     0.92308,     0.92308,     0.92308,     0.92308,     0.92308,     0.92308,     0.92308,\n",
      "            0.92308,     0.92308,     0.92308,     0.92308,     0.92308,     0.92308,     0.92308,     0.92308,     0.92308,     0.92308,     0.92308,     0.92308,     0.92308,     0.92308,     0.92308,     0.92308,     0.92308,     0.92308,     0.92308,     0.92308,     0.92308,     0.92308,     0.92308,\n",
      "            0.92308,     0.92308,     0.92308,     0.92308,     0.92308,     0.92308,     0.92308,     0.92308,     0.92308,     0.92308,     0.92308,     0.92308,     0.91304,     0.91304,     0.91304,     0.91304,     0.91304,     0.91304,     0.91304,     0.91304,     0.91304,     0.91304,     0.91304,\n",
      "            0.91304,     0.91304,     0.91304,     0.91304,     0.91304,     0.91304,     0.91304,     0.91304,      0.9125,      0.9125,      0.9125,      0.9125,      0.9125,      0.9125,      0.9125,      0.9125,      0.9125,      0.9125,      0.9125,      0.9125,      0.9125,      0.9125,      0.9125,\n",
      "             0.9125,      0.9125,      0.9125,      0.9125,      0.9125,      0.9125,      0.9125,      0.9125,      0.9125,      0.9125,      0.9125,      0.9125,      0.9125,      0.9125,      0.9125,      0.9125,      0.9125,      0.9125,      0.9125,      0.9125,      0.9125,      0.9125,      0.9125,\n",
      "             0.9125,      0.9125,      0.9125,      0.9125,      0.9125,      0.9125,      0.9125,      0.9125,      0.9125,      0.9125,      0.9125,      0.9125,      0.9125,      0.9125,      0.9125,      0.9125,      0.9125,      0.9125,      0.9125,      0.9125,      0.9125,      0.9125,      0.9125,\n",
      "             0.9125,      0.9125,     0.90476,     0.90476,     0.90476,     0.90476,     0.90476,     0.90476,     0.90476,     0.90476,     0.90476,     0.90476,     0.90476,     0.90476,     0.90476,     0.90476,     0.90476,     0.90476,     0.90476,     0.90476,     0.90476,     0.89655,     0.89655,\n",
      "            0.89655,     0.89655,     0.89655,     0.89655,     0.89655,     0.89655,     0.89655,     0.89655,     0.89655,     0.89655,     0.89655,     0.89247,     0.89247,     0.89247,     0.89247,     0.89247,     0.89247,     0.89247,     0.89247,     0.89247,     0.89247,     0.89247,     0.89247,\n",
      "            0.89247,     0.89247,     0.89247,     0.89247,     0.89247,     0.89247,     0.89247,     0.89247,     0.89247,     0.89247,     0.89247,     0.89247,     0.89247,     0.89247,     0.89247,     0.89247,     0.89247,     0.89247,     0.89247,     0.89216,     0.89216,     0.89216,     0.89216,\n",
      "            0.89216,     0.89216,     0.89216,     0.89216,     0.89216,     0.89216,     0.89216,     0.89216,     0.89216,     0.89216,     0.89216,     0.89216,     0.89216,     0.89216,     0.89216,     0.89216,     0.89216,     0.89216,     0.89216,     0.89216,     0.89216,     0.89216,     0.89216,\n",
      "            0.89216,     0.89216,     0.89216,     0.89216,     0.89216,     0.89216,     0.89216,     0.89216,     0.89216,     0.89216,     0.89216,     0.89216,     0.89216,     0.89216,     0.89216,     0.89216,     0.89216,     0.89216,     0.89216,     0.89216,     0.89216,     0.89216,     0.89216,\n",
      "            0.89216,     0.88462,     0.88462,     0.88462,     0.88462,     0.88462,     0.88462,     0.87736,     0.87736,     0.87736,     0.87736,     0.87736,     0.87736,     0.87736,     0.87156,     0.87156,     0.87156,     0.87156,     0.87156,     0.87156,     0.87156,     0.87156,     0.87156,\n",
      "            0.87156,     0.87156,     0.87156,     0.85088,     0.85088,     0.85088,     0.85088,     0.85088,     0.85088,     0.85088,     0.85088,     0.85088,     0.85088,     0.85088,     0.85088,     0.85088,     0.84615,     0.84615,     0.84615,     0.84615,     0.84615,     0.84615,     0.84615,\n",
      "            0.84615,     0.84615,     0.84615,     0.84615,     0.84615,     0.84034,     0.84034,     0.84034,     0.84034,     0.84034,     0.84034,     0.84034,     0.81102,     0.81102,     0.81102,     0.81102,     0.81102,     0.81102,     0.81102,     0.81102,     0.81102,     0.81102,     0.81102,\n",
      "            0.81102,     0.81102,     0.81102,     0.81102,     0.81102,     0.81102,     0.81102,     0.81102,     0.78195,     0.78195,     0.78195,     0.78195,     0.78195,     0.78195,     0.77372,     0.77372,     0.77372,     0.77372,     0.77372,     0.77372,     0.77372,     0.77372,     0.77372,\n",
      "            0.77372,     0.77372,     0.77372,     0.77372,     0.74825,     0.74825,     0.74825,     0.74825,     0.74825,     0.74825,     0.72483,     0.72483,     0.72483,     0.72483,     0.72483,     0.72483,     0.71242,     0.71242,     0.71242,     0.71242,     0.71242,     0.71242,     0.71242,\n",
      "            0.70968,     0.70968,     0.70968,     0.70968,     0.70968,     0.70968,     0.70886,     0.70886,     0.70886,     0.70886,     0.70886,     0.70886,     0.70886,     0.70886,     0.70886,     0.70886,     0.70886,     0.70886,     0.70886,     0.70186,     0.70186,     0.70186,     0.70186,\n",
      "            0.70186,     0.70186,     0.65517,     0.65517,     0.65517,     0.65517,     0.65517,     0.65517,     0.65169,     0.65169,     0.65169,     0.65169,     0.65169,     0.65169,     0.65169,     0.65169,     0.65169,     0.65169,     0.65169,     0.65169,     0.65169,     0.63934,     0.63934,\n",
      "            0.63934,     0.63934,     0.63934,     0.63934,     0.54378,     0.54378,     0.54378,     0.54378,     0.54378,     0.54378,     0.54378,     0.54338,     0.54338,     0.54338,     0.54338,     0.54338,     0.54338,     0.54054,     0.54054,     0.54054,     0.54054,     0.54054,     0.54054,\n",
      "            0.52609,     0.52609,     0.52609,     0.52609,     0.52609,     0.52609,     0.52609,     0.48221,     0.48221,     0.48221,     0.48221,     0.48221,     0.48221,      0.4786,      0.4786,      0.4786,      0.4786,      0.4786,      0.4786,      0.4697,      0.4697,      0.4697,      0.4697,\n",
      "             0.4697,      0.4697,      0.4697,     0.46468,     0.46468,     0.46468,     0.46468,     0.46468,     0.46468,         0.4,         0.4,         0.4,         0.4,         0.4,         0.4,     0.38024,     0.38024,     0.38024,     0.38024,     0.38024,     0.38024,     0.28477,     0.28477,\n",
      "            0.28477,     0.28477,     0.28477,     0.28477,     0.28477,     0.28477,     0.28477,     0.28477,     0.28477,     0.28477,     0.28477,     0.23853,     0.23853,     0.23853,     0.23853,     0.23853,     0.23853,     0.19152,     0.19152,     0.19152,     0.19152,     0.19152,     0.19152,\n",
      "            0.19152,     0.18565,     0.18565,     0.18565,     0.18565,     0.18565,     0.18565,     0.12559,     0.12559,     0.12559,     0.12559,     0.12559,     0.12559,     0.11582,     0.11582,     0.11582,     0.11582,     0.11582,     0.11582,     0.11582,     0.10369,     0.10369,     0.10369,\n",
      "            0.10369,     0.10369,     0.10369,    0.070808,     0.07032,    0.069832,    0.069343,    0.068855,    0.068367,    0.067878,     0.06739,    0.066902,    0.066413,    0.065925,    0.065437,    0.064948,     0.06446,    0.063972,    0.063483,    0.062995,    0.062507,    0.062018,     0.06153,\n",
      "           0.061042,    0.060553,    0.060065,    0.059577,    0.059088,      0.0586,    0.058112,    0.057623,    0.057135,    0.056647,    0.056158,     0.05567,    0.055182,    0.054693,    0.054205,    0.053717,    0.053228,     0.05274,    0.052252,    0.051763,    0.051275,    0.050787,    0.050298,\n",
      "            0.04981,    0.049322,    0.048833,    0.048345,    0.047857,    0.047368,     0.04688,    0.046392,    0.045903,    0.045415,    0.044927,    0.044438,     0.04395,    0.043462,    0.042973,    0.042485,    0.041997,    0.041508,     0.04102,    0.040532,    0.040043,    0.039555,    0.039067,\n",
      "           0.038578,     0.03809,    0.037602,    0.037113,    0.036625,    0.036137,    0.035648,     0.03516,    0.034672,    0.034183,    0.033695,    0.033207,    0.032718,     0.03223,    0.031742,    0.031253,    0.030765,    0.030277,    0.029788,      0.0293,    0.028812,    0.028323,    0.027835,\n",
      "           0.027347,    0.026858,     0.02637,    0.025882,    0.025393,    0.024905,    0.024417,    0.023928,     0.02344,    0.022952,    0.022463,    0.021975,    0.021487,    0.020998,     0.02051,    0.020022,    0.019533,    0.019045,    0.018557,    0.018068,     0.01758,    0.017092,    0.016603,\n",
      "           0.016115,    0.015627,    0.015138,     0.01465,    0.014162,    0.013673,    0.013185,    0.012697,    0.012208,     0.01172,    0.011232,    0.010743,    0.010255,   0.0097666,   0.0092783,     0.00879,   0.0083016,   0.0078133,    0.007325,   0.0068367,   0.0063483,     0.00586,   0.0053717,\n",
      "          0.0048833,    0.004395,   0.0039067,   0.0034183,     0.00293,   0.0024417,   0.0019533,    0.001465,  0.00097666,  0.00048833,           0]]), 'Recall', 'Precision'], [array([          0,    0.001001,    0.002002,    0.003003,    0.004004,    0.005005,    0.006006,    0.007007,    0.008008,    0.009009,     0.01001,    0.011011,    0.012012,    0.013013,    0.014014,    0.015015,    0.016016,    0.017017,    0.018018,    0.019019,     0.02002,    0.021021,    0.022022,    0.023023,\n",
      "          0.024024,    0.025025,    0.026026,    0.027027,    0.028028,    0.029029,     0.03003,    0.031031,    0.032032,    0.033033,    0.034034,    0.035035,    0.036036,    0.037037,    0.038038,    0.039039,     0.04004,    0.041041,    0.042042,    0.043043,    0.044044,    0.045045,    0.046046,    0.047047,\n",
      "          0.048048,    0.049049,     0.05005,    0.051051,    0.052052,    0.053053,    0.054054,    0.055055,    0.056056,    0.057057,    0.058058,    0.059059,     0.06006,    0.061061,    0.062062,    0.063063,    0.064064,    0.065065,    0.066066,    0.067067,    0.068068,    0.069069,     0.07007,    0.071071,\n",
      "          0.072072,    0.073073,    0.074074,    0.075075,    0.076076,    0.077077,    0.078078,    0.079079,     0.08008,    0.081081,    0.082082,    0.083083,    0.084084,    0.085085,    0.086086,    0.087087,    0.088088,    0.089089,     0.09009,    0.091091,    0.092092,    0.093093,    0.094094,    0.095095,\n",
      "          0.096096,    0.097097,    0.098098,    0.099099,      0.1001,      0.1011,      0.1021,      0.1031,      0.1041,     0.10511,     0.10611,     0.10711,     0.10811,     0.10911,     0.11011,     0.11111,     0.11211,     0.11311,     0.11411,     0.11512,     0.11612,     0.11712,     0.11812,     0.11912,\n",
      "           0.12012,     0.12112,     0.12212,     0.12312,     0.12412,     0.12513,     0.12613,     0.12713,     0.12813,     0.12913,     0.13013,     0.13113,     0.13213,     0.13313,     0.13413,     0.13514,     0.13614,     0.13714,     0.13814,     0.13914,     0.14014,     0.14114,     0.14214,     0.14314,\n",
      "           0.14414,     0.14515,     0.14615,     0.14715,     0.14815,     0.14915,     0.15015,     0.15115,     0.15215,     0.15315,     0.15415,     0.15516,     0.15616,     0.15716,     0.15816,     0.15916,     0.16016,     0.16116,     0.16216,     0.16316,     0.16416,     0.16517,     0.16617,     0.16717,\n",
      "           0.16817,     0.16917,     0.17017,     0.17117,     0.17217,     0.17317,     0.17417,     0.17518,     0.17618,     0.17718,     0.17818,     0.17918,     0.18018,     0.18118,     0.18218,     0.18318,     0.18418,     0.18519,     0.18619,     0.18719,     0.18819,     0.18919,     0.19019,     0.19119,\n",
      "           0.19219,     0.19319,     0.19419,      0.1952,      0.1962,      0.1972,      0.1982,      0.1992,      0.2002,      0.2012,      0.2022,      0.2032,      0.2042,     0.20521,     0.20621,     0.20721,     0.20821,     0.20921,     0.21021,     0.21121,     0.21221,     0.21321,     0.21421,     0.21522,\n",
      "           0.21622,     0.21722,     0.21822,     0.21922,     0.22022,     0.22122,     0.22222,     0.22322,     0.22422,     0.22523,     0.22623,     0.22723,     0.22823,     0.22923,     0.23023,     0.23123,     0.23223,     0.23323,     0.23423,     0.23524,     0.23624,     0.23724,     0.23824,     0.23924,\n",
      "           0.24024,     0.24124,     0.24224,     0.24324,     0.24424,     0.24525,     0.24625,     0.24725,     0.24825,     0.24925,     0.25025,     0.25125,     0.25225,     0.25325,     0.25425,     0.25526,     0.25626,     0.25726,     0.25826,     0.25926,     0.26026,     0.26126,     0.26226,     0.26326,\n",
      "           0.26426,     0.26527,     0.26627,     0.26727,     0.26827,     0.26927,     0.27027,     0.27127,     0.27227,     0.27327,     0.27427,     0.27528,     0.27628,     0.27728,     0.27828,     0.27928,     0.28028,     0.28128,     0.28228,     0.28328,     0.28428,     0.28529,     0.28629,     0.28729,\n",
      "           0.28829,     0.28929,     0.29029,     0.29129,     0.29229,     0.29329,     0.29429,      0.2953,      0.2963,      0.2973,      0.2983,      0.2993,      0.3003,      0.3013,      0.3023,      0.3033,      0.3043,     0.30531,     0.30631,     0.30731,     0.30831,     0.30931,     0.31031,     0.31131,\n",
      "           0.31231,     0.31331,     0.31431,     0.31532,     0.31632,     0.31732,     0.31832,     0.31932,     0.32032,     0.32132,     0.32232,     0.32332,     0.32432,     0.32533,     0.32633,     0.32733,     0.32833,     0.32933,     0.33033,     0.33133,     0.33233,     0.33333,     0.33433,     0.33534,\n",
      "           0.33634,     0.33734,     0.33834,     0.33934,     0.34034,     0.34134,     0.34234,     0.34334,     0.34434,     0.34535,     0.34635,     0.34735,     0.34835,     0.34935,     0.35035,     0.35135,     0.35235,     0.35335,     0.35435,     0.35536,     0.35636,     0.35736,     0.35836,     0.35936,\n",
      "           0.36036,     0.36136,     0.36236,     0.36336,     0.36436,     0.36537,     0.36637,     0.36737,     0.36837,     0.36937,     0.37037,     0.37137,     0.37237,     0.37337,     0.37437,     0.37538,     0.37638,     0.37738,     0.37838,     0.37938,     0.38038,     0.38138,     0.38238,     0.38338,\n",
      "           0.38438,     0.38539,     0.38639,     0.38739,     0.38839,     0.38939,     0.39039,     0.39139,     0.39239,     0.39339,     0.39439,      0.3954,      0.3964,      0.3974,      0.3984,      0.3994,      0.4004,      0.4014,      0.4024,      0.4034,      0.4044,     0.40541,     0.40641,     0.40741,\n",
      "           0.40841,     0.40941,     0.41041,     0.41141,     0.41241,     0.41341,     0.41441,     0.41542,     0.41642,     0.41742,     0.41842,     0.41942,     0.42042,     0.42142,     0.42242,     0.42342,     0.42442,     0.42543,     0.42643,     0.42743,     0.42843,     0.42943,     0.43043,     0.43143,\n",
      "           0.43243,     0.43343,     0.43443,     0.43544,     0.43644,     0.43744,     0.43844,     0.43944,     0.44044,     0.44144,     0.44244,     0.44344,     0.44444,     0.44545,     0.44645,     0.44745,     0.44845,     0.44945,     0.45045,     0.45145,     0.45245,     0.45345,     0.45445,     0.45546,\n",
      "           0.45646,     0.45746,     0.45846,     0.45946,     0.46046,     0.46146,     0.46246,     0.46346,     0.46446,     0.46547,     0.46647,     0.46747,     0.46847,     0.46947,     0.47047,     0.47147,     0.47247,     0.47347,     0.47447,     0.47548,     0.47648,     0.47748,     0.47848,     0.47948,\n",
      "           0.48048,     0.48148,     0.48248,     0.48348,     0.48448,     0.48549,     0.48649,     0.48749,     0.48849,     0.48949,     0.49049,     0.49149,     0.49249,     0.49349,     0.49449,      0.4955,      0.4965,      0.4975,      0.4985,      0.4995,      0.5005,      0.5015,      0.5025,      0.5035,\n",
      "            0.5045,     0.50551,     0.50651,     0.50751,     0.50851,     0.50951,     0.51051,     0.51151,     0.51251,     0.51351,     0.51451,     0.51552,     0.51652,     0.51752,     0.51852,     0.51952,     0.52052,     0.52152,     0.52252,     0.52352,     0.52452,     0.52553,     0.52653,     0.52753,\n",
      "           0.52853,     0.52953,     0.53053,     0.53153,     0.53253,     0.53353,     0.53453,     0.53554,     0.53654,     0.53754,     0.53854,     0.53954,     0.54054,     0.54154,     0.54254,     0.54354,     0.54454,     0.54555,     0.54655,     0.54755,     0.54855,     0.54955,     0.55055,     0.55155,\n",
      "           0.55255,     0.55355,     0.55455,     0.55556,     0.55656,     0.55756,     0.55856,     0.55956,     0.56056,     0.56156,     0.56256,     0.56356,     0.56456,     0.56557,     0.56657,     0.56757,     0.56857,     0.56957,     0.57057,     0.57157,     0.57257,     0.57357,     0.57457,     0.57558,\n",
      "           0.57658,     0.57758,     0.57858,     0.57958,     0.58058,     0.58158,     0.58258,     0.58358,     0.58458,     0.58559,     0.58659,     0.58759,     0.58859,     0.58959,     0.59059,     0.59159,     0.59259,     0.59359,     0.59459,      0.5956,      0.5966,      0.5976,      0.5986,      0.5996,\n",
      "            0.6006,      0.6016,      0.6026,      0.6036,      0.6046,     0.60561,     0.60661,     0.60761,     0.60861,     0.60961,     0.61061,     0.61161,     0.61261,     0.61361,     0.61461,     0.61562,     0.61662,     0.61762,     0.61862,     0.61962,     0.62062,     0.62162,     0.62262,     0.62362,\n",
      "           0.62462,     0.62563,     0.62663,     0.62763,     0.62863,     0.62963,     0.63063,     0.63163,     0.63263,     0.63363,     0.63463,     0.63564,     0.63664,     0.63764,     0.63864,     0.63964,     0.64064,     0.64164,     0.64264,     0.64364,     0.64464,     0.64565,     0.64665,     0.64765,\n",
      "           0.64865,     0.64965,     0.65065,     0.65165,     0.65265,     0.65365,     0.65465,     0.65566,     0.65666,     0.65766,     0.65866,     0.65966,     0.66066,     0.66166,     0.66266,     0.66366,     0.66466,     0.66567,     0.66667,     0.66767,     0.66867,     0.66967,     0.67067,     0.67167,\n",
      "           0.67267,     0.67367,     0.67467,     0.67568,     0.67668,     0.67768,     0.67868,     0.67968,     0.68068,     0.68168,     0.68268,     0.68368,     0.68468,     0.68569,     0.68669,     0.68769,     0.68869,     0.68969,     0.69069,     0.69169,     0.69269,     0.69369,     0.69469,      0.6957,\n",
      "            0.6967,      0.6977,      0.6987,      0.6997,      0.7007,      0.7017,      0.7027,      0.7037,      0.7047,     0.70571,     0.70671,     0.70771,     0.70871,     0.70971,     0.71071,     0.71171,     0.71271,     0.71371,     0.71471,     0.71572,     0.71672,     0.71772,     0.71872,     0.71972,\n",
      "           0.72072,     0.72172,     0.72272,     0.72372,     0.72472,     0.72573,     0.72673,     0.72773,     0.72873,     0.72973,     0.73073,     0.73173,     0.73273,     0.73373,     0.73473,     0.73574,     0.73674,     0.73774,     0.73874,     0.73974,     0.74074,     0.74174,     0.74274,     0.74374,\n",
      "           0.74474,     0.74575,     0.74675,     0.74775,     0.74875,     0.74975,     0.75075,     0.75175,     0.75275,     0.75375,     0.75475,     0.75576,     0.75676,     0.75776,     0.75876,     0.75976,     0.76076,     0.76176,     0.76276,     0.76376,     0.76476,     0.76577,     0.76677,     0.76777,\n",
      "           0.76877,     0.76977,     0.77077,     0.77177,     0.77277,     0.77377,     0.77477,     0.77578,     0.77678,     0.77778,     0.77878,     0.77978,     0.78078,     0.78178,     0.78278,     0.78378,     0.78478,     0.78579,     0.78679,     0.78779,     0.78879,     0.78979,     0.79079,     0.79179,\n",
      "           0.79279,     0.79379,     0.79479,      0.7958,      0.7968,      0.7978,      0.7988,      0.7998,      0.8008,      0.8018,      0.8028,      0.8038,      0.8048,     0.80581,     0.80681,     0.80781,     0.80881,     0.80981,     0.81081,     0.81181,     0.81281,     0.81381,     0.81481,     0.81582,\n",
      "           0.81682,     0.81782,     0.81882,     0.81982,     0.82082,     0.82182,     0.82282,     0.82382,     0.82482,     0.82583,     0.82683,     0.82783,     0.82883,     0.82983,     0.83083,     0.83183,     0.83283,     0.83383,     0.83483,     0.83584,     0.83684,     0.83784,     0.83884,     0.83984,\n",
      "           0.84084,     0.84184,     0.84284,     0.84384,     0.84484,     0.84585,     0.84685,     0.84785,     0.84885,     0.84985,     0.85085,     0.85185,     0.85285,     0.85385,     0.85485,     0.85586,     0.85686,     0.85786,     0.85886,     0.85986,     0.86086,     0.86186,     0.86286,     0.86386,\n",
      "           0.86486,     0.86587,     0.86687,     0.86787,     0.86887,     0.86987,     0.87087,     0.87187,     0.87287,     0.87387,     0.87487,     0.87588,     0.87688,     0.87788,     0.87888,     0.87988,     0.88088,     0.88188,     0.88288,     0.88388,     0.88488,     0.88589,     0.88689,     0.88789,\n",
      "           0.88889,     0.88989,     0.89089,     0.89189,     0.89289,     0.89389,     0.89489,      0.8959,      0.8969,      0.8979,      0.8989,      0.8999,      0.9009,      0.9019,      0.9029,      0.9039,      0.9049,     0.90591,     0.90691,     0.90791,     0.90891,     0.90991,     0.91091,     0.91191,\n",
      "           0.91291,     0.91391,     0.91491,     0.91592,     0.91692,     0.91792,     0.91892,     0.91992,     0.92092,     0.92192,     0.92292,     0.92392,     0.92492,     0.92593,     0.92693,     0.92793,     0.92893,     0.92993,     0.93093,     0.93193,     0.93293,     0.93393,     0.93493,     0.93594,\n",
      "           0.93694,     0.93794,     0.93894,     0.93994,     0.94094,     0.94194,     0.94294,     0.94394,     0.94494,     0.94595,     0.94695,     0.94795,     0.94895,     0.94995,     0.95095,     0.95195,     0.95295,     0.95395,     0.95495,     0.95596,     0.95696,     0.95796,     0.95896,     0.95996,\n",
      "           0.96096,     0.96196,     0.96296,     0.96396,     0.96496,     0.96597,     0.96697,     0.96797,     0.96897,     0.96997,     0.97097,     0.97197,     0.97297,     0.97397,     0.97497,     0.97598,     0.97698,     0.97798,     0.97898,     0.97998,     0.98098,     0.98198,     0.98298,     0.98398,\n",
      "           0.98498,     0.98599,     0.98699,     0.98799,     0.98899,     0.98999,     0.99099,     0.99199,     0.99299,     0.99399,     0.99499,       0.996,       0.997,       0.998,       0.999,           1]), array([[    0.13113,     0.13114,     0.18465,     0.22089,     0.24925,     0.26955,     0.28626,     0.30653,     0.31504,     0.33046,     0.34613,     0.35686,     0.36524,     0.37351,     0.38081,     0.38813,      0.3945,     0.40003,     0.40462,     0.41275,     0.41688,     0.42016,     0.42487,\n",
      "            0.43197,     0.43835,     0.44097,     0.44715,     0.45086,     0.45633,     0.45985,     0.46372,     0.47037,     0.47196,     0.47452,     0.47647,     0.48147,     0.48461,     0.48849,     0.49288,     0.49905,     0.49981,     0.50298,     0.50424,     0.50608,     0.51145,      0.5128,\n",
      "            0.51557,     0.51418,     0.51655,     0.51827,     0.52096,     0.52161,     0.52433,     0.52656,     0.52901,     0.53209,     0.53095,     0.53379,     0.53486,     0.53581,     0.53828,     0.54245,     0.54641,     0.54738,     0.54814,      0.5493,      0.5515,     0.55564,     0.55612,\n",
      "             0.5566,     0.55731,     0.55813,     0.55872,     0.55931,      0.5601,     0.56075,     0.56121,     0.56168,     0.56593,     0.56776,      0.5698,     0.57046,     0.57322,     0.57415,     0.57496,      0.5758,     0.57875,     0.57903,     0.57932,      0.5796,     0.57988,     0.58069,\n",
      "             0.5816,     0.58198,     0.58236,     0.58274,     0.58345,     0.58239,     0.58268,     0.58297,     0.58326,     0.58374,     0.58539,     0.58622,     0.58721,      0.5852,     0.58586,     0.58667,     0.58768,     0.58885,     0.58988,     0.59075,     0.59267,     0.59305,     0.59173,\n",
      "            0.59221,     0.59269,     0.59334,      0.5947,     0.59488,     0.59507,     0.59525,     0.59543,     0.59561,      0.5958,     0.59598,     0.59768,     0.59801,     0.59835,     0.59868,     0.59906,     0.60271,     0.60508,     0.60556,     0.60604,     0.60652,     0.60687,     0.60723,\n",
      "            0.60758,     0.60794,      0.6098,     0.61084,     0.61136,     0.61168,     0.61201,     0.61234,     0.61267,     0.61294,     0.61321,     0.61348,     0.61375,     0.61401,     0.61446,     0.61541,     0.61589,     0.61608,     0.61627,     0.61646,     0.61666,     0.61685,     0.61704,\n",
      "            0.61723,     0.61774,     0.61882,     0.62073,     0.62127,     0.62182,     0.62226,     0.62257,     0.62289,      0.6232,     0.62351,     0.62039,     0.62129,     0.62198,     0.62242,     0.62287,     0.62332,     0.62384,     0.62438,     0.62491,     0.62535,     0.62577,     0.62619,\n",
      "            0.62661,     0.62829,     0.62937,     0.63042,     0.63143,     0.62804,     0.62983,     0.63007,     0.63032,     0.63057,     0.63081,     0.63106,     0.63126,     0.62663,     0.62621,     0.62683,     0.62748,      0.6282,     0.62893,     0.62933,     0.62968,     0.63003,     0.63038,\n",
      "            0.63073,     0.63104,     0.63135,     0.63166,     0.63197,     0.63228,     0.63416,      0.6346,     0.63503,     0.63547,     0.63589,     0.63623,     0.63656,     0.63689,     0.63723,     0.63756,     0.63899,     0.64025,     0.64118,     0.64149,     0.64179,     0.64209,      0.6424,\n",
      "             0.6427,     0.64302,     0.64334,     0.64367,     0.64399,     0.64432,     0.64464,     0.64484,     0.64503,     0.64523,     0.64543,     0.64563,     0.64583,     0.64602,     0.64622,     0.64642,     0.64673,     0.64703,     0.64733,     0.64763,     0.64793,     0.64843,     0.65187,\n",
      "            0.65231,     0.65275,     0.65319,     0.65363,     0.65408,     0.65453,     0.65498,     0.65542,     0.65624,     0.65709,     0.65782,     0.65851,     0.65922,     0.66012,     0.66101,     0.66237,     0.66515,     0.66673,     0.66707,     0.66741,     0.66775,     0.66809,     0.66843,\n",
      "            0.66956,     0.67078,      0.6714,     0.67202,     0.67253,     0.67284,     0.67315,     0.67345,     0.67376,     0.67407,     0.67437,     0.67459,      0.6748,     0.67502,     0.67523,     0.67545,     0.67566,     0.67588,     0.67609,     0.67631,     0.67668,     0.67705,     0.67741,\n",
      "            0.67778,     0.67815,     0.67885,     0.67969,     0.68055,     0.68144,     0.68229,      0.6829,     0.68351,     0.68411,     0.68575,     0.68593,     0.68555,     0.68517,     0.68479,     0.68441,     0.68403,     0.68365,     0.68327,     0.68289,     0.68251,     0.68307,     0.68427,\n",
      "            0.68596,     0.68748,     0.68908,     0.69014,     0.68886,     0.68758,     0.68387,     0.68307,     0.68355,     0.68403,     0.68451,     0.68543,     0.68661,     0.68587,     0.68488,     0.68389,      0.6829,     0.68487,     0.68506,     0.68525,     0.68545,     0.68564,     0.68583,\n",
      "            0.68602,     0.68622,     0.68641,      0.6866,     0.68679,     0.68701,     0.68729,     0.68756,     0.68784,     0.68811,     0.68839,     0.68866,     0.68894,     0.68914,     0.68931,     0.68947,     0.68964,     0.68981,     0.68997,     0.69014,     0.69031,     0.69047,     0.69064,\n",
      "             0.6908,     0.69097,     0.69115,     0.69189,     0.69262,     0.69339,     0.69438,     0.69537,      0.6979,     0.69844,     0.69899,     0.69953,     0.70011,      0.7007,     0.70129,      0.7019,     0.70287,     0.70384,     0.70414,     0.70426,     0.70439,     0.70451,     0.70463,\n",
      "            0.70475,     0.70487,     0.70499,     0.70511,     0.70523,     0.70535,     0.70547,     0.70559,     0.70571,     0.70583,     0.70595,     0.70607,     0.70619,     0.70675,     0.70779,     0.70754,     0.70485,     0.70701,     0.70759,     0.70816,     0.70873,     0.70852,     0.70808,\n",
      "            0.70764,      0.7072,     0.70676,     0.70632,     0.70588,     0.70544,       0.705,     0.70116,     0.70113,     0.70165,     0.70218,      0.7027,      0.7023,     0.70142,     0.70055,     0.69967,     0.69879,     0.69964,     0.70064,     0.69678,     0.69833,     0.70141,     0.70206,\n",
      "            0.70271,     0.70336,     0.70278,     0.70155,     0.70031,     0.69956,     0.70052,     0.70148,     0.70215,     0.70276,     0.70337,     0.70413,     0.70641,     0.70679,     0.70717,     0.70755,     0.70792,      0.7083,     0.70875,     0.70953,     0.71031,     0.71042,     0.70697,\n",
      "            0.70706,     0.70748,     0.70791,     0.70834,     0.70876,     0.70915,     0.70948,     0.70981,     0.71014,     0.71046,     0.71079,     0.71112,     0.71155,     0.71297,     0.71455,     0.71623,      0.7164,     0.71658,     0.71676,     0.71694,     0.71711,     0.71729,     0.71747,\n",
      "            0.71764,     0.71782,       0.718,     0.71817,     0.71835,     0.71852,     0.71368,     0.71054,     0.71269,     0.71318,     0.71366,     0.71415,     0.71463,     0.71058,     0.71099,     0.71139,      0.7118,      0.7122,     0.71261,     0.71332,     0.71433,     0.71533,     0.71626,\n",
      "             0.7172,     0.71807,     0.71884,     0.71961,     0.71995,     0.71804,     0.71775,     0.71747,     0.71719,      0.7169,     0.71662,     0.71633,     0.71605,     0.71577,     0.71548,      0.7152,     0.71491,     0.71463,     0.71434,     0.71406,     0.71375,     0.71262,     0.71149,\n",
      "            0.71035,     0.70923,     0.71035,     0.71148,     0.71215,     0.71268,     0.71322,     0.71375,     0.71428,     0.71689,     0.71757,     0.71825,     0.71892,      0.7196,     0.72031,     0.72102,     0.72172,     0.72155,     0.72073,     0.71991,     0.71909,     0.71827,     0.71744,\n",
      "            0.71867,     0.71997,     0.71885,     0.71773,     0.71661,     0.71548,     0.71442,     0.71337,     0.71231,     0.71125,     0.71101,     0.71196,     0.71292,       0.713,     0.71264,     0.71228,     0.71192,     0.71156,      0.7112,     0.71084,     0.71048,     0.71012,     0.70976,\n",
      "             0.7094,     0.70903,     0.70867,     0.70661,     0.70392,     0.70479,     0.70566,     0.70643,     0.70687,     0.70732,     0.70776,     0.70821,     0.70865,     0.71075,      0.7078,      0.7065,     0.70616,     0.70581,     0.70547,     0.70512,     0.70478,     0.70443,     0.70409,\n",
      "            0.70374,     0.70339,     0.70305,      0.7027,     0.70236,     0.70201,     0.70306,     0.70425,     0.70251,     0.70077,     0.69974,     0.70011,     0.70048,     0.70085,     0.70121,     0.70158,     0.70194,     0.70218,     0.69996,     0.69773,     0.69762,     0.69799,     0.69836,\n",
      "            0.69873,     0.69909,     0.69946,     0.69983,     0.69899,     0.69706,     0.69512,      0.6894,     0.68691,      0.6838,     0.67886,     0.67637,     0.67434,     0.67369,     0.67303,     0.67237,     0.67172,     0.67106,      0.6704,     0.66974,     0.66915,      0.6687,     0.66825,\n",
      "             0.6678,     0.66735,      0.6669,     0.66645,       0.666,     0.66555,      0.6651,     0.66465,      0.6642,     0.66367,     0.66309,     0.66251,     0.66194,     0.66136,     0.66078,      0.6602,     0.65962,     0.65904,     0.65921,     0.66024,     0.66127,     0.65243,     0.65016,\n",
      "            0.64939,     0.64861,     0.64784,     0.64707,     0.64629,     0.64551,     0.63892,     0.63745,     0.63599,     0.63452,     0.63503,     0.63622,     0.63492,     0.63166,     0.62848,     0.62554,     0.62598,     0.62641,     0.62685,     0.62728,     0.62771,     0.62772,     0.62367,\n",
      "             0.6204,     0.61749,     0.61347,     0.61191,     0.60792,     0.60361,     0.60069,     0.59889,     0.59709,     0.59553,     0.59467,     0.59382,     0.59297,     0.59211,     0.59126,      0.5904,     0.58589,     0.57634,     0.56437,     0.56236,     0.56034,     0.55328,     0.54815,\n",
      "            0.54148,     0.54016,     0.53884,     0.53752,      0.5362,     0.53631,     0.53723,     0.53753,      0.5305,     0.52884,     0.52717,     0.52549,     0.52085,     0.51634,     0.51315,     0.50378,     0.50181,     0.49984,     0.49787,     0.48481,     0.47835,      0.4732,     0.47087,\n",
      "            0.46986,     0.46886,     0.46785,     0.46684,     0.46583,     0.46482,     0.46012,     0.45296,     0.44571,     0.43967,     0.43461,     0.43071,     0.42641,     0.41961,      0.4205,     0.42139,      0.4139,     0.39952,     0.38915,     0.38456,     0.38226,     0.38039,     0.37852,\n",
      "            0.37664,     0.37069,     0.36419,     0.35957,     0.35331,     0.34419,     0.33278,     0.32963,     0.32648,       0.322,     0.31566,     0.31097,     0.30618,     0.30084,     0.28612,     0.26968,     0.26841,     0.26714,     0.26586,     0.26459,     0.26331,     0.26204,     0.25925,\n",
      "            0.24902,     0.24489,     0.23163,     0.22522,     0.22247,     0.22292,     0.22336,      0.2239,     0.22446,     0.22047,     0.21317,     0.20775,     0.20368,     0.20157,     0.19947,     0.19735,     0.19523,     0.18346,     0.18241,     0.18136,      0.1803,     0.17925,      0.1782,\n",
      "            0.17714,     0.17608,     0.17503,     0.17397,     0.16772,     0.15641,      0.1484,     0.14227,     0.13131,     0.12753,      0.1246,     0.12166,     0.11721,     0.10361,    0.093027,    0.084011,    0.081516,    0.079014,    0.076506,    0.073991,    0.072035,    0.070349,     0.06866,\n",
      "           0.066967,    0.065272,    0.063574,    0.061872,    0.059621,    0.057123,    0.054618,    0.052106,    0.049588,    0.045158,    0.040537,    0.036987,    0.036039,     0.03509,     0.03414,    0.033189,    0.032237,    0.031284,     0.03033,    0.029375,     0.02842,    0.027463,    0.026506,\n",
      "           0.025547,    0.024746,    0.024155,    0.023563,     0.02297,    0.022378,    0.021785,    0.021191,    0.020598,    0.020004,    0.019409,    0.018814,    0.018219,    0.017624,    0.017028,    0.016432,    0.015835,    0.015238,    0.014641,    0.014043,    0.013445,    0.012847,           0,\n",
      "                  0,           0,           0,           0,           0,           0,           0,           0,           0,           0,           0,           0,           0,           0,           0,           0,           0,           0,           0,           0,           0,           0,           0,\n",
      "                  0,           0,           0,           0,           0,           0,           0,           0,           0,           0,           0,           0,           0,           0,           0,           0,           0,           0,           0,           0,           0,           0,           0,\n",
      "                  0,           0,           0,           0,           0,           0,           0,           0,           0,           0,           0,           0,           0,           0,           0,           0,           0,           0,           0,           0,           0,           0,           0,\n",
      "                  0,           0,           0,           0,           0,           0,           0,           0,           0,           0,           0,           0,           0,           0,           0,           0,           0,           0,           0,           0,           0,           0,           0,\n",
      "                  0,           0,           0,           0,           0,           0,           0,           0,           0,           0,           0,           0,           0,           0,           0,           0,           0,           0,           0,           0,           0,           0,           0,\n",
      "                  0,           0,           0,           0,           0,           0,           0,           0,           0,           0,           0]]), 'Confidence', 'F1'], [array([          0,    0.001001,    0.002002,    0.003003,    0.004004,    0.005005,    0.006006,    0.007007,    0.008008,    0.009009,     0.01001,    0.011011,    0.012012,    0.013013,    0.014014,    0.015015,    0.016016,    0.017017,    0.018018,    0.019019,     0.02002,    0.021021,    0.022022,    0.023023,\n",
      "          0.024024,    0.025025,    0.026026,    0.027027,    0.028028,    0.029029,     0.03003,    0.031031,    0.032032,    0.033033,    0.034034,    0.035035,    0.036036,    0.037037,    0.038038,    0.039039,     0.04004,    0.041041,    0.042042,    0.043043,    0.044044,    0.045045,    0.046046,    0.047047,\n",
      "          0.048048,    0.049049,     0.05005,    0.051051,    0.052052,    0.053053,    0.054054,    0.055055,    0.056056,    0.057057,    0.058058,    0.059059,     0.06006,    0.061061,    0.062062,    0.063063,    0.064064,    0.065065,    0.066066,    0.067067,    0.068068,    0.069069,     0.07007,    0.071071,\n",
      "          0.072072,    0.073073,    0.074074,    0.075075,    0.076076,    0.077077,    0.078078,    0.079079,     0.08008,    0.081081,    0.082082,    0.083083,    0.084084,    0.085085,    0.086086,    0.087087,    0.088088,    0.089089,     0.09009,    0.091091,    0.092092,    0.093093,    0.094094,    0.095095,\n",
      "          0.096096,    0.097097,    0.098098,    0.099099,      0.1001,      0.1011,      0.1021,      0.1031,      0.1041,     0.10511,     0.10611,     0.10711,     0.10811,     0.10911,     0.11011,     0.11111,     0.11211,     0.11311,     0.11411,     0.11512,     0.11612,     0.11712,     0.11812,     0.11912,\n",
      "           0.12012,     0.12112,     0.12212,     0.12312,     0.12412,     0.12513,     0.12613,     0.12713,     0.12813,     0.12913,     0.13013,     0.13113,     0.13213,     0.13313,     0.13413,     0.13514,     0.13614,     0.13714,     0.13814,     0.13914,     0.14014,     0.14114,     0.14214,     0.14314,\n",
      "           0.14414,     0.14515,     0.14615,     0.14715,     0.14815,     0.14915,     0.15015,     0.15115,     0.15215,     0.15315,     0.15415,     0.15516,     0.15616,     0.15716,     0.15816,     0.15916,     0.16016,     0.16116,     0.16216,     0.16316,     0.16416,     0.16517,     0.16617,     0.16717,\n",
      "           0.16817,     0.16917,     0.17017,     0.17117,     0.17217,     0.17317,     0.17417,     0.17518,     0.17618,     0.17718,     0.17818,     0.17918,     0.18018,     0.18118,     0.18218,     0.18318,     0.18418,     0.18519,     0.18619,     0.18719,     0.18819,     0.18919,     0.19019,     0.19119,\n",
      "           0.19219,     0.19319,     0.19419,      0.1952,      0.1962,      0.1972,      0.1982,      0.1992,      0.2002,      0.2012,      0.2022,      0.2032,      0.2042,     0.20521,     0.20621,     0.20721,     0.20821,     0.20921,     0.21021,     0.21121,     0.21221,     0.21321,     0.21421,     0.21522,\n",
      "           0.21622,     0.21722,     0.21822,     0.21922,     0.22022,     0.22122,     0.22222,     0.22322,     0.22422,     0.22523,     0.22623,     0.22723,     0.22823,     0.22923,     0.23023,     0.23123,     0.23223,     0.23323,     0.23423,     0.23524,     0.23624,     0.23724,     0.23824,     0.23924,\n",
      "           0.24024,     0.24124,     0.24224,     0.24324,     0.24424,     0.24525,     0.24625,     0.24725,     0.24825,     0.24925,     0.25025,     0.25125,     0.25225,     0.25325,     0.25425,     0.25526,     0.25626,     0.25726,     0.25826,     0.25926,     0.26026,     0.26126,     0.26226,     0.26326,\n",
      "           0.26426,     0.26527,     0.26627,     0.26727,     0.26827,     0.26927,     0.27027,     0.27127,     0.27227,     0.27327,     0.27427,     0.27528,     0.27628,     0.27728,     0.27828,     0.27928,     0.28028,     0.28128,     0.28228,     0.28328,     0.28428,     0.28529,     0.28629,     0.28729,\n",
      "           0.28829,     0.28929,     0.29029,     0.29129,     0.29229,     0.29329,     0.29429,      0.2953,      0.2963,      0.2973,      0.2983,      0.2993,      0.3003,      0.3013,      0.3023,      0.3033,      0.3043,     0.30531,     0.30631,     0.30731,     0.30831,     0.30931,     0.31031,     0.31131,\n",
      "           0.31231,     0.31331,     0.31431,     0.31532,     0.31632,     0.31732,     0.31832,     0.31932,     0.32032,     0.32132,     0.32232,     0.32332,     0.32432,     0.32533,     0.32633,     0.32733,     0.32833,     0.32933,     0.33033,     0.33133,     0.33233,     0.33333,     0.33433,     0.33534,\n",
      "           0.33634,     0.33734,     0.33834,     0.33934,     0.34034,     0.34134,     0.34234,     0.34334,     0.34434,     0.34535,     0.34635,     0.34735,     0.34835,     0.34935,     0.35035,     0.35135,     0.35235,     0.35335,     0.35435,     0.35536,     0.35636,     0.35736,     0.35836,     0.35936,\n",
      "           0.36036,     0.36136,     0.36236,     0.36336,     0.36436,     0.36537,     0.36637,     0.36737,     0.36837,     0.36937,     0.37037,     0.37137,     0.37237,     0.37337,     0.37437,     0.37538,     0.37638,     0.37738,     0.37838,     0.37938,     0.38038,     0.38138,     0.38238,     0.38338,\n",
      "           0.38438,     0.38539,     0.38639,     0.38739,     0.38839,     0.38939,     0.39039,     0.39139,     0.39239,     0.39339,     0.39439,      0.3954,      0.3964,      0.3974,      0.3984,      0.3994,      0.4004,      0.4014,      0.4024,      0.4034,      0.4044,     0.40541,     0.40641,     0.40741,\n",
      "           0.40841,     0.40941,     0.41041,     0.41141,     0.41241,     0.41341,     0.41441,     0.41542,     0.41642,     0.41742,     0.41842,     0.41942,     0.42042,     0.42142,     0.42242,     0.42342,     0.42442,     0.42543,     0.42643,     0.42743,     0.42843,     0.42943,     0.43043,     0.43143,\n",
      "           0.43243,     0.43343,     0.43443,     0.43544,     0.43644,     0.43744,     0.43844,     0.43944,     0.44044,     0.44144,     0.44244,     0.44344,     0.44444,     0.44545,     0.44645,     0.44745,     0.44845,     0.44945,     0.45045,     0.45145,     0.45245,     0.45345,     0.45445,     0.45546,\n",
      "           0.45646,     0.45746,     0.45846,     0.45946,     0.46046,     0.46146,     0.46246,     0.46346,     0.46446,     0.46547,     0.46647,     0.46747,     0.46847,     0.46947,     0.47047,     0.47147,     0.47247,     0.47347,     0.47447,     0.47548,     0.47648,     0.47748,     0.47848,     0.47948,\n",
      "           0.48048,     0.48148,     0.48248,     0.48348,     0.48448,     0.48549,     0.48649,     0.48749,     0.48849,     0.48949,     0.49049,     0.49149,     0.49249,     0.49349,     0.49449,      0.4955,      0.4965,      0.4975,      0.4985,      0.4995,      0.5005,      0.5015,      0.5025,      0.5035,\n",
      "            0.5045,     0.50551,     0.50651,     0.50751,     0.50851,     0.50951,     0.51051,     0.51151,     0.51251,     0.51351,     0.51451,     0.51552,     0.51652,     0.51752,     0.51852,     0.51952,     0.52052,     0.52152,     0.52252,     0.52352,     0.52452,     0.52553,     0.52653,     0.52753,\n",
      "           0.52853,     0.52953,     0.53053,     0.53153,     0.53253,     0.53353,     0.53453,     0.53554,     0.53654,     0.53754,     0.53854,     0.53954,     0.54054,     0.54154,     0.54254,     0.54354,     0.54454,     0.54555,     0.54655,     0.54755,     0.54855,     0.54955,     0.55055,     0.55155,\n",
      "           0.55255,     0.55355,     0.55455,     0.55556,     0.55656,     0.55756,     0.55856,     0.55956,     0.56056,     0.56156,     0.56256,     0.56356,     0.56456,     0.56557,     0.56657,     0.56757,     0.56857,     0.56957,     0.57057,     0.57157,     0.57257,     0.57357,     0.57457,     0.57558,\n",
      "           0.57658,     0.57758,     0.57858,     0.57958,     0.58058,     0.58158,     0.58258,     0.58358,     0.58458,     0.58559,     0.58659,     0.58759,     0.58859,     0.58959,     0.59059,     0.59159,     0.59259,     0.59359,     0.59459,      0.5956,      0.5966,      0.5976,      0.5986,      0.5996,\n",
      "            0.6006,      0.6016,      0.6026,      0.6036,      0.6046,     0.60561,     0.60661,     0.60761,     0.60861,     0.60961,     0.61061,     0.61161,     0.61261,     0.61361,     0.61461,     0.61562,     0.61662,     0.61762,     0.61862,     0.61962,     0.62062,     0.62162,     0.62262,     0.62362,\n",
      "           0.62462,     0.62563,     0.62663,     0.62763,     0.62863,     0.62963,     0.63063,     0.63163,     0.63263,     0.63363,     0.63463,     0.63564,     0.63664,     0.63764,     0.63864,     0.63964,     0.64064,     0.64164,     0.64264,     0.64364,     0.64464,     0.64565,     0.64665,     0.64765,\n",
      "           0.64865,     0.64965,     0.65065,     0.65165,     0.65265,     0.65365,     0.65465,     0.65566,     0.65666,     0.65766,     0.65866,     0.65966,     0.66066,     0.66166,     0.66266,     0.66366,     0.66466,     0.66567,     0.66667,     0.66767,     0.66867,     0.66967,     0.67067,     0.67167,\n",
      "           0.67267,     0.67367,     0.67467,     0.67568,     0.67668,     0.67768,     0.67868,     0.67968,     0.68068,     0.68168,     0.68268,     0.68368,     0.68468,     0.68569,     0.68669,     0.68769,     0.68869,     0.68969,     0.69069,     0.69169,     0.69269,     0.69369,     0.69469,      0.6957,\n",
      "            0.6967,      0.6977,      0.6987,      0.6997,      0.7007,      0.7017,      0.7027,      0.7037,      0.7047,     0.70571,     0.70671,     0.70771,     0.70871,     0.70971,     0.71071,     0.71171,     0.71271,     0.71371,     0.71471,     0.71572,     0.71672,     0.71772,     0.71872,     0.71972,\n",
      "           0.72072,     0.72172,     0.72272,     0.72372,     0.72472,     0.72573,     0.72673,     0.72773,     0.72873,     0.72973,     0.73073,     0.73173,     0.73273,     0.73373,     0.73473,     0.73574,     0.73674,     0.73774,     0.73874,     0.73974,     0.74074,     0.74174,     0.74274,     0.74374,\n",
      "           0.74474,     0.74575,     0.74675,     0.74775,     0.74875,     0.74975,     0.75075,     0.75175,     0.75275,     0.75375,     0.75475,     0.75576,     0.75676,     0.75776,     0.75876,     0.75976,     0.76076,     0.76176,     0.76276,     0.76376,     0.76476,     0.76577,     0.76677,     0.76777,\n",
      "           0.76877,     0.76977,     0.77077,     0.77177,     0.77277,     0.77377,     0.77477,     0.77578,     0.77678,     0.77778,     0.77878,     0.77978,     0.78078,     0.78178,     0.78278,     0.78378,     0.78478,     0.78579,     0.78679,     0.78779,     0.78879,     0.78979,     0.79079,     0.79179,\n",
      "           0.79279,     0.79379,     0.79479,      0.7958,      0.7968,      0.7978,      0.7988,      0.7998,      0.8008,      0.8018,      0.8028,      0.8038,      0.8048,     0.80581,     0.80681,     0.80781,     0.80881,     0.80981,     0.81081,     0.81181,     0.81281,     0.81381,     0.81481,     0.81582,\n",
      "           0.81682,     0.81782,     0.81882,     0.81982,     0.82082,     0.82182,     0.82282,     0.82382,     0.82482,     0.82583,     0.82683,     0.82783,     0.82883,     0.82983,     0.83083,     0.83183,     0.83283,     0.83383,     0.83483,     0.83584,     0.83684,     0.83784,     0.83884,     0.83984,\n",
      "           0.84084,     0.84184,     0.84284,     0.84384,     0.84484,     0.84585,     0.84685,     0.84785,     0.84885,     0.84985,     0.85085,     0.85185,     0.85285,     0.85385,     0.85485,     0.85586,     0.85686,     0.85786,     0.85886,     0.85986,     0.86086,     0.86186,     0.86286,     0.86386,\n",
      "           0.86486,     0.86587,     0.86687,     0.86787,     0.86887,     0.86987,     0.87087,     0.87187,     0.87287,     0.87387,     0.87487,     0.87588,     0.87688,     0.87788,     0.87888,     0.87988,     0.88088,     0.88188,     0.88288,     0.88388,     0.88488,     0.88589,     0.88689,     0.88789,\n",
      "           0.88889,     0.88989,     0.89089,     0.89189,     0.89289,     0.89389,     0.89489,      0.8959,      0.8969,      0.8979,      0.8989,      0.8999,      0.9009,      0.9019,      0.9029,      0.9039,      0.9049,     0.90591,     0.90691,     0.90791,     0.90891,     0.90991,     0.91091,     0.91191,\n",
      "           0.91291,     0.91391,     0.91491,     0.91592,     0.91692,     0.91792,     0.91892,     0.91992,     0.92092,     0.92192,     0.92292,     0.92392,     0.92492,     0.92593,     0.92693,     0.92793,     0.92893,     0.92993,     0.93093,     0.93193,     0.93293,     0.93393,     0.93493,     0.93594,\n",
      "           0.93694,     0.93794,     0.93894,     0.93994,     0.94094,     0.94194,     0.94294,     0.94394,     0.94494,     0.94595,     0.94695,     0.94795,     0.94895,     0.94995,     0.95095,     0.95195,     0.95295,     0.95395,     0.95495,     0.95596,     0.95696,     0.95796,     0.95896,     0.95996,\n",
      "           0.96096,     0.96196,     0.96296,     0.96396,     0.96496,     0.96597,     0.96697,     0.96797,     0.96897,     0.96997,     0.97097,     0.97197,     0.97297,     0.97397,     0.97497,     0.97598,     0.97698,     0.97798,     0.97898,     0.97998,     0.98098,     0.98198,     0.98298,     0.98398,\n",
      "           0.98498,     0.98599,     0.98699,     0.98799,     0.98899,     0.98999,     0.99099,     0.99199,     0.99299,     0.99399,     0.99499,       0.996,       0.997,       0.998,       0.999,           1]), array([[   0.071015,     0.07102,      0.1036,     0.12727,     0.14647,      0.1607,     0.17272,     0.18802,     0.19482,     0.20675,     0.21916,     0.22784,     0.23472,     0.24214,     0.24832,     0.25457,     0.26008,     0.26492,     0.26895,     0.27619,     0.27989,     0.28363,     0.28874,\n",
      "            0.29534,     0.30134,     0.30382,     0.30973,      0.3133,      0.3186,     0.32204,     0.32586,     0.33246,     0.33405,     0.33662,     0.33859,     0.34366,     0.34687,     0.35086,      0.3554,     0.36186,     0.36266,       0.366,     0.36734,      0.3693,     0.37504,      0.3765,\n",
      "            0.37949,      0.3794,     0.38198,     0.38387,     0.38683,     0.38755,     0.39057,     0.39304,     0.39578,     0.39958,     0.39955,     0.40278,     0.40399,     0.40508,      0.4079,     0.41271,     0.41732,     0.41846,     0.41934,      0.4207,     0.42329,     0.42819,     0.42876,\n",
      "            0.42933,     0.43017,     0.43115,     0.43185,     0.43255,      0.4335,     0.43428,     0.43484,      0.4354,     0.44053,     0.44275,     0.44524,     0.44604,     0.44943,     0.45057,     0.45157,     0.45261,     0.45626,     0.45661,     0.45697,     0.45732,     0.45767,     0.45868,\n",
      "            0.45981,     0.46029,     0.46077,     0.46124,     0.46346,     0.46297,     0.46334,     0.46371,     0.46408,     0.46469,     0.46678,     0.46783,     0.46942,     0.46821,     0.46965,      0.4707,       0.472,     0.47351,     0.47484,     0.47597,     0.47854,     0.48184,     0.48214,\n",
      "            0.48277,     0.48341,     0.48427,     0.48608,     0.48633,     0.48657,     0.48682,     0.48706,     0.48731,     0.48755,      0.4878,     0.49008,     0.49053,     0.49098,     0.49143,     0.49194,     0.49688,     0.50011,     0.50076,     0.50142,     0.50208,     0.50256,     0.50305,\n",
      "            0.50354,     0.50403,     0.50659,     0.50803,     0.50874,      0.5092,     0.50965,     0.51011,     0.51056,     0.51094,     0.51131,     0.51169,     0.51206,     0.51243,     0.51305,     0.51438,     0.51506,     0.51532,     0.51559,     0.51586,     0.51612,     0.51639,     0.51666,\n",
      "            0.51692,     0.51765,     0.51917,     0.52185,     0.52263,      0.5234,     0.52402,     0.52447,     0.52491,     0.52536,     0.52581,     0.52435,     0.52564,     0.52662,     0.52727,     0.52791,     0.52855,     0.52931,     0.53007,     0.53084,     0.53148,     0.53208,     0.53269,\n",
      "             0.5333,     0.53575,     0.53732,     0.53884,     0.54032,      0.5385,      0.5412,     0.54157,     0.54193,     0.54229,     0.54265,     0.54302,     0.54336,     0.54222,     0.54247,     0.54341,     0.54438,     0.54548,     0.54658,     0.54718,     0.54771,     0.54824,     0.54877,\n",
      "             0.5493,     0.54977,     0.55024,     0.55071,     0.55118,     0.55165,     0.55452,     0.55519,     0.55586,     0.55653,     0.55718,     0.55769,     0.55821,     0.55872,     0.55923,     0.55974,     0.56195,     0.56391,     0.56535,     0.56582,      0.5663,     0.56677,     0.56724,\n",
      "            0.56772,     0.56821,     0.56872,     0.56923,     0.56974,     0.57025,     0.57075,     0.57106,     0.57137,     0.57168,     0.57199,      0.5723,     0.57261,     0.57292,     0.57323,     0.57355,     0.57403,      0.5745,     0.57498,     0.57545,     0.57593,     0.57671,     0.58218,\n",
      "            0.58288,     0.58359,     0.58429,     0.58499,     0.58571,     0.58643,     0.58716,     0.58788,     0.58919,     0.59056,     0.59174,     0.59286,     0.59401,     0.59547,     0.59693,     0.59915,     0.60372,     0.60633,     0.60689,     0.60745,     0.60801,     0.60857,     0.60913,\n",
      "            0.61102,     0.61305,     0.61409,     0.61513,     0.61598,      0.6165,     0.61702,     0.61754,     0.61805,     0.61857,     0.61908,     0.61944,     0.61981,     0.62017,     0.62053,      0.6209,     0.62126,     0.62162,     0.62199,     0.62236,     0.62298,     0.62361,     0.62423,\n",
      "            0.62485,     0.62548,     0.62667,     0.62811,     0.62958,      0.6311,     0.63256,      0.6336,     0.63465,      0.6357,     0.63854,      0.6392,       0.639,     0.63881,     0.63861,     0.63842,     0.63822,     0.63803,     0.63783,     0.63764,     0.63744,     0.63861,     0.64072,\n",
      "            0.64369,     0.64637,      0.6492,     0.65152,     0.65087,     0.65023,     0.64835,     0.64851,     0.64938,     0.65024,      0.6511,     0.65277,     0.65493,     0.65473,     0.65423,     0.65374,     0.65324,     0.65701,     0.65737,     0.65772,     0.65808,     0.65843,     0.65879,\n",
      "            0.65914,      0.6595,     0.65985,     0.66021,     0.66057,     0.66097,     0.66148,     0.66199,      0.6625,     0.66301,     0.66352,     0.66403,     0.66454,     0.66492,     0.66523,     0.66554,     0.66585,     0.66616,     0.66647,     0.66678,     0.66709,      0.6674,     0.66772,\n",
      "            0.66803,     0.66834,     0.66868,     0.67006,     0.67143,     0.67288,     0.67475,     0.67662,     0.68143,     0.68247,      0.6835,     0.68454,     0.68564,     0.68679,     0.68793,     0.68909,     0.69097,     0.69285,     0.69344,     0.69367,      0.6939,     0.69414,     0.69437,\n",
      "             0.6946,     0.69484,     0.69507,     0.69531,     0.69554,     0.69577,     0.69601,     0.69624,     0.69647,     0.69671,     0.69694,     0.69718,     0.69741,     0.69851,     0.70054,     0.70144,     0.70021,     0.70518,     0.70632,     0.70746,     0.70861,     0.70871,     0.70851,\n",
      "            0.70831,     0.70811,     0.70791,     0.70771,     0.70751,     0.70731,     0.70711,     0.70537,     0.70612,     0.70719,     0.70825,     0.70932,     0.70941,     0.70902,     0.70862,     0.70822,     0.70783,     0.70968,     0.71175,     0.71055,     0.71376,     0.72023,     0.72161,\n",
      "            0.72298,     0.72436,     0.72448,     0.72394,      0.7234,     0.72342,     0.72548,     0.72754,     0.72899,     0.73031,     0.73163,     0.73327,     0.73824,     0.73907,      0.7399,     0.74072,     0.74155,     0.74238,     0.74337,     0.74509,     0.74681,     0.74803,     0.74661,\n",
      "            0.74735,     0.74831,     0.74926,     0.75022,     0.75117,     0.75205,     0.75279,     0.75353,     0.75426,       0.755,     0.75574,     0.75648,     0.75746,      0.7607,     0.76428,     0.76814,     0.76855,     0.76896,     0.76937,     0.76977,     0.77018,     0.77059,       0.771,\n",
      "            0.77141,     0.77181,     0.77222,     0.77263,     0.77304,     0.77345,     0.77183,     0.77062,     0.77698,     0.77814,      0.7793,     0.78046,     0.78161,     0.78088,     0.78186,     0.78284,     0.78382,      0.7848,     0.78578,     0.78752,     0.78998,     0.79242,     0.79473,\n",
      "            0.79703,     0.79919,      0.8011,     0.80302,     0.81007,     0.80943,     0.80934,     0.80924,     0.80915,     0.80905,     0.80895,     0.80886,     0.80876,     0.80867,     0.80857,     0.80848,     0.80838,     0.80828,     0.80819,     0.80809,     0.80799,     0.80761,     0.80722,\n",
      "            0.80683,     0.80647,     0.80939,     0.81231,     0.81407,     0.81547,     0.81686,     0.81825,     0.81965,     0.82657,     0.82837,     0.83018,     0.83198,     0.83381,     0.83572,     0.83762,     0.83953,      0.8402,     0.83996,     0.83972,     0.83948,     0.83924,       0.839,\n",
      "             0.8425,     0.84615,     0.84583,     0.84551,     0.84519,     0.84487,     0.84457,     0.84426,     0.84396,     0.84366,     0.84456,     0.84727,     0.84997,     0.85081,     0.85071,     0.85061,     0.85051,     0.85041,     0.85031,     0.85021,     0.85011,     0.85001,     0.84991,\n",
      "            0.84981,     0.84971,     0.84961,     0.84903,     0.84884,     0.85139,     0.85393,     0.85618,     0.85749,      0.8588,     0.86011,     0.86142,     0.86274,     0.86897,     0.87062,      0.8703,     0.87022,     0.87013,     0.87005,     0.86996,     0.86988,     0.86979,      0.8697,\n",
      "            0.86962,     0.86953,     0.86945,     0.86936,     0.86927,     0.86919,     0.87276,     0.87729,     0.87688,     0.87646,     0.87658,     0.87774,     0.87889,     0.88005,     0.88121,     0.88236,     0.88352,     0.88459,     0.88409,     0.88359,     0.88446,     0.88565,     0.88684,\n",
      "            0.88803,     0.88922,      0.8904,     0.89159,     0.89194,     0.89153,     0.89112,     0.88989,     0.88934,     0.88866,     0.88757,     0.88701,     0.88656,     0.88641,     0.88626,     0.88611,     0.88596,     0.88582,     0.88567,     0.88552,     0.88538,     0.88528,     0.88518,\n",
      "            0.88507,     0.88497,     0.88487,     0.88476,     0.88466,     0.88456,     0.88446,     0.88435,     0.88425,     0.88413,     0.88399,     0.88386,     0.88372,     0.88359,     0.88345,     0.88332,     0.88319,     0.88305,     0.88469,     0.88843,     0.89216,     0.89051,     0.89001,\n",
      "            0.88984,     0.88966,     0.88949,     0.88932,     0.88914,     0.88897,     0.88746,     0.88713,     0.88679,     0.88645,     0.88984,      0.8945,     0.89616,     0.89546,     0.89476,     0.89424,     0.89602,      0.8978,     0.89958,     0.90137,     0.90315,     0.90468,     0.90387,\n",
      "             0.9032,     0.90261,     0.90177,     0.91221,     0.91145,     0.91062,     0.91006,     0.90971,     0.90935,     0.90905,     0.90888,     0.90871,     0.90854,     0.90837,      0.9082,     0.90803,     0.90711,     0.90514,     0.90259,     0.90215,     0.90171,     0.90343,     0.91166,\n",
      "            0.91029,     0.91002,     0.90974,     0.90947,     0.90919,     0.91252,      0.9179,     0.92297,     0.92168,     0.92137,     0.92106,     0.92075,     0.91986,     0.91899,     0.91837,      0.9165,      0.9161,     0.91569,     0.91529,     0.91251,     0.91109,     0.92621,     0.92577,\n",
      "            0.92557,     0.92538,     0.92518,     0.92499,     0.92479,      0.9246,     0.92367,     0.92222,     0.92072,     0.91943,     0.91833,     0.91745,     0.91649,     0.91578,     0.92439,     0.93299,     0.93335,     0.94694,      0.9508,     0.95011,     0.94975,     0.94946,     0.94917,\n",
      "            0.94887,     0.94791,     0.94683,     0.94605,     0.94494,     0.94327,     0.94106,     0.94042,     0.93977,     0.93883,     0.93747,     0.93641,     0.93532,     0.93404,     0.93032,     0.92575,     0.92536,     0.92497,     0.92459,      0.9242,     0.92381,     0.92343,     0.92255,\n",
      "            0.91918,     0.91775,     0.91288,     0.91029,     0.91742,     0.93299,     0.94857,     0.96856,     0.98997,           1,           1,           1,           1,           1,           1,           1,           1,           1,           1,           1,           1,           1,           1,\n",
      "                  1,           1,           1,           1,           1,           1,           1,           1,           1,           1,           1,           1,           1,           1,           1,           1,           1,           1,           1,           1,           1,           1,           1,\n",
      "                  1,           1,           1,           1,           1,           1,           1,           1,           1,           1,           1,           1,           1,           1,           1,           1,           1,           1,           1,           1,           1,           1,           1,\n",
      "                  1,           1,           1,           1,           1,           1,           1,           1,           1,           1,           1,           1,           1,           1,           1,           1,           1,           1,           1,           1,           1,           1,           1,\n",
      "                  1,           1,           1,           1,           1,           1,           1,           1,           1,           1,           1,           1,           1,           1,           1,           1,           1,           1,           1,           1,           1,           1,           1,\n",
      "                  1,           1,           1,           1,           1,           1,           1,           1,           1,           1,           1,           1,           1,           1,           1,           1,           1,           1,           1,           1,           1,           1,           1,\n",
      "                  1,           1,           1,           1,           1,           1,           1,           1,           1,           1,           1,           1,           1,           1,           1,           1,           1,           1,           1,           1,           1,           1,           1,\n",
      "                  1,           1,           1,           1,           1,           1,           1,           1,           1,           1,           1,           1,           1,           1,           1,           1,           1,           1,           1,           1,           1,           1,           1,\n",
      "                  1,           1,           1,           1,           1,           1,           1,           1,           1,           1,           1,           1,           1,           1,           1,           1,           1,           1,           1,           1,           1,           1,           1,\n",
      "                  1,           1,           1,           1,           1,           1,           1,           1,           1,           1,           1]]), 'Confidence', 'Precision'], [array([          0,    0.001001,    0.002002,    0.003003,    0.004004,    0.005005,    0.006006,    0.007007,    0.008008,    0.009009,     0.01001,    0.011011,    0.012012,    0.013013,    0.014014,    0.015015,    0.016016,    0.017017,    0.018018,    0.019019,     0.02002,    0.021021,    0.022022,    0.023023,\n",
      "          0.024024,    0.025025,    0.026026,    0.027027,    0.028028,    0.029029,     0.03003,    0.031031,    0.032032,    0.033033,    0.034034,    0.035035,    0.036036,    0.037037,    0.038038,    0.039039,     0.04004,    0.041041,    0.042042,    0.043043,    0.044044,    0.045045,    0.046046,    0.047047,\n",
      "          0.048048,    0.049049,     0.05005,    0.051051,    0.052052,    0.053053,    0.054054,    0.055055,    0.056056,    0.057057,    0.058058,    0.059059,     0.06006,    0.061061,    0.062062,    0.063063,    0.064064,    0.065065,    0.066066,    0.067067,    0.068068,    0.069069,     0.07007,    0.071071,\n",
      "          0.072072,    0.073073,    0.074074,    0.075075,    0.076076,    0.077077,    0.078078,    0.079079,     0.08008,    0.081081,    0.082082,    0.083083,    0.084084,    0.085085,    0.086086,    0.087087,    0.088088,    0.089089,     0.09009,    0.091091,    0.092092,    0.093093,    0.094094,    0.095095,\n",
      "          0.096096,    0.097097,    0.098098,    0.099099,      0.1001,      0.1011,      0.1021,      0.1031,      0.1041,     0.10511,     0.10611,     0.10711,     0.10811,     0.10911,     0.11011,     0.11111,     0.11211,     0.11311,     0.11411,     0.11512,     0.11612,     0.11712,     0.11812,     0.11912,\n",
      "           0.12012,     0.12112,     0.12212,     0.12312,     0.12412,     0.12513,     0.12613,     0.12713,     0.12813,     0.12913,     0.13013,     0.13113,     0.13213,     0.13313,     0.13413,     0.13514,     0.13614,     0.13714,     0.13814,     0.13914,     0.14014,     0.14114,     0.14214,     0.14314,\n",
      "           0.14414,     0.14515,     0.14615,     0.14715,     0.14815,     0.14915,     0.15015,     0.15115,     0.15215,     0.15315,     0.15415,     0.15516,     0.15616,     0.15716,     0.15816,     0.15916,     0.16016,     0.16116,     0.16216,     0.16316,     0.16416,     0.16517,     0.16617,     0.16717,\n",
      "           0.16817,     0.16917,     0.17017,     0.17117,     0.17217,     0.17317,     0.17417,     0.17518,     0.17618,     0.17718,     0.17818,     0.17918,     0.18018,     0.18118,     0.18218,     0.18318,     0.18418,     0.18519,     0.18619,     0.18719,     0.18819,     0.18919,     0.19019,     0.19119,\n",
      "           0.19219,     0.19319,     0.19419,      0.1952,      0.1962,      0.1972,      0.1982,      0.1992,      0.2002,      0.2012,      0.2022,      0.2032,      0.2042,     0.20521,     0.20621,     0.20721,     0.20821,     0.20921,     0.21021,     0.21121,     0.21221,     0.21321,     0.21421,     0.21522,\n",
      "           0.21622,     0.21722,     0.21822,     0.21922,     0.22022,     0.22122,     0.22222,     0.22322,     0.22422,     0.22523,     0.22623,     0.22723,     0.22823,     0.22923,     0.23023,     0.23123,     0.23223,     0.23323,     0.23423,     0.23524,     0.23624,     0.23724,     0.23824,     0.23924,\n",
      "           0.24024,     0.24124,     0.24224,     0.24324,     0.24424,     0.24525,     0.24625,     0.24725,     0.24825,     0.24925,     0.25025,     0.25125,     0.25225,     0.25325,     0.25425,     0.25526,     0.25626,     0.25726,     0.25826,     0.25926,     0.26026,     0.26126,     0.26226,     0.26326,\n",
      "           0.26426,     0.26527,     0.26627,     0.26727,     0.26827,     0.26927,     0.27027,     0.27127,     0.27227,     0.27327,     0.27427,     0.27528,     0.27628,     0.27728,     0.27828,     0.27928,     0.28028,     0.28128,     0.28228,     0.28328,     0.28428,     0.28529,     0.28629,     0.28729,\n",
      "           0.28829,     0.28929,     0.29029,     0.29129,     0.29229,     0.29329,     0.29429,      0.2953,      0.2963,      0.2973,      0.2983,      0.2993,      0.3003,      0.3013,      0.3023,      0.3033,      0.3043,     0.30531,     0.30631,     0.30731,     0.30831,     0.30931,     0.31031,     0.31131,\n",
      "           0.31231,     0.31331,     0.31431,     0.31532,     0.31632,     0.31732,     0.31832,     0.31932,     0.32032,     0.32132,     0.32232,     0.32332,     0.32432,     0.32533,     0.32633,     0.32733,     0.32833,     0.32933,     0.33033,     0.33133,     0.33233,     0.33333,     0.33433,     0.33534,\n",
      "           0.33634,     0.33734,     0.33834,     0.33934,     0.34034,     0.34134,     0.34234,     0.34334,     0.34434,     0.34535,     0.34635,     0.34735,     0.34835,     0.34935,     0.35035,     0.35135,     0.35235,     0.35335,     0.35435,     0.35536,     0.35636,     0.35736,     0.35836,     0.35936,\n",
      "           0.36036,     0.36136,     0.36236,     0.36336,     0.36436,     0.36537,     0.36637,     0.36737,     0.36837,     0.36937,     0.37037,     0.37137,     0.37237,     0.37337,     0.37437,     0.37538,     0.37638,     0.37738,     0.37838,     0.37938,     0.38038,     0.38138,     0.38238,     0.38338,\n",
      "           0.38438,     0.38539,     0.38639,     0.38739,     0.38839,     0.38939,     0.39039,     0.39139,     0.39239,     0.39339,     0.39439,      0.3954,      0.3964,      0.3974,      0.3984,      0.3994,      0.4004,      0.4014,      0.4024,      0.4034,      0.4044,     0.40541,     0.40641,     0.40741,\n",
      "           0.40841,     0.40941,     0.41041,     0.41141,     0.41241,     0.41341,     0.41441,     0.41542,     0.41642,     0.41742,     0.41842,     0.41942,     0.42042,     0.42142,     0.42242,     0.42342,     0.42442,     0.42543,     0.42643,     0.42743,     0.42843,     0.42943,     0.43043,     0.43143,\n",
      "           0.43243,     0.43343,     0.43443,     0.43544,     0.43644,     0.43744,     0.43844,     0.43944,     0.44044,     0.44144,     0.44244,     0.44344,     0.44444,     0.44545,     0.44645,     0.44745,     0.44845,     0.44945,     0.45045,     0.45145,     0.45245,     0.45345,     0.45445,     0.45546,\n",
      "           0.45646,     0.45746,     0.45846,     0.45946,     0.46046,     0.46146,     0.46246,     0.46346,     0.46446,     0.46547,     0.46647,     0.46747,     0.46847,     0.46947,     0.47047,     0.47147,     0.47247,     0.47347,     0.47447,     0.47548,     0.47648,     0.47748,     0.47848,     0.47948,\n",
      "           0.48048,     0.48148,     0.48248,     0.48348,     0.48448,     0.48549,     0.48649,     0.48749,     0.48849,     0.48949,     0.49049,     0.49149,     0.49249,     0.49349,     0.49449,      0.4955,      0.4965,      0.4975,      0.4985,      0.4995,      0.5005,      0.5015,      0.5025,      0.5035,\n",
      "            0.5045,     0.50551,     0.50651,     0.50751,     0.50851,     0.50951,     0.51051,     0.51151,     0.51251,     0.51351,     0.51451,     0.51552,     0.51652,     0.51752,     0.51852,     0.51952,     0.52052,     0.52152,     0.52252,     0.52352,     0.52452,     0.52553,     0.52653,     0.52753,\n",
      "           0.52853,     0.52953,     0.53053,     0.53153,     0.53253,     0.53353,     0.53453,     0.53554,     0.53654,     0.53754,     0.53854,     0.53954,     0.54054,     0.54154,     0.54254,     0.54354,     0.54454,     0.54555,     0.54655,     0.54755,     0.54855,     0.54955,     0.55055,     0.55155,\n",
      "           0.55255,     0.55355,     0.55455,     0.55556,     0.55656,     0.55756,     0.55856,     0.55956,     0.56056,     0.56156,     0.56256,     0.56356,     0.56456,     0.56557,     0.56657,     0.56757,     0.56857,     0.56957,     0.57057,     0.57157,     0.57257,     0.57357,     0.57457,     0.57558,\n",
      "           0.57658,     0.57758,     0.57858,     0.57958,     0.58058,     0.58158,     0.58258,     0.58358,     0.58458,     0.58559,     0.58659,     0.58759,     0.58859,     0.58959,     0.59059,     0.59159,     0.59259,     0.59359,     0.59459,      0.5956,      0.5966,      0.5976,      0.5986,      0.5996,\n",
      "            0.6006,      0.6016,      0.6026,      0.6036,      0.6046,     0.60561,     0.60661,     0.60761,     0.60861,     0.60961,     0.61061,     0.61161,     0.61261,     0.61361,     0.61461,     0.61562,     0.61662,     0.61762,     0.61862,     0.61962,     0.62062,     0.62162,     0.62262,     0.62362,\n",
      "           0.62462,     0.62563,     0.62663,     0.62763,     0.62863,     0.62963,     0.63063,     0.63163,     0.63263,     0.63363,     0.63463,     0.63564,     0.63664,     0.63764,     0.63864,     0.63964,     0.64064,     0.64164,     0.64264,     0.64364,     0.64464,     0.64565,     0.64665,     0.64765,\n",
      "           0.64865,     0.64965,     0.65065,     0.65165,     0.65265,     0.65365,     0.65465,     0.65566,     0.65666,     0.65766,     0.65866,     0.65966,     0.66066,     0.66166,     0.66266,     0.66366,     0.66466,     0.66567,     0.66667,     0.66767,     0.66867,     0.66967,     0.67067,     0.67167,\n",
      "           0.67267,     0.67367,     0.67467,     0.67568,     0.67668,     0.67768,     0.67868,     0.67968,     0.68068,     0.68168,     0.68268,     0.68368,     0.68468,     0.68569,     0.68669,     0.68769,     0.68869,     0.68969,     0.69069,     0.69169,     0.69269,     0.69369,     0.69469,      0.6957,\n",
      "            0.6967,      0.6977,      0.6987,      0.6997,      0.7007,      0.7017,      0.7027,      0.7037,      0.7047,     0.70571,     0.70671,     0.70771,     0.70871,     0.70971,     0.71071,     0.71171,     0.71271,     0.71371,     0.71471,     0.71572,     0.71672,     0.71772,     0.71872,     0.71972,\n",
      "           0.72072,     0.72172,     0.72272,     0.72372,     0.72472,     0.72573,     0.72673,     0.72773,     0.72873,     0.72973,     0.73073,     0.73173,     0.73273,     0.73373,     0.73473,     0.73574,     0.73674,     0.73774,     0.73874,     0.73974,     0.74074,     0.74174,     0.74274,     0.74374,\n",
      "           0.74474,     0.74575,     0.74675,     0.74775,     0.74875,     0.74975,     0.75075,     0.75175,     0.75275,     0.75375,     0.75475,     0.75576,     0.75676,     0.75776,     0.75876,     0.75976,     0.76076,     0.76176,     0.76276,     0.76376,     0.76476,     0.76577,     0.76677,     0.76777,\n",
      "           0.76877,     0.76977,     0.77077,     0.77177,     0.77277,     0.77377,     0.77477,     0.77578,     0.77678,     0.77778,     0.77878,     0.77978,     0.78078,     0.78178,     0.78278,     0.78378,     0.78478,     0.78579,     0.78679,     0.78779,     0.78879,     0.78979,     0.79079,     0.79179,\n",
      "           0.79279,     0.79379,     0.79479,      0.7958,      0.7968,      0.7978,      0.7988,      0.7998,      0.8008,      0.8018,      0.8028,      0.8038,      0.8048,     0.80581,     0.80681,     0.80781,     0.80881,     0.80981,     0.81081,     0.81181,     0.81281,     0.81381,     0.81481,     0.81582,\n",
      "           0.81682,     0.81782,     0.81882,     0.81982,     0.82082,     0.82182,     0.82282,     0.82382,     0.82482,     0.82583,     0.82683,     0.82783,     0.82883,     0.82983,     0.83083,     0.83183,     0.83283,     0.83383,     0.83483,     0.83584,     0.83684,     0.83784,     0.83884,     0.83984,\n",
      "           0.84084,     0.84184,     0.84284,     0.84384,     0.84484,     0.84585,     0.84685,     0.84785,     0.84885,     0.84985,     0.85085,     0.85185,     0.85285,     0.85385,     0.85485,     0.85586,     0.85686,     0.85786,     0.85886,     0.85986,     0.86086,     0.86186,     0.86286,     0.86386,\n",
      "           0.86486,     0.86587,     0.86687,     0.86787,     0.86887,     0.86987,     0.87087,     0.87187,     0.87287,     0.87387,     0.87487,     0.87588,     0.87688,     0.87788,     0.87888,     0.87988,     0.88088,     0.88188,     0.88288,     0.88388,     0.88488,     0.88589,     0.88689,     0.88789,\n",
      "           0.88889,     0.88989,     0.89089,     0.89189,     0.89289,     0.89389,     0.89489,      0.8959,      0.8969,      0.8979,      0.8989,      0.8999,      0.9009,      0.9019,      0.9029,      0.9039,      0.9049,     0.90591,     0.90691,     0.90791,     0.90891,     0.90991,     0.91091,     0.91191,\n",
      "           0.91291,     0.91391,     0.91491,     0.91592,     0.91692,     0.91792,     0.91892,     0.91992,     0.92092,     0.92192,     0.92292,     0.92392,     0.92492,     0.92593,     0.92693,     0.92793,     0.92893,     0.92993,     0.93093,     0.93193,     0.93293,     0.93393,     0.93493,     0.93594,\n",
      "           0.93694,     0.93794,     0.93894,     0.93994,     0.94094,     0.94194,     0.94294,     0.94394,     0.94494,     0.94595,     0.94695,     0.94795,     0.94895,     0.94995,     0.95095,     0.95195,     0.95295,     0.95395,     0.95495,     0.95596,     0.95696,     0.95796,     0.95896,     0.95996,\n",
      "           0.96096,     0.96196,     0.96296,     0.96396,     0.96496,     0.96597,     0.96697,     0.96797,     0.96897,     0.96997,     0.97097,     0.97197,     0.97297,     0.97397,     0.97497,     0.97598,     0.97698,     0.97798,     0.97898,     0.97998,     0.98098,     0.98198,     0.98298,     0.98398,\n",
      "           0.98498,     0.98599,     0.98699,     0.98799,     0.98899,     0.98999,     0.99099,     0.99199,     0.99299,     0.99399,     0.99499,       0.996,       0.997,       0.998,       0.999,           1]), array([[    0.85443,     0.85443,      0.8481,     0.83544,     0.83544,     0.83544,     0.83544,     0.82911,     0.82278,     0.82278,     0.82278,     0.82278,     0.82278,     0.81646,     0.81646,     0.81646,     0.81646,     0.81646,     0.81646,     0.81646,     0.81646,     0.81013,      0.8038,\n",
      "             0.8038,      0.8038,      0.8038,      0.8038,      0.8038,      0.8038,      0.8038,      0.8038,      0.8038,      0.8038,      0.8038,      0.8038,      0.8038,      0.8038,      0.8038,      0.8038,      0.8038,      0.8038,      0.8038,      0.8038,      0.8038,      0.8038,      0.8038,\n",
      "             0.8038,     0.79747,     0.79747,     0.79747,     0.79747,     0.79747,     0.79747,     0.79747,     0.79747,     0.79609,     0.79114,     0.79114,     0.79114,     0.79114,     0.79114,     0.79114,     0.79114,     0.79114,     0.79114,     0.79114,     0.79114,     0.79114,     0.79114,\n",
      "            0.79114,     0.79114,     0.79114,     0.79114,     0.79114,     0.79114,     0.79114,     0.79114,     0.79114,     0.79114,     0.79114,     0.79114,     0.79114,     0.79114,     0.79114,     0.79114,     0.79114,     0.79114,     0.79114,     0.79114,     0.79114,     0.79114,     0.79114,\n",
      "            0.79114,     0.79114,     0.79114,     0.79114,     0.78727,     0.78481,     0.78481,     0.78481,     0.78481,     0.78481,     0.78481,     0.78481,     0.78394,     0.78014,     0.77848,     0.77848,     0.77848,     0.77848,     0.77848,     0.77848,     0.77829,     0.77101,     0.76582,\n",
      "            0.76582,     0.76582,     0.76582,     0.76582,     0.76582,     0.76582,     0.76582,     0.76582,     0.76582,     0.76582,     0.76582,     0.76582,     0.76582,     0.76582,     0.76582,     0.76582,     0.76582,     0.76582,     0.76582,     0.76582,     0.76582,     0.76582,     0.76582,\n",
      "            0.76582,     0.76582,     0.76582,     0.76582,     0.76582,     0.76582,     0.76582,     0.76582,     0.76582,     0.76582,     0.76582,     0.76582,     0.76582,     0.76582,     0.76582,     0.76582,     0.76582,     0.76582,     0.76582,     0.76582,     0.76582,     0.76582,     0.76582,\n",
      "            0.76582,     0.76582,     0.76582,     0.76582,     0.76582,     0.76582,     0.76582,     0.76582,     0.76582,     0.76582,     0.76582,     0.75949,     0.75949,     0.75949,     0.75949,     0.75949,     0.75949,     0.75949,     0.75949,     0.75949,     0.75949,     0.75949,     0.75949,\n",
      "            0.75949,     0.75949,     0.75949,     0.75949,     0.75949,     0.75329,     0.75316,     0.75316,     0.75316,     0.75316,     0.75316,     0.75316,     0.75309,     0.74217,     0.74051,     0.74051,     0.74051,     0.74051,     0.74051,     0.74051,     0.74051,     0.74051,     0.74051,\n",
      "            0.74051,     0.74051,     0.74051,     0.74051,     0.74051,     0.74051,     0.74051,     0.74051,     0.74051,     0.74051,     0.74051,     0.74051,     0.74051,     0.74051,     0.74051,     0.74051,     0.74051,     0.74051,     0.74051,     0.74051,     0.74051,     0.74051,     0.74051,\n",
      "            0.74051,     0.74051,     0.74051,     0.74051,     0.74051,     0.74051,     0.74051,     0.74051,     0.74051,     0.74051,     0.74051,     0.74051,     0.74051,     0.74051,     0.74051,     0.74051,     0.74051,     0.74051,     0.74051,     0.74051,     0.74051,     0.74051,     0.74051,\n",
      "            0.74051,     0.74051,     0.74051,     0.74051,     0.74051,     0.74051,     0.74051,     0.74051,     0.74051,     0.74051,     0.74051,     0.74051,     0.74051,     0.74051,     0.74051,     0.74051,     0.74051,     0.74051,     0.74051,     0.74051,     0.74051,     0.74051,     0.74051,\n",
      "            0.74051,     0.74051,     0.74051,     0.74051,     0.74051,     0.74051,     0.74051,     0.74051,     0.74051,     0.74051,     0.74051,     0.74051,     0.74051,     0.74051,     0.74051,     0.74051,     0.74051,     0.74051,     0.74051,     0.74051,     0.74051,     0.74051,     0.74051,\n",
      "            0.74051,     0.74051,     0.74051,     0.74051,     0.74051,     0.74051,     0.74051,     0.74051,     0.74051,     0.74051,     0.74051,     0.74004,     0.73942,     0.73879,     0.73817,     0.73755,     0.73692,      0.7363,     0.73568,     0.73505,     0.73443,     0.73418,     0.73418,\n",
      "            0.73418,     0.73418,     0.73418,     0.73363,     0.73156,     0.72949,      0.7235,     0.72152,     0.72152,     0.72152,     0.72152,     0.72152,     0.72152,     0.72012,     0.71854,     0.71696,     0.71539,     0.71519,     0.71519,     0.71519,     0.71519,     0.71519,     0.71519,\n",
      "            0.71519,     0.71519,     0.71519,     0.71519,     0.71519,     0.71519,     0.71519,     0.71519,     0.71519,     0.71519,     0.71519,     0.71519,     0.71519,     0.71519,     0.71519,     0.71519,     0.71519,     0.71519,     0.71519,     0.71519,     0.71519,     0.71519,     0.71519,\n",
      "            0.71519,     0.71519,     0.71519,     0.71519,     0.71519,     0.71519,     0.71519,     0.71519,     0.71519,     0.71519,     0.71519,     0.71519,     0.71519,     0.71519,     0.71519,     0.71519,     0.71519,     0.71519,     0.71519,     0.71519,     0.71519,     0.71519,     0.71519,\n",
      "            0.71519,     0.71519,     0.71519,     0.71519,     0.71519,     0.71519,     0.71519,     0.71519,     0.71519,     0.71519,     0.71519,     0.71519,     0.71519,     0.71519,     0.71519,     0.71374,     0.70956,     0.70886,     0.70886,     0.70886,     0.70886,     0.70833,     0.70765,\n",
      "            0.70697,     0.70629,     0.70561,     0.70493,     0.70425,     0.70357,     0.70289,       0.697,      0.6962,      0.6962,      0.6962,      0.6962,     0.69532,     0.69399,     0.69265,     0.69132,     0.68999,     0.68987,     0.68987,     0.68354,     0.68354,     0.68354,     0.68354,\n",
      "            0.68354,     0.68354,     0.68234,      0.6805,     0.67866,     0.67722,     0.67722,     0.67722,     0.67722,     0.67722,     0.67722,     0.67722,     0.67722,     0.67722,     0.67722,     0.67722,     0.67722,     0.67722,     0.67722,     0.67722,     0.67722,     0.67641,     0.67134,\n",
      "            0.67089,     0.67089,     0.67089,     0.67089,     0.67089,     0.67089,     0.67089,     0.67089,     0.67089,     0.67089,     0.67089,     0.67089,     0.67089,     0.67089,     0.67089,     0.67089,     0.67089,     0.67089,     0.67089,     0.67089,     0.67089,     0.67089,     0.67089,\n",
      "            0.67089,     0.67089,     0.67089,     0.67089,     0.67089,     0.67089,     0.66368,     0.65916,     0.65823,     0.65823,     0.65823,     0.65823,     0.65823,      0.6519,      0.6519,      0.6519,      0.6519,      0.6519,      0.6519,      0.6519,      0.6519,      0.6519,      0.6519,\n",
      "             0.6519,      0.6519,      0.6519,      0.6519,     0.64787,     0.64519,     0.64479,     0.64439,       0.644,      0.6436,      0.6432,     0.64281,     0.64241,     0.64201,     0.64161,     0.64122,     0.64082,     0.64042,     0.64002,     0.63963,      0.6392,     0.63763,     0.63605,\n",
      "            0.63448,     0.63291,     0.63291,     0.63291,     0.63291,     0.63291,     0.63291,     0.63291,     0.63291,     0.63291,     0.63291,     0.63291,     0.63291,     0.63291,     0.63291,     0.63291,     0.63291,     0.63226,     0.63114,     0.63002,      0.6289,     0.62777,     0.62665,\n",
      "            0.62658,     0.62654,     0.62502,      0.6235,     0.62198,     0.62046,     0.61903,     0.61761,     0.61619,     0.61477,     0.61392,     0.61392,     0.61392,      0.6136,     0.61312,     0.61264,     0.61216,     0.61168,      0.6112,     0.61072,     0.61024,     0.60976,     0.60928,\n",
      "             0.6088,     0.60832,     0.60784,     0.60511,     0.60127,     0.60127,     0.60127,     0.60127,     0.60127,     0.60127,     0.60127,     0.60127,     0.60127,     0.60127,     0.59628,     0.59459,     0.59414,      0.5937,     0.59325,      0.5928,     0.59235,      0.5919,     0.59145,\n",
      "            0.59101,     0.59056,     0.59011,     0.58966,     0.58921,     0.58877,     0.58861,     0.58822,     0.58599,     0.58376,     0.58228,     0.58228,     0.58228,     0.58228,     0.58228,     0.58228,     0.58228,     0.58214,      0.5793,     0.57647,     0.57595,     0.57595,     0.57595,\n",
      "            0.57595,     0.57595,     0.57595,     0.57595,     0.57467,     0.57223,      0.5698,     0.56264,     0.55954,     0.55569,     0.54962,     0.54657,      0.5441,      0.5433,      0.5425,     0.54171,     0.54091,     0.54011,     0.53932,     0.53852,      0.5378,     0.53726,     0.53672,\n",
      "            0.53618,     0.53564,     0.53509,     0.53455,     0.53401,     0.53347,     0.53293,     0.53239,     0.53185,     0.53121,     0.53052,     0.52983,     0.52914,     0.52845,     0.52776,     0.52707,     0.52638,     0.52569,     0.52532,     0.52532,     0.52532,      0.5148,     0.51214,\n",
      "            0.51124,     0.51034,     0.50944,     0.50854,     0.50764,     0.50674,     0.49913,     0.49745,     0.49578,      0.4941,     0.49367,     0.49367,      0.4916,     0.48792,     0.48434,     0.48101,     0.48101,     0.48101,     0.48101,     0.48101,     0.48101,     0.48059,     0.47608,\n",
      "            0.47247,     0.46926,     0.46485,     0.46036,     0.45604,     0.45141,     0.44829,     0.44638,     0.44446,     0.44281,     0.44191,       0.441,      0.4401,      0.4392,      0.4383,      0.4374,     0.43268,     0.42276,     0.41053,      0.4085,     0.40646,     0.39873,     0.39189,\n",
      "            0.38535,     0.38407,     0.38278,      0.3815,     0.38021,     0.37975,     0.37975,     0.37918,     0.37244,     0.37085,     0.36925,     0.36766,     0.36327,     0.35903,     0.35604,     0.34735,     0.34555,     0.34374,     0.34193,     0.33009,     0.32431,     0.31777,     0.31573,\n",
      "            0.31485,     0.31397,     0.31308,      0.3122,     0.31132,     0.31044,     0.30637,     0.30021,     0.29403,     0.28891,     0.28467,     0.28141,     0.27784,     0.27215,     0.27215,     0.27215,     0.26591,     0.25316,     0.24464,     0.24107,     0.23929,     0.23784,     0.23639,\n",
      "            0.23495,     0.23039,     0.22546,     0.22197,     0.21727,      0.2105,     0.20213,     0.19984,     0.19755,     0.19432,     0.18978,     0.18644,     0.18305,     0.17929,     0.16906,     0.15783,     0.15697,     0.15611,     0.15525,      0.1544,     0.15354,     0.15268,     0.15082,\n",
      "            0.14402,      0.1413,     0.13264,     0.12851,     0.12658,     0.12658,     0.12658,     0.12658,     0.12658,     0.12389,      0.1193,     0.11591,     0.11339,     0.11208,     0.11078,     0.10948,     0.10818,     0.10099,     0.10036,     0.09972,    0.099084,    0.098449,    0.097813,\n",
      "           0.097177,    0.096542,    0.095906,     0.09527,    0.091534,     0.08484,    0.080148,    0.076585,    0.070267,    0.068108,    0.066439,    0.064771,    0.062256,    0.054638,    0.048782,    0.043848,     0.04249,    0.041132,    0.039775,    0.038417,    0.037363,    0.036457,     0.03555,\n",
      "           0.034644,    0.033737,     0.03283,    0.031924,    0.030727,    0.029401,    0.028076,     0.02675,    0.025425,    0.023101,    0.020688,    0.018842,     0.01835,    0.017858,    0.017366,    0.016874,    0.016382,    0.015891,    0.015399,    0.014907,    0.014415,    0.013923,    0.013431,\n",
      "           0.012939,    0.012528,    0.012225,    0.011922,    0.011619,    0.011315,    0.011012,    0.010709,    0.010406,    0.010103,   0.0097997,   0.0094965,   0.0091934,   0.0088902,   0.0085871,   0.0082839,   0.0079807,   0.0076776,   0.0073744,   0.0070713,   0.0067681,    0.006465,           0,\n",
      "                  0,           0,           0,           0,           0,           0,           0,           0,           0,           0,           0,           0,           0,           0,           0,           0,           0,           0,           0,           0,           0,           0,           0,\n",
      "                  0,           0,           0,           0,           0,           0,           0,           0,           0,           0,           0,           0,           0,           0,           0,           0,           0,           0,           0,           0,           0,           0,           0,\n",
      "                  0,           0,           0,           0,           0,           0,           0,           0,           0,           0,           0,           0,           0,           0,           0,           0,           0,           0,           0,           0,           0,           0,           0,\n",
      "                  0,           0,           0,           0,           0,           0,           0,           0,           0,           0,           0,           0,           0,           0,           0,           0,           0,           0,           0,           0,           0,           0,           0,\n",
      "                  0,           0,           0,           0,           0,           0,           0,           0,           0,           0,           0,           0,           0,           0,           0,           0,           0,           0,           0,           0,           0,           0,           0,\n",
      "                  0,           0,           0,           0,           0,           0,           0,           0,           0,           0,           0]]), 'Confidence', 'Recall']]\n",
      "fitness: 0.40033263580813905\n",
      "keys: ['metrics/precision(B)', 'metrics/recall(B)', 'metrics/mAP50(B)', 'metrics/mAP50-95(B)']\n",
      "maps: array([    0.36537])\n",
      "names: {0: 'bird'}\n",
      "plot: True\n",
      "results_dict: {'metrics/precision(B)': 0.8084757813466015, 'metrics/recall(B)': 0.6412166551184, 'metrics/mAP50(B)': 0.7150292931455695, 'metrics/mAP50-95(B)': 0.36536634054842454, 'fitness': 0.40033263580813905}\n",
      "save_dir: PosixPath('runs/detect/val3')\n",
      "speed: {'preprocess': 2.1447176260361522, 'inference': 42.14024671693883, 'loss': 0.0035336223958824086, 'postprocess': 3.6308436522892635}\n",
      "task: 'detect'\n"
     ]
    }
   ],
   "source": [
    "# Load best or last checkpoint\n",
    "model = YOLO(\"runs/detect/train10/weights/best.pt\")\n",
    "# Evaluate on the test split defined in test.yaml\n",
    "metrics = model.val(data=yolo_data, imgsz=1280, save=True,split='test')\n",
    "print(metrics)"
   ]
  },
  {
   "cell_type": "code",
   "execution_count": 10,
   "metadata": {
    "colab": {
     "base_uri": "https://localhost:8080/"
    },
    "executionInfo": {
     "elapsed": 21087,
     "status": "ok",
     "timestamp": 1746645193243,
     "user": {
      "displayName": "Eugen Falca",
      "userId": "06470857081734833614"
     },
     "user_tz": -120
    },
    "id": "WZkErlDqPR23",
    "outputId": "0f1bd0ec-7cc6-4a6d-8bb2-4b1c9fd3a101"
   },
   "outputs": [
    {
     "name": "stdout",
     "output_type": "stream",
     "text": [
      "Ultralytics 8.3.128 🚀 Python-3.11.12 torch-2.6.0+cu124 CUDA:0 (Tesla T4, 15095MiB)\n",
      "YOLO11l summary (fused): 190 layers, 25,280,083 parameters, 0 gradients, 86.6 GFLOPs\n",
      "\u001b[34m\u001b[1mval: \u001b[0mFast image access ✅ (ping: 0.6±0.1 ms, read: 643.0±170.1 MB/s, size: 8999.2 KB)\n"
     ]
    },
    {
     "name": "stderr",
     "output_type": "stream",
     "text": [
      "\u001b[34m\u001b[1mval: \u001b[0mScanning /content/drive/.shortcut-targets-by-id/1ul61U35aG3KhMRm83t3YVDwsRzb7rDsy/JADS group assignments Semester 2/Deep Learning - Group Assignment/dev/data/data_yolo_format/test/labels.cache... 31 images, 2 backgrounds, 0 corrupt: 100%|██████████| 31/31 [00:00<?, ?it/s]\n",
      "                 Class     Images  Instances      Box(P          R      mAP50  mAP50-95): 100%|██████████| 2/2 [00:11<00:00,  5.69s/it]\n"
     ]
    },
    {
     "name": "stdout",
     "output_type": "stream",
     "text": [
      "                   all         31        174      0.803      0.632      0.686      0.304\n",
      "Speed: 12.4ms preprocess, 79.8ms inference, 0.0ms loss, 2.6ms postprocess per image\n",
      "Results saved to \u001b[1mruns/detect/val3\u001b[0m\n",
      "ultralytics.utils.metrics.DetMetrics object with attributes:\n",
      "\n",
      "ap_class_index: array([0])\n",
      "box: ultralytics.utils.metrics.Metric object\n",
      "confusion_matrix: <ultralytics.utils.metrics.ConfusionMatrix object at 0x7f723a48c150>\n",
      "curves: ['Precision-Recall(B)', 'F1-Confidence(B)', 'Precision-Confidence(B)', 'Recall-Confidence(B)']\n",
      "curves_results: [[array([          0,    0.001001,    0.002002,    0.003003,    0.004004,    0.005005,    0.006006,    0.007007,    0.008008,    0.009009,     0.01001,    0.011011,    0.012012,    0.013013,    0.014014,    0.015015,    0.016016,    0.017017,    0.018018,    0.019019,     0.02002,    0.021021,    0.022022,    0.023023,\n",
      "          0.024024,    0.025025,    0.026026,    0.027027,    0.028028,    0.029029,     0.03003,    0.031031,    0.032032,    0.033033,    0.034034,    0.035035,    0.036036,    0.037037,    0.038038,    0.039039,     0.04004,    0.041041,    0.042042,    0.043043,    0.044044,    0.045045,    0.046046,    0.047047,\n",
      "          0.048048,    0.049049,     0.05005,    0.051051,    0.052052,    0.053053,    0.054054,    0.055055,    0.056056,    0.057057,    0.058058,    0.059059,     0.06006,    0.061061,    0.062062,    0.063063,    0.064064,    0.065065,    0.066066,    0.067067,    0.068068,    0.069069,     0.07007,    0.071071,\n",
      "          0.072072,    0.073073,    0.074074,    0.075075,    0.076076,    0.077077,    0.078078,    0.079079,     0.08008,    0.081081,    0.082082,    0.083083,    0.084084,    0.085085,    0.086086,    0.087087,    0.088088,    0.089089,     0.09009,    0.091091,    0.092092,    0.093093,    0.094094,    0.095095,\n",
      "          0.096096,    0.097097,    0.098098,    0.099099,      0.1001,      0.1011,      0.1021,      0.1031,      0.1041,     0.10511,     0.10611,     0.10711,     0.10811,     0.10911,     0.11011,     0.11111,     0.11211,     0.11311,     0.11411,     0.11512,     0.11612,     0.11712,     0.11812,     0.11912,\n",
      "           0.12012,     0.12112,     0.12212,     0.12312,     0.12412,     0.12513,     0.12613,     0.12713,     0.12813,     0.12913,     0.13013,     0.13113,     0.13213,     0.13313,     0.13413,     0.13514,     0.13614,     0.13714,     0.13814,     0.13914,     0.14014,     0.14114,     0.14214,     0.14314,\n",
      "           0.14414,     0.14515,     0.14615,     0.14715,     0.14815,     0.14915,     0.15015,     0.15115,     0.15215,     0.15315,     0.15415,     0.15516,     0.15616,     0.15716,     0.15816,     0.15916,     0.16016,     0.16116,     0.16216,     0.16316,     0.16416,     0.16517,     0.16617,     0.16717,\n",
      "           0.16817,     0.16917,     0.17017,     0.17117,     0.17217,     0.17317,     0.17417,     0.17518,     0.17618,     0.17718,     0.17818,     0.17918,     0.18018,     0.18118,     0.18218,     0.18318,     0.18418,     0.18519,     0.18619,     0.18719,     0.18819,     0.18919,     0.19019,     0.19119,\n",
      "           0.19219,     0.19319,     0.19419,      0.1952,      0.1962,      0.1972,      0.1982,      0.1992,      0.2002,      0.2012,      0.2022,      0.2032,      0.2042,     0.20521,     0.20621,     0.20721,     0.20821,     0.20921,     0.21021,     0.21121,     0.21221,     0.21321,     0.21421,     0.21522,\n",
      "           0.21622,     0.21722,     0.21822,     0.21922,     0.22022,     0.22122,     0.22222,     0.22322,     0.22422,     0.22523,     0.22623,     0.22723,     0.22823,     0.22923,     0.23023,     0.23123,     0.23223,     0.23323,     0.23423,     0.23524,     0.23624,     0.23724,     0.23824,     0.23924,\n",
      "           0.24024,     0.24124,     0.24224,     0.24324,     0.24424,     0.24525,     0.24625,     0.24725,     0.24825,     0.24925,     0.25025,     0.25125,     0.25225,     0.25325,     0.25425,     0.25526,     0.25626,     0.25726,     0.25826,     0.25926,     0.26026,     0.26126,     0.26226,     0.26326,\n",
      "           0.26426,     0.26527,     0.26627,     0.26727,     0.26827,     0.26927,     0.27027,     0.27127,     0.27227,     0.27327,     0.27427,     0.27528,     0.27628,     0.27728,     0.27828,     0.27928,     0.28028,     0.28128,     0.28228,     0.28328,     0.28428,     0.28529,     0.28629,     0.28729,\n",
      "           0.28829,     0.28929,     0.29029,     0.29129,     0.29229,     0.29329,     0.29429,      0.2953,      0.2963,      0.2973,      0.2983,      0.2993,      0.3003,      0.3013,      0.3023,      0.3033,      0.3043,     0.30531,     0.30631,     0.30731,     0.30831,     0.30931,     0.31031,     0.31131,\n",
      "           0.31231,     0.31331,     0.31431,     0.31532,     0.31632,     0.31732,     0.31832,     0.31932,     0.32032,     0.32132,     0.32232,     0.32332,     0.32432,     0.32533,     0.32633,     0.32733,     0.32833,     0.32933,     0.33033,     0.33133,     0.33233,     0.33333,     0.33433,     0.33534,\n",
      "           0.33634,     0.33734,     0.33834,     0.33934,     0.34034,     0.34134,     0.34234,     0.34334,     0.34434,     0.34535,     0.34635,     0.34735,     0.34835,     0.34935,     0.35035,     0.35135,     0.35235,     0.35335,     0.35435,     0.35536,     0.35636,     0.35736,     0.35836,     0.35936,\n",
      "           0.36036,     0.36136,     0.36236,     0.36336,     0.36436,     0.36537,     0.36637,     0.36737,     0.36837,     0.36937,     0.37037,     0.37137,     0.37237,     0.37337,     0.37437,     0.37538,     0.37638,     0.37738,     0.37838,     0.37938,     0.38038,     0.38138,     0.38238,     0.38338,\n",
      "           0.38438,     0.38539,     0.38639,     0.38739,     0.38839,     0.38939,     0.39039,     0.39139,     0.39239,     0.39339,     0.39439,      0.3954,      0.3964,      0.3974,      0.3984,      0.3994,      0.4004,      0.4014,      0.4024,      0.4034,      0.4044,     0.40541,     0.40641,     0.40741,\n",
      "           0.40841,     0.40941,     0.41041,     0.41141,     0.41241,     0.41341,     0.41441,     0.41542,     0.41642,     0.41742,     0.41842,     0.41942,     0.42042,     0.42142,     0.42242,     0.42342,     0.42442,     0.42543,     0.42643,     0.42743,     0.42843,     0.42943,     0.43043,     0.43143,\n",
      "           0.43243,     0.43343,     0.43443,     0.43544,     0.43644,     0.43744,     0.43844,     0.43944,     0.44044,     0.44144,     0.44244,     0.44344,     0.44444,     0.44545,     0.44645,     0.44745,     0.44845,     0.44945,     0.45045,     0.45145,     0.45245,     0.45345,     0.45445,     0.45546,\n",
      "           0.45646,     0.45746,     0.45846,     0.45946,     0.46046,     0.46146,     0.46246,     0.46346,     0.46446,     0.46547,     0.46647,     0.46747,     0.46847,     0.46947,     0.47047,     0.47147,     0.47247,     0.47347,     0.47447,     0.47548,     0.47648,     0.47748,     0.47848,     0.47948,\n",
      "           0.48048,     0.48148,     0.48248,     0.48348,     0.48448,     0.48549,     0.48649,     0.48749,     0.48849,     0.48949,     0.49049,     0.49149,     0.49249,     0.49349,     0.49449,      0.4955,      0.4965,      0.4975,      0.4985,      0.4995,      0.5005,      0.5015,      0.5025,      0.5035,\n",
      "            0.5045,     0.50551,     0.50651,     0.50751,     0.50851,     0.50951,     0.51051,     0.51151,     0.51251,     0.51351,     0.51451,     0.51552,     0.51652,     0.51752,     0.51852,     0.51952,     0.52052,     0.52152,     0.52252,     0.52352,     0.52452,     0.52553,     0.52653,     0.52753,\n",
      "           0.52853,     0.52953,     0.53053,     0.53153,     0.53253,     0.53353,     0.53453,     0.53554,     0.53654,     0.53754,     0.53854,     0.53954,     0.54054,     0.54154,     0.54254,     0.54354,     0.54454,     0.54555,     0.54655,     0.54755,     0.54855,     0.54955,     0.55055,     0.55155,\n",
      "           0.55255,     0.55355,     0.55455,     0.55556,     0.55656,     0.55756,     0.55856,     0.55956,     0.56056,     0.56156,     0.56256,     0.56356,     0.56456,     0.56557,     0.56657,     0.56757,     0.56857,     0.56957,     0.57057,     0.57157,     0.57257,     0.57357,     0.57457,     0.57558,\n",
      "           0.57658,     0.57758,     0.57858,     0.57958,     0.58058,     0.58158,     0.58258,     0.58358,     0.58458,     0.58559,     0.58659,     0.58759,     0.58859,     0.58959,     0.59059,     0.59159,     0.59259,     0.59359,     0.59459,      0.5956,      0.5966,      0.5976,      0.5986,      0.5996,\n",
      "            0.6006,      0.6016,      0.6026,      0.6036,      0.6046,     0.60561,     0.60661,     0.60761,     0.60861,     0.60961,     0.61061,     0.61161,     0.61261,     0.61361,     0.61461,     0.61562,     0.61662,     0.61762,     0.61862,     0.61962,     0.62062,     0.62162,     0.62262,     0.62362,\n",
      "           0.62462,     0.62563,     0.62663,     0.62763,     0.62863,     0.62963,     0.63063,     0.63163,     0.63263,     0.63363,     0.63463,     0.63564,     0.63664,     0.63764,     0.63864,     0.63964,     0.64064,     0.64164,     0.64264,     0.64364,     0.64464,     0.64565,     0.64665,     0.64765,\n",
      "           0.64865,     0.64965,     0.65065,     0.65165,     0.65265,     0.65365,     0.65465,     0.65566,     0.65666,     0.65766,     0.65866,     0.65966,     0.66066,     0.66166,     0.66266,     0.66366,     0.66466,     0.66567,     0.66667,     0.66767,     0.66867,     0.66967,     0.67067,     0.67167,\n",
      "           0.67267,     0.67367,     0.67467,     0.67568,     0.67668,     0.67768,     0.67868,     0.67968,     0.68068,     0.68168,     0.68268,     0.68368,     0.68468,     0.68569,     0.68669,     0.68769,     0.68869,     0.68969,     0.69069,     0.69169,     0.69269,     0.69369,     0.69469,      0.6957,\n",
      "            0.6967,      0.6977,      0.6987,      0.6997,      0.7007,      0.7017,      0.7027,      0.7037,      0.7047,     0.70571,     0.70671,     0.70771,     0.70871,     0.70971,     0.71071,     0.71171,     0.71271,     0.71371,     0.71471,     0.71572,     0.71672,     0.71772,     0.71872,     0.71972,\n",
      "           0.72072,     0.72172,     0.72272,     0.72372,     0.72472,     0.72573,     0.72673,     0.72773,     0.72873,     0.72973,     0.73073,     0.73173,     0.73273,     0.73373,     0.73473,     0.73574,     0.73674,     0.73774,     0.73874,     0.73974,     0.74074,     0.74174,     0.74274,     0.74374,\n",
      "           0.74474,     0.74575,     0.74675,     0.74775,     0.74875,     0.74975,     0.75075,     0.75175,     0.75275,     0.75375,     0.75475,     0.75576,     0.75676,     0.75776,     0.75876,     0.75976,     0.76076,     0.76176,     0.76276,     0.76376,     0.76476,     0.76577,     0.76677,     0.76777,\n",
      "           0.76877,     0.76977,     0.77077,     0.77177,     0.77277,     0.77377,     0.77477,     0.77578,     0.77678,     0.77778,     0.77878,     0.77978,     0.78078,     0.78178,     0.78278,     0.78378,     0.78478,     0.78579,     0.78679,     0.78779,     0.78879,     0.78979,     0.79079,     0.79179,\n",
      "           0.79279,     0.79379,     0.79479,      0.7958,      0.7968,      0.7978,      0.7988,      0.7998,      0.8008,      0.8018,      0.8028,      0.8038,      0.8048,     0.80581,     0.80681,     0.80781,     0.80881,     0.80981,     0.81081,     0.81181,     0.81281,     0.81381,     0.81481,     0.81582,\n",
      "           0.81682,     0.81782,     0.81882,     0.81982,     0.82082,     0.82182,     0.82282,     0.82382,     0.82482,     0.82583,     0.82683,     0.82783,     0.82883,     0.82983,     0.83083,     0.83183,     0.83283,     0.83383,     0.83483,     0.83584,     0.83684,     0.83784,     0.83884,     0.83984,\n",
      "           0.84084,     0.84184,     0.84284,     0.84384,     0.84484,     0.84585,     0.84685,     0.84785,     0.84885,     0.84985,     0.85085,     0.85185,     0.85285,     0.85385,     0.85485,     0.85586,     0.85686,     0.85786,     0.85886,     0.85986,     0.86086,     0.86186,     0.86286,     0.86386,\n",
      "           0.86486,     0.86587,     0.86687,     0.86787,     0.86887,     0.86987,     0.87087,     0.87187,     0.87287,     0.87387,     0.87487,     0.87588,     0.87688,     0.87788,     0.87888,     0.87988,     0.88088,     0.88188,     0.88288,     0.88388,     0.88488,     0.88589,     0.88689,     0.88789,\n",
      "           0.88889,     0.88989,     0.89089,     0.89189,     0.89289,     0.89389,     0.89489,      0.8959,      0.8969,      0.8979,      0.8989,      0.8999,      0.9009,      0.9019,      0.9029,      0.9039,      0.9049,     0.90591,     0.90691,     0.90791,     0.90891,     0.90991,     0.91091,     0.91191,\n",
      "           0.91291,     0.91391,     0.91491,     0.91592,     0.91692,     0.91792,     0.91892,     0.91992,     0.92092,     0.92192,     0.92292,     0.92392,     0.92492,     0.92593,     0.92693,     0.92793,     0.92893,     0.92993,     0.93093,     0.93193,     0.93293,     0.93393,     0.93493,     0.93594,\n",
      "           0.93694,     0.93794,     0.93894,     0.93994,     0.94094,     0.94194,     0.94294,     0.94394,     0.94494,     0.94595,     0.94695,     0.94795,     0.94895,     0.94995,     0.95095,     0.95195,     0.95295,     0.95395,     0.95495,     0.95596,     0.95696,     0.95796,     0.95896,     0.95996,\n",
      "           0.96096,     0.96196,     0.96296,     0.96396,     0.96496,     0.96597,     0.96697,     0.96797,     0.96897,     0.96997,     0.97097,     0.97197,     0.97297,     0.97397,     0.97497,     0.97598,     0.97698,     0.97798,     0.97898,     0.97998,     0.98098,     0.98198,     0.98298,     0.98398,\n",
      "           0.98498,     0.98599,     0.98699,     0.98799,     0.98899,     0.98999,     0.99099,     0.99199,     0.99299,     0.99399,     0.99499,       0.996,       0.997,       0.998,       0.999,           1]), array([[          1,           1,           1,           1,           1,           1,           1,           1,           1,           1,           1,           1,           1,           1,           1,           1,           1,           1,           1,           1,           1,           1,           1,\n",
      "                  1,           1,           1,           1,           1,           1,           1,           1,           1,           1,           1,           1,           1,           1,           1,           1,           1,           1,           1,           1,           1,           1,           1,\n",
      "                  1,           1,           1,           1,           1,           1,           1,           1,           1,           1,           1,           1,           1,           1,           1,           1,           1,           1,           1,           1,           1,           1,           1,\n",
      "                  1,           1,           1,           1,           1,           1,           1,           1,           1,           1,           1,           1,           1,           1,           1,           1,           1,           1,           1,           1,           1,           1,           1,\n",
      "                  1,           1,           1,           1,           1,           1,           1,           1,           1,           1,           1,           1,           1,           1,           1,           1,           1,           1,           1,           1,           1,           1,           1,\n",
      "                  1,           1,           1,           1,           1,           1,           1,           1,           1,           1,           1,           1,           1,           1,           1,           1,           1,           1,           1,           1,           1,           1,           1,\n",
      "                  1,           1,           1,           1,           1,           1,           1,           1,           1,           1,           1,           1,           1,           1,           1,           1,           1,           1,           1,           1,           1,           1,           1,\n",
      "                  1,           1,           1,           1,           1,           1,           1,           1,           1,           1,           1,           1,           1,           1,           1,           1,           1,           1,           1,           1,           1,           1,           1,\n",
      "                  1,           1,           1,           1,           1,           1,           1,           1,           1,           1,           1,           1,           1,           1,           1,           1,           1,           1,           1,           1,           1,           1,           1,\n",
      "                  1,           1,           1,           1,           1,           1,           1,           1,           1,           1,           1,           1,           1,           1,           1,           1,           1,           1,           1,           1,           1,           1,           1,\n",
      "                  1,           1,           1,           1,           1,           1,           1,           1,           1,           1,           1,           1,     0.97872,     0.97872,     0.97872,     0.97872,     0.97872,     0.97872,     0.97872,     0.97872,     0.97872,     0.97872,     0.97872,\n",
      "            0.97872,     0.97872,     0.97872,     0.97872,     0.97872,     0.97872,     0.97872,     0.97872,     0.97872,     0.97872,     0.97872,     0.97872,     0.96078,     0.96078,     0.96078,     0.96078,     0.96078,     0.96078,     0.96078,     0.96078,     0.96078,     0.96078,     0.96078,\n",
      "            0.96078,     0.96078,     0.96078,     0.96078,     0.96078,     0.96078,     0.94545,     0.94545,     0.94545,     0.94545,     0.94545,     0.94545,     0.94545,     0.94545,     0.94545,     0.94545,     0.94545,     0.94545,     0.94545,     0.94545,     0.94545,     0.94545,     0.94545,\n",
      "             0.9322,      0.9322,      0.9322,      0.9322,      0.9322,      0.9322,      0.9322,      0.9322,      0.9322,      0.9322,      0.9322,      0.9322,      0.9322,      0.9322,      0.9322,      0.9322,      0.9322,     0.92424,     0.92424,     0.92424,     0.92424,     0.92424,     0.92424,\n",
      "            0.92424,     0.92424,     0.92424,     0.92424,     0.92424,     0.92424,     0.92424,     0.92424,     0.92424,     0.92424,     0.92424,     0.92424,     0.92424,     0.92424,     0.92424,     0.92424,     0.92424,     0.92424,     0.92424,     0.92424,     0.92424,     0.92424,     0.92424,\n",
      "            0.92424,     0.92424,     0.92424,     0.92424,     0.92424,     0.92424,     0.91781,     0.91781,     0.91781,     0.91781,     0.91781,     0.91781,     0.91781,     0.91781,     0.91781,     0.91781,     0.91781,     0.91781,     0.91781,     0.91781,     0.91781,     0.91781,     0.91781,\n",
      "            0.91781,     0.91781,     0.91781,     0.91781,     0.91781,     0.91781,     0.91781,     0.91781,     0.91781,     0.91781,     0.91781,     0.91781,     0.91781,     0.91781,     0.91781,     0.91781,     0.91781,     0.91765,     0.91765,     0.91765,     0.91765,     0.91765,     0.91765,\n",
      "            0.91765,     0.91765,     0.91765,     0.91765,     0.91765,     0.91765,     0.91765,     0.91765,     0.91765,     0.91765,     0.91765,     0.91765,     0.91765,     0.91765,     0.91765,     0.91765,     0.91765,     0.91765,     0.91765,     0.91765,     0.91765,     0.91765,     0.91765,\n",
      "            0.91765,     0.91765,     0.91765,     0.91765,     0.91765,     0.91765,     0.91765,     0.91765,     0.91765,     0.91765,     0.91765,     0.91765,     0.91765,     0.91765,     0.91765,     0.91765,     0.91765,     0.91765,     0.91765,     0.91765,     0.91765,     0.91765,     0.91765,\n",
      "            0.91765,     0.91765,     0.91765,     0.91765,     0.91765,     0.91765,     0.91765,     0.91765,     0.91765,     0.91765,     0.91765,     0.91304,     0.91304,     0.91304,     0.91304,     0.91304,     0.91304,     0.91304,     0.91304,     0.91304,     0.91304,     0.91304,     0.91304,\n",
      "            0.91304,     0.91304,     0.91304,     0.91304,     0.91304,     0.91304,     0.91304,     0.91304,     0.91304,     0.91304,     0.91304,     0.91304,     0.91304,     0.91304,     0.91304,     0.91304,     0.91304,     0.91304,     0.91304,     0.91304,     0.91304,     0.91304,     0.91304,\n",
      "            0.90526,     0.90526,     0.90526,     0.90526,     0.90526,     0.90526,     0.90526,     0.90526,     0.90526,     0.90526,     0.90526,     0.89899,     0.89899,     0.89899,     0.89899,     0.89899,     0.89899,     0.89899,     0.89899,     0.89899,     0.89899,     0.89899,     0.89899,\n",
      "            0.89899,     0.89899,     0.89899,     0.89899,     0.89899,     0.87619,     0.87619,     0.87619,     0.87619,     0.87619,     0.87619,     0.87619,     0.87619,     0.87619,     0.87619,     0.87619,     0.87619,     0.87619,     0.87619,     0.87619,     0.87619,     0.87619,     0.87619,\n",
      "            0.87037,     0.87037,     0.87037,     0.87037,     0.87037,     0.87037,     0.87037,     0.87037,     0.87037,     0.87037,     0.87037,     0.86607,     0.86607,     0.86607,     0.86607,     0.86607,     0.86607,     0.86607,     0.86607,     0.86607,     0.86607,     0.86607,     0.86607,\n",
      "            0.86607,     0.86607,     0.86607,     0.86607,     0.86607,     0.85965,     0.85965,     0.85965,     0.85965,     0.85965,     0.85965,     0.84426,     0.84426,     0.84426,     0.84426,     0.84426,     0.84426,     0.84426,     0.84426,     0.84426,     0.84426,     0.84426,     0.84426,\n",
      "            0.84426,     0.84426,     0.84426,     0.84426,     0.84426,     0.84426,     0.84426,     0.84426,     0.84426,     0.84426,     0.84426,     0.84426,     0.84426,     0.84426,     0.84426,     0.84426,     0.84426,        0.84,        0.84,        0.84,        0.84,        0.84,        0.84,\n",
      "               0.84,        0.84,        0.84,        0.84,        0.84,     0.81538,     0.81538,     0.81538,     0.81538,     0.81538,     0.81538,     0.80597,     0.80597,     0.80597,     0.80597,     0.80597,     0.80597,     0.80597,     0.80597,     0.80597,     0.80597,     0.80597,     0.80597,\n",
      "            0.80576,     0.80576,     0.80576,     0.80576,     0.80576,     0.80576,     0.80576,     0.80576,     0.80576,     0.80576,     0.80576,     0.80576,     0.80576,     0.80576,     0.80576,     0.80576,     0.80576,     0.80576,     0.80576,     0.80576,     0.80576,     0.80576,     0.80576,\n",
      "            0.79577,     0.79577,     0.79577,     0.79577,     0.79577,     0.77027,     0.77027,     0.77027,     0.77027,     0.77027,     0.77027,     0.71875,     0.71875,     0.71875,     0.71875,     0.71875,     0.71875,     0.71605,     0.71605,     0.71605,     0.71605,     0.71605,     0.69412,\n",
      "            0.69412,     0.69412,     0.69412,     0.69412,     0.69412,     0.69412,     0.69412,     0.69412,     0.69412,     0.69412,     0.69412,     0.68391,     0.68391,     0.68391,     0.68391,     0.68391,     0.68391,     0.68182,     0.68182,     0.68182,     0.68182,     0.68182,     0.67978,\n",
      "            0.67978,     0.67978,     0.67978,     0.67978,     0.67978,     0.66486,     0.66486,     0.66486,     0.66486,     0.66486,     0.66486,     0.66486,     0.66486,     0.66486,     0.66486,     0.66486,     0.66486,     0.58216,     0.58216,     0.58216,     0.58216,     0.58216,     0.50813,\n",
      "            0.50813,     0.50813,     0.50813,     0.50813,     0.50813,     0.45652,     0.45652,     0.45652,     0.45652,     0.45652,     0.45652,     0.42053,     0.42053,     0.42053,     0.42053,     0.42053,     0.42053,     0.36571,     0.36571,     0.36571,     0.36571,     0.36571,     0.35246,\n",
      "            0.35246,     0.35246,     0.35246,     0.35246,     0.35246,     0.30806,     0.30806,     0.30806,     0.30806,     0.30806,     0.30806,     0.28051,     0.28051,     0.28051,     0.28051,     0.28051,     0.28051,     0.22997,     0.22997,     0.22997,     0.22997,     0.22997,     0.22931,\n",
      "            0.22931,     0.22931,     0.22931,     0.22931,     0.22931,     0.22259,     0.22259,     0.22259,     0.22259,     0.22259,     0.22259,     0.20362,     0.20362,     0.20362,     0.20362,     0.20362,     0.20362,     0.19883,     0.19883,     0.19883,     0.19883,     0.19883,     0.13824,\n",
      "            0.13824,     0.13824,     0.13824,     0.13824,     0.13824,     0.11706,      0.1165,     0.11595,      0.1154,     0.11485,      0.1143,     0.11374,     0.11319,     0.11264,     0.11209,     0.11153,     0.11098,     0.11043,     0.10988,     0.10933,     0.10877,     0.10822,     0.10767,\n",
      "            0.10712,     0.10657,     0.10601,     0.10546,     0.10491,     0.10436,      0.1038,     0.10325,      0.1027,     0.10215,      0.1016,     0.10104,     0.10049,     0.09994,    0.099388,    0.098835,    0.098283,    0.097731,    0.097179,    0.096627,    0.096075,    0.095523,     0.09497,\n",
      "           0.094418,    0.093866,    0.093314,    0.092762,     0.09221,    0.091657,    0.091105,    0.090553,    0.090001,    0.089449,    0.088897,    0.088345,    0.087792,     0.08724,    0.086688,    0.086136,    0.085584,    0.085032,    0.084479,    0.083927,    0.083375,    0.082823,    0.082271,\n",
      "           0.081719,    0.081167,    0.080614,    0.080062,     0.07951,    0.078958,    0.078406,    0.077854,    0.077301,    0.076749,    0.076197,    0.075645,    0.075093,    0.074541,    0.073989,    0.073436,    0.072884,    0.072332,     0.07178,    0.071228,    0.070676,    0.070123,    0.069571,\n",
      "           0.069019,    0.068467,    0.067915,    0.067363,    0.066811,    0.066258,    0.065706,    0.065154,    0.064602,     0.06405,    0.063498,    0.062945,    0.062393,    0.061841,    0.061289,    0.060737,    0.060185,    0.059633,     0.05908,    0.058528,    0.057976,    0.057424,    0.056872,\n",
      "            0.05632,    0.055767,    0.055215,    0.054663,    0.054111,    0.053559,    0.053007,    0.052455,    0.051902,     0.05135,    0.050798,    0.050246,    0.049694,    0.049142,     0.04859,    0.048037,    0.047485,    0.046933,    0.046381,    0.045829,    0.045277,    0.044724,    0.044172,\n",
      "            0.04362,    0.043068,    0.042516,    0.041964,    0.041412,    0.040859,    0.040307,    0.039755,    0.039203,    0.038651,    0.038099,    0.037546,    0.036994,    0.036442,     0.03589,    0.035338,    0.034786,    0.034234,    0.033681,    0.033129,    0.032577,    0.032025,    0.031473,\n",
      "           0.030921,    0.030368,    0.029816,    0.029264,    0.028712,     0.02816,    0.027608,    0.027056,    0.026503,    0.025951,    0.025399,    0.024847,    0.024295,    0.023743,     0.02319,    0.022638,    0.022086,    0.021534,    0.020982,     0.02043,    0.019878,    0.019325,    0.018773,\n",
      "           0.018221,    0.017669,    0.017117,    0.016565,    0.016012,     0.01546,    0.014908,    0.014356,    0.013804,    0.013252,      0.0127,    0.012147,    0.011595,    0.011043,    0.010491,   0.0099388,   0.0093866,   0.0088345,   0.0082823,   0.0077301,    0.007178,   0.0066258,   0.0060737,\n",
      "          0.0055215,   0.0049694,   0.0044172,   0.0038651,   0.0033129,   0.0027608,   0.0022086,   0.0016565,   0.0011043,  0.00055215,           0]]), 'Recall', 'Precision'], [array([          0,    0.001001,    0.002002,    0.003003,    0.004004,    0.005005,    0.006006,    0.007007,    0.008008,    0.009009,     0.01001,    0.011011,    0.012012,    0.013013,    0.014014,    0.015015,    0.016016,    0.017017,    0.018018,    0.019019,     0.02002,    0.021021,    0.022022,    0.023023,\n",
      "          0.024024,    0.025025,    0.026026,    0.027027,    0.028028,    0.029029,     0.03003,    0.031031,    0.032032,    0.033033,    0.034034,    0.035035,    0.036036,    0.037037,    0.038038,    0.039039,     0.04004,    0.041041,    0.042042,    0.043043,    0.044044,    0.045045,    0.046046,    0.047047,\n",
      "          0.048048,    0.049049,     0.05005,    0.051051,    0.052052,    0.053053,    0.054054,    0.055055,    0.056056,    0.057057,    0.058058,    0.059059,     0.06006,    0.061061,    0.062062,    0.063063,    0.064064,    0.065065,    0.066066,    0.067067,    0.068068,    0.069069,     0.07007,    0.071071,\n",
      "          0.072072,    0.073073,    0.074074,    0.075075,    0.076076,    0.077077,    0.078078,    0.079079,     0.08008,    0.081081,    0.082082,    0.083083,    0.084084,    0.085085,    0.086086,    0.087087,    0.088088,    0.089089,     0.09009,    0.091091,    0.092092,    0.093093,    0.094094,    0.095095,\n",
      "          0.096096,    0.097097,    0.098098,    0.099099,      0.1001,      0.1011,      0.1021,      0.1031,      0.1041,     0.10511,     0.10611,     0.10711,     0.10811,     0.10911,     0.11011,     0.11111,     0.11211,     0.11311,     0.11411,     0.11512,     0.11612,     0.11712,     0.11812,     0.11912,\n",
      "           0.12012,     0.12112,     0.12212,     0.12312,     0.12412,     0.12513,     0.12613,     0.12713,     0.12813,     0.12913,     0.13013,     0.13113,     0.13213,     0.13313,     0.13413,     0.13514,     0.13614,     0.13714,     0.13814,     0.13914,     0.14014,     0.14114,     0.14214,     0.14314,\n",
      "           0.14414,     0.14515,     0.14615,     0.14715,     0.14815,     0.14915,     0.15015,     0.15115,     0.15215,     0.15315,     0.15415,     0.15516,     0.15616,     0.15716,     0.15816,     0.15916,     0.16016,     0.16116,     0.16216,     0.16316,     0.16416,     0.16517,     0.16617,     0.16717,\n",
      "           0.16817,     0.16917,     0.17017,     0.17117,     0.17217,     0.17317,     0.17417,     0.17518,     0.17618,     0.17718,     0.17818,     0.17918,     0.18018,     0.18118,     0.18218,     0.18318,     0.18418,     0.18519,     0.18619,     0.18719,     0.18819,     0.18919,     0.19019,     0.19119,\n",
      "           0.19219,     0.19319,     0.19419,      0.1952,      0.1962,      0.1972,      0.1982,      0.1992,      0.2002,      0.2012,      0.2022,      0.2032,      0.2042,     0.20521,     0.20621,     0.20721,     0.20821,     0.20921,     0.21021,     0.21121,     0.21221,     0.21321,     0.21421,     0.21522,\n",
      "           0.21622,     0.21722,     0.21822,     0.21922,     0.22022,     0.22122,     0.22222,     0.22322,     0.22422,     0.22523,     0.22623,     0.22723,     0.22823,     0.22923,     0.23023,     0.23123,     0.23223,     0.23323,     0.23423,     0.23524,     0.23624,     0.23724,     0.23824,     0.23924,\n",
      "           0.24024,     0.24124,     0.24224,     0.24324,     0.24424,     0.24525,     0.24625,     0.24725,     0.24825,     0.24925,     0.25025,     0.25125,     0.25225,     0.25325,     0.25425,     0.25526,     0.25626,     0.25726,     0.25826,     0.25926,     0.26026,     0.26126,     0.26226,     0.26326,\n",
      "           0.26426,     0.26527,     0.26627,     0.26727,     0.26827,     0.26927,     0.27027,     0.27127,     0.27227,     0.27327,     0.27427,     0.27528,     0.27628,     0.27728,     0.27828,     0.27928,     0.28028,     0.28128,     0.28228,     0.28328,     0.28428,     0.28529,     0.28629,     0.28729,\n",
      "           0.28829,     0.28929,     0.29029,     0.29129,     0.29229,     0.29329,     0.29429,      0.2953,      0.2963,      0.2973,      0.2983,      0.2993,      0.3003,      0.3013,      0.3023,      0.3033,      0.3043,     0.30531,     0.30631,     0.30731,     0.30831,     0.30931,     0.31031,     0.31131,\n",
      "           0.31231,     0.31331,     0.31431,     0.31532,     0.31632,     0.31732,     0.31832,     0.31932,     0.32032,     0.32132,     0.32232,     0.32332,     0.32432,     0.32533,     0.32633,     0.32733,     0.32833,     0.32933,     0.33033,     0.33133,     0.33233,     0.33333,     0.33433,     0.33534,\n",
      "           0.33634,     0.33734,     0.33834,     0.33934,     0.34034,     0.34134,     0.34234,     0.34334,     0.34434,     0.34535,     0.34635,     0.34735,     0.34835,     0.34935,     0.35035,     0.35135,     0.35235,     0.35335,     0.35435,     0.35536,     0.35636,     0.35736,     0.35836,     0.35936,\n",
      "           0.36036,     0.36136,     0.36236,     0.36336,     0.36436,     0.36537,     0.36637,     0.36737,     0.36837,     0.36937,     0.37037,     0.37137,     0.37237,     0.37337,     0.37437,     0.37538,     0.37638,     0.37738,     0.37838,     0.37938,     0.38038,     0.38138,     0.38238,     0.38338,\n",
      "           0.38438,     0.38539,     0.38639,     0.38739,     0.38839,     0.38939,     0.39039,     0.39139,     0.39239,     0.39339,     0.39439,      0.3954,      0.3964,      0.3974,      0.3984,      0.3994,      0.4004,      0.4014,      0.4024,      0.4034,      0.4044,     0.40541,     0.40641,     0.40741,\n",
      "           0.40841,     0.40941,     0.41041,     0.41141,     0.41241,     0.41341,     0.41441,     0.41542,     0.41642,     0.41742,     0.41842,     0.41942,     0.42042,     0.42142,     0.42242,     0.42342,     0.42442,     0.42543,     0.42643,     0.42743,     0.42843,     0.42943,     0.43043,     0.43143,\n",
      "           0.43243,     0.43343,     0.43443,     0.43544,     0.43644,     0.43744,     0.43844,     0.43944,     0.44044,     0.44144,     0.44244,     0.44344,     0.44444,     0.44545,     0.44645,     0.44745,     0.44845,     0.44945,     0.45045,     0.45145,     0.45245,     0.45345,     0.45445,     0.45546,\n",
      "           0.45646,     0.45746,     0.45846,     0.45946,     0.46046,     0.46146,     0.46246,     0.46346,     0.46446,     0.46547,     0.46647,     0.46747,     0.46847,     0.46947,     0.47047,     0.47147,     0.47247,     0.47347,     0.47447,     0.47548,     0.47648,     0.47748,     0.47848,     0.47948,\n",
      "           0.48048,     0.48148,     0.48248,     0.48348,     0.48448,     0.48549,     0.48649,     0.48749,     0.48849,     0.48949,     0.49049,     0.49149,     0.49249,     0.49349,     0.49449,      0.4955,      0.4965,      0.4975,      0.4985,      0.4995,      0.5005,      0.5015,      0.5025,      0.5035,\n",
      "            0.5045,     0.50551,     0.50651,     0.50751,     0.50851,     0.50951,     0.51051,     0.51151,     0.51251,     0.51351,     0.51451,     0.51552,     0.51652,     0.51752,     0.51852,     0.51952,     0.52052,     0.52152,     0.52252,     0.52352,     0.52452,     0.52553,     0.52653,     0.52753,\n",
      "           0.52853,     0.52953,     0.53053,     0.53153,     0.53253,     0.53353,     0.53453,     0.53554,     0.53654,     0.53754,     0.53854,     0.53954,     0.54054,     0.54154,     0.54254,     0.54354,     0.54454,     0.54555,     0.54655,     0.54755,     0.54855,     0.54955,     0.55055,     0.55155,\n",
      "           0.55255,     0.55355,     0.55455,     0.55556,     0.55656,     0.55756,     0.55856,     0.55956,     0.56056,     0.56156,     0.56256,     0.56356,     0.56456,     0.56557,     0.56657,     0.56757,     0.56857,     0.56957,     0.57057,     0.57157,     0.57257,     0.57357,     0.57457,     0.57558,\n",
      "           0.57658,     0.57758,     0.57858,     0.57958,     0.58058,     0.58158,     0.58258,     0.58358,     0.58458,     0.58559,     0.58659,     0.58759,     0.58859,     0.58959,     0.59059,     0.59159,     0.59259,     0.59359,     0.59459,      0.5956,      0.5966,      0.5976,      0.5986,      0.5996,\n",
      "            0.6006,      0.6016,      0.6026,      0.6036,      0.6046,     0.60561,     0.60661,     0.60761,     0.60861,     0.60961,     0.61061,     0.61161,     0.61261,     0.61361,     0.61461,     0.61562,     0.61662,     0.61762,     0.61862,     0.61962,     0.62062,     0.62162,     0.62262,     0.62362,\n",
      "           0.62462,     0.62563,     0.62663,     0.62763,     0.62863,     0.62963,     0.63063,     0.63163,     0.63263,     0.63363,     0.63463,     0.63564,     0.63664,     0.63764,     0.63864,     0.63964,     0.64064,     0.64164,     0.64264,     0.64364,     0.64464,     0.64565,     0.64665,     0.64765,\n",
      "           0.64865,     0.64965,     0.65065,     0.65165,     0.65265,     0.65365,     0.65465,     0.65566,     0.65666,     0.65766,     0.65866,     0.65966,     0.66066,     0.66166,     0.66266,     0.66366,     0.66466,     0.66567,     0.66667,     0.66767,     0.66867,     0.66967,     0.67067,     0.67167,\n",
      "           0.67267,     0.67367,     0.67467,     0.67568,     0.67668,     0.67768,     0.67868,     0.67968,     0.68068,     0.68168,     0.68268,     0.68368,     0.68468,     0.68569,     0.68669,     0.68769,     0.68869,     0.68969,     0.69069,     0.69169,     0.69269,     0.69369,     0.69469,      0.6957,\n",
      "            0.6967,      0.6977,      0.6987,      0.6997,      0.7007,      0.7017,      0.7027,      0.7037,      0.7047,     0.70571,     0.70671,     0.70771,     0.70871,     0.70971,     0.71071,     0.71171,     0.71271,     0.71371,     0.71471,     0.71572,     0.71672,     0.71772,     0.71872,     0.71972,\n",
      "           0.72072,     0.72172,     0.72272,     0.72372,     0.72472,     0.72573,     0.72673,     0.72773,     0.72873,     0.72973,     0.73073,     0.73173,     0.73273,     0.73373,     0.73473,     0.73574,     0.73674,     0.73774,     0.73874,     0.73974,     0.74074,     0.74174,     0.74274,     0.74374,\n",
      "           0.74474,     0.74575,     0.74675,     0.74775,     0.74875,     0.74975,     0.75075,     0.75175,     0.75275,     0.75375,     0.75475,     0.75576,     0.75676,     0.75776,     0.75876,     0.75976,     0.76076,     0.76176,     0.76276,     0.76376,     0.76476,     0.76577,     0.76677,     0.76777,\n",
      "           0.76877,     0.76977,     0.77077,     0.77177,     0.77277,     0.77377,     0.77477,     0.77578,     0.77678,     0.77778,     0.77878,     0.77978,     0.78078,     0.78178,     0.78278,     0.78378,     0.78478,     0.78579,     0.78679,     0.78779,     0.78879,     0.78979,     0.79079,     0.79179,\n",
      "           0.79279,     0.79379,     0.79479,      0.7958,      0.7968,      0.7978,      0.7988,      0.7998,      0.8008,      0.8018,      0.8028,      0.8038,      0.8048,     0.80581,     0.80681,     0.80781,     0.80881,     0.80981,     0.81081,     0.81181,     0.81281,     0.81381,     0.81481,     0.81582,\n",
      "           0.81682,     0.81782,     0.81882,     0.81982,     0.82082,     0.82182,     0.82282,     0.82382,     0.82482,     0.82583,     0.82683,     0.82783,     0.82883,     0.82983,     0.83083,     0.83183,     0.83283,     0.83383,     0.83483,     0.83584,     0.83684,     0.83784,     0.83884,     0.83984,\n",
      "           0.84084,     0.84184,     0.84284,     0.84384,     0.84484,     0.84585,     0.84685,     0.84785,     0.84885,     0.84985,     0.85085,     0.85185,     0.85285,     0.85385,     0.85485,     0.85586,     0.85686,     0.85786,     0.85886,     0.85986,     0.86086,     0.86186,     0.86286,     0.86386,\n",
      "           0.86486,     0.86587,     0.86687,     0.86787,     0.86887,     0.86987,     0.87087,     0.87187,     0.87287,     0.87387,     0.87487,     0.87588,     0.87688,     0.87788,     0.87888,     0.87988,     0.88088,     0.88188,     0.88288,     0.88388,     0.88488,     0.88589,     0.88689,     0.88789,\n",
      "           0.88889,     0.88989,     0.89089,     0.89189,     0.89289,     0.89389,     0.89489,      0.8959,      0.8969,      0.8979,      0.8989,      0.8999,      0.9009,      0.9019,      0.9029,      0.9039,      0.9049,     0.90591,     0.90691,     0.90791,     0.90891,     0.90991,     0.91091,     0.91191,\n",
      "           0.91291,     0.91391,     0.91491,     0.91592,     0.91692,     0.91792,     0.91892,     0.91992,     0.92092,     0.92192,     0.92292,     0.92392,     0.92492,     0.92593,     0.92693,     0.92793,     0.92893,     0.92993,     0.93093,     0.93193,     0.93293,     0.93393,     0.93493,     0.93594,\n",
      "           0.93694,     0.93794,     0.93894,     0.93994,     0.94094,     0.94194,     0.94294,     0.94394,     0.94494,     0.94595,     0.94695,     0.94795,     0.94895,     0.94995,     0.95095,     0.95195,     0.95295,     0.95395,     0.95495,     0.95596,     0.95696,     0.95796,     0.95896,     0.95996,\n",
      "           0.96096,     0.96196,     0.96296,     0.96396,     0.96496,     0.96597,     0.96697,     0.96797,     0.96897,     0.96997,     0.97097,     0.97197,     0.97297,     0.97397,     0.97497,     0.97598,     0.97698,     0.97798,     0.97898,     0.97998,     0.98098,     0.98198,     0.98298,     0.98398,\n",
      "           0.98498,     0.98599,     0.98699,     0.98799,     0.98899,     0.98999,     0.99099,     0.99199,     0.99299,     0.99399,     0.99499,       0.996,       0.997,       0.998,       0.999,           1]), array([[    0.20417,     0.20417,     0.26929,     0.31218,     0.34355,      0.3729,     0.39423,     0.41466,     0.42608,     0.43573,     0.44781,     0.45697,     0.47299,     0.47908,     0.48494,     0.48631,     0.49506,      0.5016,     0.50718,     0.51168,     0.52061,     0.52922,     0.53338,\n",
      "             0.5383,     0.54611,     0.54805,     0.54895,      0.5527,      0.5577,     0.55981,      0.5616,     0.56581,     0.57298,     0.57915,     0.58399,     0.58717,     0.58814,     0.59216,     0.59527,     0.59978,     0.60644,     0.61038,     0.61368,     0.61699,     0.62096,     0.62452,\n",
      "            0.62721,     0.63201,     0.63606,     0.63705,     0.63821,     0.63933,     0.63993,     0.64052,     0.63753,     0.63827,     0.64064,     0.64133,     0.64202,     0.64263,     0.64319,     0.64374,     0.64799,      0.6495,      0.6502,     0.65084,     0.65116,     0.65148,     0.65179,\n",
      "            0.65211,     0.65242,     0.65462,     0.65574,     0.65638,     0.65686,     0.65735,     0.65783,     0.65829,     0.65875,      0.6592,     0.66023,     0.66224,     0.66673,      0.6675,     0.66826,     0.67112,     0.67283,     0.67453,      0.6753,     0.67606,      0.6768,     0.67754,\n",
      "            0.67809,      0.6786,     0.67911,     0.68007,     0.68238,     0.68361,     0.68451,     0.67974,     0.67909,     0.68069,     0.68214,     0.68318,     0.68605,     0.68708,     0.68396,     0.68454,     0.68511,     0.68569,     0.68355,     0.68231,     0.68351,     0.68307,     0.68181,\n",
      "            0.68054,     0.68244,     0.68299,     0.68355,     0.68464,     0.68241,     0.68155,     0.68086,     0.68017,     0.67948,     0.67878,     0.67942,     0.68063,     0.68106,     0.68148,     0.68191,     0.68233,     0.68258,     0.68282,     0.68306,      0.6833,     0.68354,     0.68378,\n",
      "            0.68402,     0.68426,     0.68491,      0.6859,     0.68678,     0.68754,      0.6883,     0.69011,     0.68961,      0.6891,      0.6886,      0.6881,     0.68759,     0.68709,     0.68658,     0.68746,     0.68839,     0.68498,     0.68569,     0.68639,     0.68782,     0.68937,     0.69038,\n",
      "            0.69241,     0.69339,     0.69386,     0.69433,     0.69479,     0.69553,     0.69688,     0.69889,     0.69992,     0.70061,      0.7013,     0.70377,     0.70409,     0.70442,     0.70474,     0.70506,     0.70539,     0.70571,     0.70677,     0.70712,     0.70412,     0.70569,     0.70658,\n",
      "            0.70708,     0.70757,     0.70807,     0.70859,     0.70921,     0.70983,     0.71045,     0.71168,       0.713,     0.71328,     0.71356,     0.71383,     0.71411,     0.71439,     0.71467,     0.71495,     0.71481,     0.71158,     0.71135,     0.71164,     0.71192,      0.7122,     0.71248,\n",
      "            0.71277,     0.71305,     0.71333,     0.71549,     0.71373,     0.71196,     0.71101,     0.71032,     0.70963,     0.70894,     0.70825,     0.70755,     0.70529,     0.70312,      0.7027,     0.70228,     0.70185,     0.70143,       0.701,     0.70058,     0.70015,     0.69973,      0.6993,\n",
      "            0.69914,     0.69945,     0.69977,     0.70008,     0.70039,      0.7007,     0.70102,     0.70125,      0.7007,     0.70016,     0.69961,     0.69906,     0.69851,     0.69796,     0.69742,     0.69648,     0.69487,     0.69326,     0.69375,     0.69505,     0.69554,     0.69601,     0.69648,\n",
      "            0.69695,     0.69723,     0.69592,     0.69461,      0.6933,     0.69342,     0.69386,     0.69429,     0.69472,     0.69515,     0.69555,     0.69593,     0.69631,     0.69669,     0.69706,     0.69744,     0.69784,     0.69829,     0.69873,     0.69918,     0.69962,     0.70005,     0.70036,\n",
      "            0.70068,       0.701,     0.70131,     0.70163,     0.70195,     0.70226,      0.7018,     0.70108,     0.70036,     0.69963,     0.69891,     0.69819,     0.69779,     0.69751,     0.69724,     0.69697,     0.69669,     0.69642,     0.69614,     0.69587,      0.6956,     0.69532,     0.69505,\n",
      "            0.69477,      0.6945,     0.69422,     0.69395,     0.69367,      0.6937,     0.69383,     0.69396,     0.69409,     0.69422,     0.69435,     0.69448,     0.69461,     0.69474,     0.69487,       0.695,     0.69513,     0.69526,     0.69539,     0.69552,     0.69565,     0.69578,     0.69591,\n",
      "            0.69539,      0.6946,     0.69382,     0.69304,     0.69226,     0.69151,     0.69122,     0.69093,     0.69065,     0.69036,     0.69008,     0.68979,      0.6895,     0.68922,     0.68893,     0.68864,     0.68835,     0.68807,     0.68778,     0.68749,     0.68721,      0.6865,     0.68543,\n",
      "            0.68437,      0.6833,     0.68212,     0.68072,     0.67932,     0.67774,     0.67475,     0.67362,     0.67376,      0.6739,     0.67404,     0.67418,     0.67431,     0.67445,     0.67459,     0.67473,     0.67487,       0.675,     0.67514,     0.67528,     0.67542,     0.67555,     0.67569,\n",
      "            0.67583,     0.67629,     0.67686,     0.67742,     0.67799,     0.67884,     0.67987,     0.67937,     0.67817,     0.67368,     0.67355,     0.67342,     0.67329,     0.67316,     0.67303,      0.6729,     0.67276,     0.67263,      0.6725,     0.67237,     0.67224,     0.67211,     0.67198,\n",
      "            0.67185,     0.67172,     0.67158,     0.67145,     0.67132,     0.67119,     0.67106,     0.67093,      0.6708,     0.67067,     0.67053,      0.6704,     0.67027,     0.67014,     0.67001,     0.66988,     0.66975,     0.66961,     0.66948,     0.66935,     0.66922,     0.66909,     0.66867,\n",
      "            0.66788,     0.66709,      0.6663,     0.66551,     0.66472,     0.66453,     0.66498,     0.66543,     0.66587,     0.66632,     0.66447,     0.66145,     0.66081,     0.66017,     0.65952,     0.65888,     0.65824,      0.6576,     0.65758,     0.65907,      0.6592,     0.65879,     0.65837,\n",
      "            0.65796,     0.65754,     0.65713,     0.65671,     0.65629,     0.65588,     0.65546,     0.65504,     0.65452,     0.65323,     0.65194,     0.65064,     0.64748,      0.6473,     0.64744,     0.64758,     0.64772,     0.64786,       0.648,     0.64814,     0.64828,     0.64842,     0.64856,\n",
      "             0.6487,     0.64884,     0.64897,     0.64911,     0.64925,     0.64939,     0.64953,     0.64969,     0.64994,     0.65018,     0.65043,     0.65067,     0.65092,     0.65116,     0.65141,     0.65165,      0.6519,     0.65183,     0.65146,      0.6511,     0.65073,     0.65037,        0.65,\n",
      "            0.64964,     0.64927,     0.64891,     0.64854,     0.64818,     0.64781,     0.64744,     0.64708,     0.64691,     0.64676,      0.6466,     0.64645,     0.64629,     0.64613,     0.64598,     0.64582,     0.64567,     0.64551,     0.64536,      0.6452,     0.64505,     0.64489,     0.64474,\n",
      "            0.64458,     0.64442,     0.64427,     0.64411,     0.64396,      0.6438,     0.64365,     0.64349,     0.64333,     0.64318,     0.64302,     0.64287,     0.64271,     0.64255,      0.6424,     0.64224,     0.64209,     0.64098,     0.63973,     0.63848,     0.63723,     0.63838,     0.63934,\n",
      "            0.63915,     0.63896,     0.63877,     0.63858,     0.63839,      0.6382,     0.63801,     0.63782,     0.63762,     0.63743,     0.63724,     0.63705,     0.63686,     0.63667,     0.63648,     0.63629,      0.6361,     0.63591,     0.63572,     0.63553,     0.63533,     0.63514,     0.63495,\n",
      "            0.63476,     0.63457,     0.63438,     0.63384,     0.63318,     0.63252,     0.63185,     0.63119,     0.63053,     0.62986,     0.62956,     0.63016,     0.62854,     0.62693,     0.62584,     0.62499,     0.62414,     0.62329,     0.62244,     0.62159,       0.621,     0.62061,     0.62022,\n",
      "            0.61984,     0.61945,     0.61906,     0.61867,     0.61828,     0.61789,     0.61751,     0.61712,     0.61673,     0.61634,     0.61587,     0.61391,     0.61195,     0.60689,     0.60462,     0.60375,     0.60288,       0.602,     0.60113,     0.60025,      0.6006,     0.60145,     0.60229,\n",
      "            0.60003,     0.59764,     0.59629,      0.5954,     0.59451,     0.59362,     0.59273,     0.59184,     0.59093,        0.59,     0.58907,     0.58813,      0.5872,     0.58627,     0.58296,     0.58014,     0.57959,     0.57903,     0.57847,     0.57792,     0.57736,      0.5768,     0.57624,\n",
      "            0.57568,     0.57512,     0.57336,     0.57004,     0.56773,     0.56577,     0.56381,     0.55161,     0.54948,     0.54733,     0.54478,     0.54173,     0.54053,     0.54092,     0.54131,      0.5417,     0.54209,     0.54247,     0.54127,      0.5399,     0.53853,     0.53715,     0.53633,\n",
      "            0.53589,     0.53545,     0.53501,     0.53457,     0.53413,     0.53369,     0.53325,     0.53281,     0.53237,     0.53192,     0.53148,     0.53104,     0.53057,     0.52914,     0.52771,     0.52627,     0.52483,     0.50623,     0.50658,     0.50692,     0.50727,     0.50761,     0.50795,\n",
      "            0.50829,     0.50596,     0.50325,      0.5015,     0.50046,     0.49941,     0.49837,     0.49733,     0.49628,     0.49017,     0.48616,      0.4819,     0.47578,     0.47392,     0.47205,     0.47018,     0.47083,     0.46901,     0.46719,     0.46364,      0.4582,     0.45734,     0.45648,\n",
      "            0.45562,     0.45476,      0.4539,     0.45304,     0.45217,     0.45309,     0.45399,     0.45136,     0.44796,     0.44047,     0.43369,     0.43391,     0.43413,     0.43435,     0.43456,     0.43478,     0.43499,     0.43521,     0.43542,     0.43455,     0.43177,     0.42897,     0.42642,\n",
      "            0.42391,     0.42127,     0.41667,     0.41551,     0.41275,     0.40998,      0.4061,     0.40175,     0.39932,     0.39689,     0.39445,     0.39224,     0.39002,      0.3878,     0.38747,     0.38801,     0.38854,     0.38658,     0.38059,     0.37713,     0.37339,     0.36242,     0.35386,\n",
      "            0.34645,     0.33481,      0.3261,     0.32463,     0.32317,      0.3217,     0.32023,     0.31815,     0.30847,     0.30257,     0.29722,     0.29263,     0.28911,     0.28555,     0.28165,     0.27773,     0.27377,     0.26978,     0.24842,     0.23457,     0.22738,     0.20484,     0.19546,\n",
      "             0.1895,     0.17715,     0.17464,     0.17212,      0.1696,      0.1673,      0.1652,     0.16309,     0.16098,     0.15887,     0.15692,     0.15498,     0.15303,     0.15109,     0.14913,      0.1261,     0.12104,     0.11397,    0.097734,    0.094351,    0.090955,    0.087729,    0.086008,\n",
      "           0.084284,    0.082556,    0.080826,    0.079093,    0.077356,    0.074814,    0.072261,    0.069701,    0.067135,    0.063782,    0.060244,    0.056693,    0.047331,    0.042259,    0.038833,    0.035396,    0.030694,    0.025001,    0.019959,    0.015345,           0,           0,           0,\n",
      "                  0,           0,           0,           0,           0,           0,           0,           0,           0,           0,           0,           0,           0,           0,           0,           0,           0,           0,           0,           0,           0,           0,           0,\n",
      "                  0,           0,           0,           0,           0,           0,           0,           0,           0,           0,           0,           0,           0,           0,           0,           0,           0,           0,           0,           0,           0,           0,           0,\n",
      "                  0,           0,           0,           0,           0,           0,           0,           0,           0,           0,           0,           0,           0,           0,           0,           0,           0,           0,           0,           0,           0,           0,           0,\n",
      "                  0,           0,           0,           0,           0,           0,           0,           0,           0,           0,           0,           0,           0,           0,           0,           0,           0,           0,           0,           0,           0,           0,           0,\n",
      "                  0,           0,           0,           0,           0,           0,           0,           0,           0,           0,           0,           0,           0,           0,           0,           0,           0,           0,           0,           0,           0,           0,           0,\n",
      "                  0,           0,           0,           0,           0,           0,           0,           0,           0,           0,           0,           0,           0,           0,           0,           0,           0,           0,           0,           0,           0,           0,           0,\n",
      "                  0,           0,           0,           0,           0,           0,           0,           0,           0,           0,           0,           0,           0,           0,           0,           0,           0,           0,           0,           0,           0,           0,           0,\n",
      "                  0,           0,           0,           0,           0,           0,           0,           0,           0,           0,           0,           0,           0,           0,           0,           0,           0,           0,           0,           0,           0,           0,           0,\n",
      "                  0,           0,           0,           0,           0,           0,           0,           0,           0,           0,           0]]), 'Confidence', 'F1'], [array([          0,    0.001001,    0.002002,    0.003003,    0.004004,    0.005005,    0.006006,    0.007007,    0.008008,    0.009009,     0.01001,    0.011011,    0.012012,    0.013013,    0.014014,    0.015015,    0.016016,    0.017017,    0.018018,    0.019019,     0.02002,    0.021021,    0.022022,    0.023023,\n",
      "          0.024024,    0.025025,    0.026026,    0.027027,    0.028028,    0.029029,     0.03003,    0.031031,    0.032032,    0.033033,    0.034034,    0.035035,    0.036036,    0.037037,    0.038038,    0.039039,     0.04004,    0.041041,    0.042042,    0.043043,    0.044044,    0.045045,    0.046046,    0.047047,\n",
      "          0.048048,    0.049049,     0.05005,    0.051051,    0.052052,    0.053053,    0.054054,    0.055055,    0.056056,    0.057057,    0.058058,    0.059059,     0.06006,    0.061061,    0.062062,    0.063063,    0.064064,    0.065065,    0.066066,    0.067067,    0.068068,    0.069069,     0.07007,    0.071071,\n",
      "          0.072072,    0.073073,    0.074074,    0.075075,    0.076076,    0.077077,    0.078078,    0.079079,     0.08008,    0.081081,    0.082082,    0.083083,    0.084084,    0.085085,    0.086086,    0.087087,    0.088088,    0.089089,     0.09009,    0.091091,    0.092092,    0.093093,    0.094094,    0.095095,\n",
      "          0.096096,    0.097097,    0.098098,    0.099099,      0.1001,      0.1011,      0.1021,      0.1031,      0.1041,     0.10511,     0.10611,     0.10711,     0.10811,     0.10911,     0.11011,     0.11111,     0.11211,     0.11311,     0.11411,     0.11512,     0.11612,     0.11712,     0.11812,     0.11912,\n",
      "           0.12012,     0.12112,     0.12212,     0.12312,     0.12412,     0.12513,     0.12613,     0.12713,     0.12813,     0.12913,     0.13013,     0.13113,     0.13213,     0.13313,     0.13413,     0.13514,     0.13614,     0.13714,     0.13814,     0.13914,     0.14014,     0.14114,     0.14214,     0.14314,\n",
      "           0.14414,     0.14515,     0.14615,     0.14715,     0.14815,     0.14915,     0.15015,     0.15115,     0.15215,     0.15315,     0.15415,     0.15516,     0.15616,     0.15716,     0.15816,     0.15916,     0.16016,     0.16116,     0.16216,     0.16316,     0.16416,     0.16517,     0.16617,     0.16717,\n",
      "           0.16817,     0.16917,     0.17017,     0.17117,     0.17217,     0.17317,     0.17417,     0.17518,     0.17618,     0.17718,     0.17818,     0.17918,     0.18018,     0.18118,     0.18218,     0.18318,     0.18418,     0.18519,     0.18619,     0.18719,     0.18819,     0.18919,     0.19019,     0.19119,\n",
      "           0.19219,     0.19319,     0.19419,      0.1952,      0.1962,      0.1972,      0.1982,      0.1992,      0.2002,      0.2012,      0.2022,      0.2032,      0.2042,     0.20521,     0.20621,     0.20721,     0.20821,     0.20921,     0.21021,     0.21121,     0.21221,     0.21321,     0.21421,     0.21522,\n",
      "           0.21622,     0.21722,     0.21822,     0.21922,     0.22022,     0.22122,     0.22222,     0.22322,     0.22422,     0.22523,     0.22623,     0.22723,     0.22823,     0.22923,     0.23023,     0.23123,     0.23223,     0.23323,     0.23423,     0.23524,     0.23624,     0.23724,     0.23824,     0.23924,\n",
      "           0.24024,     0.24124,     0.24224,     0.24324,     0.24424,     0.24525,     0.24625,     0.24725,     0.24825,     0.24925,     0.25025,     0.25125,     0.25225,     0.25325,     0.25425,     0.25526,     0.25626,     0.25726,     0.25826,     0.25926,     0.26026,     0.26126,     0.26226,     0.26326,\n",
      "           0.26426,     0.26527,     0.26627,     0.26727,     0.26827,     0.26927,     0.27027,     0.27127,     0.27227,     0.27327,     0.27427,     0.27528,     0.27628,     0.27728,     0.27828,     0.27928,     0.28028,     0.28128,     0.28228,     0.28328,     0.28428,     0.28529,     0.28629,     0.28729,\n",
      "           0.28829,     0.28929,     0.29029,     0.29129,     0.29229,     0.29329,     0.29429,      0.2953,      0.2963,      0.2973,      0.2983,      0.2993,      0.3003,      0.3013,      0.3023,      0.3033,      0.3043,     0.30531,     0.30631,     0.30731,     0.30831,     0.30931,     0.31031,     0.31131,\n",
      "           0.31231,     0.31331,     0.31431,     0.31532,     0.31632,     0.31732,     0.31832,     0.31932,     0.32032,     0.32132,     0.32232,     0.32332,     0.32432,     0.32533,     0.32633,     0.32733,     0.32833,     0.32933,     0.33033,     0.33133,     0.33233,     0.33333,     0.33433,     0.33534,\n",
      "           0.33634,     0.33734,     0.33834,     0.33934,     0.34034,     0.34134,     0.34234,     0.34334,     0.34434,     0.34535,     0.34635,     0.34735,     0.34835,     0.34935,     0.35035,     0.35135,     0.35235,     0.35335,     0.35435,     0.35536,     0.35636,     0.35736,     0.35836,     0.35936,\n",
      "           0.36036,     0.36136,     0.36236,     0.36336,     0.36436,     0.36537,     0.36637,     0.36737,     0.36837,     0.36937,     0.37037,     0.37137,     0.37237,     0.37337,     0.37437,     0.37538,     0.37638,     0.37738,     0.37838,     0.37938,     0.38038,     0.38138,     0.38238,     0.38338,\n",
      "           0.38438,     0.38539,     0.38639,     0.38739,     0.38839,     0.38939,     0.39039,     0.39139,     0.39239,     0.39339,     0.39439,      0.3954,      0.3964,      0.3974,      0.3984,      0.3994,      0.4004,      0.4014,      0.4024,      0.4034,      0.4044,     0.40541,     0.40641,     0.40741,\n",
      "           0.40841,     0.40941,     0.41041,     0.41141,     0.41241,     0.41341,     0.41441,     0.41542,     0.41642,     0.41742,     0.41842,     0.41942,     0.42042,     0.42142,     0.42242,     0.42342,     0.42442,     0.42543,     0.42643,     0.42743,     0.42843,     0.42943,     0.43043,     0.43143,\n",
      "           0.43243,     0.43343,     0.43443,     0.43544,     0.43644,     0.43744,     0.43844,     0.43944,     0.44044,     0.44144,     0.44244,     0.44344,     0.44444,     0.44545,     0.44645,     0.44745,     0.44845,     0.44945,     0.45045,     0.45145,     0.45245,     0.45345,     0.45445,     0.45546,\n",
      "           0.45646,     0.45746,     0.45846,     0.45946,     0.46046,     0.46146,     0.46246,     0.46346,     0.46446,     0.46547,     0.46647,     0.46747,     0.46847,     0.46947,     0.47047,     0.47147,     0.47247,     0.47347,     0.47447,     0.47548,     0.47648,     0.47748,     0.47848,     0.47948,\n",
      "           0.48048,     0.48148,     0.48248,     0.48348,     0.48448,     0.48549,     0.48649,     0.48749,     0.48849,     0.48949,     0.49049,     0.49149,     0.49249,     0.49349,     0.49449,      0.4955,      0.4965,      0.4975,      0.4985,      0.4995,      0.5005,      0.5015,      0.5025,      0.5035,\n",
      "            0.5045,     0.50551,     0.50651,     0.50751,     0.50851,     0.50951,     0.51051,     0.51151,     0.51251,     0.51351,     0.51451,     0.51552,     0.51652,     0.51752,     0.51852,     0.51952,     0.52052,     0.52152,     0.52252,     0.52352,     0.52452,     0.52553,     0.52653,     0.52753,\n",
      "           0.52853,     0.52953,     0.53053,     0.53153,     0.53253,     0.53353,     0.53453,     0.53554,     0.53654,     0.53754,     0.53854,     0.53954,     0.54054,     0.54154,     0.54254,     0.54354,     0.54454,     0.54555,     0.54655,     0.54755,     0.54855,     0.54955,     0.55055,     0.55155,\n",
      "           0.55255,     0.55355,     0.55455,     0.55556,     0.55656,     0.55756,     0.55856,     0.55956,     0.56056,     0.56156,     0.56256,     0.56356,     0.56456,     0.56557,     0.56657,     0.56757,     0.56857,     0.56957,     0.57057,     0.57157,     0.57257,     0.57357,     0.57457,     0.57558,\n",
      "           0.57658,     0.57758,     0.57858,     0.57958,     0.58058,     0.58158,     0.58258,     0.58358,     0.58458,     0.58559,     0.58659,     0.58759,     0.58859,     0.58959,     0.59059,     0.59159,     0.59259,     0.59359,     0.59459,      0.5956,      0.5966,      0.5976,      0.5986,      0.5996,\n",
      "            0.6006,      0.6016,      0.6026,      0.6036,      0.6046,     0.60561,     0.60661,     0.60761,     0.60861,     0.60961,     0.61061,     0.61161,     0.61261,     0.61361,     0.61461,     0.61562,     0.61662,     0.61762,     0.61862,     0.61962,     0.62062,     0.62162,     0.62262,     0.62362,\n",
      "           0.62462,     0.62563,     0.62663,     0.62763,     0.62863,     0.62963,     0.63063,     0.63163,     0.63263,     0.63363,     0.63463,     0.63564,     0.63664,     0.63764,     0.63864,     0.63964,     0.64064,     0.64164,     0.64264,     0.64364,     0.64464,     0.64565,     0.64665,     0.64765,\n",
      "           0.64865,     0.64965,     0.65065,     0.65165,     0.65265,     0.65365,     0.65465,     0.65566,     0.65666,     0.65766,     0.65866,     0.65966,     0.66066,     0.66166,     0.66266,     0.66366,     0.66466,     0.66567,     0.66667,     0.66767,     0.66867,     0.66967,     0.67067,     0.67167,\n",
      "           0.67267,     0.67367,     0.67467,     0.67568,     0.67668,     0.67768,     0.67868,     0.67968,     0.68068,     0.68168,     0.68268,     0.68368,     0.68468,     0.68569,     0.68669,     0.68769,     0.68869,     0.68969,     0.69069,     0.69169,     0.69269,     0.69369,     0.69469,      0.6957,\n",
      "            0.6967,      0.6977,      0.6987,      0.6997,      0.7007,      0.7017,      0.7027,      0.7037,      0.7047,     0.70571,     0.70671,     0.70771,     0.70871,     0.70971,     0.71071,     0.71171,     0.71271,     0.71371,     0.71471,     0.71572,     0.71672,     0.71772,     0.71872,     0.71972,\n",
      "           0.72072,     0.72172,     0.72272,     0.72372,     0.72472,     0.72573,     0.72673,     0.72773,     0.72873,     0.72973,     0.73073,     0.73173,     0.73273,     0.73373,     0.73473,     0.73574,     0.73674,     0.73774,     0.73874,     0.73974,     0.74074,     0.74174,     0.74274,     0.74374,\n",
      "           0.74474,     0.74575,     0.74675,     0.74775,     0.74875,     0.74975,     0.75075,     0.75175,     0.75275,     0.75375,     0.75475,     0.75576,     0.75676,     0.75776,     0.75876,     0.75976,     0.76076,     0.76176,     0.76276,     0.76376,     0.76476,     0.76577,     0.76677,     0.76777,\n",
      "           0.76877,     0.76977,     0.77077,     0.77177,     0.77277,     0.77377,     0.77477,     0.77578,     0.77678,     0.77778,     0.77878,     0.77978,     0.78078,     0.78178,     0.78278,     0.78378,     0.78478,     0.78579,     0.78679,     0.78779,     0.78879,     0.78979,     0.79079,     0.79179,\n",
      "           0.79279,     0.79379,     0.79479,      0.7958,      0.7968,      0.7978,      0.7988,      0.7998,      0.8008,      0.8018,      0.8028,      0.8038,      0.8048,     0.80581,     0.80681,     0.80781,     0.80881,     0.80981,     0.81081,     0.81181,     0.81281,     0.81381,     0.81481,     0.81582,\n",
      "           0.81682,     0.81782,     0.81882,     0.81982,     0.82082,     0.82182,     0.82282,     0.82382,     0.82482,     0.82583,     0.82683,     0.82783,     0.82883,     0.82983,     0.83083,     0.83183,     0.83283,     0.83383,     0.83483,     0.83584,     0.83684,     0.83784,     0.83884,     0.83984,\n",
      "           0.84084,     0.84184,     0.84284,     0.84384,     0.84484,     0.84585,     0.84685,     0.84785,     0.84885,     0.84985,     0.85085,     0.85185,     0.85285,     0.85385,     0.85485,     0.85586,     0.85686,     0.85786,     0.85886,     0.85986,     0.86086,     0.86186,     0.86286,     0.86386,\n",
      "           0.86486,     0.86587,     0.86687,     0.86787,     0.86887,     0.86987,     0.87087,     0.87187,     0.87287,     0.87387,     0.87487,     0.87588,     0.87688,     0.87788,     0.87888,     0.87988,     0.88088,     0.88188,     0.88288,     0.88388,     0.88488,     0.88589,     0.88689,     0.88789,\n",
      "           0.88889,     0.88989,     0.89089,     0.89189,     0.89289,     0.89389,     0.89489,      0.8959,      0.8969,      0.8979,      0.8989,      0.8999,      0.9009,      0.9019,      0.9029,      0.9039,      0.9049,     0.90591,     0.90691,     0.90791,     0.90891,     0.90991,     0.91091,     0.91191,\n",
      "           0.91291,     0.91391,     0.91491,     0.91592,     0.91692,     0.91792,     0.91892,     0.91992,     0.92092,     0.92192,     0.92292,     0.92392,     0.92492,     0.92593,     0.92693,     0.92793,     0.92893,     0.92993,     0.93093,     0.93193,     0.93293,     0.93393,     0.93493,     0.93594,\n",
      "           0.93694,     0.93794,     0.93894,     0.93994,     0.94094,     0.94194,     0.94294,     0.94394,     0.94494,     0.94595,     0.94695,     0.94795,     0.94895,     0.94995,     0.95095,     0.95195,     0.95295,     0.95395,     0.95495,     0.95596,     0.95696,     0.95796,     0.95896,     0.95996,\n",
      "           0.96096,     0.96196,     0.96296,     0.96396,     0.96496,     0.96597,     0.96697,     0.96797,     0.96897,     0.96997,     0.97097,     0.97197,     0.97297,     0.97397,     0.97497,     0.97598,     0.97698,     0.97798,     0.97898,     0.97998,     0.98098,     0.98198,     0.98298,     0.98398,\n",
      "           0.98498,     0.98599,     0.98699,     0.98799,     0.98899,     0.98999,     0.99099,     0.99199,     0.99299,     0.99399,     0.99499,       0.996,       0.997,       0.998,       0.999,           1]), array([[    0.11729,     0.11729,     0.16267,     0.19504,     0.22157,     0.24782,     0.26703,     0.28697,     0.29802,     0.30853,     0.32078,     0.33027,     0.34727,     0.35521,     0.36168,     0.36463,     0.37456,      0.3821,     0.38861,     0.39391,     0.40461,      0.4151,     0.42024,\n",
      "            0.42837,     0.43835,     0.44084,     0.44202,      0.4469,     0.45348,     0.45627,     0.46098,     0.46668,     0.47652,     0.48512,     0.49196,     0.49649,     0.49786,     0.50367,     0.51109,     0.51777,     0.52778,     0.53378,     0.53884,     0.54397,     0.55018,     0.55579,\n",
      "            0.56007,     0.56776,     0.57434,     0.57595,     0.57785,      0.5797,     0.58068,     0.58166,     0.58056,     0.58179,     0.58574,      0.5869,     0.58805,     0.58908,     0.59001,     0.59094,     0.59815,     0.60072,     0.60193,     0.60303,     0.60357,     0.60411,     0.60466,\n",
      "             0.6052,     0.60574,     0.60954,     0.61149,     0.61259,     0.61344,     0.61429,     0.61513,     0.61593,     0.61674,     0.61754,     0.61934,     0.62289,     0.63088,     0.63226,     0.63364,     0.63879,      0.6419,       0.645,      0.6464,     0.64779,     0.64916,     0.65052,\n",
      "            0.65155,     0.65249,     0.65343,     0.65521,     0.65952,     0.66181,      0.6635,     0.66213,     0.66353,     0.66659,     0.66938,     0.67139,     0.67695,     0.67957,     0.67836,     0.67949,     0.68063,     0.68177,     0.68077,     0.68071,     0.68311,      0.6835,      0.6829,\n",
      "            0.68229,     0.68677,      0.6879,     0.68902,     0.69124,      0.6924,     0.69199,     0.69166,     0.69133,       0.691,     0.69068,     0.69267,     0.69519,     0.69608,     0.69697,     0.69786,     0.69875,     0.69928,     0.69978,     0.70028,     0.70079,     0.70129,      0.7018,\n",
      "             0.7023,     0.70281,     0.70419,     0.70628,     0.70813,     0.70976,     0.71139,     0.71588,     0.71566,     0.71543,      0.7152,     0.71497,     0.71475,     0.71452,     0.71429,     0.71623,     0.71823,     0.71763,     0.71918,     0.72073,     0.72388,     0.72732,     0.72959,\n",
      "            0.73413,     0.73634,      0.7374,     0.73846,     0.73952,     0.74118,     0.74427,     0.74886,     0.75124,     0.75282,     0.75441,     0.76015,      0.7609,     0.76166,     0.76242,     0.76318,     0.76394,     0.76469,      0.7672,      0.7699,     0.76873,     0.77264,     0.77477,\n",
      "            0.77596,     0.77716,     0.77835,     0.77961,     0.78111,     0.78262,     0.78413,     0.78715,     0.79037,     0.79105,     0.79174,     0.79243,     0.79311,      0.7938,     0.79448,     0.79517,     0.79564,     0.79449,     0.79493,     0.79564,     0.79635,     0.79705,     0.79776,\n",
      "            0.79847,     0.79918,     0.79988,      0.8057,      0.8051,     0.80449,     0.80417,     0.80393,     0.80369,     0.80345,     0.80321,     0.80297,     0.80219,     0.80143,     0.80129,     0.80114,     0.80099,     0.80084,     0.80069,     0.80054,     0.80039,     0.80024,      0.8001,\n",
      "            0.80029,     0.80111,     0.80194,     0.80276,     0.80358,      0.8044,     0.80522,     0.80595,     0.80576,     0.80558,     0.80539,      0.8052,     0.80501,     0.80482,     0.80463,     0.80431,     0.80375,     0.80318,     0.80557,     0.80907,     0.81041,     0.81168,     0.81296,\n",
      "            0.81424,     0.81534,      0.8149,     0.81447,     0.81403,     0.81493,     0.81613,     0.81732,     0.81852,     0.81971,     0.82084,     0.82189,     0.82295,       0.824,     0.82506,     0.82611,     0.82724,      0.8285,     0.82975,       0.831,     0.83226,     0.83346,     0.83436,\n",
      "            0.83527,     0.83617,     0.83707,     0.83797,     0.83887,     0.83978,     0.83984,     0.83962,     0.83941,      0.8392,     0.83898,     0.83877,     0.83865,     0.83857,     0.83849,      0.8384,     0.83832,     0.83824,     0.83816,     0.83808,     0.83799,     0.83791,     0.83783,\n",
      "            0.83775,     0.83767,     0.83758,      0.8375,     0.83742,     0.83768,     0.83806,     0.83844,     0.83882,      0.8392,     0.83958,     0.83997,     0.84035,     0.84073,     0.84111,     0.84149,     0.84187,     0.84225,     0.84263,     0.84301,     0.84339,     0.84377,     0.84416,\n",
      "             0.8441,     0.84387,     0.84364,     0.84342,     0.84319,     0.84297,     0.84289,      0.8428,     0.84272,     0.84263,     0.84255,     0.84246,     0.84238,      0.8423,     0.84221,     0.84213,     0.84204,     0.84196,     0.84187,     0.84179,      0.8417,     0.84149,     0.84118,\n",
      "            0.84086,     0.84055,     0.84019,     0.83977,     0.83935,     0.83888,     0.83797,     0.83786,     0.83829,     0.83872,     0.83915,     0.83958,     0.84001,     0.84043,     0.84086,     0.84129,     0.84172,     0.84215,     0.84258,     0.84301,     0.84344,     0.84387,     0.84429,\n",
      "            0.84472,     0.84617,     0.84795,     0.84972,      0.8515,      0.8542,     0.85748,     0.85933,     0.86603,     0.86486,     0.86483,     0.86479,     0.86476,     0.86473,     0.86469,     0.86466,     0.86462,     0.86459,     0.86455,     0.86452,     0.86448,     0.86445,     0.86442,\n",
      "            0.86438,     0.86435,     0.86431,     0.86428,     0.86424,     0.86421,     0.86417,     0.86414,      0.8641,     0.86407,     0.86404,       0.864,     0.86397,     0.86393,      0.8639,     0.86386,     0.86383,     0.86379,     0.86376,     0.86372,     0.86369,     0.86366,     0.86354,\n",
      "            0.86333,     0.86312,     0.86291,      0.8627,     0.86249,     0.86312,     0.86464,     0.86616,     0.86768,     0.86919,     0.86981,     0.86904,     0.86887,      0.8687,     0.86854,     0.86837,     0.86821,     0.86804,     0.86946,      0.8747,     0.87612,     0.87601,     0.87591,\n",
      "            0.87581,     0.87571,      0.8756,      0.8755,      0.8754,      0.8753,     0.87519,     0.87509,     0.87496,     0.87464,     0.87431,     0.87399,     0.87319,     0.88129,     0.88181,     0.88233,     0.88285,     0.88337,     0.88389,     0.88441,     0.88493,     0.88545,     0.88597,\n",
      "            0.88649,       0.887,     0.88752,     0.88804,     0.88856,     0.88908,      0.8896,     0.89021,     0.89114,     0.89206,     0.89299,     0.89391,     0.89484,     0.89576,     0.89669,     0.89761,     0.89854,     0.89895,     0.89888,      0.8988,     0.89872,     0.89865,     0.89857,\n",
      "             0.8985,     0.89842,     0.89834,     0.89827,     0.89819,     0.89811,     0.89804,     0.89796,     0.89793,      0.8979,     0.89786,     0.89783,      0.8978,     0.89776,     0.89773,      0.8977,     0.89767,     0.89763,      0.8976,     0.89757,     0.89753,      0.8975,     0.89747,\n",
      "            0.89744,      0.8974,     0.89737,     0.89734,      0.8973,     0.89727,     0.89724,     0.89721,     0.89717,     0.89714,     0.89711,     0.89708,     0.89704,     0.89701,     0.89698,     0.89694,     0.89691,     0.89667,     0.89641,     0.89614,     0.89588,     0.90116,     0.90525,\n",
      "            0.90521,     0.90517,     0.90514,      0.9051,     0.90506,     0.90502,     0.90498,     0.90495,     0.90491,     0.90487,     0.90483,      0.9048,     0.90476,     0.90472,     0.90468,     0.90464,     0.90461,     0.90457,     0.90453,     0.90449,     0.90445,     0.90442,     0.90438,\n",
      "            0.90434,      0.9043,     0.90427,     0.90416,     0.90402,     0.90389,     0.90376,     0.90362,     0.90349,     0.90336,     0.90465,     0.91278,     0.91248,     0.91218,     0.91198,     0.91182,     0.91166,      0.9115,     0.91134,     0.91118,     0.91107,       0.911,     0.91092,\n",
      "            0.91085,     0.91077,      0.9107,     0.91063,     0.91055,     0.91048,      0.9104,     0.91033,     0.91026,     0.91018,     0.91009,     0.90971,     0.90933,     0.90835,      0.9079,     0.90772,     0.90755,     0.90738,      0.9072,     0.90703,     0.90973,     0.91362,     0.91751,\n",
      "            0.91723,      0.9168,     0.91655,     0.91639,     0.91623,     0.91606,      0.9159,     0.91574,     0.91557,     0.91539,     0.91522,     0.91504,     0.91487,      0.9147,     0.91407,     0.91353,     0.91342,     0.91332,     0.91321,      0.9131,     0.91299,     0.91288,     0.91278,\n",
      "            0.91267,     0.91256,     0.91222,     0.91156,      0.9111,     0.91071,     0.91032,     0.90781,     0.90736,     0.90691,     0.90636,     0.90571,     0.90659,     0.90879,     0.91099,      0.9132,      0.9154,      0.9176,     0.91757,      0.9173,     0.91704,     0.91678,     0.91662,\n",
      "            0.91653,     0.91644,     0.91636,     0.91627,     0.91618,      0.9161,     0.91601,     0.91592,     0.91584,     0.91575,     0.91566,     0.91558,     0.91548,      0.9152,     0.91491,     0.91462,     0.91433,     0.91049,     0.91274,     0.91498,     0.91723,     0.91948,     0.92172,\n",
      "            0.92397,      0.9238,     0.92329,     0.92296,     0.92276,     0.92256,     0.92237,     0.92217,     0.92197,     0.92077,     0.91998,     0.91912,     0.91786,     0.91747,     0.91708,     0.91669,     0.93198,     0.93165,     0.93133,     0.93069,      0.9297,     0.92954,     0.92938,\n",
      "            0.92921,     0.92905,     0.92889,     0.92873,     0.92857,     0.93633,     0.94409,     0.94504,     0.94453,     0.94339,     0.94291,     0.94498,     0.94704,     0.94911,     0.95118,     0.95325,     0.95532,     0.95739,     0.95946,     0.96067,     0.96036,     0.96004,     0.95975,\n",
      "            0.95946,     0.95915,      0.9586,     0.97867,      0.9785,     0.97832,     0.97806,     0.97777,      0.9776,     0.97744,     0.97727,     0.97711,     0.97695,     0.97679,      0.9815,     0.98847,     0.99543,           1,           1,           1,           1,           1,           1,\n",
      "                  1,           1,           1,           1,           1,           1,           1,           1,           1,           1,           1,           1,           1,           1,           1,           1,           1,           1,           1,           1,           1,           1,           1,\n",
      "                  1,           1,           1,           1,           1,           1,           1,           1,           1,           1,           1,           1,           1,           1,           1,           1,           1,           1,           1,           1,           1,           1,           1,\n",
      "                  1,           1,           1,           1,           1,           1,           1,           1,           1,           1,           1,           1,           1,           1,           1,           1,           1,           1,           1,           1,           1,           1,           1,\n",
      "                  1,           1,           1,           1,           1,           1,           1,           1,           1,           1,           1,           1,           1,           1,           1,           1,           1,           1,           1,           1,           1,           1,           1,\n",
      "                  1,           1,           1,           1,           1,           1,           1,           1,           1,           1,           1,           1,           1,           1,           1,           1,           1,           1,           1,           1,           1,           1,           1,\n",
      "                  1,           1,           1,           1,           1,           1,           1,           1,           1,           1,           1,           1,           1,           1,           1,           1,           1,           1,           1,           1,           1,           1,           1,\n",
      "                  1,           1,           1,           1,           1,           1,           1,           1,           1,           1,           1,           1,           1,           1,           1,           1,           1,           1,           1,           1,           1,           1,           1,\n",
      "                  1,           1,           1,           1,           1,           1,           1,           1,           1,           1,           1,           1,           1,           1,           1,           1,           1,           1,           1,           1,           1,           1,           1,\n",
      "                  1,           1,           1,           1,           1,           1,           1,           1,           1,           1,           1,           1,           1,           1,           1,           1,           1,           1,           1,           1,           1,           1,           1,\n",
      "                  1,           1,           1,           1,           1,           1,           1,           1,           1,           1,           1,           1,           1,           1,           1,           1,           1,           1,           1,           1,           1,           1,           1,\n",
      "                  1,           1,           1,           1,           1,           1,           1,           1,           1,           1,           1,           1,           1,           1,           1,           1,           1,           1,           1,           1,           1,           1,           1,\n",
      "                  1,           1,           1,           1,           1,           1,           1,           1,           1,           1,           1]]), 'Confidence', 'Precision'], [array([          0,    0.001001,    0.002002,    0.003003,    0.004004,    0.005005,    0.006006,    0.007007,    0.008008,    0.009009,     0.01001,    0.011011,    0.012012,    0.013013,    0.014014,    0.015015,    0.016016,    0.017017,    0.018018,    0.019019,     0.02002,    0.021021,    0.022022,    0.023023,\n",
      "          0.024024,    0.025025,    0.026026,    0.027027,    0.028028,    0.029029,     0.03003,    0.031031,    0.032032,    0.033033,    0.034034,    0.035035,    0.036036,    0.037037,    0.038038,    0.039039,     0.04004,    0.041041,    0.042042,    0.043043,    0.044044,    0.045045,    0.046046,    0.047047,\n",
      "          0.048048,    0.049049,     0.05005,    0.051051,    0.052052,    0.053053,    0.054054,    0.055055,    0.056056,    0.057057,    0.058058,    0.059059,     0.06006,    0.061061,    0.062062,    0.063063,    0.064064,    0.065065,    0.066066,    0.067067,    0.068068,    0.069069,     0.07007,    0.071071,\n",
      "          0.072072,    0.073073,    0.074074,    0.075075,    0.076076,    0.077077,    0.078078,    0.079079,     0.08008,    0.081081,    0.082082,    0.083083,    0.084084,    0.085085,    0.086086,    0.087087,    0.088088,    0.089089,     0.09009,    0.091091,    0.092092,    0.093093,    0.094094,    0.095095,\n",
      "          0.096096,    0.097097,    0.098098,    0.099099,      0.1001,      0.1011,      0.1021,      0.1031,      0.1041,     0.10511,     0.10611,     0.10711,     0.10811,     0.10911,     0.11011,     0.11111,     0.11211,     0.11311,     0.11411,     0.11512,     0.11612,     0.11712,     0.11812,     0.11912,\n",
      "           0.12012,     0.12112,     0.12212,     0.12312,     0.12412,     0.12513,     0.12613,     0.12713,     0.12813,     0.12913,     0.13013,     0.13113,     0.13213,     0.13313,     0.13413,     0.13514,     0.13614,     0.13714,     0.13814,     0.13914,     0.14014,     0.14114,     0.14214,     0.14314,\n",
      "           0.14414,     0.14515,     0.14615,     0.14715,     0.14815,     0.14915,     0.15015,     0.15115,     0.15215,     0.15315,     0.15415,     0.15516,     0.15616,     0.15716,     0.15816,     0.15916,     0.16016,     0.16116,     0.16216,     0.16316,     0.16416,     0.16517,     0.16617,     0.16717,\n",
      "           0.16817,     0.16917,     0.17017,     0.17117,     0.17217,     0.17317,     0.17417,     0.17518,     0.17618,     0.17718,     0.17818,     0.17918,     0.18018,     0.18118,     0.18218,     0.18318,     0.18418,     0.18519,     0.18619,     0.18719,     0.18819,     0.18919,     0.19019,     0.19119,\n",
      "           0.19219,     0.19319,     0.19419,      0.1952,      0.1962,      0.1972,      0.1982,      0.1992,      0.2002,      0.2012,      0.2022,      0.2032,      0.2042,     0.20521,     0.20621,     0.20721,     0.20821,     0.20921,     0.21021,     0.21121,     0.21221,     0.21321,     0.21421,     0.21522,\n",
      "           0.21622,     0.21722,     0.21822,     0.21922,     0.22022,     0.22122,     0.22222,     0.22322,     0.22422,     0.22523,     0.22623,     0.22723,     0.22823,     0.22923,     0.23023,     0.23123,     0.23223,     0.23323,     0.23423,     0.23524,     0.23624,     0.23724,     0.23824,     0.23924,\n",
      "           0.24024,     0.24124,     0.24224,     0.24324,     0.24424,     0.24525,     0.24625,     0.24725,     0.24825,     0.24925,     0.25025,     0.25125,     0.25225,     0.25325,     0.25425,     0.25526,     0.25626,     0.25726,     0.25826,     0.25926,     0.26026,     0.26126,     0.26226,     0.26326,\n",
      "           0.26426,     0.26527,     0.26627,     0.26727,     0.26827,     0.26927,     0.27027,     0.27127,     0.27227,     0.27327,     0.27427,     0.27528,     0.27628,     0.27728,     0.27828,     0.27928,     0.28028,     0.28128,     0.28228,     0.28328,     0.28428,     0.28529,     0.28629,     0.28729,\n",
      "           0.28829,     0.28929,     0.29029,     0.29129,     0.29229,     0.29329,     0.29429,      0.2953,      0.2963,      0.2973,      0.2983,      0.2993,      0.3003,      0.3013,      0.3023,      0.3033,      0.3043,     0.30531,     0.30631,     0.30731,     0.30831,     0.30931,     0.31031,     0.31131,\n",
      "           0.31231,     0.31331,     0.31431,     0.31532,     0.31632,     0.31732,     0.31832,     0.31932,     0.32032,     0.32132,     0.32232,     0.32332,     0.32432,     0.32533,     0.32633,     0.32733,     0.32833,     0.32933,     0.33033,     0.33133,     0.33233,     0.33333,     0.33433,     0.33534,\n",
      "           0.33634,     0.33734,     0.33834,     0.33934,     0.34034,     0.34134,     0.34234,     0.34334,     0.34434,     0.34535,     0.34635,     0.34735,     0.34835,     0.34935,     0.35035,     0.35135,     0.35235,     0.35335,     0.35435,     0.35536,     0.35636,     0.35736,     0.35836,     0.35936,\n",
      "           0.36036,     0.36136,     0.36236,     0.36336,     0.36436,     0.36537,     0.36637,     0.36737,     0.36837,     0.36937,     0.37037,     0.37137,     0.37237,     0.37337,     0.37437,     0.37538,     0.37638,     0.37738,     0.37838,     0.37938,     0.38038,     0.38138,     0.38238,     0.38338,\n",
      "           0.38438,     0.38539,     0.38639,     0.38739,     0.38839,     0.38939,     0.39039,     0.39139,     0.39239,     0.39339,     0.39439,      0.3954,      0.3964,      0.3974,      0.3984,      0.3994,      0.4004,      0.4014,      0.4024,      0.4034,      0.4044,     0.40541,     0.40641,     0.40741,\n",
      "           0.40841,     0.40941,     0.41041,     0.41141,     0.41241,     0.41341,     0.41441,     0.41542,     0.41642,     0.41742,     0.41842,     0.41942,     0.42042,     0.42142,     0.42242,     0.42342,     0.42442,     0.42543,     0.42643,     0.42743,     0.42843,     0.42943,     0.43043,     0.43143,\n",
      "           0.43243,     0.43343,     0.43443,     0.43544,     0.43644,     0.43744,     0.43844,     0.43944,     0.44044,     0.44144,     0.44244,     0.44344,     0.44444,     0.44545,     0.44645,     0.44745,     0.44845,     0.44945,     0.45045,     0.45145,     0.45245,     0.45345,     0.45445,     0.45546,\n",
      "           0.45646,     0.45746,     0.45846,     0.45946,     0.46046,     0.46146,     0.46246,     0.46346,     0.46446,     0.46547,     0.46647,     0.46747,     0.46847,     0.46947,     0.47047,     0.47147,     0.47247,     0.47347,     0.47447,     0.47548,     0.47648,     0.47748,     0.47848,     0.47948,\n",
      "           0.48048,     0.48148,     0.48248,     0.48348,     0.48448,     0.48549,     0.48649,     0.48749,     0.48849,     0.48949,     0.49049,     0.49149,     0.49249,     0.49349,     0.49449,      0.4955,      0.4965,      0.4975,      0.4985,      0.4995,      0.5005,      0.5015,      0.5025,      0.5035,\n",
      "            0.5045,     0.50551,     0.50651,     0.50751,     0.50851,     0.50951,     0.51051,     0.51151,     0.51251,     0.51351,     0.51451,     0.51552,     0.51652,     0.51752,     0.51852,     0.51952,     0.52052,     0.52152,     0.52252,     0.52352,     0.52452,     0.52553,     0.52653,     0.52753,\n",
      "           0.52853,     0.52953,     0.53053,     0.53153,     0.53253,     0.53353,     0.53453,     0.53554,     0.53654,     0.53754,     0.53854,     0.53954,     0.54054,     0.54154,     0.54254,     0.54354,     0.54454,     0.54555,     0.54655,     0.54755,     0.54855,     0.54955,     0.55055,     0.55155,\n",
      "           0.55255,     0.55355,     0.55455,     0.55556,     0.55656,     0.55756,     0.55856,     0.55956,     0.56056,     0.56156,     0.56256,     0.56356,     0.56456,     0.56557,     0.56657,     0.56757,     0.56857,     0.56957,     0.57057,     0.57157,     0.57257,     0.57357,     0.57457,     0.57558,\n",
      "           0.57658,     0.57758,     0.57858,     0.57958,     0.58058,     0.58158,     0.58258,     0.58358,     0.58458,     0.58559,     0.58659,     0.58759,     0.58859,     0.58959,     0.59059,     0.59159,     0.59259,     0.59359,     0.59459,      0.5956,      0.5966,      0.5976,      0.5986,      0.5996,\n",
      "            0.6006,      0.6016,      0.6026,      0.6036,      0.6046,     0.60561,     0.60661,     0.60761,     0.60861,     0.60961,     0.61061,     0.61161,     0.61261,     0.61361,     0.61461,     0.61562,     0.61662,     0.61762,     0.61862,     0.61962,     0.62062,     0.62162,     0.62262,     0.62362,\n",
      "           0.62462,     0.62563,     0.62663,     0.62763,     0.62863,     0.62963,     0.63063,     0.63163,     0.63263,     0.63363,     0.63463,     0.63564,     0.63664,     0.63764,     0.63864,     0.63964,     0.64064,     0.64164,     0.64264,     0.64364,     0.64464,     0.64565,     0.64665,     0.64765,\n",
      "           0.64865,     0.64965,     0.65065,     0.65165,     0.65265,     0.65365,     0.65465,     0.65566,     0.65666,     0.65766,     0.65866,     0.65966,     0.66066,     0.66166,     0.66266,     0.66366,     0.66466,     0.66567,     0.66667,     0.66767,     0.66867,     0.66967,     0.67067,     0.67167,\n",
      "           0.67267,     0.67367,     0.67467,     0.67568,     0.67668,     0.67768,     0.67868,     0.67968,     0.68068,     0.68168,     0.68268,     0.68368,     0.68468,     0.68569,     0.68669,     0.68769,     0.68869,     0.68969,     0.69069,     0.69169,     0.69269,     0.69369,     0.69469,      0.6957,\n",
      "            0.6967,      0.6977,      0.6987,      0.6997,      0.7007,      0.7017,      0.7027,      0.7037,      0.7047,     0.70571,     0.70671,     0.70771,     0.70871,     0.70971,     0.71071,     0.71171,     0.71271,     0.71371,     0.71471,     0.71572,     0.71672,     0.71772,     0.71872,     0.71972,\n",
      "           0.72072,     0.72172,     0.72272,     0.72372,     0.72472,     0.72573,     0.72673,     0.72773,     0.72873,     0.72973,     0.73073,     0.73173,     0.73273,     0.73373,     0.73473,     0.73574,     0.73674,     0.73774,     0.73874,     0.73974,     0.74074,     0.74174,     0.74274,     0.74374,\n",
      "           0.74474,     0.74575,     0.74675,     0.74775,     0.74875,     0.74975,     0.75075,     0.75175,     0.75275,     0.75375,     0.75475,     0.75576,     0.75676,     0.75776,     0.75876,     0.75976,     0.76076,     0.76176,     0.76276,     0.76376,     0.76476,     0.76577,     0.76677,     0.76777,\n",
      "           0.76877,     0.76977,     0.77077,     0.77177,     0.77277,     0.77377,     0.77477,     0.77578,     0.77678,     0.77778,     0.77878,     0.77978,     0.78078,     0.78178,     0.78278,     0.78378,     0.78478,     0.78579,     0.78679,     0.78779,     0.78879,     0.78979,     0.79079,     0.79179,\n",
      "           0.79279,     0.79379,     0.79479,      0.7958,      0.7968,      0.7978,      0.7988,      0.7998,      0.8008,      0.8018,      0.8028,      0.8038,      0.8048,     0.80581,     0.80681,     0.80781,     0.80881,     0.80981,     0.81081,     0.81181,     0.81281,     0.81381,     0.81481,     0.81582,\n",
      "           0.81682,     0.81782,     0.81882,     0.81982,     0.82082,     0.82182,     0.82282,     0.82382,     0.82482,     0.82583,     0.82683,     0.82783,     0.82883,     0.82983,     0.83083,     0.83183,     0.83283,     0.83383,     0.83483,     0.83584,     0.83684,     0.83784,     0.83884,     0.83984,\n",
      "           0.84084,     0.84184,     0.84284,     0.84384,     0.84484,     0.84585,     0.84685,     0.84785,     0.84885,     0.84985,     0.85085,     0.85185,     0.85285,     0.85385,     0.85485,     0.85586,     0.85686,     0.85786,     0.85886,     0.85986,     0.86086,     0.86186,     0.86286,     0.86386,\n",
      "           0.86486,     0.86587,     0.86687,     0.86787,     0.86887,     0.86987,     0.87087,     0.87187,     0.87287,     0.87387,     0.87487,     0.87588,     0.87688,     0.87788,     0.87888,     0.87988,     0.88088,     0.88188,     0.88288,     0.88388,     0.88488,     0.88589,     0.88689,     0.88789,\n",
      "           0.88889,     0.88989,     0.89089,     0.89189,     0.89289,     0.89389,     0.89489,      0.8959,      0.8969,      0.8979,      0.8989,      0.8999,      0.9009,      0.9019,      0.9029,      0.9039,      0.9049,     0.90591,     0.90691,     0.90791,     0.90891,     0.90991,     0.91091,     0.91191,\n",
      "           0.91291,     0.91391,     0.91491,     0.91592,     0.91692,     0.91792,     0.91892,     0.91992,     0.92092,     0.92192,     0.92292,     0.92392,     0.92492,     0.92593,     0.92693,     0.92793,     0.92893,     0.92993,     0.93093,     0.93193,     0.93293,     0.93393,     0.93493,     0.93594,\n",
      "           0.93694,     0.93794,     0.93894,     0.93994,     0.94094,     0.94194,     0.94294,     0.94394,     0.94494,     0.94595,     0.94695,     0.94795,     0.94895,     0.94995,     0.95095,     0.95195,     0.95295,     0.95395,     0.95495,     0.95596,     0.95696,     0.95796,     0.95896,     0.95996,\n",
      "           0.96096,     0.96196,     0.96296,     0.96396,     0.96496,     0.96597,     0.96697,     0.96797,     0.96897,     0.96997,     0.97097,     0.97197,     0.97297,     0.97397,     0.97497,     0.97598,     0.97698,     0.97798,     0.97898,     0.97998,     0.98098,     0.98198,     0.98298,     0.98398,\n",
      "           0.98498,     0.98599,     0.98699,     0.98799,     0.98899,     0.98999,     0.99099,     0.99199,     0.99299,     0.99399,     0.99499,       0.996,       0.997,       0.998,       0.999,           1]), array([[    0.78736,     0.78736,     0.78161,     0.78161,     0.76437,     0.75287,     0.75287,     0.74713,     0.74713,     0.74138,     0.74138,     0.74138,     0.74138,     0.73563,     0.73563,     0.72989,     0.72989,     0.72989,     0.72989,     0.72989,     0.72989,     0.72989,     0.72989,\n",
      "            0.72414,     0.72414,     0.72414,     0.72414,     0.72414,     0.72414,     0.72414,     0.71839,     0.71839,     0.71839,     0.71839,     0.71839,     0.71839,     0.71839,     0.71839,     0.71264,     0.71264,     0.71264,     0.71264,     0.71264,     0.71264,     0.71264,     0.71264,\n",
      "            0.71264,     0.71264,     0.71264,     0.71264,     0.71264,     0.71264,     0.71264,     0.71264,      0.7069,      0.7069,      0.7069,      0.7069,      0.7069,      0.7069,      0.7069,      0.7069,      0.7069,      0.7069,      0.7069,      0.7069,      0.7069,      0.7069,      0.7069,\n",
      "             0.7069,      0.7069,      0.7069,      0.7069,      0.7069,      0.7069,      0.7069,      0.7069,      0.7069,      0.7069,      0.7069,      0.7069,      0.7069,      0.7069,      0.7069,      0.7069,      0.7069,      0.7069,      0.7069,      0.7069,      0.7069,      0.7069,      0.7069,\n",
      "             0.7069,      0.7069,      0.7069,      0.7069,      0.7069,      0.7069,      0.7069,     0.69831,      0.6954,      0.6954,      0.6954,      0.6954,      0.6954,     0.69475,     0.68966,     0.68966,     0.68966,     0.68966,     0.68635,     0.68391,     0.68391,     0.68264,     0.68072,\n",
      "            0.67881,     0.67816,     0.67816,     0.67816,     0.67816,     0.67271,     0.67142,     0.67039,     0.66936,     0.66833,     0.66729,     0.66667,     0.66667,     0.66667,     0.66667,     0.66667,     0.66667,     0.66667,     0.66667,     0.66667,     0.66667,     0.66667,     0.66667,\n",
      "            0.66667,     0.66667,     0.66667,     0.66667,     0.66667,     0.66667,     0.66667,     0.66613,     0.66539,     0.66465,     0.66391,     0.66316,     0.66242,     0.66168,     0.66094,     0.66092,     0.66092,     0.65517,     0.65517,     0.65517,     0.65517,     0.65517,     0.65517,\n",
      "            0.65517,     0.65517,     0.65517,     0.65517,     0.65517,     0.65517,     0.65517,     0.65517,     0.65517,     0.65517,     0.65517,     0.65517,     0.65517,     0.65517,     0.65517,     0.65517,     0.65517,     0.65517,     0.65517,      0.6538,     0.64952,     0.64943,     0.64943,\n",
      "            0.64943,     0.64943,     0.64943,     0.64943,     0.64943,     0.64943,     0.64943,     0.64943,     0.64943,     0.64943,     0.64943,     0.64943,     0.64943,     0.64943,     0.64943,     0.64943,     0.64889,     0.64434,     0.64368,     0.64368,     0.64368,     0.64368,     0.64368,\n",
      "            0.64368,     0.64368,     0.64368,     0.64345,     0.64098,     0.63851,      0.6372,     0.63624,     0.63528,     0.63432,     0.63336,      0.6324,     0.62928,      0.6263,     0.62571,     0.62513,     0.62455,     0.62397,     0.62339,     0.62281,     0.62223,     0.62165,     0.62106,\n",
      "            0.62069,     0.62069,     0.62069,     0.62069,     0.62069,     0.62069,     0.62069,     0.62062,     0.61988,     0.61913,     0.61839,     0.61765,      0.6169,     0.61616,     0.61541,     0.61414,     0.61197,     0.60979,      0.6092,      0.6092,      0.6092,      0.6092,      0.6092,\n",
      "             0.6092,     0.60901,     0.60726,     0.60551,     0.60376,     0.60345,     0.60345,     0.60345,     0.60345,     0.60345,     0.60345,     0.60345,     0.60345,     0.60345,     0.60345,     0.60345,     0.60345,     0.60345,     0.60345,     0.60345,     0.60345,     0.60345,     0.60345,\n",
      "            0.60345,     0.60345,     0.60345,     0.60345,     0.60345,     0.60345,     0.60273,     0.60178,     0.60082,     0.59987,     0.59892,     0.59796,     0.59744,     0.59708,     0.59672,     0.59636,       0.596,     0.59564,     0.59528,     0.59492,     0.59456,      0.5942,     0.59385,\n",
      "            0.59349,     0.59313,     0.59277,     0.59241,     0.59205,     0.59195,     0.59195,     0.59195,     0.59195,     0.59195,     0.59195,     0.59195,     0.59195,     0.59195,     0.59195,     0.59195,     0.59195,     0.59195,     0.59195,     0.59195,     0.59195,     0.59195,     0.59195,\n",
      "            0.59122,     0.59021,     0.58919,     0.58817,     0.58716,     0.58618,     0.58581,     0.58544,     0.58507,      0.5847,     0.58433,     0.58396,     0.58359,     0.58322,     0.58285,     0.58248,     0.58211,     0.58174,     0.58137,       0.581,     0.58063,     0.57971,     0.57835,\n",
      "            0.57698,     0.57562,     0.57411,     0.57233,     0.57054,     0.56853,     0.56475,     0.56322,     0.56322,     0.56322,     0.56322,     0.56322,     0.56322,     0.56322,     0.56322,     0.56322,     0.56322,     0.56322,     0.56322,     0.56322,     0.56322,     0.56322,     0.56322,\n",
      "            0.56322,     0.56322,     0.56322,     0.56322,     0.56322,     0.56322,     0.56322,     0.56173,     0.55728,     0.55172,     0.55156,      0.5514,     0.55124,     0.55107,     0.55091,     0.55075,     0.55059,     0.55043,     0.55027,      0.5501,     0.54994,     0.54978,     0.54962,\n",
      "            0.54946,      0.5493,     0.54914,     0.54897,     0.54881,     0.54865,     0.54849,     0.54833,     0.54817,     0.54801,     0.54784,     0.54768,     0.54752,     0.54736,      0.5472,     0.54704,     0.54687,     0.54671,     0.54655,     0.54639,     0.54623,     0.54607,     0.54555,\n",
      "            0.54459,     0.54362,     0.54266,     0.54169,     0.54073,     0.54023,     0.54023,     0.54023,     0.54023,     0.54023,     0.53756,     0.53391,     0.53314,     0.53237,      0.5316,     0.53082,     0.53005,     0.52928,     0.52874,     0.52874,     0.52838,     0.52789,     0.52739,\n",
      "            0.52689,      0.5264,      0.5259,     0.52541,     0.52491,     0.52442,     0.52392,     0.52343,     0.52281,     0.52128,     0.51974,     0.51821,     0.51449,     0.51149,     0.51149,     0.51149,     0.51149,     0.51149,     0.51149,     0.51149,     0.51149,     0.51149,     0.51149,\n",
      "            0.51149,     0.51149,     0.51149,     0.51149,     0.51149,     0.51149,     0.51149,     0.51149,     0.51149,     0.51149,     0.51149,     0.51149,     0.51149,     0.51149,     0.51149,     0.51149,     0.51149,     0.51128,     0.51085,     0.51043,     0.51001,     0.50958,     0.50916,\n",
      "            0.50873,     0.50831,     0.50789,     0.50746,     0.50704,     0.50662,     0.50619,     0.50577,     0.50558,      0.5054,     0.50522,     0.50504,     0.50486,     0.50468,      0.5045,     0.50432,     0.50414,     0.50396,     0.50379,     0.50361,     0.50343,     0.50325,     0.50307,\n",
      "            0.50289,     0.50271,     0.50253,     0.50235,     0.50217,     0.50199,     0.50181,     0.50164,     0.50146,     0.50128,      0.5011,     0.50092,     0.50074,     0.50056,     0.50038,      0.5002,     0.50002,     0.49876,     0.49733,      0.4959,     0.49448,     0.49425,     0.49418,\n",
      "            0.49396,     0.49374,     0.49353,     0.49331,      0.4931,     0.49288,     0.49267,     0.49245,     0.49223,     0.49202,      0.4918,     0.49159,     0.49137,     0.49115,     0.49094,     0.49072,     0.49051,     0.49029,     0.49007,     0.48986,     0.48964,     0.48943,     0.48921,\n",
      "            0.48899,     0.48878,     0.48856,     0.48795,     0.48721,     0.48646,     0.48572,     0.48498,     0.48423,     0.48349,     0.48276,     0.48117,     0.47938,     0.47758,     0.47637,     0.47543,     0.47449,     0.47356,     0.47262,     0.47168,     0.47103,      0.4706,     0.47018,\n",
      "            0.46975,     0.46933,      0.4689,     0.46847,     0.46805,     0.46762,      0.4672,     0.46677,     0.46635,     0.46592,     0.46541,     0.46327,     0.46114,     0.45567,     0.45322,     0.45229,     0.45135,     0.45042,     0.44948,     0.44855,     0.44828,     0.44828,     0.44828,\n",
      "            0.44584,     0.44331,     0.44188,     0.44095,     0.44001,     0.43907,     0.43814,      0.4372,     0.43624,     0.43527,      0.4343,     0.43332,     0.43235,     0.43138,     0.42794,     0.42503,     0.42446,     0.42388,     0.42331,     0.42274,     0.42216,     0.42159,     0.42101,\n",
      "            0.42044,     0.41987,     0.41807,     0.41468,     0.41233,     0.41035,     0.40836,     0.39617,     0.39405,     0.39194,     0.38942,     0.38644,     0.38506,     0.38506,     0.38506,     0.38506,     0.38506,     0.38506,     0.38385,     0.38252,     0.38119,     0.37986,     0.37906,\n",
      "            0.37864,     0.37821,     0.37779,     0.37737,     0.37694,     0.37652,     0.37609,     0.37567,     0.37525,     0.37482,      0.3744,     0.37398,     0.37352,     0.37215,     0.37079,     0.36942,     0.36805,     0.35057,     0.35057,     0.35057,     0.35057,     0.35057,     0.35057,\n",
      "            0.35057,     0.34838,     0.34589,     0.34428,     0.34333,     0.34238,     0.34142,     0.34047,     0.33952,     0.33398,     0.33037,     0.32656,     0.32112,     0.31947,     0.31782,     0.31617,     0.31497,     0.31339,      0.3118,     0.30871,     0.30401,     0.30328,     0.30254,\n",
      "             0.3018,     0.30106,     0.30033,     0.29959,     0.29885,     0.29885,     0.29885,     0.29648,      0.2936,     0.28731,     0.28161,     0.28161,     0.28161,     0.28161,     0.28161,     0.28161,     0.28161,     0.28161,     0.28161,     0.28078,     0.27848,     0.27619,      0.2741,\n",
      "            0.27205,     0.26991,     0.26619,     0.26374,     0.26153,     0.25932,     0.25625,     0.25281,      0.2509,       0.249,     0.24709,     0.24537,     0.24365,     0.24192,     0.24138,     0.24138,     0.24138,      0.2396,     0.23502,     0.23238,     0.22955,     0.22132,     0.21496,\n",
      "            0.20952,     0.20106,     0.19481,     0.19377,     0.19272,     0.19168,     0.19064,     0.18917,     0.18236,     0.17826,     0.17455,     0.17139,     0.16898,     0.16656,     0.16391,     0.16126,     0.15859,     0.15592,     0.14183,     0.13287,     0.12827,     0.11411,     0.10832,\n",
      "            0.10467,    0.097181,    0.095673,    0.094165,    0.092656,    0.091287,    0.090037,    0.088788,    0.087538,    0.086289,     0.08514,    0.083999,    0.082857,    0.081716,    0.080574,    0.067293,    0.064419,    0.060427,    0.051378,    0.049511,    0.047644,    0.045877,    0.044936,\n",
      "           0.043996,    0.043055,    0.042115,    0.041175,    0.040234,    0.038861,    0.037485,    0.036109,    0.034733,    0.032942,    0.031057,    0.029173,    0.024239,    0.021585,    0.019801,    0.018017,    0.015586,    0.012659,     0.01008,    0.007732,           0,           0,           0,\n",
      "                  0,           0,           0,           0,           0,           0,           0,           0,           0,           0,           0,           0,           0,           0,           0,           0,           0,           0,           0,           0,           0,           0,           0,\n",
      "                  0,           0,           0,           0,           0,           0,           0,           0,           0,           0,           0,           0,           0,           0,           0,           0,           0,           0,           0,           0,           0,           0,           0,\n",
      "                  0,           0,           0,           0,           0,           0,           0,           0,           0,           0,           0,           0,           0,           0,           0,           0,           0,           0,           0,           0,           0,           0,           0,\n",
      "                  0,           0,           0,           0,           0,           0,           0,           0,           0,           0,           0,           0,           0,           0,           0,           0,           0,           0,           0,           0,           0,           0,           0,\n",
      "                  0,           0,           0,           0,           0,           0,           0,           0,           0,           0,           0,           0,           0,           0,           0,           0,           0,           0,           0,           0,           0,           0,           0,\n",
      "                  0,           0,           0,           0,           0,           0,           0,           0,           0,           0,           0,           0,           0,           0,           0,           0,           0,           0,           0,           0,           0,           0,           0,\n",
      "                  0,           0,           0,           0,           0,           0,           0,           0,           0,           0,           0,           0,           0,           0,           0,           0,           0,           0,           0,           0,           0,           0,           0,\n",
      "                  0,           0,           0,           0,           0,           0,           0,           0,           0,           0,           0,           0,           0,           0,           0,           0,           0,           0,           0,           0,           0,           0,           0,\n",
      "                  0,           0,           0,           0,           0,           0,           0,           0,           0,           0,           0]]), 'Confidence', 'Recall']]\n",
      "fitness: np.float64(0.34265437487997275)\n",
      "keys: ['metrics/precision(B)', 'metrics/recall(B)', 'metrics/mAP50(B)', 'metrics/mAP50-95(B)']\n",
      "maps: array([    0.30449])\n",
      "names: {0: 'bird'}\n",
      "plot: True\n",
      "results_dict: {'metrics/precision(B)': np.float64(0.8029738288602651), 'metrics/recall(B)': np.float64(0.6324017046471206), 'metrics/mAP50(B)': np.float64(0.6861344579834343), 'metrics/mAP50-95(B)': np.float64(0.30448992120181034), 'fitness': np.float64(0.34265437487997275)}\n",
      "save_dir: PosixPath('runs/detect/val3')\n",
      "speed: {'preprocess': 12.434738064521593, 'inference': 79.75918567741071, 'loss': 0.0007825161270785988, 'postprocess': 2.6489816451548025}\n",
      "task: 'detect'\n"
     ]
    }
   ],
   "source": [
    "# Load best or last checkpoint\n",
    "model = YOLO(\"runs/detect/train/weights/last.pt\")\n",
    "# Evaluate on the test split defined in test.yaml\n",
    "metrics = model.val(data=yolo_data, imgsz=1280, save=True, split='test')\n",
    "print(metrics)"
   ]
  },
  {
   "cell_type": "code",
   "execution_count": 13,
   "metadata": {
    "colab": {
     "base_uri": "https://localhost:8080/",
     "height": 53
    },
    "executionInfo": {
     "elapsed": 1238,
     "status": "ok",
     "timestamp": 1746645282995,
     "user": {
      "displayName": "Eugen Falca",
      "userId": "06470857081734833614"
     },
     "user_tz": -120
    },
    "id": "XRCY3KgPOxDr",
    "outputId": "e94128d2-02f9-4a0b-d574-56a91a653ce4"
   },
   "outputs": [
    {
     "data": {
      "application/vnd.google.colaboratory.intrinsic+json": {
       "type": "string"
      },
      "text/plain": [
       "'/content/drive/MyDrive/JADS group assignments Semester 2/Deep Learning - Group Assignment/dev/logs/yolo_large_experiment'"
      ]
     },
     "execution_count": 13,
     "metadata": {},
     "output_type": "execute_result"
    }
   ],
   "source": [
    "# Define the source and destination directories\n",
    "src = \"runs/detect\"\n",
    "custom_name = \"yolo_large_experiment\"\n",
    "dst = logs + custom_name\n",
    "\n",
    "# Copy the directory recursively, allowing overwriting\n",
    "shutil.copytree(src, dst, dirs_exist_ok=True)  # dirs_exist_ok=True allows copying even if dst exists"
   ]
  },
  {
   "cell_type": "code",
   "execution_count": 11,
   "metadata": {
    "colab": {
     "base_uri": "https://localhost:8080/"
    },
    "executionInfo": {
     "elapsed": 170,
     "status": "ok",
     "timestamp": 1746645256372,
     "user": {
      "displayName": "Eugen Falca",
      "userId": "06470857081734833614"
     },
     "user_tz": -120
    },
    "id": "teb6bFnOO6dl",
    "outputId": "5332799c-6d3a-423d-f44d-241e0786118c"
   },
   "outputs": [
    {
     "name": "stdout",
     "output_type": "stream",
     "text": [
      "Model saved to /content/drive/MyDrive/JADS group assignments Semester 2/Deep Learning - Group Assignment/dev/models/yolov11large_freeze_10_base_hp_70_epochs_last.pt\n"
     ]
    }
   ],
   "source": [
    "import shutil\n",
    "\n",
    "# Path to YOLOv8 trained model weights\n",
    "trained_model_path = 'runs/detect/train/weights/last.pt' #update with the corresponding path\n",
    "\n",
    "# Path to save in Google Drive with a custom name\n",
    "custom_name = 'yolov11large_freeze_10_base_hp_70_epochs_last.pt'  # Replace with your desired name\n",
    "destination_path = f'{models}/{custom_name}'\n",
    "\n",
    "# Copy the best model to Google Drive\n",
    "shutil.copy(trained_model_path, destination_path)\n",
    "\n",
    "print(f'Model saved to {destination_path}')"
   ]
  },
  {
   "cell_type": "code",
   "execution_count": 12,
   "metadata": {
    "colab": {
     "base_uri": "https://localhost:8080/"
    },
    "executionInfo": {
     "elapsed": 156,
     "status": "ok",
     "timestamp": 1746645271969,
     "user": {
      "displayName": "Eugen Falca",
      "userId": "06470857081734833614"
     },
     "user_tz": -120
    },
    "id": "BvOT70b0UCWg",
    "outputId": "99d21497-83f7-4fe3-c4de-6770c362d58f"
   },
   "outputs": [
    {
     "name": "stdout",
     "output_type": "stream",
     "text": [
      "Model saved to /content/drive/MyDrive/JADS group assignments Semester 2/Deep Learning - Group Assignment/dev/models/yolov11large_freeze_10_base_hp_70_epochs_best.pt\n"
     ]
    }
   ],
   "source": [
    "import shutil\n",
    "\n",
    "# Path to YOLOv8 trained model weights\n",
    "trained_model_path = 'runs/detect/train/weights/best.pt' #update with the corresponding path\n",
    "\n",
    "# Path to save in Google Drive with a custom name\n",
    "custom_name = 'yolov11large_freeze_10_base_hp_70_epochs_best.pt'  # Replace with your desired name\n",
    "destination_path = f'{models}/{custom_name}'\n",
    "\n",
    "# Copy the best model to Google Drive\n",
    "shutil.copy(trained_model_path, destination_path)\n",
    "\n",
    "print(f'Model saved to {destination_path}')"
   ]
  },
  {
   "cell_type": "code",
   "execution_count": 6,
   "metadata": {
    "colab": {
     "base_uri": "https://localhost:8080/"
    },
    "executionInfo": {
     "elapsed": 79713,
     "status": "ok",
     "timestamp": 1746638781860,
     "user": {
      "displayName": "Eugen Falca",
      "userId": "06470857081734833614"
     },
     "user_tz": -120
    },
    "id": "DaGmKnIvxK8b",
    "outputId": "9c830542-e05d-4ff7-ca0f-beb13d6e47a5"
   },
   "outputs": [
    {
     "name": "stdout",
     "output_type": "stream",
     "text": [
      "Ultralytics 8.3.128 🚀 Python-3.11.12 torch-2.6.0+cu124 CUDA:0 (Tesla T4, 15095MiB)\n",
      "YOLO11m summary (fused): 125 layers, 20,030,803 parameters, 0 gradients, 67.6 GFLOPs\n",
      "Downloading https://ultralytics.com/assets/Arial.ttf to '/root/.config/Ultralytics/Arial.ttf'...\n"
     ]
    },
    {
     "name": "stderr",
     "output_type": "stream",
     "text": [
      "100%|██████████| 755k/755k [00:00<00:00, 22.6MB/s]\n"
     ]
    },
    {
     "name": "stdout",
     "output_type": "stream",
     "text": [
      "\u001b[34m\u001b[1mval: \u001b[0mFast image access ✅ (ping: 0.6±0.2 ms, read: 11.8±3.5 MB/s, size: 11763.7 KB)\n"
     ]
    },
    {
     "name": "stderr",
     "output_type": "stream",
     "text": [
      "\u001b[34m\u001b[1mval: \u001b[0mScanning /content/drive/.shortcut-targets-by-id/1ul61U35aG3KhMRm83t3YVDwsRzb7rDsy/JADS group assignments Semester 2/Deep Learning - Group Assignment/dev/data/data_yolo_format/test/labels... 31 images, 2 backgrounds, 0 corrupt: 100%|██████████| 31/31 [00:36<00:00,  1.18s/it]"
     ]
    },
    {
     "name": "stdout",
     "output_type": "stream",
     "text": [
      "\u001b[34m\u001b[1mval: \u001b[0mNew cache created: /content/drive/.shortcut-targets-by-id/1ul61U35aG3KhMRm83t3YVDwsRzb7rDsy/JADS group assignments Semester 2/Deep Learning - Group Assignment/dev/data/data_yolo_format/test/labels.cache\n"
     ]
    },
    {
     "name": "stderr",
     "output_type": "stream",
     "text": [
      "\n",
      "                 Class     Images  Instances      Box(P          R      mAP50  mAP50-95): 100%|██████████| 2/2 [00:05<00:00,  2.75s/it]\n"
     ]
    },
    {
     "name": "stdout",
     "output_type": "stream",
     "text": [
      "                   all         31        174      0.879      0.655      0.744      0.333\n",
      "Speed: 16.9ms preprocess, 61.1ms inference, 0.0ms loss, 19.1ms postprocess per image\n",
      "Results saved to \u001b[1mruns/detect/val\u001b[0m\n",
      "ultralytics.utils.metrics.DetMetrics object with attributes:\n",
      "\n",
      "ap_class_index: array([0])\n",
      "box: ultralytics.utils.metrics.Metric object\n",
      "confusion_matrix: <ultralytics.utils.metrics.ConfusionMatrix object at 0x7f73a2a9ec10>\n",
      "curves: ['Precision-Recall(B)', 'F1-Confidence(B)', 'Precision-Confidence(B)', 'Recall-Confidence(B)']\n",
      "curves_results: [[array([          0,    0.001001,    0.002002,    0.003003,    0.004004,    0.005005,    0.006006,    0.007007,    0.008008,    0.009009,     0.01001,    0.011011,    0.012012,    0.013013,    0.014014,    0.015015,    0.016016,    0.017017,    0.018018,    0.019019,     0.02002,    0.021021,    0.022022,    0.023023,\n",
      "          0.024024,    0.025025,    0.026026,    0.027027,    0.028028,    0.029029,     0.03003,    0.031031,    0.032032,    0.033033,    0.034034,    0.035035,    0.036036,    0.037037,    0.038038,    0.039039,     0.04004,    0.041041,    0.042042,    0.043043,    0.044044,    0.045045,    0.046046,    0.047047,\n",
      "          0.048048,    0.049049,     0.05005,    0.051051,    0.052052,    0.053053,    0.054054,    0.055055,    0.056056,    0.057057,    0.058058,    0.059059,     0.06006,    0.061061,    0.062062,    0.063063,    0.064064,    0.065065,    0.066066,    0.067067,    0.068068,    0.069069,     0.07007,    0.071071,\n",
      "          0.072072,    0.073073,    0.074074,    0.075075,    0.076076,    0.077077,    0.078078,    0.079079,     0.08008,    0.081081,    0.082082,    0.083083,    0.084084,    0.085085,    0.086086,    0.087087,    0.088088,    0.089089,     0.09009,    0.091091,    0.092092,    0.093093,    0.094094,    0.095095,\n",
      "          0.096096,    0.097097,    0.098098,    0.099099,      0.1001,      0.1011,      0.1021,      0.1031,      0.1041,     0.10511,     0.10611,     0.10711,     0.10811,     0.10911,     0.11011,     0.11111,     0.11211,     0.11311,     0.11411,     0.11512,     0.11612,     0.11712,     0.11812,     0.11912,\n",
      "           0.12012,     0.12112,     0.12212,     0.12312,     0.12412,     0.12513,     0.12613,     0.12713,     0.12813,     0.12913,     0.13013,     0.13113,     0.13213,     0.13313,     0.13413,     0.13514,     0.13614,     0.13714,     0.13814,     0.13914,     0.14014,     0.14114,     0.14214,     0.14314,\n",
      "           0.14414,     0.14515,     0.14615,     0.14715,     0.14815,     0.14915,     0.15015,     0.15115,     0.15215,     0.15315,     0.15415,     0.15516,     0.15616,     0.15716,     0.15816,     0.15916,     0.16016,     0.16116,     0.16216,     0.16316,     0.16416,     0.16517,     0.16617,     0.16717,\n",
      "           0.16817,     0.16917,     0.17017,     0.17117,     0.17217,     0.17317,     0.17417,     0.17518,     0.17618,     0.17718,     0.17818,     0.17918,     0.18018,     0.18118,     0.18218,     0.18318,     0.18418,     0.18519,     0.18619,     0.18719,     0.18819,     0.18919,     0.19019,     0.19119,\n",
      "           0.19219,     0.19319,     0.19419,      0.1952,      0.1962,      0.1972,      0.1982,      0.1992,      0.2002,      0.2012,      0.2022,      0.2032,      0.2042,     0.20521,     0.20621,     0.20721,     0.20821,     0.20921,     0.21021,     0.21121,     0.21221,     0.21321,     0.21421,     0.21522,\n",
      "           0.21622,     0.21722,     0.21822,     0.21922,     0.22022,     0.22122,     0.22222,     0.22322,     0.22422,     0.22523,     0.22623,     0.22723,     0.22823,     0.22923,     0.23023,     0.23123,     0.23223,     0.23323,     0.23423,     0.23524,     0.23624,     0.23724,     0.23824,     0.23924,\n",
      "           0.24024,     0.24124,     0.24224,     0.24324,     0.24424,     0.24525,     0.24625,     0.24725,     0.24825,     0.24925,     0.25025,     0.25125,     0.25225,     0.25325,     0.25425,     0.25526,     0.25626,     0.25726,     0.25826,     0.25926,     0.26026,     0.26126,     0.26226,     0.26326,\n",
      "           0.26426,     0.26527,     0.26627,     0.26727,     0.26827,     0.26927,     0.27027,     0.27127,     0.27227,     0.27327,     0.27427,     0.27528,     0.27628,     0.27728,     0.27828,     0.27928,     0.28028,     0.28128,     0.28228,     0.28328,     0.28428,     0.28529,     0.28629,     0.28729,\n",
      "           0.28829,     0.28929,     0.29029,     0.29129,     0.29229,     0.29329,     0.29429,      0.2953,      0.2963,      0.2973,      0.2983,      0.2993,      0.3003,      0.3013,      0.3023,      0.3033,      0.3043,     0.30531,     0.30631,     0.30731,     0.30831,     0.30931,     0.31031,     0.31131,\n",
      "           0.31231,     0.31331,     0.31431,     0.31532,     0.31632,     0.31732,     0.31832,     0.31932,     0.32032,     0.32132,     0.32232,     0.32332,     0.32432,     0.32533,     0.32633,     0.32733,     0.32833,     0.32933,     0.33033,     0.33133,     0.33233,     0.33333,     0.33433,     0.33534,\n",
      "           0.33634,     0.33734,     0.33834,     0.33934,     0.34034,     0.34134,     0.34234,     0.34334,     0.34434,     0.34535,     0.34635,     0.34735,     0.34835,     0.34935,     0.35035,     0.35135,     0.35235,     0.35335,     0.35435,     0.35536,     0.35636,     0.35736,     0.35836,     0.35936,\n",
      "           0.36036,     0.36136,     0.36236,     0.36336,     0.36436,     0.36537,     0.36637,     0.36737,     0.36837,     0.36937,     0.37037,     0.37137,     0.37237,     0.37337,     0.37437,     0.37538,     0.37638,     0.37738,     0.37838,     0.37938,     0.38038,     0.38138,     0.38238,     0.38338,\n",
      "           0.38438,     0.38539,     0.38639,     0.38739,     0.38839,     0.38939,     0.39039,     0.39139,     0.39239,     0.39339,     0.39439,      0.3954,      0.3964,      0.3974,      0.3984,      0.3994,      0.4004,      0.4014,      0.4024,      0.4034,      0.4044,     0.40541,     0.40641,     0.40741,\n",
      "           0.40841,     0.40941,     0.41041,     0.41141,     0.41241,     0.41341,     0.41441,     0.41542,     0.41642,     0.41742,     0.41842,     0.41942,     0.42042,     0.42142,     0.42242,     0.42342,     0.42442,     0.42543,     0.42643,     0.42743,     0.42843,     0.42943,     0.43043,     0.43143,\n",
      "           0.43243,     0.43343,     0.43443,     0.43544,     0.43644,     0.43744,     0.43844,     0.43944,     0.44044,     0.44144,     0.44244,     0.44344,     0.44444,     0.44545,     0.44645,     0.44745,     0.44845,     0.44945,     0.45045,     0.45145,     0.45245,     0.45345,     0.45445,     0.45546,\n",
      "           0.45646,     0.45746,     0.45846,     0.45946,     0.46046,     0.46146,     0.46246,     0.46346,     0.46446,     0.46547,     0.46647,     0.46747,     0.46847,     0.46947,     0.47047,     0.47147,     0.47247,     0.47347,     0.47447,     0.47548,     0.47648,     0.47748,     0.47848,     0.47948,\n",
      "           0.48048,     0.48148,     0.48248,     0.48348,     0.48448,     0.48549,     0.48649,     0.48749,     0.48849,     0.48949,     0.49049,     0.49149,     0.49249,     0.49349,     0.49449,      0.4955,      0.4965,      0.4975,      0.4985,      0.4995,      0.5005,      0.5015,      0.5025,      0.5035,\n",
      "            0.5045,     0.50551,     0.50651,     0.50751,     0.50851,     0.50951,     0.51051,     0.51151,     0.51251,     0.51351,     0.51451,     0.51552,     0.51652,     0.51752,     0.51852,     0.51952,     0.52052,     0.52152,     0.52252,     0.52352,     0.52452,     0.52553,     0.52653,     0.52753,\n",
      "           0.52853,     0.52953,     0.53053,     0.53153,     0.53253,     0.53353,     0.53453,     0.53554,     0.53654,     0.53754,     0.53854,     0.53954,     0.54054,     0.54154,     0.54254,     0.54354,     0.54454,     0.54555,     0.54655,     0.54755,     0.54855,     0.54955,     0.55055,     0.55155,\n",
      "           0.55255,     0.55355,     0.55455,     0.55556,     0.55656,     0.55756,     0.55856,     0.55956,     0.56056,     0.56156,     0.56256,     0.56356,     0.56456,     0.56557,     0.56657,     0.56757,     0.56857,     0.56957,     0.57057,     0.57157,     0.57257,     0.57357,     0.57457,     0.57558,\n",
      "           0.57658,     0.57758,     0.57858,     0.57958,     0.58058,     0.58158,     0.58258,     0.58358,     0.58458,     0.58559,     0.58659,     0.58759,     0.58859,     0.58959,     0.59059,     0.59159,     0.59259,     0.59359,     0.59459,      0.5956,      0.5966,      0.5976,      0.5986,      0.5996,\n",
      "            0.6006,      0.6016,      0.6026,      0.6036,      0.6046,     0.60561,     0.60661,     0.60761,     0.60861,     0.60961,     0.61061,     0.61161,     0.61261,     0.61361,     0.61461,     0.61562,     0.61662,     0.61762,     0.61862,     0.61962,     0.62062,     0.62162,     0.62262,     0.62362,\n",
      "           0.62462,     0.62563,     0.62663,     0.62763,     0.62863,     0.62963,     0.63063,     0.63163,     0.63263,     0.63363,     0.63463,     0.63564,     0.63664,     0.63764,     0.63864,     0.63964,     0.64064,     0.64164,     0.64264,     0.64364,     0.64464,     0.64565,     0.64665,     0.64765,\n",
      "           0.64865,     0.64965,     0.65065,     0.65165,     0.65265,     0.65365,     0.65465,     0.65566,     0.65666,     0.65766,     0.65866,     0.65966,     0.66066,     0.66166,     0.66266,     0.66366,     0.66466,     0.66567,     0.66667,     0.66767,     0.66867,     0.66967,     0.67067,     0.67167,\n",
      "           0.67267,     0.67367,     0.67467,     0.67568,     0.67668,     0.67768,     0.67868,     0.67968,     0.68068,     0.68168,     0.68268,     0.68368,     0.68468,     0.68569,     0.68669,     0.68769,     0.68869,     0.68969,     0.69069,     0.69169,     0.69269,     0.69369,     0.69469,      0.6957,\n",
      "            0.6967,      0.6977,      0.6987,      0.6997,      0.7007,      0.7017,      0.7027,      0.7037,      0.7047,     0.70571,     0.70671,     0.70771,     0.70871,     0.70971,     0.71071,     0.71171,     0.71271,     0.71371,     0.71471,     0.71572,     0.71672,     0.71772,     0.71872,     0.71972,\n",
      "           0.72072,     0.72172,     0.72272,     0.72372,     0.72472,     0.72573,     0.72673,     0.72773,     0.72873,     0.72973,     0.73073,     0.73173,     0.73273,     0.73373,     0.73473,     0.73574,     0.73674,     0.73774,     0.73874,     0.73974,     0.74074,     0.74174,     0.74274,     0.74374,\n",
      "           0.74474,     0.74575,     0.74675,     0.74775,     0.74875,     0.74975,     0.75075,     0.75175,     0.75275,     0.75375,     0.75475,     0.75576,     0.75676,     0.75776,     0.75876,     0.75976,     0.76076,     0.76176,     0.76276,     0.76376,     0.76476,     0.76577,     0.76677,     0.76777,\n",
      "           0.76877,     0.76977,     0.77077,     0.77177,     0.77277,     0.77377,     0.77477,     0.77578,     0.77678,     0.77778,     0.77878,     0.77978,     0.78078,     0.78178,     0.78278,     0.78378,     0.78478,     0.78579,     0.78679,     0.78779,     0.78879,     0.78979,     0.79079,     0.79179,\n",
      "           0.79279,     0.79379,     0.79479,      0.7958,      0.7968,      0.7978,      0.7988,      0.7998,      0.8008,      0.8018,      0.8028,      0.8038,      0.8048,     0.80581,     0.80681,     0.80781,     0.80881,     0.80981,     0.81081,     0.81181,     0.81281,     0.81381,     0.81481,     0.81582,\n",
      "           0.81682,     0.81782,     0.81882,     0.81982,     0.82082,     0.82182,     0.82282,     0.82382,     0.82482,     0.82583,     0.82683,     0.82783,     0.82883,     0.82983,     0.83083,     0.83183,     0.83283,     0.83383,     0.83483,     0.83584,     0.83684,     0.83784,     0.83884,     0.83984,\n",
      "           0.84084,     0.84184,     0.84284,     0.84384,     0.84484,     0.84585,     0.84685,     0.84785,     0.84885,     0.84985,     0.85085,     0.85185,     0.85285,     0.85385,     0.85485,     0.85586,     0.85686,     0.85786,     0.85886,     0.85986,     0.86086,     0.86186,     0.86286,     0.86386,\n",
      "           0.86486,     0.86587,     0.86687,     0.86787,     0.86887,     0.86987,     0.87087,     0.87187,     0.87287,     0.87387,     0.87487,     0.87588,     0.87688,     0.87788,     0.87888,     0.87988,     0.88088,     0.88188,     0.88288,     0.88388,     0.88488,     0.88589,     0.88689,     0.88789,\n",
      "           0.88889,     0.88989,     0.89089,     0.89189,     0.89289,     0.89389,     0.89489,      0.8959,      0.8969,      0.8979,      0.8989,      0.8999,      0.9009,      0.9019,      0.9029,      0.9039,      0.9049,     0.90591,     0.90691,     0.90791,     0.90891,     0.90991,     0.91091,     0.91191,\n",
      "           0.91291,     0.91391,     0.91491,     0.91592,     0.91692,     0.91792,     0.91892,     0.91992,     0.92092,     0.92192,     0.92292,     0.92392,     0.92492,     0.92593,     0.92693,     0.92793,     0.92893,     0.92993,     0.93093,     0.93193,     0.93293,     0.93393,     0.93493,     0.93594,\n",
      "           0.93694,     0.93794,     0.93894,     0.93994,     0.94094,     0.94194,     0.94294,     0.94394,     0.94494,     0.94595,     0.94695,     0.94795,     0.94895,     0.94995,     0.95095,     0.95195,     0.95295,     0.95395,     0.95495,     0.95596,     0.95696,     0.95796,     0.95896,     0.95996,\n",
      "           0.96096,     0.96196,     0.96296,     0.96396,     0.96496,     0.96597,     0.96697,     0.96797,     0.96897,     0.96997,     0.97097,     0.97197,     0.97297,     0.97397,     0.97497,     0.97598,     0.97698,     0.97798,     0.97898,     0.97998,     0.98098,     0.98198,     0.98298,     0.98398,\n",
      "           0.98498,     0.98599,     0.98699,     0.98799,     0.98899,     0.98999,     0.99099,     0.99199,     0.99299,     0.99399,     0.99499,       0.996,       0.997,       0.998,       0.999,           1]), array([[          1,           1,           1,           1,           1,           1,           1,           1,           1,           1,           1,           1,           1,           1,           1,           1,           1,           1,           1,           1,           1,           1,           1,\n",
      "                  1,           1,           1,           1,           1,           1,           1,           1,           1,           1,           1,           1,           1,           1,           1,           1,           1,           1,           1,           1,           1,           1,           1,\n",
      "                  1,           1,           1,           1,           1,           1,           1,           1,           1,           1,           1,           1,           1,           1,           1,           1,           1,           1,           1,           1,           1,           1,           1,\n",
      "                  1,           1,           1,           1,           1,           1,           1,           1,           1,           1,           1,           1,           1,           1,           1,           1,           1,           1,           1,           1,           1,           1,           1,\n",
      "                  1,           1,           1,           1,           1,           1,           1,           1,           1,           1,           1,           1,           1,           1,           1,           1,           1,           1,           1,           1,           1,           1,           1,\n",
      "                  1,           1,           1,           1,           1,           1,           1,           1,           1,           1,           1,           1,           1,           1,           1,           1,           1,           1,           1,           1,           1,           1,           1,\n",
      "                  1,           1,           1,           1,           1,           1,           1,           1,           1,           1,           1,           1,           1,           1,           1,           1,           1,           1,           1,           1,           1,           1,           1,\n",
      "                  1,           1,           1,           1,           1,           1,           1,           1,           1,           1,           1,           1,           1,           1,           1,           1,           1,           1,           1,           1,           1,           1,           1,\n",
      "                  1,           1,           1,           1,           1,           1,           1,           1,           1,           1,           1,           1,           1,           1,           1,           1,           1,           1,           1,           1,           1,           1,           1,\n",
      "                  1,           1,           1,           1,           1,           1,           1,           1,           1,           1,           1,           1,           1,           1,           1,           1,           1,           1,           1,           1,           1,           1,           1,\n",
      "                  1,           1,           1,           1,           1,           1,           1,           1,           1,           1,           1,           1,           1,           1,           1,           1,           1,           1,           1,           1,           1,           1,           1,\n",
      "                  1,           1,           1,           1,           1,           1,           1,           1,           1,           1,           1,           1,           1,           1,           1,           1,           1,     0.97959,     0.97959,     0.97959,     0.97959,     0.97959,     0.97959,\n",
      "            0.96721,     0.96721,     0.96721,     0.96721,     0.96721,     0.96721,     0.96721,     0.96721,     0.96721,     0.96721,     0.96721,     0.96721,     0.96721,     0.96721,     0.96721,     0.96721,     0.96721,     0.96721,     0.96721,     0.96721,     0.96721,     0.96721,     0.96721,\n",
      "            0.96721,     0.96721,     0.96721,     0.96721,     0.96721,     0.96721,     0.96721,     0.96721,     0.96721,     0.96721,     0.96721,     0.96721,     0.96721,     0.96721,     0.96721,     0.96721,     0.96721,     0.96721,     0.96721,     0.96721,     0.96721,     0.96721,     0.96721,\n",
      "            0.96721,     0.96721,     0.96721,     0.96721,     0.96721,     0.96721,     0.96721,     0.96721,     0.96721,     0.96721,     0.96721,     0.96721,     0.96721,     0.96721,     0.96721,     0.96721,     0.96721,     0.95714,     0.95714,     0.95714,     0.95714,     0.95714,     0.95714,\n",
      "            0.95714,     0.95714,     0.95714,     0.95714,     0.95714,     0.95714,     0.95714,     0.95714,     0.95714,     0.95714,     0.95714,     0.95714,     0.95714,     0.95714,     0.95714,     0.95714,     0.95714,     0.95714,     0.95714,     0.95714,     0.95714,     0.95714,     0.95714,\n",
      "            0.95714,     0.95714,     0.95714,     0.95714,     0.95714,     0.95714,     0.95714,     0.95714,     0.95714,     0.95714,     0.95714,     0.95714,     0.95714,     0.95714,     0.95714,     0.95714,     0.95714,     0.94595,     0.94595,     0.94595,     0.94595,     0.94595,     0.94595,\n",
      "            0.94595,     0.94595,     0.94595,     0.94595,     0.94595,     0.94595,     0.94595,     0.94595,     0.94595,     0.94595,     0.94595,     0.92405,     0.92405,     0.92405,     0.92405,     0.92405,     0.92405,     0.92405,     0.92405,     0.92405,     0.92405,     0.92405,     0.92405,\n",
      "            0.92405,     0.92405,     0.92405,     0.92405,     0.92405,     0.92405,      0.9186,      0.9186,      0.9186,      0.9186,      0.9186,      0.9186,      0.9186,      0.9186,      0.9186,      0.9186,      0.9186,      0.9186,      0.9186,      0.9186,      0.9186,      0.9186,      0.9186,\n",
      "             0.9186,      0.9186,      0.9186,      0.9186,      0.9186,      0.9186,      0.9186,      0.9186,      0.9186,      0.9186,      0.9186,      0.9186,      0.9186,      0.9186,      0.9186,      0.9186,      0.9186,     0.91667,     0.91667,     0.91667,     0.91667,     0.91667,     0.91667,\n",
      "            0.91667,     0.91667,     0.91667,     0.91667,     0.91667,     0.91667,     0.91667,     0.91667,     0.91667,     0.91667,     0.91667,     0.91667,     0.91667,     0.91667,     0.91667,     0.91667,     0.91667,     0.91667,     0.91667,     0.91667,     0.91667,     0.91667,     0.91667,\n",
      "            0.91667,     0.91667,     0.91667,     0.91667,     0.91667,     0.91667,     0.91667,     0.91667,     0.91667,     0.91667,     0.91667,     0.91667,     0.91667,     0.91667,     0.91667,     0.91667,     0.91667,     0.91667,     0.91667,     0.91667,     0.91667,     0.91667,     0.91667,\n",
      "            0.91667,     0.91667,     0.91667,     0.91667,     0.91667,     0.91667,     0.91667,     0.91667,     0.91667,     0.91667,     0.91667,     0.91667,     0.91667,     0.91667,     0.91667,     0.91667,     0.91667,     0.91667,     0.91667,     0.91667,     0.91667,     0.91667,     0.91667,\n",
      "            0.91667,     0.91667,     0.91667,     0.91667,     0.91667,     0.91667,     0.91667,     0.91667,     0.91667,     0.91667,     0.91667,     0.91667,     0.91667,     0.91667,     0.91667,     0.91667,     0.91667,     0.91667,     0.91667,     0.91667,     0.91667,     0.91667,     0.91667,\n",
      "            0.91667,     0.91667,     0.91667,     0.91667,     0.91667,     0.91667,     0.91667,     0.91667,     0.91667,     0.91667,     0.91667,     0.91667,     0.91667,     0.91667,     0.91667,     0.91667,     0.91667,     0.89381,     0.89381,     0.89381,     0.89381,     0.89381,     0.89381,\n",
      "            0.89381,     0.89381,     0.89381,     0.89381,     0.89381,     0.89062,     0.89062,     0.89062,     0.89062,     0.89062,     0.89062,     0.89062,     0.89062,     0.89062,     0.89062,     0.89062,     0.89062,     0.89062,     0.89062,     0.89062,     0.89062,     0.89062,     0.89062,\n",
      "            0.89062,     0.89062,     0.89062,     0.89062,     0.89062,     0.89062,     0.89062,     0.89062,     0.89062,     0.89062,     0.89062,     0.89062,     0.89062,     0.89062,     0.89062,     0.89062,     0.89062,     0.89062,     0.89062,     0.89062,     0.89062,     0.89062,     0.89062,\n",
      "            0.89062,     0.89062,     0.89062,     0.89062,     0.89062,     0.89062,     0.89062,     0.89062,     0.89062,     0.89062,     0.89062,     0.89062,     0.89062,     0.89062,     0.89062,     0.89062,     0.89062,     0.89062,     0.89062,     0.89062,     0.89062,     0.89062,     0.89062,\n",
      "            0.89062,     0.89062,     0.89062,     0.89062,     0.89062,     0.89062,     0.89062,     0.89062,     0.89062,     0.89062,     0.89062,     0.87879,     0.87879,     0.87879,     0.87879,     0.87879,     0.87879,     0.87879,     0.87879,     0.87879,     0.87879,     0.87879,     0.85401,\n",
      "            0.85401,     0.85401,     0.85401,     0.85401,     0.85401,     0.84286,     0.84286,     0.84286,     0.84286,     0.84286,     0.84286,     0.82069,     0.82069,     0.82069,     0.82069,     0.82069,     0.82069,     0.80537,     0.80537,     0.80537,     0.80537,     0.80537,     0.79739,\n",
      "            0.79739,     0.79739,     0.79739,     0.79739,     0.79739,     0.79739,     0.79739,     0.79739,     0.79739,     0.79739,     0.79739,        0.75,        0.75,        0.75,        0.75,        0.75,        0.75,     0.74251,     0.74251,     0.74251,     0.74251,     0.74251,     0.73099,\n",
      "            0.73099,     0.73099,     0.73099,     0.73099,     0.73099,     0.72832,     0.72832,     0.72832,     0.72832,     0.72832,     0.72832,     0.72159,     0.72159,     0.72159,     0.72159,     0.72159,     0.72159,     0.65641,     0.65641,     0.65641,     0.65641,     0.65641,     0.65482,\n",
      "            0.65482,     0.65482,     0.65482,     0.65482,     0.65482,     0.60465,     0.60465,     0.60465,     0.60465,     0.60465,     0.60465,     0.57965,     0.57965,     0.57965,     0.57965,     0.57965,     0.57965,     0.57391,     0.57391,     0.57391,     0.57391,     0.57391,     0.54733,\n",
      "            0.54733,     0.54733,     0.54733,     0.54733,     0.54733,     0.48201,     0.48201,     0.48201,     0.48201,     0.48201,     0.48201,     0.45918,     0.45918,     0.45918,     0.45918,     0.45918,     0.45918,     0.40476,     0.40476,     0.40476,     0.40476,     0.40476,     0.37127,\n",
      "            0.37127,     0.37127,     0.37127,     0.37127,     0.37127,     0.36605,     0.36605,     0.36605,     0.36605,     0.36605,     0.36605,     0.35013,     0.35013,     0.35013,     0.35013,     0.35013,     0.35013,     0.29915,     0.29915,     0.29915,     0.29915,     0.29915,     0.28717,\n",
      "            0.28717,     0.28717,     0.28717,     0.28717,     0.28717,     0.28063,     0.28063,     0.28063,     0.28063,     0.28063,     0.28063,     0.22274,     0.22274,     0.22274,     0.22274,     0.22274,     0.22274,     0.21674,     0.21674,     0.21674,     0.21674,     0.21674,     0.21674,\n",
      "            0.21674,     0.21674,     0.21674,     0.21674,     0.21674,     0.17697,     0.17697,     0.17697,     0.17697,     0.17697,     0.17697,     0.16382,      0.1628,     0.16178,     0.16075,     0.15973,      0.1587,     0.15768,     0.15666,     0.15563,     0.15461,     0.15358,     0.15256,\n",
      "            0.15154,     0.15051,     0.14949,     0.14846,     0.14744,     0.14642,     0.14539,     0.14437,     0.14335,     0.14232,      0.1413,     0.14027,     0.13925,     0.13823,      0.1372,     0.13618,     0.13515,     0.13413,     0.13311,     0.13208,     0.13106,     0.13003,     0.12901,\n",
      "            0.12799,     0.12696,     0.12594,     0.12492,     0.12389,     0.12287,     0.12184,     0.12082,      0.1198,     0.11877,     0.11775,     0.11672,      0.1157,     0.11468,     0.11365,     0.11263,      0.1116,     0.11058,     0.10956,     0.10853,     0.10751,     0.10648,     0.10546,\n",
      "            0.10444,     0.10341,     0.10239,     0.10137,     0.10034,    0.099318,    0.098294,     0.09727,    0.096246,    0.095222,    0.094198,    0.093174,     0.09215,    0.091127,    0.090103,    0.089079,    0.088055,    0.087031,    0.086007,    0.084983,    0.083959,    0.082935,    0.081912,\n",
      "           0.080888,    0.079864,     0.07884,    0.077816,    0.076792,    0.075768,    0.074744,     0.07372,    0.072696,    0.071673,    0.070649,    0.069625,    0.068601,    0.067577,    0.066553,    0.065529,    0.064505,    0.063481,    0.062458,    0.061434,     0.06041,    0.059386,    0.058362,\n",
      "           0.057338,    0.056314,     0.05529,    0.054266,    0.053242,    0.052219,    0.051195,    0.050171,    0.049147,    0.048123,    0.047099,    0.046075,    0.045051,    0.044027,    0.043004,     0.04198,    0.040956,    0.039932,    0.038908,    0.037884,     0.03686,    0.035836,    0.034812,\n",
      "           0.033788,    0.032765,    0.031741,    0.030717,    0.029693,    0.028669,    0.027645,    0.026621,    0.025597,    0.024573,     0.02355,    0.022526,    0.021502,    0.020478,    0.019454,     0.01843,    0.017406,    0.016382,    0.015358,    0.014335,    0.013311,    0.012287,    0.011263,\n",
      "           0.010239,    0.009215,   0.0081912,   0.0071673,   0.0061434,   0.0051195,   0.0040956,   0.0030717,   0.0020478,   0.0010239,           0]]), 'Recall', 'Precision'], [array([          0,    0.001001,    0.002002,    0.003003,    0.004004,    0.005005,    0.006006,    0.007007,    0.008008,    0.009009,     0.01001,    0.011011,    0.012012,    0.013013,    0.014014,    0.015015,    0.016016,    0.017017,    0.018018,    0.019019,     0.02002,    0.021021,    0.022022,    0.023023,\n",
      "          0.024024,    0.025025,    0.026026,    0.027027,    0.028028,    0.029029,     0.03003,    0.031031,    0.032032,    0.033033,    0.034034,    0.035035,    0.036036,    0.037037,    0.038038,    0.039039,     0.04004,    0.041041,    0.042042,    0.043043,    0.044044,    0.045045,    0.046046,    0.047047,\n",
      "          0.048048,    0.049049,     0.05005,    0.051051,    0.052052,    0.053053,    0.054054,    0.055055,    0.056056,    0.057057,    0.058058,    0.059059,     0.06006,    0.061061,    0.062062,    0.063063,    0.064064,    0.065065,    0.066066,    0.067067,    0.068068,    0.069069,     0.07007,    0.071071,\n",
      "          0.072072,    0.073073,    0.074074,    0.075075,    0.076076,    0.077077,    0.078078,    0.079079,     0.08008,    0.081081,    0.082082,    0.083083,    0.084084,    0.085085,    0.086086,    0.087087,    0.088088,    0.089089,     0.09009,    0.091091,    0.092092,    0.093093,    0.094094,    0.095095,\n",
      "          0.096096,    0.097097,    0.098098,    0.099099,      0.1001,      0.1011,      0.1021,      0.1031,      0.1041,     0.10511,     0.10611,     0.10711,     0.10811,     0.10911,     0.11011,     0.11111,     0.11211,     0.11311,     0.11411,     0.11512,     0.11612,     0.11712,     0.11812,     0.11912,\n",
      "           0.12012,     0.12112,     0.12212,     0.12312,     0.12412,     0.12513,     0.12613,     0.12713,     0.12813,     0.12913,     0.13013,     0.13113,     0.13213,     0.13313,     0.13413,     0.13514,     0.13614,     0.13714,     0.13814,     0.13914,     0.14014,     0.14114,     0.14214,     0.14314,\n",
      "           0.14414,     0.14515,     0.14615,     0.14715,     0.14815,     0.14915,     0.15015,     0.15115,     0.15215,     0.15315,     0.15415,     0.15516,     0.15616,     0.15716,     0.15816,     0.15916,     0.16016,     0.16116,     0.16216,     0.16316,     0.16416,     0.16517,     0.16617,     0.16717,\n",
      "           0.16817,     0.16917,     0.17017,     0.17117,     0.17217,     0.17317,     0.17417,     0.17518,     0.17618,     0.17718,     0.17818,     0.17918,     0.18018,     0.18118,     0.18218,     0.18318,     0.18418,     0.18519,     0.18619,     0.18719,     0.18819,     0.18919,     0.19019,     0.19119,\n",
      "           0.19219,     0.19319,     0.19419,      0.1952,      0.1962,      0.1972,      0.1982,      0.1992,      0.2002,      0.2012,      0.2022,      0.2032,      0.2042,     0.20521,     0.20621,     0.20721,     0.20821,     0.20921,     0.21021,     0.21121,     0.21221,     0.21321,     0.21421,     0.21522,\n",
      "           0.21622,     0.21722,     0.21822,     0.21922,     0.22022,     0.22122,     0.22222,     0.22322,     0.22422,     0.22523,     0.22623,     0.22723,     0.22823,     0.22923,     0.23023,     0.23123,     0.23223,     0.23323,     0.23423,     0.23524,     0.23624,     0.23724,     0.23824,     0.23924,\n",
      "           0.24024,     0.24124,     0.24224,     0.24324,     0.24424,     0.24525,     0.24625,     0.24725,     0.24825,     0.24925,     0.25025,     0.25125,     0.25225,     0.25325,     0.25425,     0.25526,     0.25626,     0.25726,     0.25826,     0.25926,     0.26026,     0.26126,     0.26226,     0.26326,\n",
      "           0.26426,     0.26527,     0.26627,     0.26727,     0.26827,     0.26927,     0.27027,     0.27127,     0.27227,     0.27327,     0.27427,     0.27528,     0.27628,     0.27728,     0.27828,     0.27928,     0.28028,     0.28128,     0.28228,     0.28328,     0.28428,     0.28529,     0.28629,     0.28729,\n",
      "           0.28829,     0.28929,     0.29029,     0.29129,     0.29229,     0.29329,     0.29429,      0.2953,      0.2963,      0.2973,      0.2983,      0.2993,      0.3003,      0.3013,      0.3023,      0.3033,      0.3043,     0.30531,     0.30631,     0.30731,     0.30831,     0.30931,     0.31031,     0.31131,\n",
      "           0.31231,     0.31331,     0.31431,     0.31532,     0.31632,     0.31732,     0.31832,     0.31932,     0.32032,     0.32132,     0.32232,     0.32332,     0.32432,     0.32533,     0.32633,     0.32733,     0.32833,     0.32933,     0.33033,     0.33133,     0.33233,     0.33333,     0.33433,     0.33534,\n",
      "           0.33634,     0.33734,     0.33834,     0.33934,     0.34034,     0.34134,     0.34234,     0.34334,     0.34434,     0.34535,     0.34635,     0.34735,     0.34835,     0.34935,     0.35035,     0.35135,     0.35235,     0.35335,     0.35435,     0.35536,     0.35636,     0.35736,     0.35836,     0.35936,\n",
      "           0.36036,     0.36136,     0.36236,     0.36336,     0.36436,     0.36537,     0.36637,     0.36737,     0.36837,     0.36937,     0.37037,     0.37137,     0.37237,     0.37337,     0.37437,     0.37538,     0.37638,     0.37738,     0.37838,     0.37938,     0.38038,     0.38138,     0.38238,     0.38338,\n",
      "           0.38438,     0.38539,     0.38639,     0.38739,     0.38839,     0.38939,     0.39039,     0.39139,     0.39239,     0.39339,     0.39439,      0.3954,      0.3964,      0.3974,      0.3984,      0.3994,      0.4004,      0.4014,      0.4024,      0.4034,      0.4044,     0.40541,     0.40641,     0.40741,\n",
      "           0.40841,     0.40941,     0.41041,     0.41141,     0.41241,     0.41341,     0.41441,     0.41542,     0.41642,     0.41742,     0.41842,     0.41942,     0.42042,     0.42142,     0.42242,     0.42342,     0.42442,     0.42543,     0.42643,     0.42743,     0.42843,     0.42943,     0.43043,     0.43143,\n",
      "           0.43243,     0.43343,     0.43443,     0.43544,     0.43644,     0.43744,     0.43844,     0.43944,     0.44044,     0.44144,     0.44244,     0.44344,     0.44444,     0.44545,     0.44645,     0.44745,     0.44845,     0.44945,     0.45045,     0.45145,     0.45245,     0.45345,     0.45445,     0.45546,\n",
      "           0.45646,     0.45746,     0.45846,     0.45946,     0.46046,     0.46146,     0.46246,     0.46346,     0.46446,     0.46547,     0.46647,     0.46747,     0.46847,     0.46947,     0.47047,     0.47147,     0.47247,     0.47347,     0.47447,     0.47548,     0.47648,     0.47748,     0.47848,     0.47948,\n",
      "           0.48048,     0.48148,     0.48248,     0.48348,     0.48448,     0.48549,     0.48649,     0.48749,     0.48849,     0.48949,     0.49049,     0.49149,     0.49249,     0.49349,     0.49449,      0.4955,      0.4965,      0.4975,      0.4985,      0.4995,      0.5005,      0.5015,      0.5025,      0.5035,\n",
      "            0.5045,     0.50551,     0.50651,     0.50751,     0.50851,     0.50951,     0.51051,     0.51151,     0.51251,     0.51351,     0.51451,     0.51552,     0.51652,     0.51752,     0.51852,     0.51952,     0.52052,     0.52152,     0.52252,     0.52352,     0.52452,     0.52553,     0.52653,     0.52753,\n",
      "           0.52853,     0.52953,     0.53053,     0.53153,     0.53253,     0.53353,     0.53453,     0.53554,     0.53654,     0.53754,     0.53854,     0.53954,     0.54054,     0.54154,     0.54254,     0.54354,     0.54454,     0.54555,     0.54655,     0.54755,     0.54855,     0.54955,     0.55055,     0.55155,\n",
      "           0.55255,     0.55355,     0.55455,     0.55556,     0.55656,     0.55756,     0.55856,     0.55956,     0.56056,     0.56156,     0.56256,     0.56356,     0.56456,     0.56557,     0.56657,     0.56757,     0.56857,     0.56957,     0.57057,     0.57157,     0.57257,     0.57357,     0.57457,     0.57558,\n",
      "           0.57658,     0.57758,     0.57858,     0.57958,     0.58058,     0.58158,     0.58258,     0.58358,     0.58458,     0.58559,     0.58659,     0.58759,     0.58859,     0.58959,     0.59059,     0.59159,     0.59259,     0.59359,     0.59459,      0.5956,      0.5966,      0.5976,      0.5986,      0.5996,\n",
      "            0.6006,      0.6016,      0.6026,      0.6036,      0.6046,     0.60561,     0.60661,     0.60761,     0.60861,     0.60961,     0.61061,     0.61161,     0.61261,     0.61361,     0.61461,     0.61562,     0.61662,     0.61762,     0.61862,     0.61962,     0.62062,     0.62162,     0.62262,     0.62362,\n",
      "           0.62462,     0.62563,     0.62663,     0.62763,     0.62863,     0.62963,     0.63063,     0.63163,     0.63263,     0.63363,     0.63463,     0.63564,     0.63664,     0.63764,     0.63864,     0.63964,     0.64064,     0.64164,     0.64264,     0.64364,     0.64464,     0.64565,     0.64665,     0.64765,\n",
      "           0.64865,     0.64965,     0.65065,     0.65165,     0.65265,     0.65365,     0.65465,     0.65566,     0.65666,     0.65766,     0.65866,     0.65966,     0.66066,     0.66166,     0.66266,     0.66366,     0.66466,     0.66567,     0.66667,     0.66767,     0.66867,     0.66967,     0.67067,     0.67167,\n",
      "           0.67267,     0.67367,     0.67467,     0.67568,     0.67668,     0.67768,     0.67868,     0.67968,     0.68068,     0.68168,     0.68268,     0.68368,     0.68468,     0.68569,     0.68669,     0.68769,     0.68869,     0.68969,     0.69069,     0.69169,     0.69269,     0.69369,     0.69469,      0.6957,\n",
      "            0.6967,      0.6977,      0.6987,      0.6997,      0.7007,      0.7017,      0.7027,      0.7037,      0.7047,     0.70571,     0.70671,     0.70771,     0.70871,     0.70971,     0.71071,     0.71171,     0.71271,     0.71371,     0.71471,     0.71572,     0.71672,     0.71772,     0.71872,     0.71972,\n",
      "           0.72072,     0.72172,     0.72272,     0.72372,     0.72472,     0.72573,     0.72673,     0.72773,     0.72873,     0.72973,     0.73073,     0.73173,     0.73273,     0.73373,     0.73473,     0.73574,     0.73674,     0.73774,     0.73874,     0.73974,     0.74074,     0.74174,     0.74274,     0.74374,\n",
      "           0.74474,     0.74575,     0.74675,     0.74775,     0.74875,     0.74975,     0.75075,     0.75175,     0.75275,     0.75375,     0.75475,     0.75576,     0.75676,     0.75776,     0.75876,     0.75976,     0.76076,     0.76176,     0.76276,     0.76376,     0.76476,     0.76577,     0.76677,     0.76777,\n",
      "           0.76877,     0.76977,     0.77077,     0.77177,     0.77277,     0.77377,     0.77477,     0.77578,     0.77678,     0.77778,     0.77878,     0.77978,     0.78078,     0.78178,     0.78278,     0.78378,     0.78478,     0.78579,     0.78679,     0.78779,     0.78879,     0.78979,     0.79079,     0.79179,\n",
      "           0.79279,     0.79379,     0.79479,      0.7958,      0.7968,      0.7978,      0.7988,      0.7998,      0.8008,      0.8018,      0.8028,      0.8038,      0.8048,     0.80581,     0.80681,     0.80781,     0.80881,     0.80981,     0.81081,     0.81181,     0.81281,     0.81381,     0.81481,     0.81582,\n",
      "           0.81682,     0.81782,     0.81882,     0.81982,     0.82082,     0.82182,     0.82282,     0.82382,     0.82482,     0.82583,     0.82683,     0.82783,     0.82883,     0.82983,     0.83083,     0.83183,     0.83283,     0.83383,     0.83483,     0.83584,     0.83684,     0.83784,     0.83884,     0.83984,\n",
      "           0.84084,     0.84184,     0.84284,     0.84384,     0.84484,     0.84585,     0.84685,     0.84785,     0.84885,     0.84985,     0.85085,     0.85185,     0.85285,     0.85385,     0.85485,     0.85586,     0.85686,     0.85786,     0.85886,     0.85986,     0.86086,     0.86186,     0.86286,     0.86386,\n",
      "           0.86486,     0.86587,     0.86687,     0.86787,     0.86887,     0.86987,     0.87087,     0.87187,     0.87287,     0.87387,     0.87487,     0.87588,     0.87688,     0.87788,     0.87888,     0.87988,     0.88088,     0.88188,     0.88288,     0.88388,     0.88488,     0.88589,     0.88689,     0.88789,\n",
      "           0.88889,     0.88989,     0.89089,     0.89189,     0.89289,     0.89389,     0.89489,      0.8959,      0.8969,      0.8979,      0.8989,      0.8999,      0.9009,      0.9019,      0.9029,      0.9039,      0.9049,     0.90591,     0.90691,     0.90791,     0.90891,     0.90991,     0.91091,     0.91191,\n",
      "           0.91291,     0.91391,     0.91491,     0.91592,     0.91692,     0.91792,     0.91892,     0.91992,     0.92092,     0.92192,     0.92292,     0.92392,     0.92492,     0.92593,     0.92693,     0.92793,     0.92893,     0.92993,     0.93093,     0.93193,     0.93293,     0.93393,     0.93493,     0.93594,\n",
      "           0.93694,     0.93794,     0.93894,     0.93994,     0.94094,     0.94194,     0.94294,     0.94394,     0.94494,     0.94595,     0.94695,     0.94795,     0.94895,     0.94995,     0.95095,     0.95195,     0.95295,     0.95395,     0.95495,     0.95596,     0.95696,     0.95796,     0.95896,     0.95996,\n",
      "           0.96096,     0.96196,     0.96296,     0.96396,     0.96496,     0.96597,     0.96697,     0.96797,     0.96897,     0.96997,     0.97097,     0.97197,     0.97297,     0.97397,     0.97497,     0.97598,     0.97698,     0.97798,     0.97898,     0.97998,     0.98098,     0.98198,     0.98298,     0.98398,\n",
      "           0.98498,     0.98599,     0.98699,     0.98799,     0.98899,     0.98999,     0.99099,     0.99199,     0.99299,     0.99399,     0.99499,       0.996,       0.997,       0.998,       0.999,           1]), array([[    0.27521,     0.27528,      0.3516,     0.39945,      0.4278,     0.45278,     0.46935,     0.48643,     0.50029,     0.50202,      0.5095,     0.52107,     0.53047,     0.54202,     0.55045,        0.56,     0.56991,     0.57648,     0.57835,     0.58523,     0.58859,     0.58994,     0.59709,\n",
      "            0.60617,     0.61742,     0.61963,     0.62396,       0.631,     0.63463,     0.63644,     0.63729,     0.64028,     0.64691,     0.65087,     0.65082,     0.65317,     0.65313,     0.65934,      0.6615,     0.66831,     0.66734,     0.66638,     0.66542,     0.66605,     0.66987,     0.67246,\n",
      "            0.67542,     0.67577,     0.67612,     0.67648,     0.67683,     0.67896,     0.68086,     0.68175,     0.68267,     0.68388,     0.68593,     0.68854,     0.68971,     0.69213,      0.6931,     0.69323,     0.69147,     0.69379,     0.69457,     0.69515,     0.69574,     0.69741,     0.69936,\n",
      "            0.70064,     0.70171,     0.70227,     0.70284,      0.7034,     0.70532,     0.70642,     0.70736,      0.7085,     0.70974,     0.71129,     0.71324,     0.71571,     0.71614,     0.71657,       0.717,     0.71742,     0.72105,     0.72257,     0.72529,     0.72216,      0.7235,     0.72281,\n",
      "            0.72228,      0.7237,      0.7249,     0.72595,     0.72399,     0.72671,     0.72745,     0.72579,     0.72412,     0.72484,     0.72568,     0.72641,     0.72697,     0.72753,     0.72809,     0.72894,     0.73004,     0.73109,     0.73209,     0.73306,     0.73396,     0.73486,     0.73865,\n",
      "            0.73972,     0.74016,      0.7406,     0.74104,     0.74149,     0.74192,     0.74235,     0.74278,     0.74321,     0.74364,     0.74511,     0.74217,     0.74092,     0.73967,     0.73848,     0.73915,     0.73982,     0.74049,      0.7411,     0.74167,     0.74224,     0.74281,     0.73928,\n",
      "            0.74022,     0.74116,     0.74192,      0.7426,     0.74329,      0.7443,     0.74598,     0.74494,     0.74371,     0.74249,     0.74272,     0.74352,     0.74433,     0.74585,     0.74752,     0.74918,     0.74867,     0.75074,     0.75084,     0.74877,     0.74865,     0.74898,     0.74931,\n",
      "            0.74964,     0.74996,     0.75029,     0.75061,     0.75179,      0.7543,     0.75598,     0.75662,     0.75725,     0.75788,     0.75796,     0.75756,     0.75716,     0.75677,     0.75637,     0.75597,     0.75557,     0.75517,     0.75478,     0.75438,     0.75397,     0.75356,     0.75314,\n",
      "            0.75272,      0.7523,     0.75188,     0.75146,     0.75104,     0.75063,     0.75021,     0.75013,      0.7504,     0.75066,     0.75093,     0.75119,     0.75145,     0.75172,     0.75198,     0.75224,     0.75251,     0.75282,     0.75313,     0.75343,     0.75374,     0.75405,     0.75436,\n",
      "            0.75466,     0.75497,     0.75456,     0.75415,     0.75374,     0.75333,     0.75292,     0.75251,      0.7521,     0.75169,     0.75128,     0.75087,     0.75065,     0.75046,     0.75026,     0.75006,     0.74986,     0.74966,     0.74946,     0.74926,     0.74906,     0.74887,     0.74867,\n",
      "            0.74847,     0.74827,     0.74807,     0.74787,     0.74767,     0.74747,     0.74727,     0.74707,     0.74687,     0.74668,     0.74588,     0.74506,     0.74423,      0.7434,     0.74258,     0.73825,     0.73328,     0.73198,     0.73068,     0.72954,     0.72883,     0.72811,      0.7274,\n",
      "            0.72669,     0.72598,     0.72534,     0.72497,      0.7246,     0.72423,     0.72386,     0.72349,     0.72312,     0.72275,     0.72238,     0.72201,     0.72164,     0.72127,     0.72039,     0.71902,     0.71764,     0.71653,     0.71597,      0.7154,     0.71484,     0.71427,      0.7137,\n",
      "            0.71314,     0.71257,     0.71107,     0.70886,     0.70752,     0.70684,     0.70616,     0.70548,      0.7048,     0.70412,     0.70344,      0.7025,     0.70155,     0.70061,     0.69966,     0.69899,     0.69908,     0.69918,     0.69927,     0.69936,     0.69946,     0.69955,     0.69965,\n",
      "            0.69974,     0.69984,     0.69993,     0.70002,     0.70012,     0.70021,     0.70031,      0.7004,     0.70049,     0.70059,     0.70068,     0.70078,     0.70087,     0.70096,     0.70106,     0.70115,     0.70124,     0.70134,     0.70352,     0.70304,     0.70218,     0.70132,     0.70046,\n",
      "            0.69961,     0.69476,     0.69488,       0.695,     0.69512,     0.69524,     0.69536,     0.69548,      0.6956,     0.69572,     0.69584,     0.69595,     0.69607,     0.69619,     0.69631,     0.69643,     0.69655,     0.69667,     0.69679,      0.6969,     0.69702,     0.69714,     0.69758,\n",
      "            0.69819,      0.6988,     0.69941,     0.69987,     0.70023,     0.70058,     0.70094,      0.7013,     0.70166,     0.70201,     0.70181,     0.70134,     0.70087,      0.7004,     0.69992,     0.69945,     0.69898,     0.69851,     0.69803,     0.69756,     0.69446,     0.69275,     0.69256,\n",
      "            0.69237,     0.69217,     0.69198,     0.69178,     0.69159,     0.69139,      0.6912,       0.691,     0.69081,     0.69062,     0.69042,     0.69023,     0.69003,     0.68984,     0.68964,     0.68945,     0.68925,     0.68906,     0.68886,     0.68867,     0.68847,     0.68828,     0.68741,\n",
      "            0.68578,     0.68415,     0.68329,     0.68301,     0.68274,     0.68246,     0.68218,      0.6819,     0.68162,     0.68134,     0.68106,     0.68078,      0.6805,     0.68022,     0.67993,     0.67965,     0.67937,     0.67909,     0.67881,     0.67374,     0.67226,     0.67079,     0.66931,\n",
      "            0.66785,     0.66639,     0.66492,     0.66384,     0.66309,     0.66234,     0.66158,     0.66083,     0.66008,     0.65932,     0.65824,     0.65716,     0.65608,       0.655,     0.65325,     0.65067,     0.64914,     0.64856,     0.64799,     0.64741,     0.64683,     0.64625,     0.64567,\n",
      "            0.64509,     0.64451,     0.64316,     0.64171,     0.64026,     0.63586,     0.63395,     0.63349,     0.63302,     0.63256,      0.6321,     0.63164,     0.63117,     0.63071,     0.63024,     0.62978,     0.62932,     0.62085,     0.61868,     0.61833,     0.61799,     0.61764,     0.61729,\n",
      "            0.61695,      0.6166,     0.61625,      0.6159,     0.61556,     0.61521,     0.61486,     0.61451,     0.61416,     0.61382,     0.61368,     0.61376,     0.61385,     0.61393,     0.61402,      0.6141,     0.61419,     0.61428,     0.61436,     0.61445,     0.61453,     0.61462,      0.6147,\n",
      "            0.61479,     0.61487,     0.61496,     0.61504,     0.61512,     0.61521,     0.61529,     0.61538,     0.61546,     0.61555,     0.61563,     0.61572,      0.6158,     0.61589,     0.61594,     0.60942,     0.60591,     0.60544,     0.60554,     0.60563,     0.60572,     0.60582,     0.60591,\n",
      "              0.606,      0.6061,     0.60619,     0.60628,     0.60638,     0.60647,     0.60656,     0.60665,     0.60675,     0.60684,     0.60693,     0.60703,     0.60712,     0.60721,      0.6073,      0.6074,     0.60749,     0.60758,     0.60767,     0.60705,     0.60623,     0.60541,     0.60459,\n",
      "            0.60377,     0.60295,     0.60218,     0.60157,     0.60097,     0.60037,     0.59976,     0.59916,     0.59855,     0.59795,     0.59734,     0.59656,      0.5953,     0.59405,     0.59279,     0.59153,     0.59082,     0.59014,     0.58947,     0.58879,     0.58811,     0.58744,     0.58676,\n",
      "            0.58608,     0.58428,     0.58216,      0.5803,     0.57974,     0.57918,     0.57862,     0.57807,     0.57751,     0.57695,     0.57639,     0.57583,     0.57527,     0.57512,      0.5769,     0.57124,     0.56931,     0.56738,     0.56465,     0.56047,     0.56175,     0.56243,     0.56273,\n",
      "            0.56303,     0.56333,     0.56363,     0.56392,     0.56422,     0.56452,     0.55673,     0.55466,     0.55186,     0.54913,     0.53783,     0.53576,     0.53417,     0.53258,     0.53076,     0.52659,     0.52318,     0.52024,     0.51819,     0.51696,     0.51573,     0.51449,     0.51326,\n",
      "            0.51241,     0.51199,     0.51157,     0.51115,     0.51074,     0.51032,      0.5099,     0.50948,     0.50906,     0.50864,     0.50822,      0.5078,     0.50738,     0.50696,     0.50654,     0.50533,     0.50331,     0.50128,     0.50054,       0.502,     0.49814,     0.48683,     0.48241,\n",
      "            0.48146,     0.48052,     0.47957,     0.47863,     0.47768,     0.47673,     0.47418,     0.46954,     0.46674,     0.46392,     0.46122,      0.4586,     0.45609,      0.4554,     0.45471,     0.45401,     0.45332,     0.45262,     0.45192,     0.45123,     0.45053,     0.44983,     0.44905,\n",
      "            0.44809,     0.44712,     0.44615,     0.44518,     0.44421,     0.44323,     0.44019,     0.43237,     0.42874,     0.42922,     0.42969,     0.43016,     0.42952,     0.42607,     0.42347,     0.42364,     0.42382,       0.424,     0.42417,     0.42435,     0.42452,      0.4247,     0.42487,\n",
      "            0.42505,     0.42522,     0.42432,     0.42092,     0.41749,     0.41401,     0.41075,     0.40917,     0.40759,     0.40601,     0.40442,     0.40286,     0.40132,     0.39978,     0.39824,     0.39669,     0.39265,     0.38747,     0.38124,     0.37549,     0.37069,     0.36625,     0.36046,\n",
      "            0.35323,     0.34351,     0.32855,     0.32497,     0.32256,     0.32015,     0.30984,     0.30767,      0.3055,     0.30332,     0.30023,     0.29651,     0.29363,     0.29227,      0.2909,     0.28953,     0.28816,     0.28679,     0.28544,     0.28419,     0.28294,     0.28169,     0.28043,\n",
      "            0.27918,     0.27792,     0.27394,     0.26674,     0.25991,     0.25605,     0.25217,     0.24618,     0.24003,     0.23452,      0.2315,     0.22903,     0.22656,     0.22423,     0.22266,     0.22109,     0.21951,     0.21793,     0.21635,     0.21439,     0.21183,     0.20927,      0.2067,\n",
      "            0.20502,     0.20356,     0.20209,     0.20063,     0.19916,     0.19769,     0.19605,     0.19423,      0.1924,     0.19057,     0.18874,     0.18596,     0.18122,     0.17715,     0.17448,     0.17181,     0.16913,     0.15596,     0.14837,     0.12745,      0.1209,     0.11179,     0.10635,\n",
      "            0.10299,    0.099618,    0.097312,    0.095641,    0.093966,    0.092289,    0.090609,    0.088926,    0.085688,    0.080089,    0.074782,    0.069756,    0.055194,    0.044714,    0.044362,     0.04401,    0.043657,    0.043304,    0.042952,    0.042599,    0.042246,    0.041893,    0.041539,\n",
      "           0.041186,    0.040832,    0.040479,    0.040125,    0.039771,    0.039417,    0.039063,    0.038708,    0.038354,    0.037999,    0.037645,     0.03729,    0.036935,     0.03658,    0.036225,    0.035869,    0.035514,    0.035158,    0.034803,    0.034447,    0.034091,     0.03182,    0.027282,\n",
      "           0.022727,    0.022228,    0.021728,    0.021229,    0.020729,    0.020229,    0.019728,    0.019228,    0.018727,    0.018226,    0.017724,    0.017223,    0.016721,    0.016219,    0.015716,    0.015213,    0.014711,    0.014207,    0.013704,      0.0132,    0.012696,    0.012192,    0.011688,\n",
      "                  0,           0,           0,           0,           0,           0,           0,           0,           0,           0,           0,           0,           0,           0,           0,           0,           0,           0,           0,           0,           0,           0,           0,\n",
      "                  0,           0,           0,           0,           0,           0,           0,           0,           0,           0,           0,           0,           0,           0,           0,           0,           0,           0,           0,           0,           0,           0,           0,\n",
      "                  0,           0,           0,           0,           0,           0,           0,           0,           0,           0,           0,           0,           0,           0,           0,           0,           0,           0,           0,           0,           0,           0,           0,\n",
      "                  0,           0,           0,           0,           0,           0,           0,           0,           0,           0,           0,           0,           0,           0,           0,           0,           0,           0,           0,           0,           0,           0,           0,\n",
      "                  0,           0,           0,           0,           0,           0,           0,           0,           0,           0,           0,           0,           0,           0,           0,           0,           0,           0,           0,           0,           0,           0,           0,\n",
      "                  0,           0,           0,           0,           0,           0,           0,           0,           0,           0,           0,           0,           0,           0,           0,           0,           0,           0,           0,           0,           0,           0,           0,\n",
      "                  0,           0,           0,           0,           0,           0,           0,           0,           0,           0,           0,           0,           0,           0,           0,           0,           0,           0,           0,           0,           0,           0,           0,\n",
      "                  0,           0,           0,           0,           0,           0,           0,           0,           0,           0,           0]]), 'Confidence', 'F1'], [array([          0,    0.001001,    0.002002,    0.003003,    0.004004,    0.005005,    0.006006,    0.007007,    0.008008,    0.009009,     0.01001,    0.011011,    0.012012,    0.013013,    0.014014,    0.015015,    0.016016,    0.017017,    0.018018,    0.019019,     0.02002,    0.021021,    0.022022,    0.023023,\n",
      "          0.024024,    0.025025,    0.026026,    0.027027,    0.028028,    0.029029,     0.03003,    0.031031,    0.032032,    0.033033,    0.034034,    0.035035,    0.036036,    0.037037,    0.038038,    0.039039,     0.04004,    0.041041,    0.042042,    0.043043,    0.044044,    0.045045,    0.046046,    0.047047,\n",
      "          0.048048,    0.049049,     0.05005,    0.051051,    0.052052,    0.053053,    0.054054,    0.055055,    0.056056,    0.057057,    0.058058,    0.059059,     0.06006,    0.061061,    0.062062,    0.063063,    0.064064,    0.065065,    0.066066,    0.067067,    0.068068,    0.069069,     0.07007,    0.071071,\n",
      "          0.072072,    0.073073,    0.074074,    0.075075,    0.076076,    0.077077,    0.078078,    0.079079,     0.08008,    0.081081,    0.082082,    0.083083,    0.084084,    0.085085,    0.086086,    0.087087,    0.088088,    0.089089,     0.09009,    0.091091,    0.092092,    0.093093,    0.094094,    0.095095,\n",
      "          0.096096,    0.097097,    0.098098,    0.099099,      0.1001,      0.1011,      0.1021,      0.1031,      0.1041,     0.10511,     0.10611,     0.10711,     0.10811,     0.10911,     0.11011,     0.11111,     0.11211,     0.11311,     0.11411,     0.11512,     0.11612,     0.11712,     0.11812,     0.11912,\n",
      "           0.12012,     0.12112,     0.12212,     0.12312,     0.12412,     0.12513,     0.12613,     0.12713,     0.12813,     0.12913,     0.13013,     0.13113,     0.13213,     0.13313,     0.13413,     0.13514,     0.13614,     0.13714,     0.13814,     0.13914,     0.14014,     0.14114,     0.14214,     0.14314,\n",
      "           0.14414,     0.14515,     0.14615,     0.14715,     0.14815,     0.14915,     0.15015,     0.15115,     0.15215,     0.15315,     0.15415,     0.15516,     0.15616,     0.15716,     0.15816,     0.15916,     0.16016,     0.16116,     0.16216,     0.16316,     0.16416,     0.16517,     0.16617,     0.16717,\n",
      "           0.16817,     0.16917,     0.17017,     0.17117,     0.17217,     0.17317,     0.17417,     0.17518,     0.17618,     0.17718,     0.17818,     0.17918,     0.18018,     0.18118,     0.18218,     0.18318,     0.18418,     0.18519,     0.18619,     0.18719,     0.18819,     0.18919,     0.19019,     0.19119,\n",
      "           0.19219,     0.19319,     0.19419,      0.1952,      0.1962,      0.1972,      0.1982,      0.1992,      0.2002,      0.2012,      0.2022,      0.2032,      0.2042,     0.20521,     0.20621,     0.20721,     0.20821,     0.20921,     0.21021,     0.21121,     0.21221,     0.21321,     0.21421,     0.21522,\n",
      "           0.21622,     0.21722,     0.21822,     0.21922,     0.22022,     0.22122,     0.22222,     0.22322,     0.22422,     0.22523,     0.22623,     0.22723,     0.22823,     0.22923,     0.23023,     0.23123,     0.23223,     0.23323,     0.23423,     0.23524,     0.23624,     0.23724,     0.23824,     0.23924,\n",
      "           0.24024,     0.24124,     0.24224,     0.24324,     0.24424,     0.24525,     0.24625,     0.24725,     0.24825,     0.24925,     0.25025,     0.25125,     0.25225,     0.25325,     0.25425,     0.25526,     0.25626,     0.25726,     0.25826,     0.25926,     0.26026,     0.26126,     0.26226,     0.26326,\n",
      "           0.26426,     0.26527,     0.26627,     0.26727,     0.26827,     0.26927,     0.27027,     0.27127,     0.27227,     0.27327,     0.27427,     0.27528,     0.27628,     0.27728,     0.27828,     0.27928,     0.28028,     0.28128,     0.28228,     0.28328,     0.28428,     0.28529,     0.28629,     0.28729,\n",
      "           0.28829,     0.28929,     0.29029,     0.29129,     0.29229,     0.29329,     0.29429,      0.2953,      0.2963,      0.2973,      0.2983,      0.2993,      0.3003,      0.3013,      0.3023,      0.3033,      0.3043,     0.30531,     0.30631,     0.30731,     0.30831,     0.30931,     0.31031,     0.31131,\n",
      "           0.31231,     0.31331,     0.31431,     0.31532,     0.31632,     0.31732,     0.31832,     0.31932,     0.32032,     0.32132,     0.32232,     0.32332,     0.32432,     0.32533,     0.32633,     0.32733,     0.32833,     0.32933,     0.33033,     0.33133,     0.33233,     0.33333,     0.33433,     0.33534,\n",
      "           0.33634,     0.33734,     0.33834,     0.33934,     0.34034,     0.34134,     0.34234,     0.34334,     0.34434,     0.34535,     0.34635,     0.34735,     0.34835,     0.34935,     0.35035,     0.35135,     0.35235,     0.35335,     0.35435,     0.35536,     0.35636,     0.35736,     0.35836,     0.35936,\n",
      "           0.36036,     0.36136,     0.36236,     0.36336,     0.36436,     0.36537,     0.36637,     0.36737,     0.36837,     0.36937,     0.37037,     0.37137,     0.37237,     0.37337,     0.37437,     0.37538,     0.37638,     0.37738,     0.37838,     0.37938,     0.38038,     0.38138,     0.38238,     0.38338,\n",
      "           0.38438,     0.38539,     0.38639,     0.38739,     0.38839,     0.38939,     0.39039,     0.39139,     0.39239,     0.39339,     0.39439,      0.3954,      0.3964,      0.3974,      0.3984,      0.3994,      0.4004,      0.4014,      0.4024,      0.4034,      0.4044,     0.40541,     0.40641,     0.40741,\n",
      "           0.40841,     0.40941,     0.41041,     0.41141,     0.41241,     0.41341,     0.41441,     0.41542,     0.41642,     0.41742,     0.41842,     0.41942,     0.42042,     0.42142,     0.42242,     0.42342,     0.42442,     0.42543,     0.42643,     0.42743,     0.42843,     0.42943,     0.43043,     0.43143,\n",
      "           0.43243,     0.43343,     0.43443,     0.43544,     0.43644,     0.43744,     0.43844,     0.43944,     0.44044,     0.44144,     0.44244,     0.44344,     0.44444,     0.44545,     0.44645,     0.44745,     0.44845,     0.44945,     0.45045,     0.45145,     0.45245,     0.45345,     0.45445,     0.45546,\n",
      "           0.45646,     0.45746,     0.45846,     0.45946,     0.46046,     0.46146,     0.46246,     0.46346,     0.46446,     0.46547,     0.46647,     0.46747,     0.46847,     0.46947,     0.47047,     0.47147,     0.47247,     0.47347,     0.47447,     0.47548,     0.47648,     0.47748,     0.47848,     0.47948,\n",
      "           0.48048,     0.48148,     0.48248,     0.48348,     0.48448,     0.48549,     0.48649,     0.48749,     0.48849,     0.48949,     0.49049,     0.49149,     0.49249,     0.49349,     0.49449,      0.4955,      0.4965,      0.4975,      0.4985,      0.4995,      0.5005,      0.5015,      0.5025,      0.5035,\n",
      "            0.5045,     0.50551,     0.50651,     0.50751,     0.50851,     0.50951,     0.51051,     0.51151,     0.51251,     0.51351,     0.51451,     0.51552,     0.51652,     0.51752,     0.51852,     0.51952,     0.52052,     0.52152,     0.52252,     0.52352,     0.52452,     0.52553,     0.52653,     0.52753,\n",
      "           0.52853,     0.52953,     0.53053,     0.53153,     0.53253,     0.53353,     0.53453,     0.53554,     0.53654,     0.53754,     0.53854,     0.53954,     0.54054,     0.54154,     0.54254,     0.54354,     0.54454,     0.54555,     0.54655,     0.54755,     0.54855,     0.54955,     0.55055,     0.55155,\n",
      "           0.55255,     0.55355,     0.55455,     0.55556,     0.55656,     0.55756,     0.55856,     0.55956,     0.56056,     0.56156,     0.56256,     0.56356,     0.56456,     0.56557,     0.56657,     0.56757,     0.56857,     0.56957,     0.57057,     0.57157,     0.57257,     0.57357,     0.57457,     0.57558,\n",
      "           0.57658,     0.57758,     0.57858,     0.57958,     0.58058,     0.58158,     0.58258,     0.58358,     0.58458,     0.58559,     0.58659,     0.58759,     0.58859,     0.58959,     0.59059,     0.59159,     0.59259,     0.59359,     0.59459,      0.5956,      0.5966,      0.5976,      0.5986,      0.5996,\n",
      "            0.6006,      0.6016,      0.6026,      0.6036,      0.6046,     0.60561,     0.60661,     0.60761,     0.60861,     0.60961,     0.61061,     0.61161,     0.61261,     0.61361,     0.61461,     0.61562,     0.61662,     0.61762,     0.61862,     0.61962,     0.62062,     0.62162,     0.62262,     0.62362,\n",
      "           0.62462,     0.62563,     0.62663,     0.62763,     0.62863,     0.62963,     0.63063,     0.63163,     0.63263,     0.63363,     0.63463,     0.63564,     0.63664,     0.63764,     0.63864,     0.63964,     0.64064,     0.64164,     0.64264,     0.64364,     0.64464,     0.64565,     0.64665,     0.64765,\n",
      "           0.64865,     0.64965,     0.65065,     0.65165,     0.65265,     0.65365,     0.65465,     0.65566,     0.65666,     0.65766,     0.65866,     0.65966,     0.66066,     0.66166,     0.66266,     0.66366,     0.66466,     0.66567,     0.66667,     0.66767,     0.66867,     0.66967,     0.67067,     0.67167,\n",
      "           0.67267,     0.67367,     0.67467,     0.67568,     0.67668,     0.67768,     0.67868,     0.67968,     0.68068,     0.68168,     0.68268,     0.68368,     0.68468,     0.68569,     0.68669,     0.68769,     0.68869,     0.68969,     0.69069,     0.69169,     0.69269,     0.69369,     0.69469,      0.6957,\n",
      "            0.6967,      0.6977,      0.6987,      0.6997,      0.7007,      0.7017,      0.7027,      0.7037,      0.7047,     0.70571,     0.70671,     0.70771,     0.70871,     0.70971,     0.71071,     0.71171,     0.71271,     0.71371,     0.71471,     0.71572,     0.71672,     0.71772,     0.71872,     0.71972,\n",
      "           0.72072,     0.72172,     0.72272,     0.72372,     0.72472,     0.72573,     0.72673,     0.72773,     0.72873,     0.72973,     0.73073,     0.73173,     0.73273,     0.73373,     0.73473,     0.73574,     0.73674,     0.73774,     0.73874,     0.73974,     0.74074,     0.74174,     0.74274,     0.74374,\n",
      "           0.74474,     0.74575,     0.74675,     0.74775,     0.74875,     0.74975,     0.75075,     0.75175,     0.75275,     0.75375,     0.75475,     0.75576,     0.75676,     0.75776,     0.75876,     0.75976,     0.76076,     0.76176,     0.76276,     0.76376,     0.76476,     0.76577,     0.76677,     0.76777,\n",
      "           0.76877,     0.76977,     0.77077,     0.77177,     0.77277,     0.77377,     0.77477,     0.77578,     0.77678,     0.77778,     0.77878,     0.77978,     0.78078,     0.78178,     0.78278,     0.78378,     0.78478,     0.78579,     0.78679,     0.78779,     0.78879,     0.78979,     0.79079,     0.79179,\n",
      "           0.79279,     0.79379,     0.79479,      0.7958,      0.7968,      0.7978,      0.7988,      0.7998,      0.8008,      0.8018,      0.8028,      0.8038,      0.8048,     0.80581,     0.80681,     0.80781,     0.80881,     0.80981,     0.81081,     0.81181,     0.81281,     0.81381,     0.81481,     0.81582,\n",
      "           0.81682,     0.81782,     0.81882,     0.81982,     0.82082,     0.82182,     0.82282,     0.82382,     0.82482,     0.82583,     0.82683,     0.82783,     0.82883,     0.82983,     0.83083,     0.83183,     0.83283,     0.83383,     0.83483,     0.83584,     0.83684,     0.83784,     0.83884,     0.83984,\n",
      "           0.84084,     0.84184,     0.84284,     0.84384,     0.84484,     0.84585,     0.84685,     0.84785,     0.84885,     0.84985,     0.85085,     0.85185,     0.85285,     0.85385,     0.85485,     0.85586,     0.85686,     0.85786,     0.85886,     0.85986,     0.86086,     0.86186,     0.86286,     0.86386,\n",
      "           0.86486,     0.86587,     0.86687,     0.86787,     0.86887,     0.86987,     0.87087,     0.87187,     0.87287,     0.87387,     0.87487,     0.87588,     0.87688,     0.87788,     0.87888,     0.87988,     0.88088,     0.88188,     0.88288,     0.88388,     0.88488,     0.88589,     0.88689,     0.88789,\n",
      "           0.88889,     0.88989,     0.89089,     0.89189,     0.89289,     0.89389,     0.89489,      0.8959,      0.8969,      0.8979,      0.8989,      0.8999,      0.9009,      0.9019,      0.9029,      0.9039,      0.9049,     0.90591,     0.90691,     0.90791,     0.90891,     0.90991,     0.91091,     0.91191,\n",
      "           0.91291,     0.91391,     0.91491,     0.91592,     0.91692,     0.91792,     0.91892,     0.91992,     0.92092,     0.92192,     0.92292,     0.92392,     0.92492,     0.92593,     0.92693,     0.92793,     0.92893,     0.92993,     0.93093,     0.93193,     0.93293,     0.93393,     0.93493,     0.93594,\n",
      "           0.93694,     0.93794,     0.93894,     0.93994,     0.94094,     0.94194,     0.94294,     0.94394,     0.94494,     0.94595,     0.94695,     0.94795,     0.94895,     0.94995,     0.95095,     0.95195,     0.95295,     0.95395,     0.95495,     0.95596,     0.95696,     0.95796,     0.95896,     0.95996,\n",
      "           0.96096,     0.96196,     0.96296,     0.96396,     0.96496,     0.96597,     0.96697,     0.96797,     0.96897,     0.96997,     0.97097,     0.97197,     0.97297,     0.97397,     0.97497,     0.97598,     0.97698,     0.97798,     0.97898,     0.97998,     0.98098,     0.98198,     0.98298,     0.98398,\n",
      "           0.98498,     0.98599,     0.98699,     0.98799,     0.98899,     0.98999,     0.99099,     0.99199,     0.99299,     0.99399,     0.99499,       0.996,       0.997,       0.998,       0.999,           1]), array([[     0.1646,     0.16465,     0.22407,     0.26444,     0.29135,     0.31592,     0.33229,     0.34986,     0.36539,     0.36967,     0.37793,      0.3908,       0.403,     0.41649,     0.42653,      0.4381,     0.45036,     0.46066,     0.46305,     0.47194,     0.47632,     0.48023,     0.48988,\n",
      "            0.50223,     0.51786,     0.52098,     0.52713,     0.53727,     0.54254,     0.54649,     0.54942,     0.55387,     0.56388,     0.56992,     0.57244,     0.57679,     0.58015,     0.59001,     0.59348,     0.60461,     0.60409,     0.60358,     0.60306,     0.60462,     0.61094,     0.61526,\n",
      "            0.62023,     0.62083,     0.62143,     0.62202,     0.62262,     0.62624,     0.62948,       0.631,     0.63258,     0.63467,      0.6382,     0.64273,     0.64478,     0.65349,     0.65522,     0.65614,     0.65526,     0.66109,     0.66251,     0.66358,     0.66464,     0.66771,     0.67129,\n",
      "            0.67364,     0.67563,     0.67668,     0.67772,     0.67877,     0.68236,     0.68441,     0.68619,     0.68834,     0.69068,     0.69361,     0.69734,     0.70207,      0.7029,     0.70372,     0.70455,     0.70538,     0.71243,      0.7154,     0.72075,     0.72019,     0.72286,     0.72686,\n",
      "            0.73217,     0.73511,     0.73758,     0.74196,     0.74115,     0.74767,     0.74985,     0.74918,      0.7485,     0.75018,     0.75199,     0.75356,     0.75477,     0.75598,     0.75719,     0.75902,     0.76141,      0.7637,     0.76589,     0.76801,     0.76999,     0.77198,     0.78039,\n",
      "            0.78277,     0.78377,     0.78476,     0.78575,     0.78675,     0.78773,      0.7887,     0.78967,     0.79065,     0.79162,     0.79496,       0.796,     0.79556,     0.79512,     0.79475,     0.79631,     0.79786,     0.79941,     0.80083,     0.80217,     0.80351,     0.80485,     0.80441,\n",
      "            0.80664,     0.80887,     0.81068,     0.81232,     0.81396,     0.81638,     0.82043,     0.82033,     0.81994,     0.81955,     0.82086,     0.82283,      0.8248,     0.82855,     0.83269,     0.83681,     0.84443,     0.84971,      0.8536,     0.85304,     0.85364,     0.85449,     0.85534,\n",
      "            0.85619,     0.85704,     0.85789,     0.85875,     0.86184,     0.86845,     0.87294,     0.87463,     0.87632,     0.87801,     0.87874,     0.87865,     0.87856,     0.87847,     0.87838,     0.87829,      0.8782,     0.87811,     0.87802,     0.87793,     0.87783,     0.87774,     0.87764,\n",
      "            0.87755,     0.87745,     0.87735,     0.87726,     0.87716,     0.87707,     0.87697,     0.87729,     0.87802,     0.87874,     0.87946,     0.88019,     0.88091,     0.88163,     0.88236,     0.88308,     0.88382,     0.88467,     0.88552,     0.88637,     0.88722,     0.88808,     0.88893,\n",
      "            0.88978,     0.89062,     0.89054,     0.89045,     0.89037,     0.89028,      0.8902,     0.89011,     0.89003,     0.88994,     0.88986,     0.88977,     0.88973,     0.88968,     0.88964,      0.8896,     0.88956,     0.88952,     0.88948,     0.88943,     0.88939,     0.88935,     0.88931,\n",
      "            0.88927,     0.88923,     0.88918,     0.88914,      0.8891,     0.88906,     0.88902,     0.88897,     0.88893,     0.88889,     0.88872,     0.88855,     0.88837,      0.8882,     0.88802,      0.8871,     0.88602,     0.88574,     0.88545,      0.8852,     0.88505,     0.88489,     0.88473,\n",
      "            0.88458,     0.88442,     0.88428,      0.8842,     0.88411,     0.88403,     0.88395,     0.88387,     0.88379,      0.8837,     0.88362,     0.88354,     0.88346,     0.88337,     0.88318,     0.88287,     0.88256,     0.88231,     0.88218,     0.88205,     0.88192,      0.8818,     0.88167,\n",
      "            0.88154,     0.88141,     0.88107,     0.88056,     0.88025,      0.8801,     0.87994,     0.87978,     0.87962,     0.87947,     0.87931,     0.87909,     0.87887,     0.87865,     0.87842,     0.87834,     0.87864,     0.87893,     0.87923,     0.87953,     0.87983,     0.88013,     0.88043,\n",
      "            0.88073,     0.88103,     0.88132,     0.88162,     0.88192,     0.88222,     0.88252,     0.88282,     0.88312,     0.88341,     0.88371,     0.88401,     0.88431,     0.88461,     0.88491,     0.88521,      0.8855,      0.8858,     0.89279,     0.89364,     0.89346,     0.89328,      0.8931,\n",
      "            0.89292,     0.89197,     0.89237,     0.89276,     0.89315,     0.89355,     0.89394,     0.89434,     0.89473,     0.89513,     0.89552,     0.89592,     0.89631,     0.89671,      0.8971,     0.89749,     0.89789,     0.89828,     0.89868,     0.89907,     0.89947,     0.89986,     0.90133,\n",
      "            0.90338,     0.90542,     0.90747,       0.909,     0.91021,     0.91142,     0.91264,     0.91385,     0.91506,     0.91627,     0.91661,     0.91653,     0.91645,     0.91637,     0.91629,     0.91621,     0.91614,     0.91606,     0.91598,      0.9159,     0.91537,     0.91508,     0.91504,\n",
      "            0.91501,     0.91498,     0.91494,     0.91491,     0.91487,     0.91484,     0.91481,     0.91477,     0.91474,     0.91471,     0.91467,     0.91464,     0.91461,     0.91457,     0.91454,     0.91451,     0.91447,     0.91444,      0.9144,     0.91437,     0.91434,      0.9143,     0.91415,\n",
      "            0.91387,     0.91358,     0.91343,     0.91338,     0.91333,     0.91328,     0.91324,     0.91319,     0.91314,     0.91309,     0.91304,     0.91299,     0.91294,     0.91289,     0.91284,     0.91279,     0.91274,     0.91269,     0.91264,     0.91173,     0.91146,      0.9112,     0.91093,\n",
      "            0.91066,     0.91039,     0.91013,     0.90993,     0.90979,     0.90965,     0.90951,     0.90937,     0.90923,     0.90909,     0.90888,     0.90868,     0.90848,     0.90827,     0.90794,     0.90745,     0.90716,     0.90705,     0.90693,     0.90682,     0.90671,      0.9066,     0.90649,\n",
      "            0.90637,     0.90626,       0.906,     0.90571,     0.90543,     0.90456,     0.90418,     0.90409,     0.90399,      0.9039,     0.90381,     0.90371,     0.90362,     0.90353,     0.90343,     0.90334,     0.90325,     0.90151,     0.90106,     0.90099,     0.90091,     0.90084,     0.90077,\n",
      "            0.90069,     0.90062,     0.90055,     0.90048,      0.9004,     0.90033,     0.90026,     0.90018,     0.90011,     0.90004,     0.90018,     0.90055,     0.90091,     0.90128,     0.90165,     0.90202,     0.90239,     0.90275,     0.90312,     0.90349,     0.90386,     0.90423,     0.90459,\n",
      "            0.90496,     0.90533,      0.9057,     0.90607,     0.90643,      0.9068,     0.90717,     0.90754,     0.90791,     0.90827,     0.90864,     0.90901,     0.90938,     0.90975,     0.91011,     0.90884,     0.90815,      0.9084,     0.90882,     0.90924,     0.90967,     0.91009,     0.91051,\n",
      "            0.91093,     0.91135,     0.91177,     0.91219,     0.91261,     0.91304,     0.91346,     0.91388,      0.9143,     0.91472,     0.91514,     0.91556,     0.91598,     0.91641,     0.91683,     0.91725,     0.91767,     0.91809,     0.91851,     0.91849,     0.91834,      0.9182,     0.91805,\n",
      "            0.91791,     0.91776,     0.91762,     0.91751,      0.9174,     0.91729,     0.91718,     0.91707,     0.91696,     0.91686,     0.91675,      0.9166,     0.91637,     0.91614,     0.91591,     0.91568,     0.91555,     0.91542,     0.91529,     0.91517,     0.91504,     0.91491,     0.91479,\n",
      "            0.91466,     0.91432,     0.91391,     0.91356,     0.91345,     0.91335,     0.91324,     0.91313,     0.91302,     0.91291,     0.91281,      0.9127,     0.91259,      0.9141,     0.92315,     0.92304,      0.9227,     0.92237,     0.92188,     0.92362,     0.93058,     0.93433,     0.93599,\n",
      "            0.93765,     0.93931,     0.94097,     0.94263,     0.94429,     0.94594,     0.94495,     0.94468,     0.94431,     0.95714,     0.95595,     0.95573,     0.95555,     0.95538,     0.95518,     0.95472,     0.95434,     0.95401,     0.95377,     0.95363,     0.95349,     0.95334,      0.9532,\n",
      "             0.9531,     0.95305,       0.953,     0.95295,      0.9529,     0.95285,      0.9528,     0.95275,      0.9527,     0.95265,      0.9526,     0.95255,     0.95251,     0.95246,     0.95241,     0.95226,     0.95201,     0.95177,     0.95556,     0.96625,     0.96687,     0.96588,     0.96548,\n",
      "             0.9654,     0.96531,     0.96522,     0.96514,     0.96505,     0.96496,     0.96472,     0.96428,     0.96401,     0.96374,     0.96347,     0.96321,     0.96296,     0.96289,     0.96282,     0.96274,     0.96267,      0.9626,     0.96253,     0.96246,     0.96239,     0.96231,     0.96223,\n",
      "            0.96213,     0.96203,     0.96193,     0.96182,     0.96172,     0.96162,     0.96129,     0.96043,     0.96168,      0.9665,     0.97132,     0.97614,     0.97953,     0.97933,     0.97962,     0.98152,     0.98343,     0.98533,     0.98724,     0.98914,     0.99105,     0.99295,     0.99486,\n",
      "            0.99676,     0.99867,           1,           1,           1,           1,           1,           1,           1,           1,           1,           1,           1,           1,           1,           1,           1,           1,           1,           1,           1,           1,           1,\n",
      "                  1,           1,           1,           1,           1,           1,           1,           1,           1,           1,           1,           1,           1,           1,           1,           1,           1,           1,           1,           1,           1,           1,           1,\n",
      "                  1,           1,           1,           1,           1,           1,           1,           1,           1,           1,           1,           1,           1,           1,           1,           1,           1,           1,           1,           1,           1,           1,           1,\n",
      "                  1,           1,           1,           1,           1,           1,           1,           1,           1,           1,           1,           1,           1,           1,           1,           1,           1,           1,           1,           1,           1,           1,           1,\n",
      "                  1,           1,           1,           1,           1,           1,           1,           1,           1,           1,           1,           1,           1,           1,           1,           1,           1,           1,           1,           1,           1,           1,           1,\n",
      "                  1,           1,           1,           1,           1,           1,           1,           1,           1,           1,           1,           1,           1,           1,           1,           1,           1,           1,           1,           1,           1,           1,           1,\n",
      "                  1,           1,           1,           1,           1,           1,           1,           1,           1,           1,           1,           1,           1,           1,           1,           1,           1,           1,           1,           1,           1,           1,           1,\n",
      "                  1,           1,           1,           1,           1,           1,           1,           1,           1,           1,           1,           1,           1,           1,           1,           1,           1,           1,           1,           1,           1,           1,           1,\n",
      "                  1,           1,           1,           1,           1,           1,           1,           1,           1,           1,           1,           1,           1,           1,           1,           1,           1,           1,           1,           1,           1,           1,           1,\n",
      "                  1,           1,           1,           1,           1,           1,           1,           1,           1,           1,           1,           1,           1,           1,           1,           1,           1,           1,           1,           1,           1,           1,           1,\n",
      "                  1,           1,           1,           1,           1,           1,           1,           1,           1,           1,           1,           1,           1,           1,           1,           1,           1,           1,           1,           1,           1,           1,           1,\n",
      "                  1,           1,           1,           1,           1,           1,           1,           1,           1,           1,           1,           1,           1,           1,           1,           1,           1,           1,           1,           1,           1,           1,           1,\n",
      "                  1,           1,           1,           1,           1,           1,           1,           1,           1,           1,           1,           1,           1,           1,           1,           1,           1,           1,           1,           1,           1,           1,           1,\n",
      "                  1,           1,           1,           1,           1,           1,           1,           1,           1,           1,           1,           1,           1,           1,           1,           1,           1,           1,           1,           1,           1,           1,           1,\n",
      "                  1,           1,           1,           1,           1,           1,           1,           1,           1,           1,           1]]), 'Confidence', 'Precision'], [array([          0,    0.001001,    0.002002,    0.003003,    0.004004,    0.005005,    0.006006,    0.007007,    0.008008,    0.009009,     0.01001,    0.011011,    0.012012,    0.013013,    0.014014,    0.015015,    0.016016,    0.017017,    0.018018,    0.019019,     0.02002,    0.021021,    0.022022,    0.023023,\n",
      "          0.024024,    0.025025,    0.026026,    0.027027,    0.028028,    0.029029,     0.03003,    0.031031,    0.032032,    0.033033,    0.034034,    0.035035,    0.036036,    0.037037,    0.038038,    0.039039,     0.04004,    0.041041,    0.042042,    0.043043,    0.044044,    0.045045,    0.046046,    0.047047,\n",
      "          0.048048,    0.049049,     0.05005,    0.051051,    0.052052,    0.053053,    0.054054,    0.055055,    0.056056,    0.057057,    0.058058,    0.059059,     0.06006,    0.061061,    0.062062,    0.063063,    0.064064,    0.065065,    0.066066,    0.067067,    0.068068,    0.069069,     0.07007,    0.071071,\n",
      "          0.072072,    0.073073,    0.074074,    0.075075,    0.076076,    0.077077,    0.078078,    0.079079,     0.08008,    0.081081,    0.082082,    0.083083,    0.084084,    0.085085,    0.086086,    0.087087,    0.088088,    0.089089,     0.09009,    0.091091,    0.092092,    0.093093,    0.094094,    0.095095,\n",
      "          0.096096,    0.097097,    0.098098,    0.099099,      0.1001,      0.1011,      0.1021,      0.1031,      0.1041,     0.10511,     0.10611,     0.10711,     0.10811,     0.10911,     0.11011,     0.11111,     0.11211,     0.11311,     0.11411,     0.11512,     0.11612,     0.11712,     0.11812,     0.11912,\n",
      "           0.12012,     0.12112,     0.12212,     0.12312,     0.12412,     0.12513,     0.12613,     0.12713,     0.12813,     0.12913,     0.13013,     0.13113,     0.13213,     0.13313,     0.13413,     0.13514,     0.13614,     0.13714,     0.13814,     0.13914,     0.14014,     0.14114,     0.14214,     0.14314,\n",
      "           0.14414,     0.14515,     0.14615,     0.14715,     0.14815,     0.14915,     0.15015,     0.15115,     0.15215,     0.15315,     0.15415,     0.15516,     0.15616,     0.15716,     0.15816,     0.15916,     0.16016,     0.16116,     0.16216,     0.16316,     0.16416,     0.16517,     0.16617,     0.16717,\n",
      "           0.16817,     0.16917,     0.17017,     0.17117,     0.17217,     0.17317,     0.17417,     0.17518,     0.17618,     0.17718,     0.17818,     0.17918,     0.18018,     0.18118,     0.18218,     0.18318,     0.18418,     0.18519,     0.18619,     0.18719,     0.18819,     0.18919,     0.19019,     0.19119,\n",
      "           0.19219,     0.19319,     0.19419,      0.1952,      0.1962,      0.1972,      0.1982,      0.1992,      0.2002,      0.2012,      0.2022,      0.2032,      0.2042,     0.20521,     0.20621,     0.20721,     0.20821,     0.20921,     0.21021,     0.21121,     0.21221,     0.21321,     0.21421,     0.21522,\n",
      "           0.21622,     0.21722,     0.21822,     0.21922,     0.22022,     0.22122,     0.22222,     0.22322,     0.22422,     0.22523,     0.22623,     0.22723,     0.22823,     0.22923,     0.23023,     0.23123,     0.23223,     0.23323,     0.23423,     0.23524,     0.23624,     0.23724,     0.23824,     0.23924,\n",
      "           0.24024,     0.24124,     0.24224,     0.24324,     0.24424,     0.24525,     0.24625,     0.24725,     0.24825,     0.24925,     0.25025,     0.25125,     0.25225,     0.25325,     0.25425,     0.25526,     0.25626,     0.25726,     0.25826,     0.25926,     0.26026,     0.26126,     0.26226,     0.26326,\n",
      "           0.26426,     0.26527,     0.26627,     0.26727,     0.26827,     0.26927,     0.27027,     0.27127,     0.27227,     0.27327,     0.27427,     0.27528,     0.27628,     0.27728,     0.27828,     0.27928,     0.28028,     0.28128,     0.28228,     0.28328,     0.28428,     0.28529,     0.28629,     0.28729,\n",
      "           0.28829,     0.28929,     0.29029,     0.29129,     0.29229,     0.29329,     0.29429,      0.2953,      0.2963,      0.2973,      0.2983,      0.2993,      0.3003,      0.3013,      0.3023,      0.3033,      0.3043,     0.30531,     0.30631,     0.30731,     0.30831,     0.30931,     0.31031,     0.31131,\n",
      "           0.31231,     0.31331,     0.31431,     0.31532,     0.31632,     0.31732,     0.31832,     0.31932,     0.32032,     0.32132,     0.32232,     0.32332,     0.32432,     0.32533,     0.32633,     0.32733,     0.32833,     0.32933,     0.33033,     0.33133,     0.33233,     0.33333,     0.33433,     0.33534,\n",
      "           0.33634,     0.33734,     0.33834,     0.33934,     0.34034,     0.34134,     0.34234,     0.34334,     0.34434,     0.34535,     0.34635,     0.34735,     0.34835,     0.34935,     0.35035,     0.35135,     0.35235,     0.35335,     0.35435,     0.35536,     0.35636,     0.35736,     0.35836,     0.35936,\n",
      "           0.36036,     0.36136,     0.36236,     0.36336,     0.36436,     0.36537,     0.36637,     0.36737,     0.36837,     0.36937,     0.37037,     0.37137,     0.37237,     0.37337,     0.37437,     0.37538,     0.37638,     0.37738,     0.37838,     0.37938,     0.38038,     0.38138,     0.38238,     0.38338,\n",
      "           0.38438,     0.38539,     0.38639,     0.38739,     0.38839,     0.38939,     0.39039,     0.39139,     0.39239,     0.39339,     0.39439,      0.3954,      0.3964,      0.3974,      0.3984,      0.3994,      0.4004,      0.4014,      0.4024,      0.4034,      0.4044,     0.40541,     0.40641,     0.40741,\n",
      "           0.40841,     0.40941,     0.41041,     0.41141,     0.41241,     0.41341,     0.41441,     0.41542,     0.41642,     0.41742,     0.41842,     0.41942,     0.42042,     0.42142,     0.42242,     0.42342,     0.42442,     0.42543,     0.42643,     0.42743,     0.42843,     0.42943,     0.43043,     0.43143,\n",
      "           0.43243,     0.43343,     0.43443,     0.43544,     0.43644,     0.43744,     0.43844,     0.43944,     0.44044,     0.44144,     0.44244,     0.44344,     0.44444,     0.44545,     0.44645,     0.44745,     0.44845,     0.44945,     0.45045,     0.45145,     0.45245,     0.45345,     0.45445,     0.45546,\n",
      "           0.45646,     0.45746,     0.45846,     0.45946,     0.46046,     0.46146,     0.46246,     0.46346,     0.46446,     0.46547,     0.46647,     0.46747,     0.46847,     0.46947,     0.47047,     0.47147,     0.47247,     0.47347,     0.47447,     0.47548,     0.47648,     0.47748,     0.47848,     0.47948,\n",
      "           0.48048,     0.48148,     0.48248,     0.48348,     0.48448,     0.48549,     0.48649,     0.48749,     0.48849,     0.48949,     0.49049,     0.49149,     0.49249,     0.49349,     0.49449,      0.4955,      0.4965,      0.4975,      0.4985,      0.4995,      0.5005,      0.5015,      0.5025,      0.5035,\n",
      "            0.5045,     0.50551,     0.50651,     0.50751,     0.50851,     0.50951,     0.51051,     0.51151,     0.51251,     0.51351,     0.51451,     0.51552,     0.51652,     0.51752,     0.51852,     0.51952,     0.52052,     0.52152,     0.52252,     0.52352,     0.52452,     0.52553,     0.52653,     0.52753,\n",
      "           0.52853,     0.52953,     0.53053,     0.53153,     0.53253,     0.53353,     0.53453,     0.53554,     0.53654,     0.53754,     0.53854,     0.53954,     0.54054,     0.54154,     0.54254,     0.54354,     0.54454,     0.54555,     0.54655,     0.54755,     0.54855,     0.54955,     0.55055,     0.55155,\n",
      "           0.55255,     0.55355,     0.55455,     0.55556,     0.55656,     0.55756,     0.55856,     0.55956,     0.56056,     0.56156,     0.56256,     0.56356,     0.56456,     0.56557,     0.56657,     0.56757,     0.56857,     0.56957,     0.57057,     0.57157,     0.57257,     0.57357,     0.57457,     0.57558,\n",
      "           0.57658,     0.57758,     0.57858,     0.57958,     0.58058,     0.58158,     0.58258,     0.58358,     0.58458,     0.58559,     0.58659,     0.58759,     0.58859,     0.58959,     0.59059,     0.59159,     0.59259,     0.59359,     0.59459,      0.5956,      0.5966,      0.5976,      0.5986,      0.5996,\n",
      "            0.6006,      0.6016,      0.6026,      0.6036,      0.6046,     0.60561,     0.60661,     0.60761,     0.60861,     0.60961,     0.61061,     0.61161,     0.61261,     0.61361,     0.61461,     0.61562,     0.61662,     0.61762,     0.61862,     0.61962,     0.62062,     0.62162,     0.62262,     0.62362,\n",
      "           0.62462,     0.62563,     0.62663,     0.62763,     0.62863,     0.62963,     0.63063,     0.63163,     0.63263,     0.63363,     0.63463,     0.63564,     0.63664,     0.63764,     0.63864,     0.63964,     0.64064,     0.64164,     0.64264,     0.64364,     0.64464,     0.64565,     0.64665,     0.64765,\n",
      "           0.64865,     0.64965,     0.65065,     0.65165,     0.65265,     0.65365,     0.65465,     0.65566,     0.65666,     0.65766,     0.65866,     0.65966,     0.66066,     0.66166,     0.66266,     0.66366,     0.66466,     0.66567,     0.66667,     0.66767,     0.66867,     0.66967,     0.67067,     0.67167,\n",
      "           0.67267,     0.67367,     0.67467,     0.67568,     0.67668,     0.67768,     0.67868,     0.67968,     0.68068,     0.68168,     0.68268,     0.68368,     0.68468,     0.68569,     0.68669,     0.68769,     0.68869,     0.68969,     0.69069,     0.69169,     0.69269,     0.69369,     0.69469,      0.6957,\n",
      "            0.6967,      0.6977,      0.6987,      0.6997,      0.7007,      0.7017,      0.7027,      0.7037,      0.7047,     0.70571,     0.70671,     0.70771,     0.70871,     0.70971,     0.71071,     0.71171,     0.71271,     0.71371,     0.71471,     0.71572,     0.71672,     0.71772,     0.71872,     0.71972,\n",
      "           0.72072,     0.72172,     0.72272,     0.72372,     0.72472,     0.72573,     0.72673,     0.72773,     0.72873,     0.72973,     0.73073,     0.73173,     0.73273,     0.73373,     0.73473,     0.73574,     0.73674,     0.73774,     0.73874,     0.73974,     0.74074,     0.74174,     0.74274,     0.74374,\n",
      "           0.74474,     0.74575,     0.74675,     0.74775,     0.74875,     0.74975,     0.75075,     0.75175,     0.75275,     0.75375,     0.75475,     0.75576,     0.75676,     0.75776,     0.75876,     0.75976,     0.76076,     0.76176,     0.76276,     0.76376,     0.76476,     0.76577,     0.76677,     0.76777,\n",
      "           0.76877,     0.76977,     0.77077,     0.77177,     0.77277,     0.77377,     0.77477,     0.77578,     0.77678,     0.77778,     0.77878,     0.77978,     0.78078,     0.78178,     0.78278,     0.78378,     0.78478,     0.78579,     0.78679,     0.78779,     0.78879,     0.78979,     0.79079,     0.79179,\n",
      "           0.79279,     0.79379,     0.79479,      0.7958,      0.7968,      0.7978,      0.7988,      0.7998,      0.8008,      0.8018,      0.8028,      0.8038,      0.8048,     0.80581,     0.80681,     0.80781,     0.80881,     0.80981,     0.81081,     0.81181,     0.81281,     0.81381,     0.81481,     0.81582,\n",
      "           0.81682,     0.81782,     0.81882,     0.81982,     0.82082,     0.82182,     0.82282,     0.82382,     0.82482,     0.82583,     0.82683,     0.82783,     0.82883,     0.82983,     0.83083,     0.83183,     0.83283,     0.83383,     0.83483,     0.83584,     0.83684,     0.83784,     0.83884,     0.83984,\n",
      "           0.84084,     0.84184,     0.84284,     0.84384,     0.84484,     0.84585,     0.84685,     0.84785,     0.84885,     0.84985,     0.85085,     0.85185,     0.85285,     0.85385,     0.85485,     0.85586,     0.85686,     0.85786,     0.85886,     0.85986,     0.86086,     0.86186,     0.86286,     0.86386,\n",
      "           0.86486,     0.86587,     0.86687,     0.86787,     0.86887,     0.86987,     0.87087,     0.87187,     0.87287,     0.87387,     0.87487,     0.87588,     0.87688,     0.87788,     0.87888,     0.87988,     0.88088,     0.88188,     0.88288,     0.88388,     0.88488,     0.88589,     0.88689,     0.88789,\n",
      "           0.88889,     0.88989,     0.89089,     0.89189,     0.89289,     0.89389,     0.89489,      0.8959,      0.8969,      0.8979,      0.8989,      0.8999,      0.9009,      0.9019,      0.9029,      0.9039,      0.9049,     0.90591,     0.90691,     0.90791,     0.90891,     0.90991,     0.91091,     0.91191,\n",
      "           0.91291,     0.91391,     0.91491,     0.91592,     0.91692,     0.91792,     0.91892,     0.91992,     0.92092,     0.92192,     0.92292,     0.92392,     0.92492,     0.92593,     0.92693,     0.92793,     0.92893,     0.92993,     0.93093,     0.93193,     0.93293,     0.93393,     0.93493,     0.93594,\n",
      "           0.93694,     0.93794,     0.93894,     0.93994,     0.94094,     0.94194,     0.94294,     0.94394,     0.94494,     0.94595,     0.94695,     0.94795,     0.94895,     0.94995,     0.95095,     0.95195,     0.95295,     0.95395,     0.95495,     0.95596,     0.95696,     0.95796,     0.95896,     0.95996,\n",
      "           0.96096,     0.96196,     0.96296,     0.96396,     0.96496,     0.96597,     0.96697,     0.96797,     0.96897,     0.96997,     0.97097,     0.97197,     0.97297,     0.97397,     0.97497,     0.97598,     0.97698,     0.97798,     0.97898,     0.97998,     0.98098,     0.98198,     0.98298,     0.98398,\n",
      "           0.98498,     0.98599,     0.98699,     0.98799,     0.98899,     0.98999,     0.99099,     0.99199,     0.99299,     0.99399,     0.99499,       0.996,       0.997,       0.998,       0.999,           1]), array([[    0.83908,     0.83908,     0.81609,     0.81609,      0.8046,     0.79885,     0.79885,     0.79791,      0.7931,     0.78197,     0.78161,     0.78161,     0.77586,     0.77586,     0.77586,     0.77586,     0.77586,     0.77011,     0.77011,     0.77011,     0.77011,     0.76462,     0.76437,\n",
      "            0.76437,     0.76437,     0.76437,     0.76437,     0.76437,     0.76437,     0.76181,     0.75862,     0.75862,     0.75862,     0.75862,     0.75407,     0.75287,     0.74713,     0.74713,     0.74713,       0.747,     0.74539,     0.74378,     0.74217,     0.74138,     0.74138,     0.74138,\n",
      "            0.74138,     0.74138,     0.74138,     0.74138,     0.74138,     0.74138,     0.74138,     0.74138,     0.74138,     0.74138,     0.74138,     0.74138,     0.74138,     0.73563,     0.73563,     0.73476,     0.73191,     0.72989,     0.72989,     0.72989,     0.72989,     0.72989,     0.72989,\n",
      "            0.72989,     0.72989,     0.72989,     0.72989,     0.72989,     0.72989,     0.72989,     0.72989,     0.72989,     0.72989,     0.72989,     0.72989,     0.72989,     0.72989,     0.72989,     0.72989,     0.72989,     0.72989,     0.72989,     0.72989,     0.72414,     0.72414,      0.7188,\n",
      "            0.71264,     0.71264,     0.71264,      0.7106,      0.7076,      0.7069,     0.70634,     0.70381,     0.70128,     0.70115,     0.70115,     0.70115,     0.70115,     0.70115,     0.70115,     0.70115,     0.70115,     0.70115,     0.70115,     0.70115,     0.70115,     0.70115,     0.70115,\n",
      "            0.70115,     0.70115,     0.70115,     0.70115,     0.70115,     0.70115,     0.70115,     0.70115,     0.70115,     0.70115,     0.70115,     0.69517,     0.69331,     0.69145,     0.68966,     0.68966,     0.68966,     0.68966,     0.68966,     0.68966,     0.68966,     0.68966,     0.68391,\n",
      "            0.68391,     0.68391,     0.68391,     0.68391,     0.68391,     0.68391,     0.68391,     0.68224,     0.68045,     0.67867,     0.67816,     0.67816,     0.67816,     0.67816,     0.67816,     0.67816,     0.67241,     0.67241,     0.67017,     0.66721,     0.66667,     0.66667,     0.66667,\n",
      "            0.66667,     0.66667,     0.66667,     0.66667,     0.66667,     0.66667,     0.66667,     0.66667,     0.66667,     0.66667,     0.66636,      0.6658,     0.66524,     0.66468,     0.66412,     0.66356,       0.663,     0.66244,     0.66187,     0.66131,     0.66074,     0.66016,     0.65957,\n",
      "            0.65898,      0.6584,     0.65781,     0.65722,     0.65663,     0.65605,     0.65546,     0.65517,     0.65517,     0.65517,     0.65517,     0.65517,     0.65517,     0.65517,     0.65517,     0.65517,     0.65517,     0.65517,     0.65517,     0.65517,     0.65517,     0.65517,     0.65517,\n",
      "            0.65517,     0.65517,      0.6546,     0.65403,     0.65347,      0.6529,     0.65233,     0.65176,     0.65119,     0.65062,     0.65005,     0.64949,     0.64918,     0.64891,     0.64863,     0.64836,     0.64808,     0.64781,     0.64753,     0.64726,     0.64698,     0.64671,     0.64644,\n",
      "            0.64616,     0.64589,     0.64561,     0.64534,     0.64506,     0.64479,     0.64451,     0.64424,     0.64396,     0.64369,      0.6426,     0.64146,     0.64033,      0.6392,     0.63807,     0.63218,     0.62545,     0.62371,     0.62196,     0.62043,     0.61948,     0.61853,     0.61758,\n",
      "            0.61663,     0.61568,     0.61483,     0.61434,     0.61385,     0.61336,     0.61287,     0.61238,     0.61189,      0.6114,     0.61091,     0.61042,     0.60993,     0.60944,     0.60828,     0.60646,     0.60465,      0.6032,     0.60246,     0.60172,     0.60098,     0.60024,      0.5995,\n",
      "            0.59876,     0.59802,     0.59606,      0.5932,     0.59146,     0.59058,      0.5897,     0.58883,     0.58795,     0.58707,     0.58619,     0.58498,     0.58378,     0.58257,     0.58136,     0.58046,     0.58046,     0.58046,     0.58046,     0.58046,     0.58046,     0.58046,     0.58046,\n",
      "            0.58046,     0.58046,     0.58046,     0.58046,     0.58046,     0.58046,     0.58046,     0.58046,     0.58046,     0.58046,     0.58046,     0.58046,     0.58046,     0.58046,     0.58046,     0.58046,     0.58046,     0.58046,     0.58046,     0.57945,     0.57836,     0.57727,     0.57619,\n",
      "             0.5751,     0.56897,     0.56897,     0.56897,     0.56897,     0.56897,     0.56897,     0.56897,     0.56897,     0.56897,     0.56897,     0.56897,     0.56897,     0.56897,     0.56897,     0.56897,     0.56897,     0.56897,     0.56897,     0.56897,     0.56897,     0.56897,     0.56897,\n",
      "            0.56897,     0.56897,     0.56897,     0.56897,     0.56897,     0.56897,     0.56897,     0.56897,     0.56897,     0.56897,     0.56857,     0.56798,     0.56739,     0.56681,     0.56622,     0.56563,     0.56504,     0.56446,     0.56387,     0.56328,     0.55945,     0.55734,     0.55711,\n",
      "            0.55687,     0.55663,     0.55639,     0.55615,     0.55591,     0.55567,     0.55543,     0.55519,     0.55496,     0.55472,     0.55448,     0.55424,       0.554,     0.55376,     0.55352,     0.55328,     0.55304,     0.55281,     0.55257,     0.55233,     0.55209,     0.55185,     0.55079,\n",
      "            0.54881,     0.54683,     0.54578,     0.54544,     0.54511,     0.54477,     0.54443,     0.54409,     0.54375,     0.54341,     0.54307,     0.54274,      0.5424,     0.54206,     0.54172,     0.54138,     0.54104,      0.5407,     0.54036,     0.53427,     0.53251,     0.53075,     0.52899,\n",
      "            0.52726,     0.52553,      0.5238,     0.52252,     0.52164,     0.52075,     0.51987,     0.51899,     0.51811,     0.51722,     0.51596,      0.5147,     0.51344,     0.51218,     0.51014,     0.50716,      0.5054,     0.50473,     0.50407,      0.5034,     0.50273,     0.50207,      0.5014,\n",
      "            0.50074,     0.50007,     0.49853,     0.49688,     0.49523,     0.49023,     0.48808,     0.48756,     0.48704,     0.48652,       0.486,     0.48548,     0.48495,     0.48443,     0.48391,     0.48339,     0.48287,     0.47345,     0.47106,     0.47067,     0.47029,     0.46991,     0.46953,\n",
      "            0.46915,     0.46877,     0.46838,       0.468,     0.46762,     0.46724,     0.46686,     0.46648,     0.46609,     0.46571,     0.46552,     0.46552,     0.46552,     0.46552,     0.46552,     0.46552,     0.46552,     0.46552,     0.46552,     0.46552,     0.46552,     0.46552,     0.46552,\n",
      "            0.46552,     0.46552,     0.46552,     0.46552,     0.46552,     0.46552,     0.46552,     0.46552,     0.46552,     0.46552,     0.46552,     0.46552,     0.46552,     0.46552,     0.46549,     0.45839,     0.45461,     0.45402,     0.45402,     0.45402,     0.45402,     0.45402,     0.45402,\n",
      "            0.45402,     0.45402,     0.45402,     0.45402,     0.45402,     0.45402,     0.45402,     0.45402,     0.45402,     0.45402,     0.45402,     0.45402,     0.45402,     0.45402,     0.45402,     0.45402,     0.45402,     0.45402,     0.45402,     0.45334,     0.45246,     0.45158,     0.45071,\n",
      "            0.44983,     0.44895,     0.44813,     0.44749,     0.44684,      0.4462,     0.44556,     0.44492,     0.44428,     0.44364,     0.44299,     0.44217,     0.44084,     0.43952,      0.4382,     0.43688,     0.43613,     0.43542,     0.43472,     0.43401,      0.4333,      0.4326,     0.43189,\n",
      "            0.43119,     0.42931,     0.42711,     0.42519,     0.42462,     0.42404,     0.42346,     0.42289,     0.42231,     0.42174,     0.42116,     0.42059,     0.42001,     0.41954,     0.41954,      0.4136,     0.41165,     0.40971,     0.40696,      0.4023,      0.4023,      0.4023,      0.4023,\n",
      "             0.4023,      0.4023,      0.4023,      0.4023,      0.4023,      0.4023,     0.39461,     0.39258,     0.38985,     0.38501,     0.37417,      0.3722,      0.3707,     0.36919,     0.36747,     0.36356,     0.36037,     0.35763,     0.35573,     0.35459,     0.35345,     0.35231,     0.35117,\n",
      "            0.35039,     0.35001,     0.34963,     0.34924,     0.34886,     0.34847,     0.34809,     0.34771,     0.34732,     0.34694,     0.34656,     0.34617,     0.34579,      0.3454,     0.34502,     0.34391,     0.34208,     0.34024,     0.33908,     0.33908,      0.3355,     0.32543,     0.32153,\n",
      "             0.3207,     0.31987,     0.31905,     0.31822,     0.31739,     0.31656,     0.31434,     0.31033,     0.30791,     0.30549,     0.30318,     0.30094,     0.29881,     0.29822,     0.29763,     0.29705,     0.29646,     0.29587,     0.29528,     0.29469,     0.29411,     0.29352,     0.29286,\n",
      "            0.29205,     0.29124,     0.29042,     0.28961,      0.2888,     0.28799,     0.28545,     0.27898,     0.27586,     0.27586,     0.27586,     0.27586,     0.27507,     0.27226,     0.27011,     0.27011,     0.27011,     0.27011,     0.27011,     0.27011,     0.27011,     0.27011,     0.27011,\n",
      "            0.27011,     0.27011,     0.26929,     0.26656,     0.26382,     0.26104,     0.25846,     0.25721,     0.25596,     0.25471,     0.25346,     0.25223,     0.25103,     0.24983,     0.24863,     0.24742,     0.24429,     0.24029,     0.23552,     0.23114,     0.22751,     0.22418,     0.21986,\n",
      "             0.2145,     0.20737,     0.19656,     0.19401,     0.19229,     0.19058,     0.18332,      0.1818,     0.18029,     0.17877,     0.17663,     0.17406,     0.17208,     0.17114,     0.17021,     0.16927,     0.16833,      0.1674,     0.16648,     0.16563,     0.16478,     0.16393,     0.16308,\n",
      "            0.16224,     0.16139,     0.15871,     0.15389,     0.14937,     0.14682,     0.14428,     0.14037,     0.13638,     0.13284,      0.1309,     0.12932,     0.12775,     0.12627,     0.12528,     0.12428,     0.12329,     0.12229,      0.1213,     0.12006,     0.11846,     0.11686,     0.11526,\n",
      "            0.11422,     0.11331,      0.1124,      0.1115,     0.11059,     0.10968,     0.10868,     0.10756,     0.10644,     0.10532,      0.1042,     0.10251,    0.099641,    0.097181,     0.09558,    0.093979,    0.092378,    0.084577,    0.080129,    0.068062,    0.064339,    0.059202,    0.056163,\n",
      "           0.054292,     0.05242,    0.051144,    0.050222,    0.049299,    0.048377,    0.047454,    0.046532,    0.044762,    0.041715,    0.038843,    0.036138,     0.02838,    0.022868,    0.022684,      0.0225,    0.022316,    0.022131,    0.021947,    0.021763,    0.021579,    0.021394,     0.02121,\n",
      "           0.021026,    0.020842,    0.020657,    0.020473,    0.020289,    0.020105,     0.01992,    0.019736,    0.019552,    0.019368,    0.019183,    0.018999,    0.018815,    0.018631,    0.018446,    0.018262,    0.018078,    0.017894,    0.017709,    0.017525,    0.017341,    0.016167,     0.01383,\n",
      "           0.011494,    0.011239,    0.010983,    0.010728,    0.010473,    0.010218,   0.0099624,   0.0097072,   0.0094519,   0.0091966,   0.0089414,   0.0086861,   0.0084308,   0.0081756,   0.0079203,    0.007665,   0.0074098,   0.0071545,   0.0068993,    0.006644,   0.0063887,   0.0061335,   0.0058782,\n",
      "                  0,           0,           0,           0,           0,           0,           0,           0,           0,           0,           0,           0,           0,           0,           0,           0,           0,           0,           0,           0,           0,           0,           0,\n",
      "                  0,           0,           0,           0,           0,           0,           0,           0,           0,           0,           0,           0,           0,           0,           0,           0,           0,           0,           0,           0,           0,           0,           0,\n",
      "                  0,           0,           0,           0,           0,           0,           0,           0,           0,           0,           0,           0,           0,           0,           0,           0,           0,           0,           0,           0,           0,           0,           0,\n",
      "                  0,           0,           0,           0,           0,           0,           0,           0,           0,           0,           0,           0,           0,           0,           0,           0,           0,           0,           0,           0,           0,           0,           0,\n",
      "                  0,           0,           0,           0,           0,           0,           0,           0,           0,           0,           0,           0,           0,           0,           0,           0,           0,           0,           0,           0,           0,           0,           0,\n",
      "                  0,           0,           0,           0,           0,           0,           0,           0,           0,           0,           0,           0,           0,           0,           0,           0,           0,           0,           0,           0,           0,           0,           0,\n",
      "                  0,           0,           0,           0,           0,           0,           0,           0,           0,           0,           0,           0,           0,           0,           0,           0,           0,           0,           0,           0,           0,           0,           0,\n",
      "                  0,           0,           0,           0,           0,           0,           0,           0,           0,           0,           0]]), 'Confidence', 'Recall']]\n",
      "fitness: np.float64(0.3743029227630978)\n",
      "keys: ['metrics/precision(B)', 'metrics/recall(B)', 'metrics/mAP50(B)', 'metrics/mAP50-95(B)']\n",
      "maps: array([    0.33321])\n",
      "names: {0: 'bird'}\n",
      "plot: True\n",
      "results_dict: {'metrics/precision(B)': np.float64(0.8787392016627844), 'metrics/recall(B)': np.float64(0.6551724137931034), 'metrics/mAP50(B)': np.float64(0.7441170326818811), 'metrics/mAP50-95(B)': np.float64(0.3332124661054552), 'fitness': np.float64(0.3743029227630978)}\n",
      "save_dir: PosixPath('runs/detect/val')\n",
      "speed: {'preprocess': 16.928298096775418, 'inference': 61.130352580644946, 'loss': 0.0009269354838961003, 'postprocess': 19.115025387095336}\n",
      "task: 'detect'\n"
     ]
    }
   ],
   "source": [
    "custom_name = 'yolov11_freeze_10_base_hp_40_epochs_best.pt'\n",
    "\n",
    "# Load best or last checkpoint\n",
    "model = YOLO(f'{models}/{custom_name}')\n",
    "# Evaluate on the test split defined in test.yaml\n",
    "metrics = model.val(data=yolo_data, imgsz=1280, save=True, split='test')\n",
    "print(metrics)"
   ]
  }
 ],
 "metadata": {
  "accelerator": "GPU",
  "colab": {
   "gpuType": "T4",
   "provenance": []
  },
  "kernelspec": {
   "display_name": "Python 3 (ipykernel)",
   "language": "python",
   "name": "python3"
  },
  "language_info": {
   "codemirror_mode": {
    "name": "ipython",
    "version": 3
   },
   "file_extension": ".py",
   "mimetype": "text/x-python",
   "name": "python",
   "nbconvert_exporter": "python",
   "pygments_lexer": "ipython3",
   "version": "3.11.7"
  }
 },
 "nbformat": 4,
 "nbformat_minor": 4
}
