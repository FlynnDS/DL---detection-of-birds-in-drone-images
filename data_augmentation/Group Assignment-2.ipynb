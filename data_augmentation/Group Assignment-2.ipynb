{
 "cells": [
  {
   "cell_type": "markdown",
   "id": "0e96f895",
   "metadata": {},
   "source": [
    "# Group assignment object detection"
   ]
  },
  {
   "cell_type": "markdown",
   "id": "88e81934",
   "metadata": {},
   "source": [
    "### Choice of model\n",
    "\n",
    "In this project, the task is to determine the birds and their location inside a picture. Birds can be of many differnt shapes and forms, so it is important to have a generalizable model. Secondly, it is critical that the model can make predictions in a tractable manner. It should be fast enough to have the model running on inference on the drone's hardware. For that reason, the model can't be large and complex, it should be lightweight and apaptable. "
   ]
  },
  {
   "cell_type": "markdown",
   "id": "2bfcaa20",
   "metadata": {},
   "source": [
    "YOLO is a model that is known for its speed, it is fast and flexible. This will be the basis of our model's architecture. Yolo predicts a location bound for an object. "
   ]
  },
  {
   "cell_type": "markdown",
   "id": "fc84bf51",
   "metadata": {},
   "source": [
    "An issue I have with the data is that I want to use apple's background removing feature but because of the file names. That are super long and complex as they are hashes, it gets confused because the hash potentially mimics a hash that is protected or another reason. So the best appraoch is to clean the file names. But I don't want to do that as it seems cumbersome as my whole code is already great as it is now. "
   ]
  },
  {
   "cell_type": "code",
   "execution_count": 1,
   "id": "818caf07",
   "metadata": {
    "execution": {
     "iopub.execute_input": "2025-05-08T12:13:43.588680Z",
     "iopub.status.busy": "2025-05-08T12:13:43.588161Z",
     "iopub.status.idle": "2025-05-08T12:13:43.667761Z",
     "shell.execute_reply": "2025-05-08T12:13:43.667128Z",
     "shell.execute_reply.started": "2025-05-08T12:13:43.588656Z"
    }
   },
   "outputs": [],
   "source": [
    "import sys\n",
    "sys.path.append(\"/notebooks/DL---detection-of-birds-in-drone-images/data_augmentation\")\n",
    "import image_objects\n",
    "from image_objects import AllImages"
   ]
  },
  {
   "cell_type": "code",
   "execution_count": 2,
   "id": "b3cb807a",
   "metadata": {
    "execution": {
     "iopub.execute_input": "2025-05-08T12:13:45.591158Z",
     "iopub.status.busy": "2025-05-08T12:13:45.590642Z",
     "iopub.status.idle": "2025-05-08T12:14:29.384194Z",
     "shell.execute_reply": "2025-05-08T12:14:29.383532Z",
     "shell.execute_reply.started": "2025-05-08T12:13:45.591132Z"
    }
   },
   "outputs": [],
   "source": [
    "\n",
    "\n",
    "def get_all_files():\n",
    "    all_images = AllImages()\n",
    "    repo_path = \"/notebooks/DL---detection-of-birds-in-drone-images\"\n",
    "    test_images = all_images.get_files_in_data_folder(f\"{repo_path}/data/Harmful Birds Detection.v1i.yolov11/test\")\n",
    "    train_images = all_images.get_files_in_data_folder(f\"{repo_path}/data/Harmful Birds Detection.v1i.yolov11/train\")\n",
    "    valid_images = all_images.get_files_in_data_folder(f\"{repo_path}/data/Harmful Birds Detection.v1i.yolov11/valid\")\n",
    "    return all_images\n",
    "\n",
    "all_images_objects = get_all_files()\n",
    "\n",
    "\n",
    "\n"
   ]
  },
  {
   "cell_type": "markdown",
   "id": "eb53b2e1",
   "metadata": {},
   "source": [
    "### Create export of images of pigeons and crows"
   ]
  },
  {
   "cell_type": "code",
   "execution_count": 108,
   "id": "c117679d",
   "metadata": {},
   "outputs": [
    {
     "name": "stdout",
     "output_type": "stream",
     "text": [
      "1913\n"
     ]
    },
    {
     "ename": "Exception",
     "evalue": "folder already exists",
     "output_type": "error",
     "traceback": [
      "\u001b[0;31m---------------------------------------------------------------------------\u001b[0m",
      "\u001b[0;31mException\u001b[0m                                 Traceback (most recent call last)",
      "Cell \u001b[0;32mIn[108], line 1\u001b[0m\n\u001b[0;32m----> 1\u001b[0m \u001b[43mall_images_objects\u001b[49m\u001b[38;5;241;43m.\u001b[39;49m\u001b[43mcopy_crows_pigeons\u001b[49m\u001b[43m(\u001b[49m\u001b[38;5;124;43m\"\u001b[39;49m\u001b[38;5;124;43mfiles_to_clean_nopixels\u001b[39;49m\u001b[38;5;124;43m\"\u001b[39;49m\u001b[43m)\u001b[49m\n",
      "Cell \u001b[0;32mIn[104], line 133\u001b[0m, in \u001b[0;36mAllImages.copy_crows_pigeons\u001b[0;34m(self, destination_folder)\u001b[0m\n\u001b[1;32m    131\u001b[0m     os\u001b[38;5;241m.\u001b[39mmkdir(\u001b[38;5;124mf\u001b[39m\u001b[38;5;124m\"\u001b[39m\u001b[38;5;132;01m{\u001b[39;00mpigeons_path\u001b[38;5;132;01m}\u001b[39;00m\u001b[38;5;124m/labels\u001b[39m\u001b[38;5;124m\"\u001b[39m)\n\u001b[1;32m    132\u001b[0m \u001b[38;5;28;01melse\u001b[39;00m:\n\u001b[0;32m--> 133\u001b[0m     \u001b[38;5;28;01mraise\u001b[39;00m \u001b[38;5;167;01mException\u001b[39;00m(\u001b[38;5;124m\"\u001b[39m\u001b[38;5;124mfolder already exists\u001b[39m\u001b[38;5;124m\"\u001b[39m)\n\u001b[1;32m    136\u001b[0m \u001b[38;5;28;01mfor\u001b[39;00m index, (image_name, image_path, label_text, bird_class) \u001b[38;5;129;01min\u001b[39;00m \u001b[38;5;28menumerate\u001b[39m(crows_pigeon_paths):\n\u001b[1;32m    137\u001b[0m     bird_cat \u001b[38;5;241m=\u001b[39m \u001b[38;5;124m\"\u001b[39m\u001b[38;5;124mc\u001b[39m\u001b[38;5;124m\"\u001b[39m \u001b[38;5;28;01mif\u001b[39;00m bird_class \u001b[38;5;241m==\u001b[39m \u001b[38;5;241m0\u001b[39m \u001b[38;5;28;01melse\u001b[39;00m \u001b[38;5;124m\"\u001b[39m\u001b[38;5;124mp\u001b[39m\u001b[38;5;124m\"\u001b[39m\n",
      "\u001b[0;31mException\u001b[0m: folder already exists"
     ]
    }
   ],
   "source": [
    "# Only needed to do this line once. After that you use apple shortcuts to process these images\n",
    "#all_images_objects.copy_crows_pigeons(\"data/files_to_clean_nopixels\")"
   ]
  },
  {
   "cell_type": "markdown",
   "id": "82ce1930",
   "metadata": {},
   "source": [
    "# Preprocess locally using Apple shortcuts\n",
    "\n",
    "Now you made a folder with \"crows\" and \"pigeons\" as subfolders. You need to use apple shortcuts to remove the background of these pictures and add them to a folder. Do this seperately for the pigeons and crows folders. Important to create a \"pigeons\" and \"crows\" folder in this new folder. Use this new folder to add the pictures without background to the existing AllImages object\n",
    "\n",
    "Link to Apple shortcut (Self made)\n",
    "https://www.icloud.com/shortcuts/cb718c0257a8443fb68a9d5243597a47"
   ]
  },
  {
   "cell_type": "markdown",
   "id": "48c9602d",
   "metadata": {},
   "source": [
    "### Recognized problem\n",
    "\n",
    "Some of the images have instead of 4 yolo coordinates have 6 and many classifications, even though there is only a single pigeon in the bird. Therefore these are removed. These pictures are annoated with an outline around the bird, but that is not the correct format for our project"
   ]
  },
  {
   "cell_type": "code",
   "execution_count": 3,
   "id": "c13e2847",
   "metadata": {
    "execution": {
     "iopub.execute_input": "2025-05-08T12:15:03.739507Z",
     "iopub.status.busy": "2025-05-08T12:15:03.738981Z",
     "iopub.status.idle": "2025-05-08T12:15:03.765989Z",
     "shell.execute_reply": "2025-05-08T12:15:03.765349Z",
     "shell.execute_reply.started": "2025-05-08T12:15:03.739483Z"
    }
   },
   "outputs": [],
   "source": [
    "repo_path = \"/notebooks/DL---detection-of-birds-in-drone-images\"\n",
    "all_images_objects.load_removed_background_pictures(f\"{repo_path}/data/Subject images crows/Subjects not pixelated\")"
   ]
  },
  {
   "cell_type": "code",
   "execution_count": 6,
   "id": "80a72afb",
   "metadata": {
    "execution": {
     "iopub.execute_input": "2025-05-08T12:15:11.483016Z",
     "iopub.status.busy": "2025-05-08T12:15:11.482487Z",
     "iopub.status.idle": "2025-05-08T12:15:11.499952Z",
     "shell.execute_reply": "2025-05-08T12:15:11.499372Z",
     "shell.execute_reply.started": "2025-05-08T12:15:11.482991Z"
    }
   },
   "outputs": [
    {
     "name": "stdout",
     "output_type": "stream",
     "text": [
      "1777\n",
      "img655_jpeg_jpg\n",
      "/notebooks/DL---detection-of-birds-in-drone-images/data/Subject images crows/Subjects not pixelated/crows/img655_jpeg_jpg.rf Background Removed.47135de24d5a59f45f96e251d6909833.png\n"
     ]
    },
    {
     "data": {
      "image/png": "[encoded data removed]",
      "text/plain": [
       "<PIL.Image.Image image mode=RGBA size=25x25>"
      ]
     },
     "metadata": {},
     "output_type": "display_data"
    }
   ],
   "source": [
    "image = all_images_objects.get_random_cropped_images(25)\n",
    "\n"
   ]
  },
  {
   "cell_type": "code",
   "execution_count": null,
   "id": "c3122145",
   "metadata": {},
   "outputs": [],
   "source": []
  },
  {
   "cell_type": "markdown",
   "id": "4c701a01",
   "metadata": {},
   "source": [
    "Opencv to add the pictures to the pictures"
   ]
  }
 ],
 "metadata": {
  "kernelspec": {
   "display_name": "Python (myenv)",
   "language": "python",
   "name": "myenv"
  },
  "language_info": {
   "codemirror_mode": {
    "name": "ipython",
    "version": 3
   },
   "file_extension": ".py",
   "mimetype": "text/x-python",
   "name": "python",
   "nbconvert_exporter": "python",
   "pygments_lexer": "ipython3",
   "version": "3.11.7"
  }
 },
 "nbformat": 4,
 "nbformat_minor": 5
}
