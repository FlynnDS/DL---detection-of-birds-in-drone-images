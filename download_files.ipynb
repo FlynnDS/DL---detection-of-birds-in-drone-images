{
 "cells": [
  {
   "cell_type": "markdown",
   "id": "e12506f0-c6ff-4922-97ae-6503505f4994",
   "metadata": {},
   "source": [
    "git lfs install\n",
    "git clone git@hf.co:datasets/Mehdigreefhorst/harmFullBirds # example: git clone git@hf.co:datasets/allenai/c4\n"
   ]
  },
  {
   "cell_type": "markdown",
   "id": "1a73510e-4642-4eae-b2b8-e00dba002f54",
   "metadata": {},
   "source": [
    "### Now unzip the datasets from this hugging face location\n",
    "\n",
    "\n",
    "$ ssh-keygen -t ed25519 -C \"mehdigreefhorst@gmail.com\"\n",
    "$ ssh-add ~/.ssh/id_ed25519\n",
    "\n",
    "sudo apt-get install unzip\n",
    "unzip dataHarmFulBirds.zip \n",
    "unzip yolo_data.zip\n",
    "unzip file.zip -d destination_folder\n"
   ]
  }
 ],
 "metadata": {
  "kernelspec": {
   "display_name": "Python 3 (ipykernel)",
   "language": "python",
   "name": "python3"
  },
  "language_info": {
   "codemirror_mode": {
    "name": "ipython",
    "version": 3
   },
   "file_extension": ".py",
   "mimetype": "text/x-python",
   "name": "python",
   "nbconvert_exporter": "python",
   "pygments_lexer": "ipython3",
   "version": "3.11.7"
  }
 },
 "nbformat": 4,
 "nbformat_minor": 5
}
