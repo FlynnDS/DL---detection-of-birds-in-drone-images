{
 "cells": [
  {
   "cell_type": "markdown",
   "id": "0e96f895",
   "metadata": {},
   "source": [
    "# Group assignment object detection"
   ]
  },
  {
   "cell_type": "markdown",
   "id": "88e81934",
   "metadata": {},
   "source": [
    "### Choice of model\n",
    "\n",
    "In this project, the task is to determine the birds and their location inside a picture. Birds can be of many differnt shapes and forms, so it is important to have a generalizable model. Secondly, it is critical that the model can make predictions in a tractable manner. It should be fast enough to have the model running on inference on the drone's hardware. For that reason, the model can't be large and complex, it should be lightweight and apaptable. "
   ]
  },
  {
   "cell_type": "markdown",
   "id": "2bfcaa20",
   "metadata": {},
   "source": [
    "YOLO is a model that is known for its speed, it is fast and flexible. This will be the basis of our model's architecture. Yolo predicts a location bound for an object. "
   ]
  },
  {
   "cell_type": "markdown",
   "id": "fc84bf51",
   "metadata": {},
   "source": [
    "An issue I have with the data is that I want to use apple's background removing feature but because of the file names. That are super long and complex as they are hashes, it gets confused because the hash potentially mimics a hash that is protected or another reason. So the best appraoch is to clean the file names. But I don't want to do that as it seems cumbersome as my whole code is already great as it is now. "
   ]
  },
  {
   "cell_type": "code",
   "execution_count": 20,
   "id": "4cfed341-36f9-49dc-bb4e-a6de118ac726",
   "metadata": {
    "execution": {
     "iopub.execute_input": "2025-05-08T11:03:29.477293Z",
     "iopub.status.busy": "2025-05-08T11:03:29.476552Z",
     "iopub.status.idle": "2025-05-08T11:03:39.068593Z",
     "shell.execute_reply": "2025-05-08T11:03:39.067730Z",
     "shell.execute_reply.started": "2025-05-08T11:03:29.477271Z"
    }
   },
   "outputs": [
    {
     "name": "stdout",
     "output_type": "stream",
     "text": [
      "Requirement already satisfied: pillow in /usr/local/lib/python3.11/dist-packages (9.5.0)\n",
      "Requirement already satisfied: opencv-python in /usr/local/lib/python3.11/dist-packages (4.8.0.76)\n",
      "Requirement already satisfied: numpy>=1.21.2 in /usr/local/lib/python3.11/dist-packages (from opencv-python) (1.26.3)\n",
      "\u001b[33mWARNING: Running pip as the 'root' user can result in broken permissions and conflicting behaviour with the system package manager. It is recommended to use a virtual environment instead: https://pip.pypa.io/warnings/venv\u001b[0m\u001b[33m\n",
      "\u001b[0mCollecting pydantic>=2.0\n",
      "  Downloading pydantic-2.11.4-py3-none-any.whl.metadata (66 kB)\n",
      "\u001b[2K     \u001b[90m━━━━━━━━━━━━━━━━━━━━━━━━━━━━━━━━━━━━━━━━\u001b[0m \u001b[32m66.6/66.6 kB\u001b[0m \u001b[31m1.8 MB/s\u001b[0m eta \u001b[36m0:00:00\u001b[0m\n",
      "\u001b[?25hCollecting annotated-types>=0.6.0 (from pydantic>=2.0)\n",
      "  Downloading annotated_types-0.7.0-py3-none-any.whl.metadata (15 kB)\n",
      "Collecting pydantic-core==2.33.2 (from pydantic>=2.0)\n",
      "  Downloading pydantic_core-2.33.2-cp311-cp311-manylinux_2_17_x86_64.manylinux2014_x86_64.whl.metadata (6.8 kB)\n",
      "Collecting typing-extensions>=4.12.2 (from pydantic>=2.0)\n",
      "  Downloading typing_extensions-4.13.2-py3-none-any.whl.metadata (3.0 kB)\n",
      "Collecting typing-inspection>=0.4.0 (from pydantic>=2.0)\n",
      "  Downloading typing_inspection-0.4.0-py3-none-any.whl.metadata (2.6 kB)\n",
      "Downloading pydantic-2.11.4-py3-none-any.whl (443 kB)\n",
      "\u001b[2K   \u001b[90m━━━━━━━━━━━━━━━━━━━━━━━━━━━━━━━━━━━━━━━━\u001b[0m \u001b[32m443.9/443.9 kB\u001b[0m \u001b[31m25.8 MB/s\u001b[0m eta \u001b[36m0:00:00\u001b[0m\n",
      "\u001b[?25hDownloading pydantic_core-2.33.2-cp311-cp311-manylinux_2_17_x86_64.manylinux2014_x86_64.whl (2.0 MB)\n",
      "\u001b[2K   \u001b[90m━━━━━━━━━━━━━━━━━━━━━━━━━━━━━━━━━━━━━━━━\u001b[0m \u001b[32m2.0/2.0 MB\u001b[0m \u001b[31m101.1 MB/s\u001b[0m eta \u001b[36m0:00:00\u001b[0m\n",
      "\u001b[?25hDownloading annotated_types-0.7.0-py3-none-any.whl (13 kB)\n",
      "Downloading typing_extensions-4.13.2-py3-none-any.whl (45 kB)\n",
      "\u001b[2K   \u001b[90m━━━━━━━━━━━━━━━━━━━━━━━━━━━━━━━━━━━━━━━━\u001b[0m \u001b[32m45.8/45.8 kB\u001b[0m \u001b[31m10.0 MB/s\u001b[0m eta \u001b[36m0:00:00\u001b[0m\n",
      "\u001b[?25hDownloading typing_inspection-0.4.0-py3-none-any.whl (14 kB)\n",
      "Installing collected packages: typing-extensions, annotated-types, typing-inspection, pydantic-core, pydantic\n",
      "  Attempting uninstall: typing-extensions\n",
      "    Found existing installation: typing_extensions 4.9.0\n",
      "    Uninstalling typing_extensions-4.9.0:\n",
      "      Successfully uninstalled typing_extensions-4.9.0\n",
      "  Attempting uninstall: pydantic\n",
      "    Found existing installation: pydantic 1.10.14\n",
      "    Uninstalling pydantic-1.10.14:\n",
      "      Successfully uninstalled pydantic-1.10.14\n",
      "\u001b[31mERROR: pip's dependency resolver does not currently take into account all the packages that are installed. This behaviour is the source of the following dependency conflicts.\n",
      "deepspeed 0.10.3 requires pydantic<2.0.0, but you have pydantic 2.11.4 which is incompatible.\u001b[0m\u001b[31m\n",
      "\u001b[0mSuccessfully installed annotated-types-0.7.0 pydantic-2.11.4 pydantic-core-2.33.2 typing-extensions-4.13.2 typing-inspection-0.4.0\n",
      "\u001b[33mWARNING: Running pip as the 'root' user can result in broken permissions and conflicting behaviour with the system package manager. It is recommended to use a virtual environment instead: https://pip.pypa.io/warnings/venv\u001b[0m\u001b[33m\n",
      "\u001b[0m"
     ]
    }
   ],
   "source": [
    "!pip install pillow opencv-python pydantic\n",
    "!pip install -U \"pydantic>=2.0\""
   ]
  },
  {
   "cell_type": "code",
   "execution_count": 1,
   "id": "4880a0a9-747a-49d1-ad68-9fd45a472b15",
   "metadata": {
    "execution": {
     "iopub.execute_input": "2025-05-08T11:09:01.586470Z",
     "iopub.status.busy": "2025-05-08T11:09:01.585940Z",
     "iopub.status.idle": "2025-05-08T11:09:01.613199Z",
     "shell.execute_reply": "2025-05-08T11:09:01.612656Z",
     "shell.execute_reply.started": "2025-05-08T11:09:01.586445Z"
    }
   },
   "outputs": [
    {
     "name": "stdout",
     "output_type": "stream",
     "text": [
      "2.11.4\n"
     ]
    }
   ],
   "source": [
    "import pydantic\n",
    "print(pydantic.VERSION)"
   ]
  },
  {
   "cell_type": "code",
   "execution_count": 5,
   "id": "818caf07",
   "metadata": {
    "execution": {
     "iopub.execute_input": "2025-05-08T11:12:20.023764Z",
     "iopub.status.busy": "2025-05-08T11:12:20.023219Z",
     "iopub.status.idle": "2025-05-08T11:12:20.032535Z",
     "shell.execute_reply": "2025-05-08T11:12:20.031951Z",
     "shell.execute_reply.started": "2025-05-08T11:12:20.023738Z"
    }
   },
   "outputs": [],
   "source": [
    "from image_objects import AllImages"
   ]
  },
  {
   "cell_type": "code",
   "execution_count": 6,
   "id": "b3cb807a",
   "metadata": {
    "execution": {
     "iopub.execute_input": "2025-05-08T11:12:24.232073Z",
     "iopub.status.busy": "2025-05-08T11:12:24.231512Z",
     "iopub.status.idle": "2025-05-08T11:12:51.010845Z",
     "shell.execute_reply": "2025-05-08T11:12:51.010096Z",
     "shell.execute_reply.started": "2025-05-08T11:12:24.232047Z"
    }
   },
   "outputs": [],
   "source": [
    "def get_related_pictures_from_file_path(label_file: str, image_paths: List[str]):\n",
    "    return [file_path for file_path in image_paths if label_file in file_path]\n",
    "\n",
    "def get_files_in_data_folder(path, all_images: AllImages):\n",
    "    images_paths = [f\"{path}/images/{file_path}\" for file_path in os.listdir(f\"{path}/images\")]\n",
    "    label_file_names = [file_path for file_path in os.listdir(f\"{path}/labels\")]\n",
    "    \n",
    "    for label_file in label_file_names:\n",
    "        if \".DS_Store\" in label_file:\n",
    "            continue\n",
    "        # the same picture has the first part the same but might have had different augmentation\n",
    "        first_file_name = label_file.split(\".\")[0]\n",
    "        if first_file_name in all_images.images_dict:\n",
    "            image = all_images.images_dict[first_file_name]\n",
    "        else:\n",
    "            with open(f\"{path}/labels/{label_file}\") as f:\n",
    "                label_text = f.read()\n",
    "            image = ImageData(image_name=first_file_name,\n",
    "                              label_text=label_text)\n",
    "        label_file_no_ext = os.path.splitext(label_file)[0]\n",
    "        found_image = [file_name for file_name in images_paths if label_file_no_ext in file_name][0]\n",
    "        image.image_paths.append(found_image)\n",
    "        all_images.images_dict[first_file_name] = image\n",
    "    \n",
    "    return all_images\n",
    "\n",
    "def get_all_files():\n",
    "    all_images = AllImages()\n",
    "    test_images = get_files_in_data_folder(\"data/Harmful Birds Detection.v1i.yolov11/test\", all_images)\n",
    "    train_images = get_files_in_data_folder(\"data/Harmful Birds Detection.v1i.yolov11/train\", all_images)\n",
    "    valid_images = get_files_in_data_folder(\"data/Harmful Birds Detection.v1i.yolov11/valid\", all_images)\n",
    "    return all_images\n",
    "\n",
    "all_images_objects = get_all_files()\n",
    "\n",
    "\n",
    "\n"
   ]
  },
  {
   "cell_type": "markdown",
   "id": "eb53b2e1",
   "metadata": {},
   "source": [
    "### Create export of images of pigeons and crows"
   ]
  },
  {
   "cell_type": "code",
   "execution_count": 108,
   "id": "c117679d",
   "metadata": {},
   "outputs": [
    {
     "name": "stdout",
     "output_type": "stream",
     "text": [
      "1913\n"
     ]
    },
    {
     "ename": "Exception",
     "evalue": "folder already exists",
     "output_type": "error",
     "traceback": [
      "\u001b[0;31m---------------------------------------------------------------------------\u001b[0m",
      "\u001b[0;31mException\u001b[0m                                 Traceback (most recent call last)",
      "Cell \u001b[0;32mIn[108], line 1\u001b[0m\n\u001b[0;32m----> 1\u001b[0m \u001b[43mall_images_objects\u001b[49m\u001b[38;5;241;43m.\u001b[39;49m\u001b[43mcopy_crows_pigeons\u001b[49m\u001b[43m(\u001b[49m\u001b[38;5;124;43m\"\u001b[39;49m\u001b[38;5;124;43mfiles_to_clean_nopixels\u001b[39;49m\u001b[38;5;124;43m\"\u001b[39;49m\u001b[43m)\u001b[49m\n",
      "Cell \u001b[0;32mIn[104], line 133\u001b[0m, in \u001b[0;36mAllImages.copy_crows_pigeons\u001b[0;34m(self, destination_folder)\u001b[0m\n\u001b[1;32m    131\u001b[0m     os\u001b[38;5;241m.\u001b[39mmkdir(\u001b[38;5;124mf\u001b[39m\u001b[38;5;124m\"\u001b[39m\u001b[38;5;132;01m{\u001b[39;00mpigeons_path\u001b[38;5;132;01m}\u001b[39;00m\u001b[38;5;124m/labels\u001b[39m\u001b[38;5;124m\"\u001b[39m)\n\u001b[1;32m    132\u001b[0m \u001b[38;5;28;01melse\u001b[39;00m:\n\u001b[0;32m--> 133\u001b[0m     \u001b[38;5;28;01mraise\u001b[39;00m \u001b[38;5;167;01mException\u001b[39;00m(\u001b[38;5;124m\"\u001b[39m\u001b[38;5;124mfolder already exists\u001b[39m\u001b[38;5;124m\"\u001b[39m)\n\u001b[1;32m    136\u001b[0m \u001b[38;5;28;01mfor\u001b[39;00m index, (image_name, image_path, label_text, bird_class) \u001b[38;5;129;01min\u001b[39;00m \u001b[38;5;28menumerate\u001b[39m(crows_pigeon_paths):\n\u001b[1;32m    137\u001b[0m     bird_cat \u001b[38;5;241m=\u001b[39m \u001b[38;5;124m\"\u001b[39m\u001b[38;5;124mc\u001b[39m\u001b[38;5;124m\"\u001b[39m \u001b[38;5;28;01mif\u001b[39;00m bird_class \u001b[38;5;241m==\u001b[39m \u001b[38;5;241m0\u001b[39m \u001b[38;5;28;01melse\u001b[39;00m \u001b[38;5;124m\"\u001b[39m\u001b[38;5;124mp\u001b[39m\u001b[38;5;124m\"\u001b[39m\n",
      "\u001b[0;31mException\u001b[0m: folder already exists"
     ]
    }
   ],
   "source": [
    "# Only needed to do this line once. After that you use apple shortcuts to process these images\n",
    "#all_images_objects.copy_crows_pigeons(\"data/files_to_clean_nopixels\")"
   ]
  },
  {
   "cell_type": "markdown",
   "id": "82ce1930",
   "metadata": {},
   "source": [
    "# Preprocess locally using Apple shortcuts\n",
    "\n",
    "Now you made a folder with \"crows\" and \"pigeons\" as subfolders. You need to use apple shortcuts to remove the background of these pictures and add them to a folder. Do this seperately for the pigeons and crows folders. Important to create a \"pigeons\" and \"crows\" folder in this new folder. Use this new folder to add the pictures without background to the existing AllImages object\n",
    "\n",
    "Link to Apple shortcut (Self made)\n",
    "https://www.icloud.com/shortcuts/cb718c0257a8443fb68a9d5243597a47"
   ]
  },
  {
   "cell_type": "markdown",
   "id": "48c9602d",
   "metadata": {},
   "source": [
    "### Recognized problem\n",
    "\n",
    "Some of the images have instead of 4 yolo coordinates have 6 and many classifications, even though there is only a single pigeon in the bird. Therefore these are removed. These pictures are annoated with an outline around the bird, but that is not the correct format for our project"
   ]
  },
  {
   "cell_type": "code",
   "execution_count": 4,
   "id": "c13e2847",
   "metadata": {
    "execution": {
     "iopub.execute_input": "2025-05-08T11:09:37.967458Z",
     "iopub.status.busy": "2025-05-08T11:09:37.967015Z",
     "iopub.status.idle": "2025-05-08T11:09:37.974504Z",
     "shell.execute_reply": "2025-05-08T11:09:37.973802Z",
     "shell.execute_reply.started": "2025-05-08T11:09:37.967437Z"
    }
   },
   "outputs": [],
   "source": [
    "all_images_objects.load_removed_background_pictures(\"data/Subject images crows/Subjects not pixelated\")"
   ]
  },
  {
   "cell_type": "code",
   "execution_count": 14,
   "id": "80a72afb",
   "metadata": {
    "execution": {
     "iopub.execute_input": "2025-05-08T10:58:50.036314Z",
     "iopub.status.busy": "2025-05-08T10:58:50.035503Z",
     "iopub.status.idle": "2025-05-08T10:58:50.062649Z",
     "shell.execute_reply": "2025-05-08T10:58:50.061760Z",
     "shell.execute_reply.started": "2025-05-08T10:58:50.036289Z"
    }
   },
   "outputs": [
    {
     "name": "stdout",
     "output_type": "stream",
     "text": [
      "0\n"
     ]
    },
    {
     "ename": "IndexError",
     "evalue": "Cannot choose from an empty sequence",
     "output_type": "error",
     "traceback": [
      "\u001b[0;31m---------------------------------------------------------------------------\u001b[0m",
      "\u001b[0;31mIndexError\u001b[0m                                Traceback (most recent call last)",
      "Cell \u001b[0;32mIn[14], line 1\u001b[0m\n\u001b[0;32m----> 1\u001b[0m image \u001b[38;5;241m=\u001b[39m \u001b[43mall_images_objects\u001b[49m\u001b[38;5;241;43m.\u001b[39;49m\u001b[43mget_random_cropped_images\u001b[49m\u001b[43m(\u001b[49m\u001b[38;5;241;43m25\u001b[39;49m\u001b[43m)\u001b[49m\n",
      "Cell \u001b[0;32mIn[2], line 104\u001b[0m, in \u001b[0;36mAllImages.get_random_cropped_images\u001b[0;34m(self, new_width)\u001b[0m\n\u001b[1;32m    103\u001b[0m \u001b[38;5;28;01mdef\u001b[39;00m \u001b[38;5;21mget_random_cropped_images\u001b[39m(\u001b[38;5;28mself\u001b[39m, new_width):\n\u001b[0;32m--> 104\u001b[0m     image \u001b[38;5;241m=\u001b[39m \u001b[38;5;28;43mself\u001b[39;49m\u001b[38;5;241;43m.\u001b[39;49m\u001b[43mget_random_instance\u001b[49m\u001b[43m(\u001b[49m\u001b[43m(\u001b[49m\u001b[38;5;241;43m0\u001b[39;49m\u001b[43m,\u001b[49m\u001b[43m \u001b[49m\u001b[38;5;241;43m3\u001b[39;49m\u001b[43m)\u001b[49m\u001b[43m,\u001b[49m\u001b[43m \u001b[49m\u001b[38;5;28;43;01mTrue\u001b[39;49;00m\u001b[43m)\u001b[49m\n\u001b[1;32m    105\u001b[0m     \u001b[38;5;28mprint\u001b[39m(image\u001b[38;5;241m.\u001b[39mimage_name)\n\u001b[1;32m    106\u001b[0m     \u001b[38;5;28mprint\u001b[39m(image\u001b[38;5;241m.\u001b[39mcleaned_file)\n",
      "Cell \u001b[0;32mIn[2], line 86\u001b[0m, in \u001b[0;36mAllImages.get_random_instance\u001b[0;34m(self, bird_classes, cleaned_file)\u001b[0m\n\u001b[1;32m     84\u001b[0m \u001b[38;5;28;01mdef\u001b[39;00m \u001b[38;5;21mget_random_instance\u001b[39m(\u001b[38;5;28mself\u001b[39m, bird_classes: Tuple[\u001b[38;5;28mint\u001b[39m] \u001b[38;5;241m=\u001b[39m (\u001b[38;5;241m0\u001b[39m, \u001b[38;5;241m1\u001b[39m, \u001b[38;5;241m2\u001b[39m, \u001b[38;5;241m3\u001b[39m, \u001b[38;5;241m4\u001b[39m), cleaned_file\u001b[38;5;241m=\u001b[39m\u001b[38;5;28;01mFalse\u001b[39;00m):\n\u001b[1;32m     85\u001b[0m     found_image_dict \u001b[38;5;241m=\u001b[39m \u001b[38;5;28mself\u001b[39m\u001b[38;5;241m.\u001b[39mget_image_list_index(bird_classes, cleaned_file)\n\u001b[0;32m---> 86\u001b[0m     random_key \u001b[38;5;241m=\u001b[39m \u001b[43mrandom\u001b[49m\u001b[38;5;241;43m.\u001b[39;49m\u001b[43mchoice\u001b[49m\u001b[43m(\u001b[49m\u001b[38;5;28;43mlist\u001b[39;49m\u001b[43m(\u001b[49m\u001b[43mfound_image_dict\u001b[49m\u001b[38;5;241;43m.\u001b[39;49m\u001b[43mkeys\u001b[49m\u001b[43m(\u001b[49m\u001b[43m)\u001b[49m\u001b[43m)\u001b[49m\u001b[43m)\u001b[49m\n\u001b[1;32m     87\u001b[0m     found_image \u001b[38;5;241m=\u001b[39m found_image_dict[random_key]\n\u001b[1;32m     88\u001b[0m     \u001b[38;5;28;01mreturn\u001b[39;00m \u001b[38;5;28mself\u001b[39m\u001b[38;5;241m.\u001b[39mimages_dict[found_image]\n",
      "File \u001b[0;32m/usr/lib/python3.11/random.py:373\u001b[0m, in \u001b[0;36mRandom.choice\u001b[0;34m(self, seq)\u001b[0m\n\u001b[1;32m    370\u001b[0m \u001b[38;5;66;03m# As an accommodation for NumPy, we don't use \"if not seq\"\u001b[39;00m\n\u001b[1;32m    371\u001b[0m \u001b[38;5;66;03m# because bool(numpy.array()) raises a ValueError.\u001b[39;00m\n\u001b[1;32m    372\u001b[0m \u001b[38;5;28;01mif\u001b[39;00m \u001b[38;5;129;01mnot\u001b[39;00m \u001b[38;5;28mlen\u001b[39m(seq):\n\u001b[0;32m--> 373\u001b[0m     \u001b[38;5;28;01mraise\u001b[39;00m \u001b[38;5;167;01mIndexError\u001b[39;00m(\u001b[38;5;124m'\u001b[39m\u001b[38;5;124mCannot choose from an empty sequence\u001b[39m\u001b[38;5;124m'\u001b[39m)\n\u001b[1;32m    374\u001b[0m \u001b[38;5;28;01mreturn\u001b[39;00m seq[\u001b[38;5;28mself\u001b[39m\u001b[38;5;241m.\u001b[39m_randbelow(\u001b[38;5;28mlen\u001b[39m(seq))]\n",
      "\u001b[0;31mIndexError\u001b[0m: Cannot choose from an empty sequence"
     ]
    }
   ],
   "source": [
    "image = all_images_objects.get_random_cropped_images(25)\n",
    "\n"
   ]
  },
  {
   "cell_type": "code",
   "execution_count": null,
   "id": "c3122145",
   "metadata": {},
   "outputs": [],
   "source": []
  },
  {
   "cell_type": "markdown",
   "id": "4c701a01",
   "metadata": {},
   "source": [
    "Opencv to add the pictures to the pictures"
   ]
  }
 ],
 "metadata": {
  "kernelspec": {
   "display_name": "Python (myenv)",
   "language": "python",
   "name": "myenv"
  },
  "language_info": {
   "codemirror_mode": {
    "name": "ipython",
    "version": 3
   },
   "file_extension": ".py",
   "mimetype": "text/x-python",
   "name": "python",
   "nbconvert_exporter": "python",
   "pygments_lexer": "ipython3",
   "version": "3.11.7"
  }
 },
 "nbformat": 4,
 "nbformat_minor": 5
}
