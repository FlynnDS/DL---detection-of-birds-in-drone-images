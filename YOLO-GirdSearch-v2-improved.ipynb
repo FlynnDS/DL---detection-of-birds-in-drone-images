{
 "cells": [
  {
   "cell_type": "code",
   "execution_count": 2,
   "metadata": {
    "colab": {
     "base_uri": "https://localhost:8080/"
    },
    "execution": {
     "iopub.execute_input": "2025-05-10T16:17:54.526427Z",
     "iopub.status.busy": "2025-05-10T16:17:54.526202Z",
     "iopub.status.idle": "2025-05-10T16:17:57.055533Z",
     "shell.execute_reply": "2025-05-10T16:17:57.055014Z",
     "shell.execute_reply.started": "2025-05-10T16:17:54.526410Z"
    },
    "executionInfo": {
     "elapsed": 100633,
     "status": "ok",
     "timestamp": 1746638667522,
     "user": {
      "displayName": "Eugen Falca",
      "userId": "06470857081734833614"
     },
     "user_tz": -120
    },
    "id": "rbXRKiXXLqHN",
    "outputId": "d93ba768-7cc0-4576-eced-462ba64b881f"
   },
   "outputs": [
    {
     "name": "stdout",
     "output_type": "stream",
     "text": [
      "Requirement already satisfied: ultralytics in /usr/local/lib/python3.11/dist-packages (8.3.130)\n",
      "Requirement already satisfied: numpy>=1.23.0 in /usr/local/lib/python3.11/dist-packages (from ultralytics) (1.26.3)\n",
      "Requirement already satisfied: matplotlib>=3.3.0 in /usr/local/lib/python3.11/dist-packages (from ultralytics) (3.7.3)\n",
      "Requirement already satisfied: opencv-python>=4.6.0 in /usr/local/lib/python3.11/dist-packages (from ultralytics) (4.8.0.76)\n",
      "Requirement already satisfied: pillow>=7.1.2 in /usr/local/lib/python3.11/dist-packages (from ultralytics) (9.5.0)\n",
      "Requirement already satisfied: pyyaml>=5.3.1 in /usr/lib/python3/dist-packages (from ultralytics) (5.4.1)\n",
      "Requirement already satisfied: requests>=2.23.0 in /usr/local/lib/python3.11/dist-packages (from ultralytics) (2.31.0)\n",
      "Requirement already satisfied: scipy>=1.4.1 in /usr/local/lib/python3.11/dist-packages (from ultralytics) (1.11.2)\n",
      "Requirement already satisfied: torch>=1.8.0 in /usr/local/lib/python3.11/dist-packages (from ultralytics) (2.1.1+cu121)\n",
      "Requirement already satisfied: torchvision>=0.9.0 in /usr/local/lib/python3.11/dist-packages (from ultralytics) (0.16.1+cu121)\n",
      "Requirement already satisfied: tqdm>=4.64.0 in /usr/local/lib/python3.11/dist-packages (from ultralytics) (4.66.1)\n",
      "Requirement already satisfied: psutil in /usr/local/lib/python3.11/dist-packages (from ultralytics) (5.9.8)\n",
      "Requirement already satisfied: py-cpuinfo in /usr/local/lib/python3.11/dist-packages (from ultralytics) (9.0.0)\n",
      "Requirement already satisfied: pandas>=1.1.4 in /usr/local/lib/python3.11/dist-packages (from ultralytics) (2.2.0)\n",
      "Requirement already satisfied: seaborn>=0.11.0 in /usr/local/lib/python3.11/dist-packages (from ultralytics) (0.12.2)\n",
      "Requirement already satisfied: ultralytics-thop>=2.0.0 in /usr/local/lib/python3.11/dist-packages (from ultralytics) (2.0.14)\n",
      "Requirement already satisfied: contourpy>=1.0.1 in /usr/local/lib/python3.11/dist-packages (from matplotlib>=3.3.0->ultralytics) (1.2.0)\n",
      "Requirement already satisfied: cycler>=0.10 in /usr/local/lib/python3.11/dist-packages (from matplotlib>=3.3.0->ultralytics) (0.12.1)\n",
      "Requirement already satisfied: fonttools>=4.22.0 in /usr/local/lib/python3.11/dist-packages (from matplotlib>=3.3.0->ultralytics) (4.47.2)\n",
      "Requirement already satisfied: kiwisolver>=1.0.1 in /usr/local/lib/python3.11/dist-packages (from matplotlib>=3.3.0->ultralytics) (1.4.5)\n",
      "Requirement already satisfied: packaging>=20.0 in /usr/local/lib/python3.11/dist-packages (from matplotlib>=3.3.0->ultralytics) (23.2)\n",
      "Requirement already satisfied: pyparsing>=2.3.1 in /usr/lib/python3/dist-packages (from matplotlib>=3.3.0->ultralytics) (2.4.7)\n",
      "Requirement already satisfied: python-dateutil>=2.7 in /usr/local/lib/python3.11/dist-packages (from matplotlib>=3.3.0->ultralytics) (2.8.2)\n",
      "Requirement already satisfied: pytz>=2020.1 in /usr/lib/python3/dist-packages (from pandas>=1.1.4->ultralytics) (2022.1)\n",
      "Requirement already satisfied: tzdata>=2022.7 in /usr/local/lib/python3.11/dist-packages (from pandas>=1.1.4->ultralytics) (2023.4)\n",
      "Requirement already satisfied: charset-normalizer<4,>=2 in /usr/local/lib/python3.11/dist-packages (from requests>=2.23.0->ultralytics) (3.3.2)\n",
      "Requirement already satisfied: idna<4,>=2.5 in /usr/lib/python3/dist-packages (from requests>=2.23.0->ultralytics) (3.3)\n",
      "Requirement already satisfied: urllib3<3,>=1.21.1 in /usr/local/lib/python3.11/dist-packages (from requests>=2.23.0->ultralytics) (2.0.7)\n",
      "Requirement already satisfied: certifi>=2017.4.17 in /usr/lib/python3/dist-packages (from requests>=2.23.0->ultralytics) (2020.6.20)\n",
      "Requirement already satisfied: filelock in /usr/local/lib/python3.11/dist-packages (from torch>=1.8.0->ultralytics) (3.13.1)\n",
      "Requirement already satisfied: typing-extensions in /usr/local/lib/python3.11/dist-packages (from torch>=1.8.0->ultralytics) (4.9.0)\n",
      "Requirement already satisfied: sympy in /usr/local/lib/python3.11/dist-packages (from torch>=1.8.0->ultralytics) (1.12)\n",
      "Requirement already satisfied: networkx in /usr/local/lib/python3.11/dist-packages (from torch>=1.8.0->ultralytics) (3.2.1)\n",
      "Requirement already satisfied: jinja2 in /usr/local/lib/python3.11/dist-packages (from torch>=1.8.0->ultralytics) (3.1.3)\n",
      "Requirement already satisfied: fsspec in /usr/local/lib/python3.11/dist-packages (from torch>=1.8.0->ultralytics) (2023.6.0)\n",
      "Requirement already satisfied: triton==2.1.0 in /usr/local/lib/python3.11/dist-packages (from torch>=1.8.0->ultralytics) (2.1.0)\n",
      "Requirement already satisfied: six>=1.5 in /usr/lib/python3/dist-packages (from python-dateutil>=2.7->matplotlib>=3.3.0->ultralytics) (1.16.0)\n",
      "Requirement already satisfied: MarkupSafe>=2.0 in /usr/local/lib/python3.11/dist-packages (from jinja2->torch>=1.8.0->ultralytics) (2.1.4)\n",
      "Requirement already satisfied: mpmath>=0.19 in /usr/local/lib/python3.11/dist-packages (from sympy->torch>=1.8.0->ultralytics) (1.3.0)\n",
      "\u001b[33mWARNING: Running pip as the 'root' user can result in broken permissions and conflicting behaviour with the system package manager. It is recommended to use a virtual environment instead: https://pip.pypa.io/warnings/venv\u001b[0m\u001b[33m\n",
      "\u001b[0m"
     ]
    }
   ],
   "source": [
    "!pip install ultralytics\n",
    "import shutil\n",
    "from ultralytics import YOLO\n",
    "import cv2\n",
    "import matplotlib.pyplot as plt"
   ]
  },
  {
   "cell_type": "code",
   "execution_count": 3,
   "metadata": {
    "execution": {
     "iopub.execute_input": "2025-05-10T16:17:57.852507Z",
     "iopub.status.busy": "2025-05-10T16:17:57.851871Z",
     "iopub.status.idle": "2025-05-10T16:17:57.857865Z",
     "shell.execute_reply": "2025-05-10T16:17:57.857408Z",
     "shell.execute_reply.started": "2025-05-10T16:17:57.852507Z"
    }
   },
   "outputs": [
    {
     "data": {
      "text/plain": [
       "'/notebooks/DL---detection-of-birds-in-drone-images'"
      ]
     },
     "execution_count": 3,
     "metadata": {},
     "output_type": "execute_result"
    }
   ],
   "source": [
    "import os\n",
    "os.path.abspath(\".\")"
   ]
  },
  {
   "cell_type": "code",
   "execution_count": 4,
   "metadata": {
    "execution": {
     "iopub.execute_input": "2025-05-10T16:17:59.717039Z",
     "iopub.status.busy": "2025-05-10T16:17:59.716570Z",
     "iopub.status.idle": "2025-05-10T16:17:59.720104Z",
     "shell.execute_reply": "2025-05-10T16:17:59.719448Z",
     "shell.execute_reply.started": "2025-05-10T16:17:59.717016Z"
    },
    "executionInfo": {
     "elapsed": 42,
     "status": "ok",
     "timestamp": 1746638686061,
     "user": {
      "displayName": "Eugen Falca",
      "userId": "06470857081734833614"
     },
     "user_tz": -120
    },
    "id": "EPJWUrX-Qgei"
   },
   "outputs": [],
   "source": [
    "# datasets\n",
    "folder_path = '/notebooks/DL---detection-of-birds-in-drone-images/data/'\n",
    "\n",
    "# models\n",
    "models = '/notebooks/DL---detection-of-birds-in-drone-images/models'\n",
    "\n",
    "# logs\n",
    "logs = '/notebooks/DL---detection-of-birds-in-drone-images/logs/'\n",
    "\n",
    "#yolo_data = folder_path + 'data_yolo_format/data.yaml'\n",
    "yolo_data = folder_path + 'tiled_augmented_2_yolo_data/data.yaml'"
   ]
  },
  {
   "cell_type": "code",
   "execution_count": 5,
   "metadata": {
    "colab": {
     "base_uri": "https://localhost:8080/"
    },
    "execution": {
     "iopub.execute_input": "2025-05-10T16:18:02.775924Z",
     "iopub.status.busy": "2025-05-10T16:18:02.775673Z",
     "iopub.status.idle": "2025-05-10T16:18:03.220968Z",
     "shell.execute_reply": "2025-05-10T16:18:03.220446Z",
     "shell.execute_reply.started": "2025-05-10T16:18:02.775904Z"
    },
    "executionInfo": {
     "elapsed": 1024,
     "status": "ok",
     "timestamp": 1746645444606,
     "user": {
      "displayName": "Eugen Falca",
      "userId": "06470857081734833614"
     },
     "user_tz": -120
    },
    "id": "RoDv_WjFLuNE",
    "outputId": "7a5856d2-948f-4baa-f208-9ea3c17d3642"
   },
   "outputs": [
    {
     "data": {
      "text/plain": [
       "['run_2_lr0.001_mos0.0_sc0.5',\n",
       " 'run_10_lr0.005_mos0.5_sc0.5',\n",
       " 'run_9_lr0.005_mos0.5_sc0.3',\n",
       " 'run_5_lr0.001_mos1.0_sc0.3',\n",
       " 'run_8_lr0.005_mos0.0_sc0.5',\n",
       " 'run_3_lr0.001_mos0.5_sc0.3',\n",
       " 'run_6_lr0.001_mos1.0_sc0.5',\n",
       " 'run_7_lr0.005_mos0.0_sc0.3',\n",
       " 'run_1_lr0.001_mos0.0_sc0.3',\n",
       " 'run_11_lr0.005_mos1.0_sc0.3',\n",
       " 'run_13_lr0.01_mos0.0_sc0.3',\n",
       " 'run_12_lr0.005_mos1.0_sc0.5',\n",
       " 'run_4_lr0.001_mos0.5_sc0.5',\n",
       " '.ipynb_checkpoints']"
      ]
     },
     "execution_count": 5,
     "metadata": {},
     "output_type": "execute_result"
    }
   ],
   "source": [
    "\n",
    "\n",
    "os.listdir(\"grid_search_yolo\")"
   ]
  },
  {
   "cell_type": "code",
   "execution_count": 10,
   "metadata": {
    "execution": {
     "iopub.execute_input": "2025-05-10T16:33:11.531982Z",
     "iopub.status.busy": "2025-05-10T16:33:11.531496Z",
     "iopub.status.idle": "2025-05-10T16:51:05.200667Z",
     "shell.execute_reply": "2025-05-10T16:51:05.199854Z",
     "shell.execute_reply.started": "2025-05-10T16:33:11.531963Z"
    }
   },
   "outputs": [
    {
     "name": "stdout",
     "output_type": "stream",
     "text": [
      "Ultralytics 8.3.130 🚀 Python-3.11.7 torch-2.1.1+cu121 CUDA:0 (NVIDIA RTX A4000, 16102MiB)\n",
      "\u001b[34m\u001b[1mengine/trainer: \u001b[0magnostic_nms=False, amp=True, augment=False, auto_augment=randaugment, batch=-1, bgr=0.0, box=7.5, cache=False, cfg=None, classes=None, close_mosaic=10, cls=0.5, conf=None, copy_paste=0.0, copy_paste_mode=flip, cos_lr=False, cutmix=0.0, data=/notebooks/DL---detection-of-birds-in-drone-images/data/tiled_augmented_2_yolo_data/data.yaml, degrees=0.0, deterministic=True, device=None, dfl=1.5, dnn=False, dropout=0.0, dynamic=False, embed=None, epochs=10, erasing=0.4, exist_ok=False, fliplr=0.5, flipud=0.0, format=torchscript, fraction=1.0, freeze=10, half=False, hsv_h=0.015, hsv_s=0.7, hsv_v=0.4, imgsz=1280, int8=False, iou=0.7, keras=False, kobj=1.0, line_width=None, lr0=0.01, lrf=0.01, mask_ratio=4, max_det=300, mixup=0.0, mode=train, model=yolo11m.pt, momentum=0.937, mosaic=1.0, multi_scale=False, name=run_model_default_params_10epochs, nbs=64, nms=False, opset=None, optimize=False, optimizer=auto, overlap_mask=True, patience=12, perspective=0.0, plots=True, pose=12.0, pretrained=True, profile=False, project=grid_search_yolo_v2_1280, rect=False, resume=False, retina_masks=False, save=True, save_conf=False, save_crop=False, save_dir=grid_search_yolo_v2_1280/run_model_default_params_10epochs, save_frames=False, save_json=False, save_period=-1, save_txt=False, scale=0.5, seed=42, shear=0.0, show=False, show_boxes=True, show_conf=True, show_labels=True, simplify=True, single_cls=False, source=None, split=val, stream_buffer=False, task=detect, time=None, tracker=botsort.yaml, translate=0.1, val=True, verbose=True, vid_stride=1, visualize=False, warmup_bias_lr=0.1, warmup_epochs=3.0, warmup_momentum=0.8, weight_decay=0.0005, workers=8, workspace=None\n",
      "Overriding model.yaml nc=80 with nc=1\n",
      "\n",
      "                   from  n    params  module                                       arguments                     \n",
      "  0                  -1  1      1856  ultralytics.nn.modules.conv.Conv             [3, 64, 3, 2]                 \n",
      "  1                  -1  1     73984  ultralytics.nn.modules.conv.Conv             [64, 128, 3, 2]               \n",
      "  2                  -1  1    111872  ultralytics.nn.modules.block.C3k2            [128, 256, 1, True, 0.25]     \n",
      "  3                  -1  1    590336  ultralytics.nn.modules.conv.Conv             [256, 256, 3, 2]              \n",
      "  4                  -1  1    444928  ultralytics.nn.modules.block.C3k2            [256, 512, 1, True, 0.25]     \n",
      "  5                  -1  1   2360320  ultralytics.nn.modules.conv.Conv             [512, 512, 3, 2]              \n",
      "  6                  -1  1   1380352  ultralytics.nn.modules.block.C3k2            [512, 512, 1, True]           \n",
      "  7                  -1  1   2360320  ultralytics.nn.modules.conv.Conv             [512, 512, 3, 2]              \n",
      "  8                  -1  1   1380352  ultralytics.nn.modules.block.C3k2            [512, 512, 1, True]           \n",
      "  9                  -1  1    656896  ultralytics.nn.modules.block.SPPF            [512, 512, 5]                 \n",
      " 10                  -1  1    990976  ultralytics.nn.modules.block.C2PSA           [512, 512, 1]                 \n",
      " 11                  -1  1         0  torch.nn.modules.upsampling.Upsample         [None, 2, 'nearest']          \n",
      " 12             [-1, 6]  1         0  ultralytics.nn.modules.conv.Concat           [1]                           \n",
      " 13                  -1  1   1642496  ultralytics.nn.modules.block.C3k2            [1024, 512, 1, True]          \n",
      " 14                  -1  1         0  torch.nn.modules.upsampling.Upsample         [None, 2, 'nearest']          \n",
      " 15             [-1, 4]  1         0  ultralytics.nn.modules.conv.Concat           [1]                           \n",
      " 16                  -1  1    542720  ultralytics.nn.modules.block.C3k2            [1024, 256, 1, True]          \n",
      " 17                  -1  1    590336  ultralytics.nn.modules.conv.Conv             [256, 256, 3, 2]              \n",
      " 18            [-1, 13]  1         0  ultralytics.nn.modules.conv.Concat           [1]                           \n",
      " 19                  -1  1   1511424  ultralytics.nn.modules.block.C3k2            [768, 512, 1, True]           \n",
      " 20                  -1  1   2360320  ultralytics.nn.modules.conv.Conv             [512, 512, 3, 2]              \n",
      " 21            [-1, 10]  1         0  ultralytics.nn.modules.conv.Concat           [1]                           \n",
      " 22                  -1  1   1642496  ultralytics.nn.modules.block.C3k2            [1024, 512, 1, True]          \n",
      " 23        [16, 19, 22]  1   1411795  ultralytics.nn.modules.head.Detect           [1, [256, 512, 512]]          \n",
      "YOLO11m summary: 231 layers, 20,053,779 parameters, 20,053,763 gradients, 68.2 GFLOPs\n",
      "\n",
      "Transferred 643/649 items from pretrained weights\n",
      "Freezing layer 'model.0.conv.weight'\n",
      "Freezing layer 'model.0.bn.weight'\n",
      "Freezing layer 'model.0.bn.bias'\n",
      "Freezing layer 'model.1.conv.weight'\n",
      "Freezing layer 'model.1.bn.weight'\n",
      "Freezing layer 'model.1.bn.bias'\n",
      "Freezing layer 'model.2.cv1.conv.weight'\n",
      "Freezing layer 'model.2.cv1.bn.weight'\n",
      "Freezing layer 'model.2.cv1.bn.bias'\n",
      "Freezing layer 'model.2.cv2.conv.weight'\n",
      "Freezing layer 'model.2.cv2.bn.weight'\n",
      "Freezing layer 'model.2.cv2.bn.bias'\n",
      "Freezing layer 'model.2.m.0.cv1.conv.weight'\n",
      "Freezing layer 'model.2.m.0.cv1.bn.weight'\n",
      "Freezing layer 'model.2.m.0.cv1.bn.bias'\n",
      "Freezing layer 'model.2.m.0.cv2.conv.weight'\n",
      "Freezing layer 'model.2.m.0.cv2.bn.weight'\n",
      "Freezing layer 'model.2.m.0.cv2.bn.bias'\n",
      "Freezing layer 'model.2.m.0.cv3.conv.weight'\n",
      "Freezing layer 'model.2.m.0.cv3.bn.weight'\n",
      "Freezing layer 'model.2.m.0.cv3.bn.bias'\n",
      "Freezing layer 'model.2.m.0.m.0.cv1.conv.weight'\n",
      "Freezing layer 'model.2.m.0.m.0.cv1.bn.weight'\n",
      "Freezing layer 'model.2.m.0.m.0.cv1.bn.bias'\n",
      "Freezing layer 'model.2.m.0.m.0.cv2.conv.weight'\n",
      "Freezing layer 'model.2.m.0.m.0.cv2.bn.weight'\n",
      "Freezing layer 'model.2.m.0.m.0.cv2.bn.bias'\n",
      "Freezing layer 'model.2.m.0.m.1.cv1.conv.weight'\n",
      "Freezing layer 'model.2.m.0.m.1.cv1.bn.weight'\n",
      "Freezing layer 'model.2.m.0.m.1.cv1.bn.bias'\n",
      "Freezing layer 'model.2.m.0.m.1.cv2.conv.weight'\n",
      "Freezing layer 'model.2.m.0.m.1.cv2.bn.weight'\n",
      "Freezing layer 'model.2.m.0.m.1.cv2.bn.bias'\n",
      "Freezing layer 'model.3.conv.weight'\n",
      "Freezing layer 'model.3.bn.weight'\n",
      "Freezing layer 'model.3.bn.bias'\n",
      "Freezing layer 'model.4.cv1.conv.weight'\n",
      "Freezing layer 'model.4.cv1.bn.weight'\n",
      "Freezing layer 'model.4.cv1.bn.bias'\n",
      "Freezing layer 'model.4.cv2.conv.weight'\n",
      "Freezing layer 'model.4.cv2.bn.weight'\n",
      "Freezing layer 'model.4.cv2.bn.bias'\n",
      "Freezing layer 'model.4.m.0.cv1.conv.weight'\n",
      "Freezing layer 'model.4.m.0.cv1.bn.weight'\n",
      "Freezing layer 'model.4.m.0.cv1.bn.bias'\n",
      "Freezing layer 'model.4.m.0.cv2.conv.weight'\n",
      "Freezing layer 'model.4.m.0.cv2.bn.weight'\n",
      "Freezing layer 'model.4.m.0.cv2.bn.bias'\n",
      "Freezing layer 'model.4.m.0.cv3.conv.weight'\n",
      "Freezing layer 'model.4.m.0.cv3.bn.weight'\n",
      "Freezing layer 'model.4.m.0.cv3.bn.bias'\n",
      "Freezing layer 'model.4.m.0.m.0.cv1.conv.weight'\n",
      "Freezing layer 'model.4.m.0.m.0.cv1.bn.weight'\n",
      "Freezing layer 'model.4.m.0.m.0.cv1.bn.bias'\n",
      "Freezing layer 'model.4.m.0.m.0.cv2.conv.weight'\n",
      "Freezing layer 'model.4.m.0.m.0.cv2.bn.weight'\n",
      "Freezing layer 'model.4.m.0.m.0.cv2.bn.bias'\n",
      "Freezing layer 'model.4.m.0.m.1.cv1.conv.weight'\n",
      "Freezing layer 'model.4.m.0.m.1.cv1.bn.weight'\n",
      "Freezing layer 'model.4.m.0.m.1.cv1.bn.bias'\n",
      "Freezing layer 'model.4.m.0.m.1.cv2.conv.weight'\n",
      "Freezing layer 'model.4.m.0.m.1.cv2.bn.weight'\n",
      "Freezing layer 'model.4.m.0.m.1.cv2.bn.bias'\n",
      "Freezing layer 'model.5.conv.weight'\n",
      "Freezing layer 'model.5.bn.weight'\n",
      "Freezing layer 'model.5.bn.bias'\n",
      "Freezing layer 'model.6.cv1.conv.weight'\n",
      "Freezing layer 'model.6.cv1.bn.weight'\n",
      "Freezing layer 'model.6.cv1.bn.bias'\n",
      "Freezing layer 'model.6.cv2.conv.weight'\n",
      "Freezing layer 'model.6.cv2.bn.weight'\n",
      "Freezing layer 'model.6.cv2.bn.bias'\n",
      "Freezing layer 'model.6.m.0.cv1.conv.weight'\n",
      "Freezing layer 'model.6.m.0.cv1.bn.weight'\n",
      "Freezing layer 'model.6.m.0.cv1.bn.bias'\n",
      "Freezing layer 'model.6.m.0.cv2.conv.weight'\n",
      "Freezing layer 'model.6.m.0.cv2.bn.weight'\n",
      "Freezing layer 'model.6.m.0.cv2.bn.bias'\n",
      "Freezing layer 'model.6.m.0.cv3.conv.weight'\n",
      "Freezing layer 'model.6.m.0.cv3.bn.weight'\n",
      "Freezing layer 'model.6.m.0.cv3.bn.bias'\n",
      "Freezing layer 'model.6.m.0.m.0.cv1.conv.weight'\n",
      "Freezing layer 'model.6.m.0.m.0.cv1.bn.weight'\n",
      "Freezing layer 'model.6.m.0.m.0.cv1.bn.bias'\n",
      "Freezing layer 'model.6.m.0.m.0.cv2.conv.weight'\n",
      "Freezing layer 'model.6.m.0.m.0.cv2.bn.weight'\n",
      "Freezing layer 'model.6.m.0.m.0.cv2.bn.bias'\n",
      "Freezing layer 'model.6.m.0.m.1.cv1.conv.weight'\n",
      "Freezing layer 'model.6.m.0.m.1.cv1.bn.weight'\n",
      "Freezing layer 'model.6.m.0.m.1.cv1.bn.bias'\n",
      "Freezing layer 'model.6.m.0.m.1.cv2.conv.weight'\n",
      "Freezing layer 'model.6.m.0.m.1.cv2.bn.weight'\n",
      "Freezing layer 'model.6.m.0.m.1.cv2.bn.bias'\n",
      "Freezing layer 'model.7.conv.weight'\n",
      "Freezing layer 'model.7.bn.weight'\n",
      "Freezing layer 'model.7.bn.bias'\n",
      "Freezing layer 'model.8.cv1.conv.weight'\n",
      "Freezing layer 'model.8.cv1.bn.weight'\n",
      "Freezing layer 'model.8.cv1.bn.bias'\n",
      "Freezing layer 'model.8.cv2.conv.weight'\n",
      "Freezing layer 'model.8.cv2.bn.weight'\n",
      "Freezing layer 'model.8.cv2.bn.bias'\n",
      "Freezing layer 'model.8.m.0.cv1.conv.weight'\n",
      "Freezing layer 'model.8.m.0.cv1.bn.weight'\n",
      "Freezing layer 'model.8.m.0.cv1.bn.bias'\n",
      "Freezing layer 'model.8.m.0.cv2.conv.weight'\n",
      "Freezing layer 'model.8.m.0.cv2.bn.weight'\n",
      "Freezing layer 'model.8.m.0.cv2.bn.bias'\n",
      "Freezing layer 'model.8.m.0.cv3.conv.weight'\n",
      "Freezing layer 'model.8.m.0.cv3.bn.weight'\n",
      "Freezing layer 'model.8.m.0.cv3.bn.bias'\n",
      "Freezing layer 'model.8.m.0.m.0.cv1.conv.weight'\n",
      "Freezing layer 'model.8.m.0.m.0.cv1.bn.weight'\n",
      "Freezing layer 'model.8.m.0.m.0.cv1.bn.bias'\n",
      "Freezing layer 'model.8.m.0.m.0.cv2.conv.weight'\n",
      "Freezing layer 'model.8.m.0.m.0.cv2.bn.weight'\n",
      "Freezing layer 'model.8.m.0.m.0.cv2.bn.bias'\n",
      "Freezing layer 'model.8.m.0.m.1.cv1.conv.weight'\n",
      "Freezing layer 'model.8.m.0.m.1.cv1.bn.weight'\n",
      "Freezing layer 'model.8.m.0.m.1.cv1.bn.bias'\n",
      "Freezing layer 'model.8.m.0.m.1.cv2.conv.weight'\n",
      "Freezing layer 'model.8.m.0.m.1.cv2.bn.weight'\n",
      "Freezing layer 'model.8.m.0.m.1.cv2.bn.bias'\n",
      "Freezing layer 'model.9.cv1.conv.weight'\n",
      "Freezing layer 'model.9.cv1.bn.weight'\n",
      "Freezing layer 'model.9.cv1.bn.bias'\n",
      "Freezing layer 'model.9.cv2.conv.weight'\n",
      "Freezing layer 'model.9.cv2.bn.weight'\n",
      "Freezing layer 'model.9.cv2.bn.bias'\n",
      "Freezing layer 'model.23.dfl.conv.weight'\n",
      "\u001b[34m\u001b[1mAMP: \u001b[0mrunning Automatic Mixed Precision (AMP) checks...\n",
      "\u001b[34m\u001b[1mAMP: \u001b[0mchecks passed ✅\n",
      "\u001b[34m\u001b[1mtrain: \u001b[0mFast image access ✅ (ping: 0.0±0.0 ms, read: 4722.1±757.8 MB/s, size: 2306.7 KB)\n"
     ]
    },
    {
     "name": "stderr",
     "output_type": "stream",
     "text": [
      "\u001b[34m\u001b[1mtrain: \u001b[0mScanning /notebooks/DL---detection-of-birds-in-drone-images/data/tiled_augmented_2_yolo_data/train/labels.cache... 1496 images, 1033 backgrounds, 0 corrupt: 100%|██████████| 1496/1496 [00:00<?, ?it/s]"
     ]
    },
    {
     "name": "stdout",
     "output_type": "stream",
     "text": [
      "\u001b[34m\u001b[1mAutoBatch: \u001b[0mComputing optimal batch size for imgsz=1280 at 60.0% CUDA memory utilization.\n",
      "\u001b[34m\u001b[1mAutoBatch: \u001b[0mCUDA:0 (NVIDIA RTX A4000) 15.72G total, 1.12G reserved, 0.42G allocated, 14.18G free\n"
     ]
    },
    {
     "name": "stderr",
     "output_type": "stream",
     "text": [
      "\n"
     ]
    },
    {
     "name": "stdout",
     "output_type": "stream",
     "text": [
      "      Params      GFLOPs  GPU_mem (GB)  forward (ms) backward (ms)                   input                  output\n",
      "    20053779       272.8         3.142         31.05         20.37      (1, 3, 1280, 1280)                    list\n",
      "    20053779       545.5         4.446         47.11         96.55      (2, 3, 1280, 1280)                    list\n",
      "    20053779        1091         6.140          90.2         98.54      (4, 3, 1280, 1280)                    list\n",
      "    20053779        2182         9.915         184.9         140.8      (8, 3, 1280, 1280)                    list\n",
      "    20053779        4364        18.438         361.6         252.1     (16, 3, 1280, 1280)                    list\n",
      "\u001b[34m\u001b[1mAutoBatch: \u001b[0mUsing batch-size 7 for CUDA:0 10.53G/15.72G (67%) ✅\n",
      "\u001b[34m\u001b[1mtrain: \u001b[0mFast image access ✅ (ping: 0.0±0.0 ms, read: 4114.6±325.1 MB/s, size: 2584.3 KB)\n"
     ]
    },
    {
     "name": "stderr",
     "output_type": "stream",
     "text": [
      "\u001b[34m\u001b[1mtrain: \u001b[0mScanning /notebooks/DL---detection-of-birds-in-drone-images/data/tiled_augmented_2_yolo_data/train/labels.cache... 1496 images, 1033 backgrounds, 0 corrupt: 100%|██████████| 1496/1496 [00:00<?, ?it/s]\n"
     ]
    },
    {
     "name": "stdout",
     "output_type": "stream",
     "text": [
      "\u001b[34m\u001b[1mval: \u001b[0mFast image access ✅ (ping: 0.0±0.0 ms, read: 2446.2±1307.2 MB/s, size: 2841.7 KB)\n"
     ]
    },
    {
     "name": "stderr",
     "output_type": "stream",
     "text": [
      "\u001b[34m\u001b[1mval: \u001b[0mScanning /notebooks/DL---detection-of-birds-in-drone-images/data/tiled_augmented_2_yolo_data/valid/labels.cache... 178 images, 129 backgrounds, 0 corrupt: 100%|██████████| 178/178 [00:00<?, ?it/s]"
     ]
    },
    {
     "name": "stdout",
     "output_type": "stream",
     "text": [
      "\u001b[34m\u001b[1mval: \u001b[0m/notebooks/DL---detection-of-birds-in-drone-images/data/tiled_augmented_2_yolo_data/valid/images/DJI_0319_tile-0.png: 1 duplicate labels removed\n"
     ]
    },
    {
     "name": "stderr",
     "output_type": "stream",
     "text": [
      "\n"
     ]
    },
    {
     "name": "stdout",
     "output_type": "stream",
     "text": [
      "Plotting labels to grid_search_yolo_v2_1280/run_model_default_params_10epochs/labels.jpg... \n",
      "\u001b[34m\u001b[1moptimizer:\u001b[0m 'optimizer=auto' found, ignoring 'lr0=0.01' and 'momentum=0.937' and determining best 'optimizer', 'lr0' and 'momentum' automatically... \n",
      "\u001b[34m\u001b[1moptimizer:\u001b[0m AdamW(lr=0.002, momentum=0.9) with parameter groups 106 weight(decay=0.0), 113 weight(decay=0.0004921875), 112 bias(decay=0.0)\n",
      "Image sizes 1280 train, 1280 val\n",
      "Using 8 dataloader workers\n",
      "Logging results to \u001b[1mgrid_search_yolo_v2_1280/run_model_default_params_10epochs\u001b[0m\n",
      "Starting training for 10 epochs...\n",
      "Closing dataloader mosaic\n",
      "\n",
      "      Epoch    GPU_mem   box_loss   cls_loss   dfl_loss  Instances       Size\n"
     ]
    },
    {
     "name": "stderr",
     "output_type": "stream",
     "text": [
      "       1/10      6.53G      2.046      7.634      1.316          0       1280: 100%|██████████| 214/214 [01:21<00:00,  2.64it/s]\n",
      "                 Class     Images  Instances      Box(P          R      mAP50  mAP50-95): 100%|██████████| 13/13 [00:04<00:00,  2.99it/s]"
     ]
    },
    {
     "name": "stdout",
     "output_type": "stream",
     "text": [
      "                   all        178        206      0.489      0.376      0.375      0.156\n"
     ]
    },
    {
     "name": "stderr",
     "output_type": "stream",
     "text": [
      "\n"
     ]
    },
    {
     "name": "stdout",
     "output_type": "stream",
     "text": [
      "\n",
      "      Epoch    GPU_mem   box_loss   cls_loss   dfl_loss  Instances       Size\n"
     ]
    },
    {
     "name": "stderr",
     "output_type": "stream",
     "text": [
      "       2/10      6.54G       2.14      2.147      1.416          0       1280: 100%|██████████| 214/214 [01:08<00:00,  3.12it/s]\n",
      "                 Class     Images  Instances      Box(P          R      mAP50  mAP50-95): 100%|██████████| 13/13 [00:04<00:00,  3.22it/s]"
     ]
    },
    {
     "name": "stdout",
     "output_type": "stream",
     "text": [
      "                   all        178        206      0.425      0.417      0.378      0.158\n"
     ]
    },
    {
     "name": "stderr",
     "output_type": "stream",
     "text": [
      "\n"
     ]
    },
    {
     "name": "stdout",
     "output_type": "stream",
     "text": [
      "\n",
      "      Epoch    GPU_mem   box_loss   cls_loss   dfl_loss  Instances       Size\n"
     ]
    },
    {
     "name": "stderr",
     "output_type": "stream",
     "text": [
      "       3/10      6.54G      2.009      1.921      1.328          2       1280: 100%|██████████| 214/214 [01:07<00:00,  3.16it/s]\n",
      "                 Class     Images  Instances      Box(P          R      mAP50  mAP50-95): 100%|██████████| 13/13 [00:03<00:00,  3.26it/s]"
     ]
    },
    {
     "name": "stdout",
     "output_type": "stream",
     "text": [
      "                   all        178        206      0.388       0.49      0.388      0.164\n"
     ]
    },
    {
     "name": "stderr",
     "output_type": "stream",
     "text": [
      "\n"
     ]
    },
    {
     "name": "stdout",
     "output_type": "stream",
     "text": [
      "\n",
      "      Epoch    GPU_mem   box_loss   cls_loss   dfl_loss  Instances       Size\n"
     ]
    },
    {
     "name": "stderr",
     "output_type": "stream",
     "text": [
      "       4/10      6.55G      1.987      1.617      1.335          7       1280: 100%|██████████| 214/214 [01:05<00:00,  3.26it/s]\n",
      "                 Class     Images  Instances      Box(P          R      mAP50  mAP50-95): 100%|██████████| 13/13 [00:03<00:00,  3.31it/s]"
     ]
    },
    {
     "name": "stdout",
     "output_type": "stream",
     "text": [
      "                   all        178        206      0.466      0.505      0.461      0.208\n"
     ]
    },
    {
     "name": "stderr",
     "output_type": "stream",
     "text": [
      "\n"
     ]
    },
    {
     "name": "stdout",
     "output_type": "stream",
     "text": [
      "\n",
      "      Epoch    GPU_mem   box_loss   cls_loss   dfl_loss  Instances       Size\n"
     ]
    },
    {
     "name": "stderr",
     "output_type": "stream",
     "text": [
      "       5/10      6.56G      1.982      1.468      1.318          1       1280: 100%|██████████| 214/214 [01:05<00:00,  3.25it/s]\n",
      "                 Class     Images  Instances      Box(P          R      mAP50  mAP50-95): 100%|██████████| 13/13 [00:04<00:00,  3.23it/s]"
     ]
    },
    {
     "name": "stdout",
     "output_type": "stream",
     "text": [
      "                   all        178        206      0.596      0.563      0.531      0.227\n"
     ]
    },
    {
     "name": "stderr",
     "output_type": "stream",
     "text": [
      "\n"
     ]
    },
    {
     "name": "stdout",
     "output_type": "stream",
     "text": [
      "\n",
      "      Epoch    GPU_mem   box_loss   cls_loss   dfl_loss  Instances       Size\n"
     ]
    },
    {
     "name": "stderr",
     "output_type": "stream",
     "text": [
      "       6/10      6.55G       1.88      1.397      1.313          0       1280: 100%|██████████| 214/214 [01:05<00:00,  3.27it/s]\n",
      "                 Class     Images  Instances      Box(P          R      mAP50  mAP50-95): 100%|██████████| 13/13 [00:04<00:00,  3.23it/s]"
     ]
    },
    {
     "name": "stdout",
     "output_type": "stream",
     "text": [
      "                   all        178        206      0.642      0.515      0.516      0.203\n"
     ]
    },
    {
     "name": "stderr",
     "output_type": "stream",
     "text": [
      "\n"
     ]
    },
    {
     "name": "stdout",
     "output_type": "stream",
     "text": [
      "\n",
      "      Epoch    GPU_mem   box_loss   cls_loss   dfl_loss  Instances       Size\n"
     ]
    },
    {
     "name": "stderr",
     "output_type": "stream",
     "text": [
      "       7/10      6.55G      1.759      1.535      1.238          4       1280: 100%|██████████| 214/214 [01:03<00:00,  3.39it/s]\n",
      "                 Class     Images  Instances      Box(P          R      mAP50  mAP50-95): 100%|██████████| 13/13 [00:03<00:00,  3.57it/s]"
     ]
    },
    {
     "name": "stdout",
     "output_type": "stream",
     "text": [
      "                   all        178        206       0.67      0.602      0.573      0.253\n"
     ]
    },
    {
     "name": "stderr",
     "output_type": "stream",
     "text": [
      "\n"
     ]
    },
    {
     "name": "stdout",
     "output_type": "stream",
     "text": [
      "\n",
      "      Epoch    GPU_mem   box_loss   cls_loss   dfl_loss  Instances       Size\n"
     ]
    },
    {
     "name": "stderr",
     "output_type": "stream",
     "text": [
      "       8/10      6.55G      1.752      1.233      1.199          2       1280: 100%|██████████| 214/214 [01:05<00:00,  3.25it/s]\n",
      "                 Class     Images  Instances      Box(P          R      mAP50  mAP50-95): 100%|██████████| 13/13 [00:03<00:00,  3.27it/s]"
     ]
    },
    {
     "name": "stdout",
     "output_type": "stream",
     "text": [
      "                   all        178        206      0.596        0.5      0.569      0.263\n"
     ]
    },
    {
     "name": "stderr",
     "output_type": "stream",
     "text": [
      "\n"
     ]
    },
    {
     "name": "stdout",
     "output_type": "stream",
     "text": [
      "\n",
      "      Epoch    GPU_mem   box_loss   cls_loss   dfl_loss  Instances       Size\n"
     ]
    },
    {
     "name": "stderr",
     "output_type": "stream",
     "text": [
      "       9/10      6.55G      1.678      1.174      1.177          2       1280: 100%|██████████| 214/214 [01:06<00:00,  3.23it/s]\n",
      "                 Class     Images  Instances      Box(P          R      mAP50  mAP50-95): 100%|██████████| 13/13 [00:04<00:00,  3.24it/s]"
     ]
    },
    {
     "name": "stdout",
     "output_type": "stream",
     "text": [
      "                   all        178        206      0.654      0.633      0.637      0.287\n"
     ]
    },
    {
     "name": "stderr",
     "output_type": "stream",
     "text": [
      "\n"
     ]
    },
    {
     "name": "stdout",
     "output_type": "stream",
     "text": [
      "\n",
      "      Epoch    GPU_mem   box_loss   cls_loss   dfl_loss  Instances       Size\n"
     ]
    },
    {
     "name": "stderr",
     "output_type": "stream",
     "text": [
      "      10/10      6.53G      1.592      1.183       1.11          4       1280: 100%|██████████| 214/214 [01:02<00:00,  3.42it/s]\n",
      "                 Class     Images  Instances      Box(P          R      mAP50  mAP50-95): 100%|██████████| 13/13 [00:03<00:00,  3.56it/s]"
     ]
    },
    {
     "name": "stdout",
     "output_type": "stream",
     "text": [
      "                   all        178        206      0.681      0.621      0.648      0.311\n"
     ]
    },
    {
     "name": "stderr",
     "output_type": "stream",
     "text": [
      "\n"
     ]
    },
    {
     "name": "stdout",
     "output_type": "stream",
     "text": [
      "\n",
      "10 epochs completed in 0.202 hours.\n",
      "Optimizer stripped from grid_search_yolo_v2_1280/run_model_default_params_10epochs/weights/last.pt, 40.6MB\n",
      "Optimizer stripped from grid_search_yolo_v2_1280/run_model_default_params_10epochs/weights/best.pt, 40.6MB\n",
      "\n",
      "Validating grid_search_yolo_v2_1280/run_model_default_params_10epochs/weights/best.pt...\n",
      "Ultralytics 8.3.130 🚀 Python-3.11.7 torch-2.1.1+cu121 CUDA:0 (NVIDIA RTX A4000, 16102MiB)\n",
      "YOLO11m summary (fused): 125 layers, 20,030,803 parameters, 0 gradients, 67.6 GFLOPs\n"
     ]
    },
    {
     "name": "stderr",
     "output_type": "stream",
     "text": [
      "                 Class     Images  Instances      Box(P          R      mAP50  mAP50-95): 100%|██████████| 13/13 [00:12<00:00,  1.05it/s]\n"
     ]
    },
    {
     "name": "stdout",
     "output_type": "stream",
     "text": [
      "                   all        178        206      0.681      0.617      0.647      0.311\n",
      "Speed: 0.4ms preprocess, 60.0ms inference, 0.0ms loss, 2.3ms postprocess per image\n",
      "Results saved to \u001b[1mgrid_search_yolo_v2_1280/run_model_default_params_10epochs\u001b[0m\n",
      "Ultralytics 8.3.130 🚀 Python-3.11.7 torch-2.1.1+cu121 CUDA:0 (NVIDIA RTX A4000, 16102MiB)\n",
      "YOLO11m summary (fused): 125 layers, 20,030,803 parameters, 0 gradients, 67.6 GFLOPs\n",
      "\u001b[34m\u001b[1mval: \u001b[0mFast image access ✅ (ping: 0.0±0.0 ms, read: 1764.3±115.0 MB/s, size: 2768.3 KB)\n"
     ]
    },
    {
     "name": "stderr",
     "output_type": "stream",
     "text": [
      "\u001b[34m\u001b[1mval: \u001b[0mScanning /notebooks/DL---detection-of-birds-in-drone-images/data/tiled_augmented_2_yolo_data/valid/labels.cache... 178 images, 129 backgrounds, 0 corrupt: 100%|██████████| 178/178 [00:00<?, ?it/s]"
     ]
    },
    {
     "name": "stdout",
     "output_type": "stream",
     "text": [
      "\u001b[34m\u001b[1mval: \u001b[0m/notebooks/DL---detection-of-birds-in-drone-images/data/tiled_augmented_2_yolo_data/valid/images/DJI_0319_tile-0.png: 1 duplicate labels removed\n"
     ]
    },
    {
     "name": "stderr",
     "output_type": "stream",
     "text": [
      "\n",
      "                 Class     Images  Instances      Box(P          R      mAP50  mAP50-95): 100%|██████████| 26/26 [00:06<00:00,  3.93it/s]\n"
     ]
    },
    {
     "name": "stdout",
     "output_type": "stream",
     "text": [
      "                   all        178        206      0.697      0.621      0.651      0.314\n",
      "Speed: 1.5ms preprocess, 32.0ms inference, 0.0ms loss, 0.9ms postprocess per image\n",
      "Results saved to \u001b[1mgrid_search_yolo_v2_1280/run_model_default_params_10epochs2\u001b[0m\n",
      "Ultralytics 8.3.130 🚀 Python-3.11.7 torch-2.1.1+cu121 CUDA:0 (NVIDIA RTX A4000, 16102MiB)\n",
      "\u001b[34m\u001b[1mengine/trainer: \u001b[0magnostic_nms=False, amp=True, augment=False, auto_augment=randaugment, batch=-1, bgr=0.0, box=7.5, cache=False, cfg=None, classes=None, close_mosaic=10, cls=0.5, conf=None, copy_paste=0.0, copy_paste_mode=flip, cos_lr=False, cutmix=0.0, data=/notebooks/DL---detection-of-birds-in-drone-images/data/tiled_augmented_2_yolo_data/data.yaml, degrees=0.0, deterministic=True, device=None, dfl=1.5, dnn=False, dropout=0.0, dynamic=False, embed=None, epochs=10, erasing=0.4, exist_ok=False, fliplr=0.5, flipud=0.0, format=torchscript, fraction=1.0, freeze=10, half=False, hsv_h=0.015, hsv_s=0.7, hsv_v=0.4, imgsz=640, int8=False, iou=0.7, keras=False, kobj=1.0, line_width=None, lr0=0.01, lrf=0.01, mask_ratio=4, max_det=300, mixup=0.0, mode=train, model=yolo11m.pt, momentum=0.937, mosaic=1.0, multi_scale=False, name=run_model_default_params_10epochs, nbs=64, nms=False, opset=None, optimize=False, optimizer=auto, overlap_mask=True, patience=12, perspective=0.0, plots=True, pose=12.0, pretrained=True, profile=False, project=grid_search_yolo_v2, rect=False, resume=False, retina_masks=False, save=True, save_conf=False, save_crop=False, save_dir=grid_search_yolo_v2/run_model_default_params_10epochs, save_frames=False, save_json=False, save_period=-1, save_txt=False, scale=0.5, seed=42, shear=0.0, show=False, show_boxes=True, show_conf=True, show_labels=True, simplify=True, single_cls=False, source=None, split=val, stream_buffer=False, task=detect, time=None, tracker=botsort.yaml, translate=0.1, val=True, verbose=True, vid_stride=1, visualize=False, warmup_bias_lr=0.1, warmup_epochs=3.0, warmup_momentum=0.8, weight_decay=0.0005, workers=8, workspace=None\n",
      "Overriding model.yaml nc=80 with nc=1\n",
      "\n",
      "                   from  n    params  module                                       arguments                     \n",
      "  0                  -1  1      1856  ultralytics.nn.modules.conv.Conv             [3, 64, 3, 2]                 \n",
      "  1                  -1  1     73984  ultralytics.nn.modules.conv.Conv             [64, 128, 3, 2]               \n",
      "  2                  -1  1    111872  ultralytics.nn.modules.block.C3k2            [128, 256, 1, True, 0.25]     \n",
      "  3                  -1  1    590336  ultralytics.nn.modules.conv.Conv             [256, 256, 3, 2]              \n",
      "  4                  -1  1    444928  ultralytics.nn.modules.block.C3k2            [256, 512, 1, True, 0.25]     \n",
      "  5                  -1  1   2360320  ultralytics.nn.modules.conv.Conv             [512, 512, 3, 2]              \n",
      "  6                  -1  1   1380352  ultralytics.nn.modules.block.C3k2            [512, 512, 1, True]           \n",
      "  7                  -1  1   2360320  ultralytics.nn.modules.conv.Conv             [512, 512, 3, 2]              \n",
      "  8                  -1  1   1380352  ultralytics.nn.modules.block.C3k2            [512, 512, 1, True]           \n",
      "  9                  -1  1    656896  ultralytics.nn.modules.block.SPPF            [512, 512, 5]                 \n",
      " 10                  -1  1    990976  ultralytics.nn.modules.block.C2PSA           [512, 512, 1]                 \n",
      " 11                  -1  1         0  torch.nn.modules.upsampling.Upsample         [None, 2, 'nearest']          \n",
      " 12             [-1, 6]  1         0  ultralytics.nn.modules.conv.Concat           [1]                           \n",
      " 13                  -1  1   1642496  ultralytics.nn.modules.block.C3k2            [1024, 512, 1, True]          \n",
      " 14                  -1  1         0  torch.nn.modules.upsampling.Upsample         [None, 2, 'nearest']          \n",
      " 15             [-1, 4]  1         0  ultralytics.nn.modules.conv.Concat           [1]                           \n",
      " 16                  -1  1    542720  ultralytics.nn.modules.block.C3k2            [1024, 256, 1, True]          \n",
      " 17                  -1  1    590336  ultralytics.nn.modules.conv.Conv             [256, 256, 3, 2]              \n",
      " 18            [-1, 13]  1         0  ultralytics.nn.modules.conv.Concat           [1]                           \n",
      " 19                  -1  1   1511424  ultralytics.nn.modules.block.C3k2            [768, 512, 1, True]           \n",
      " 20                  -1  1   2360320  ultralytics.nn.modules.conv.Conv             [512, 512, 3, 2]              \n",
      " 21            [-1, 10]  1         0  ultralytics.nn.modules.conv.Concat           [1]                           \n",
      " 22                  -1  1   1642496  ultralytics.nn.modules.block.C3k2            [1024, 512, 1, True]          \n",
      " 23        [16, 19, 22]  1   1411795  ultralytics.nn.modules.head.Detect           [1, [256, 512, 512]]          \n",
      "YOLO11m summary: 231 layers, 20,053,779 parameters, 20,053,763 gradients, 68.2 GFLOPs\n",
      "\n",
      "Transferred 643/649 items from pretrained weights\n",
      "Freezing layer 'model.0.conv.weight'\n",
      "Freezing layer 'model.0.bn.weight'\n",
      "Freezing layer 'model.0.bn.bias'\n",
      "Freezing layer 'model.1.conv.weight'\n",
      "Freezing layer 'model.1.bn.weight'\n",
      "Freezing layer 'model.1.bn.bias'\n",
      "Freezing layer 'model.2.cv1.conv.weight'\n",
      "Freezing layer 'model.2.cv1.bn.weight'\n",
      "Freezing layer 'model.2.cv1.bn.bias'\n",
      "Freezing layer 'model.2.cv2.conv.weight'\n",
      "Freezing layer 'model.2.cv2.bn.weight'\n",
      "Freezing layer 'model.2.cv2.bn.bias'\n",
      "Freezing layer 'model.2.m.0.cv1.conv.weight'\n",
      "Freezing layer 'model.2.m.0.cv1.bn.weight'\n",
      "Freezing layer 'model.2.m.0.cv1.bn.bias'\n",
      "Freezing layer 'model.2.m.0.cv2.conv.weight'\n",
      "Freezing layer 'model.2.m.0.cv2.bn.weight'\n",
      "Freezing layer 'model.2.m.0.cv2.bn.bias'\n",
      "Freezing layer 'model.2.m.0.cv3.conv.weight'\n",
      "Freezing layer 'model.2.m.0.cv3.bn.weight'\n",
      "Freezing layer 'model.2.m.0.cv3.bn.bias'\n",
      "Freezing layer 'model.2.m.0.m.0.cv1.conv.weight'\n",
      "Freezing layer 'model.2.m.0.m.0.cv1.bn.weight'\n",
      "Freezing layer 'model.2.m.0.m.0.cv1.bn.bias'\n",
      "Freezing layer 'model.2.m.0.m.0.cv2.conv.weight'\n",
      "Freezing layer 'model.2.m.0.m.0.cv2.bn.weight'\n",
      "Freezing layer 'model.2.m.0.m.0.cv2.bn.bias'\n",
      "Freezing layer 'model.2.m.0.m.1.cv1.conv.weight'\n",
      "Freezing layer 'model.2.m.0.m.1.cv1.bn.weight'\n",
      "Freezing layer 'model.2.m.0.m.1.cv1.bn.bias'\n",
      "Freezing layer 'model.2.m.0.m.1.cv2.conv.weight'\n",
      "Freezing layer 'model.2.m.0.m.1.cv2.bn.weight'\n",
      "Freezing layer 'model.2.m.0.m.1.cv2.bn.bias'\n",
      "Freezing layer 'model.3.conv.weight'\n",
      "Freezing layer 'model.3.bn.weight'\n",
      "Freezing layer 'model.3.bn.bias'\n",
      "Freezing layer 'model.4.cv1.conv.weight'\n",
      "Freezing layer 'model.4.cv1.bn.weight'\n",
      "Freezing layer 'model.4.cv1.bn.bias'\n",
      "Freezing layer 'model.4.cv2.conv.weight'\n",
      "Freezing layer 'model.4.cv2.bn.weight'\n",
      "Freezing layer 'model.4.cv2.bn.bias'\n",
      "Freezing layer 'model.4.m.0.cv1.conv.weight'\n",
      "Freezing layer 'model.4.m.0.cv1.bn.weight'\n",
      "Freezing layer 'model.4.m.0.cv1.bn.bias'\n",
      "Freezing layer 'model.4.m.0.cv2.conv.weight'\n",
      "Freezing layer 'model.4.m.0.cv2.bn.weight'\n",
      "Freezing layer 'model.4.m.0.cv2.bn.bias'\n",
      "Freezing layer 'model.4.m.0.cv3.conv.weight'\n",
      "Freezing layer 'model.4.m.0.cv3.bn.weight'\n",
      "Freezing layer 'model.4.m.0.cv3.bn.bias'\n",
      "Freezing layer 'model.4.m.0.m.0.cv1.conv.weight'\n",
      "Freezing layer 'model.4.m.0.m.0.cv1.bn.weight'\n",
      "Freezing layer 'model.4.m.0.m.0.cv1.bn.bias'\n",
      "Freezing layer 'model.4.m.0.m.0.cv2.conv.weight'\n",
      "Freezing layer 'model.4.m.0.m.0.cv2.bn.weight'\n",
      "Freezing layer 'model.4.m.0.m.0.cv2.bn.bias'\n",
      "Freezing layer 'model.4.m.0.m.1.cv1.conv.weight'\n",
      "Freezing layer 'model.4.m.0.m.1.cv1.bn.weight'\n",
      "Freezing layer 'model.4.m.0.m.1.cv1.bn.bias'\n",
      "Freezing layer 'model.4.m.0.m.1.cv2.conv.weight'\n",
      "Freezing layer 'model.4.m.0.m.1.cv2.bn.weight'\n",
      "Freezing layer 'model.4.m.0.m.1.cv2.bn.bias'\n",
      "Freezing layer 'model.5.conv.weight'\n",
      "Freezing layer 'model.5.bn.weight'\n",
      "Freezing layer 'model.5.bn.bias'\n",
      "Freezing layer 'model.6.cv1.conv.weight'\n",
      "Freezing layer 'model.6.cv1.bn.weight'\n",
      "Freezing layer 'model.6.cv1.bn.bias'\n",
      "Freezing layer 'model.6.cv2.conv.weight'\n",
      "Freezing layer 'model.6.cv2.bn.weight'\n",
      "Freezing layer 'model.6.cv2.bn.bias'\n",
      "Freezing layer 'model.6.m.0.cv1.conv.weight'\n",
      "Freezing layer 'model.6.m.0.cv1.bn.weight'\n",
      "Freezing layer 'model.6.m.0.cv1.bn.bias'\n",
      "Freezing layer 'model.6.m.0.cv2.conv.weight'\n",
      "Freezing layer 'model.6.m.0.cv2.bn.weight'\n",
      "Freezing layer 'model.6.m.0.cv2.bn.bias'\n",
      "Freezing layer 'model.6.m.0.cv3.conv.weight'\n",
      "Freezing layer 'model.6.m.0.cv3.bn.weight'\n",
      "Freezing layer 'model.6.m.0.cv3.bn.bias'\n",
      "Freezing layer 'model.6.m.0.m.0.cv1.conv.weight'\n",
      "Freezing layer 'model.6.m.0.m.0.cv1.bn.weight'\n",
      "Freezing layer 'model.6.m.0.m.0.cv1.bn.bias'\n",
      "Freezing layer 'model.6.m.0.m.0.cv2.conv.weight'\n",
      "Freezing layer 'model.6.m.0.m.0.cv2.bn.weight'\n",
      "Freezing layer 'model.6.m.0.m.0.cv2.bn.bias'\n",
      "Freezing layer 'model.6.m.0.m.1.cv1.conv.weight'\n",
      "Freezing layer 'model.6.m.0.m.1.cv1.bn.weight'\n",
      "Freezing layer 'model.6.m.0.m.1.cv1.bn.bias'\n",
      "Freezing layer 'model.6.m.0.m.1.cv2.conv.weight'\n",
      "Freezing layer 'model.6.m.0.m.1.cv2.bn.weight'\n",
      "Freezing layer 'model.6.m.0.m.1.cv2.bn.bias'\n",
      "Freezing layer 'model.7.conv.weight'\n",
      "Freezing layer 'model.7.bn.weight'\n",
      "Freezing layer 'model.7.bn.bias'\n",
      "Freezing layer 'model.8.cv1.conv.weight'\n",
      "Freezing layer 'model.8.cv1.bn.weight'\n",
      "Freezing layer 'model.8.cv1.bn.bias'\n",
      "Freezing layer 'model.8.cv2.conv.weight'\n",
      "Freezing layer 'model.8.cv2.bn.weight'\n",
      "Freezing layer 'model.8.cv2.bn.bias'\n",
      "Freezing layer 'model.8.m.0.cv1.conv.weight'\n",
      "Freezing layer 'model.8.m.0.cv1.bn.weight'\n",
      "Freezing layer 'model.8.m.0.cv1.bn.bias'\n",
      "Freezing layer 'model.8.m.0.cv2.conv.weight'\n",
      "Freezing layer 'model.8.m.0.cv2.bn.weight'\n",
      "Freezing layer 'model.8.m.0.cv2.bn.bias'\n",
      "Freezing layer 'model.8.m.0.cv3.conv.weight'\n",
      "Freezing layer 'model.8.m.0.cv3.bn.weight'\n",
      "Freezing layer 'model.8.m.0.cv3.bn.bias'\n",
      "Freezing layer 'model.8.m.0.m.0.cv1.conv.weight'\n",
      "Freezing layer 'model.8.m.0.m.0.cv1.bn.weight'\n",
      "Freezing layer 'model.8.m.0.m.0.cv1.bn.bias'\n",
      "Freezing layer 'model.8.m.0.m.0.cv2.conv.weight'\n",
      "Freezing layer 'model.8.m.0.m.0.cv2.bn.weight'\n",
      "Freezing layer 'model.8.m.0.m.0.cv2.bn.bias'\n",
      "Freezing layer 'model.8.m.0.m.1.cv1.conv.weight'\n",
      "Freezing layer 'model.8.m.0.m.1.cv1.bn.weight'\n",
      "Freezing layer 'model.8.m.0.m.1.cv1.bn.bias'\n",
      "Freezing layer 'model.8.m.0.m.1.cv2.conv.weight'\n",
      "Freezing layer 'model.8.m.0.m.1.cv2.bn.weight'\n",
      "Freezing layer 'model.8.m.0.m.1.cv2.bn.bias'\n",
      "Freezing layer 'model.9.cv1.conv.weight'\n",
      "Freezing layer 'model.9.cv1.bn.weight'\n",
      "Freezing layer 'model.9.cv1.bn.bias'\n",
      "Freezing layer 'model.9.cv2.conv.weight'\n",
      "Freezing layer 'model.9.cv2.bn.weight'\n",
      "Freezing layer 'model.9.cv2.bn.bias'\n",
      "Freezing layer 'model.23.dfl.conv.weight'\n",
      "\u001b[34m\u001b[1mAMP: \u001b[0mrunning Automatic Mixed Precision (AMP) checks...\n",
      "\u001b[34m\u001b[1mAMP: \u001b[0mchecks passed ✅\n",
      "\u001b[34m\u001b[1mtrain: \u001b[0mFast image access ✅ (ping: 0.0±0.0 ms, read: 4284.7±472.9 MB/s, size: 2306.7 KB)\n"
     ]
    },
    {
     "name": "stderr",
     "output_type": "stream",
     "text": [
      "\u001b[34m\u001b[1mtrain: \u001b[0mScanning /notebooks/DL---detection-of-birds-in-drone-images/data/tiled_augmented_2_yolo_data/train/labels.cache... 1496 images, 1033 backgrounds, 0 corrupt: 100%|██████████| 1496/1496 [00:00<?, ?it/s]"
     ]
    },
    {
     "name": "stdout",
     "output_type": "stream",
     "text": [
      "\u001b[34m\u001b[1mAutoBatch: \u001b[0mComputing optimal batch size for imgsz=640 at 60.0% CUDA memory utilization.\n",
      "\u001b[34m\u001b[1mAutoBatch: \u001b[0mCUDA:0 (NVIDIA RTX A4000) 15.72G total, 8.13G reserved, 0.78G allocated, 6.81G free\n",
      "      Params      GFLOPs  GPU_mem (GB)  forward (ms) backward (ms)                   input                  output\n"
     ]
    },
    {
     "name": "stderr",
     "output_type": "stream",
     "text": [
      "\n"
     ]
    },
    {
     "name": "stdout",
     "output_type": "stream",
     "text": [
      "    20053779       68.19         2.848         37.76         20.44        (1, 3, 640, 640)                    list\n",
      "    20053779       136.4         2.879         37.58         22.54        (2, 3, 640, 640)                    list\n",
      "    20053779       272.8         3.154         36.83         23.25        (4, 3, 640, 640)                    list\n",
      "    20053779       545.5         4.165         46.25         34.73        (8, 3, 640, 640)                    list\n",
      "    20053779        1091         6.289         91.48         63.39       (16, 3, 640, 640)                    list\n",
      "\u001b[34m\u001b[1mAutoBatch: \u001b[0mUsing batch-size 6 for CUDA:0 12.73G/15.72G (81%) ✅\n",
      "\u001b[34m\u001b[1mtrain: \u001b[0mFast image access ✅ (ping: 0.0±0.0 ms, read: 3572.5±904.4 MB/s, size: 2584.3 KB)\n"
     ]
    },
    {
     "name": "stderr",
     "output_type": "stream",
     "text": [
      "\u001b[34m\u001b[1mtrain: \u001b[0mScanning /notebooks/DL---detection-of-birds-in-drone-images/data/tiled_augmented_2_yolo_data/train/labels.cache... 1496 images, 1033 backgrounds, 0 corrupt: 100%|██████████| 1496/1496 [00:00<?, ?it/s]\n"
     ]
    },
    {
     "name": "stdout",
     "output_type": "stream",
     "text": [
      "\u001b[34m\u001b[1mval: \u001b[0mFast image access ✅ (ping: 0.0±0.0 ms, read: 2348.4±1120.4 MB/s, size: 2841.7 KB)\n"
     ]
    },
    {
     "name": "stderr",
     "output_type": "stream",
     "text": [
      "\u001b[34m\u001b[1mval: \u001b[0mScanning /notebooks/DL---detection-of-birds-in-drone-images/data/tiled_augmented_2_yolo_data/valid/labels.cache... 178 images, 129 backgrounds, 0 corrupt: 100%|██████████| 178/178 [00:00<?, ?it/s]"
     ]
    },
    {
     "name": "stdout",
     "output_type": "stream",
     "text": [
      "\u001b[34m\u001b[1mval: \u001b[0m/notebooks/DL---detection-of-birds-in-drone-images/data/tiled_augmented_2_yolo_data/valid/images/DJI_0319_tile-0.png: 1 duplicate labels removed\n"
     ]
    },
    {
     "name": "stderr",
     "output_type": "stream",
     "text": [
      "\n"
     ]
    },
    {
     "name": "stdout",
     "output_type": "stream",
     "text": [
      "Plotting labels to grid_search_yolo_v2/run_model_default_params_10epochs/labels.jpg... \n",
      "\u001b[34m\u001b[1moptimizer:\u001b[0m 'optimizer=auto' found, ignoring 'lr0=0.01' and 'momentum=0.937' and determining best 'optimizer', 'lr0' and 'momentum' automatically... \n",
      "\u001b[34m\u001b[1moptimizer:\u001b[0m AdamW(lr=0.002, momentum=0.9) with parameter groups 106 weight(decay=0.0), 113 weight(decay=0.000515625), 112 bias(decay=0.0)\n",
      "Image sizes 640 train, 640 val\n",
      "Using 8 dataloader workers\n",
      "Logging results to \u001b[1mgrid_search_yolo_v2/run_model_default_params_10epochs\u001b[0m\n",
      "Starting training for 10 epochs...\n",
      "Closing dataloader mosaic\n",
      "\n",
      "      Epoch    GPU_mem   box_loss   cls_loss   dfl_loss  Instances       Size\n"
     ]
    },
    {
     "name": "stderr",
     "output_type": "stream",
     "text": [
      "       1/10      2.03G      1.998      4.107     0.9371          0        640: 100%|██████████| 250/250 [00:32<00:00,  7.76it/s]\n",
      "                 Class     Images  Instances      Box(P          R      mAP50  mAP50-95): 100%|██████████| 15/15 [00:02<00:00,  6.64it/s]"
     ]
    },
    {
     "name": "stdout",
     "output_type": "stream",
     "text": [
      "                   all        178        206      0.635      0.337      0.401      0.132\n"
     ]
    },
    {
     "name": "stderr",
     "output_type": "stream",
     "text": [
      "\n"
     ]
    },
    {
     "name": "stdout",
     "output_type": "stream",
     "text": [
      "\n",
      "      Epoch    GPU_mem   box_loss   cls_loss   dfl_loss  Instances       Size\n"
     ]
    },
    {
     "name": "stderr",
     "output_type": "stream",
     "text": [
      "       2/10      2.61G       2.17      1.521     0.9922          0        640: 100%|██████████| 250/250 [00:22<00:00, 11.27it/s]\n",
      "                 Class     Images  Instances      Box(P          R      mAP50  mAP50-95): 100%|██████████| 15/15 [00:01<00:00, 12.42it/s]"
     ]
    },
    {
     "name": "stdout",
     "output_type": "stream",
     "text": [
      "                   all        178        206      0.503       0.34      0.325      0.102\n"
     ]
    },
    {
     "name": "stderr",
     "output_type": "stream",
     "text": [
      "\n"
     ]
    },
    {
     "name": "stdout",
     "output_type": "stream",
     "text": [
      "\n",
      "      Epoch    GPU_mem   box_loss   cls_loss   dfl_loss  Instances       Size\n"
     ]
    },
    {
     "name": "stderr",
     "output_type": "stream",
     "text": [
      "       3/10      2.61G       2.05      1.418      1.007          0        640: 100%|██████████| 250/250 [00:29<00:00,  8.57it/s]\n",
      "                 Class     Images  Instances      Box(P          R      mAP50  mAP50-95): 100%|██████████| 15/15 [00:01<00:00, 11.99it/s]"
     ]
    },
    {
     "name": "stdout",
     "output_type": "stream",
     "text": [
      "                   all        178        206      0.571      0.417      0.439      0.155\n"
     ]
    },
    {
     "name": "stderr",
     "output_type": "stream",
     "text": [
      "\n"
     ]
    },
    {
     "name": "stdout",
     "output_type": "stream",
     "text": [
      "\n",
      "      Epoch    GPU_mem   box_loss   cls_loss   dfl_loss  Instances       Size\n"
     ]
    },
    {
     "name": "stderr",
     "output_type": "stream",
     "text": [
      "       4/10      2.61G      2.116      1.304      1.055          6        640: 100%|██████████| 250/250 [00:21<00:00, 11.43it/s]\n",
      "                 Class     Images  Instances      Box(P          R      mAP50  mAP50-95): 100%|██████████| 15/15 [00:01<00:00, 11.74it/s]"
     ]
    },
    {
     "name": "stdout",
     "output_type": "stream",
     "text": [
      "                   all        178        206      0.581      0.481      0.512      0.194\n"
     ]
    },
    {
     "name": "stderr",
     "output_type": "stream",
     "text": [
      "\n"
     ]
    },
    {
     "name": "stdout",
     "output_type": "stream",
     "text": [
      "\n",
      "      Epoch    GPU_mem   box_loss   cls_loss   dfl_loss  Instances       Size\n"
     ]
    },
    {
     "name": "stderr",
     "output_type": "stream",
     "text": [
      "       5/10      2.61G      1.975      1.227      0.977          0        640: 100%|██████████| 250/250 [00:29<00:00,  8.55it/s]\n",
      "                 Class     Images  Instances      Box(P          R      mAP50  mAP50-95): 100%|██████████| 15/15 [00:01<00:00, 11.91it/s]"
     ]
    },
    {
     "name": "stdout",
     "output_type": "stream",
     "text": [
      "                   all        178        206      0.467      0.447      0.437      0.165\n"
     ]
    },
    {
     "name": "stderr",
     "output_type": "stream",
     "text": [
      "\n"
     ]
    },
    {
     "name": "stdout",
     "output_type": "stream",
     "text": [
      "\n",
      "      Epoch    GPU_mem   box_loss   cls_loss   dfl_loss  Instances       Size\n"
     ]
    },
    {
     "name": "stderr",
     "output_type": "stream",
     "text": [
      "       6/10      2.61G      1.928       1.19      0.938          0        640: 100%|██████████| 250/250 [00:27<00:00,  9.07it/s]\n",
      "                 Class     Images  Instances      Box(P          R      mAP50  mAP50-95): 100%|██████████| 15/15 [00:02<00:00,  7.30it/s]"
     ]
    },
    {
     "name": "stdout",
     "output_type": "stream",
     "text": [
      "                   all        178        206      0.489      0.495      0.476      0.197\n"
     ]
    },
    {
     "name": "stderr",
     "output_type": "stream",
     "text": [
      "\n"
     ]
    },
    {
     "name": "stdout",
     "output_type": "stream",
     "text": [
      "\n",
      "      Epoch    GPU_mem   box_loss   cls_loss   dfl_loss  Instances       Size\n"
     ]
    },
    {
     "name": "stderr",
     "output_type": "stream",
     "text": [
      "       7/10      2.61G      1.853      1.137     0.9081          2        640: 100%|██████████| 250/250 [00:22<00:00, 10.99it/s]\n",
      "                 Class     Images  Instances      Box(P          R      mAP50  mAP50-95): 100%|██████████| 15/15 [00:01<00:00, 12.22it/s]"
     ]
    },
    {
     "name": "stdout",
     "output_type": "stream",
     "text": [
      "                   all        178        206      0.632      0.568      0.568      0.211\n"
     ]
    },
    {
     "name": "stderr",
     "output_type": "stream",
     "text": [
      "\n"
     ]
    },
    {
     "name": "stdout",
     "output_type": "stream",
     "text": [
      "\n",
      "      Epoch    GPU_mem   box_loss   cls_loss   dfl_loss  Instances       Size\n"
     ]
    },
    {
     "name": "stderr",
     "output_type": "stream",
     "text": [
      "       8/10      2.61G      1.887      1.113     0.9213          2        640: 100%|██████████| 250/250 [00:29<00:00,  8.46it/s]\n",
      "                 Class     Images  Instances      Box(P          R      mAP50  mAP50-95): 100%|██████████| 15/15 [00:01<00:00, 12.45it/s]"
     ]
    },
    {
     "name": "stdout",
     "output_type": "stream",
     "text": [
      "                   all        178        206      0.649      0.539      0.565       0.23\n"
     ]
    },
    {
     "name": "stderr",
     "output_type": "stream",
     "text": [
      "\n"
     ]
    },
    {
     "name": "stdout",
     "output_type": "stream",
     "text": [
      "\n",
      "      Epoch    GPU_mem   box_loss   cls_loss   dfl_loss  Instances       Size\n"
     ]
    },
    {
     "name": "stderr",
     "output_type": "stream",
     "text": [
      "       9/10      2.61G      1.727     0.9802     0.8845          0        640: 100%|██████████| 250/250 [00:21<00:00, 11.43it/s]\n",
      "                 Class     Images  Instances      Box(P          R      mAP50  mAP50-95): 100%|██████████| 15/15 [00:01<00:00, 12.09it/s]"
     ]
    },
    {
     "name": "stdout",
     "output_type": "stream",
     "text": [
      "                   all        178        206      0.585       0.54      0.567      0.241\n"
     ]
    },
    {
     "name": "stderr",
     "output_type": "stream",
     "text": [
      "\n"
     ]
    },
    {
     "name": "stdout",
     "output_type": "stream",
     "text": [
      "\n",
      "      Epoch    GPU_mem   box_loss   cls_loss   dfl_loss  Instances       Size\n"
     ]
    },
    {
     "name": "stderr",
     "output_type": "stream",
     "text": [
      "      10/10      2.61G      1.663       1.08     0.8764          1        640: 100%|██████████| 250/250 [00:29<00:00,  8.55it/s]\n",
      "                 Class     Images  Instances      Box(P          R      mAP50  mAP50-95): 100%|██████████| 15/15 [00:01<00:00, 11.73it/s]"
     ]
    },
    {
     "name": "stdout",
     "output_type": "stream",
     "text": [
      "                   all        178        206      0.587      0.553      0.576      0.268\n"
     ]
    },
    {
     "name": "stderr",
     "output_type": "stream",
     "text": [
      "\n"
     ]
    },
    {
     "name": "stdout",
     "output_type": "stream",
     "text": [
      "\n",
      "10 epochs completed in 0.080 hours.\n",
      "Optimizer stripped from grid_search_yolo_v2/run_model_default_params_10epochs/weights/last.pt, 40.5MB\n",
      "Optimizer stripped from grid_search_yolo_v2/run_model_default_params_10epochs/weights/best.pt, 40.5MB\n",
      "\n",
      "Validating grid_search_yolo_v2/run_model_default_params_10epochs/weights/best.pt...\n",
      "Ultralytics 8.3.130 🚀 Python-3.11.7 torch-2.1.1+cu121 CUDA:0 (NVIDIA RTX A4000, 16102MiB)\n",
      "YOLO11m summary (fused): 125 layers, 20,030,803 parameters, 0 gradients, 67.6 GFLOPs\n"
     ]
    },
    {
     "name": "stderr",
     "output_type": "stream",
     "text": [
      "                 Class     Images  Instances      Box(P          R      mAP50  mAP50-95): 100%|██████████| 15/15 [00:01<00:00,  8.63it/s]\n"
     ]
    },
    {
     "name": "stdout",
     "output_type": "stream",
     "text": [
      "                   all        178        206      0.594      0.558      0.583      0.269\n",
      "Speed: 0.1ms preprocess, 8.1ms inference, 0.0ms loss, 0.5ms postprocess per image\n",
      "Results saved to \u001b[1mgrid_search_yolo_v2/run_model_default_params_10epochs\u001b[0m\n",
      "Ultralytics 8.3.130 🚀 Python-3.11.7 torch-2.1.1+cu121 CUDA:0 (NVIDIA RTX A4000, 16102MiB)\n",
      "YOLO11m summary (fused): 125 layers, 20,030,803 parameters, 0 gradients, 67.6 GFLOPs\n",
      "\u001b[34m\u001b[1mval: \u001b[0mFast image access ✅ (ping: 0.0±0.0 ms, read: 2993.4±1464.7 MB/s, size: 2768.3 KB)\n"
     ]
    },
    {
     "name": "stderr",
     "output_type": "stream",
     "text": [
      "\u001b[34m\u001b[1mval: \u001b[0mScanning /notebooks/DL---detection-of-birds-in-drone-images/data/tiled_augmented_2_yolo_data/valid/labels.cache... 178 images, 129 backgrounds, 0 corrupt: 100%|██████████| 178/178 [00:00<?, ?it/s]"
     ]
    },
    {
     "name": "stdout",
     "output_type": "stream",
     "text": [
      "\u001b[34m\u001b[1mval: \u001b[0m/notebooks/DL---detection-of-birds-in-drone-images/data/tiled_augmented_2_yolo_data/valid/images/DJI_0319_tile-0.png: 1 duplicate labels removed\n"
     ]
    },
    {
     "name": "stderr",
     "output_type": "stream",
     "text": [
      "\n",
      "                 Class     Images  Instances      Box(P          R      mAP50  mAP50-95): 100%|██████████| 30/30 [00:03<00:00,  9.86it/s]\n"
     ]
    },
    {
     "name": "stdout",
     "output_type": "stream",
     "text": [
      "                   all        178        206      0.588      0.553      0.576       0.27\n",
      "Speed: 0.4ms preprocess, 14.2ms inference, 0.0ms loss, 0.5ms postprocess per image\n",
      "Results saved to \u001b[1mgrid_search_yolo_v2/run_model_default_params_10epochs2\u001b[0m\n"
     ]
    },
    {
     "data": {
      "text/plain": [
       "ultralytics.utils.metrics.DetMetrics object with attributes:\n",
       "\n",
       "ap_class_index: array([0])\n",
       "box: ultralytics.utils.metrics.Metric object\n",
       "confusion_matrix: <ultralytics.utils.metrics.ConfusionMatrix object at 0x7f86f365c450>\n",
       "curves: ['Precision-Recall(B)', 'F1-Confidence(B)', 'Precision-Confidence(B)', 'Recall-Confidence(B)']\n",
       "curves_results: [[array([          0,    0.001001,    0.002002,    0.003003,    0.004004,    0.005005,    0.006006,    0.007007,    0.008008,    0.009009,     0.01001,    0.011011,    0.012012,    0.013013,    0.014014,    0.015015,    0.016016,    0.017017,    0.018018,    0.019019,     0.02002,    0.021021,    0.022022,    0.023023,\n",
       "          0.024024,    0.025025,    0.026026,    0.027027,    0.028028,    0.029029,     0.03003,    0.031031,    0.032032,    0.033033,    0.034034,    0.035035,    0.036036,    0.037037,    0.038038,    0.039039,     0.04004,    0.041041,    0.042042,    0.043043,    0.044044,    0.045045,    0.046046,    0.047047,\n",
       "          0.048048,    0.049049,     0.05005,    0.051051,    0.052052,    0.053053,    0.054054,    0.055055,    0.056056,    0.057057,    0.058058,    0.059059,     0.06006,    0.061061,    0.062062,    0.063063,    0.064064,    0.065065,    0.066066,    0.067067,    0.068068,    0.069069,     0.07007,    0.071071,\n",
       "          0.072072,    0.073073,    0.074074,    0.075075,    0.076076,    0.077077,    0.078078,    0.079079,     0.08008,    0.081081,    0.082082,    0.083083,    0.084084,    0.085085,    0.086086,    0.087087,    0.088088,    0.089089,     0.09009,    0.091091,    0.092092,    0.093093,    0.094094,    0.095095,\n",
       "          0.096096,    0.097097,    0.098098,    0.099099,      0.1001,      0.1011,      0.1021,      0.1031,      0.1041,     0.10511,     0.10611,     0.10711,     0.10811,     0.10911,     0.11011,     0.11111,     0.11211,     0.11311,     0.11411,     0.11512,     0.11612,     0.11712,     0.11812,     0.11912,\n",
       "           0.12012,     0.12112,     0.12212,     0.12312,     0.12412,     0.12513,     0.12613,     0.12713,     0.12813,     0.12913,     0.13013,     0.13113,     0.13213,     0.13313,     0.13413,     0.13514,     0.13614,     0.13714,     0.13814,     0.13914,     0.14014,     0.14114,     0.14214,     0.14314,\n",
       "           0.14414,     0.14515,     0.14615,     0.14715,     0.14815,     0.14915,     0.15015,     0.15115,     0.15215,     0.15315,     0.15415,     0.15516,     0.15616,     0.15716,     0.15816,     0.15916,     0.16016,     0.16116,     0.16216,     0.16316,     0.16416,     0.16517,     0.16617,     0.16717,\n",
       "           0.16817,     0.16917,     0.17017,     0.17117,     0.17217,     0.17317,     0.17417,     0.17518,     0.17618,     0.17718,     0.17818,     0.17918,     0.18018,     0.18118,     0.18218,     0.18318,     0.18418,     0.18519,     0.18619,     0.18719,     0.18819,     0.18919,     0.19019,     0.19119,\n",
       "           0.19219,     0.19319,     0.19419,      0.1952,      0.1962,      0.1972,      0.1982,      0.1992,      0.2002,      0.2012,      0.2022,      0.2032,      0.2042,     0.20521,     0.20621,     0.20721,     0.20821,     0.20921,     0.21021,     0.21121,     0.21221,     0.21321,     0.21421,     0.21522,\n",
       "           0.21622,     0.21722,     0.21822,     0.21922,     0.22022,     0.22122,     0.22222,     0.22322,     0.22422,     0.22523,     0.22623,     0.22723,     0.22823,     0.22923,     0.23023,     0.23123,     0.23223,     0.23323,     0.23423,     0.23524,     0.23624,     0.23724,     0.23824,     0.23924,\n",
       "           0.24024,     0.24124,     0.24224,     0.24324,     0.24424,     0.24525,     0.24625,     0.24725,     0.24825,     0.24925,     0.25025,     0.25125,     0.25225,     0.25325,     0.25425,     0.25526,     0.25626,     0.25726,     0.25826,     0.25926,     0.26026,     0.26126,     0.26226,     0.26326,\n",
       "           0.26426,     0.26527,     0.26627,     0.26727,     0.26827,     0.26927,     0.27027,     0.27127,     0.27227,     0.27327,     0.27427,     0.27528,     0.27628,     0.27728,     0.27828,     0.27928,     0.28028,     0.28128,     0.28228,     0.28328,     0.28428,     0.28529,     0.28629,     0.28729,\n",
       "           0.28829,     0.28929,     0.29029,     0.29129,     0.29229,     0.29329,     0.29429,      0.2953,      0.2963,      0.2973,      0.2983,      0.2993,      0.3003,      0.3013,      0.3023,      0.3033,      0.3043,     0.30531,     0.30631,     0.30731,     0.30831,     0.30931,     0.31031,     0.31131,\n",
       "           0.31231,     0.31331,     0.31431,     0.31532,     0.31632,     0.31732,     0.31832,     0.31932,     0.32032,     0.32132,     0.32232,     0.32332,     0.32432,     0.32533,     0.32633,     0.32733,     0.32833,     0.32933,     0.33033,     0.33133,     0.33233,     0.33333,     0.33433,     0.33534,\n",
       "           0.33634,     0.33734,     0.33834,     0.33934,     0.34034,     0.34134,     0.34234,     0.34334,     0.34434,     0.34535,     0.34635,     0.34735,     0.34835,     0.34935,     0.35035,     0.35135,     0.35235,     0.35335,     0.35435,     0.35536,     0.35636,     0.35736,     0.35836,     0.35936,\n",
       "           0.36036,     0.36136,     0.36236,     0.36336,     0.36436,     0.36537,     0.36637,     0.36737,     0.36837,     0.36937,     0.37037,     0.37137,     0.37237,     0.37337,     0.37437,     0.37538,     0.37638,     0.37738,     0.37838,     0.37938,     0.38038,     0.38138,     0.38238,     0.38338,\n",
       "           0.38438,     0.38539,     0.38639,     0.38739,     0.38839,     0.38939,     0.39039,     0.39139,     0.39239,     0.39339,     0.39439,      0.3954,      0.3964,      0.3974,      0.3984,      0.3994,      0.4004,      0.4014,      0.4024,      0.4034,      0.4044,     0.40541,     0.40641,     0.40741,\n",
       "           0.40841,     0.40941,     0.41041,     0.41141,     0.41241,     0.41341,     0.41441,     0.41542,     0.41642,     0.41742,     0.41842,     0.41942,     0.42042,     0.42142,     0.42242,     0.42342,     0.42442,     0.42543,     0.42643,     0.42743,     0.42843,     0.42943,     0.43043,     0.43143,\n",
       "           0.43243,     0.43343,     0.43443,     0.43544,     0.43644,     0.43744,     0.43844,     0.43944,     0.44044,     0.44144,     0.44244,     0.44344,     0.44444,     0.44545,     0.44645,     0.44745,     0.44845,     0.44945,     0.45045,     0.45145,     0.45245,     0.45345,     0.45445,     0.45546,\n",
       "           0.45646,     0.45746,     0.45846,     0.45946,     0.46046,     0.46146,     0.46246,     0.46346,     0.46446,     0.46547,     0.46647,     0.46747,     0.46847,     0.46947,     0.47047,     0.47147,     0.47247,     0.47347,     0.47447,     0.47548,     0.47648,     0.47748,     0.47848,     0.47948,\n",
       "           0.48048,     0.48148,     0.48248,     0.48348,     0.48448,     0.48549,     0.48649,     0.48749,     0.48849,     0.48949,     0.49049,     0.49149,     0.49249,     0.49349,     0.49449,      0.4955,      0.4965,      0.4975,      0.4985,      0.4995,      0.5005,      0.5015,      0.5025,      0.5035,\n",
       "            0.5045,     0.50551,     0.50651,     0.50751,     0.50851,     0.50951,     0.51051,     0.51151,     0.51251,     0.51351,     0.51451,     0.51552,     0.51652,     0.51752,     0.51852,     0.51952,     0.52052,     0.52152,     0.52252,     0.52352,     0.52452,     0.52553,     0.52653,     0.52753,\n",
       "           0.52853,     0.52953,     0.53053,     0.53153,     0.53253,     0.53353,     0.53453,     0.53554,     0.53654,     0.53754,     0.53854,     0.53954,     0.54054,     0.54154,     0.54254,     0.54354,     0.54454,     0.54555,     0.54655,     0.54755,     0.54855,     0.54955,     0.55055,     0.55155,\n",
       "           0.55255,     0.55355,     0.55455,     0.55556,     0.55656,     0.55756,     0.55856,     0.55956,     0.56056,     0.56156,     0.56256,     0.56356,     0.56456,     0.56557,     0.56657,     0.56757,     0.56857,     0.56957,     0.57057,     0.57157,     0.57257,     0.57357,     0.57457,     0.57558,\n",
       "           0.57658,     0.57758,     0.57858,     0.57958,     0.58058,     0.58158,     0.58258,     0.58358,     0.58458,     0.58559,     0.58659,     0.58759,     0.58859,     0.58959,     0.59059,     0.59159,     0.59259,     0.59359,     0.59459,      0.5956,      0.5966,      0.5976,      0.5986,      0.5996,\n",
       "            0.6006,      0.6016,      0.6026,      0.6036,      0.6046,     0.60561,     0.60661,     0.60761,     0.60861,     0.60961,     0.61061,     0.61161,     0.61261,     0.61361,     0.61461,     0.61562,     0.61662,     0.61762,     0.61862,     0.61962,     0.62062,     0.62162,     0.62262,     0.62362,\n",
       "           0.62462,     0.62563,     0.62663,     0.62763,     0.62863,     0.62963,     0.63063,     0.63163,     0.63263,     0.63363,     0.63463,     0.63564,     0.63664,     0.63764,     0.63864,     0.63964,     0.64064,     0.64164,     0.64264,     0.64364,     0.64464,     0.64565,     0.64665,     0.64765,\n",
       "           0.64865,     0.64965,     0.65065,     0.65165,     0.65265,     0.65365,     0.65465,     0.65566,     0.65666,     0.65766,     0.65866,     0.65966,     0.66066,     0.66166,     0.66266,     0.66366,     0.66466,     0.66567,     0.66667,     0.66767,     0.66867,     0.66967,     0.67067,     0.67167,\n",
       "           0.67267,     0.67367,     0.67467,     0.67568,     0.67668,     0.67768,     0.67868,     0.67968,     0.68068,     0.68168,     0.68268,     0.68368,     0.68468,     0.68569,     0.68669,     0.68769,     0.68869,     0.68969,     0.69069,     0.69169,     0.69269,     0.69369,     0.69469,      0.6957,\n",
       "            0.6967,      0.6977,      0.6987,      0.6997,      0.7007,      0.7017,      0.7027,      0.7037,      0.7047,     0.70571,     0.70671,     0.70771,     0.70871,     0.70971,     0.71071,     0.71171,     0.71271,     0.71371,     0.71471,     0.71572,     0.71672,     0.71772,     0.71872,     0.71972,\n",
       "           0.72072,     0.72172,     0.72272,     0.72372,     0.72472,     0.72573,     0.72673,     0.72773,     0.72873,     0.72973,     0.73073,     0.73173,     0.73273,     0.73373,     0.73473,     0.73574,     0.73674,     0.73774,     0.73874,     0.73974,     0.74074,     0.74174,     0.74274,     0.74374,\n",
       "           0.74474,     0.74575,     0.74675,     0.74775,     0.74875,     0.74975,     0.75075,     0.75175,     0.75275,     0.75375,     0.75475,     0.75576,     0.75676,     0.75776,     0.75876,     0.75976,     0.76076,     0.76176,     0.76276,     0.76376,     0.76476,     0.76577,     0.76677,     0.76777,\n",
       "           0.76877,     0.76977,     0.77077,     0.77177,     0.77277,     0.77377,     0.77477,     0.77578,     0.77678,     0.77778,     0.77878,     0.77978,     0.78078,     0.78178,     0.78278,     0.78378,     0.78478,     0.78579,     0.78679,     0.78779,     0.78879,     0.78979,     0.79079,     0.79179,\n",
       "           0.79279,     0.79379,     0.79479,      0.7958,      0.7968,      0.7978,      0.7988,      0.7998,      0.8008,      0.8018,      0.8028,      0.8038,      0.8048,     0.80581,     0.80681,     0.80781,     0.80881,     0.80981,     0.81081,     0.81181,     0.81281,     0.81381,     0.81481,     0.81582,\n",
       "           0.81682,     0.81782,     0.81882,     0.81982,     0.82082,     0.82182,     0.82282,     0.82382,     0.82482,     0.82583,     0.82683,     0.82783,     0.82883,     0.82983,     0.83083,     0.83183,     0.83283,     0.83383,     0.83483,     0.83584,     0.83684,     0.83784,     0.83884,     0.83984,\n",
       "           0.84084,     0.84184,     0.84284,     0.84384,     0.84484,     0.84585,     0.84685,     0.84785,     0.84885,     0.84985,     0.85085,     0.85185,     0.85285,     0.85385,     0.85485,     0.85586,     0.85686,     0.85786,     0.85886,     0.85986,     0.86086,     0.86186,     0.86286,     0.86386,\n",
       "           0.86486,     0.86587,     0.86687,     0.86787,     0.86887,     0.86987,     0.87087,     0.87187,     0.87287,     0.87387,     0.87487,     0.87588,     0.87688,     0.87788,     0.87888,     0.87988,     0.88088,     0.88188,     0.88288,     0.88388,     0.88488,     0.88589,     0.88689,     0.88789,\n",
       "           0.88889,     0.88989,     0.89089,     0.89189,     0.89289,     0.89389,     0.89489,      0.8959,      0.8969,      0.8979,      0.8989,      0.8999,      0.9009,      0.9019,      0.9029,      0.9039,      0.9049,     0.90591,     0.90691,     0.90791,     0.90891,     0.90991,     0.91091,     0.91191,\n",
       "           0.91291,     0.91391,     0.91491,     0.91592,     0.91692,     0.91792,     0.91892,     0.91992,     0.92092,     0.92192,     0.92292,     0.92392,     0.92492,     0.92593,     0.92693,     0.92793,     0.92893,     0.92993,     0.93093,     0.93193,     0.93293,     0.93393,     0.93493,     0.93594,\n",
       "           0.93694,     0.93794,     0.93894,     0.93994,     0.94094,     0.94194,     0.94294,     0.94394,     0.94494,     0.94595,     0.94695,     0.94795,     0.94895,     0.94995,     0.95095,     0.95195,     0.95295,     0.95395,     0.95495,     0.95596,     0.95696,     0.95796,     0.95896,     0.95996,\n",
       "           0.96096,     0.96196,     0.96296,     0.96396,     0.96496,     0.96597,     0.96697,     0.96797,     0.96897,     0.96997,     0.97097,     0.97197,     0.97297,     0.97397,     0.97497,     0.97598,     0.97698,     0.97798,     0.97898,     0.97998,     0.98098,     0.98198,     0.98298,     0.98398,\n",
       "           0.98498,     0.98599,     0.98699,     0.98799,     0.98899,     0.98999,     0.99099,     0.99199,     0.99299,     0.99399,     0.99499,       0.996,       0.997,       0.998,       0.999,           1]), array([[          1,           1,           1,           1,           1,           1,           1,           1,           1,           1,           1,           1,           1,           1,           1,           1,           1,           1,           1,           1,           1,           1,           1,\n",
       "                  1,           1,           1,           1,           1,           1,           1,           1,           1,           1,           1,           1,           1,           1,           1,           1,           1,           1,           1,           1,           1,           1,           1,\n",
       "                  1,           1,           1,           1,           1,           1,           1,           1,           1,           1,           1,           1,           1,           1,           1,           1,           1,           1,           1,           1,           1,           1,           1,\n",
       "                  1,           1,           1,           1,           1,           1,           1,           1,           1,     0.97059,     0.97059,     0.97059,     0.97059,     0.97059,     0.97059,     0.97059,     0.97059,     0.97059,     0.97059,     0.97059,     0.97059,     0.97059,     0.97059,\n",
       "            0.97059,     0.97059,     0.97059,     0.97059,     0.97059,     0.97059,     0.97059,     0.97059,     0.97059,     0.97059,     0.97059,     0.97059,     0.97059,     0.97059,     0.97059,     0.97059,     0.97059,     0.97059,     0.97059,     0.97059,     0.97059,     0.97059,     0.97059,\n",
       "            0.97059,     0.97059,     0.97059,     0.97059,     0.97059,     0.97059,     0.97059,     0.97059,     0.97059,     0.97059,     0.97059,     0.97059,     0.97059,     0.97059,     0.97059,     0.97059,     0.97059,     0.97059,     0.97059,     0.97059,     0.97059,     0.97059,     0.97059,\n",
       "            0.97059,     0.97059,     0.97059,     0.97059,     0.97059,     0.97059,     0.97059,     0.97059,     0.97059,     0.97059,     0.97059,     0.97059,     0.97059,     0.97059,     0.97059,     0.97059,     0.97059,     0.97059,     0.97059,     0.97059,     0.97059,     0.97059,     0.97059,\n",
       "               0.95,        0.95,        0.95,        0.95,        0.95,        0.95,        0.95,        0.95,        0.95,        0.95,        0.95,        0.95,        0.95,        0.95,        0.95,        0.95,        0.95,        0.95,        0.95,        0.95,        0.95,        0.95,        0.95,\n",
       "               0.95,     0.93617,     0.93617,     0.93617,     0.93617,     0.93617,     0.93617,     0.93617,     0.93617,     0.93617,     0.93617,     0.93617,     0.93617,     0.93617,     0.93617,     0.93617,     0.93617,     0.93617,     0.93617,     0.93617,     0.93617,     0.93617,     0.93617,\n",
       "            0.93617,     0.93617,     0.93617,     0.93617,     0.93617,     0.93617,     0.93617,     0.92453,     0.92453,     0.92453,     0.92453,     0.92453,     0.92453,     0.92453,     0.92453,     0.92453,     0.92453,     0.92453,     0.92453,     0.92453,     0.92453,     0.92453,     0.92453,\n",
       "            0.92453,     0.92453,     0.92453,     0.92453,     0.92453,     0.92453,     0.92453,     0.92453,     0.91071,     0.91071,     0.91071,     0.91071,     0.91071,     0.91071,     0.91071,     0.91071,     0.91071,     0.91071,     0.89831,     0.89831,     0.89831,     0.89831,     0.89831,\n",
       "            0.89831,     0.89831,     0.89831,     0.89831,     0.89831,     0.88525,     0.88525,     0.88525,     0.88525,     0.83544,     0.83544,     0.83544,     0.83544,     0.83544,     0.83544,     0.83544,     0.83544,     0.83544,     0.83544,     0.83544,     0.83544,     0.83544,     0.83544,\n",
       "            0.83544,     0.83544,     0.83544,     0.83544,     0.83544,     0.83544,     0.83544,     0.83544,     0.83544,     0.83544,     0.83544,     0.83544,     0.83544,     0.83544,     0.83544,     0.83544,     0.83544,     0.83544,     0.83544,     0.83544,     0.83544,     0.83544,     0.83544,\n",
       "            0.83544,     0.83544,     0.83544,     0.83544,     0.83544,     0.83544,     0.83544,     0.83544,     0.83544,     0.83544,     0.83544,     0.83544,     0.83544,     0.83544,     0.83544,     0.83544,     0.83544,     0.83544,     0.83544,     0.83544,     0.83544,     0.83544,     0.82716,\n",
       "            0.82716,     0.82716,     0.82716,     0.81609,     0.81609,     0.81609,     0.81609,     0.81609,     0.81609,     0.81609,     0.81609,     0.81609,     0.81609,     0.81609,     0.81609,     0.81609,     0.81609,     0.81609,     0.81609,     0.81609,     0.81609,     0.81609,     0.81609,\n",
       "            0.81111,     0.81111,     0.81111,     0.81111,     0.81111,     0.81111,     0.81111,     0.81111,     0.81111,     0.81111,         0.8,         0.8,         0.8,         0.8,         0.8,         0.8,         0.8,         0.8,         0.8,         0.8,         0.8,         0.8,         0.8,\n",
       "                0.8,     0.78571,     0.78571,     0.78571,     0.78571,     0.78571,     0.76923,     0.76923,     0.76923,     0.76923,     0.76923,     0.76923,     0.76923,     0.76923,     0.76923,     0.76923,     0.76923,     0.76923,     0.76923,     0.76923,        0.75,        0.75,        0.75,\n",
       "               0.75,        0.75,     0.74336,     0.74336,     0.74336,     0.74336,     0.74336,     0.74336,     0.74336,     0.74336,     0.74336,     0.74336,     0.74336,     0.74336,     0.74336,     0.74336,     0.74336,      0.7265,      0.7265,      0.7265,      0.7265,      0.7265,     0.72269,\n",
       "            0.72269,     0.72269,     0.72269,     0.72269,     0.72131,     0.72131,     0.72131,     0.72131,     0.72131,     0.72131,     0.72131,     0.72131,     0.72131,     0.70992,     0.70992,     0.70992,     0.70992,     0.70992,     0.70992,     0.70992,     0.70992,     0.70992,     0.70992,\n",
       "            0.70992,     0.70992,     0.70992,     0.70992,     0.70992,     0.70992,     0.70992,     0.70992,     0.70992,     0.70992,     0.70992,     0.70992,     0.70992,     0.70992,     0.70992,     0.70149,     0.70149,     0.70149,     0.70149,     0.70073,     0.70073,     0.70073,     0.70073,\n",
       "            0.70073,     0.70073,     0.70073,     0.70073,     0.70073,     0.70073,     0.69286,     0.69286,     0.69286,     0.69286,     0.69286,     0.63694,     0.63694,     0.63694,     0.63694,     0.63694,     0.63694,     0.63694,     0.63694,     0.63694,     0.63694,     0.63694,     0.63694,\n",
       "            0.63694,     0.63694,     0.63522,     0.63522,     0.63522,     0.63522,     0.63522,     0.62963,     0.62963,     0.62963,     0.62963,     0.62963,     0.61905,     0.61905,     0.61905,     0.61905,     0.61905,     0.61905,     0.61905,     0.61905,     0.61905,     0.61905,     0.61765,\n",
       "            0.61765,     0.61765,     0.61765,     0.61765,     0.61628,     0.61628,     0.61628,     0.61628,     0.61628,     0.60112,     0.60112,     0.60112,     0.60112,      0.5989,      0.5989,      0.5989,      0.5989,      0.5989,      0.5989,      0.5989,      0.5989,      0.5989,      0.5989,\n",
       "            0.59783,     0.59783,     0.59783,     0.59783,     0.59783,     0.59162,     0.59162,     0.59162,     0.59162,     0.59162,     0.59162,     0.59162,     0.59162,     0.59162,     0.59162,     0.59162,     0.59162,     0.59162,     0.59162,     0.59067,     0.59067,     0.59067,     0.59067,\n",
       "            0.59067,     0.58081,     0.58081,     0.58081,     0.58081,     0.58081,     0.57635,     0.57635,     0.57635,     0.57635,     0.57635,     0.57635,     0.57635,     0.57635,     0.57635,     0.57635,     0.57561,     0.57561,     0.57561,     0.57561,     0.57561,     0.57488,     0.57488,\n",
       "            0.57488,     0.57488,     0.57488,     0.56872,     0.56872,     0.56872,     0.56872,      0.5576,      0.5576,      0.5576,      0.5576,      0.5576,     0.52814,     0.52814,     0.52814,     0.52814,     0.52814,      0.5279,      0.5279,      0.5279,      0.5279,      0.5279,     0.52766,\n",
       "            0.52766,     0.52766,     0.52766,     0.52766,     0.52743,     0.52743,     0.52743,     0.52743,     0.52743,     0.49802,     0.49802,     0.49802,     0.49802,     0.49802,     0.49225,     0.49225,     0.49225,     0.49225,     0.47584,     0.47584,     0.47584,     0.47584,     0.47584,\n",
       "             0.4708,      0.4708,      0.4708,      0.4708,      0.4708,     0.46263,     0.46263,     0.46263,     0.46263,     0.46263,     0.45965,     0.45965,     0.45965,     0.45965,     0.45965,     0.44781,     0.44781,     0.44781,     0.44781,     0.44781,     0.44781,     0.44781,     0.44781,\n",
       "            0.44781,     0.44118,     0.44118,     0.44118,     0.44118,     0.44118,     0.44118,     0.44118,     0.44118,     0.44118,     0.44118,     0.42767,     0.42767,     0.42767,     0.42767,     0.42767,     0.42025,     0.42025,     0.42025,     0.42025,     0.42025,     0.41994,     0.41994,\n",
       "            0.41994,     0.41994,     0.41994,     0.41994,     0.41994,     0.41994,     0.41994,     0.41994,     0.41791,     0.41791,     0.41791,     0.41791,     0.39831,     0.39831,     0.39831,     0.39831,     0.39831,     0.38798,     0.38798,     0.38798,     0.38798,     0.38798,     0.38032,\n",
       "            0.38032,     0.38032,     0.38032,     0.38032,     0.37209,     0.37209,     0.37209,     0.37209,     0.37209,     0.37056,     0.37056,     0.37056,     0.37056,     0.37056,     0.37056,     0.37056,     0.37056,     0.37056,     0.37056,     0.35593,     0.35593,     0.35593,     0.35593,\n",
       "            0.35238,     0.35238,     0.35238,     0.35238,     0.35238,     0.33408,     0.33408,     0.33408,     0.33408,     0.33408,     0.31185,     0.31185,     0.31185,     0.31185,     0.31185,       0.302,       0.302,       0.302,       0.302,       0.302,     0.30159,     0.30159,     0.30159,\n",
       "            0.30159,     0.30159,     0.27469,     0.27469,     0.27469,     0.27469,     0.26829,     0.26829,     0.26829,     0.26829,     0.26829,      0.2677,      0.2677,      0.2677,      0.2677,      0.2677,     0.24224,     0.24224,     0.24224,     0.24224,     0.24224,     0.22301,     0.22301,\n",
       "            0.22301,     0.22301,     0.22301,     0.21914,     0.21914,     0.21914,     0.21914,     0.21914,     0.21633,     0.21633,     0.21633,     0.21633,     0.21633,     0.21563,     0.21563,     0.21563,     0.21563,     0.20201,     0.20201,     0.20201,     0.20201,     0.20201,     0.19806,\n",
       "            0.19806,     0.19806,     0.19806,     0.19806,     0.19806,     0.19806,     0.19806,     0.19806,     0.19806,     0.17503,     0.17503,     0.17503,     0.17503,     0.17503,     0.16451,     0.16451,     0.16451,     0.16451,     0.16451,     0.13088,     0.13088,     0.13088,     0.13088,\n",
       "            0.13088,     0.13088,     0.13088,     0.13088,     0.13088,     0.12973,     0.12973,     0.12973,     0.12973,     0.12973,     0.12881,     0.12881,     0.12881,     0.12881,     0.12881,      0.1227,     0.12202,     0.12133,     0.12065,     0.11996,     0.11927,     0.11859,      0.1179,\n",
       "            0.11722,     0.11653,     0.11585,     0.11516,     0.11448,     0.11379,     0.11311,     0.11242,     0.11173,     0.11105,     0.11036,     0.10968,     0.10899,     0.10831,     0.10762,     0.10694,     0.10625,     0.10557,     0.10488,     0.10419,     0.10351,     0.10282,     0.10214,\n",
       "            0.10145,     0.10077,     0.10008,    0.099396,     0.09871,    0.098025,    0.097339,    0.096654,    0.095968,    0.095283,    0.094597,    0.093912,    0.093226,    0.092541,    0.091855,     0.09117,    0.090484,    0.089799,    0.089113,    0.088428,    0.087742,    0.087057,    0.086372,\n",
       "           0.085686,    0.085001,    0.084315,     0.08363,    0.082944,    0.082259,    0.081573,    0.080888,    0.080202,    0.079517,    0.078831,    0.078146,     0.07746,    0.076775,    0.076089,    0.075404,    0.074718,    0.074033,    0.073347,    0.072662,    0.071976,    0.071291,    0.070605,\n",
       "            0.06992,    0.069234,    0.068549,    0.067863,    0.067178,    0.066492,    0.065807,    0.065121,    0.064436,     0.06375,    0.063065,    0.062379,    0.061694,    0.061008,    0.060323,    0.059637,    0.058952,    0.058266,    0.057581,    0.056896,     0.05621,    0.055525,    0.054839,\n",
       "           0.054154,    0.053468,    0.052783,    0.052097,    0.051412,    0.050726,    0.050041,    0.049355,     0.04867,    0.047984,    0.047299,    0.046613,    0.045928,    0.045242,    0.044557,    0.043871,    0.043186,      0.0425,    0.041815,    0.041129,    0.040444,    0.039758,    0.039073,\n",
       "           0.038387,    0.037702,    0.037016,    0.036331,    0.035645,     0.03496,    0.034274,    0.033589,    0.032903,    0.032218,    0.031532,    0.030847,    0.030161,    0.029476,    0.028791,    0.028105,     0.02742,    0.026734,    0.026049,    0.025363,    0.024678,    0.023992,    0.023307,\n",
       "           0.022621,    0.021936,     0.02125,    0.020565,    0.019879,    0.019194,    0.018508,    0.017823,    0.017137,    0.016452,    0.015766,    0.015081,    0.014395,     0.01371,    0.013024,    0.012339,    0.011653,    0.010968,    0.010282,   0.0095968,   0.0089113,   0.0082259,   0.0075404,\n",
       "          0.0068549,   0.0061694,   0.0054839,   0.0047984,   0.0041129,   0.0034274,    0.002742,   0.0020565,    0.001371,  0.00068549,           0]]), 'Recall', 'Precision'], [array([          0,    0.001001,    0.002002,    0.003003,    0.004004,    0.005005,    0.006006,    0.007007,    0.008008,    0.009009,     0.01001,    0.011011,    0.012012,    0.013013,    0.014014,    0.015015,    0.016016,    0.017017,    0.018018,    0.019019,     0.02002,    0.021021,    0.022022,    0.023023,\n",
       "          0.024024,    0.025025,    0.026026,    0.027027,    0.028028,    0.029029,     0.03003,    0.031031,    0.032032,    0.033033,    0.034034,    0.035035,    0.036036,    0.037037,    0.038038,    0.039039,     0.04004,    0.041041,    0.042042,    0.043043,    0.044044,    0.045045,    0.046046,    0.047047,\n",
       "          0.048048,    0.049049,     0.05005,    0.051051,    0.052052,    0.053053,    0.054054,    0.055055,    0.056056,    0.057057,    0.058058,    0.059059,     0.06006,    0.061061,    0.062062,    0.063063,    0.064064,    0.065065,    0.066066,    0.067067,    0.068068,    0.069069,     0.07007,    0.071071,\n",
       "          0.072072,    0.073073,    0.074074,    0.075075,    0.076076,    0.077077,    0.078078,    0.079079,     0.08008,    0.081081,    0.082082,    0.083083,    0.084084,    0.085085,    0.086086,    0.087087,    0.088088,    0.089089,     0.09009,    0.091091,    0.092092,    0.093093,    0.094094,    0.095095,\n",
       "          0.096096,    0.097097,    0.098098,    0.099099,      0.1001,      0.1011,      0.1021,      0.1031,      0.1041,     0.10511,     0.10611,     0.10711,     0.10811,     0.10911,     0.11011,     0.11111,     0.11211,     0.11311,     0.11411,     0.11512,     0.11612,     0.11712,     0.11812,     0.11912,\n",
       "           0.12012,     0.12112,     0.12212,     0.12312,     0.12412,     0.12513,     0.12613,     0.12713,     0.12813,     0.12913,     0.13013,     0.13113,     0.13213,     0.13313,     0.13413,     0.13514,     0.13614,     0.13714,     0.13814,     0.13914,     0.14014,     0.14114,     0.14214,     0.14314,\n",
       "           0.14414,     0.14515,     0.14615,     0.14715,     0.14815,     0.14915,     0.15015,     0.15115,     0.15215,     0.15315,     0.15415,     0.15516,     0.15616,     0.15716,     0.15816,     0.15916,     0.16016,     0.16116,     0.16216,     0.16316,     0.16416,     0.16517,     0.16617,     0.16717,\n",
       "           0.16817,     0.16917,     0.17017,     0.17117,     0.17217,     0.17317,     0.17417,     0.17518,     0.17618,     0.17718,     0.17818,     0.17918,     0.18018,     0.18118,     0.18218,     0.18318,     0.18418,     0.18519,     0.18619,     0.18719,     0.18819,     0.18919,     0.19019,     0.19119,\n",
       "           0.19219,     0.19319,     0.19419,      0.1952,      0.1962,      0.1972,      0.1982,      0.1992,      0.2002,      0.2012,      0.2022,      0.2032,      0.2042,     0.20521,     0.20621,     0.20721,     0.20821,     0.20921,     0.21021,     0.21121,     0.21221,     0.21321,     0.21421,     0.21522,\n",
       "           0.21622,     0.21722,     0.21822,     0.21922,     0.22022,     0.22122,     0.22222,     0.22322,     0.22422,     0.22523,     0.22623,     0.22723,     0.22823,     0.22923,     0.23023,     0.23123,     0.23223,     0.23323,     0.23423,     0.23524,     0.23624,     0.23724,     0.23824,     0.23924,\n",
       "           0.24024,     0.24124,     0.24224,     0.24324,     0.24424,     0.24525,     0.24625,     0.24725,     0.24825,     0.24925,     0.25025,     0.25125,     0.25225,     0.25325,     0.25425,     0.25526,     0.25626,     0.25726,     0.25826,     0.25926,     0.26026,     0.26126,     0.26226,     0.26326,\n",
       "           0.26426,     0.26527,     0.26627,     0.26727,     0.26827,     0.26927,     0.27027,     0.27127,     0.27227,     0.27327,     0.27427,     0.27528,     0.27628,     0.27728,     0.27828,     0.27928,     0.28028,     0.28128,     0.28228,     0.28328,     0.28428,     0.28529,     0.28629,     0.28729,\n",
       "           0.28829,     0.28929,     0.29029,     0.29129,     0.29229,     0.29329,     0.29429,      0.2953,      0.2963,      0.2973,      0.2983,      0.2993,      0.3003,      0.3013,      0.3023,      0.3033,      0.3043,     0.30531,     0.30631,     0.30731,     0.30831,     0.30931,     0.31031,     0.31131,\n",
       "           0.31231,     0.31331,     0.31431,     0.31532,     0.31632,     0.31732,     0.31832,     0.31932,     0.32032,     0.32132,     0.32232,     0.32332,     0.32432,     0.32533,     0.32633,     0.32733,     0.32833,     0.32933,     0.33033,     0.33133,     0.33233,     0.33333,     0.33433,     0.33534,\n",
       "           0.33634,     0.33734,     0.33834,     0.33934,     0.34034,     0.34134,     0.34234,     0.34334,     0.34434,     0.34535,     0.34635,     0.34735,     0.34835,     0.34935,     0.35035,     0.35135,     0.35235,     0.35335,     0.35435,     0.35536,     0.35636,     0.35736,     0.35836,     0.35936,\n",
       "           0.36036,     0.36136,     0.36236,     0.36336,     0.36436,     0.36537,     0.36637,     0.36737,     0.36837,     0.36937,     0.37037,     0.37137,     0.37237,     0.37337,     0.37437,     0.37538,     0.37638,     0.37738,     0.37838,     0.37938,     0.38038,     0.38138,     0.38238,     0.38338,\n",
       "           0.38438,     0.38539,     0.38639,     0.38739,     0.38839,     0.38939,     0.39039,     0.39139,     0.39239,     0.39339,     0.39439,      0.3954,      0.3964,      0.3974,      0.3984,      0.3994,      0.4004,      0.4014,      0.4024,      0.4034,      0.4044,     0.40541,     0.40641,     0.40741,\n",
       "           0.40841,     0.40941,     0.41041,     0.41141,     0.41241,     0.41341,     0.41441,     0.41542,     0.41642,     0.41742,     0.41842,     0.41942,     0.42042,     0.42142,     0.42242,     0.42342,     0.42442,     0.42543,     0.42643,     0.42743,     0.42843,     0.42943,     0.43043,     0.43143,\n",
       "           0.43243,     0.43343,     0.43443,     0.43544,     0.43644,     0.43744,     0.43844,     0.43944,     0.44044,     0.44144,     0.44244,     0.44344,     0.44444,     0.44545,     0.44645,     0.44745,     0.44845,     0.44945,     0.45045,     0.45145,     0.45245,     0.45345,     0.45445,     0.45546,\n",
       "           0.45646,     0.45746,     0.45846,     0.45946,     0.46046,     0.46146,     0.46246,     0.46346,     0.46446,     0.46547,     0.46647,     0.46747,     0.46847,     0.46947,     0.47047,     0.47147,     0.47247,     0.47347,     0.47447,     0.47548,     0.47648,     0.47748,     0.47848,     0.47948,\n",
       "           0.48048,     0.48148,     0.48248,     0.48348,     0.48448,     0.48549,     0.48649,     0.48749,     0.48849,     0.48949,     0.49049,     0.49149,     0.49249,     0.49349,     0.49449,      0.4955,      0.4965,      0.4975,      0.4985,      0.4995,      0.5005,      0.5015,      0.5025,      0.5035,\n",
       "            0.5045,     0.50551,     0.50651,     0.50751,     0.50851,     0.50951,     0.51051,     0.51151,     0.51251,     0.51351,     0.51451,     0.51552,     0.51652,     0.51752,     0.51852,     0.51952,     0.52052,     0.52152,     0.52252,     0.52352,     0.52452,     0.52553,     0.52653,     0.52753,\n",
       "           0.52853,     0.52953,     0.53053,     0.53153,     0.53253,     0.53353,     0.53453,     0.53554,     0.53654,     0.53754,     0.53854,     0.53954,     0.54054,     0.54154,     0.54254,     0.54354,     0.54454,     0.54555,     0.54655,     0.54755,     0.54855,     0.54955,     0.55055,     0.55155,\n",
       "           0.55255,     0.55355,     0.55455,     0.55556,     0.55656,     0.55756,     0.55856,     0.55956,     0.56056,     0.56156,     0.56256,     0.56356,     0.56456,     0.56557,     0.56657,     0.56757,     0.56857,     0.56957,     0.57057,     0.57157,     0.57257,     0.57357,     0.57457,     0.57558,\n",
       "           0.57658,     0.57758,     0.57858,     0.57958,     0.58058,     0.58158,     0.58258,     0.58358,     0.58458,     0.58559,     0.58659,     0.58759,     0.58859,     0.58959,     0.59059,     0.59159,     0.59259,     0.59359,     0.59459,      0.5956,      0.5966,      0.5976,      0.5986,      0.5996,\n",
       "            0.6006,      0.6016,      0.6026,      0.6036,      0.6046,     0.60561,     0.60661,     0.60761,     0.60861,     0.60961,     0.61061,     0.61161,     0.61261,     0.61361,     0.61461,     0.61562,     0.61662,     0.61762,     0.61862,     0.61962,     0.62062,     0.62162,     0.62262,     0.62362,\n",
       "           0.62462,     0.62563,     0.62663,     0.62763,     0.62863,     0.62963,     0.63063,     0.63163,     0.63263,     0.63363,     0.63463,     0.63564,     0.63664,     0.63764,     0.63864,     0.63964,     0.64064,     0.64164,     0.64264,     0.64364,     0.64464,     0.64565,     0.64665,     0.64765,\n",
       "           0.64865,     0.64965,     0.65065,     0.65165,     0.65265,     0.65365,     0.65465,     0.65566,     0.65666,     0.65766,     0.65866,     0.65966,     0.66066,     0.66166,     0.66266,     0.66366,     0.66466,     0.66567,     0.66667,     0.66767,     0.66867,     0.66967,     0.67067,     0.67167,\n",
       "           0.67267,     0.67367,     0.67467,     0.67568,     0.67668,     0.67768,     0.67868,     0.67968,     0.68068,     0.68168,     0.68268,     0.68368,     0.68468,     0.68569,     0.68669,     0.68769,     0.68869,     0.68969,     0.69069,     0.69169,     0.69269,     0.69369,     0.69469,      0.6957,\n",
       "            0.6967,      0.6977,      0.6987,      0.6997,      0.7007,      0.7017,      0.7027,      0.7037,      0.7047,     0.70571,     0.70671,     0.70771,     0.70871,     0.70971,     0.71071,     0.71171,     0.71271,     0.71371,     0.71471,     0.71572,     0.71672,     0.71772,     0.71872,     0.71972,\n",
       "           0.72072,     0.72172,     0.72272,     0.72372,     0.72472,     0.72573,     0.72673,     0.72773,     0.72873,     0.72973,     0.73073,     0.73173,     0.73273,     0.73373,     0.73473,     0.73574,     0.73674,     0.73774,     0.73874,     0.73974,     0.74074,     0.74174,     0.74274,     0.74374,\n",
       "           0.74474,     0.74575,     0.74675,     0.74775,     0.74875,     0.74975,     0.75075,     0.75175,     0.75275,     0.75375,     0.75475,     0.75576,     0.75676,     0.75776,     0.75876,     0.75976,     0.76076,     0.76176,     0.76276,     0.76376,     0.76476,     0.76577,     0.76677,     0.76777,\n",
       "           0.76877,     0.76977,     0.77077,     0.77177,     0.77277,     0.77377,     0.77477,     0.77578,     0.77678,     0.77778,     0.77878,     0.77978,     0.78078,     0.78178,     0.78278,     0.78378,     0.78478,     0.78579,     0.78679,     0.78779,     0.78879,     0.78979,     0.79079,     0.79179,\n",
       "           0.79279,     0.79379,     0.79479,      0.7958,      0.7968,      0.7978,      0.7988,      0.7998,      0.8008,      0.8018,      0.8028,      0.8038,      0.8048,     0.80581,     0.80681,     0.80781,     0.80881,     0.80981,     0.81081,     0.81181,     0.81281,     0.81381,     0.81481,     0.81582,\n",
       "           0.81682,     0.81782,     0.81882,     0.81982,     0.82082,     0.82182,     0.82282,     0.82382,     0.82482,     0.82583,     0.82683,     0.82783,     0.82883,     0.82983,     0.83083,     0.83183,     0.83283,     0.83383,     0.83483,     0.83584,     0.83684,     0.83784,     0.83884,     0.83984,\n",
       "           0.84084,     0.84184,     0.84284,     0.84384,     0.84484,     0.84585,     0.84685,     0.84785,     0.84885,     0.84985,     0.85085,     0.85185,     0.85285,     0.85385,     0.85485,     0.85586,     0.85686,     0.85786,     0.85886,     0.85986,     0.86086,     0.86186,     0.86286,     0.86386,\n",
       "           0.86486,     0.86587,     0.86687,     0.86787,     0.86887,     0.86987,     0.87087,     0.87187,     0.87287,     0.87387,     0.87487,     0.87588,     0.87688,     0.87788,     0.87888,     0.87988,     0.88088,     0.88188,     0.88288,     0.88388,     0.88488,     0.88589,     0.88689,     0.88789,\n",
       "           0.88889,     0.88989,     0.89089,     0.89189,     0.89289,     0.89389,     0.89489,      0.8959,      0.8969,      0.8979,      0.8989,      0.8999,      0.9009,      0.9019,      0.9029,      0.9039,      0.9049,     0.90591,     0.90691,     0.90791,     0.90891,     0.90991,     0.91091,     0.91191,\n",
       "           0.91291,     0.91391,     0.91491,     0.91592,     0.91692,     0.91792,     0.91892,     0.91992,     0.92092,     0.92192,     0.92292,     0.92392,     0.92492,     0.92593,     0.92693,     0.92793,     0.92893,     0.92993,     0.93093,     0.93193,     0.93293,     0.93393,     0.93493,     0.93594,\n",
       "           0.93694,     0.93794,     0.93894,     0.93994,     0.94094,     0.94194,     0.94294,     0.94394,     0.94494,     0.94595,     0.94695,     0.94795,     0.94895,     0.94995,     0.95095,     0.95195,     0.95295,     0.95395,     0.95495,     0.95596,     0.95696,     0.95796,     0.95896,     0.95996,\n",
       "           0.96096,     0.96196,     0.96296,     0.96396,     0.96496,     0.96597,     0.96697,     0.96797,     0.96897,     0.96997,     0.97097,     0.97197,     0.97297,     0.97397,     0.97497,     0.97598,     0.97698,     0.97798,     0.97898,     0.97998,     0.98098,     0.98198,     0.98298,     0.98398,\n",
       "           0.98498,     0.98599,     0.98699,     0.98799,     0.98899,     0.98999,     0.99099,     0.99199,     0.99299,     0.99399,     0.99499,       0.996,       0.997,       0.998,       0.999,           1]), array([[    0.21392,     0.21407,     0.27163,     0.30327,     0.32496,     0.33935,     0.35811,     0.37329,     0.38894,     0.39729,     0.40691,     0.41781,     0.42801,     0.43166,     0.43588,     0.44223,     0.44719,     0.45459,      0.4599,     0.46793,     0.47272,     0.47248,     0.47433,\n",
       "            0.47836,     0.48212,     0.48502,     0.48261,     0.48585,     0.49058,     0.49467,     0.49637,     0.50119,     0.50433,     0.50908,     0.51335,     0.51316,     0.51491,     0.51259,     0.51303,     0.51592,     0.51782,     0.51867,     0.51773,      0.5223,     0.52342,     0.52487,\n",
       "            0.52514,      0.5234,     0.52475,     0.52565,     0.52614,     0.52299,     0.52342,     0.52385,     0.52587,     0.52853,     0.53046,     0.53136,     0.53282,     0.53322,     0.53062,     0.53136,     0.53259,     0.53244,     0.53314,     0.53497,     0.53678,     0.53475,      0.5357,\n",
       "            0.53692,     0.53851,     0.53614,     0.53769,     0.53977,     0.54092,     0.54289,     0.54381,     0.54628,      0.5443,      0.5446,      0.5449,      0.5452,     0.54587,     0.54869,     0.54664,     0.54896,     0.55178,     0.55655,     0.56058,     0.56142,     0.56269,      0.5634,\n",
       "            0.56384,     0.56428,     0.56222,     0.55971,     0.55516,     0.55642,     0.55895,     0.56006,     0.56102,     0.56202,     0.56303,     0.56396,     0.56491,     0.56605,     0.56735,     0.56864,     0.57034,      0.5718,     0.57027,     0.57426,     0.57536,      0.5742,      0.5726,\n",
       "             0.5752,     0.57521,     0.57377,     0.57382,     0.57112,     0.57133,       0.572,     0.57009,     0.56769,     0.56549,     0.56731,     0.56836,     0.56919,     0.56818,     0.56716,     0.56615,      0.5661,     0.56666,     0.56731,     0.56862,      0.5697,     0.57033,     0.57078,\n",
       "            0.57124,     0.57031,     0.56837,      0.5689,     0.55854,     0.55977,     0.56198,     0.56326,     0.56392,     0.56179,     0.56087,     0.56167,     0.55475,     0.55648,     0.55654,     0.55561,     0.55468,     0.55375,     0.55551,     0.55696,     0.55783,     0.55896,     0.55726,\n",
       "            0.55809,     0.55479,     0.55546,     0.55612,     0.55451,      0.5528,     0.54861,     0.54895,     0.54928,     0.54961,     0.55078,     0.55212,     0.55292,     0.55331,      0.5537,     0.55409,     0.55229,     0.55204,     0.55328,     0.55273,     0.55217,     0.55161,     0.55106,\n",
       "             0.5505,     0.54994,      0.5496,     0.55085,     0.54666,     0.54568,     0.54469,     0.54371,     0.54242,     0.54004,      0.5407,     0.54272,     0.54443,     0.54856,     0.54943,     0.55065,     0.55302,     0.55397,     0.55596,     0.55655,     0.55714,     0.55954,     0.56053,\n",
       "             0.5596,     0.55867,     0.55773,      0.5568,     0.55828,      0.5588,     0.55932,     0.55934,     0.55626,     0.55179,     0.55269,     0.55214,     0.55102,      0.5499,     0.54878,     0.55064,     0.55104,     0.55145,     0.55185,     0.55119,     0.55026,     0.54932,     0.54839,\n",
       "            0.54744,     0.54639,     0.54534,     0.54428,     0.54326,     0.54267,     0.54209,      0.5415,     0.54092,     0.54033,     0.53975,     0.53916,     0.53581,     0.53493,     0.53545,     0.53596,     0.53483,     0.53281,     0.53262,     0.53347,     0.53369,      0.5339,     0.53412,\n",
       "            0.53434,     0.53455,     0.53477,     0.53505,     0.53572,     0.53638,     0.53025,     0.52907,      0.5281,     0.52714,     0.52618,     0.52521,     0.52484,     0.52518,     0.52551,     0.52584,     0.52616,     0.52462,     0.52346,     0.52551,     0.52615,     0.52394,     0.52018,\n",
       "            0.51797,     0.51447,     0.51277,     0.51299,      0.5132,     0.51341,     0.51362,     0.51383,     0.51405,     0.51426,     0.51575,     0.51459,     0.51311,     0.51162,     0.51335,     0.51474,     0.51542,     0.51609,     0.51558,     0.51499,      0.5144,     0.51382,     0.51323,\n",
       "            0.51264,     0.51205,     0.51147,     0.50612,     0.50231,     0.50337,      0.5058,     0.50186,     0.50256,     0.50325,      0.5037,     0.50413,     0.50456,     0.50498,     0.49879,     0.49632,     0.49004,     0.49091,     0.49203,     0.49304,     0.49176,     0.49048,      0.4892,\n",
       "            0.48304,     0.48338,     0.48371,     0.48404,     0.48438,     0.48312,     0.47609,     0.47355,     0.47261,     0.47166,     0.47071,     0.46976,     0.46842,       0.465,     0.46395,     0.46441,     0.46487,     0.46532,     0.46568,     0.46604,     0.46639,     0.46675,     0.46491,\n",
       "            0.46159,     0.46284,     0.45997,     0.45202,     0.45083,     0.44964,     0.44845,     0.44726,     0.44623,      0.4453,     0.44437,     0.44344,      0.4425,     0.44157,     0.43598,     0.43383,     0.43188,     0.42987,     0.42737,     0.42486,     0.42281,     0.42084,     0.41887,\n",
       "            0.41309,     0.41325,     0.41341,     0.41358,     0.41374,      0.4139,     0.41406,     0.41422,     0.41438,     0.41454,      0.4129,     0.41124,     0.40957,     0.40302,     0.40383,     0.40426,     0.40367,     0.40309,     0.40251,     0.40192,     0.40134,     0.40075,     0.40017,\n",
       "            0.39958,     0.39899,     0.39938,     0.40037,      0.4008,     0.40123,     0.40171,     0.40227,     0.40283,     0.40351,     0.40424,     0.40204,     0.39859,     0.39946,     0.39641,      0.3935,     0.39125,     0.38899,     0.38804,     0.38845,     0.38886,     0.38927,     0.38782,\n",
       "            0.38614,     0.38446,     0.38259,        0.38,      0.3774,      0.3716,     0.36853,     0.36557,     0.36369,     0.36181,     0.35992,     0.35869,     0.35774,     0.35678,     0.35583,     0.35487,     0.35391,     0.35295,     0.35218,     0.35141,     0.35064,     0.34987,      0.3491,\n",
       "            0.34833,     0.34756,     0.34679,     0.34686,     0.34754,     0.34579,     0.34223,     0.33824,     0.33399,     0.32925,     0.32715,     0.32599,     0.32483,     0.32367,     0.32251,     0.32135,     0.30822,     0.30894,     0.30757,     0.30617,     0.30477,     0.30337,     0.30192,\n",
       "            0.29963,     0.29733,     0.29505,     0.29387,     0.29268,      0.2915,     0.29031,     0.28912,     0.28772,     0.28468,     0.28163,     0.27796,     0.27412,     0.27401,     0.27417,     0.27433,     0.27449,     0.27464,      0.2748,     0.27495,     0.26013,     0.25836,     0.25658,\n",
       "            0.25479,     0.24558,     0.24155,     0.23607,     0.23029,      0.2294,      0.2285,     0.22761,     0.22672,     0.22582,     0.22492,     0.22403,     0.22301,     0.22003,     0.21704,     0.21424,     0.21165,     0.20905,     0.19924,     0.19696,     0.19468,     0.19239,      0.1893,\n",
       "            0.18611,     0.18135,     0.16873,     0.16546,     0.16271,     0.15995,     0.15679,     0.15362,     0.14932,      0.1435,     0.14377,     0.14404,     0.14349,     0.14236,     0.14123,     0.14009,     0.13896,     0.13782,     0.13668,     0.13475,     0.12923,     0.12596,     0.12394,\n",
       "             0.1219,     0.11987,     0.11765,      0.1152,     0.11274,     0.11028,     0.10617,     0.10191,    0.098063,    0.094259,    0.091521,    0.089615,    0.087705,    0.085791,    0.083873,     0.06499,    0.063883,    0.062775,    0.061665,    0.060554,    0.059442,    0.058328,    0.057213,\n",
       "           0.056136,    0.055103,    0.054069,    0.053034,    0.051998,    0.050961,    0.049923,    0.048883,    0.047843,    0.045889,    0.043237,    0.040578,    0.037824,    0.033877,    0.029915,      0.0281,    0.027226,    0.026351,    0.025475,    0.024599,    0.023721,    0.022843,    0.021965,\n",
       "           0.021085,    0.020205,    0.019323,    0.018149,    0.016939,    0.015728,    0.014515,      0.0133,    0.012084,    0.010867,           0,           0,           0,           0,           0,           0,           0,           0,           0,           0,           0,           0,           0,\n",
       "                  0,           0,           0,           0,           0,           0,           0,           0,           0,           0,           0,           0,           0,           0,           0,           0,           0,           0,           0,           0,           0,           0,           0,\n",
       "                  0,           0,           0,           0,           0,           0,           0,           0,           0,           0,           0,           0,           0,           0,           0,           0,           0,           0,           0,           0,           0,           0,           0,\n",
       "                  0,           0,           0,           0,           0,           0,           0,           0,           0,           0,           0,           0,           0,           0,           0,           0,           0,           0,           0,           0,           0,           0,           0,\n",
       "                  0,           0,           0,           0,           0,           0,           0,           0,           0,           0,           0,           0,           0,           0,           0,           0,           0,           0,           0,           0,           0,           0,           0,\n",
       "                  0,           0,           0,           0,           0,           0,           0,           0,           0,           0,           0,           0,           0,           0,           0,           0,           0,           0,           0,           0,           0,           0,           0,\n",
       "                  0,           0,           0,           0,           0,           0,           0,           0,           0,           0,           0,           0,           0,           0,           0,           0,           0,           0,           0,           0,           0,           0,           0,\n",
       "                  0,           0,           0,           0,           0,           0,           0,           0,           0,           0,           0,           0,           0,           0,           0,           0,           0,           0,           0,           0,           0,           0,           0,\n",
       "                  0,           0,           0,           0,           0,           0,           0,           0,           0,           0,           0,           0,           0,           0,           0,           0,           0,           0,           0,           0,           0,           0,           0,\n",
       "                  0,           0,           0,           0,           0,           0,           0,           0,           0,           0,           0,           0,           0,           0,           0,           0,           0,           0,           0,           0,           0,           0,           0,\n",
       "                  0,           0,           0,           0,           0,           0,           0,           0,           0,           0,           0,           0,           0,           0,           0,           0,           0,           0,           0,           0,           0,           0,           0,\n",
       "                  0,           0,           0,           0,           0,           0,           0,           0,           0,           0,           0,           0,           0,           0,           0,           0,           0,           0,           0,           0,           0,           0,           0,\n",
       "                  0,           0,           0,           0,           0,           0,           0,           0,           0,           0,           0,           0,           0,           0,           0,           0,           0,           0,           0,           0,           0,           0,           0,\n",
       "                  0,           0,           0,           0,           0,           0,           0,           0,           0,           0,           0,           0,           0,           0,           0,           0,           0,           0,           0,           0,           0,           0,           0,\n",
       "                  0,           0,           0,           0,           0,           0,           0,           0,           0,           0,           0,           0,           0,           0,           0,           0,           0,           0,           0,           0,           0,           0,           0,\n",
       "                  0,           0,           0,           0,           0,           0,           0,           0,           0,           0,           0,           0,           0,           0,           0,           0,           0,           0,           0,           0,           0,           0,           0,\n",
       "                  0,           0,           0,           0,           0,           0,           0,           0,           0,           0,           0,           0,           0,           0,           0,           0,           0,           0,           0,           0,           0,           0,           0,\n",
       "                  0,           0,           0,           0,           0,           0,           0,           0,           0,           0,           0,           0,           0,           0,           0,           0,           0,           0,           0,           0,           0,           0,           0,\n",
       "                  0,           0,           0,           0,           0,           0,           0,           0,           0,           0,           0]]), 'Confidence', 'F1'], [array([          0,    0.001001,    0.002002,    0.003003,    0.004004,    0.005005,    0.006006,    0.007007,    0.008008,    0.009009,     0.01001,    0.011011,    0.012012,    0.013013,    0.014014,    0.015015,    0.016016,    0.017017,    0.018018,    0.019019,     0.02002,    0.021021,    0.022022,    0.023023,\n",
       "          0.024024,    0.025025,    0.026026,    0.027027,    0.028028,    0.029029,     0.03003,    0.031031,    0.032032,    0.033033,    0.034034,    0.035035,    0.036036,    0.037037,    0.038038,    0.039039,     0.04004,    0.041041,    0.042042,    0.043043,    0.044044,    0.045045,    0.046046,    0.047047,\n",
       "          0.048048,    0.049049,     0.05005,    0.051051,    0.052052,    0.053053,    0.054054,    0.055055,    0.056056,    0.057057,    0.058058,    0.059059,     0.06006,    0.061061,    0.062062,    0.063063,    0.064064,    0.065065,    0.066066,    0.067067,    0.068068,    0.069069,     0.07007,    0.071071,\n",
       "          0.072072,    0.073073,    0.074074,    0.075075,    0.076076,    0.077077,    0.078078,    0.079079,     0.08008,    0.081081,    0.082082,    0.083083,    0.084084,    0.085085,    0.086086,    0.087087,    0.088088,    0.089089,     0.09009,    0.091091,    0.092092,    0.093093,    0.094094,    0.095095,\n",
       "          0.096096,    0.097097,    0.098098,    0.099099,      0.1001,      0.1011,      0.1021,      0.1031,      0.1041,     0.10511,     0.10611,     0.10711,     0.10811,     0.10911,     0.11011,     0.11111,     0.11211,     0.11311,     0.11411,     0.11512,     0.11612,     0.11712,     0.11812,     0.11912,\n",
       "           0.12012,     0.12112,     0.12212,     0.12312,     0.12412,     0.12513,     0.12613,     0.12713,     0.12813,     0.12913,     0.13013,     0.13113,     0.13213,     0.13313,     0.13413,     0.13514,     0.13614,     0.13714,     0.13814,     0.13914,     0.14014,     0.14114,     0.14214,     0.14314,\n",
       "           0.14414,     0.14515,     0.14615,     0.14715,     0.14815,     0.14915,     0.15015,     0.15115,     0.15215,     0.15315,     0.15415,     0.15516,     0.15616,     0.15716,     0.15816,     0.15916,     0.16016,     0.16116,     0.16216,     0.16316,     0.16416,     0.16517,     0.16617,     0.16717,\n",
       "           0.16817,     0.16917,     0.17017,     0.17117,     0.17217,     0.17317,     0.17417,     0.17518,     0.17618,     0.17718,     0.17818,     0.17918,     0.18018,     0.18118,     0.18218,     0.18318,     0.18418,     0.18519,     0.18619,     0.18719,     0.18819,     0.18919,     0.19019,     0.19119,\n",
       "           0.19219,     0.19319,     0.19419,      0.1952,      0.1962,      0.1972,      0.1982,      0.1992,      0.2002,      0.2012,      0.2022,      0.2032,      0.2042,     0.20521,     0.20621,     0.20721,     0.20821,     0.20921,     0.21021,     0.21121,     0.21221,     0.21321,     0.21421,     0.21522,\n",
       "           0.21622,     0.21722,     0.21822,     0.21922,     0.22022,     0.22122,     0.22222,     0.22322,     0.22422,     0.22523,     0.22623,     0.22723,     0.22823,     0.22923,     0.23023,     0.23123,     0.23223,     0.23323,     0.23423,     0.23524,     0.23624,     0.23724,     0.23824,     0.23924,\n",
       "           0.24024,     0.24124,     0.24224,     0.24324,     0.24424,     0.24525,     0.24625,     0.24725,     0.24825,     0.24925,     0.25025,     0.25125,     0.25225,     0.25325,     0.25425,     0.25526,     0.25626,     0.25726,     0.25826,     0.25926,     0.26026,     0.26126,     0.26226,     0.26326,\n",
       "           0.26426,     0.26527,     0.26627,     0.26727,     0.26827,     0.26927,     0.27027,     0.27127,     0.27227,     0.27327,     0.27427,     0.27528,     0.27628,     0.27728,     0.27828,     0.27928,     0.28028,     0.28128,     0.28228,     0.28328,     0.28428,     0.28529,     0.28629,     0.28729,\n",
       "           0.28829,     0.28929,     0.29029,     0.29129,     0.29229,     0.29329,     0.29429,      0.2953,      0.2963,      0.2973,      0.2983,      0.2993,      0.3003,      0.3013,      0.3023,      0.3033,      0.3043,     0.30531,     0.30631,     0.30731,     0.30831,     0.30931,     0.31031,     0.31131,\n",
       "           0.31231,     0.31331,     0.31431,     0.31532,     0.31632,     0.31732,     0.31832,     0.31932,     0.32032,     0.32132,     0.32232,     0.32332,     0.32432,     0.32533,     0.32633,     0.32733,     0.32833,     0.32933,     0.33033,     0.33133,     0.33233,     0.33333,     0.33433,     0.33534,\n",
       "           0.33634,     0.33734,     0.33834,     0.33934,     0.34034,     0.34134,     0.34234,     0.34334,     0.34434,     0.34535,     0.34635,     0.34735,     0.34835,     0.34935,     0.35035,     0.35135,     0.35235,     0.35335,     0.35435,     0.35536,     0.35636,     0.35736,     0.35836,     0.35936,\n",
       "           0.36036,     0.36136,     0.36236,     0.36336,     0.36436,     0.36537,     0.36637,     0.36737,     0.36837,     0.36937,     0.37037,     0.37137,     0.37237,     0.37337,     0.37437,     0.37538,     0.37638,     0.37738,     0.37838,     0.37938,     0.38038,     0.38138,     0.38238,     0.38338,\n",
       "           0.38438,     0.38539,     0.38639,     0.38739,     0.38839,     0.38939,     0.39039,     0.39139,     0.39239,     0.39339,     0.39439,      0.3954,      0.3964,      0.3974,      0.3984,      0.3994,      0.4004,      0.4014,      0.4024,      0.4034,      0.4044,     0.40541,     0.40641,     0.40741,\n",
       "           0.40841,     0.40941,     0.41041,     0.41141,     0.41241,     0.41341,     0.41441,     0.41542,     0.41642,     0.41742,     0.41842,     0.41942,     0.42042,     0.42142,     0.42242,     0.42342,     0.42442,     0.42543,     0.42643,     0.42743,     0.42843,     0.42943,     0.43043,     0.43143,\n",
       "           0.43243,     0.43343,     0.43443,     0.43544,     0.43644,     0.43744,     0.43844,     0.43944,     0.44044,     0.44144,     0.44244,     0.44344,     0.44444,     0.44545,     0.44645,     0.44745,     0.44845,     0.44945,     0.45045,     0.45145,     0.45245,     0.45345,     0.45445,     0.45546,\n",
       "           0.45646,     0.45746,     0.45846,     0.45946,     0.46046,     0.46146,     0.46246,     0.46346,     0.46446,     0.46547,     0.46647,     0.46747,     0.46847,     0.46947,     0.47047,     0.47147,     0.47247,     0.47347,     0.47447,     0.47548,     0.47648,     0.47748,     0.47848,     0.47948,\n",
       "           0.48048,     0.48148,     0.48248,     0.48348,     0.48448,     0.48549,     0.48649,     0.48749,     0.48849,     0.48949,     0.49049,     0.49149,     0.49249,     0.49349,     0.49449,      0.4955,      0.4965,      0.4975,      0.4985,      0.4995,      0.5005,      0.5015,      0.5025,      0.5035,\n",
       "            0.5045,     0.50551,     0.50651,     0.50751,     0.50851,     0.50951,     0.51051,     0.51151,     0.51251,     0.51351,     0.51451,     0.51552,     0.51652,     0.51752,     0.51852,     0.51952,     0.52052,     0.52152,     0.52252,     0.52352,     0.52452,     0.52553,     0.52653,     0.52753,\n",
       "           0.52853,     0.52953,     0.53053,     0.53153,     0.53253,     0.53353,     0.53453,     0.53554,     0.53654,     0.53754,     0.53854,     0.53954,     0.54054,     0.54154,     0.54254,     0.54354,     0.54454,     0.54555,     0.54655,     0.54755,     0.54855,     0.54955,     0.55055,     0.55155,\n",
       "           0.55255,     0.55355,     0.55455,     0.55556,     0.55656,     0.55756,     0.55856,     0.55956,     0.56056,     0.56156,     0.56256,     0.56356,     0.56456,     0.56557,     0.56657,     0.56757,     0.56857,     0.56957,     0.57057,     0.57157,     0.57257,     0.57357,     0.57457,     0.57558,\n",
       "           0.57658,     0.57758,     0.57858,     0.57958,     0.58058,     0.58158,     0.58258,     0.58358,     0.58458,     0.58559,     0.58659,     0.58759,     0.58859,     0.58959,     0.59059,     0.59159,     0.59259,     0.59359,     0.59459,      0.5956,      0.5966,      0.5976,      0.5986,      0.5996,\n",
       "            0.6006,      0.6016,      0.6026,      0.6036,      0.6046,     0.60561,     0.60661,     0.60761,     0.60861,     0.60961,     0.61061,     0.61161,     0.61261,     0.61361,     0.61461,     0.61562,     0.61662,     0.61762,     0.61862,     0.61962,     0.62062,     0.62162,     0.62262,     0.62362,\n",
       "           0.62462,     0.62563,     0.62663,     0.62763,     0.62863,     0.62963,     0.63063,     0.63163,     0.63263,     0.63363,     0.63463,     0.63564,     0.63664,     0.63764,     0.63864,     0.63964,     0.64064,     0.64164,     0.64264,     0.64364,     0.64464,     0.64565,     0.64665,     0.64765,\n",
       "           0.64865,     0.64965,     0.65065,     0.65165,     0.65265,     0.65365,     0.65465,     0.65566,     0.65666,     0.65766,     0.65866,     0.65966,     0.66066,     0.66166,     0.66266,     0.66366,     0.66466,     0.66567,     0.66667,     0.66767,     0.66867,     0.66967,     0.67067,     0.67167,\n",
       "           0.67267,     0.67367,     0.67467,     0.67568,     0.67668,     0.67768,     0.67868,     0.67968,     0.68068,     0.68168,     0.68268,     0.68368,     0.68468,     0.68569,     0.68669,     0.68769,     0.68869,     0.68969,     0.69069,     0.69169,     0.69269,     0.69369,     0.69469,      0.6957,\n",
       "            0.6967,      0.6977,      0.6987,      0.6997,      0.7007,      0.7017,      0.7027,      0.7037,      0.7047,     0.70571,     0.70671,     0.70771,     0.70871,     0.70971,     0.71071,     0.71171,     0.71271,     0.71371,     0.71471,     0.71572,     0.71672,     0.71772,     0.71872,     0.71972,\n",
       "           0.72072,     0.72172,     0.72272,     0.72372,     0.72472,     0.72573,     0.72673,     0.72773,     0.72873,     0.72973,     0.73073,     0.73173,     0.73273,     0.73373,     0.73473,     0.73574,     0.73674,     0.73774,     0.73874,     0.73974,     0.74074,     0.74174,     0.74274,     0.74374,\n",
       "           0.74474,     0.74575,     0.74675,     0.74775,     0.74875,     0.74975,     0.75075,     0.75175,     0.75275,     0.75375,     0.75475,     0.75576,     0.75676,     0.75776,     0.75876,     0.75976,     0.76076,     0.76176,     0.76276,     0.76376,     0.76476,     0.76577,     0.76677,     0.76777,\n",
       "           0.76877,     0.76977,     0.77077,     0.77177,     0.77277,     0.77377,     0.77477,     0.77578,     0.77678,     0.77778,     0.77878,     0.77978,     0.78078,     0.78178,     0.78278,     0.78378,     0.78478,     0.78579,     0.78679,     0.78779,     0.78879,     0.78979,     0.79079,     0.79179,\n",
       "           0.79279,     0.79379,     0.79479,      0.7958,      0.7968,      0.7978,      0.7988,      0.7998,      0.8008,      0.8018,      0.8028,      0.8038,      0.8048,     0.80581,     0.80681,     0.80781,     0.80881,     0.80981,     0.81081,     0.81181,     0.81281,     0.81381,     0.81481,     0.81582,\n",
       "           0.81682,     0.81782,     0.81882,     0.81982,     0.82082,     0.82182,     0.82282,     0.82382,     0.82482,     0.82583,     0.82683,     0.82783,     0.82883,     0.82983,     0.83083,     0.83183,     0.83283,     0.83383,     0.83483,     0.83584,     0.83684,     0.83784,     0.83884,     0.83984,\n",
       "           0.84084,     0.84184,     0.84284,     0.84384,     0.84484,     0.84585,     0.84685,     0.84785,     0.84885,     0.84985,     0.85085,     0.85185,     0.85285,     0.85385,     0.85485,     0.85586,     0.85686,     0.85786,     0.85886,     0.85986,     0.86086,     0.86186,     0.86286,     0.86386,\n",
       "           0.86486,     0.86587,     0.86687,     0.86787,     0.86887,     0.86987,     0.87087,     0.87187,     0.87287,     0.87387,     0.87487,     0.87588,     0.87688,     0.87788,     0.87888,     0.87988,     0.88088,     0.88188,     0.88288,     0.88388,     0.88488,     0.88589,     0.88689,     0.88789,\n",
       "           0.88889,     0.88989,     0.89089,     0.89189,     0.89289,     0.89389,     0.89489,      0.8959,      0.8969,      0.8979,      0.8989,      0.8999,      0.9009,      0.9019,      0.9029,      0.9039,      0.9049,     0.90591,     0.90691,     0.90791,     0.90891,     0.90991,     0.91091,     0.91191,\n",
       "           0.91291,     0.91391,     0.91491,     0.91592,     0.91692,     0.91792,     0.91892,     0.91992,     0.92092,     0.92192,     0.92292,     0.92392,     0.92492,     0.92593,     0.92693,     0.92793,     0.92893,     0.92993,     0.93093,     0.93193,     0.93293,     0.93393,     0.93493,     0.93594,\n",
       "           0.93694,     0.93794,     0.93894,     0.93994,     0.94094,     0.94194,     0.94294,     0.94394,     0.94494,     0.94595,     0.94695,     0.94795,     0.94895,     0.94995,     0.95095,     0.95195,     0.95295,     0.95395,     0.95495,     0.95596,     0.95696,     0.95796,     0.95896,     0.95996,\n",
       "           0.96096,     0.96196,     0.96296,     0.96396,     0.96496,     0.96597,     0.96697,     0.96797,     0.96897,     0.96997,     0.97097,     0.97197,     0.97297,     0.97397,     0.97497,     0.97598,     0.97698,     0.97798,     0.97898,     0.97998,     0.98098,     0.98198,     0.98298,     0.98398,\n",
       "           0.98498,     0.98599,     0.98699,     0.98799,     0.98899,     0.98999,     0.99099,     0.99199,     0.99299,     0.99399,     0.99499,       0.996,       0.997,       0.998,       0.999,           1]), array([[      0.123,      0.1231,     0.16355,     0.18758,     0.20546,     0.21827,      0.2345,     0.24822,     0.26225,     0.27117,     0.28091,      0.2914,     0.30143,     0.30676,     0.31135,     0.31848,     0.32365,     0.33145,      0.3382,     0.34695,     0.35225,     0.35316,     0.35645,\n",
       "            0.36101,     0.36531,     0.36865,     0.36851,     0.37369,     0.37933,     0.38575,     0.38937,     0.39533,     0.40092,     0.40697,     0.41244,     0.41706,     0.42007,     0.41893,     0.41951,      0.4234,     0.42596,     0.42711,     0.42789,     0.43416,     0.43571,     0.43772,\n",
       "            0.43977,     0.44008,       0.442,     0.44327,      0.4461,     0.44413,     0.44475,     0.44536,     0.44829,     0.45217,       0.455,     0.45632,     0.45848,     0.45908,     0.45776,     0.45886,     0.46181,      0.4631,     0.46415,     0.46693,     0.47035,     0.46934,     0.47079,\n",
       "            0.47268,     0.47515,     0.47405,     0.47674,     0.48002,     0.48184,     0.48499,     0.48645,     0.49042,     0.49031,      0.4908,     0.49128,     0.49177,     0.49287,     0.49747,     0.49734,     0.50119,     0.50592,       0.514,      0.5209,     0.52237,     0.52456,     0.52579,\n",
       "            0.52656,     0.52733,     0.52758,     0.52673,     0.52629,     0.52855,     0.53314,     0.53517,     0.53693,     0.53876,     0.54062,     0.54234,     0.54409,     0.54622,     0.54864,     0.55106,     0.55426,     0.55703,     0.55852,     0.56623,     0.56838,     0.56791,     0.56696,\n",
       "            0.57274,     0.57424,     0.57338,     0.57482,     0.57376,     0.57474,     0.57609,     0.57513,     0.57369,     0.57237,     0.57666,     0.57885,     0.58074,     0.58013,     0.57952,     0.57892,      0.5794,     0.58058,     0.58194,     0.58471,     0.58699,     0.58833,      0.5893,\n",
       "            0.59027,     0.59001,     0.58886,     0.59081,     0.58547,     0.58818,     0.59309,     0.59594,     0.59743,     0.59645,     0.59666,     0.59848,     0.59523,     0.59923,     0.60067,     0.60012,     0.59956,     0.59901,     0.60354,     0.60697,     0.60904,     0.61174,     0.61461,\n",
       "            0.61662,     0.61569,     0.61733,     0.61898,     0.61808,     0.61707,     0.61503,     0.61586,      0.6167,     0.61754,      0.6205,     0.62391,     0.62595,     0.62696,     0.62797,     0.62898,     0.62842,     0.63159,     0.63514,     0.63481,     0.63449,     0.63417,     0.63384,\n",
       "            0.63352,      0.6332,     0.63331,     0.63663,     0.63444,     0.63386,     0.63329,     0.63271,     0.63195,     0.63055,     0.63485,     0.64044,     0.64522,     0.65696,     0.65945,     0.66297,     0.66989,     0.67268,     0.67857,     0.68034,      0.6821,     0.68935,     0.69277,\n",
       "            0.69228,     0.69178,     0.69129,     0.69079,      0.6961,     0.69771,     0.69933,     0.70051,      0.6989,      0.6978,     0.70069,     0.70107,     0.70048,     0.69989,      0.6993,     0.70568,       0.707,     0.70833,     0.70965,     0.70954,     0.70906,     0.70857,     0.70809,\n",
       "             0.7076,     0.70705,      0.7065,     0.70595,     0.70541,      0.7051,     0.70479,     0.70449,     0.70418,     0.70387,     0.70356,     0.70325,     0.70146,     0.70215,     0.70393,     0.70572,     0.70565,     0.70458,     0.70715,     0.71016,     0.71093,      0.7117,     0.71247,\n",
       "            0.71324,     0.71401,     0.71479,     0.71579,     0.71819,     0.72059,     0.71804,      0.7226,      0.7221,     0.72161,     0.72111,     0.72061,     0.72092,     0.72217,     0.72342,     0.72467,     0.72592,     0.72562,     0.73082,     0.73886,     0.74141,     0.74202,     0.74015,\n",
       "            0.73905,     0.73728,     0.73684,     0.73772,      0.7386,     0.73948,     0.74036,     0.74124,     0.74212,       0.743,     0.74928,     0.74934,     0.74861,     0.74788,       0.757,     0.76308,     0.76607,     0.76906,     0.76897,      0.7687,     0.76842,     0.76815,     0.76788,\n",
       "             0.7676,     0.76733,     0.76706,     0.76453,      0.7627,     0.77049,     0.78199,     0.78453,     0.78795,     0.79137,     0.79361,     0.79574,     0.79787,         0.8,     0.79735,     0.79628,     0.79353,     0.79861,     0.80459,     0.81103,     0.81049,     0.80996,     0.80943,\n",
       "             0.8071,     0.80897,     0.81084,     0.81272,     0.81459,     0.81547,     0.81254,     0.81148,     0.81107,     0.81067,     0.81027,     0.80986,     0.80929,      0.8078,     0.80895,     0.81177,     0.81459,     0.81733,     0.81955,     0.82176,     0.82398,      0.8262,     0.82636,\n",
       "            0.82535,     0.83337,      0.8342,     0.83106,     0.83057,     0.83009,     0.82961,     0.82913,     0.82871,     0.82832,     0.82794,     0.82755,     0.82717,     0.82679,     0.82444,     0.82352,     0.82268,     0.82181,     0.82072,     0.81962,     0.81871,     0.81783,     0.81695,\n",
       "            0.81463,      0.8159,     0.81717,     0.81844,     0.81972,     0.82099,     0.82226,     0.82353,      0.8248,     0.82607,     0.82536,     0.82462,     0.82389,     0.82165,     0.82837,     0.83327,     0.83301,     0.83276,      0.8325,     0.83225,     0.83199,     0.83174,     0.83148,\n",
       "            0.83123,     0.83097,     0.83823,     0.84705,     0.85093,     0.85481,      0.8592,     0.86435,      0.8695,     0.87592,     0.88286,     0.88446,     0.88428,     0.89815,     0.89726,     0.89642,     0.89575,     0.89508,     0.89691,     0.90135,     0.90579,     0.91023,     0.91032,\n",
       "            0.90988,     0.90944,     0.90894,     0.90824,     0.90754,     0.92296,     0.92223,     0.92152,     0.92106,      0.9206,     0.92013,     0.91983,     0.91958,     0.91934,      0.9191,     0.91886,     0.91861,     0.91837,     0.91817,     0.91797,     0.91776,     0.91756,     0.91736,\n",
       "            0.91716,     0.91695,     0.91675,     0.92227,     0.93202,     0.93574,     0.93499,     0.93412,     0.93318,      0.9321,     0.93162,     0.93134,     0.93107,      0.9308,     0.93052,     0.93025,      0.9365,     0.94985,     0.94974,     0.94948,     0.94922,     0.94896,      0.9487,\n",
       "            0.94825,      0.9478,     0.94736,     0.94712,     0.94688,     0.94664,      0.9464,     0.94616,     0.94587,     0.94523,     0.94458,     0.94377,     0.94292,     0.94642,     0.95025,     0.95408,      0.9579,     0.96173,     0.96555,     0.96938,      0.9687,     0.96845,     0.96821,\n",
       "            0.96796,     0.96664,     0.96602,     0.96515,      0.9642,     0.96405,     0.96389,     0.96373,     0.96358,     0.96342,     0.96327,     0.96311,     0.96293,     0.96238,     0.96182,     0.96128,     0.96077,     0.96025,     0.95816,     0.95763,     0.95711,     0.95658,     0.95581,\n",
       "            0.95502,     0.95377,     0.95017,     0.94913,     0.94824,     0.94735,     0.94622,     0.94509,     0.94347,     0.94128,     0.96551,     0.98973,           1,           1,           1,           1,           1,           1,           1,           1,           1,           1,           1,\n",
       "                  1,           1,           1,           1,           1,           1,           1,           1,           1,           1,           1,           1,           1,           1,           1,           1,           1,           1,           1,           1,           1,           1,           1,\n",
       "                  1,           1,           1,           1,           1,           1,           1,           1,           1,           1,           1,           1,           1,           1,           1,           1,           1,           1,           1,           1,           1,           1,           1,\n",
       "                  1,           1,           1,           1,           1,           1,           1,           1,           1,           1,           1,           1,           1,           1,           1,           1,           1,           1,           1,           1,           1,           1,           1,\n",
       "                  1,           1,           1,           1,           1,           1,           1,           1,           1,           1,           1,           1,           1,           1,           1,           1,           1,           1,           1,           1,           1,           1,           1,\n",
       "                  1,           1,           1,           1,           1,           1,           1,           1,           1,           1,           1,           1,           1,           1,           1,           1,           1,           1,           1,           1,           1,           1,           1,\n",
       "                  1,           1,           1,           1,           1,           1,           1,           1,           1,           1,           1,           1,           1,           1,           1,           1,           1,           1,           1,           1,           1,           1,           1,\n",
       "                  1,           1,           1,           1,           1,           1,           1,           1,           1,           1,           1,           1,           1,           1,           1,           1,           1,           1,           1,           1,           1,           1,           1,\n",
       "                  1,           1,           1,           1,           1,           1,           1,           1,           1,           1,           1,           1,           1,           1,           1,           1,           1,           1,           1,           1,           1,           1,           1,\n",
       "                  1,           1,           1,           1,           1,           1,           1,           1,           1,           1,           1,           1,           1,           1,           1,           1,           1,           1,           1,           1,           1,           1,           1,\n",
       "                  1,           1,           1,           1,           1,           1,           1,           1,           1,           1,           1,           1,           1,           1,           1,           1,           1,           1,           1,           1,           1,           1,           1,\n",
       "                  1,           1,           1,           1,           1,           1,           1,           1,           1,           1,           1,           1,           1,           1,           1,           1,           1,           1,           1,           1,           1,           1,           1,\n",
       "                  1,           1,           1,           1,           1,           1,           1,           1,           1,           1,           1,           1,           1,           1,           1,           1,           1,           1,           1,           1,           1,           1,           1,\n",
       "                  1,           1,           1,           1,           1,           1,           1,           1,           1,           1,           1,           1,           1,           1,           1,           1,           1,           1,           1,           1,           1,           1,           1,\n",
       "                  1,           1,           1,           1,           1,           1,           1,           1,           1,           1,           1,           1,           1,           1,           1,           1,           1,           1,           1,           1,           1,           1,           1,\n",
       "                  1,           1,           1,           1,           1,           1,           1,           1,           1,           1,           1,           1,           1,           1,           1,           1,           1,           1,           1,           1,           1,           1,           1,\n",
       "                  1,           1,           1,           1,           1,           1,           1,           1,           1,           1,           1,           1,           1,           1,           1,           1,           1,           1,           1,           1,           1,           1,           1,\n",
       "                  1,           1,           1,           1,           1,           1,           1,           1,           1,           1,           1,           1,           1,           1,           1,           1,           1,           1,           1,           1,           1,           1,           1,\n",
       "                  1,           1,           1,           1,           1,           1,           1,           1,           1,           1,           1,           1,           1,           1,           1,           1,           1,           1,           1,           1,           1,           1,           1,\n",
       "                  1,           1,           1,           1,           1,           1,           1,           1,           1,           1,           1,           1,           1,           1,           1,           1,           1,           1,           1,           1,           1,           1,           1,\n",
       "                  1,           1,           1,           1,           1,           1,           1,           1,           1,           1,           1,           1,           1,           1,           1,           1,           1,           1,           1,           1,           1,           1,           1,\n",
       "                  1,           1,           1,           1,           1,           1,           1,           1,           1,           1,           1]]), 'Confidence', 'Precision'], [array([          0,    0.001001,    0.002002,    0.003003,    0.004004,    0.005005,    0.006006,    0.007007,    0.008008,    0.009009,     0.01001,    0.011011,    0.012012,    0.013013,    0.014014,    0.015015,    0.016016,    0.017017,    0.018018,    0.019019,     0.02002,    0.021021,    0.022022,    0.023023,\n",
       "          0.024024,    0.025025,    0.026026,    0.027027,    0.028028,    0.029029,     0.03003,    0.031031,    0.032032,    0.033033,    0.034034,    0.035035,    0.036036,    0.037037,    0.038038,    0.039039,     0.04004,    0.041041,    0.042042,    0.043043,    0.044044,    0.045045,    0.046046,    0.047047,\n",
       "          0.048048,    0.049049,     0.05005,    0.051051,    0.052052,    0.053053,    0.054054,    0.055055,    0.056056,    0.057057,    0.058058,    0.059059,     0.06006,    0.061061,    0.062062,    0.063063,    0.064064,    0.065065,    0.066066,    0.067067,    0.068068,    0.069069,     0.07007,    0.071071,\n",
       "          0.072072,    0.073073,    0.074074,    0.075075,    0.076076,    0.077077,    0.078078,    0.079079,     0.08008,    0.081081,    0.082082,    0.083083,    0.084084,    0.085085,    0.086086,    0.087087,    0.088088,    0.089089,     0.09009,    0.091091,    0.092092,    0.093093,    0.094094,    0.095095,\n",
       "          0.096096,    0.097097,    0.098098,    0.099099,      0.1001,      0.1011,      0.1021,      0.1031,      0.1041,     0.10511,     0.10611,     0.10711,     0.10811,     0.10911,     0.11011,     0.11111,     0.11211,     0.11311,     0.11411,     0.11512,     0.11612,     0.11712,     0.11812,     0.11912,\n",
       "           0.12012,     0.12112,     0.12212,     0.12312,     0.12412,     0.12513,     0.12613,     0.12713,     0.12813,     0.12913,     0.13013,     0.13113,     0.13213,     0.13313,     0.13413,     0.13514,     0.13614,     0.13714,     0.13814,     0.13914,     0.14014,     0.14114,     0.14214,     0.14314,\n",
       "           0.14414,     0.14515,     0.14615,     0.14715,     0.14815,     0.14915,     0.15015,     0.15115,     0.15215,     0.15315,     0.15415,     0.15516,     0.15616,     0.15716,     0.15816,     0.15916,     0.16016,     0.16116,     0.16216,     0.16316,     0.16416,     0.16517,     0.16617,     0.16717,\n",
       "           0.16817,     0.16917,     0.17017,     0.17117,     0.17217,     0.17317,     0.17417,     0.17518,     0.17618,     0.17718,     0.17818,     0.17918,     0.18018,     0.18118,     0.18218,     0.18318,     0.18418,     0.18519,     0.18619,     0.18719,     0.18819,     0.18919,     0.19019,     0.19119,\n",
       "           0.19219,     0.19319,     0.19419,      0.1952,      0.1962,      0.1972,      0.1982,      0.1992,      0.2002,      0.2012,      0.2022,      0.2032,      0.2042,     0.20521,     0.20621,     0.20721,     0.20821,     0.20921,     0.21021,     0.21121,     0.21221,     0.21321,     0.21421,     0.21522,\n",
       "           0.21622,     0.21722,     0.21822,     0.21922,     0.22022,     0.22122,     0.22222,     0.22322,     0.22422,     0.22523,     0.22623,     0.22723,     0.22823,     0.22923,     0.23023,     0.23123,     0.23223,     0.23323,     0.23423,     0.23524,     0.23624,     0.23724,     0.23824,     0.23924,\n",
       "           0.24024,     0.24124,     0.24224,     0.24324,     0.24424,     0.24525,     0.24625,     0.24725,     0.24825,     0.24925,     0.25025,     0.25125,     0.25225,     0.25325,     0.25425,     0.25526,     0.25626,     0.25726,     0.25826,     0.25926,     0.26026,     0.26126,     0.26226,     0.26326,\n",
       "           0.26426,     0.26527,     0.26627,     0.26727,     0.26827,     0.26927,     0.27027,     0.27127,     0.27227,     0.27327,     0.27427,     0.27528,     0.27628,     0.27728,     0.27828,     0.27928,     0.28028,     0.28128,     0.28228,     0.28328,     0.28428,     0.28529,     0.28629,     0.28729,\n",
       "           0.28829,     0.28929,     0.29029,     0.29129,     0.29229,     0.29329,     0.29429,      0.2953,      0.2963,      0.2973,      0.2983,      0.2993,      0.3003,      0.3013,      0.3023,      0.3033,      0.3043,     0.30531,     0.30631,     0.30731,     0.30831,     0.30931,     0.31031,     0.31131,\n",
       "           0.31231,     0.31331,     0.31431,     0.31532,     0.31632,     0.31732,     0.31832,     0.31932,     0.32032,     0.32132,     0.32232,     0.32332,     0.32432,     0.32533,     0.32633,     0.32733,     0.32833,     0.32933,     0.33033,     0.33133,     0.33233,     0.33333,     0.33433,     0.33534,\n",
       "           0.33634,     0.33734,     0.33834,     0.33934,     0.34034,     0.34134,     0.34234,     0.34334,     0.34434,     0.34535,     0.34635,     0.34735,     0.34835,     0.34935,     0.35035,     0.35135,     0.35235,     0.35335,     0.35435,     0.35536,     0.35636,     0.35736,     0.35836,     0.35936,\n",
       "           0.36036,     0.36136,     0.36236,     0.36336,     0.36436,     0.36537,     0.36637,     0.36737,     0.36837,     0.36937,     0.37037,     0.37137,     0.37237,     0.37337,     0.37437,     0.37538,     0.37638,     0.37738,     0.37838,     0.37938,     0.38038,     0.38138,     0.38238,     0.38338,\n",
       "           0.38438,     0.38539,     0.38639,     0.38739,     0.38839,     0.38939,     0.39039,     0.39139,     0.39239,     0.39339,     0.39439,      0.3954,      0.3964,      0.3974,      0.3984,      0.3994,      0.4004,      0.4014,      0.4024,      0.4034,      0.4044,     0.40541,     0.40641,     0.40741,\n",
       "           0.40841,     0.40941,     0.41041,     0.41141,     0.41241,     0.41341,     0.41441,     0.41542,     0.41642,     0.41742,     0.41842,     0.41942,     0.42042,     0.42142,     0.42242,     0.42342,     0.42442,     0.42543,     0.42643,     0.42743,     0.42843,     0.42943,     0.43043,     0.43143,\n",
       "           0.43243,     0.43343,     0.43443,     0.43544,     0.43644,     0.43744,     0.43844,     0.43944,     0.44044,     0.44144,     0.44244,     0.44344,     0.44444,     0.44545,     0.44645,     0.44745,     0.44845,     0.44945,     0.45045,     0.45145,     0.45245,     0.45345,     0.45445,     0.45546,\n",
       "           0.45646,     0.45746,     0.45846,     0.45946,     0.46046,     0.46146,     0.46246,     0.46346,     0.46446,     0.46547,     0.46647,     0.46747,     0.46847,     0.46947,     0.47047,     0.47147,     0.47247,     0.47347,     0.47447,     0.47548,     0.47648,     0.47748,     0.47848,     0.47948,\n",
       "           0.48048,     0.48148,     0.48248,     0.48348,     0.48448,     0.48549,     0.48649,     0.48749,     0.48849,     0.48949,     0.49049,     0.49149,     0.49249,     0.49349,     0.49449,      0.4955,      0.4965,      0.4975,      0.4985,      0.4995,      0.5005,      0.5015,      0.5025,      0.5035,\n",
       "            0.5045,     0.50551,     0.50651,     0.50751,     0.50851,     0.50951,     0.51051,     0.51151,     0.51251,     0.51351,     0.51451,     0.51552,     0.51652,     0.51752,     0.51852,     0.51952,     0.52052,     0.52152,     0.52252,     0.52352,     0.52452,     0.52553,     0.52653,     0.52753,\n",
       "           0.52853,     0.52953,     0.53053,     0.53153,     0.53253,     0.53353,     0.53453,     0.53554,     0.53654,     0.53754,     0.53854,     0.53954,     0.54054,     0.54154,     0.54254,     0.54354,     0.54454,     0.54555,     0.54655,     0.54755,     0.54855,     0.54955,     0.55055,     0.55155,\n",
       "           0.55255,     0.55355,     0.55455,     0.55556,     0.55656,     0.55756,     0.55856,     0.55956,     0.56056,     0.56156,     0.56256,     0.56356,     0.56456,     0.56557,     0.56657,     0.56757,     0.56857,     0.56957,     0.57057,     0.57157,     0.57257,     0.57357,     0.57457,     0.57558,\n",
       "           0.57658,     0.57758,     0.57858,     0.57958,     0.58058,     0.58158,     0.58258,     0.58358,     0.58458,     0.58559,     0.58659,     0.58759,     0.58859,     0.58959,     0.59059,     0.59159,     0.59259,     0.59359,     0.59459,      0.5956,      0.5966,      0.5976,      0.5986,      0.5996,\n",
       "            0.6006,      0.6016,      0.6026,      0.6036,      0.6046,     0.60561,     0.60661,     0.60761,     0.60861,     0.60961,     0.61061,     0.61161,     0.61261,     0.61361,     0.61461,     0.61562,     0.61662,     0.61762,     0.61862,     0.61962,     0.62062,     0.62162,     0.62262,     0.62362,\n",
       "           0.62462,     0.62563,     0.62663,     0.62763,     0.62863,     0.62963,     0.63063,     0.63163,     0.63263,     0.63363,     0.63463,     0.63564,     0.63664,     0.63764,     0.63864,     0.63964,     0.64064,     0.64164,     0.64264,     0.64364,     0.64464,     0.64565,     0.64665,     0.64765,\n",
       "           0.64865,     0.64965,     0.65065,     0.65165,     0.65265,     0.65365,     0.65465,     0.65566,     0.65666,     0.65766,     0.65866,     0.65966,     0.66066,     0.66166,     0.66266,     0.66366,     0.66466,     0.66567,     0.66667,     0.66767,     0.66867,     0.66967,     0.67067,     0.67167,\n",
       "           0.67267,     0.67367,     0.67467,     0.67568,     0.67668,     0.67768,     0.67868,     0.67968,     0.68068,     0.68168,     0.68268,     0.68368,     0.68468,     0.68569,     0.68669,     0.68769,     0.68869,     0.68969,     0.69069,     0.69169,     0.69269,     0.69369,     0.69469,      0.6957,\n",
       "            0.6967,      0.6977,      0.6987,      0.6997,      0.7007,      0.7017,      0.7027,      0.7037,      0.7047,     0.70571,     0.70671,     0.70771,     0.70871,     0.70971,     0.71071,     0.71171,     0.71271,     0.71371,     0.71471,     0.71572,     0.71672,     0.71772,     0.71872,     0.71972,\n",
       "           0.72072,     0.72172,     0.72272,     0.72372,     0.72472,     0.72573,     0.72673,     0.72773,     0.72873,     0.72973,     0.73073,     0.73173,     0.73273,     0.73373,     0.73473,     0.73574,     0.73674,     0.73774,     0.73874,     0.73974,     0.74074,     0.74174,     0.74274,     0.74374,\n",
       "           0.74474,     0.74575,     0.74675,     0.74775,     0.74875,     0.74975,     0.75075,     0.75175,     0.75275,     0.75375,     0.75475,     0.75576,     0.75676,     0.75776,     0.75876,     0.75976,     0.76076,     0.76176,     0.76276,     0.76376,     0.76476,     0.76577,     0.76677,     0.76777,\n",
       "           0.76877,     0.76977,     0.77077,     0.77177,     0.77277,     0.77377,     0.77477,     0.77578,     0.77678,     0.77778,     0.77878,     0.77978,     0.78078,     0.78178,     0.78278,     0.78378,     0.78478,     0.78579,     0.78679,     0.78779,     0.78879,     0.78979,     0.79079,     0.79179,\n",
       "           0.79279,     0.79379,     0.79479,      0.7958,      0.7968,      0.7978,      0.7988,      0.7998,      0.8008,      0.8018,      0.8028,      0.8038,      0.8048,     0.80581,     0.80681,     0.80781,     0.80881,     0.80981,     0.81081,     0.81181,     0.81281,     0.81381,     0.81481,     0.81582,\n",
       "           0.81682,     0.81782,     0.81882,     0.81982,     0.82082,     0.82182,     0.82282,     0.82382,     0.82482,     0.82583,     0.82683,     0.82783,     0.82883,     0.82983,     0.83083,     0.83183,     0.83283,     0.83383,     0.83483,     0.83584,     0.83684,     0.83784,     0.83884,     0.83984,\n",
       "           0.84084,     0.84184,     0.84284,     0.84384,     0.84484,     0.84585,     0.84685,     0.84785,     0.84885,     0.84985,     0.85085,     0.85185,     0.85285,     0.85385,     0.85485,     0.85586,     0.85686,     0.85786,     0.85886,     0.85986,     0.86086,     0.86186,     0.86286,     0.86386,\n",
       "           0.86486,     0.86587,     0.86687,     0.86787,     0.86887,     0.86987,     0.87087,     0.87187,     0.87287,     0.87387,     0.87487,     0.87588,     0.87688,     0.87788,     0.87888,     0.87988,     0.88088,     0.88188,     0.88288,     0.88388,     0.88488,     0.88589,     0.88689,     0.88789,\n",
       "           0.88889,     0.88989,     0.89089,     0.89189,     0.89289,     0.89389,     0.89489,      0.8959,      0.8969,      0.8979,      0.8989,      0.8999,      0.9009,      0.9019,      0.9029,      0.9039,      0.9049,     0.90591,     0.90691,     0.90791,     0.90891,     0.90991,     0.91091,     0.91191,\n",
       "           0.91291,     0.91391,     0.91491,     0.91592,     0.91692,     0.91792,     0.91892,     0.91992,     0.92092,     0.92192,     0.92292,     0.92392,     0.92492,     0.92593,     0.92693,     0.92793,     0.92893,     0.92993,     0.93093,     0.93193,     0.93293,     0.93393,     0.93493,     0.93594,\n",
       "           0.93694,     0.93794,     0.93894,     0.93994,     0.94094,     0.94194,     0.94294,     0.94394,     0.94494,     0.94595,     0.94695,     0.94795,     0.94895,     0.94995,     0.95095,     0.95195,     0.95295,     0.95395,     0.95495,     0.95596,     0.95696,     0.95796,     0.95896,     0.95996,\n",
       "           0.96096,     0.96196,     0.96296,     0.96396,     0.96496,     0.96597,     0.96697,     0.96797,     0.96897,     0.96997,     0.97097,     0.97197,     0.97297,     0.97397,     0.97497,     0.97598,     0.97698,     0.97798,     0.97898,     0.97998,     0.98098,     0.98198,     0.98298,     0.98398,\n",
       "           0.98498,     0.98599,     0.98699,     0.98799,     0.98899,     0.98999,     0.99099,     0.99199,     0.99299,     0.99399,     0.99499,       0.996,       0.997,       0.998,       0.999,           1]), array([[    0.82039,     0.82039,     0.80097,     0.79126,      0.7767,     0.76214,     0.75728,     0.75243,     0.75243,     0.74272,     0.73786,     0.73786,     0.73786,     0.72816,     0.72645,      0.7233,      0.7233,      0.7233,     0.71845,     0.71845,     0.71845,     0.71359,     0.70874,\n",
       "            0.70874,     0.70874,     0.70874,     0.69903,     0.69417,     0.69417,     0.68932,     0.68447,     0.68447,     0.67961,     0.67961,     0.67961,     0.66682,     0.66505,     0.66019,     0.66019,     0.66019,     0.66019,     0.66019,     0.65534,     0.65534,     0.65534,     0.65534,\n",
       "            0.65163,     0.64563,     0.64563,     0.64563,     0.64118,     0.63592,     0.63592,     0.63592,     0.63592,     0.63592,     0.63592,     0.63592,     0.63592,     0.63592,     0.63107,     0.63107,     0.62899,     0.62621,     0.62621,     0.62621,     0.62507,     0.62136,     0.62136,\n",
       "            0.62136,     0.62136,     0.61693,      0.6165,      0.6165,      0.6165,      0.6165,      0.6165,      0.6165,     0.61165,     0.61165,     0.61165,     0.61165,     0.61165,     0.61165,      0.6068,      0.6068,      0.6068,      0.6068,      0.6068,      0.6068,      0.6068,      0.6068,\n",
       "             0.6068,      0.6068,     0.60174,     0.59709,     0.58738,     0.58738,     0.58738,     0.58738,     0.58738,     0.58738,     0.58738,     0.58738,     0.58738,     0.58738,     0.58738,     0.58738,     0.58738,     0.58738,     0.58252,     0.58252,     0.58252,     0.58062,     0.57835,\n",
       "            0.57767,     0.57617,     0.57415,     0.57282,      0.5685,     0.56796,     0.56796,     0.56513,     0.56182,     0.55878,     0.55825,     0.55825,     0.55809,     0.55671,     0.55532,     0.55394,      0.5534,      0.5534,      0.5534,      0.5534,      0.5534,      0.5534,      0.5534,\n",
       "             0.5534,     0.55188,     0.54926,     0.54854,     0.53398,     0.53398,     0.53398,     0.53398,     0.53398,     0.53094,     0.52913,     0.52913,     0.51942,     0.51942,     0.51845,     0.51725,     0.51605,     0.51486,     0.51456,     0.51456,     0.51456,     0.51456,     0.50971,\n",
       "            0.50971,     0.50485,     0.50485,     0.50485,      0.5028,     0.50065,     0.49515,     0.49515,     0.49515,     0.49515,     0.49515,     0.49515,     0.49515,     0.49515,     0.49515,     0.49515,      0.4926,     0.49029,     0.49012,     0.48944,     0.48876,     0.48808,      0.4874,\n",
       "            0.48672,     0.48604,     0.48544,     0.48544,     0.48022,     0.47904,     0.47785,     0.47666,     0.47511,     0.47225,     0.47087,     0.47087,     0.47087,     0.47087,     0.47087,     0.47087,     0.47087,     0.47087,     0.47087,     0.47087,     0.47087,     0.47087,     0.47069,\n",
       "             0.4696,     0.46851,     0.46743,     0.46634,     0.46602,     0.46602,     0.46602,     0.46553,     0.46198,     0.45631,     0.45631,     0.45539,     0.45412,     0.45285,     0.45157,     0.45146,     0.45146,     0.45146,     0.45146,     0.45062,     0.44957,     0.44852,     0.44747,\n",
       "             0.4464,     0.44522,     0.44404,     0.44287,     0.44172,     0.44107,     0.44041,     0.43976,     0.43911,     0.43846,     0.43781,     0.43716,     0.43345,     0.43204,     0.43204,     0.43204,     0.43059,     0.42837,     0.42718,     0.42718,     0.42718,     0.42718,     0.42718,\n",
       "            0.42718,     0.42718,     0.42718,     0.42718,     0.42718,     0.42718,     0.42032,      0.4173,     0.41627,     0.41524,     0.41421,     0.41318,     0.41262,     0.41262,     0.41262,     0.41262,     0.41262,     0.41082,     0.40777,     0.40777,     0.40777,     0.40493,       0.401,\n",
       "             0.3987,     0.39508,      0.3932,      0.3932,      0.3932,      0.3932,      0.3932,      0.3932,      0.3932,      0.3932,      0.3932,     0.39184,     0.39032,      0.3888,     0.38835,     0.38835,     0.38835,     0.38835,     0.38779,      0.3872,      0.3866,     0.38601,     0.38542,\n",
       "            0.38482,     0.38423,     0.38364,     0.37827,     0.37447,     0.37379,     0.37379,     0.36893,     0.36893,     0.36893,     0.36893,     0.36893,     0.36893,     0.36893,     0.36291,     0.36052,     0.35448,     0.35437,     0.35437,     0.35417,     0.35296,     0.35174,     0.35053,\n",
       "            0.34466,     0.34466,     0.34466,     0.34466,     0.34466,     0.34324,     0.33668,     0.33433,     0.33346,     0.33258,     0.33171,     0.33083,      0.3296,     0.32646,     0.32524,     0.32524,     0.32524,     0.32524,     0.32524,     0.32524,     0.32524,     0.32524,     0.32344,\n",
       "            0.32039,     0.32039,     0.31752,     0.31043,     0.30938,     0.30833,     0.30728,     0.30622,     0.30532,      0.3045,     0.30368,     0.30286,     0.30204,     0.30122,     0.29635,     0.29448,     0.29279,     0.29106,     0.28891,     0.28675,       0.285,     0.28332,     0.28164,\n",
       "             0.2767,      0.2767,      0.2767,      0.2767,      0.2767,      0.2767,      0.2767,      0.2767,      0.2767,      0.2767,     0.27532,     0.27392,     0.27252,     0.26699,     0.26699,     0.26686,     0.26638,      0.2659,     0.26542,     0.26493,     0.26445,     0.26397,     0.26349,\n",
       "              0.263,     0.26252,     0.26214,     0.26214,     0.26214,     0.26214,     0.26214,     0.26214,     0.26214,     0.26214,     0.26214,     0.26015,     0.25728,     0.25685,      0.2544,     0.25208,     0.25028,     0.24849,     0.24757,     0.24757,     0.24757,     0.24757,      0.2464,\n",
       "            0.24508,     0.24376,     0.24228,     0.24026,     0.23824,     0.23263,     0.23027,     0.22801,     0.22658,     0.22515,     0.22371,     0.22279,     0.22206,     0.22134,     0.22062,      0.2199,     0.21918,     0.21845,     0.21788,      0.2173,     0.21672,     0.21614,     0.21557,\n",
       "            0.21499,     0.21441,     0.21384,     0.21359,     0.21359,     0.21208,     0.20945,     0.20651,     0.20339,     0.19994,     0.19841,     0.19757,     0.19674,      0.1959,     0.19506,     0.19422,     0.18447,     0.18447,     0.18349,     0.18251,     0.18153,     0.18054,     0.17953,\n",
       "            0.17792,     0.17632,     0.17473,     0.17391,     0.17309,     0.17227,     0.17145,     0.17063,     0.16966,     0.16757,     0.16548,     0.16298,     0.16037,     0.16019,     0.16019,     0.16019,     0.16019,     0.16019,     0.16019,     0.16019,     0.15024,     0.14906,     0.14788,\n",
       "            0.14671,     0.14066,     0.13803,     0.13448,     0.13076,     0.13019,     0.12962,     0.12904,     0.12847,      0.1279,     0.12733,     0.12675,     0.12611,     0.12422,     0.12232,     0.12056,     0.11892,     0.11729,     0.11118,     0.10977,     0.10836,     0.10695,     0.10505,\n",
       "             0.1031,      0.1002,    0.092583,    0.090628,    0.088989,    0.087346,    0.085475,    0.083604,    0.081076,     0.07767,     0.07767,     0.07767,    0.077292,    0.076635,    0.075979,    0.075323,    0.074666,     0.07401,    0.073354,    0.072245,    0.069081,    0.067216,    0.066062,\n",
       "           0.064909,    0.063755,    0.062502,     0.06112,    0.059739,    0.058358,    0.056062,    0.053692,    0.051559,    0.049461,    0.047955,    0.046909,    0.045864,    0.044818,    0.043772,    0.033587,    0.032996,    0.032404,    0.031813,    0.031222,    0.030631,     0.03004,    0.029449,\n",
       "           0.028878,    0.028332,    0.027786,    0.027239,    0.026693,    0.026147,      0.0256,    0.025054,    0.024508,    0.023483,    0.022096,    0.020709,    0.019277,    0.017231,    0.015185,     0.01425,    0.013801,    0.013351,    0.012902,    0.012452,    0.012003,    0.011554,    0.011104,\n",
       "           0.010655,    0.010205,    0.009756,   0.0091577,   0.0085419,   0.0079262,   0.0073104,   0.0066947,   0.0060789,   0.0054632,           0,           0,           0,           0,           0,           0,           0,           0,           0,           0,           0,           0,           0,\n",
       "                  0,           0,           0,           0,           0,           0,           0,           0,           0,           0,           0,           0,           0,           0,           0,           0,           0,           0,           0,           0,           0,           0,           0,\n",
       "                  0,           0,           0,           0,           0,           0,           0,           0,           0,           0,           0,           0,           0,           0,           0,           0,           0,           0,           0,           0,           0,           0,           0,\n",
       "                  0,           0,           0,           0,           0,           0,           0,           0,           0,           0,           0,           0,           0,           0,           0,           0,           0,           0,           0,           0,           0,           0,           0,\n",
       "                  0,           0,           0,           0,           0,           0,           0,           0,           0,           0,           0,           0,           0,           0,           0,           0,           0,           0,           0,           0,           0,           0,           0,\n",
       "                  0,           0,           0,           0,           0,           0,           0,           0,           0,           0,           0,           0,           0,           0,           0,           0,           0,           0,           0,           0,           0,           0,           0,\n",
       "                  0,           0,           0,           0,           0,           0,           0,           0,           0,           0,           0,           0,           0,           0,           0,           0,           0,           0,           0,           0,           0,           0,           0,\n",
       "                  0,           0,           0,           0,           0,           0,           0,           0,           0,           0,           0,           0,           0,           0,           0,           0,           0,           0,           0,           0,           0,           0,           0,\n",
       "                  0,           0,           0,           0,           0,           0,           0,           0,           0,           0,           0,           0,           0,           0,           0,           0,           0,           0,           0,           0,           0,           0,           0,\n",
       "                  0,           0,           0,           0,           0,           0,           0,           0,           0,           0,           0,           0,           0,           0,           0,           0,           0,           0,           0,           0,           0,           0,           0,\n",
       "                  0,           0,           0,           0,           0,           0,           0,           0,           0,           0,           0,           0,           0,           0,           0,           0,           0,           0,           0,           0,           0,           0,           0,\n",
       "                  0,           0,           0,           0,           0,           0,           0,           0,           0,           0,           0,           0,           0,           0,           0,           0,           0,           0,           0,           0,           0,           0,           0,\n",
       "                  0,           0,           0,           0,           0,           0,           0,           0,           0,           0,           0,           0,           0,           0,           0,           0,           0,           0,           0,           0,           0,           0,           0,\n",
       "                  0,           0,           0,           0,           0,           0,           0,           0,           0,           0,           0,           0,           0,           0,           0,           0,           0,           0,           0,           0,           0,           0,           0,\n",
       "                  0,           0,           0,           0,           0,           0,           0,           0,           0,           0,           0,           0,           0,           0,           0,           0,           0,           0,           0,           0,           0,           0,           0,\n",
       "                  0,           0,           0,           0,           0,           0,           0,           0,           0,           0,           0,           0,           0,           0,           0,           0,           0,           0,           0,           0,           0,           0,           0,\n",
       "                  0,           0,           0,           0,           0,           0,           0,           0,           0,           0,           0,           0,           0,           0,           0,           0,           0,           0,           0,           0,           0,           0,           0,\n",
       "                  0,           0,           0,           0,           0,           0,           0,           0,           0,           0,           0,           0,           0,           0,           0,           0,           0,           0,           0,           0,           0,           0,           0,\n",
       "                  0,           0,           0,           0,           0,           0,           0,           0,           0,           0,           0]]), 'Confidence', 'Recall']]\n",
       "fitness: 0.30034672506446114\n",
       "keys: ['metrics/precision(B)', 'metrics/recall(B)', 'metrics/mAP50(B)', 'metrics/mAP50-95(B)']\n",
       "maps: array([    0.26973])\n",
       "names: {0: 'bird'}\n",
       "plot: True\n",
       "results_dict: {'metrics/precision(B)': 0.5883282057273911, 'metrics/recall(B)': 0.5533980582524272, 'metrics/mAP50(B)': 0.5759357222381728, 'metrics/mAP50-95(B)': 0.26972572537849315, 'fitness': 0.30034672506446114}\n",
       "save_dir: PosixPath('grid_search_yolo_v2/run_model_default_params_10epochs2')\n",
       "speed: {'preprocess': 0.4389500912550962, 'inference': 14.190479503484086, 'loss': 0.0010574866986174261, 'postprocess': 0.5060584229427609}\n",
       "task: 'detect'"
      ]
     },
     "execution_count": 10,
     "metadata": {},
     "output_type": "execute_result"
    }
   ],
   "source": [
    "model_stage_1 = YOLO(\"yolo11m.pt\")\n",
    "\n",
    "model_stage_1.train(\n",
    "    data=yolo_data,          # Path to your dataset configuration file\n",
    "    project=\"grid_search_yolo_v2_1280\",\n",
    "    name=f\"run_model_default_params_10epochs\",\n",
    "    # Hyperparameters\n",
    "    epochs=10,                    # Number of epochs\n",
    "    batch=-1,                     # batch size\n",
    "    imgsz=1280,                    # Image size\n",
    "    freeze=10,                     # Freeze first 10 layers\n",
    "\n",
    "    patience=12,\n",
    "    # Reproducability\n",
    "    seed = 42\n",
    ")\n",
    "model_stage_1.val()\n",
    "\n",
    "model_stage_1 = YOLO(\"yolo11m.pt\")\n",
    "\n",
    "model_stage_1.train(\n",
    "    data=yolo_data,          # Path to your dataset configuration file\n",
    "    project=\"grid_search_yolo_v2\",\n",
    "    name=f\"run_model_default_params_10epochs\",\n",
    "    # Hyperparameters\n",
    "    epochs=10,                    # Number of epochs\n",
    "    batch=-1,                     # batch size\n",
    "    imgsz=640,                    # Image size\n",
    "    freeze=10,                     # Freeze first 10 layers\n",
    "\n",
    "    patience=12,\n",
    "    # Reproducability\n",
    "    seed = 42\n",
    ")\n",
    "model_stage_1.val()"
   ]
  },
  {
   "cell_type": "code",
   "execution_count": null,
   "metadata": {},
   "outputs": [],
   "source": [
    "model_stage_1 = YOLO(\"yolo11m.pt\")\n",
    "\n",
    "model_stage_1.train(\n",
    "    data=yolo_data,          # Path to your dataset configuration file\n",
    "    project=\"grid_search_yolo_v2_1280\",\n",
    "    name=f\"run_model_default_params_10epochs_30_degrees\",\n",
    "    # Hyperparameters\n",
    "    epochs=10,                    # Number of epochs\n",
    "    batch=-1,                     # batch size\n",
    "    imgsz=1280,                    # Image size\n",
    "    freeze=10,                     # Freeze first 10 layers\n",
    "    degrees=30,\n",
    "\n",
    "    patience=12,\n",
    "    # Reproducability\n",
    "    seed = 42\n",
    ")\n",
    "model_stage_1.val()\n",
    "\n",
    "model_stage_1 = YOLO(\"yolo11m.pt\")\n",
    "\n",
    "model_stage_1.train(\n",
    "    data=yolo_data,          # Path to your dataset configuration file\n",
    "    project=\"grid_search_yolo_v2_1280\",\n",
    "    name=f\"run_model_default_params_10epochs_90_degrees\",\n",
    "    # Hyperparameters\n",
    "    epochs=10,                    # Number of epochs\n",
    "    batch=-1,                     # batch size\n",
    "    imgsz=1280,                    # Image size\n",
    "    freeze=10,                     # Freeze first 10 layers\n",
    "    degrees=90,\n",
    "\n",
    "    patience=12,\n",
    "    # Reproducability\n",
    "    seed = 42\n",
    ")\n",
    "model_stage_1.val()\n",
    "\n",
    "model_stage_1 = YOLO(\"yolo11m.pt\")\n",
    "\n",
    "model_stage_1.train(\n",
    "    data=yolo_data,          # Path to your dataset configuration file\n",
    "    project=\"grid_search_yolo_v2_1280\",\n",
    "    name=f\"run_model_default_params_10epochs_180_degrees\",\n",
    "    # Hyperparameters\n",
    "    epochs=10,                    # Number of epochs\n",
    "    batch=-1,                     # batch size\n",
    "    imgsz=1280,                    # Image size\n",
    "    freeze=10,                     # Freeze first 10 layers\n",
    "    degrees=180,\n",
    "\n",
    "    patience=12,\n",
    "    # Reproducability\n",
    "    seed = 42\n",
    ")\n",
    "model_stage_1.val()"
   ]
  },
  {
   "cell_type": "code",
   "execution_count": 7,
   "metadata": {
    "execution": {
     "iopub.execute_input": "2025-05-10T16:23:25.153323Z",
     "iopub.status.busy": "2025-05-10T16:23:25.152834Z",
     "iopub.status.idle": "2025-05-10T16:23:33.048791Z",
     "shell.execute_reply": "2025-05-10T16:23:33.048351Z",
     "shell.execute_reply.started": "2025-05-10T16:23:25.153301Z"
    }
   },
   "outputs": [
    {
     "name": "stdout",
     "output_type": "stream",
     "text": [
      "Ultralytics 8.3.130 🚀 Python-3.11.7 torch-2.1.1+cu121 CUDA:0 (NVIDIA RTX A4000, 16102MiB)\n",
      "YOLO11m summary (fused): 125 layers, 20,030,803 parameters, 0 gradients, 67.6 GFLOPs\n",
      "\u001b[34m\u001b[1mval: \u001b[0mFast image access ✅ (ping: 0.0±0.0 ms, read: 3892.0±1040.7 MB/s, size: 2768.3 KB)\n"
     ]
    },
    {
     "name": "stderr",
     "output_type": "stream",
     "text": [
      "\u001b[34m\u001b[1mval: \u001b[0mScanning /notebooks/DL---detection-of-birds-in-drone-images/data/tiled_augmented_2_yolo_data/valid/labels.cache... 178 images, 129 backgrounds, 0 corrupt: 100%|██████████| 178/178 [00:00<?, ?it/s]"
     ]
    },
    {
     "name": "stdout",
     "output_type": "stream",
     "text": [
      "\u001b[34m\u001b[1mval: \u001b[0m/notebooks/DL---detection-of-birds-in-drone-images/data/tiled_augmented_2_yolo_data/valid/images/DJI_0319_tile-0.png: 1 duplicate labels removed\n"
     ]
    },
    {
     "name": "stderr",
     "output_type": "stream",
     "text": [
      "\n",
      "                 Class     Images  Instances      Box(P          R      mAP50  mAP50-95): 100%|██████████| 7/7 [00:04<00:00,  1.41it/s]\n"
     ]
    },
    {
     "name": "stdout",
     "output_type": "stream",
     "text": [
      "                   all        178        206      0.696      0.558      0.581      0.242\n",
      "Speed: 2.8ms preprocess, 11.8ms inference, 0.0ms loss, 0.7ms postprocess per image\n",
      "Results saved to \u001b[1mgrid_search_yolo_v2/run_model_default_params2\u001b[0m\n"
     ]
    },
    {
     "data": {
      "text/plain": [
       "ultralytics.utils.metrics.DetMetrics object with attributes:\n",
       "\n",
       "ap_class_index: array([0])\n",
       "box: ultralytics.utils.metrics.Metric object\n",
       "confusion_matrix: <ultralytics.utils.metrics.ConfusionMatrix object at 0x7f8805c06cd0>\n",
       "curves: ['Precision-Recall(B)', 'F1-Confidence(B)', 'Precision-Confidence(B)', 'Recall-Confidence(B)']\n",
       "curves_results: [[array([          0,    0.001001,    0.002002,    0.003003,    0.004004,    0.005005,    0.006006,    0.007007,    0.008008,    0.009009,     0.01001,    0.011011,    0.012012,    0.013013,    0.014014,    0.015015,    0.016016,    0.017017,    0.018018,    0.019019,     0.02002,    0.021021,    0.022022,    0.023023,\n",
       "          0.024024,    0.025025,    0.026026,    0.027027,    0.028028,    0.029029,     0.03003,    0.031031,    0.032032,    0.033033,    0.034034,    0.035035,    0.036036,    0.037037,    0.038038,    0.039039,     0.04004,    0.041041,    0.042042,    0.043043,    0.044044,    0.045045,    0.046046,    0.047047,\n",
       "          0.048048,    0.049049,     0.05005,    0.051051,    0.052052,    0.053053,    0.054054,    0.055055,    0.056056,    0.057057,    0.058058,    0.059059,     0.06006,    0.061061,    0.062062,    0.063063,    0.064064,    0.065065,    0.066066,    0.067067,    0.068068,    0.069069,     0.07007,    0.071071,\n",
       "          0.072072,    0.073073,    0.074074,    0.075075,    0.076076,    0.077077,    0.078078,    0.079079,     0.08008,    0.081081,    0.082082,    0.083083,    0.084084,    0.085085,    0.086086,    0.087087,    0.088088,    0.089089,     0.09009,    0.091091,    0.092092,    0.093093,    0.094094,    0.095095,\n",
       "          0.096096,    0.097097,    0.098098,    0.099099,      0.1001,      0.1011,      0.1021,      0.1031,      0.1041,     0.10511,     0.10611,     0.10711,     0.10811,     0.10911,     0.11011,     0.11111,     0.11211,     0.11311,     0.11411,     0.11512,     0.11612,     0.11712,     0.11812,     0.11912,\n",
       "           0.12012,     0.12112,     0.12212,     0.12312,     0.12412,     0.12513,     0.12613,     0.12713,     0.12813,     0.12913,     0.13013,     0.13113,     0.13213,     0.13313,     0.13413,     0.13514,     0.13614,     0.13714,     0.13814,     0.13914,     0.14014,     0.14114,     0.14214,     0.14314,\n",
       "           0.14414,     0.14515,     0.14615,     0.14715,     0.14815,     0.14915,     0.15015,     0.15115,     0.15215,     0.15315,     0.15415,     0.15516,     0.15616,     0.15716,     0.15816,     0.15916,     0.16016,     0.16116,     0.16216,     0.16316,     0.16416,     0.16517,     0.16617,     0.16717,\n",
       "           0.16817,     0.16917,     0.17017,     0.17117,     0.17217,     0.17317,     0.17417,     0.17518,     0.17618,     0.17718,     0.17818,     0.17918,     0.18018,     0.18118,     0.18218,     0.18318,     0.18418,     0.18519,     0.18619,     0.18719,     0.18819,     0.18919,     0.19019,     0.19119,\n",
       "           0.19219,     0.19319,     0.19419,      0.1952,      0.1962,      0.1972,      0.1982,      0.1992,      0.2002,      0.2012,      0.2022,      0.2032,      0.2042,     0.20521,     0.20621,     0.20721,     0.20821,     0.20921,     0.21021,     0.21121,     0.21221,     0.21321,     0.21421,     0.21522,\n",
       "           0.21622,     0.21722,     0.21822,     0.21922,     0.22022,     0.22122,     0.22222,     0.22322,     0.22422,     0.22523,     0.22623,     0.22723,     0.22823,     0.22923,     0.23023,     0.23123,     0.23223,     0.23323,     0.23423,     0.23524,     0.23624,     0.23724,     0.23824,     0.23924,\n",
       "           0.24024,     0.24124,     0.24224,     0.24324,     0.24424,     0.24525,     0.24625,     0.24725,     0.24825,     0.24925,     0.25025,     0.25125,     0.25225,     0.25325,     0.25425,     0.25526,     0.25626,     0.25726,     0.25826,     0.25926,     0.26026,     0.26126,     0.26226,     0.26326,\n",
       "           0.26426,     0.26527,     0.26627,     0.26727,     0.26827,     0.26927,     0.27027,     0.27127,     0.27227,     0.27327,     0.27427,     0.27528,     0.27628,     0.27728,     0.27828,     0.27928,     0.28028,     0.28128,     0.28228,     0.28328,     0.28428,     0.28529,     0.28629,     0.28729,\n",
       "           0.28829,     0.28929,     0.29029,     0.29129,     0.29229,     0.29329,     0.29429,      0.2953,      0.2963,      0.2973,      0.2983,      0.2993,      0.3003,      0.3013,      0.3023,      0.3033,      0.3043,     0.30531,     0.30631,     0.30731,     0.30831,     0.30931,     0.31031,     0.31131,\n",
       "           0.31231,     0.31331,     0.31431,     0.31532,     0.31632,     0.31732,     0.31832,     0.31932,     0.32032,     0.32132,     0.32232,     0.32332,     0.32432,     0.32533,     0.32633,     0.32733,     0.32833,     0.32933,     0.33033,     0.33133,     0.33233,     0.33333,     0.33433,     0.33534,\n",
       "           0.33634,     0.33734,     0.33834,     0.33934,     0.34034,     0.34134,     0.34234,     0.34334,     0.34434,     0.34535,     0.34635,     0.34735,     0.34835,     0.34935,     0.35035,     0.35135,     0.35235,     0.35335,     0.35435,     0.35536,     0.35636,     0.35736,     0.35836,     0.35936,\n",
       "           0.36036,     0.36136,     0.36236,     0.36336,     0.36436,     0.36537,     0.36637,     0.36737,     0.36837,     0.36937,     0.37037,     0.37137,     0.37237,     0.37337,     0.37437,     0.37538,     0.37638,     0.37738,     0.37838,     0.37938,     0.38038,     0.38138,     0.38238,     0.38338,\n",
       "           0.38438,     0.38539,     0.38639,     0.38739,     0.38839,     0.38939,     0.39039,     0.39139,     0.39239,     0.39339,     0.39439,      0.3954,      0.3964,      0.3974,      0.3984,      0.3994,      0.4004,      0.4014,      0.4024,      0.4034,      0.4044,     0.40541,     0.40641,     0.40741,\n",
       "           0.40841,     0.40941,     0.41041,     0.41141,     0.41241,     0.41341,     0.41441,     0.41542,     0.41642,     0.41742,     0.41842,     0.41942,     0.42042,     0.42142,     0.42242,     0.42342,     0.42442,     0.42543,     0.42643,     0.42743,     0.42843,     0.42943,     0.43043,     0.43143,\n",
       "           0.43243,     0.43343,     0.43443,     0.43544,     0.43644,     0.43744,     0.43844,     0.43944,     0.44044,     0.44144,     0.44244,     0.44344,     0.44444,     0.44545,     0.44645,     0.44745,     0.44845,     0.44945,     0.45045,     0.45145,     0.45245,     0.45345,     0.45445,     0.45546,\n",
       "           0.45646,     0.45746,     0.45846,     0.45946,     0.46046,     0.46146,     0.46246,     0.46346,     0.46446,     0.46547,     0.46647,     0.46747,     0.46847,     0.46947,     0.47047,     0.47147,     0.47247,     0.47347,     0.47447,     0.47548,     0.47648,     0.47748,     0.47848,     0.47948,\n",
       "           0.48048,     0.48148,     0.48248,     0.48348,     0.48448,     0.48549,     0.48649,     0.48749,     0.48849,     0.48949,     0.49049,     0.49149,     0.49249,     0.49349,     0.49449,      0.4955,      0.4965,      0.4975,      0.4985,      0.4995,      0.5005,      0.5015,      0.5025,      0.5035,\n",
       "            0.5045,     0.50551,     0.50651,     0.50751,     0.50851,     0.50951,     0.51051,     0.51151,     0.51251,     0.51351,     0.51451,     0.51552,     0.51652,     0.51752,     0.51852,     0.51952,     0.52052,     0.52152,     0.52252,     0.52352,     0.52452,     0.52553,     0.52653,     0.52753,\n",
       "           0.52853,     0.52953,     0.53053,     0.53153,     0.53253,     0.53353,     0.53453,     0.53554,     0.53654,     0.53754,     0.53854,     0.53954,     0.54054,     0.54154,     0.54254,     0.54354,     0.54454,     0.54555,     0.54655,     0.54755,     0.54855,     0.54955,     0.55055,     0.55155,\n",
       "           0.55255,     0.55355,     0.55455,     0.55556,     0.55656,     0.55756,     0.55856,     0.55956,     0.56056,     0.56156,     0.56256,     0.56356,     0.56456,     0.56557,     0.56657,     0.56757,     0.56857,     0.56957,     0.57057,     0.57157,     0.57257,     0.57357,     0.57457,     0.57558,\n",
       "           0.57658,     0.57758,     0.57858,     0.57958,     0.58058,     0.58158,     0.58258,     0.58358,     0.58458,     0.58559,     0.58659,     0.58759,     0.58859,     0.58959,     0.59059,     0.59159,     0.59259,     0.59359,     0.59459,      0.5956,      0.5966,      0.5976,      0.5986,      0.5996,\n",
       "            0.6006,      0.6016,      0.6026,      0.6036,      0.6046,     0.60561,     0.60661,     0.60761,     0.60861,     0.60961,     0.61061,     0.61161,     0.61261,     0.61361,     0.61461,     0.61562,     0.61662,     0.61762,     0.61862,     0.61962,     0.62062,     0.62162,     0.62262,     0.62362,\n",
       "           0.62462,     0.62563,     0.62663,     0.62763,     0.62863,     0.62963,     0.63063,     0.63163,     0.63263,     0.63363,     0.63463,     0.63564,     0.63664,     0.63764,     0.63864,     0.63964,     0.64064,     0.64164,     0.64264,     0.64364,     0.64464,     0.64565,     0.64665,     0.64765,\n",
       "           0.64865,     0.64965,     0.65065,     0.65165,     0.65265,     0.65365,     0.65465,     0.65566,     0.65666,     0.65766,     0.65866,     0.65966,     0.66066,     0.66166,     0.66266,     0.66366,     0.66466,     0.66567,     0.66667,     0.66767,     0.66867,     0.66967,     0.67067,     0.67167,\n",
       "           0.67267,     0.67367,     0.67467,     0.67568,     0.67668,     0.67768,     0.67868,     0.67968,     0.68068,     0.68168,     0.68268,     0.68368,     0.68468,     0.68569,     0.68669,     0.68769,     0.68869,     0.68969,     0.69069,     0.69169,     0.69269,     0.69369,     0.69469,      0.6957,\n",
       "            0.6967,      0.6977,      0.6987,      0.6997,      0.7007,      0.7017,      0.7027,      0.7037,      0.7047,     0.70571,     0.70671,     0.70771,     0.70871,     0.70971,     0.71071,     0.71171,     0.71271,     0.71371,     0.71471,     0.71572,     0.71672,     0.71772,     0.71872,     0.71972,\n",
       "           0.72072,     0.72172,     0.72272,     0.72372,     0.72472,     0.72573,     0.72673,     0.72773,     0.72873,     0.72973,     0.73073,     0.73173,     0.73273,     0.73373,     0.73473,     0.73574,     0.73674,     0.73774,     0.73874,     0.73974,     0.74074,     0.74174,     0.74274,     0.74374,\n",
       "           0.74474,     0.74575,     0.74675,     0.74775,     0.74875,     0.74975,     0.75075,     0.75175,     0.75275,     0.75375,     0.75475,     0.75576,     0.75676,     0.75776,     0.75876,     0.75976,     0.76076,     0.76176,     0.76276,     0.76376,     0.76476,     0.76577,     0.76677,     0.76777,\n",
       "           0.76877,     0.76977,     0.77077,     0.77177,     0.77277,     0.77377,     0.77477,     0.77578,     0.77678,     0.77778,     0.77878,     0.77978,     0.78078,     0.78178,     0.78278,     0.78378,     0.78478,     0.78579,     0.78679,     0.78779,     0.78879,     0.78979,     0.79079,     0.79179,\n",
       "           0.79279,     0.79379,     0.79479,      0.7958,      0.7968,      0.7978,      0.7988,      0.7998,      0.8008,      0.8018,      0.8028,      0.8038,      0.8048,     0.80581,     0.80681,     0.80781,     0.80881,     0.80981,     0.81081,     0.81181,     0.81281,     0.81381,     0.81481,     0.81582,\n",
       "           0.81682,     0.81782,     0.81882,     0.81982,     0.82082,     0.82182,     0.82282,     0.82382,     0.82482,     0.82583,     0.82683,     0.82783,     0.82883,     0.82983,     0.83083,     0.83183,     0.83283,     0.83383,     0.83483,     0.83584,     0.83684,     0.83784,     0.83884,     0.83984,\n",
       "           0.84084,     0.84184,     0.84284,     0.84384,     0.84484,     0.84585,     0.84685,     0.84785,     0.84885,     0.84985,     0.85085,     0.85185,     0.85285,     0.85385,     0.85485,     0.85586,     0.85686,     0.85786,     0.85886,     0.85986,     0.86086,     0.86186,     0.86286,     0.86386,\n",
       "           0.86486,     0.86587,     0.86687,     0.86787,     0.86887,     0.86987,     0.87087,     0.87187,     0.87287,     0.87387,     0.87487,     0.87588,     0.87688,     0.87788,     0.87888,     0.87988,     0.88088,     0.88188,     0.88288,     0.88388,     0.88488,     0.88589,     0.88689,     0.88789,\n",
       "           0.88889,     0.88989,     0.89089,     0.89189,     0.89289,     0.89389,     0.89489,      0.8959,      0.8969,      0.8979,      0.8989,      0.8999,      0.9009,      0.9019,      0.9029,      0.9039,      0.9049,     0.90591,     0.90691,     0.90791,     0.90891,     0.90991,     0.91091,     0.91191,\n",
       "           0.91291,     0.91391,     0.91491,     0.91592,     0.91692,     0.91792,     0.91892,     0.91992,     0.92092,     0.92192,     0.92292,     0.92392,     0.92492,     0.92593,     0.92693,     0.92793,     0.92893,     0.92993,     0.93093,     0.93193,     0.93293,     0.93393,     0.93493,     0.93594,\n",
       "           0.93694,     0.93794,     0.93894,     0.93994,     0.94094,     0.94194,     0.94294,     0.94394,     0.94494,     0.94595,     0.94695,     0.94795,     0.94895,     0.94995,     0.95095,     0.95195,     0.95295,     0.95395,     0.95495,     0.95596,     0.95696,     0.95796,     0.95896,     0.95996,\n",
       "           0.96096,     0.96196,     0.96296,     0.96396,     0.96496,     0.96597,     0.96697,     0.96797,     0.96897,     0.96997,     0.97097,     0.97197,     0.97297,     0.97397,     0.97497,     0.97598,     0.97698,     0.97798,     0.97898,     0.97998,     0.98098,     0.98198,     0.98298,     0.98398,\n",
       "           0.98498,     0.98599,     0.98699,     0.98799,     0.98899,     0.98999,     0.99099,     0.99199,     0.99299,     0.99399,     0.99499,       0.996,       0.997,       0.998,       0.999,           1]), array([[          1,           1,           1,           1,           1,           1,           1,           1,           1,           1,     0.88095,     0.88095,     0.88095,     0.88095,     0.88095,     0.88095,     0.88095,     0.88095,     0.88095,     0.88095,     0.88095,     0.88095,     0.88095,\n",
       "            0.88095,     0.88095,     0.88095,     0.88095,     0.88095,     0.88095,     0.88095,     0.88095,     0.88095,     0.88095,     0.88095,     0.88095,     0.88095,     0.88095,     0.88095,     0.88095,     0.88095,     0.88095,     0.88095,     0.88095,     0.88095,     0.88095,     0.88095,\n",
       "            0.88095,     0.88095,     0.88095,     0.88095,     0.88095,     0.88095,     0.88095,     0.88095,     0.88095,     0.88095,     0.88095,     0.88095,     0.88095,     0.88095,     0.88095,     0.88095,     0.88095,     0.88095,     0.88095,     0.88095,     0.88095,     0.88095,     0.88095,\n",
       "            0.88095,     0.88095,     0.88095,     0.88095,     0.88095,     0.88095,     0.88095,     0.88095,     0.88095,     0.88095,     0.88095,     0.88095,     0.88095,     0.88095,     0.88095,     0.88095,     0.88095,     0.88095,     0.88095,     0.88095,     0.88095,     0.88095,     0.88095,\n",
       "            0.88095,     0.88095,     0.88095,     0.88095,     0.88095,     0.88095,     0.88095,     0.88095,     0.88095,     0.88095,     0.88095,     0.88095,     0.88095,     0.88095,     0.88095,     0.88095,     0.88095,     0.88095,     0.88095,     0.88095,     0.88095,     0.88095,     0.88095,\n",
       "            0.88095,     0.88095,     0.88095,     0.88095,     0.88095,     0.88095,     0.88095,     0.88095,     0.88095,     0.88095,     0.88095,     0.88095,     0.88095,     0.88095,     0.88095,     0.88095,     0.88095,     0.88095,     0.88095,     0.88095,     0.88095,     0.88095,     0.88095,\n",
       "            0.88095,     0.88095,     0.88095,     0.88095,     0.88095,     0.88095,     0.88095,     0.88095,     0.88095,     0.88095,     0.88095,     0.88095,     0.88095,     0.88095,     0.88095,     0.88095,     0.88095,     0.88095,     0.88095,     0.88095,     0.88095,     0.88095,     0.88095,\n",
       "            0.88095,     0.88095,     0.88095,     0.88095,     0.88095,     0.88095,     0.88095,     0.88095,     0.88095,     0.88095,     0.88095,     0.88095,     0.88095,     0.88095,     0.88095,     0.88095,     0.88095,     0.88095,     0.88095,     0.86957,     0.86957,     0.86957,     0.86957,\n",
       "            0.86957,     0.86957,     0.86957,     0.86957,     0.86957,     0.86957,     0.86957,     0.86957,     0.86957,     0.86957,     0.86567,     0.86567,     0.86567,     0.86567,     0.86567,     0.86567,     0.86567,     0.86567,     0.86567,     0.86567,     0.86567,     0.86567,     0.86567,\n",
       "            0.86567,     0.86567,     0.86567,     0.86567,     0.86567,     0.86567,     0.86567,     0.86567,     0.86567,     0.86567,     0.86567,     0.86567,     0.86567,     0.86567,     0.86567,     0.86567,     0.86567,     0.86567,     0.86567,     0.86567,     0.86567,     0.86567,     0.86567,\n",
       "            0.86567,     0.86567,     0.86567,     0.86567,     0.86567,     0.86567,     0.86567,     0.86567,     0.86567,     0.86567,     0.86567,     0.86567,     0.86567,     0.86567,     0.86567,     0.86567,     0.86567,     0.86567,     0.86567,     0.86567,     0.86567,     0.86567,     0.86567,\n",
       "            0.86567,     0.86567,     0.86567,     0.86567,     0.86567,     0.86567,     0.86567,     0.86567,     0.86567,     0.86567,     0.86567,     0.86567,     0.86567,     0.86567,     0.86567,     0.86567,     0.86567,     0.86567,     0.86567,     0.86567,     0.86567,     0.86567,     0.86567,\n",
       "            0.86567,     0.86567,     0.86567,     0.86567,     0.86567,     0.86567,     0.85714,     0.85714,     0.85714,     0.85714,     0.85714,     0.85714,     0.85714,     0.85714,     0.85714,     0.85333,     0.85333,     0.85333,     0.85333,     0.85333,     0.85333,     0.85333,     0.85333,\n",
       "            0.85333,     0.85333,     0.85333,     0.85333,     0.85333,     0.85333,     0.85333,     0.85333,     0.85333,     0.85333,     0.85333,     0.85333,     0.84615,     0.84615,     0.84615,     0.84615,     0.84615,     0.84615,     0.84615,     0.84615,     0.84615,     0.84615,      0.8375,\n",
       "             0.8375,      0.8375,      0.8375,     0.83133,     0.83133,     0.83133,     0.83133,     0.83133,     0.83133,     0.83133,     0.83133,     0.83133,     0.83133,     0.81609,     0.81609,     0.81609,     0.81609,     0.81609,     0.81609,     0.81609,     0.81609,     0.81609,     0.81609,\n",
       "            0.81319,     0.81319,     0.81319,     0.81319,     0.81319,     0.81319,     0.81319,     0.81319,     0.81319,     0.81319,     0.81319,     0.81319,     0.81319,     0.81319,        0.81,        0.81,        0.81,        0.81,        0.81,        0.81,        0.81,        0.81,        0.81,\n",
       "               0.81,        0.81,        0.81,        0.81,        0.81,        0.81,        0.81,        0.81,        0.81,        0.81,        0.81,        0.81,        0.81,        0.81,        0.81,        0.81,        0.81,        0.81,        0.81,        0.81,        0.81,        0.81,        0.81,\n",
       "               0.81,        0.81,     0.80769,     0.80769,     0.80769,     0.80769,     0.80769,     0.80769,     0.80769,     0.80769,     0.80769,     0.80769,     0.80769,     0.80769,     0.80769,     0.80769,     0.80769,     0.80702,     0.80702,     0.80702,     0.80702,     0.80702,     0.80702,\n",
       "            0.80702,     0.80702,     0.80702,     0.80702,     0.80702,     0.80702,     0.80702,     0.80702,     0.80702,     0.80702,     0.80702,     0.80702,     0.80702,     0.80702,     0.80702,     0.80702,     0.80702,     0.80702,     0.80702,     0.80702,     0.80702,     0.80702,     0.80702,\n",
       "            0.80702,     0.80702,     0.80702,     0.80702,     0.80702,     0.80702,     0.80702,     0.80702,     0.80702,     0.80702,     0.80172,     0.80172,     0.80172,     0.80172,     0.80172,     0.79832,     0.79832,     0.79832,     0.79832,     0.79832,     0.79832,     0.79832,     0.79832,\n",
       "            0.79832,     0.78906,     0.78906,     0.78906,     0.78906,     0.78906,     0.78906,     0.78906,     0.78906,     0.78906,     0.78906,     0.78906,     0.78906,     0.78906,     0.78906,     0.78906,     0.78906,     0.78906,     0.78906,     0.78906,     0.78906,     0.78906,     0.78906,\n",
       "            0.78906,     0.78906,     0.78906,     0.78906,     0.78906,     0.78906,     0.78906,     0.77863,     0.77863,     0.77863,     0.77863,     0.77863,      0.7482,      0.7482,      0.7482,      0.7482,      0.7482,      0.7482,      0.7482,      0.7482,      0.7482,      0.7482,     0.73826,\n",
       "            0.73826,     0.73826,     0.73826,     0.73826,     0.73826,     0.73826,     0.73826,     0.73826,     0.73826,     0.73826,     0.73826,     0.73826,     0.73826,     0.73826,     0.73826,     0.73826,     0.73826,     0.73826,     0.73826,     0.73826,     0.73826,     0.73826,     0.73826,\n",
       "            0.73826,     0.73826,     0.73826,     0.73826,     0.73826,     0.73026,     0.73026,     0.73026,     0.73026,     0.73026,     0.72903,     0.72903,     0.72903,     0.72903,     0.72903,     0.72903,     0.72903,     0.72903,     0.72903,      0.7037,      0.7037,      0.7037,      0.7037,\n",
       "             0.7037,     0.69697,     0.69697,     0.69697,     0.69697,     0.69697,     0.69231,     0.69231,     0.69231,     0.69231,     0.69231,     0.69231,     0.69231,     0.69231,     0.69231,     0.69231,     0.69006,     0.69006,     0.69006,     0.69006,     0.69006,      0.6612,      0.6612,\n",
       "             0.6612,      0.6612,      0.6612,      0.6612,      0.6612,      0.6612,      0.6612,      0.6612,      0.6612,      0.6612,      0.6612,      0.6612,     0.63874,     0.63874,     0.63874,     0.63874,     0.63874,     0.62755,     0.62755,     0.62755,     0.62755,     0.62755,     0.61692,\n",
       "            0.61692,     0.61692,     0.61692,     0.61692,     0.59809,     0.59809,     0.59809,     0.59809,     0.59809,     0.59716,     0.59716,     0.59716,     0.59716,     0.59716,      0.5907,      0.5907,      0.5907,      0.5907,     0.57399,     0.57399,     0.57399,     0.57399,     0.57399,\n",
       "            0.56828,     0.56828,     0.56828,     0.56828,     0.56828,     0.54852,     0.54852,     0.54852,     0.54852,     0.54852,      0.4981,      0.4981,      0.4981,      0.4981,      0.4981,     0.45704,     0.45704,     0.45704,     0.45704,     0.45704,     0.45704,     0.45704,     0.45704,\n",
       "            0.45704,     0.44224,     0.44224,     0.44224,     0.44224,     0.44224,     0.42453,     0.42453,     0.42453,     0.42453,     0.42453,     0.41975,     0.41975,     0.41975,     0.41975,     0.41975,     0.41641,     0.41641,     0.41641,     0.41641,     0.41641,     0.41566,     0.41566,\n",
       "            0.41566,     0.41566,     0.41566,     0.39266,     0.39266,     0.39266,     0.39266,     0.39266,     0.38043,     0.38043,     0.38043,     0.38043,     0.37903,     0.37903,     0.37903,     0.37903,     0.37903,     0.37666,     0.37666,     0.37666,     0.37666,     0.37666,     0.36294,\n",
       "            0.36294,     0.36294,     0.36294,     0.36294,      0.3609,      0.3609,      0.3609,      0.3609,      0.3609,      0.3528,      0.3528,      0.3528,      0.3528,      0.3528,     0.34272,     0.34272,     0.34272,     0.34272,     0.34272,     0.34028,     0.34028,     0.34028,     0.34028,\n",
       "            0.33945,     0.33945,     0.33945,     0.33945,     0.33945,     0.33864,     0.33864,     0.33864,     0.33864,     0.33864,     0.33557,     0.33557,     0.33557,     0.33557,     0.33557,     0.33479,     0.33479,     0.33479,     0.33479,     0.33479,     0.33479,     0.33479,     0.33479,\n",
       "            0.33479,     0.33479,     0.33479,     0.33479,     0.33479,     0.33479,     0.33405,     0.33405,     0.33405,     0.33405,     0.33405,     0.33405,     0.33405,     0.33405,     0.33405,     0.33405,     0.32165,     0.32165,     0.32165,     0.32165,     0.32165,     0.31213,     0.31213,\n",
       "            0.31213,     0.31213,     0.31213,     0.27148,     0.27148,     0.27148,     0.27148,     0.27148,     0.25854,     0.25854,     0.25854,     0.25854,     0.25854,     0.24845,     0.24845,     0.24845,     0.24845,     0.23958,     0.23958,     0.23958,     0.23958,     0.23958,     0.19829,\n",
       "            0.19829,     0.19829,     0.19829,     0.19829,     0.19806,     0.19806,     0.19806,     0.19806,     0.19806,     0.18729,     0.18729,     0.18729,     0.18729,     0.18729,     0.18729,     0.18729,     0.18729,     0.18729,     0.18729,     0.17603,     0.17603,     0.17603,     0.17603,\n",
       "            0.17603,     0.16972,     0.16972,     0.16972,     0.16972,     0.15716,     0.15716,     0.15716,     0.15716,     0.15716,     0.14851,     0.14851,     0.14851,     0.14851,     0.14851,    0.091842,    0.091842,    0.091842,    0.091842,    0.091842,    0.079498,    0.079498,    0.079498,\n",
       "           0.079498,    0.079498,     0.07233,     0.07233,     0.07233,     0.07233,     0.07233,     0.05635,    0.056006,    0.055663,    0.055319,    0.054976,    0.054632,    0.054288,    0.053945,    0.053601,    0.053258,    0.052914,     0.05257,    0.052227,    0.051883,     0.05154,    0.051196,\n",
       "           0.050852,    0.050509,    0.050165,    0.049822,    0.049478,    0.049134,    0.048791,    0.048447,    0.048104,     0.04776,    0.047416,    0.047073,    0.046729,    0.046386,    0.046042,    0.045698,    0.045355,    0.045011,    0.044668,    0.044324,     0.04398,    0.043637,    0.043293,\n",
       "            0.04295,    0.042606,    0.042262,    0.041919,    0.041575,    0.041232,    0.040888,    0.040544,    0.040201,    0.039857,    0.039514,     0.03917,    0.038826,    0.038483,    0.038139,    0.037796,    0.037452,    0.037108,    0.036765,    0.036421,    0.036078,    0.035734,    0.035391,\n",
       "           0.035047,    0.034703,     0.03436,    0.034016,    0.033673,    0.033329,    0.032985,    0.032642,    0.032298,    0.031955,    0.031611,    0.031267,    0.030924,     0.03058,    0.030237,    0.029893,    0.029549,    0.029206,    0.028862,    0.028519,    0.028175,    0.027831,    0.027488,\n",
       "           0.027144,    0.026801,    0.026457,    0.026113,     0.02577,    0.025426,    0.025083,    0.024739,    0.024395,    0.024052,    0.023708,    0.023365,    0.023021,    0.022677,    0.022334,     0.02199,    0.021647,    0.021303,    0.020959,    0.020616,    0.020272,    0.019929,    0.019585,\n",
       "           0.019241,    0.018898,    0.018554,    0.018211,    0.017867,    0.017523,     0.01718,    0.016836,    0.016493,    0.016149,    0.015805,    0.015462,    0.015118,    0.014775,    0.014431,    0.014087,    0.013744,      0.0134,    0.013057,    0.012713,    0.012369,    0.012026,    0.011682,\n",
       "           0.011339,    0.010995,    0.010652,    0.010308,   0.0099643,   0.0096207,   0.0092771,   0.0089335,   0.0085899,   0.0082463,   0.0079027,   0.0075591,   0.0072155,   0.0068719,   0.0065283,   0.0061847,   0.0058412,   0.0054976,    0.005154,   0.0048104,   0.0044668,   0.0041232,   0.0037796,\n",
       "           0.003436,   0.0030924,   0.0027488,   0.0024052,   0.0020616,    0.001718,   0.0013744,   0.0010308,  0.00068719,   0.0003436,           0]]), 'Recall', 'Precision'], [array([          0,    0.001001,    0.002002,    0.003003,    0.004004,    0.005005,    0.006006,    0.007007,    0.008008,    0.009009,     0.01001,    0.011011,    0.012012,    0.013013,    0.014014,    0.015015,    0.016016,    0.017017,    0.018018,    0.019019,     0.02002,    0.021021,    0.022022,    0.023023,\n",
       "          0.024024,    0.025025,    0.026026,    0.027027,    0.028028,    0.029029,     0.03003,    0.031031,    0.032032,    0.033033,    0.034034,    0.035035,    0.036036,    0.037037,    0.038038,    0.039039,     0.04004,    0.041041,    0.042042,    0.043043,    0.044044,    0.045045,    0.046046,    0.047047,\n",
       "          0.048048,    0.049049,     0.05005,    0.051051,    0.052052,    0.053053,    0.054054,    0.055055,    0.056056,    0.057057,    0.058058,    0.059059,     0.06006,    0.061061,    0.062062,    0.063063,    0.064064,    0.065065,    0.066066,    0.067067,    0.068068,    0.069069,     0.07007,    0.071071,\n",
       "          0.072072,    0.073073,    0.074074,    0.075075,    0.076076,    0.077077,    0.078078,    0.079079,     0.08008,    0.081081,    0.082082,    0.083083,    0.084084,    0.085085,    0.086086,    0.087087,    0.088088,    0.089089,     0.09009,    0.091091,    0.092092,    0.093093,    0.094094,    0.095095,\n",
       "          0.096096,    0.097097,    0.098098,    0.099099,      0.1001,      0.1011,      0.1021,      0.1031,      0.1041,     0.10511,     0.10611,     0.10711,     0.10811,     0.10911,     0.11011,     0.11111,     0.11211,     0.11311,     0.11411,     0.11512,     0.11612,     0.11712,     0.11812,     0.11912,\n",
       "           0.12012,     0.12112,     0.12212,     0.12312,     0.12412,     0.12513,     0.12613,     0.12713,     0.12813,     0.12913,     0.13013,     0.13113,     0.13213,     0.13313,     0.13413,     0.13514,     0.13614,     0.13714,     0.13814,     0.13914,     0.14014,     0.14114,     0.14214,     0.14314,\n",
       "           0.14414,     0.14515,     0.14615,     0.14715,     0.14815,     0.14915,     0.15015,     0.15115,     0.15215,     0.15315,     0.15415,     0.15516,     0.15616,     0.15716,     0.15816,     0.15916,     0.16016,     0.16116,     0.16216,     0.16316,     0.16416,     0.16517,     0.16617,     0.16717,\n",
       "           0.16817,     0.16917,     0.17017,     0.17117,     0.17217,     0.17317,     0.17417,     0.17518,     0.17618,     0.17718,     0.17818,     0.17918,     0.18018,     0.18118,     0.18218,     0.18318,     0.18418,     0.18519,     0.18619,     0.18719,     0.18819,     0.18919,     0.19019,     0.19119,\n",
       "           0.19219,     0.19319,     0.19419,      0.1952,      0.1962,      0.1972,      0.1982,      0.1992,      0.2002,      0.2012,      0.2022,      0.2032,      0.2042,     0.20521,     0.20621,     0.20721,     0.20821,     0.20921,     0.21021,     0.21121,     0.21221,     0.21321,     0.21421,     0.21522,\n",
       "           0.21622,     0.21722,     0.21822,     0.21922,     0.22022,     0.22122,     0.22222,     0.22322,     0.22422,     0.22523,     0.22623,     0.22723,     0.22823,     0.22923,     0.23023,     0.23123,     0.23223,     0.23323,     0.23423,     0.23524,     0.23624,     0.23724,     0.23824,     0.23924,\n",
       "           0.24024,     0.24124,     0.24224,     0.24324,     0.24424,     0.24525,     0.24625,     0.24725,     0.24825,     0.24925,     0.25025,     0.25125,     0.25225,     0.25325,     0.25425,     0.25526,     0.25626,     0.25726,     0.25826,     0.25926,     0.26026,     0.26126,     0.26226,     0.26326,\n",
       "           0.26426,     0.26527,     0.26627,     0.26727,     0.26827,     0.26927,     0.27027,     0.27127,     0.27227,     0.27327,     0.27427,     0.27528,     0.27628,     0.27728,     0.27828,     0.27928,     0.28028,     0.28128,     0.28228,     0.28328,     0.28428,     0.28529,     0.28629,     0.28729,\n",
       "           0.28829,     0.28929,     0.29029,     0.29129,     0.29229,     0.29329,     0.29429,      0.2953,      0.2963,      0.2973,      0.2983,      0.2993,      0.3003,      0.3013,      0.3023,      0.3033,      0.3043,     0.30531,     0.30631,     0.30731,     0.30831,     0.30931,     0.31031,     0.31131,\n",
       "           0.31231,     0.31331,     0.31431,     0.31532,     0.31632,     0.31732,     0.31832,     0.31932,     0.32032,     0.32132,     0.32232,     0.32332,     0.32432,     0.32533,     0.32633,     0.32733,     0.32833,     0.32933,     0.33033,     0.33133,     0.33233,     0.33333,     0.33433,     0.33534,\n",
       "           0.33634,     0.33734,     0.33834,     0.33934,     0.34034,     0.34134,     0.34234,     0.34334,     0.34434,     0.34535,     0.34635,     0.34735,     0.34835,     0.34935,     0.35035,     0.35135,     0.35235,     0.35335,     0.35435,     0.35536,     0.35636,     0.35736,     0.35836,     0.35936,\n",
       "           0.36036,     0.36136,     0.36236,     0.36336,     0.36436,     0.36537,     0.36637,     0.36737,     0.36837,     0.36937,     0.37037,     0.37137,     0.37237,     0.37337,     0.37437,     0.37538,     0.37638,     0.37738,     0.37838,     0.37938,     0.38038,     0.38138,     0.38238,     0.38338,\n",
       "           0.38438,     0.38539,     0.38639,     0.38739,     0.38839,     0.38939,     0.39039,     0.39139,     0.39239,     0.39339,     0.39439,      0.3954,      0.3964,      0.3974,      0.3984,      0.3994,      0.4004,      0.4014,      0.4024,      0.4034,      0.4044,     0.40541,     0.40641,     0.40741,\n",
       "           0.40841,     0.40941,     0.41041,     0.41141,     0.41241,     0.41341,     0.41441,     0.41542,     0.41642,     0.41742,     0.41842,     0.41942,     0.42042,     0.42142,     0.42242,     0.42342,     0.42442,     0.42543,     0.42643,     0.42743,     0.42843,     0.42943,     0.43043,     0.43143,\n",
       "           0.43243,     0.43343,     0.43443,     0.43544,     0.43644,     0.43744,     0.43844,     0.43944,     0.44044,     0.44144,     0.44244,     0.44344,     0.44444,     0.44545,     0.44645,     0.44745,     0.44845,     0.44945,     0.45045,     0.45145,     0.45245,     0.45345,     0.45445,     0.45546,\n",
       "           0.45646,     0.45746,     0.45846,     0.45946,     0.46046,     0.46146,     0.46246,     0.46346,     0.46446,     0.46547,     0.46647,     0.46747,     0.46847,     0.46947,     0.47047,     0.47147,     0.47247,     0.47347,     0.47447,     0.47548,     0.47648,     0.47748,     0.47848,     0.47948,\n",
       "           0.48048,     0.48148,     0.48248,     0.48348,     0.48448,     0.48549,     0.48649,     0.48749,     0.48849,     0.48949,     0.49049,     0.49149,     0.49249,     0.49349,     0.49449,      0.4955,      0.4965,      0.4975,      0.4985,      0.4995,      0.5005,      0.5015,      0.5025,      0.5035,\n",
       "            0.5045,     0.50551,     0.50651,     0.50751,     0.50851,     0.50951,     0.51051,     0.51151,     0.51251,     0.51351,     0.51451,     0.51552,     0.51652,     0.51752,     0.51852,     0.51952,     0.52052,     0.52152,     0.52252,     0.52352,     0.52452,     0.52553,     0.52653,     0.52753,\n",
       "           0.52853,     0.52953,     0.53053,     0.53153,     0.53253,     0.53353,     0.53453,     0.53554,     0.53654,     0.53754,     0.53854,     0.53954,     0.54054,     0.54154,     0.54254,     0.54354,     0.54454,     0.54555,     0.54655,     0.54755,     0.54855,     0.54955,     0.55055,     0.55155,\n",
       "           0.55255,     0.55355,     0.55455,     0.55556,     0.55656,     0.55756,     0.55856,     0.55956,     0.56056,     0.56156,     0.56256,     0.56356,     0.56456,     0.56557,     0.56657,     0.56757,     0.56857,     0.56957,     0.57057,     0.57157,     0.57257,     0.57357,     0.57457,     0.57558,\n",
       "           0.57658,     0.57758,     0.57858,     0.57958,     0.58058,     0.58158,     0.58258,     0.58358,     0.58458,     0.58559,     0.58659,     0.58759,     0.58859,     0.58959,     0.59059,     0.59159,     0.59259,     0.59359,     0.59459,      0.5956,      0.5966,      0.5976,      0.5986,      0.5996,\n",
       "            0.6006,      0.6016,      0.6026,      0.6036,      0.6046,     0.60561,     0.60661,     0.60761,     0.60861,     0.60961,     0.61061,     0.61161,     0.61261,     0.61361,     0.61461,     0.61562,     0.61662,     0.61762,     0.61862,     0.61962,     0.62062,     0.62162,     0.62262,     0.62362,\n",
       "           0.62462,     0.62563,     0.62663,     0.62763,     0.62863,     0.62963,     0.63063,     0.63163,     0.63263,     0.63363,     0.63463,     0.63564,     0.63664,     0.63764,     0.63864,     0.63964,     0.64064,     0.64164,     0.64264,     0.64364,     0.64464,     0.64565,     0.64665,     0.64765,\n",
       "           0.64865,     0.64965,     0.65065,     0.65165,     0.65265,     0.65365,     0.65465,     0.65566,     0.65666,     0.65766,     0.65866,     0.65966,     0.66066,     0.66166,     0.66266,     0.66366,     0.66466,     0.66567,     0.66667,     0.66767,     0.66867,     0.66967,     0.67067,     0.67167,\n",
       "           0.67267,     0.67367,     0.67467,     0.67568,     0.67668,     0.67768,     0.67868,     0.67968,     0.68068,     0.68168,     0.68268,     0.68368,     0.68468,     0.68569,     0.68669,     0.68769,     0.68869,     0.68969,     0.69069,     0.69169,     0.69269,     0.69369,     0.69469,      0.6957,\n",
       "            0.6967,      0.6977,      0.6987,      0.6997,      0.7007,      0.7017,      0.7027,      0.7037,      0.7047,     0.70571,     0.70671,     0.70771,     0.70871,     0.70971,     0.71071,     0.71171,     0.71271,     0.71371,     0.71471,     0.71572,     0.71672,     0.71772,     0.71872,     0.71972,\n",
       "           0.72072,     0.72172,     0.72272,     0.72372,     0.72472,     0.72573,     0.72673,     0.72773,     0.72873,     0.72973,     0.73073,     0.73173,     0.73273,     0.73373,     0.73473,     0.73574,     0.73674,     0.73774,     0.73874,     0.73974,     0.74074,     0.74174,     0.74274,     0.74374,\n",
       "           0.74474,     0.74575,     0.74675,     0.74775,     0.74875,     0.74975,     0.75075,     0.75175,     0.75275,     0.75375,     0.75475,     0.75576,     0.75676,     0.75776,     0.75876,     0.75976,     0.76076,     0.76176,     0.76276,     0.76376,     0.76476,     0.76577,     0.76677,     0.76777,\n",
       "           0.76877,     0.76977,     0.77077,     0.77177,     0.77277,     0.77377,     0.77477,     0.77578,     0.77678,     0.77778,     0.77878,     0.77978,     0.78078,     0.78178,     0.78278,     0.78378,     0.78478,     0.78579,     0.78679,     0.78779,     0.78879,     0.78979,     0.79079,     0.79179,\n",
       "           0.79279,     0.79379,     0.79479,      0.7958,      0.7968,      0.7978,      0.7988,      0.7998,      0.8008,      0.8018,      0.8028,      0.8038,      0.8048,     0.80581,     0.80681,     0.80781,     0.80881,     0.80981,     0.81081,     0.81181,     0.81281,     0.81381,     0.81481,     0.81582,\n",
       "           0.81682,     0.81782,     0.81882,     0.81982,     0.82082,     0.82182,     0.82282,     0.82382,     0.82482,     0.82583,     0.82683,     0.82783,     0.82883,     0.82983,     0.83083,     0.83183,     0.83283,     0.83383,     0.83483,     0.83584,     0.83684,     0.83784,     0.83884,     0.83984,\n",
       "           0.84084,     0.84184,     0.84284,     0.84384,     0.84484,     0.84585,     0.84685,     0.84785,     0.84885,     0.84985,     0.85085,     0.85185,     0.85285,     0.85385,     0.85485,     0.85586,     0.85686,     0.85786,     0.85886,     0.85986,     0.86086,     0.86186,     0.86286,     0.86386,\n",
       "           0.86486,     0.86587,     0.86687,     0.86787,     0.86887,     0.86987,     0.87087,     0.87187,     0.87287,     0.87387,     0.87487,     0.87588,     0.87688,     0.87788,     0.87888,     0.87988,     0.88088,     0.88188,     0.88288,     0.88388,     0.88488,     0.88589,     0.88689,     0.88789,\n",
       "           0.88889,     0.88989,     0.89089,     0.89189,     0.89289,     0.89389,     0.89489,      0.8959,      0.8969,      0.8979,      0.8989,      0.8999,      0.9009,      0.9019,      0.9029,      0.9039,      0.9049,     0.90591,     0.90691,     0.90791,     0.90891,     0.90991,     0.91091,     0.91191,\n",
       "           0.91291,     0.91391,     0.91491,     0.91592,     0.91692,     0.91792,     0.91892,     0.91992,     0.92092,     0.92192,     0.92292,     0.92392,     0.92492,     0.92593,     0.92693,     0.92793,     0.92893,     0.92993,     0.93093,     0.93193,     0.93293,     0.93393,     0.93493,     0.93594,\n",
       "           0.93694,     0.93794,     0.93894,     0.93994,     0.94094,     0.94194,     0.94294,     0.94394,     0.94494,     0.94595,     0.94695,     0.94795,     0.94895,     0.94995,     0.95095,     0.95195,     0.95295,     0.95395,     0.95495,     0.95596,     0.95696,     0.95796,     0.95896,     0.95996,\n",
       "           0.96096,     0.96196,     0.96296,     0.96396,     0.96496,     0.96597,     0.96697,     0.96797,     0.96897,     0.96997,     0.97097,     0.97197,     0.97297,     0.97397,     0.97497,     0.97598,     0.97698,     0.97798,     0.97898,     0.97998,     0.98098,     0.98198,     0.98298,     0.98398,\n",
       "           0.98498,     0.98599,     0.98699,     0.98799,     0.98899,     0.98999,     0.99099,     0.99199,     0.99299,     0.99399,     0.99499,       0.996,       0.997,       0.998,       0.999,           1]), array([[    0.10611,     0.10618,     0.15007,     0.18098,      0.2059,     0.22899,     0.24619,     0.25747,     0.27124,     0.28184,      0.2929,     0.30286,     0.31157,     0.31597,     0.32161,      0.3279,     0.33549,     0.34313,     0.34834,     0.35623,     0.36346,     0.36655,     0.37204,\n",
       "             0.3757,     0.37963,     0.38597,     0.38695,     0.39041,      0.3966,     0.40054,     0.40184,     0.40734,     0.41206,     0.41364,     0.41711,     0.41851,     0.42257,     0.42674,     0.42906,     0.43131,      0.4356,      0.4386,     0.44197,     0.44367,     0.44599,     0.44817,\n",
       "             0.4494,     0.45345,     0.45803,     0.46113,     0.45991,     0.46118,     0.45726,     0.45741,     0.45748,     0.45785,     0.45878,     0.46021,     0.46003,     0.45925,     0.46005,     0.46108,     0.45966,     0.46038,     0.46197,     0.46243,     0.46389,     0.46869,     0.46929,\n",
       "             0.4683,     0.47092,     0.47368,     0.47442,     0.47508,     0.47511,     0.47552,     0.47756,     0.48137,     0.48693,     0.48589,     0.48783,     0.48566,     0.48615,     0.48675,     0.48765,     0.48525,     0.48582,     0.48766,     0.49032,     0.49165,     0.49268,     0.49533,\n",
       "            0.49436,     0.49542,     0.49695,     0.49911,     0.50049,     0.50119,     0.50178,     0.50473,     0.50604,     0.50718,     0.51172,     0.51051,     0.51188,     0.51262,     0.51055,     0.51099,     0.51161,     0.51369,     0.51481,     0.51426,     0.51301,     0.51357,     0.51406,\n",
       "            0.51472,      0.5157,     0.51702,     0.51747,     0.51759,      0.5177,     0.51782,     0.51793,     0.51805,     0.51816,     0.51828,     0.51945,     0.52221,     0.52295,     0.52392,     0.52372,     0.52416,      0.5246,     0.52527,      0.5258,     0.52606,     0.52632,     0.52658,\n",
       "            0.52745,      0.5282,     0.52873,     0.52936,     0.53004,     0.53082,     0.53154,     0.53323,      0.5339,      0.5338,      0.5327,     0.53168,     0.53225,     0.53447,     0.53509,     0.53552,      0.5364,       0.538,     0.53834,     0.53869,     0.53904,     0.53953,     0.54003,\n",
       "             0.5405,     0.54093,     0.54245,      0.5439,     0.54489,     0.54512,     0.54534,     0.54557,     0.54579,      0.5464,     0.54776,     0.54951,     0.55019,     0.55284,      0.5532,     0.55356,     0.55392,     0.55526,     0.55687,     0.55789,     0.55834,     0.55828,     0.55726,\n",
       "            0.55624,     0.55589,     0.55681,     0.55724,     0.55766,     0.55935,     0.56047,      0.5607,     0.56094,     0.56117,      0.5614,     0.56217,     0.56302,     0.56339,     0.56376,     0.56428,     0.56509,     0.56581,     0.56665,     0.56874,      0.5697,     0.57195,     0.57287,\n",
       "            0.57327,     0.57366,      0.5746,     0.57556,     0.57601,     0.57646,     0.57923,     0.57966,     0.58009,     0.58061,      0.5813,     0.58318,     0.58387,     0.58443,     0.58482,     0.58521,     0.58562,     0.58631,     0.58686,     0.58649,     0.58613,     0.58576,      0.5854,\n",
       "            0.58503,     0.58466,      0.5843,     0.58393,     0.58391,     0.58443,     0.58494,      0.5856,      0.5863,     0.58694,     0.58758,      0.5891,     0.58958,     0.59006,     0.59121,     0.59206,     0.59245,     0.59285,     0.59349,     0.59486,     0.59536,     0.59474,     0.59413,\n",
       "            0.59352,     0.59291,     0.59301,     0.59388,     0.59432,     0.59472,     0.59511,     0.59568,     0.59651,      0.5946,     0.59537,     0.59647,     0.59772,     0.59934,     0.60112,     0.60287,     0.60015,     0.60039,     0.60063,     0.60087,     0.60111,     0.60135,     0.60158,\n",
       "            0.60181,     0.60204,     0.60227,      0.6025,     0.60274,     0.60311,     0.60369,     0.60426,     0.60225,     0.60098,     0.59942,     0.60023,     0.60073,     0.60103,     0.60133,     0.60162,     0.60192,     0.60424,     0.60516,     0.60579,     0.60638,     0.60668,     0.60698,\n",
       "            0.60728,     0.60758,     0.60791,      0.6085,      0.6091,     0.60599,     0.60632,     0.60664,     0.60697,     0.60729,     0.60811,     0.60916,     0.61012,     0.61051,     0.61064,     0.61077,      0.6109,     0.61102,     0.61115,     0.61128,     0.61141,     0.61154,     0.61167,\n",
       "             0.6118,     0.61192,     0.61114,     0.61022,      0.6093,     0.60863,     0.60998,     0.61178,     0.61296,     0.61402,     0.61228,     0.61199,     0.61299,     0.61381,     0.61582,     0.61634,     0.61685,     0.61735,     0.61769,     0.61803,     0.61836,      0.6187,     0.61937,\n",
       "            0.62084,     0.61804,      0.6155,     0.61459,     0.61408,     0.61358,     0.61308,     0.61258,     0.61208,     0.61157,     0.61153,     0.61174,     0.61195,     0.61216,     0.61236,     0.61257,     0.61277,     0.61298,     0.61462,     0.61502,     0.61543,     0.61584,     0.61721,\n",
       "            0.61969,     0.62006,     0.62044,     0.62081,     0.62121,     0.62164,     0.62207,     0.62251,     0.62299,     0.62351,     0.62402,     0.62441,      0.6246,     0.62478,     0.62496,     0.62515,     0.62533,     0.62551,      0.6257,     0.62588,     0.62387,     0.62306,     0.62338,\n",
       "            0.61902,     0.61729,     0.61828,     0.61839,      0.6185,      0.6186,     0.61871,     0.61882,     0.61893,     0.61903,     0.61914,     0.61925,     0.61935,     0.61946,     0.61957,     0.61968,     0.61978,     0.61989,     0.61824,     0.61658,      0.6174,     0.61819,     0.61896,\n",
       "            0.61912,     0.61699,     0.61609,     0.61674,     0.61739,     0.62019,     0.62174,     0.62266,     0.62287,     0.62309,      0.6233,     0.62351,     0.62372,     0.62393,     0.62415,      0.6244,     0.62482,     0.62524,     0.62566,     0.62594,     0.62495,     0.62397,     0.62298,\n",
       "            0.61844,     0.61878,     0.61913,     0.61947,     0.61981,     0.61975,     0.61661,     0.61641,     0.61659,     0.61677,     0.61695,     0.61713,     0.61731,     0.61749,     0.61767,     0.61785,     0.61877,     0.61608,     0.61157,     0.61084,     0.61012,     0.60939,     0.60866,\n",
       "            0.60791,     0.60686,      0.6058,     0.60474,     0.60407,     0.60437,     0.60467,     0.60497,     0.60526,     0.60556,     0.60545,      0.6049,     0.60435,      0.6038,     0.60324,     0.60269,     0.60214,     0.59774,     0.59797,     0.59819,     0.59842,     0.59864,     0.59887,\n",
       "            0.59909,     0.59932,     0.60062,     0.60238,     0.60244,     0.60176,     0.60109,     0.60041,     0.59974,     0.59906,     0.59859,     0.59823,     0.59787,      0.5975,     0.59714,     0.59678,     0.59641,     0.59605,     0.59569,     0.59532,     0.59496,     0.59549,     0.59747,\n",
       "            0.59855,       0.599,     0.59945,     0.59989,     0.60024,     0.60056,     0.60088,      0.6012,     0.60151,     0.60358,     0.60409,      0.6046,      0.6051,     0.60475,     0.60362,     0.60249,     0.60135,     0.60211,     0.60321,     0.60445,     0.60442,      0.6039,     0.60339,\n",
       "            0.60288,     0.60236,     0.60184,     0.60133,     0.60081,     0.59721,     0.59303,      0.5878,     0.58477,     0.58499,     0.58389,     0.58278,     0.58168,     0.58119,     0.58155,     0.58191,     0.58227,     0.58263,     0.58434,     0.58335,     0.58237,     0.58139,      0.5804,\n",
       "            0.57656,     0.57738,     0.57663,     0.57588,     0.57513,     0.57438,     0.57362,     0.57352,      0.5742,     0.57489,     0.56964,     0.56622,     0.56351,     0.56116,     0.55974,     0.55833,     0.55668,     0.55164,     0.55006,     0.54848,      0.5495,     0.54863,     0.54777,\n",
       "             0.5469,     0.54603,     0.54516,      0.5421,     0.54031,     0.54054,     0.54076,     0.54099,     0.54121,     0.54143,     0.54166,     0.54188,     0.54056,      0.5387,     0.53628,      0.5317,      0.5277,     0.52696,     0.52427,     0.52097,      0.5098,     0.50803,     0.50626,\n",
       "            0.50447,     0.50265,     0.50083,     0.50007,     0.50019,     0.50032,     0.50044,     0.50057,     0.50069,     0.50081,     0.50094,     0.50106,     0.50119,     0.50131,     0.50143,     0.50156,      0.5014,     0.49714,     0.49711,     0.49763,     0.49815,     0.49647,     0.49373,\n",
       "            0.49192,     0.49031,     0.48869,     0.48403,     0.47618,     0.47516,     0.47624,     0.47719,     0.47095,     0.46323,     0.46346,      0.4637,     0.46393,     0.46416,      0.4644,     0.46463,     0.46449,     0.46351,     0.46253,     0.46155,     0.46057,     0.45959,     0.45715,\n",
       "            0.45427,     0.45435,     0.45486,     0.45537,     0.45248,     0.44907,     0.44691,     0.44474,     0.43959,     0.43747,     0.43589,      0.4343,     0.43333,     0.43368,     0.43403,     0.43437,     0.43472,     0.43364,     0.43224,     0.43084,     0.42944,     0.42814,     0.42687,\n",
       "            0.42559,     0.42431,     0.42357,     0.42441,     0.42369,     0.42065,     0.41727,     0.41351,     0.41116,     0.40889,     0.40069,     0.39482,     0.38896,     0.38817,     0.38739,     0.38661,     0.38582,     0.38504,     0.38425,     0.38347,     0.37652,     0.37454,     0.37256,\n",
       "               0.37,     0.36623,     0.36437,     0.36342,     0.36247,     0.36152,     0.36057,     0.35961,     0.35931,     0.35222,     0.34826,     0.34545,     0.34292,        0.34,     0.33608,      0.3283,     0.32544,     0.32179,     0.31708,     0.31482,     0.31137,      0.3066,     0.30089,\n",
       "            0.29751,     0.29827,      0.2937,     0.29034,     0.28841,     0.28648,     0.28455,     0.28199,     0.27942,     0.27354,     0.25477,     0.24863,     0.24764,     0.24665,     0.24567,     0.24468,     0.24368,     0.24269,      0.2417,      0.2255,     0.21765,     0.21153,     0.20979,\n",
       "            0.20804,     0.20629,     0.20454,     0.19959,     0.19523,     0.19231,     0.18938,     0.18577,       0.182,     0.17396,     0.17219,     0.17112,     0.17006,     0.16899,     0.16792,     0.16685,     0.16579,      0.1653,     0.16547,     0.16565,     0.16581,     0.16471,     0.15964,\n",
       "            0.15849,     0.14856,     0.14616,     0.14377,     0.14122,     0.13839,     0.13556,     0.12938,     0.12442,     0.12265,     0.12088,     0.11911,     0.11733,    0.099764,    0.097333,    0.094896,    0.092455,    0.091435,    0.091631,    0.090618,    0.087769,    0.084913,    0.081544,\n",
       "           0.077053,    0.069973,    0.056485,    0.047091,    0.045851,     0.04377,    0.041684,    0.039596,    0.037792,    0.037169,    0.036545,    0.035922,    0.035298,    0.034673,    0.034049,    0.033424,    0.032799,    0.032173,    0.031547,    0.030921,    0.030294,    0.029668,     0.02904,\n",
       "           0.028003,    0.025751,    0.023495,    0.021235,    0.019139,    0.019148,    0.019157,    0.019164,    0.019172,    0.019179,    0.019185,    0.019192,    0.019198,    0.019203,    0.019208,    0.019213,    0.019218,    0.019223,    0.019227,     0.01863,    0.015221,    0.011801,           0,\n",
       "                  0,           0,           0,           0,           0,           0,           0,           0,           0,           0,           0,           0,           0,           0,           0,           0,           0,           0,           0,           0,           0,           0,           0,\n",
       "                  0,           0,           0,           0,           0,           0,           0,           0,           0,           0,           0,           0,           0,           0,           0,           0,           0,           0,           0,           0,           0,           0,           0,\n",
       "                  0,           0,           0,           0,           0,           0,           0,           0,           0,           0,           0,           0,           0,           0,           0,           0,           0,           0,           0,           0,           0,           0,           0,\n",
       "                  0,           0,           0,           0,           0,           0,           0,           0,           0,           0,           0,           0,           0,           0,           0,           0,           0,           0,           0,           0,           0,           0,           0,\n",
       "                  0,           0,           0,           0,           0,           0,           0,           0,           0,           0,           0,           0,           0,           0,           0,           0,           0,           0,           0,           0,           0,           0,           0,\n",
       "                  0,           0,           0,           0,           0,           0,           0,           0,           0,           0,           0,           0,           0,           0,           0,           0,           0,           0,           0,           0,           0,           0,           0,\n",
       "                  0,           0,           0,           0,           0,           0,           0,           0,           0,           0,           0,           0,           0,           0,           0,           0,           0,           0,           0,           0,           0,           0,           0,\n",
       "                  0,           0,           0,           0,           0,           0,           0,           0,           0,           0,           0]]), 'Confidence', 'F1'], [array([          0,    0.001001,    0.002002,    0.003003,    0.004004,    0.005005,    0.006006,    0.007007,    0.008008,    0.009009,     0.01001,    0.011011,    0.012012,    0.013013,    0.014014,    0.015015,    0.016016,    0.017017,    0.018018,    0.019019,     0.02002,    0.021021,    0.022022,    0.023023,\n",
       "          0.024024,    0.025025,    0.026026,    0.027027,    0.028028,    0.029029,     0.03003,    0.031031,    0.032032,    0.033033,    0.034034,    0.035035,    0.036036,    0.037037,    0.038038,    0.039039,     0.04004,    0.041041,    0.042042,    0.043043,    0.044044,    0.045045,    0.046046,    0.047047,\n",
       "          0.048048,    0.049049,     0.05005,    0.051051,    0.052052,    0.053053,    0.054054,    0.055055,    0.056056,    0.057057,    0.058058,    0.059059,     0.06006,    0.061061,    0.062062,    0.063063,    0.064064,    0.065065,    0.066066,    0.067067,    0.068068,    0.069069,     0.07007,    0.071071,\n",
       "          0.072072,    0.073073,    0.074074,    0.075075,    0.076076,    0.077077,    0.078078,    0.079079,     0.08008,    0.081081,    0.082082,    0.083083,    0.084084,    0.085085,    0.086086,    0.087087,    0.088088,    0.089089,     0.09009,    0.091091,    0.092092,    0.093093,    0.094094,    0.095095,\n",
       "          0.096096,    0.097097,    0.098098,    0.099099,      0.1001,      0.1011,      0.1021,      0.1031,      0.1041,     0.10511,     0.10611,     0.10711,     0.10811,     0.10911,     0.11011,     0.11111,     0.11211,     0.11311,     0.11411,     0.11512,     0.11612,     0.11712,     0.11812,     0.11912,\n",
       "           0.12012,     0.12112,     0.12212,     0.12312,     0.12412,     0.12513,     0.12613,     0.12713,     0.12813,     0.12913,     0.13013,     0.13113,     0.13213,     0.13313,     0.13413,     0.13514,     0.13614,     0.13714,     0.13814,     0.13914,     0.14014,     0.14114,     0.14214,     0.14314,\n",
       "           0.14414,     0.14515,     0.14615,     0.14715,     0.14815,     0.14915,     0.15015,     0.15115,     0.15215,     0.15315,     0.15415,     0.15516,     0.15616,     0.15716,     0.15816,     0.15916,     0.16016,     0.16116,     0.16216,     0.16316,     0.16416,     0.16517,     0.16617,     0.16717,\n",
       "           0.16817,     0.16917,     0.17017,     0.17117,     0.17217,     0.17317,     0.17417,     0.17518,     0.17618,     0.17718,     0.17818,     0.17918,     0.18018,     0.18118,     0.18218,     0.18318,     0.18418,     0.18519,     0.18619,     0.18719,     0.18819,     0.18919,     0.19019,     0.19119,\n",
       "           0.19219,     0.19319,     0.19419,      0.1952,      0.1962,      0.1972,      0.1982,      0.1992,      0.2002,      0.2012,      0.2022,      0.2032,      0.2042,     0.20521,     0.20621,     0.20721,     0.20821,     0.20921,     0.21021,     0.21121,     0.21221,     0.21321,     0.21421,     0.21522,\n",
       "           0.21622,     0.21722,     0.21822,     0.21922,     0.22022,     0.22122,     0.22222,     0.22322,     0.22422,     0.22523,     0.22623,     0.22723,     0.22823,     0.22923,     0.23023,     0.23123,     0.23223,     0.23323,     0.23423,     0.23524,     0.23624,     0.23724,     0.23824,     0.23924,\n",
       "           0.24024,     0.24124,     0.24224,     0.24324,     0.24424,     0.24525,     0.24625,     0.24725,     0.24825,     0.24925,     0.25025,     0.25125,     0.25225,     0.25325,     0.25425,     0.25526,     0.25626,     0.25726,     0.25826,     0.25926,     0.26026,     0.26126,     0.26226,     0.26326,\n",
       "           0.26426,     0.26527,     0.26627,     0.26727,     0.26827,     0.26927,     0.27027,     0.27127,     0.27227,     0.27327,     0.27427,     0.27528,     0.27628,     0.27728,     0.27828,     0.27928,     0.28028,     0.28128,     0.28228,     0.28328,     0.28428,     0.28529,     0.28629,     0.28729,\n",
       "           0.28829,     0.28929,     0.29029,     0.29129,     0.29229,     0.29329,     0.29429,      0.2953,      0.2963,      0.2973,      0.2983,      0.2993,      0.3003,      0.3013,      0.3023,      0.3033,      0.3043,     0.30531,     0.30631,     0.30731,     0.30831,     0.30931,     0.31031,     0.31131,\n",
       "           0.31231,     0.31331,     0.31431,     0.31532,     0.31632,     0.31732,     0.31832,     0.31932,     0.32032,     0.32132,     0.32232,     0.32332,     0.32432,     0.32533,     0.32633,     0.32733,     0.32833,     0.32933,     0.33033,     0.33133,     0.33233,     0.33333,     0.33433,     0.33534,\n",
       "           0.33634,     0.33734,     0.33834,     0.33934,     0.34034,     0.34134,     0.34234,     0.34334,     0.34434,     0.34535,     0.34635,     0.34735,     0.34835,     0.34935,     0.35035,     0.35135,     0.35235,     0.35335,     0.35435,     0.35536,     0.35636,     0.35736,     0.35836,     0.35936,\n",
       "           0.36036,     0.36136,     0.36236,     0.36336,     0.36436,     0.36537,     0.36637,     0.36737,     0.36837,     0.36937,     0.37037,     0.37137,     0.37237,     0.37337,     0.37437,     0.37538,     0.37638,     0.37738,     0.37838,     0.37938,     0.38038,     0.38138,     0.38238,     0.38338,\n",
       "           0.38438,     0.38539,     0.38639,     0.38739,     0.38839,     0.38939,     0.39039,     0.39139,     0.39239,     0.39339,     0.39439,      0.3954,      0.3964,      0.3974,      0.3984,      0.3994,      0.4004,      0.4014,      0.4024,      0.4034,      0.4044,     0.40541,     0.40641,     0.40741,\n",
       "           0.40841,     0.40941,     0.41041,     0.41141,     0.41241,     0.41341,     0.41441,     0.41542,     0.41642,     0.41742,     0.41842,     0.41942,     0.42042,     0.42142,     0.42242,     0.42342,     0.42442,     0.42543,     0.42643,     0.42743,     0.42843,     0.42943,     0.43043,     0.43143,\n",
       "           0.43243,     0.43343,     0.43443,     0.43544,     0.43644,     0.43744,     0.43844,     0.43944,     0.44044,     0.44144,     0.44244,     0.44344,     0.44444,     0.44545,     0.44645,     0.44745,     0.44845,     0.44945,     0.45045,     0.45145,     0.45245,     0.45345,     0.45445,     0.45546,\n",
       "           0.45646,     0.45746,     0.45846,     0.45946,     0.46046,     0.46146,     0.46246,     0.46346,     0.46446,     0.46547,     0.46647,     0.46747,     0.46847,     0.46947,     0.47047,     0.47147,     0.47247,     0.47347,     0.47447,     0.47548,     0.47648,     0.47748,     0.47848,     0.47948,\n",
       "           0.48048,     0.48148,     0.48248,     0.48348,     0.48448,     0.48549,     0.48649,     0.48749,     0.48849,     0.48949,     0.49049,     0.49149,     0.49249,     0.49349,     0.49449,      0.4955,      0.4965,      0.4975,      0.4985,      0.4995,      0.5005,      0.5015,      0.5025,      0.5035,\n",
       "            0.5045,     0.50551,     0.50651,     0.50751,     0.50851,     0.50951,     0.51051,     0.51151,     0.51251,     0.51351,     0.51451,     0.51552,     0.51652,     0.51752,     0.51852,     0.51952,     0.52052,     0.52152,     0.52252,     0.52352,     0.52452,     0.52553,     0.52653,     0.52753,\n",
       "           0.52853,     0.52953,     0.53053,     0.53153,     0.53253,     0.53353,     0.53453,     0.53554,     0.53654,     0.53754,     0.53854,     0.53954,     0.54054,     0.54154,     0.54254,     0.54354,     0.54454,     0.54555,     0.54655,     0.54755,     0.54855,     0.54955,     0.55055,     0.55155,\n",
       "           0.55255,     0.55355,     0.55455,     0.55556,     0.55656,     0.55756,     0.55856,     0.55956,     0.56056,     0.56156,     0.56256,     0.56356,     0.56456,     0.56557,     0.56657,     0.56757,     0.56857,     0.56957,     0.57057,     0.57157,     0.57257,     0.57357,     0.57457,     0.57558,\n",
       "           0.57658,     0.57758,     0.57858,     0.57958,     0.58058,     0.58158,     0.58258,     0.58358,     0.58458,     0.58559,     0.58659,     0.58759,     0.58859,     0.58959,     0.59059,     0.59159,     0.59259,     0.59359,     0.59459,      0.5956,      0.5966,      0.5976,      0.5986,      0.5996,\n",
       "            0.6006,      0.6016,      0.6026,      0.6036,      0.6046,     0.60561,     0.60661,     0.60761,     0.60861,     0.60961,     0.61061,     0.61161,     0.61261,     0.61361,     0.61461,     0.61562,     0.61662,     0.61762,     0.61862,     0.61962,     0.62062,     0.62162,     0.62262,     0.62362,\n",
       "           0.62462,     0.62563,     0.62663,     0.62763,     0.62863,     0.62963,     0.63063,     0.63163,     0.63263,     0.63363,     0.63463,     0.63564,     0.63664,     0.63764,     0.63864,     0.63964,     0.64064,     0.64164,     0.64264,     0.64364,     0.64464,     0.64565,     0.64665,     0.64765,\n",
       "           0.64865,     0.64965,     0.65065,     0.65165,     0.65265,     0.65365,     0.65465,     0.65566,     0.65666,     0.65766,     0.65866,     0.65966,     0.66066,     0.66166,     0.66266,     0.66366,     0.66466,     0.66567,     0.66667,     0.66767,     0.66867,     0.66967,     0.67067,     0.67167,\n",
       "           0.67267,     0.67367,     0.67467,     0.67568,     0.67668,     0.67768,     0.67868,     0.67968,     0.68068,     0.68168,     0.68268,     0.68368,     0.68468,     0.68569,     0.68669,     0.68769,     0.68869,     0.68969,     0.69069,     0.69169,     0.69269,     0.69369,     0.69469,      0.6957,\n",
       "            0.6967,      0.6977,      0.6987,      0.6997,      0.7007,      0.7017,      0.7027,      0.7037,      0.7047,     0.70571,     0.70671,     0.70771,     0.70871,     0.70971,     0.71071,     0.71171,     0.71271,     0.71371,     0.71471,     0.71572,     0.71672,     0.71772,     0.71872,     0.71972,\n",
       "           0.72072,     0.72172,     0.72272,     0.72372,     0.72472,     0.72573,     0.72673,     0.72773,     0.72873,     0.72973,     0.73073,     0.73173,     0.73273,     0.73373,     0.73473,     0.73574,     0.73674,     0.73774,     0.73874,     0.73974,     0.74074,     0.74174,     0.74274,     0.74374,\n",
       "           0.74474,     0.74575,     0.74675,     0.74775,     0.74875,     0.74975,     0.75075,     0.75175,     0.75275,     0.75375,     0.75475,     0.75576,     0.75676,     0.75776,     0.75876,     0.75976,     0.76076,     0.76176,     0.76276,     0.76376,     0.76476,     0.76577,     0.76677,     0.76777,\n",
       "           0.76877,     0.76977,     0.77077,     0.77177,     0.77277,     0.77377,     0.77477,     0.77578,     0.77678,     0.77778,     0.77878,     0.77978,     0.78078,     0.78178,     0.78278,     0.78378,     0.78478,     0.78579,     0.78679,     0.78779,     0.78879,     0.78979,     0.79079,     0.79179,\n",
       "           0.79279,     0.79379,     0.79479,      0.7958,      0.7968,      0.7978,      0.7988,      0.7998,      0.8008,      0.8018,      0.8028,      0.8038,      0.8048,     0.80581,     0.80681,     0.80781,     0.80881,     0.80981,     0.81081,     0.81181,     0.81281,     0.81381,     0.81481,     0.81582,\n",
       "           0.81682,     0.81782,     0.81882,     0.81982,     0.82082,     0.82182,     0.82282,     0.82382,     0.82482,     0.82583,     0.82683,     0.82783,     0.82883,     0.82983,     0.83083,     0.83183,     0.83283,     0.83383,     0.83483,     0.83584,     0.83684,     0.83784,     0.83884,     0.83984,\n",
       "           0.84084,     0.84184,     0.84284,     0.84384,     0.84484,     0.84585,     0.84685,     0.84785,     0.84885,     0.84985,     0.85085,     0.85185,     0.85285,     0.85385,     0.85485,     0.85586,     0.85686,     0.85786,     0.85886,     0.85986,     0.86086,     0.86186,     0.86286,     0.86386,\n",
       "           0.86486,     0.86587,     0.86687,     0.86787,     0.86887,     0.86987,     0.87087,     0.87187,     0.87287,     0.87387,     0.87487,     0.87588,     0.87688,     0.87788,     0.87888,     0.87988,     0.88088,     0.88188,     0.88288,     0.88388,     0.88488,     0.88589,     0.88689,     0.88789,\n",
       "           0.88889,     0.88989,     0.89089,     0.89189,     0.89289,     0.89389,     0.89489,      0.8959,      0.8969,      0.8979,      0.8989,      0.8999,      0.9009,      0.9019,      0.9029,      0.9039,      0.9049,     0.90591,     0.90691,     0.90791,     0.90891,     0.90991,     0.91091,     0.91191,\n",
       "           0.91291,     0.91391,     0.91491,     0.91592,     0.91692,     0.91792,     0.91892,     0.91992,     0.92092,     0.92192,     0.92292,     0.92392,     0.92492,     0.92593,     0.92693,     0.92793,     0.92893,     0.92993,     0.93093,     0.93193,     0.93293,     0.93393,     0.93493,     0.93594,\n",
       "           0.93694,     0.93794,     0.93894,     0.93994,     0.94094,     0.94194,     0.94294,     0.94394,     0.94494,     0.94595,     0.94695,     0.94795,     0.94895,     0.94995,     0.95095,     0.95195,     0.95295,     0.95395,     0.95495,     0.95596,     0.95696,     0.95796,     0.95896,     0.95996,\n",
       "           0.96096,     0.96196,     0.96296,     0.96396,     0.96496,     0.96597,     0.96697,     0.96797,     0.96897,     0.96997,     0.97097,     0.97197,     0.97297,     0.97397,     0.97497,     0.97598,     0.97698,     0.97798,     0.97898,     0.97998,     0.98098,     0.98198,     0.98298,     0.98398,\n",
       "           0.98498,     0.98599,     0.98699,     0.98799,     0.98899,     0.98999,     0.99099,     0.99199,     0.99299,     0.99399,     0.99499,       0.996,       0.997,       0.998,       0.999,           1]), array([[   0.056653,    0.056696,    0.082537,     0.10171,     0.11772,     0.13306,     0.14482,     0.15286,     0.16287,     0.17079,     0.17921,     0.18727,     0.19397,     0.19801,     0.20247,     0.20747,     0.21358,     0.21982,     0.22411,     0.23069,     0.23679,     0.23988,      0.2446,\n",
       "            0.24778,     0.25172,     0.25733,     0.25875,     0.26184,     0.26745,     0.27104,     0.27285,     0.27795,     0.28236,     0.28385,     0.28712,     0.28846,     0.29232,     0.29633,     0.29857,     0.30075,     0.30495,     0.30789,     0.31123,     0.31374,     0.31606,     0.31827,\n",
       "            0.32033,     0.32451,     0.32922,     0.33243,     0.33308,     0.33456,     0.33227,     0.33279,     0.33351,     0.33458,     0.33593,     0.33746,     0.33833,     0.33857,     0.34055,     0.34169,     0.34126,     0.34205,     0.34381,     0.34432,     0.34594,      0.3513,     0.35198,\n",
       "            0.35171,     0.35506,      0.3582,     0.35906,      0.3603,     0.36195,     0.36295,     0.36532,     0.36981,     0.37641,     0.37663,     0.37895,     0.37783,     0.37842,     0.37915,     0.38025,     0.37885,     0.37954,      0.3818,     0.38507,     0.38672,     0.38798,     0.39128,\n",
       "            0.39172,     0.39305,     0.39498,     0.39771,     0.39946,     0.40036,     0.40111,     0.40489,     0.40658,     0.40806,     0.41397,     0.41425,     0.41798,     0.41938,     0.41817,     0.41876,     0.41958,     0.42239,     0.42391,     0.42388,     0.42308,     0.42427,     0.42494,\n",
       "            0.42583,     0.42718,     0.42899,     0.42962,     0.42978,     0.42994,      0.4301,     0.43026,     0.43042,     0.43058,     0.43074,     0.43236,     0.43619,     0.43722,     0.43859,     0.44054,     0.44116,     0.44178,     0.44274,     0.44348,     0.44385,     0.44422,      0.4446,\n",
       "            0.44584,     0.44692,     0.44767,     0.44858,     0.44956,     0.45068,     0.45171,     0.45416,     0.45514,     0.45615,     0.45634,     0.45679,     0.45764,     0.46093,     0.46186,      0.4625,     0.46382,      0.4662,     0.46673,     0.46725,     0.46778,     0.46851,     0.46927,\n",
       "            0.46997,     0.47063,     0.47294,     0.47515,     0.47666,       0.477,     0.47735,     0.47769,     0.47803,     0.47897,     0.48106,     0.48377,     0.48482,     0.48896,     0.48952,     0.49008,     0.49064,     0.49275,     0.49531,     0.49691,     0.49763,     0.49788,     0.49724,\n",
       "            0.49661,     0.49672,     0.49819,     0.49887,     0.49955,     0.50227,     0.50408,     0.50446,     0.50483,     0.50521,     0.50559,     0.50683,     0.50822,     0.50882,     0.50942,     0.51028,      0.5116,     0.51278,     0.51417,     0.51762,     0.51921,     0.52297,      0.5245,\n",
       "            0.52517,     0.52583,      0.5274,     0.52902,     0.52979,     0.53055,     0.53526,     0.53599,     0.53673,     0.53763,     0.53881,     0.54205,     0.54324,     0.54421,     0.54489,     0.54557,     0.54628,     0.54748,     0.54849,     0.54827,     0.54806,     0.54784,     0.54762,\n",
       "             0.5474,     0.54718,     0.54696,     0.54674,     0.54696,     0.54787,     0.54877,     0.54994,     0.55116,     0.55231,     0.55344,     0.55614,       0.557,     0.55786,     0.55991,     0.56143,     0.56215,     0.56286,     0.56401,      0.5665,       0.568,     0.56764,     0.56728,\n",
       "            0.56692,     0.56656,     0.56714,     0.56873,     0.56954,     0.57027,       0.571,     0.57205,     0.57358,     0.57274,     0.57564,      0.5777,     0.58005,      0.5831,     0.58649,     0.58982,     0.58907,     0.58953,     0.58999,     0.59046,     0.59092,     0.59138,     0.59184,\n",
       "            0.59228,     0.59273,     0.59318,     0.59363,     0.59408,      0.5948,     0.59593,     0.59705,     0.59778,     0.59727,     0.59638,     0.59852,     0.59953,     0.60012,     0.60071,     0.60131,      0.6019,     0.60656,     0.60842,     0.60968,     0.61089,     0.61149,      0.6121,\n",
       "            0.61271,     0.61332,       0.614,     0.61521,     0.61642,     0.61516,     0.61584,     0.61651,     0.61718,     0.61785,     0.61954,     0.62172,     0.62373,     0.62455,     0.62482,     0.62509,     0.62536,     0.62563,      0.6259,     0.62617,     0.62644,     0.62671,     0.62698,\n",
       "            0.62725,     0.62752,     0.62711,      0.6266,     0.62609,     0.62596,     0.62882,     0.63265,     0.63518,     0.63746,     0.63748,     0.63876,     0.64094,     0.64273,     0.64716,      0.6483,     0.64943,     0.65055,      0.6513,     0.65205,      0.6528,     0.65355,     0.65506,\n",
       "            0.65835,     0.65907,     0.65773,     0.65725,     0.65698,     0.65671,     0.65645,     0.65618,     0.65591,     0.65565,     0.65587,     0.65634,     0.65682,      0.6573,     0.65777,     0.65825,     0.65873,      0.6592,       0.663,     0.66395,     0.66489,     0.66584,     0.66905,\n",
       "            0.67492,     0.67581,      0.6767,     0.67759,     0.67853,     0.67956,      0.6806,     0.68164,      0.6828,     0.68404,     0.68529,     0.68622,     0.68667,     0.68711,     0.68756,       0.688,     0.68845,     0.68889,     0.68934,     0.68978,       0.689,     0.69001,       0.692,\n",
       "            0.68983,     0.68896,     0.69278,     0.69305,     0.69332,     0.69359,     0.69386,     0.69413,      0.6944,     0.69467,     0.69494,     0.69521,     0.69548,     0.69575,     0.69602,     0.69629,     0.69656,     0.69682,     0.69613,     0.69606,     0.69814,     0.70018,     0.70215,\n",
       "            0.70348,     0.70244,     0.70261,      0.7043,     0.70599,     0.71335,     0.71747,     0.71993,      0.7205,     0.72107,     0.72164,     0.72221,     0.72278,     0.72335,     0.72392,     0.72461,     0.72574,     0.72688,     0.72801,     0.72899,     0.72853,     0.72808,     0.72762,\n",
       "            0.72565,     0.72659,     0.72754,     0.72848,     0.72943,      0.7301,     0.72865,     0.72893,     0.72943,     0.72994,     0.73045,     0.73096,     0.73146,     0.73197,     0.73248,     0.73299,     0.73558,     0.73661,     0.73454,     0.73421,     0.73387,     0.73354,      0.7332,\n",
       "            0.73286,     0.73237,     0.73188,     0.73138,     0.73129,     0.73216,     0.73303,     0.73391,     0.73478,     0.73565,     0.73599,     0.73573,     0.73548,     0.73522,     0.73497,     0.73471,     0.73446,     0.73251,     0.73319,     0.73387,     0.73455,     0.73523,     0.73591,\n",
       "            0.73659,     0.73727,     0.74121,     0.74662,     0.74799,     0.74769,     0.74739,     0.74708,     0.74678,     0.74648,     0.74627,      0.7461,     0.74594,     0.74577,     0.74561,     0.74544,     0.74528,     0.74511,     0.74495,     0.74478,     0.74462,     0.74685,      0.7531,\n",
       "            0.75653,     0.75797,     0.75941,     0.76085,     0.76198,     0.76301,     0.76403,     0.76506,     0.76609,     0.77283,      0.7745,     0.77617,     0.77783,     0.77838,     0.77792,     0.77745,     0.77699,        0.78,      0.7837,     0.78789,     0.78892,     0.78871,     0.78851,\n",
       "             0.7883,      0.7881,     0.78789,     0.78769,     0.78749,     0.78604,     0.78436,     0.78223,     0.78097,     0.78673,     0.78628,     0.78583,     0.78538,     0.78568,       0.787,     0.78832,     0.78964,     0.79096,     0.79821,     0.79783,     0.79744,     0.79706,     0.79667,\n",
       "            0.79757,     0.80162,     0.80133,     0.80104,     0.80075,     0.80045,     0.80016,     0.80121,     0.80389,     0.80657,     0.80496,     0.80364,     0.80258,     0.80166,      0.8011,     0.80054,     0.79989,     0.79786,     0.79722,     0.79658,     0.80373,     0.80338,     0.80304,\n",
       "            0.80269,     0.80235,       0.802,     0.80077,     0.80053,     0.80152,     0.80251,     0.80349,     0.80448,     0.80547,     0.80645,     0.80744,     0.80715,     0.80641,     0.80545,     0.80361,     0.80198,     0.80902,     0.80795,     0.80662,     0.80203,     0.80128,     0.80054,\n",
       "            0.79978,       0.799,     0.79823,     0.79822,     0.79885,     0.79949,     0.80013,     0.80076,      0.8014,     0.80204,     0.80267,     0.80331,     0.80395,     0.80458,     0.80522,     0.80586,     0.80634,     0.80455,     0.80679,     0.80954,      0.8123,     0.81243,     0.81131,\n",
       "            0.81056,     0.80989,     0.80922,     0.81584,     0.81258,     0.81727,     0.82369,     0.82939,     0.82877,     0.83589,     0.83742,     0.83895,     0.84049,     0.84202,     0.84355,     0.84509,     0.84604,     0.84568,     0.84532,     0.84496,      0.8446,     0.84424,     0.84332,\n",
       "            0.84225,     0.84519,     0.84873,     0.85228,     0.85224,     0.85101,     0.85022,     0.84942,      0.8475,      0.8467,     0.84609,     0.84548,     0.84593,     0.84861,     0.85129,     0.85398,     0.85666,     0.85673,     0.85622,     0.85571,      0.8552,     0.85472,     0.85424,\n",
       "            0.85377,      0.8533,     0.85468,     0.86156,     0.86524,     0.86418,     0.86297,     0.86162,     0.86075,     0.85992,     0.85683,     0.85456,     0.85223,     0.85191,      0.8516,     0.85128,     0.85096,     0.85064,     0.85032,        0.85,      0.8471,     0.84625,      0.8454,\n",
       "            0.84429,     0.84263,     0.84181,     0.84138,     0.84095,     0.84052,     0.84009,     0.83966,     0.84511,     0.85114,     0.84939,     0.84813,     0.84698,     0.84564,     0.84381,     0.85664,     0.85535,     0.85367,     0.86394,     0.86842,     0.86693,      0.8648,     0.86219,\n",
       "            0.86595,     0.87894,     0.87898,     0.87754,     0.87669,     0.87585,       0.875,     0.87382,     0.87265,     0.86988,     0.86033,     0.85695,     0.85638,     0.85581,     0.85524,     0.85467,      0.8541,     0.85353,     0.85296,     0.84281,     0.83745,     0.83308,     0.83176,\n",
       "            0.83044,     0.82912,      0.8278,     0.82384,     0.82027,     0.81777,     0.81527,     0.81201,     0.80857,     0.80078,     0.79898,     0.79786,     0.79674,     0.79562,      0.7945,     0.79338,     0.79226,     0.79549,     0.80363,     0.81178,     0.81993,     0.82487,     0.81989,\n",
       "            0.85133,     0.84818,     0.84588,     0.84359,     0.84104,     0.83805,     0.83506,       0.828,     0.82204,     0.81972,     0.81741,     0.81509,     0.81278,     0.78527,     0.78063,       0.776,     0.77137,     0.78532,     0.81525,     0.83139,     0.82647,     0.82156,     0.81529,\n",
       "            0.80609,     0.78981,     0.75126,     0.78664,     0.82857,     0.82106,     0.81355,     0.80603,     0.79934,       0.796,     0.79265,      0.7893,     0.78596,     0.78261,     0.77927,     0.77592,     0.77258,     0.76923,     0.76588,     0.76254,     0.75919,     0.75585,      0.7525,\n",
       "            0.74496,     0.72502,     0.70508,     0.68514,     0.66832,     0.69069,     0.71307,     0.73545,     0.75782,      0.7802,     0.80257,     0.82495,     0.84732,      0.8697,     0.89208,     0.91445,     0.93683,      0.9592,     0.98158,           1,           1,           1,           1,\n",
       "                  1,           1,           1,           1,           1,           1,           1,           1,           1,           1,           1,           1,           1,           1,           1,           1,           1,           1,           1,           1,           1,           1,           1,\n",
       "                  1,           1,           1,           1,           1,           1,           1,           1,           1,           1,           1,           1,           1,           1,           1,           1,           1,           1,           1,           1,           1,           1,           1,\n",
       "                  1,           1,           1,           1,           1,           1,           1,           1,           1,           1,           1,           1,           1,           1,           1,           1,           1,           1,           1,           1,           1,           1,           1,\n",
       "                  1,           1,           1,           1,           1,           1,           1,           1,           1,           1,           1,           1,           1,           1,           1,           1,           1,           1,           1,           1,           1,           1,           1,\n",
       "                  1,           1,           1,           1,           1,           1,           1,           1,           1,           1,           1,           1,           1,           1,           1,           1,           1,           1,           1,           1,           1,           1,           1,\n",
       "                  1,           1,           1,           1,           1,           1,           1,           1,           1,           1,           1,           1,           1,           1,           1,           1,           1,           1,           1,           1,           1,           1,           1,\n",
       "                  1,           1,           1,           1,           1,           1,           1,           1,           1,           1,           1,           1,           1,           1,           1,           1,           1,           1,           1,           1,           1,           1,           1,\n",
       "                  1,           1,           1,           1,           1,           1,           1,           1,           1,           1,           1]]), 'Confidence', 'Precision'], [array([          0,    0.001001,    0.002002,    0.003003,    0.004004,    0.005005,    0.006006,    0.007007,    0.008008,    0.009009,     0.01001,    0.011011,    0.012012,    0.013013,    0.014014,    0.015015,    0.016016,    0.017017,    0.018018,    0.019019,     0.02002,    0.021021,    0.022022,    0.023023,\n",
       "          0.024024,    0.025025,    0.026026,    0.027027,    0.028028,    0.029029,     0.03003,    0.031031,    0.032032,    0.033033,    0.034034,    0.035035,    0.036036,    0.037037,    0.038038,    0.039039,     0.04004,    0.041041,    0.042042,    0.043043,    0.044044,    0.045045,    0.046046,    0.047047,\n",
       "          0.048048,    0.049049,     0.05005,    0.051051,    0.052052,    0.053053,    0.054054,    0.055055,    0.056056,    0.057057,    0.058058,    0.059059,     0.06006,    0.061061,    0.062062,    0.063063,    0.064064,    0.065065,    0.066066,    0.067067,    0.068068,    0.069069,     0.07007,    0.071071,\n",
       "          0.072072,    0.073073,    0.074074,    0.075075,    0.076076,    0.077077,    0.078078,    0.079079,     0.08008,    0.081081,    0.082082,    0.083083,    0.084084,    0.085085,    0.086086,    0.087087,    0.088088,    0.089089,     0.09009,    0.091091,    0.092092,    0.093093,    0.094094,    0.095095,\n",
       "          0.096096,    0.097097,    0.098098,    0.099099,      0.1001,      0.1011,      0.1021,      0.1031,      0.1041,     0.10511,     0.10611,     0.10711,     0.10811,     0.10911,     0.11011,     0.11111,     0.11211,     0.11311,     0.11411,     0.11512,     0.11612,     0.11712,     0.11812,     0.11912,\n",
       "           0.12012,     0.12112,     0.12212,     0.12312,     0.12412,     0.12513,     0.12613,     0.12713,     0.12813,     0.12913,     0.13013,     0.13113,     0.13213,     0.13313,     0.13413,     0.13514,     0.13614,     0.13714,     0.13814,     0.13914,     0.14014,     0.14114,     0.14214,     0.14314,\n",
       "           0.14414,     0.14515,     0.14615,     0.14715,     0.14815,     0.14915,     0.15015,     0.15115,     0.15215,     0.15315,     0.15415,     0.15516,     0.15616,     0.15716,     0.15816,     0.15916,     0.16016,     0.16116,     0.16216,     0.16316,     0.16416,     0.16517,     0.16617,     0.16717,\n",
       "           0.16817,     0.16917,     0.17017,     0.17117,     0.17217,     0.17317,     0.17417,     0.17518,     0.17618,     0.17718,     0.17818,     0.17918,     0.18018,     0.18118,     0.18218,     0.18318,     0.18418,     0.18519,     0.18619,     0.18719,     0.18819,     0.18919,     0.19019,     0.19119,\n",
       "           0.19219,     0.19319,     0.19419,      0.1952,      0.1962,      0.1972,      0.1982,      0.1992,      0.2002,      0.2012,      0.2022,      0.2032,      0.2042,     0.20521,     0.20621,     0.20721,     0.20821,     0.20921,     0.21021,     0.21121,     0.21221,     0.21321,     0.21421,     0.21522,\n",
       "           0.21622,     0.21722,     0.21822,     0.21922,     0.22022,     0.22122,     0.22222,     0.22322,     0.22422,     0.22523,     0.22623,     0.22723,     0.22823,     0.22923,     0.23023,     0.23123,     0.23223,     0.23323,     0.23423,     0.23524,     0.23624,     0.23724,     0.23824,     0.23924,\n",
       "           0.24024,     0.24124,     0.24224,     0.24324,     0.24424,     0.24525,     0.24625,     0.24725,     0.24825,     0.24925,     0.25025,     0.25125,     0.25225,     0.25325,     0.25425,     0.25526,     0.25626,     0.25726,     0.25826,     0.25926,     0.26026,     0.26126,     0.26226,     0.26326,\n",
       "           0.26426,     0.26527,     0.26627,     0.26727,     0.26827,     0.26927,     0.27027,     0.27127,     0.27227,     0.27327,     0.27427,     0.27528,     0.27628,     0.27728,     0.27828,     0.27928,     0.28028,     0.28128,     0.28228,     0.28328,     0.28428,     0.28529,     0.28629,     0.28729,\n",
       "           0.28829,     0.28929,     0.29029,     0.29129,     0.29229,     0.29329,     0.29429,      0.2953,      0.2963,      0.2973,      0.2983,      0.2993,      0.3003,      0.3013,      0.3023,      0.3033,      0.3043,     0.30531,     0.30631,     0.30731,     0.30831,     0.30931,     0.31031,     0.31131,\n",
       "           0.31231,     0.31331,     0.31431,     0.31532,     0.31632,     0.31732,     0.31832,     0.31932,     0.32032,     0.32132,     0.32232,     0.32332,     0.32432,     0.32533,     0.32633,     0.32733,     0.32833,     0.32933,     0.33033,     0.33133,     0.33233,     0.33333,     0.33433,     0.33534,\n",
       "           0.33634,     0.33734,     0.33834,     0.33934,     0.34034,     0.34134,     0.34234,     0.34334,     0.34434,     0.34535,     0.34635,     0.34735,     0.34835,     0.34935,     0.35035,     0.35135,     0.35235,     0.35335,     0.35435,     0.35536,     0.35636,     0.35736,     0.35836,     0.35936,\n",
       "           0.36036,     0.36136,     0.36236,     0.36336,     0.36436,     0.36537,     0.36637,     0.36737,     0.36837,     0.36937,     0.37037,     0.37137,     0.37237,     0.37337,     0.37437,     0.37538,     0.37638,     0.37738,     0.37838,     0.37938,     0.38038,     0.38138,     0.38238,     0.38338,\n",
       "           0.38438,     0.38539,     0.38639,     0.38739,     0.38839,     0.38939,     0.39039,     0.39139,     0.39239,     0.39339,     0.39439,      0.3954,      0.3964,      0.3974,      0.3984,      0.3994,      0.4004,      0.4014,      0.4024,      0.4034,      0.4044,     0.40541,     0.40641,     0.40741,\n",
       "           0.40841,     0.40941,     0.41041,     0.41141,     0.41241,     0.41341,     0.41441,     0.41542,     0.41642,     0.41742,     0.41842,     0.41942,     0.42042,     0.42142,     0.42242,     0.42342,     0.42442,     0.42543,     0.42643,     0.42743,     0.42843,     0.42943,     0.43043,     0.43143,\n",
       "           0.43243,     0.43343,     0.43443,     0.43544,     0.43644,     0.43744,     0.43844,     0.43944,     0.44044,     0.44144,     0.44244,     0.44344,     0.44444,     0.44545,     0.44645,     0.44745,     0.44845,     0.44945,     0.45045,     0.45145,     0.45245,     0.45345,     0.45445,     0.45546,\n",
       "           0.45646,     0.45746,     0.45846,     0.45946,     0.46046,     0.46146,     0.46246,     0.46346,     0.46446,     0.46547,     0.46647,     0.46747,     0.46847,     0.46947,     0.47047,     0.47147,     0.47247,     0.47347,     0.47447,     0.47548,     0.47648,     0.47748,     0.47848,     0.47948,\n",
       "           0.48048,     0.48148,     0.48248,     0.48348,     0.48448,     0.48549,     0.48649,     0.48749,     0.48849,     0.48949,     0.49049,     0.49149,     0.49249,     0.49349,     0.49449,      0.4955,      0.4965,      0.4975,      0.4985,      0.4995,      0.5005,      0.5015,      0.5025,      0.5035,\n",
       "            0.5045,     0.50551,     0.50651,     0.50751,     0.50851,     0.50951,     0.51051,     0.51151,     0.51251,     0.51351,     0.51451,     0.51552,     0.51652,     0.51752,     0.51852,     0.51952,     0.52052,     0.52152,     0.52252,     0.52352,     0.52452,     0.52553,     0.52653,     0.52753,\n",
       "           0.52853,     0.52953,     0.53053,     0.53153,     0.53253,     0.53353,     0.53453,     0.53554,     0.53654,     0.53754,     0.53854,     0.53954,     0.54054,     0.54154,     0.54254,     0.54354,     0.54454,     0.54555,     0.54655,     0.54755,     0.54855,     0.54955,     0.55055,     0.55155,\n",
       "           0.55255,     0.55355,     0.55455,     0.55556,     0.55656,     0.55756,     0.55856,     0.55956,     0.56056,     0.56156,     0.56256,     0.56356,     0.56456,     0.56557,     0.56657,     0.56757,     0.56857,     0.56957,     0.57057,     0.57157,     0.57257,     0.57357,     0.57457,     0.57558,\n",
       "           0.57658,     0.57758,     0.57858,     0.57958,     0.58058,     0.58158,     0.58258,     0.58358,     0.58458,     0.58559,     0.58659,     0.58759,     0.58859,     0.58959,     0.59059,     0.59159,     0.59259,     0.59359,     0.59459,      0.5956,      0.5966,      0.5976,      0.5986,      0.5996,\n",
       "            0.6006,      0.6016,      0.6026,      0.6036,      0.6046,     0.60561,     0.60661,     0.60761,     0.60861,     0.60961,     0.61061,     0.61161,     0.61261,     0.61361,     0.61461,     0.61562,     0.61662,     0.61762,     0.61862,     0.61962,     0.62062,     0.62162,     0.62262,     0.62362,\n",
       "           0.62462,     0.62563,     0.62663,     0.62763,     0.62863,     0.62963,     0.63063,     0.63163,     0.63263,     0.63363,     0.63463,     0.63564,     0.63664,     0.63764,     0.63864,     0.63964,     0.64064,     0.64164,     0.64264,     0.64364,     0.64464,     0.64565,     0.64665,     0.64765,\n",
       "           0.64865,     0.64965,     0.65065,     0.65165,     0.65265,     0.65365,     0.65465,     0.65566,     0.65666,     0.65766,     0.65866,     0.65966,     0.66066,     0.66166,     0.66266,     0.66366,     0.66466,     0.66567,     0.66667,     0.66767,     0.66867,     0.66967,     0.67067,     0.67167,\n",
       "           0.67267,     0.67367,     0.67467,     0.67568,     0.67668,     0.67768,     0.67868,     0.67968,     0.68068,     0.68168,     0.68268,     0.68368,     0.68468,     0.68569,     0.68669,     0.68769,     0.68869,     0.68969,     0.69069,     0.69169,     0.69269,     0.69369,     0.69469,      0.6957,\n",
       "            0.6967,      0.6977,      0.6987,      0.6997,      0.7007,      0.7017,      0.7027,      0.7037,      0.7047,     0.70571,     0.70671,     0.70771,     0.70871,     0.70971,     0.71071,     0.71171,     0.71271,     0.71371,     0.71471,     0.71572,     0.71672,     0.71772,     0.71872,     0.71972,\n",
       "           0.72072,     0.72172,     0.72272,     0.72372,     0.72472,     0.72573,     0.72673,     0.72773,     0.72873,     0.72973,     0.73073,     0.73173,     0.73273,     0.73373,     0.73473,     0.73574,     0.73674,     0.73774,     0.73874,     0.73974,     0.74074,     0.74174,     0.74274,     0.74374,\n",
       "           0.74474,     0.74575,     0.74675,     0.74775,     0.74875,     0.74975,     0.75075,     0.75175,     0.75275,     0.75375,     0.75475,     0.75576,     0.75676,     0.75776,     0.75876,     0.75976,     0.76076,     0.76176,     0.76276,     0.76376,     0.76476,     0.76577,     0.76677,     0.76777,\n",
       "           0.76877,     0.76977,     0.77077,     0.77177,     0.77277,     0.77377,     0.77477,     0.77578,     0.77678,     0.77778,     0.77878,     0.77978,     0.78078,     0.78178,     0.78278,     0.78378,     0.78478,     0.78579,     0.78679,     0.78779,     0.78879,     0.78979,     0.79079,     0.79179,\n",
       "           0.79279,     0.79379,     0.79479,      0.7958,      0.7968,      0.7978,      0.7988,      0.7998,      0.8008,      0.8018,      0.8028,      0.8038,      0.8048,     0.80581,     0.80681,     0.80781,     0.80881,     0.80981,     0.81081,     0.81181,     0.81281,     0.81381,     0.81481,     0.81582,\n",
       "           0.81682,     0.81782,     0.81882,     0.81982,     0.82082,     0.82182,     0.82282,     0.82382,     0.82482,     0.82583,     0.82683,     0.82783,     0.82883,     0.82983,     0.83083,     0.83183,     0.83283,     0.83383,     0.83483,     0.83584,     0.83684,     0.83784,     0.83884,     0.83984,\n",
       "           0.84084,     0.84184,     0.84284,     0.84384,     0.84484,     0.84585,     0.84685,     0.84785,     0.84885,     0.84985,     0.85085,     0.85185,     0.85285,     0.85385,     0.85485,     0.85586,     0.85686,     0.85786,     0.85886,     0.85986,     0.86086,     0.86186,     0.86286,     0.86386,\n",
       "           0.86486,     0.86587,     0.86687,     0.86787,     0.86887,     0.86987,     0.87087,     0.87187,     0.87287,     0.87387,     0.87487,     0.87588,     0.87688,     0.87788,     0.87888,     0.87988,     0.88088,     0.88188,     0.88288,     0.88388,     0.88488,     0.88589,     0.88689,     0.88789,\n",
       "           0.88889,     0.88989,     0.89089,     0.89189,     0.89289,     0.89389,     0.89489,      0.8959,      0.8969,      0.8979,      0.8989,      0.8999,      0.9009,      0.9019,      0.9029,      0.9039,      0.9049,     0.90591,     0.90691,     0.90791,     0.90891,     0.90991,     0.91091,     0.91191,\n",
       "           0.91291,     0.91391,     0.91491,     0.91592,     0.91692,     0.91792,     0.91892,     0.91992,     0.92092,     0.92192,     0.92292,     0.92392,     0.92492,     0.92593,     0.92693,     0.92793,     0.92893,     0.92993,     0.93093,     0.93193,     0.93293,     0.93393,     0.93493,     0.93594,\n",
       "           0.93694,     0.93794,     0.93894,     0.93994,     0.94094,     0.94194,     0.94294,     0.94394,     0.94494,     0.94595,     0.94695,     0.94795,     0.94895,     0.94995,     0.95095,     0.95195,     0.95295,     0.95395,     0.95495,     0.95596,     0.95696,     0.95796,     0.95896,     0.95996,\n",
       "           0.96096,     0.96196,     0.96296,     0.96396,     0.96496,     0.96597,     0.96697,     0.96797,     0.96897,     0.96997,     0.97097,     0.97197,     0.97297,     0.97397,     0.97497,     0.97598,     0.97698,     0.97798,     0.97898,     0.97998,     0.98098,     0.98198,     0.98298,     0.98398,\n",
       "           0.98498,     0.98599,     0.98699,     0.98799,     0.98899,     0.98999,     0.99099,     0.99199,     0.99299,     0.99399,     0.99499,       0.996,       0.997,       0.998,       0.999,           1]), array([[    0.83495,     0.83495,     0.82524,     0.82039,     0.82039,     0.82039,     0.82039,     0.81553,     0.81068,     0.80583,     0.80097,     0.79126,     0.79126,     0.78155,     0.78155,     0.78155,     0.78155,     0.78155,     0.78155,     0.78155,     0.78155,      0.7767,      0.7767,\n",
       "             0.7767,     0.77184,     0.77184,     0.76699,     0.76699,     0.76699,     0.76699,     0.76214,     0.76214,     0.76214,     0.76214,     0.76214,     0.76214,     0.76214,     0.76214,     0.76214,     0.76214,     0.76214,     0.76214,     0.76214,     0.75728,     0.75728,     0.75728,\n",
       "            0.75271,     0.75243,     0.75243,     0.75243,     0.74272,     0.74196,     0.73301,     0.73124,     0.72816,     0.72494,      0.7233,      0.7233,     0.71845,     0.71359,     0.70874,     0.70874,     0.70388,     0.70388,     0.70388,     0.70388,     0.70388,     0.70388,     0.70388,\n",
       "            0.70053,     0.69903,     0.69903,     0.69903,      0.6972,     0.69121,     0.68932,     0.68932,     0.68932,     0.68932,     0.68447,     0.68447,     0.67961,     0.67961,     0.67961,     0.67961,     0.67476,     0.67476,     0.67476,     0.67476,     0.67476,     0.67476,     0.67476,\n",
       "             0.6699,      0.6699,      0.6699,      0.6699,      0.6699,      0.6699,      0.6699,      0.6699,      0.6699,      0.6699,      0.6699,     0.66505,     0.66019,     0.65918,     0.65534,     0.65534,     0.65534,     0.65534,     0.65534,     0.65362,     0.65147,     0.65049,     0.65049,\n",
       "            0.65049,     0.65049,     0.65049,     0.65049,     0.65049,     0.65049,     0.65049,     0.65049,     0.65049,     0.65049,     0.65049,     0.65049,     0.65049,     0.65049,     0.65049,     0.64563,     0.64563,     0.64563,     0.64563,     0.64563,     0.64563,     0.64563,     0.64563,\n",
       "            0.64563,     0.64563,     0.64563,     0.64563,     0.64563,     0.64563,     0.64563,     0.64563,     0.64563,     0.64331,     0.63974,     0.63592,     0.63592,     0.63592,     0.63592,     0.63592,     0.63592,     0.63592,     0.63592,     0.63592,     0.63592,     0.63592,     0.63592,\n",
       "            0.63592,     0.63592,     0.63592,     0.63592,     0.63592,     0.63592,     0.63592,     0.63592,     0.63592,     0.63592,     0.63592,     0.63592,     0.63592,     0.63592,     0.63592,     0.63592,     0.63592,     0.63592,     0.63592,     0.63592,     0.63592,     0.63536,     0.63375,\n",
       "            0.63215,     0.63107,     0.63107,     0.63107,     0.63107,     0.63107,     0.63107,     0.63107,     0.63107,     0.63107,     0.63107,     0.63107,     0.63107,     0.63107,     0.63107,     0.63107,     0.63107,     0.63107,     0.63107,     0.63107,     0.63107,     0.63107,     0.63107,\n",
       "            0.63107,     0.63107,     0.63107,     0.63107,     0.63107,     0.63107,     0.63107,     0.63107,     0.63107,     0.63107,     0.63107,     0.63107,     0.63107,     0.63107,     0.63107,     0.63107,     0.63107,     0.63107,     0.63099,     0.63044,     0.62988,     0.62933,     0.62877,\n",
       "            0.62822,     0.62766,     0.62711,     0.62655,     0.62621,     0.62621,     0.62621,     0.62621,     0.62621,     0.62621,     0.62621,     0.62621,     0.62621,     0.62621,     0.62621,     0.62621,     0.62621,     0.62621,     0.62621,     0.62621,     0.62548,     0.62457,     0.62366,\n",
       "            0.62275,     0.62183,     0.62136,     0.62136,     0.62136,     0.62136,     0.62136,     0.62136,     0.62136,      0.6182,      0.6165,      0.6165,      0.6165,      0.6165,      0.6165,      0.6165,     0.61165,     0.61165,     0.61165,     0.61165,     0.61165,     0.61165,     0.61165,\n",
       "            0.61165,     0.61165,     0.61165,     0.61165,     0.61165,     0.61165,     0.61165,     0.61165,      0.6068,     0.60474,      0.6025,     0.60194,     0.60194,     0.60194,     0.60194,     0.60194,     0.60194,     0.60194,     0.60194,     0.60194,     0.60194,     0.60194,     0.60194,\n",
       "            0.60194,     0.60194,     0.60194,     0.60194,     0.60194,     0.59709,     0.59709,     0.59709,     0.59709,     0.59709,     0.59709,     0.59709,     0.59709,     0.59709,     0.59709,     0.59709,     0.59709,     0.59709,     0.59709,     0.59709,     0.59709,     0.59709,     0.59709,\n",
       "            0.59709,     0.59709,     0.59597,     0.59467,     0.59338,     0.59223,     0.59223,     0.59223,     0.59223,     0.59223,       0.589,     0.58738,     0.58738,     0.58738,     0.58738,     0.58738,     0.58738,     0.58738,     0.58738,     0.58738,     0.58738,     0.58738,     0.58738,\n",
       "            0.58738,     0.58182,     0.57837,     0.57713,     0.57645,     0.57577,     0.57509,     0.57441,     0.57373,     0.57305,     0.57282,     0.57282,     0.57282,     0.57282,     0.57282,     0.57282,     0.57282,     0.57282,     0.57282,     0.57282,     0.57282,     0.57282,     0.57282,\n",
       "            0.57282,     0.57282,     0.57282,     0.57282,     0.57282,     0.57282,     0.57282,     0.57282,     0.57282,     0.57282,     0.57282,     0.57282,     0.57282,     0.57282,     0.57282,     0.57282,     0.57282,     0.57282,     0.57282,     0.57282,     0.56999,     0.56796,     0.56714,\n",
       "             0.5614,     0.55913,     0.55825,     0.55825,     0.55825,     0.55825,     0.55825,     0.55825,     0.55825,     0.55825,     0.55825,     0.55825,     0.55825,     0.55825,     0.55825,     0.55825,     0.55825,     0.55825,     0.55604,      0.5534,      0.5534,      0.5534,      0.5534,\n",
       "            0.55282,     0.55007,     0.54854,     0.54854,     0.54854,     0.54854,     0.54854,     0.54854,     0.54854,     0.54854,     0.54854,     0.54854,     0.54854,     0.54854,     0.54854,     0.54854,     0.54854,     0.54854,     0.54854,     0.54842,     0.54716,      0.5459,     0.54465,\n",
       "            0.53883,     0.53883,     0.53883,     0.53883,     0.53883,     0.53838,     0.53444,     0.53398,     0.53398,     0.53398,     0.53398,     0.53398,     0.53398,     0.53398,     0.53398,     0.53398,     0.53398,     0.52946,     0.52387,     0.52297,     0.52208,     0.52118,     0.52028,\n",
       "            0.51937,     0.51807,     0.51678,     0.51549,     0.51456,     0.51456,     0.51456,     0.51456,     0.51456,     0.51456,     0.51424,     0.51357,      0.5129,     0.51223,     0.51156,     0.51089,     0.51022,     0.50485,     0.50485,     0.50485,     0.50485,     0.50485,     0.50485,\n",
       "            0.50485,     0.50485,     0.50485,     0.50485,      0.5043,      0.5035,     0.50269,     0.50188,     0.50108,     0.50027,     0.49971,     0.49928,     0.49885,     0.49841,     0.49798,     0.49755,     0.49712,     0.49669,     0.49625,     0.49582,     0.49539,     0.49515,     0.49515,\n",
       "            0.49515,     0.49515,     0.49515,     0.49515,     0.49515,     0.49515,     0.49515,     0.49515,     0.49515,     0.49515,     0.49515,     0.49515,     0.49515,     0.49445,     0.49313,      0.4918,     0.49048,     0.49029,     0.49029,     0.49029,     0.48986,     0.48926,     0.48867,\n",
       "            0.48807,     0.48747,     0.48688,     0.48628,     0.48568,     0.48153,     0.47673,     0.47078,     0.46735,     0.46559,     0.46436,     0.46312,     0.46188,     0.46117,     0.46117,     0.46117,     0.46117,     0.46117,     0.46085,     0.45976,     0.45867,     0.45758,     0.45648,\n",
       "            0.45146,     0.45117,     0.45035,     0.44953,      0.4487,     0.44788,     0.44705,      0.4466,      0.4466,      0.4466,     0.44078,     0.43708,     0.43418,     0.43166,     0.43015,     0.42864,     0.42688,     0.42155,     0.41988,     0.41822,     0.41745,     0.41655,     0.41564,\n",
       "            0.41473,     0.41383,     0.41292,     0.40975,     0.40777,     0.40777,     0.40777,     0.40777,     0.40777,     0.40777,     0.40777,     0.40777,     0.40635,     0.40444,     0.40195,     0.39728,     0.39321,     0.39073,     0.38802,     0.38473,     0.37365,     0.37192,     0.37018,\n",
       "            0.36843,     0.36666,     0.36489,     0.36408,     0.36408,     0.36408,     0.36408,     0.36408,     0.36408,     0.36408,     0.36408,     0.36408,     0.36408,     0.36408,     0.36408,     0.36408,     0.36382,      0.3597,     0.35922,     0.35922,     0.35922,     0.35745,     0.35484,\n",
       "            0.35311,     0.35158,     0.35004,     0.34409,     0.33676,     0.33495,     0.33495,     0.33495,     0.32894,     0.32039,     0.32039,     0.32039,     0.32039,     0.32039,     0.32039,     0.32039,     0.32012,     0.31924,     0.31837,     0.31749,     0.31661,     0.31574,     0.31357,\n",
       "            0.31101,     0.31068,     0.31068,     0.31068,       0.308,     0.30501,     0.30312,     0.30123,     0.29675,     0.29493,     0.29356,     0.29219,     0.29126,     0.29126,     0.29126,     0.29126,     0.29126,     0.29028,     0.28909,      0.2879,     0.28671,      0.2856,     0.28452,\n",
       "            0.28344,     0.28236,     0.28155,     0.28155,     0.28053,     0.27798,     0.27515,     0.27203,     0.27008,     0.26821,     0.26149,     0.25671,     0.25198,     0.25135,     0.25072,     0.25009,     0.24947,     0.24884,     0.24821,     0.24758,     0.24205,     0.24049,     0.23893,\n",
       "            0.23691,     0.23395,     0.23251,     0.23176,     0.23102,     0.23028,     0.22954,      0.2288,     0.22816,     0.22206,     0.21903,      0.2169,     0.21498,     0.21277,     0.20983,     0.20306,     0.20095,     0.19826,     0.19417,     0.19226,     0.18976,     0.18633,     0.18225,\n",
       "            0.17961,     0.17961,     0.17631,     0.17394,      0.1726,     0.17125,      0.1699,     0.16812,     0.16634,     0.16229,     0.14953,     0.14541,     0.14475,     0.14409,     0.14343,     0.14277,     0.14212,     0.14146,      0.1408,     0.13016,     0.12508,     0.12115,     0.12003,\n",
       "            0.11892,      0.1178,     0.11669,     0.11355,      0.1108,     0.10897,     0.10713,     0.10488,     0.10254,    0.097581,     0.09649,    0.095839,    0.095187,    0.094535,    0.093883,    0.093231,    0.092579,    0.092233,    0.092233,    0.092233,    0.092233,    0.091486,    0.088428,\n",
       "           0.087379,    0.081407,    0.079994,    0.078581,    0.077081,    0.075425,     0.07377,    0.070172,    0.067304,    0.066285,    0.065266,    0.064248,    0.063229,    0.053266,    0.051902,    0.050538,    0.049174,    0.048544,    0.048544,     0.04792,    0.046345,     0.04477,    0.042918,\n",
       "           0.040461,    0.036608,    0.029346,    0.024272,    0.023578,    0.022484,     0.02139,    0.020296,    0.019354,    0.019029,    0.018704,    0.018379,    0.018054,    0.017729,    0.017405,     0.01708,    0.016755,     0.01643,    0.016105,     0.01578,    0.015456,    0.015131,    0.014806,\n",
       "            0.01427,    0.013108,    0.011946,    0.010785,   0.0097087,   0.0097087,   0.0097087,   0.0097087,   0.0097087,   0.0097087,   0.0097087,   0.0097087,   0.0097087,   0.0097087,   0.0097087,   0.0097087,   0.0097087,   0.0097087,   0.0097087,   0.0094024,   0.0076691,   0.0059358,           0,\n",
       "                  0,           0,           0,           0,           0,           0,           0,           0,           0,           0,           0,           0,           0,           0,           0,           0,           0,           0,           0,           0,           0,           0,           0,\n",
       "                  0,           0,           0,           0,           0,           0,           0,           0,           0,           0,           0,           0,           0,           0,           0,           0,           0,           0,           0,           0,           0,           0,           0,\n",
       "                  0,           0,           0,           0,           0,           0,           0,           0,           0,           0,           0,           0,           0,           0,           0,           0,           0,           0,           0,           0,           0,           0,           0,\n",
       "                  0,           0,           0,           0,           0,           0,           0,           0,           0,           0,           0,           0,           0,           0,           0,           0,           0,           0,           0,           0,           0,           0,           0,\n",
       "                  0,           0,           0,           0,           0,           0,           0,           0,           0,           0,           0,           0,           0,           0,           0,           0,           0,           0,           0,           0,           0,           0,           0,\n",
       "                  0,           0,           0,           0,           0,           0,           0,           0,           0,           0,           0,           0,           0,           0,           0,           0,           0,           0,           0,           0,           0,           0,           0,\n",
       "                  0,           0,           0,           0,           0,           0,           0,           0,           0,           0,           0,           0,           0,           0,           0,           0,           0,           0,           0,           0,           0,           0,           0,\n",
       "                  0,           0,           0,           0,           0,           0,           0,           0,           0,           0,           0]]), 'Confidence', 'Recall']]\n",
       "fitness: 0.2756119151495748\n",
       "keys: ['metrics/precision(B)', 'metrics/recall(B)', 'metrics/mAP50(B)', 'metrics/mAP50-95(B)']\n",
       "maps: array([     0.2417])\n",
       "names: {0: 'bird'}\n",
       "plot: True\n",
       "results_dict: {'metrics/precision(B)': 0.6960152609726593, 'metrics/recall(B)': 0.558252427184466, 'metrics/mAP50(B)': 0.5808368338178367, 'metrics/mAP50-95(B)': 0.2416980352975457, 'fitness': 0.2756119151495748}\n",
       "save_dir: PosixPath('grid_search_yolo_v2/run_model_default_params2')\n",
       "speed: {'preprocess': 2.797315710778819, 'inference': 11.79518958349618, 'loss': 0.0002501673703448156, 'postprocess': 0.6850797544348608}\n",
       "task: 'detect'"
      ]
     },
     "execution_count": 7,
     "metadata": {},
     "output_type": "execute_result"
    }
   ],
   "source": []
  },
  {
   "cell_type": "code",
   "execution_count": null,
   "metadata": {
    "execution": {
     "iopub.execute_input": "2025-05-10T10:47:08.557480Z",
     "iopub.status.busy": "2025-05-10T10:47:08.556772Z"
    }
   },
   "outputs": [
    {
     "name": "stdout",
     "output_type": "stream",
     "text": [
      "\n",
      "🔁 Running configuration 1/12: lr0=0.001, mosaic=0.0, scale=0.3\n",
      "already process this parameter\n",
      "\n",
      "🔁 Running configuration 2/12: lr0=0.001, mosaic=0.0, scale=0.5\n",
      "already process this parameter\n",
      "\n",
      "🔁 Running configuration 3/12: lr0=0.001, mosaic=0.5, scale=0.3\n",
      "already process this parameter\n",
      "\n",
      "🔁 Running configuration 4/12: lr0=0.001, mosaic=0.5, scale=0.5\n",
      "already process this parameter\n",
      "\n",
      "🔁 Running configuration 5/12: lr0=0.001, mosaic=1.0, scale=0.3\n",
      "already process this parameter\n",
      "\n",
      "🔁 Running configuration 6/12: lr0=0.001, mosaic=1.0, scale=0.5\n",
      "already process this parameter\n",
      "\n",
      "🔁 Running configuration 7/12: lr0=0.005, mosaic=0.0, scale=0.3\n",
      "already process this parameter\n",
      "\n",
      "🔁 Running configuration 8/12: lr0=0.005, mosaic=0.0, scale=0.5\n",
      "already process this parameter\n",
      "\n",
      "🔁 Running configuration 9/12: lr0=0.005, mosaic=0.5, scale=0.3\n",
      "Ultralytics 8.3.130 🚀 Python-3.11.7 torch-2.1.1+cu121 CUDA:0 (NVIDIA RTX A4000, 16102MiB)\n",
      "\u001b[34m\u001b[1mengine/trainer: \u001b[0magnostic_nms=False, amp=True, augment=False, auto_augment=randaugment, batch=-1, bgr=0.0, box=7.5, cache=False, cfg=None, classes=None, close_mosaic=10, cls=0.5, conf=None, copy_paste=0.0, copy_paste_mode=flip, cos_lr=False, cutmix=0.0, data=/notebooks/DL---detection-of-birds-in-drone-images/data/tiled_augmented_2_yolo_data/data.yaml, degrees=0.0, deterministic=True, device=None, dfl=1.5, dnn=False, dropout=0.0, dynamic=False, embed=None, epochs=50, erasing=0.4, exist_ok=True, fliplr=0.5, flipud=0.0, format=torchscript, fraction=1.0, freeze=None, half=False, hsv_h=0.015, hsv_s=0.7, hsv_v=0.4, imgsz=1280, int8=False, iou=0.7, keras=False, kobj=1.0, line_width=None, lr0=0.005, lrf=0.01, mask_ratio=4, max_det=300, mixup=0.0, mode=train, model=yolov8m.pt, momentum=0.937, mosaic=0.5, multi_scale=False, name=run_9_lr0.005_mos0.5_sc0.3, nbs=64, nms=False, opset=None, optimize=False, optimizer=auto, overlap_mask=True, patience=10, perspective=0.0, plots=True, pose=12.0, pretrained=True, profile=False, project=grid_search_yolo, rect=False, resume=False, retina_masks=False, save=True, save_conf=False, save_crop=False, save_dir=grid_search_yolo/run_9_lr0.005_mos0.5_sc0.3, save_frames=False, save_json=False, save_period=-1, save_txt=False, scale=0.3, seed=42, shear=0.0, show=False, show_boxes=True, show_conf=True, show_labels=True, simplify=True, single_cls=False, source=None, split=val, stream_buffer=False, task=detect, time=None, tracker=botsort.yaml, translate=0.1, val=True, verbose=False, vid_stride=1, visualize=False, warmup_bias_lr=0.1, warmup_epochs=3.0, warmup_momentum=0.8, weight_decay=0.0005, workers=8, workspace=None\n",
      "Downloading https://ultralytics.com/assets/Arial.ttf to '/tmp/Ultralytics/Arial.ttf'...\n"
     ]
    },
    {
     "name": "stderr",
     "output_type": "stream",
     "text": [
      "100%|██████████| 755k/755k [00:00<00:00, 109MB/s]"
     ]
    },
    {
     "name": "stdout",
     "output_type": "stream",
     "text": [
      "Overriding model.yaml nc=80 with nc=1\n",
      "\n",
      "                   from  n    params  module                                       arguments                     \n",
      "  0                  -1  1      1392  ultralytics.nn.modules.conv.Conv             [3, 48, 3, 2]                 \n",
      "  1                  -1  1     41664  ultralytics.nn.modules.conv.Conv             [48, 96, 3, 2]                \n",
      "  2                  -1  2    111360  ultralytics.nn.modules.block.C2f             [96, 96, 2, True]             \n",
      "  3                  -1  1    166272  ultralytics.nn.modules.conv.Conv             [96, 192, 3, 2]               \n",
      "  4                  -1  4    813312  ultralytics.nn.modules.block.C2f             [192, 192, 4, True]           \n",
      "  5                  -1  1    664320  ultralytics.nn.modules.conv.Conv             [192, 384, 3, 2]              \n",
      "  6                  -1  4   3248640  ultralytics.nn.modules.block.C2f             [384, 384, 4, True]           \n",
      "  7                  -1  1   1991808  ultralytics.nn.modules.conv.Conv             [384, 576, 3, 2]              \n",
      "  8                  -1  2   3985920  ultralytics.nn.modules.block.C2f             [576, 576, 2, True]           \n",
      "  9                  -1  1    831168  ultralytics.nn.modules.block.SPPF            [576, 576, 5]                 \n",
      " 10                  -1  1         0  torch.nn.modules.upsampling.Upsample         [None, 2, 'nearest']          \n",
      " 11             [-1, 6]  1         0  ultralytics.nn.modules.conv.Concat           [1]                           \n",
      " 12                  -1  2   1993728  ultralytics.nn.modules.block.C2f             [960, 384, 2]                 \n",
      " 13                  -1  1         0  torch.nn.modules.upsampling.Upsample         [None, 2, 'nearest']          \n",
      " 14             [-1, 4]  1         0  ultralytics.nn.modules.conv.Concat           [1]                           \n",
      " 15                  -1  2    517632  ultralytics.nn.modules.block.C2f             [576, 192, 2]                 \n",
      " 16                  -1  1    332160  ultralytics.nn.modules.conv.Conv             [192, 192, 3, 2]              \n",
      " 17            [-1, 12]  1         0  ultralytics.nn.modules.conv.Concat           [1]                           \n",
      " 18                  -1  2   1846272  ultralytics.nn.modules.block.C2f             [576, 384, 2]                 \n",
      " 19                  -1  1   1327872  ultralytics.nn.modules.conv.Conv             [384, 384, 3, 2]              \n",
      " 20             [-1, 9]  1         0  ultralytics.nn.modules.conv.Concat           [1]                           \n",
      " 21                  -1  2   4207104  ultralytics.nn.modules.block.C2f             [960, 576, 2]                 \n",
      " 22        [15, 18, 21]  1   3776275  ultralytics.nn.modules.head.Detect           [1, [192, 384, 576]]          \n"
     ]
    },
    {
     "name": "stderr",
     "output_type": "stream",
     "text": [
      "\n"
     ]
    },
    {
     "name": "stdout",
     "output_type": "stream",
     "text": [
      "Model summary: 169 layers, 25,856,899 parameters, 25,856,883 gradients, 79.1 GFLOPs\n",
      "\n",
      "Transferred 469/475 items from pretrained weights\n",
      "Freezing layer 'model.22.dfl.conv.weight'\n",
      "\u001b[34m\u001b[1mAMP: \u001b[0mrunning Automatic Mixed Precision (AMP) checks...\n",
      "\u001b[34m\u001b[1mAMP: \u001b[0mchecks passed ✅\n",
      "\u001b[34m\u001b[1mtrain: \u001b[0mFast image access ✅ (ping: 0.0±0.0 ms, read: 107.1±9.8 MB/s, size: 2306.7 KB)\n"
     ]
    },
    {
     "name": "stderr",
     "output_type": "stream",
     "text": [
      "\u001b[34m\u001b[1mtrain: \u001b[0mScanning /notebooks/DL---detection-of-birds-in-drone-images/data/tiled_augmented_2_yolo_data/train/labels.cache... 1496 images, 1033 backgrounds, 0 corrupt: 100%|██████████| 1496/1496 [00:00<?, ?it/s]"
     ]
    },
    {
     "name": "stdout",
     "output_type": "stream",
     "text": [
      "\u001b[34m\u001b[1mAutoBatch: \u001b[0mComputing optimal batch size for imgsz=1280 at 60.0% CUDA memory utilization.\n",
      "\u001b[34m\u001b[1mAutoBatch: \u001b[0mCUDA:0 (NVIDIA RTX A4000) 15.72G total, 0.38G reserved, 0.23G allocated, 15.12G free\n"
     ]
    },
    {
     "name": "stderr",
     "output_type": "stream",
     "text": [
      "\n"
     ]
    },
    {
     "name": "stdout",
     "output_type": "stream",
     "text": [
      "      Params      GFLOPs  GPU_mem (GB)  forward (ms) backward (ms)                   input                  output\n",
      "    25856899       316.3         3.412         62.52         508.2      (1, 3, 1280, 1280)                    list\n",
      "    25856899       632.5         5.098         45.34         203.1      (2, 3, 1280, 1280)                    list\n",
      "    25856899        1265         8.454         87.96           240      (4, 3, 1280, 1280)                    list\n",
      "    25856899        2530        15.135           171         329.9      (8, 3, 1280, 1280)                    list\n",
      "CUDA out of memory. Tried to allocate 300.00 MiB. GPU 0 has a total capacty of 15.72 GiB of which 17.44 MiB is free. Process 742058 has 15.70 GiB memory in use. Of the allocated memory 15.14 GiB is allocated by PyTorch, and 269.23 MiB is reserved by PyTorch but unallocated. If reserved but unallocated memory is large try setting max_split_size_mb to avoid fragmentation.  See documentation for Memory Management and PYTORCH_CUDA_ALLOC_CONF\n",
      "\u001b[34m\u001b[1mAutoBatch: \u001b[0mUsing batch-size 4 for CUDA:0 9.04G/15.72G (58%) ✅\n",
      "\u001b[34m\u001b[1mtrain: \u001b[0mFast image access ✅ (ping: 0.0±0.0 ms, read: 85.2±18.6 MB/s, size: 2584.3 KB)\n"
     ]
    },
    {
     "name": "stderr",
     "output_type": "stream",
     "text": [
      "\u001b[34m\u001b[1mtrain: \u001b[0mScanning /notebooks/DL---detection-of-birds-in-drone-images/data/tiled_augmented_2_yolo_data/train/labels.cache... 1496 images, 1033 backgrounds, 0 corrupt: 100%|██████████| 1496/1496 [00:00<?, ?it/s]\n"
     ]
    },
    {
     "name": "stdout",
     "output_type": "stream",
     "text": [
      "\u001b[34m\u001b[1mval: \u001b[0mFast image access ✅ (ping: 0.0±0.0 ms, read: 68.2±35.9 MB/s, size: 2841.7 KB)\n"
     ]
    },
    {
     "name": "stderr",
     "output_type": "stream",
     "text": [
      "\u001b[34m\u001b[1mval: \u001b[0mScanning /notebooks/DL---detection-of-birds-in-drone-images/data/tiled_augmented_2_yolo_data/valid/labels.cache... 178 images, 129 backgrounds, 0 corrupt: 100%|██████████| 178/178 [00:00<?, ?it/s]"
     ]
    },
    {
     "name": "stdout",
     "output_type": "stream",
     "text": [
      "\u001b[34m\u001b[1mval: \u001b[0m/notebooks/DL---detection-of-birds-in-drone-images/data/tiled_augmented_2_yolo_data/valid/images/DJI_0319_tile-0.png: 1 duplicate labels removed\n"
     ]
    },
    {
     "name": "stderr",
     "output_type": "stream",
     "text": [
      "\n"
     ]
    },
    {
     "name": "stdout",
     "output_type": "stream",
     "text": [
      "Plotting labels to grid_search_yolo/run_9_lr0.005_mos0.5_sc0.3/labels.jpg... \n",
      "\u001b[34m\u001b[1moptimizer:\u001b[0m 'optimizer=auto' found, ignoring 'lr0=0.005' and 'momentum=0.937' and determining best 'optimizer', 'lr0' and 'momentum' automatically... \n",
      "\u001b[34m\u001b[1moptimizer:\u001b[0m AdamW(lr=0.002, momentum=0.9) with parameter groups 77 weight(decay=0.0), 84 weight(decay=0.0005), 83 bias(decay=0.0)\n",
      "Image sizes 1280 train, 1280 val\n",
      "Using 8 dataloader workers\n",
      "Logging results to \u001b[1mgrid_search_yolo/run_9_lr0.005_mos0.5_sc0.3\u001b[0m\n",
      "Starting training for 50 epochs...\n",
      "\n",
      "      Epoch    GPU_mem   box_loss   cls_loss   dfl_loss  Instances       Size\n"
     ]
    },
    {
     "name": "stderr",
     "output_type": "stream",
     "text": [
      "       1/50      6.18G      1.817      6.169      1.143          3       1280: 100%|██████████| 374/374 [01:37<00:00,  3.82it/s]\n",
      "                 Class     Images  Instances      Box(P          R      mAP50  mAP50-95): 100%|██████████| 23/23 [00:04<00:00,  4.94it/s]"
     ]
    },
    {
     "name": "stdout",
     "output_type": "stream",
     "text": [
      "                   all        178        206    0.00419      0.189    0.00256    0.00122\n"
     ]
    },
    {
     "name": "stderr",
     "output_type": "stream",
     "text": [
      "\n"
     ]
    },
    {
     "name": "stdout",
     "output_type": "stream",
     "text": [
      "\n",
      "      Epoch    GPU_mem   box_loss   cls_loss   dfl_loss  Instances       Size\n"
     ]
    },
    {
     "name": "stderr",
     "output_type": "stream",
     "text": [
      "       2/50      7.62G      1.733      2.045      1.091          0       1280:  37%|███▋      | 140/374 [00:35<01:00,  3.88it/s]"
     ]
    }
   ],
   "source": [
    "from ultralytics import YOLO\n",
    "from itertools import product\n",
    "import csv\n",
    "import os\n",
    "\n",
    "# Hyperparameter options\n",
    "learning_rates = [0.001, 0.005, 0.01]\n",
    "mosaic_values = [0.0, 0.5, 1.0]\n",
    "scale_values = [0.3, 0.5]\n",
    "\n",
    "# Prepare CSV to store results\n",
    "results_file = \"grid_search_results.csv\"\n",
    "with open(results_file, \"w\", newline=\"\") as f:\n",
    "    writer = csv.writer(f)\n",
    "    writer.writerow([\"Run\", \"lr0\", \"mosaic\", \"scale\", \"mAP50\", \"mAP50-95\"])\n",
    "\n",
    "# Run grid search\n",
    "runs = list(product(learning_rates, mosaic_values, scale_values))\n",
    "for i, (lr0, mosaic, scale) in enumerate(runs, start=1):\n",
    "    print(f\"\\n🔁 Running configuration {i}/12: lr0={lr0}, mosaic={mosaic}, scale={scale}\")\n",
    "\n",
    "    model = YOLO(\"yolov8m.pt\")  # Change to yolov8s.pt or other if needed\n",
    "    if f\"run_{i}_lr{lr0}_mos{mosaic}_sc{scale}\" in os.listdir(\"grid_search_yolo\"):\n",
    "        print(\"already process this parameter\")\n",
    "        continue\n",
    "    # Train\n",
    "    results = model.train(\n",
    "        data=yolo_data,\n",
    "        epochs=50,\n",
    "        imgsz=1280,\n",
    "        batch=-1,\n",
    "        lr0=lr0,\n",
    "        mosaic=mosaic,\n",
    "        scale=scale,\n",
    "        patience=10,\n",
    "        project=\"grid_search_yolo\",\n",
    "        name=f\"run_{i}_lr{lr0}_mos{mosaic}_sc{scale}\",\n",
    "        exist_ok=True,\n",
    "        seed=42,\n",
    "        verbose=False,\n",
    "    )\n",
    "\n",
    "    # Get metrics\n",
    "    metrics = model.val()\n",
    "    mAP50 = metrics.box.map50\n",
    "    mAP50_95 = metrics.box.map\n",
    "\n",
    "    # Save results\n",
    "    with open(results_file, \"a\", newline=\"\") as f:\n",
    "        writer = csv.writer(f)\n",
    "        writer.writerow([i, lr0, mosaic, scale, mAP50, mAP50_95])\n",
    "\n",
    "print(\"\\n✅ Grid search complete. Results saved to:\", results_file)"
   ]
  },
  {
   "cell_type": "code",
   "execution_count": null,
   "metadata": {
    "colab": {
     "base_uri": "https://localhost:8080/"
    },
    "execution": {
     "iopub.status.busy": "2025-05-09T15:28:52.961230Z",
     "iopub.status.idle": "2025-05-09T15:28:52.962082Z",
     "shell.execute_reply": "2025-05-09T15:28:52.961872Z",
     "shell.execute_reply.started": "2025-05-09T15:28:52.961844Z"
    },
    "executionInfo": {
     "elapsed": 13430,
     "status": "ok",
     "timestamp": 1746613891532,
     "user": {
      "displayName": "Eugen Falca",
      "userId": "06470857081734833614"
     },
     "user_tz": -120
    },
    "id": "4LCoIMVdL6ul",
    "outputId": "a07f8a7b-e363-4a9b-983b-f1e0c1d0b42d"
   },
   "outputs": [],
   "source": [
    "# load the last model of the previous stage to run the validation dataset\n",
    "model_stage_1.val(data=yolo_data, save=True)"
   ]
  },
  {
   "cell_type": "code",
   "execution_count": 6,
   "metadata": {
    "colab": {
     "base_uri": "https://localhost:8080/"
    },
    "execution": {
     "iopub.execute_input": "2025-05-09T15:36:13.188180Z",
     "iopub.status.busy": "2025-05-09T15:36:13.187837Z",
     "iopub.status.idle": "2025-05-09T15:37:10.831962Z",
     "shell.execute_reply": "2025-05-09T15:37:10.827943Z",
     "shell.execute_reply.started": "2025-05-09T15:36:13.188155Z"
    },
    "executionInfo": {
     "elapsed": 22982,
     "status": "ok",
     "timestamp": 1746645097089,
     "user": {
      "displayName": "Eugen Falca",
      "userId": "06470857081734833614"
     },
     "user_tz": -120
    },
    "id": "x02pN7-BGoP_",
    "outputId": "2cb75ca8-43ae-426a-8669-e8644f3f0f0f"
   },
   "outputs": [
    {
     "name": "stdout",
     "output_type": "stream",
     "text": [
      "Ultralytics 8.3.130 🚀 Python-3.11.7 torch-2.1.1+cu121 CUDA:0 (Quadro RTX 5000, 16110MiB)\n",
      "YOLO11m summary (fused): 125 layers, 20,030,803 parameters, 0 gradients, 67.6 GFLOPs\n",
      "\u001b[34m\u001b[1mval: \u001b[0mFast image access ✅ (ping: 0.0±0.0 ms, read: 58.9±7.9 MB/s, size: 609.7 KB)\n"
     ]
    },
    {
     "name": "stderr",
     "output_type": "stream",
     "text": [
      "\u001b[34m\u001b[1mval: \u001b[0mScanning /notebooks/DL---detection-of-birds-in-drone-images/data/tiled_augmented_2_640_yolo_data/test/labels... 651 images, 577 backgrounds, 0 corrupt: 100%|██████████| 651/651 [00:04<00:00, 150.97it/s]\n"
     ]
    },
    {
     "name": "stdout",
     "output_type": "stream",
     "text": [
      "\u001b[34m\u001b[1mval: \u001b[0mNew cache created: /notebooks/DL---detection-of-birds-in-drone-images/data/tiled_augmented_2_640_yolo_data/test/labels.cache\n"
     ]
    },
    {
     "name": "stderr",
     "output_type": "stream",
     "text": [
      "                 Class     Images  Instances      Box(P          R      mAP50  mAP50-95): 100%|██████████| 41/41 [00:34<00:00,  1.17it/s]\n"
     ]
    },
    {
     "name": "stdout",
     "output_type": "stream",
     "text": [
      "                   all        651        158      0.808      0.641      0.715      0.365\n",
      "Speed: 2.1ms preprocess, 42.1ms inference, 0.0ms loss, 3.6ms postprocess per image\n",
      "Results saved to \u001b[1mruns/detect/val3\u001b[0m\n",
      "ultralytics.utils.metrics.DetMetrics object with attributes:\n",
      "\n",
      "ap_class_index: array([0])\n",
      "box: ultralytics.utils.metrics.Metric object\n",
      "confusion_matrix: <ultralytics.utils.metrics.ConfusionMatrix object at 0x7f13a016c210>\n",
      "curves: ['Precision-Recall(B)', 'F1-Confidence(B)', 'Precision-Confidence(B)', 'Recall-Confidence(B)']\n",
      "curves_results: [[array([          0,    0.001001,    0.002002,    0.003003,    0.004004,    0.005005,    0.006006,    0.007007,    0.008008,    0.009009,     0.01001,    0.011011,    0.012012,    0.013013,    0.014014,    0.015015,    0.016016,    0.017017,    0.018018,    0.019019,     0.02002,    0.021021,    0.022022,    0.023023,\n",
      "          0.024024,    0.025025,    0.026026,    0.027027,    0.028028,    0.029029,     0.03003,    0.031031,    0.032032,    0.033033,    0.034034,    0.035035,    0.036036,    0.037037,    0.038038,    0.039039,     0.04004,    0.041041,    0.042042,    0.043043,    0.044044,    0.045045,    0.046046,    0.047047,\n",
      "          0.048048,    0.049049,     0.05005,    0.051051,    0.052052,    0.053053,    0.054054,    0.055055,    0.056056,    0.057057,    0.058058,    0.059059,     0.06006,    0.061061,    0.062062,    0.063063,    0.064064,    0.065065,    0.066066,    0.067067,    0.068068,    0.069069,     0.07007,    0.071071,\n",
      "          0.072072,    0.073073,    0.074074,    0.075075,    0.076076,    0.077077,    0.078078,    0.079079,     0.08008,    0.081081,    0.082082,    0.083083,    0.084084,    0.085085,    0.086086,    0.087087,    0.088088,    0.089089,     0.09009,    0.091091,    0.092092,    0.093093,    0.094094,    0.095095,\n",
      "          0.096096,    0.097097,    0.098098,    0.099099,      0.1001,      0.1011,      0.1021,      0.1031,      0.1041,     0.10511,     0.10611,     0.10711,     0.10811,     0.10911,     0.11011,     0.11111,     0.11211,     0.11311,     0.11411,     0.11512,     0.11612,     0.11712,     0.11812,     0.11912,\n",
      "           0.12012,     0.12112,     0.12212,     0.12312,     0.12412,     0.12513,     0.12613,     0.12713,     0.12813,     0.12913,     0.13013,     0.13113,     0.13213,     0.13313,     0.13413,     0.13514,     0.13614,     0.13714,     0.13814,     0.13914,     0.14014,     0.14114,     0.14214,     0.14314,\n",
      "           0.14414,     0.14515,     0.14615,     0.14715,     0.14815,     0.14915,     0.15015,     0.15115,     0.15215,     0.15315,     0.15415,     0.15516,     0.15616,     0.15716,     0.15816,     0.15916,     0.16016,     0.16116,     0.16216,     0.16316,     0.16416,     0.16517,     0.16617,     0.16717,\n",
      "           0.16817,     0.16917,     0.17017,     0.17117,     0.17217,     0.17317,     0.17417,     0.17518,     0.17618,     0.17718,     0.17818,     0.17918,     0.18018,     0.18118,     0.18218,     0.18318,     0.18418,     0.18519,     0.18619,     0.18719,     0.18819,     0.18919,     0.19019,     0.19119,\n",
      "           0.19219,     0.19319,     0.19419,      0.1952,      0.1962,      0.1972,      0.1982,      0.1992,      0.2002,      0.2012,      0.2022,      0.2032,      0.2042,     0.20521,     0.20621,     0.20721,     0.20821,     0.20921,     0.21021,     0.21121,     0.21221,     0.21321,     0.21421,     0.21522,\n",
      "           0.21622,     0.21722,     0.21822,     0.21922,     0.22022,     0.22122,     0.22222,     0.22322,     0.22422,     0.22523,     0.22623,     0.22723,     0.22823,     0.22923,     0.23023,     0.23123,     0.23223,     0.23323,     0.23423,     0.23524,     0.23624,     0.23724,     0.23824,     0.23924,\n",
      "           0.24024,     0.24124,     0.24224,     0.24324,     0.24424,     0.24525,     0.24625,     0.24725,     0.24825,     0.24925,     0.25025,     0.25125,     0.25225,     0.25325,     0.25425,     0.25526,     0.25626,     0.25726,     0.25826,     0.25926,     0.26026,     0.26126,     0.26226,     0.26326,\n",
      "           0.26426,     0.26527,     0.26627,     0.26727,     0.26827,     0.26927,     0.27027,     0.27127,     0.27227,     0.27327,     0.27427,     0.27528,     0.27628,     0.27728,     0.27828,     0.27928,     0.28028,     0.28128,     0.28228,     0.28328,     0.28428,     0.28529,     0.28629,     0.28729,\n",
      "           0.28829,     0.28929,     0.29029,     0.29129,     0.29229,     0.29329,     0.29429,      0.2953,      0.2963,      0.2973,      0.2983,      0.2993,      0.3003,      0.3013,      0.3023,      0.3033,      0.3043,     0.30531,     0.30631,     0.30731,     0.30831,     0.30931,     0.31031,     0.31131,\n",
      "           0.31231,     0.31331,     0.31431,     0.31532,     0.31632,     0.31732,     0.31832,     0.31932,     0.32032,     0.32132,     0.32232,     0.32332,     0.32432,     0.32533,     0.32633,     0.32733,     0.32833,     0.32933,     0.33033,     0.33133,     0.33233,     0.33333,     0.33433,     0.33534,\n",
      "           0.33634,     0.33734,     0.33834,     0.33934,     0.34034,     0.34134,     0.34234,     0.34334,     0.34434,     0.34535,     0.34635,     0.34735,     0.34835,     0.34935,     0.35035,     0.35135,     0.35235,     0.35335,     0.35435,     0.35536,     0.35636,     0.35736,     0.35836,     0.35936,\n",
      "           0.36036,     0.36136,     0.36236,     0.36336,     0.36436,     0.36537,     0.36637,     0.36737,     0.36837,     0.36937,     0.37037,     0.37137,     0.37237,     0.37337,     0.37437,     0.37538,     0.37638,     0.37738,     0.37838,     0.37938,     0.38038,     0.38138,     0.38238,     0.38338,\n",
      "           0.38438,     0.38539,     0.38639,     0.38739,     0.38839,     0.38939,     0.39039,     0.39139,     0.39239,     0.39339,     0.39439,      0.3954,      0.3964,      0.3974,      0.3984,      0.3994,      0.4004,      0.4014,      0.4024,      0.4034,      0.4044,     0.40541,     0.40641,     0.40741,\n",
      "           0.40841,     0.40941,     0.41041,     0.41141,     0.41241,     0.41341,     0.41441,     0.41542,     0.41642,     0.41742,     0.41842,     0.41942,     0.42042,     0.42142,     0.42242,     0.42342,     0.42442,     0.42543,     0.42643,     0.42743,     0.42843,     0.42943,     0.43043,     0.43143,\n",
      "           0.43243,     0.43343,     0.43443,     0.43544,     0.43644,     0.43744,     0.43844,     0.43944,     0.44044,     0.44144,     0.44244,     0.44344,     0.44444,     0.44545,     0.44645,     0.44745,     0.44845,     0.44945,     0.45045,     0.45145,     0.45245,     0.45345,     0.45445,     0.45546,\n",
      "           0.45646,     0.45746,     0.45846,     0.45946,     0.46046,     0.46146,     0.46246,     0.46346,     0.46446,     0.46547,     0.46647,     0.46747,     0.46847,     0.46947,     0.47047,     0.47147,     0.47247,     0.47347,     0.47447,     0.47548,     0.47648,     0.47748,     0.47848,     0.47948,\n",
      "           0.48048,     0.48148,     0.48248,     0.48348,     0.48448,     0.48549,     0.48649,     0.48749,     0.48849,     0.48949,     0.49049,     0.49149,     0.49249,     0.49349,     0.49449,      0.4955,      0.4965,      0.4975,      0.4985,      0.4995,      0.5005,      0.5015,      0.5025,      0.5035,\n",
      "            0.5045,     0.50551,     0.50651,     0.50751,     0.50851,     0.50951,     0.51051,     0.51151,     0.51251,     0.51351,     0.51451,     0.51552,     0.51652,     0.51752,     0.51852,     0.51952,     0.52052,     0.52152,     0.52252,     0.52352,     0.52452,     0.52553,     0.52653,     0.52753,\n",
      "           0.52853,     0.52953,     0.53053,     0.53153,     0.53253,     0.53353,     0.53453,     0.53554,     0.53654,     0.53754,     0.53854,     0.53954,     0.54054,     0.54154,     0.54254,     0.54354,     0.54454,     0.54555,     0.54655,     0.54755,     0.54855,     0.54955,     0.55055,     0.55155,\n",
      "           0.55255,     0.55355,     0.55455,     0.55556,     0.55656,     0.55756,     0.55856,     0.55956,     0.56056,     0.56156,     0.56256,     0.56356,     0.56456,     0.56557,     0.56657,     0.56757,     0.56857,     0.56957,     0.57057,     0.57157,     0.57257,     0.57357,     0.57457,     0.57558,\n",
      "           0.57658,     0.57758,     0.57858,     0.57958,     0.58058,     0.58158,     0.58258,     0.58358,     0.58458,     0.58559,     0.58659,     0.58759,     0.58859,     0.58959,     0.59059,     0.59159,     0.59259,     0.59359,     0.59459,      0.5956,      0.5966,      0.5976,      0.5986,      0.5996,\n",
      "            0.6006,      0.6016,      0.6026,      0.6036,      0.6046,     0.60561,     0.60661,     0.60761,     0.60861,     0.60961,     0.61061,     0.61161,     0.61261,     0.61361,     0.61461,     0.61562,     0.61662,     0.61762,     0.61862,     0.61962,     0.62062,     0.62162,     0.62262,     0.62362,\n",
      "           0.62462,     0.62563,     0.62663,     0.62763,     0.62863,     0.62963,     0.63063,     0.63163,     0.63263,     0.63363,     0.63463,     0.63564,     0.63664,     0.63764,     0.63864,     0.63964,     0.64064,     0.64164,     0.64264,     0.64364,     0.64464,     0.64565,     0.64665,     0.64765,\n",
      "           0.64865,     0.64965,     0.65065,     0.65165,     0.65265,     0.65365,     0.65465,     0.65566,     0.65666,     0.65766,     0.65866,     0.65966,     0.66066,     0.66166,     0.66266,     0.66366,     0.66466,     0.66567,     0.66667,     0.66767,     0.66867,     0.66967,     0.67067,     0.67167,\n",
      "           0.67267,     0.67367,     0.67467,     0.67568,     0.67668,     0.67768,     0.67868,     0.67968,     0.68068,     0.68168,     0.68268,     0.68368,     0.68468,     0.68569,     0.68669,     0.68769,     0.68869,     0.68969,     0.69069,     0.69169,     0.69269,     0.69369,     0.69469,      0.6957,\n",
      "            0.6967,      0.6977,      0.6987,      0.6997,      0.7007,      0.7017,      0.7027,      0.7037,      0.7047,     0.70571,     0.70671,     0.70771,     0.70871,     0.70971,     0.71071,     0.71171,     0.71271,     0.71371,     0.71471,     0.71572,     0.71672,     0.71772,     0.71872,     0.71972,\n",
      "           0.72072,     0.72172,     0.72272,     0.72372,     0.72472,     0.72573,     0.72673,     0.72773,     0.72873,     0.72973,     0.73073,     0.73173,     0.73273,     0.73373,     0.73473,     0.73574,     0.73674,     0.73774,     0.73874,     0.73974,     0.74074,     0.74174,     0.74274,     0.74374,\n",
      "           0.74474,     0.74575,     0.74675,     0.74775,     0.74875,     0.74975,     0.75075,     0.75175,     0.75275,     0.75375,     0.75475,     0.75576,     0.75676,     0.75776,     0.75876,     0.75976,     0.76076,     0.76176,     0.76276,     0.76376,     0.76476,     0.76577,     0.76677,     0.76777,\n",
      "           0.76877,     0.76977,     0.77077,     0.77177,     0.77277,     0.77377,     0.77477,     0.77578,     0.77678,     0.77778,     0.77878,     0.77978,     0.78078,     0.78178,     0.78278,     0.78378,     0.78478,     0.78579,     0.78679,     0.78779,     0.78879,     0.78979,     0.79079,     0.79179,\n",
      "           0.79279,     0.79379,     0.79479,      0.7958,      0.7968,      0.7978,      0.7988,      0.7998,      0.8008,      0.8018,      0.8028,      0.8038,      0.8048,     0.80581,     0.80681,     0.80781,     0.80881,     0.80981,     0.81081,     0.81181,     0.81281,     0.81381,     0.81481,     0.81582,\n",
      "           0.81682,     0.81782,     0.81882,     0.81982,     0.82082,     0.82182,     0.82282,     0.82382,     0.82482,     0.82583,     0.82683,     0.82783,     0.82883,     0.82983,     0.83083,     0.83183,     0.83283,     0.83383,     0.83483,     0.83584,     0.83684,     0.83784,     0.83884,     0.83984,\n",
      "           0.84084,     0.84184,     0.84284,     0.84384,     0.84484,     0.84585,     0.84685,     0.84785,     0.84885,     0.84985,     0.85085,     0.85185,     0.85285,     0.85385,     0.85485,     0.85586,     0.85686,     0.85786,     0.85886,     0.85986,     0.86086,     0.86186,     0.86286,     0.86386,\n",
      "           0.86486,     0.86587,     0.86687,     0.86787,     0.86887,     0.86987,     0.87087,     0.87187,     0.87287,     0.87387,     0.87487,     0.87588,     0.87688,     0.87788,     0.87888,     0.87988,     0.88088,     0.88188,     0.88288,     0.88388,     0.88488,     0.88589,     0.88689,     0.88789,\n",
      "           0.88889,     0.88989,     0.89089,     0.89189,     0.89289,     0.89389,     0.89489,      0.8959,      0.8969,      0.8979,      0.8989,      0.8999,      0.9009,      0.9019,      0.9029,      0.9039,      0.9049,     0.90591,     0.90691,     0.90791,     0.90891,     0.90991,     0.91091,     0.91191,\n",
      "           0.91291,     0.91391,     0.91491,     0.91592,     0.91692,     0.91792,     0.91892,     0.91992,     0.92092,     0.92192,     0.92292,     0.92392,     0.92492,     0.92593,     0.92693,     0.92793,     0.92893,     0.92993,     0.93093,     0.93193,     0.93293,     0.93393,     0.93493,     0.93594,\n",
      "           0.93694,     0.93794,     0.93894,     0.93994,     0.94094,     0.94194,     0.94294,     0.94394,     0.94494,     0.94595,     0.94695,     0.94795,     0.94895,     0.94995,     0.95095,     0.95195,     0.95295,     0.95395,     0.95495,     0.95596,     0.95696,     0.95796,     0.95896,     0.95996,\n",
      "           0.96096,     0.96196,     0.96296,     0.96396,     0.96496,     0.96597,     0.96697,     0.96797,     0.96897,     0.96997,     0.97097,     0.97197,     0.97297,     0.97397,     0.97497,     0.97598,     0.97698,     0.97798,     0.97898,     0.97998,     0.98098,     0.98198,     0.98298,     0.98398,\n",
      "           0.98498,     0.98599,     0.98699,     0.98799,     0.98899,     0.98999,     0.99099,     0.99199,     0.99299,     0.99399,     0.99499,       0.996,       0.997,       0.998,       0.999,           1]), array([[          1,           1,           1,           1,           1,           1,           1,           1,           1,           1,           1,           1,           1,           1,           1,           1,           1,           1,           1,           1,           1,           1,           1,\n",
      "                  1,           1,           1,           1,           1,           1,           1,           1,           1,           1,           1,           1,           1,           1,           1,           1,           1,           1,           1,           1,           1,           1,           1,\n",
      "                  1,           1,           1,           1,           1,           1,           1,           1,           1,           1,           1,           1,           1,           1,           1,           1,           1,           1,           1,           1,           1,           1,           1,\n",
      "                  1,           1,           1,           1,           1,           1,           1,           1,           1,           1,           1,           1,           1,           1,           1,           1,           1,           1,           1,           1,           1,           1,           1,\n",
      "                  1,           1,           1,           1,           1,           1,           1,           1,           1,           1,           1,           1,           1,           1,           1,           1,           1,           1,           1,           1,           1,           1,           1,\n",
      "                  1,           1,           1,           1,           1,           1,           1,           1,           1,           1,           1,           1,     0.95238,     0.95238,     0.95238,     0.95238,     0.95238,     0.95238,     0.95238,     0.95238,     0.95238,     0.95238,     0.95238,\n",
      "            0.95238,     0.95238,     0.95238,     0.95238,     0.95238,     0.95238,     0.95238,     0.95238,     0.95238,     0.95238,     0.95238,     0.95238,     0.95238,     0.95238,     0.95238,     0.95238,     0.95238,     0.95238,     0.95238,     0.95238,     0.95238,     0.95238,     0.95238,\n",
      "            0.95238,     0.95238,     0.95238,     0.95238,     0.95238,     0.95238,     0.95238,     0.95238,     0.95238,     0.95238,     0.95238,     0.95238,     0.95238,     0.95238,     0.95238,     0.95238,     0.95238,     0.95238,     0.95238,     0.95238,     0.95238,     0.95238,     0.95238,\n",
      "            0.95238,     0.95238,     0.95238,     0.95238,     0.95238,     0.95238,     0.95238,     0.95238,     0.95238,     0.95238,     0.95238,     0.95238,     0.95238,     0.95238,     0.95238,     0.95238,     0.95238,     0.95238,     0.95238,     0.95238,     0.95238,     0.95238,     0.95238,\n",
      "            0.95238,     0.95238,     0.95238,     0.95238,     0.95238,     0.95238,     0.95238,     0.95238,     0.95238,     0.95238,     0.95238,     0.95238,     0.95238,     0.95238,     0.95238,     0.95238,     0.95238,     0.95238,     0.95238,     0.95238,     0.95238,     0.95238,     0.95238,\n",
      "            0.95238,     0.95238,     0.95238,     0.95238,     0.95238,     0.95238,     0.95238,     0.95238,     0.95238,     0.95238,     0.95238,     0.95238,     0.95238,     0.95238,     0.95238,     0.95238,     0.95238,     0.95238,     0.95238,     0.95238,     0.95238,     0.95238,     0.95238,\n",
      "            0.93478,     0.93478,     0.93478,     0.93478,     0.93478,     0.93478,     0.93478,     0.93478,     0.93478,     0.93478,     0.93478,     0.93478,     0.93478,     0.93478,     0.93478,     0.93478,     0.93478,     0.93478,     0.93478,     0.92727,     0.92727,     0.92727,     0.92727,\n",
      "            0.92727,     0.92727,     0.92727,     0.92727,     0.92727,     0.92727,     0.92727,     0.92727,     0.92727,     0.92727,     0.92727,     0.92727,     0.92727,     0.92727,     0.92727,     0.92727,     0.92727,     0.92727,     0.92727,     0.92727,     0.92727,     0.92727,     0.92727,\n",
      "            0.92727,     0.92727,     0.92727,     0.92727,     0.92727,     0.92727,     0.92727,     0.92727,     0.92727,     0.92727,     0.92727,     0.92727,     0.92727,     0.92727,     0.92727,     0.92727,     0.92727,     0.92727,     0.92727,     0.92727,     0.92727,     0.92727,     0.92727,\n",
      "            0.92727,     0.92308,     0.92308,     0.92308,     0.92308,     0.92308,     0.92308,     0.92308,     0.92308,     0.92308,     0.92308,     0.92308,     0.92308,     0.92308,     0.92308,     0.92308,     0.92308,     0.92308,     0.92308,     0.92308,     0.92308,     0.92308,     0.92308,\n",
      "            0.92308,     0.92308,     0.92308,     0.92308,     0.92308,     0.92308,     0.92308,     0.92308,     0.92308,     0.92308,     0.92308,     0.92308,     0.92308,     0.92308,     0.92308,     0.92308,     0.92308,     0.92308,     0.92308,     0.92308,     0.92308,     0.92308,     0.92308,\n",
      "            0.92308,     0.92308,     0.92308,     0.92308,     0.92308,     0.92308,     0.92308,     0.92308,     0.92308,     0.92308,     0.92308,     0.92308,     0.91304,     0.91304,     0.91304,     0.91304,     0.91304,     0.91304,     0.91304,     0.91304,     0.91304,     0.91304,     0.91304,\n",
      "            0.91304,     0.91304,     0.91304,     0.91304,     0.91304,     0.91304,     0.91304,     0.91304,      0.9125,      0.9125,      0.9125,      0.9125,      0.9125,      0.9125,      0.9125,      0.9125,      0.9125,      0.9125,      0.9125,      0.9125,      0.9125,      0.9125,      0.9125,\n",
      "             0.9125,      0.9125,      0.9125,      0.9125,      0.9125,      0.9125,      0.9125,      0.9125,      0.9125,      0.9125,      0.9125,      0.9125,      0.9125,      0.9125,      0.9125,      0.9125,      0.9125,      0.9125,      0.9125,      0.9125,      0.9125,      0.9125,      0.9125,\n",
      "             0.9125,      0.9125,      0.9125,      0.9125,      0.9125,      0.9125,      0.9125,      0.9125,      0.9125,      0.9125,      0.9125,      0.9125,      0.9125,      0.9125,      0.9125,      0.9125,      0.9125,      0.9125,      0.9125,      0.9125,      0.9125,      0.9125,      0.9125,\n",
      "             0.9125,      0.9125,     0.90476,     0.90476,     0.90476,     0.90476,     0.90476,     0.90476,     0.90476,     0.90476,     0.90476,     0.90476,     0.90476,     0.90476,     0.90476,     0.90476,     0.90476,     0.90476,     0.90476,     0.90476,     0.90476,     0.89655,     0.89655,\n",
      "            0.89655,     0.89655,     0.89655,     0.89655,     0.89655,     0.89655,     0.89655,     0.89655,     0.89655,     0.89655,     0.89655,     0.89247,     0.89247,     0.89247,     0.89247,     0.89247,     0.89247,     0.89247,     0.89247,     0.89247,     0.89247,     0.89247,     0.89247,\n",
      "            0.89247,     0.89247,     0.89247,     0.89247,     0.89247,     0.89247,     0.89247,     0.89247,     0.89247,     0.89247,     0.89247,     0.89247,     0.89247,     0.89247,     0.89247,     0.89247,     0.89247,     0.89247,     0.89247,     0.89216,     0.89216,     0.89216,     0.89216,\n",
      "            0.89216,     0.89216,     0.89216,     0.89216,     0.89216,     0.89216,     0.89216,     0.89216,     0.89216,     0.89216,     0.89216,     0.89216,     0.89216,     0.89216,     0.89216,     0.89216,     0.89216,     0.89216,     0.89216,     0.89216,     0.89216,     0.89216,     0.89216,\n",
      "            0.89216,     0.89216,     0.89216,     0.89216,     0.89216,     0.89216,     0.89216,     0.89216,     0.89216,     0.89216,     0.89216,     0.89216,     0.89216,     0.89216,     0.89216,     0.89216,     0.89216,     0.89216,     0.89216,     0.89216,     0.89216,     0.89216,     0.89216,\n",
      "            0.89216,     0.88462,     0.88462,     0.88462,     0.88462,     0.88462,     0.88462,     0.87736,     0.87736,     0.87736,     0.87736,     0.87736,     0.87736,     0.87736,     0.87156,     0.87156,     0.87156,     0.87156,     0.87156,     0.87156,     0.87156,     0.87156,     0.87156,\n",
      "            0.87156,     0.87156,     0.87156,     0.85088,     0.85088,     0.85088,     0.85088,     0.85088,     0.85088,     0.85088,     0.85088,     0.85088,     0.85088,     0.85088,     0.85088,     0.85088,     0.84615,     0.84615,     0.84615,     0.84615,     0.84615,     0.84615,     0.84615,\n",
      "            0.84615,     0.84615,     0.84615,     0.84615,     0.84615,     0.84034,     0.84034,     0.84034,     0.84034,     0.84034,     0.84034,     0.84034,     0.81102,     0.81102,     0.81102,     0.81102,     0.81102,     0.81102,     0.81102,     0.81102,     0.81102,     0.81102,     0.81102,\n",
      "            0.81102,     0.81102,     0.81102,     0.81102,     0.81102,     0.81102,     0.81102,     0.81102,     0.78195,     0.78195,     0.78195,     0.78195,     0.78195,     0.78195,     0.77372,     0.77372,     0.77372,     0.77372,     0.77372,     0.77372,     0.77372,     0.77372,     0.77372,\n",
      "            0.77372,     0.77372,     0.77372,     0.77372,     0.74825,     0.74825,     0.74825,     0.74825,     0.74825,     0.74825,     0.72483,     0.72483,     0.72483,     0.72483,     0.72483,     0.72483,     0.71242,     0.71242,     0.71242,     0.71242,     0.71242,     0.71242,     0.71242,\n",
      "            0.70968,     0.70968,     0.70968,     0.70968,     0.70968,     0.70968,     0.70886,     0.70886,     0.70886,     0.70886,     0.70886,     0.70886,     0.70886,     0.70886,     0.70886,     0.70886,     0.70886,     0.70886,     0.70886,     0.70186,     0.70186,     0.70186,     0.70186,\n",
      "            0.70186,     0.70186,     0.65517,     0.65517,     0.65517,     0.65517,     0.65517,     0.65517,     0.65169,     0.65169,     0.65169,     0.65169,     0.65169,     0.65169,     0.65169,     0.65169,     0.65169,     0.65169,     0.65169,     0.65169,     0.65169,     0.63934,     0.63934,\n",
      "            0.63934,     0.63934,     0.63934,     0.63934,     0.54378,     0.54378,     0.54378,     0.54378,     0.54378,     0.54378,     0.54378,     0.54338,     0.54338,     0.54338,     0.54338,     0.54338,     0.54338,     0.54054,     0.54054,     0.54054,     0.54054,     0.54054,     0.54054,\n",
      "            0.52609,     0.52609,     0.52609,     0.52609,     0.52609,     0.52609,     0.52609,     0.48221,     0.48221,     0.48221,     0.48221,     0.48221,     0.48221,      0.4786,      0.4786,      0.4786,      0.4786,      0.4786,      0.4786,      0.4697,      0.4697,      0.4697,      0.4697,\n",
      "             0.4697,      0.4697,      0.4697,     0.46468,     0.46468,     0.46468,     0.46468,     0.46468,     0.46468,         0.4,         0.4,         0.4,         0.4,         0.4,         0.4,     0.38024,     0.38024,     0.38024,     0.38024,     0.38024,     0.38024,     0.28477,     0.28477,\n",
      "            0.28477,     0.28477,     0.28477,     0.28477,     0.28477,     0.28477,     0.28477,     0.28477,     0.28477,     0.28477,     0.28477,     0.23853,     0.23853,     0.23853,     0.23853,     0.23853,     0.23853,     0.19152,     0.19152,     0.19152,     0.19152,     0.19152,     0.19152,\n",
      "            0.19152,     0.18565,     0.18565,     0.18565,     0.18565,     0.18565,     0.18565,     0.12559,     0.12559,     0.12559,     0.12559,     0.12559,     0.12559,     0.11582,     0.11582,     0.11582,     0.11582,     0.11582,     0.11582,     0.11582,     0.10369,     0.10369,     0.10369,\n",
      "            0.10369,     0.10369,     0.10369,    0.070808,     0.07032,    0.069832,    0.069343,    0.068855,    0.068367,    0.067878,     0.06739,    0.066902,    0.066413,    0.065925,    0.065437,    0.064948,     0.06446,    0.063972,    0.063483,    0.062995,    0.062507,    0.062018,     0.06153,\n",
      "           0.061042,    0.060553,    0.060065,    0.059577,    0.059088,      0.0586,    0.058112,    0.057623,    0.057135,    0.056647,    0.056158,     0.05567,    0.055182,    0.054693,    0.054205,    0.053717,    0.053228,     0.05274,    0.052252,    0.051763,    0.051275,    0.050787,    0.050298,\n",
      "            0.04981,    0.049322,    0.048833,    0.048345,    0.047857,    0.047368,     0.04688,    0.046392,    0.045903,    0.045415,    0.044927,    0.044438,     0.04395,    0.043462,    0.042973,    0.042485,    0.041997,    0.041508,     0.04102,    0.040532,    0.040043,    0.039555,    0.039067,\n",
      "           0.038578,     0.03809,    0.037602,    0.037113,    0.036625,    0.036137,    0.035648,     0.03516,    0.034672,    0.034183,    0.033695,    0.033207,    0.032718,     0.03223,    0.031742,    0.031253,    0.030765,    0.030277,    0.029788,      0.0293,    0.028812,    0.028323,    0.027835,\n",
      "           0.027347,    0.026858,     0.02637,    0.025882,    0.025393,    0.024905,    0.024417,    0.023928,     0.02344,    0.022952,    0.022463,    0.021975,    0.021487,    0.020998,     0.02051,    0.020022,    0.019533,    0.019045,    0.018557,    0.018068,     0.01758,    0.017092,    0.016603,\n",
      "           0.016115,    0.015627,    0.015138,     0.01465,    0.014162,    0.013673,    0.013185,    0.012697,    0.012208,     0.01172,    0.011232,    0.010743,    0.010255,   0.0097666,   0.0092783,     0.00879,   0.0083016,   0.0078133,    0.007325,   0.0068367,   0.0063483,     0.00586,   0.0053717,\n",
      "          0.0048833,    0.004395,   0.0039067,   0.0034183,     0.00293,   0.0024417,   0.0019533,    0.001465,  0.00097666,  0.00048833,           0]]), 'Recall', 'Precision'], [array([          0,    0.001001,    0.002002,    0.003003,    0.004004,    0.005005,    0.006006,    0.007007,    0.008008,    0.009009,     0.01001,    0.011011,    0.012012,    0.013013,    0.014014,    0.015015,    0.016016,    0.017017,    0.018018,    0.019019,     0.02002,    0.021021,    0.022022,    0.023023,\n",
      "          0.024024,    0.025025,    0.026026,    0.027027,    0.028028,    0.029029,     0.03003,    0.031031,    0.032032,    0.033033,    0.034034,    0.035035,    0.036036,    0.037037,    0.038038,    0.039039,     0.04004,    0.041041,    0.042042,    0.043043,    0.044044,    0.045045,    0.046046,    0.047047,\n",
      "          0.048048,    0.049049,     0.05005,    0.051051,    0.052052,    0.053053,    0.054054,    0.055055,    0.056056,    0.057057,    0.058058,    0.059059,     0.06006,    0.061061,    0.062062,    0.063063,    0.064064,    0.065065,    0.066066,    0.067067,    0.068068,    0.069069,     0.07007,    0.071071,\n",
      "          0.072072,    0.073073,    0.074074,    0.075075,    0.076076,    0.077077,    0.078078,    0.079079,     0.08008,    0.081081,    0.082082,    0.083083,    0.084084,    0.085085,    0.086086,    0.087087,    0.088088,    0.089089,     0.09009,    0.091091,    0.092092,    0.093093,    0.094094,    0.095095,\n",
      "          0.096096,    0.097097,    0.098098,    0.099099,      0.1001,      0.1011,      0.1021,      0.1031,      0.1041,     0.10511,     0.10611,     0.10711,     0.10811,     0.10911,     0.11011,     0.11111,     0.11211,     0.11311,     0.11411,     0.11512,     0.11612,     0.11712,     0.11812,     0.11912,\n",
      "           0.12012,     0.12112,     0.12212,     0.12312,     0.12412,     0.12513,     0.12613,     0.12713,     0.12813,     0.12913,     0.13013,     0.13113,     0.13213,     0.13313,     0.13413,     0.13514,     0.13614,     0.13714,     0.13814,     0.13914,     0.14014,     0.14114,     0.14214,     0.14314,\n",
      "           0.14414,     0.14515,     0.14615,     0.14715,     0.14815,     0.14915,     0.15015,     0.15115,     0.15215,     0.15315,     0.15415,     0.15516,     0.15616,     0.15716,     0.15816,     0.15916,     0.16016,     0.16116,     0.16216,     0.16316,     0.16416,     0.16517,     0.16617,     0.16717,\n",
      "           0.16817,     0.16917,     0.17017,     0.17117,     0.17217,     0.17317,     0.17417,     0.17518,     0.17618,     0.17718,     0.17818,     0.17918,     0.18018,     0.18118,     0.18218,     0.18318,     0.18418,     0.18519,     0.18619,     0.18719,     0.18819,     0.18919,     0.19019,     0.19119,\n",
      "           0.19219,     0.19319,     0.19419,      0.1952,      0.1962,      0.1972,      0.1982,      0.1992,      0.2002,      0.2012,      0.2022,      0.2032,      0.2042,     0.20521,     0.20621,     0.20721,     0.20821,     0.20921,     0.21021,     0.21121,     0.21221,     0.21321,     0.21421,     0.21522,\n",
      "           0.21622,     0.21722,     0.21822,     0.21922,     0.22022,     0.22122,     0.22222,     0.22322,     0.22422,     0.22523,     0.22623,     0.22723,     0.22823,     0.22923,     0.23023,     0.23123,     0.23223,     0.23323,     0.23423,     0.23524,     0.23624,     0.23724,     0.23824,     0.23924,\n",
      "           0.24024,     0.24124,     0.24224,     0.24324,     0.24424,     0.24525,     0.24625,     0.24725,     0.24825,     0.24925,     0.25025,     0.25125,     0.25225,     0.25325,     0.25425,     0.25526,     0.25626,     0.25726,     0.25826,     0.25926,     0.26026,     0.26126,     0.26226,     0.26326,\n",
      "           0.26426,     0.26527,     0.26627,     0.26727,     0.26827,     0.26927,     0.27027,     0.27127,     0.27227,     0.27327,     0.27427,     0.27528,     0.27628,     0.27728,     0.27828,     0.27928,     0.28028,     0.28128,     0.28228,     0.28328,     0.28428,     0.28529,     0.28629,     0.28729,\n",
      "           0.28829,     0.28929,     0.29029,     0.29129,     0.29229,     0.29329,     0.29429,      0.2953,      0.2963,      0.2973,      0.2983,      0.2993,      0.3003,      0.3013,      0.3023,      0.3033,      0.3043,     0.30531,     0.30631,     0.30731,     0.30831,     0.30931,     0.31031,     0.31131,\n",
      "           0.31231,     0.31331,     0.31431,     0.31532,     0.31632,     0.31732,     0.31832,     0.31932,     0.32032,     0.32132,     0.32232,     0.32332,     0.32432,     0.32533,     0.32633,     0.32733,     0.32833,     0.32933,     0.33033,     0.33133,     0.33233,     0.33333,     0.33433,     0.33534,\n",
      "           0.33634,     0.33734,     0.33834,     0.33934,     0.34034,     0.34134,     0.34234,     0.34334,     0.34434,     0.34535,     0.34635,     0.34735,     0.34835,     0.34935,     0.35035,     0.35135,     0.35235,     0.35335,     0.35435,     0.35536,     0.35636,     0.35736,     0.35836,     0.35936,\n",
      "           0.36036,     0.36136,     0.36236,     0.36336,     0.36436,     0.36537,     0.36637,     0.36737,     0.36837,     0.36937,     0.37037,     0.37137,     0.37237,     0.37337,     0.37437,     0.37538,     0.37638,     0.37738,     0.37838,     0.37938,     0.38038,     0.38138,     0.38238,     0.38338,\n",
      "           0.38438,     0.38539,     0.38639,     0.38739,     0.38839,     0.38939,     0.39039,     0.39139,     0.39239,     0.39339,     0.39439,      0.3954,      0.3964,      0.3974,      0.3984,      0.3994,      0.4004,      0.4014,      0.4024,      0.4034,      0.4044,     0.40541,     0.40641,     0.40741,\n",
      "           0.40841,     0.40941,     0.41041,     0.41141,     0.41241,     0.41341,     0.41441,     0.41542,     0.41642,     0.41742,     0.41842,     0.41942,     0.42042,     0.42142,     0.42242,     0.42342,     0.42442,     0.42543,     0.42643,     0.42743,     0.42843,     0.42943,     0.43043,     0.43143,\n",
      "           0.43243,     0.43343,     0.43443,     0.43544,     0.43644,     0.43744,     0.43844,     0.43944,     0.44044,     0.44144,     0.44244,     0.44344,     0.44444,     0.44545,     0.44645,     0.44745,     0.44845,     0.44945,     0.45045,     0.45145,     0.45245,     0.45345,     0.45445,     0.45546,\n",
      "           0.45646,     0.45746,     0.45846,     0.45946,     0.46046,     0.46146,     0.46246,     0.46346,     0.46446,     0.46547,     0.46647,     0.46747,     0.46847,     0.46947,     0.47047,     0.47147,     0.47247,     0.47347,     0.47447,     0.47548,     0.47648,     0.47748,     0.47848,     0.47948,\n",
      "           0.48048,     0.48148,     0.48248,     0.48348,     0.48448,     0.48549,     0.48649,     0.48749,     0.48849,     0.48949,     0.49049,     0.49149,     0.49249,     0.49349,     0.49449,      0.4955,      0.4965,      0.4975,      0.4985,      0.4995,      0.5005,      0.5015,      0.5025,      0.5035,\n",
      "            0.5045,     0.50551,     0.50651,     0.50751,     0.50851,     0.50951,     0.51051,     0.51151,     0.51251,     0.51351,     0.51451,     0.51552,     0.51652,     0.51752,     0.51852,     0.51952,     0.52052,     0.52152,     0.52252,     0.52352,     0.52452,     0.52553,     0.52653,     0.52753,\n",
      "           0.52853,     0.52953,     0.53053,     0.53153,     0.53253,     0.53353,     0.53453,     0.53554,     0.53654,     0.53754,     0.53854,     0.53954,     0.54054,     0.54154,     0.54254,     0.54354,     0.54454,     0.54555,     0.54655,     0.54755,     0.54855,     0.54955,     0.55055,     0.55155,\n",
      "           0.55255,     0.55355,     0.55455,     0.55556,     0.55656,     0.55756,     0.55856,     0.55956,     0.56056,     0.56156,     0.56256,     0.56356,     0.56456,     0.56557,     0.56657,     0.56757,     0.56857,     0.56957,     0.57057,     0.57157,     0.57257,     0.57357,     0.57457,     0.57558,\n",
      "           0.57658,     0.57758,     0.57858,     0.57958,     0.58058,     0.58158,     0.58258,     0.58358,     0.58458,     0.58559,     0.58659,     0.58759,     0.58859,     0.58959,     0.59059,     0.59159,     0.59259,     0.59359,     0.59459,      0.5956,      0.5966,      0.5976,      0.5986,      0.5996,\n",
      "            0.6006,      0.6016,      0.6026,      0.6036,      0.6046,     0.60561,     0.60661,     0.60761,     0.60861,     0.60961,     0.61061,     0.61161,     0.61261,     0.61361,     0.61461,     0.61562,     0.61662,     0.61762,     0.61862,     0.61962,     0.62062,     0.62162,     0.62262,     0.62362,\n",
      "           0.62462,     0.62563,     0.62663,     0.62763,     0.62863,     0.62963,     0.63063,     0.63163,     0.63263,     0.63363,     0.63463,     0.63564,     0.63664,     0.63764,     0.63864,     0.63964,     0.64064,     0.64164,     0.64264,     0.64364,     0.64464,     0.64565,     0.64665,     0.64765,\n",
      "           0.64865,     0.64965,     0.65065,     0.65165,     0.65265,     0.65365,     0.65465,     0.65566,     0.65666,     0.65766,     0.65866,     0.65966,     0.66066,     0.66166,     0.66266,     0.66366,     0.66466,     0.66567,     0.66667,     0.66767,     0.66867,     0.66967,     0.67067,     0.67167,\n",
      "           0.67267,     0.67367,     0.67467,     0.67568,     0.67668,     0.67768,     0.67868,     0.67968,     0.68068,     0.68168,     0.68268,     0.68368,     0.68468,     0.68569,     0.68669,     0.68769,     0.68869,     0.68969,     0.69069,     0.69169,     0.69269,     0.69369,     0.69469,      0.6957,\n",
      "            0.6967,      0.6977,      0.6987,      0.6997,      0.7007,      0.7017,      0.7027,      0.7037,      0.7047,     0.70571,     0.70671,     0.70771,     0.70871,     0.70971,     0.71071,     0.71171,     0.71271,     0.71371,     0.71471,     0.71572,     0.71672,     0.71772,     0.71872,     0.71972,\n",
      "           0.72072,     0.72172,     0.72272,     0.72372,     0.72472,     0.72573,     0.72673,     0.72773,     0.72873,     0.72973,     0.73073,     0.73173,     0.73273,     0.73373,     0.73473,     0.73574,     0.73674,     0.73774,     0.73874,     0.73974,     0.74074,     0.74174,     0.74274,     0.74374,\n",
      "           0.74474,     0.74575,     0.74675,     0.74775,     0.74875,     0.74975,     0.75075,     0.75175,     0.75275,     0.75375,     0.75475,     0.75576,     0.75676,     0.75776,     0.75876,     0.75976,     0.76076,     0.76176,     0.76276,     0.76376,     0.76476,     0.76577,     0.76677,     0.76777,\n",
      "           0.76877,     0.76977,     0.77077,     0.77177,     0.77277,     0.77377,     0.77477,     0.77578,     0.77678,     0.77778,     0.77878,     0.77978,     0.78078,     0.78178,     0.78278,     0.78378,     0.78478,     0.78579,     0.78679,     0.78779,     0.78879,     0.78979,     0.79079,     0.79179,\n",
      "           0.79279,     0.79379,     0.79479,      0.7958,      0.7968,      0.7978,      0.7988,      0.7998,      0.8008,      0.8018,      0.8028,      0.8038,      0.8048,     0.80581,     0.80681,     0.80781,     0.80881,     0.80981,     0.81081,     0.81181,     0.81281,     0.81381,     0.81481,     0.81582,\n",
      "           0.81682,     0.81782,     0.81882,     0.81982,     0.82082,     0.82182,     0.82282,     0.82382,     0.82482,     0.82583,     0.82683,     0.82783,     0.82883,     0.82983,     0.83083,     0.83183,     0.83283,     0.83383,     0.83483,     0.83584,     0.83684,     0.83784,     0.83884,     0.83984,\n",
      "           0.84084,     0.84184,     0.84284,     0.84384,     0.84484,     0.84585,     0.84685,     0.84785,     0.84885,     0.84985,     0.85085,     0.85185,     0.85285,     0.85385,     0.85485,     0.85586,     0.85686,     0.85786,     0.85886,     0.85986,     0.86086,     0.86186,     0.86286,     0.86386,\n",
      "           0.86486,     0.86587,     0.86687,     0.86787,     0.86887,     0.86987,     0.87087,     0.87187,     0.87287,     0.87387,     0.87487,     0.87588,     0.87688,     0.87788,     0.87888,     0.87988,     0.88088,     0.88188,     0.88288,     0.88388,     0.88488,     0.88589,     0.88689,     0.88789,\n",
      "           0.88889,     0.88989,     0.89089,     0.89189,     0.89289,     0.89389,     0.89489,      0.8959,      0.8969,      0.8979,      0.8989,      0.8999,      0.9009,      0.9019,      0.9029,      0.9039,      0.9049,     0.90591,     0.90691,     0.90791,     0.90891,     0.90991,     0.91091,     0.91191,\n",
      "           0.91291,     0.91391,     0.91491,     0.91592,     0.91692,     0.91792,     0.91892,     0.91992,     0.92092,     0.92192,     0.92292,     0.92392,     0.92492,     0.92593,     0.92693,     0.92793,     0.92893,     0.92993,     0.93093,     0.93193,     0.93293,     0.93393,     0.93493,     0.93594,\n",
      "           0.93694,     0.93794,     0.93894,     0.93994,     0.94094,     0.94194,     0.94294,     0.94394,     0.94494,     0.94595,     0.94695,     0.94795,     0.94895,     0.94995,     0.95095,     0.95195,     0.95295,     0.95395,     0.95495,     0.95596,     0.95696,     0.95796,     0.95896,     0.95996,\n",
      "           0.96096,     0.96196,     0.96296,     0.96396,     0.96496,     0.96597,     0.96697,     0.96797,     0.96897,     0.96997,     0.97097,     0.97197,     0.97297,     0.97397,     0.97497,     0.97598,     0.97698,     0.97798,     0.97898,     0.97998,     0.98098,     0.98198,     0.98298,     0.98398,\n",
      "           0.98498,     0.98599,     0.98699,     0.98799,     0.98899,     0.98999,     0.99099,     0.99199,     0.99299,     0.99399,     0.99499,       0.996,       0.997,       0.998,       0.999,           1]), array([[    0.13113,     0.13114,     0.18465,     0.22089,     0.24925,     0.26955,     0.28626,     0.30653,     0.31504,     0.33046,     0.34613,     0.35686,     0.36524,     0.37351,     0.38081,     0.38813,      0.3945,     0.40003,     0.40462,     0.41275,     0.41688,     0.42016,     0.42487,\n",
      "            0.43197,     0.43835,     0.44097,     0.44715,     0.45086,     0.45633,     0.45985,     0.46372,     0.47037,     0.47196,     0.47452,     0.47647,     0.48147,     0.48461,     0.48849,     0.49288,     0.49905,     0.49981,     0.50298,     0.50424,     0.50608,     0.51145,      0.5128,\n",
      "            0.51557,     0.51418,     0.51655,     0.51827,     0.52096,     0.52161,     0.52433,     0.52656,     0.52901,     0.53209,     0.53095,     0.53379,     0.53486,     0.53581,     0.53828,     0.54245,     0.54641,     0.54738,     0.54814,      0.5493,      0.5515,     0.55564,     0.55612,\n",
      "             0.5566,     0.55731,     0.55813,     0.55872,     0.55931,      0.5601,     0.56075,     0.56121,     0.56168,     0.56593,     0.56776,      0.5698,     0.57046,     0.57322,     0.57415,     0.57496,      0.5758,     0.57875,     0.57903,     0.57932,      0.5796,     0.57988,     0.58069,\n",
      "             0.5816,     0.58198,     0.58236,     0.58274,     0.58345,     0.58239,     0.58268,     0.58297,     0.58326,     0.58374,     0.58539,     0.58622,     0.58721,      0.5852,     0.58586,     0.58667,     0.58768,     0.58885,     0.58988,     0.59075,     0.59267,     0.59305,     0.59173,\n",
      "            0.59221,     0.59269,     0.59334,      0.5947,     0.59488,     0.59507,     0.59525,     0.59543,     0.59561,      0.5958,     0.59598,     0.59768,     0.59801,     0.59835,     0.59868,     0.59906,     0.60271,     0.60508,     0.60556,     0.60604,     0.60652,     0.60687,     0.60723,\n",
      "            0.60758,     0.60794,      0.6098,     0.61084,     0.61136,     0.61168,     0.61201,     0.61234,     0.61267,     0.61294,     0.61321,     0.61348,     0.61375,     0.61401,     0.61446,     0.61541,     0.61589,     0.61608,     0.61627,     0.61646,     0.61666,     0.61685,     0.61704,\n",
      "            0.61723,     0.61774,     0.61882,     0.62073,     0.62127,     0.62182,     0.62226,     0.62257,     0.62289,      0.6232,     0.62351,     0.62039,     0.62129,     0.62198,     0.62242,     0.62287,     0.62332,     0.62384,     0.62438,     0.62491,     0.62535,     0.62577,     0.62619,\n",
      "            0.62661,     0.62829,     0.62937,     0.63042,     0.63143,     0.62804,     0.62983,     0.63007,     0.63032,     0.63057,     0.63081,     0.63106,     0.63126,     0.62663,     0.62621,     0.62683,     0.62748,      0.6282,     0.62893,     0.62933,     0.62968,     0.63003,     0.63038,\n",
      "            0.63073,     0.63104,     0.63135,     0.63166,     0.63197,     0.63228,     0.63416,      0.6346,     0.63503,     0.63547,     0.63589,     0.63623,     0.63656,     0.63689,     0.63723,     0.63756,     0.63899,     0.64025,     0.64118,     0.64149,     0.64179,     0.64209,      0.6424,\n",
      "             0.6427,     0.64302,     0.64334,     0.64367,     0.64399,     0.64432,     0.64464,     0.64484,     0.64503,     0.64523,     0.64543,     0.64563,     0.64583,     0.64602,     0.64622,     0.64642,     0.64673,     0.64703,     0.64733,     0.64763,     0.64793,     0.64843,     0.65187,\n",
      "            0.65231,     0.65275,     0.65319,     0.65363,     0.65408,     0.65453,     0.65498,     0.65542,     0.65624,     0.65709,     0.65782,     0.65851,     0.65922,     0.66012,     0.66101,     0.66237,     0.66515,     0.66673,     0.66707,     0.66741,     0.66775,     0.66809,     0.66843,\n",
      "            0.66956,     0.67078,      0.6714,     0.67202,     0.67253,     0.67284,     0.67315,     0.67345,     0.67376,     0.67407,     0.67437,     0.67459,      0.6748,     0.67502,     0.67523,     0.67545,     0.67566,     0.67588,     0.67609,     0.67631,     0.67668,     0.67705,     0.67741,\n",
      "            0.67778,     0.67815,     0.67885,     0.67969,     0.68055,     0.68144,     0.68229,      0.6829,     0.68351,     0.68411,     0.68575,     0.68593,     0.68555,     0.68517,     0.68479,     0.68441,     0.68403,     0.68365,     0.68327,     0.68289,     0.68251,     0.68307,     0.68427,\n",
      "            0.68596,     0.68748,     0.68908,     0.69014,     0.68886,     0.68758,     0.68387,     0.68307,     0.68355,     0.68403,     0.68451,     0.68543,     0.68661,     0.68587,     0.68488,     0.68389,      0.6829,     0.68487,     0.68506,     0.68525,     0.68545,     0.68564,     0.68583,\n",
      "            0.68602,     0.68622,     0.68641,      0.6866,     0.68679,     0.68701,     0.68729,     0.68756,     0.68784,     0.68811,     0.68839,     0.68866,     0.68894,     0.68914,     0.68931,     0.68947,     0.68964,     0.68981,     0.68997,     0.69014,     0.69031,     0.69047,     0.69064,\n",
      "             0.6908,     0.69097,     0.69115,     0.69189,     0.69262,     0.69339,     0.69438,     0.69537,      0.6979,     0.69844,     0.69899,     0.69953,     0.70011,      0.7007,     0.70129,      0.7019,     0.70287,     0.70384,     0.70414,     0.70426,     0.70439,     0.70451,     0.70463,\n",
      "            0.70475,     0.70487,     0.70499,     0.70511,     0.70523,     0.70535,     0.70547,     0.70559,     0.70571,     0.70583,     0.70595,     0.70607,     0.70619,     0.70675,     0.70779,     0.70754,     0.70485,     0.70701,     0.70759,     0.70816,     0.70873,     0.70852,     0.70808,\n",
      "            0.70764,      0.7072,     0.70676,     0.70632,     0.70588,     0.70544,       0.705,     0.70116,     0.70113,     0.70165,     0.70218,      0.7027,      0.7023,     0.70142,     0.70055,     0.69967,     0.69879,     0.69964,     0.70064,     0.69678,     0.69833,     0.70141,     0.70206,\n",
      "            0.70271,     0.70336,     0.70278,     0.70155,     0.70031,     0.69956,     0.70052,     0.70148,     0.70215,     0.70276,     0.70337,     0.70413,     0.70641,     0.70679,     0.70717,     0.70755,     0.70792,      0.7083,     0.70875,     0.70953,     0.71031,     0.71042,     0.70697,\n",
      "            0.70706,     0.70748,     0.70791,     0.70834,     0.70876,     0.70915,     0.70948,     0.70981,     0.71014,     0.71046,     0.71079,     0.71112,     0.71155,     0.71297,     0.71455,     0.71623,      0.7164,     0.71658,     0.71676,     0.71694,     0.71711,     0.71729,     0.71747,\n",
      "            0.71764,     0.71782,       0.718,     0.71817,     0.71835,     0.71852,     0.71368,     0.71054,     0.71269,     0.71318,     0.71366,     0.71415,     0.71463,     0.71058,     0.71099,     0.71139,      0.7118,      0.7122,     0.71261,     0.71332,     0.71433,     0.71533,     0.71626,\n",
      "             0.7172,     0.71807,     0.71884,     0.71961,     0.71995,     0.71804,     0.71775,     0.71747,     0.71719,      0.7169,     0.71662,     0.71633,     0.71605,     0.71577,     0.71548,      0.7152,     0.71491,     0.71463,     0.71434,     0.71406,     0.71375,     0.71262,     0.71149,\n",
      "            0.71035,     0.70923,     0.71035,     0.71148,     0.71215,     0.71268,     0.71322,     0.71375,     0.71428,     0.71689,     0.71757,     0.71825,     0.71892,      0.7196,     0.72031,     0.72102,     0.72172,     0.72155,     0.72073,     0.71991,     0.71909,     0.71827,     0.71744,\n",
      "            0.71867,     0.71997,     0.71885,     0.71773,     0.71661,     0.71548,     0.71442,     0.71337,     0.71231,     0.71125,     0.71101,     0.71196,     0.71292,       0.713,     0.71264,     0.71228,     0.71192,     0.71156,      0.7112,     0.71084,     0.71048,     0.71012,     0.70976,\n",
      "             0.7094,     0.70903,     0.70867,     0.70661,     0.70392,     0.70479,     0.70566,     0.70643,     0.70687,     0.70732,     0.70776,     0.70821,     0.70865,     0.71075,      0.7078,      0.7065,     0.70616,     0.70581,     0.70547,     0.70512,     0.70478,     0.70443,     0.70409,\n",
      "            0.70374,     0.70339,     0.70305,      0.7027,     0.70236,     0.70201,     0.70306,     0.70425,     0.70251,     0.70077,     0.69974,     0.70011,     0.70048,     0.70085,     0.70121,     0.70158,     0.70194,     0.70218,     0.69996,     0.69773,     0.69762,     0.69799,     0.69836,\n",
      "            0.69873,     0.69909,     0.69946,     0.69983,     0.69899,     0.69706,     0.69512,      0.6894,     0.68691,      0.6838,     0.67886,     0.67637,     0.67434,     0.67369,     0.67303,     0.67237,     0.67172,     0.67106,      0.6704,     0.66974,     0.66915,      0.6687,     0.66825,\n",
      "             0.6678,     0.66735,      0.6669,     0.66645,       0.666,     0.66555,      0.6651,     0.66465,      0.6642,     0.66367,     0.66309,     0.66251,     0.66194,     0.66136,     0.66078,      0.6602,     0.65962,     0.65904,     0.65921,     0.66024,     0.66127,     0.65243,     0.65016,\n",
      "            0.64939,     0.64861,     0.64784,     0.64707,     0.64629,     0.64551,     0.63892,     0.63745,     0.63599,     0.63452,     0.63503,     0.63622,     0.63492,     0.63166,     0.62848,     0.62554,     0.62598,     0.62641,     0.62685,     0.62728,     0.62771,     0.62772,     0.62367,\n",
      "             0.6204,     0.61749,     0.61347,     0.61191,     0.60792,     0.60361,     0.60069,     0.59889,     0.59709,     0.59553,     0.59467,     0.59382,     0.59297,     0.59211,     0.59126,      0.5904,     0.58589,     0.57634,     0.56437,     0.56236,     0.56034,     0.55328,     0.54815,\n",
      "            0.54148,     0.54016,     0.53884,     0.53752,      0.5362,     0.53631,     0.53723,     0.53753,      0.5305,     0.52884,     0.52717,     0.52549,     0.52085,     0.51634,     0.51315,     0.50378,     0.50181,     0.49984,     0.49787,     0.48481,     0.47835,      0.4732,     0.47087,\n",
      "            0.46986,     0.46886,     0.46785,     0.46684,     0.46583,     0.46482,     0.46012,     0.45296,     0.44571,     0.43967,     0.43461,     0.43071,     0.42641,     0.41961,      0.4205,     0.42139,      0.4139,     0.39952,     0.38915,     0.38456,     0.38226,     0.38039,     0.37852,\n",
      "            0.37664,     0.37069,     0.36419,     0.35957,     0.35331,     0.34419,     0.33278,     0.32963,     0.32648,       0.322,     0.31566,     0.31097,     0.30618,     0.30084,     0.28612,     0.26968,     0.26841,     0.26714,     0.26586,     0.26459,     0.26331,     0.26204,     0.25925,\n",
      "            0.24902,     0.24489,     0.23163,     0.22522,     0.22247,     0.22292,     0.22336,      0.2239,     0.22446,     0.22047,     0.21317,     0.20775,     0.20368,     0.20157,     0.19947,     0.19735,     0.19523,     0.18346,     0.18241,     0.18136,      0.1803,     0.17925,      0.1782,\n",
      "            0.17714,     0.17608,     0.17503,     0.17397,     0.16772,     0.15641,      0.1484,     0.14227,     0.13131,     0.12753,      0.1246,     0.12166,     0.11721,     0.10361,    0.093027,    0.084011,    0.081516,    0.079014,    0.076506,    0.073991,    0.072035,    0.070349,     0.06866,\n",
      "           0.066967,    0.065272,    0.063574,    0.061872,    0.059621,    0.057123,    0.054618,    0.052106,    0.049588,    0.045158,    0.040537,    0.036987,    0.036039,     0.03509,     0.03414,    0.033189,    0.032237,    0.031284,     0.03033,    0.029375,     0.02842,    0.027463,    0.026506,\n",
      "           0.025547,    0.024746,    0.024155,    0.023563,     0.02297,    0.022378,    0.021785,    0.021191,    0.020598,    0.020004,    0.019409,    0.018814,    0.018219,    0.017624,    0.017028,    0.016432,    0.015835,    0.015238,    0.014641,    0.014043,    0.013445,    0.012847,           0,\n",
      "                  0,           0,           0,           0,           0,           0,           0,           0,           0,           0,           0,           0,           0,           0,           0,           0,           0,           0,           0,           0,           0,           0,           0,\n",
      "                  0,           0,           0,           0,           0,           0,           0,           0,           0,           0,           0,           0,           0,           0,           0,           0,           0,           0,           0,           0,           0,           0,           0,\n",
      "                  0,           0,           0,           0,           0,           0,           0,           0,           0,           0,           0,           0,           0,           0,           0,           0,           0,           0,           0,           0,           0,           0,           0,\n",
      "                  0,           0,           0,           0,           0,           0,           0,           0,           0,           0,           0,           0,           0,           0,           0,           0,           0,           0,           0,           0,           0,           0,           0,\n",
      "                  0,           0,           0,           0,           0,           0,           0,           0,           0,           0,           0,           0,           0,           0,           0,           0,           0,           0,           0,           0,           0,           0,           0,\n",
      "                  0,           0,           0,           0,           0,           0,           0,           0,           0,           0,           0]]), 'Confidence', 'F1'], [array([          0,    0.001001,    0.002002,    0.003003,    0.004004,    0.005005,    0.006006,    0.007007,    0.008008,    0.009009,     0.01001,    0.011011,    0.012012,    0.013013,    0.014014,    0.015015,    0.016016,    0.017017,    0.018018,    0.019019,     0.02002,    0.021021,    0.022022,    0.023023,\n",
      "          0.024024,    0.025025,    0.026026,    0.027027,    0.028028,    0.029029,     0.03003,    0.031031,    0.032032,    0.033033,    0.034034,    0.035035,    0.036036,    0.037037,    0.038038,    0.039039,     0.04004,    0.041041,    0.042042,    0.043043,    0.044044,    0.045045,    0.046046,    0.047047,\n",
      "          0.048048,    0.049049,     0.05005,    0.051051,    0.052052,    0.053053,    0.054054,    0.055055,    0.056056,    0.057057,    0.058058,    0.059059,     0.06006,    0.061061,    0.062062,    0.063063,    0.064064,    0.065065,    0.066066,    0.067067,    0.068068,    0.069069,     0.07007,    0.071071,\n",
      "          0.072072,    0.073073,    0.074074,    0.075075,    0.076076,    0.077077,    0.078078,    0.079079,     0.08008,    0.081081,    0.082082,    0.083083,    0.084084,    0.085085,    0.086086,    0.087087,    0.088088,    0.089089,     0.09009,    0.091091,    0.092092,    0.093093,    0.094094,    0.095095,\n",
      "          0.096096,    0.097097,    0.098098,    0.099099,      0.1001,      0.1011,      0.1021,      0.1031,      0.1041,     0.10511,     0.10611,     0.10711,     0.10811,     0.10911,     0.11011,     0.11111,     0.11211,     0.11311,     0.11411,     0.11512,     0.11612,     0.11712,     0.11812,     0.11912,\n",
      "           0.12012,     0.12112,     0.12212,     0.12312,     0.12412,     0.12513,     0.12613,     0.12713,     0.12813,     0.12913,     0.13013,     0.13113,     0.13213,     0.13313,     0.13413,     0.13514,     0.13614,     0.13714,     0.13814,     0.13914,     0.14014,     0.14114,     0.14214,     0.14314,\n",
      "           0.14414,     0.14515,     0.14615,     0.14715,     0.14815,     0.14915,     0.15015,     0.15115,     0.15215,     0.15315,     0.15415,     0.15516,     0.15616,     0.15716,     0.15816,     0.15916,     0.16016,     0.16116,     0.16216,     0.16316,     0.16416,     0.16517,     0.16617,     0.16717,\n",
      "           0.16817,     0.16917,     0.17017,     0.17117,     0.17217,     0.17317,     0.17417,     0.17518,     0.17618,     0.17718,     0.17818,     0.17918,     0.18018,     0.18118,     0.18218,     0.18318,     0.18418,     0.18519,     0.18619,     0.18719,     0.18819,     0.18919,     0.19019,     0.19119,\n",
      "           0.19219,     0.19319,     0.19419,      0.1952,      0.1962,      0.1972,      0.1982,      0.1992,      0.2002,      0.2012,      0.2022,      0.2032,      0.2042,     0.20521,     0.20621,     0.20721,     0.20821,     0.20921,     0.21021,     0.21121,     0.21221,     0.21321,     0.21421,     0.21522,\n",
      "           0.21622,     0.21722,     0.21822,     0.21922,     0.22022,     0.22122,     0.22222,     0.22322,     0.22422,     0.22523,     0.22623,     0.22723,     0.22823,     0.22923,     0.23023,     0.23123,     0.23223,     0.23323,     0.23423,     0.23524,     0.23624,     0.23724,     0.23824,     0.23924,\n",
      "           0.24024,     0.24124,     0.24224,     0.24324,     0.24424,     0.24525,     0.24625,     0.24725,     0.24825,     0.24925,     0.25025,     0.25125,     0.25225,     0.25325,     0.25425,     0.25526,     0.25626,     0.25726,     0.25826,     0.25926,     0.26026,     0.26126,     0.26226,     0.26326,\n",
      "           0.26426,     0.26527,     0.26627,     0.26727,     0.26827,     0.26927,     0.27027,     0.27127,     0.27227,     0.27327,     0.27427,     0.27528,     0.27628,     0.27728,     0.27828,     0.27928,     0.28028,     0.28128,     0.28228,     0.28328,     0.28428,     0.28529,     0.28629,     0.28729,\n",
      "           0.28829,     0.28929,     0.29029,     0.29129,     0.29229,     0.29329,     0.29429,      0.2953,      0.2963,      0.2973,      0.2983,      0.2993,      0.3003,      0.3013,      0.3023,      0.3033,      0.3043,     0.30531,     0.30631,     0.30731,     0.30831,     0.30931,     0.31031,     0.31131,\n",
      "           0.31231,     0.31331,     0.31431,     0.31532,     0.31632,     0.31732,     0.31832,     0.31932,     0.32032,     0.32132,     0.32232,     0.32332,     0.32432,     0.32533,     0.32633,     0.32733,     0.32833,     0.32933,     0.33033,     0.33133,     0.33233,     0.33333,     0.33433,     0.33534,\n",
      "           0.33634,     0.33734,     0.33834,     0.33934,     0.34034,     0.34134,     0.34234,     0.34334,     0.34434,     0.34535,     0.34635,     0.34735,     0.34835,     0.34935,     0.35035,     0.35135,     0.35235,     0.35335,     0.35435,     0.35536,     0.35636,     0.35736,     0.35836,     0.35936,\n",
      "           0.36036,     0.36136,     0.36236,     0.36336,     0.36436,     0.36537,     0.36637,     0.36737,     0.36837,     0.36937,     0.37037,     0.37137,     0.37237,     0.37337,     0.37437,     0.37538,     0.37638,     0.37738,     0.37838,     0.37938,     0.38038,     0.38138,     0.38238,     0.38338,\n",
      "           0.38438,     0.38539,     0.38639,     0.38739,     0.38839,     0.38939,     0.39039,     0.39139,     0.39239,     0.39339,     0.39439,      0.3954,      0.3964,      0.3974,      0.3984,      0.3994,      0.4004,      0.4014,      0.4024,      0.4034,      0.4044,     0.40541,     0.40641,     0.40741,\n",
      "           0.40841,     0.40941,     0.41041,     0.41141,     0.41241,     0.41341,     0.41441,     0.41542,     0.41642,     0.41742,     0.41842,     0.41942,     0.42042,     0.42142,     0.42242,     0.42342,     0.42442,     0.42543,     0.42643,     0.42743,     0.42843,     0.42943,     0.43043,     0.43143,\n",
      "           0.43243,     0.43343,     0.43443,     0.43544,     0.43644,     0.43744,     0.43844,     0.43944,     0.44044,     0.44144,     0.44244,     0.44344,     0.44444,     0.44545,     0.44645,     0.44745,     0.44845,     0.44945,     0.45045,     0.45145,     0.45245,     0.45345,     0.45445,     0.45546,\n",
      "           0.45646,     0.45746,     0.45846,     0.45946,     0.46046,     0.46146,     0.46246,     0.46346,     0.46446,     0.46547,     0.46647,     0.46747,     0.46847,     0.46947,     0.47047,     0.47147,     0.47247,     0.47347,     0.47447,     0.47548,     0.47648,     0.47748,     0.47848,     0.47948,\n",
      "           0.48048,     0.48148,     0.48248,     0.48348,     0.48448,     0.48549,     0.48649,     0.48749,     0.48849,     0.48949,     0.49049,     0.49149,     0.49249,     0.49349,     0.49449,      0.4955,      0.4965,      0.4975,      0.4985,      0.4995,      0.5005,      0.5015,      0.5025,      0.5035,\n",
      "            0.5045,     0.50551,     0.50651,     0.50751,     0.50851,     0.50951,     0.51051,     0.51151,     0.51251,     0.51351,     0.51451,     0.51552,     0.51652,     0.51752,     0.51852,     0.51952,     0.52052,     0.52152,     0.52252,     0.52352,     0.52452,     0.52553,     0.52653,     0.52753,\n",
      "           0.52853,     0.52953,     0.53053,     0.53153,     0.53253,     0.53353,     0.53453,     0.53554,     0.53654,     0.53754,     0.53854,     0.53954,     0.54054,     0.54154,     0.54254,     0.54354,     0.54454,     0.54555,     0.54655,     0.54755,     0.54855,     0.54955,     0.55055,     0.55155,\n",
      "           0.55255,     0.55355,     0.55455,     0.55556,     0.55656,     0.55756,     0.55856,     0.55956,     0.56056,     0.56156,     0.56256,     0.56356,     0.56456,     0.56557,     0.56657,     0.56757,     0.56857,     0.56957,     0.57057,     0.57157,     0.57257,     0.57357,     0.57457,     0.57558,\n",
      "           0.57658,     0.57758,     0.57858,     0.57958,     0.58058,     0.58158,     0.58258,     0.58358,     0.58458,     0.58559,     0.58659,     0.58759,     0.58859,     0.58959,     0.59059,     0.59159,     0.59259,     0.59359,     0.59459,      0.5956,      0.5966,      0.5976,      0.5986,      0.5996,\n",
      "            0.6006,      0.6016,      0.6026,      0.6036,      0.6046,     0.60561,     0.60661,     0.60761,     0.60861,     0.60961,     0.61061,     0.61161,     0.61261,     0.61361,     0.61461,     0.61562,     0.61662,     0.61762,     0.61862,     0.61962,     0.62062,     0.62162,     0.62262,     0.62362,\n",
      "           0.62462,     0.62563,     0.62663,     0.62763,     0.62863,     0.62963,     0.63063,     0.63163,     0.63263,     0.63363,     0.63463,     0.63564,     0.63664,     0.63764,     0.63864,     0.63964,     0.64064,     0.64164,     0.64264,     0.64364,     0.64464,     0.64565,     0.64665,     0.64765,\n",
      "           0.64865,     0.64965,     0.65065,     0.65165,     0.65265,     0.65365,     0.65465,     0.65566,     0.65666,     0.65766,     0.65866,     0.65966,     0.66066,     0.66166,     0.66266,     0.66366,     0.66466,     0.66567,     0.66667,     0.66767,     0.66867,     0.66967,     0.67067,     0.67167,\n",
      "           0.67267,     0.67367,     0.67467,     0.67568,     0.67668,     0.67768,     0.67868,     0.67968,     0.68068,     0.68168,     0.68268,     0.68368,     0.68468,     0.68569,     0.68669,     0.68769,     0.68869,     0.68969,     0.69069,     0.69169,     0.69269,     0.69369,     0.69469,      0.6957,\n",
      "            0.6967,      0.6977,      0.6987,      0.6997,      0.7007,      0.7017,      0.7027,      0.7037,      0.7047,     0.70571,     0.70671,     0.70771,     0.70871,     0.70971,     0.71071,     0.71171,     0.71271,     0.71371,     0.71471,     0.71572,     0.71672,     0.71772,     0.71872,     0.71972,\n",
      "           0.72072,     0.72172,     0.72272,     0.72372,     0.72472,     0.72573,     0.72673,     0.72773,     0.72873,     0.72973,     0.73073,     0.73173,     0.73273,     0.73373,     0.73473,     0.73574,     0.73674,     0.73774,     0.73874,     0.73974,     0.74074,     0.74174,     0.74274,     0.74374,\n",
      "           0.74474,     0.74575,     0.74675,     0.74775,     0.74875,     0.74975,     0.75075,     0.75175,     0.75275,     0.75375,     0.75475,     0.75576,     0.75676,     0.75776,     0.75876,     0.75976,     0.76076,     0.76176,     0.76276,     0.76376,     0.76476,     0.76577,     0.76677,     0.76777,\n",
      "           0.76877,     0.76977,     0.77077,     0.77177,     0.77277,     0.77377,     0.77477,     0.77578,     0.77678,     0.77778,     0.77878,     0.77978,     0.78078,     0.78178,     0.78278,     0.78378,     0.78478,     0.78579,     0.78679,     0.78779,     0.78879,     0.78979,     0.79079,     0.79179,\n",
      "           0.79279,     0.79379,     0.79479,      0.7958,      0.7968,      0.7978,      0.7988,      0.7998,      0.8008,      0.8018,      0.8028,      0.8038,      0.8048,     0.80581,     0.80681,     0.80781,     0.80881,     0.80981,     0.81081,     0.81181,     0.81281,     0.81381,     0.81481,     0.81582,\n",
      "           0.81682,     0.81782,     0.81882,     0.81982,     0.82082,     0.82182,     0.82282,     0.82382,     0.82482,     0.82583,     0.82683,     0.82783,     0.82883,     0.82983,     0.83083,     0.83183,     0.83283,     0.83383,     0.83483,     0.83584,     0.83684,     0.83784,     0.83884,     0.83984,\n",
      "           0.84084,     0.84184,     0.84284,     0.84384,     0.84484,     0.84585,     0.84685,     0.84785,     0.84885,     0.84985,     0.85085,     0.85185,     0.85285,     0.85385,     0.85485,     0.85586,     0.85686,     0.85786,     0.85886,     0.85986,     0.86086,     0.86186,     0.86286,     0.86386,\n",
      "           0.86486,     0.86587,     0.86687,     0.86787,     0.86887,     0.86987,     0.87087,     0.87187,     0.87287,     0.87387,     0.87487,     0.87588,     0.87688,     0.87788,     0.87888,     0.87988,     0.88088,     0.88188,     0.88288,     0.88388,     0.88488,     0.88589,     0.88689,     0.88789,\n",
      "           0.88889,     0.88989,     0.89089,     0.89189,     0.89289,     0.89389,     0.89489,      0.8959,      0.8969,      0.8979,      0.8989,      0.8999,      0.9009,      0.9019,      0.9029,      0.9039,      0.9049,     0.90591,     0.90691,     0.90791,     0.90891,     0.90991,     0.91091,     0.91191,\n",
      "           0.91291,     0.91391,     0.91491,     0.91592,     0.91692,     0.91792,     0.91892,     0.91992,     0.92092,     0.92192,     0.92292,     0.92392,     0.92492,     0.92593,     0.92693,     0.92793,     0.92893,     0.92993,     0.93093,     0.93193,     0.93293,     0.93393,     0.93493,     0.93594,\n",
      "           0.93694,     0.93794,     0.93894,     0.93994,     0.94094,     0.94194,     0.94294,     0.94394,     0.94494,     0.94595,     0.94695,     0.94795,     0.94895,     0.94995,     0.95095,     0.95195,     0.95295,     0.95395,     0.95495,     0.95596,     0.95696,     0.95796,     0.95896,     0.95996,\n",
      "           0.96096,     0.96196,     0.96296,     0.96396,     0.96496,     0.96597,     0.96697,     0.96797,     0.96897,     0.96997,     0.97097,     0.97197,     0.97297,     0.97397,     0.97497,     0.97598,     0.97698,     0.97798,     0.97898,     0.97998,     0.98098,     0.98198,     0.98298,     0.98398,\n",
      "           0.98498,     0.98599,     0.98699,     0.98799,     0.98899,     0.98999,     0.99099,     0.99199,     0.99299,     0.99399,     0.99499,       0.996,       0.997,       0.998,       0.999,           1]), array([[   0.071015,     0.07102,      0.1036,     0.12727,     0.14647,      0.1607,     0.17272,     0.18802,     0.19482,     0.20675,     0.21916,     0.22784,     0.23472,     0.24214,     0.24832,     0.25457,     0.26008,     0.26492,     0.26895,     0.27619,     0.27989,     0.28363,     0.28874,\n",
      "            0.29534,     0.30134,     0.30382,     0.30973,      0.3133,      0.3186,     0.32204,     0.32586,     0.33246,     0.33405,     0.33662,     0.33859,     0.34366,     0.34687,     0.35086,      0.3554,     0.36186,     0.36266,       0.366,     0.36734,      0.3693,     0.37504,      0.3765,\n",
      "            0.37949,      0.3794,     0.38198,     0.38387,     0.38683,     0.38755,     0.39057,     0.39304,     0.39578,     0.39958,     0.39955,     0.40278,     0.40399,     0.40508,      0.4079,     0.41271,     0.41732,     0.41846,     0.41934,      0.4207,     0.42329,     0.42819,     0.42876,\n",
      "            0.42933,     0.43017,     0.43115,     0.43185,     0.43255,      0.4335,     0.43428,     0.43484,      0.4354,     0.44053,     0.44275,     0.44524,     0.44604,     0.44943,     0.45057,     0.45157,     0.45261,     0.45626,     0.45661,     0.45697,     0.45732,     0.45767,     0.45868,\n",
      "            0.45981,     0.46029,     0.46077,     0.46124,     0.46346,     0.46297,     0.46334,     0.46371,     0.46408,     0.46469,     0.46678,     0.46783,     0.46942,     0.46821,     0.46965,      0.4707,       0.472,     0.47351,     0.47484,     0.47597,     0.47854,     0.48184,     0.48214,\n",
      "            0.48277,     0.48341,     0.48427,     0.48608,     0.48633,     0.48657,     0.48682,     0.48706,     0.48731,     0.48755,      0.4878,     0.49008,     0.49053,     0.49098,     0.49143,     0.49194,     0.49688,     0.50011,     0.50076,     0.50142,     0.50208,     0.50256,     0.50305,\n",
      "            0.50354,     0.50403,     0.50659,     0.50803,     0.50874,      0.5092,     0.50965,     0.51011,     0.51056,     0.51094,     0.51131,     0.51169,     0.51206,     0.51243,     0.51305,     0.51438,     0.51506,     0.51532,     0.51559,     0.51586,     0.51612,     0.51639,     0.51666,\n",
      "            0.51692,     0.51765,     0.51917,     0.52185,     0.52263,      0.5234,     0.52402,     0.52447,     0.52491,     0.52536,     0.52581,     0.52435,     0.52564,     0.52662,     0.52727,     0.52791,     0.52855,     0.52931,     0.53007,     0.53084,     0.53148,     0.53208,     0.53269,\n",
      "             0.5333,     0.53575,     0.53732,     0.53884,     0.54032,      0.5385,      0.5412,     0.54157,     0.54193,     0.54229,     0.54265,     0.54302,     0.54336,     0.54222,     0.54247,     0.54341,     0.54438,     0.54548,     0.54658,     0.54718,     0.54771,     0.54824,     0.54877,\n",
      "             0.5493,     0.54977,     0.55024,     0.55071,     0.55118,     0.55165,     0.55452,     0.55519,     0.55586,     0.55653,     0.55718,     0.55769,     0.55821,     0.55872,     0.55923,     0.55974,     0.56195,     0.56391,     0.56535,     0.56582,      0.5663,     0.56677,     0.56724,\n",
      "            0.56772,     0.56821,     0.56872,     0.56923,     0.56974,     0.57025,     0.57075,     0.57106,     0.57137,     0.57168,     0.57199,      0.5723,     0.57261,     0.57292,     0.57323,     0.57355,     0.57403,      0.5745,     0.57498,     0.57545,     0.57593,     0.57671,     0.58218,\n",
      "            0.58288,     0.58359,     0.58429,     0.58499,     0.58571,     0.58643,     0.58716,     0.58788,     0.58919,     0.59056,     0.59174,     0.59286,     0.59401,     0.59547,     0.59693,     0.59915,     0.60372,     0.60633,     0.60689,     0.60745,     0.60801,     0.60857,     0.60913,\n",
      "            0.61102,     0.61305,     0.61409,     0.61513,     0.61598,      0.6165,     0.61702,     0.61754,     0.61805,     0.61857,     0.61908,     0.61944,     0.61981,     0.62017,     0.62053,      0.6209,     0.62126,     0.62162,     0.62199,     0.62236,     0.62298,     0.62361,     0.62423,\n",
      "            0.62485,     0.62548,     0.62667,     0.62811,     0.62958,      0.6311,     0.63256,      0.6336,     0.63465,      0.6357,     0.63854,      0.6392,       0.639,     0.63881,     0.63861,     0.63842,     0.63822,     0.63803,     0.63783,     0.63764,     0.63744,     0.63861,     0.64072,\n",
      "            0.64369,     0.64637,      0.6492,     0.65152,     0.65087,     0.65023,     0.64835,     0.64851,     0.64938,     0.65024,      0.6511,     0.65277,     0.65493,     0.65473,     0.65423,     0.65374,     0.65324,     0.65701,     0.65737,     0.65772,     0.65808,     0.65843,     0.65879,\n",
      "            0.65914,      0.6595,     0.65985,     0.66021,     0.66057,     0.66097,     0.66148,     0.66199,      0.6625,     0.66301,     0.66352,     0.66403,     0.66454,     0.66492,     0.66523,     0.66554,     0.66585,     0.66616,     0.66647,     0.66678,     0.66709,      0.6674,     0.66772,\n",
      "            0.66803,     0.66834,     0.66868,     0.67006,     0.67143,     0.67288,     0.67475,     0.67662,     0.68143,     0.68247,      0.6835,     0.68454,     0.68564,     0.68679,     0.68793,     0.68909,     0.69097,     0.69285,     0.69344,     0.69367,      0.6939,     0.69414,     0.69437,\n",
      "             0.6946,     0.69484,     0.69507,     0.69531,     0.69554,     0.69577,     0.69601,     0.69624,     0.69647,     0.69671,     0.69694,     0.69718,     0.69741,     0.69851,     0.70054,     0.70144,     0.70021,     0.70518,     0.70632,     0.70746,     0.70861,     0.70871,     0.70851,\n",
      "            0.70831,     0.70811,     0.70791,     0.70771,     0.70751,     0.70731,     0.70711,     0.70537,     0.70612,     0.70719,     0.70825,     0.70932,     0.70941,     0.70902,     0.70862,     0.70822,     0.70783,     0.70968,     0.71175,     0.71055,     0.71376,     0.72023,     0.72161,\n",
      "            0.72298,     0.72436,     0.72448,     0.72394,      0.7234,     0.72342,     0.72548,     0.72754,     0.72899,     0.73031,     0.73163,     0.73327,     0.73824,     0.73907,      0.7399,     0.74072,     0.74155,     0.74238,     0.74337,     0.74509,     0.74681,     0.74803,     0.74661,\n",
      "            0.74735,     0.74831,     0.74926,     0.75022,     0.75117,     0.75205,     0.75279,     0.75353,     0.75426,       0.755,     0.75574,     0.75648,     0.75746,      0.7607,     0.76428,     0.76814,     0.76855,     0.76896,     0.76937,     0.76977,     0.77018,     0.77059,       0.771,\n",
      "            0.77141,     0.77181,     0.77222,     0.77263,     0.77304,     0.77345,     0.77183,     0.77062,     0.77698,     0.77814,      0.7793,     0.78046,     0.78161,     0.78088,     0.78186,     0.78284,     0.78382,      0.7848,     0.78578,     0.78752,     0.78998,     0.79242,     0.79473,\n",
      "            0.79703,     0.79919,      0.8011,     0.80302,     0.81007,     0.80943,     0.80934,     0.80924,     0.80915,     0.80905,     0.80895,     0.80886,     0.80876,     0.80867,     0.80857,     0.80848,     0.80838,     0.80828,     0.80819,     0.80809,     0.80799,     0.80761,     0.80722,\n",
      "            0.80683,     0.80647,     0.80939,     0.81231,     0.81407,     0.81547,     0.81686,     0.81825,     0.81965,     0.82657,     0.82837,     0.83018,     0.83198,     0.83381,     0.83572,     0.83762,     0.83953,      0.8402,     0.83996,     0.83972,     0.83948,     0.83924,       0.839,\n",
      "             0.8425,     0.84615,     0.84583,     0.84551,     0.84519,     0.84487,     0.84457,     0.84426,     0.84396,     0.84366,     0.84456,     0.84727,     0.84997,     0.85081,     0.85071,     0.85061,     0.85051,     0.85041,     0.85031,     0.85021,     0.85011,     0.85001,     0.84991,\n",
      "            0.84981,     0.84971,     0.84961,     0.84903,     0.84884,     0.85139,     0.85393,     0.85618,     0.85749,      0.8588,     0.86011,     0.86142,     0.86274,     0.86897,     0.87062,      0.8703,     0.87022,     0.87013,     0.87005,     0.86996,     0.86988,     0.86979,      0.8697,\n",
      "            0.86962,     0.86953,     0.86945,     0.86936,     0.86927,     0.86919,     0.87276,     0.87729,     0.87688,     0.87646,     0.87658,     0.87774,     0.87889,     0.88005,     0.88121,     0.88236,     0.88352,     0.88459,     0.88409,     0.88359,     0.88446,     0.88565,     0.88684,\n",
      "            0.88803,     0.88922,      0.8904,     0.89159,     0.89194,     0.89153,     0.89112,     0.88989,     0.88934,     0.88866,     0.88757,     0.88701,     0.88656,     0.88641,     0.88626,     0.88611,     0.88596,     0.88582,     0.88567,     0.88552,     0.88538,     0.88528,     0.88518,\n",
      "            0.88507,     0.88497,     0.88487,     0.88476,     0.88466,     0.88456,     0.88446,     0.88435,     0.88425,     0.88413,     0.88399,     0.88386,     0.88372,     0.88359,     0.88345,     0.88332,     0.88319,     0.88305,     0.88469,     0.88843,     0.89216,     0.89051,     0.89001,\n",
      "            0.88984,     0.88966,     0.88949,     0.88932,     0.88914,     0.88897,     0.88746,     0.88713,     0.88679,     0.88645,     0.88984,      0.8945,     0.89616,     0.89546,     0.89476,     0.89424,     0.89602,      0.8978,     0.89958,     0.90137,     0.90315,     0.90468,     0.90387,\n",
      "             0.9032,     0.90261,     0.90177,     0.91221,     0.91145,     0.91062,     0.91006,     0.90971,     0.90935,     0.90905,     0.90888,     0.90871,     0.90854,     0.90837,      0.9082,     0.90803,     0.90711,     0.90514,     0.90259,     0.90215,     0.90171,     0.90343,     0.91166,\n",
      "            0.91029,     0.91002,     0.90974,     0.90947,     0.90919,     0.91252,      0.9179,     0.92297,     0.92168,     0.92137,     0.92106,     0.92075,     0.91986,     0.91899,     0.91837,      0.9165,      0.9161,     0.91569,     0.91529,     0.91251,     0.91109,     0.92621,     0.92577,\n",
      "            0.92557,     0.92538,     0.92518,     0.92499,     0.92479,      0.9246,     0.92367,     0.92222,     0.92072,     0.91943,     0.91833,     0.91745,     0.91649,     0.91578,     0.92439,     0.93299,     0.93335,     0.94694,      0.9508,     0.95011,     0.94975,     0.94946,     0.94917,\n",
      "            0.94887,     0.94791,     0.94683,     0.94605,     0.94494,     0.94327,     0.94106,     0.94042,     0.93977,     0.93883,     0.93747,     0.93641,     0.93532,     0.93404,     0.93032,     0.92575,     0.92536,     0.92497,     0.92459,      0.9242,     0.92381,     0.92343,     0.92255,\n",
      "            0.91918,     0.91775,     0.91288,     0.91029,     0.91742,     0.93299,     0.94857,     0.96856,     0.98997,           1,           1,           1,           1,           1,           1,           1,           1,           1,           1,           1,           1,           1,           1,\n",
      "                  1,           1,           1,           1,           1,           1,           1,           1,           1,           1,           1,           1,           1,           1,           1,           1,           1,           1,           1,           1,           1,           1,           1,\n",
      "                  1,           1,           1,           1,           1,           1,           1,           1,           1,           1,           1,           1,           1,           1,           1,           1,           1,           1,           1,           1,           1,           1,           1,\n",
      "                  1,           1,           1,           1,           1,           1,           1,           1,           1,           1,           1,           1,           1,           1,           1,           1,           1,           1,           1,           1,           1,           1,           1,\n",
      "                  1,           1,           1,           1,           1,           1,           1,           1,           1,           1,           1,           1,           1,           1,           1,           1,           1,           1,           1,           1,           1,           1,           1,\n",
      "                  1,           1,           1,           1,           1,           1,           1,           1,           1,           1,           1,           1,           1,           1,           1,           1,           1,           1,           1,           1,           1,           1,           1,\n",
      "                  1,           1,           1,           1,           1,           1,           1,           1,           1,           1,           1,           1,           1,           1,           1,           1,           1,           1,           1,           1,           1,           1,           1,\n",
      "                  1,           1,           1,           1,           1,           1,           1,           1,           1,           1,           1,           1,           1,           1,           1,           1,           1,           1,           1,           1,           1,           1,           1,\n",
      "                  1,           1,           1,           1,           1,           1,           1,           1,           1,           1,           1,           1,           1,           1,           1,           1,           1,           1,           1,           1,           1,           1,           1,\n",
      "                  1,           1,           1,           1,           1,           1,           1,           1,           1,           1,           1]]), 'Confidence', 'Precision'], [array([          0,    0.001001,    0.002002,    0.003003,    0.004004,    0.005005,    0.006006,    0.007007,    0.008008,    0.009009,     0.01001,    0.011011,    0.012012,    0.013013,    0.014014,    0.015015,    0.016016,    0.017017,    0.018018,    0.019019,     0.02002,    0.021021,    0.022022,    0.023023,\n",
      "          0.024024,    0.025025,    0.026026,    0.027027,    0.028028,    0.029029,     0.03003,    0.031031,    0.032032,    0.033033,    0.034034,    0.035035,    0.036036,    0.037037,    0.038038,    0.039039,     0.04004,    0.041041,    0.042042,    0.043043,    0.044044,    0.045045,    0.046046,    0.047047,\n",
      "          0.048048,    0.049049,     0.05005,    0.051051,    0.052052,    0.053053,    0.054054,    0.055055,    0.056056,    0.057057,    0.058058,    0.059059,     0.06006,    0.061061,    0.062062,    0.063063,    0.064064,    0.065065,    0.066066,    0.067067,    0.068068,    0.069069,     0.07007,    0.071071,\n",
      "          0.072072,    0.073073,    0.074074,    0.075075,    0.076076,    0.077077,    0.078078,    0.079079,     0.08008,    0.081081,    0.082082,    0.083083,    0.084084,    0.085085,    0.086086,    0.087087,    0.088088,    0.089089,     0.09009,    0.091091,    0.092092,    0.093093,    0.094094,    0.095095,\n",
      "          0.096096,    0.097097,    0.098098,    0.099099,      0.1001,      0.1011,      0.1021,      0.1031,      0.1041,     0.10511,     0.10611,     0.10711,     0.10811,     0.10911,     0.11011,     0.11111,     0.11211,     0.11311,     0.11411,     0.11512,     0.11612,     0.11712,     0.11812,     0.11912,\n",
      "           0.12012,     0.12112,     0.12212,     0.12312,     0.12412,     0.12513,     0.12613,     0.12713,     0.12813,     0.12913,     0.13013,     0.13113,     0.13213,     0.13313,     0.13413,     0.13514,     0.13614,     0.13714,     0.13814,     0.13914,     0.14014,     0.14114,     0.14214,     0.14314,\n",
      "           0.14414,     0.14515,     0.14615,     0.14715,     0.14815,     0.14915,     0.15015,     0.15115,     0.15215,     0.15315,     0.15415,     0.15516,     0.15616,     0.15716,     0.15816,     0.15916,     0.16016,     0.16116,     0.16216,     0.16316,     0.16416,     0.16517,     0.16617,     0.16717,\n",
      "           0.16817,     0.16917,     0.17017,     0.17117,     0.17217,     0.17317,     0.17417,     0.17518,     0.17618,     0.17718,     0.17818,     0.17918,     0.18018,     0.18118,     0.18218,     0.18318,     0.18418,     0.18519,     0.18619,     0.18719,     0.18819,     0.18919,     0.19019,     0.19119,\n",
      "           0.19219,     0.19319,     0.19419,      0.1952,      0.1962,      0.1972,      0.1982,      0.1992,      0.2002,      0.2012,      0.2022,      0.2032,      0.2042,     0.20521,     0.20621,     0.20721,     0.20821,     0.20921,     0.21021,     0.21121,     0.21221,     0.21321,     0.21421,     0.21522,\n",
      "           0.21622,     0.21722,     0.21822,     0.21922,     0.22022,     0.22122,     0.22222,     0.22322,     0.22422,     0.22523,     0.22623,     0.22723,     0.22823,     0.22923,     0.23023,     0.23123,     0.23223,     0.23323,     0.23423,     0.23524,     0.23624,     0.23724,     0.23824,     0.23924,\n",
      "           0.24024,     0.24124,     0.24224,     0.24324,     0.24424,     0.24525,     0.24625,     0.24725,     0.24825,     0.24925,     0.25025,     0.25125,     0.25225,     0.25325,     0.25425,     0.25526,     0.25626,     0.25726,     0.25826,     0.25926,     0.26026,     0.26126,     0.26226,     0.26326,\n",
      "           0.26426,     0.26527,     0.26627,     0.26727,     0.26827,     0.26927,     0.27027,     0.27127,     0.27227,     0.27327,     0.27427,     0.27528,     0.27628,     0.27728,     0.27828,     0.27928,     0.28028,     0.28128,     0.28228,     0.28328,     0.28428,     0.28529,     0.28629,     0.28729,\n",
      "           0.28829,     0.28929,     0.29029,     0.29129,     0.29229,     0.29329,     0.29429,      0.2953,      0.2963,      0.2973,      0.2983,      0.2993,      0.3003,      0.3013,      0.3023,      0.3033,      0.3043,     0.30531,     0.30631,     0.30731,     0.30831,     0.30931,     0.31031,     0.31131,\n",
      "           0.31231,     0.31331,     0.31431,     0.31532,     0.31632,     0.31732,     0.31832,     0.31932,     0.32032,     0.32132,     0.32232,     0.32332,     0.32432,     0.32533,     0.32633,     0.32733,     0.32833,     0.32933,     0.33033,     0.33133,     0.33233,     0.33333,     0.33433,     0.33534,\n",
      "           0.33634,     0.33734,     0.33834,     0.33934,     0.34034,     0.34134,     0.34234,     0.34334,     0.34434,     0.34535,     0.34635,     0.34735,     0.34835,     0.34935,     0.35035,     0.35135,     0.35235,     0.35335,     0.35435,     0.35536,     0.35636,     0.35736,     0.35836,     0.35936,\n",
      "           0.36036,     0.36136,     0.36236,     0.36336,     0.36436,     0.36537,     0.36637,     0.36737,     0.36837,     0.36937,     0.37037,     0.37137,     0.37237,     0.37337,     0.37437,     0.37538,     0.37638,     0.37738,     0.37838,     0.37938,     0.38038,     0.38138,     0.38238,     0.38338,\n",
      "           0.38438,     0.38539,     0.38639,     0.38739,     0.38839,     0.38939,     0.39039,     0.39139,     0.39239,     0.39339,     0.39439,      0.3954,      0.3964,      0.3974,      0.3984,      0.3994,      0.4004,      0.4014,      0.4024,      0.4034,      0.4044,     0.40541,     0.40641,     0.40741,\n",
      "           0.40841,     0.40941,     0.41041,     0.41141,     0.41241,     0.41341,     0.41441,     0.41542,     0.41642,     0.41742,     0.41842,     0.41942,     0.42042,     0.42142,     0.42242,     0.42342,     0.42442,     0.42543,     0.42643,     0.42743,     0.42843,     0.42943,     0.43043,     0.43143,\n",
      "           0.43243,     0.43343,     0.43443,     0.43544,     0.43644,     0.43744,     0.43844,     0.43944,     0.44044,     0.44144,     0.44244,     0.44344,     0.44444,     0.44545,     0.44645,     0.44745,     0.44845,     0.44945,     0.45045,     0.45145,     0.45245,     0.45345,     0.45445,     0.45546,\n",
      "           0.45646,     0.45746,     0.45846,     0.45946,     0.46046,     0.46146,     0.46246,     0.46346,     0.46446,     0.46547,     0.46647,     0.46747,     0.46847,     0.46947,     0.47047,     0.47147,     0.47247,     0.47347,     0.47447,     0.47548,     0.47648,     0.47748,     0.47848,     0.47948,\n",
      "           0.48048,     0.48148,     0.48248,     0.48348,     0.48448,     0.48549,     0.48649,     0.48749,     0.48849,     0.48949,     0.49049,     0.49149,     0.49249,     0.49349,     0.49449,      0.4955,      0.4965,      0.4975,      0.4985,      0.4995,      0.5005,      0.5015,      0.5025,      0.5035,\n",
      "            0.5045,     0.50551,     0.50651,     0.50751,     0.50851,     0.50951,     0.51051,     0.51151,     0.51251,     0.51351,     0.51451,     0.51552,     0.51652,     0.51752,     0.51852,     0.51952,     0.52052,     0.52152,     0.52252,     0.52352,     0.52452,     0.52553,     0.52653,     0.52753,\n",
      "           0.52853,     0.52953,     0.53053,     0.53153,     0.53253,     0.53353,     0.53453,     0.53554,     0.53654,     0.53754,     0.53854,     0.53954,     0.54054,     0.54154,     0.54254,     0.54354,     0.54454,     0.54555,     0.54655,     0.54755,     0.54855,     0.54955,     0.55055,     0.55155,\n",
      "           0.55255,     0.55355,     0.55455,     0.55556,     0.55656,     0.55756,     0.55856,     0.55956,     0.56056,     0.56156,     0.56256,     0.56356,     0.56456,     0.56557,     0.56657,     0.56757,     0.56857,     0.56957,     0.57057,     0.57157,     0.57257,     0.57357,     0.57457,     0.57558,\n",
      "           0.57658,     0.57758,     0.57858,     0.57958,     0.58058,     0.58158,     0.58258,     0.58358,     0.58458,     0.58559,     0.58659,     0.58759,     0.58859,     0.58959,     0.59059,     0.59159,     0.59259,     0.59359,     0.59459,      0.5956,      0.5966,      0.5976,      0.5986,      0.5996,\n",
      "            0.6006,      0.6016,      0.6026,      0.6036,      0.6046,     0.60561,     0.60661,     0.60761,     0.60861,     0.60961,     0.61061,     0.61161,     0.61261,     0.61361,     0.61461,     0.61562,     0.61662,     0.61762,     0.61862,     0.61962,     0.62062,     0.62162,     0.62262,     0.62362,\n",
      "           0.62462,     0.62563,     0.62663,     0.62763,     0.62863,     0.62963,     0.63063,     0.63163,     0.63263,     0.63363,     0.63463,     0.63564,     0.63664,     0.63764,     0.63864,     0.63964,     0.64064,     0.64164,     0.64264,     0.64364,     0.64464,     0.64565,     0.64665,     0.64765,\n",
      "           0.64865,     0.64965,     0.65065,     0.65165,     0.65265,     0.65365,     0.65465,     0.65566,     0.65666,     0.65766,     0.65866,     0.65966,     0.66066,     0.66166,     0.66266,     0.66366,     0.66466,     0.66567,     0.66667,     0.66767,     0.66867,     0.66967,     0.67067,     0.67167,\n",
      "           0.67267,     0.67367,     0.67467,     0.67568,     0.67668,     0.67768,     0.67868,     0.67968,     0.68068,     0.68168,     0.68268,     0.68368,     0.68468,     0.68569,     0.68669,     0.68769,     0.68869,     0.68969,     0.69069,     0.69169,     0.69269,     0.69369,     0.69469,      0.6957,\n",
      "            0.6967,      0.6977,      0.6987,      0.6997,      0.7007,      0.7017,      0.7027,      0.7037,      0.7047,     0.70571,     0.70671,     0.70771,     0.70871,     0.70971,     0.71071,     0.71171,     0.71271,     0.71371,     0.71471,     0.71572,     0.71672,     0.71772,     0.71872,     0.71972,\n",
      "           0.72072,     0.72172,     0.72272,     0.72372,     0.72472,     0.72573,     0.72673,     0.72773,     0.72873,     0.72973,     0.73073,     0.73173,     0.73273,     0.73373,     0.73473,     0.73574,     0.73674,     0.73774,     0.73874,     0.73974,     0.74074,     0.74174,     0.74274,     0.74374,\n",
      "           0.74474,     0.74575,     0.74675,     0.74775,     0.74875,     0.74975,     0.75075,     0.75175,     0.75275,     0.75375,     0.75475,     0.75576,     0.75676,     0.75776,     0.75876,     0.75976,     0.76076,     0.76176,     0.76276,     0.76376,     0.76476,     0.76577,     0.76677,     0.76777,\n",
      "           0.76877,     0.76977,     0.77077,     0.77177,     0.77277,     0.77377,     0.77477,     0.77578,     0.77678,     0.77778,     0.77878,     0.77978,     0.78078,     0.78178,     0.78278,     0.78378,     0.78478,     0.78579,     0.78679,     0.78779,     0.78879,     0.78979,     0.79079,     0.79179,\n",
      "           0.79279,     0.79379,     0.79479,      0.7958,      0.7968,      0.7978,      0.7988,      0.7998,      0.8008,      0.8018,      0.8028,      0.8038,      0.8048,     0.80581,     0.80681,     0.80781,     0.80881,     0.80981,     0.81081,     0.81181,     0.81281,     0.81381,     0.81481,     0.81582,\n",
      "           0.81682,     0.81782,     0.81882,     0.81982,     0.82082,     0.82182,     0.82282,     0.82382,     0.82482,     0.82583,     0.82683,     0.82783,     0.82883,     0.82983,     0.83083,     0.83183,     0.83283,     0.83383,     0.83483,     0.83584,     0.83684,     0.83784,     0.83884,     0.83984,\n",
      "           0.84084,     0.84184,     0.84284,     0.84384,     0.84484,     0.84585,     0.84685,     0.84785,     0.84885,     0.84985,     0.85085,     0.85185,     0.85285,     0.85385,     0.85485,     0.85586,     0.85686,     0.85786,     0.85886,     0.85986,     0.86086,     0.86186,     0.86286,     0.86386,\n",
      "           0.86486,     0.86587,     0.86687,     0.86787,     0.86887,     0.86987,     0.87087,     0.87187,     0.87287,     0.87387,     0.87487,     0.87588,     0.87688,     0.87788,     0.87888,     0.87988,     0.88088,     0.88188,     0.88288,     0.88388,     0.88488,     0.88589,     0.88689,     0.88789,\n",
      "           0.88889,     0.88989,     0.89089,     0.89189,     0.89289,     0.89389,     0.89489,      0.8959,      0.8969,      0.8979,      0.8989,      0.8999,      0.9009,      0.9019,      0.9029,      0.9039,      0.9049,     0.90591,     0.90691,     0.90791,     0.90891,     0.90991,     0.91091,     0.91191,\n",
      "           0.91291,     0.91391,     0.91491,     0.91592,     0.91692,     0.91792,     0.91892,     0.91992,     0.92092,     0.92192,     0.92292,     0.92392,     0.92492,     0.92593,     0.92693,     0.92793,     0.92893,     0.92993,     0.93093,     0.93193,     0.93293,     0.93393,     0.93493,     0.93594,\n",
      "           0.93694,     0.93794,     0.93894,     0.93994,     0.94094,     0.94194,     0.94294,     0.94394,     0.94494,     0.94595,     0.94695,     0.94795,     0.94895,     0.94995,     0.95095,     0.95195,     0.95295,     0.95395,     0.95495,     0.95596,     0.95696,     0.95796,     0.95896,     0.95996,\n",
      "           0.96096,     0.96196,     0.96296,     0.96396,     0.96496,     0.96597,     0.96697,     0.96797,     0.96897,     0.96997,     0.97097,     0.97197,     0.97297,     0.97397,     0.97497,     0.97598,     0.97698,     0.97798,     0.97898,     0.97998,     0.98098,     0.98198,     0.98298,     0.98398,\n",
      "           0.98498,     0.98599,     0.98699,     0.98799,     0.98899,     0.98999,     0.99099,     0.99199,     0.99299,     0.99399,     0.99499,       0.996,       0.997,       0.998,       0.999,           1]), array([[    0.85443,     0.85443,      0.8481,     0.83544,     0.83544,     0.83544,     0.83544,     0.82911,     0.82278,     0.82278,     0.82278,     0.82278,     0.82278,     0.81646,     0.81646,     0.81646,     0.81646,     0.81646,     0.81646,     0.81646,     0.81646,     0.81013,      0.8038,\n",
      "             0.8038,      0.8038,      0.8038,      0.8038,      0.8038,      0.8038,      0.8038,      0.8038,      0.8038,      0.8038,      0.8038,      0.8038,      0.8038,      0.8038,      0.8038,      0.8038,      0.8038,      0.8038,      0.8038,      0.8038,      0.8038,      0.8038,      0.8038,\n",
      "             0.8038,     0.79747,     0.79747,     0.79747,     0.79747,     0.79747,     0.79747,     0.79747,     0.79747,     0.79609,     0.79114,     0.79114,     0.79114,     0.79114,     0.79114,     0.79114,     0.79114,     0.79114,     0.79114,     0.79114,     0.79114,     0.79114,     0.79114,\n",
      "            0.79114,     0.79114,     0.79114,     0.79114,     0.79114,     0.79114,     0.79114,     0.79114,     0.79114,     0.79114,     0.79114,     0.79114,     0.79114,     0.79114,     0.79114,     0.79114,     0.79114,     0.79114,     0.79114,     0.79114,     0.79114,     0.79114,     0.79114,\n",
      "            0.79114,     0.79114,     0.79114,     0.79114,     0.78727,     0.78481,     0.78481,     0.78481,     0.78481,     0.78481,     0.78481,     0.78481,     0.78394,     0.78014,     0.77848,     0.77848,     0.77848,     0.77848,     0.77848,     0.77848,     0.77829,     0.77101,     0.76582,\n",
      "            0.76582,     0.76582,     0.76582,     0.76582,     0.76582,     0.76582,     0.76582,     0.76582,     0.76582,     0.76582,     0.76582,     0.76582,     0.76582,     0.76582,     0.76582,     0.76582,     0.76582,     0.76582,     0.76582,     0.76582,     0.76582,     0.76582,     0.76582,\n",
      "            0.76582,     0.76582,     0.76582,     0.76582,     0.76582,     0.76582,     0.76582,     0.76582,     0.76582,     0.76582,     0.76582,     0.76582,     0.76582,     0.76582,     0.76582,     0.76582,     0.76582,     0.76582,     0.76582,     0.76582,     0.76582,     0.76582,     0.76582,\n",
      "            0.76582,     0.76582,     0.76582,     0.76582,     0.76582,     0.76582,     0.76582,     0.76582,     0.76582,     0.76582,     0.76582,     0.75949,     0.75949,     0.75949,     0.75949,     0.75949,     0.75949,     0.75949,     0.75949,     0.75949,     0.75949,     0.75949,     0.75949,\n",
      "            0.75949,     0.75949,     0.75949,     0.75949,     0.75949,     0.75329,     0.75316,     0.75316,     0.75316,     0.75316,     0.75316,     0.75316,     0.75309,     0.74217,     0.74051,     0.74051,     0.74051,     0.74051,     0.74051,     0.74051,     0.74051,     0.74051,     0.74051,\n",
      "            0.74051,     0.74051,     0.74051,     0.74051,     0.74051,     0.74051,     0.74051,     0.74051,     0.74051,     0.74051,     0.74051,     0.74051,     0.74051,     0.74051,     0.74051,     0.74051,     0.74051,     0.74051,     0.74051,     0.74051,     0.74051,     0.74051,     0.74051,\n",
      "            0.74051,     0.74051,     0.74051,     0.74051,     0.74051,     0.74051,     0.74051,     0.74051,     0.74051,     0.74051,     0.74051,     0.74051,     0.74051,     0.74051,     0.74051,     0.74051,     0.74051,     0.74051,     0.74051,     0.74051,     0.74051,     0.74051,     0.74051,\n",
      "            0.74051,     0.74051,     0.74051,     0.74051,     0.74051,     0.74051,     0.74051,     0.74051,     0.74051,     0.74051,     0.74051,     0.74051,     0.74051,     0.74051,     0.74051,     0.74051,     0.74051,     0.74051,     0.74051,     0.74051,     0.74051,     0.74051,     0.74051,\n",
      "            0.74051,     0.74051,     0.74051,     0.74051,     0.74051,     0.74051,     0.74051,     0.74051,     0.74051,     0.74051,     0.74051,     0.74051,     0.74051,     0.74051,     0.74051,     0.74051,     0.74051,     0.74051,     0.74051,     0.74051,     0.74051,     0.74051,     0.74051,\n",
      "            0.74051,     0.74051,     0.74051,     0.74051,     0.74051,     0.74051,     0.74051,     0.74051,     0.74051,     0.74051,     0.74051,     0.74004,     0.73942,     0.73879,     0.73817,     0.73755,     0.73692,      0.7363,     0.73568,     0.73505,     0.73443,     0.73418,     0.73418,\n",
      "            0.73418,     0.73418,     0.73418,     0.73363,     0.73156,     0.72949,      0.7235,     0.72152,     0.72152,     0.72152,     0.72152,     0.72152,     0.72152,     0.72012,     0.71854,     0.71696,     0.71539,     0.71519,     0.71519,     0.71519,     0.71519,     0.71519,     0.71519,\n",
      "            0.71519,     0.71519,     0.71519,     0.71519,     0.71519,     0.71519,     0.71519,     0.71519,     0.71519,     0.71519,     0.71519,     0.71519,     0.71519,     0.71519,     0.71519,     0.71519,     0.71519,     0.71519,     0.71519,     0.71519,     0.71519,     0.71519,     0.71519,\n",
      "            0.71519,     0.71519,     0.71519,     0.71519,     0.71519,     0.71519,     0.71519,     0.71519,     0.71519,     0.71519,     0.71519,     0.71519,     0.71519,     0.71519,     0.71519,     0.71519,     0.71519,     0.71519,     0.71519,     0.71519,     0.71519,     0.71519,     0.71519,\n",
      "            0.71519,     0.71519,     0.71519,     0.71519,     0.71519,     0.71519,     0.71519,     0.71519,     0.71519,     0.71519,     0.71519,     0.71519,     0.71519,     0.71519,     0.71519,     0.71374,     0.70956,     0.70886,     0.70886,     0.70886,     0.70886,     0.70833,     0.70765,\n",
      "            0.70697,     0.70629,     0.70561,     0.70493,     0.70425,     0.70357,     0.70289,       0.697,      0.6962,      0.6962,      0.6962,      0.6962,     0.69532,     0.69399,     0.69265,     0.69132,     0.68999,     0.68987,     0.68987,     0.68354,     0.68354,     0.68354,     0.68354,\n",
      "            0.68354,     0.68354,     0.68234,      0.6805,     0.67866,     0.67722,     0.67722,     0.67722,     0.67722,     0.67722,     0.67722,     0.67722,     0.67722,     0.67722,     0.67722,     0.67722,     0.67722,     0.67722,     0.67722,     0.67722,     0.67722,     0.67641,     0.67134,\n",
      "            0.67089,     0.67089,     0.67089,     0.67089,     0.67089,     0.67089,     0.67089,     0.67089,     0.67089,     0.67089,     0.67089,     0.67089,     0.67089,     0.67089,     0.67089,     0.67089,     0.67089,     0.67089,     0.67089,     0.67089,     0.67089,     0.67089,     0.67089,\n",
      "            0.67089,     0.67089,     0.67089,     0.67089,     0.67089,     0.67089,     0.66368,     0.65916,     0.65823,     0.65823,     0.65823,     0.65823,     0.65823,      0.6519,      0.6519,      0.6519,      0.6519,      0.6519,      0.6519,      0.6519,      0.6519,      0.6519,      0.6519,\n",
      "             0.6519,      0.6519,      0.6519,      0.6519,     0.64787,     0.64519,     0.64479,     0.64439,       0.644,      0.6436,      0.6432,     0.64281,     0.64241,     0.64201,     0.64161,     0.64122,     0.64082,     0.64042,     0.64002,     0.63963,      0.6392,     0.63763,     0.63605,\n",
      "            0.63448,     0.63291,     0.63291,     0.63291,     0.63291,     0.63291,     0.63291,     0.63291,     0.63291,     0.63291,     0.63291,     0.63291,     0.63291,     0.63291,     0.63291,     0.63291,     0.63291,     0.63226,     0.63114,     0.63002,      0.6289,     0.62777,     0.62665,\n",
      "            0.62658,     0.62654,     0.62502,      0.6235,     0.62198,     0.62046,     0.61903,     0.61761,     0.61619,     0.61477,     0.61392,     0.61392,     0.61392,      0.6136,     0.61312,     0.61264,     0.61216,     0.61168,      0.6112,     0.61072,     0.61024,     0.60976,     0.60928,\n",
      "             0.6088,     0.60832,     0.60784,     0.60511,     0.60127,     0.60127,     0.60127,     0.60127,     0.60127,     0.60127,     0.60127,     0.60127,     0.60127,     0.60127,     0.59628,     0.59459,     0.59414,      0.5937,     0.59325,      0.5928,     0.59235,      0.5919,     0.59145,\n",
      "            0.59101,     0.59056,     0.59011,     0.58966,     0.58921,     0.58877,     0.58861,     0.58822,     0.58599,     0.58376,     0.58228,     0.58228,     0.58228,     0.58228,     0.58228,     0.58228,     0.58228,     0.58214,      0.5793,     0.57647,     0.57595,     0.57595,     0.57595,\n",
      "            0.57595,     0.57595,     0.57595,     0.57595,     0.57467,     0.57223,      0.5698,     0.56264,     0.55954,     0.55569,     0.54962,     0.54657,      0.5441,      0.5433,      0.5425,     0.54171,     0.54091,     0.54011,     0.53932,     0.53852,      0.5378,     0.53726,     0.53672,\n",
      "            0.53618,     0.53564,     0.53509,     0.53455,     0.53401,     0.53347,     0.53293,     0.53239,     0.53185,     0.53121,     0.53052,     0.52983,     0.52914,     0.52845,     0.52776,     0.52707,     0.52638,     0.52569,     0.52532,     0.52532,     0.52532,      0.5148,     0.51214,\n",
      "            0.51124,     0.51034,     0.50944,     0.50854,     0.50764,     0.50674,     0.49913,     0.49745,     0.49578,      0.4941,     0.49367,     0.49367,      0.4916,     0.48792,     0.48434,     0.48101,     0.48101,     0.48101,     0.48101,     0.48101,     0.48101,     0.48059,     0.47608,\n",
      "            0.47247,     0.46926,     0.46485,     0.46036,     0.45604,     0.45141,     0.44829,     0.44638,     0.44446,     0.44281,     0.44191,       0.441,      0.4401,      0.4392,      0.4383,      0.4374,     0.43268,     0.42276,     0.41053,      0.4085,     0.40646,     0.39873,     0.39189,\n",
      "            0.38535,     0.38407,     0.38278,      0.3815,     0.38021,     0.37975,     0.37975,     0.37918,     0.37244,     0.37085,     0.36925,     0.36766,     0.36327,     0.35903,     0.35604,     0.34735,     0.34555,     0.34374,     0.34193,     0.33009,     0.32431,     0.31777,     0.31573,\n",
      "            0.31485,     0.31397,     0.31308,      0.3122,     0.31132,     0.31044,     0.30637,     0.30021,     0.29403,     0.28891,     0.28467,     0.28141,     0.27784,     0.27215,     0.27215,     0.27215,     0.26591,     0.25316,     0.24464,     0.24107,     0.23929,     0.23784,     0.23639,\n",
      "            0.23495,     0.23039,     0.22546,     0.22197,     0.21727,      0.2105,     0.20213,     0.19984,     0.19755,     0.19432,     0.18978,     0.18644,     0.18305,     0.17929,     0.16906,     0.15783,     0.15697,     0.15611,     0.15525,      0.1544,     0.15354,     0.15268,     0.15082,\n",
      "            0.14402,      0.1413,     0.13264,     0.12851,     0.12658,     0.12658,     0.12658,     0.12658,     0.12658,     0.12389,      0.1193,     0.11591,     0.11339,     0.11208,     0.11078,     0.10948,     0.10818,     0.10099,     0.10036,     0.09972,    0.099084,    0.098449,    0.097813,\n",
      "           0.097177,    0.096542,    0.095906,     0.09527,    0.091534,     0.08484,    0.080148,    0.076585,    0.070267,    0.068108,    0.066439,    0.064771,    0.062256,    0.054638,    0.048782,    0.043848,     0.04249,    0.041132,    0.039775,    0.038417,    0.037363,    0.036457,     0.03555,\n",
      "           0.034644,    0.033737,     0.03283,    0.031924,    0.030727,    0.029401,    0.028076,     0.02675,    0.025425,    0.023101,    0.020688,    0.018842,     0.01835,    0.017858,    0.017366,    0.016874,    0.016382,    0.015891,    0.015399,    0.014907,    0.014415,    0.013923,    0.013431,\n",
      "           0.012939,    0.012528,    0.012225,    0.011922,    0.011619,    0.011315,    0.011012,    0.010709,    0.010406,    0.010103,   0.0097997,   0.0094965,   0.0091934,   0.0088902,   0.0085871,   0.0082839,   0.0079807,   0.0076776,   0.0073744,   0.0070713,   0.0067681,    0.006465,           0,\n",
      "                  0,           0,           0,           0,           0,           0,           0,           0,           0,           0,           0,           0,           0,           0,           0,           0,           0,           0,           0,           0,           0,           0,           0,\n",
      "                  0,           0,           0,           0,           0,           0,           0,           0,           0,           0,           0,           0,           0,           0,           0,           0,           0,           0,           0,           0,           0,           0,           0,\n",
      "                  0,           0,           0,           0,           0,           0,           0,           0,           0,           0,           0,           0,           0,           0,           0,           0,           0,           0,           0,           0,           0,           0,           0,\n",
      "                  0,           0,           0,           0,           0,           0,           0,           0,           0,           0,           0,           0,           0,           0,           0,           0,           0,           0,           0,           0,           0,           0,           0,\n",
      "                  0,           0,           0,           0,           0,           0,           0,           0,           0,           0,           0,           0,           0,           0,           0,           0,           0,           0,           0,           0,           0,           0,           0,\n",
      "                  0,           0,           0,           0,           0,           0,           0,           0,           0,           0,           0]]), 'Confidence', 'Recall']]\n",
      "fitness: 0.40033263580813905\n",
      "keys: ['metrics/precision(B)', 'metrics/recall(B)', 'metrics/mAP50(B)', 'metrics/mAP50-95(B)']\n",
      "maps: array([    0.36537])\n",
      "names: {0: 'bird'}\n",
      "plot: True\n",
      "results_dict: {'metrics/precision(B)': 0.8084757813466015, 'metrics/recall(B)': 0.6412166551184, 'metrics/mAP50(B)': 0.7150292931455695, 'metrics/mAP50-95(B)': 0.36536634054842454, 'fitness': 0.40033263580813905}\n",
      "save_dir: PosixPath('runs/detect/val3')\n",
      "speed: {'preprocess': 2.1447176260361522, 'inference': 42.14024671693883, 'loss': 0.0035336223958824086, 'postprocess': 3.6308436522892635}\n",
      "task: 'detect'\n"
     ]
    }
   ],
   "source": [
    "# Load best or last checkpoint\n",
    "model = YOLO(\"runs/detect/train10/weights/best.pt\")\n",
    "# Evaluate on the test split defined in test.yaml\n",
    "metrics = model.val(data=yolo_data, imgsz=1280, save=True,split='test')\n",
    "print(metrics)"
   ]
  },
  {
   "cell_type": "code",
   "execution_count": 10,
   "metadata": {
    "colab": {
     "base_uri": "https://localhost:8080/"
    },
    "executionInfo": {
     "elapsed": 21087,
     "status": "ok",
     "timestamp": 1746645193243,
     "user": {
      "displayName": "Eugen Falca",
      "userId": "06470857081734833614"
     },
     "user_tz": -120
    },
    "id": "WZkErlDqPR23",
    "outputId": "0f1bd0ec-7cc6-4a6d-8bb2-4b1c9fd3a101"
   },
   "outputs": [
    {
     "name": "stdout",
     "output_type": "stream",
     "text": [
      "Ultralytics 8.3.128 🚀 Python-3.11.12 torch-2.6.0+cu124 CUDA:0 (Tesla T4, 15095MiB)\n",
      "YOLO11l summary (fused): 190 layers, 25,280,083 parameters, 0 gradients, 86.6 GFLOPs\n",
      "\u001b[34m\u001b[1mval: \u001b[0mFast image access ✅ (ping: 0.6±0.1 ms, read: 643.0±170.1 MB/s, size: 8999.2 KB)\n"
     ]
    },
    {
     "name": "stderr",
     "output_type": "stream",
     "text": [
      "\u001b[34m\u001b[1mval: \u001b[0mScanning /content/drive/.shortcut-targets-by-id/1ul61U35aG3KhMRm83t3YVDwsRzb7rDsy/JADS group assignments Semester 2/Deep Learning - Group Assignment/dev/data/data_yolo_format/test/labels.cache... 31 images, 2 backgrounds, 0 corrupt: 100%|██████████| 31/31 [00:00<?, ?it/s]\n",
      "                 Class     Images  Instances      Box(P          R      mAP50  mAP50-95): 100%|██████████| 2/2 [00:11<00:00,  5.69s/it]\n"
     ]
    },
    {
     "name": "stdout",
     "output_type": "stream",
     "text": [
      "                   all         31        174      0.803      0.632      0.686      0.304\n",
      "Speed: 12.4ms preprocess, 79.8ms inference, 0.0ms loss, 2.6ms postprocess per image\n",
      "Results saved to \u001b[1mruns/detect/val3\u001b[0m\n",
      "ultralytics.utils.metrics.DetMetrics object with attributes:\n",
      "\n",
      "ap_class_index: array([0])\n",
      "box: ultralytics.utils.metrics.Metric object\n",
      "confusion_matrix: <ultralytics.utils.metrics.ConfusionMatrix object at 0x7f723a48c150>\n",
      "curves: ['Precision-Recall(B)', 'F1-Confidence(B)', 'Precision-Confidence(B)', 'Recall-Confidence(B)']\n",
      "curves_results: [[array([          0,    0.001001,    0.002002,    0.003003,    0.004004,    0.005005,    0.006006,    0.007007,    0.008008,    0.009009,     0.01001,    0.011011,    0.012012,    0.013013,    0.014014,    0.015015,    0.016016,    0.017017,    0.018018,    0.019019,     0.02002,    0.021021,    0.022022,    0.023023,\n",
      "          0.024024,    0.025025,    0.026026,    0.027027,    0.028028,    0.029029,     0.03003,    0.031031,    0.032032,    0.033033,    0.034034,    0.035035,    0.036036,    0.037037,    0.038038,    0.039039,     0.04004,    0.041041,    0.042042,    0.043043,    0.044044,    0.045045,    0.046046,    0.047047,\n",
      "          0.048048,    0.049049,     0.05005,    0.051051,    0.052052,    0.053053,    0.054054,    0.055055,    0.056056,    0.057057,    0.058058,    0.059059,     0.06006,    0.061061,    0.062062,    0.063063,    0.064064,    0.065065,    0.066066,    0.067067,    0.068068,    0.069069,     0.07007,    0.071071,\n",
      "          0.072072,    0.073073,    0.074074,    0.075075,    0.076076,    0.077077,    0.078078,    0.079079,     0.08008,    0.081081,    0.082082,    0.083083,    0.084084,    0.085085,    0.086086,    0.087087,    0.088088,    0.089089,     0.09009,    0.091091,    0.092092,    0.093093,    0.094094,    0.095095,\n",
      "          0.096096,    0.097097,    0.098098,    0.099099,      0.1001,      0.1011,      0.1021,      0.1031,      0.1041,     0.10511,     0.10611,     0.10711,     0.10811,     0.10911,     0.11011,     0.11111,     0.11211,     0.11311,     0.11411,     0.11512,     0.11612,     0.11712,     0.11812,     0.11912,\n",
      "           0.12012,     0.12112,     0.12212,     0.12312,     0.12412,     0.12513,     0.12613,     0.12713,     0.12813,     0.12913,     0.13013,     0.13113,     0.13213,     0.13313,     0.13413,     0.13514,     0.13614,     0.13714,     0.13814,     0.13914,     0.14014,     0.14114,     0.14214,     0.14314,\n",
      "           0.14414,     0.14515,     0.14615,     0.14715,     0.14815,     0.14915,     0.15015,     0.15115,     0.15215,     0.15315,     0.15415,     0.15516,     0.15616,     0.15716,     0.15816,     0.15916,     0.16016,     0.16116,     0.16216,     0.16316,     0.16416,     0.16517,     0.16617,     0.16717,\n",
      "           0.16817,     0.16917,     0.17017,     0.17117,     0.17217,     0.17317,     0.17417,     0.17518,     0.17618,     0.17718,     0.17818,     0.17918,     0.18018,     0.18118,     0.18218,     0.18318,     0.18418,     0.18519,     0.18619,     0.18719,     0.18819,     0.18919,     0.19019,     0.19119,\n",
      "           0.19219,     0.19319,     0.19419,      0.1952,      0.1962,      0.1972,      0.1982,      0.1992,      0.2002,      0.2012,      0.2022,      0.2032,      0.2042,     0.20521,     0.20621,     0.20721,     0.20821,     0.20921,     0.21021,     0.21121,     0.21221,     0.21321,     0.21421,     0.21522,\n",
      "           0.21622,     0.21722,     0.21822,     0.21922,     0.22022,     0.22122,     0.22222,     0.22322,     0.22422,     0.22523,     0.22623,     0.22723,     0.22823,     0.22923,     0.23023,     0.23123,     0.23223,     0.23323,     0.23423,     0.23524,     0.23624,     0.23724,     0.23824,     0.23924,\n",
      "           0.24024,     0.24124,     0.24224,     0.24324,     0.24424,     0.24525,     0.24625,     0.24725,     0.24825,     0.24925,     0.25025,     0.25125,     0.25225,     0.25325,     0.25425,     0.25526,     0.25626,     0.25726,     0.25826,     0.25926,     0.26026,     0.26126,     0.26226,     0.26326,\n",
      "           0.26426,     0.26527,     0.26627,     0.26727,     0.26827,     0.26927,     0.27027,     0.27127,     0.27227,     0.27327,     0.27427,     0.27528,     0.27628,     0.27728,     0.27828,     0.27928,     0.28028,     0.28128,     0.28228,     0.28328,     0.28428,     0.28529,     0.28629,     0.28729,\n",
      "           0.28829,     0.28929,     0.29029,     0.29129,     0.29229,     0.29329,     0.29429,      0.2953,      0.2963,      0.2973,      0.2983,      0.2993,      0.3003,      0.3013,      0.3023,      0.3033,      0.3043,     0.30531,     0.30631,     0.30731,     0.30831,     0.30931,     0.31031,     0.31131,\n",
      "           0.31231,     0.31331,     0.31431,     0.31532,     0.31632,     0.31732,     0.31832,     0.31932,     0.32032,     0.32132,     0.32232,     0.32332,     0.32432,     0.32533,     0.32633,     0.32733,     0.32833,     0.32933,     0.33033,     0.33133,     0.33233,     0.33333,     0.33433,     0.33534,\n",
      "           0.33634,     0.33734,     0.33834,     0.33934,     0.34034,     0.34134,     0.34234,     0.34334,     0.34434,     0.34535,     0.34635,     0.34735,     0.34835,     0.34935,     0.35035,     0.35135,     0.35235,     0.35335,     0.35435,     0.35536,     0.35636,     0.35736,     0.35836,     0.35936,\n",
      "           0.36036,     0.36136,     0.36236,     0.36336,     0.36436,     0.36537,     0.36637,     0.36737,     0.36837,     0.36937,     0.37037,     0.37137,     0.37237,     0.37337,     0.37437,     0.37538,     0.37638,     0.37738,     0.37838,     0.37938,     0.38038,     0.38138,     0.38238,     0.38338,\n",
      "           0.38438,     0.38539,     0.38639,     0.38739,     0.38839,     0.38939,     0.39039,     0.39139,     0.39239,     0.39339,     0.39439,      0.3954,      0.3964,      0.3974,      0.3984,      0.3994,      0.4004,      0.4014,      0.4024,      0.4034,      0.4044,     0.40541,     0.40641,     0.40741,\n",
      "           0.40841,     0.40941,     0.41041,     0.41141,     0.41241,     0.41341,     0.41441,     0.41542,     0.41642,     0.41742,     0.41842,     0.41942,     0.42042,     0.42142,     0.42242,     0.42342,     0.42442,     0.42543,     0.42643,     0.42743,     0.42843,     0.42943,     0.43043,     0.43143,\n",
      "           0.43243,     0.43343,     0.43443,     0.43544,     0.43644,     0.43744,     0.43844,     0.43944,     0.44044,     0.44144,     0.44244,     0.44344,     0.44444,     0.44545,     0.44645,     0.44745,     0.44845,     0.44945,     0.45045,     0.45145,     0.45245,     0.45345,     0.45445,     0.45546,\n",
      "           0.45646,     0.45746,     0.45846,     0.45946,     0.46046,     0.46146,     0.46246,     0.46346,     0.46446,     0.46547,     0.46647,     0.46747,     0.46847,     0.46947,     0.47047,     0.47147,     0.47247,     0.47347,     0.47447,     0.47548,     0.47648,     0.47748,     0.47848,     0.47948,\n",
      "           0.48048,     0.48148,     0.48248,     0.48348,     0.48448,     0.48549,     0.48649,     0.48749,     0.48849,     0.48949,     0.49049,     0.49149,     0.49249,     0.49349,     0.49449,      0.4955,      0.4965,      0.4975,      0.4985,      0.4995,      0.5005,      0.5015,      0.5025,      0.5035,\n",
      "            0.5045,     0.50551,     0.50651,     0.50751,     0.50851,     0.50951,     0.51051,     0.51151,     0.51251,     0.51351,     0.51451,     0.51552,     0.51652,     0.51752,     0.51852,     0.51952,     0.52052,     0.52152,     0.52252,     0.52352,     0.52452,     0.52553,     0.52653,     0.52753,\n",
      "           0.52853,     0.52953,     0.53053,     0.53153,     0.53253,     0.53353,     0.53453,     0.53554,     0.53654,     0.53754,     0.53854,     0.53954,     0.54054,     0.54154,     0.54254,     0.54354,     0.54454,     0.54555,     0.54655,     0.54755,     0.54855,     0.54955,     0.55055,     0.55155,\n",
      "           0.55255,     0.55355,     0.55455,     0.55556,     0.55656,     0.55756,     0.55856,     0.55956,     0.56056,     0.56156,     0.56256,     0.56356,     0.56456,     0.56557,     0.56657,     0.56757,     0.56857,     0.56957,     0.57057,     0.57157,     0.57257,     0.57357,     0.57457,     0.57558,\n",
      "           0.57658,     0.57758,     0.57858,     0.57958,     0.58058,     0.58158,     0.58258,     0.58358,     0.58458,     0.58559,     0.58659,     0.58759,     0.58859,     0.58959,     0.59059,     0.59159,     0.59259,     0.59359,     0.59459,      0.5956,      0.5966,      0.5976,      0.5986,      0.5996,\n",
      "            0.6006,      0.6016,      0.6026,      0.6036,      0.6046,     0.60561,     0.60661,     0.60761,     0.60861,     0.60961,     0.61061,     0.61161,     0.61261,     0.61361,     0.61461,     0.61562,     0.61662,     0.61762,     0.61862,     0.61962,     0.62062,     0.62162,     0.62262,     0.62362,\n",
      "           0.62462,     0.62563,     0.62663,     0.62763,     0.62863,     0.62963,     0.63063,     0.63163,     0.63263,     0.63363,     0.63463,     0.63564,     0.63664,     0.63764,     0.63864,     0.63964,     0.64064,     0.64164,     0.64264,     0.64364,     0.64464,     0.64565,     0.64665,     0.64765,\n",
      "           0.64865,     0.64965,     0.65065,     0.65165,     0.65265,     0.65365,     0.65465,     0.65566,     0.65666,     0.65766,     0.65866,     0.65966,     0.66066,     0.66166,     0.66266,     0.66366,     0.66466,     0.66567,     0.66667,     0.66767,     0.66867,     0.66967,     0.67067,     0.67167,\n",
      "           0.67267,     0.67367,     0.67467,     0.67568,     0.67668,     0.67768,     0.67868,     0.67968,     0.68068,     0.68168,     0.68268,     0.68368,     0.68468,     0.68569,     0.68669,     0.68769,     0.68869,     0.68969,     0.69069,     0.69169,     0.69269,     0.69369,     0.69469,      0.6957,\n",
      "            0.6967,      0.6977,      0.6987,      0.6997,      0.7007,      0.7017,      0.7027,      0.7037,      0.7047,     0.70571,     0.70671,     0.70771,     0.70871,     0.70971,     0.71071,     0.71171,     0.71271,     0.71371,     0.71471,     0.71572,     0.71672,     0.71772,     0.71872,     0.71972,\n",
      "           0.72072,     0.72172,     0.72272,     0.72372,     0.72472,     0.72573,     0.72673,     0.72773,     0.72873,     0.72973,     0.73073,     0.73173,     0.73273,     0.73373,     0.73473,     0.73574,     0.73674,     0.73774,     0.73874,     0.73974,     0.74074,     0.74174,     0.74274,     0.74374,\n",
      "           0.74474,     0.74575,     0.74675,     0.74775,     0.74875,     0.74975,     0.75075,     0.75175,     0.75275,     0.75375,     0.75475,     0.75576,     0.75676,     0.75776,     0.75876,     0.75976,     0.76076,     0.76176,     0.76276,     0.76376,     0.76476,     0.76577,     0.76677,     0.76777,\n",
      "           0.76877,     0.76977,     0.77077,     0.77177,     0.77277,     0.77377,     0.77477,     0.77578,     0.77678,     0.77778,     0.77878,     0.77978,     0.78078,     0.78178,     0.78278,     0.78378,     0.78478,     0.78579,     0.78679,     0.78779,     0.78879,     0.78979,     0.79079,     0.79179,\n",
      "           0.79279,     0.79379,     0.79479,      0.7958,      0.7968,      0.7978,      0.7988,      0.7998,      0.8008,      0.8018,      0.8028,      0.8038,      0.8048,     0.80581,     0.80681,     0.80781,     0.80881,     0.80981,     0.81081,     0.81181,     0.81281,     0.81381,     0.81481,     0.81582,\n",
      "           0.81682,     0.81782,     0.81882,     0.81982,     0.82082,     0.82182,     0.82282,     0.82382,     0.82482,     0.82583,     0.82683,     0.82783,     0.82883,     0.82983,     0.83083,     0.83183,     0.83283,     0.83383,     0.83483,     0.83584,     0.83684,     0.83784,     0.83884,     0.83984,\n",
      "           0.84084,     0.84184,     0.84284,     0.84384,     0.84484,     0.84585,     0.84685,     0.84785,     0.84885,     0.84985,     0.85085,     0.85185,     0.85285,     0.85385,     0.85485,     0.85586,     0.85686,     0.85786,     0.85886,     0.85986,     0.86086,     0.86186,     0.86286,     0.86386,\n",
      "           0.86486,     0.86587,     0.86687,     0.86787,     0.86887,     0.86987,     0.87087,     0.87187,     0.87287,     0.87387,     0.87487,     0.87588,     0.87688,     0.87788,     0.87888,     0.87988,     0.88088,     0.88188,     0.88288,     0.88388,     0.88488,     0.88589,     0.88689,     0.88789,\n",
      "           0.88889,     0.88989,     0.89089,     0.89189,     0.89289,     0.89389,     0.89489,      0.8959,      0.8969,      0.8979,      0.8989,      0.8999,      0.9009,      0.9019,      0.9029,      0.9039,      0.9049,     0.90591,     0.90691,     0.90791,     0.90891,     0.90991,     0.91091,     0.91191,\n",
      "           0.91291,     0.91391,     0.91491,     0.91592,     0.91692,     0.91792,     0.91892,     0.91992,     0.92092,     0.92192,     0.92292,     0.92392,     0.92492,     0.92593,     0.92693,     0.92793,     0.92893,     0.92993,     0.93093,     0.93193,     0.93293,     0.93393,     0.93493,     0.93594,\n",
      "           0.93694,     0.93794,     0.93894,     0.93994,     0.94094,     0.94194,     0.94294,     0.94394,     0.94494,     0.94595,     0.94695,     0.94795,     0.94895,     0.94995,     0.95095,     0.95195,     0.95295,     0.95395,     0.95495,     0.95596,     0.95696,     0.95796,     0.95896,     0.95996,\n",
      "           0.96096,     0.96196,     0.96296,     0.96396,     0.96496,     0.96597,     0.96697,     0.96797,     0.96897,     0.96997,     0.97097,     0.97197,     0.97297,     0.97397,     0.97497,     0.97598,     0.97698,     0.97798,     0.97898,     0.97998,     0.98098,     0.98198,     0.98298,     0.98398,\n",
      "           0.98498,     0.98599,     0.98699,     0.98799,     0.98899,     0.98999,     0.99099,     0.99199,     0.99299,     0.99399,     0.99499,       0.996,       0.997,       0.998,       0.999,           1]), array([[          1,           1,           1,           1,           1,           1,           1,           1,           1,           1,           1,           1,           1,           1,           1,           1,           1,           1,           1,           1,           1,           1,           1,\n",
      "                  1,           1,           1,           1,           1,           1,           1,           1,           1,           1,           1,           1,           1,           1,           1,           1,           1,           1,           1,           1,           1,           1,           1,\n",
      "                  1,           1,           1,           1,           1,           1,           1,           1,           1,           1,           1,           1,           1,           1,           1,           1,           1,           1,           1,           1,           1,           1,           1,\n",
      "                  1,           1,           1,           1,           1,           1,           1,           1,           1,           1,           1,           1,           1,           1,           1,           1,           1,           1,           1,           1,           1,           1,           1,\n",
      "                  1,           1,           1,           1,           1,           1,           1,           1,           1,           1,           1,           1,           1,           1,           1,           1,           1,           1,           1,           1,           1,           1,           1,\n",
      "                  1,           1,           1,           1,           1,           1,           1,           1,           1,           1,           1,           1,           1,           1,           1,           1,           1,           1,           1,           1,           1,           1,           1,\n",
      "                  1,           1,           1,           1,           1,           1,           1,           1,           1,           1,           1,           1,           1,           1,           1,           1,           1,           1,           1,           1,           1,           1,           1,\n",
      "                  1,           1,           1,           1,           1,           1,           1,           1,           1,           1,           1,           1,           1,           1,           1,           1,           1,           1,           1,           1,           1,           1,           1,\n",
      "                  1,           1,           1,           1,           1,           1,           1,           1,           1,           1,           1,           1,           1,           1,           1,           1,           1,           1,           1,           1,           1,           1,           1,\n",
      "                  1,           1,           1,           1,           1,           1,           1,           1,           1,           1,           1,           1,           1,           1,           1,           1,           1,           1,           1,           1,           1,           1,           1,\n",
      "                  1,           1,           1,           1,           1,           1,           1,           1,           1,           1,           1,           1,     0.97872,     0.97872,     0.97872,     0.97872,     0.97872,     0.97872,     0.97872,     0.97872,     0.97872,     0.97872,     0.97872,\n",
      "            0.97872,     0.97872,     0.97872,     0.97872,     0.97872,     0.97872,     0.97872,     0.97872,     0.97872,     0.97872,     0.97872,     0.97872,     0.96078,     0.96078,     0.96078,     0.96078,     0.96078,     0.96078,     0.96078,     0.96078,     0.96078,     0.96078,     0.96078,\n",
      "            0.96078,     0.96078,     0.96078,     0.96078,     0.96078,     0.96078,     0.94545,     0.94545,     0.94545,     0.94545,     0.94545,     0.94545,     0.94545,     0.94545,     0.94545,     0.94545,     0.94545,     0.94545,     0.94545,     0.94545,     0.94545,     0.94545,     0.94545,\n",
      "             0.9322,      0.9322,      0.9322,      0.9322,      0.9322,      0.9322,      0.9322,      0.9322,      0.9322,      0.9322,      0.9322,      0.9322,      0.9322,      0.9322,      0.9322,      0.9322,      0.9322,     0.92424,     0.92424,     0.92424,     0.92424,     0.92424,     0.92424,\n",
      "            0.92424,     0.92424,     0.92424,     0.92424,     0.92424,     0.92424,     0.92424,     0.92424,     0.92424,     0.92424,     0.92424,     0.92424,     0.92424,     0.92424,     0.92424,     0.92424,     0.92424,     0.92424,     0.92424,     0.92424,     0.92424,     0.92424,     0.92424,\n",
      "            0.92424,     0.92424,     0.92424,     0.92424,     0.92424,     0.92424,     0.91781,     0.91781,     0.91781,     0.91781,     0.91781,     0.91781,     0.91781,     0.91781,     0.91781,     0.91781,     0.91781,     0.91781,     0.91781,     0.91781,     0.91781,     0.91781,     0.91781,\n",
      "            0.91781,     0.91781,     0.91781,     0.91781,     0.91781,     0.91781,     0.91781,     0.91781,     0.91781,     0.91781,     0.91781,     0.91781,     0.91781,     0.91781,     0.91781,     0.91781,     0.91781,     0.91765,     0.91765,     0.91765,     0.91765,     0.91765,     0.91765,\n",
      "            0.91765,     0.91765,     0.91765,     0.91765,     0.91765,     0.91765,     0.91765,     0.91765,     0.91765,     0.91765,     0.91765,     0.91765,     0.91765,     0.91765,     0.91765,     0.91765,     0.91765,     0.91765,     0.91765,     0.91765,     0.91765,     0.91765,     0.91765,\n",
      "            0.91765,     0.91765,     0.91765,     0.91765,     0.91765,     0.91765,     0.91765,     0.91765,     0.91765,     0.91765,     0.91765,     0.91765,     0.91765,     0.91765,     0.91765,     0.91765,     0.91765,     0.91765,     0.91765,     0.91765,     0.91765,     0.91765,     0.91765,\n",
      "            0.91765,     0.91765,     0.91765,     0.91765,     0.91765,     0.91765,     0.91765,     0.91765,     0.91765,     0.91765,     0.91765,     0.91304,     0.91304,     0.91304,     0.91304,     0.91304,     0.91304,     0.91304,     0.91304,     0.91304,     0.91304,     0.91304,     0.91304,\n",
      "            0.91304,     0.91304,     0.91304,     0.91304,     0.91304,     0.91304,     0.91304,     0.91304,     0.91304,     0.91304,     0.91304,     0.91304,     0.91304,     0.91304,     0.91304,     0.91304,     0.91304,     0.91304,     0.91304,     0.91304,     0.91304,     0.91304,     0.91304,\n",
      "            0.90526,     0.90526,     0.90526,     0.90526,     0.90526,     0.90526,     0.90526,     0.90526,     0.90526,     0.90526,     0.90526,     0.89899,     0.89899,     0.89899,     0.89899,     0.89899,     0.89899,     0.89899,     0.89899,     0.89899,     0.89899,     0.89899,     0.89899,\n",
      "            0.89899,     0.89899,     0.89899,     0.89899,     0.89899,     0.87619,     0.87619,     0.87619,     0.87619,     0.87619,     0.87619,     0.87619,     0.87619,     0.87619,     0.87619,     0.87619,     0.87619,     0.87619,     0.87619,     0.87619,     0.87619,     0.87619,     0.87619,\n",
      "            0.87037,     0.87037,     0.87037,     0.87037,     0.87037,     0.87037,     0.87037,     0.87037,     0.87037,     0.87037,     0.87037,     0.86607,     0.86607,     0.86607,     0.86607,     0.86607,     0.86607,     0.86607,     0.86607,     0.86607,     0.86607,     0.86607,     0.86607,\n",
      "            0.86607,     0.86607,     0.86607,     0.86607,     0.86607,     0.85965,     0.85965,     0.85965,     0.85965,     0.85965,     0.85965,     0.84426,     0.84426,     0.84426,     0.84426,     0.84426,     0.84426,     0.84426,     0.84426,     0.84426,     0.84426,     0.84426,     0.84426,\n",
      "            0.84426,     0.84426,     0.84426,     0.84426,     0.84426,     0.84426,     0.84426,     0.84426,     0.84426,     0.84426,     0.84426,     0.84426,     0.84426,     0.84426,     0.84426,     0.84426,     0.84426,        0.84,        0.84,        0.84,        0.84,        0.84,        0.84,\n",
      "               0.84,        0.84,        0.84,        0.84,        0.84,     0.81538,     0.81538,     0.81538,     0.81538,     0.81538,     0.81538,     0.80597,     0.80597,     0.80597,     0.80597,     0.80597,     0.80597,     0.80597,     0.80597,     0.80597,     0.80597,     0.80597,     0.80597,\n",
      "            0.80576,     0.80576,     0.80576,     0.80576,     0.80576,     0.80576,     0.80576,     0.80576,     0.80576,     0.80576,     0.80576,     0.80576,     0.80576,     0.80576,     0.80576,     0.80576,     0.80576,     0.80576,     0.80576,     0.80576,     0.80576,     0.80576,     0.80576,\n",
      "            0.79577,     0.79577,     0.79577,     0.79577,     0.79577,     0.77027,     0.77027,     0.77027,     0.77027,     0.77027,     0.77027,     0.71875,     0.71875,     0.71875,     0.71875,     0.71875,     0.71875,     0.71605,     0.71605,     0.71605,     0.71605,     0.71605,     0.69412,\n",
      "            0.69412,     0.69412,     0.69412,     0.69412,     0.69412,     0.69412,     0.69412,     0.69412,     0.69412,     0.69412,     0.69412,     0.68391,     0.68391,     0.68391,     0.68391,     0.68391,     0.68391,     0.68182,     0.68182,     0.68182,     0.68182,     0.68182,     0.67978,\n",
      "            0.67978,     0.67978,     0.67978,     0.67978,     0.67978,     0.66486,     0.66486,     0.66486,     0.66486,     0.66486,     0.66486,     0.66486,     0.66486,     0.66486,     0.66486,     0.66486,     0.66486,     0.58216,     0.58216,     0.58216,     0.58216,     0.58216,     0.50813,\n",
      "            0.50813,     0.50813,     0.50813,     0.50813,     0.50813,     0.45652,     0.45652,     0.45652,     0.45652,     0.45652,     0.45652,     0.42053,     0.42053,     0.42053,     0.42053,     0.42053,     0.42053,     0.36571,     0.36571,     0.36571,     0.36571,     0.36571,     0.35246,\n",
      "            0.35246,     0.35246,     0.35246,     0.35246,     0.35246,     0.30806,     0.30806,     0.30806,     0.30806,     0.30806,     0.30806,     0.28051,     0.28051,     0.28051,     0.28051,     0.28051,     0.28051,     0.22997,     0.22997,     0.22997,     0.22997,     0.22997,     0.22931,\n",
      "            0.22931,     0.22931,     0.22931,     0.22931,     0.22931,     0.22259,     0.22259,     0.22259,     0.22259,     0.22259,     0.22259,     0.20362,     0.20362,     0.20362,     0.20362,     0.20362,     0.20362,     0.19883,     0.19883,     0.19883,     0.19883,     0.19883,     0.13824,\n",
      "            0.13824,     0.13824,     0.13824,     0.13824,     0.13824,     0.11706,      0.1165,     0.11595,      0.1154,     0.11485,      0.1143,     0.11374,     0.11319,     0.11264,     0.11209,     0.11153,     0.11098,     0.11043,     0.10988,     0.10933,     0.10877,     0.10822,     0.10767,\n",
      "            0.10712,     0.10657,     0.10601,     0.10546,     0.10491,     0.10436,      0.1038,     0.10325,      0.1027,     0.10215,      0.1016,     0.10104,     0.10049,     0.09994,    0.099388,    0.098835,    0.098283,    0.097731,    0.097179,    0.096627,    0.096075,    0.095523,     0.09497,\n",
      "           0.094418,    0.093866,    0.093314,    0.092762,     0.09221,    0.091657,    0.091105,    0.090553,    0.090001,    0.089449,    0.088897,    0.088345,    0.087792,     0.08724,    0.086688,    0.086136,    0.085584,    0.085032,    0.084479,    0.083927,    0.083375,    0.082823,    0.082271,\n",
      "           0.081719,    0.081167,    0.080614,    0.080062,     0.07951,    0.078958,    0.078406,    0.077854,    0.077301,    0.076749,    0.076197,    0.075645,    0.075093,    0.074541,    0.073989,    0.073436,    0.072884,    0.072332,     0.07178,    0.071228,    0.070676,    0.070123,    0.069571,\n",
      "           0.069019,    0.068467,    0.067915,    0.067363,    0.066811,    0.066258,    0.065706,    0.065154,    0.064602,     0.06405,    0.063498,    0.062945,    0.062393,    0.061841,    0.061289,    0.060737,    0.060185,    0.059633,     0.05908,    0.058528,    0.057976,    0.057424,    0.056872,\n",
      "            0.05632,    0.055767,    0.055215,    0.054663,    0.054111,    0.053559,    0.053007,    0.052455,    0.051902,     0.05135,    0.050798,    0.050246,    0.049694,    0.049142,     0.04859,    0.048037,    0.047485,    0.046933,    0.046381,    0.045829,    0.045277,    0.044724,    0.044172,\n",
      "            0.04362,    0.043068,    0.042516,    0.041964,    0.041412,    0.040859,    0.040307,    0.039755,    0.039203,    0.038651,    0.038099,    0.037546,    0.036994,    0.036442,     0.03589,    0.035338,    0.034786,    0.034234,    0.033681,    0.033129,    0.032577,    0.032025,    0.031473,\n",
      "           0.030921,    0.030368,    0.029816,    0.029264,    0.028712,     0.02816,    0.027608,    0.027056,    0.026503,    0.025951,    0.025399,    0.024847,    0.024295,    0.023743,     0.02319,    0.022638,    0.022086,    0.021534,    0.020982,     0.02043,    0.019878,    0.019325,    0.018773,\n",
      "           0.018221,    0.017669,    0.017117,    0.016565,    0.016012,     0.01546,    0.014908,    0.014356,    0.013804,    0.013252,      0.0127,    0.012147,    0.011595,    0.011043,    0.010491,   0.0099388,   0.0093866,   0.0088345,   0.0082823,   0.0077301,    0.007178,   0.0066258,   0.0060737,\n",
      "          0.0055215,   0.0049694,   0.0044172,   0.0038651,   0.0033129,   0.0027608,   0.0022086,   0.0016565,   0.0011043,  0.00055215,           0]]), 'Recall', 'Precision'], [array([          0,    0.001001,    0.002002,    0.003003,    0.004004,    0.005005,    0.006006,    0.007007,    0.008008,    0.009009,     0.01001,    0.011011,    0.012012,    0.013013,    0.014014,    0.015015,    0.016016,    0.017017,    0.018018,    0.019019,     0.02002,    0.021021,    0.022022,    0.023023,\n",
      "          0.024024,    0.025025,    0.026026,    0.027027,    0.028028,    0.029029,     0.03003,    0.031031,    0.032032,    0.033033,    0.034034,    0.035035,    0.036036,    0.037037,    0.038038,    0.039039,     0.04004,    0.041041,    0.042042,    0.043043,    0.044044,    0.045045,    0.046046,    0.047047,\n",
      "          0.048048,    0.049049,     0.05005,    0.051051,    0.052052,    0.053053,    0.054054,    0.055055,    0.056056,    0.057057,    0.058058,    0.059059,     0.06006,    0.061061,    0.062062,    0.063063,    0.064064,    0.065065,    0.066066,    0.067067,    0.068068,    0.069069,     0.07007,    0.071071,\n",
      "          0.072072,    0.073073,    0.074074,    0.075075,    0.076076,    0.077077,    0.078078,    0.079079,     0.08008,    0.081081,    0.082082,    0.083083,    0.084084,    0.085085,    0.086086,    0.087087,    0.088088,    0.089089,     0.09009,    0.091091,    0.092092,    0.093093,    0.094094,    0.095095,\n",
      "          0.096096,    0.097097,    0.098098,    0.099099,      0.1001,      0.1011,      0.1021,      0.1031,      0.1041,     0.10511,     0.10611,     0.10711,     0.10811,     0.10911,     0.11011,     0.11111,     0.11211,     0.11311,     0.11411,     0.11512,     0.11612,     0.11712,     0.11812,     0.11912,\n",
      "           0.12012,     0.12112,     0.12212,     0.12312,     0.12412,     0.12513,     0.12613,     0.12713,     0.12813,     0.12913,     0.13013,     0.13113,     0.13213,     0.13313,     0.13413,     0.13514,     0.13614,     0.13714,     0.13814,     0.13914,     0.14014,     0.14114,     0.14214,     0.14314,\n",
      "           0.14414,     0.14515,     0.14615,     0.14715,     0.14815,     0.14915,     0.15015,     0.15115,     0.15215,     0.15315,     0.15415,     0.15516,     0.15616,     0.15716,     0.15816,     0.15916,     0.16016,     0.16116,     0.16216,     0.16316,     0.16416,     0.16517,     0.16617,     0.16717,\n",
      "           0.16817,     0.16917,     0.17017,     0.17117,     0.17217,     0.17317,     0.17417,     0.17518,     0.17618,     0.17718,     0.17818,     0.17918,     0.18018,     0.18118,     0.18218,     0.18318,     0.18418,     0.18519,     0.18619,     0.18719,     0.18819,     0.18919,     0.19019,     0.19119,\n",
      "           0.19219,     0.19319,     0.19419,      0.1952,      0.1962,      0.1972,      0.1982,      0.1992,      0.2002,      0.2012,      0.2022,      0.2032,      0.2042,     0.20521,     0.20621,     0.20721,     0.20821,     0.20921,     0.21021,     0.21121,     0.21221,     0.21321,     0.21421,     0.21522,\n",
      "           0.21622,     0.21722,     0.21822,     0.21922,     0.22022,     0.22122,     0.22222,     0.22322,     0.22422,     0.22523,     0.22623,     0.22723,     0.22823,     0.22923,     0.23023,     0.23123,     0.23223,     0.23323,     0.23423,     0.23524,     0.23624,     0.23724,     0.23824,     0.23924,\n",
      "           0.24024,     0.24124,     0.24224,     0.24324,     0.24424,     0.24525,     0.24625,     0.24725,     0.24825,     0.24925,     0.25025,     0.25125,     0.25225,     0.25325,     0.25425,     0.25526,     0.25626,     0.25726,     0.25826,     0.25926,     0.26026,     0.26126,     0.26226,     0.26326,\n",
      "           0.26426,     0.26527,     0.26627,     0.26727,     0.26827,     0.26927,     0.27027,     0.27127,     0.27227,     0.27327,     0.27427,     0.27528,     0.27628,     0.27728,     0.27828,     0.27928,     0.28028,     0.28128,     0.28228,     0.28328,     0.28428,     0.28529,     0.28629,     0.28729,\n",
      "           0.28829,     0.28929,     0.29029,     0.29129,     0.29229,     0.29329,     0.29429,      0.2953,      0.2963,      0.2973,      0.2983,      0.2993,      0.3003,      0.3013,      0.3023,      0.3033,      0.3043,     0.30531,     0.30631,     0.30731,     0.30831,     0.30931,     0.31031,     0.31131,\n",
      "           0.31231,     0.31331,     0.31431,     0.31532,     0.31632,     0.31732,     0.31832,     0.31932,     0.32032,     0.32132,     0.32232,     0.32332,     0.32432,     0.32533,     0.32633,     0.32733,     0.32833,     0.32933,     0.33033,     0.33133,     0.33233,     0.33333,     0.33433,     0.33534,\n",
      "           0.33634,     0.33734,     0.33834,     0.33934,     0.34034,     0.34134,     0.34234,     0.34334,     0.34434,     0.34535,     0.34635,     0.34735,     0.34835,     0.34935,     0.35035,     0.35135,     0.35235,     0.35335,     0.35435,     0.35536,     0.35636,     0.35736,     0.35836,     0.35936,\n",
      "           0.36036,     0.36136,     0.36236,     0.36336,     0.36436,     0.36537,     0.36637,     0.36737,     0.36837,     0.36937,     0.37037,     0.37137,     0.37237,     0.37337,     0.37437,     0.37538,     0.37638,     0.37738,     0.37838,     0.37938,     0.38038,     0.38138,     0.38238,     0.38338,\n",
      "           0.38438,     0.38539,     0.38639,     0.38739,     0.38839,     0.38939,     0.39039,     0.39139,     0.39239,     0.39339,     0.39439,      0.3954,      0.3964,      0.3974,      0.3984,      0.3994,      0.4004,      0.4014,      0.4024,      0.4034,      0.4044,     0.40541,     0.40641,     0.40741,\n",
      "           0.40841,     0.40941,     0.41041,     0.41141,     0.41241,     0.41341,     0.41441,     0.41542,     0.41642,     0.41742,     0.41842,     0.41942,     0.42042,     0.42142,     0.42242,     0.42342,     0.42442,     0.42543,     0.42643,     0.42743,     0.42843,     0.42943,     0.43043,     0.43143,\n",
      "           0.43243,     0.43343,     0.43443,     0.43544,     0.43644,     0.43744,     0.43844,     0.43944,     0.44044,     0.44144,     0.44244,     0.44344,     0.44444,     0.44545,     0.44645,     0.44745,     0.44845,     0.44945,     0.45045,     0.45145,     0.45245,     0.45345,     0.45445,     0.45546,\n",
      "           0.45646,     0.45746,     0.45846,     0.45946,     0.46046,     0.46146,     0.46246,     0.46346,     0.46446,     0.46547,     0.46647,     0.46747,     0.46847,     0.46947,     0.47047,     0.47147,     0.47247,     0.47347,     0.47447,     0.47548,     0.47648,     0.47748,     0.47848,     0.47948,\n",
      "           0.48048,     0.48148,     0.48248,     0.48348,     0.48448,     0.48549,     0.48649,     0.48749,     0.48849,     0.48949,     0.49049,     0.49149,     0.49249,     0.49349,     0.49449,      0.4955,      0.4965,      0.4975,      0.4985,      0.4995,      0.5005,      0.5015,      0.5025,      0.5035,\n",
      "            0.5045,     0.50551,     0.50651,     0.50751,     0.50851,     0.50951,     0.51051,     0.51151,     0.51251,     0.51351,     0.51451,     0.51552,     0.51652,     0.51752,     0.51852,     0.51952,     0.52052,     0.52152,     0.52252,     0.52352,     0.52452,     0.52553,     0.52653,     0.52753,\n",
      "           0.52853,     0.52953,     0.53053,     0.53153,     0.53253,     0.53353,     0.53453,     0.53554,     0.53654,     0.53754,     0.53854,     0.53954,     0.54054,     0.54154,     0.54254,     0.54354,     0.54454,     0.54555,     0.54655,     0.54755,     0.54855,     0.54955,     0.55055,     0.55155,\n",
      "           0.55255,     0.55355,     0.55455,     0.55556,     0.55656,     0.55756,     0.55856,     0.55956,     0.56056,     0.56156,     0.56256,     0.56356,     0.56456,     0.56557,     0.56657,     0.56757,     0.56857,     0.56957,     0.57057,     0.57157,     0.57257,     0.57357,     0.57457,     0.57558,\n",
      "           0.57658,     0.57758,     0.57858,     0.57958,     0.58058,     0.58158,     0.58258,     0.58358,     0.58458,     0.58559,     0.58659,     0.58759,     0.58859,     0.58959,     0.59059,     0.59159,     0.59259,     0.59359,     0.59459,      0.5956,      0.5966,      0.5976,      0.5986,      0.5996,\n",
      "            0.6006,      0.6016,      0.6026,      0.6036,      0.6046,     0.60561,     0.60661,     0.60761,     0.60861,     0.60961,     0.61061,     0.61161,     0.61261,     0.61361,     0.61461,     0.61562,     0.61662,     0.61762,     0.61862,     0.61962,     0.62062,     0.62162,     0.62262,     0.62362,\n",
      "           0.62462,     0.62563,     0.62663,     0.62763,     0.62863,     0.62963,     0.63063,     0.63163,     0.63263,     0.63363,     0.63463,     0.63564,     0.63664,     0.63764,     0.63864,     0.63964,     0.64064,     0.64164,     0.64264,     0.64364,     0.64464,     0.64565,     0.64665,     0.64765,\n",
      "           0.64865,     0.64965,     0.65065,     0.65165,     0.65265,     0.65365,     0.65465,     0.65566,     0.65666,     0.65766,     0.65866,     0.65966,     0.66066,     0.66166,     0.66266,     0.66366,     0.66466,     0.66567,     0.66667,     0.66767,     0.66867,     0.66967,     0.67067,     0.67167,\n",
      "           0.67267,     0.67367,     0.67467,     0.67568,     0.67668,     0.67768,     0.67868,     0.67968,     0.68068,     0.68168,     0.68268,     0.68368,     0.68468,     0.68569,     0.68669,     0.68769,     0.68869,     0.68969,     0.69069,     0.69169,     0.69269,     0.69369,     0.69469,      0.6957,\n",
      "            0.6967,      0.6977,      0.6987,      0.6997,      0.7007,      0.7017,      0.7027,      0.7037,      0.7047,     0.70571,     0.70671,     0.70771,     0.70871,     0.70971,     0.71071,     0.71171,     0.71271,     0.71371,     0.71471,     0.71572,     0.71672,     0.71772,     0.71872,     0.71972,\n",
      "           0.72072,     0.72172,     0.72272,     0.72372,     0.72472,     0.72573,     0.72673,     0.72773,     0.72873,     0.72973,     0.73073,     0.73173,     0.73273,     0.73373,     0.73473,     0.73574,     0.73674,     0.73774,     0.73874,     0.73974,     0.74074,     0.74174,     0.74274,     0.74374,\n",
      "           0.74474,     0.74575,     0.74675,     0.74775,     0.74875,     0.74975,     0.75075,     0.75175,     0.75275,     0.75375,     0.75475,     0.75576,     0.75676,     0.75776,     0.75876,     0.75976,     0.76076,     0.76176,     0.76276,     0.76376,     0.76476,     0.76577,     0.76677,     0.76777,\n",
      "           0.76877,     0.76977,     0.77077,     0.77177,     0.77277,     0.77377,     0.77477,     0.77578,     0.77678,     0.77778,     0.77878,     0.77978,     0.78078,     0.78178,     0.78278,     0.78378,     0.78478,     0.78579,     0.78679,     0.78779,     0.78879,     0.78979,     0.79079,     0.79179,\n",
      "           0.79279,     0.79379,     0.79479,      0.7958,      0.7968,      0.7978,      0.7988,      0.7998,      0.8008,      0.8018,      0.8028,      0.8038,      0.8048,     0.80581,     0.80681,     0.80781,     0.80881,     0.80981,     0.81081,     0.81181,     0.81281,     0.81381,     0.81481,     0.81582,\n",
      "           0.81682,     0.81782,     0.81882,     0.81982,     0.82082,     0.82182,     0.82282,     0.82382,     0.82482,     0.82583,     0.82683,     0.82783,     0.82883,     0.82983,     0.83083,     0.83183,     0.83283,     0.83383,     0.83483,     0.83584,     0.83684,     0.83784,     0.83884,     0.83984,\n",
      "           0.84084,     0.84184,     0.84284,     0.84384,     0.84484,     0.84585,     0.84685,     0.84785,     0.84885,     0.84985,     0.85085,     0.85185,     0.85285,     0.85385,     0.85485,     0.85586,     0.85686,     0.85786,     0.85886,     0.85986,     0.86086,     0.86186,     0.86286,     0.86386,\n",
      "           0.86486,     0.86587,     0.86687,     0.86787,     0.86887,     0.86987,     0.87087,     0.87187,     0.87287,     0.87387,     0.87487,     0.87588,     0.87688,     0.87788,     0.87888,     0.87988,     0.88088,     0.88188,     0.88288,     0.88388,     0.88488,     0.88589,     0.88689,     0.88789,\n",
      "           0.88889,     0.88989,     0.89089,     0.89189,     0.89289,     0.89389,     0.89489,      0.8959,      0.8969,      0.8979,      0.8989,      0.8999,      0.9009,      0.9019,      0.9029,      0.9039,      0.9049,     0.90591,     0.90691,     0.90791,     0.90891,     0.90991,     0.91091,     0.91191,\n",
      "           0.91291,     0.91391,     0.91491,     0.91592,     0.91692,     0.91792,     0.91892,     0.91992,     0.92092,     0.92192,     0.92292,     0.92392,     0.92492,     0.92593,     0.92693,     0.92793,     0.92893,     0.92993,     0.93093,     0.93193,     0.93293,     0.93393,     0.93493,     0.93594,\n",
      "           0.93694,     0.93794,     0.93894,     0.93994,     0.94094,     0.94194,     0.94294,     0.94394,     0.94494,     0.94595,     0.94695,     0.94795,     0.94895,     0.94995,     0.95095,     0.95195,     0.95295,     0.95395,     0.95495,     0.95596,     0.95696,     0.95796,     0.95896,     0.95996,\n",
      "           0.96096,     0.96196,     0.96296,     0.96396,     0.96496,     0.96597,     0.96697,     0.96797,     0.96897,     0.96997,     0.97097,     0.97197,     0.97297,     0.97397,     0.97497,     0.97598,     0.97698,     0.97798,     0.97898,     0.97998,     0.98098,     0.98198,     0.98298,     0.98398,\n",
      "           0.98498,     0.98599,     0.98699,     0.98799,     0.98899,     0.98999,     0.99099,     0.99199,     0.99299,     0.99399,     0.99499,       0.996,       0.997,       0.998,       0.999,           1]), array([[    0.20417,     0.20417,     0.26929,     0.31218,     0.34355,      0.3729,     0.39423,     0.41466,     0.42608,     0.43573,     0.44781,     0.45697,     0.47299,     0.47908,     0.48494,     0.48631,     0.49506,      0.5016,     0.50718,     0.51168,     0.52061,     0.52922,     0.53338,\n",
      "             0.5383,     0.54611,     0.54805,     0.54895,      0.5527,      0.5577,     0.55981,      0.5616,     0.56581,     0.57298,     0.57915,     0.58399,     0.58717,     0.58814,     0.59216,     0.59527,     0.59978,     0.60644,     0.61038,     0.61368,     0.61699,     0.62096,     0.62452,\n",
      "            0.62721,     0.63201,     0.63606,     0.63705,     0.63821,     0.63933,     0.63993,     0.64052,     0.63753,     0.63827,     0.64064,     0.64133,     0.64202,     0.64263,     0.64319,     0.64374,     0.64799,      0.6495,      0.6502,     0.65084,     0.65116,     0.65148,     0.65179,\n",
      "            0.65211,     0.65242,     0.65462,     0.65574,     0.65638,     0.65686,     0.65735,     0.65783,     0.65829,     0.65875,      0.6592,     0.66023,     0.66224,     0.66673,      0.6675,     0.66826,     0.67112,     0.67283,     0.67453,      0.6753,     0.67606,      0.6768,     0.67754,\n",
      "            0.67809,      0.6786,     0.67911,     0.68007,     0.68238,     0.68361,     0.68451,     0.67974,     0.67909,     0.68069,     0.68214,     0.68318,     0.68605,     0.68708,     0.68396,     0.68454,     0.68511,     0.68569,     0.68355,     0.68231,     0.68351,     0.68307,     0.68181,\n",
      "            0.68054,     0.68244,     0.68299,     0.68355,     0.68464,     0.68241,     0.68155,     0.68086,     0.68017,     0.67948,     0.67878,     0.67942,     0.68063,     0.68106,     0.68148,     0.68191,     0.68233,     0.68258,     0.68282,     0.68306,      0.6833,     0.68354,     0.68378,\n",
      "            0.68402,     0.68426,     0.68491,      0.6859,     0.68678,     0.68754,      0.6883,     0.69011,     0.68961,      0.6891,      0.6886,      0.6881,     0.68759,     0.68709,     0.68658,     0.68746,     0.68839,     0.68498,     0.68569,     0.68639,     0.68782,     0.68937,     0.69038,\n",
      "            0.69241,     0.69339,     0.69386,     0.69433,     0.69479,     0.69553,     0.69688,     0.69889,     0.69992,     0.70061,      0.7013,     0.70377,     0.70409,     0.70442,     0.70474,     0.70506,     0.70539,     0.70571,     0.70677,     0.70712,     0.70412,     0.70569,     0.70658,\n",
      "            0.70708,     0.70757,     0.70807,     0.70859,     0.70921,     0.70983,     0.71045,     0.71168,       0.713,     0.71328,     0.71356,     0.71383,     0.71411,     0.71439,     0.71467,     0.71495,     0.71481,     0.71158,     0.71135,     0.71164,     0.71192,      0.7122,     0.71248,\n",
      "            0.71277,     0.71305,     0.71333,     0.71549,     0.71373,     0.71196,     0.71101,     0.71032,     0.70963,     0.70894,     0.70825,     0.70755,     0.70529,     0.70312,      0.7027,     0.70228,     0.70185,     0.70143,       0.701,     0.70058,     0.70015,     0.69973,      0.6993,\n",
      "            0.69914,     0.69945,     0.69977,     0.70008,     0.70039,      0.7007,     0.70102,     0.70125,      0.7007,     0.70016,     0.69961,     0.69906,     0.69851,     0.69796,     0.69742,     0.69648,     0.69487,     0.69326,     0.69375,     0.69505,     0.69554,     0.69601,     0.69648,\n",
      "            0.69695,     0.69723,     0.69592,     0.69461,      0.6933,     0.69342,     0.69386,     0.69429,     0.69472,     0.69515,     0.69555,     0.69593,     0.69631,     0.69669,     0.69706,     0.69744,     0.69784,     0.69829,     0.69873,     0.69918,     0.69962,     0.70005,     0.70036,\n",
      "            0.70068,       0.701,     0.70131,     0.70163,     0.70195,     0.70226,      0.7018,     0.70108,     0.70036,     0.69963,     0.69891,     0.69819,     0.69779,     0.69751,     0.69724,     0.69697,     0.69669,     0.69642,     0.69614,     0.69587,      0.6956,     0.69532,     0.69505,\n",
      "            0.69477,      0.6945,     0.69422,     0.69395,     0.69367,      0.6937,     0.69383,     0.69396,     0.69409,     0.69422,     0.69435,     0.69448,     0.69461,     0.69474,     0.69487,       0.695,     0.69513,     0.69526,     0.69539,     0.69552,     0.69565,     0.69578,     0.69591,\n",
      "            0.69539,      0.6946,     0.69382,     0.69304,     0.69226,     0.69151,     0.69122,     0.69093,     0.69065,     0.69036,     0.69008,     0.68979,      0.6895,     0.68922,     0.68893,     0.68864,     0.68835,     0.68807,     0.68778,     0.68749,     0.68721,      0.6865,     0.68543,\n",
      "            0.68437,      0.6833,     0.68212,     0.68072,     0.67932,     0.67774,     0.67475,     0.67362,     0.67376,      0.6739,     0.67404,     0.67418,     0.67431,     0.67445,     0.67459,     0.67473,     0.67487,       0.675,     0.67514,     0.67528,     0.67542,     0.67555,     0.67569,\n",
      "            0.67583,     0.67629,     0.67686,     0.67742,     0.67799,     0.67884,     0.67987,     0.67937,     0.67817,     0.67368,     0.67355,     0.67342,     0.67329,     0.67316,     0.67303,      0.6729,     0.67276,     0.67263,      0.6725,     0.67237,     0.67224,     0.67211,     0.67198,\n",
      "            0.67185,     0.67172,     0.67158,     0.67145,     0.67132,     0.67119,     0.67106,     0.67093,      0.6708,     0.67067,     0.67053,      0.6704,     0.67027,     0.67014,     0.67001,     0.66988,     0.66975,     0.66961,     0.66948,     0.66935,     0.66922,     0.66909,     0.66867,\n",
      "            0.66788,     0.66709,      0.6663,     0.66551,     0.66472,     0.66453,     0.66498,     0.66543,     0.66587,     0.66632,     0.66447,     0.66145,     0.66081,     0.66017,     0.65952,     0.65888,     0.65824,      0.6576,     0.65758,     0.65907,      0.6592,     0.65879,     0.65837,\n",
      "            0.65796,     0.65754,     0.65713,     0.65671,     0.65629,     0.65588,     0.65546,     0.65504,     0.65452,     0.65323,     0.65194,     0.65064,     0.64748,      0.6473,     0.64744,     0.64758,     0.64772,     0.64786,       0.648,     0.64814,     0.64828,     0.64842,     0.64856,\n",
      "             0.6487,     0.64884,     0.64897,     0.64911,     0.64925,     0.64939,     0.64953,     0.64969,     0.64994,     0.65018,     0.65043,     0.65067,     0.65092,     0.65116,     0.65141,     0.65165,      0.6519,     0.65183,     0.65146,      0.6511,     0.65073,     0.65037,        0.65,\n",
      "            0.64964,     0.64927,     0.64891,     0.64854,     0.64818,     0.64781,     0.64744,     0.64708,     0.64691,     0.64676,      0.6466,     0.64645,     0.64629,     0.64613,     0.64598,     0.64582,     0.64567,     0.64551,     0.64536,      0.6452,     0.64505,     0.64489,     0.64474,\n",
      "            0.64458,     0.64442,     0.64427,     0.64411,     0.64396,      0.6438,     0.64365,     0.64349,     0.64333,     0.64318,     0.64302,     0.64287,     0.64271,     0.64255,      0.6424,     0.64224,     0.64209,     0.64098,     0.63973,     0.63848,     0.63723,     0.63838,     0.63934,\n",
      "            0.63915,     0.63896,     0.63877,     0.63858,     0.63839,      0.6382,     0.63801,     0.63782,     0.63762,     0.63743,     0.63724,     0.63705,     0.63686,     0.63667,     0.63648,     0.63629,      0.6361,     0.63591,     0.63572,     0.63553,     0.63533,     0.63514,     0.63495,\n",
      "            0.63476,     0.63457,     0.63438,     0.63384,     0.63318,     0.63252,     0.63185,     0.63119,     0.63053,     0.62986,     0.62956,     0.63016,     0.62854,     0.62693,     0.62584,     0.62499,     0.62414,     0.62329,     0.62244,     0.62159,       0.621,     0.62061,     0.62022,\n",
      "            0.61984,     0.61945,     0.61906,     0.61867,     0.61828,     0.61789,     0.61751,     0.61712,     0.61673,     0.61634,     0.61587,     0.61391,     0.61195,     0.60689,     0.60462,     0.60375,     0.60288,       0.602,     0.60113,     0.60025,      0.6006,     0.60145,     0.60229,\n",
      "            0.60003,     0.59764,     0.59629,      0.5954,     0.59451,     0.59362,     0.59273,     0.59184,     0.59093,        0.59,     0.58907,     0.58813,      0.5872,     0.58627,     0.58296,     0.58014,     0.57959,     0.57903,     0.57847,     0.57792,     0.57736,      0.5768,     0.57624,\n",
      "            0.57568,     0.57512,     0.57336,     0.57004,     0.56773,     0.56577,     0.56381,     0.55161,     0.54948,     0.54733,     0.54478,     0.54173,     0.54053,     0.54092,     0.54131,      0.5417,     0.54209,     0.54247,     0.54127,      0.5399,     0.53853,     0.53715,     0.53633,\n",
      "            0.53589,     0.53545,     0.53501,     0.53457,     0.53413,     0.53369,     0.53325,     0.53281,     0.53237,     0.53192,     0.53148,     0.53104,     0.53057,     0.52914,     0.52771,     0.52627,     0.52483,     0.50623,     0.50658,     0.50692,     0.50727,     0.50761,     0.50795,\n",
      "            0.50829,     0.50596,     0.50325,      0.5015,     0.50046,     0.49941,     0.49837,     0.49733,     0.49628,     0.49017,     0.48616,      0.4819,     0.47578,     0.47392,     0.47205,     0.47018,     0.47083,     0.46901,     0.46719,     0.46364,      0.4582,     0.45734,     0.45648,\n",
      "            0.45562,     0.45476,      0.4539,     0.45304,     0.45217,     0.45309,     0.45399,     0.45136,     0.44796,     0.44047,     0.43369,     0.43391,     0.43413,     0.43435,     0.43456,     0.43478,     0.43499,     0.43521,     0.43542,     0.43455,     0.43177,     0.42897,     0.42642,\n",
      "            0.42391,     0.42127,     0.41667,     0.41551,     0.41275,     0.40998,      0.4061,     0.40175,     0.39932,     0.39689,     0.39445,     0.39224,     0.39002,      0.3878,     0.38747,     0.38801,     0.38854,     0.38658,     0.38059,     0.37713,     0.37339,     0.36242,     0.35386,\n",
      "            0.34645,     0.33481,      0.3261,     0.32463,     0.32317,      0.3217,     0.32023,     0.31815,     0.30847,     0.30257,     0.29722,     0.29263,     0.28911,     0.28555,     0.28165,     0.27773,     0.27377,     0.26978,     0.24842,     0.23457,     0.22738,     0.20484,     0.19546,\n",
      "             0.1895,     0.17715,     0.17464,     0.17212,      0.1696,      0.1673,      0.1652,     0.16309,     0.16098,     0.15887,     0.15692,     0.15498,     0.15303,     0.15109,     0.14913,      0.1261,     0.12104,     0.11397,    0.097734,    0.094351,    0.090955,    0.087729,    0.086008,\n",
      "           0.084284,    0.082556,    0.080826,    0.079093,    0.077356,    0.074814,    0.072261,    0.069701,    0.067135,    0.063782,    0.060244,    0.056693,    0.047331,    0.042259,    0.038833,    0.035396,    0.030694,    0.025001,    0.019959,    0.015345,           0,           0,           0,\n",
      "                  0,           0,           0,           0,           0,           0,           0,           0,           0,           0,           0,           0,           0,           0,           0,           0,           0,           0,           0,           0,           0,           0,           0,\n",
      "                  0,           0,           0,           0,           0,           0,           0,           0,           0,           0,           0,           0,           0,           0,           0,           0,           0,           0,           0,           0,           0,           0,           0,\n",
      "                  0,           0,           0,           0,           0,           0,           0,           0,           0,           0,           0,           0,           0,           0,           0,           0,           0,           0,           0,           0,           0,           0,           0,\n",
      "                  0,           0,           0,           0,           0,           0,           0,           0,           0,           0,           0,           0,           0,           0,           0,           0,           0,           0,           0,           0,           0,           0,           0,\n",
      "                  0,           0,           0,           0,           0,           0,           0,           0,           0,           0,           0,           0,           0,           0,           0,           0,           0,           0,           0,           0,           0,           0,           0,\n",
      "                  0,           0,           0,           0,           0,           0,           0,           0,           0,           0,           0,           0,           0,           0,           0,           0,           0,           0,           0,           0,           0,           0,           0,\n",
      "                  0,           0,           0,           0,           0,           0,           0,           0,           0,           0,           0,           0,           0,           0,           0,           0,           0,           0,           0,           0,           0,           0,           0,\n",
      "                  0,           0,           0,           0,           0,           0,           0,           0,           0,           0,           0,           0,           0,           0,           0,           0,           0,           0,           0,           0,           0,           0,           0,\n",
      "                  0,           0,           0,           0,           0,           0,           0,           0,           0,           0,           0]]), 'Confidence', 'F1'], [array([          0,    0.001001,    0.002002,    0.003003,    0.004004,    0.005005,    0.006006,    0.007007,    0.008008,    0.009009,     0.01001,    0.011011,    0.012012,    0.013013,    0.014014,    0.015015,    0.016016,    0.017017,    0.018018,    0.019019,     0.02002,    0.021021,    0.022022,    0.023023,\n",
      "          0.024024,    0.025025,    0.026026,    0.027027,    0.028028,    0.029029,     0.03003,    0.031031,    0.032032,    0.033033,    0.034034,    0.035035,    0.036036,    0.037037,    0.038038,    0.039039,     0.04004,    0.041041,    0.042042,    0.043043,    0.044044,    0.045045,    0.046046,    0.047047,\n",
      "          0.048048,    0.049049,     0.05005,    0.051051,    0.052052,    0.053053,    0.054054,    0.055055,    0.056056,    0.057057,    0.058058,    0.059059,     0.06006,    0.061061,    0.062062,    0.063063,    0.064064,    0.065065,    0.066066,    0.067067,    0.068068,    0.069069,     0.07007,    0.071071,\n",
      "          0.072072,    0.073073,    0.074074,    0.075075,    0.076076,    0.077077,    0.078078,    0.079079,     0.08008,    0.081081,    0.082082,    0.083083,    0.084084,    0.085085,    0.086086,    0.087087,    0.088088,    0.089089,     0.09009,    0.091091,    0.092092,    0.093093,    0.094094,    0.095095,\n",
      "          0.096096,    0.097097,    0.098098,    0.099099,      0.1001,      0.1011,      0.1021,      0.1031,      0.1041,     0.10511,     0.10611,     0.10711,     0.10811,     0.10911,     0.11011,     0.11111,     0.11211,     0.11311,     0.11411,     0.11512,     0.11612,     0.11712,     0.11812,     0.11912,\n",
      "           0.12012,     0.12112,     0.12212,     0.12312,     0.12412,     0.12513,     0.12613,     0.12713,     0.12813,     0.12913,     0.13013,     0.13113,     0.13213,     0.13313,     0.13413,     0.13514,     0.13614,     0.13714,     0.13814,     0.13914,     0.14014,     0.14114,     0.14214,     0.14314,\n",
      "           0.14414,     0.14515,     0.14615,     0.14715,     0.14815,     0.14915,     0.15015,     0.15115,     0.15215,     0.15315,     0.15415,     0.15516,     0.15616,     0.15716,     0.15816,     0.15916,     0.16016,     0.16116,     0.16216,     0.16316,     0.16416,     0.16517,     0.16617,     0.16717,\n",
      "           0.16817,     0.16917,     0.17017,     0.17117,     0.17217,     0.17317,     0.17417,     0.17518,     0.17618,     0.17718,     0.17818,     0.17918,     0.18018,     0.18118,     0.18218,     0.18318,     0.18418,     0.18519,     0.18619,     0.18719,     0.18819,     0.18919,     0.19019,     0.19119,\n",
      "           0.19219,     0.19319,     0.19419,      0.1952,      0.1962,      0.1972,      0.1982,      0.1992,      0.2002,      0.2012,      0.2022,      0.2032,      0.2042,     0.20521,     0.20621,     0.20721,     0.20821,     0.20921,     0.21021,     0.21121,     0.21221,     0.21321,     0.21421,     0.21522,\n",
      "           0.21622,     0.21722,     0.21822,     0.21922,     0.22022,     0.22122,     0.22222,     0.22322,     0.22422,     0.22523,     0.22623,     0.22723,     0.22823,     0.22923,     0.23023,     0.23123,     0.23223,     0.23323,     0.23423,     0.23524,     0.23624,     0.23724,     0.23824,     0.23924,\n",
      "           0.24024,     0.24124,     0.24224,     0.24324,     0.24424,     0.24525,     0.24625,     0.24725,     0.24825,     0.24925,     0.25025,     0.25125,     0.25225,     0.25325,     0.25425,     0.25526,     0.25626,     0.25726,     0.25826,     0.25926,     0.26026,     0.26126,     0.26226,     0.26326,\n",
      "           0.26426,     0.26527,     0.26627,     0.26727,     0.26827,     0.26927,     0.27027,     0.27127,     0.27227,     0.27327,     0.27427,     0.27528,     0.27628,     0.27728,     0.27828,     0.27928,     0.28028,     0.28128,     0.28228,     0.28328,     0.28428,     0.28529,     0.28629,     0.28729,\n",
      "           0.28829,     0.28929,     0.29029,     0.29129,     0.29229,     0.29329,     0.29429,      0.2953,      0.2963,      0.2973,      0.2983,      0.2993,      0.3003,      0.3013,      0.3023,      0.3033,      0.3043,     0.30531,     0.30631,     0.30731,     0.30831,     0.30931,     0.31031,     0.31131,\n",
      "           0.31231,     0.31331,     0.31431,     0.31532,     0.31632,     0.31732,     0.31832,     0.31932,     0.32032,     0.32132,     0.32232,     0.32332,     0.32432,     0.32533,     0.32633,     0.32733,     0.32833,     0.32933,     0.33033,     0.33133,     0.33233,     0.33333,     0.33433,     0.33534,\n",
      "           0.33634,     0.33734,     0.33834,     0.33934,     0.34034,     0.34134,     0.34234,     0.34334,     0.34434,     0.34535,     0.34635,     0.34735,     0.34835,     0.34935,     0.35035,     0.35135,     0.35235,     0.35335,     0.35435,     0.35536,     0.35636,     0.35736,     0.35836,     0.35936,\n",
      "           0.36036,     0.36136,     0.36236,     0.36336,     0.36436,     0.36537,     0.36637,     0.36737,     0.36837,     0.36937,     0.37037,     0.37137,     0.37237,     0.37337,     0.37437,     0.37538,     0.37638,     0.37738,     0.37838,     0.37938,     0.38038,     0.38138,     0.38238,     0.38338,\n",
      "           0.38438,     0.38539,     0.38639,     0.38739,     0.38839,     0.38939,     0.39039,     0.39139,     0.39239,     0.39339,     0.39439,      0.3954,      0.3964,      0.3974,      0.3984,      0.3994,      0.4004,      0.4014,      0.4024,      0.4034,      0.4044,     0.40541,     0.40641,     0.40741,\n",
      "           0.40841,     0.40941,     0.41041,     0.41141,     0.41241,     0.41341,     0.41441,     0.41542,     0.41642,     0.41742,     0.41842,     0.41942,     0.42042,     0.42142,     0.42242,     0.42342,     0.42442,     0.42543,     0.42643,     0.42743,     0.42843,     0.42943,     0.43043,     0.43143,\n",
      "           0.43243,     0.43343,     0.43443,     0.43544,     0.43644,     0.43744,     0.43844,     0.43944,     0.44044,     0.44144,     0.44244,     0.44344,     0.44444,     0.44545,     0.44645,     0.44745,     0.44845,     0.44945,     0.45045,     0.45145,     0.45245,     0.45345,     0.45445,     0.45546,\n",
      "           0.45646,     0.45746,     0.45846,     0.45946,     0.46046,     0.46146,     0.46246,     0.46346,     0.46446,     0.46547,     0.46647,     0.46747,     0.46847,     0.46947,     0.47047,     0.47147,     0.47247,     0.47347,     0.47447,     0.47548,     0.47648,     0.47748,     0.47848,     0.47948,\n",
      "           0.48048,     0.48148,     0.48248,     0.48348,     0.48448,     0.48549,     0.48649,     0.48749,     0.48849,     0.48949,     0.49049,     0.49149,     0.49249,     0.49349,     0.49449,      0.4955,      0.4965,      0.4975,      0.4985,      0.4995,      0.5005,      0.5015,      0.5025,      0.5035,\n",
      "            0.5045,     0.50551,     0.50651,     0.50751,     0.50851,     0.50951,     0.51051,     0.51151,     0.51251,     0.51351,     0.51451,     0.51552,     0.51652,     0.51752,     0.51852,     0.51952,     0.52052,     0.52152,     0.52252,     0.52352,     0.52452,     0.52553,     0.52653,     0.52753,\n",
      "           0.52853,     0.52953,     0.53053,     0.53153,     0.53253,     0.53353,     0.53453,     0.53554,     0.53654,     0.53754,     0.53854,     0.53954,     0.54054,     0.54154,     0.54254,     0.54354,     0.54454,     0.54555,     0.54655,     0.54755,     0.54855,     0.54955,     0.55055,     0.55155,\n",
      "           0.55255,     0.55355,     0.55455,     0.55556,     0.55656,     0.55756,     0.55856,     0.55956,     0.56056,     0.56156,     0.56256,     0.56356,     0.56456,     0.56557,     0.56657,     0.56757,     0.56857,     0.56957,     0.57057,     0.57157,     0.57257,     0.57357,     0.57457,     0.57558,\n",
      "           0.57658,     0.57758,     0.57858,     0.57958,     0.58058,     0.58158,     0.58258,     0.58358,     0.58458,     0.58559,     0.58659,     0.58759,     0.58859,     0.58959,     0.59059,     0.59159,     0.59259,     0.59359,     0.59459,      0.5956,      0.5966,      0.5976,      0.5986,      0.5996,\n",
      "            0.6006,      0.6016,      0.6026,      0.6036,      0.6046,     0.60561,     0.60661,     0.60761,     0.60861,     0.60961,     0.61061,     0.61161,     0.61261,     0.61361,     0.61461,     0.61562,     0.61662,     0.61762,     0.61862,     0.61962,     0.62062,     0.62162,     0.62262,     0.62362,\n",
      "           0.62462,     0.62563,     0.62663,     0.62763,     0.62863,     0.62963,     0.63063,     0.63163,     0.63263,     0.63363,     0.63463,     0.63564,     0.63664,     0.63764,     0.63864,     0.63964,     0.64064,     0.64164,     0.64264,     0.64364,     0.64464,     0.64565,     0.64665,     0.64765,\n",
      "           0.64865,     0.64965,     0.65065,     0.65165,     0.65265,     0.65365,     0.65465,     0.65566,     0.65666,     0.65766,     0.65866,     0.65966,     0.66066,     0.66166,     0.66266,     0.66366,     0.66466,     0.66567,     0.66667,     0.66767,     0.66867,     0.66967,     0.67067,     0.67167,\n",
      "           0.67267,     0.67367,     0.67467,     0.67568,     0.67668,     0.67768,     0.67868,     0.67968,     0.68068,     0.68168,     0.68268,     0.68368,     0.68468,     0.68569,     0.68669,     0.68769,     0.68869,     0.68969,     0.69069,     0.69169,     0.69269,     0.69369,     0.69469,      0.6957,\n",
      "            0.6967,      0.6977,      0.6987,      0.6997,      0.7007,      0.7017,      0.7027,      0.7037,      0.7047,     0.70571,     0.70671,     0.70771,     0.70871,     0.70971,     0.71071,     0.71171,     0.71271,     0.71371,     0.71471,     0.71572,     0.71672,     0.71772,     0.71872,     0.71972,\n",
      "           0.72072,     0.72172,     0.72272,     0.72372,     0.72472,     0.72573,     0.72673,     0.72773,     0.72873,     0.72973,     0.73073,     0.73173,     0.73273,     0.73373,     0.73473,     0.73574,     0.73674,     0.73774,     0.73874,     0.73974,     0.74074,     0.74174,     0.74274,     0.74374,\n",
      "           0.74474,     0.74575,     0.74675,     0.74775,     0.74875,     0.74975,     0.75075,     0.75175,     0.75275,     0.75375,     0.75475,     0.75576,     0.75676,     0.75776,     0.75876,     0.75976,     0.76076,     0.76176,     0.76276,     0.76376,     0.76476,     0.76577,     0.76677,     0.76777,\n",
      "           0.76877,     0.76977,     0.77077,     0.77177,     0.77277,     0.77377,     0.77477,     0.77578,     0.77678,     0.77778,     0.77878,     0.77978,     0.78078,     0.78178,     0.78278,     0.78378,     0.78478,     0.78579,     0.78679,     0.78779,     0.78879,     0.78979,     0.79079,     0.79179,\n",
      "           0.79279,     0.79379,     0.79479,      0.7958,      0.7968,      0.7978,      0.7988,      0.7998,      0.8008,      0.8018,      0.8028,      0.8038,      0.8048,     0.80581,     0.80681,     0.80781,     0.80881,     0.80981,     0.81081,     0.81181,     0.81281,     0.81381,     0.81481,     0.81582,\n",
      "           0.81682,     0.81782,     0.81882,     0.81982,     0.82082,     0.82182,     0.82282,     0.82382,     0.82482,     0.82583,     0.82683,     0.82783,     0.82883,     0.82983,     0.83083,     0.83183,     0.83283,     0.83383,     0.83483,     0.83584,     0.83684,     0.83784,     0.83884,     0.83984,\n",
      "           0.84084,     0.84184,     0.84284,     0.84384,     0.84484,     0.84585,     0.84685,     0.84785,     0.84885,     0.84985,     0.85085,     0.85185,     0.85285,     0.85385,     0.85485,     0.85586,     0.85686,     0.85786,     0.85886,     0.85986,     0.86086,     0.86186,     0.86286,     0.86386,\n",
      "           0.86486,     0.86587,     0.86687,     0.86787,     0.86887,     0.86987,     0.87087,     0.87187,     0.87287,     0.87387,     0.87487,     0.87588,     0.87688,     0.87788,     0.87888,     0.87988,     0.88088,     0.88188,     0.88288,     0.88388,     0.88488,     0.88589,     0.88689,     0.88789,\n",
      "           0.88889,     0.88989,     0.89089,     0.89189,     0.89289,     0.89389,     0.89489,      0.8959,      0.8969,      0.8979,      0.8989,      0.8999,      0.9009,      0.9019,      0.9029,      0.9039,      0.9049,     0.90591,     0.90691,     0.90791,     0.90891,     0.90991,     0.91091,     0.91191,\n",
      "           0.91291,     0.91391,     0.91491,     0.91592,     0.91692,     0.91792,     0.91892,     0.91992,     0.92092,     0.92192,     0.92292,     0.92392,     0.92492,     0.92593,     0.92693,     0.92793,     0.92893,     0.92993,     0.93093,     0.93193,     0.93293,     0.93393,     0.93493,     0.93594,\n",
      "           0.93694,     0.93794,     0.93894,     0.93994,     0.94094,     0.94194,     0.94294,     0.94394,     0.94494,     0.94595,     0.94695,     0.94795,     0.94895,     0.94995,     0.95095,     0.95195,     0.95295,     0.95395,     0.95495,     0.95596,     0.95696,     0.95796,     0.95896,     0.95996,\n",
      "           0.96096,     0.96196,     0.96296,     0.96396,     0.96496,     0.96597,     0.96697,     0.96797,     0.96897,     0.96997,     0.97097,     0.97197,     0.97297,     0.97397,     0.97497,     0.97598,     0.97698,     0.97798,     0.97898,     0.97998,     0.98098,     0.98198,     0.98298,     0.98398,\n",
      "           0.98498,     0.98599,     0.98699,     0.98799,     0.98899,     0.98999,     0.99099,     0.99199,     0.99299,     0.99399,     0.99499,       0.996,       0.997,       0.998,       0.999,           1]), array([[    0.11729,     0.11729,     0.16267,     0.19504,     0.22157,     0.24782,     0.26703,     0.28697,     0.29802,     0.30853,     0.32078,     0.33027,     0.34727,     0.35521,     0.36168,     0.36463,     0.37456,      0.3821,     0.38861,     0.39391,     0.40461,      0.4151,     0.42024,\n",
      "            0.42837,     0.43835,     0.44084,     0.44202,      0.4469,     0.45348,     0.45627,     0.46098,     0.46668,     0.47652,     0.48512,     0.49196,     0.49649,     0.49786,     0.50367,     0.51109,     0.51777,     0.52778,     0.53378,     0.53884,     0.54397,     0.55018,     0.55579,\n",
      "            0.56007,     0.56776,     0.57434,     0.57595,     0.57785,      0.5797,     0.58068,     0.58166,     0.58056,     0.58179,     0.58574,      0.5869,     0.58805,     0.58908,     0.59001,     0.59094,     0.59815,     0.60072,     0.60193,     0.60303,     0.60357,     0.60411,     0.60466,\n",
      "             0.6052,     0.60574,     0.60954,     0.61149,     0.61259,     0.61344,     0.61429,     0.61513,     0.61593,     0.61674,     0.61754,     0.61934,     0.62289,     0.63088,     0.63226,     0.63364,     0.63879,      0.6419,       0.645,      0.6464,     0.64779,     0.64916,     0.65052,\n",
      "            0.65155,     0.65249,     0.65343,     0.65521,     0.65952,     0.66181,      0.6635,     0.66213,     0.66353,     0.66659,     0.66938,     0.67139,     0.67695,     0.67957,     0.67836,     0.67949,     0.68063,     0.68177,     0.68077,     0.68071,     0.68311,      0.6835,      0.6829,\n",
      "            0.68229,     0.68677,      0.6879,     0.68902,     0.69124,      0.6924,     0.69199,     0.69166,     0.69133,       0.691,     0.69068,     0.69267,     0.69519,     0.69608,     0.69697,     0.69786,     0.69875,     0.69928,     0.69978,     0.70028,     0.70079,     0.70129,      0.7018,\n",
      "             0.7023,     0.70281,     0.70419,     0.70628,     0.70813,     0.70976,     0.71139,     0.71588,     0.71566,     0.71543,      0.7152,     0.71497,     0.71475,     0.71452,     0.71429,     0.71623,     0.71823,     0.71763,     0.71918,     0.72073,     0.72388,     0.72732,     0.72959,\n",
      "            0.73413,     0.73634,      0.7374,     0.73846,     0.73952,     0.74118,     0.74427,     0.74886,     0.75124,     0.75282,     0.75441,     0.76015,      0.7609,     0.76166,     0.76242,     0.76318,     0.76394,     0.76469,      0.7672,      0.7699,     0.76873,     0.77264,     0.77477,\n",
      "            0.77596,     0.77716,     0.77835,     0.77961,     0.78111,     0.78262,     0.78413,     0.78715,     0.79037,     0.79105,     0.79174,     0.79243,     0.79311,      0.7938,     0.79448,     0.79517,     0.79564,     0.79449,     0.79493,     0.79564,     0.79635,     0.79705,     0.79776,\n",
      "            0.79847,     0.79918,     0.79988,      0.8057,      0.8051,     0.80449,     0.80417,     0.80393,     0.80369,     0.80345,     0.80321,     0.80297,     0.80219,     0.80143,     0.80129,     0.80114,     0.80099,     0.80084,     0.80069,     0.80054,     0.80039,     0.80024,      0.8001,\n",
      "            0.80029,     0.80111,     0.80194,     0.80276,     0.80358,      0.8044,     0.80522,     0.80595,     0.80576,     0.80558,     0.80539,      0.8052,     0.80501,     0.80482,     0.80463,     0.80431,     0.80375,     0.80318,     0.80557,     0.80907,     0.81041,     0.81168,     0.81296,\n",
      "            0.81424,     0.81534,      0.8149,     0.81447,     0.81403,     0.81493,     0.81613,     0.81732,     0.81852,     0.81971,     0.82084,     0.82189,     0.82295,       0.824,     0.82506,     0.82611,     0.82724,      0.8285,     0.82975,       0.831,     0.83226,     0.83346,     0.83436,\n",
      "            0.83527,     0.83617,     0.83707,     0.83797,     0.83887,     0.83978,     0.83984,     0.83962,     0.83941,      0.8392,     0.83898,     0.83877,     0.83865,     0.83857,     0.83849,      0.8384,     0.83832,     0.83824,     0.83816,     0.83808,     0.83799,     0.83791,     0.83783,\n",
      "            0.83775,     0.83767,     0.83758,      0.8375,     0.83742,     0.83768,     0.83806,     0.83844,     0.83882,      0.8392,     0.83958,     0.83997,     0.84035,     0.84073,     0.84111,     0.84149,     0.84187,     0.84225,     0.84263,     0.84301,     0.84339,     0.84377,     0.84416,\n",
      "             0.8441,     0.84387,     0.84364,     0.84342,     0.84319,     0.84297,     0.84289,      0.8428,     0.84272,     0.84263,     0.84255,     0.84246,     0.84238,      0.8423,     0.84221,     0.84213,     0.84204,     0.84196,     0.84187,     0.84179,      0.8417,     0.84149,     0.84118,\n",
      "            0.84086,     0.84055,     0.84019,     0.83977,     0.83935,     0.83888,     0.83797,     0.83786,     0.83829,     0.83872,     0.83915,     0.83958,     0.84001,     0.84043,     0.84086,     0.84129,     0.84172,     0.84215,     0.84258,     0.84301,     0.84344,     0.84387,     0.84429,\n",
      "            0.84472,     0.84617,     0.84795,     0.84972,      0.8515,      0.8542,     0.85748,     0.85933,     0.86603,     0.86486,     0.86483,     0.86479,     0.86476,     0.86473,     0.86469,     0.86466,     0.86462,     0.86459,     0.86455,     0.86452,     0.86448,     0.86445,     0.86442,\n",
      "            0.86438,     0.86435,     0.86431,     0.86428,     0.86424,     0.86421,     0.86417,     0.86414,      0.8641,     0.86407,     0.86404,       0.864,     0.86397,     0.86393,      0.8639,     0.86386,     0.86383,     0.86379,     0.86376,     0.86372,     0.86369,     0.86366,     0.86354,\n",
      "            0.86333,     0.86312,     0.86291,      0.8627,     0.86249,     0.86312,     0.86464,     0.86616,     0.86768,     0.86919,     0.86981,     0.86904,     0.86887,      0.8687,     0.86854,     0.86837,     0.86821,     0.86804,     0.86946,      0.8747,     0.87612,     0.87601,     0.87591,\n",
      "            0.87581,     0.87571,      0.8756,      0.8755,      0.8754,      0.8753,     0.87519,     0.87509,     0.87496,     0.87464,     0.87431,     0.87399,     0.87319,     0.88129,     0.88181,     0.88233,     0.88285,     0.88337,     0.88389,     0.88441,     0.88493,     0.88545,     0.88597,\n",
      "            0.88649,       0.887,     0.88752,     0.88804,     0.88856,     0.88908,      0.8896,     0.89021,     0.89114,     0.89206,     0.89299,     0.89391,     0.89484,     0.89576,     0.89669,     0.89761,     0.89854,     0.89895,     0.89888,      0.8988,     0.89872,     0.89865,     0.89857,\n",
      "             0.8985,     0.89842,     0.89834,     0.89827,     0.89819,     0.89811,     0.89804,     0.89796,     0.89793,      0.8979,     0.89786,     0.89783,      0.8978,     0.89776,     0.89773,      0.8977,     0.89767,     0.89763,      0.8976,     0.89757,     0.89753,      0.8975,     0.89747,\n",
      "            0.89744,      0.8974,     0.89737,     0.89734,      0.8973,     0.89727,     0.89724,     0.89721,     0.89717,     0.89714,     0.89711,     0.89708,     0.89704,     0.89701,     0.89698,     0.89694,     0.89691,     0.89667,     0.89641,     0.89614,     0.89588,     0.90116,     0.90525,\n",
      "            0.90521,     0.90517,     0.90514,      0.9051,     0.90506,     0.90502,     0.90498,     0.90495,     0.90491,     0.90487,     0.90483,      0.9048,     0.90476,     0.90472,     0.90468,     0.90464,     0.90461,     0.90457,     0.90453,     0.90449,     0.90445,     0.90442,     0.90438,\n",
      "            0.90434,      0.9043,     0.90427,     0.90416,     0.90402,     0.90389,     0.90376,     0.90362,     0.90349,     0.90336,     0.90465,     0.91278,     0.91248,     0.91218,     0.91198,     0.91182,     0.91166,      0.9115,     0.91134,     0.91118,     0.91107,       0.911,     0.91092,\n",
      "            0.91085,     0.91077,      0.9107,     0.91063,     0.91055,     0.91048,      0.9104,     0.91033,     0.91026,     0.91018,     0.91009,     0.90971,     0.90933,     0.90835,      0.9079,     0.90772,     0.90755,     0.90738,      0.9072,     0.90703,     0.90973,     0.91362,     0.91751,\n",
      "            0.91723,      0.9168,     0.91655,     0.91639,     0.91623,     0.91606,      0.9159,     0.91574,     0.91557,     0.91539,     0.91522,     0.91504,     0.91487,      0.9147,     0.91407,     0.91353,     0.91342,     0.91332,     0.91321,      0.9131,     0.91299,     0.91288,     0.91278,\n",
      "            0.91267,     0.91256,     0.91222,     0.91156,      0.9111,     0.91071,     0.91032,     0.90781,     0.90736,     0.90691,     0.90636,     0.90571,     0.90659,     0.90879,     0.91099,      0.9132,      0.9154,      0.9176,     0.91757,      0.9173,     0.91704,     0.91678,     0.91662,\n",
      "            0.91653,     0.91644,     0.91636,     0.91627,     0.91618,      0.9161,     0.91601,     0.91592,     0.91584,     0.91575,     0.91566,     0.91558,     0.91548,      0.9152,     0.91491,     0.91462,     0.91433,     0.91049,     0.91274,     0.91498,     0.91723,     0.91948,     0.92172,\n",
      "            0.92397,      0.9238,     0.92329,     0.92296,     0.92276,     0.92256,     0.92237,     0.92217,     0.92197,     0.92077,     0.91998,     0.91912,     0.91786,     0.91747,     0.91708,     0.91669,     0.93198,     0.93165,     0.93133,     0.93069,      0.9297,     0.92954,     0.92938,\n",
      "            0.92921,     0.92905,     0.92889,     0.92873,     0.92857,     0.93633,     0.94409,     0.94504,     0.94453,     0.94339,     0.94291,     0.94498,     0.94704,     0.94911,     0.95118,     0.95325,     0.95532,     0.95739,     0.95946,     0.96067,     0.96036,     0.96004,     0.95975,\n",
      "            0.95946,     0.95915,      0.9586,     0.97867,      0.9785,     0.97832,     0.97806,     0.97777,      0.9776,     0.97744,     0.97727,     0.97711,     0.97695,     0.97679,      0.9815,     0.98847,     0.99543,           1,           1,           1,           1,           1,           1,\n",
      "                  1,           1,           1,           1,           1,           1,           1,           1,           1,           1,           1,           1,           1,           1,           1,           1,           1,           1,           1,           1,           1,           1,           1,\n",
      "                  1,           1,           1,           1,           1,           1,           1,           1,           1,           1,           1,           1,           1,           1,           1,           1,           1,           1,           1,           1,           1,           1,           1,\n",
      "                  1,           1,           1,           1,           1,           1,           1,           1,           1,           1,           1,           1,           1,           1,           1,           1,           1,           1,           1,           1,           1,           1,           1,\n",
      "                  1,           1,           1,           1,           1,           1,           1,           1,           1,           1,           1,           1,           1,           1,           1,           1,           1,           1,           1,           1,           1,           1,           1,\n",
      "                  1,           1,           1,           1,           1,           1,           1,           1,           1,           1,           1,           1,           1,           1,           1,           1,           1,           1,           1,           1,           1,           1,           1,\n",
      "                  1,           1,           1,           1,           1,           1,           1,           1,           1,           1,           1,           1,           1,           1,           1,           1,           1,           1,           1,           1,           1,           1,           1,\n",
      "                  1,           1,           1,           1,           1,           1,           1,           1,           1,           1,           1,           1,           1,           1,           1,           1,           1,           1,           1,           1,           1,           1,           1,\n",
      "                  1,           1,           1,           1,           1,           1,           1,           1,           1,           1,           1,           1,           1,           1,           1,           1,           1,           1,           1,           1,           1,           1,           1,\n",
      "                  1,           1,           1,           1,           1,           1,           1,           1,           1,           1,           1,           1,           1,           1,           1,           1,           1,           1,           1,           1,           1,           1,           1,\n",
      "                  1,           1,           1,           1,           1,           1,           1,           1,           1,           1,           1,           1,           1,           1,           1,           1,           1,           1,           1,           1,           1,           1,           1,\n",
      "                  1,           1,           1,           1,           1,           1,           1,           1,           1,           1,           1,           1,           1,           1,           1,           1,           1,           1,           1,           1,           1,           1,           1,\n",
      "                  1,           1,           1,           1,           1,           1,           1,           1,           1,           1,           1]]), 'Confidence', 'Precision'], [array([          0,    0.001001,    0.002002,    0.003003,    0.004004,    0.005005,    0.006006,    0.007007,    0.008008,    0.009009,     0.01001,    0.011011,    0.012012,    0.013013,    0.014014,    0.015015,    0.016016,    0.017017,    0.018018,    0.019019,     0.02002,    0.021021,    0.022022,    0.023023,\n",
      "          0.024024,    0.025025,    0.026026,    0.027027,    0.028028,    0.029029,     0.03003,    0.031031,    0.032032,    0.033033,    0.034034,    0.035035,    0.036036,    0.037037,    0.038038,    0.039039,     0.04004,    0.041041,    0.042042,    0.043043,    0.044044,    0.045045,    0.046046,    0.047047,\n",
      "          0.048048,    0.049049,     0.05005,    0.051051,    0.052052,    0.053053,    0.054054,    0.055055,    0.056056,    0.057057,    0.058058,    0.059059,     0.06006,    0.061061,    0.062062,    0.063063,    0.064064,    0.065065,    0.066066,    0.067067,    0.068068,    0.069069,     0.07007,    0.071071,\n",
      "          0.072072,    0.073073,    0.074074,    0.075075,    0.076076,    0.077077,    0.078078,    0.079079,     0.08008,    0.081081,    0.082082,    0.083083,    0.084084,    0.085085,    0.086086,    0.087087,    0.088088,    0.089089,     0.09009,    0.091091,    0.092092,    0.093093,    0.094094,    0.095095,\n",
      "          0.096096,    0.097097,    0.098098,    0.099099,      0.1001,      0.1011,      0.1021,      0.1031,      0.1041,     0.10511,     0.10611,     0.10711,     0.10811,     0.10911,     0.11011,     0.11111,     0.11211,     0.11311,     0.11411,     0.11512,     0.11612,     0.11712,     0.11812,     0.11912,\n",
      "           0.12012,     0.12112,     0.12212,     0.12312,     0.12412,     0.12513,     0.12613,     0.12713,     0.12813,     0.12913,     0.13013,     0.13113,     0.13213,     0.13313,     0.13413,     0.13514,     0.13614,     0.13714,     0.13814,     0.13914,     0.14014,     0.14114,     0.14214,     0.14314,\n",
      "           0.14414,     0.14515,     0.14615,     0.14715,     0.14815,     0.14915,     0.15015,     0.15115,     0.15215,     0.15315,     0.15415,     0.15516,     0.15616,     0.15716,     0.15816,     0.15916,     0.16016,     0.16116,     0.16216,     0.16316,     0.16416,     0.16517,     0.16617,     0.16717,\n",
      "           0.16817,     0.16917,     0.17017,     0.17117,     0.17217,     0.17317,     0.17417,     0.17518,     0.17618,     0.17718,     0.17818,     0.17918,     0.18018,     0.18118,     0.18218,     0.18318,     0.18418,     0.18519,     0.18619,     0.18719,     0.18819,     0.18919,     0.19019,     0.19119,\n",
      "           0.19219,     0.19319,     0.19419,      0.1952,      0.1962,      0.1972,      0.1982,      0.1992,      0.2002,      0.2012,      0.2022,      0.2032,      0.2042,     0.20521,     0.20621,     0.20721,     0.20821,     0.20921,     0.21021,     0.21121,     0.21221,     0.21321,     0.21421,     0.21522,\n",
      "           0.21622,     0.21722,     0.21822,     0.21922,     0.22022,     0.22122,     0.22222,     0.22322,     0.22422,     0.22523,     0.22623,     0.22723,     0.22823,     0.22923,     0.23023,     0.23123,     0.23223,     0.23323,     0.23423,     0.23524,     0.23624,     0.23724,     0.23824,     0.23924,\n",
      "           0.24024,     0.24124,     0.24224,     0.24324,     0.24424,     0.24525,     0.24625,     0.24725,     0.24825,     0.24925,     0.25025,     0.25125,     0.25225,     0.25325,     0.25425,     0.25526,     0.25626,     0.25726,     0.25826,     0.25926,     0.26026,     0.26126,     0.26226,     0.26326,\n",
      "           0.26426,     0.26527,     0.26627,     0.26727,     0.26827,     0.26927,     0.27027,     0.27127,     0.27227,     0.27327,     0.27427,     0.27528,     0.27628,     0.27728,     0.27828,     0.27928,     0.28028,     0.28128,     0.28228,     0.28328,     0.28428,     0.28529,     0.28629,     0.28729,\n",
      "           0.28829,     0.28929,     0.29029,     0.29129,     0.29229,     0.29329,     0.29429,      0.2953,      0.2963,      0.2973,      0.2983,      0.2993,      0.3003,      0.3013,      0.3023,      0.3033,      0.3043,     0.30531,     0.30631,     0.30731,     0.30831,     0.30931,     0.31031,     0.31131,\n",
      "           0.31231,     0.31331,     0.31431,     0.31532,     0.31632,     0.31732,     0.31832,     0.31932,     0.32032,     0.32132,     0.32232,     0.32332,     0.32432,     0.32533,     0.32633,     0.32733,     0.32833,     0.32933,     0.33033,     0.33133,     0.33233,     0.33333,     0.33433,     0.33534,\n",
      "           0.33634,     0.33734,     0.33834,     0.33934,     0.34034,     0.34134,     0.34234,     0.34334,     0.34434,     0.34535,     0.34635,     0.34735,     0.34835,     0.34935,     0.35035,     0.35135,     0.35235,     0.35335,     0.35435,     0.35536,     0.35636,     0.35736,     0.35836,     0.35936,\n",
      "           0.36036,     0.36136,     0.36236,     0.36336,     0.36436,     0.36537,     0.36637,     0.36737,     0.36837,     0.36937,     0.37037,     0.37137,     0.37237,     0.37337,     0.37437,     0.37538,     0.37638,     0.37738,     0.37838,     0.37938,     0.38038,     0.38138,     0.38238,     0.38338,\n",
      "           0.38438,     0.38539,     0.38639,     0.38739,     0.38839,     0.38939,     0.39039,     0.39139,     0.39239,     0.39339,     0.39439,      0.3954,      0.3964,      0.3974,      0.3984,      0.3994,      0.4004,      0.4014,      0.4024,      0.4034,      0.4044,     0.40541,     0.40641,     0.40741,\n",
      "           0.40841,     0.40941,     0.41041,     0.41141,     0.41241,     0.41341,     0.41441,     0.41542,     0.41642,     0.41742,     0.41842,     0.41942,     0.42042,     0.42142,     0.42242,     0.42342,     0.42442,     0.42543,     0.42643,     0.42743,     0.42843,     0.42943,     0.43043,     0.43143,\n",
      "           0.43243,     0.43343,     0.43443,     0.43544,     0.43644,     0.43744,     0.43844,     0.43944,     0.44044,     0.44144,     0.44244,     0.44344,     0.44444,     0.44545,     0.44645,     0.44745,     0.44845,     0.44945,     0.45045,     0.45145,     0.45245,     0.45345,     0.45445,     0.45546,\n",
      "           0.45646,     0.45746,     0.45846,     0.45946,     0.46046,     0.46146,     0.46246,     0.46346,     0.46446,     0.46547,     0.46647,     0.46747,     0.46847,     0.46947,     0.47047,     0.47147,     0.47247,     0.47347,     0.47447,     0.47548,     0.47648,     0.47748,     0.47848,     0.47948,\n",
      "           0.48048,     0.48148,     0.48248,     0.48348,     0.48448,     0.48549,     0.48649,     0.48749,     0.48849,     0.48949,     0.49049,     0.49149,     0.49249,     0.49349,     0.49449,      0.4955,      0.4965,      0.4975,      0.4985,      0.4995,      0.5005,      0.5015,      0.5025,      0.5035,\n",
      "            0.5045,     0.50551,     0.50651,     0.50751,     0.50851,     0.50951,     0.51051,     0.51151,     0.51251,     0.51351,     0.51451,     0.51552,     0.51652,     0.51752,     0.51852,     0.51952,     0.52052,     0.52152,     0.52252,     0.52352,     0.52452,     0.52553,     0.52653,     0.52753,\n",
      "           0.52853,     0.52953,     0.53053,     0.53153,     0.53253,     0.53353,     0.53453,     0.53554,     0.53654,     0.53754,     0.53854,     0.53954,     0.54054,     0.54154,     0.54254,     0.54354,     0.54454,     0.54555,     0.54655,     0.54755,     0.54855,     0.54955,     0.55055,     0.55155,\n",
      "           0.55255,     0.55355,     0.55455,     0.55556,     0.55656,     0.55756,     0.55856,     0.55956,     0.56056,     0.56156,     0.56256,     0.56356,     0.56456,     0.56557,     0.56657,     0.56757,     0.56857,     0.56957,     0.57057,     0.57157,     0.57257,     0.57357,     0.57457,     0.57558,\n",
      "           0.57658,     0.57758,     0.57858,     0.57958,     0.58058,     0.58158,     0.58258,     0.58358,     0.58458,     0.58559,     0.58659,     0.58759,     0.58859,     0.58959,     0.59059,     0.59159,     0.59259,     0.59359,     0.59459,      0.5956,      0.5966,      0.5976,      0.5986,      0.5996,\n",
      "            0.6006,      0.6016,      0.6026,      0.6036,      0.6046,     0.60561,     0.60661,     0.60761,     0.60861,     0.60961,     0.61061,     0.61161,     0.61261,     0.61361,     0.61461,     0.61562,     0.61662,     0.61762,     0.61862,     0.61962,     0.62062,     0.62162,     0.62262,     0.62362,\n",
      "           0.62462,     0.62563,     0.62663,     0.62763,     0.62863,     0.62963,     0.63063,     0.63163,     0.63263,     0.63363,     0.63463,     0.63564,     0.63664,     0.63764,     0.63864,     0.63964,     0.64064,     0.64164,     0.64264,     0.64364,     0.64464,     0.64565,     0.64665,     0.64765,\n",
      "           0.64865,     0.64965,     0.65065,     0.65165,     0.65265,     0.65365,     0.65465,     0.65566,     0.65666,     0.65766,     0.65866,     0.65966,     0.66066,     0.66166,     0.66266,     0.66366,     0.66466,     0.66567,     0.66667,     0.66767,     0.66867,     0.66967,     0.67067,     0.67167,\n",
      "           0.67267,     0.67367,     0.67467,     0.67568,     0.67668,     0.67768,     0.67868,     0.67968,     0.68068,     0.68168,     0.68268,     0.68368,     0.68468,     0.68569,     0.68669,     0.68769,     0.68869,     0.68969,     0.69069,     0.69169,     0.69269,     0.69369,     0.69469,      0.6957,\n",
      "            0.6967,      0.6977,      0.6987,      0.6997,      0.7007,      0.7017,      0.7027,      0.7037,      0.7047,     0.70571,     0.70671,     0.70771,     0.70871,     0.70971,     0.71071,     0.71171,     0.71271,     0.71371,     0.71471,     0.71572,     0.71672,     0.71772,     0.71872,     0.71972,\n",
      "           0.72072,     0.72172,     0.72272,     0.72372,     0.72472,     0.72573,     0.72673,     0.72773,     0.72873,     0.72973,     0.73073,     0.73173,     0.73273,     0.73373,     0.73473,     0.73574,     0.73674,     0.73774,     0.73874,     0.73974,     0.74074,     0.74174,     0.74274,     0.74374,\n",
      "           0.74474,     0.74575,     0.74675,     0.74775,     0.74875,     0.74975,     0.75075,     0.75175,     0.75275,     0.75375,     0.75475,     0.75576,     0.75676,     0.75776,     0.75876,     0.75976,     0.76076,     0.76176,     0.76276,     0.76376,     0.76476,     0.76577,     0.76677,     0.76777,\n",
      "           0.76877,     0.76977,     0.77077,     0.77177,     0.77277,     0.77377,     0.77477,     0.77578,     0.77678,     0.77778,     0.77878,     0.77978,     0.78078,     0.78178,     0.78278,     0.78378,     0.78478,     0.78579,     0.78679,     0.78779,     0.78879,     0.78979,     0.79079,     0.79179,\n",
      "           0.79279,     0.79379,     0.79479,      0.7958,      0.7968,      0.7978,      0.7988,      0.7998,      0.8008,      0.8018,      0.8028,      0.8038,      0.8048,     0.80581,     0.80681,     0.80781,     0.80881,     0.80981,     0.81081,     0.81181,     0.81281,     0.81381,     0.81481,     0.81582,\n",
      "           0.81682,     0.81782,     0.81882,     0.81982,     0.82082,     0.82182,     0.82282,     0.82382,     0.82482,     0.82583,     0.82683,     0.82783,     0.82883,     0.82983,     0.83083,     0.83183,     0.83283,     0.83383,     0.83483,     0.83584,     0.83684,     0.83784,     0.83884,     0.83984,\n",
      "           0.84084,     0.84184,     0.84284,     0.84384,     0.84484,     0.84585,     0.84685,     0.84785,     0.84885,     0.84985,     0.85085,     0.85185,     0.85285,     0.85385,     0.85485,     0.85586,     0.85686,     0.85786,     0.85886,     0.85986,     0.86086,     0.86186,     0.86286,     0.86386,\n",
      "           0.86486,     0.86587,     0.86687,     0.86787,     0.86887,     0.86987,     0.87087,     0.87187,     0.87287,     0.87387,     0.87487,     0.87588,     0.87688,     0.87788,     0.87888,     0.87988,     0.88088,     0.88188,     0.88288,     0.88388,     0.88488,     0.88589,     0.88689,     0.88789,\n",
      "           0.88889,     0.88989,     0.89089,     0.89189,     0.89289,     0.89389,     0.89489,      0.8959,      0.8969,      0.8979,      0.8989,      0.8999,      0.9009,      0.9019,      0.9029,      0.9039,      0.9049,     0.90591,     0.90691,     0.90791,     0.90891,     0.90991,     0.91091,     0.91191,\n",
      "           0.91291,     0.91391,     0.91491,     0.91592,     0.91692,     0.91792,     0.91892,     0.91992,     0.92092,     0.92192,     0.92292,     0.92392,     0.92492,     0.92593,     0.92693,     0.92793,     0.92893,     0.92993,     0.93093,     0.93193,     0.93293,     0.93393,     0.93493,     0.93594,\n",
      "           0.93694,     0.93794,     0.93894,     0.93994,     0.94094,     0.94194,     0.94294,     0.94394,     0.94494,     0.94595,     0.94695,     0.94795,     0.94895,     0.94995,     0.95095,     0.95195,     0.95295,     0.95395,     0.95495,     0.95596,     0.95696,     0.95796,     0.95896,     0.95996,\n",
      "           0.96096,     0.96196,     0.96296,     0.96396,     0.96496,     0.96597,     0.96697,     0.96797,     0.96897,     0.96997,     0.97097,     0.97197,     0.97297,     0.97397,     0.97497,     0.97598,     0.97698,     0.97798,     0.97898,     0.97998,     0.98098,     0.98198,     0.98298,     0.98398,\n",
      "           0.98498,     0.98599,     0.98699,     0.98799,     0.98899,     0.98999,     0.99099,     0.99199,     0.99299,     0.99399,     0.99499,       0.996,       0.997,       0.998,       0.999,           1]), array([[    0.78736,     0.78736,     0.78161,     0.78161,     0.76437,     0.75287,     0.75287,     0.74713,     0.74713,     0.74138,     0.74138,     0.74138,     0.74138,     0.73563,     0.73563,     0.72989,     0.72989,     0.72989,     0.72989,     0.72989,     0.72989,     0.72989,     0.72989,\n",
      "            0.72414,     0.72414,     0.72414,     0.72414,     0.72414,     0.72414,     0.72414,     0.71839,     0.71839,     0.71839,     0.71839,     0.71839,     0.71839,     0.71839,     0.71839,     0.71264,     0.71264,     0.71264,     0.71264,     0.71264,     0.71264,     0.71264,     0.71264,\n",
      "            0.71264,     0.71264,     0.71264,     0.71264,     0.71264,     0.71264,     0.71264,     0.71264,      0.7069,      0.7069,      0.7069,      0.7069,      0.7069,      0.7069,      0.7069,      0.7069,      0.7069,      0.7069,      0.7069,      0.7069,      0.7069,      0.7069,      0.7069,\n",
      "             0.7069,      0.7069,      0.7069,      0.7069,      0.7069,      0.7069,      0.7069,      0.7069,      0.7069,      0.7069,      0.7069,      0.7069,      0.7069,      0.7069,      0.7069,      0.7069,      0.7069,      0.7069,      0.7069,      0.7069,      0.7069,      0.7069,      0.7069,\n",
      "             0.7069,      0.7069,      0.7069,      0.7069,      0.7069,      0.7069,      0.7069,     0.69831,      0.6954,      0.6954,      0.6954,      0.6954,      0.6954,     0.69475,     0.68966,     0.68966,     0.68966,     0.68966,     0.68635,     0.68391,     0.68391,     0.68264,     0.68072,\n",
      "            0.67881,     0.67816,     0.67816,     0.67816,     0.67816,     0.67271,     0.67142,     0.67039,     0.66936,     0.66833,     0.66729,     0.66667,     0.66667,     0.66667,     0.66667,     0.66667,     0.66667,     0.66667,     0.66667,     0.66667,     0.66667,     0.66667,     0.66667,\n",
      "            0.66667,     0.66667,     0.66667,     0.66667,     0.66667,     0.66667,     0.66667,     0.66613,     0.66539,     0.66465,     0.66391,     0.66316,     0.66242,     0.66168,     0.66094,     0.66092,     0.66092,     0.65517,     0.65517,     0.65517,     0.65517,     0.65517,     0.65517,\n",
      "            0.65517,     0.65517,     0.65517,     0.65517,     0.65517,     0.65517,     0.65517,     0.65517,     0.65517,     0.65517,     0.65517,     0.65517,     0.65517,     0.65517,     0.65517,     0.65517,     0.65517,     0.65517,     0.65517,      0.6538,     0.64952,     0.64943,     0.64943,\n",
      "            0.64943,     0.64943,     0.64943,     0.64943,     0.64943,     0.64943,     0.64943,     0.64943,     0.64943,     0.64943,     0.64943,     0.64943,     0.64943,     0.64943,     0.64943,     0.64943,     0.64889,     0.64434,     0.64368,     0.64368,     0.64368,     0.64368,     0.64368,\n",
      "            0.64368,     0.64368,     0.64368,     0.64345,     0.64098,     0.63851,      0.6372,     0.63624,     0.63528,     0.63432,     0.63336,      0.6324,     0.62928,      0.6263,     0.62571,     0.62513,     0.62455,     0.62397,     0.62339,     0.62281,     0.62223,     0.62165,     0.62106,\n",
      "            0.62069,     0.62069,     0.62069,     0.62069,     0.62069,     0.62069,     0.62069,     0.62062,     0.61988,     0.61913,     0.61839,     0.61765,      0.6169,     0.61616,     0.61541,     0.61414,     0.61197,     0.60979,      0.6092,      0.6092,      0.6092,      0.6092,      0.6092,\n",
      "             0.6092,     0.60901,     0.60726,     0.60551,     0.60376,     0.60345,     0.60345,     0.60345,     0.60345,     0.60345,     0.60345,     0.60345,     0.60345,     0.60345,     0.60345,     0.60345,     0.60345,     0.60345,     0.60345,     0.60345,     0.60345,     0.60345,     0.60345,\n",
      "            0.60345,     0.60345,     0.60345,     0.60345,     0.60345,     0.60345,     0.60273,     0.60178,     0.60082,     0.59987,     0.59892,     0.59796,     0.59744,     0.59708,     0.59672,     0.59636,       0.596,     0.59564,     0.59528,     0.59492,     0.59456,      0.5942,     0.59385,\n",
      "            0.59349,     0.59313,     0.59277,     0.59241,     0.59205,     0.59195,     0.59195,     0.59195,     0.59195,     0.59195,     0.59195,     0.59195,     0.59195,     0.59195,     0.59195,     0.59195,     0.59195,     0.59195,     0.59195,     0.59195,     0.59195,     0.59195,     0.59195,\n",
      "            0.59122,     0.59021,     0.58919,     0.58817,     0.58716,     0.58618,     0.58581,     0.58544,     0.58507,      0.5847,     0.58433,     0.58396,     0.58359,     0.58322,     0.58285,     0.58248,     0.58211,     0.58174,     0.58137,       0.581,     0.58063,     0.57971,     0.57835,\n",
      "            0.57698,     0.57562,     0.57411,     0.57233,     0.57054,     0.56853,     0.56475,     0.56322,     0.56322,     0.56322,     0.56322,     0.56322,     0.56322,     0.56322,     0.56322,     0.56322,     0.56322,     0.56322,     0.56322,     0.56322,     0.56322,     0.56322,     0.56322,\n",
      "            0.56322,     0.56322,     0.56322,     0.56322,     0.56322,     0.56322,     0.56322,     0.56173,     0.55728,     0.55172,     0.55156,      0.5514,     0.55124,     0.55107,     0.55091,     0.55075,     0.55059,     0.55043,     0.55027,      0.5501,     0.54994,     0.54978,     0.54962,\n",
      "            0.54946,      0.5493,     0.54914,     0.54897,     0.54881,     0.54865,     0.54849,     0.54833,     0.54817,     0.54801,     0.54784,     0.54768,     0.54752,     0.54736,      0.5472,     0.54704,     0.54687,     0.54671,     0.54655,     0.54639,     0.54623,     0.54607,     0.54555,\n",
      "            0.54459,     0.54362,     0.54266,     0.54169,     0.54073,     0.54023,     0.54023,     0.54023,     0.54023,     0.54023,     0.53756,     0.53391,     0.53314,     0.53237,      0.5316,     0.53082,     0.53005,     0.52928,     0.52874,     0.52874,     0.52838,     0.52789,     0.52739,\n",
      "            0.52689,      0.5264,      0.5259,     0.52541,     0.52491,     0.52442,     0.52392,     0.52343,     0.52281,     0.52128,     0.51974,     0.51821,     0.51449,     0.51149,     0.51149,     0.51149,     0.51149,     0.51149,     0.51149,     0.51149,     0.51149,     0.51149,     0.51149,\n",
      "            0.51149,     0.51149,     0.51149,     0.51149,     0.51149,     0.51149,     0.51149,     0.51149,     0.51149,     0.51149,     0.51149,     0.51149,     0.51149,     0.51149,     0.51149,     0.51149,     0.51149,     0.51128,     0.51085,     0.51043,     0.51001,     0.50958,     0.50916,\n",
      "            0.50873,     0.50831,     0.50789,     0.50746,     0.50704,     0.50662,     0.50619,     0.50577,     0.50558,      0.5054,     0.50522,     0.50504,     0.50486,     0.50468,      0.5045,     0.50432,     0.50414,     0.50396,     0.50379,     0.50361,     0.50343,     0.50325,     0.50307,\n",
      "            0.50289,     0.50271,     0.50253,     0.50235,     0.50217,     0.50199,     0.50181,     0.50164,     0.50146,     0.50128,      0.5011,     0.50092,     0.50074,     0.50056,     0.50038,      0.5002,     0.50002,     0.49876,     0.49733,      0.4959,     0.49448,     0.49425,     0.49418,\n",
      "            0.49396,     0.49374,     0.49353,     0.49331,      0.4931,     0.49288,     0.49267,     0.49245,     0.49223,     0.49202,      0.4918,     0.49159,     0.49137,     0.49115,     0.49094,     0.49072,     0.49051,     0.49029,     0.49007,     0.48986,     0.48964,     0.48943,     0.48921,\n",
      "            0.48899,     0.48878,     0.48856,     0.48795,     0.48721,     0.48646,     0.48572,     0.48498,     0.48423,     0.48349,     0.48276,     0.48117,     0.47938,     0.47758,     0.47637,     0.47543,     0.47449,     0.47356,     0.47262,     0.47168,     0.47103,      0.4706,     0.47018,\n",
      "            0.46975,     0.46933,      0.4689,     0.46847,     0.46805,     0.46762,      0.4672,     0.46677,     0.46635,     0.46592,     0.46541,     0.46327,     0.46114,     0.45567,     0.45322,     0.45229,     0.45135,     0.45042,     0.44948,     0.44855,     0.44828,     0.44828,     0.44828,\n",
      "            0.44584,     0.44331,     0.44188,     0.44095,     0.44001,     0.43907,     0.43814,      0.4372,     0.43624,     0.43527,      0.4343,     0.43332,     0.43235,     0.43138,     0.42794,     0.42503,     0.42446,     0.42388,     0.42331,     0.42274,     0.42216,     0.42159,     0.42101,\n",
      "            0.42044,     0.41987,     0.41807,     0.41468,     0.41233,     0.41035,     0.40836,     0.39617,     0.39405,     0.39194,     0.38942,     0.38644,     0.38506,     0.38506,     0.38506,     0.38506,     0.38506,     0.38506,     0.38385,     0.38252,     0.38119,     0.37986,     0.37906,\n",
      "            0.37864,     0.37821,     0.37779,     0.37737,     0.37694,     0.37652,     0.37609,     0.37567,     0.37525,     0.37482,      0.3744,     0.37398,     0.37352,     0.37215,     0.37079,     0.36942,     0.36805,     0.35057,     0.35057,     0.35057,     0.35057,     0.35057,     0.35057,\n",
      "            0.35057,     0.34838,     0.34589,     0.34428,     0.34333,     0.34238,     0.34142,     0.34047,     0.33952,     0.33398,     0.33037,     0.32656,     0.32112,     0.31947,     0.31782,     0.31617,     0.31497,     0.31339,      0.3118,     0.30871,     0.30401,     0.30328,     0.30254,\n",
      "             0.3018,     0.30106,     0.30033,     0.29959,     0.29885,     0.29885,     0.29885,     0.29648,      0.2936,     0.28731,     0.28161,     0.28161,     0.28161,     0.28161,     0.28161,     0.28161,     0.28161,     0.28161,     0.28161,     0.28078,     0.27848,     0.27619,      0.2741,\n",
      "            0.27205,     0.26991,     0.26619,     0.26374,     0.26153,     0.25932,     0.25625,     0.25281,      0.2509,       0.249,     0.24709,     0.24537,     0.24365,     0.24192,     0.24138,     0.24138,     0.24138,      0.2396,     0.23502,     0.23238,     0.22955,     0.22132,     0.21496,\n",
      "            0.20952,     0.20106,     0.19481,     0.19377,     0.19272,     0.19168,     0.19064,     0.18917,     0.18236,     0.17826,     0.17455,     0.17139,     0.16898,     0.16656,     0.16391,     0.16126,     0.15859,     0.15592,     0.14183,     0.13287,     0.12827,     0.11411,     0.10832,\n",
      "            0.10467,    0.097181,    0.095673,    0.094165,    0.092656,    0.091287,    0.090037,    0.088788,    0.087538,    0.086289,     0.08514,    0.083999,    0.082857,    0.081716,    0.080574,    0.067293,    0.064419,    0.060427,    0.051378,    0.049511,    0.047644,    0.045877,    0.044936,\n",
      "           0.043996,    0.043055,    0.042115,    0.041175,    0.040234,    0.038861,    0.037485,    0.036109,    0.034733,    0.032942,    0.031057,    0.029173,    0.024239,    0.021585,    0.019801,    0.018017,    0.015586,    0.012659,     0.01008,    0.007732,           0,           0,           0,\n",
      "                  0,           0,           0,           0,           0,           0,           0,           0,           0,           0,           0,           0,           0,           0,           0,           0,           0,           0,           0,           0,           0,           0,           0,\n",
      "                  0,           0,           0,           0,           0,           0,           0,           0,           0,           0,           0,           0,           0,           0,           0,           0,           0,           0,           0,           0,           0,           0,           0,\n",
      "                  0,           0,           0,           0,           0,           0,           0,           0,           0,           0,           0,           0,           0,           0,           0,           0,           0,           0,           0,           0,           0,           0,           0,\n",
      "                  0,           0,           0,           0,           0,           0,           0,           0,           0,           0,           0,           0,           0,           0,           0,           0,           0,           0,           0,           0,           0,           0,           0,\n",
      "                  0,           0,           0,           0,           0,           0,           0,           0,           0,           0,           0,           0,           0,           0,           0,           0,           0,           0,           0,           0,           0,           0,           0,\n",
      "                  0,           0,           0,           0,           0,           0,           0,           0,           0,           0,           0,           0,           0,           0,           0,           0,           0,           0,           0,           0,           0,           0,           0,\n",
      "                  0,           0,           0,           0,           0,           0,           0,           0,           0,           0,           0,           0,           0,           0,           0,           0,           0,           0,           0,           0,           0,           0,           0,\n",
      "                  0,           0,           0,           0,           0,           0,           0,           0,           0,           0,           0,           0,           0,           0,           0,           0,           0,           0,           0,           0,           0,           0,           0,\n",
      "                  0,           0,           0,           0,           0,           0,           0,           0,           0,           0,           0]]), 'Confidence', 'Recall']]\n",
      "fitness: np.float64(0.34265437487997275)\n",
      "keys: ['metrics/precision(B)', 'metrics/recall(B)', 'metrics/mAP50(B)', 'metrics/mAP50-95(B)']\n",
      "maps: array([    0.30449])\n",
      "names: {0: 'bird'}\n",
      "plot: True\n",
      "results_dict: {'metrics/precision(B)': np.float64(0.8029738288602651), 'metrics/recall(B)': np.float64(0.6324017046471206), 'metrics/mAP50(B)': np.float64(0.6861344579834343), 'metrics/mAP50-95(B)': np.float64(0.30448992120181034), 'fitness': np.float64(0.34265437487997275)}\n",
      "save_dir: PosixPath('runs/detect/val3')\n",
      "speed: {'preprocess': 12.434738064521593, 'inference': 79.75918567741071, 'loss': 0.0007825161270785988, 'postprocess': 2.6489816451548025}\n",
      "task: 'detect'\n"
     ]
    }
   ],
   "source": [
    "# Load best or last checkpoint\n",
    "model = YOLO(\"runs/detect/train/weights/last.pt\")\n",
    "# Evaluate on the test split defined in test.yaml\n",
    "metrics = model.val(data=yolo_data, imgsz=1280, save=True, split='test')\n",
    "print(metrics)"
   ]
  },
  {
   "cell_type": "code",
   "execution_count": 13,
   "metadata": {
    "colab": {
     "base_uri": "https://localhost:8080/",
     "height": 53
    },
    "executionInfo": {
     "elapsed": 1238,
     "status": "ok",
     "timestamp": 1746645282995,
     "user": {
      "displayName": "Eugen Falca",
      "userId": "06470857081734833614"
     },
     "user_tz": -120
    },
    "id": "XRCY3KgPOxDr",
    "outputId": "e94128d2-02f9-4a0b-d574-56a91a653ce4"
   },
   "outputs": [
    {
     "data": {
      "application/vnd.google.colaboratory.intrinsic+json": {
       "type": "string"
      },
      "text/plain": [
       "'/content/drive/MyDrive/JADS group assignments Semester 2/Deep Learning - Group Assignment/dev/logs/yolo_large_experiment'"
      ]
     },
     "execution_count": 13,
     "metadata": {},
     "output_type": "execute_result"
    }
   ],
   "source": [
    "# Define the source and destination directories\n",
    "src = \"runs/detect\"\n",
    "custom_name = \"yolo_large_experiment\"\n",
    "dst = logs + custom_name\n",
    "\n",
    "# Copy the directory recursively, allowing overwriting\n",
    "shutil.copytree(src, dst, dirs_exist_ok=True)  # dirs_exist_ok=True allows copying even if dst exists"
   ]
  },
  {
   "cell_type": "code",
   "execution_count": 11,
   "metadata": {
    "colab": {
     "base_uri": "https://localhost:8080/"
    },
    "executionInfo": {
     "elapsed": 170,
     "status": "ok",
     "timestamp": 1746645256372,
     "user": {
      "displayName": "Eugen Falca",
      "userId": "06470857081734833614"
     },
     "user_tz": -120
    },
    "id": "teb6bFnOO6dl",
    "outputId": "5332799c-6d3a-423d-f44d-241e0786118c"
   },
   "outputs": [
    {
     "name": "stdout",
     "output_type": "stream",
     "text": [
      "Model saved to /content/drive/MyDrive/JADS group assignments Semester 2/Deep Learning - Group Assignment/dev/models/yolov11large_freeze_10_base_hp_70_epochs_last.pt\n"
     ]
    }
   ],
   "source": [
    "import shutil\n",
    "\n",
    "# Path to YOLOv8 trained model weights\n",
    "trained_model_path = 'runs/detect/train/weights/last.pt' #update with the corresponding path\n",
    "\n",
    "# Path to save in Google Drive with a custom name\n",
    "custom_name = 'yolov11large_freeze_10_base_hp_70_epochs_last.pt'  # Replace with your desired name\n",
    "destination_path = f'{models}/{custom_name}'\n",
    "\n",
    "# Copy the best model to Google Drive\n",
    "shutil.copy(trained_model_path, destination_path)\n",
    "\n",
    "print(f'Model saved to {destination_path}')"
   ]
  },
  {
   "cell_type": "code",
   "execution_count": 12,
   "metadata": {
    "colab": {
     "base_uri": "https://localhost:8080/"
    },
    "executionInfo": {
     "elapsed": 156,
     "status": "ok",
     "timestamp": 1746645271969,
     "user": {
      "displayName": "Eugen Falca",
      "userId": "06470857081734833614"
     },
     "user_tz": -120
    },
    "id": "BvOT70b0UCWg",
    "outputId": "99d21497-83f7-4fe3-c4de-6770c362d58f"
   },
   "outputs": [
    {
     "name": "stdout",
     "output_type": "stream",
     "text": [
      "Model saved to /content/drive/MyDrive/JADS group assignments Semester 2/Deep Learning - Group Assignment/dev/models/yolov11large_freeze_10_base_hp_70_epochs_best.pt\n"
     ]
    }
   ],
   "source": [
    "import shutil\n",
    "\n",
    "# Path to YOLOv8 trained model weights\n",
    "trained_model_path = 'runs/detect/train/weights/best.pt' #update with the corresponding path\n",
    "\n",
    "# Path to save in Google Drive with a custom name\n",
    "custom_name = 'yolov11large_freeze_10_base_hp_70_epochs_best.pt'  # Replace with your desired name\n",
    "destination_path = f'{models}/{custom_name}'\n",
    "\n",
    "# Copy the best model to Google Drive\n",
    "shutil.copy(trained_model_path, destination_path)\n",
    "\n",
    "print(f'Model saved to {destination_path}')"
   ]
  },
  {
   "cell_type": "code",
   "execution_count": 6,
   "metadata": {
    "colab": {
     "base_uri": "https://localhost:8080/"
    },
    "executionInfo": {
     "elapsed": 79713,
     "status": "ok",
     "timestamp": 1746638781860,
     "user": {
      "displayName": "Eugen Falca",
      "userId": "06470857081734833614"
     },
     "user_tz": -120
    },
    "id": "DaGmKnIvxK8b",
    "outputId": "9c830542-e05d-4ff7-ca0f-beb13d6e47a5"
   },
   "outputs": [
    {
     "name": "stdout",
     "output_type": "stream",
     "text": [
      "Ultralytics 8.3.128 🚀 Python-3.11.12 torch-2.6.0+cu124 CUDA:0 (Tesla T4, 15095MiB)\n",
      "YOLO11m summary (fused): 125 layers, 20,030,803 parameters, 0 gradients, 67.6 GFLOPs\n",
      "Downloading https://ultralytics.com/assets/Arial.ttf to '/root/.config/Ultralytics/Arial.ttf'...\n"
     ]
    },
    {
     "name": "stderr",
     "output_type": "stream",
     "text": [
      "100%|██████████| 755k/755k [00:00<00:00, 22.6MB/s]\n"
     ]
    },
    {
     "name": "stdout",
     "output_type": "stream",
     "text": [
      "\u001b[34m\u001b[1mval: \u001b[0mFast image access ✅ (ping: 0.6±0.2 ms, read: 11.8±3.5 MB/s, size: 11763.7 KB)\n"
     ]
    },
    {
     "name": "stderr",
     "output_type": "stream",
     "text": [
      "\u001b[34m\u001b[1mval: \u001b[0mScanning /content/drive/.shortcut-targets-by-id/1ul61U35aG3KhMRm83t3YVDwsRzb7rDsy/JADS group assignments Semester 2/Deep Learning - Group Assignment/dev/data/data_yolo_format/test/labels... 31 images, 2 backgrounds, 0 corrupt: 100%|██████████| 31/31 [00:36<00:00,  1.18s/it]"
     ]
    },
    {
     "name": "stdout",
     "output_type": "stream",
     "text": [
      "\u001b[34m\u001b[1mval: \u001b[0mNew cache created: /content/drive/.shortcut-targets-by-id/1ul61U35aG3KhMRm83t3YVDwsRzb7rDsy/JADS group assignments Semester 2/Deep Learning - Group Assignment/dev/data/data_yolo_format/test/labels.cache\n"
     ]
    },
    {
     "name": "stderr",
     "output_type": "stream",
     "text": [
      "\n",
      "                 Class     Images  Instances      Box(P          R      mAP50  mAP50-95): 100%|██████████| 2/2 [00:05<00:00,  2.75s/it]\n"
     ]
    },
    {
     "name": "stdout",
     "output_type": "stream",
     "text": [
      "                   all         31        174      0.879      0.655      0.744      0.333\n",
      "Speed: 16.9ms preprocess, 61.1ms inference, 0.0ms loss, 19.1ms postprocess per image\n",
      "Results saved to \u001b[1mruns/detect/val\u001b[0m\n",
      "ultralytics.utils.metrics.DetMetrics object with attributes:\n",
      "\n",
      "ap_class_index: array([0])\n",
      "box: ultralytics.utils.metrics.Metric object\n",
      "confusion_matrix: <ultralytics.utils.metrics.ConfusionMatrix object at 0x7f73a2a9ec10>\n",
      "curves: ['Precision-Recall(B)', 'F1-Confidence(B)', 'Precision-Confidence(B)', 'Recall-Confidence(B)']\n",
      "curves_results: [[array([          0,    0.001001,    0.002002,    0.003003,    0.004004,    0.005005,    0.006006,    0.007007,    0.008008,    0.009009,     0.01001,    0.011011,    0.012012,    0.013013,    0.014014,    0.015015,    0.016016,    0.017017,    0.018018,    0.019019,     0.02002,    0.021021,    0.022022,    0.023023,\n",
      "          0.024024,    0.025025,    0.026026,    0.027027,    0.028028,    0.029029,     0.03003,    0.031031,    0.032032,    0.033033,    0.034034,    0.035035,    0.036036,    0.037037,    0.038038,    0.039039,     0.04004,    0.041041,    0.042042,    0.043043,    0.044044,    0.045045,    0.046046,    0.047047,\n",
      "          0.048048,    0.049049,     0.05005,    0.051051,    0.052052,    0.053053,    0.054054,    0.055055,    0.056056,    0.057057,    0.058058,    0.059059,     0.06006,    0.061061,    0.062062,    0.063063,    0.064064,    0.065065,    0.066066,    0.067067,    0.068068,    0.069069,     0.07007,    0.071071,\n",
      "          0.072072,    0.073073,    0.074074,    0.075075,    0.076076,    0.077077,    0.078078,    0.079079,     0.08008,    0.081081,    0.082082,    0.083083,    0.084084,    0.085085,    0.086086,    0.087087,    0.088088,    0.089089,     0.09009,    0.091091,    0.092092,    0.093093,    0.094094,    0.095095,\n",
      "          0.096096,    0.097097,    0.098098,    0.099099,      0.1001,      0.1011,      0.1021,      0.1031,      0.1041,     0.10511,     0.10611,     0.10711,     0.10811,     0.10911,     0.11011,     0.11111,     0.11211,     0.11311,     0.11411,     0.11512,     0.11612,     0.11712,     0.11812,     0.11912,\n",
      "           0.12012,     0.12112,     0.12212,     0.12312,     0.12412,     0.12513,     0.12613,     0.12713,     0.12813,     0.12913,     0.13013,     0.13113,     0.13213,     0.13313,     0.13413,     0.13514,     0.13614,     0.13714,     0.13814,     0.13914,     0.14014,     0.14114,     0.14214,     0.14314,\n",
      "           0.14414,     0.14515,     0.14615,     0.14715,     0.14815,     0.14915,     0.15015,     0.15115,     0.15215,     0.15315,     0.15415,     0.15516,     0.15616,     0.15716,     0.15816,     0.15916,     0.16016,     0.16116,     0.16216,     0.16316,     0.16416,     0.16517,     0.16617,     0.16717,\n",
      "           0.16817,     0.16917,     0.17017,     0.17117,     0.17217,     0.17317,     0.17417,     0.17518,     0.17618,     0.17718,     0.17818,     0.17918,     0.18018,     0.18118,     0.18218,     0.18318,     0.18418,     0.18519,     0.18619,     0.18719,     0.18819,     0.18919,     0.19019,     0.19119,\n",
      "           0.19219,     0.19319,     0.19419,      0.1952,      0.1962,      0.1972,      0.1982,      0.1992,      0.2002,      0.2012,      0.2022,      0.2032,      0.2042,     0.20521,     0.20621,     0.20721,     0.20821,     0.20921,     0.21021,     0.21121,     0.21221,     0.21321,     0.21421,     0.21522,\n",
      "           0.21622,     0.21722,     0.21822,     0.21922,     0.22022,     0.22122,     0.22222,     0.22322,     0.22422,     0.22523,     0.22623,     0.22723,     0.22823,     0.22923,     0.23023,     0.23123,     0.23223,     0.23323,     0.23423,     0.23524,     0.23624,     0.23724,     0.23824,     0.23924,\n",
      "           0.24024,     0.24124,     0.24224,     0.24324,     0.24424,     0.24525,     0.24625,     0.24725,     0.24825,     0.24925,     0.25025,     0.25125,     0.25225,     0.25325,     0.25425,     0.25526,     0.25626,     0.25726,     0.25826,     0.25926,     0.26026,     0.26126,     0.26226,     0.26326,\n",
      "           0.26426,     0.26527,     0.26627,     0.26727,     0.26827,     0.26927,     0.27027,     0.27127,     0.27227,     0.27327,     0.27427,     0.27528,     0.27628,     0.27728,     0.27828,     0.27928,     0.28028,     0.28128,     0.28228,     0.28328,     0.28428,     0.28529,     0.28629,     0.28729,\n",
      "           0.28829,     0.28929,     0.29029,     0.29129,     0.29229,     0.29329,     0.29429,      0.2953,      0.2963,      0.2973,      0.2983,      0.2993,      0.3003,      0.3013,      0.3023,      0.3033,      0.3043,     0.30531,     0.30631,     0.30731,     0.30831,     0.30931,     0.31031,     0.31131,\n",
      "           0.31231,     0.31331,     0.31431,     0.31532,     0.31632,     0.31732,     0.31832,     0.31932,     0.32032,     0.32132,     0.32232,     0.32332,     0.32432,     0.32533,     0.32633,     0.32733,     0.32833,     0.32933,     0.33033,     0.33133,     0.33233,     0.33333,     0.33433,     0.33534,\n",
      "           0.33634,     0.33734,     0.33834,     0.33934,     0.34034,     0.34134,     0.34234,     0.34334,     0.34434,     0.34535,     0.34635,     0.34735,     0.34835,     0.34935,     0.35035,     0.35135,     0.35235,     0.35335,     0.35435,     0.35536,     0.35636,     0.35736,     0.35836,     0.35936,\n",
      "           0.36036,     0.36136,     0.36236,     0.36336,     0.36436,     0.36537,     0.36637,     0.36737,     0.36837,     0.36937,     0.37037,     0.37137,     0.37237,     0.37337,     0.37437,     0.37538,     0.37638,     0.37738,     0.37838,     0.37938,     0.38038,     0.38138,     0.38238,     0.38338,\n",
      "           0.38438,     0.38539,     0.38639,     0.38739,     0.38839,     0.38939,     0.39039,     0.39139,     0.39239,     0.39339,     0.39439,      0.3954,      0.3964,      0.3974,      0.3984,      0.3994,      0.4004,      0.4014,      0.4024,      0.4034,      0.4044,     0.40541,     0.40641,     0.40741,\n",
      "           0.40841,     0.40941,     0.41041,     0.41141,     0.41241,     0.41341,     0.41441,     0.41542,     0.41642,     0.41742,     0.41842,     0.41942,     0.42042,     0.42142,     0.42242,     0.42342,     0.42442,     0.42543,     0.42643,     0.42743,     0.42843,     0.42943,     0.43043,     0.43143,\n",
      "           0.43243,     0.43343,     0.43443,     0.43544,     0.43644,     0.43744,     0.43844,     0.43944,     0.44044,     0.44144,     0.44244,     0.44344,     0.44444,     0.44545,     0.44645,     0.44745,     0.44845,     0.44945,     0.45045,     0.45145,     0.45245,     0.45345,     0.45445,     0.45546,\n",
      "           0.45646,     0.45746,     0.45846,     0.45946,     0.46046,     0.46146,     0.46246,     0.46346,     0.46446,     0.46547,     0.46647,     0.46747,     0.46847,     0.46947,     0.47047,     0.47147,     0.47247,     0.47347,     0.47447,     0.47548,     0.47648,     0.47748,     0.47848,     0.47948,\n",
      "           0.48048,     0.48148,     0.48248,     0.48348,     0.48448,     0.48549,     0.48649,     0.48749,     0.48849,     0.48949,     0.49049,     0.49149,     0.49249,     0.49349,     0.49449,      0.4955,      0.4965,      0.4975,      0.4985,      0.4995,      0.5005,      0.5015,      0.5025,      0.5035,\n",
      "            0.5045,     0.50551,     0.50651,     0.50751,     0.50851,     0.50951,     0.51051,     0.51151,     0.51251,     0.51351,     0.51451,     0.51552,     0.51652,     0.51752,     0.51852,     0.51952,     0.52052,     0.52152,     0.52252,     0.52352,     0.52452,     0.52553,     0.52653,     0.52753,\n",
      "           0.52853,     0.52953,     0.53053,     0.53153,     0.53253,     0.53353,     0.53453,     0.53554,     0.53654,     0.53754,     0.53854,     0.53954,     0.54054,     0.54154,     0.54254,     0.54354,     0.54454,     0.54555,     0.54655,     0.54755,     0.54855,     0.54955,     0.55055,     0.55155,\n",
      "           0.55255,     0.55355,     0.55455,     0.55556,     0.55656,     0.55756,     0.55856,     0.55956,     0.56056,     0.56156,     0.56256,     0.56356,     0.56456,     0.56557,     0.56657,     0.56757,     0.56857,     0.56957,     0.57057,     0.57157,     0.57257,     0.57357,     0.57457,     0.57558,\n",
      "           0.57658,     0.57758,     0.57858,     0.57958,     0.58058,     0.58158,     0.58258,     0.58358,     0.58458,     0.58559,     0.58659,     0.58759,     0.58859,     0.58959,     0.59059,     0.59159,     0.59259,     0.59359,     0.59459,      0.5956,      0.5966,      0.5976,      0.5986,      0.5996,\n",
      "            0.6006,      0.6016,      0.6026,      0.6036,      0.6046,     0.60561,     0.60661,     0.60761,     0.60861,     0.60961,     0.61061,     0.61161,     0.61261,     0.61361,     0.61461,     0.61562,     0.61662,     0.61762,     0.61862,     0.61962,     0.62062,     0.62162,     0.62262,     0.62362,\n",
      "           0.62462,     0.62563,     0.62663,     0.62763,     0.62863,     0.62963,     0.63063,     0.63163,     0.63263,     0.63363,     0.63463,     0.63564,     0.63664,     0.63764,     0.63864,     0.63964,     0.64064,     0.64164,     0.64264,     0.64364,     0.64464,     0.64565,     0.64665,     0.64765,\n",
      "           0.64865,     0.64965,     0.65065,     0.65165,     0.65265,     0.65365,     0.65465,     0.65566,     0.65666,     0.65766,     0.65866,     0.65966,     0.66066,     0.66166,     0.66266,     0.66366,     0.66466,     0.66567,     0.66667,     0.66767,     0.66867,     0.66967,     0.67067,     0.67167,\n",
      "           0.67267,     0.67367,     0.67467,     0.67568,     0.67668,     0.67768,     0.67868,     0.67968,     0.68068,     0.68168,     0.68268,     0.68368,     0.68468,     0.68569,     0.68669,     0.68769,     0.68869,     0.68969,     0.69069,     0.69169,     0.69269,     0.69369,     0.69469,      0.6957,\n",
      "            0.6967,      0.6977,      0.6987,      0.6997,      0.7007,      0.7017,      0.7027,      0.7037,      0.7047,     0.70571,     0.70671,     0.70771,     0.70871,     0.70971,     0.71071,     0.71171,     0.71271,     0.71371,     0.71471,     0.71572,     0.71672,     0.71772,     0.71872,     0.71972,\n",
      "           0.72072,     0.72172,     0.72272,     0.72372,     0.72472,     0.72573,     0.72673,     0.72773,     0.72873,     0.72973,     0.73073,     0.73173,     0.73273,     0.73373,     0.73473,     0.73574,     0.73674,     0.73774,     0.73874,     0.73974,     0.74074,     0.74174,     0.74274,     0.74374,\n",
      "           0.74474,     0.74575,     0.74675,     0.74775,     0.74875,     0.74975,     0.75075,     0.75175,     0.75275,     0.75375,     0.75475,     0.75576,     0.75676,     0.75776,     0.75876,     0.75976,     0.76076,     0.76176,     0.76276,     0.76376,     0.76476,     0.76577,     0.76677,     0.76777,\n",
      "           0.76877,     0.76977,     0.77077,     0.77177,     0.77277,     0.77377,     0.77477,     0.77578,     0.77678,     0.77778,     0.77878,     0.77978,     0.78078,     0.78178,     0.78278,     0.78378,     0.78478,     0.78579,     0.78679,     0.78779,     0.78879,     0.78979,     0.79079,     0.79179,\n",
      "           0.79279,     0.79379,     0.79479,      0.7958,      0.7968,      0.7978,      0.7988,      0.7998,      0.8008,      0.8018,      0.8028,      0.8038,      0.8048,     0.80581,     0.80681,     0.80781,     0.80881,     0.80981,     0.81081,     0.81181,     0.81281,     0.81381,     0.81481,     0.81582,\n",
      "           0.81682,     0.81782,     0.81882,     0.81982,     0.82082,     0.82182,     0.82282,     0.82382,     0.82482,     0.82583,     0.82683,     0.82783,     0.82883,     0.82983,     0.83083,     0.83183,     0.83283,     0.83383,     0.83483,     0.83584,     0.83684,     0.83784,     0.83884,     0.83984,\n",
      "           0.84084,     0.84184,     0.84284,     0.84384,     0.84484,     0.84585,     0.84685,     0.84785,     0.84885,     0.84985,     0.85085,     0.85185,     0.85285,     0.85385,     0.85485,     0.85586,     0.85686,     0.85786,     0.85886,     0.85986,     0.86086,     0.86186,     0.86286,     0.86386,\n",
      "           0.86486,     0.86587,     0.86687,     0.86787,     0.86887,     0.86987,     0.87087,     0.87187,     0.87287,     0.87387,     0.87487,     0.87588,     0.87688,     0.87788,     0.87888,     0.87988,     0.88088,     0.88188,     0.88288,     0.88388,     0.88488,     0.88589,     0.88689,     0.88789,\n",
      "           0.88889,     0.88989,     0.89089,     0.89189,     0.89289,     0.89389,     0.89489,      0.8959,      0.8969,      0.8979,      0.8989,      0.8999,      0.9009,      0.9019,      0.9029,      0.9039,      0.9049,     0.90591,     0.90691,     0.90791,     0.90891,     0.90991,     0.91091,     0.91191,\n",
      "           0.91291,     0.91391,     0.91491,     0.91592,     0.91692,     0.91792,     0.91892,     0.91992,     0.92092,     0.92192,     0.92292,     0.92392,     0.92492,     0.92593,     0.92693,     0.92793,     0.92893,     0.92993,     0.93093,     0.93193,     0.93293,     0.93393,     0.93493,     0.93594,\n",
      "           0.93694,     0.93794,     0.93894,     0.93994,     0.94094,     0.94194,     0.94294,     0.94394,     0.94494,     0.94595,     0.94695,     0.94795,     0.94895,     0.94995,     0.95095,     0.95195,     0.95295,     0.95395,     0.95495,     0.95596,     0.95696,     0.95796,     0.95896,     0.95996,\n",
      "           0.96096,     0.96196,     0.96296,     0.96396,     0.96496,     0.96597,     0.96697,     0.96797,     0.96897,     0.96997,     0.97097,     0.97197,     0.97297,     0.97397,     0.97497,     0.97598,     0.97698,     0.97798,     0.97898,     0.97998,     0.98098,     0.98198,     0.98298,     0.98398,\n",
      "           0.98498,     0.98599,     0.98699,     0.98799,     0.98899,     0.98999,     0.99099,     0.99199,     0.99299,     0.99399,     0.99499,       0.996,       0.997,       0.998,       0.999,           1]), array([[          1,           1,           1,           1,           1,           1,           1,           1,           1,           1,           1,           1,           1,           1,           1,           1,           1,           1,           1,           1,           1,           1,           1,\n",
      "                  1,           1,           1,           1,           1,           1,           1,           1,           1,           1,           1,           1,           1,           1,           1,           1,           1,           1,           1,           1,           1,           1,           1,\n",
      "                  1,           1,           1,           1,           1,           1,           1,           1,           1,           1,           1,           1,           1,           1,           1,           1,           1,           1,           1,           1,           1,           1,           1,\n",
      "                  1,           1,           1,           1,           1,           1,           1,           1,           1,           1,           1,           1,           1,           1,           1,           1,           1,           1,           1,           1,           1,           1,           1,\n",
      "                  1,           1,           1,           1,           1,           1,           1,           1,           1,           1,           1,           1,           1,           1,           1,           1,           1,           1,           1,           1,           1,           1,           1,\n",
      "                  1,           1,           1,           1,           1,           1,           1,           1,           1,           1,           1,           1,           1,           1,           1,           1,           1,           1,           1,           1,           1,           1,           1,\n",
      "                  1,           1,           1,           1,           1,           1,           1,           1,           1,           1,           1,           1,           1,           1,           1,           1,           1,           1,           1,           1,           1,           1,           1,\n",
      "                  1,           1,           1,           1,           1,           1,           1,           1,           1,           1,           1,           1,           1,           1,           1,           1,           1,           1,           1,           1,           1,           1,           1,\n",
      "                  1,           1,           1,           1,           1,           1,           1,           1,           1,           1,           1,           1,           1,           1,           1,           1,           1,           1,           1,           1,           1,           1,           1,\n",
      "                  1,           1,           1,           1,           1,           1,           1,           1,           1,           1,           1,           1,           1,           1,           1,           1,           1,           1,           1,           1,           1,           1,           1,\n",
      "                  1,           1,           1,           1,           1,           1,           1,           1,           1,           1,           1,           1,           1,           1,           1,           1,           1,           1,           1,           1,           1,           1,           1,\n",
      "                  1,           1,           1,           1,           1,           1,           1,           1,           1,           1,           1,           1,           1,           1,           1,           1,           1,     0.97959,     0.97959,     0.97959,     0.97959,     0.97959,     0.97959,\n",
      "            0.96721,     0.96721,     0.96721,     0.96721,     0.96721,     0.96721,     0.96721,     0.96721,     0.96721,     0.96721,     0.96721,     0.96721,     0.96721,     0.96721,     0.96721,     0.96721,     0.96721,     0.96721,     0.96721,     0.96721,     0.96721,     0.96721,     0.96721,\n",
      "            0.96721,     0.96721,     0.96721,     0.96721,     0.96721,     0.96721,     0.96721,     0.96721,     0.96721,     0.96721,     0.96721,     0.96721,     0.96721,     0.96721,     0.96721,     0.96721,     0.96721,     0.96721,     0.96721,     0.96721,     0.96721,     0.96721,     0.96721,\n",
      "            0.96721,     0.96721,     0.96721,     0.96721,     0.96721,     0.96721,     0.96721,     0.96721,     0.96721,     0.96721,     0.96721,     0.96721,     0.96721,     0.96721,     0.96721,     0.96721,     0.96721,     0.95714,     0.95714,     0.95714,     0.95714,     0.95714,     0.95714,\n",
      "            0.95714,     0.95714,     0.95714,     0.95714,     0.95714,     0.95714,     0.95714,     0.95714,     0.95714,     0.95714,     0.95714,     0.95714,     0.95714,     0.95714,     0.95714,     0.95714,     0.95714,     0.95714,     0.95714,     0.95714,     0.95714,     0.95714,     0.95714,\n",
      "            0.95714,     0.95714,     0.95714,     0.95714,     0.95714,     0.95714,     0.95714,     0.95714,     0.95714,     0.95714,     0.95714,     0.95714,     0.95714,     0.95714,     0.95714,     0.95714,     0.95714,     0.94595,     0.94595,     0.94595,     0.94595,     0.94595,     0.94595,\n",
      "            0.94595,     0.94595,     0.94595,     0.94595,     0.94595,     0.94595,     0.94595,     0.94595,     0.94595,     0.94595,     0.94595,     0.92405,     0.92405,     0.92405,     0.92405,     0.92405,     0.92405,     0.92405,     0.92405,     0.92405,     0.92405,     0.92405,     0.92405,\n",
      "            0.92405,     0.92405,     0.92405,     0.92405,     0.92405,     0.92405,      0.9186,      0.9186,      0.9186,      0.9186,      0.9186,      0.9186,      0.9186,      0.9186,      0.9186,      0.9186,      0.9186,      0.9186,      0.9186,      0.9186,      0.9186,      0.9186,      0.9186,\n",
      "             0.9186,      0.9186,      0.9186,      0.9186,      0.9186,      0.9186,      0.9186,      0.9186,      0.9186,      0.9186,      0.9186,      0.9186,      0.9186,      0.9186,      0.9186,      0.9186,      0.9186,     0.91667,     0.91667,     0.91667,     0.91667,     0.91667,     0.91667,\n",
      "            0.91667,     0.91667,     0.91667,     0.91667,     0.91667,     0.91667,     0.91667,     0.91667,     0.91667,     0.91667,     0.91667,     0.91667,     0.91667,     0.91667,     0.91667,     0.91667,     0.91667,     0.91667,     0.91667,     0.91667,     0.91667,     0.91667,     0.91667,\n",
      "            0.91667,     0.91667,     0.91667,     0.91667,     0.91667,     0.91667,     0.91667,     0.91667,     0.91667,     0.91667,     0.91667,     0.91667,     0.91667,     0.91667,     0.91667,     0.91667,     0.91667,     0.91667,     0.91667,     0.91667,     0.91667,     0.91667,     0.91667,\n",
      "            0.91667,     0.91667,     0.91667,     0.91667,     0.91667,     0.91667,     0.91667,     0.91667,     0.91667,     0.91667,     0.91667,     0.91667,     0.91667,     0.91667,     0.91667,     0.91667,     0.91667,     0.91667,     0.91667,     0.91667,     0.91667,     0.91667,     0.91667,\n",
      "            0.91667,     0.91667,     0.91667,     0.91667,     0.91667,     0.91667,     0.91667,     0.91667,     0.91667,     0.91667,     0.91667,     0.91667,     0.91667,     0.91667,     0.91667,     0.91667,     0.91667,     0.91667,     0.91667,     0.91667,     0.91667,     0.91667,     0.91667,\n",
      "            0.91667,     0.91667,     0.91667,     0.91667,     0.91667,     0.91667,     0.91667,     0.91667,     0.91667,     0.91667,     0.91667,     0.91667,     0.91667,     0.91667,     0.91667,     0.91667,     0.91667,     0.89381,     0.89381,     0.89381,     0.89381,     0.89381,     0.89381,\n",
      "            0.89381,     0.89381,     0.89381,     0.89381,     0.89381,     0.89062,     0.89062,     0.89062,     0.89062,     0.89062,     0.89062,     0.89062,     0.89062,     0.89062,     0.89062,     0.89062,     0.89062,     0.89062,     0.89062,     0.89062,     0.89062,     0.89062,     0.89062,\n",
      "            0.89062,     0.89062,     0.89062,     0.89062,     0.89062,     0.89062,     0.89062,     0.89062,     0.89062,     0.89062,     0.89062,     0.89062,     0.89062,     0.89062,     0.89062,     0.89062,     0.89062,     0.89062,     0.89062,     0.89062,     0.89062,     0.89062,     0.89062,\n",
      "            0.89062,     0.89062,     0.89062,     0.89062,     0.89062,     0.89062,     0.89062,     0.89062,     0.89062,     0.89062,     0.89062,     0.89062,     0.89062,     0.89062,     0.89062,     0.89062,     0.89062,     0.89062,     0.89062,     0.89062,     0.89062,     0.89062,     0.89062,\n",
      "            0.89062,     0.89062,     0.89062,     0.89062,     0.89062,     0.89062,     0.89062,     0.89062,     0.89062,     0.89062,     0.89062,     0.87879,     0.87879,     0.87879,     0.87879,     0.87879,     0.87879,     0.87879,     0.87879,     0.87879,     0.87879,     0.87879,     0.85401,\n",
      "            0.85401,     0.85401,     0.85401,     0.85401,     0.85401,     0.84286,     0.84286,     0.84286,     0.84286,     0.84286,     0.84286,     0.82069,     0.82069,     0.82069,     0.82069,     0.82069,     0.82069,     0.80537,     0.80537,     0.80537,     0.80537,     0.80537,     0.79739,\n",
      "            0.79739,     0.79739,     0.79739,     0.79739,     0.79739,     0.79739,     0.79739,     0.79739,     0.79739,     0.79739,     0.79739,        0.75,        0.75,        0.75,        0.75,        0.75,        0.75,     0.74251,     0.74251,     0.74251,     0.74251,     0.74251,     0.73099,\n",
      "            0.73099,     0.73099,     0.73099,     0.73099,     0.73099,     0.72832,     0.72832,     0.72832,     0.72832,     0.72832,     0.72832,     0.72159,     0.72159,     0.72159,     0.72159,     0.72159,     0.72159,     0.65641,     0.65641,     0.65641,     0.65641,     0.65641,     0.65482,\n",
      "            0.65482,     0.65482,     0.65482,     0.65482,     0.65482,     0.60465,     0.60465,     0.60465,     0.60465,     0.60465,     0.60465,     0.57965,     0.57965,     0.57965,     0.57965,     0.57965,     0.57965,     0.57391,     0.57391,     0.57391,     0.57391,     0.57391,     0.54733,\n",
      "            0.54733,     0.54733,     0.54733,     0.54733,     0.54733,     0.48201,     0.48201,     0.48201,     0.48201,     0.48201,     0.48201,     0.45918,     0.45918,     0.45918,     0.45918,     0.45918,     0.45918,     0.40476,     0.40476,     0.40476,     0.40476,     0.40476,     0.37127,\n",
      "            0.37127,     0.37127,     0.37127,     0.37127,     0.37127,     0.36605,     0.36605,     0.36605,     0.36605,     0.36605,     0.36605,     0.35013,     0.35013,     0.35013,     0.35013,     0.35013,     0.35013,     0.29915,     0.29915,     0.29915,     0.29915,     0.29915,     0.28717,\n",
      "            0.28717,     0.28717,     0.28717,     0.28717,     0.28717,     0.28063,     0.28063,     0.28063,     0.28063,     0.28063,     0.28063,     0.22274,     0.22274,     0.22274,     0.22274,     0.22274,     0.22274,     0.21674,     0.21674,     0.21674,     0.21674,     0.21674,     0.21674,\n",
      "            0.21674,     0.21674,     0.21674,     0.21674,     0.21674,     0.17697,     0.17697,     0.17697,     0.17697,     0.17697,     0.17697,     0.16382,      0.1628,     0.16178,     0.16075,     0.15973,      0.1587,     0.15768,     0.15666,     0.15563,     0.15461,     0.15358,     0.15256,\n",
      "            0.15154,     0.15051,     0.14949,     0.14846,     0.14744,     0.14642,     0.14539,     0.14437,     0.14335,     0.14232,      0.1413,     0.14027,     0.13925,     0.13823,      0.1372,     0.13618,     0.13515,     0.13413,     0.13311,     0.13208,     0.13106,     0.13003,     0.12901,\n",
      "            0.12799,     0.12696,     0.12594,     0.12492,     0.12389,     0.12287,     0.12184,     0.12082,      0.1198,     0.11877,     0.11775,     0.11672,      0.1157,     0.11468,     0.11365,     0.11263,      0.1116,     0.11058,     0.10956,     0.10853,     0.10751,     0.10648,     0.10546,\n",
      "            0.10444,     0.10341,     0.10239,     0.10137,     0.10034,    0.099318,    0.098294,     0.09727,    0.096246,    0.095222,    0.094198,    0.093174,     0.09215,    0.091127,    0.090103,    0.089079,    0.088055,    0.087031,    0.086007,    0.084983,    0.083959,    0.082935,    0.081912,\n",
      "           0.080888,    0.079864,     0.07884,    0.077816,    0.076792,    0.075768,    0.074744,     0.07372,    0.072696,    0.071673,    0.070649,    0.069625,    0.068601,    0.067577,    0.066553,    0.065529,    0.064505,    0.063481,    0.062458,    0.061434,     0.06041,    0.059386,    0.058362,\n",
      "           0.057338,    0.056314,     0.05529,    0.054266,    0.053242,    0.052219,    0.051195,    0.050171,    0.049147,    0.048123,    0.047099,    0.046075,    0.045051,    0.044027,    0.043004,     0.04198,    0.040956,    0.039932,    0.038908,    0.037884,     0.03686,    0.035836,    0.034812,\n",
      "           0.033788,    0.032765,    0.031741,    0.030717,    0.029693,    0.028669,    0.027645,    0.026621,    0.025597,    0.024573,     0.02355,    0.022526,    0.021502,    0.020478,    0.019454,     0.01843,    0.017406,    0.016382,    0.015358,    0.014335,    0.013311,    0.012287,    0.011263,\n",
      "           0.010239,    0.009215,   0.0081912,   0.0071673,   0.0061434,   0.0051195,   0.0040956,   0.0030717,   0.0020478,   0.0010239,           0]]), 'Recall', 'Precision'], [array([          0,    0.001001,    0.002002,    0.003003,    0.004004,    0.005005,    0.006006,    0.007007,    0.008008,    0.009009,     0.01001,    0.011011,    0.012012,    0.013013,    0.014014,    0.015015,    0.016016,    0.017017,    0.018018,    0.019019,     0.02002,    0.021021,    0.022022,    0.023023,\n",
      "          0.024024,    0.025025,    0.026026,    0.027027,    0.028028,    0.029029,     0.03003,    0.031031,    0.032032,    0.033033,    0.034034,    0.035035,    0.036036,    0.037037,    0.038038,    0.039039,     0.04004,    0.041041,    0.042042,    0.043043,    0.044044,    0.045045,    0.046046,    0.047047,\n",
      "          0.048048,    0.049049,     0.05005,    0.051051,    0.052052,    0.053053,    0.054054,    0.055055,    0.056056,    0.057057,    0.058058,    0.059059,     0.06006,    0.061061,    0.062062,    0.063063,    0.064064,    0.065065,    0.066066,    0.067067,    0.068068,    0.069069,     0.07007,    0.071071,\n",
      "          0.072072,    0.073073,    0.074074,    0.075075,    0.076076,    0.077077,    0.078078,    0.079079,     0.08008,    0.081081,    0.082082,    0.083083,    0.084084,    0.085085,    0.086086,    0.087087,    0.088088,    0.089089,     0.09009,    0.091091,    0.092092,    0.093093,    0.094094,    0.095095,\n",
      "          0.096096,    0.097097,    0.098098,    0.099099,      0.1001,      0.1011,      0.1021,      0.1031,      0.1041,     0.10511,     0.10611,     0.10711,     0.10811,     0.10911,     0.11011,     0.11111,     0.11211,     0.11311,     0.11411,     0.11512,     0.11612,     0.11712,     0.11812,     0.11912,\n",
      "           0.12012,     0.12112,     0.12212,     0.12312,     0.12412,     0.12513,     0.12613,     0.12713,     0.12813,     0.12913,     0.13013,     0.13113,     0.13213,     0.13313,     0.13413,     0.13514,     0.13614,     0.13714,     0.13814,     0.13914,     0.14014,     0.14114,     0.14214,     0.14314,\n",
      "           0.14414,     0.14515,     0.14615,     0.14715,     0.14815,     0.14915,     0.15015,     0.15115,     0.15215,     0.15315,     0.15415,     0.15516,     0.15616,     0.15716,     0.15816,     0.15916,     0.16016,     0.16116,     0.16216,     0.16316,     0.16416,     0.16517,     0.16617,     0.16717,\n",
      "           0.16817,     0.16917,     0.17017,     0.17117,     0.17217,     0.17317,     0.17417,     0.17518,     0.17618,     0.17718,     0.17818,     0.17918,     0.18018,     0.18118,     0.18218,     0.18318,     0.18418,     0.18519,     0.18619,     0.18719,     0.18819,     0.18919,     0.19019,     0.19119,\n",
      "           0.19219,     0.19319,     0.19419,      0.1952,      0.1962,      0.1972,      0.1982,      0.1992,      0.2002,      0.2012,      0.2022,      0.2032,      0.2042,     0.20521,     0.20621,     0.20721,     0.20821,     0.20921,     0.21021,     0.21121,     0.21221,     0.21321,     0.21421,     0.21522,\n",
      "           0.21622,     0.21722,     0.21822,     0.21922,     0.22022,     0.22122,     0.22222,     0.22322,     0.22422,     0.22523,     0.22623,     0.22723,     0.22823,     0.22923,     0.23023,     0.23123,     0.23223,     0.23323,     0.23423,     0.23524,     0.23624,     0.23724,     0.23824,     0.23924,\n",
      "           0.24024,     0.24124,     0.24224,     0.24324,     0.24424,     0.24525,     0.24625,     0.24725,     0.24825,     0.24925,     0.25025,     0.25125,     0.25225,     0.25325,     0.25425,     0.25526,     0.25626,     0.25726,     0.25826,     0.25926,     0.26026,     0.26126,     0.26226,     0.26326,\n",
      "           0.26426,     0.26527,     0.26627,     0.26727,     0.26827,     0.26927,     0.27027,     0.27127,     0.27227,     0.27327,     0.27427,     0.27528,     0.27628,     0.27728,     0.27828,     0.27928,     0.28028,     0.28128,     0.28228,     0.28328,     0.28428,     0.28529,     0.28629,     0.28729,\n",
      "           0.28829,     0.28929,     0.29029,     0.29129,     0.29229,     0.29329,     0.29429,      0.2953,      0.2963,      0.2973,      0.2983,      0.2993,      0.3003,      0.3013,      0.3023,      0.3033,      0.3043,     0.30531,     0.30631,     0.30731,     0.30831,     0.30931,     0.31031,     0.31131,\n",
      "           0.31231,     0.31331,     0.31431,     0.31532,     0.31632,     0.31732,     0.31832,     0.31932,     0.32032,     0.32132,     0.32232,     0.32332,     0.32432,     0.32533,     0.32633,     0.32733,     0.32833,     0.32933,     0.33033,     0.33133,     0.33233,     0.33333,     0.33433,     0.33534,\n",
      "           0.33634,     0.33734,     0.33834,     0.33934,     0.34034,     0.34134,     0.34234,     0.34334,     0.34434,     0.34535,     0.34635,     0.34735,     0.34835,     0.34935,     0.35035,     0.35135,     0.35235,     0.35335,     0.35435,     0.35536,     0.35636,     0.35736,     0.35836,     0.35936,\n",
      "           0.36036,     0.36136,     0.36236,     0.36336,     0.36436,     0.36537,     0.36637,     0.36737,     0.36837,     0.36937,     0.37037,     0.37137,     0.37237,     0.37337,     0.37437,     0.37538,     0.37638,     0.37738,     0.37838,     0.37938,     0.38038,     0.38138,     0.38238,     0.38338,\n",
      "           0.38438,     0.38539,     0.38639,     0.38739,     0.38839,     0.38939,     0.39039,     0.39139,     0.39239,     0.39339,     0.39439,      0.3954,      0.3964,      0.3974,      0.3984,      0.3994,      0.4004,      0.4014,      0.4024,      0.4034,      0.4044,     0.40541,     0.40641,     0.40741,\n",
      "           0.40841,     0.40941,     0.41041,     0.41141,     0.41241,     0.41341,     0.41441,     0.41542,     0.41642,     0.41742,     0.41842,     0.41942,     0.42042,     0.42142,     0.42242,     0.42342,     0.42442,     0.42543,     0.42643,     0.42743,     0.42843,     0.42943,     0.43043,     0.43143,\n",
      "           0.43243,     0.43343,     0.43443,     0.43544,     0.43644,     0.43744,     0.43844,     0.43944,     0.44044,     0.44144,     0.44244,     0.44344,     0.44444,     0.44545,     0.44645,     0.44745,     0.44845,     0.44945,     0.45045,     0.45145,     0.45245,     0.45345,     0.45445,     0.45546,\n",
      "           0.45646,     0.45746,     0.45846,     0.45946,     0.46046,     0.46146,     0.46246,     0.46346,     0.46446,     0.46547,     0.46647,     0.46747,     0.46847,     0.46947,     0.47047,     0.47147,     0.47247,     0.47347,     0.47447,     0.47548,     0.47648,     0.47748,     0.47848,     0.47948,\n",
      "           0.48048,     0.48148,     0.48248,     0.48348,     0.48448,     0.48549,     0.48649,     0.48749,     0.48849,     0.48949,     0.49049,     0.49149,     0.49249,     0.49349,     0.49449,      0.4955,      0.4965,      0.4975,      0.4985,      0.4995,      0.5005,      0.5015,      0.5025,      0.5035,\n",
      "            0.5045,     0.50551,     0.50651,     0.50751,     0.50851,     0.50951,     0.51051,     0.51151,     0.51251,     0.51351,     0.51451,     0.51552,     0.51652,     0.51752,     0.51852,     0.51952,     0.52052,     0.52152,     0.52252,     0.52352,     0.52452,     0.52553,     0.52653,     0.52753,\n",
      "           0.52853,     0.52953,     0.53053,     0.53153,     0.53253,     0.53353,     0.53453,     0.53554,     0.53654,     0.53754,     0.53854,     0.53954,     0.54054,     0.54154,     0.54254,     0.54354,     0.54454,     0.54555,     0.54655,     0.54755,     0.54855,     0.54955,     0.55055,     0.55155,\n",
      "           0.55255,     0.55355,     0.55455,     0.55556,     0.55656,     0.55756,     0.55856,     0.55956,     0.56056,     0.56156,     0.56256,     0.56356,     0.56456,     0.56557,     0.56657,     0.56757,     0.56857,     0.56957,     0.57057,     0.57157,     0.57257,     0.57357,     0.57457,     0.57558,\n",
      "           0.57658,     0.57758,     0.57858,     0.57958,     0.58058,     0.58158,     0.58258,     0.58358,     0.58458,     0.58559,     0.58659,     0.58759,     0.58859,     0.58959,     0.59059,     0.59159,     0.59259,     0.59359,     0.59459,      0.5956,      0.5966,      0.5976,      0.5986,      0.5996,\n",
      "            0.6006,      0.6016,      0.6026,      0.6036,      0.6046,     0.60561,     0.60661,     0.60761,     0.60861,     0.60961,     0.61061,     0.61161,     0.61261,     0.61361,     0.61461,     0.61562,     0.61662,     0.61762,     0.61862,     0.61962,     0.62062,     0.62162,     0.62262,     0.62362,\n",
      "           0.62462,     0.62563,     0.62663,     0.62763,     0.62863,     0.62963,     0.63063,     0.63163,     0.63263,     0.63363,     0.63463,     0.63564,     0.63664,     0.63764,     0.63864,     0.63964,     0.64064,     0.64164,     0.64264,     0.64364,     0.64464,     0.64565,     0.64665,     0.64765,\n",
      "           0.64865,     0.64965,     0.65065,     0.65165,     0.65265,     0.65365,     0.65465,     0.65566,     0.65666,     0.65766,     0.65866,     0.65966,     0.66066,     0.66166,     0.66266,     0.66366,     0.66466,     0.66567,     0.66667,     0.66767,     0.66867,     0.66967,     0.67067,     0.67167,\n",
      "           0.67267,     0.67367,     0.67467,     0.67568,     0.67668,     0.67768,     0.67868,     0.67968,     0.68068,     0.68168,     0.68268,     0.68368,     0.68468,     0.68569,     0.68669,     0.68769,     0.68869,     0.68969,     0.69069,     0.69169,     0.69269,     0.69369,     0.69469,      0.6957,\n",
      "            0.6967,      0.6977,      0.6987,      0.6997,      0.7007,      0.7017,      0.7027,      0.7037,      0.7047,     0.70571,     0.70671,     0.70771,     0.70871,     0.70971,     0.71071,     0.71171,     0.71271,     0.71371,     0.71471,     0.71572,     0.71672,     0.71772,     0.71872,     0.71972,\n",
      "           0.72072,     0.72172,     0.72272,     0.72372,     0.72472,     0.72573,     0.72673,     0.72773,     0.72873,     0.72973,     0.73073,     0.73173,     0.73273,     0.73373,     0.73473,     0.73574,     0.73674,     0.73774,     0.73874,     0.73974,     0.74074,     0.74174,     0.74274,     0.74374,\n",
      "           0.74474,     0.74575,     0.74675,     0.74775,     0.74875,     0.74975,     0.75075,     0.75175,     0.75275,     0.75375,     0.75475,     0.75576,     0.75676,     0.75776,     0.75876,     0.75976,     0.76076,     0.76176,     0.76276,     0.76376,     0.76476,     0.76577,     0.76677,     0.76777,\n",
      "           0.76877,     0.76977,     0.77077,     0.77177,     0.77277,     0.77377,     0.77477,     0.77578,     0.77678,     0.77778,     0.77878,     0.77978,     0.78078,     0.78178,     0.78278,     0.78378,     0.78478,     0.78579,     0.78679,     0.78779,     0.78879,     0.78979,     0.79079,     0.79179,\n",
      "           0.79279,     0.79379,     0.79479,      0.7958,      0.7968,      0.7978,      0.7988,      0.7998,      0.8008,      0.8018,      0.8028,      0.8038,      0.8048,     0.80581,     0.80681,     0.80781,     0.80881,     0.80981,     0.81081,     0.81181,     0.81281,     0.81381,     0.81481,     0.81582,\n",
      "           0.81682,     0.81782,     0.81882,     0.81982,     0.82082,     0.82182,     0.82282,     0.82382,     0.82482,     0.82583,     0.82683,     0.82783,     0.82883,     0.82983,     0.83083,     0.83183,     0.83283,     0.83383,     0.83483,     0.83584,     0.83684,     0.83784,     0.83884,     0.83984,\n",
      "           0.84084,     0.84184,     0.84284,     0.84384,     0.84484,     0.84585,     0.84685,     0.84785,     0.84885,     0.84985,     0.85085,     0.85185,     0.85285,     0.85385,     0.85485,     0.85586,     0.85686,     0.85786,     0.85886,     0.85986,     0.86086,     0.86186,     0.86286,     0.86386,\n",
      "           0.86486,     0.86587,     0.86687,     0.86787,     0.86887,     0.86987,     0.87087,     0.87187,     0.87287,     0.87387,     0.87487,     0.87588,     0.87688,     0.87788,     0.87888,     0.87988,     0.88088,     0.88188,     0.88288,     0.88388,     0.88488,     0.88589,     0.88689,     0.88789,\n",
      "           0.88889,     0.88989,     0.89089,     0.89189,     0.89289,     0.89389,     0.89489,      0.8959,      0.8969,      0.8979,      0.8989,      0.8999,      0.9009,      0.9019,      0.9029,      0.9039,      0.9049,     0.90591,     0.90691,     0.90791,     0.90891,     0.90991,     0.91091,     0.91191,\n",
      "           0.91291,     0.91391,     0.91491,     0.91592,     0.91692,     0.91792,     0.91892,     0.91992,     0.92092,     0.92192,     0.92292,     0.92392,     0.92492,     0.92593,     0.92693,     0.92793,     0.92893,     0.92993,     0.93093,     0.93193,     0.93293,     0.93393,     0.93493,     0.93594,\n",
      "           0.93694,     0.93794,     0.93894,     0.93994,     0.94094,     0.94194,     0.94294,     0.94394,     0.94494,     0.94595,     0.94695,     0.94795,     0.94895,     0.94995,     0.95095,     0.95195,     0.95295,     0.95395,     0.95495,     0.95596,     0.95696,     0.95796,     0.95896,     0.95996,\n",
      "           0.96096,     0.96196,     0.96296,     0.96396,     0.96496,     0.96597,     0.96697,     0.96797,     0.96897,     0.96997,     0.97097,     0.97197,     0.97297,     0.97397,     0.97497,     0.97598,     0.97698,     0.97798,     0.97898,     0.97998,     0.98098,     0.98198,     0.98298,     0.98398,\n",
      "           0.98498,     0.98599,     0.98699,     0.98799,     0.98899,     0.98999,     0.99099,     0.99199,     0.99299,     0.99399,     0.99499,       0.996,       0.997,       0.998,       0.999,           1]), array([[    0.27521,     0.27528,      0.3516,     0.39945,      0.4278,     0.45278,     0.46935,     0.48643,     0.50029,     0.50202,      0.5095,     0.52107,     0.53047,     0.54202,     0.55045,        0.56,     0.56991,     0.57648,     0.57835,     0.58523,     0.58859,     0.58994,     0.59709,\n",
      "            0.60617,     0.61742,     0.61963,     0.62396,       0.631,     0.63463,     0.63644,     0.63729,     0.64028,     0.64691,     0.65087,     0.65082,     0.65317,     0.65313,     0.65934,      0.6615,     0.66831,     0.66734,     0.66638,     0.66542,     0.66605,     0.66987,     0.67246,\n",
      "            0.67542,     0.67577,     0.67612,     0.67648,     0.67683,     0.67896,     0.68086,     0.68175,     0.68267,     0.68388,     0.68593,     0.68854,     0.68971,     0.69213,      0.6931,     0.69323,     0.69147,     0.69379,     0.69457,     0.69515,     0.69574,     0.69741,     0.69936,\n",
      "            0.70064,     0.70171,     0.70227,     0.70284,      0.7034,     0.70532,     0.70642,     0.70736,      0.7085,     0.70974,     0.71129,     0.71324,     0.71571,     0.71614,     0.71657,       0.717,     0.71742,     0.72105,     0.72257,     0.72529,     0.72216,      0.7235,     0.72281,\n",
      "            0.72228,      0.7237,      0.7249,     0.72595,     0.72399,     0.72671,     0.72745,     0.72579,     0.72412,     0.72484,     0.72568,     0.72641,     0.72697,     0.72753,     0.72809,     0.72894,     0.73004,     0.73109,     0.73209,     0.73306,     0.73396,     0.73486,     0.73865,\n",
      "            0.73972,     0.74016,      0.7406,     0.74104,     0.74149,     0.74192,     0.74235,     0.74278,     0.74321,     0.74364,     0.74511,     0.74217,     0.74092,     0.73967,     0.73848,     0.73915,     0.73982,     0.74049,      0.7411,     0.74167,     0.74224,     0.74281,     0.73928,\n",
      "            0.74022,     0.74116,     0.74192,      0.7426,     0.74329,      0.7443,     0.74598,     0.74494,     0.74371,     0.74249,     0.74272,     0.74352,     0.74433,     0.74585,     0.74752,     0.74918,     0.74867,     0.75074,     0.75084,     0.74877,     0.74865,     0.74898,     0.74931,\n",
      "            0.74964,     0.74996,     0.75029,     0.75061,     0.75179,      0.7543,     0.75598,     0.75662,     0.75725,     0.75788,     0.75796,     0.75756,     0.75716,     0.75677,     0.75637,     0.75597,     0.75557,     0.75517,     0.75478,     0.75438,     0.75397,     0.75356,     0.75314,\n",
      "            0.75272,      0.7523,     0.75188,     0.75146,     0.75104,     0.75063,     0.75021,     0.75013,      0.7504,     0.75066,     0.75093,     0.75119,     0.75145,     0.75172,     0.75198,     0.75224,     0.75251,     0.75282,     0.75313,     0.75343,     0.75374,     0.75405,     0.75436,\n",
      "            0.75466,     0.75497,     0.75456,     0.75415,     0.75374,     0.75333,     0.75292,     0.75251,      0.7521,     0.75169,     0.75128,     0.75087,     0.75065,     0.75046,     0.75026,     0.75006,     0.74986,     0.74966,     0.74946,     0.74926,     0.74906,     0.74887,     0.74867,\n",
      "            0.74847,     0.74827,     0.74807,     0.74787,     0.74767,     0.74747,     0.74727,     0.74707,     0.74687,     0.74668,     0.74588,     0.74506,     0.74423,      0.7434,     0.74258,     0.73825,     0.73328,     0.73198,     0.73068,     0.72954,     0.72883,     0.72811,      0.7274,\n",
      "            0.72669,     0.72598,     0.72534,     0.72497,      0.7246,     0.72423,     0.72386,     0.72349,     0.72312,     0.72275,     0.72238,     0.72201,     0.72164,     0.72127,     0.72039,     0.71902,     0.71764,     0.71653,     0.71597,      0.7154,     0.71484,     0.71427,      0.7137,\n",
      "            0.71314,     0.71257,     0.71107,     0.70886,     0.70752,     0.70684,     0.70616,     0.70548,      0.7048,     0.70412,     0.70344,      0.7025,     0.70155,     0.70061,     0.69966,     0.69899,     0.69908,     0.69918,     0.69927,     0.69936,     0.69946,     0.69955,     0.69965,\n",
      "            0.69974,     0.69984,     0.69993,     0.70002,     0.70012,     0.70021,     0.70031,      0.7004,     0.70049,     0.70059,     0.70068,     0.70078,     0.70087,     0.70096,     0.70106,     0.70115,     0.70124,     0.70134,     0.70352,     0.70304,     0.70218,     0.70132,     0.70046,\n",
      "            0.69961,     0.69476,     0.69488,       0.695,     0.69512,     0.69524,     0.69536,     0.69548,      0.6956,     0.69572,     0.69584,     0.69595,     0.69607,     0.69619,     0.69631,     0.69643,     0.69655,     0.69667,     0.69679,      0.6969,     0.69702,     0.69714,     0.69758,\n",
      "            0.69819,      0.6988,     0.69941,     0.69987,     0.70023,     0.70058,     0.70094,      0.7013,     0.70166,     0.70201,     0.70181,     0.70134,     0.70087,      0.7004,     0.69992,     0.69945,     0.69898,     0.69851,     0.69803,     0.69756,     0.69446,     0.69275,     0.69256,\n",
      "            0.69237,     0.69217,     0.69198,     0.69178,     0.69159,     0.69139,      0.6912,       0.691,     0.69081,     0.69062,     0.69042,     0.69023,     0.69003,     0.68984,     0.68964,     0.68945,     0.68925,     0.68906,     0.68886,     0.68867,     0.68847,     0.68828,     0.68741,\n",
      "            0.68578,     0.68415,     0.68329,     0.68301,     0.68274,     0.68246,     0.68218,      0.6819,     0.68162,     0.68134,     0.68106,     0.68078,      0.6805,     0.68022,     0.67993,     0.67965,     0.67937,     0.67909,     0.67881,     0.67374,     0.67226,     0.67079,     0.66931,\n",
      "            0.66785,     0.66639,     0.66492,     0.66384,     0.66309,     0.66234,     0.66158,     0.66083,     0.66008,     0.65932,     0.65824,     0.65716,     0.65608,       0.655,     0.65325,     0.65067,     0.64914,     0.64856,     0.64799,     0.64741,     0.64683,     0.64625,     0.64567,\n",
      "            0.64509,     0.64451,     0.64316,     0.64171,     0.64026,     0.63586,     0.63395,     0.63349,     0.63302,     0.63256,      0.6321,     0.63164,     0.63117,     0.63071,     0.63024,     0.62978,     0.62932,     0.62085,     0.61868,     0.61833,     0.61799,     0.61764,     0.61729,\n",
      "            0.61695,      0.6166,     0.61625,      0.6159,     0.61556,     0.61521,     0.61486,     0.61451,     0.61416,     0.61382,     0.61368,     0.61376,     0.61385,     0.61393,     0.61402,      0.6141,     0.61419,     0.61428,     0.61436,     0.61445,     0.61453,     0.61462,      0.6147,\n",
      "            0.61479,     0.61487,     0.61496,     0.61504,     0.61512,     0.61521,     0.61529,     0.61538,     0.61546,     0.61555,     0.61563,     0.61572,      0.6158,     0.61589,     0.61594,     0.60942,     0.60591,     0.60544,     0.60554,     0.60563,     0.60572,     0.60582,     0.60591,\n",
      "              0.606,      0.6061,     0.60619,     0.60628,     0.60638,     0.60647,     0.60656,     0.60665,     0.60675,     0.60684,     0.60693,     0.60703,     0.60712,     0.60721,      0.6073,      0.6074,     0.60749,     0.60758,     0.60767,     0.60705,     0.60623,     0.60541,     0.60459,\n",
      "            0.60377,     0.60295,     0.60218,     0.60157,     0.60097,     0.60037,     0.59976,     0.59916,     0.59855,     0.59795,     0.59734,     0.59656,      0.5953,     0.59405,     0.59279,     0.59153,     0.59082,     0.59014,     0.58947,     0.58879,     0.58811,     0.58744,     0.58676,\n",
      "            0.58608,     0.58428,     0.58216,      0.5803,     0.57974,     0.57918,     0.57862,     0.57807,     0.57751,     0.57695,     0.57639,     0.57583,     0.57527,     0.57512,      0.5769,     0.57124,     0.56931,     0.56738,     0.56465,     0.56047,     0.56175,     0.56243,     0.56273,\n",
      "            0.56303,     0.56333,     0.56363,     0.56392,     0.56422,     0.56452,     0.55673,     0.55466,     0.55186,     0.54913,     0.53783,     0.53576,     0.53417,     0.53258,     0.53076,     0.52659,     0.52318,     0.52024,     0.51819,     0.51696,     0.51573,     0.51449,     0.51326,\n",
      "            0.51241,     0.51199,     0.51157,     0.51115,     0.51074,     0.51032,      0.5099,     0.50948,     0.50906,     0.50864,     0.50822,      0.5078,     0.50738,     0.50696,     0.50654,     0.50533,     0.50331,     0.50128,     0.50054,       0.502,     0.49814,     0.48683,     0.48241,\n",
      "            0.48146,     0.48052,     0.47957,     0.47863,     0.47768,     0.47673,     0.47418,     0.46954,     0.46674,     0.46392,     0.46122,      0.4586,     0.45609,      0.4554,     0.45471,     0.45401,     0.45332,     0.45262,     0.45192,     0.45123,     0.45053,     0.44983,     0.44905,\n",
      "            0.44809,     0.44712,     0.44615,     0.44518,     0.44421,     0.44323,     0.44019,     0.43237,     0.42874,     0.42922,     0.42969,     0.43016,     0.42952,     0.42607,     0.42347,     0.42364,     0.42382,       0.424,     0.42417,     0.42435,     0.42452,      0.4247,     0.42487,\n",
      "            0.42505,     0.42522,     0.42432,     0.42092,     0.41749,     0.41401,     0.41075,     0.40917,     0.40759,     0.40601,     0.40442,     0.40286,     0.40132,     0.39978,     0.39824,     0.39669,     0.39265,     0.38747,     0.38124,     0.37549,     0.37069,     0.36625,     0.36046,\n",
      "            0.35323,     0.34351,     0.32855,     0.32497,     0.32256,     0.32015,     0.30984,     0.30767,      0.3055,     0.30332,     0.30023,     0.29651,     0.29363,     0.29227,      0.2909,     0.28953,     0.28816,     0.28679,     0.28544,     0.28419,     0.28294,     0.28169,     0.28043,\n",
      "            0.27918,     0.27792,     0.27394,     0.26674,     0.25991,     0.25605,     0.25217,     0.24618,     0.24003,     0.23452,      0.2315,     0.22903,     0.22656,     0.22423,     0.22266,     0.22109,     0.21951,     0.21793,     0.21635,     0.21439,     0.21183,     0.20927,      0.2067,\n",
      "            0.20502,     0.20356,     0.20209,     0.20063,     0.19916,     0.19769,     0.19605,     0.19423,      0.1924,     0.19057,     0.18874,     0.18596,     0.18122,     0.17715,     0.17448,     0.17181,     0.16913,     0.15596,     0.14837,     0.12745,      0.1209,     0.11179,     0.10635,\n",
      "            0.10299,    0.099618,    0.097312,    0.095641,    0.093966,    0.092289,    0.090609,    0.088926,    0.085688,    0.080089,    0.074782,    0.069756,    0.055194,    0.044714,    0.044362,     0.04401,    0.043657,    0.043304,    0.042952,    0.042599,    0.042246,    0.041893,    0.041539,\n",
      "           0.041186,    0.040832,    0.040479,    0.040125,    0.039771,    0.039417,    0.039063,    0.038708,    0.038354,    0.037999,    0.037645,     0.03729,    0.036935,     0.03658,    0.036225,    0.035869,    0.035514,    0.035158,    0.034803,    0.034447,    0.034091,     0.03182,    0.027282,\n",
      "           0.022727,    0.022228,    0.021728,    0.021229,    0.020729,    0.020229,    0.019728,    0.019228,    0.018727,    0.018226,    0.017724,    0.017223,    0.016721,    0.016219,    0.015716,    0.015213,    0.014711,    0.014207,    0.013704,      0.0132,    0.012696,    0.012192,    0.011688,\n",
      "                  0,           0,           0,           0,           0,           0,           0,           0,           0,           0,           0,           0,           0,           0,           0,           0,           0,           0,           0,           0,           0,           0,           0,\n",
      "                  0,           0,           0,           0,           0,           0,           0,           0,           0,           0,           0,           0,           0,           0,           0,           0,           0,           0,           0,           0,           0,           0,           0,\n",
      "                  0,           0,           0,           0,           0,           0,           0,           0,           0,           0,           0,           0,           0,           0,           0,           0,           0,           0,           0,           0,           0,           0,           0,\n",
      "                  0,           0,           0,           0,           0,           0,           0,           0,           0,           0,           0,           0,           0,           0,           0,           0,           0,           0,           0,           0,           0,           0,           0,\n",
      "                  0,           0,           0,           0,           0,           0,           0,           0,           0,           0,           0,           0,           0,           0,           0,           0,           0,           0,           0,           0,           0,           0,           0,\n",
      "                  0,           0,           0,           0,           0,           0,           0,           0,           0,           0,           0,           0,           0,           0,           0,           0,           0,           0,           0,           0,           0,           0,           0,\n",
      "                  0,           0,           0,           0,           0,           0,           0,           0,           0,           0,           0,           0,           0,           0,           0,           0,           0,           0,           0,           0,           0,           0,           0,\n",
      "                  0,           0,           0,           0,           0,           0,           0,           0,           0,           0,           0]]), 'Confidence', 'F1'], [array([          0,    0.001001,    0.002002,    0.003003,    0.004004,    0.005005,    0.006006,    0.007007,    0.008008,    0.009009,     0.01001,    0.011011,    0.012012,    0.013013,    0.014014,    0.015015,    0.016016,    0.017017,    0.018018,    0.019019,     0.02002,    0.021021,    0.022022,    0.023023,\n",
      "          0.024024,    0.025025,    0.026026,    0.027027,    0.028028,    0.029029,     0.03003,    0.031031,    0.032032,    0.033033,    0.034034,    0.035035,    0.036036,    0.037037,    0.038038,    0.039039,     0.04004,    0.041041,    0.042042,    0.043043,    0.044044,    0.045045,    0.046046,    0.047047,\n",
      "          0.048048,    0.049049,     0.05005,    0.051051,    0.052052,    0.053053,    0.054054,    0.055055,    0.056056,    0.057057,    0.058058,    0.059059,     0.06006,    0.061061,    0.062062,    0.063063,    0.064064,    0.065065,    0.066066,    0.067067,    0.068068,    0.069069,     0.07007,    0.071071,\n",
      "          0.072072,    0.073073,    0.074074,    0.075075,    0.076076,    0.077077,    0.078078,    0.079079,     0.08008,    0.081081,    0.082082,    0.083083,    0.084084,    0.085085,    0.086086,    0.087087,    0.088088,    0.089089,     0.09009,    0.091091,    0.092092,    0.093093,    0.094094,    0.095095,\n",
      "          0.096096,    0.097097,    0.098098,    0.099099,      0.1001,      0.1011,      0.1021,      0.1031,      0.1041,     0.10511,     0.10611,     0.10711,     0.10811,     0.10911,     0.11011,     0.11111,     0.11211,     0.11311,     0.11411,     0.11512,     0.11612,     0.11712,     0.11812,     0.11912,\n",
      "           0.12012,     0.12112,     0.12212,     0.12312,     0.12412,     0.12513,     0.12613,     0.12713,     0.12813,     0.12913,     0.13013,     0.13113,     0.13213,     0.13313,     0.13413,     0.13514,     0.13614,     0.13714,     0.13814,     0.13914,     0.14014,     0.14114,     0.14214,     0.14314,\n",
      "           0.14414,     0.14515,     0.14615,     0.14715,     0.14815,     0.14915,     0.15015,     0.15115,     0.15215,     0.15315,     0.15415,     0.15516,     0.15616,     0.15716,     0.15816,     0.15916,     0.16016,     0.16116,     0.16216,     0.16316,     0.16416,     0.16517,     0.16617,     0.16717,\n",
      "           0.16817,     0.16917,     0.17017,     0.17117,     0.17217,     0.17317,     0.17417,     0.17518,     0.17618,     0.17718,     0.17818,     0.17918,     0.18018,     0.18118,     0.18218,     0.18318,     0.18418,     0.18519,     0.18619,     0.18719,     0.18819,     0.18919,     0.19019,     0.19119,\n",
      "           0.19219,     0.19319,     0.19419,      0.1952,      0.1962,      0.1972,      0.1982,      0.1992,      0.2002,      0.2012,      0.2022,      0.2032,      0.2042,     0.20521,     0.20621,     0.20721,     0.20821,     0.20921,     0.21021,     0.21121,     0.21221,     0.21321,     0.21421,     0.21522,\n",
      "           0.21622,     0.21722,     0.21822,     0.21922,     0.22022,     0.22122,     0.22222,     0.22322,     0.22422,     0.22523,     0.22623,     0.22723,     0.22823,     0.22923,     0.23023,     0.23123,     0.23223,     0.23323,     0.23423,     0.23524,     0.23624,     0.23724,     0.23824,     0.23924,\n",
      "           0.24024,     0.24124,     0.24224,     0.24324,     0.24424,     0.24525,     0.24625,     0.24725,     0.24825,     0.24925,     0.25025,     0.25125,     0.25225,     0.25325,     0.25425,     0.25526,     0.25626,     0.25726,     0.25826,     0.25926,     0.26026,     0.26126,     0.26226,     0.26326,\n",
      "           0.26426,     0.26527,     0.26627,     0.26727,     0.26827,     0.26927,     0.27027,     0.27127,     0.27227,     0.27327,     0.27427,     0.27528,     0.27628,     0.27728,     0.27828,     0.27928,     0.28028,     0.28128,     0.28228,     0.28328,     0.28428,     0.28529,     0.28629,     0.28729,\n",
      "           0.28829,     0.28929,     0.29029,     0.29129,     0.29229,     0.29329,     0.29429,      0.2953,      0.2963,      0.2973,      0.2983,      0.2993,      0.3003,      0.3013,      0.3023,      0.3033,      0.3043,     0.30531,     0.30631,     0.30731,     0.30831,     0.30931,     0.31031,     0.31131,\n",
      "           0.31231,     0.31331,     0.31431,     0.31532,     0.31632,     0.31732,     0.31832,     0.31932,     0.32032,     0.32132,     0.32232,     0.32332,     0.32432,     0.32533,     0.32633,     0.32733,     0.32833,     0.32933,     0.33033,     0.33133,     0.33233,     0.33333,     0.33433,     0.33534,\n",
      "           0.33634,     0.33734,     0.33834,     0.33934,     0.34034,     0.34134,     0.34234,     0.34334,     0.34434,     0.34535,     0.34635,     0.34735,     0.34835,     0.34935,     0.35035,     0.35135,     0.35235,     0.35335,     0.35435,     0.35536,     0.35636,     0.35736,     0.35836,     0.35936,\n",
      "           0.36036,     0.36136,     0.36236,     0.36336,     0.36436,     0.36537,     0.36637,     0.36737,     0.36837,     0.36937,     0.37037,     0.37137,     0.37237,     0.37337,     0.37437,     0.37538,     0.37638,     0.37738,     0.37838,     0.37938,     0.38038,     0.38138,     0.38238,     0.38338,\n",
      "           0.38438,     0.38539,     0.38639,     0.38739,     0.38839,     0.38939,     0.39039,     0.39139,     0.39239,     0.39339,     0.39439,      0.3954,      0.3964,      0.3974,      0.3984,      0.3994,      0.4004,      0.4014,      0.4024,      0.4034,      0.4044,     0.40541,     0.40641,     0.40741,\n",
      "           0.40841,     0.40941,     0.41041,     0.41141,     0.41241,     0.41341,     0.41441,     0.41542,     0.41642,     0.41742,     0.41842,     0.41942,     0.42042,     0.42142,     0.42242,     0.42342,     0.42442,     0.42543,     0.42643,     0.42743,     0.42843,     0.42943,     0.43043,     0.43143,\n",
      "           0.43243,     0.43343,     0.43443,     0.43544,     0.43644,     0.43744,     0.43844,     0.43944,     0.44044,     0.44144,     0.44244,     0.44344,     0.44444,     0.44545,     0.44645,     0.44745,     0.44845,     0.44945,     0.45045,     0.45145,     0.45245,     0.45345,     0.45445,     0.45546,\n",
      "           0.45646,     0.45746,     0.45846,     0.45946,     0.46046,     0.46146,     0.46246,     0.46346,     0.46446,     0.46547,     0.46647,     0.46747,     0.46847,     0.46947,     0.47047,     0.47147,     0.47247,     0.47347,     0.47447,     0.47548,     0.47648,     0.47748,     0.47848,     0.47948,\n",
      "           0.48048,     0.48148,     0.48248,     0.48348,     0.48448,     0.48549,     0.48649,     0.48749,     0.48849,     0.48949,     0.49049,     0.49149,     0.49249,     0.49349,     0.49449,      0.4955,      0.4965,      0.4975,      0.4985,      0.4995,      0.5005,      0.5015,      0.5025,      0.5035,\n",
      "            0.5045,     0.50551,     0.50651,     0.50751,     0.50851,     0.50951,     0.51051,     0.51151,     0.51251,     0.51351,     0.51451,     0.51552,     0.51652,     0.51752,     0.51852,     0.51952,     0.52052,     0.52152,     0.52252,     0.52352,     0.52452,     0.52553,     0.52653,     0.52753,\n",
      "           0.52853,     0.52953,     0.53053,     0.53153,     0.53253,     0.53353,     0.53453,     0.53554,     0.53654,     0.53754,     0.53854,     0.53954,     0.54054,     0.54154,     0.54254,     0.54354,     0.54454,     0.54555,     0.54655,     0.54755,     0.54855,     0.54955,     0.55055,     0.55155,\n",
      "           0.55255,     0.55355,     0.55455,     0.55556,     0.55656,     0.55756,     0.55856,     0.55956,     0.56056,     0.56156,     0.56256,     0.56356,     0.56456,     0.56557,     0.56657,     0.56757,     0.56857,     0.56957,     0.57057,     0.57157,     0.57257,     0.57357,     0.57457,     0.57558,\n",
      "           0.57658,     0.57758,     0.57858,     0.57958,     0.58058,     0.58158,     0.58258,     0.58358,     0.58458,     0.58559,     0.58659,     0.58759,     0.58859,     0.58959,     0.59059,     0.59159,     0.59259,     0.59359,     0.59459,      0.5956,      0.5966,      0.5976,      0.5986,      0.5996,\n",
      "            0.6006,      0.6016,      0.6026,      0.6036,      0.6046,     0.60561,     0.60661,     0.60761,     0.60861,     0.60961,     0.61061,     0.61161,     0.61261,     0.61361,     0.61461,     0.61562,     0.61662,     0.61762,     0.61862,     0.61962,     0.62062,     0.62162,     0.62262,     0.62362,\n",
      "           0.62462,     0.62563,     0.62663,     0.62763,     0.62863,     0.62963,     0.63063,     0.63163,     0.63263,     0.63363,     0.63463,     0.63564,     0.63664,     0.63764,     0.63864,     0.63964,     0.64064,     0.64164,     0.64264,     0.64364,     0.64464,     0.64565,     0.64665,     0.64765,\n",
      "           0.64865,     0.64965,     0.65065,     0.65165,     0.65265,     0.65365,     0.65465,     0.65566,     0.65666,     0.65766,     0.65866,     0.65966,     0.66066,     0.66166,     0.66266,     0.66366,     0.66466,     0.66567,     0.66667,     0.66767,     0.66867,     0.66967,     0.67067,     0.67167,\n",
      "           0.67267,     0.67367,     0.67467,     0.67568,     0.67668,     0.67768,     0.67868,     0.67968,     0.68068,     0.68168,     0.68268,     0.68368,     0.68468,     0.68569,     0.68669,     0.68769,     0.68869,     0.68969,     0.69069,     0.69169,     0.69269,     0.69369,     0.69469,      0.6957,\n",
      "            0.6967,      0.6977,      0.6987,      0.6997,      0.7007,      0.7017,      0.7027,      0.7037,      0.7047,     0.70571,     0.70671,     0.70771,     0.70871,     0.70971,     0.71071,     0.71171,     0.71271,     0.71371,     0.71471,     0.71572,     0.71672,     0.71772,     0.71872,     0.71972,\n",
      "           0.72072,     0.72172,     0.72272,     0.72372,     0.72472,     0.72573,     0.72673,     0.72773,     0.72873,     0.72973,     0.73073,     0.73173,     0.73273,     0.73373,     0.73473,     0.73574,     0.73674,     0.73774,     0.73874,     0.73974,     0.74074,     0.74174,     0.74274,     0.74374,\n",
      "           0.74474,     0.74575,     0.74675,     0.74775,     0.74875,     0.74975,     0.75075,     0.75175,     0.75275,     0.75375,     0.75475,     0.75576,     0.75676,     0.75776,     0.75876,     0.75976,     0.76076,     0.76176,     0.76276,     0.76376,     0.76476,     0.76577,     0.76677,     0.76777,\n",
      "           0.76877,     0.76977,     0.77077,     0.77177,     0.77277,     0.77377,     0.77477,     0.77578,     0.77678,     0.77778,     0.77878,     0.77978,     0.78078,     0.78178,     0.78278,     0.78378,     0.78478,     0.78579,     0.78679,     0.78779,     0.78879,     0.78979,     0.79079,     0.79179,\n",
      "           0.79279,     0.79379,     0.79479,      0.7958,      0.7968,      0.7978,      0.7988,      0.7998,      0.8008,      0.8018,      0.8028,      0.8038,      0.8048,     0.80581,     0.80681,     0.80781,     0.80881,     0.80981,     0.81081,     0.81181,     0.81281,     0.81381,     0.81481,     0.81582,\n",
      "           0.81682,     0.81782,     0.81882,     0.81982,     0.82082,     0.82182,     0.82282,     0.82382,     0.82482,     0.82583,     0.82683,     0.82783,     0.82883,     0.82983,     0.83083,     0.83183,     0.83283,     0.83383,     0.83483,     0.83584,     0.83684,     0.83784,     0.83884,     0.83984,\n",
      "           0.84084,     0.84184,     0.84284,     0.84384,     0.84484,     0.84585,     0.84685,     0.84785,     0.84885,     0.84985,     0.85085,     0.85185,     0.85285,     0.85385,     0.85485,     0.85586,     0.85686,     0.85786,     0.85886,     0.85986,     0.86086,     0.86186,     0.86286,     0.86386,\n",
      "           0.86486,     0.86587,     0.86687,     0.86787,     0.86887,     0.86987,     0.87087,     0.87187,     0.87287,     0.87387,     0.87487,     0.87588,     0.87688,     0.87788,     0.87888,     0.87988,     0.88088,     0.88188,     0.88288,     0.88388,     0.88488,     0.88589,     0.88689,     0.88789,\n",
      "           0.88889,     0.88989,     0.89089,     0.89189,     0.89289,     0.89389,     0.89489,      0.8959,      0.8969,      0.8979,      0.8989,      0.8999,      0.9009,      0.9019,      0.9029,      0.9039,      0.9049,     0.90591,     0.90691,     0.90791,     0.90891,     0.90991,     0.91091,     0.91191,\n",
      "           0.91291,     0.91391,     0.91491,     0.91592,     0.91692,     0.91792,     0.91892,     0.91992,     0.92092,     0.92192,     0.92292,     0.92392,     0.92492,     0.92593,     0.92693,     0.92793,     0.92893,     0.92993,     0.93093,     0.93193,     0.93293,     0.93393,     0.93493,     0.93594,\n",
      "           0.93694,     0.93794,     0.93894,     0.93994,     0.94094,     0.94194,     0.94294,     0.94394,     0.94494,     0.94595,     0.94695,     0.94795,     0.94895,     0.94995,     0.95095,     0.95195,     0.95295,     0.95395,     0.95495,     0.95596,     0.95696,     0.95796,     0.95896,     0.95996,\n",
      "           0.96096,     0.96196,     0.96296,     0.96396,     0.96496,     0.96597,     0.96697,     0.96797,     0.96897,     0.96997,     0.97097,     0.97197,     0.97297,     0.97397,     0.97497,     0.97598,     0.97698,     0.97798,     0.97898,     0.97998,     0.98098,     0.98198,     0.98298,     0.98398,\n",
      "           0.98498,     0.98599,     0.98699,     0.98799,     0.98899,     0.98999,     0.99099,     0.99199,     0.99299,     0.99399,     0.99499,       0.996,       0.997,       0.998,       0.999,           1]), array([[     0.1646,     0.16465,     0.22407,     0.26444,     0.29135,     0.31592,     0.33229,     0.34986,     0.36539,     0.36967,     0.37793,      0.3908,       0.403,     0.41649,     0.42653,      0.4381,     0.45036,     0.46066,     0.46305,     0.47194,     0.47632,     0.48023,     0.48988,\n",
      "            0.50223,     0.51786,     0.52098,     0.52713,     0.53727,     0.54254,     0.54649,     0.54942,     0.55387,     0.56388,     0.56992,     0.57244,     0.57679,     0.58015,     0.59001,     0.59348,     0.60461,     0.60409,     0.60358,     0.60306,     0.60462,     0.61094,     0.61526,\n",
      "            0.62023,     0.62083,     0.62143,     0.62202,     0.62262,     0.62624,     0.62948,       0.631,     0.63258,     0.63467,      0.6382,     0.64273,     0.64478,     0.65349,     0.65522,     0.65614,     0.65526,     0.66109,     0.66251,     0.66358,     0.66464,     0.66771,     0.67129,\n",
      "            0.67364,     0.67563,     0.67668,     0.67772,     0.67877,     0.68236,     0.68441,     0.68619,     0.68834,     0.69068,     0.69361,     0.69734,     0.70207,      0.7029,     0.70372,     0.70455,     0.70538,     0.71243,      0.7154,     0.72075,     0.72019,     0.72286,     0.72686,\n",
      "            0.73217,     0.73511,     0.73758,     0.74196,     0.74115,     0.74767,     0.74985,     0.74918,      0.7485,     0.75018,     0.75199,     0.75356,     0.75477,     0.75598,     0.75719,     0.75902,     0.76141,      0.7637,     0.76589,     0.76801,     0.76999,     0.77198,     0.78039,\n",
      "            0.78277,     0.78377,     0.78476,     0.78575,     0.78675,     0.78773,      0.7887,     0.78967,     0.79065,     0.79162,     0.79496,       0.796,     0.79556,     0.79512,     0.79475,     0.79631,     0.79786,     0.79941,     0.80083,     0.80217,     0.80351,     0.80485,     0.80441,\n",
      "            0.80664,     0.80887,     0.81068,     0.81232,     0.81396,     0.81638,     0.82043,     0.82033,     0.81994,     0.81955,     0.82086,     0.82283,      0.8248,     0.82855,     0.83269,     0.83681,     0.84443,     0.84971,      0.8536,     0.85304,     0.85364,     0.85449,     0.85534,\n",
      "            0.85619,     0.85704,     0.85789,     0.85875,     0.86184,     0.86845,     0.87294,     0.87463,     0.87632,     0.87801,     0.87874,     0.87865,     0.87856,     0.87847,     0.87838,     0.87829,      0.8782,     0.87811,     0.87802,     0.87793,     0.87783,     0.87774,     0.87764,\n",
      "            0.87755,     0.87745,     0.87735,     0.87726,     0.87716,     0.87707,     0.87697,     0.87729,     0.87802,     0.87874,     0.87946,     0.88019,     0.88091,     0.88163,     0.88236,     0.88308,     0.88382,     0.88467,     0.88552,     0.88637,     0.88722,     0.88808,     0.88893,\n",
      "            0.88978,     0.89062,     0.89054,     0.89045,     0.89037,     0.89028,      0.8902,     0.89011,     0.89003,     0.88994,     0.88986,     0.88977,     0.88973,     0.88968,     0.88964,      0.8896,     0.88956,     0.88952,     0.88948,     0.88943,     0.88939,     0.88935,     0.88931,\n",
      "            0.88927,     0.88923,     0.88918,     0.88914,      0.8891,     0.88906,     0.88902,     0.88897,     0.88893,     0.88889,     0.88872,     0.88855,     0.88837,      0.8882,     0.88802,      0.8871,     0.88602,     0.88574,     0.88545,      0.8852,     0.88505,     0.88489,     0.88473,\n",
      "            0.88458,     0.88442,     0.88428,      0.8842,     0.88411,     0.88403,     0.88395,     0.88387,     0.88379,      0.8837,     0.88362,     0.88354,     0.88346,     0.88337,     0.88318,     0.88287,     0.88256,     0.88231,     0.88218,     0.88205,     0.88192,      0.8818,     0.88167,\n",
      "            0.88154,     0.88141,     0.88107,     0.88056,     0.88025,      0.8801,     0.87994,     0.87978,     0.87962,     0.87947,     0.87931,     0.87909,     0.87887,     0.87865,     0.87842,     0.87834,     0.87864,     0.87893,     0.87923,     0.87953,     0.87983,     0.88013,     0.88043,\n",
      "            0.88073,     0.88103,     0.88132,     0.88162,     0.88192,     0.88222,     0.88252,     0.88282,     0.88312,     0.88341,     0.88371,     0.88401,     0.88431,     0.88461,     0.88491,     0.88521,      0.8855,      0.8858,     0.89279,     0.89364,     0.89346,     0.89328,      0.8931,\n",
      "            0.89292,     0.89197,     0.89237,     0.89276,     0.89315,     0.89355,     0.89394,     0.89434,     0.89473,     0.89513,     0.89552,     0.89592,     0.89631,     0.89671,      0.8971,     0.89749,     0.89789,     0.89828,     0.89868,     0.89907,     0.89947,     0.89986,     0.90133,\n",
      "            0.90338,     0.90542,     0.90747,       0.909,     0.91021,     0.91142,     0.91264,     0.91385,     0.91506,     0.91627,     0.91661,     0.91653,     0.91645,     0.91637,     0.91629,     0.91621,     0.91614,     0.91606,     0.91598,      0.9159,     0.91537,     0.91508,     0.91504,\n",
      "            0.91501,     0.91498,     0.91494,     0.91491,     0.91487,     0.91484,     0.91481,     0.91477,     0.91474,     0.91471,     0.91467,     0.91464,     0.91461,     0.91457,     0.91454,     0.91451,     0.91447,     0.91444,      0.9144,     0.91437,     0.91434,      0.9143,     0.91415,\n",
      "            0.91387,     0.91358,     0.91343,     0.91338,     0.91333,     0.91328,     0.91324,     0.91319,     0.91314,     0.91309,     0.91304,     0.91299,     0.91294,     0.91289,     0.91284,     0.91279,     0.91274,     0.91269,     0.91264,     0.91173,     0.91146,      0.9112,     0.91093,\n",
      "            0.91066,     0.91039,     0.91013,     0.90993,     0.90979,     0.90965,     0.90951,     0.90937,     0.90923,     0.90909,     0.90888,     0.90868,     0.90848,     0.90827,     0.90794,     0.90745,     0.90716,     0.90705,     0.90693,     0.90682,     0.90671,      0.9066,     0.90649,\n",
      "            0.90637,     0.90626,       0.906,     0.90571,     0.90543,     0.90456,     0.90418,     0.90409,     0.90399,      0.9039,     0.90381,     0.90371,     0.90362,     0.90353,     0.90343,     0.90334,     0.90325,     0.90151,     0.90106,     0.90099,     0.90091,     0.90084,     0.90077,\n",
      "            0.90069,     0.90062,     0.90055,     0.90048,      0.9004,     0.90033,     0.90026,     0.90018,     0.90011,     0.90004,     0.90018,     0.90055,     0.90091,     0.90128,     0.90165,     0.90202,     0.90239,     0.90275,     0.90312,     0.90349,     0.90386,     0.90423,     0.90459,\n",
      "            0.90496,     0.90533,      0.9057,     0.90607,     0.90643,      0.9068,     0.90717,     0.90754,     0.90791,     0.90827,     0.90864,     0.90901,     0.90938,     0.90975,     0.91011,     0.90884,     0.90815,      0.9084,     0.90882,     0.90924,     0.90967,     0.91009,     0.91051,\n",
      "            0.91093,     0.91135,     0.91177,     0.91219,     0.91261,     0.91304,     0.91346,     0.91388,      0.9143,     0.91472,     0.91514,     0.91556,     0.91598,     0.91641,     0.91683,     0.91725,     0.91767,     0.91809,     0.91851,     0.91849,     0.91834,      0.9182,     0.91805,\n",
      "            0.91791,     0.91776,     0.91762,     0.91751,      0.9174,     0.91729,     0.91718,     0.91707,     0.91696,     0.91686,     0.91675,      0.9166,     0.91637,     0.91614,     0.91591,     0.91568,     0.91555,     0.91542,     0.91529,     0.91517,     0.91504,     0.91491,     0.91479,\n",
      "            0.91466,     0.91432,     0.91391,     0.91356,     0.91345,     0.91335,     0.91324,     0.91313,     0.91302,     0.91291,     0.91281,      0.9127,     0.91259,      0.9141,     0.92315,     0.92304,      0.9227,     0.92237,     0.92188,     0.92362,     0.93058,     0.93433,     0.93599,\n",
      "            0.93765,     0.93931,     0.94097,     0.94263,     0.94429,     0.94594,     0.94495,     0.94468,     0.94431,     0.95714,     0.95595,     0.95573,     0.95555,     0.95538,     0.95518,     0.95472,     0.95434,     0.95401,     0.95377,     0.95363,     0.95349,     0.95334,      0.9532,\n",
      "             0.9531,     0.95305,       0.953,     0.95295,      0.9529,     0.95285,      0.9528,     0.95275,      0.9527,     0.95265,      0.9526,     0.95255,     0.95251,     0.95246,     0.95241,     0.95226,     0.95201,     0.95177,     0.95556,     0.96625,     0.96687,     0.96588,     0.96548,\n",
      "             0.9654,     0.96531,     0.96522,     0.96514,     0.96505,     0.96496,     0.96472,     0.96428,     0.96401,     0.96374,     0.96347,     0.96321,     0.96296,     0.96289,     0.96282,     0.96274,     0.96267,      0.9626,     0.96253,     0.96246,     0.96239,     0.96231,     0.96223,\n",
      "            0.96213,     0.96203,     0.96193,     0.96182,     0.96172,     0.96162,     0.96129,     0.96043,     0.96168,      0.9665,     0.97132,     0.97614,     0.97953,     0.97933,     0.97962,     0.98152,     0.98343,     0.98533,     0.98724,     0.98914,     0.99105,     0.99295,     0.99486,\n",
      "            0.99676,     0.99867,           1,           1,           1,           1,           1,           1,           1,           1,           1,           1,           1,           1,           1,           1,           1,           1,           1,           1,           1,           1,           1,\n",
      "                  1,           1,           1,           1,           1,           1,           1,           1,           1,           1,           1,           1,           1,           1,           1,           1,           1,           1,           1,           1,           1,           1,           1,\n",
      "                  1,           1,           1,           1,           1,           1,           1,           1,           1,           1,           1,           1,           1,           1,           1,           1,           1,           1,           1,           1,           1,           1,           1,\n",
      "                  1,           1,           1,           1,           1,           1,           1,           1,           1,           1,           1,           1,           1,           1,           1,           1,           1,           1,           1,           1,           1,           1,           1,\n",
      "                  1,           1,           1,           1,           1,           1,           1,           1,           1,           1,           1,           1,           1,           1,           1,           1,           1,           1,           1,           1,           1,           1,           1,\n",
      "                  1,           1,           1,           1,           1,           1,           1,           1,           1,           1,           1,           1,           1,           1,           1,           1,           1,           1,           1,           1,           1,           1,           1,\n",
      "                  1,           1,           1,           1,           1,           1,           1,           1,           1,           1,           1,           1,           1,           1,           1,           1,           1,           1,           1,           1,           1,           1,           1,\n",
      "                  1,           1,           1,           1,           1,           1,           1,           1,           1,           1,           1,           1,           1,           1,           1,           1,           1,           1,           1,           1,           1,           1,           1,\n",
      "                  1,           1,           1,           1,           1,           1,           1,           1,           1,           1,           1,           1,           1,           1,           1,           1,           1,           1,           1,           1,           1,           1,           1,\n",
      "                  1,           1,           1,           1,           1,           1,           1,           1,           1,           1,           1,           1,           1,           1,           1,           1,           1,           1,           1,           1,           1,           1,           1,\n",
      "                  1,           1,           1,           1,           1,           1,           1,           1,           1,           1,           1,           1,           1,           1,           1,           1,           1,           1,           1,           1,           1,           1,           1,\n",
      "                  1,           1,           1,           1,           1,           1,           1,           1,           1,           1,           1,           1,           1,           1,           1,           1,           1,           1,           1,           1,           1,           1,           1,\n",
      "                  1,           1,           1,           1,           1,           1,           1,           1,           1,           1,           1,           1,           1,           1,           1,           1,           1,           1,           1,           1,           1,           1,           1,\n",
      "                  1,           1,           1,           1,           1,           1,           1,           1,           1,           1,           1,           1,           1,           1,           1,           1,           1,           1,           1,           1,           1,           1,           1,\n",
      "                  1,           1,           1,           1,           1,           1,           1,           1,           1,           1,           1]]), 'Confidence', 'Precision'], [array([          0,    0.001001,    0.002002,    0.003003,    0.004004,    0.005005,    0.006006,    0.007007,    0.008008,    0.009009,     0.01001,    0.011011,    0.012012,    0.013013,    0.014014,    0.015015,    0.016016,    0.017017,    0.018018,    0.019019,     0.02002,    0.021021,    0.022022,    0.023023,\n",
      "          0.024024,    0.025025,    0.026026,    0.027027,    0.028028,    0.029029,     0.03003,    0.031031,    0.032032,    0.033033,    0.034034,    0.035035,    0.036036,    0.037037,    0.038038,    0.039039,     0.04004,    0.041041,    0.042042,    0.043043,    0.044044,    0.045045,    0.046046,    0.047047,\n",
      "          0.048048,    0.049049,     0.05005,    0.051051,    0.052052,    0.053053,    0.054054,    0.055055,    0.056056,    0.057057,    0.058058,    0.059059,     0.06006,    0.061061,    0.062062,    0.063063,    0.064064,    0.065065,    0.066066,    0.067067,    0.068068,    0.069069,     0.07007,    0.071071,\n",
      "          0.072072,    0.073073,    0.074074,    0.075075,    0.076076,    0.077077,    0.078078,    0.079079,     0.08008,    0.081081,    0.082082,    0.083083,    0.084084,    0.085085,    0.086086,    0.087087,    0.088088,    0.089089,     0.09009,    0.091091,    0.092092,    0.093093,    0.094094,    0.095095,\n",
      "          0.096096,    0.097097,    0.098098,    0.099099,      0.1001,      0.1011,      0.1021,      0.1031,      0.1041,     0.10511,     0.10611,     0.10711,     0.10811,     0.10911,     0.11011,     0.11111,     0.11211,     0.11311,     0.11411,     0.11512,     0.11612,     0.11712,     0.11812,     0.11912,\n",
      "           0.12012,     0.12112,     0.12212,     0.12312,     0.12412,     0.12513,     0.12613,     0.12713,     0.12813,     0.12913,     0.13013,     0.13113,     0.13213,     0.13313,     0.13413,     0.13514,     0.13614,     0.13714,     0.13814,     0.13914,     0.14014,     0.14114,     0.14214,     0.14314,\n",
      "           0.14414,     0.14515,     0.14615,     0.14715,     0.14815,     0.14915,     0.15015,     0.15115,     0.15215,     0.15315,     0.15415,     0.15516,     0.15616,     0.15716,     0.15816,     0.15916,     0.16016,     0.16116,     0.16216,     0.16316,     0.16416,     0.16517,     0.16617,     0.16717,\n",
      "           0.16817,     0.16917,     0.17017,     0.17117,     0.17217,     0.17317,     0.17417,     0.17518,     0.17618,     0.17718,     0.17818,     0.17918,     0.18018,     0.18118,     0.18218,     0.18318,     0.18418,     0.18519,     0.18619,     0.18719,     0.18819,     0.18919,     0.19019,     0.19119,\n",
      "           0.19219,     0.19319,     0.19419,      0.1952,      0.1962,      0.1972,      0.1982,      0.1992,      0.2002,      0.2012,      0.2022,      0.2032,      0.2042,     0.20521,     0.20621,     0.20721,     0.20821,     0.20921,     0.21021,     0.21121,     0.21221,     0.21321,     0.21421,     0.21522,\n",
      "           0.21622,     0.21722,     0.21822,     0.21922,     0.22022,     0.22122,     0.22222,     0.22322,     0.22422,     0.22523,     0.22623,     0.22723,     0.22823,     0.22923,     0.23023,     0.23123,     0.23223,     0.23323,     0.23423,     0.23524,     0.23624,     0.23724,     0.23824,     0.23924,\n",
      "           0.24024,     0.24124,     0.24224,     0.24324,     0.24424,     0.24525,     0.24625,     0.24725,     0.24825,     0.24925,     0.25025,     0.25125,     0.25225,     0.25325,     0.25425,     0.25526,     0.25626,     0.25726,     0.25826,     0.25926,     0.26026,     0.26126,     0.26226,     0.26326,\n",
      "           0.26426,     0.26527,     0.26627,     0.26727,     0.26827,     0.26927,     0.27027,     0.27127,     0.27227,     0.27327,     0.27427,     0.27528,     0.27628,     0.27728,     0.27828,     0.27928,     0.28028,     0.28128,     0.28228,     0.28328,     0.28428,     0.28529,     0.28629,     0.28729,\n",
      "           0.28829,     0.28929,     0.29029,     0.29129,     0.29229,     0.29329,     0.29429,      0.2953,      0.2963,      0.2973,      0.2983,      0.2993,      0.3003,      0.3013,      0.3023,      0.3033,      0.3043,     0.30531,     0.30631,     0.30731,     0.30831,     0.30931,     0.31031,     0.31131,\n",
      "           0.31231,     0.31331,     0.31431,     0.31532,     0.31632,     0.31732,     0.31832,     0.31932,     0.32032,     0.32132,     0.32232,     0.32332,     0.32432,     0.32533,     0.32633,     0.32733,     0.32833,     0.32933,     0.33033,     0.33133,     0.33233,     0.33333,     0.33433,     0.33534,\n",
      "           0.33634,     0.33734,     0.33834,     0.33934,     0.34034,     0.34134,     0.34234,     0.34334,     0.34434,     0.34535,     0.34635,     0.34735,     0.34835,     0.34935,     0.35035,     0.35135,     0.35235,     0.35335,     0.35435,     0.35536,     0.35636,     0.35736,     0.35836,     0.35936,\n",
      "           0.36036,     0.36136,     0.36236,     0.36336,     0.36436,     0.36537,     0.36637,     0.36737,     0.36837,     0.36937,     0.37037,     0.37137,     0.37237,     0.37337,     0.37437,     0.37538,     0.37638,     0.37738,     0.37838,     0.37938,     0.38038,     0.38138,     0.38238,     0.38338,\n",
      "           0.38438,     0.38539,     0.38639,     0.38739,     0.38839,     0.38939,     0.39039,     0.39139,     0.39239,     0.39339,     0.39439,      0.3954,      0.3964,      0.3974,      0.3984,      0.3994,      0.4004,      0.4014,      0.4024,      0.4034,      0.4044,     0.40541,     0.40641,     0.40741,\n",
      "           0.40841,     0.40941,     0.41041,     0.41141,     0.41241,     0.41341,     0.41441,     0.41542,     0.41642,     0.41742,     0.41842,     0.41942,     0.42042,     0.42142,     0.42242,     0.42342,     0.42442,     0.42543,     0.42643,     0.42743,     0.42843,     0.42943,     0.43043,     0.43143,\n",
      "           0.43243,     0.43343,     0.43443,     0.43544,     0.43644,     0.43744,     0.43844,     0.43944,     0.44044,     0.44144,     0.44244,     0.44344,     0.44444,     0.44545,     0.44645,     0.44745,     0.44845,     0.44945,     0.45045,     0.45145,     0.45245,     0.45345,     0.45445,     0.45546,\n",
      "           0.45646,     0.45746,     0.45846,     0.45946,     0.46046,     0.46146,     0.46246,     0.46346,     0.46446,     0.46547,     0.46647,     0.46747,     0.46847,     0.46947,     0.47047,     0.47147,     0.47247,     0.47347,     0.47447,     0.47548,     0.47648,     0.47748,     0.47848,     0.47948,\n",
      "           0.48048,     0.48148,     0.48248,     0.48348,     0.48448,     0.48549,     0.48649,     0.48749,     0.48849,     0.48949,     0.49049,     0.49149,     0.49249,     0.49349,     0.49449,      0.4955,      0.4965,      0.4975,      0.4985,      0.4995,      0.5005,      0.5015,      0.5025,      0.5035,\n",
      "            0.5045,     0.50551,     0.50651,     0.50751,     0.50851,     0.50951,     0.51051,     0.51151,     0.51251,     0.51351,     0.51451,     0.51552,     0.51652,     0.51752,     0.51852,     0.51952,     0.52052,     0.52152,     0.52252,     0.52352,     0.52452,     0.52553,     0.52653,     0.52753,\n",
      "           0.52853,     0.52953,     0.53053,     0.53153,     0.53253,     0.53353,     0.53453,     0.53554,     0.53654,     0.53754,     0.53854,     0.53954,     0.54054,     0.54154,     0.54254,     0.54354,     0.54454,     0.54555,     0.54655,     0.54755,     0.54855,     0.54955,     0.55055,     0.55155,\n",
      "           0.55255,     0.55355,     0.55455,     0.55556,     0.55656,     0.55756,     0.55856,     0.55956,     0.56056,     0.56156,     0.56256,     0.56356,     0.56456,     0.56557,     0.56657,     0.56757,     0.56857,     0.56957,     0.57057,     0.57157,     0.57257,     0.57357,     0.57457,     0.57558,\n",
      "           0.57658,     0.57758,     0.57858,     0.57958,     0.58058,     0.58158,     0.58258,     0.58358,     0.58458,     0.58559,     0.58659,     0.58759,     0.58859,     0.58959,     0.59059,     0.59159,     0.59259,     0.59359,     0.59459,      0.5956,      0.5966,      0.5976,      0.5986,      0.5996,\n",
      "            0.6006,      0.6016,      0.6026,      0.6036,      0.6046,     0.60561,     0.60661,     0.60761,     0.60861,     0.60961,     0.61061,     0.61161,     0.61261,     0.61361,     0.61461,     0.61562,     0.61662,     0.61762,     0.61862,     0.61962,     0.62062,     0.62162,     0.62262,     0.62362,\n",
      "           0.62462,     0.62563,     0.62663,     0.62763,     0.62863,     0.62963,     0.63063,     0.63163,     0.63263,     0.63363,     0.63463,     0.63564,     0.63664,     0.63764,     0.63864,     0.63964,     0.64064,     0.64164,     0.64264,     0.64364,     0.64464,     0.64565,     0.64665,     0.64765,\n",
      "           0.64865,     0.64965,     0.65065,     0.65165,     0.65265,     0.65365,     0.65465,     0.65566,     0.65666,     0.65766,     0.65866,     0.65966,     0.66066,     0.66166,     0.66266,     0.66366,     0.66466,     0.66567,     0.66667,     0.66767,     0.66867,     0.66967,     0.67067,     0.67167,\n",
      "           0.67267,     0.67367,     0.67467,     0.67568,     0.67668,     0.67768,     0.67868,     0.67968,     0.68068,     0.68168,     0.68268,     0.68368,     0.68468,     0.68569,     0.68669,     0.68769,     0.68869,     0.68969,     0.69069,     0.69169,     0.69269,     0.69369,     0.69469,      0.6957,\n",
      "            0.6967,      0.6977,      0.6987,      0.6997,      0.7007,      0.7017,      0.7027,      0.7037,      0.7047,     0.70571,     0.70671,     0.70771,     0.70871,     0.70971,     0.71071,     0.71171,     0.71271,     0.71371,     0.71471,     0.71572,     0.71672,     0.71772,     0.71872,     0.71972,\n",
      "           0.72072,     0.72172,     0.72272,     0.72372,     0.72472,     0.72573,     0.72673,     0.72773,     0.72873,     0.72973,     0.73073,     0.73173,     0.73273,     0.73373,     0.73473,     0.73574,     0.73674,     0.73774,     0.73874,     0.73974,     0.74074,     0.74174,     0.74274,     0.74374,\n",
      "           0.74474,     0.74575,     0.74675,     0.74775,     0.74875,     0.74975,     0.75075,     0.75175,     0.75275,     0.75375,     0.75475,     0.75576,     0.75676,     0.75776,     0.75876,     0.75976,     0.76076,     0.76176,     0.76276,     0.76376,     0.76476,     0.76577,     0.76677,     0.76777,\n",
      "           0.76877,     0.76977,     0.77077,     0.77177,     0.77277,     0.77377,     0.77477,     0.77578,     0.77678,     0.77778,     0.77878,     0.77978,     0.78078,     0.78178,     0.78278,     0.78378,     0.78478,     0.78579,     0.78679,     0.78779,     0.78879,     0.78979,     0.79079,     0.79179,\n",
      "           0.79279,     0.79379,     0.79479,      0.7958,      0.7968,      0.7978,      0.7988,      0.7998,      0.8008,      0.8018,      0.8028,      0.8038,      0.8048,     0.80581,     0.80681,     0.80781,     0.80881,     0.80981,     0.81081,     0.81181,     0.81281,     0.81381,     0.81481,     0.81582,\n",
      "           0.81682,     0.81782,     0.81882,     0.81982,     0.82082,     0.82182,     0.82282,     0.82382,     0.82482,     0.82583,     0.82683,     0.82783,     0.82883,     0.82983,     0.83083,     0.83183,     0.83283,     0.83383,     0.83483,     0.83584,     0.83684,     0.83784,     0.83884,     0.83984,\n",
      "           0.84084,     0.84184,     0.84284,     0.84384,     0.84484,     0.84585,     0.84685,     0.84785,     0.84885,     0.84985,     0.85085,     0.85185,     0.85285,     0.85385,     0.85485,     0.85586,     0.85686,     0.85786,     0.85886,     0.85986,     0.86086,     0.86186,     0.86286,     0.86386,\n",
      "           0.86486,     0.86587,     0.86687,     0.86787,     0.86887,     0.86987,     0.87087,     0.87187,     0.87287,     0.87387,     0.87487,     0.87588,     0.87688,     0.87788,     0.87888,     0.87988,     0.88088,     0.88188,     0.88288,     0.88388,     0.88488,     0.88589,     0.88689,     0.88789,\n",
      "           0.88889,     0.88989,     0.89089,     0.89189,     0.89289,     0.89389,     0.89489,      0.8959,      0.8969,      0.8979,      0.8989,      0.8999,      0.9009,      0.9019,      0.9029,      0.9039,      0.9049,     0.90591,     0.90691,     0.90791,     0.90891,     0.90991,     0.91091,     0.91191,\n",
      "           0.91291,     0.91391,     0.91491,     0.91592,     0.91692,     0.91792,     0.91892,     0.91992,     0.92092,     0.92192,     0.92292,     0.92392,     0.92492,     0.92593,     0.92693,     0.92793,     0.92893,     0.92993,     0.93093,     0.93193,     0.93293,     0.93393,     0.93493,     0.93594,\n",
      "           0.93694,     0.93794,     0.93894,     0.93994,     0.94094,     0.94194,     0.94294,     0.94394,     0.94494,     0.94595,     0.94695,     0.94795,     0.94895,     0.94995,     0.95095,     0.95195,     0.95295,     0.95395,     0.95495,     0.95596,     0.95696,     0.95796,     0.95896,     0.95996,\n",
      "           0.96096,     0.96196,     0.96296,     0.96396,     0.96496,     0.96597,     0.96697,     0.96797,     0.96897,     0.96997,     0.97097,     0.97197,     0.97297,     0.97397,     0.97497,     0.97598,     0.97698,     0.97798,     0.97898,     0.97998,     0.98098,     0.98198,     0.98298,     0.98398,\n",
      "           0.98498,     0.98599,     0.98699,     0.98799,     0.98899,     0.98999,     0.99099,     0.99199,     0.99299,     0.99399,     0.99499,       0.996,       0.997,       0.998,       0.999,           1]), array([[    0.83908,     0.83908,     0.81609,     0.81609,      0.8046,     0.79885,     0.79885,     0.79791,      0.7931,     0.78197,     0.78161,     0.78161,     0.77586,     0.77586,     0.77586,     0.77586,     0.77586,     0.77011,     0.77011,     0.77011,     0.77011,     0.76462,     0.76437,\n",
      "            0.76437,     0.76437,     0.76437,     0.76437,     0.76437,     0.76437,     0.76181,     0.75862,     0.75862,     0.75862,     0.75862,     0.75407,     0.75287,     0.74713,     0.74713,     0.74713,       0.747,     0.74539,     0.74378,     0.74217,     0.74138,     0.74138,     0.74138,\n",
      "            0.74138,     0.74138,     0.74138,     0.74138,     0.74138,     0.74138,     0.74138,     0.74138,     0.74138,     0.74138,     0.74138,     0.74138,     0.74138,     0.73563,     0.73563,     0.73476,     0.73191,     0.72989,     0.72989,     0.72989,     0.72989,     0.72989,     0.72989,\n",
      "            0.72989,     0.72989,     0.72989,     0.72989,     0.72989,     0.72989,     0.72989,     0.72989,     0.72989,     0.72989,     0.72989,     0.72989,     0.72989,     0.72989,     0.72989,     0.72989,     0.72989,     0.72989,     0.72989,     0.72989,     0.72414,     0.72414,      0.7188,\n",
      "            0.71264,     0.71264,     0.71264,      0.7106,      0.7076,      0.7069,     0.70634,     0.70381,     0.70128,     0.70115,     0.70115,     0.70115,     0.70115,     0.70115,     0.70115,     0.70115,     0.70115,     0.70115,     0.70115,     0.70115,     0.70115,     0.70115,     0.70115,\n",
      "            0.70115,     0.70115,     0.70115,     0.70115,     0.70115,     0.70115,     0.70115,     0.70115,     0.70115,     0.70115,     0.70115,     0.69517,     0.69331,     0.69145,     0.68966,     0.68966,     0.68966,     0.68966,     0.68966,     0.68966,     0.68966,     0.68966,     0.68391,\n",
      "            0.68391,     0.68391,     0.68391,     0.68391,     0.68391,     0.68391,     0.68391,     0.68224,     0.68045,     0.67867,     0.67816,     0.67816,     0.67816,     0.67816,     0.67816,     0.67816,     0.67241,     0.67241,     0.67017,     0.66721,     0.66667,     0.66667,     0.66667,\n",
      "            0.66667,     0.66667,     0.66667,     0.66667,     0.66667,     0.66667,     0.66667,     0.66667,     0.66667,     0.66667,     0.66636,      0.6658,     0.66524,     0.66468,     0.66412,     0.66356,       0.663,     0.66244,     0.66187,     0.66131,     0.66074,     0.66016,     0.65957,\n",
      "            0.65898,      0.6584,     0.65781,     0.65722,     0.65663,     0.65605,     0.65546,     0.65517,     0.65517,     0.65517,     0.65517,     0.65517,     0.65517,     0.65517,     0.65517,     0.65517,     0.65517,     0.65517,     0.65517,     0.65517,     0.65517,     0.65517,     0.65517,\n",
      "            0.65517,     0.65517,      0.6546,     0.65403,     0.65347,      0.6529,     0.65233,     0.65176,     0.65119,     0.65062,     0.65005,     0.64949,     0.64918,     0.64891,     0.64863,     0.64836,     0.64808,     0.64781,     0.64753,     0.64726,     0.64698,     0.64671,     0.64644,\n",
      "            0.64616,     0.64589,     0.64561,     0.64534,     0.64506,     0.64479,     0.64451,     0.64424,     0.64396,     0.64369,      0.6426,     0.64146,     0.64033,      0.6392,     0.63807,     0.63218,     0.62545,     0.62371,     0.62196,     0.62043,     0.61948,     0.61853,     0.61758,\n",
      "            0.61663,     0.61568,     0.61483,     0.61434,     0.61385,     0.61336,     0.61287,     0.61238,     0.61189,      0.6114,     0.61091,     0.61042,     0.60993,     0.60944,     0.60828,     0.60646,     0.60465,      0.6032,     0.60246,     0.60172,     0.60098,     0.60024,      0.5995,\n",
      "            0.59876,     0.59802,     0.59606,      0.5932,     0.59146,     0.59058,      0.5897,     0.58883,     0.58795,     0.58707,     0.58619,     0.58498,     0.58378,     0.58257,     0.58136,     0.58046,     0.58046,     0.58046,     0.58046,     0.58046,     0.58046,     0.58046,     0.58046,\n",
      "            0.58046,     0.58046,     0.58046,     0.58046,     0.58046,     0.58046,     0.58046,     0.58046,     0.58046,     0.58046,     0.58046,     0.58046,     0.58046,     0.58046,     0.58046,     0.58046,     0.58046,     0.58046,     0.58046,     0.57945,     0.57836,     0.57727,     0.57619,\n",
      "             0.5751,     0.56897,     0.56897,     0.56897,     0.56897,     0.56897,     0.56897,     0.56897,     0.56897,     0.56897,     0.56897,     0.56897,     0.56897,     0.56897,     0.56897,     0.56897,     0.56897,     0.56897,     0.56897,     0.56897,     0.56897,     0.56897,     0.56897,\n",
      "            0.56897,     0.56897,     0.56897,     0.56897,     0.56897,     0.56897,     0.56897,     0.56897,     0.56897,     0.56897,     0.56857,     0.56798,     0.56739,     0.56681,     0.56622,     0.56563,     0.56504,     0.56446,     0.56387,     0.56328,     0.55945,     0.55734,     0.55711,\n",
      "            0.55687,     0.55663,     0.55639,     0.55615,     0.55591,     0.55567,     0.55543,     0.55519,     0.55496,     0.55472,     0.55448,     0.55424,       0.554,     0.55376,     0.55352,     0.55328,     0.55304,     0.55281,     0.55257,     0.55233,     0.55209,     0.55185,     0.55079,\n",
      "            0.54881,     0.54683,     0.54578,     0.54544,     0.54511,     0.54477,     0.54443,     0.54409,     0.54375,     0.54341,     0.54307,     0.54274,      0.5424,     0.54206,     0.54172,     0.54138,     0.54104,      0.5407,     0.54036,     0.53427,     0.53251,     0.53075,     0.52899,\n",
      "            0.52726,     0.52553,      0.5238,     0.52252,     0.52164,     0.52075,     0.51987,     0.51899,     0.51811,     0.51722,     0.51596,      0.5147,     0.51344,     0.51218,     0.51014,     0.50716,      0.5054,     0.50473,     0.50407,      0.5034,     0.50273,     0.50207,      0.5014,\n",
      "            0.50074,     0.50007,     0.49853,     0.49688,     0.49523,     0.49023,     0.48808,     0.48756,     0.48704,     0.48652,       0.486,     0.48548,     0.48495,     0.48443,     0.48391,     0.48339,     0.48287,     0.47345,     0.47106,     0.47067,     0.47029,     0.46991,     0.46953,\n",
      "            0.46915,     0.46877,     0.46838,       0.468,     0.46762,     0.46724,     0.46686,     0.46648,     0.46609,     0.46571,     0.46552,     0.46552,     0.46552,     0.46552,     0.46552,     0.46552,     0.46552,     0.46552,     0.46552,     0.46552,     0.46552,     0.46552,     0.46552,\n",
      "            0.46552,     0.46552,     0.46552,     0.46552,     0.46552,     0.46552,     0.46552,     0.46552,     0.46552,     0.46552,     0.46552,     0.46552,     0.46552,     0.46552,     0.46549,     0.45839,     0.45461,     0.45402,     0.45402,     0.45402,     0.45402,     0.45402,     0.45402,\n",
      "            0.45402,     0.45402,     0.45402,     0.45402,     0.45402,     0.45402,     0.45402,     0.45402,     0.45402,     0.45402,     0.45402,     0.45402,     0.45402,     0.45402,     0.45402,     0.45402,     0.45402,     0.45402,     0.45402,     0.45334,     0.45246,     0.45158,     0.45071,\n",
      "            0.44983,     0.44895,     0.44813,     0.44749,     0.44684,      0.4462,     0.44556,     0.44492,     0.44428,     0.44364,     0.44299,     0.44217,     0.44084,     0.43952,      0.4382,     0.43688,     0.43613,     0.43542,     0.43472,     0.43401,      0.4333,      0.4326,     0.43189,\n",
      "            0.43119,     0.42931,     0.42711,     0.42519,     0.42462,     0.42404,     0.42346,     0.42289,     0.42231,     0.42174,     0.42116,     0.42059,     0.42001,     0.41954,     0.41954,      0.4136,     0.41165,     0.40971,     0.40696,      0.4023,      0.4023,      0.4023,      0.4023,\n",
      "             0.4023,      0.4023,      0.4023,      0.4023,      0.4023,      0.4023,     0.39461,     0.39258,     0.38985,     0.38501,     0.37417,      0.3722,      0.3707,     0.36919,     0.36747,     0.36356,     0.36037,     0.35763,     0.35573,     0.35459,     0.35345,     0.35231,     0.35117,\n",
      "            0.35039,     0.35001,     0.34963,     0.34924,     0.34886,     0.34847,     0.34809,     0.34771,     0.34732,     0.34694,     0.34656,     0.34617,     0.34579,      0.3454,     0.34502,     0.34391,     0.34208,     0.34024,     0.33908,     0.33908,      0.3355,     0.32543,     0.32153,\n",
      "             0.3207,     0.31987,     0.31905,     0.31822,     0.31739,     0.31656,     0.31434,     0.31033,     0.30791,     0.30549,     0.30318,     0.30094,     0.29881,     0.29822,     0.29763,     0.29705,     0.29646,     0.29587,     0.29528,     0.29469,     0.29411,     0.29352,     0.29286,\n",
      "            0.29205,     0.29124,     0.29042,     0.28961,      0.2888,     0.28799,     0.28545,     0.27898,     0.27586,     0.27586,     0.27586,     0.27586,     0.27507,     0.27226,     0.27011,     0.27011,     0.27011,     0.27011,     0.27011,     0.27011,     0.27011,     0.27011,     0.27011,\n",
      "            0.27011,     0.27011,     0.26929,     0.26656,     0.26382,     0.26104,     0.25846,     0.25721,     0.25596,     0.25471,     0.25346,     0.25223,     0.25103,     0.24983,     0.24863,     0.24742,     0.24429,     0.24029,     0.23552,     0.23114,     0.22751,     0.22418,     0.21986,\n",
      "             0.2145,     0.20737,     0.19656,     0.19401,     0.19229,     0.19058,     0.18332,      0.1818,     0.18029,     0.17877,     0.17663,     0.17406,     0.17208,     0.17114,     0.17021,     0.16927,     0.16833,      0.1674,     0.16648,     0.16563,     0.16478,     0.16393,     0.16308,\n",
      "            0.16224,     0.16139,     0.15871,     0.15389,     0.14937,     0.14682,     0.14428,     0.14037,     0.13638,     0.13284,      0.1309,     0.12932,     0.12775,     0.12627,     0.12528,     0.12428,     0.12329,     0.12229,      0.1213,     0.12006,     0.11846,     0.11686,     0.11526,\n",
      "            0.11422,     0.11331,      0.1124,      0.1115,     0.11059,     0.10968,     0.10868,     0.10756,     0.10644,     0.10532,      0.1042,     0.10251,    0.099641,    0.097181,     0.09558,    0.093979,    0.092378,    0.084577,    0.080129,    0.068062,    0.064339,    0.059202,    0.056163,\n",
      "           0.054292,     0.05242,    0.051144,    0.050222,    0.049299,    0.048377,    0.047454,    0.046532,    0.044762,    0.041715,    0.038843,    0.036138,     0.02838,    0.022868,    0.022684,      0.0225,    0.022316,    0.022131,    0.021947,    0.021763,    0.021579,    0.021394,     0.02121,\n",
      "           0.021026,    0.020842,    0.020657,    0.020473,    0.020289,    0.020105,     0.01992,    0.019736,    0.019552,    0.019368,    0.019183,    0.018999,    0.018815,    0.018631,    0.018446,    0.018262,    0.018078,    0.017894,    0.017709,    0.017525,    0.017341,    0.016167,     0.01383,\n",
      "           0.011494,    0.011239,    0.010983,    0.010728,    0.010473,    0.010218,   0.0099624,   0.0097072,   0.0094519,   0.0091966,   0.0089414,   0.0086861,   0.0084308,   0.0081756,   0.0079203,    0.007665,   0.0074098,   0.0071545,   0.0068993,    0.006644,   0.0063887,   0.0061335,   0.0058782,\n",
      "                  0,           0,           0,           0,           0,           0,           0,           0,           0,           0,           0,           0,           0,           0,           0,           0,           0,           0,           0,           0,           0,           0,           0,\n",
      "                  0,           0,           0,           0,           0,           0,           0,           0,           0,           0,           0,           0,           0,           0,           0,           0,           0,           0,           0,           0,           0,           0,           0,\n",
      "                  0,           0,           0,           0,           0,           0,           0,           0,           0,           0,           0,           0,           0,           0,           0,           0,           0,           0,           0,           0,           0,           0,           0,\n",
      "                  0,           0,           0,           0,           0,           0,           0,           0,           0,           0,           0,           0,           0,           0,           0,           0,           0,           0,           0,           0,           0,           0,           0,\n",
      "                  0,           0,           0,           0,           0,           0,           0,           0,           0,           0,           0,           0,           0,           0,           0,           0,           0,           0,           0,           0,           0,           0,           0,\n",
      "                  0,           0,           0,           0,           0,           0,           0,           0,           0,           0,           0,           0,           0,           0,           0,           0,           0,           0,           0,           0,           0,           0,           0,\n",
      "                  0,           0,           0,           0,           0,           0,           0,           0,           0,           0,           0,           0,           0,           0,           0,           0,           0,           0,           0,           0,           0,           0,           0,\n",
      "                  0,           0,           0,           0,           0,           0,           0,           0,           0,           0,           0]]), 'Confidence', 'Recall']]\n",
      "fitness: np.float64(0.3743029227630978)\n",
      "keys: ['metrics/precision(B)', 'metrics/recall(B)', 'metrics/mAP50(B)', 'metrics/mAP50-95(B)']\n",
      "maps: array([    0.33321])\n",
      "names: {0: 'bird'}\n",
      "plot: True\n",
      "results_dict: {'metrics/precision(B)': np.float64(0.8787392016627844), 'metrics/recall(B)': np.float64(0.6551724137931034), 'metrics/mAP50(B)': np.float64(0.7441170326818811), 'metrics/mAP50-95(B)': np.float64(0.3332124661054552), 'fitness': np.float64(0.3743029227630978)}\n",
      "save_dir: PosixPath('runs/detect/val')\n",
      "speed: {'preprocess': 16.928298096775418, 'inference': 61.130352580644946, 'loss': 0.0009269354838961003, 'postprocess': 19.115025387095336}\n",
      "task: 'detect'\n"
     ]
    }
   ],
   "source": [
    "custom_name = 'yolov11_freeze_10_base_hp_40_epochs_best.pt'\n",
    "\n",
    "# Load best or last checkpoint\n",
    "model = YOLO(f'{models}/{custom_name}')\n",
    "# Evaluate on the test split defined in test.yaml\n",
    "metrics = model.val(data=yolo_data, imgsz=1280, save=True, split='test')\n",
    "print(metrics)"
   ]
  }
 ],
 "metadata": {
  "accelerator": "GPU",
  "colab": {
   "gpuType": "T4",
   "provenance": []
  },
  "kernelspec": {
   "display_name": "Python 3 (ipykernel)",
   "language": "python",
   "name": "python3"
  },
  "language_info": {
   "codemirror_mode": {
    "name": "ipython",
    "version": 3
   },
   "file_extension": ".py",
   "mimetype": "text/x-python",
   "name": "python",
   "nbconvert_exporter": "python",
   "pygments_lexer": "ipython3",
   "version": "3.11.7"
  }
 },
 "nbformat": 4,
 "nbformat_minor": 4
}
