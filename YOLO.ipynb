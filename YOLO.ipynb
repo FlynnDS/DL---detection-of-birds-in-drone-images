{
 "cells": [
  {
   "cell_type": "code",
   "execution_count": 2,
   "metadata": {
    "colab": {
     "base_uri": "https://localhost:8080/"
    },
    "execution": {
     "iopub.execute_input": "2025-05-09T14:10:24.132817Z",
     "iopub.status.busy": "2025-05-09T14:10:24.132325Z",
     "iopub.status.idle": "2025-05-09T14:10:27.697314Z",
     "shell.execute_reply": "2025-05-09T14:10:27.696579Z",
     "shell.execute_reply.started": "2025-05-09T14:10:24.132777Z"
    },
    "executionInfo": {
     "elapsed": 100633,
     "status": "ok",
     "timestamp": 1746638667522,
     "user": {
      "displayName": "Eugen Falca",
      "userId": "06470857081734833614"
     },
     "user_tz": -120
    },
    "id": "rbXRKiXXLqHN",
    "outputId": "d93ba768-7cc0-4576-eced-462ba64b881f"
   },
   "outputs": [
    {
     "name": "stdout",
     "output_type": "stream",
     "text": [
      "Requirement already satisfied: ultralytics in /usr/local/lib/python3.11/dist-packages (8.3.130)\n",
      "Requirement already satisfied: numpy>=1.23.0 in /usr/local/lib/python3.11/dist-packages (from ultralytics) (1.26.3)\n",
      "Requirement already satisfied: matplotlib>=3.3.0 in /usr/local/lib/python3.11/dist-packages (from ultralytics) (3.7.3)\n",
      "Requirement already satisfied: opencv-python>=4.6.0 in /usr/local/lib/python3.11/dist-packages (from ultralytics) (4.8.0.76)\n",
      "Requirement already satisfied: pillow>=7.1.2 in /usr/local/lib/python3.11/dist-packages (from ultralytics) (9.5.0)\n",
      "Requirement already satisfied: pyyaml>=5.3.1 in /usr/lib/python3/dist-packages (from ultralytics) (5.4.1)\n",
      "Requirement already satisfied: requests>=2.23.0 in /usr/local/lib/python3.11/dist-packages (from ultralytics) (2.31.0)\n",
      "Requirement already satisfied: scipy>=1.4.1 in /usr/local/lib/python3.11/dist-packages (from ultralytics) (1.11.2)\n",
      "Requirement already satisfied: torch>=1.8.0 in /usr/local/lib/python3.11/dist-packages (from ultralytics) (2.1.1+cu121)\n",
      "Requirement already satisfied: torchvision>=0.9.0 in /usr/local/lib/python3.11/dist-packages (from ultralytics) (0.16.1+cu121)\n",
      "Requirement already satisfied: tqdm>=4.64.0 in /usr/local/lib/python3.11/dist-packages (from ultralytics) (4.66.1)\n",
      "Requirement already satisfied: psutil in /usr/local/lib/python3.11/dist-packages (from ultralytics) (5.9.8)\n",
      "Requirement already satisfied: py-cpuinfo in /usr/local/lib/python3.11/dist-packages (from ultralytics) (9.0.0)\n",
      "Requirement already satisfied: pandas>=1.1.4 in /usr/local/lib/python3.11/dist-packages (from ultralytics) (2.2.0)\n",
      "Requirement already satisfied: seaborn>=0.11.0 in /usr/local/lib/python3.11/dist-packages (from ultralytics) (0.12.2)\n",
      "Requirement already satisfied: ultralytics-thop>=2.0.0 in /usr/local/lib/python3.11/dist-packages (from ultralytics) (2.0.14)\n",
      "Requirement already satisfied: contourpy>=1.0.1 in /usr/local/lib/python3.11/dist-packages (from matplotlib>=3.3.0->ultralytics) (1.2.0)\n",
      "Requirement already satisfied: cycler>=0.10 in /usr/local/lib/python3.11/dist-packages (from matplotlib>=3.3.0->ultralytics) (0.12.1)\n",
      "Requirement already satisfied: fonttools>=4.22.0 in /usr/local/lib/python3.11/dist-packages (from matplotlib>=3.3.0->ultralytics) (4.47.2)\n",
      "Requirement already satisfied: kiwisolver>=1.0.1 in /usr/local/lib/python3.11/dist-packages (from matplotlib>=3.3.0->ultralytics) (1.4.5)\n",
      "Requirement already satisfied: packaging>=20.0 in /usr/local/lib/python3.11/dist-packages (from matplotlib>=3.3.0->ultralytics) (23.2)\n",
      "Requirement already satisfied: pyparsing>=2.3.1 in /usr/lib/python3/dist-packages (from matplotlib>=3.3.0->ultralytics) (2.4.7)\n",
      "Requirement already satisfied: python-dateutil>=2.7 in /usr/local/lib/python3.11/dist-packages (from matplotlib>=3.3.0->ultralytics) (2.8.2)\n",
      "Requirement already satisfied: pytz>=2020.1 in /usr/lib/python3/dist-packages (from pandas>=1.1.4->ultralytics) (2022.1)\n",
      "Requirement already satisfied: tzdata>=2022.7 in /usr/local/lib/python3.11/dist-packages (from pandas>=1.1.4->ultralytics) (2023.4)\n",
      "Requirement already satisfied: charset-normalizer<4,>=2 in /usr/local/lib/python3.11/dist-packages (from requests>=2.23.0->ultralytics) (3.3.2)\n",
      "Requirement already satisfied: idna<4,>=2.5 in /usr/lib/python3/dist-packages (from requests>=2.23.0->ultralytics) (3.3)\n",
      "Requirement already satisfied: urllib3<3,>=1.21.1 in /usr/local/lib/python3.11/dist-packages (from requests>=2.23.0->ultralytics) (2.0.7)\n",
      "Requirement already satisfied: certifi>=2017.4.17 in /usr/lib/python3/dist-packages (from requests>=2.23.0->ultralytics) (2020.6.20)\n",
      "Requirement already satisfied: filelock in /usr/local/lib/python3.11/dist-packages (from torch>=1.8.0->ultralytics) (3.13.1)\n",
      "Requirement already satisfied: typing-extensions in /usr/local/lib/python3.11/dist-packages (from torch>=1.8.0->ultralytics) (4.9.0)\n",
      "Requirement already satisfied: sympy in /usr/local/lib/python3.11/dist-packages (from torch>=1.8.0->ultralytics) (1.12)\n",
      "Requirement already satisfied: networkx in /usr/local/lib/python3.11/dist-packages (from torch>=1.8.0->ultralytics) (3.2.1)\n",
      "Requirement already satisfied: jinja2 in /usr/local/lib/python3.11/dist-packages (from torch>=1.8.0->ultralytics) (3.1.3)\n",
      "Requirement already satisfied: fsspec in /usr/local/lib/python3.11/dist-packages (from torch>=1.8.0->ultralytics) (2023.6.0)\n",
      "Requirement already satisfied: triton==2.1.0 in /usr/local/lib/python3.11/dist-packages (from torch>=1.8.0->ultralytics) (2.1.0)\n",
      "Requirement already satisfied: six>=1.5 in /usr/lib/python3/dist-packages (from python-dateutil>=2.7->matplotlib>=3.3.0->ultralytics) (1.16.0)\n",
      "Requirement already satisfied: MarkupSafe>=2.0 in /usr/local/lib/python3.11/dist-packages (from jinja2->torch>=1.8.0->ultralytics) (2.1.4)\n",
      "Requirement already satisfied: mpmath>=0.19 in /usr/local/lib/python3.11/dist-packages (from sympy->torch>=1.8.0->ultralytics) (1.3.0)\n",
      "\u001b[33mWARNING: Running pip as the 'root' user can result in broken permissions and conflicting behaviour with the system package manager. It is recommended to use a virtual environment instead: https://pip.pypa.io/warnings/venv\u001b[0m\u001b[33m\n",
      "\u001b[0m"
     ]
    }
   ],
   "source": [
    "!pip install ultralytics\n",
    "import shutil\n",
    "from ultralytics import YOLO\n",
    "import cv2\n",
    "import matplotlib.pyplot as plt"
   ]
  },
  {
   "cell_type": "code",
   "execution_count": 3,
   "metadata": {
    "execution": {
     "iopub.execute_input": "2025-05-09T14:10:32.550184Z",
     "iopub.status.busy": "2025-05-09T14:10:32.549579Z",
     "iopub.status.idle": "2025-05-09T14:10:32.557964Z",
     "shell.execute_reply": "2025-05-09T14:10:32.557294Z",
     "shell.execute_reply.started": "2025-05-09T14:10:32.550152Z"
    }
   },
   "outputs": [
    {
     "data": {
      "text/plain": [
       "'/notebooks/DL---detection-of-birds-in-drone-images'"
      ]
     },
     "execution_count": 3,
     "metadata": {},
     "output_type": "execute_result"
    }
   ],
   "source": [
    "import os\n",
    "os.path.abspath(\".\")"
   ]
  },
  {
   "cell_type": "code",
   "execution_count": 4,
   "metadata": {
    "execution": {
     "iopub.execute_input": "2025-05-09T14:10:34.519082Z",
     "iopub.status.busy": "2025-05-09T14:10:34.518113Z",
     "iopub.status.idle": "2025-05-09T14:10:34.523845Z",
     "shell.execute_reply": "2025-05-09T14:10:34.522536Z",
     "shell.execute_reply.started": "2025-05-09T14:10:34.519053Z"
    },
    "executionInfo": {
     "elapsed": 42,
     "status": "ok",
     "timestamp": 1746638686061,
     "user": {
      "displayName": "Eugen Falca",
      "userId": "06470857081734833614"
     },
     "user_tz": -120
    },
    "id": "EPJWUrX-Qgei"
   },
   "outputs": [],
   "source": [
    "# datasets\n",
    "folder_path = '/notebooks/DL---detection-of-birds-in-drone-images/data/'\n",
    "\n",
    "# models\n",
    "models = '/notebooks/DL---detection-of-birds-in-drone-images/models'\n",
    "\n",
    "# logs\n",
    "logs = '/notebooks/DL---detection-of-birds-in-drone-images/logs/'\n",
    "\n",
    "#yolo_data = folder_path + 'data_yolo_format/data.yaml'\n",
    "yolo_data = folder_path + 'tiled_augmented_2_640_yolo_data/data.yaml'"
   ]
  },
  {
   "cell_type": "code",
   "execution_count": 5,
   "metadata": {
    "colab": {
     "base_uri": "https://localhost:8080/"
    },
    "execution": {
     "iopub.execute_input": "2025-05-09T14:10:37.430060Z",
     "iopub.status.busy": "2025-05-09T14:10:37.429751Z",
     "iopub.status.idle": "2025-05-09T14:10:38.372446Z",
     "shell.execute_reply": "2025-05-09T14:10:38.371782Z",
     "shell.execute_reply.started": "2025-05-09T14:10:37.430037Z"
    },
    "executionInfo": {
     "elapsed": 1024,
     "status": "ok",
     "timestamp": 1746645444606,
     "user": {
      "displayName": "Eugen Falca",
      "userId": "06470857081734833614"
     },
     "user_tz": -120
    },
    "id": "RoDv_WjFLuNE",
    "outputId": "7a5856d2-948f-4baa-f208-9ea3c17d3642"
   },
   "outputs": [],
   "source": [
    "model_stage_1 = YOLO(\"yolo11m.pt\")"
   ]
  },
  {
   "cell_type": "code",
   "execution_count": null,
   "metadata": {
    "colab": {
     "base_uri": "https://localhost:8080/"
    },
    "execution": {
     "iopub.execute_input": "2025-05-09T14:11:01.683696Z",
     "iopub.status.busy": "2025-05-09T14:11:01.682512Z"
    },
    "executionInfo": {
     "elapsed": 5611210,
     "status": "ok",
     "timestamp": 1746644956329,
     "user": {
      "displayName": "Eugen Falca",
      "userId": "06470857081734833614"
     },
     "user_tz": -120
    },
    "id": "-ACwPCUbLwI9",
    "outputId": "8f91e165-410c-462a-cecf-a4e6ebfdf049"
   },
   "outputs": [
    {
     "name": "stdout",
     "output_type": "stream",
     "text": [
      "Ultralytics 8.3.130 🚀 Python-3.11.7 torch-2.1.1+cu121 CUDA:0 (Quadro RTX 5000, 16110MiB)\n",
      "\u001b[34m\u001b[1mengine/trainer: \u001b[0magnostic_nms=False, amp=True, augment=False, auto_augment=randaugment, batch=-1, bgr=0.0, box=7.5, cache=False, cfg=None, classes=None, close_mosaic=10, cls=0.5, conf=None, copy_paste=0.0, copy_paste_mode=flip, cos_lr=False, cutmix=0.0, data=/notebooks/DL---detection-of-birds-in-drone-images/data/tiled_augmented_2_640_yolo_data/data.yaml, degrees=0.0, deterministic=True, device=None, dfl=1.5, dnn=False, dropout=0.0, dynamic=False, embed=None, epochs=100, erasing=0.4, exist_ok=False, fliplr=0.5, flipud=0.0, format=torchscript, fraction=1.0, freeze=10, half=False, hsv_h=0.015, hsv_s=0.7, hsv_v=0.4, imgsz=640, int8=False, iou=0.7, keras=False, kobj=1.0, line_width=None, lr0=0.01, lrf=0.01, mask_ratio=4, max_det=300, mixup=0.0, mode=train, model=yolo11m.pt, momentum=0.937, mosaic=1.0, multi_scale=False, name=train10, nbs=64, nms=False, opset=None, optimize=False, optimizer=auto, overlap_mask=True, patience=12, perspective=0.0, plots=True, pose=12.0, pretrained=True, profile=False, project=None, rect=False, resume=False, retina_masks=False, save=True, save_conf=False, save_crop=False, save_dir=runs/detect/train10, save_frames=False, save_json=False, save_period=-1, save_txt=False, scale=0.5, seed=42, shear=0.0, show=False, show_boxes=True, show_conf=True, show_labels=True, simplify=True, single_cls=False, source=None, split=val, stream_buffer=False, task=detect, time=None, tracker=botsort.yaml, translate=0.1, val=True, verbose=True, vid_stride=1, visualize=False, warmup_bias_lr=0.1, warmup_epochs=3.0, warmup_momentum=0.8, weight_decay=0.0005, workers=8, workspace=None\n",
      "Downloading https://ultralytics.com/assets/Arial.ttf to '/root/.config/Ultralytics/Arial.ttf'...\n"
     ]
    },
    {
     "name": "stderr",
     "output_type": "stream",
     "text": [
      "100%|██████████| 755k/755k [00:00<00:00, 88.1MB/s]"
     ]
    },
    {
     "name": "stdout",
     "output_type": "stream",
     "text": [
      "Overriding model.yaml nc=80 with nc=1\n",
      "\n",
      "                   from  n    params  module                                       arguments                     \n",
      "  0                  -1  1      1856  ultralytics.nn.modules.conv.Conv             [3, 64, 3, 2]                 \n",
      "  1                  -1  1     73984  ultralytics.nn.modules.conv.Conv             [64, 128, 3, 2]               \n",
      "  2                  -1  1    111872  ultralytics.nn.modules.block.C3k2            [128, 256, 1, True, 0.25]     \n",
      "  3                  -1  1    590336  ultralytics.nn.modules.conv.Conv             [256, 256, 3, 2]              \n",
      "  4                  -1  1    444928  ultralytics.nn.modules.block.C3k2            [256, 512, 1, True, 0.25]     \n",
      "  5                  -1  1   2360320  ultralytics.nn.modules.conv.Conv             [512, 512, 3, 2]              \n",
      "  6                  -1  1   1380352  ultralytics.nn.modules.block.C3k2            [512, 512, 1, True]           \n",
      "  7                  -1  1   2360320  ultralytics.nn.modules.conv.Conv             [512, 512, 3, 2]              \n",
      "  8                  -1  1   1380352  ultralytics.nn.modules.block.C3k2            [512, 512, 1, True]           \n",
      "  9                  -1  1    656896  ultralytics.nn.modules.block.SPPF            [512, 512, 5]                 \n",
      " 10                  -1  1    990976  ultralytics.nn.modules.block.C2PSA           [512, 512, 1]                 \n",
      " 11                  -1  1         0  torch.nn.modules.upsampling.Upsample         [None, 2, 'nearest']          \n",
      " 12             [-1, 6]  1         0  ultralytics.nn.modules.conv.Concat           [1]                           \n"
     ]
    },
    {
     "name": "stderr",
     "output_type": "stream",
     "text": [
      "\n"
     ]
    },
    {
     "name": "stdout",
     "output_type": "stream",
     "text": [
      " 13                  -1  1   1642496  ultralytics.nn.modules.block.C3k2            [1024, 512, 1, True]          \n",
      " 14                  -1  1         0  torch.nn.modules.upsampling.Upsample         [None, 2, 'nearest']          \n",
      " 15             [-1, 4]  1         0  ultralytics.nn.modules.conv.Concat           [1]                           \n",
      " 16                  -1  1    542720  ultralytics.nn.modules.block.C3k2            [1024, 256, 1, True]          \n",
      " 17                  -1  1    590336  ultralytics.nn.modules.conv.Conv             [256, 256, 3, 2]              \n",
      " 18            [-1, 13]  1         0  ultralytics.nn.modules.conv.Concat           [1]                           \n",
      " 19                  -1  1   1511424  ultralytics.nn.modules.block.C3k2            [768, 512, 1, True]           \n",
      " 20                  -1  1   2360320  ultralytics.nn.modules.conv.Conv             [512, 512, 3, 2]              \n",
      " 21            [-1, 10]  1         0  ultralytics.nn.modules.conv.Concat           [1]                           \n",
      " 22                  -1  1   1642496  ultralytics.nn.modules.block.C3k2            [1024, 512, 1, True]          \n",
      " 23        [16, 19, 22]  1   1411795  ultralytics.nn.modules.head.Detect           [1, [256, 512, 512]]          \n",
      "YOLO11m summary: 231 layers, 20,053,779 parameters, 20,053,763 gradients, 68.2 GFLOPs\n",
      "\n",
      "Transferred 643/649 items from pretrained weights\n",
      "Freezing layer 'model.0.conv.weight'\n",
      "Freezing layer 'model.0.bn.weight'\n",
      "Freezing layer 'model.0.bn.bias'\n",
      "Freezing layer 'model.1.conv.weight'\n",
      "Freezing layer 'model.1.bn.weight'\n",
      "Freezing layer 'model.1.bn.bias'\n",
      "Freezing layer 'model.2.cv1.conv.weight'\n",
      "Freezing layer 'model.2.cv1.bn.weight'\n",
      "Freezing layer 'model.2.cv1.bn.bias'\n",
      "Freezing layer 'model.2.cv2.conv.weight'\n",
      "Freezing layer 'model.2.cv2.bn.weight'\n",
      "Freezing layer 'model.2.cv2.bn.bias'\n",
      "Freezing layer 'model.2.m.0.cv1.conv.weight'\n",
      "Freezing layer 'model.2.m.0.cv1.bn.weight'\n",
      "Freezing layer 'model.2.m.0.cv1.bn.bias'\n",
      "Freezing layer 'model.2.m.0.cv2.conv.weight'\n",
      "Freezing layer 'model.2.m.0.cv2.bn.weight'\n",
      "Freezing layer 'model.2.m.0.cv2.bn.bias'\n",
      "Freezing layer 'model.2.m.0.cv3.conv.weight'\n",
      "Freezing layer 'model.2.m.0.cv3.bn.weight'\n",
      "Freezing layer 'model.2.m.0.cv3.bn.bias'\n",
      "Freezing layer 'model.2.m.0.m.0.cv1.conv.weight'\n",
      "Freezing layer 'model.2.m.0.m.0.cv1.bn.weight'\n",
      "Freezing layer 'model.2.m.0.m.0.cv1.bn.bias'\n",
      "Freezing layer 'model.2.m.0.m.0.cv2.conv.weight'\n",
      "Freezing layer 'model.2.m.0.m.0.cv2.bn.weight'\n",
      "Freezing layer 'model.2.m.0.m.0.cv2.bn.bias'\n",
      "Freezing layer 'model.2.m.0.m.1.cv1.conv.weight'\n",
      "Freezing layer 'model.2.m.0.m.1.cv1.bn.weight'\n",
      "Freezing layer 'model.2.m.0.m.1.cv1.bn.bias'\n",
      "Freezing layer 'model.2.m.0.m.1.cv2.conv.weight'\n",
      "Freezing layer 'model.2.m.0.m.1.cv2.bn.weight'\n",
      "Freezing layer 'model.2.m.0.m.1.cv2.bn.bias'\n",
      "Freezing layer 'model.3.conv.weight'\n",
      "Freezing layer 'model.3.bn.weight'\n",
      "Freezing layer 'model.3.bn.bias'\n",
      "Freezing layer 'model.4.cv1.conv.weight'\n",
      "Freezing layer 'model.4.cv1.bn.weight'\n",
      "Freezing layer 'model.4.cv1.bn.bias'\n",
      "Freezing layer 'model.4.cv2.conv.weight'\n",
      "Freezing layer 'model.4.cv2.bn.weight'\n",
      "Freezing layer 'model.4.cv2.bn.bias'\n",
      "Freezing layer 'model.4.m.0.cv1.conv.weight'\n",
      "Freezing layer 'model.4.m.0.cv1.bn.weight'\n",
      "Freezing layer 'model.4.m.0.cv1.bn.bias'\n",
      "Freezing layer 'model.4.m.0.cv2.conv.weight'\n",
      "Freezing layer 'model.4.m.0.cv2.bn.weight'\n",
      "Freezing layer 'model.4.m.0.cv2.bn.bias'\n",
      "Freezing layer 'model.4.m.0.cv3.conv.weight'\n",
      "Freezing layer 'model.4.m.0.cv3.bn.weight'\n",
      "Freezing layer 'model.4.m.0.cv3.bn.bias'\n",
      "Freezing layer 'model.4.m.0.m.0.cv1.conv.weight'\n",
      "Freezing layer 'model.4.m.0.m.0.cv1.bn.weight'\n",
      "Freezing layer 'model.4.m.0.m.0.cv1.bn.bias'\n",
      "Freezing layer 'model.4.m.0.m.0.cv2.conv.weight'\n",
      "Freezing layer 'model.4.m.0.m.0.cv2.bn.weight'\n",
      "Freezing layer 'model.4.m.0.m.0.cv2.bn.bias'\n",
      "Freezing layer 'model.4.m.0.m.1.cv1.conv.weight'\n",
      "Freezing layer 'model.4.m.0.m.1.cv1.bn.weight'\n",
      "Freezing layer 'model.4.m.0.m.1.cv1.bn.bias'\n",
      "Freezing layer 'model.4.m.0.m.1.cv2.conv.weight'\n",
      "Freezing layer 'model.4.m.0.m.1.cv2.bn.weight'\n",
      "Freezing layer 'model.4.m.0.m.1.cv2.bn.bias'\n",
      "Freezing layer 'model.5.conv.weight'\n",
      "Freezing layer 'model.5.bn.weight'\n",
      "Freezing layer 'model.5.bn.bias'\n",
      "Freezing layer 'model.6.cv1.conv.weight'\n",
      "Freezing layer 'model.6.cv1.bn.weight'\n",
      "Freezing layer 'model.6.cv1.bn.bias'\n",
      "Freezing layer 'model.6.cv2.conv.weight'\n",
      "Freezing layer 'model.6.cv2.bn.weight'\n",
      "Freezing layer 'model.6.cv2.bn.bias'\n",
      "Freezing layer 'model.6.m.0.cv1.conv.weight'\n",
      "Freezing layer 'model.6.m.0.cv1.bn.weight'\n",
      "Freezing layer 'model.6.m.0.cv1.bn.bias'\n",
      "Freezing layer 'model.6.m.0.cv2.conv.weight'\n",
      "Freezing layer 'model.6.m.0.cv2.bn.weight'\n",
      "Freezing layer 'model.6.m.0.cv2.bn.bias'\n",
      "Freezing layer 'model.6.m.0.cv3.conv.weight'\n",
      "Freezing layer 'model.6.m.0.cv3.bn.weight'\n",
      "Freezing layer 'model.6.m.0.cv3.bn.bias'\n",
      "Freezing layer 'model.6.m.0.m.0.cv1.conv.weight'\n",
      "Freezing layer 'model.6.m.0.m.0.cv1.bn.weight'\n",
      "Freezing layer 'model.6.m.0.m.0.cv1.bn.bias'\n",
      "Freezing layer 'model.6.m.0.m.0.cv2.conv.weight'\n",
      "Freezing layer 'model.6.m.0.m.0.cv2.bn.weight'\n",
      "Freezing layer 'model.6.m.0.m.0.cv2.bn.bias'\n",
      "Freezing layer 'model.6.m.0.m.1.cv1.conv.weight'\n",
      "Freezing layer 'model.6.m.0.m.1.cv1.bn.weight'\n",
      "Freezing layer 'model.6.m.0.m.1.cv1.bn.bias'\n",
      "Freezing layer 'model.6.m.0.m.1.cv2.conv.weight'\n",
      "Freezing layer 'model.6.m.0.m.1.cv2.bn.weight'\n",
      "Freezing layer 'model.6.m.0.m.1.cv2.bn.bias'\n",
      "Freezing layer 'model.7.conv.weight'\n",
      "Freezing layer 'model.7.bn.weight'\n",
      "Freezing layer 'model.7.bn.bias'\n",
      "Freezing layer 'model.8.cv1.conv.weight'\n",
      "Freezing layer 'model.8.cv1.bn.weight'\n",
      "Freezing layer 'model.8.cv1.bn.bias'\n",
      "Freezing layer 'model.8.cv2.conv.weight'\n",
      "Freezing layer 'model.8.cv2.bn.weight'\n",
      "Freezing layer 'model.8.cv2.bn.bias'\n",
      "Freezing layer 'model.8.m.0.cv1.conv.weight'\n",
      "Freezing layer 'model.8.m.0.cv1.bn.weight'\n",
      "Freezing layer 'model.8.m.0.cv1.bn.bias'\n",
      "Freezing layer 'model.8.m.0.cv2.conv.weight'\n",
      "Freezing layer 'model.8.m.0.cv2.bn.weight'\n",
      "Freezing layer 'model.8.m.0.cv2.bn.bias'\n",
      "Freezing layer 'model.8.m.0.cv3.conv.weight'\n",
      "Freezing layer 'model.8.m.0.cv3.bn.weight'\n",
      "Freezing layer 'model.8.m.0.cv3.bn.bias'\n",
      "Freezing layer 'model.8.m.0.m.0.cv1.conv.weight'\n",
      "Freezing layer 'model.8.m.0.m.0.cv1.bn.weight'\n",
      "Freezing layer 'model.8.m.0.m.0.cv1.bn.bias'\n",
      "Freezing layer 'model.8.m.0.m.0.cv2.conv.weight'\n",
      "Freezing layer 'model.8.m.0.m.0.cv2.bn.weight'\n",
      "Freezing layer 'model.8.m.0.m.0.cv2.bn.bias'\n",
      "Freezing layer 'model.8.m.0.m.1.cv1.conv.weight'\n",
      "Freezing layer 'model.8.m.0.m.1.cv1.bn.weight'\n",
      "Freezing layer 'model.8.m.0.m.1.cv1.bn.bias'\n",
      "Freezing layer 'model.8.m.0.m.1.cv2.conv.weight'\n",
      "Freezing layer 'model.8.m.0.m.1.cv2.bn.weight'\n",
      "Freezing layer 'model.8.m.0.m.1.cv2.bn.bias'\n",
      "Freezing layer 'model.9.cv1.conv.weight'\n",
      "Freezing layer 'model.9.cv1.bn.weight'\n",
      "Freezing layer 'model.9.cv1.bn.bias'\n",
      "Freezing layer 'model.9.cv2.conv.weight'\n",
      "Freezing layer 'model.9.cv2.bn.weight'\n",
      "Freezing layer 'model.9.cv2.bn.bias'\n",
      "Freezing layer 'model.23.dfl.conv.weight'\n",
      "\u001b[34m\u001b[1mAMP: \u001b[0mrunning Automatic Mixed Precision (AMP) checks...\n",
      "\u001b[34m\u001b[1mAMP: \u001b[0mchecks passed ✅\n",
      "\u001b[34m\u001b[1mtrain: \u001b[0mFast image access ✅ (ping: 0.0±0.0 ms, read: 1974.3±269.5 MB/s, size: 579.0 KB)\n"
     ]
    },
    {
     "name": "stderr",
     "output_type": "stream",
     "text": [
      "\u001b[34m\u001b[1mtrain: \u001b[0mScanning /notebooks/DL---detection-of-birds-in-drone-images/data/tiled_augmented_2_640_yolo_data/train/labels... 5594 images, 282 backgrounds, 0 corrupt: 100%|██████████| 5594/5594 [00:33<00:00, 166.81it/s]\n"
     ]
    },
    {
     "name": "stdout",
     "output_type": "stream",
     "text": [
      "\u001b[34m\u001b[1mtrain: \u001b[0mNew cache created: /notebooks/DL---detection-of-birds-in-drone-images/data/tiled_augmented_2_640_yolo_data/train/labels.cache\n",
      "\u001b[34m\u001b[1mAutoBatch: \u001b[0mComputing optimal batch size for imgsz=640 at 60.0% CUDA memory utilization.\n",
      "\u001b[34m\u001b[1mAutoBatch: \u001b[0mCUDA:0 (Quadro RTX 5000) 15.73G total, 0.37G reserved, 0.19G allocated, 15.17G free\n",
      "      Params      GFLOPs  GPU_mem (GB)  forward (ms) backward (ms)                   input                  output\n",
      "    20053779       68.19         1.317         81.69         539.2        (1, 3, 640, 640)                    list\n",
      "    20053779       136.4         1.793         38.33         280.2        (2, 3, 640, 640)                    list\n",
      "    20053779       272.8         2.416         41.38         227.9        (4, 3, 640, 640)                    list\n",
      "    20053779       545.5         3.330         53.47         231.2        (8, 3, 640, 640)                    list\n",
      "    20053779        1091         5.117         101.9         291.7       (16, 3, 640, 640)                    list\n",
      "\u001b[34m\u001b[1mAutoBatch: \u001b[0mUsing batch-size 31 for CUDA:0 9.43G/15.73G (60%) ✅\n",
      "\u001b[34m\u001b[1mtrain: \u001b[0mFast image access ✅ (ping: 0.0±0.0 ms, read: 1364.4±373.9 MB/s, size: 683.0 KB)\n"
     ]
    },
    {
     "name": "stderr",
     "output_type": "stream",
     "text": [
      "\u001b[34m\u001b[1mtrain: \u001b[0mScanning /notebooks/DL---detection-of-birds-in-drone-images/data/tiled_augmented_2_640_yolo_data/train/labels.cache... 5594 images, 282 backgrounds, 0 corrupt: 100%|██████████| 5594/5594 [00:00<?, ?it/s]\n"
     ]
    },
    {
     "name": "stdout",
     "output_type": "stream",
     "text": [
      "\u001b[34m\u001b[1mval: \u001b[0mFast image access ✅ (ping: 0.1±0.1 ms, read: 1223.0±843.6 MB/s, size: 922.0 KB)\n"
     ]
    },
    {
     "name": "stderr",
     "output_type": "stream",
     "text": [
      "\u001b[34m\u001b[1mval: \u001b[0mScanning /notebooks/DL---detection-of-birds-in-drone-images/data/tiled_augmented_2_640_yolo_data/valid/labels... 657 images, 583 backgrounds, 0 corrupt: 100%|██████████| 657/657 [00:05<00:00, 124.97it/s]"
     ]
    },
    {
     "name": "stdout",
     "output_type": "stream",
     "text": [
      "\u001b[34m\u001b[1mval: \u001b[0m/notebooks/DL---detection-of-birds-in-drone-images/data/tiled_augmented_2_640_yolo_data/valid/images/DJI_0319_tile-7.png: 1 duplicate labels removed\n"
     ]
    },
    {
     "name": "stderr",
     "output_type": "stream",
     "text": [
      "\n"
     ]
    },
    {
     "name": "stdout",
     "output_type": "stream",
     "text": [
      "\u001b[34m\u001b[1mval: \u001b[0mNew cache created: /notebooks/DL---detection-of-birds-in-drone-images/data/tiled_augmented_2_640_yolo_data/valid/labels.cache\n",
      "Plotting labels to runs/detect/train10/labels.jpg... \n",
      "\u001b[34m\u001b[1moptimizer:\u001b[0m 'optimizer=auto' found, ignoring 'lr0=0.01' and 'momentum=0.937' and determining best 'optimizer', 'lr0' and 'momentum' automatically... \n",
      "\u001b[34m\u001b[1moptimizer:\u001b[0m AdamW(lr=0.002, momentum=0.9) with parameter groups 106 weight(decay=0.0), 113 weight(decay=0.000484375), 112 bias(decay=0.0)\n",
      "Image sizes 640 train, 640 val\n",
      "Using 8 dataloader workers\n",
      "Logging results to \u001b[1mruns/detect/train10\u001b[0m\n",
      "Starting training for 100 epochs...\n",
      "\n",
      "      Epoch    GPU_mem   box_loss   cls_loss   dfl_loss  Instances       Size\n"
     ]
    },
    {
     "name": "stderr",
     "output_type": "stream",
     "text": [
      "      1/100      6.79G      1.232     0.9465     0.9937         47        640: 100%|██████████| 181/181 [01:10<00:00,  2.58it/s]\n",
      "                 Class     Images  Instances      Box(P          R      mAP50  mAP50-95): 100%|██████████| 11/11 [00:06<00:00,  1.75it/s]\n"
     ]
    },
    {
     "name": "stdout",
     "output_type": "stream",
     "text": [
      "                   all        657        193      0.551      0.508      0.475      0.188\n",
      "\n",
      "      Epoch    GPU_mem   box_loss   cls_loss   dfl_loss  Instances       Size\n"
     ]
    },
    {
     "name": "stderr",
     "output_type": "stream",
     "text": [
      "      2/100       6.8G      1.244     0.7106      1.007         45        640: 100%|██████████| 181/181 [01:06<00:00,  2.74it/s]\n",
      "                 Class     Images  Instances      Box(P          R      mAP50  mAP50-95): 100%|██████████| 11/11 [00:04<00:00,  2.37it/s]"
     ]
    },
    {
     "name": "stdout",
     "output_type": "stream",
     "text": [
      "                   all        657        193      0.535      0.503      0.429      0.181\n"
     ]
    },
    {
     "name": "stderr",
     "output_type": "stream",
     "text": [
      "\n"
     ]
    },
    {
     "name": "stdout",
     "output_type": "stream",
     "text": [
      "\n",
      "      Epoch    GPU_mem   box_loss   cls_loss   dfl_loss  Instances       Size\n"
     ]
    },
    {
     "name": "stderr",
     "output_type": "stream",
     "text": [
      "      3/100      6.78G      1.176     0.6635      0.987         50        640: 100%|██████████| 181/181 [01:04<00:00,  2.79it/s]\n",
      "                 Class     Images  Instances      Box(P          R      mAP50  mAP50-95): 100%|██████████| 11/11 [00:04<00:00,  2.30it/s]"
     ]
    },
    {
     "name": "stdout",
     "output_type": "stream",
     "text": [
      "                   all        657        193       0.45      0.503      0.379      0.167\n"
     ]
    },
    {
     "name": "stderr",
     "output_type": "stream",
     "text": [
      "\n"
     ]
    },
    {
     "name": "stdout",
     "output_type": "stream",
     "text": [
      "\n",
      "      Epoch    GPU_mem   box_loss   cls_loss   dfl_loss  Instances       Size\n"
     ]
    },
    {
     "name": "stderr",
     "output_type": "stream",
     "text": [
      "      4/100      6.68G      1.167     0.6558     0.9915         42        640: 100%|██████████| 181/181 [01:10<00:00,  2.58it/s]\n",
      "                 Class     Images  Instances      Box(P          R      mAP50  mAP50-95): 100%|██████████| 11/11 [00:05<00:00,  2.12it/s]"
     ]
    },
    {
     "name": "stdout",
     "output_type": "stream",
     "text": [
      "                   all        657        193      0.575      0.528      0.476      0.206\n"
     ]
    },
    {
     "name": "stderr",
     "output_type": "stream",
     "text": [
      "\n"
     ]
    },
    {
     "name": "stdout",
     "output_type": "stream",
     "text": [
      "\n",
      "      Epoch    GPU_mem   box_loss   cls_loss   dfl_loss  Instances       Size\n"
     ]
    },
    {
     "name": "stderr",
     "output_type": "stream",
     "text": [
      "      5/100      6.79G      1.127      0.618     0.9773         43        640: 100%|██████████| 181/181 [01:44<00:00,  1.74it/s]\n",
      "                 Class     Images  Instances      Box(P          R      mAP50  mAP50-95): 100%|██████████| 11/11 [00:11<00:00,  1.05s/it]"
     ]
    },
    {
     "name": "stdout",
     "output_type": "stream",
     "text": [
      "                   all        657        193      0.562      0.648      0.503      0.209\n"
     ]
    },
    {
     "name": "stderr",
     "output_type": "stream",
     "text": [
      "\n"
     ]
    },
    {
     "name": "stdout",
     "output_type": "stream",
     "text": [
      "\n",
      "      Epoch    GPU_mem   box_loss   cls_loss   dfl_loss  Instances       Size\n"
     ]
    },
    {
     "name": "stderr",
     "output_type": "stream",
     "text": [
      "      6/100      6.82G      1.085     0.6005      0.961         42        640: 100%|██████████| 181/181 [01:48<00:00,  1.66it/s]\n",
      "                 Class     Images  Instances      Box(P          R      mAP50  mAP50-95): 100%|██████████| 11/11 [00:06<00:00,  1.57it/s]"
     ]
    },
    {
     "name": "stdout",
     "output_type": "stream",
     "text": [
      "                   all        657        193      0.598      0.577      0.505      0.231\n"
     ]
    },
    {
     "name": "stderr",
     "output_type": "stream",
     "text": [
      "\n"
     ]
    },
    {
     "name": "stdout",
     "output_type": "stream",
     "text": [
      "\n",
      "      Epoch    GPU_mem   box_loss   cls_loss   dfl_loss  Instances       Size\n"
     ]
    },
    {
     "name": "stderr",
     "output_type": "stream",
     "text": [
      "      7/100      6.78G      1.077     0.5934      0.958         62        640: 100%|██████████| 181/181 [01:20<00:00,  2.25it/s]\n",
      "                 Class     Images  Instances      Box(P          R      mAP50  mAP50-95): 100%|██████████| 11/11 [00:07<00:00,  1.40it/s]"
     ]
    },
    {
     "name": "stdout",
     "output_type": "stream",
     "text": [
      "                   all        657        193       0.57      0.539      0.452      0.197\n"
     ]
    },
    {
     "name": "stderr",
     "output_type": "stream",
     "text": [
      "\n"
     ]
    },
    {
     "name": "stdout",
     "output_type": "stream",
     "text": [
      "\n",
      "      Epoch    GPU_mem   box_loss   cls_loss   dfl_loss  Instances       Size\n"
     ]
    },
    {
     "name": "stderr",
     "output_type": "stream",
     "text": [
      "      8/100      6.69G      1.042      0.575     0.9484         44        640: 100%|██████████| 181/181 [01:11<00:00,  2.53it/s]\n",
      "                 Class     Images  Instances      Box(P          R      mAP50  mAP50-95): 100%|██████████| 11/11 [00:04<00:00,  2.35it/s]"
     ]
    },
    {
     "name": "stdout",
     "output_type": "stream",
     "text": [
      "                   all        657        193      0.679      0.622      0.606      0.283\n"
     ]
    },
    {
     "name": "stderr",
     "output_type": "stream",
     "text": [
      "\n"
     ]
    },
    {
     "name": "stdout",
     "output_type": "stream",
     "text": [
      "\n",
      "      Epoch    GPU_mem   box_loss   cls_loss   dfl_loss  Instances       Size\n"
     ]
    },
    {
     "name": "stderr",
     "output_type": "stream",
     "text": [
      "      9/100      6.79G      1.035     0.5635      0.941         36        640: 100%|██████████| 181/181 [01:18<00:00,  2.31it/s]\n",
      "                 Class     Images  Instances      Box(P          R      mAP50  mAP50-95): 100%|██████████| 11/11 [00:06<00:00,  1.83it/s]"
     ]
    },
    {
     "name": "stdout",
     "output_type": "stream",
     "text": [
      "                   all        657        193      0.681      0.575      0.584       0.27\n"
     ]
    },
    {
     "name": "stderr",
     "output_type": "stream",
     "text": [
      "\n"
     ]
    },
    {
     "name": "stdout",
     "output_type": "stream",
     "text": [
      "\n",
      "      Epoch    GPU_mem   box_loss   cls_loss   dfl_loss  Instances       Size\n"
     ]
    },
    {
     "name": "stderr",
     "output_type": "stream",
     "text": [
      "     10/100      6.68G     0.9935     0.5442     0.9353         45        640: 100%|██████████| 181/181 [01:21<00:00,  2.23it/s]\n",
      "                 Class     Images  Instances      Box(P          R      mAP50  mAP50-95): 100%|██████████| 11/11 [00:08<00:00,  1.33it/s]"
     ]
    },
    {
     "name": "stdout",
     "output_type": "stream",
     "text": [
      "                   all        657        193      0.611      0.663      0.573      0.261\n"
     ]
    },
    {
     "name": "stderr",
     "output_type": "stream",
     "text": [
      "\n"
     ]
    },
    {
     "name": "stdout",
     "output_type": "stream",
     "text": [
      "\n",
      "      Epoch    GPU_mem   box_loss   cls_loss   dfl_loss  Instances       Size\n"
     ]
    },
    {
     "name": "stderr",
     "output_type": "stream",
     "text": [
      "     11/100      6.79G      1.001     0.5419     0.9334         55        640: 100%|██████████| 181/181 [01:40<00:00,  1.81it/s]\n",
      "                 Class     Images  Instances      Box(P          R      mAP50  mAP50-95): 100%|██████████| 11/11 [00:08<00:00,  1.34it/s]"
     ]
    },
    {
     "name": "stdout",
     "output_type": "stream",
     "text": [
      "                   all        657        193      0.589      0.663      0.562       0.26\n"
     ]
    },
    {
     "name": "stderr",
     "output_type": "stream",
     "text": [
      "\n"
     ]
    },
    {
     "name": "stdout",
     "output_type": "stream",
     "text": [
      "\n",
      "      Epoch    GPU_mem   box_loss   cls_loss   dfl_loss  Instances       Size\n"
     ]
    },
    {
     "name": "stderr",
     "output_type": "stream",
     "text": [
      "     12/100      6.68G      1.009     0.5491     0.9358         52        640: 100%|██████████| 181/181 [01:52<00:00,  1.62it/s]\n",
      "                 Class     Images  Instances      Box(P          R      mAP50  mAP50-95): 100%|██████████| 11/11 [00:11<00:00,  1.04s/it]"
     ]
    },
    {
     "name": "stdout",
     "output_type": "stream",
     "text": [
      "                   all        657        193      0.624      0.628      0.564      0.277\n"
     ]
    },
    {
     "name": "stderr",
     "output_type": "stream",
     "text": [
      "\n"
     ]
    },
    {
     "name": "stdout",
     "output_type": "stream",
     "text": [
      "\n",
      "      Epoch    GPU_mem   box_loss   cls_loss   dfl_loss  Instances       Size\n"
     ]
    },
    {
     "name": "stderr",
     "output_type": "stream",
     "text": [
      "     13/100      6.79G     0.9788     0.5251     0.9235         48        640: 100%|██████████| 181/181 [01:42<00:00,  1.77it/s]\n",
      "                 Class     Images  Instances      Box(P          R      mAP50  mAP50-95): 100%|██████████| 11/11 [00:07<00:00,  1.44it/s]"
     ]
    },
    {
     "name": "stdout",
     "output_type": "stream",
     "text": [
      "                   all        657        193      0.703      0.632      0.622      0.306\n"
     ]
    },
    {
     "name": "stderr",
     "output_type": "stream",
     "text": [
      "\n"
     ]
    },
    {
     "name": "stdout",
     "output_type": "stream",
     "text": [
      "\n",
      "      Epoch    GPU_mem   box_loss   cls_loss   dfl_loss  Instances       Size\n"
     ]
    },
    {
     "name": "stderr",
     "output_type": "stream",
     "text": [
      "     14/100      6.68G     0.9726      0.527      0.919         56        640: 100%|██████████| 181/181 [01:31<00:00,  1.97it/s]\n",
      "                 Class     Images  Instances      Box(P          R      mAP50  mAP50-95): 100%|██████████| 11/11 [00:12<00:00,  1.15s/it]"
     ]
    },
    {
     "name": "stdout",
     "output_type": "stream",
     "text": [
      "                   all        657        193      0.723      0.632      0.618      0.287\n"
     ]
    },
    {
     "name": "stderr",
     "output_type": "stream",
     "text": [
      "\n"
     ]
    },
    {
     "name": "stdout",
     "output_type": "stream",
     "text": [
      "\n",
      "      Epoch    GPU_mem   box_loss   cls_loss   dfl_loss  Instances       Size\n"
     ]
    },
    {
     "name": "stderr",
     "output_type": "stream",
     "text": [
      "     15/100      6.79G     0.9533     0.5152     0.9165         33        640: 100%|██████████| 181/181 [01:44<00:00,  1.73it/s]\n",
      "                 Class     Images  Instances      Box(P          R      mAP50  mAP50-95): 100%|██████████| 11/11 [00:08<00:00,  1.34it/s]"
     ]
    },
    {
     "name": "stdout",
     "output_type": "stream",
     "text": [
      "                   all        657        193      0.648      0.694      0.632      0.301\n"
     ]
    },
    {
     "name": "stderr",
     "output_type": "stream",
     "text": [
      "\n"
     ]
    },
    {
     "name": "stdout",
     "output_type": "stream",
     "text": [
      "\n",
      "      Epoch    GPU_mem   box_loss   cls_loss   dfl_loss  Instances       Size\n"
     ]
    },
    {
     "name": "stderr",
     "output_type": "stream",
     "text": [
      "     16/100      6.68G       0.95      0.519     0.9159         54        640: 100%|██████████| 181/181 [01:19<00:00,  2.29it/s]\n",
      "                 Class     Images  Instances      Box(P          R      mAP50  mAP50-95): 100%|██████████| 11/11 [00:04<00:00,  2.39it/s]"
     ]
    },
    {
     "name": "stdout",
     "output_type": "stream",
     "text": [
      "                   all        657        193      0.622      0.653      0.567      0.268\n"
     ]
    },
    {
     "name": "stderr",
     "output_type": "stream",
     "text": [
      "\n"
     ]
    },
    {
     "name": "stdout",
     "output_type": "stream",
     "text": [
      "\n",
      "      Epoch    GPU_mem   box_loss   cls_loss   dfl_loss  Instances       Size\n"
     ]
    },
    {
     "name": "stderr",
     "output_type": "stream",
     "text": [
      "     17/100      6.79G     0.9483     0.5097     0.9152         53        640: 100%|██████████| 181/181 [01:09<00:00,  2.61it/s]\n",
      "                 Class     Images  Instances      Box(P          R      mAP50  mAP50-95): 100%|██████████| 11/11 [00:05<00:00,  2.02it/s]"
     ]
    },
    {
     "name": "stdout",
     "output_type": "stream",
     "text": [
      "                   all        657        193      0.668      0.648      0.633      0.306\n"
     ]
    },
    {
     "name": "stderr",
     "output_type": "stream",
     "text": [
      "\n"
     ]
    },
    {
     "name": "stdout",
     "output_type": "stream",
     "text": [
      "\n",
      "      Epoch    GPU_mem   box_loss   cls_loss   dfl_loss  Instances       Size\n"
     ]
    },
    {
     "name": "stderr",
     "output_type": "stream",
     "text": [
      "     18/100      6.81G     0.9325      0.498     0.9116         70        640: 100%|██████████| 181/181 [01:25<00:00,  2.11it/s]\n",
      "                 Class     Images  Instances      Box(P          R      mAP50  mAP50-95): 100%|██████████| 11/11 [00:04<00:00,  2.37it/s]"
     ]
    },
    {
     "name": "stdout",
     "output_type": "stream",
     "text": [
      "                   all        657        193      0.726      0.663       0.62      0.296\n"
     ]
    },
    {
     "name": "stderr",
     "output_type": "stream",
     "text": [
      "\n"
     ]
    },
    {
     "name": "stdout",
     "output_type": "stream",
     "text": [
      "\n",
      "      Epoch    GPU_mem   box_loss   cls_loss   dfl_loss  Instances       Size\n"
     ]
    },
    {
     "name": "stderr",
     "output_type": "stream",
     "text": [
      "     19/100      6.79G     0.9326     0.4959     0.9038         38        640: 100%|██████████| 181/181 [01:15<00:00,  2.38it/s]\n",
      "                 Class     Images  Instances      Box(P          R      mAP50  mAP50-95): 100%|██████████| 11/11 [00:04<00:00,  2.25it/s]"
     ]
    },
    {
     "name": "stdout",
     "output_type": "stream",
     "text": [
      "                   all        657        193      0.679      0.663      0.604      0.286\n"
     ]
    },
    {
     "name": "stderr",
     "output_type": "stream",
     "text": [
      "\n"
     ]
    },
    {
     "name": "stdout",
     "output_type": "stream",
     "text": [
      "\n",
      "      Epoch    GPU_mem   box_loss   cls_loss   dfl_loss  Instances       Size\n"
     ]
    },
    {
     "name": "stderr",
     "output_type": "stream",
     "text": [
      "     20/100      6.68G     0.9115     0.4889     0.9037         39        640: 100%|██████████| 181/181 [01:11<00:00,  2.53it/s]\n",
      "                 Class     Images  Instances      Box(P          R      mAP50  mAP50-95): 100%|██████████| 11/11 [00:05<00:00,  2.18it/s]"
     ]
    },
    {
     "name": "stdout",
     "output_type": "stream",
     "text": [
      "                   all        657        193      0.666      0.632      0.603      0.283\n"
     ]
    },
    {
     "name": "stderr",
     "output_type": "stream",
     "text": [
      "\n"
     ]
    },
    {
     "name": "stdout",
     "output_type": "stream",
     "text": [
      "\n",
      "      Epoch    GPU_mem   box_loss   cls_loss   dfl_loss  Instances       Size\n"
     ]
    },
    {
     "name": "stderr",
     "output_type": "stream",
     "text": [
      "     21/100      6.79G     0.9133     0.4882     0.8996         53        640: 100%|██████████| 181/181 [02:02<00:00,  1.48it/s]\n",
      "                 Class     Images  Instances      Box(P          R      mAP50  mAP50-95): 100%|██████████| 11/11 [00:06<00:00,  1.77it/s]"
     ]
    },
    {
     "name": "stdout",
     "output_type": "stream",
     "text": [
      "                   all        657        193      0.642      0.663      0.606      0.297\n"
     ]
    },
    {
     "name": "stderr",
     "output_type": "stream",
     "text": [
      "\n"
     ]
    },
    {
     "name": "stdout",
     "output_type": "stream",
     "text": [
      "\n",
      "      Epoch    GPU_mem   box_loss   cls_loss   dfl_loss  Instances       Size\n"
     ]
    },
    {
     "name": "stderr",
     "output_type": "stream",
     "text": [
      "     22/100      6.68G     0.9074     0.4881     0.9021         39        640: 100%|██████████| 181/181 [01:20<00:00,  2.24it/s]\n",
      "                 Class     Images  Instances      Box(P          R      mAP50  mAP50-95): 100%|██████████| 11/11 [00:09<00:00,  1.12it/s]"
     ]
    },
    {
     "name": "stdout",
     "output_type": "stream",
     "text": [
      "                   all        657        193      0.705      0.632      0.632      0.297\n"
     ]
    },
    {
     "name": "stderr",
     "output_type": "stream",
     "text": [
      "\n"
     ]
    },
    {
     "name": "stdout",
     "output_type": "stream",
     "text": [
      "\n",
      "      Epoch    GPU_mem   box_loss   cls_loss   dfl_loss  Instances       Size\n"
     ]
    },
    {
     "name": "stderr",
     "output_type": "stream",
     "text": [
      "     23/100      6.79G     0.9066     0.4826     0.9005         41        640: 100%|██████████| 181/181 [01:40<00:00,  1.80it/s]\n",
      "                 Class     Images  Instances      Box(P          R      mAP50  mAP50-95): 100%|██████████| 11/11 [00:07<00:00,  1.48it/s]"
     ]
    },
    {
     "name": "stdout",
     "output_type": "stream",
     "text": [
      "                   all        657        193      0.707      0.725      0.651      0.308\n"
     ]
    },
    {
     "name": "stderr",
     "output_type": "stream",
     "text": [
      "\n"
     ]
    },
    {
     "name": "stdout",
     "output_type": "stream",
     "text": [
      "\n",
      "      Epoch    GPU_mem   box_loss   cls_loss   dfl_loss  Instances       Size\n"
     ]
    },
    {
     "name": "stderr",
     "output_type": "stream",
     "text": [
      "     24/100      6.68G     0.8887     0.4765     0.8946         56        640: 100%|██████████| 181/181 [01:40<00:00,  1.79it/s]\n",
      "                 Class     Images  Instances      Box(P          R      mAP50  mAP50-95): 100%|██████████| 11/11 [00:06<00:00,  1.73it/s]"
     ]
    },
    {
     "name": "stdout",
     "output_type": "stream",
     "text": [
      "                   all        657        193      0.637      0.653      0.606      0.293\n"
     ]
    },
    {
     "name": "stderr",
     "output_type": "stream",
     "text": [
      "\n"
     ]
    },
    {
     "name": "stdout",
     "output_type": "stream",
     "text": [
      "\n",
      "      Epoch    GPU_mem   box_loss   cls_loss   dfl_loss  Instances       Size\n"
     ]
    },
    {
     "name": "stderr",
     "output_type": "stream",
     "text": [
      "     25/100      6.79G     0.8909     0.4757     0.8962         37        640: 100%|██████████| 181/181 [01:40<00:00,  1.80it/s]\n",
      "                 Class     Images  Instances      Box(P          R      mAP50  mAP50-95): 100%|██████████| 11/11 [00:11<00:00,  1.01s/it]"
     ]
    },
    {
     "name": "stdout",
     "output_type": "stream",
     "text": [
      "                   all        657        193        0.7      0.642      0.617      0.291\n"
     ]
    },
    {
     "name": "stderr",
     "output_type": "stream",
     "text": [
      "\n"
     ]
    },
    {
     "name": "stdout",
     "output_type": "stream",
     "text": [
      "\n",
      "      Epoch    GPU_mem   box_loss   cls_loss   dfl_loss  Instances       Size\n"
     ]
    },
    {
     "name": "stderr",
     "output_type": "stream",
     "text": [
      "     26/100      6.69G     0.8874     0.4707     0.8967         50        640: 100%|██████████| 181/181 [01:37<00:00,  1.85it/s]\n",
      "                 Class     Images  Instances      Box(P          R      mAP50  mAP50-95): 100%|██████████| 11/11 [00:07<00:00,  1.39it/s]"
     ]
    },
    {
     "name": "stdout",
     "output_type": "stream",
     "text": [
      "                   all        657        193      0.744      0.622      0.649      0.303\n"
     ]
    },
    {
     "name": "stderr",
     "output_type": "stream",
     "text": [
      "\n"
     ]
    },
    {
     "name": "stdout",
     "output_type": "stream",
     "text": [
      "\n",
      "      Epoch    GPU_mem   box_loss   cls_loss   dfl_loss  Instances       Size\n"
     ]
    },
    {
     "name": "stderr",
     "output_type": "stream",
     "text": [
      "     27/100      6.79G     0.8702     0.4642     0.8882         41        640: 100%|██████████| 181/181 [01:55<00:00,  1.56it/s]\n",
      "                 Class     Images  Instances      Box(P          R      mAP50  mAP50-95): 100%|██████████| 11/11 [00:08<00:00,  1.23it/s]"
     ]
    },
    {
     "name": "stdout",
     "output_type": "stream",
     "text": [
      "                   all        657        193      0.689      0.694      0.666      0.314\n"
     ]
    },
    {
     "name": "stderr",
     "output_type": "stream",
     "text": [
      "\n"
     ]
    },
    {
     "name": "stdout",
     "output_type": "stream",
     "text": [
      "\n",
      "      Epoch    GPU_mem   box_loss   cls_loss   dfl_loss  Instances       Size\n"
     ]
    },
    {
     "name": "stderr",
     "output_type": "stream",
     "text": [
      "     28/100      6.82G     0.8689     0.4581       0.89         38        640: 100%|██████████| 181/181 [01:37<00:00,  1.86it/s]\n",
      "                 Class     Images  Instances      Box(P          R      mAP50  mAP50-95): 100%|██████████| 11/11 [00:08<00:00,  1.35it/s]"
     ]
    },
    {
     "name": "stdout",
     "output_type": "stream",
     "text": [
      "                   all        657        193      0.728      0.693      0.677      0.322\n"
     ]
    },
    {
     "name": "stderr",
     "output_type": "stream",
     "text": [
      "\n"
     ]
    },
    {
     "name": "stdout",
     "output_type": "stream",
     "text": [
      "\n",
      "      Epoch    GPU_mem   box_loss   cls_loss   dfl_loss  Instances       Size\n"
     ]
    },
    {
     "name": "stderr",
     "output_type": "stream",
     "text": [
      "     29/100      6.79G     0.8607     0.4621     0.8876         40        640: 100%|██████████| 181/181 [01:19<00:00,  2.28it/s]\n",
      "                 Class     Images  Instances      Box(P          R      mAP50  mAP50-95): 100%|██████████| 11/11 [00:04<00:00,  2.42it/s]"
     ]
    },
    {
     "name": "stdout",
     "output_type": "stream",
     "text": [
      "                   all        657        193      0.717      0.663      0.659      0.288\n"
     ]
    },
    {
     "name": "stderr",
     "output_type": "stream",
     "text": [
      "\n"
     ]
    },
    {
     "name": "stdout",
     "output_type": "stream",
     "text": [
      "\n",
      "      Epoch    GPU_mem   box_loss   cls_loss   dfl_loss  Instances       Size\n"
     ]
    },
    {
     "name": "stderr",
     "output_type": "stream",
     "text": [
      "     30/100      6.68G     0.8675     0.4581     0.8904         61        640: 100%|██████████| 181/181 [01:14<00:00,  2.42it/s]\n",
      "                 Class     Images  Instances      Box(P          R      mAP50  mAP50-95): 100%|██████████| 11/11 [00:04<00:00,  2.36it/s]"
     ]
    },
    {
     "name": "stdout",
     "output_type": "stream",
     "text": [
      "                   all        657        193      0.702      0.624      0.652      0.299\n"
     ]
    },
    {
     "name": "stderr",
     "output_type": "stream",
     "text": [
      "\n"
     ]
    },
    {
     "name": "stdout",
     "output_type": "stream",
     "text": [
      "\n",
      "      Epoch    GPU_mem   box_loss   cls_loss   dfl_loss  Instances       Size\n"
     ]
    },
    {
     "name": "stderr",
     "output_type": "stream",
     "text": [
      "     31/100      6.79G     0.8538     0.4565     0.8825         62        640: 100%|██████████| 181/181 [01:15<00:00,  2.41it/s]\n",
      "                 Class     Images  Instances      Box(P          R      mAP50  mAP50-95): 100%|██████████| 11/11 [00:06<00:00,  1.66it/s]"
     ]
    },
    {
     "name": "stdout",
     "output_type": "stream",
     "text": [
      "                   all        657        193      0.749      0.679      0.685      0.312\n"
     ]
    },
    {
     "name": "stderr",
     "output_type": "stream",
     "text": [
      "\n"
     ]
    },
    {
     "name": "stdout",
     "output_type": "stream",
     "text": [
      "\n",
      "      Epoch    GPU_mem   box_loss   cls_loss   dfl_loss  Instances       Size\n"
     ]
    },
    {
     "name": "stderr",
     "output_type": "stream",
     "text": [
      "     32/100      6.68G     0.8536     0.4499     0.8849         46        640: 100%|██████████| 181/181 [01:20<00:00,  2.23it/s]\n",
      "                 Class     Images  Instances      Box(P          R      mAP50  mAP50-95): 100%|██████████| 11/11 [00:07<00:00,  1.46it/s]"
     ]
    },
    {
     "name": "stdout",
     "output_type": "stream",
     "text": [
      "                   all        657        193      0.722      0.605      0.663      0.302\n"
     ]
    },
    {
     "name": "stderr",
     "output_type": "stream",
     "text": [
      "\n"
     ]
    },
    {
     "name": "stdout",
     "output_type": "stream",
     "text": [
      "\n",
      "      Epoch    GPU_mem   box_loss   cls_loss   dfl_loss  Instances       Size\n"
     ]
    },
    {
     "name": "stderr",
     "output_type": "stream",
     "text": [
      "     33/100      6.79G     0.8548     0.4507     0.8833         53        640: 100%|██████████| 181/181 [01:35<00:00,  1.90it/s]\n",
      "                 Class     Images  Instances      Box(P          R      mAP50  mAP50-95): 100%|██████████| 11/11 [00:06<00:00,  1.65it/s]"
     ]
    },
    {
     "name": "stdout",
     "output_type": "stream",
     "text": [
      "                   all        657        193      0.664      0.707      0.675      0.312\n"
     ]
    },
    {
     "name": "stderr",
     "output_type": "stream",
     "text": [
      "\n"
     ]
    },
    {
     "name": "stdout",
     "output_type": "stream",
     "text": [
      "\n",
      "      Epoch    GPU_mem   box_loss   cls_loss   dfl_loss  Instances       Size\n"
     ]
    },
    {
     "name": "stderr",
     "output_type": "stream",
     "text": [
      "     34/100      6.69G     0.8394     0.4406     0.8798         41        640: 100%|██████████| 181/181 [01:31<00:00,  1.98it/s]\n",
      "                 Class     Images  Instances      Box(P          R      mAP50  mAP50-95): 100%|██████████| 11/11 [00:10<00:00,  1.04it/s]"
     ]
    },
    {
     "name": "stdout",
     "output_type": "stream",
     "text": [
      "                   all        657        193      0.775      0.658      0.676      0.323\n"
     ]
    },
    {
     "name": "stderr",
     "output_type": "stream",
     "text": [
      "\n"
     ]
    },
    {
     "name": "stdout",
     "output_type": "stream",
     "text": [
      "\n",
      "      Epoch    GPU_mem   box_loss   cls_loss   dfl_loss  Instances       Size\n"
     ]
    },
    {
     "name": "stderr",
     "output_type": "stream",
     "text": [
      "     35/100      6.79G     0.8364     0.4416     0.8769         33        640: 100%|██████████| 181/181 [01:48<00:00,  1.66it/s]\n",
      "                 Class     Images  Instances      Box(P          R      mAP50  mAP50-95): 100%|██████████| 11/11 [00:08<00:00,  1.30it/s]"
     ]
    },
    {
     "name": "stdout",
     "output_type": "stream",
     "text": [
      "                   all        657        193        0.7      0.642      0.664      0.311\n"
     ]
    },
    {
     "name": "stderr",
     "output_type": "stream",
     "text": [
      "\n"
     ]
    },
    {
     "name": "stdout",
     "output_type": "stream",
     "text": [
      "\n",
      "      Epoch    GPU_mem   box_loss   cls_loss   dfl_loss  Instances       Size\n"
     ]
    },
    {
     "name": "stderr",
     "output_type": "stream",
     "text": [
      "     36/100      6.82G     0.8334     0.4357     0.8785         57        640: 100%|██████████| 181/181 [01:35<00:00,  1.89it/s]\n",
      "                 Class     Images  Instances      Box(P          R      mAP50  mAP50-95):  36%|███▋      | 4/11 [00:01<00:03,  2.06it/s]"
     ]
    }
   ],
   "source": [
    "model_stage_1.train(\n",
    "    data=yolo_data,          # Path to your dataset configuration file\n",
    "\n",
    "    # Hyperparameters\n",
    "    epochs=100,                    # Number of epochs\n",
    "    batch=-1,                     # batch size\n",
    "    imgsz=640,                    # Image size\n",
    "    freeze=10,                     # Freeze first 10 layers\n",
    "    patience=12,\n",
    "    # Reproducability\n",
    "    seed = 42\n",
    ")"
   ]
  },
  {
   "cell_type": "code",
   "execution_count": null,
   "metadata": {
    "colab": {
     "base_uri": "https://localhost:8080/"
    },
    "executionInfo": {
     "elapsed": 13430,
     "status": "ok",
     "timestamp": 1746613891532,
     "user": {
      "displayName": "Eugen Falca",
      "userId": "06470857081734833614"
     },
     "user_tz": -120
    },
    "id": "4LCoIMVdL6ul",
    "outputId": "a07f8a7b-e363-4a9b-983b-f1e0c1d0b42d"
   },
   "outputs": [],
   "source": [
    "# load the last model of the previous stage to run the validation dataset\n",
    "model_stage_1.val(data=yolo_data, save=True)"
   ]
  },
  {
   "cell_type": "code",
   "execution_count": 4,
   "metadata": {
    "colab": {
     "base_uri": "https://localhost:8080/"
    },
    "execution": {
     "iopub.execute_input": "2025-05-09T07:17:53.202395Z",
     "iopub.status.busy": "2025-05-09T07:17:53.201395Z",
     "iopub.status.idle": "2025-05-09T07:18:18.733975Z",
     "shell.execute_reply": "2025-05-09T07:18:18.732663Z",
     "shell.execute_reply.started": "2025-05-09T07:17:53.202342Z"
    },
    "executionInfo": {
     "elapsed": 22982,
     "status": "ok",
     "timestamp": 1746645097089,
     "user": {
      "displayName": "Eugen Falca",
      "userId": "06470857081734833614"
     },
     "user_tz": -120
    },
    "id": "x02pN7-BGoP_",
    "outputId": "2cb75ca8-43ae-426a-8669-e8644f3f0f0f"
   },
   "outputs": [
    {
     "name": "stdout",
     "output_type": "stream",
     "text": [
      "Ultralytics 8.3.129 🚀 Python-3.11.7 torch-2.1.1+cu121 CUDA:0 (Quadro RTX 5000, 16110MiB)\n",
      "YOLO11m summary (fused): 125 layers, 20,030,803 parameters, 0 gradients, 67.6 GFLOPs\n",
      "Downloading https://ultralytics.com/assets/Arial.ttf to '/tmp/Ultralytics/Arial.ttf'...\n"
     ]
    },
    {
     "name": "stderr",
     "output_type": "stream",
     "text": [
      "100%|██████████| 755k/755k [00:00<00:00, 96.0MB/s]"
     ]
    },
    {
     "name": "stdout",
     "output_type": "stream",
     "text": [
      "\u001b[34m\u001b[1mval: \u001b[0mFast image access ✅ (ping: 0.0±0.0 ms, read: 67.2±25.6 MB/s, size: 2294.8 KB)\n"
     ]
    },
    {
     "name": "stderr",
     "output_type": "stream",
     "text": [
      "\n",
      "\u001b[34m\u001b[1mval: \u001b[0mScanning /notebooks/DL---detection-of-birds-in-drone-images/data/tiled_augmented_yolo_data/test/labels... 176 images, 123 backgrounds, 0 corrupt: 100%|██████████| 176/176 [00:03<00:00, 54.17it/s]"
     ]
    },
    {
     "name": "stdout",
     "output_type": "stream",
     "text": [
      "\u001b[34m\u001b[1mval: \u001b[0mNew cache created: /notebooks/DL---detection-of-birds-in-drone-images/data/tiled_augmented_yolo_data/test/labels.cache\n"
     ]
    },
    {
     "name": "stderr",
     "output_type": "stream",
     "text": [
      "\n",
      "                 Class     Images  Instances      Box(P          R      mAP50  mAP50-95): 100%|██████████| 11/11 [00:10<00:00,  1.00it/s]\n"
     ]
    },
    {
     "name": "stdout",
     "output_type": "stream",
     "text": [
      "                   all        176        167      0.784      0.737      0.775      0.402\n",
      "Speed: 5.5ms preprocess, 41.0ms inference, 0.0ms loss, 2.4ms postprocess per image\n",
      "Results saved to \u001b[1mruns/detect/val2\u001b[0m\n",
      "ultralytics.utils.metrics.DetMetrics object with attributes:\n",
      "\n",
      "ap_class_index: array([0])\n",
      "box: ultralytics.utils.metrics.Metric object\n",
      "confusion_matrix: <ultralytics.utils.metrics.ConfusionMatrix object at 0x7fd5110e8210>\n",
      "curves: ['Precision-Recall(B)', 'F1-Confidence(B)', 'Precision-Confidence(B)', 'Recall-Confidence(B)']\n",
      "curves_results: [[array([          0,    0.001001,    0.002002,    0.003003,    0.004004,    0.005005,    0.006006,    0.007007,    0.008008,    0.009009,     0.01001,    0.011011,    0.012012,    0.013013,    0.014014,    0.015015,    0.016016,    0.017017,    0.018018,    0.019019,     0.02002,    0.021021,    0.022022,    0.023023,\n",
      "          0.024024,    0.025025,    0.026026,    0.027027,    0.028028,    0.029029,     0.03003,    0.031031,    0.032032,    0.033033,    0.034034,    0.035035,    0.036036,    0.037037,    0.038038,    0.039039,     0.04004,    0.041041,    0.042042,    0.043043,    0.044044,    0.045045,    0.046046,    0.047047,\n",
      "          0.048048,    0.049049,     0.05005,    0.051051,    0.052052,    0.053053,    0.054054,    0.055055,    0.056056,    0.057057,    0.058058,    0.059059,     0.06006,    0.061061,    0.062062,    0.063063,    0.064064,    0.065065,    0.066066,    0.067067,    0.068068,    0.069069,     0.07007,    0.071071,\n",
      "          0.072072,    0.073073,    0.074074,    0.075075,    0.076076,    0.077077,    0.078078,    0.079079,     0.08008,    0.081081,    0.082082,    0.083083,    0.084084,    0.085085,    0.086086,    0.087087,    0.088088,    0.089089,     0.09009,    0.091091,    0.092092,    0.093093,    0.094094,    0.095095,\n",
      "          0.096096,    0.097097,    0.098098,    0.099099,      0.1001,      0.1011,      0.1021,      0.1031,      0.1041,     0.10511,     0.10611,     0.10711,     0.10811,     0.10911,     0.11011,     0.11111,     0.11211,     0.11311,     0.11411,     0.11512,     0.11612,     0.11712,     0.11812,     0.11912,\n",
      "           0.12012,     0.12112,     0.12212,     0.12312,     0.12412,     0.12513,     0.12613,     0.12713,     0.12813,     0.12913,     0.13013,     0.13113,     0.13213,     0.13313,     0.13413,     0.13514,     0.13614,     0.13714,     0.13814,     0.13914,     0.14014,     0.14114,     0.14214,     0.14314,\n",
      "           0.14414,     0.14515,     0.14615,     0.14715,     0.14815,     0.14915,     0.15015,     0.15115,     0.15215,     0.15315,     0.15415,     0.15516,     0.15616,     0.15716,     0.15816,     0.15916,     0.16016,     0.16116,     0.16216,     0.16316,     0.16416,     0.16517,     0.16617,     0.16717,\n",
      "           0.16817,     0.16917,     0.17017,     0.17117,     0.17217,     0.17317,     0.17417,     0.17518,     0.17618,     0.17718,     0.17818,     0.17918,     0.18018,     0.18118,     0.18218,     0.18318,     0.18418,     0.18519,     0.18619,     0.18719,     0.18819,     0.18919,     0.19019,     0.19119,\n",
      "           0.19219,     0.19319,     0.19419,      0.1952,      0.1962,      0.1972,      0.1982,      0.1992,      0.2002,      0.2012,      0.2022,      0.2032,      0.2042,     0.20521,     0.20621,     0.20721,     0.20821,     0.20921,     0.21021,     0.21121,     0.21221,     0.21321,     0.21421,     0.21522,\n",
      "           0.21622,     0.21722,     0.21822,     0.21922,     0.22022,     0.22122,     0.22222,     0.22322,     0.22422,     0.22523,     0.22623,     0.22723,     0.22823,     0.22923,     0.23023,     0.23123,     0.23223,     0.23323,     0.23423,     0.23524,     0.23624,     0.23724,     0.23824,     0.23924,\n",
      "           0.24024,     0.24124,     0.24224,     0.24324,     0.24424,     0.24525,     0.24625,     0.24725,     0.24825,     0.24925,     0.25025,     0.25125,     0.25225,     0.25325,     0.25425,     0.25526,     0.25626,     0.25726,     0.25826,     0.25926,     0.26026,     0.26126,     0.26226,     0.26326,\n",
      "           0.26426,     0.26527,     0.26627,     0.26727,     0.26827,     0.26927,     0.27027,     0.27127,     0.27227,     0.27327,     0.27427,     0.27528,     0.27628,     0.27728,     0.27828,     0.27928,     0.28028,     0.28128,     0.28228,     0.28328,     0.28428,     0.28529,     0.28629,     0.28729,\n",
      "           0.28829,     0.28929,     0.29029,     0.29129,     0.29229,     0.29329,     0.29429,      0.2953,      0.2963,      0.2973,      0.2983,      0.2993,      0.3003,      0.3013,      0.3023,      0.3033,      0.3043,     0.30531,     0.30631,     0.30731,     0.30831,     0.30931,     0.31031,     0.31131,\n",
      "           0.31231,     0.31331,     0.31431,     0.31532,     0.31632,     0.31732,     0.31832,     0.31932,     0.32032,     0.32132,     0.32232,     0.32332,     0.32432,     0.32533,     0.32633,     0.32733,     0.32833,     0.32933,     0.33033,     0.33133,     0.33233,     0.33333,     0.33433,     0.33534,\n",
      "           0.33634,     0.33734,     0.33834,     0.33934,     0.34034,     0.34134,     0.34234,     0.34334,     0.34434,     0.34535,     0.34635,     0.34735,     0.34835,     0.34935,     0.35035,     0.35135,     0.35235,     0.35335,     0.35435,     0.35536,     0.35636,     0.35736,     0.35836,     0.35936,\n",
      "           0.36036,     0.36136,     0.36236,     0.36336,     0.36436,     0.36537,     0.36637,     0.36737,     0.36837,     0.36937,     0.37037,     0.37137,     0.37237,     0.37337,     0.37437,     0.37538,     0.37638,     0.37738,     0.37838,     0.37938,     0.38038,     0.38138,     0.38238,     0.38338,\n",
      "           0.38438,     0.38539,     0.38639,     0.38739,     0.38839,     0.38939,     0.39039,     0.39139,     0.39239,     0.39339,     0.39439,      0.3954,      0.3964,      0.3974,      0.3984,      0.3994,      0.4004,      0.4014,      0.4024,      0.4034,      0.4044,     0.40541,     0.40641,     0.40741,\n",
      "           0.40841,     0.40941,     0.41041,     0.41141,     0.41241,     0.41341,     0.41441,     0.41542,     0.41642,     0.41742,     0.41842,     0.41942,     0.42042,     0.42142,     0.42242,     0.42342,     0.42442,     0.42543,     0.42643,     0.42743,     0.42843,     0.42943,     0.43043,     0.43143,\n",
      "           0.43243,     0.43343,     0.43443,     0.43544,     0.43644,     0.43744,     0.43844,     0.43944,     0.44044,     0.44144,     0.44244,     0.44344,     0.44444,     0.44545,     0.44645,     0.44745,     0.44845,     0.44945,     0.45045,     0.45145,     0.45245,     0.45345,     0.45445,     0.45546,\n",
      "           0.45646,     0.45746,     0.45846,     0.45946,     0.46046,     0.46146,     0.46246,     0.46346,     0.46446,     0.46547,     0.46647,     0.46747,     0.46847,     0.46947,     0.47047,     0.47147,     0.47247,     0.47347,     0.47447,     0.47548,     0.47648,     0.47748,     0.47848,     0.47948,\n",
      "           0.48048,     0.48148,     0.48248,     0.48348,     0.48448,     0.48549,     0.48649,     0.48749,     0.48849,     0.48949,     0.49049,     0.49149,     0.49249,     0.49349,     0.49449,      0.4955,      0.4965,      0.4975,      0.4985,      0.4995,      0.5005,      0.5015,      0.5025,      0.5035,\n",
      "            0.5045,     0.50551,     0.50651,     0.50751,     0.50851,     0.50951,     0.51051,     0.51151,     0.51251,     0.51351,     0.51451,     0.51552,     0.51652,     0.51752,     0.51852,     0.51952,     0.52052,     0.52152,     0.52252,     0.52352,     0.52452,     0.52553,     0.52653,     0.52753,\n",
      "           0.52853,     0.52953,     0.53053,     0.53153,     0.53253,     0.53353,     0.53453,     0.53554,     0.53654,     0.53754,     0.53854,     0.53954,     0.54054,     0.54154,     0.54254,     0.54354,     0.54454,     0.54555,     0.54655,     0.54755,     0.54855,     0.54955,     0.55055,     0.55155,\n",
      "           0.55255,     0.55355,     0.55455,     0.55556,     0.55656,     0.55756,     0.55856,     0.55956,     0.56056,     0.56156,     0.56256,     0.56356,     0.56456,     0.56557,     0.56657,     0.56757,     0.56857,     0.56957,     0.57057,     0.57157,     0.57257,     0.57357,     0.57457,     0.57558,\n",
      "           0.57658,     0.57758,     0.57858,     0.57958,     0.58058,     0.58158,     0.58258,     0.58358,     0.58458,     0.58559,     0.58659,     0.58759,     0.58859,     0.58959,     0.59059,     0.59159,     0.59259,     0.59359,     0.59459,      0.5956,      0.5966,      0.5976,      0.5986,      0.5996,\n",
      "            0.6006,      0.6016,      0.6026,      0.6036,      0.6046,     0.60561,     0.60661,     0.60761,     0.60861,     0.60961,     0.61061,     0.61161,     0.61261,     0.61361,     0.61461,     0.61562,     0.61662,     0.61762,     0.61862,     0.61962,     0.62062,     0.62162,     0.62262,     0.62362,\n",
      "           0.62462,     0.62563,     0.62663,     0.62763,     0.62863,     0.62963,     0.63063,     0.63163,     0.63263,     0.63363,     0.63463,     0.63564,     0.63664,     0.63764,     0.63864,     0.63964,     0.64064,     0.64164,     0.64264,     0.64364,     0.64464,     0.64565,     0.64665,     0.64765,\n",
      "           0.64865,     0.64965,     0.65065,     0.65165,     0.65265,     0.65365,     0.65465,     0.65566,     0.65666,     0.65766,     0.65866,     0.65966,     0.66066,     0.66166,     0.66266,     0.66366,     0.66466,     0.66567,     0.66667,     0.66767,     0.66867,     0.66967,     0.67067,     0.67167,\n",
      "           0.67267,     0.67367,     0.67467,     0.67568,     0.67668,     0.67768,     0.67868,     0.67968,     0.68068,     0.68168,     0.68268,     0.68368,     0.68468,     0.68569,     0.68669,     0.68769,     0.68869,     0.68969,     0.69069,     0.69169,     0.69269,     0.69369,     0.69469,      0.6957,\n",
      "            0.6967,      0.6977,      0.6987,      0.6997,      0.7007,      0.7017,      0.7027,      0.7037,      0.7047,     0.70571,     0.70671,     0.70771,     0.70871,     0.70971,     0.71071,     0.71171,     0.71271,     0.71371,     0.71471,     0.71572,     0.71672,     0.71772,     0.71872,     0.71972,\n",
      "           0.72072,     0.72172,     0.72272,     0.72372,     0.72472,     0.72573,     0.72673,     0.72773,     0.72873,     0.72973,     0.73073,     0.73173,     0.73273,     0.73373,     0.73473,     0.73574,     0.73674,     0.73774,     0.73874,     0.73974,     0.74074,     0.74174,     0.74274,     0.74374,\n",
      "           0.74474,     0.74575,     0.74675,     0.74775,     0.74875,     0.74975,     0.75075,     0.75175,     0.75275,     0.75375,     0.75475,     0.75576,     0.75676,     0.75776,     0.75876,     0.75976,     0.76076,     0.76176,     0.76276,     0.76376,     0.76476,     0.76577,     0.76677,     0.76777,\n",
      "           0.76877,     0.76977,     0.77077,     0.77177,     0.77277,     0.77377,     0.77477,     0.77578,     0.77678,     0.77778,     0.77878,     0.77978,     0.78078,     0.78178,     0.78278,     0.78378,     0.78478,     0.78579,     0.78679,     0.78779,     0.78879,     0.78979,     0.79079,     0.79179,\n",
      "           0.79279,     0.79379,     0.79479,      0.7958,      0.7968,      0.7978,      0.7988,      0.7998,      0.8008,      0.8018,      0.8028,      0.8038,      0.8048,     0.80581,     0.80681,     0.80781,     0.80881,     0.80981,     0.81081,     0.81181,     0.81281,     0.81381,     0.81481,     0.81582,\n",
      "           0.81682,     0.81782,     0.81882,     0.81982,     0.82082,     0.82182,     0.82282,     0.82382,     0.82482,     0.82583,     0.82683,     0.82783,     0.82883,     0.82983,     0.83083,     0.83183,     0.83283,     0.83383,     0.83483,     0.83584,     0.83684,     0.83784,     0.83884,     0.83984,\n",
      "           0.84084,     0.84184,     0.84284,     0.84384,     0.84484,     0.84585,     0.84685,     0.84785,     0.84885,     0.84985,     0.85085,     0.85185,     0.85285,     0.85385,     0.85485,     0.85586,     0.85686,     0.85786,     0.85886,     0.85986,     0.86086,     0.86186,     0.86286,     0.86386,\n",
      "           0.86486,     0.86587,     0.86687,     0.86787,     0.86887,     0.86987,     0.87087,     0.87187,     0.87287,     0.87387,     0.87487,     0.87588,     0.87688,     0.87788,     0.87888,     0.87988,     0.88088,     0.88188,     0.88288,     0.88388,     0.88488,     0.88589,     0.88689,     0.88789,\n",
      "           0.88889,     0.88989,     0.89089,     0.89189,     0.89289,     0.89389,     0.89489,      0.8959,      0.8969,      0.8979,      0.8989,      0.8999,      0.9009,      0.9019,      0.9029,      0.9039,      0.9049,     0.90591,     0.90691,     0.90791,     0.90891,     0.90991,     0.91091,     0.91191,\n",
      "           0.91291,     0.91391,     0.91491,     0.91592,     0.91692,     0.91792,     0.91892,     0.91992,     0.92092,     0.92192,     0.92292,     0.92392,     0.92492,     0.92593,     0.92693,     0.92793,     0.92893,     0.92993,     0.93093,     0.93193,     0.93293,     0.93393,     0.93493,     0.93594,\n",
      "           0.93694,     0.93794,     0.93894,     0.93994,     0.94094,     0.94194,     0.94294,     0.94394,     0.94494,     0.94595,     0.94695,     0.94795,     0.94895,     0.94995,     0.95095,     0.95195,     0.95295,     0.95395,     0.95495,     0.95596,     0.95696,     0.95796,     0.95896,     0.95996,\n",
      "           0.96096,     0.96196,     0.96296,     0.96396,     0.96496,     0.96597,     0.96697,     0.96797,     0.96897,     0.96997,     0.97097,     0.97197,     0.97297,     0.97397,     0.97497,     0.97598,     0.97698,     0.97798,     0.97898,     0.97998,     0.98098,     0.98198,     0.98298,     0.98398,\n",
      "           0.98498,     0.98599,     0.98699,     0.98799,     0.98899,     0.98999,     0.99099,     0.99199,     0.99299,     0.99399,     0.99499,       0.996,       0.997,       0.998,       0.999,           1]), array([[          1,           1,           1,           1,           1,           1,           1,           1,           1,           1,           1,           1,           1,           1,           1,           1,           1,           1,           1,           1,           1,           1,           1,\n",
      "                  1,           1,           1,           1,           1,           1,           1,           1,           1,           1,           1,           1,           1,           1,           1,           1,           1,           1,           1,           1,           1,           1,           1,\n",
      "                  1,           1,           1,           1,           1,           1,           1,           1,           1,           1,           1,           1,           1,           1,           1,           1,           1,           1,           1,           1,           1,           1,           1,\n",
      "                  1,           1,           1,           1,           1,           1,           1,           1,           1,           1,           1,           1,           1,           1,           1,           1,           1,           1,           1,           1,           1,           1,           1,\n",
      "                  1,           1,           1,           1,           1,           1,           1,           1,           1,           1,           1,           1,           1,           1,           1,           1,           1,           1,           1,           1,           1,           1,           1,\n",
      "                  1,           1,           1,           1,           1,           1,           1,           1,           1,           1,           1,           1,           1,           1,           1,           1,           1,           1,           1,           1,           1,           1,           1,\n",
      "                  1,           1,           1,           1,           1,           1,           1,           1,           1,           1,           1,           1,           1,           1,           1,           1,           1,           1,           1,           1,           1,           1,           1,\n",
      "                  1,           1,           1,           1,           1,           1,           1,           1,           1,           1,           1,           1,           1,           1,           1,           1,           1,           1,           1,           1,           1,           1,           1,\n",
      "                  1,           1,           1,           1,           1,           1,           1,           1,           1,           1,           1,           1,           1,           1,      0.9863,      0.9863,      0.9863,      0.9863,      0.9863,      0.9863,      0.9863,      0.9863,      0.9863,\n",
      "             0.9863,      0.9863,      0.9863,      0.9863,      0.9863,      0.9863,      0.9863,      0.9863,      0.9863,      0.9863,      0.9863,      0.9863,      0.9863,      0.9863,      0.9863,      0.9863,      0.9863,      0.9863,      0.9863,      0.9863,      0.9863,      0.9863,      0.9863,\n",
      "             0.9863,      0.9863,      0.9863,      0.9863,      0.9863,      0.9863,      0.9863,      0.9863,      0.9863,      0.9863,      0.9863,      0.9863,      0.9863,      0.9863,      0.9863,      0.9863,      0.9863,      0.9863,      0.9863,      0.9863,      0.9863,      0.9863,      0.9863,\n",
      "             0.9863,      0.9863,      0.9863,      0.9863,      0.9863,      0.9863,      0.9863,      0.9863,      0.9863,      0.9863,      0.9863,      0.9863,      0.9863,      0.9863,      0.9863,      0.9863,      0.9863,      0.9863,      0.9863,      0.9863,      0.9863,      0.9863,      0.9863,\n",
      "             0.9863,      0.9863,      0.9863,      0.9863,      0.9863,      0.9863,      0.9863,      0.9863,      0.9863,      0.9863,      0.9863,      0.9863,      0.9863,      0.9863,      0.9863,      0.9863,      0.9863,      0.9863,      0.9863,      0.9863,      0.9863,      0.9863,      0.9863,\n",
      "             0.9863,      0.9863,      0.9863,      0.9863,      0.9863,      0.9863,      0.9863,      0.9863,      0.9863,      0.9863,      0.9863,      0.9863,      0.9863,      0.9863,      0.9863,      0.9863,      0.9863,      0.9863,      0.9863,      0.9863,      0.9863,      0.9863,      0.9863,\n",
      "             0.9863,      0.9863,      0.9863,      0.9863,      0.9863,      0.9863,      0.9863,      0.9863,      0.9863,      0.9863,      0.9863,      0.9863,      0.9863,      0.9863,      0.9863,      0.9863,      0.9863,      0.9863,      0.9863,      0.9863,      0.9863,      0.9863,      0.9863,\n",
      "             0.9863,      0.9863,      0.9863,      0.9863,      0.9863,      0.9863,      0.9863,      0.9863,      0.9863,      0.9863,      0.9863,      0.9863,      0.9863,      0.9863,      0.9863,      0.9863,      0.9863,      0.9863,      0.9863,      0.9863,      0.9863,      0.9863,      0.9863,\n",
      "             0.9863,      0.9863,      0.9863,      0.9863,      0.9863,      0.9863,      0.9863,      0.9863,      0.9863,      0.9863,      0.9863,      0.9863,      0.9863,      0.9863,      0.9863,      0.9863,      0.9863,      0.9863,      0.9863,      0.9863,      0.9863,      0.9863,      0.9863,\n",
      "             0.9863,      0.9863,      0.9863,      0.9863,      0.9863,      0.9863,      0.9863,      0.9863,      0.9863,      0.9863,      0.9863,      0.9863,      0.9863,      0.9863,      0.9863,      0.9863,      0.9863,      0.9863,      0.9863,      0.9863,      0.9863,      0.9863,      0.9863,\n",
      "             0.9863,      0.9863,      0.9863,      0.9863,      0.9863,      0.9863,      0.9863,      0.9863,      0.9863,      0.9863,      0.9863,      0.9863,      0.9863,      0.9863,      0.9863,      0.9863,      0.9863,     0.97333,     0.97333,     0.97333,     0.97333,     0.97333,     0.97333,\n",
      "            0.96703,     0.96703,     0.96703,     0.96703,     0.96703,     0.96703,     0.96703,     0.96703,     0.96703,     0.96703,     0.96703,     0.96703,     0.96703,     0.96703,     0.96703,     0.96703,     0.96703,     0.96703,     0.96703,     0.96703,     0.96703,     0.96703,     0.96703,\n",
      "            0.96703,     0.96703,     0.96703,     0.96703,     0.96703,     0.96703,     0.96703,     0.96703,     0.96703,     0.96703,     0.96703,     0.96703,     0.96703,     0.96703,     0.96703,     0.96703,     0.96703,     0.96703,     0.96703,     0.96703,     0.96703,     0.96703,     0.96703,\n",
      "            0.96703,     0.96703,     0.96703,     0.96703,     0.96703,     0.96703,     0.96703,     0.96703,     0.96703,     0.96703,     0.96703,     0.96703,     0.96703,     0.96703,     0.96703,     0.96703,     0.96703,     0.96703,     0.96703,     0.96703,     0.96703,     0.96703,     0.96703,\n",
      "            0.96703,     0.96703,     0.96703,     0.96703,     0.96703,     0.96703,     0.96703,     0.96703,     0.96703,     0.96703,     0.96703,     0.96703,     0.96703,     0.96703,     0.96703,     0.96703,     0.96703,     0.96703,     0.96703,     0.96703,     0.96703,     0.95699,     0.95699,\n",
      "            0.95699,     0.95699,     0.95699,     0.95699,      0.9375,      0.9375,      0.9375,      0.9375,      0.9375,      0.9375,        0.93,        0.93,        0.93,        0.93,        0.93,        0.93,        0.93,        0.93,        0.93,        0.93,        0.93,        0.93,        0.93,\n",
      "               0.93,        0.93,        0.93,        0.93,        0.93,     0.91429,     0.91429,     0.91429,     0.91429,     0.91429,     0.91429,     0.91429,     0.91429,     0.91429,     0.91429,     0.91429,     0.91429,     0.91429,     0.91429,     0.91429,     0.91429,     0.91429,     0.91429,\n",
      "            0.90826,     0.90826,     0.90826,     0.90826,     0.90826,     0.90826,     0.90826,     0.90826,     0.90826,     0.90826,     0.90826,     0.90826,     0.90826,     0.90826,     0.90826,     0.90826,     0.90826,     0.90826,     0.90179,     0.90179,     0.90179,     0.90179,     0.90179,\n",
      "            0.90179,     0.90179,     0.90179,     0.90179,     0.90179,     0.90179,     0.90179,     0.89474,     0.89474,     0.89474,     0.89474,     0.89474,     0.89474,     0.88235,     0.88235,     0.88235,     0.88235,     0.88235,     0.88235,     0.88235,     0.88235,     0.88235,     0.88235,\n",
      "            0.88235,     0.88235,     0.88235,     0.88235,     0.88235,     0.88235,     0.88235,     0.88235,     0.86992,     0.86992,     0.86992,     0.86992,     0.86992,     0.86992,     0.86992,     0.86992,     0.86992,     0.86992,     0.86992,     0.86992,     0.85039,     0.85039,     0.85039,\n",
      "            0.85039,     0.85039,     0.85039,     0.84496,     0.84496,     0.84496,     0.84496,     0.84496,     0.84496,     0.83582,     0.83582,     0.83582,     0.83582,     0.83582,     0.83582,     0.83582,     0.83582,     0.83582,     0.83582,     0.83582,     0.83582,     0.83582,     0.83582,\n",
      "            0.83582,     0.83582,     0.83582,     0.83453,     0.83453,     0.83453,     0.83453,     0.83453,     0.83453,     0.83453,     0.83453,     0.83453,     0.83453,     0.83453,     0.83453,     0.83453,     0.83453,     0.83453,     0.83453,     0.83453,     0.83453,     0.83453,     0.83453,\n",
      "            0.83453,     0.83453,     0.83453,     0.83453,     0.82394,     0.82394,     0.82394,     0.82394,     0.82394,     0.82394,     0.82069,     0.82069,     0.82069,     0.82069,     0.82069,     0.82069,     0.82069,     0.82069,     0.82069,     0.82069,     0.82069,     0.82069,     0.81633,\n",
      "            0.81633,     0.81633,     0.81633,     0.81633,     0.81633,     0.80263,     0.80263,     0.80263,     0.80263,     0.80263,     0.80263,     0.80263,     0.80263,     0.80263,     0.80263,     0.80263,     0.80263,     0.78846,     0.78846,     0.78846,     0.78846,     0.78846,     0.78846,\n",
      "             0.7764,      0.7764,      0.7764,      0.7764,      0.7764,      0.7764,      0.7764,      0.7764,      0.7764,      0.7764,      0.7764,      0.7764,     0.62376,     0.62376,     0.62376,     0.62376,     0.62376,     0.62376,     0.61951,     0.61951,     0.61951,     0.61951,     0.61951,\n",
      "            0.61951,     0.60952,     0.60952,     0.60952,     0.60952,     0.60952,     0.60952,     0.59174,     0.59174,     0.59174,     0.59174,     0.59174,     0.59174,     0.59091,     0.59091,     0.59091,     0.59091,     0.59091,     0.59091,     0.58482,     0.58482,     0.58482,     0.58482,\n",
      "            0.58482,     0.58482,      0.5523,      0.5523,      0.5523,      0.5523,      0.5523,      0.5523,     0.55187,     0.55187,     0.55187,     0.55187,     0.55187,     0.55187,     0.52964,     0.52964,     0.52964,     0.52964,     0.52964,     0.52964,     0.50943,     0.50943,     0.50943,\n",
      "            0.50943,     0.50943,     0.50943,     0.49817,     0.49817,     0.49817,     0.49817,     0.49817,     0.49817,     0.42947,     0.42947,     0.42947,     0.42947,     0.42947,     0.42947,     0.37912,     0.37912,     0.37912,     0.37912,     0.37912,     0.37912,     0.34925,     0.34925,\n",
      "            0.34925,     0.34925,     0.34925,     0.34925,     0.33816,     0.33816,     0.33816,     0.33816,     0.33816,     0.33816,     0.26208,     0.26208,     0.26208,     0.26208,     0.26208,     0.26208,     0.25494,     0.25494,     0.25494,     0.25494,     0.25494,     0.25494,     0.21799,\n",
      "            0.21799,     0.21799,     0.21799,     0.21799,     0.21799,     0.20368,     0.20368,     0.20368,     0.20368,     0.20368,     0.20368,     0.20111,     0.20111,     0.20111,     0.20111,     0.20111,     0.20111,     0.17914,     0.17914,     0.17914,     0.17914,     0.17914,     0.17914,\n",
      "            0.15139,     0.15139,     0.15139,     0.15139,     0.15139,     0.15139,     0.10882,     0.10882,     0.10882,     0.10882,     0.10882,     0.10882,     0.10758,     0.10758,     0.10758,     0.10758,     0.10758,     0.10758,     0.10714,     0.10714,     0.10714,     0.10714,     0.10714,\n",
      "            0.10714,    0.099016,    0.099016,    0.099016,    0.099016,    0.099016,    0.099016,    0.089994,    0.089994,    0.089994,    0.089994,    0.089994,    0.089994,    0.086392,    0.086392,    0.086392,    0.086392,    0.086392,    0.086392,    0.084996,    0.083972,    0.082948,    0.081924,\n",
      "             0.0809,    0.079876,    0.078852,    0.077828,    0.076803,    0.075779,    0.074755,    0.073731,    0.072707,    0.071683,    0.070659,    0.069635,    0.068611,    0.067587,    0.066563,    0.065539,    0.064515,    0.063491,    0.062467,    0.061443,    0.060419,    0.059395,    0.058371,\n",
      "           0.057347,    0.056323,    0.055298,    0.054274,     0.05325,    0.052226,    0.051202,    0.050178,    0.049154,     0.04813,    0.047106,    0.046082,    0.045058,    0.044034,     0.04301,    0.041986,    0.040962,    0.039938,    0.038914,     0.03789,    0.036866,    0.035842,    0.034818,\n",
      "           0.033794,    0.032769,    0.031745,    0.030721,    0.029697,    0.028673,    0.027649,    0.026625,    0.025601,    0.024577,    0.023553,    0.022529,    0.021505,    0.020481,    0.019457,    0.018433,    0.017409,    0.016385,    0.015361,    0.014337,    0.013313,    0.012289,    0.011265,\n",
      "            0.01024,   0.0092164,   0.0081924,   0.0071683,   0.0061443,   0.0051202,   0.0040962,   0.0030721,   0.0020481,    0.001024,           0]]), 'Recall', 'Precision'], [array([          0,    0.001001,    0.002002,    0.003003,    0.004004,    0.005005,    0.006006,    0.007007,    0.008008,    0.009009,     0.01001,    0.011011,    0.012012,    0.013013,    0.014014,    0.015015,    0.016016,    0.017017,    0.018018,    0.019019,     0.02002,    0.021021,    0.022022,    0.023023,\n",
      "          0.024024,    0.025025,    0.026026,    0.027027,    0.028028,    0.029029,     0.03003,    0.031031,    0.032032,    0.033033,    0.034034,    0.035035,    0.036036,    0.037037,    0.038038,    0.039039,     0.04004,    0.041041,    0.042042,    0.043043,    0.044044,    0.045045,    0.046046,    0.047047,\n",
      "          0.048048,    0.049049,     0.05005,    0.051051,    0.052052,    0.053053,    0.054054,    0.055055,    0.056056,    0.057057,    0.058058,    0.059059,     0.06006,    0.061061,    0.062062,    0.063063,    0.064064,    0.065065,    0.066066,    0.067067,    0.068068,    0.069069,     0.07007,    0.071071,\n",
      "          0.072072,    0.073073,    0.074074,    0.075075,    0.076076,    0.077077,    0.078078,    0.079079,     0.08008,    0.081081,    0.082082,    0.083083,    0.084084,    0.085085,    0.086086,    0.087087,    0.088088,    0.089089,     0.09009,    0.091091,    0.092092,    0.093093,    0.094094,    0.095095,\n",
      "          0.096096,    0.097097,    0.098098,    0.099099,      0.1001,      0.1011,      0.1021,      0.1031,      0.1041,     0.10511,     0.10611,     0.10711,     0.10811,     0.10911,     0.11011,     0.11111,     0.11211,     0.11311,     0.11411,     0.11512,     0.11612,     0.11712,     0.11812,     0.11912,\n",
      "           0.12012,     0.12112,     0.12212,     0.12312,     0.12412,     0.12513,     0.12613,     0.12713,     0.12813,     0.12913,     0.13013,     0.13113,     0.13213,     0.13313,     0.13413,     0.13514,     0.13614,     0.13714,     0.13814,     0.13914,     0.14014,     0.14114,     0.14214,     0.14314,\n",
      "           0.14414,     0.14515,     0.14615,     0.14715,     0.14815,     0.14915,     0.15015,     0.15115,     0.15215,     0.15315,     0.15415,     0.15516,     0.15616,     0.15716,     0.15816,     0.15916,     0.16016,     0.16116,     0.16216,     0.16316,     0.16416,     0.16517,     0.16617,     0.16717,\n",
      "           0.16817,     0.16917,     0.17017,     0.17117,     0.17217,     0.17317,     0.17417,     0.17518,     0.17618,     0.17718,     0.17818,     0.17918,     0.18018,     0.18118,     0.18218,     0.18318,     0.18418,     0.18519,     0.18619,     0.18719,     0.18819,     0.18919,     0.19019,     0.19119,\n",
      "           0.19219,     0.19319,     0.19419,      0.1952,      0.1962,      0.1972,      0.1982,      0.1992,      0.2002,      0.2012,      0.2022,      0.2032,      0.2042,     0.20521,     0.20621,     0.20721,     0.20821,     0.20921,     0.21021,     0.21121,     0.21221,     0.21321,     0.21421,     0.21522,\n",
      "           0.21622,     0.21722,     0.21822,     0.21922,     0.22022,     0.22122,     0.22222,     0.22322,     0.22422,     0.22523,     0.22623,     0.22723,     0.22823,     0.22923,     0.23023,     0.23123,     0.23223,     0.23323,     0.23423,     0.23524,     0.23624,     0.23724,     0.23824,     0.23924,\n",
      "           0.24024,     0.24124,     0.24224,     0.24324,     0.24424,     0.24525,     0.24625,     0.24725,     0.24825,     0.24925,     0.25025,     0.25125,     0.25225,     0.25325,     0.25425,     0.25526,     0.25626,     0.25726,     0.25826,     0.25926,     0.26026,     0.26126,     0.26226,     0.26326,\n",
      "           0.26426,     0.26527,     0.26627,     0.26727,     0.26827,     0.26927,     0.27027,     0.27127,     0.27227,     0.27327,     0.27427,     0.27528,     0.27628,     0.27728,     0.27828,     0.27928,     0.28028,     0.28128,     0.28228,     0.28328,     0.28428,     0.28529,     0.28629,     0.28729,\n",
      "           0.28829,     0.28929,     0.29029,     0.29129,     0.29229,     0.29329,     0.29429,      0.2953,      0.2963,      0.2973,      0.2983,      0.2993,      0.3003,      0.3013,      0.3023,      0.3033,      0.3043,     0.30531,     0.30631,     0.30731,     0.30831,     0.30931,     0.31031,     0.31131,\n",
      "           0.31231,     0.31331,     0.31431,     0.31532,     0.31632,     0.31732,     0.31832,     0.31932,     0.32032,     0.32132,     0.32232,     0.32332,     0.32432,     0.32533,     0.32633,     0.32733,     0.32833,     0.32933,     0.33033,     0.33133,     0.33233,     0.33333,     0.33433,     0.33534,\n",
      "           0.33634,     0.33734,     0.33834,     0.33934,     0.34034,     0.34134,     0.34234,     0.34334,     0.34434,     0.34535,     0.34635,     0.34735,     0.34835,     0.34935,     0.35035,     0.35135,     0.35235,     0.35335,     0.35435,     0.35536,     0.35636,     0.35736,     0.35836,     0.35936,\n",
      "           0.36036,     0.36136,     0.36236,     0.36336,     0.36436,     0.36537,     0.36637,     0.36737,     0.36837,     0.36937,     0.37037,     0.37137,     0.37237,     0.37337,     0.37437,     0.37538,     0.37638,     0.37738,     0.37838,     0.37938,     0.38038,     0.38138,     0.38238,     0.38338,\n",
      "           0.38438,     0.38539,     0.38639,     0.38739,     0.38839,     0.38939,     0.39039,     0.39139,     0.39239,     0.39339,     0.39439,      0.3954,      0.3964,      0.3974,      0.3984,      0.3994,      0.4004,      0.4014,      0.4024,      0.4034,      0.4044,     0.40541,     0.40641,     0.40741,\n",
      "           0.40841,     0.40941,     0.41041,     0.41141,     0.41241,     0.41341,     0.41441,     0.41542,     0.41642,     0.41742,     0.41842,     0.41942,     0.42042,     0.42142,     0.42242,     0.42342,     0.42442,     0.42543,     0.42643,     0.42743,     0.42843,     0.42943,     0.43043,     0.43143,\n",
      "           0.43243,     0.43343,     0.43443,     0.43544,     0.43644,     0.43744,     0.43844,     0.43944,     0.44044,     0.44144,     0.44244,     0.44344,     0.44444,     0.44545,     0.44645,     0.44745,     0.44845,     0.44945,     0.45045,     0.45145,     0.45245,     0.45345,     0.45445,     0.45546,\n",
      "           0.45646,     0.45746,     0.45846,     0.45946,     0.46046,     0.46146,     0.46246,     0.46346,     0.46446,     0.46547,     0.46647,     0.46747,     0.46847,     0.46947,     0.47047,     0.47147,     0.47247,     0.47347,     0.47447,     0.47548,     0.47648,     0.47748,     0.47848,     0.47948,\n",
      "           0.48048,     0.48148,     0.48248,     0.48348,     0.48448,     0.48549,     0.48649,     0.48749,     0.48849,     0.48949,     0.49049,     0.49149,     0.49249,     0.49349,     0.49449,      0.4955,      0.4965,      0.4975,      0.4985,      0.4995,      0.5005,      0.5015,      0.5025,      0.5035,\n",
      "            0.5045,     0.50551,     0.50651,     0.50751,     0.50851,     0.50951,     0.51051,     0.51151,     0.51251,     0.51351,     0.51451,     0.51552,     0.51652,     0.51752,     0.51852,     0.51952,     0.52052,     0.52152,     0.52252,     0.52352,     0.52452,     0.52553,     0.52653,     0.52753,\n",
      "           0.52853,     0.52953,     0.53053,     0.53153,     0.53253,     0.53353,     0.53453,     0.53554,     0.53654,     0.53754,     0.53854,     0.53954,     0.54054,     0.54154,     0.54254,     0.54354,     0.54454,     0.54555,     0.54655,     0.54755,     0.54855,     0.54955,     0.55055,     0.55155,\n",
      "           0.55255,     0.55355,     0.55455,     0.55556,     0.55656,     0.55756,     0.55856,     0.55956,     0.56056,     0.56156,     0.56256,     0.56356,     0.56456,     0.56557,     0.56657,     0.56757,     0.56857,     0.56957,     0.57057,     0.57157,     0.57257,     0.57357,     0.57457,     0.57558,\n",
      "           0.57658,     0.57758,     0.57858,     0.57958,     0.58058,     0.58158,     0.58258,     0.58358,     0.58458,     0.58559,     0.58659,     0.58759,     0.58859,     0.58959,     0.59059,     0.59159,     0.59259,     0.59359,     0.59459,      0.5956,      0.5966,      0.5976,      0.5986,      0.5996,\n",
      "            0.6006,      0.6016,      0.6026,      0.6036,      0.6046,     0.60561,     0.60661,     0.60761,     0.60861,     0.60961,     0.61061,     0.61161,     0.61261,     0.61361,     0.61461,     0.61562,     0.61662,     0.61762,     0.61862,     0.61962,     0.62062,     0.62162,     0.62262,     0.62362,\n",
      "           0.62462,     0.62563,     0.62663,     0.62763,     0.62863,     0.62963,     0.63063,     0.63163,     0.63263,     0.63363,     0.63463,     0.63564,     0.63664,     0.63764,     0.63864,     0.63964,     0.64064,     0.64164,     0.64264,     0.64364,     0.64464,     0.64565,     0.64665,     0.64765,\n",
      "           0.64865,     0.64965,     0.65065,     0.65165,     0.65265,     0.65365,     0.65465,     0.65566,     0.65666,     0.65766,     0.65866,     0.65966,     0.66066,     0.66166,     0.66266,     0.66366,     0.66466,     0.66567,     0.66667,     0.66767,     0.66867,     0.66967,     0.67067,     0.67167,\n",
      "           0.67267,     0.67367,     0.67467,     0.67568,     0.67668,     0.67768,     0.67868,     0.67968,     0.68068,     0.68168,     0.68268,     0.68368,     0.68468,     0.68569,     0.68669,     0.68769,     0.68869,     0.68969,     0.69069,     0.69169,     0.69269,     0.69369,     0.69469,      0.6957,\n",
      "            0.6967,      0.6977,      0.6987,      0.6997,      0.7007,      0.7017,      0.7027,      0.7037,      0.7047,     0.70571,     0.70671,     0.70771,     0.70871,     0.70971,     0.71071,     0.71171,     0.71271,     0.71371,     0.71471,     0.71572,     0.71672,     0.71772,     0.71872,     0.71972,\n",
      "           0.72072,     0.72172,     0.72272,     0.72372,     0.72472,     0.72573,     0.72673,     0.72773,     0.72873,     0.72973,     0.73073,     0.73173,     0.73273,     0.73373,     0.73473,     0.73574,     0.73674,     0.73774,     0.73874,     0.73974,     0.74074,     0.74174,     0.74274,     0.74374,\n",
      "           0.74474,     0.74575,     0.74675,     0.74775,     0.74875,     0.74975,     0.75075,     0.75175,     0.75275,     0.75375,     0.75475,     0.75576,     0.75676,     0.75776,     0.75876,     0.75976,     0.76076,     0.76176,     0.76276,     0.76376,     0.76476,     0.76577,     0.76677,     0.76777,\n",
      "           0.76877,     0.76977,     0.77077,     0.77177,     0.77277,     0.77377,     0.77477,     0.77578,     0.77678,     0.77778,     0.77878,     0.77978,     0.78078,     0.78178,     0.78278,     0.78378,     0.78478,     0.78579,     0.78679,     0.78779,     0.78879,     0.78979,     0.79079,     0.79179,\n",
      "           0.79279,     0.79379,     0.79479,      0.7958,      0.7968,      0.7978,      0.7988,      0.7998,      0.8008,      0.8018,      0.8028,      0.8038,      0.8048,     0.80581,     0.80681,     0.80781,     0.80881,     0.80981,     0.81081,     0.81181,     0.81281,     0.81381,     0.81481,     0.81582,\n",
      "           0.81682,     0.81782,     0.81882,     0.81982,     0.82082,     0.82182,     0.82282,     0.82382,     0.82482,     0.82583,     0.82683,     0.82783,     0.82883,     0.82983,     0.83083,     0.83183,     0.83283,     0.83383,     0.83483,     0.83584,     0.83684,     0.83784,     0.83884,     0.83984,\n",
      "           0.84084,     0.84184,     0.84284,     0.84384,     0.84484,     0.84585,     0.84685,     0.84785,     0.84885,     0.84985,     0.85085,     0.85185,     0.85285,     0.85385,     0.85485,     0.85586,     0.85686,     0.85786,     0.85886,     0.85986,     0.86086,     0.86186,     0.86286,     0.86386,\n",
      "           0.86486,     0.86587,     0.86687,     0.86787,     0.86887,     0.86987,     0.87087,     0.87187,     0.87287,     0.87387,     0.87487,     0.87588,     0.87688,     0.87788,     0.87888,     0.87988,     0.88088,     0.88188,     0.88288,     0.88388,     0.88488,     0.88589,     0.88689,     0.88789,\n",
      "           0.88889,     0.88989,     0.89089,     0.89189,     0.89289,     0.89389,     0.89489,      0.8959,      0.8969,      0.8979,      0.8989,      0.8999,      0.9009,      0.9019,      0.9029,      0.9039,      0.9049,     0.90591,     0.90691,     0.90791,     0.90891,     0.90991,     0.91091,     0.91191,\n",
      "           0.91291,     0.91391,     0.91491,     0.91592,     0.91692,     0.91792,     0.91892,     0.91992,     0.92092,     0.92192,     0.92292,     0.92392,     0.92492,     0.92593,     0.92693,     0.92793,     0.92893,     0.92993,     0.93093,     0.93193,     0.93293,     0.93393,     0.93493,     0.93594,\n",
      "           0.93694,     0.93794,     0.93894,     0.93994,     0.94094,     0.94194,     0.94294,     0.94394,     0.94494,     0.94595,     0.94695,     0.94795,     0.94895,     0.94995,     0.95095,     0.95195,     0.95295,     0.95395,     0.95495,     0.95596,     0.95696,     0.95796,     0.95896,     0.95996,\n",
      "           0.96096,     0.96196,     0.96296,     0.96396,     0.96496,     0.96597,     0.96697,     0.96797,     0.96897,     0.96997,     0.97097,     0.97197,     0.97297,     0.97397,     0.97497,     0.97598,     0.97698,     0.97798,     0.97898,     0.97998,     0.98098,     0.98198,     0.98298,     0.98398,\n",
      "           0.98498,     0.98599,     0.98699,     0.98799,     0.98899,     0.98999,     0.99099,     0.99199,     0.99299,     0.99399,     0.99499,       0.996,       0.997,       0.998,       0.999,           1]), array([[    0.15684,     0.15684,     0.21003,     0.24946,     0.28797,     0.31217,     0.33139,     0.35168,     0.36754,     0.38537,     0.39746,     0.40828,     0.41723,     0.43257,     0.44101,     0.44647,     0.45716,     0.46047,     0.46869,     0.47163,     0.48016,     0.48564,     0.48865,\n",
      "            0.49157,     0.49846,     0.50291,      0.5067,     0.51268,     0.51784,     0.51708,     0.52048,     0.52256,     0.52627,     0.52733,     0.52868,     0.53408,     0.54236,     0.54476,     0.54763,     0.55157,     0.55339,      0.5567,      0.5591,     0.56245,     0.56644,     0.57147,\n",
      "            0.57415,      0.5761,     0.57933,      0.5816,     0.58236,     0.58344,     0.58702,     0.59234,     0.59473,     0.59658,     0.59769,     0.59838,     0.59902,      0.6004,     0.60546,      0.6093,     0.61031,     0.61104,     0.61297,      0.6159,     0.61774,     0.61625,     0.61538,\n",
      "            0.61706,     0.62299,      0.6244,     0.62453,     0.62313,     0.62184,     0.62248,     0.62312,      0.6248,     0.62545,      0.6261,     0.62778,     0.62834,      0.6289,     0.62959,     0.63035,     0.63537,     0.63605,     0.63679,     0.63766,     0.63629,     0.63511,     0.63554,\n",
      "            0.63597,     0.63779,     0.64102,      0.6423,     0.64333,     0.64419,     0.64471,     0.64522,     0.64632,     0.64767,     0.64831,     0.64889,     0.64932,     0.64975,     0.65017,     0.65087,     0.65178,     0.65136,     0.65062,     0.64987,     0.64913,     0.65007,     0.64796,\n",
      "             0.6492,     0.65177,     0.65213,     0.65249,     0.65284,      0.6532,      0.6536,     0.65403,     0.65446,     0.65489,     0.65633,     0.65691,     0.65724,     0.65757,      0.6579,     0.65823,     0.65944,      0.6601,     0.66035,     0.66059,     0.66083,     0.66108,     0.66132,\n",
      "            0.66156,     0.66443,     0.66532,     0.66573,     0.66615,     0.66656,       0.667,     0.66745,      0.6679,     0.66835,      0.6689,     0.66945,        0.67,     0.66845,     0.66673,     0.66784,     0.66872,     0.66938,     0.67004,     0.67106,     0.67077,       0.669,     0.66708,\n",
      "             0.6709,     0.67186,     0.67469,     0.67568,     0.67637,     0.67705,     0.67895,     0.67685,     0.67904,     0.67938,     0.67963,     0.67988,     0.68013,     0.68037,     0.68062,     0.68087,     0.68171,     0.68276,     0.68233,      0.6819,     0.68147,     0.68104,     0.68061,\n",
      "            0.68018,     0.67975,     0.67933,     0.68144,     0.68189,     0.68235,      0.6828,     0.67999,     0.68121,     0.68138,     0.68156,     0.68173,     0.68191,     0.68209,     0.68226,     0.68244,     0.68261,     0.68279,     0.68296,     0.68402,     0.68514,     0.68552,      0.6859,\n",
      "            0.68627,     0.68665,     0.68719,     0.68787,     0.68855,     0.69066,     0.69083,     0.69099,     0.69116,     0.69132,     0.69149,     0.69166,     0.69182,     0.69199,     0.69215,     0.69232,     0.69248,     0.69299,      0.6936,      0.6942,     0.69641,     0.69663,     0.69684,\n",
      "            0.69705,     0.69727,     0.69748,     0.69769,      0.6979,     0.69812,     0.69838,      0.7006,     0.70127,     0.70193,     0.70231,     0.70242,     0.70254,     0.70266,     0.70277,     0.70289,     0.70301,     0.70312,     0.70324,     0.70335,     0.70347,     0.70358,      0.7037,\n",
      "            0.70382,     0.70393,     0.70405,     0.70416,       0.706,     0.70658,     0.70696,     0.70734,     0.70772,      0.7081,     0.71046,     0.71147,     0.71468,     0.71681,     0.71764,     0.71879,     0.72072,     0.72118,     0.72164,      0.7221,     0.72256,     0.72286,     0.72316,\n",
      "            0.72346,     0.72376,     0.72406,     0.72436,     0.72467,     0.72519,      0.7257,     0.72621,     0.72672,     0.72849,     0.72953,     0.73038,     0.73122,     0.73206,      0.7329,      0.7334,     0.73375,     0.73411,     0.73447,     0.73483,     0.73519,     0.73577,     0.73645,\n",
      "            0.73713,     0.73754,     0.73769,     0.73784,     0.73799,     0.73814,     0.73829,     0.73844,     0.73859,     0.73874,     0.73889,     0.73904,     0.73918,     0.73933,     0.73948,     0.73963,     0.73983,     0.74004,     0.74025,     0.74045,     0.74066,     0.74087,     0.74107,\n",
      "            0.74128,     0.74148,     0.74169,     0.74204,     0.74279,     0.74353,     0.74425,     0.74493,      0.7456,     0.74628,     0.74746,     0.74853,     0.74879,     0.74905,     0.74931,     0.74957,     0.74983,     0.75009,     0.75035,     0.75061,     0.75084,     0.75102,      0.7512,\n",
      "            0.75138,     0.75156,     0.75174,     0.75193,     0.75211,     0.75229,     0.75247,     0.75265,     0.75283,     0.75302,     0.75353,     0.75403,     0.75453,     0.75504,     0.75543,      0.7557,     0.75598,     0.75626,     0.75654,     0.75682,     0.75709,     0.75737,     0.75761,\n",
      "            0.75773,     0.75785,     0.75797,     0.75809,     0.75821,     0.75833,     0.75845,     0.75857,     0.75869,     0.75881,     0.75894,     0.75906,     0.75918,      0.7593,     0.75942,     0.75954,     0.75966,     0.75978,     0.75991,      0.7601,     0.76028,     0.76047,     0.76066,\n",
      "            0.76084,     0.76103,     0.76121,      0.7614,     0.76159,     0.76177,     0.76196,     0.76214,     0.76191,     0.76152,     0.76112,     0.76073,     0.76034,     0.75994,     0.75955,     0.75916,     0.75876,     0.75835,     0.75778,     0.75721,     0.75664,     0.75608,     0.75551,\n",
      "            0.75494,     0.75494,     0.75577,      0.7566,     0.75719,     0.75762,     0.75806,      0.7585,     0.75893,     0.75956,     0.76077,     0.76139,     0.76068,     0.75997,     0.75925,     0.75854,     0.75782,     0.75938,     0.76085,     0.76212,     0.76476,     0.76443,      0.7641,\n",
      "            0.76377,     0.76344,     0.76311,     0.76279,     0.76246,     0.76213,      0.7618,     0.76147,     0.76114,     0.75918,     0.75716,     0.75735,     0.75755,     0.75775,     0.75794,     0.75814,     0.75833,     0.75853,     0.75872,     0.75892,     0.75912,     0.75931,      0.7596,\n",
      "            0.76145,     0.76241,     0.76308,     0.76375,     0.76401,     0.76163,     0.76057,     0.76095,     0.76134,     0.76172,      0.7621,     0.76249,     0.76243,     0.75924,     0.75592,     0.75688,     0.75627,     0.75565,     0.75504,     0.75442,     0.75381,     0.75342,     0.75541,\n",
      "            0.75402,     0.75369,     0.75337,     0.75305,     0.75273,     0.75241,     0.75209,     0.75176,     0.75144,     0.75112,      0.7508,     0.75047,     0.75015,     0.74704,     0.74264,     0.74183,     0.74197,      0.7421,     0.74224,     0.74238,     0.74252,     0.74265,     0.74279,\n",
      "            0.74293,     0.74307,      0.7432,     0.74334,     0.74348,     0.74361,     0.74375,     0.74389,     0.74402,     0.74416,       0.744,     0.74376,     0.74353,      0.7433,     0.74307,     0.74283,      0.7426,     0.74237,     0.74214,     0.74191,     0.74167,     0.74144,     0.74121,\n",
      "            0.74097,     0.74074,     0.74051,     0.74028,     0.74004,     0.73916,     0.73813,     0.73709,     0.73606,     0.73535,     0.73475,     0.73415,     0.73355,     0.73295,     0.73234,     0.73174,     0.73302,     0.73433,     0.73491,     0.73548,     0.73606,     0.73238,     0.73339,\n",
      "            0.73438,     0.73401,     0.73302,     0.73202,     0.73102,     0.73048,     0.73077,     0.73106,     0.73135,     0.73164,     0.73193,     0.73221,      0.7325,     0.73279,      0.7332,     0.73366,     0.73412,     0.73458,     0.73504,     0.73563,     0.73662,     0.73762,     0.73712,\n",
      "            0.73592,     0.73472,     0.73297,     0.72977,     0.73054,     0.73132,     0.73354,     0.72943,     0.72883,     0.72823,     0.72764,     0.72704,     0.72644,     0.72584,     0.72526,     0.72481,     0.72435,     0.72389,     0.72343,     0.72298,     0.72252,     0.72206,      0.7216,\n",
      "            0.72114,     0.72159,     0.72347,     0.72411,     0.72476,      0.7254,     0.72585,     0.72448,      0.7231,     0.72173,     0.72196,     0.72263,      0.7233,     0.72396,     0.72317,     0.72226,     0.72135,     0.72044,     0.71952,     0.71896,     0.71844,     0.71792,      0.7174,\n",
      "            0.71689,     0.71637,     0.71585,     0.71532,      0.7148,     0.71685,     0.71627,     0.71569,      0.7151,     0.71452,     0.71393,     0.71335,     0.71276,     0.71229,     0.71182,     0.71136,      0.7109,     0.71043,     0.70996,      0.7095,     0.70903,     0.70857,      0.7081,\n",
      "            0.70599,     0.70359,     0.70359,     0.70392,     0.70426,     0.70459,     0.70492,     0.70525,     0.70559,      0.7052,     0.70005,     0.69733,     0.69418,     0.69181,     0.69362,      0.6944,     0.69488,     0.69536,     0.69584,     0.69632,     0.69611,     0.69466,     0.69321,\n",
      "            0.69176,     0.69045,     0.68914,     0.68784,     0.68625,     0.68356,     0.68206,     0.68274,     0.68341,     0.68409,      0.6839,     0.68291,     0.68193,     0.68094,     0.67995,     0.67994,     0.68123,     0.68234,     0.68319,     0.68404,     0.68231,     0.68081,      0.6747,\n",
      "            0.66822,     0.66578,     0.66464,      0.6635,     0.66236,     0.66115,     0.65958,       0.658,     0.65643,     0.65114,     0.64453,     0.64317,     0.64181,     0.64045,     0.63815,     0.63539,     0.63287,     0.63046,     0.62829,     0.62648,     0.62467,     0.62297,     0.62148,\n",
      "            0.61999,     0.61849,     0.61507,     0.61036,     0.60609,     0.60356,     0.60103,     0.60228,     0.60194,     0.59801,     0.59994,     0.59714,     0.59421,     0.58118,     0.57885,     0.57652,     0.56517,     0.56135,     0.55846,     0.55603,      0.5537,     0.55076,     0.54508,\n",
      "            0.54257,     0.54005,     0.53144,     0.51753,     0.51283,     0.50832,     0.50425,     0.50044,     0.49173,     0.48979,     0.48785,     0.48296,      0.4744,      0.4607,     0.44314,     0.44041,     0.43766,     0.42637,     0.41378,     0.41102,     0.40825,     0.39903,     0.38833,\n",
      "            0.38087,      0.3748,     0.37217,     0.36952,     0.36369,     0.34389,     0.33803,     0.32969,     0.32623,     0.32276,     0.30401,     0.29985,      0.2867,     0.27833,     0.27116,      0.2687,     0.26774,     0.26678,     0.26581,     0.26485,     0.26388,     0.26292,     0.26195,\n",
      "            0.26098,     0.25676,     0.24174,     0.23814,     0.23453,     0.23091,     0.22729,     0.22365,      0.2073,     0.19193,     0.17191,     0.15458,     0.14994,     0.14526,     0.13332,     0.13169,     0.13006,     0.12843,     0.12679,     0.12515,     0.12316,      0.1153,     0.11187,\n",
      "            0.11028,     0.10868,     0.10709,     0.10549,     0.10389,     0.10228,     0.09252,    0.079998,     0.07426,    0.068929,    0.066049,     0.06316,    0.060263,    0.056884,    0.052203,      0.0475,    0.035222,    0.033462,    0.031699,    0.029933,    0.028163,    0.026391,    0.024615,\n",
      "           0.022811,    0.020976,    0.019138,    0.017296,    0.015451,    0.013602,           0,           0,           0,           0,           0,           0,           0,           0,           0,           0,           0,           0,           0,           0,           0,           0,           0,\n",
      "                  0,           0,           0,           0,           0,           0,           0,           0,           0,           0,           0,           0,           0,           0,           0,           0,           0,           0,           0,           0,           0,           0,           0,\n",
      "                  0,           0,           0,           0,           0,           0,           0,           0,           0,           0,           0,           0,           0,           0,           0,           0,           0,           0,           0,           0,           0,           0,           0,\n",
      "                  0,           0,           0,           0,           0,           0,           0,           0,           0,           0,           0,           0,           0,           0,           0,           0,           0,           0,           0,           0,           0,           0,           0,\n",
      "                  0,           0,           0,           0,           0,           0,           0,           0,           0,           0,           0,           0,           0,           0,           0,           0,           0,           0,           0,           0,           0,           0,           0,\n",
      "                  0,           0,           0,           0,           0,           0,           0,           0,           0,           0,           0,           0,           0,           0,           0,           0,           0,           0,           0,           0,           0,           0,           0,\n",
      "                  0,           0,           0,           0,           0,           0,           0,           0,           0,           0,           0,           0,           0,           0,           0,           0,           0,           0,           0,           0,           0,           0,           0,\n",
      "                  0,           0,           0,           0,           0,           0,           0,           0,           0,           0,           0]]), 'Confidence', 'F1'], [array([          0,    0.001001,    0.002002,    0.003003,    0.004004,    0.005005,    0.006006,    0.007007,    0.008008,    0.009009,     0.01001,    0.011011,    0.012012,    0.013013,    0.014014,    0.015015,    0.016016,    0.017017,    0.018018,    0.019019,     0.02002,    0.021021,    0.022022,    0.023023,\n",
      "          0.024024,    0.025025,    0.026026,    0.027027,    0.028028,    0.029029,     0.03003,    0.031031,    0.032032,    0.033033,    0.034034,    0.035035,    0.036036,    0.037037,    0.038038,    0.039039,     0.04004,    0.041041,    0.042042,    0.043043,    0.044044,    0.045045,    0.046046,    0.047047,\n",
      "          0.048048,    0.049049,     0.05005,    0.051051,    0.052052,    0.053053,    0.054054,    0.055055,    0.056056,    0.057057,    0.058058,    0.059059,     0.06006,    0.061061,    0.062062,    0.063063,    0.064064,    0.065065,    0.066066,    0.067067,    0.068068,    0.069069,     0.07007,    0.071071,\n",
      "          0.072072,    0.073073,    0.074074,    0.075075,    0.076076,    0.077077,    0.078078,    0.079079,     0.08008,    0.081081,    0.082082,    0.083083,    0.084084,    0.085085,    0.086086,    0.087087,    0.088088,    0.089089,     0.09009,    0.091091,    0.092092,    0.093093,    0.094094,    0.095095,\n",
      "          0.096096,    0.097097,    0.098098,    0.099099,      0.1001,      0.1011,      0.1021,      0.1031,      0.1041,     0.10511,     0.10611,     0.10711,     0.10811,     0.10911,     0.11011,     0.11111,     0.11211,     0.11311,     0.11411,     0.11512,     0.11612,     0.11712,     0.11812,     0.11912,\n",
      "           0.12012,     0.12112,     0.12212,     0.12312,     0.12412,     0.12513,     0.12613,     0.12713,     0.12813,     0.12913,     0.13013,     0.13113,     0.13213,     0.13313,     0.13413,     0.13514,     0.13614,     0.13714,     0.13814,     0.13914,     0.14014,     0.14114,     0.14214,     0.14314,\n",
      "           0.14414,     0.14515,     0.14615,     0.14715,     0.14815,     0.14915,     0.15015,     0.15115,     0.15215,     0.15315,     0.15415,     0.15516,     0.15616,     0.15716,     0.15816,     0.15916,     0.16016,     0.16116,     0.16216,     0.16316,     0.16416,     0.16517,     0.16617,     0.16717,\n",
      "           0.16817,     0.16917,     0.17017,     0.17117,     0.17217,     0.17317,     0.17417,     0.17518,     0.17618,     0.17718,     0.17818,     0.17918,     0.18018,     0.18118,     0.18218,     0.18318,     0.18418,     0.18519,     0.18619,     0.18719,     0.18819,     0.18919,     0.19019,     0.19119,\n",
      "           0.19219,     0.19319,     0.19419,      0.1952,      0.1962,      0.1972,      0.1982,      0.1992,      0.2002,      0.2012,      0.2022,      0.2032,      0.2042,     0.20521,     0.20621,     0.20721,     0.20821,     0.20921,     0.21021,     0.21121,     0.21221,     0.21321,     0.21421,     0.21522,\n",
      "           0.21622,     0.21722,     0.21822,     0.21922,     0.22022,     0.22122,     0.22222,     0.22322,     0.22422,     0.22523,     0.22623,     0.22723,     0.22823,     0.22923,     0.23023,     0.23123,     0.23223,     0.23323,     0.23423,     0.23524,     0.23624,     0.23724,     0.23824,     0.23924,\n",
      "           0.24024,     0.24124,     0.24224,     0.24324,     0.24424,     0.24525,     0.24625,     0.24725,     0.24825,     0.24925,     0.25025,     0.25125,     0.25225,     0.25325,     0.25425,     0.25526,     0.25626,     0.25726,     0.25826,     0.25926,     0.26026,     0.26126,     0.26226,     0.26326,\n",
      "           0.26426,     0.26527,     0.26627,     0.26727,     0.26827,     0.26927,     0.27027,     0.27127,     0.27227,     0.27327,     0.27427,     0.27528,     0.27628,     0.27728,     0.27828,     0.27928,     0.28028,     0.28128,     0.28228,     0.28328,     0.28428,     0.28529,     0.28629,     0.28729,\n",
      "           0.28829,     0.28929,     0.29029,     0.29129,     0.29229,     0.29329,     0.29429,      0.2953,      0.2963,      0.2973,      0.2983,      0.2993,      0.3003,      0.3013,      0.3023,      0.3033,      0.3043,     0.30531,     0.30631,     0.30731,     0.30831,     0.30931,     0.31031,     0.31131,\n",
      "           0.31231,     0.31331,     0.31431,     0.31532,     0.31632,     0.31732,     0.31832,     0.31932,     0.32032,     0.32132,     0.32232,     0.32332,     0.32432,     0.32533,     0.32633,     0.32733,     0.32833,     0.32933,     0.33033,     0.33133,     0.33233,     0.33333,     0.33433,     0.33534,\n",
      "           0.33634,     0.33734,     0.33834,     0.33934,     0.34034,     0.34134,     0.34234,     0.34334,     0.34434,     0.34535,     0.34635,     0.34735,     0.34835,     0.34935,     0.35035,     0.35135,     0.35235,     0.35335,     0.35435,     0.35536,     0.35636,     0.35736,     0.35836,     0.35936,\n",
      "           0.36036,     0.36136,     0.36236,     0.36336,     0.36436,     0.36537,     0.36637,     0.36737,     0.36837,     0.36937,     0.37037,     0.37137,     0.37237,     0.37337,     0.37437,     0.37538,     0.37638,     0.37738,     0.37838,     0.37938,     0.38038,     0.38138,     0.38238,     0.38338,\n",
      "           0.38438,     0.38539,     0.38639,     0.38739,     0.38839,     0.38939,     0.39039,     0.39139,     0.39239,     0.39339,     0.39439,      0.3954,      0.3964,      0.3974,      0.3984,      0.3994,      0.4004,      0.4014,      0.4024,      0.4034,      0.4044,     0.40541,     0.40641,     0.40741,\n",
      "           0.40841,     0.40941,     0.41041,     0.41141,     0.41241,     0.41341,     0.41441,     0.41542,     0.41642,     0.41742,     0.41842,     0.41942,     0.42042,     0.42142,     0.42242,     0.42342,     0.42442,     0.42543,     0.42643,     0.42743,     0.42843,     0.42943,     0.43043,     0.43143,\n",
      "           0.43243,     0.43343,     0.43443,     0.43544,     0.43644,     0.43744,     0.43844,     0.43944,     0.44044,     0.44144,     0.44244,     0.44344,     0.44444,     0.44545,     0.44645,     0.44745,     0.44845,     0.44945,     0.45045,     0.45145,     0.45245,     0.45345,     0.45445,     0.45546,\n",
      "           0.45646,     0.45746,     0.45846,     0.45946,     0.46046,     0.46146,     0.46246,     0.46346,     0.46446,     0.46547,     0.46647,     0.46747,     0.46847,     0.46947,     0.47047,     0.47147,     0.47247,     0.47347,     0.47447,     0.47548,     0.47648,     0.47748,     0.47848,     0.47948,\n",
      "           0.48048,     0.48148,     0.48248,     0.48348,     0.48448,     0.48549,     0.48649,     0.48749,     0.48849,     0.48949,     0.49049,     0.49149,     0.49249,     0.49349,     0.49449,      0.4955,      0.4965,      0.4975,      0.4985,      0.4995,      0.5005,      0.5015,      0.5025,      0.5035,\n",
      "            0.5045,     0.50551,     0.50651,     0.50751,     0.50851,     0.50951,     0.51051,     0.51151,     0.51251,     0.51351,     0.51451,     0.51552,     0.51652,     0.51752,     0.51852,     0.51952,     0.52052,     0.52152,     0.52252,     0.52352,     0.52452,     0.52553,     0.52653,     0.52753,\n",
      "           0.52853,     0.52953,     0.53053,     0.53153,     0.53253,     0.53353,     0.53453,     0.53554,     0.53654,     0.53754,     0.53854,     0.53954,     0.54054,     0.54154,     0.54254,     0.54354,     0.54454,     0.54555,     0.54655,     0.54755,     0.54855,     0.54955,     0.55055,     0.55155,\n",
      "           0.55255,     0.55355,     0.55455,     0.55556,     0.55656,     0.55756,     0.55856,     0.55956,     0.56056,     0.56156,     0.56256,     0.56356,     0.56456,     0.56557,     0.56657,     0.56757,     0.56857,     0.56957,     0.57057,     0.57157,     0.57257,     0.57357,     0.57457,     0.57558,\n",
      "           0.57658,     0.57758,     0.57858,     0.57958,     0.58058,     0.58158,     0.58258,     0.58358,     0.58458,     0.58559,     0.58659,     0.58759,     0.58859,     0.58959,     0.59059,     0.59159,     0.59259,     0.59359,     0.59459,      0.5956,      0.5966,      0.5976,      0.5986,      0.5996,\n",
      "            0.6006,      0.6016,      0.6026,      0.6036,      0.6046,     0.60561,     0.60661,     0.60761,     0.60861,     0.60961,     0.61061,     0.61161,     0.61261,     0.61361,     0.61461,     0.61562,     0.61662,     0.61762,     0.61862,     0.61962,     0.62062,     0.62162,     0.62262,     0.62362,\n",
      "           0.62462,     0.62563,     0.62663,     0.62763,     0.62863,     0.62963,     0.63063,     0.63163,     0.63263,     0.63363,     0.63463,     0.63564,     0.63664,     0.63764,     0.63864,     0.63964,     0.64064,     0.64164,     0.64264,     0.64364,     0.64464,     0.64565,     0.64665,     0.64765,\n",
      "           0.64865,     0.64965,     0.65065,     0.65165,     0.65265,     0.65365,     0.65465,     0.65566,     0.65666,     0.65766,     0.65866,     0.65966,     0.66066,     0.66166,     0.66266,     0.66366,     0.66466,     0.66567,     0.66667,     0.66767,     0.66867,     0.66967,     0.67067,     0.67167,\n",
      "           0.67267,     0.67367,     0.67467,     0.67568,     0.67668,     0.67768,     0.67868,     0.67968,     0.68068,     0.68168,     0.68268,     0.68368,     0.68468,     0.68569,     0.68669,     0.68769,     0.68869,     0.68969,     0.69069,     0.69169,     0.69269,     0.69369,     0.69469,      0.6957,\n",
      "            0.6967,      0.6977,      0.6987,      0.6997,      0.7007,      0.7017,      0.7027,      0.7037,      0.7047,     0.70571,     0.70671,     0.70771,     0.70871,     0.70971,     0.71071,     0.71171,     0.71271,     0.71371,     0.71471,     0.71572,     0.71672,     0.71772,     0.71872,     0.71972,\n",
      "           0.72072,     0.72172,     0.72272,     0.72372,     0.72472,     0.72573,     0.72673,     0.72773,     0.72873,     0.72973,     0.73073,     0.73173,     0.73273,     0.73373,     0.73473,     0.73574,     0.73674,     0.73774,     0.73874,     0.73974,     0.74074,     0.74174,     0.74274,     0.74374,\n",
      "           0.74474,     0.74575,     0.74675,     0.74775,     0.74875,     0.74975,     0.75075,     0.75175,     0.75275,     0.75375,     0.75475,     0.75576,     0.75676,     0.75776,     0.75876,     0.75976,     0.76076,     0.76176,     0.76276,     0.76376,     0.76476,     0.76577,     0.76677,     0.76777,\n",
      "           0.76877,     0.76977,     0.77077,     0.77177,     0.77277,     0.77377,     0.77477,     0.77578,     0.77678,     0.77778,     0.77878,     0.77978,     0.78078,     0.78178,     0.78278,     0.78378,     0.78478,     0.78579,     0.78679,     0.78779,     0.78879,     0.78979,     0.79079,     0.79179,\n",
      "           0.79279,     0.79379,     0.79479,      0.7958,      0.7968,      0.7978,      0.7988,      0.7998,      0.8008,      0.8018,      0.8028,      0.8038,      0.8048,     0.80581,     0.80681,     0.80781,     0.80881,     0.80981,     0.81081,     0.81181,     0.81281,     0.81381,     0.81481,     0.81582,\n",
      "           0.81682,     0.81782,     0.81882,     0.81982,     0.82082,     0.82182,     0.82282,     0.82382,     0.82482,     0.82583,     0.82683,     0.82783,     0.82883,     0.82983,     0.83083,     0.83183,     0.83283,     0.83383,     0.83483,     0.83584,     0.83684,     0.83784,     0.83884,     0.83984,\n",
      "           0.84084,     0.84184,     0.84284,     0.84384,     0.84484,     0.84585,     0.84685,     0.84785,     0.84885,     0.84985,     0.85085,     0.85185,     0.85285,     0.85385,     0.85485,     0.85586,     0.85686,     0.85786,     0.85886,     0.85986,     0.86086,     0.86186,     0.86286,     0.86386,\n",
      "           0.86486,     0.86587,     0.86687,     0.86787,     0.86887,     0.86987,     0.87087,     0.87187,     0.87287,     0.87387,     0.87487,     0.87588,     0.87688,     0.87788,     0.87888,     0.87988,     0.88088,     0.88188,     0.88288,     0.88388,     0.88488,     0.88589,     0.88689,     0.88789,\n",
      "           0.88889,     0.88989,     0.89089,     0.89189,     0.89289,     0.89389,     0.89489,      0.8959,      0.8969,      0.8979,      0.8989,      0.8999,      0.9009,      0.9019,      0.9029,      0.9039,      0.9049,     0.90591,     0.90691,     0.90791,     0.90891,     0.90991,     0.91091,     0.91191,\n",
      "           0.91291,     0.91391,     0.91491,     0.91592,     0.91692,     0.91792,     0.91892,     0.91992,     0.92092,     0.92192,     0.92292,     0.92392,     0.92492,     0.92593,     0.92693,     0.92793,     0.92893,     0.92993,     0.93093,     0.93193,     0.93293,     0.93393,     0.93493,     0.93594,\n",
      "           0.93694,     0.93794,     0.93894,     0.93994,     0.94094,     0.94194,     0.94294,     0.94394,     0.94494,     0.94595,     0.94695,     0.94795,     0.94895,     0.94995,     0.95095,     0.95195,     0.95295,     0.95395,     0.95495,     0.95596,     0.95696,     0.95796,     0.95896,     0.95996,\n",
      "           0.96096,     0.96196,     0.96296,     0.96396,     0.96496,     0.96597,     0.96697,     0.96797,     0.96897,     0.96997,     0.97097,     0.97197,     0.97297,     0.97397,     0.97497,     0.97598,     0.97698,     0.97798,     0.97898,     0.97998,     0.98098,     0.98198,     0.98298,     0.98398,\n",
      "           0.98498,     0.98599,     0.98699,     0.98799,     0.98899,     0.98999,     0.99099,     0.99199,     0.99299,     0.99399,     0.99499,       0.996,       0.997,       0.998,       0.999,           1]), array([[   0.085762,    0.085762,     0.11924,     0.14532,     0.17237,     0.19029,     0.20545,     0.22168,     0.23444,     0.24915,     0.25991,     0.26985,     0.27773,     0.29149,     0.29921,     0.30426,     0.31427,     0.31741,     0.32527,     0.32811,      0.3374,     0.34283,     0.34584,\n",
      "            0.34896,     0.35687,     0.36144,     0.36537,     0.37162,     0.37707,     0.37751,     0.38115,     0.38339,     0.38739,     0.38854,     0.39001,     0.39592,     0.40509,     0.40777,     0.41099,     0.41545,     0.41751,      0.4213,     0.42406,     0.42957,     0.43424,     0.44018,\n",
      "            0.44336,     0.44569,     0.44958,     0.45231,     0.45324,     0.45455,     0.45891,     0.46544,      0.4684,      0.4707,     0.47208,     0.47294,     0.47374,     0.47548,     0.48185,     0.48674,     0.48802,     0.48896,     0.49144,     0.49521,     0.49791,     0.49703,     0.49678,\n",
      "            0.49896,     0.50677,     0.50864,     0.50916,     0.50834,     0.50762,     0.50847,     0.50932,     0.51157,     0.51244,     0.51331,     0.51559,     0.51634,      0.5171,     0.51803,     0.51906,     0.52589,     0.52684,     0.52784,     0.52905,      0.5286,     0.52814,     0.52874,\n",
      "            0.52934,     0.53187,     0.53638,     0.53816,     0.53961,     0.54082,     0.54155,     0.54228,     0.54383,     0.54575,     0.54665,     0.54748,     0.54809,      0.5487,     0.54931,      0.5503,     0.55161,     0.55153,     0.55111,     0.55069,     0.55027,     0.55204,     0.55194,\n",
      "            0.55373,     0.55749,     0.55802,     0.55854,     0.55906,     0.55959,     0.56017,      0.5608,     0.56144,     0.56207,      0.5642,     0.56506,     0.56555,     0.56603,     0.56652,     0.56701,      0.5688,      0.5698,     0.57016,     0.57052,     0.57088,     0.57125,     0.57161,\n",
      "            0.57197,     0.57627,     0.57761,     0.57824,     0.57886,     0.57949,     0.58016,     0.58084,     0.58152,      0.5822,     0.58303,     0.58387,     0.58471,     0.58393,     0.58306,     0.58475,      0.5861,     0.58712,     0.58814,     0.58971,     0.59033,     0.58999,     0.59009,\n",
      "            0.59652,     0.59805,     0.60254,     0.60412,     0.60522,     0.60632,     0.60947,     0.60979,     0.61335,     0.61391,     0.61432,     0.61472,     0.61513,     0.61554,     0.61594,     0.61635,     0.61772,     0.61949,     0.61927,     0.61904,     0.61882,     0.61859,     0.61837,\n",
      "            0.61814,     0.61791,     0.61769,     0.62128,     0.62204,      0.6228,     0.62355,     0.62296,     0.62501,     0.62531,      0.6256,      0.6259,      0.6262,     0.62649,     0.62679,     0.62709,     0.62739,     0.62768,     0.62798,     0.62976,     0.63167,     0.63231,     0.63295,\n",
      "            0.63359,     0.63423,     0.63516,     0.63633,     0.63749,     0.64112,      0.6414,     0.64169,     0.64197,     0.64226,     0.64255,     0.64283,     0.64312,      0.6434,     0.64369,     0.64398,     0.64426,     0.64514,     0.64619,     0.64725,      0.6511,     0.65147,     0.65185,\n",
      "            0.65222,     0.65259,     0.65297,     0.65334,     0.65371,     0.65408,     0.65455,     0.65846,     0.65964,     0.66082,     0.66148,     0.66169,      0.6619,      0.6621,     0.66231,     0.66252,     0.66272,     0.66293,     0.66313,     0.66334,     0.66355,     0.66375,     0.66396,\n",
      "            0.66416,     0.66437,     0.66458,     0.66478,     0.66807,      0.6691,     0.66978,     0.67047,     0.67115,     0.67184,     0.67609,     0.67793,     0.68379,     0.68769,     0.68923,     0.69135,     0.69492,     0.69578,     0.69664,      0.6975,     0.69835,     0.69891,     0.69947,\n",
      "            0.70004,      0.7006,     0.70116,     0.70172,     0.70231,     0.70328,     0.70424,     0.70521,     0.70617,     0.70952,      0.7115,     0.71311,     0.71471,     0.71632,     0.71793,     0.71889,     0.71958,     0.72027,     0.72096,     0.72165,     0.72234,     0.72347,     0.72478,\n",
      "            0.72609,     0.72689,     0.72718,     0.72747,     0.72777,     0.72806,     0.72835,     0.72864,     0.72893,     0.72922,     0.72951,      0.7298,      0.7301,     0.73039,     0.73068,     0.73097,     0.73136,     0.73177,     0.73217,     0.73258,     0.73298,     0.73338,     0.73379,\n",
      "            0.73419,      0.7346,       0.735,     0.73569,     0.73716,     0.73862,     0.74005,     0.74139,     0.74272,     0.74407,     0.74642,     0.74856,     0.74908,      0.7496,     0.75013,     0.75065,     0.75117,     0.75169,     0.75221,     0.75273,     0.75318,     0.75355,     0.75392,\n",
      "            0.75428,     0.75465,     0.75502,     0.75538,     0.75575,     0.75612,     0.75648,     0.75685,     0.75722,     0.75759,     0.75862,     0.75964,     0.76066,     0.76168,     0.76248,     0.76305,     0.76361,     0.76418,     0.76475,     0.76532,     0.76588,     0.76645,     0.76694,\n",
      "            0.76718,     0.76743,     0.76768,     0.76793,     0.76818,     0.76842,     0.76867,     0.76892,     0.76917,     0.76941,     0.76966,     0.76991,     0.77016,     0.77041,     0.77065,      0.7709,     0.77115,      0.7714,     0.77167,     0.77205,     0.77244,     0.77282,     0.77321,\n",
      "            0.77359,     0.77398,     0.77437,     0.77475,     0.77514,     0.77552,     0.77591,     0.77629,     0.77629,     0.77615,       0.776,     0.77586,     0.77571,     0.77557,     0.77542,     0.77528,     0.77513,     0.77498,     0.77477,     0.77455,     0.77434,     0.77413,     0.77392,\n",
      "            0.77371,     0.77431,     0.77605,     0.77779,     0.77904,     0.77997,     0.78089,     0.78182,     0.78274,     0.78408,     0.78667,     0.78838,     0.78813,     0.78788,     0.78762,     0.78737,     0.78712,     0.79058,     0.79379,     0.79656,     0.80259,     0.80248,     0.80237,\n",
      "            0.80226,     0.80214,     0.80203,     0.80192,     0.80181,      0.8017,     0.80159,     0.80148,     0.80137,     0.80071,     0.80013,     0.80057,     0.80101,     0.80145,     0.80189,     0.80233,     0.80276,      0.8032,     0.80364,     0.80408,     0.80452,     0.80496,     0.80562,\n",
      "            0.80978,     0.81196,     0.81348,     0.81501,     0.81622,     0.81547,     0.81549,     0.81637,     0.81726,     0.81814,     0.81903,     0.81991,     0.82057,     0.81957,     0.81852,     0.82382,     0.82363,     0.82344,     0.82325,     0.82306,     0.82287,     0.82311,     0.82788,\n",
      "            0.83331,     0.83321,     0.83312,     0.83302,     0.83293,     0.83283,     0.83274,     0.83264,     0.83254,     0.83245,     0.83235,     0.83226,     0.83216,     0.83123,      0.8299,      0.8299,     0.83024,     0.83059,     0.83093,     0.83128,     0.83162,     0.83197,     0.83231,\n",
      "            0.83266,       0.833,     0.83335,     0.83369,     0.83403,     0.83438,     0.83472,     0.83507,     0.83541,     0.83576,     0.83576,      0.8357,     0.83563,     0.83556,     0.83549,     0.83542,     0.83535,     0.83528,     0.83522,     0.83515,     0.83508,     0.83501,     0.83494,\n",
      "            0.83487,      0.8348,     0.83474,     0.83467,      0.8346,     0.83434,     0.83403,     0.83372,     0.83341,      0.8332,     0.83302,     0.83284,     0.83266,     0.83248,      0.8323,     0.83212,      0.8359,      0.8393,     0.84081,     0.84233,     0.84384,     0.84423,      0.8469,\n",
      "            0.84956,     0.85021,     0.84993,     0.84966,     0.84938,     0.84948,     0.85027,     0.85105,     0.85184,     0.85262,     0.85341,      0.8542,     0.85498,     0.85577,     0.85689,     0.85815,     0.85941,     0.86067,     0.86193,     0.86354,     0.86629,     0.86904,     0.86972,\n",
      "            0.86943,     0.86913,     0.86871,     0.86949,     0.87168,     0.87388,     0.88219,     0.88127,     0.88113,     0.88099,     0.88086,     0.88072,     0.88059,     0.88045,     0.88032,     0.88022,     0.88011,     0.88001,      0.8799,      0.8798,     0.87969,     0.87959,     0.87948,\n",
      "            0.87938,     0.88152,     0.88714,     0.88909,     0.89103,     0.89298,     0.89471,     0.89443,     0.89415,     0.89387,     0.89542,     0.89749,     0.89956,     0.90163,     0.90162,     0.90145,     0.90127,      0.9011,     0.90092,     0.90081,     0.90071,     0.90061,     0.90051,\n",
      "            0.90041,      0.9003,      0.9002,      0.9001,         0.9,     0.90816,     0.90805,     0.90795,     0.90784,     0.90773,     0.90763,     0.90752,     0.90741,     0.90733,     0.90724,     0.90715,     0.90707,     0.90698,      0.9069,     0.90681,     0.90673,     0.90664,     0.90656,\n",
      "            0.90616,     0.90571,     0.90664,     0.90775,     0.90885,     0.90996,     0.91107,     0.91218,     0.91329,     0.91417,     0.91328,      0.9128,     0.91225,     0.91302,     0.91935,      0.9221,     0.92381,     0.92551,     0.92721,     0.92891,     0.92992,     0.92972,     0.92951,\n",
      "             0.9293,     0.92911,     0.92891,     0.92872,     0.92849,     0.92809,     0.92872,     0.93125,     0.93377,      0.9363,     0.93743,      0.9373,     0.93717,     0.93704,     0.93692,     0.93895,     0.94386,     0.94813,     0.95144,     0.95476,     0.95678,     0.96694,      0.9665,\n",
      "            0.96602,     0.96584,     0.96576,     0.96567,     0.96559,      0.9655,     0.96538,     0.96526,     0.96514,     0.96473,     0.96422,     0.96411,       0.964,     0.96389,     0.96371,     0.96348,     0.96328,     0.96308,      0.9629,     0.96275,      0.9626,     0.96246,     0.96233,\n",
      "             0.9622,     0.96208,     0.96178,     0.96137,       0.961,     0.96077,     0.96055,     0.96802,     0.97325,       0.973,     0.98599,     0.98621,     0.98611,     0.98568,      0.9856,     0.98552,     0.98511,     0.98497,     0.98487,     0.98478,     0.98469,     0.98458,     0.98436,\n",
      "            0.98426,     0.98416,     0.98382,     0.98323,     0.98303,     0.98283,     0.98265,     0.98248,     0.98207,     0.98198,     0.98188,     0.98164,     0.98122,      0.9805,     0.97951,     0.97935,     0.97919,      0.9785,     0.97769,      0.9775,     0.97732,     0.97667,     0.97589,\n",
      "            0.97532,     0.97484,     0.97462,     0.97441,     0.97391,     0.97213,     0.97156,           1,           1,           1,           1,           1,           1,           1,           1,           1,           1,           1,           1,           1,           1,           1,           1,\n",
      "                  1,           1,           1,           1,           1,           1,           1,           1,           1,           1,           1,           1,           1,           1,           1,           1,           1,           1,           1,           1,           1,           1,           1,\n",
      "                  1,           1,           1,           1,           1,           1,           1,           1,           1,           1,           1,           1,           1,           1,           1,           1,           1,           1,           1,           1,           1,           1,           1,\n",
      "                  1,           1,           1,           1,           1,           1,           1,           1,           1,           1,           1,           1,           1,           1,           1,           1,           1,           1,           1,           1,           1,           1,           1,\n",
      "                  1,           1,           1,           1,           1,           1,           1,           1,           1,           1,           1,           1,           1,           1,           1,           1,           1,           1,           1,           1,           1,           1,           1,\n",
      "                  1,           1,           1,           1,           1,           1,           1,           1,           1,           1,           1,           1,           1,           1,           1,           1,           1,           1,           1,           1,           1,           1,           1,\n",
      "                  1,           1,           1,           1,           1,           1,           1,           1,           1,           1,           1,           1,           1,           1,           1,           1,           1,           1,           1,           1,           1,           1,           1,\n",
      "                  1,           1,           1,           1,           1,           1,           1,           1,           1,           1,           1,           1,           1,           1,           1,           1,           1,           1,           1,           1,           1,           1,           1,\n",
      "                  1,           1,           1,           1,           1,           1,           1,           1,           1,           1,           1,           1,           1,           1,           1,           1,           1,           1,           1,           1,           1,           1,           1,\n",
      "                  1,           1,           1,           1,           1,           1,           1,           1,           1,           1,           1,           1,           1,           1,           1,           1,           1,           1,           1,           1,           1,           1,           1,\n",
      "                  1,           1,           1,           1,           1,           1,           1,           1,           1,           1,           1]]), 'Confidence', 'Precision'], [array([          0,    0.001001,    0.002002,    0.003003,    0.004004,    0.005005,    0.006006,    0.007007,    0.008008,    0.009009,     0.01001,    0.011011,    0.012012,    0.013013,    0.014014,    0.015015,    0.016016,    0.017017,    0.018018,    0.019019,     0.02002,    0.021021,    0.022022,    0.023023,\n",
      "          0.024024,    0.025025,    0.026026,    0.027027,    0.028028,    0.029029,     0.03003,    0.031031,    0.032032,    0.033033,    0.034034,    0.035035,    0.036036,    0.037037,    0.038038,    0.039039,     0.04004,    0.041041,    0.042042,    0.043043,    0.044044,    0.045045,    0.046046,    0.047047,\n",
      "          0.048048,    0.049049,     0.05005,    0.051051,    0.052052,    0.053053,    0.054054,    0.055055,    0.056056,    0.057057,    0.058058,    0.059059,     0.06006,    0.061061,    0.062062,    0.063063,    0.064064,    0.065065,    0.066066,    0.067067,    0.068068,    0.069069,     0.07007,    0.071071,\n",
      "          0.072072,    0.073073,    0.074074,    0.075075,    0.076076,    0.077077,    0.078078,    0.079079,     0.08008,    0.081081,    0.082082,    0.083083,    0.084084,    0.085085,    0.086086,    0.087087,    0.088088,    0.089089,     0.09009,    0.091091,    0.092092,    0.093093,    0.094094,    0.095095,\n",
      "          0.096096,    0.097097,    0.098098,    0.099099,      0.1001,      0.1011,      0.1021,      0.1031,      0.1041,     0.10511,     0.10611,     0.10711,     0.10811,     0.10911,     0.11011,     0.11111,     0.11211,     0.11311,     0.11411,     0.11512,     0.11612,     0.11712,     0.11812,     0.11912,\n",
      "           0.12012,     0.12112,     0.12212,     0.12312,     0.12412,     0.12513,     0.12613,     0.12713,     0.12813,     0.12913,     0.13013,     0.13113,     0.13213,     0.13313,     0.13413,     0.13514,     0.13614,     0.13714,     0.13814,     0.13914,     0.14014,     0.14114,     0.14214,     0.14314,\n",
      "           0.14414,     0.14515,     0.14615,     0.14715,     0.14815,     0.14915,     0.15015,     0.15115,     0.15215,     0.15315,     0.15415,     0.15516,     0.15616,     0.15716,     0.15816,     0.15916,     0.16016,     0.16116,     0.16216,     0.16316,     0.16416,     0.16517,     0.16617,     0.16717,\n",
      "           0.16817,     0.16917,     0.17017,     0.17117,     0.17217,     0.17317,     0.17417,     0.17518,     0.17618,     0.17718,     0.17818,     0.17918,     0.18018,     0.18118,     0.18218,     0.18318,     0.18418,     0.18519,     0.18619,     0.18719,     0.18819,     0.18919,     0.19019,     0.19119,\n",
      "           0.19219,     0.19319,     0.19419,      0.1952,      0.1962,      0.1972,      0.1982,      0.1992,      0.2002,      0.2012,      0.2022,      0.2032,      0.2042,     0.20521,     0.20621,     0.20721,     0.20821,     0.20921,     0.21021,     0.21121,     0.21221,     0.21321,     0.21421,     0.21522,\n",
      "           0.21622,     0.21722,     0.21822,     0.21922,     0.22022,     0.22122,     0.22222,     0.22322,     0.22422,     0.22523,     0.22623,     0.22723,     0.22823,     0.22923,     0.23023,     0.23123,     0.23223,     0.23323,     0.23423,     0.23524,     0.23624,     0.23724,     0.23824,     0.23924,\n",
      "           0.24024,     0.24124,     0.24224,     0.24324,     0.24424,     0.24525,     0.24625,     0.24725,     0.24825,     0.24925,     0.25025,     0.25125,     0.25225,     0.25325,     0.25425,     0.25526,     0.25626,     0.25726,     0.25826,     0.25926,     0.26026,     0.26126,     0.26226,     0.26326,\n",
      "           0.26426,     0.26527,     0.26627,     0.26727,     0.26827,     0.26927,     0.27027,     0.27127,     0.27227,     0.27327,     0.27427,     0.27528,     0.27628,     0.27728,     0.27828,     0.27928,     0.28028,     0.28128,     0.28228,     0.28328,     0.28428,     0.28529,     0.28629,     0.28729,\n",
      "           0.28829,     0.28929,     0.29029,     0.29129,     0.29229,     0.29329,     0.29429,      0.2953,      0.2963,      0.2973,      0.2983,      0.2993,      0.3003,      0.3013,      0.3023,      0.3033,      0.3043,     0.30531,     0.30631,     0.30731,     0.30831,     0.30931,     0.31031,     0.31131,\n",
      "           0.31231,     0.31331,     0.31431,     0.31532,     0.31632,     0.31732,     0.31832,     0.31932,     0.32032,     0.32132,     0.32232,     0.32332,     0.32432,     0.32533,     0.32633,     0.32733,     0.32833,     0.32933,     0.33033,     0.33133,     0.33233,     0.33333,     0.33433,     0.33534,\n",
      "           0.33634,     0.33734,     0.33834,     0.33934,     0.34034,     0.34134,     0.34234,     0.34334,     0.34434,     0.34535,     0.34635,     0.34735,     0.34835,     0.34935,     0.35035,     0.35135,     0.35235,     0.35335,     0.35435,     0.35536,     0.35636,     0.35736,     0.35836,     0.35936,\n",
      "           0.36036,     0.36136,     0.36236,     0.36336,     0.36436,     0.36537,     0.36637,     0.36737,     0.36837,     0.36937,     0.37037,     0.37137,     0.37237,     0.37337,     0.37437,     0.37538,     0.37638,     0.37738,     0.37838,     0.37938,     0.38038,     0.38138,     0.38238,     0.38338,\n",
      "           0.38438,     0.38539,     0.38639,     0.38739,     0.38839,     0.38939,     0.39039,     0.39139,     0.39239,     0.39339,     0.39439,      0.3954,      0.3964,      0.3974,      0.3984,      0.3994,      0.4004,      0.4014,      0.4024,      0.4034,      0.4044,     0.40541,     0.40641,     0.40741,\n",
      "           0.40841,     0.40941,     0.41041,     0.41141,     0.41241,     0.41341,     0.41441,     0.41542,     0.41642,     0.41742,     0.41842,     0.41942,     0.42042,     0.42142,     0.42242,     0.42342,     0.42442,     0.42543,     0.42643,     0.42743,     0.42843,     0.42943,     0.43043,     0.43143,\n",
      "           0.43243,     0.43343,     0.43443,     0.43544,     0.43644,     0.43744,     0.43844,     0.43944,     0.44044,     0.44144,     0.44244,     0.44344,     0.44444,     0.44545,     0.44645,     0.44745,     0.44845,     0.44945,     0.45045,     0.45145,     0.45245,     0.45345,     0.45445,     0.45546,\n",
      "           0.45646,     0.45746,     0.45846,     0.45946,     0.46046,     0.46146,     0.46246,     0.46346,     0.46446,     0.46547,     0.46647,     0.46747,     0.46847,     0.46947,     0.47047,     0.47147,     0.47247,     0.47347,     0.47447,     0.47548,     0.47648,     0.47748,     0.47848,     0.47948,\n",
      "           0.48048,     0.48148,     0.48248,     0.48348,     0.48448,     0.48549,     0.48649,     0.48749,     0.48849,     0.48949,     0.49049,     0.49149,     0.49249,     0.49349,     0.49449,      0.4955,      0.4965,      0.4975,      0.4985,      0.4995,      0.5005,      0.5015,      0.5025,      0.5035,\n",
      "            0.5045,     0.50551,     0.50651,     0.50751,     0.50851,     0.50951,     0.51051,     0.51151,     0.51251,     0.51351,     0.51451,     0.51552,     0.51652,     0.51752,     0.51852,     0.51952,     0.52052,     0.52152,     0.52252,     0.52352,     0.52452,     0.52553,     0.52653,     0.52753,\n",
      "           0.52853,     0.52953,     0.53053,     0.53153,     0.53253,     0.53353,     0.53453,     0.53554,     0.53654,     0.53754,     0.53854,     0.53954,     0.54054,     0.54154,     0.54254,     0.54354,     0.54454,     0.54555,     0.54655,     0.54755,     0.54855,     0.54955,     0.55055,     0.55155,\n",
      "           0.55255,     0.55355,     0.55455,     0.55556,     0.55656,     0.55756,     0.55856,     0.55956,     0.56056,     0.56156,     0.56256,     0.56356,     0.56456,     0.56557,     0.56657,     0.56757,     0.56857,     0.56957,     0.57057,     0.57157,     0.57257,     0.57357,     0.57457,     0.57558,\n",
      "           0.57658,     0.57758,     0.57858,     0.57958,     0.58058,     0.58158,     0.58258,     0.58358,     0.58458,     0.58559,     0.58659,     0.58759,     0.58859,     0.58959,     0.59059,     0.59159,     0.59259,     0.59359,     0.59459,      0.5956,      0.5966,      0.5976,      0.5986,      0.5996,\n",
      "            0.6006,      0.6016,      0.6026,      0.6036,      0.6046,     0.60561,     0.60661,     0.60761,     0.60861,     0.60961,     0.61061,     0.61161,     0.61261,     0.61361,     0.61461,     0.61562,     0.61662,     0.61762,     0.61862,     0.61962,     0.62062,     0.62162,     0.62262,     0.62362,\n",
      "           0.62462,     0.62563,     0.62663,     0.62763,     0.62863,     0.62963,     0.63063,     0.63163,     0.63263,     0.63363,     0.63463,     0.63564,     0.63664,     0.63764,     0.63864,     0.63964,     0.64064,     0.64164,     0.64264,     0.64364,     0.64464,     0.64565,     0.64665,     0.64765,\n",
      "           0.64865,     0.64965,     0.65065,     0.65165,     0.65265,     0.65365,     0.65465,     0.65566,     0.65666,     0.65766,     0.65866,     0.65966,     0.66066,     0.66166,     0.66266,     0.66366,     0.66466,     0.66567,     0.66667,     0.66767,     0.66867,     0.66967,     0.67067,     0.67167,\n",
      "           0.67267,     0.67367,     0.67467,     0.67568,     0.67668,     0.67768,     0.67868,     0.67968,     0.68068,     0.68168,     0.68268,     0.68368,     0.68468,     0.68569,     0.68669,     0.68769,     0.68869,     0.68969,     0.69069,     0.69169,     0.69269,     0.69369,     0.69469,      0.6957,\n",
      "            0.6967,      0.6977,      0.6987,      0.6997,      0.7007,      0.7017,      0.7027,      0.7037,      0.7047,     0.70571,     0.70671,     0.70771,     0.70871,     0.70971,     0.71071,     0.71171,     0.71271,     0.71371,     0.71471,     0.71572,     0.71672,     0.71772,     0.71872,     0.71972,\n",
      "           0.72072,     0.72172,     0.72272,     0.72372,     0.72472,     0.72573,     0.72673,     0.72773,     0.72873,     0.72973,     0.73073,     0.73173,     0.73273,     0.73373,     0.73473,     0.73574,     0.73674,     0.73774,     0.73874,     0.73974,     0.74074,     0.74174,     0.74274,     0.74374,\n",
      "           0.74474,     0.74575,     0.74675,     0.74775,     0.74875,     0.74975,     0.75075,     0.75175,     0.75275,     0.75375,     0.75475,     0.75576,     0.75676,     0.75776,     0.75876,     0.75976,     0.76076,     0.76176,     0.76276,     0.76376,     0.76476,     0.76577,     0.76677,     0.76777,\n",
      "           0.76877,     0.76977,     0.77077,     0.77177,     0.77277,     0.77377,     0.77477,     0.77578,     0.77678,     0.77778,     0.77878,     0.77978,     0.78078,     0.78178,     0.78278,     0.78378,     0.78478,     0.78579,     0.78679,     0.78779,     0.78879,     0.78979,     0.79079,     0.79179,\n",
      "           0.79279,     0.79379,     0.79479,      0.7958,      0.7968,      0.7978,      0.7988,      0.7998,      0.8008,      0.8018,      0.8028,      0.8038,      0.8048,     0.80581,     0.80681,     0.80781,     0.80881,     0.80981,     0.81081,     0.81181,     0.81281,     0.81381,     0.81481,     0.81582,\n",
      "           0.81682,     0.81782,     0.81882,     0.81982,     0.82082,     0.82182,     0.82282,     0.82382,     0.82482,     0.82583,     0.82683,     0.82783,     0.82883,     0.82983,     0.83083,     0.83183,     0.83283,     0.83383,     0.83483,     0.83584,     0.83684,     0.83784,     0.83884,     0.83984,\n",
      "           0.84084,     0.84184,     0.84284,     0.84384,     0.84484,     0.84585,     0.84685,     0.84785,     0.84885,     0.84985,     0.85085,     0.85185,     0.85285,     0.85385,     0.85485,     0.85586,     0.85686,     0.85786,     0.85886,     0.85986,     0.86086,     0.86186,     0.86286,     0.86386,\n",
      "           0.86486,     0.86587,     0.86687,     0.86787,     0.86887,     0.86987,     0.87087,     0.87187,     0.87287,     0.87387,     0.87487,     0.87588,     0.87688,     0.87788,     0.87888,     0.87988,     0.88088,     0.88188,     0.88288,     0.88388,     0.88488,     0.88589,     0.88689,     0.88789,\n",
      "           0.88889,     0.88989,     0.89089,     0.89189,     0.89289,     0.89389,     0.89489,      0.8959,      0.8969,      0.8979,      0.8989,      0.8999,      0.9009,      0.9019,      0.9029,      0.9039,      0.9049,     0.90591,     0.90691,     0.90791,     0.90891,     0.90991,     0.91091,     0.91191,\n",
      "           0.91291,     0.91391,     0.91491,     0.91592,     0.91692,     0.91792,     0.91892,     0.91992,     0.92092,     0.92192,     0.92292,     0.92392,     0.92492,     0.92593,     0.92693,     0.92793,     0.92893,     0.92993,     0.93093,     0.93193,     0.93293,     0.93393,     0.93493,     0.93594,\n",
      "           0.93694,     0.93794,     0.93894,     0.93994,     0.94094,     0.94194,     0.94294,     0.94394,     0.94494,     0.94595,     0.94695,     0.94795,     0.94895,     0.94995,     0.95095,     0.95195,     0.95295,     0.95395,     0.95495,     0.95596,     0.95696,     0.95796,     0.95896,     0.95996,\n",
      "           0.96096,     0.96196,     0.96296,     0.96396,     0.96496,     0.96597,     0.96697,     0.96797,     0.96897,     0.96997,     0.97097,     0.97197,     0.97297,     0.97397,     0.97497,     0.97598,     0.97698,     0.97798,     0.97898,     0.97998,     0.98098,     0.98198,     0.98298,     0.98398,\n",
      "           0.98498,     0.98599,     0.98699,     0.98799,     0.98899,     0.98999,     0.99099,     0.99199,     0.99299,     0.99399,     0.99499,       0.996,       0.997,       0.998,       0.999,           1]), array([[    0.91617,     0.91617,     0.88024,     0.88024,     0.87425,     0.86826,     0.85629,      0.8503,      0.8503,      0.8503,     0.84431,     0.83832,     0.83832,     0.83832,     0.83832,     0.83832,     0.83832,     0.83832,     0.83832,     0.83832,     0.83234,     0.83234,     0.83234,\n",
      "             0.8313,     0.82635,     0.82635,     0.82635,     0.82635,     0.82635,     0.82036,     0.82036,     0.82036,     0.82036,     0.82036,     0.82036,     0.82036,     0.82036,     0.82036,     0.82036,     0.82036,     0.82036,     0.82036,     0.82036,     0.81437,     0.81437,     0.81437,\n",
      "            0.81437,     0.81437,     0.81437,     0.81437,     0.81437,     0.81437,     0.81437,     0.81437,     0.81437,     0.81437,     0.81437,     0.81437,     0.81437,     0.81437,     0.81437,     0.81437,     0.81437,     0.81437,     0.81437,     0.81437,     0.81354,     0.81069,     0.80838,\n",
      "            0.80838,     0.80838,     0.80838,     0.80749,     0.80487,      0.8024,      0.8024,      0.8024,      0.8024,      0.8024,      0.8024,      0.8024,      0.8024,      0.8024,      0.8024,      0.8024,      0.8024,      0.8024,      0.8024,      0.8024,     0.79906,     0.79641,     0.79641,\n",
      "            0.79641,     0.79641,     0.79641,     0.79641,     0.79641,     0.79641,     0.79641,     0.79641,     0.79641,     0.79641,     0.79641,     0.79641,     0.79641,     0.79641,     0.79641,     0.79641,     0.79641,     0.79533,     0.79398,     0.79263,     0.79128,     0.79042,     0.78443,\n",
      "            0.78443,     0.78443,     0.78443,     0.78443,     0.78443,     0.78443,     0.78443,     0.78443,     0.78443,     0.78443,     0.78443,     0.78443,     0.78443,     0.78443,     0.78443,     0.78443,     0.78443,     0.78443,     0.78443,     0.78443,     0.78443,     0.78443,     0.78443,\n",
      "            0.78443,     0.78443,     0.78443,     0.78443,     0.78443,     0.78443,     0.78443,     0.78443,     0.78443,     0.78443,     0.78443,     0.78443,     0.78443,     0.78157,     0.77844,     0.77844,     0.77844,     0.77844,     0.77844,     0.77844,     0.77659,     0.77246,     0.76719,\n",
      "            0.76647,     0.76647,     0.76647,     0.76647,     0.76647,     0.76647,     0.76631,     0.76048,     0.76048,     0.76048,     0.76048,     0.76048,     0.76048,     0.76048,     0.76048,     0.76048,     0.76048,     0.76042,     0.75969,     0.75897,     0.75824,     0.75752,      0.7568,\n",
      "            0.75607,     0.75535,     0.75463,     0.75449,     0.75449,     0.75449,     0.75449,      0.7485,      0.7485,      0.7485,      0.7485,      0.7485,      0.7485,      0.7485,      0.7485,      0.7485,      0.7485,      0.7485,      0.7485,      0.7485,      0.7485,      0.7485,      0.7485,\n",
      "             0.7485,      0.7485,      0.7485,      0.7485,      0.7485,      0.7485,      0.7485,      0.7485,      0.7485,      0.7485,      0.7485,      0.7485,      0.7485,      0.7485,      0.7485,      0.7485,      0.7485,      0.7485,      0.7485,      0.7485,      0.7485,      0.7485,      0.7485,\n",
      "             0.7485,      0.7485,      0.7485,      0.7485,      0.7485,      0.7485,      0.7485,      0.7485,      0.7485,      0.7485,      0.7485,      0.7485,      0.7485,      0.7485,      0.7485,      0.7485,      0.7485,      0.7485,      0.7485,      0.7485,      0.7485,      0.7485,      0.7485,\n",
      "             0.7485,      0.7485,      0.7485,      0.7485,      0.7485,      0.7485,      0.7485,      0.7485,      0.7485,      0.7485,      0.7485,      0.7485,      0.7485,      0.7485,      0.7485,      0.7485,      0.7485,      0.7485,      0.7485,      0.7485,      0.7485,      0.7485,      0.7485,\n",
      "             0.7485,      0.7485,      0.7485,      0.7485,      0.7485,      0.7485,      0.7485,      0.7485,      0.7485,      0.7485,      0.7485,      0.7485,      0.7485,      0.7485,      0.7485,      0.7485,      0.7485,      0.7485,      0.7485,      0.7485,      0.7485,      0.7485,      0.7485,\n",
      "             0.7485,      0.7485,      0.7485,      0.7485,      0.7485,      0.7485,      0.7485,      0.7485,      0.7485,      0.7485,      0.7485,      0.7485,      0.7485,      0.7485,      0.7485,      0.7485,      0.7485,      0.7485,      0.7485,      0.7485,      0.7485,      0.7485,      0.7485,\n",
      "             0.7485,      0.7485,      0.7485,      0.7485,      0.7485,      0.7485,      0.7485,      0.7485,      0.7485,      0.7485,      0.7485,      0.7485,      0.7485,      0.7485,      0.7485,      0.7485,      0.7485,      0.7485,      0.7485,      0.7485,      0.7485,      0.7485,      0.7485,\n",
      "             0.7485,      0.7485,      0.7485,      0.7485,      0.7485,      0.7485,      0.7485,      0.7485,      0.7485,      0.7485,      0.7485,      0.7485,      0.7485,      0.7485,      0.7485,      0.7485,      0.7485,      0.7485,      0.7485,      0.7485,      0.7485,      0.7485,      0.7485,\n",
      "             0.7485,      0.7485,      0.7485,      0.7485,      0.7485,      0.7485,      0.7485,      0.7485,      0.7485,      0.7485,      0.7485,      0.7485,      0.7485,      0.7485,      0.7485,      0.7485,      0.7485,      0.7485,      0.7485,      0.7485,      0.7485,      0.7485,      0.7485,\n",
      "             0.7485,      0.7485,      0.7485,      0.7485,      0.7485,      0.7485,      0.7485,      0.7485,     0.74805,     0.74743,     0.74681,     0.74618,     0.74556,     0.74494,     0.74432,     0.74369,     0.74307,     0.74242,     0.74153,     0.74063,     0.73974,     0.73884,     0.73795,\n",
      "            0.73705,     0.73653,     0.73653,     0.73653,     0.73653,     0.73653,     0.73653,     0.73653,     0.73653,     0.73653,     0.73653,     0.73618,     0.73507,     0.73396,     0.73285,     0.73174,     0.73063,     0.73054,     0.73054,     0.73054,     0.73034,     0.72983,     0.72932,\n",
      "            0.72881,     0.72831,      0.7278,     0.72729,     0.72678,     0.72627,     0.72577,     0.72526,     0.72475,     0.72176,     0.71856,     0.71856,     0.71856,     0.71856,     0.71856,     0.71856,     0.71856,     0.71856,     0.71856,     0.71856,     0.71856,     0.71856,     0.71856,\n",
      "            0.71856,     0.71856,     0.71856,     0.71856,     0.71808,     0.71447,     0.71257,     0.71257,     0.71257,     0.71257,     0.71257,     0.71257,     0.71198,     0.70718,     0.70222,         0.7,     0.69909,     0.69818,     0.69727,     0.69635,     0.69544,     0.69461,     0.69461,\n",
      "             0.6885,     0.68803,     0.68756,     0.68709,     0.68662,     0.68615,     0.68568,     0.68521,     0.68474,     0.68427,      0.6838,     0.68333,     0.68286,     0.67833,     0.67197,     0.67066,     0.67066,     0.67066,     0.67066,     0.67066,     0.67066,     0.67066,     0.67066,\n",
      "            0.67066,     0.67066,     0.67066,     0.67066,     0.67066,     0.67066,     0.67066,     0.67066,     0.67066,     0.67066,     0.67039,     0.67005,     0.66972,     0.66939,     0.66906,     0.66872,     0.66839,     0.66806,     0.66772,     0.66739,     0.66706,     0.66673,     0.66639,\n",
      "            0.66606,     0.66573,      0.6654,     0.66506,     0.66473,     0.66347,       0.662,     0.66054,     0.65907,     0.65806,     0.65721,     0.65636,     0.65552,     0.65467,     0.65382,     0.65298,     0.65269,     0.65269,     0.65269,     0.65269,     0.65269,     0.64671,     0.64671,\n",
      "            0.64671,     0.64576,     0.64438,       0.643,     0.64161,     0.64072,     0.64072,     0.64072,     0.64072,     0.64072,     0.64072,     0.64072,     0.64072,     0.64072,     0.64072,     0.64072,     0.64072,     0.64072,     0.64072,     0.64072,     0.64072,     0.64072,      0.6396,\n",
      "            0.63796,     0.63632,     0.63392,     0.62874,     0.62874,     0.62874,     0.62777,     0.62222,     0.62142,     0.62062,     0.61982,     0.61902,     0.61822,     0.61741,     0.61665,     0.61604,     0.61543,     0.61482,     0.61421,      0.6136,     0.61299,     0.61238,     0.61177,\n",
      "            0.61116,     0.61078,     0.61078,     0.61078,     0.61078,     0.61078,     0.61061,      0.6088,     0.60699,     0.60518,     0.60479,     0.60479,     0.60479,     0.60479,     0.60369,      0.6025,     0.60131,     0.60012,     0.59893,      0.5982,     0.59753,     0.59685,     0.59618,\n",
      "            0.59551,     0.59484,     0.59416,     0.59349,     0.59282,     0.59212,     0.59137,     0.59062,     0.58987,     0.58912,     0.58837,     0.58762,     0.58687,     0.58627,     0.58567,     0.58508,     0.58449,     0.58389,      0.5833,     0.58271,     0.58211,     0.58152,     0.58093,\n",
      "            0.57826,     0.57522,     0.57485,     0.57485,     0.57485,     0.57485,     0.57485,     0.57485,     0.57485,     0.57399,     0.56754,     0.56415,     0.56026,     0.55689,     0.55689,     0.55689,     0.55689,     0.55689,     0.55689,     0.55689,     0.55625,     0.55448,      0.5527,\n",
      "            0.55093,     0.54934,     0.54776,     0.54617,     0.54425,     0.54102,     0.53892,     0.53892,     0.53892,     0.53892,     0.53831,     0.53713,     0.53596,     0.53478,      0.5336,     0.53293,     0.53293,     0.53293,     0.53293,     0.53293,     0.53021,     0.52536,     0.51823,\n",
      "            0.51076,     0.50796,     0.50667,     0.50537,     0.50407,     0.50269,     0.50091,     0.49913,     0.49734,      0.4914,     0.48405,     0.48254,     0.48104,     0.47954,     0.47701,     0.47399,     0.47124,     0.46861,     0.46626,     0.46431,     0.46236,     0.46053,     0.45893,\n",
      "            0.45734,     0.45574,      0.4521,     0.44711,     0.44262,     0.43998,     0.43735,     0.43713,     0.43571,     0.43165,     0.43114,     0.42821,     0.42522,     0.41207,     0.40975,     0.40743,     0.39625,     0.39253,     0.38972,     0.38738,     0.38513,     0.38231,     0.37689,\n",
      "            0.37451,     0.37213,     0.36405,     0.35119,      0.3469,     0.34281,     0.33914,     0.33572,     0.32797,     0.32626,     0.32455,     0.32026,     0.31282,     0.30108,     0.28634,     0.28408,     0.28181,     0.27257,     0.26242,     0.26022,     0.25802,     0.25073,     0.24239,\n",
      "            0.23664,       0.232,        0.23,     0.22799,      0.2236,      0.2089,     0.20461,     0.19738,     0.19491,     0.19244,     0.17926,     0.17637,     0.16734,     0.16166,     0.15685,      0.1552,     0.15456,     0.15392,     0.15328,     0.15264,       0.152,     0.15136,     0.15071,\n",
      "            0.15007,     0.14729,     0.13749,     0.13517,     0.13284,     0.13053,     0.12821,      0.1259,     0.11563,     0.10615,    0.094038,    0.083767,    0.081043,    0.078319,    0.071423,    0.070489,    0.069554,     0.06862,    0.067685,    0.066751,    0.065622,    0.061175,    0.059248,\n",
      "           0.058356,    0.057464,    0.056572,     0.05568,    0.054789,    0.053897,    0.048504,    0.041666,    0.038562,    0.035695,    0.034152,     0.03261,    0.031067,    0.029275,    0.026801,    0.024328,    0.017926,    0.017016,    0.016105,    0.015194,    0.014283,    0.013372,    0.012461,\n",
      "           0.011537,    0.010599,   0.0096614,   0.0087235,   0.0077856,   0.0068477,           0,           0,           0,           0,           0,           0,           0,           0,           0,           0,           0,           0,           0,           0,           0,           0,           0,\n",
      "                  0,           0,           0,           0,           0,           0,           0,           0,           0,           0,           0,           0,           0,           0,           0,           0,           0,           0,           0,           0,           0,           0,           0,\n",
      "                  0,           0,           0,           0,           0,           0,           0,           0,           0,           0,           0,           0,           0,           0,           0,           0,           0,           0,           0,           0,           0,           0,           0,\n",
      "                  0,           0,           0,           0,           0,           0,           0,           0,           0,           0,           0,           0,           0,           0,           0,           0,           0,           0,           0,           0,           0,           0,           0,\n",
      "                  0,           0,           0,           0,           0,           0,           0,           0,           0,           0,           0,           0,           0,           0,           0,           0,           0,           0,           0,           0,           0,           0,           0,\n",
      "                  0,           0,           0,           0,           0,           0,           0,           0,           0,           0,           0,           0,           0,           0,           0,           0,           0,           0,           0,           0,           0,           0,           0,\n",
      "                  0,           0,           0,           0,           0,           0,           0,           0,           0,           0,           0,           0,           0,           0,           0,           0,           0,           0,           0,           0,           0,           0,           0,\n",
      "                  0,           0,           0,           0,           0,           0,           0,           0,           0,           0,           0]]), 'Confidence', 'Recall']]\n",
      "fitness: 0.43941057428025687\n",
      "keys: ['metrics/precision(B)', 'metrics/recall(B)', 'metrics/mAP50(B)', 'metrics/mAP50-95(B)']\n",
      "maps: array([    0.40217])\n",
      "names: {0: 'bird'}\n",
      "plot: True\n",
      "results_dict: {'metrics/precision(B)': 0.7840835074245607, 'metrics/recall(B)': 0.7365269461077845, 'metrics/mAP50(B)': 0.7746205267916803, 'metrics/mAP50-95(B)': 0.40216502400120985, 'fitness': 0.43941057428025687}\n",
      "save_dir: PosixPath('runs/detect/val2')\n",
      "speed: {'preprocess': 5.539295439534312, 'inference': 40.99178522830533, 'loss': 0.0006530304248868064, 'postprocess': 2.3714304803764783}\n",
      "task: 'detect'\n"
     ]
    }
   ],
   "source": [
    "# Load best or last checkpoint\n",
    "model = YOLO(\"runs/detect/train8/weights/best.pt\")\n",
    "# Evaluate on the test split defined in test.yaml\n",
    "metrics = model.val(data=yolo_data, imgsz=1280, save=True,split='test')\n",
    "print(metrics)"
   ]
  },
  {
   "cell_type": "code",
   "execution_count": 10,
   "metadata": {
    "colab": {
     "base_uri": "https://localhost:8080/"
    },
    "executionInfo": {
     "elapsed": 21087,
     "status": "ok",
     "timestamp": 1746645193243,
     "user": {
      "displayName": "Eugen Falca",
      "userId": "06470857081734833614"
     },
     "user_tz": -120
    },
    "id": "WZkErlDqPR23",
    "outputId": "0f1bd0ec-7cc6-4a6d-8bb2-4b1c9fd3a101"
   },
   "outputs": [
    {
     "name": "stdout",
     "output_type": "stream",
     "text": [
      "Ultralytics 8.3.128 🚀 Python-3.11.12 torch-2.6.0+cu124 CUDA:0 (Tesla T4, 15095MiB)\n",
      "YOLO11l summary (fused): 190 layers, 25,280,083 parameters, 0 gradients, 86.6 GFLOPs\n",
      "\u001b[34m\u001b[1mval: \u001b[0mFast image access ✅ (ping: 0.6±0.1 ms, read: 643.0±170.1 MB/s, size: 8999.2 KB)\n"
     ]
    },
    {
     "name": "stderr",
     "output_type": "stream",
     "text": [
      "\u001b[34m\u001b[1mval: \u001b[0mScanning /content/drive/.shortcut-targets-by-id/1ul61U35aG3KhMRm83t3YVDwsRzb7rDsy/JADS group assignments Semester 2/Deep Learning - Group Assignment/dev/data/data_yolo_format/test/labels.cache... 31 images, 2 backgrounds, 0 corrupt: 100%|██████████| 31/31 [00:00<?, ?it/s]\n",
      "                 Class     Images  Instances      Box(P          R      mAP50  mAP50-95): 100%|██████████| 2/2 [00:11<00:00,  5.69s/it]\n"
     ]
    },
    {
     "name": "stdout",
     "output_type": "stream",
     "text": [
      "                   all         31        174      0.803      0.632      0.686      0.304\n",
      "Speed: 12.4ms preprocess, 79.8ms inference, 0.0ms loss, 2.6ms postprocess per image\n",
      "Results saved to \u001b[1mruns/detect/val3\u001b[0m\n",
      "ultralytics.utils.metrics.DetMetrics object with attributes:\n",
      "\n",
      "ap_class_index: array([0])\n",
      "box: ultralytics.utils.metrics.Metric object\n",
      "confusion_matrix: <ultralytics.utils.metrics.ConfusionMatrix object at 0x7f723a48c150>\n",
      "curves: ['Precision-Recall(B)', 'F1-Confidence(B)', 'Precision-Confidence(B)', 'Recall-Confidence(B)']\n",
      "curves_results: [[array([          0,    0.001001,    0.002002,    0.003003,    0.004004,    0.005005,    0.006006,    0.007007,    0.008008,    0.009009,     0.01001,    0.011011,    0.012012,    0.013013,    0.014014,    0.015015,    0.016016,    0.017017,    0.018018,    0.019019,     0.02002,    0.021021,    0.022022,    0.023023,\n",
      "          0.024024,    0.025025,    0.026026,    0.027027,    0.028028,    0.029029,     0.03003,    0.031031,    0.032032,    0.033033,    0.034034,    0.035035,    0.036036,    0.037037,    0.038038,    0.039039,     0.04004,    0.041041,    0.042042,    0.043043,    0.044044,    0.045045,    0.046046,    0.047047,\n",
      "          0.048048,    0.049049,     0.05005,    0.051051,    0.052052,    0.053053,    0.054054,    0.055055,    0.056056,    0.057057,    0.058058,    0.059059,     0.06006,    0.061061,    0.062062,    0.063063,    0.064064,    0.065065,    0.066066,    0.067067,    0.068068,    0.069069,     0.07007,    0.071071,\n",
      "          0.072072,    0.073073,    0.074074,    0.075075,    0.076076,    0.077077,    0.078078,    0.079079,     0.08008,    0.081081,    0.082082,    0.083083,    0.084084,    0.085085,    0.086086,    0.087087,    0.088088,    0.089089,     0.09009,    0.091091,    0.092092,    0.093093,    0.094094,    0.095095,\n",
      "          0.096096,    0.097097,    0.098098,    0.099099,      0.1001,      0.1011,      0.1021,      0.1031,      0.1041,     0.10511,     0.10611,     0.10711,     0.10811,     0.10911,     0.11011,     0.11111,     0.11211,     0.11311,     0.11411,     0.11512,     0.11612,     0.11712,     0.11812,     0.11912,\n",
      "           0.12012,     0.12112,     0.12212,     0.12312,     0.12412,     0.12513,     0.12613,     0.12713,     0.12813,     0.12913,     0.13013,     0.13113,     0.13213,     0.13313,     0.13413,     0.13514,     0.13614,     0.13714,     0.13814,     0.13914,     0.14014,     0.14114,     0.14214,     0.14314,\n",
      "           0.14414,     0.14515,     0.14615,     0.14715,     0.14815,     0.14915,     0.15015,     0.15115,     0.15215,     0.15315,     0.15415,     0.15516,     0.15616,     0.15716,     0.15816,     0.15916,     0.16016,     0.16116,     0.16216,     0.16316,     0.16416,     0.16517,     0.16617,     0.16717,\n",
      "           0.16817,     0.16917,     0.17017,     0.17117,     0.17217,     0.17317,     0.17417,     0.17518,     0.17618,     0.17718,     0.17818,     0.17918,     0.18018,     0.18118,     0.18218,     0.18318,     0.18418,     0.18519,     0.18619,     0.18719,     0.18819,     0.18919,     0.19019,     0.19119,\n",
      "           0.19219,     0.19319,     0.19419,      0.1952,      0.1962,      0.1972,      0.1982,      0.1992,      0.2002,      0.2012,      0.2022,      0.2032,      0.2042,     0.20521,     0.20621,     0.20721,     0.20821,     0.20921,     0.21021,     0.21121,     0.21221,     0.21321,     0.21421,     0.21522,\n",
      "           0.21622,     0.21722,     0.21822,     0.21922,     0.22022,     0.22122,     0.22222,     0.22322,     0.22422,     0.22523,     0.22623,     0.22723,     0.22823,     0.22923,     0.23023,     0.23123,     0.23223,     0.23323,     0.23423,     0.23524,     0.23624,     0.23724,     0.23824,     0.23924,\n",
      "           0.24024,     0.24124,     0.24224,     0.24324,     0.24424,     0.24525,     0.24625,     0.24725,     0.24825,     0.24925,     0.25025,     0.25125,     0.25225,     0.25325,     0.25425,     0.25526,     0.25626,     0.25726,     0.25826,     0.25926,     0.26026,     0.26126,     0.26226,     0.26326,\n",
      "           0.26426,     0.26527,     0.26627,     0.26727,     0.26827,     0.26927,     0.27027,     0.27127,     0.27227,     0.27327,     0.27427,     0.27528,     0.27628,     0.27728,     0.27828,     0.27928,     0.28028,     0.28128,     0.28228,     0.28328,     0.28428,     0.28529,     0.28629,     0.28729,\n",
      "           0.28829,     0.28929,     0.29029,     0.29129,     0.29229,     0.29329,     0.29429,      0.2953,      0.2963,      0.2973,      0.2983,      0.2993,      0.3003,      0.3013,      0.3023,      0.3033,      0.3043,     0.30531,     0.30631,     0.30731,     0.30831,     0.30931,     0.31031,     0.31131,\n",
      "           0.31231,     0.31331,     0.31431,     0.31532,     0.31632,     0.31732,     0.31832,     0.31932,     0.32032,     0.32132,     0.32232,     0.32332,     0.32432,     0.32533,     0.32633,     0.32733,     0.32833,     0.32933,     0.33033,     0.33133,     0.33233,     0.33333,     0.33433,     0.33534,\n",
      "           0.33634,     0.33734,     0.33834,     0.33934,     0.34034,     0.34134,     0.34234,     0.34334,     0.34434,     0.34535,     0.34635,     0.34735,     0.34835,     0.34935,     0.35035,     0.35135,     0.35235,     0.35335,     0.35435,     0.35536,     0.35636,     0.35736,     0.35836,     0.35936,\n",
      "           0.36036,     0.36136,     0.36236,     0.36336,     0.36436,     0.36537,     0.36637,     0.36737,     0.36837,     0.36937,     0.37037,     0.37137,     0.37237,     0.37337,     0.37437,     0.37538,     0.37638,     0.37738,     0.37838,     0.37938,     0.38038,     0.38138,     0.38238,     0.38338,\n",
      "           0.38438,     0.38539,     0.38639,     0.38739,     0.38839,     0.38939,     0.39039,     0.39139,     0.39239,     0.39339,     0.39439,      0.3954,      0.3964,      0.3974,      0.3984,      0.3994,      0.4004,      0.4014,      0.4024,      0.4034,      0.4044,     0.40541,     0.40641,     0.40741,\n",
      "           0.40841,     0.40941,     0.41041,     0.41141,     0.41241,     0.41341,     0.41441,     0.41542,     0.41642,     0.41742,     0.41842,     0.41942,     0.42042,     0.42142,     0.42242,     0.42342,     0.42442,     0.42543,     0.42643,     0.42743,     0.42843,     0.42943,     0.43043,     0.43143,\n",
      "           0.43243,     0.43343,     0.43443,     0.43544,     0.43644,     0.43744,     0.43844,     0.43944,     0.44044,     0.44144,     0.44244,     0.44344,     0.44444,     0.44545,     0.44645,     0.44745,     0.44845,     0.44945,     0.45045,     0.45145,     0.45245,     0.45345,     0.45445,     0.45546,\n",
      "           0.45646,     0.45746,     0.45846,     0.45946,     0.46046,     0.46146,     0.46246,     0.46346,     0.46446,     0.46547,     0.46647,     0.46747,     0.46847,     0.46947,     0.47047,     0.47147,     0.47247,     0.47347,     0.47447,     0.47548,     0.47648,     0.47748,     0.47848,     0.47948,\n",
      "           0.48048,     0.48148,     0.48248,     0.48348,     0.48448,     0.48549,     0.48649,     0.48749,     0.48849,     0.48949,     0.49049,     0.49149,     0.49249,     0.49349,     0.49449,      0.4955,      0.4965,      0.4975,      0.4985,      0.4995,      0.5005,      0.5015,      0.5025,      0.5035,\n",
      "            0.5045,     0.50551,     0.50651,     0.50751,     0.50851,     0.50951,     0.51051,     0.51151,     0.51251,     0.51351,     0.51451,     0.51552,     0.51652,     0.51752,     0.51852,     0.51952,     0.52052,     0.52152,     0.52252,     0.52352,     0.52452,     0.52553,     0.52653,     0.52753,\n",
      "           0.52853,     0.52953,     0.53053,     0.53153,     0.53253,     0.53353,     0.53453,     0.53554,     0.53654,     0.53754,     0.53854,     0.53954,     0.54054,     0.54154,     0.54254,     0.54354,     0.54454,     0.54555,     0.54655,     0.54755,     0.54855,     0.54955,     0.55055,     0.55155,\n",
      "           0.55255,     0.55355,     0.55455,     0.55556,     0.55656,     0.55756,     0.55856,     0.55956,     0.56056,     0.56156,     0.56256,     0.56356,     0.56456,     0.56557,     0.56657,     0.56757,     0.56857,     0.56957,     0.57057,     0.57157,     0.57257,     0.57357,     0.57457,     0.57558,\n",
      "           0.57658,     0.57758,     0.57858,     0.57958,     0.58058,     0.58158,     0.58258,     0.58358,     0.58458,     0.58559,     0.58659,     0.58759,     0.58859,     0.58959,     0.59059,     0.59159,     0.59259,     0.59359,     0.59459,      0.5956,      0.5966,      0.5976,      0.5986,      0.5996,\n",
      "            0.6006,      0.6016,      0.6026,      0.6036,      0.6046,     0.60561,     0.60661,     0.60761,     0.60861,     0.60961,     0.61061,     0.61161,     0.61261,     0.61361,     0.61461,     0.61562,     0.61662,     0.61762,     0.61862,     0.61962,     0.62062,     0.62162,     0.62262,     0.62362,\n",
      "           0.62462,     0.62563,     0.62663,     0.62763,     0.62863,     0.62963,     0.63063,     0.63163,     0.63263,     0.63363,     0.63463,     0.63564,     0.63664,     0.63764,     0.63864,     0.63964,     0.64064,     0.64164,     0.64264,     0.64364,     0.64464,     0.64565,     0.64665,     0.64765,\n",
      "           0.64865,     0.64965,     0.65065,     0.65165,     0.65265,     0.65365,     0.65465,     0.65566,     0.65666,     0.65766,     0.65866,     0.65966,     0.66066,     0.66166,     0.66266,     0.66366,     0.66466,     0.66567,     0.66667,     0.66767,     0.66867,     0.66967,     0.67067,     0.67167,\n",
      "           0.67267,     0.67367,     0.67467,     0.67568,     0.67668,     0.67768,     0.67868,     0.67968,     0.68068,     0.68168,     0.68268,     0.68368,     0.68468,     0.68569,     0.68669,     0.68769,     0.68869,     0.68969,     0.69069,     0.69169,     0.69269,     0.69369,     0.69469,      0.6957,\n",
      "            0.6967,      0.6977,      0.6987,      0.6997,      0.7007,      0.7017,      0.7027,      0.7037,      0.7047,     0.70571,     0.70671,     0.70771,     0.70871,     0.70971,     0.71071,     0.71171,     0.71271,     0.71371,     0.71471,     0.71572,     0.71672,     0.71772,     0.71872,     0.71972,\n",
      "           0.72072,     0.72172,     0.72272,     0.72372,     0.72472,     0.72573,     0.72673,     0.72773,     0.72873,     0.72973,     0.73073,     0.73173,     0.73273,     0.73373,     0.73473,     0.73574,     0.73674,     0.73774,     0.73874,     0.73974,     0.74074,     0.74174,     0.74274,     0.74374,\n",
      "           0.74474,     0.74575,     0.74675,     0.74775,     0.74875,     0.74975,     0.75075,     0.75175,     0.75275,     0.75375,     0.75475,     0.75576,     0.75676,     0.75776,     0.75876,     0.75976,     0.76076,     0.76176,     0.76276,     0.76376,     0.76476,     0.76577,     0.76677,     0.76777,\n",
      "           0.76877,     0.76977,     0.77077,     0.77177,     0.77277,     0.77377,     0.77477,     0.77578,     0.77678,     0.77778,     0.77878,     0.77978,     0.78078,     0.78178,     0.78278,     0.78378,     0.78478,     0.78579,     0.78679,     0.78779,     0.78879,     0.78979,     0.79079,     0.79179,\n",
      "           0.79279,     0.79379,     0.79479,      0.7958,      0.7968,      0.7978,      0.7988,      0.7998,      0.8008,      0.8018,      0.8028,      0.8038,      0.8048,     0.80581,     0.80681,     0.80781,     0.80881,     0.80981,     0.81081,     0.81181,     0.81281,     0.81381,     0.81481,     0.81582,\n",
      "           0.81682,     0.81782,     0.81882,     0.81982,     0.82082,     0.82182,     0.82282,     0.82382,     0.82482,     0.82583,     0.82683,     0.82783,     0.82883,     0.82983,     0.83083,     0.83183,     0.83283,     0.83383,     0.83483,     0.83584,     0.83684,     0.83784,     0.83884,     0.83984,\n",
      "           0.84084,     0.84184,     0.84284,     0.84384,     0.84484,     0.84585,     0.84685,     0.84785,     0.84885,     0.84985,     0.85085,     0.85185,     0.85285,     0.85385,     0.85485,     0.85586,     0.85686,     0.85786,     0.85886,     0.85986,     0.86086,     0.86186,     0.86286,     0.86386,\n",
      "           0.86486,     0.86587,     0.86687,     0.86787,     0.86887,     0.86987,     0.87087,     0.87187,     0.87287,     0.87387,     0.87487,     0.87588,     0.87688,     0.87788,     0.87888,     0.87988,     0.88088,     0.88188,     0.88288,     0.88388,     0.88488,     0.88589,     0.88689,     0.88789,\n",
      "           0.88889,     0.88989,     0.89089,     0.89189,     0.89289,     0.89389,     0.89489,      0.8959,      0.8969,      0.8979,      0.8989,      0.8999,      0.9009,      0.9019,      0.9029,      0.9039,      0.9049,     0.90591,     0.90691,     0.90791,     0.90891,     0.90991,     0.91091,     0.91191,\n",
      "           0.91291,     0.91391,     0.91491,     0.91592,     0.91692,     0.91792,     0.91892,     0.91992,     0.92092,     0.92192,     0.92292,     0.92392,     0.92492,     0.92593,     0.92693,     0.92793,     0.92893,     0.92993,     0.93093,     0.93193,     0.93293,     0.93393,     0.93493,     0.93594,\n",
      "           0.93694,     0.93794,     0.93894,     0.93994,     0.94094,     0.94194,     0.94294,     0.94394,     0.94494,     0.94595,     0.94695,     0.94795,     0.94895,     0.94995,     0.95095,     0.95195,     0.95295,     0.95395,     0.95495,     0.95596,     0.95696,     0.95796,     0.95896,     0.95996,\n",
      "           0.96096,     0.96196,     0.96296,     0.96396,     0.96496,     0.96597,     0.96697,     0.96797,     0.96897,     0.96997,     0.97097,     0.97197,     0.97297,     0.97397,     0.97497,     0.97598,     0.97698,     0.97798,     0.97898,     0.97998,     0.98098,     0.98198,     0.98298,     0.98398,\n",
      "           0.98498,     0.98599,     0.98699,     0.98799,     0.98899,     0.98999,     0.99099,     0.99199,     0.99299,     0.99399,     0.99499,       0.996,       0.997,       0.998,       0.999,           1]), array([[          1,           1,           1,           1,           1,           1,           1,           1,           1,           1,           1,           1,           1,           1,           1,           1,           1,           1,           1,           1,           1,           1,           1,\n",
      "                  1,           1,           1,           1,           1,           1,           1,           1,           1,           1,           1,           1,           1,           1,           1,           1,           1,           1,           1,           1,           1,           1,           1,\n",
      "                  1,           1,           1,           1,           1,           1,           1,           1,           1,           1,           1,           1,           1,           1,           1,           1,           1,           1,           1,           1,           1,           1,           1,\n",
      "                  1,           1,           1,           1,           1,           1,           1,           1,           1,           1,           1,           1,           1,           1,           1,           1,           1,           1,           1,           1,           1,           1,           1,\n",
      "                  1,           1,           1,           1,           1,           1,           1,           1,           1,           1,           1,           1,           1,           1,           1,           1,           1,           1,           1,           1,           1,           1,           1,\n",
      "                  1,           1,           1,           1,           1,           1,           1,           1,           1,           1,           1,           1,           1,           1,           1,           1,           1,           1,           1,           1,           1,           1,           1,\n",
      "                  1,           1,           1,           1,           1,           1,           1,           1,           1,           1,           1,           1,           1,           1,           1,           1,           1,           1,           1,           1,           1,           1,           1,\n",
      "                  1,           1,           1,           1,           1,           1,           1,           1,           1,           1,           1,           1,           1,           1,           1,           1,           1,           1,           1,           1,           1,           1,           1,\n",
      "                  1,           1,           1,           1,           1,           1,           1,           1,           1,           1,           1,           1,           1,           1,           1,           1,           1,           1,           1,           1,           1,           1,           1,\n",
      "                  1,           1,           1,           1,           1,           1,           1,           1,           1,           1,           1,           1,           1,           1,           1,           1,           1,           1,           1,           1,           1,           1,           1,\n",
      "                  1,           1,           1,           1,           1,           1,           1,           1,           1,           1,           1,           1,     0.97872,     0.97872,     0.97872,     0.97872,     0.97872,     0.97872,     0.97872,     0.97872,     0.97872,     0.97872,     0.97872,\n",
      "            0.97872,     0.97872,     0.97872,     0.97872,     0.97872,     0.97872,     0.97872,     0.97872,     0.97872,     0.97872,     0.97872,     0.97872,     0.96078,     0.96078,     0.96078,     0.96078,     0.96078,     0.96078,     0.96078,     0.96078,     0.96078,     0.96078,     0.96078,\n",
      "            0.96078,     0.96078,     0.96078,     0.96078,     0.96078,     0.96078,     0.94545,     0.94545,     0.94545,     0.94545,     0.94545,     0.94545,     0.94545,     0.94545,     0.94545,     0.94545,     0.94545,     0.94545,     0.94545,     0.94545,     0.94545,     0.94545,     0.94545,\n",
      "             0.9322,      0.9322,      0.9322,      0.9322,      0.9322,      0.9322,      0.9322,      0.9322,      0.9322,      0.9322,      0.9322,      0.9322,      0.9322,      0.9322,      0.9322,      0.9322,      0.9322,     0.92424,     0.92424,     0.92424,     0.92424,     0.92424,     0.92424,\n",
      "            0.92424,     0.92424,     0.92424,     0.92424,     0.92424,     0.92424,     0.92424,     0.92424,     0.92424,     0.92424,     0.92424,     0.92424,     0.92424,     0.92424,     0.92424,     0.92424,     0.92424,     0.92424,     0.92424,     0.92424,     0.92424,     0.92424,     0.92424,\n",
      "            0.92424,     0.92424,     0.92424,     0.92424,     0.92424,     0.92424,     0.91781,     0.91781,     0.91781,     0.91781,     0.91781,     0.91781,     0.91781,     0.91781,     0.91781,     0.91781,     0.91781,     0.91781,     0.91781,     0.91781,     0.91781,     0.91781,     0.91781,\n",
      "            0.91781,     0.91781,     0.91781,     0.91781,     0.91781,     0.91781,     0.91781,     0.91781,     0.91781,     0.91781,     0.91781,     0.91781,     0.91781,     0.91781,     0.91781,     0.91781,     0.91781,     0.91765,     0.91765,     0.91765,     0.91765,     0.91765,     0.91765,\n",
      "            0.91765,     0.91765,     0.91765,     0.91765,     0.91765,     0.91765,     0.91765,     0.91765,     0.91765,     0.91765,     0.91765,     0.91765,     0.91765,     0.91765,     0.91765,     0.91765,     0.91765,     0.91765,     0.91765,     0.91765,     0.91765,     0.91765,     0.91765,\n",
      "            0.91765,     0.91765,     0.91765,     0.91765,     0.91765,     0.91765,     0.91765,     0.91765,     0.91765,     0.91765,     0.91765,     0.91765,     0.91765,     0.91765,     0.91765,     0.91765,     0.91765,     0.91765,     0.91765,     0.91765,     0.91765,     0.91765,     0.91765,\n",
      "            0.91765,     0.91765,     0.91765,     0.91765,     0.91765,     0.91765,     0.91765,     0.91765,     0.91765,     0.91765,     0.91765,     0.91304,     0.91304,     0.91304,     0.91304,     0.91304,     0.91304,     0.91304,     0.91304,     0.91304,     0.91304,     0.91304,     0.91304,\n",
      "            0.91304,     0.91304,     0.91304,     0.91304,     0.91304,     0.91304,     0.91304,     0.91304,     0.91304,     0.91304,     0.91304,     0.91304,     0.91304,     0.91304,     0.91304,     0.91304,     0.91304,     0.91304,     0.91304,     0.91304,     0.91304,     0.91304,     0.91304,\n",
      "            0.90526,     0.90526,     0.90526,     0.90526,     0.90526,     0.90526,     0.90526,     0.90526,     0.90526,     0.90526,     0.90526,     0.89899,     0.89899,     0.89899,     0.89899,     0.89899,     0.89899,     0.89899,     0.89899,     0.89899,     0.89899,     0.89899,     0.89899,\n",
      "            0.89899,     0.89899,     0.89899,     0.89899,     0.89899,     0.87619,     0.87619,     0.87619,     0.87619,     0.87619,     0.87619,     0.87619,     0.87619,     0.87619,     0.87619,     0.87619,     0.87619,     0.87619,     0.87619,     0.87619,     0.87619,     0.87619,     0.87619,\n",
      "            0.87037,     0.87037,     0.87037,     0.87037,     0.87037,     0.87037,     0.87037,     0.87037,     0.87037,     0.87037,     0.87037,     0.86607,     0.86607,     0.86607,     0.86607,     0.86607,     0.86607,     0.86607,     0.86607,     0.86607,     0.86607,     0.86607,     0.86607,\n",
      "            0.86607,     0.86607,     0.86607,     0.86607,     0.86607,     0.85965,     0.85965,     0.85965,     0.85965,     0.85965,     0.85965,     0.84426,     0.84426,     0.84426,     0.84426,     0.84426,     0.84426,     0.84426,     0.84426,     0.84426,     0.84426,     0.84426,     0.84426,\n",
      "            0.84426,     0.84426,     0.84426,     0.84426,     0.84426,     0.84426,     0.84426,     0.84426,     0.84426,     0.84426,     0.84426,     0.84426,     0.84426,     0.84426,     0.84426,     0.84426,     0.84426,        0.84,        0.84,        0.84,        0.84,        0.84,        0.84,\n",
      "               0.84,        0.84,        0.84,        0.84,        0.84,     0.81538,     0.81538,     0.81538,     0.81538,     0.81538,     0.81538,     0.80597,     0.80597,     0.80597,     0.80597,     0.80597,     0.80597,     0.80597,     0.80597,     0.80597,     0.80597,     0.80597,     0.80597,\n",
      "            0.80576,     0.80576,     0.80576,     0.80576,     0.80576,     0.80576,     0.80576,     0.80576,     0.80576,     0.80576,     0.80576,     0.80576,     0.80576,     0.80576,     0.80576,     0.80576,     0.80576,     0.80576,     0.80576,     0.80576,     0.80576,     0.80576,     0.80576,\n",
      "            0.79577,     0.79577,     0.79577,     0.79577,     0.79577,     0.77027,     0.77027,     0.77027,     0.77027,     0.77027,     0.77027,     0.71875,     0.71875,     0.71875,     0.71875,     0.71875,     0.71875,     0.71605,     0.71605,     0.71605,     0.71605,     0.71605,     0.69412,\n",
      "            0.69412,     0.69412,     0.69412,     0.69412,     0.69412,     0.69412,     0.69412,     0.69412,     0.69412,     0.69412,     0.69412,     0.68391,     0.68391,     0.68391,     0.68391,     0.68391,     0.68391,     0.68182,     0.68182,     0.68182,     0.68182,     0.68182,     0.67978,\n",
      "            0.67978,     0.67978,     0.67978,     0.67978,     0.67978,     0.66486,     0.66486,     0.66486,     0.66486,     0.66486,     0.66486,     0.66486,     0.66486,     0.66486,     0.66486,     0.66486,     0.66486,     0.58216,     0.58216,     0.58216,     0.58216,     0.58216,     0.50813,\n",
      "            0.50813,     0.50813,     0.50813,     0.50813,     0.50813,     0.45652,     0.45652,     0.45652,     0.45652,     0.45652,     0.45652,     0.42053,     0.42053,     0.42053,     0.42053,     0.42053,     0.42053,     0.36571,     0.36571,     0.36571,     0.36571,     0.36571,     0.35246,\n",
      "            0.35246,     0.35246,     0.35246,     0.35246,     0.35246,     0.30806,     0.30806,     0.30806,     0.30806,     0.30806,     0.30806,     0.28051,     0.28051,     0.28051,     0.28051,     0.28051,     0.28051,     0.22997,     0.22997,     0.22997,     0.22997,     0.22997,     0.22931,\n",
      "            0.22931,     0.22931,     0.22931,     0.22931,     0.22931,     0.22259,     0.22259,     0.22259,     0.22259,     0.22259,     0.22259,     0.20362,     0.20362,     0.20362,     0.20362,     0.20362,     0.20362,     0.19883,     0.19883,     0.19883,     0.19883,     0.19883,     0.13824,\n",
      "            0.13824,     0.13824,     0.13824,     0.13824,     0.13824,     0.11706,      0.1165,     0.11595,      0.1154,     0.11485,      0.1143,     0.11374,     0.11319,     0.11264,     0.11209,     0.11153,     0.11098,     0.11043,     0.10988,     0.10933,     0.10877,     0.10822,     0.10767,\n",
      "            0.10712,     0.10657,     0.10601,     0.10546,     0.10491,     0.10436,      0.1038,     0.10325,      0.1027,     0.10215,      0.1016,     0.10104,     0.10049,     0.09994,    0.099388,    0.098835,    0.098283,    0.097731,    0.097179,    0.096627,    0.096075,    0.095523,     0.09497,\n",
      "           0.094418,    0.093866,    0.093314,    0.092762,     0.09221,    0.091657,    0.091105,    0.090553,    0.090001,    0.089449,    0.088897,    0.088345,    0.087792,     0.08724,    0.086688,    0.086136,    0.085584,    0.085032,    0.084479,    0.083927,    0.083375,    0.082823,    0.082271,\n",
      "           0.081719,    0.081167,    0.080614,    0.080062,     0.07951,    0.078958,    0.078406,    0.077854,    0.077301,    0.076749,    0.076197,    0.075645,    0.075093,    0.074541,    0.073989,    0.073436,    0.072884,    0.072332,     0.07178,    0.071228,    0.070676,    0.070123,    0.069571,\n",
      "           0.069019,    0.068467,    0.067915,    0.067363,    0.066811,    0.066258,    0.065706,    0.065154,    0.064602,     0.06405,    0.063498,    0.062945,    0.062393,    0.061841,    0.061289,    0.060737,    0.060185,    0.059633,     0.05908,    0.058528,    0.057976,    0.057424,    0.056872,\n",
      "            0.05632,    0.055767,    0.055215,    0.054663,    0.054111,    0.053559,    0.053007,    0.052455,    0.051902,     0.05135,    0.050798,    0.050246,    0.049694,    0.049142,     0.04859,    0.048037,    0.047485,    0.046933,    0.046381,    0.045829,    0.045277,    0.044724,    0.044172,\n",
      "            0.04362,    0.043068,    0.042516,    0.041964,    0.041412,    0.040859,    0.040307,    0.039755,    0.039203,    0.038651,    0.038099,    0.037546,    0.036994,    0.036442,     0.03589,    0.035338,    0.034786,    0.034234,    0.033681,    0.033129,    0.032577,    0.032025,    0.031473,\n",
      "           0.030921,    0.030368,    0.029816,    0.029264,    0.028712,     0.02816,    0.027608,    0.027056,    0.026503,    0.025951,    0.025399,    0.024847,    0.024295,    0.023743,     0.02319,    0.022638,    0.022086,    0.021534,    0.020982,     0.02043,    0.019878,    0.019325,    0.018773,\n",
      "           0.018221,    0.017669,    0.017117,    0.016565,    0.016012,     0.01546,    0.014908,    0.014356,    0.013804,    0.013252,      0.0127,    0.012147,    0.011595,    0.011043,    0.010491,   0.0099388,   0.0093866,   0.0088345,   0.0082823,   0.0077301,    0.007178,   0.0066258,   0.0060737,\n",
      "          0.0055215,   0.0049694,   0.0044172,   0.0038651,   0.0033129,   0.0027608,   0.0022086,   0.0016565,   0.0011043,  0.00055215,           0]]), 'Recall', 'Precision'], [array([          0,    0.001001,    0.002002,    0.003003,    0.004004,    0.005005,    0.006006,    0.007007,    0.008008,    0.009009,     0.01001,    0.011011,    0.012012,    0.013013,    0.014014,    0.015015,    0.016016,    0.017017,    0.018018,    0.019019,     0.02002,    0.021021,    0.022022,    0.023023,\n",
      "          0.024024,    0.025025,    0.026026,    0.027027,    0.028028,    0.029029,     0.03003,    0.031031,    0.032032,    0.033033,    0.034034,    0.035035,    0.036036,    0.037037,    0.038038,    0.039039,     0.04004,    0.041041,    0.042042,    0.043043,    0.044044,    0.045045,    0.046046,    0.047047,\n",
      "          0.048048,    0.049049,     0.05005,    0.051051,    0.052052,    0.053053,    0.054054,    0.055055,    0.056056,    0.057057,    0.058058,    0.059059,     0.06006,    0.061061,    0.062062,    0.063063,    0.064064,    0.065065,    0.066066,    0.067067,    0.068068,    0.069069,     0.07007,    0.071071,\n",
      "          0.072072,    0.073073,    0.074074,    0.075075,    0.076076,    0.077077,    0.078078,    0.079079,     0.08008,    0.081081,    0.082082,    0.083083,    0.084084,    0.085085,    0.086086,    0.087087,    0.088088,    0.089089,     0.09009,    0.091091,    0.092092,    0.093093,    0.094094,    0.095095,\n",
      "          0.096096,    0.097097,    0.098098,    0.099099,      0.1001,      0.1011,      0.1021,      0.1031,      0.1041,     0.10511,     0.10611,     0.10711,     0.10811,     0.10911,     0.11011,     0.11111,     0.11211,     0.11311,     0.11411,     0.11512,     0.11612,     0.11712,     0.11812,     0.11912,\n",
      "           0.12012,     0.12112,     0.12212,     0.12312,     0.12412,     0.12513,     0.12613,     0.12713,     0.12813,     0.12913,     0.13013,     0.13113,     0.13213,     0.13313,     0.13413,     0.13514,     0.13614,     0.13714,     0.13814,     0.13914,     0.14014,     0.14114,     0.14214,     0.14314,\n",
      "           0.14414,     0.14515,     0.14615,     0.14715,     0.14815,     0.14915,     0.15015,     0.15115,     0.15215,     0.15315,     0.15415,     0.15516,     0.15616,     0.15716,     0.15816,     0.15916,     0.16016,     0.16116,     0.16216,     0.16316,     0.16416,     0.16517,     0.16617,     0.16717,\n",
      "           0.16817,     0.16917,     0.17017,     0.17117,     0.17217,     0.17317,     0.17417,     0.17518,     0.17618,     0.17718,     0.17818,     0.17918,     0.18018,     0.18118,     0.18218,     0.18318,     0.18418,     0.18519,     0.18619,     0.18719,     0.18819,     0.18919,     0.19019,     0.19119,\n",
      "           0.19219,     0.19319,     0.19419,      0.1952,      0.1962,      0.1972,      0.1982,      0.1992,      0.2002,      0.2012,      0.2022,      0.2032,      0.2042,     0.20521,     0.20621,     0.20721,     0.20821,     0.20921,     0.21021,     0.21121,     0.21221,     0.21321,     0.21421,     0.21522,\n",
      "           0.21622,     0.21722,     0.21822,     0.21922,     0.22022,     0.22122,     0.22222,     0.22322,     0.22422,     0.22523,     0.22623,     0.22723,     0.22823,     0.22923,     0.23023,     0.23123,     0.23223,     0.23323,     0.23423,     0.23524,     0.23624,     0.23724,     0.23824,     0.23924,\n",
      "           0.24024,     0.24124,     0.24224,     0.24324,     0.24424,     0.24525,     0.24625,     0.24725,     0.24825,     0.24925,     0.25025,     0.25125,     0.25225,     0.25325,     0.25425,     0.25526,     0.25626,     0.25726,     0.25826,     0.25926,     0.26026,     0.26126,     0.26226,     0.26326,\n",
      "           0.26426,     0.26527,     0.26627,     0.26727,     0.26827,     0.26927,     0.27027,     0.27127,     0.27227,     0.27327,     0.27427,     0.27528,     0.27628,     0.27728,     0.27828,     0.27928,     0.28028,     0.28128,     0.28228,     0.28328,     0.28428,     0.28529,     0.28629,     0.28729,\n",
      "           0.28829,     0.28929,     0.29029,     0.29129,     0.29229,     0.29329,     0.29429,      0.2953,      0.2963,      0.2973,      0.2983,      0.2993,      0.3003,      0.3013,      0.3023,      0.3033,      0.3043,     0.30531,     0.30631,     0.30731,     0.30831,     0.30931,     0.31031,     0.31131,\n",
      "           0.31231,     0.31331,     0.31431,     0.31532,     0.31632,     0.31732,     0.31832,     0.31932,     0.32032,     0.32132,     0.32232,     0.32332,     0.32432,     0.32533,     0.32633,     0.32733,     0.32833,     0.32933,     0.33033,     0.33133,     0.33233,     0.33333,     0.33433,     0.33534,\n",
      "           0.33634,     0.33734,     0.33834,     0.33934,     0.34034,     0.34134,     0.34234,     0.34334,     0.34434,     0.34535,     0.34635,     0.34735,     0.34835,     0.34935,     0.35035,     0.35135,     0.35235,     0.35335,     0.35435,     0.35536,     0.35636,     0.35736,     0.35836,     0.35936,\n",
      "           0.36036,     0.36136,     0.36236,     0.36336,     0.36436,     0.36537,     0.36637,     0.36737,     0.36837,     0.36937,     0.37037,     0.37137,     0.37237,     0.37337,     0.37437,     0.37538,     0.37638,     0.37738,     0.37838,     0.37938,     0.38038,     0.38138,     0.38238,     0.38338,\n",
      "           0.38438,     0.38539,     0.38639,     0.38739,     0.38839,     0.38939,     0.39039,     0.39139,     0.39239,     0.39339,     0.39439,      0.3954,      0.3964,      0.3974,      0.3984,      0.3994,      0.4004,      0.4014,      0.4024,      0.4034,      0.4044,     0.40541,     0.40641,     0.40741,\n",
      "           0.40841,     0.40941,     0.41041,     0.41141,     0.41241,     0.41341,     0.41441,     0.41542,     0.41642,     0.41742,     0.41842,     0.41942,     0.42042,     0.42142,     0.42242,     0.42342,     0.42442,     0.42543,     0.42643,     0.42743,     0.42843,     0.42943,     0.43043,     0.43143,\n",
      "           0.43243,     0.43343,     0.43443,     0.43544,     0.43644,     0.43744,     0.43844,     0.43944,     0.44044,     0.44144,     0.44244,     0.44344,     0.44444,     0.44545,     0.44645,     0.44745,     0.44845,     0.44945,     0.45045,     0.45145,     0.45245,     0.45345,     0.45445,     0.45546,\n",
      "           0.45646,     0.45746,     0.45846,     0.45946,     0.46046,     0.46146,     0.46246,     0.46346,     0.46446,     0.46547,     0.46647,     0.46747,     0.46847,     0.46947,     0.47047,     0.47147,     0.47247,     0.47347,     0.47447,     0.47548,     0.47648,     0.47748,     0.47848,     0.47948,\n",
      "           0.48048,     0.48148,     0.48248,     0.48348,     0.48448,     0.48549,     0.48649,     0.48749,     0.48849,     0.48949,     0.49049,     0.49149,     0.49249,     0.49349,     0.49449,      0.4955,      0.4965,      0.4975,      0.4985,      0.4995,      0.5005,      0.5015,      0.5025,      0.5035,\n",
      "            0.5045,     0.50551,     0.50651,     0.50751,     0.50851,     0.50951,     0.51051,     0.51151,     0.51251,     0.51351,     0.51451,     0.51552,     0.51652,     0.51752,     0.51852,     0.51952,     0.52052,     0.52152,     0.52252,     0.52352,     0.52452,     0.52553,     0.52653,     0.52753,\n",
      "           0.52853,     0.52953,     0.53053,     0.53153,     0.53253,     0.53353,     0.53453,     0.53554,     0.53654,     0.53754,     0.53854,     0.53954,     0.54054,     0.54154,     0.54254,     0.54354,     0.54454,     0.54555,     0.54655,     0.54755,     0.54855,     0.54955,     0.55055,     0.55155,\n",
      "           0.55255,     0.55355,     0.55455,     0.55556,     0.55656,     0.55756,     0.55856,     0.55956,     0.56056,     0.56156,     0.56256,     0.56356,     0.56456,     0.56557,     0.56657,     0.56757,     0.56857,     0.56957,     0.57057,     0.57157,     0.57257,     0.57357,     0.57457,     0.57558,\n",
      "           0.57658,     0.57758,     0.57858,     0.57958,     0.58058,     0.58158,     0.58258,     0.58358,     0.58458,     0.58559,     0.58659,     0.58759,     0.58859,     0.58959,     0.59059,     0.59159,     0.59259,     0.59359,     0.59459,      0.5956,      0.5966,      0.5976,      0.5986,      0.5996,\n",
      "            0.6006,      0.6016,      0.6026,      0.6036,      0.6046,     0.60561,     0.60661,     0.60761,     0.60861,     0.60961,     0.61061,     0.61161,     0.61261,     0.61361,     0.61461,     0.61562,     0.61662,     0.61762,     0.61862,     0.61962,     0.62062,     0.62162,     0.62262,     0.62362,\n",
      "           0.62462,     0.62563,     0.62663,     0.62763,     0.62863,     0.62963,     0.63063,     0.63163,     0.63263,     0.63363,     0.63463,     0.63564,     0.63664,     0.63764,     0.63864,     0.63964,     0.64064,     0.64164,     0.64264,     0.64364,     0.64464,     0.64565,     0.64665,     0.64765,\n",
      "           0.64865,     0.64965,     0.65065,     0.65165,     0.65265,     0.65365,     0.65465,     0.65566,     0.65666,     0.65766,     0.65866,     0.65966,     0.66066,     0.66166,     0.66266,     0.66366,     0.66466,     0.66567,     0.66667,     0.66767,     0.66867,     0.66967,     0.67067,     0.67167,\n",
      "           0.67267,     0.67367,     0.67467,     0.67568,     0.67668,     0.67768,     0.67868,     0.67968,     0.68068,     0.68168,     0.68268,     0.68368,     0.68468,     0.68569,     0.68669,     0.68769,     0.68869,     0.68969,     0.69069,     0.69169,     0.69269,     0.69369,     0.69469,      0.6957,\n",
      "            0.6967,      0.6977,      0.6987,      0.6997,      0.7007,      0.7017,      0.7027,      0.7037,      0.7047,     0.70571,     0.70671,     0.70771,     0.70871,     0.70971,     0.71071,     0.71171,     0.71271,     0.71371,     0.71471,     0.71572,     0.71672,     0.71772,     0.71872,     0.71972,\n",
      "           0.72072,     0.72172,     0.72272,     0.72372,     0.72472,     0.72573,     0.72673,     0.72773,     0.72873,     0.72973,     0.73073,     0.73173,     0.73273,     0.73373,     0.73473,     0.73574,     0.73674,     0.73774,     0.73874,     0.73974,     0.74074,     0.74174,     0.74274,     0.74374,\n",
      "           0.74474,     0.74575,     0.74675,     0.74775,     0.74875,     0.74975,     0.75075,     0.75175,     0.75275,     0.75375,     0.75475,     0.75576,     0.75676,     0.75776,     0.75876,     0.75976,     0.76076,     0.76176,     0.76276,     0.76376,     0.76476,     0.76577,     0.76677,     0.76777,\n",
      "           0.76877,     0.76977,     0.77077,     0.77177,     0.77277,     0.77377,     0.77477,     0.77578,     0.77678,     0.77778,     0.77878,     0.77978,     0.78078,     0.78178,     0.78278,     0.78378,     0.78478,     0.78579,     0.78679,     0.78779,     0.78879,     0.78979,     0.79079,     0.79179,\n",
      "           0.79279,     0.79379,     0.79479,      0.7958,      0.7968,      0.7978,      0.7988,      0.7998,      0.8008,      0.8018,      0.8028,      0.8038,      0.8048,     0.80581,     0.80681,     0.80781,     0.80881,     0.80981,     0.81081,     0.81181,     0.81281,     0.81381,     0.81481,     0.81582,\n",
      "           0.81682,     0.81782,     0.81882,     0.81982,     0.82082,     0.82182,     0.82282,     0.82382,     0.82482,     0.82583,     0.82683,     0.82783,     0.82883,     0.82983,     0.83083,     0.83183,     0.83283,     0.83383,     0.83483,     0.83584,     0.83684,     0.83784,     0.83884,     0.83984,\n",
      "           0.84084,     0.84184,     0.84284,     0.84384,     0.84484,     0.84585,     0.84685,     0.84785,     0.84885,     0.84985,     0.85085,     0.85185,     0.85285,     0.85385,     0.85485,     0.85586,     0.85686,     0.85786,     0.85886,     0.85986,     0.86086,     0.86186,     0.86286,     0.86386,\n",
      "           0.86486,     0.86587,     0.86687,     0.86787,     0.86887,     0.86987,     0.87087,     0.87187,     0.87287,     0.87387,     0.87487,     0.87588,     0.87688,     0.87788,     0.87888,     0.87988,     0.88088,     0.88188,     0.88288,     0.88388,     0.88488,     0.88589,     0.88689,     0.88789,\n",
      "           0.88889,     0.88989,     0.89089,     0.89189,     0.89289,     0.89389,     0.89489,      0.8959,      0.8969,      0.8979,      0.8989,      0.8999,      0.9009,      0.9019,      0.9029,      0.9039,      0.9049,     0.90591,     0.90691,     0.90791,     0.90891,     0.90991,     0.91091,     0.91191,\n",
      "           0.91291,     0.91391,     0.91491,     0.91592,     0.91692,     0.91792,     0.91892,     0.91992,     0.92092,     0.92192,     0.92292,     0.92392,     0.92492,     0.92593,     0.92693,     0.92793,     0.92893,     0.92993,     0.93093,     0.93193,     0.93293,     0.93393,     0.93493,     0.93594,\n",
      "           0.93694,     0.93794,     0.93894,     0.93994,     0.94094,     0.94194,     0.94294,     0.94394,     0.94494,     0.94595,     0.94695,     0.94795,     0.94895,     0.94995,     0.95095,     0.95195,     0.95295,     0.95395,     0.95495,     0.95596,     0.95696,     0.95796,     0.95896,     0.95996,\n",
      "           0.96096,     0.96196,     0.96296,     0.96396,     0.96496,     0.96597,     0.96697,     0.96797,     0.96897,     0.96997,     0.97097,     0.97197,     0.97297,     0.97397,     0.97497,     0.97598,     0.97698,     0.97798,     0.97898,     0.97998,     0.98098,     0.98198,     0.98298,     0.98398,\n",
      "           0.98498,     0.98599,     0.98699,     0.98799,     0.98899,     0.98999,     0.99099,     0.99199,     0.99299,     0.99399,     0.99499,       0.996,       0.997,       0.998,       0.999,           1]), array([[    0.20417,     0.20417,     0.26929,     0.31218,     0.34355,      0.3729,     0.39423,     0.41466,     0.42608,     0.43573,     0.44781,     0.45697,     0.47299,     0.47908,     0.48494,     0.48631,     0.49506,      0.5016,     0.50718,     0.51168,     0.52061,     0.52922,     0.53338,\n",
      "             0.5383,     0.54611,     0.54805,     0.54895,      0.5527,      0.5577,     0.55981,      0.5616,     0.56581,     0.57298,     0.57915,     0.58399,     0.58717,     0.58814,     0.59216,     0.59527,     0.59978,     0.60644,     0.61038,     0.61368,     0.61699,     0.62096,     0.62452,\n",
      "            0.62721,     0.63201,     0.63606,     0.63705,     0.63821,     0.63933,     0.63993,     0.64052,     0.63753,     0.63827,     0.64064,     0.64133,     0.64202,     0.64263,     0.64319,     0.64374,     0.64799,      0.6495,      0.6502,     0.65084,     0.65116,     0.65148,     0.65179,\n",
      "            0.65211,     0.65242,     0.65462,     0.65574,     0.65638,     0.65686,     0.65735,     0.65783,     0.65829,     0.65875,      0.6592,     0.66023,     0.66224,     0.66673,      0.6675,     0.66826,     0.67112,     0.67283,     0.67453,      0.6753,     0.67606,      0.6768,     0.67754,\n",
      "            0.67809,      0.6786,     0.67911,     0.68007,     0.68238,     0.68361,     0.68451,     0.67974,     0.67909,     0.68069,     0.68214,     0.68318,     0.68605,     0.68708,     0.68396,     0.68454,     0.68511,     0.68569,     0.68355,     0.68231,     0.68351,     0.68307,     0.68181,\n",
      "            0.68054,     0.68244,     0.68299,     0.68355,     0.68464,     0.68241,     0.68155,     0.68086,     0.68017,     0.67948,     0.67878,     0.67942,     0.68063,     0.68106,     0.68148,     0.68191,     0.68233,     0.68258,     0.68282,     0.68306,      0.6833,     0.68354,     0.68378,\n",
      "            0.68402,     0.68426,     0.68491,      0.6859,     0.68678,     0.68754,      0.6883,     0.69011,     0.68961,      0.6891,      0.6886,      0.6881,     0.68759,     0.68709,     0.68658,     0.68746,     0.68839,     0.68498,     0.68569,     0.68639,     0.68782,     0.68937,     0.69038,\n",
      "            0.69241,     0.69339,     0.69386,     0.69433,     0.69479,     0.69553,     0.69688,     0.69889,     0.69992,     0.70061,      0.7013,     0.70377,     0.70409,     0.70442,     0.70474,     0.70506,     0.70539,     0.70571,     0.70677,     0.70712,     0.70412,     0.70569,     0.70658,\n",
      "            0.70708,     0.70757,     0.70807,     0.70859,     0.70921,     0.70983,     0.71045,     0.71168,       0.713,     0.71328,     0.71356,     0.71383,     0.71411,     0.71439,     0.71467,     0.71495,     0.71481,     0.71158,     0.71135,     0.71164,     0.71192,      0.7122,     0.71248,\n",
      "            0.71277,     0.71305,     0.71333,     0.71549,     0.71373,     0.71196,     0.71101,     0.71032,     0.70963,     0.70894,     0.70825,     0.70755,     0.70529,     0.70312,      0.7027,     0.70228,     0.70185,     0.70143,       0.701,     0.70058,     0.70015,     0.69973,      0.6993,\n",
      "            0.69914,     0.69945,     0.69977,     0.70008,     0.70039,      0.7007,     0.70102,     0.70125,      0.7007,     0.70016,     0.69961,     0.69906,     0.69851,     0.69796,     0.69742,     0.69648,     0.69487,     0.69326,     0.69375,     0.69505,     0.69554,     0.69601,     0.69648,\n",
      "            0.69695,     0.69723,     0.69592,     0.69461,      0.6933,     0.69342,     0.69386,     0.69429,     0.69472,     0.69515,     0.69555,     0.69593,     0.69631,     0.69669,     0.69706,     0.69744,     0.69784,     0.69829,     0.69873,     0.69918,     0.69962,     0.70005,     0.70036,\n",
      "            0.70068,       0.701,     0.70131,     0.70163,     0.70195,     0.70226,      0.7018,     0.70108,     0.70036,     0.69963,     0.69891,     0.69819,     0.69779,     0.69751,     0.69724,     0.69697,     0.69669,     0.69642,     0.69614,     0.69587,      0.6956,     0.69532,     0.69505,\n",
      "            0.69477,      0.6945,     0.69422,     0.69395,     0.69367,      0.6937,     0.69383,     0.69396,     0.69409,     0.69422,     0.69435,     0.69448,     0.69461,     0.69474,     0.69487,       0.695,     0.69513,     0.69526,     0.69539,     0.69552,     0.69565,     0.69578,     0.69591,\n",
      "            0.69539,      0.6946,     0.69382,     0.69304,     0.69226,     0.69151,     0.69122,     0.69093,     0.69065,     0.69036,     0.69008,     0.68979,      0.6895,     0.68922,     0.68893,     0.68864,     0.68835,     0.68807,     0.68778,     0.68749,     0.68721,      0.6865,     0.68543,\n",
      "            0.68437,      0.6833,     0.68212,     0.68072,     0.67932,     0.67774,     0.67475,     0.67362,     0.67376,      0.6739,     0.67404,     0.67418,     0.67431,     0.67445,     0.67459,     0.67473,     0.67487,       0.675,     0.67514,     0.67528,     0.67542,     0.67555,     0.67569,\n",
      "            0.67583,     0.67629,     0.67686,     0.67742,     0.67799,     0.67884,     0.67987,     0.67937,     0.67817,     0.67368,     0.67355,     0.67342,     0.67329,     0.67316,     0.67303,      0.6729,     0.67276,     0.67263,      0.6725,     0.67237,     0.67224,     0.67211,     0.67198,\n",
      "            0.67185,     0.67172,     0.67158,     0.67145,     0.67132,     0.67119,     0.67106,     0.67093,      0.6708,     0.67067,     0.67053,      0.6704,     0.67027,     0.67014,     0.67001,     0.66988,     0.66975,     0.66961,     0.66948,     0.66935,     0.66922,     0.66909,     0.66867,\n",
      "            0.66788,     0.66709,      0.6663,     0.66551,     0.66472,     0.66453,     0.66498,     0.66543,     0.66587,     0.66632,     0.66447,     0.66145,     0.66081,     0.66017,     0.65952,     0.65888,     0.65824,      0.6576,     0.65758,     0.65907,      0.6592,     0.65879,     0.65837,\n",
      "            0.65796,     0.65754,     0.65713,     0.65671,     0.65629,     0.65588,     0.65546,     0.65504,     0.65452,     0.65323,     0.65194,     0.65064,     0.64748,      0.6473,     0.64744,     0.64758,     0.64772,     0.64786,       0.648,     0.64814,     0.64828,     0.64842,     0.64856,\n",
      "             0.6487,     0.64884,     0.64897,     0.64911,     0.64925,     0.64939,     0.64953,     0.64969,     0.64994,     0.65018,     0.65043,     0.65067,     0.65092,     0.65116,     0.65141,     0.65165,      0.6519,     0.65183,     0.65146,      0.6511,     0.65073,     0.65037,        0.65,\n",
      "            0.64964,     0.64927,     0.64891,     0.64854,     0.64818,     0.64781,     0.64744,     0.64708,     0.64691,     0.64676,      0.6466,     0.64645,     0.64629,     0.64613,     0.64598,     0.64582,     0.64567,     0.64551,     0.64536,      0.6452,     0.64505,     0.64489,     0.64474,\n",
      "            0.64458,     0.64442,     0.64427,     0.64411,     0.64396,      0.6438,     0.64365,     0.64349,     0.64333,     0.64318,     0.64302,     0.64287,     0.64271,     0.64255,      0.6424,     0.64224,     0.64209,     0.64098,     0.63973,     0.63848,     0.63723,     0.63838,     0.63934,\n",
      "            0.63915,     0.63896,     0.63877,     0.63858,     0.63839,      0.6382,     0.63801,     0.63782,     0.63762,     0.63743,     0.63724,     0.63705,     0.63686,     0.63667,     0.63648,     0.63629,      0.6361,     0.63591,     0.63572,     0.63553,     0.63533,     0.63514,     0.63495,\n",
      "            0.63476,     0.63457,     0.63438,     0.63384,     0.63318,     0.63252,     0.63185,     0.63119,     0.63053,     0.62986,     0.62956,     0.63016,     0.62854,     0.62693,     0.62584,     0.62499,     0.62414,     0.62329,     0.62244,     0.62159,       0.621,     0.62061,     0.62022,\n",
      "            0.61984,     0.61945,     0.61906,     0.61867,     0.61828,     0.61789,     0.61751,     0.61712,     0.61673,     0.61634,     0.61587,     0.61391,     0.61195,     0.60689,     0.60462,     0.60375,     0.60288,       0.602,     0.60113,     0.60025,      0.6006,     0.60145,     0.60229,\n",
      "            0.60003,     0.59764,     0.59629,      0.5954,     0.59451,     0.59362,     0.59273,     0.59184,     0.59093,        0.59,     0.58907,     0.58813,      0.5872,     0.58627,     0.58296,     0.58014,     0.57959,     0.57903,     0.57847,     0.57792,     0.57736,      0.5768,     0.57624,\n",
      "            0.57568,     0.57512,     0.57336,     0.57004,     0.56773,     0.56577,     0.56381,     0.55161,     0.54948,     0.54733,     0.54478,     0.54173,     0.54053,     0.54092,     0.54131,      0.5417,     0.54209,     0.54247,     0.54127,      0.5399,     0.53853,     0.53715,     0.53633,\n",
      "            0.53589,     0.53545,     0.53501,     0.53457,     0.53413,     0.53369,     0.53325,     0.53281,     0.53237,     0.53192,     0.53148,     0.53104,     0.53057,     0.52914,     0.52771,     0.52627,     0.52483,     0.50623,     0.50658,     0.50692,     0.50727,     0.50761,     0.50795,\n",
      "            0.50829,     0.50596,     0.50325,      0.5015,     0.50046,     0.49941,     0.49837,     0.49733,     0.49628,     0.49017,     0.48616,      0.4819,     0.47578,     0.47392,     0.47205,     0.47018,     0.47083,     0.46901,     0.46719,     0.46364,      0.4582,     0.45734,     0.45648,\n",
      "            0.45562,     0.45476,      0.4539,     0.45304,     0.45217,     0.45309,     0.45399,     0.45136,     0.44796,     0.44047,     0.43369,     0.43391,     0.43413,     0.43435,     0.43456,     0.43478,     0.43499,     0.43521,     0.43542,     0.43455,     0.43177,     0.42897,     0.42642,\n",
      "            0.42391,     0.42127,     0.41667,     0.41551,     0.41275,     0.40998,      0.4061,     0.40175,     0.39932,     0.39689,     0.39445,     0.39224,     0.39002,      0.3878,     0.38747,     0.38801,     0.38854,     0.38658,     0.38059,     0.37713,     0.37339,     0.36242,     0.35386,\n",
      "            0.34645,     0.33481,      0.3261,     0.32463,     0.32317,      0.3217,     0.32023,     0.31815,     0.30847,     0.30257,     0.29722,     0.29263,     0.28911,     0.28555,     0.28165,     0.27773,     0.27377,     0.26978,     0.24842,     0.23457,     0.22738,     0.20484,     0.19546,\n",
      "             0.1895,     0.17715,     0.17464,     0.17212,      0.1696,      0.1673,      0.1652,     0.16309,     0.16098,     0.15887,     0.15692,     0.15498,     0.15303,     0.15109,     0.14913,      0.1261,     0.12104,     0.11397,    0.097734,    0.094351,    0.090955,    0.087729,    0.086008,\n",
      "           0.084284,    0.082556,    0.080826,    0.079093,    0.077356,    0.074814,    0.072261,    0.069701,    0.067135,    0.063782,    0.060244,    0.056693,    0.047331,    0.042259,    0.038833,    0.035396,    0.030694,    0.025001,    0.019959,    0.015345,           0,           0,           0,\n",
      "                  0,           0,           0,           0,           0,           0,           0,           0,           0,           0,           0,           0,           0,           0,           0,           0,           0,           0,           0,           0,           0,           0,           0,\n",
      "                  0,           0,           0,           0,           0,           0,           0,           0,           0,           0,           0,           0,           0,           0,           0,           0,           0,           0,           0,           0,           0,           0,           0,\n",
      "                  0,           0,           0,           0,           0,           0,           0,           0,           0,           0,           0,           0,           0,           0,           0,           0,           0,           0,           0,           0,           0,           0,           0,\n",
      "                  0,           0,           0,           0,           0,           0,           0,           0,           0,           0,           0,           0,           0,           0,           0,           0,           0,           0,           0,           0,           0,           0,           0,\n",
      "                  0,           0,           0,           0,           0,           0,           0,           0,           0,           0,           0,           0,           0,           0,           0,           0,           0,           0,           0,           0,           0,           0,           0,\n",
      "                  0,           0,           0,           0,           0,           0,           0,           0,           0,           0,           0,           0,           0,           0,           0,           0,           0,           0,           0,           0,           0,           0,           0,\n",
      "                  0,           0,           0,           0,           0,           0,           0,           0,           0,           0,           0,           0,           0,           0,           0,           0,           0,           0,           0,           0,           0,           0,           0,\n",
      "                  0,           0,           0,           0,           0,           0,           0,           0,           0,           0,           0,           0,           0,           0,           0,           0,           0,           0,           0,           0,           0,           0,           0,\n",
      "                  0,           0,           0,           0,           0,           0,           0,           0,           0,           0,           0]]), 'Confidence', 'F1'], [array([          0,    0.001001,    0.002002,    0.003003,    0.004004,    0.005005,    0.006006,    0.007007,    0.008008,    0.009009,     0.01001,    0.011011,    0.012012,    0.013013,    0.014014,    0.015015,    0.016016,    0.017017,    0.018018,    0.019019,     0.02002,    0.021021,    0.022022,    0.023023,\n",
      "          0.024024,    0.025025,    0.026026,    0.027027,    0.028028,    0.029029,     0.03003,    0.031031,    0.032032,    0.033033,    0.034034,    0.035035,    0.036036,    0.037037,    0.038038,    0.039039,     0.04004,    0.041041,    0.042042,    0.043043,    0.044044,    0.045045,    0.046046,    0.047047,\n",
      "          0.048048,    0.049049,     0.05005,    0.051051,    0.052052,    0.053053,    0.054054,    0.055055,    0.056056,    0.057057,    0.058058,    0.059059,     0.06006,    0.061061,    0.062062,    0.063063,    0.064064,    0.065065,    0.066066,    0.067067,    0.068068,    0.069069,     0.07007,    0.071071,\n",
      "          0.072072,    0.073073,    0.074074,    0.075075,    0.076076,    0.077077,    0.078078,    0.079079,     0.08008,    0.081081,    0.082082,    0.083083,    0.084084,    0.085085,    0.086086,    0.087087,    0.088088,    0.089089,     0.09009,    0.091091,    0.092092,    0.093093,    0.094094,    0.095095,\n",
      "          0.096096,    0.097097,    0.098098,    0.099099,      0.1001,      0.1011,      0.1021,      0.1031,      0.1041,     0.10511,     0.10611,     0.10711,     0.10811,     0.10911,     0.11011,     0.11111,     0.11211,     0.11311,     0.11411,     0.11512,     0.11612,     0.11712,     0.11812,     0.11912,\n",
      "           0.12012,     0.12112,     0.12212,     0.12312,     0.12412,     0.12513,     0.12613,     0.12713,     0.12813,     0.12913,     0.13013,     0.13113,     0.13213,     0.13313,     0.13413,     0.13514,     0.13614,     0.13714,     0.13814,     0.13914,     0.14014,     0.14114,     0.14214,     0.14314,\n",
      "           0.14414,     0.14515,     0.14615,     0.14715,     0.14815,     0.14915,     0.15015,     0.15115,     0.15215,     0.15315,     0.15415,     0.15516,     0.15616,     0.15716,     0.15816,     0.15916,     0.16016,     0.16116,     0.16216,     0.16316,     0.16416,     0.16517,     0.16617,     0.16717,\n",
      "           0.16817,     0.16917,     0.17017,     0.17117,     0.17217,     0.17317,     0.17417,     0.17518,     0.17618,     0.17718,     0.17818,     0.17918,     0.18018,     0.18118,     0.18218,     0.18318,     0.18418,     0.18519,     0.18619,     0.18719,     0.18819,     0.18919,     0.19019,     0.19119,\n",
      "           0.19219,     0.19319,     0.19419,      0.1952,      0.1962,      0.1972,      0.1982,      0.1992,      0.2002,      0.2012,      0.2022,      0.2032,      0.2042,     0.20521,     0.20621,     0.20721,     0.20821,     0.20921,     0.21021,     0.21121,     0.21221,     0.21321,     0.21421,     0.21522,\n",
      "           0.21622,     0.21722,     0.21822,     0.21922,     0.22022,     0.22122,     0.22222,     0.22322,     0.22422,     0.22523,     0.22623,     0.22723,     0.22823,     0.22923,     0.23023,     0.23123,     0.23223,     0.23323,     0.23423,     0.23524,     0.23624,     0.23724,     0.23824,     0.23924,\n",
      "           0.24024,     0.24124,     0.24224,     0.24324,     0.24424,     0.24525,     0.24625,     0.24725,     0.24825,     0.24925,     0.25025,     0.25125,     0.25225,     0.25325,     0.25425,     0.25526,     0.25626,     0.25726,     0.25826,     0.25926,     0.26026,     0.26126,     0.26226,     0.26326,\n",
      "           0.26426,     0.26527,     0.26627,     0.26727,     0.26827,     0.26927,     0.27027,     0.27127,     0.27227,     0.27327,     0.27427,     0.27528,     0.27628,     0.27728,     0.27828,     0.27928,     0.28028,     0.28128,     0.28228,     0.28328,     0.28428,     0.28529,     0.28629,     0.28729,\n",
      "           0.28829,     0.28929,     0.29029,     0.29129,     0.29229,     0.29329,     0.29429,      0.2953,      0.2963,      0.2973,      0.2983,      0.2993,      0.3003,      0.3013,      0.3023,      0.3033,      0.3043,     0.30531,     0.30631,     0.30731,     0.30831,     0.30931,     0.31031,     0.31131,\n",
      "           0.31231,     0.31331,     0.31431,     0.31532,     0.31632,     0.31732,     0.31832,     0.31932,     0.32032,     0.32132,     0.32232,     0.32332,     0.32432,     0.32533,     0.32633,     0.32733,     0.32833,     0.32933,     0.33033,     0.33133,     0.33233,     0.33333,     0.33433,     0.33534,\n",
      "           0.33634,     0.33734,     0.33834,     0.33934,     0.34034,     0.34134,     0.34234,     0.34334,     0.34434,     0.34535,     0.34635,     0.34735,     0.34835,     0.34935,     0.35035,     0.35135,     0.35235,     0.35335,     0.35435,     0.35536,     0.35636,     0.35736,     0.35836,     0.35936,\n",
      "           0.36036,     0.36136,     0.36236,     0.36336,     0.36436,     0.36537,     0.36637,     0.36737,     0.36837,     0.36937,     0.37037,     0.37137,     0.37237,     0.37337,     0.37437,     0.37538,     0.37638,     0.37738,     0.37838,     0.37938,     0.38038,     0.38138,     0.38238,     0.38338,\n",
      "           0.38438,     0.38539,     0.38639,     0.38739,     0.38839,     0.38939,     0.39039,     0.39139,     0.39239,     0.39339,     0.39439,      0.3954,      0.3964,      0.3974,      0.3984,      0.3994,      0.4004,      0.4014,      0.4024,      0.4034,      0.4044,     0.40541,     0.40641,     0.40741,\n",
      "           0.40841,     0.40941,     0.41041,     0.41141,     0.41241,     0.41341,     0.41441,     0.41542,     0.41642,     0.41742,     0.41842,     0.41942,     0.42042,     0.42142,     0.42242,     0.42342,     0.42442,     0.42543,     0.42643,     0.42743,     0.42843,     0.42943,     0.43043,     0.43143,\n",
      "           0.43243,     0.43343,     0.43443,     0.43544,     0.43644,     0.43744,     0.43844,     0.43944,     0.44044,     0.44144,     0.44244,     0.44344,     0.44444,     0.44545,     0.44645,     0.44745,     0.44845,     0.44945,     0.45045,     0.45145,     0.45245,     0.45345,     0.45445,     0.45546,\n",
      "           0.45646,     0.45746,     0.45846,     0.45946,     0.46046,     0.46146,     0.46246,     0.46346,     0.46446,     0.46547,     0.46647,     0.46747,     0.46847,     0.46947,     0.47047,     0.47147,     0.47247,     0.47347,     0.47447,     0.47548,     0.47648,     0.47748,     0.47848,     0.47948,\n",
      "           0.48048,     0.48148,     0.48248,     0.48348,     0.48448,     0.48549,     0.48649,     0.48749,     0.48849,     0.48949,     0.49049,     0.49149,     0.49249,     0.49349,     0.49449,      0.4955,      0.4965,      0.4975,      0.4985,      0.4995,      0.5005,      0.5015,      0.5025,      0.5035,\n",
      "            0.5045,     0.50551,     0.50651,     0.50751,     0.50851,     0.50951,     0.51051,     0.51151,     0.51251,     0.51351,     0.51451,     0.51552,     0.51652,     0.51752,     0.51852,     0.51952,     0.52052,     0.52152,     0.52252,     0.52352,     0.52452,     0.52553,     0.52653,     0.52753,\n",
      "           0.52853,     0.52953,     0.53053,     0.53153,     0.53253,     0.53353,     0.53453,     0.53554,     0.53654,     0.53754,     0.53854,     0.53954,     0.54054,     0.54154,     0.54254,     0.54354,     0.54454,     0.54555,     0.54655,     0.54755,     0.54855,     0.54955,     0.55055,     0.55155,\n",
      "           0.55255,     0.55355,     0.55455,     0.55556,     0.55656,     0.55756,     0.55856,     0.55956,     0.56056,     0.56156,     0.56256,     0.56356,     0.56456,     0.56557,     0.56657,     0.56757,     0.56857,     0.56957,     0.57057,     0.57157,     0.57257,     0.57357,     0.57457,     0.57558,\n",
      "           0.57658,     0.57758,     0.57858,     0.57958,     0.58058,     0.58158,     0.58258,     0.58358,     0.58458,     0.58559,     0.58659,     0.58759,     0.58859,     0.58959,     0.59059,     0.59159,     0.59259,     0.59359,     0.59459,      0.5956,      0.5966,      0.5976,      0.5986,      0.5996,\n",
      "            0.6006,      0.6016,      0.6026,      0.6036,      0.6046,     0.60561,     0.60661,     0.60761,     0.60861,     0.60961,     0.61061,     0.61161,     0.61261,     0.61361,     0.61461,     0.61562,     0.61662,     0.61762,     0.61862,     0.61962,     0.62062,     0.62162,     0.62262,     0.62362,\n",
      "           0.62462,     0.62563,     0.62663,     0.62763,     0.62863,     0.62963,     0.63063,     0.63163,     0.63263,     0.63363,     0.63463,     0.63564,     0.63664,     0.63764,     0.63864,     0.63964,     0.64064,     0.64164,     0.64264,     0.64364,     0.64464,     0.64565,     0.64665,     0.64765,\n",
      "           0.64865,     0.64965,     0.65065,     0.65165,     0.65265,     0.65365,     0.65465,     0.65566,     0.65666,     0.65766,     0.65866,     0.65966,     0.66066,     0.66166,     0.66266,     0.66366,     0.66466,     0.66567,     0.66667,     0.66767,     0.66867,     0.66967,     0.67067,     0.67167,\n",
      "           0.67267,     0.67367,     0.67467,     0.67568,     0.67668,     0.67768,     0.67868,     0.67968,     0.68068,     0.68168,     0.68268,     0.68368,     0.68468,     0.68569,     0.68669,     0.68769,     0.68869,     0.68969,     0.69069,     0.69169,     0.69269,     0.69369,     0.69469,      0.6957,\n",
      "            0.6967,      0.6977,      0.6987,      0.6997,      0.7007,      0.7017,      0.7027,      0.7037,      0.7047,     0.70571,     0.70671,     0.70771,     0.70871,     0.70971,     0.71071,     0.71171,     0.71271,     0.71371,     0.71471,     0.71572,     0.71672,     0.71772,     0.71872,     0.71972,\n",
      "           0.72072,     0.72172,     0.72272,     0.72372,     0.72472,     0.72573,     0.72673,     0.72773,     0.72873,     0.72973,     0.73073,     0.73173,     0.73273,     0.73373,     0.73473,     0.73574,     0.73674,     0.73774,     0.73874,     0.73974,     0.74074,     0.74174,     0.74274,     0.74374,\n",
      "           0.74474,     0.74575,     0.74675,     0.74775,     0.74875,     0.74975,     0.75075,     0.75175,     0.75275,     0.75375,     0.75475,     0.75576,     0.75676,     0.75776,     0.75876,     0.75976,     0.76076,     0.76176,     0.76276,     0.76376,     0.76476,     0.76577,     0.76677,     0.76777,\n",
      "           0.76877,     0.76977,     0.77077,     0.77177,     0.77277,     0.77377,     0.77477,     0.77578,     0.77678,     0.77778,     0.77878,     0.77978,     0.78078,     0.78178,     0.78278,     0.78378,     0.78478,     0.78579,     0.78679,     0.78779,     0.78879,     0.78979,     0.79079,     0.79179,\n",
      "           0.79279,     0.79379,     0.79479,      0.7958,      0.7968,      0.7978,      0.7988,      0.7998,      0.8008,      0.8018,      0.8028,      0.8038,      0.8048,     0.80581,     0.80681,     0.80781,     0.80881,     0.80981,     0.81081,     0.81181,     0.81281,     0.81381,     0.81481,     0.81582,\n",
      "           0.81682,     0.81782,     0.81882,     0.81982,     0.82082,     0.82182,     0.82282,     0.82382,     0.82482,     0.82583,     0.82683,     0.82783,     0.82883,     0.82983,     0.83083,     0.83183,     0.83283,     0.83383,     0.83483,     0.83584,     0.83684,     0.83784,     0.83884,     0.83984,\n",
      "           0.84084,     0.84184,     0.84284,     0.84384,     0.84484,     0.84585,     0.84685,     0.84785,     0.84885,     0.84985,     0.85085,     0.85185,     0.85285,     0.85385,     0.85485,     0.85586,     0.85686,     0.85786,     0.85886,     0.85986,     0.86086,     0.86186,     0.86286,     0.86386,\n",
      "           0.86486,     0.86587,     0.86687,     0.86787,     0.86887,     0.86987,     0.87087,     0.87187,     0.87287,     0.87387,     0.87487,     0.87588,     0.87688,     0.87788,     0.87888,     0.87988,     0.88088,     0.88188,     0.88288,     0.88388,     0.88488,     0.88589,     0.88689,     0.88789,\n",
      "           0.88889,     0.88989,     0.89089,     0.89189,     0.89289,     0.89389,     0.89489,      0.8959,      0.8969,      0.8979,      0.8989,      0.8999,      0.9009,      0.9019,      0.9029,      0.9039,      0.9049,     0.90591,     0.90691,     0.90791,     0.90891,     0.90991,     0.91091,     0.91191,\n",
      "           0.91291,     0.91391,     0.91491,     0.91592,     0.91692,     0.91792,     0.91892,     0.91992,     0.92092,     0.92192,     0.92292,     0.92392,     0.92492,     0.92593,     0.92693,     0.92793,     0.92893,     0.92993,     0.93093,     0.93193,     0.93293,     0.93393,     0.93493,     0.93594,\n",
      "           0.93694,     0.93794,     0.93894,     0.93994,     0.94094,     0.94194,     0.94294,     0.94394,     0.94494,     0.94595,     0.94695,     0.94795,     0.94895,     0.94995,     0.95095,     0.95195,     0.95295,     0.95395,     0.95495,     0.95596,     0.95696,     0.95796,     0.95896,     0.95996,\n",
      "           0.96096,     0.96196,     0.96296,     0.96396,     0.96496,     0.96597,     0.96697,     0.96797,     0.96897,     0.96997,     0.97097,     0.97197,     0.97297,     0.97397,     0.97497,     0.97598,     0.97698,     0.97798,     0.97898,     0.97998,     0.98098,     0.98198,     0.98298,     0.98398,\n",
      "           0.98498,     0.98599,     0.98699,     0.98799,     0.98899,     0.98999,     0.99099,     0.99199,     0.99299,     0.99399,     0.99499,       0.996,       0.997,       0.998,       0.999,           1]), array([[    0.11729,     0.11729,     0.16267,     0.19504,     0.22157,     0.24782,     0.26703,     0.28697,     0.29802,     0.30853,     0.32078,     0.33027,     0.34727,     0.35521,     0.36168,     0.36463,     0.37456,      0.3821,     0.38861,     0.39391,     0.40461,      0.4151,     0.42024,\n",
      "            0.42837,     0.43835,     0.44084,     0.44202,      0.4469,     0.45348,     0.45627,     0.46098,     0.46668,     0.47652,     0.48512,     0.49196,     0.49649,     0.49786,     0.50367,     0.51109,     0.51777,     0.52778,     0.53378,     0.53884,     0.54397,     0.55018,     0.55579,\n",
      "            0.56007,     0.56776,     0.57434,     0.57595,     0.57785,      0.5797,     0.58068,     0.58166,     0.58056,     0.58179,     0.58574,      0.5869,     0.58805,     0.58908,     0.59001,     0.59094,     0.59815,     0.60072,     0.60193,     0.60303,     0.60357,     0.60411,     0.60466,\n",
      "             0.6052,     0.60574,     0.60954,     0.61149,     0.61259,     0.61344,     0.61429,     0.61513,     0.61593,     0.61674,     0.61754,     0.61934,     0.62289,     0.63088,     0.63226,     0.63364,     0.63879,      0.6419,       0.645,      0.6464,     0.64779,     0.64916,     0.65052,\n",
      "            0.65155,     0.65249,     0.65343,     0.65521,     0.65952,     0.66181,      0.6635,     0.66213,     0.66353,     0.66659,     0.66938,     0.67139,     0.67695,     0.67957,     0.67836,     0.67949,     0.68063,     0.68177,     0.68077,     0.68071,     0.68311,      0.6835,      0.6829,\n",
      "            0.68229,     0.68677,      0.6879,     0.68902,     0.69124,      0.6924,     0.69199,     0.69166,     0.69133,       0.691,     0.69068,     0.69267,     0.69519,     0.69608,     0.69697,     0.69786,     0.69875,     0.69928,     0.69978,     0.70028,     0.70079,     0.70129,      0.7018,\n",
      "             0.7023,     0.70281,     0.70419,     0.70628,     0.70813,     0.70976,     0.71139,     0.71588,     0.71566,     0.71543,      0.7152,     0.71497,     0.71475,     0.71452,     0.71429,     0.71623,     0.71823,     0.71763,     0.71918,     0.72073,     0.72388,     0.72732,     0.72959,\n",
      "            0.73413,     0.73634,      0.7374,     0.73846,     0.73952,     0.74118,     0.74427,     0.74886,     0.75124,     0.75282,     0.75441,     0.76015,      0.7609,     0.76166,     0.76242,     0.76318,     0.76394,     0.76469,      0.7672,      0.7699,     0.76873,     0.77264,     0.77477,\n",
      "            0.77596,     0.77716,     0.77835,     0.77961,     0.78111,     0.78262,     0.78413,     0.78715,     0.79037,     0.79105,     0.79174,     0.79243,     0.79311,      0.7938,     0.79448,     0.79517,     0.79564,     0.79449,     0.79493,     0.79564,     0.79635,     0.79705,     0.79776,\n",
      "            0.79847,     0.79918,     0.79988,      0.8057,      0.8051,     0.80449,     0.80417,     0.80393,     0.80369,     0.80345,     0.80321,     0.80297,     0.80219,     0.80143,     0.80129,     0.80114,     0.80099,     0.80084,     0.80069,     0.80054,     0.80039,     0.80024,      0.8001,\n",
      "            0.80029,     0.80111,     0.80194,     0.80276,     0.80358,      0.8044,     0.80522,     0.80595,     0.80576,     0.80558,     0.80539,      0.8052,     0.80501,     0.80482,     0.80463,     0.80431,     0.80375,     0.80318,     0.80557,     0.80907,     0.81041,     0.81168,     0.81296,\n",
      "            0.81424,     0.81534,      0.8149,     0.81447,     0.81403,     0.81493,     0.81613,     0.81732,     0.81852,     0.81971,     0.82084,     0.82189,     0.82295,       0.824,     0.82506,     0.82611,     0.82724,      0.8285,     0.82975,       0.831,     0.83226,     0.83346,     0.83436,\n",
      "            0.83527,     0.83617,     0.83707,     0.83797,     0.83887,     0.83978,     0.83984,     0.83962,     0.83941,      0.8392,     0.83898,     0.83877,     0.83865,     0.83857,     0.83849,      0.8384,     0.83832,     0.83824,     0.83816,     0.83808,     0.83799,     0.83791,     0.83783,\n",
      "            0.83775,     0.83767,     0.83758,      0.8375,     0.83742,     0.83768,     0.83806,     0.83844,     0.83882,      0.8392,     0.83958,     0.83997,     0.84035,     0.84073,     0.84111,     0.84149,     0.84187,     0.84225,     0.84263,     0.84301,     0.84339,     0.84377,     0.84416,\n",
      "             0.8441,     0.84387,     0.84364,     0.84342,     0.84319,     0.84297,     0.84289,      0.8428,     0.84272,     0.84263,     0.84255,     0.84246,     0.84238,      0.8423,     0.84221,     0.84213,     0.84204,     0.84196,     0.84187,     0.84179,      0.8417,     0.84149,     0.84118,\n",
      "            0.84086,     0.84055,     0.84019,     0.83977,     0.83935,     0.83888,     0.83797,     0.83786,     0.83829,     0.83872,     0.83915,     0.83958,     0.84001,     0.84043,     0.84086,     0.84129,     0.84172,     0.84215,     0.84258,     0.84301,     0.84344,     0.84387,     0.84429,\n",
      "            0.84472,     0.84617,     0.84795,     0.84972,      0.8515,      0.8542,     0.85748,     0.85933,     0.86603,     0.86486,     0.86483,     0.86479,     0.86476,     0.86473,     0.86469,     0.86466,     0.86462,     0.86459,     0.86455,     0.86452,     0.86448,     0.86445,     0.86442,\n",
      "            0.86438,     0.86435,     0.86431,     0.86428,     0.86424,     0.86421,     0.86417,     0.86414,      0.8641,     0.86407,     0.86404,       0.864,     0.86397,     0.86393,      0.8639,     0.86386,     0.86383,     0.86379,     0.86376,     0.86372,     0.86369,     0.86366,     0.86354,\n",
      "            0.86333,     0.86312,     0.86291,      0.8627,     0.86249,     0.86312,     0.86464,     0.86616,     0.86768,     0.86919,     0.86981,     0.86904,     0.86887,      0.8687,     0.86854,     0.86837,     0.86821,     0.86804,     0.86946,      0.8747,     0.87612,     0.87601,     0.87591,\n",
      "            0.87581,     0.87571,      0.8756,      0.8755,      0.8754,      0.8753,     0.87519,     0.87509,     0.87496,     0.87464,     0.87431,     0.87399,     0.87319,     0.88129,     0.88181,     0.88233,     0.88285,     0.88337,     0.88389,     0.88441,     0.88493,     0.88545,     0.88597,\n",
      "            0.88649,       0.887,     0.88752,     0.88804,     0.88856,     0.88908,      0.8896,     0.89021,     0.89114,     0.89206,     0.89299,     0.89391,     0.89484,     0.89576,     0.89669,     0.89761,     0.89854,     0.89895,     0.89888,      0.8988,     0.89872,     0.89865,     0.89857,\n",
      "             0.8985,     0.89842,     0.89834,     0.89827,     0.89819,     0.89811,     0.89804,     0.89796,     0.89793,      0.8979,     0.89786,     0.89783,      0.8978,     0.89776,     0.89773,      0.8977,     0.89767,     0.89763,      0.8976,     0.89757,     0.89753,      0.8975,     0.89747,\n",
      "            0.89744,      0.8974,     0.89737,     0.89734,      0.8973,     0.89727,     0.89724,     0.89721,     0.89717,     0.89714,     0.89711,     0.89708,     0.89704,     0.89701,     0.89698,     0.89694,     0.89691,     0.89667,     0.89641,     0.89614,     0.89588,     0.90116,     0.90525,\n",
      "            0.90521,     0.90517,     0.90514,      0.9051,     0.90506,     0.90502,     0.90498,     0.90495,     0.90491,     0.90487,     0.90483,      0.9048,     0.90476,     0.90472,     0.90468,     0.90464,     0.90461,     0.90457,     0.90453,     0.90449,     0.90445,     0.90442,     0.90438,\n",
      "            0.90434,      0.9043,     0.90427,     0.90416,     0.90402,     0.90389,     0.90376,     0.90362,     0.90349,     0.90336,     0.90465,     0.91278,     0.91248,     0.91218,     0.91198,     0.91182,     0.91166,      0.9115,     0.91134,     0.91118,     0.91107,       0.911,     0.91092,\n",
      "            0.91085,     0.91077,      0.9107,     0.91063,     0.91055,     0.91048,      0.9104,     0.91033,     0.91026,     0.91018,     0.91009,     0.90971,     0.90933,     0.90835,      0.9079,     0.90772,     0.90755,     0.90738,      0.9072,     0.90703,     0.90973,     0.91362,     0.91751,\n",
      "            0.91723,      0.9168,     0.91655,     0.91639,     0.91623,     0.91606,      0.9159,     0.91574,     0.91557,     0.91539,     0.91522,     0.91504,     0.91487,      0.9147,     0.91407,     0.91353,     0.91342,     0.91332,     0.91321,      0.9131,     0.91299,     0.91288,     0.91278,\n",
      "            0.91267,     0.91256,     0.91222,     0.91156,      0.9111,     0.91071,     0.91032,     0.90781,     0.90736,     0.90691,     0.90636,     0.90571,     0.90659,     0.90879,     0.91099,      0.9132,      0.9154,      0.9176,     0.91757,      0.9173,     0.91704,     0.91678,     0.91662,\n",
      "            0.91653,     0.91644,     0.91636,     0.91627,     0.91618,      0.9161,     0.91601,     0.91592,     0.91584,     0.91575,     0.91566,     0.91558,     0.91548,      0.9152,     0.91491,     0.91462,     0.91433,     0.91049,     0.91274,     0.91498,     0.91723,     0.91948,     0.92172,\n",
      "            0.92397,      0.9238,     0.92329,     0.92296,     0.92276,     0.92256,     0.92237,     0.92217,     0.92197,     0.92077,     0.91998,     0.91912,     0.91786,     0.91747,     0.91708,     0.91669,     0.93198,     0.93165,     0.93133,     0.93069,      0.9297,     0.92954,     0.92938,\n",
      "            0.92921,     0.92905,     0.92889,     0.92873,     0.92857,     0.93633,     0.94409,     0.94504,     0.94453,     0.94339,     0.94291,     0.94498,     0.94704,     0.94911,     0.95118,     0.95325,     0.95532,     0.95739,     0.95946,     0.96067,     0.96036,     0.96004,     0.95975,\n",
      "            0.95946,     0.95915,      0.9586,     0.97867,      0.9785,     0.97832,     0.97806,     0.97777,      0.9776,     0.97744,     0.97727,     0.97711,     0.97695,     0.97679,      0.9815,     0.98847,     0.99543,           1,           1,           1,           1,           1,           1,\n",
      "                  1,           1,           1,           1,           1,           1,           1,           1,           1,           1,           1,           1,           1,           1,           1,           1,           1,           1,           1,           1,           1,           1,           1,\n",
      "                  1,           1,           1,           1,           1,           1,           1,           1,           1,           1,           1,           1,           1,           1,           1,           1,           1,           1,           1,           1,           1,           1,           1,\n",
      "                  1,           1,           1,           1,           1,           1,           1,           1,           1,           1,           1,           1,           1,           1,           1,           1,           1,           1,           1,           1,           1,           1,           1,\n",
      "                  1,           1,           1,           1,           1,           1,           1,           1,           1,           1,           1,           1,           1,           1,           1,           1,           1,           1,           1,           1,           1,           1,           1,\n",
      "                  1,           1,           1,           1,           1,           1,           1,           1,           1,           1,           1,           1,           1,           1,           1,           1,           1,           1,           1,           1,           1,           1,           1,\n",
      "                  1,           1,           1,           1,           1,           1,           1,           1,           1,           1,           1,           1,           1,           1,           1,           1,           1,           1,           1,           1,           1,           1,           1,\n",
      "                  1,           1,           1,           1,           1,           1,           1,           1,           1,           1,           1,           1,           1,           1,           1,           1,           1,           1,           1,           1,           1,           1,           1,\n",
      "                  1,           1,           1,           1,           1,           1,           1,           1,           1,           1,           1,           1,           1,           1,           1,           1,           1,           1,           1,           1,           1,           1,           1,\n",
      "                  1,           1,           1,           1,           1,           1,           1,           1,           1,           1,           1,           1,           1,           1,           1,           1,           1,           1,           1,           1,           1,           1,           1,\n",
      "                  1,           1,           1,           1,           1,           1,           1,           1,           1,           1,           1,           1,           1,           1,           1,           1,           1,           1,           1,           1,           1,           1,           1,\n",
      "                  1,           1,           1,           1,           1,           1,           1,           1,           1,           1,           1,           1,           1,           1,           1,           1,           1,           1,           1,           1,           1,           1,           1,\n",
      "                  1,           1,           1,           1,           1,           1,           1,           1,           1,           1,           1]]), 'Confidence', 'Precision'], [array([          0,    0.001001,    0.002002,    0.003003,    0.004004,    0.005005,    0.006006,    0.007007,    0.008008,    0.009009,     0.01001,    0.011011,    0.012012,    0.013013,    0.014014,    0.015015,    0.016016,    0.017017,    0.018018,    0.019019,     0.02002,    0.021021,    0.022022,    0.023023,\n",
      "          0.024024,    0.025025,    0.026026,    0.027027,    0.028028,    0.029029,     0.03003,    0.031031,    0.032032,    0.033033,    0.034034,    0.035035,    0.036036,    0.037037,    0.038038,    0.039039,     0.04004,    0.041041,    0.042042,    0.043043,    0.044044,    0.045045,    0.046046,    0.047047,\n",
      "          0.048048,    0.049049,     0.05005,    0.051051,    0.052052,    0.053053,    0.054054,    0.055055,    0.056056,    0.057057,    0.058058,    0.059059,     0.06006,    0.061061,    0.062062,    0.063063,    0.064064,    0.065065,    0.066066,    0.067067,    0.068068,    0.069069,     0.07007,    0.071071,\n",
      "          0.072072,    0.073073,    0.074074,    0.075075,    0.076076,    0.077077,    0.078078,    0.079079,     0.08008,    0.081081,    0.082082,    0.083083,    0.084084,    0.085085,    0.086086,    0.087087,    0.088088,    0.089089,     0.09009,    0.091091,    0.092092,    0.093093,    0.094094,    0.095095,\n",
      "          0.096096,    0.097097,    0.098098,    0.099099,      0.1001,      0.1011,      0.1021,      0.1031,      0.1041,     0.10511,     0.10611,     0.10711,     0.10811,     0.10911,     0.11011,     0.11111,     0.11211,     0.11311,     0.11411,     0.11512,     0.11612,     0.11712,     0.11812,     0.11912,\n",
      "           0.12012,     0.12112,     0.12212,     0.12312,     0.12412,     0.12513,     0.12613,     0.12713,     0.12813,     0.12913,     0.13013,     0.13113,     0.13213,     0.13313,     0.13413,     0.13514,     0.13614,     0.13714,     0.13814,     0.13914,     0.14014,     0.14114,     0.14214,     0.14314,\n",
      "           0.14414,     0.14515,     0.14615,     0.14715,     0.14815,     0.14915,     0.15015,     0.15115,     0.15215,     0.15315,     0.15415,     0.15516,     0.15616,     0.15716,     0.15816,     0.15916,     0.16016,     0.16116,     0.16216,     0.16316,     0.16416,     0.16517,     0.16617,     0.16717,\n",
      "           0.16817,     0.16917,     0.17017,     0.17117,     0.17217,     0.17317,     0.17417,     0.17518,     0.17618,     0.17718,     0.17818,     0.17918,     0.18018,     0.18118,     0.18218,     0.18318,     0.18418,     0.18519,     0.18619,     0.18719,     0.18819,     0.18919,     0.19019,     0.19119,\n",
      "           0.19219,     0.19319,     0.19419,      0.1952,      0.1962,      0.1972,      0.1982,      0.1992,      0.2002,      0.2012,      0.2022,      0.2032,      0.2042,     0.20521,     0.20621,     0.20721,     0.20821,     0.20921,     0.21021,     0.21121,     0.21221,     0.21321,     0.21421,     0.21522,\n",
      "           0.21622,     0.21722,     0.21822,     0.21922,     0.22022,     0.22122,     0.22222,     0.22322,     0.22422,     0.22523,     0.22623,     0.22723,     0.22823,     0.22923,     0.23023,     0.23123,     0.23223,     0.23323,     0.23423,     0.23524,     0.23624,     0.23724,     0.23824,     0.23924,\n",
      "           0.24024,     0.24124,     0.24224,     0.24324,     0.24424,     0.24525,     0.24625,     0.24725,     0.24825,     0.24925,     0.25025,     0.25125,     0.25225,     0.25325,     0.25425,     0.25526,     0.25626,     0.25726,     0.25826,     0.25926,     0.26026,     0.26126,     0.26226,     0.26326,\n",
      "           0.26426,     0.26527,     0.26627,     0.26727,     0.26827,     0.26927,     0.27027,     0.27127,     0.27227,     0.27327,     0.27427,     0.27528,     0.27628,     0.27728,     0.27828,     0.27928,     0.28028,     0.28128,     0.28228,     0.28328,     0.28428,     0.28529,     0.28629,     0.28729,\n",
      "           0.28829,     0.28929,     0.29029,     0.29129,     0.29229,     0.29329,     0.29429,      0.2953,      0.2963,      0.2973,      0.2983,      0.2993,      0.3003,      0.3013,      0.3023,      0.3033,      0.3043,     0.30531,     0.30631,     0.30731,     0.30831,     0.30931,     0.31031,     0.31131,\n",
      "           0.31231,     0.31331,     0.31431,     0.31532,     0.31632,     0.31732,     0.31832,     0.31932,     0.32032,     0.32132,     0.32232,     0.32332,     0.32432,     0.32533,     0.32633,     0.32733,     0.32833,     0.32933,     0.33033,     0.33133,     0.33233,     0.33333,     0.33433,     0.33534,\n",
      "           0.33634,     0.33734,     0.33834,     0.33934,     0.34034,     0.34134,     0.34234,     0.34334,     0.34434,     0.34535,     0.34635,     0.34735,     0.34835,     0.34935,     0.35035,     0.35135,     0.35235,     0.35335,     0.35435,     0.35536,     0.35636,     0.35736,     0.35836,     0.35936,\n",
      "           0.36036,     0.36136,     0.36236,     0.36336,     0.36436,     0.36537,     0.36637,     0.36737,     0.36837,     0.36937,     0.37037,     0.37137,     0.37237,     0.37337,     0.37437,     0.37538,     0.37638,     0.37738,     0.37838,     0.37938,     0.38038,     0.38138,     0.38238,     0.38338,\n",
      "           0.38438,     0.38539,     0.38639,     0.38739,     0.38839,     0.38939,     0.39039,     0.39139,     0.39239,     0.39339,     0.39439,      0.3954,      0.3964,      0.3974,      0.3984,      0.3994,      0.4004,      0.4014,      0.4024,      0.4034,      0.4044,     0.40541,     0.40641,     0.40741,\n",
      "           0.40841,     0.40941,     0.41041,     0.41141,     0.41241,     0.41341,     0.41441,     0.41542,     0.41642,     0.41742,     0.41842,     0.41942,     0.42042,     0.42142,     0.42242,     0.42342,     0.42442,     0.42543,     0.42643,     0.42743,     0.42843,     0.42943,     0.43043,     0.43143,\n",
      "           0.43243,     0.43343,     0.43443,     0.43544,     0.43644,     0.43744,     0.43844,     0.43944,     0.44044,     0.44144,     0.44244,     0.44344,     0.44444,     0.44545,     0.44645,     0.44745,     0.44845,     0.44945,     0.45045,     0.45145,     0.45245,     0.45345,     0.45445,     0.45546,\n",
      "           0.45646,     0.45746,     0.45846,     0.45946,     0.46046,     0.46146,     0.46246,     0.46346,     0.46446,     0.46547,     0.46647,     0.46747,     0.46847,     0.46947,     0.47047,     0.47147,     0.47247,     0.47347,     0.47447,     0.47548,     0.47648,     0.47748,     0.47848,     0.47948,\n",
      "           0.48048,     0.48148,     0.48248,     0.48348,     0.48448,     0.48549,     0.48649,     0.48749,     0.48849,     0.48949,     0.49049,     0.49149,     0.49249,     0.49349,     0.49449,      0.4955,      0.4965,      0.4975,      0.4985,      0.4995,      0.5005,      0.5015,      0.5025,      0.5035,\n",
      "            0.5045,     0.50551,     0.50651,     0.50751,     0.50851,     0.50951,     0.51051,     0.51151,     0.51251,     0.51351,     0.51451,     0.51552,     0.51652,     0.51752,     0.51852,     0.51952,     0.52052,     0.52152,     0.52252,     0.52352,     0.52452,     0.52553,     0.52653,     0.52753,\n",
      "           0.52853,     0.52953,     0.53053,     0.53153,     0.53253,     0.53353,     0.53453,     0.53554,     0.53654,     0.53754,     0.53854,     0.53954,     0.54054,     0.54154,     0.54254,     0.54354,     0.54454,     0.54555,     0.54655,     0.54755,     0.54855,     0.54955,     0.55055,     0.55155,\n",
      "           0.55255,     0.55355,     0.55455,     0.55556,     0.55656,     0.55756,     0.55856,     0.55956,     0.56056,     0.56156,     0.56256,     0.56356,     0.56456,     0.56557,     0.56657,     0.56757,     0.56857,     0.56957,     0.57057,     0.57157,     0.57257,     0.57357,     0.57457,     0.57558,\n",
      "           0.57658,     0.57758,     0.57858,     0.57958,     0.58058,     0.58158,     0.58258,     0.58358,     0.58458,     0.58559,     0.58659,     0.58759,     0.58859,     0.58959,     0.59059,     0.59159,     0.59259,     0.59359,     0.59459,      0.5956,      0.5966,      0.5976,      0.5986,      0.5996,\n",
      "            0.6006,      0.6016,      0.6026,      0.6036,      0.6046,     0.60561,     0.60661,     0.60761,     0.60861,     0.60961,     0.61061,     0.61161,     0.61261,     0.61361,     0.61461,     0.61562,     0.61662,     0.61762,     0.61862,     0.61962,     0.62062,     0.62162,     0.62262,     0.62362,\n",
      "           0.62462,     0.62563,     0.62663,     0.62763,     0.62863,     0.62963,     0.63063,     0.63163,     0.63263,     0.63363,     0.63463,     0.63564,     0.63664,     0.63764,     0.63864,     0.63964,     0.64064,     0.64164,     0.64264,     0.64364,     0.64464,     0.64565,     0.64665,     0.64765,\n",
      "           0.64865,     0.64965,     0.65065,     0.65165,     0.65265,     0.65365,     0.65465,     0.65566,     0.65666,     0.65766,     0.65866,     0.65966,     0.66066,     0.66166,     0.66266,     0.66366,     0.66466,     0.66567,     0.66667,     0.66767,     0.66867,     0.66967,     0.67067,     0.67167,\n",
      "           0.67267,     0.67367,     0.67467,     0.67568,     0.67668,     0.67768,     0.67868,     0.67968,     0.68068,     0.68168,     0.68268,     0.68368,     0.68468,     0.68569,     0.68669,     0.68769,     0.68869,     0.68969,     0.69069,     0.69169,     0.69269,     0.69369,     0.69469,      0.6957,\n",
      "            0.6967,      0.6977,      0.6987,      0.6997,      0.7007,      0.7017,      0.7027,      0.7037,      0.7047,     0.70571,     0.70671,     0.70771,     0.70871,     0.70971,     0.71071,     0.71171,     0.71271,     0.71371,     0.71471,     0.71572,     0.71672,     0.71772,     0.71872,     0.71972,\n",
      "           0.72072,     0.72172,     0.72272,     0.72372,     0.72472,     0.72573,     0.72673,     0.72773,     0.72873,     0.72973,     0.73073,     0.73173,     0.73273,     0.73373,     0.73473,     0.73574,     0.73674,     0.73774,     0.73874,     0.73974,     0.74074,     0.74174,     0.74274,     0.74374,\n",
      "           0.74474,     0.74575,     0.74675,     0.74775,     0.74875,     0.74975,     0.75075,     0.75175,     0.75275,     0.75375,     0.75475,     0.75576,     0.75676,     0.75776,     0.75876,     0.75976,     0.76076,     0.76176,     0.76276,     0.76376,     0.76476,     0.76577,     0.76677,     0.76777,\n",
      "           0.76877,     0.76977,     0.77077,     0.77177,     0.77277,     0.77377,     0.77477,     0.77578,     0.77678,     0.77778,     0.77878,     0.77978,     0.78078,     0.78178,     0.78278,     0.78378,     0.78478,     0.78579,     0.78679,     0.78779,     0.78879,     0.78979,     0.79079,     0.79179,\n",
      "           0.79279,     0.79379,     0.79479,      0.7958,      0.7968,      0.7978,      0.7988,      0.7998,      0.8008,      0.8018,      0.8028,      0.8038,      0.8048,     0.80581,     0.80681,     0.80781,     0.80881,     0.80981,     0.81081,     0.81181,     0.81281,     0.81381,     0.81481,     0.81582,\n",
      "           0.81682,     0.81782,     0.81882,     0.81982,     0.82082,     0.82182,     0.82282,     0.82382,     0.82482,     0.82583,     0.82683,     0.82783,     0.82883,     0.82983,     0.83083,     0.83183,     0.83283,     0.83383,     0.83483,     0.83584,     0.83684,     0.83784,     0.83884,     0.83984,\n",
      "           0.84084,     0.84184,     0.84284,     0.84384,     0.84484,     0.84585,     0.84685,     0.84785,     0.84885,     0.84985,     0.85085,     0.85185,     0.85285,     0.85385,     0.85485,     0.85586,     0.85686,     0.85786,     0.85886,     0.85986,     0.86086,     0.86186,     0.86286,     0.86386,\n",
      "           0.86486,     0.86587,     0.86687,     0.86787,     0.86887,     0.86987,     0.87087,     0.87187,     0.87287,     0.87387,     0.87487,     0.87588,     0.87688,     0.87788,     0.87888,     0.87988,     0.88088,     0.88188,     0.88288,     0.88388,     0.88488,     0.88589,     0.88689,     0.88789,\n",
      "           0.88889,     0.88989,     0.89089,     0.89189,     0.89289,     0.89389,     0.89489,      0.8959,      0.8969,      0.8979,      0.8989,      0.8999,      0.9009,      0.9019,      0.9029,      0.9039,      0.9049,     0.90591,     0.90691,     0.90791,     0.90891,     0.90991,     0.91091,     0.91191,\n",
      "           0.91291,     0.91391,     0.91491,     0.91592,     0.91692,     0.91792,     0.91892,     0.91992,     0.92092,     0.92192,     0.92292,     0.92392,     0.92492,     0.92593,     0.92693,     0.92793,     0.92893,     0.92993,     0.93093,     0.93193,     0.93293,     0.93393,     0.93493,     0.93594,\n",
      "           0.93694,     0.93794,     0.93894,     0.93994,     0.94094,     0.94194,     0.94294,     0.94394,     0.94494,     0.94595,     0.94695,     0.94795,     0.94895,     0.94995,     0.95095,     0.95195,     0.95295,     0.95395,     0.95495,     0.95596,     0.95696,     0.95796,     0.95896,     0.95996,\n",
      "           0.96096,     0.96196,     0.96296,     0.96396,     0.96496,     0.96597,     0.96697,     0.96797,     0.96897,     0.96997,     0.97097,     0.97197,     0.97297,     0.97397,     0.97497,     0.97598,     0.97698,     0.97798,     0.97898,     0.97998,     0.98098,     0.98198,     0.98298,     0.98398,\n",
      "           0.98498,     0.98599,     0.98699,     0.98799,     0.98899,     0.98999,     0.99099,     0.99199,     0.99299,     0.99399,     0.99499,       0.996,       0.997,       0.998,       0.999,           1]), array([[    0.78736,     0.78736,     0.78161,     0.78161,     0.76437,     0.75287,     0.75287,     0.74713,     0.74713,     0.74138,     0.74138,     0.74138,     0.74138,     0.73563,     0.73563,     0.72989,     0.72989,     0.72989,     0.72989,     0.72989,     0.72989,     0.72989,     0.72989,\n",
      "            0.72414,     0.72414,     0.72414,     0.72414,     0.72414,     0.72414,     0.72414,     0.71839,     0.71839,     0.71839,     0.71839,     0.71839,     0.71839,     0.71839,     0.71839,     0.71264,     0.71264,     0.71264,     0.71264,     0.71264,     0.71264,     0.71264,     0.71264,\n",
      "            0.71264,     0.71264,     0.71264,     0.71264,     0.71264,     0.71264,     0.71264,     0.71264,      0.7069,      0.7069,      0.7069,      0.7069,      0.7069,      0.7069,      0.7069,      0.7069,      0.7069,      0.7069,      0.7069,      0.7069,      0.7069,      0.7069,      0.7069,\n",
      "             0.7069,      0.7069,      0.7069,      0.7069,      0.7069,      0.7069,      0.7069,      0.7069,      0.7069,      0.7069,      0.7069,      0.7069,      0.7069,      0.7069,      0.7069,      0.7069,      0.7069,      0.7069,      0.7069,      0.7069,      0.7069,      0.7069,      0.7069,\n",
      "             0.7069,      0.7069,      0.7069,      0.7069,      0.7069,      0.7069,      0.7069,     0.69831,      0.6954,      0.6954,      0.6954,      0.6954,      0.6954,     0.69475,     0.68966,     0.68966,     0.68966,     0.68966,     0.68635,     0.68391,     0.68391,     0.68264,     0.68072,\n",
      "            0.67881,     0.67816,     0.67816,     0.67816,     0.67816,     0.67271,     0.67142,     0.67039,     0.66936,     0.66833,     0.66729,     0.66667,     0.66667,     0.66667,     0.66667,     0.66667,     0.66667,     0.66667,     0.66667,     0.66667,     0.66667,     0.66667,     0.66667,\n",
      "            0.66667,     0.66667,     0.66667,     0.66667,     0.66667,     0.66667,     0.66667,     0.66613,     0.66539,     0.66465,     0.66391,     0.66316,     0.66242,     0.66168,     0.66094,     0.66092,     0.66092,     0.65517,     0.65517,     0.65517,     0.65517,     0.65517,     0.65517,\n",
      "            0.65517,     0.65517,     0.65517,     0.65517,     0.65517,     0.65517,     0.65517,     0.65517,     0.65517,     0.65517,     0.65517,     0.65517,     0.65517,     0.65517,     0.65517,     0.65517,     0.65517,     0.65517,     0.65517,      0.6538,     0.64952,     0.64943,     0.64943,\n",
      "            0.64943,     0.64943,     0.64943,     0.64943,     0.64943,     0.64943,     0.64943,     0.64943,     0.64943,     0.64943,     0.64943,     0.64943,     0.64943,     0.64943,     0.64943,     0.64943,     0.64889,     0.64434,     0.64368,     0.64368,     0.64368,     0.64368,     0.64368,\n",
      "            0.64368,     0.64368,     0.64368,     0.64345,     0.64098,     0.63851,      0.6372,     0.63624,     0.63528,     0.63432,     0.63336,      0.6324,     0.62928,      0.6263,     0.62571,     0.62513,     0.62455,     0.62397,     0.62339,     0.62281,     0.62223,     0.62165,     0.62106,\n",
      "            0.62069,     0.62069,     0.62069,     0.62069,     0.62069,     0.62069,     0.62069,     0.62062,     0.61988,     0.61913,     0.61839,     0.61765,      0.6169,     0.61616,     0.61541,     0.61414,     0.61197,     0.60979,      0.6092,      0.6092,      0.6092,      0.6092,      0.6092,\n",
      "             0.6092,     0.60901,     0.60726,     0.60551,     0.60376,     0.60345,     0.60345,     0.60345,     0.60345,     0.60345,     0.60345,     0.60345,     0.60345,     0.60345,     0.60345,     0.60345,     0.60345,     0.60345,     0.60345,     0.60345,     0.60345,     0.60345,     0.60345,\n",
      "            0.60345,     0.60345,     0.60345,     0.60345,     0.60345,     0.60345,     0.60273,     0.60178,     0.60082,     0.59987,     0.59892,     0.59796,     0.59744,     0.59708,     0.59672,     0.59636,       0.596,     0.59564,     0.59528,     0.59492,     0.59456,      0.5942,     0.59385,\n",
      "            0.59349,     0.59313,     0.59277,     0.59241,     0.59205,     0.59195,     0.59195,     0.59195,     0.59195,     0.59195,     0.59195,     0.59195,     0.59195,     0.59195,     0.59195,     0.59195,     0.59195,     0.59195,     0.59195,     0.59195,     0.59195,     0.59195,     0.59195,\n",
      "            0.59122,     0.59021,     0.58919,     0.58817,     0.58716,     0.58618,     0.58581,     0.58544,     0.58507,      0.5847,     0.58433,     0.58396,     0.58359,     0.58322,     0.58285,     0.58248,     0.58211,     0.58174,     0.58137,       0.581,     0.58063,     0.57971,     0.57835,\n",
      "            0.57698,     0.57562,     0.57411,     0.57233,     0.57054,     0.56853,     0.56475,     0.56322,     0.56322,     0.56322,     0.56322,     0.56322,     0.56322,     0.56322,     0.56322,     0.56322,     0.56322,     0.56322,     0.56322,     0.56322,     0.56322,     0.56322,     0.56322,\n",
      "            0.56322,     0.56322,     0.56322,     0.56322,     0.56322,     0.56322,     0.56322,     0.56173,     0.55728,     0.55172,     0.55156,      0.5514,     0.55124,     0.55107,     0.55091,     0.55075,     0.55059,     0.55043,     0.55027,      0.5501,     0.54994,     0.54978,     0.54962,\n",
      "            0.54946,      0.5493,     0.54914,     0.54897,     0.54881,     0.54865,     0.54849,     0.54833,     0.54817,     0.54801,     0.54784,     0.54768,     0.54752,     0.54736,      0.5472,     0.54704,     0.54687,     0.54671,     0.54655,     0.54639,     0.54623,     0.54607,     0.54555,\n",
      "            0.54459,     0.54362,     0.54266,     0.54169,     0.54073,     0.54023,     0.54023,     0.54023,     0.54023,     0.54023,     0.53756,     0.53391,     0.53314,     0.53237,      0.5316,     0.53082,     0.53005,     0.52928,     0.52874,     0.52874,     0.52838,     0.52789,     0.52739,\n",
      "            0.52689,      0.5264,      0.5259,     0.52541,     0.52491,     0.52442,     0.52392,     0.52343,     0.52281,     0.52128,     0.51974,     0.51821,     0.51449,     0.51149,     0.51149,     0.51149,     0.51149,     0.51149,     0.51149,     0.51149,     0.51149,     0.51149,     0.51149,\n",
      "            0.51149,     0.51149,     0.51149,     0.51149,     0.51149,     0.51149,     0.51149,     0.51149,     0.51149,     0.51149,     0.51149,     0.51149,     0.51149,     0.51149,     0.51149,     0.51149,     0.51149,     0.51128,     0.51085,     0.51043,     0.51001,     0.50958,     0.50916,\n",
      "            0.50873,     0.50831,     0.50789,     0.50746,     0.50704,     0.50662,     0.50619,     0.50577,     0.50558,      0.5054,     0.50522,     0.50504,     0.50486,     0.50468,      0.5045,     0.50432,     0.50414,     0.50396,     0.50379,     0.50361,     0.50343,     0.50325,     0.50307,\n",
      "            0.50289,     0.50271,     0.50253,     0.50235,     0.50217,     0.50199,     0.50181,     0.50164,     0.50146,     0.50128,      0.5011,     0.50092,     0.50074,     0.50056,     0.50038,      0.5002,     0.50002,     0.49876,     0.49733,      0.4959,     0.49448,     0.49425,     0.49418,\n",
      "            0.49396,     0.49374,     0.49353,     0.49331,      0.4931,     0.49288,     0.49267,     0.49245,     0.49223,     0.49202,      0.4918,     0.49159,     0.49137,     0.49115,     0.49094,     0.49072,     0.49051,     0.49029,     0.49007,     0.48986,     0.48964,     0.48943,     0.48921,\n",
      "            0.48899,     0.48878,     0.48856,     0.48795,     0.48721,     0.48646,     0.48572,     0.48498,     0.48423,     0.48349,     0.48276,     0.48117,     0.47938,     0.47758,     0.47637,     0.47543,     0.47449,     0.47356,     0.47262,     0.47168,     0.47103,      0.4706,     0.47018,\n",
      "            0.46975,     0.46933,      0.4689,     0.46847,     0.46805,     0.46762,      0.4672,     0.46677,     0.46635,     0.46592,     0.46541,     0.46327,     0.46114,     0.45567,     0.45322,     0.45229,     0.45135,     0.45042,     0.44948,     0.44855,     0.44828,     0.44828,     0.44828,\n",
      "            0.44584,     0.44331,     0.44188,     0.44095,     0.44001,     0.43907,     0.43814,      0.4372,     0.43624,     0.43527,      0.4343,     0.43332,     0.43235,     0.43138,     0.42794,     0.42503,     0.42446,     0.42388,     0.42331,     0.42274,     0.42216,     0.42159,     0.42101,\n",
      "            0.42044,     0.41987,     0.41807,     0.41468,     0.41233,     0.41035,     0.40836,     0.39617,     0.39405,     0.39194,     0.38942,     0.38644,     0.38506,     0.38506,     0.38506,     0.38506,     0.38506,     0.38506,     0.38385,     0.38252,     0.38119,     0.37986,     0.37906,\n",
      "            0.37864,     0.37821,     0.37779,     0.37737,     0.37694,     0.37652,     0.37609,     0.37567,     0.37525,     0.37482,      0.3744,     0.37398,     0.37352,     0.37215,     0.37079,     0.36942,     0.36805,     0.35057,     0.35057,     0.35057,     0.35057,     0.35057,     0.35057,\n",
      "            0.35057,     0.34838,     0.34589,     0.34428,     0.34333,     0.34238,     0.34142,     0.34047,     0.33952,     0.33398,     0.33037,     0.32656,     0.32112,     0.31947,     0.31782,     0.31617,     0.31497,     0.31339,      0.3118,     0.30871,     0.30401,     0.30328,     0.30254,\n",
      "             0.3018,     0.30106,     0.30033,     0.29959,     0.29885,     0.29885,     0.29885,     0.29648,      0.2936,     0.28731,     0.28161,     0.28161,     0.28161,     0.28161,     0.28161,     0.28161,     0.28161,     0.28161,     0.28161,     0.28078,     0.27848,     0.27619,      0.2741,\n",
      "            0.27205,     0.26991,     0.26619,     0.26374,     0.26153,     0.25932,     0.25625,     0.25281,      0.2509,       0.249,     0.24709,     0.24537,     0.24365,     0.24192,     0.24138,     0.24138,     0.24138,      0.2396,     0.23502,     0.23238,     0.22955,     0.22132,     0.21496,\n",
      "            0.20952,     0.20106,     0.19481,     0.19377,     0.19272,     0.19168,     0.19064,     0.18917,     0.18236,     0.17826,     0.17455,     0.17139,     0.16898,     0.16656,     0.16391,     0.16126,     0.15859,     0.15592,     0.14183,     0.13287,     0.12827,     0.11411,     0.10832,\n",
      "            0.10467,    0.097181,    0.095673,    0.094165,    0.092656,    0.091287,    0.090037,    0.088788,    0.087538,    0.086289,     0.08514,    0.083999,    0.082857,    0.081716,    0.080574,    0.067293,    0.064419,    0.060427,    0.051378,    0.049511,    0.047644,    0.045877,    0.044936,\n",
      "           0.043996,    0.043055,    0.042115,    0.041175,    0.040234,    0.038861,    0.037485,    0.036109,    0.034733,    0.032942,    0.031057,    0.029173,    0.024239,    0.021585,    0.019801,    0.018017,    0.015586,    0.012659,     0.01008,    0.007732,           0,           0,           0,\n",
      "                  0,           0,           0,           0,           0,           0,           0,           0,           0,           0,           0,           0,           0,           0,           0,           0,           0,           0,           0,           0,           0,           0,           0,\n",
      "                  0,           0,           0,           0,           0,           0,           0,           0,           0,           0,           0,           0,           0,           0,           0,           0,           0,           0,           0,           0,           0,           0,           0,\n",
      "                  0,           0,           0,           0,           0,           0,           0,           0,           0,           0,           0,           0,           0,           0,           0,           0,           0,           0,           0,           0,           0,           0,           0,\n",
      "                  0,           0,           0,           0,           0,           0,           0,           0,           0,           0,           0,           0,           0,           0,           0,           0,           0,           0,           0,           0,           0,           0,           0,\n",
      "                  0,           0,           0,           0,           0,           0,           0,           0,           0,           0,           0,           0,           0,           0,           0,           0,           0,           0,           0,           0,           0,           0,           0,\n",
      "                  0,           0,           0,           0,           0,           0,           0,           0,           0,           0,           0,           0,           0,           0,           0,           0,           0,           0,           0,           0,           0,           0,           0,\n",
      "                  0,           0,           0,           0,           0,           0,           0,           0,           0,           0,           0,           0,           0,           0,           0,           0,           0,           0,           0,           0,           0,           0,           0,\n",
      "                  0,           0,           0,           0,           0,           0,           0,           0,           0,           0,           0,           0,           0,           0,           0,           0,           0,           0,           0,           0,           0,           0,           0,\n",
      "                  0,           0,           0,           0,           0,           0,           0,           0,           0,           0,           0]]), 'Confidence', 'Recall']]\n",
      "fitness: np.float64(0.34265437487997275)\n",
      "keys: ['metrics/precision(B)', 'metrics/recall(B)', 'metrics/mAP50(B)', 'metrics/mAP50-95(B)']\n",
      "maps: array([    0.30449])\n",
      "names: {0: 'bird'}\n",
      "plot: True\n",
      "results_dict: {'metrics/precision(B)': np.float64(0.8029738288602651), 'metrics/recall(B)': np.float64(0.6324017046471206), 'metrics/mAP50(B)': np.float64(0.6861344579834343), 'metrics/mAP50-95(B)': np.float64(0.30448992120181034), 'fitness': np.float64(0.34265437487997275)}\n",
      "save_dir: PosixPath('runs/detect/val3')\n",
      "speed: {'preprocess': 12.434738064521593, 'inference': 79.75918567741071, 'loss': 0.0007825161270785988, 'postprocess': 2.6489816451548025}\n",
      "task: 'detect'\n"
     ]
    }
   ],
   "source": [
    "# Load best or last checkpoint\n",
    "model = YOLO(\"runs/detect/train/weights/last.pt\")\n",
    "# Evaluate on the test split defined in test.yaml\n",
    "metrics = model.val(data=yolo_data, imgsz=1280, save=True, split='test')\n",
    "print(metrics)"
   ]
  },
  {
   "cell_type": "code",
   "execution_count": 13,
   "metadata": {
    "colab": {
     "base_uri": "https://localhost:8080/",
     "height": 53
    },
    "executionInfo": {
     "elapsed": 1238,
     "status": "ok",
     "timestamp": 1746645282995,
     "user": {
      "displayName": "Eugen Falca",
      "userId": "06470857081734833614"
     },
     "user_tz": -120
    },
    "id": "XRCY3KgPOxDr",
    "outputId": "e94128d2-02f9-4a0b-d574-56a91a653ce4"
   },
   "outputs": [
    {
     "data": {
      "application/vnd.google.colaboratory.intrinsic+json": {
       "type": "string"
      },
      "text/plain": [
       "'/content/drive/MyDrive/JADS group assignments Semester 2/Deep Learning - Group Assignment/dev/logs/yolo_large_experiment'"
      ]
     },
     "execution_count": 13,
     "metadata": {},
     "output_type": "execute_result"
    }
   ],
   "source": [
    "# Define the source and destination directories\n",
    "src = \"runs/detect\"\n",
    "custom_name = \"yolo_large_experiment\"\n",
    "dst = logs + custom_name\n",
    "\n",
    "# Copy the directory recursively, allowing overwriting\n",
    "shutil.copytree(src, dst, dirs_exist_ok=True)  # dirs_exist_ok=True allows copying even if dst exists"
   ]
  },
  {
   "cell_type": "code",
   "execution_count": 11,
   "metadata": {
    "colab": {
     "base_uri": "https://localhost:8080/"
    },
    "executionInfo": {
     "elapsed": 170,
     "status": "ok",
     "timestamp": 1746645256372,
     "user": {
      "displayName": "Eugen Falca",
      "userId": "06470857081734833614"
     },
     "user_tz": -120
    },
    "id": "teb6bFnOO6dl",
    "outputId": "5332799c-6d3a-423d-f44d-241e0786118c"
   },
   "outputs": [
    {
     "name": "stdout",
     "output_type": "stream",
     "text": [
      "Model saved to /content/drive/MyDrive/JADS group assignments Semester 2/Deep Learning - Group Assignment/dev/models/yolov11large_freeze_10_base_hp_70_epochs_last.pt\n"
     ]
    }
   ],
   "source": [
    "import shutil\n",
    "\n",
    "# Path to YOLOv8 trained model weights\n",
    "trained_model_path = 'runs/detect/train/weights/last.pt' #update with the corresponding path\n",
    "\n",
    "# Path to save in Google Drive with a custom name\n",
    "custom_name = 'yolov11large_freeze_10_base_hp_70_epochs_last.pt'  # Replace with your desired name\n",
    "destination_path = f'{models}/{custom_name}'\n",
    "\n",
    "# Copy the best model to Google Drive\n",
    "shutil.copy(trained_model_path, destination_path)\n",
    "\n",
    "print(f'Model saved to {destination_path}')"
   ]
  },
  {
   "cell_type": "code",
   "execution_count": 12,
   "metadata": {
    "colab": {
     "base_uri": "https://localhost:8080/"
    },
    "executionInfo": {
     "elapsed": 156,
     "status": "ok",
     "timestamp": 1746645271969,
     "user": {
      "displayName": "Eugen Falca",
      "userId": "06470857081734833614"
     },
     "user_tz": -120
    },
    "id": "BvOT70b0UCWg",
    "outputId": "99d21497-83f7-4fe3-c4de-6770c362d58f"
   },
   "outputs": [
    {
     "name": "stdout",
     "output_type": "stream",
     "text": [
      "Model saved to /content/drive/MyDrive/JADS group assignments Semester 2/Deep Learning - Group Assignment/dev/models/yolov11large_freeze_10_base_hp_70_epochs_best.pt\n"
     ]
    }
   ],
   "source": [
    "import shutil\n",
    "\n",
    "# Path to YOLOv8 trained model weights\n",
    "trained_model_path = 'runs/detect/train/weights/best.pt' #update with the corresponding path\n",
    "\n",
    "# Path to save in Google Drive with a custom name\n",
    "custom_name = 'yolov11large_freeze_10_base_hp_70_epochs_best.pt'  # Replace with your desired name\n",
    "destination_path = f'{models}/{custom_name}'\n",
    "\n",
    "# Copy the best model to Google Drive\n",
    "shutil.copy(trained_model_path, destination_path)\n",
    "\n",
    "print(f'Model saved to {destination_path}')"
   ]
  },
  {
   "cell_type": "code",
   "execution_count": 6,
   "metadata": {
    "colab": {
     "base_uri": "https://localhost:8080/"
    },
    "executionInfo": {
     "elapsed": 79713,
     "status": "ok",
     "timestamp": 1746638781860,
     "user": {
      "displayName": "Eugen Falca",
      "userId": "06470857081734833614"
     },
     "user_tz": -120
    },
    "id": "DaGmKnIvxK8b",
    "outputId": "9c830542-e05d-4ff7-ca0f-beb13d6e47a5"
   },
   "outputs": [
    {
     "name": "stdout",
     "output_type": "stream",
     "text": [
      "Ultralytics 8.3.128 🚀 Python-3.11.12 torch-2.6.0+cu124 CUDA:0 (Tesla T4, 15095MiB)\n",
      "YOLO11m summary (fused): 125 layers, 20,030,803 parameters, 0 gradients, 67.6 GFLOPs\n",
      "Downloading https://ultralytics.com/assets/Arial.ttf to '/root/.config/Ultralytics/Arial.ttf'...\n"
     ]
    },
    {
     "name": "stderr",
     "output_type": "stream",
     "text": [
      "100%|██████████| 755k/755k [00:00<00:00, 22.6MB/s]\n"
     ]
    },
    {
     "name": "stdout",
     "output_type": "stream",
     "text": [
      "\u001b[34m\u001b[1mval: \u001b[0mFast image access ✅ (ping: 0.6±0.2 ms, read: 11.8±3.5 MB/s, size: 11763.7 KB)\n"
     ]
    },
    {
     "name": "stderr",
     "output_type": "stream",
     "text": [
      "\u001b[34m\u001b[1mval: \u001b[0mScanning /content/drive/.shortcut-targets-by-id/1ul61U35aG3KhMRm83t3YVDwsRzb7rDsy/JADS group assignments Semester 2/Deep Learning - Group Assignment/dev/data/data_yolo_format/test/labels... 31 images, 2 backgrounds, 0 corrupt: 100%|██████████| 31/31 [00:36<00:00,  1.18s/it]"
     ]
    },
    {
     "name": "stdout",
     "output_type": "stream",
     "text": [
      "\u001b[34m\u001b[1mval: \u001b[0mNew cache created: /content/drive/.shortcut-targets-by-id/1ul61U35aG3KhMRm83t3YVDwsRzb7rDsy/JADS group assignments Semester 2/Deep Learning - Group Assignment/dev/data/data_yolo_format/test/labels.cache\n"
     ]
    },
    {
     "name": "stderr",
     "output_type": "stream",
     "text": [
      "\n",
      "                 Class     Images  Instances      Box(P          R      mAP50  mAP50-95): 100%|██████████| 2/2 [00:05<00:00,  2.75s/it]\n"
     ]
    },
    {
     "name": "stdout",
     "output_type": "stream",
     "text": [
      "                   all         31        174      0.879      0.655      0.744      0.333\n",
      "Speed: 16.9ms preprocess, 61.1ms inference, 0.0ms loss, 19.1ms postprocess per image\n",
      "Results saved to \u001b[1mruns/detect/val\u001b[0m\n",
      "ultralytics.utils.metrics.DetMetrics object with attributes:\n",
      "\n",
      "ap_class_index: array([0])\n",
      "box: ultralytics.utils.metrics.Metric object\n",
      "confusion_matrix: <ultralytics.utils.metrics.ConfusionMatrix object at 0x7f73a2a9ec10>\n",
      "curves: ['Precision-Recall(B)', 'F1-Confidence(B)', 'Precision-Confidence(B)', 'Recall-Confidence(B)']\n",
      "curves_results: [[array([          0,    0.001001,    0.002002,    0.003003,    0.004004,    0.005005,    0.006006,    0.007007,    0.008008,    0.009009,     0.01001,    0.011011,    0.012012,    0.013013,    0.014014,    0.015015,    0.016016,    0.017017,    0.018018,    0.019019,     0.02002,    0.021021,    0.022022,    0.023023,\n",
      "          0.024024,    0.025025,    0.026026,    0.027027,    0.028028,    0.029029,     0.03003,    0.031031,    0.032032,    0.033033,    0.034034,    0.035035,    0.036036,    0.037037,    0.038038,    0.039039,     0.04004,    0.041041,    0.042042,    0.043043,    0.044044,    0.045045,    0.046046,    0.047047,\n",
      "          0.048048,    0.049049,     0.05005,    0.051051,    0.052052,    0.053053,    0.054054,    0.055055,    0.056056,    0.057057,    0.058058,    0.059059,     0.06006,    0.061061,    0.062062,    0.063063,    0.064064,    0.065065,    0.066066,    0.067067,    0.068068,    0.069069,     0.07007,    0.071071,\n",
      "          0.072072,    0.073073,    0.074074,    0.075075,    0.076076,    0.077077,    0.078078,    0.079079,     0.08008,    0.081081,    0.082082,    0.083083,    0.084084,    0.085085,    0.086086,    0.087087,    0.088088,    0.089089,     0.09009,    0.091091,    0.092092,    0.093093,    0.094094,    0.095095,\n",
      "          0.096096,    0.097097,    0.098098,    0.099099,      0.1001,      0.1011,      0.1021,      0.1031,      0.1041,     0.10511,     0.10611,     0.10711,     0.10811,     0.10911,     0.11011,     0.11111,     0.11211,     0.11311,     0.11411,     0.11512,     0.11612,     0.11712,     0.11812,     0.11912,\n",
      "           0.12012,     0.12112,     0.12212,     0.12312,     0.12412,     0.12513,     0.12613,     0.12713,     0.12813,     0.12913,     0.13013,     0.13113,     0.13213,     0.13313,     0.13413,     0.13514,     0.13614,     0.13714,     0.13814,     0.13914,     0.14014,     0.14114,     0.14214,     0.14314,\n",
      "           0.14414,     0.14515,     0.14615,     0.14715,     0.14815,     0.14915,     0.15015,     0.15115,     0.15215,     0.15315,     0.15415,     0.15516,     0.15616,     0.15716,     0.15816,     0.15916,     0.16016,     0.16116,     0.16216,     0.16316,     0.16416,     0.16517,     0.16617,     0.16717,\n",
      "           0.16817,     0.16917,     0.17017,     0.17117,     0.17217,     0.17317,     0.17417,     0.17518,     0.17618,     0.17718,     0.17818,     0.17918,     0.18018,     0.18118,     0.18218,     0.18318,     0.18418,     0.18519,     0.18619,     0.18719,     0.18819,     0.18919,     0.19019,     0.19119,\n",
      "           0.19219,     0.19319,     0.19419,      0.1952,      0.1962,      0.1972,      0.1982,      0.1992,      0.2002,      0.2012,      0.2022,      0.2032,      0.2042,     0.20521,     0.20621,     0.20721,     0.20821,     0.20921,     0.21021,     0.21121,     0.21221,     0.21321,     0.21421,     0.21522,\n",
      "           0.21622,     0.21722,     0.21822,     0.21922,     0.22022,     0.22122,     0.22222,     0.22322,     0.22422,     0.22523,     0.22623,     0.22723,     0.22823,     0.22923,     0.23023,     0.23123,     0.23223,     0.23323,     0.23423,     0.23524,     0.23624,     0.23724,     0.23824,     0.23924,\n",
      "           0.24024,     0.24124,     0.24224,     0.24324,     0.24424,     0.24525,     0.24625,     0.24725,     0.24825,     0.24925,     0.25025,     0.25125,     0.25225,     0.25325,     0.25425,     0.25526,     0.25626,     0.25726,     0.25826,     0.25926,     0.26026,     0.26126,     0.26226,     0.26326,\n",
      "           0.26426,     0.26527,     0.26627,     0.26727,     0.26827,     0.26927,     0.27027,     0.27127,     0.27227,     0.27327,     0.27427,     0.27528,     0.27628,     0.27728,     0.27828,     0.27928,     0.28028,     0.28128,     0.28228,     0.28328,     0.28428,     0.28529,     0.28629,     0.28729,\n",
      "           0.28829,     0.28929,     0.29029,     0.29129,     0.29229,     0.29329,     0.29429,      0.2953,      0.2963,      0.2973,      0.2983,      0.2993,      0.3003,      0.3013,      0.3023,      0.3033,      0.3043,     0.30531,     0.30631,     0.30731,     0.30831,     0.30931,     0.31031,     0.31131,\n",
      "           0.31231,     0.31331,     0.31431,     0.31532,     0.31632,     0.31732,     0.31832,     0.31932,     0.32032,     0.32132,     0.32232,     0.32332,     0.32432,     0.32533,     0.32633,     0.32733,     0.32833,     0.32933,     0.33033,     0.33133,     0.33233,     0.33333,     0.33433,     0.33534,\n",
      "           0.33634,     0.33734,     0.33834,     0.33934,     0.34034,     0.34134,     0.34234,     0.34334,     0.34434,     0.34535,     0.34635,     0.34735,     0.34835,     0.34935,     0.35035,     0.35135,     0.35235,     0.35335,     0.35435,     0.35536,     0.35636,     0.35736,     0.35836,     0.35936,\n",
      "           0.36036,     0.36136,     0.36236,     0.36336,     0.36436,     0.36537,     0.36637,     0.36737,     0.36837,     0.36937,     0.37037,     0.37137,     0.37237,     0.37337,     0.37437,     0.37538,     0.37638,     0.37738,     0.37838,     0.37938,     0.38038,     0.38138,     0.38238,     0.38338,\n",
      "           0.38438,     0.38539,     0.38639,     0.38739,     0.38839,     0.38939,     0.39039,     0.39139,     0.39239,     0.39339,     0.39439,      0.3954,      0.3964,      0.3974,      0.3984,      0.3994,      0.4004,      0.4014,      0.4024,      0.4034,      0.4044,     0.40541,     0.40641,     0.40741,\n",
      "           0.40841,     0.40941,     0.41041,     0.41141,     0.41241,     0.41341,     0.41441,     0.41542,     0.41642,     0.41742,     0.41842,     0.41942,     0.42042,     0.42142,     0.42242,     0.42342,     0.42442,     0.42543,     0.42643,     0.42743,     0.42843,     0.42943,     0.43043,     0.43143,\n",
      "           0.43243,     0.43343,     0.43443,     0.43544,     0.43644,     0.43744,     0.43844,     0.43944,     0.44044,     0.44144,     0.44244,     0.44344,     0.44444,     0.44545,     0.44645,     0.44745,     0.44845,     0.44945,     0.45045,     0.45145,     0.45245,     0.45345,     0.45445,     0.45546,\n",
      "           0.45646,     0.45746,     0.45846,     0.45946,     0.46046,     0.46146,     0.46246,     0.46346,     0.46446,     0.46547,     0.46647,     0.46747,     0.46847,     0.46947,     0.47047,     0.47147,     0.47247,     0.47347,     0.47447,     0.47548,     0.47648,     0.47748,     0.47848,     0.47948,\n",
      "           0.48048,     0.48148,     0.48248,     0.48348,     0.48448,     0.48549,     0.48649,     0.48749,     0.48849,     0.48949,     0.49049,     0.49149,     0.49249,     0.49349,     0.49449,      0.4955,      0.4965,      0.4975,      0.4985,      0.4995,      0.5005,      0.5015,      0.5025,      0.5035,\n",
      "            0.5045,     0.50551,     0.50651,     0.50751,     0.50851,     0.50951,     0.51051,     0.51151,     0.51251,     0.51351,     0.51451,     0.51552,     0.51652,     0.51752,     0.51852,     0.51952,     0.52052,     0.52152,     0.52252,     0.52352,     0.52452,     0.52553,     0.52653,     0.52753,\n",
      "           0.52853,     0.52953,     0.53053,     0.53153,     0.53253,     0.53353,     0.53453,     0.53554,     0.53654,     0.53754,     0.53854,     0.53954,     0.54054,     0.54154,     0.54254,     0.54354,     0.54454,     0.54555,     0.54655,     0.54755,     0.54855,     0.54955,     0.55055,     0.55155,\n",
      "           0.55255,     0.55355,     0.55455,     0.55556,     0.55656,     0.55756,     0.55856,     0.55956,     0.56056,     0.56156,     0.56256,     0.56356,     0.56456,     0.56557,     0.56657,     0.56757,     0.56857,     0.56957,     0.57057,     0.57157,     0.57257,     0.57357,     0.57457,     0.57558,\n",
      "           0.57658,     0.57758,     0.57858,     0.57958,     0.58058,     0.58158,     0.58258,     0.58358,     0.58458,     0.58559,     0.58659,     0.58759,     0.58859,     0.58959,     0.59059,     0.59159,     0.59259,     0.59359,     0.59459,      0.5956,      0.5966,      0.5976,      0.5986,      0.5996,\n",
      "            0.6006,      0.6016,      0.6026,      0.6036,      0.6046,     0.60561,     0.60661,     0.60761,     0.60861,     0.60961,     0.61061,     0.61161,     0.61261,     0.61361,     0.61461,     0.61562,     0.61662,     0.61762,     0.61862,     0.61962,     0.62062,     0.62162,     0.62262,     0.62362,\n",
      "           0.62462,     0.62563,     0.62663,     0.62763,     0.62863,     0.62963,     0.63063,     0.63163,     0.63263,     0.63363,     0.63463,     0.63564,     0.63664,     0.63764,     0.63864,     0.63964,     0.64064,     0.64164,     0.64264,     0.64364,     0.64464,     0.64565,     0.64665,     0.64765,\n",
      "           0.64865,     0.64965,     0.65065,     0.65165,     0.65265,     0.65365,     0.65465,     0.65566,     0.65666,     0.65766,     0.65866,     0.65966,     0.66066,     0.66166,     0.66266,     0.66366,     0.66466,     0.66567,     0.66667,     0.66767,     0.66867,     0.66967,     0.67067,     0.67167,\n",
      "           0.67267,     0.67367,     0.67467,     0.67568,     0.67668,     0.67768,     0.67868,     0.67968,     0.68068,     0.68168,     0.68268,     0.68368,     0.68468,     0.68569,     0.68669,     0.68769,     0.68869,     0.68969,     0.69069,     0.69169,     0.69269,     0.69369,     0.69469,      0.6957,\n",
      "            0.6967,      0.6977,      0.6987,      0.6997,      0.7007,      0.7017,      0.7027,      0.7037,      0.7047,     0.70571,     0.70671,     0.70771,     0.70871,     0.70971,     0.71071,     0.71171,     0.71271,     0.71371,     0.71471,     0.71572,     0.71672,     0.71772,     0.71872,     0.71972,\n",
      "           0.72072,     0.72172,     0.72272,     0.72372,     0.72472,     0.72573,     0.72673,     0.72773,     0.72873,     0.72973,     0.73073,     0.73173,     0.73273,     0.73373,     0.73473,     0.73574,     0.73674,     0.73774,     0.73874,     0.73974,     0.74074,     0.74174,     0.74274,     0.74374,\n",
      "           0.74474,     0.74575,     0.74675,     0.74775,     0.74875,     0.74975,     0.75075,     0.75175,     0.75275,     0.75375,     0.75475,     0.75576,     0.75676,     0.75776,     0.75876,     0.75976,     0.76076,     0.76176,     0.76276,     0.76376,     0.76476,     0.76577,     0.76677,     0.76777,\n",
      "           0.76877,     0.76977,     0.77077,     0.77177,     0.77277,     0.77377,     0.77477,     0.77578,     0.77678,     0.77778,     0.77878,     0.77978,     0.78078,     0.78178,     0.78278,     0.78378,     0.78478,     0.78579,     0.78679,     0.78779,     0.78879,     0.78979,     0.79079,     0.79179,\n",
      "           0.79279,     0.79379,     0.79479,      0.7958,      0.7968,      0.7978,      0.7988,      0.7998,      0.8008,      0.8018,      0.8028,      0.8038,      0.8048,     0.80581,     0.80681,     0.80781,     0.80881,     0.80981,     0.81081,     0.81181,     0.81281,     0.81381,     0.81481,     0.81582,\n",
      "           0.81682,     0.81782,     0.81882,     0.81982,     0.82082,     0.82182,     0.82282,     0.82382,     0.82482,     0.82583,     0.82683,     0.82783,     0.82883,     0.82983,     0.83083,     0.83183,     0.83283,     0.83383,     0.83483,     0.83584,     0.83684,     0.83784,     0.83884,     0.83984,\n",
      "           0.84084,     0.84184,     0.84284,     0.84384,     0.84484,     0.84585,     0.84685,     0.84785,     0.84885,     0.84985,     0.85085,     0.85185,     0.85285,     0.85385,     0.85485,     0.85586,     0.85686,     0.85786,     0.85886,     0.85986,     0.86086,     0.86186,     0.86286,     0.86386,\n",
      "           0.86486,     0.86587,     0.86687,     0.86787,     0.86887,     0.86987,     0.87087,     0.87187,     0.87287,     0.87387,     0.87487,     0.87588,     0.87688,     0.87788,     0.87888,     0.87988,     0.88088,     0.88188,     0.88288,     0.88388,     0.88488,     0.88589,     0.88689,     0.88789,\n",
      "           0.88889,     0.88989,     0.89089,     0.89189,     0.89289,     0.89389,     0.89489,      0.8959,      0.8969,      0.8979,      0.8989,      0.8999,      0.9009,      0.9019,      0.9029,      0.9039,      0.9049,     0.90591,     0.90691,     0.90791,     0.90891,     0.90991,     0.91091,     0.91191,\n",
      "           0.91291,     0.91391,     0.91491,     0.91592,     0.91692,     0.91792,     0.91892,     0.91992,     0.92092,     0.92192,     0.92292,     0.92392,     0.92492,     0.92593,     0.92693,     0.92793,     0.92893,     0.92993,     0.93093,     0.93193,     0.93293,     0.93393,     0.93493,     0.93594,\n",
      "           0.93694,     0.93794,     0.93894,     0.93994,     0.94094,     0.94194,     0.94294,     0.94394,     0.94494,     0.94595,     0.94695,     0.94795,     0.94895,     0.94995,     0.95095,     0.95195,     0.95295,     0.95395,     0.95495,     0.95596,     0.95696,     0.95796,     0.95896,     0.95996,\n",
      "           0.96096,     0.96196,     0.96296,     0.96396,     0.96496,     0.96597,     0.96697,     0.96797,     0.96897,     0.96997,     0.97097,     0.97197,     0.97297,     0.97397,     0.97497,     0.97598,     0.97698,     0.97798,     0.97898,     0.97998,     0.98098,     0.98198,     0.98298,     0.98398,\n",
      "           0.98498,     0.98599,     0.98699,     0.98799,     0.98899,     0.98999,     0.99099,     0.99199,     0.99299,     0.99399,     0.99499,       0.996,       0.997,       0.998,       0.999,           1]), array([[          1,           1,           1,           1,           1,           1,           1,           1,           1,           1,           1,           1,           1,           1,           1,           1,           1,           1,           1,           1,           1,           1,           1,\n",
      "                  1,           1,           1,           1,           1,           1,           1,           1,           1,           1,           1,           1,           1,           1,           1,           1,           1,           1,           1,           1,           1,           1,           1,\n",
      "                  1,           1,           1,           1,           1,           1,           1,           1,           1,           1,           1,           1,           1,           1,           1,           1,           1,           1,           1,           1,           1,           1,           1,\n",
      "                  1,           1,           1,           1,           1,           1,           1,           1,           1,           1,           1,           1,           1,           1,           1,           1,           1,           1,           1,           1,           1,           1,           1,\n",
      "                  1,           1,           1,           1,           1,           1,           1,           1,           1,           1,           1,           1,           1,           1,           1,           1,           1,           1,           1,           1,           1,           1,           1,\n",
      "                  1,           1,           1,           1,           1,           1,           1,           1,           1,           1,           1,           1,           1,           1,           1,           1,           1,           1,           1,           1,           1,           1,           1,\n",
      "                  1,           1,           1,           1,           1,           1,           1,           1,           1,           1,           1,           1,           1,           1,           1,           1,           1,           1,           1,           1,           1,           1,           1,\n",
      "                  1,           1,           1,           1,           1,           1,           1,           1,           1,           1,           1,           1,           1,           1,           1,           1,           1,           1,           1,           1,           1,           1,           1,\n",
      "                  1,           1,           1,           1,           1,           1,           1,           1,           1,           1,           1,           1,           1,           1,           1,           1,           1,           1,           1,           1,           1,           1,           1,\n",
      "                  1,           1,           1,           1,           1,           1,           1,           1,           1,           1,           1,           1,           1,           1,           1,           1,           1,           1,           1,           1,           1,           1,           1,\n",
      "                  1,           1,           1,           1,           1,           1,           1,           1,           1,           1,           1,           1,           1,           1,           1,           1,           1,           1,           1,           1,           1,           1,           1,\n",
      "                  1,           1,           1,           1,           1,           1,           1,           1,           1,           1,           1,           1,           1,           1,           1,           1,           1,     0.97959,     0.97959,     0.97959,     0.97959,     0.97959,     0.97959,\n",
      "            0.96721,     0.96721,     0.96721,     0.96721,     0.96721,     0.96721,     0.96721,     0.96721,     0.96721,     0.96721,     0.96721,     0.96721,     0.96721,     0.96721,     0.96721,     0.96721,     0.96721,     0.96721,     0.96721,     0.96721,     0.96721,     0.96721,     0.96721,\n",
      "            0.96721,     0.96721,     0.96721,     0.96721,     0.96721,     0.96721,     0.96721,     0.96721,     0.96721,     0.96721,     0.96721,     0.96721,     0.96721,     0.96721,     0.96721,     0.96721,     0.96721,     0.96721,     0.96721,     0.96721,     0.96721,     0.96721,     0.96721,\n",
      "            0.96721,     0.96721,     0.96721,     0.96721,     0.96721,     0.96721,     0.96721,     0.96721,     0.96721,     0.96721,     0.96721,     0.96721,     0.96721,     0.96721,     0.96721,     0.96721,     0.96721,     0.95714,     0.95714,     0.95714,     0.95714,     0.95714,     0.95714,\n",
      "            0.95714,     0.95714,     0.95714,     0.95714,     0.95714,     0.95714,     0.95714,     0.95714,     0.95714,     0.95714,     0.95714,     0.95714,     0.95714,     0.95714,     0.95714,     0.95714,     0.95714,     0.95714,     0.95714,     0.95714,     0.95714,     0.95714,     0.95714,\n",
      "            0.95714,     0.95714,     0.95714,     0.95714,     0.95714,     0.95714,     0.95714,     0.95714,     0.95714,     0.95714,     0.95714,     0.95714,     0.95714,     0.95714,     0.95714,     0.95714,     0.95714,     0.94595,     0.94595,     0.94595,     0.94595,     0.94595,     0.94595,\n",
      "            0.94595,     0.94595,     0.94595,     0.94595,     0.94595,     0.94595,     0.94595,     0.94595,     0.94595,     0.94595,     0.94595,     0.92405,     0.92405,     0.92405,     0.92405,     0.92405,     0.92405,     0.92405,     0.92405,     0.92405,     0.92405,     0.92405,     0.92405,\n",
      "            0.92405,     0.92405,     0.92405,     0.92405,     0.92405,     0.92405,      0.9186,      0.9186,      0.9186,      0.9186,      0.9186,      0.9186,      0.9186,      0.9186,      0.9186,      0.9186,      0.9186,      0.9186,      0.9186,      0.9186,      0.9186,      0.9186,      0.9186,\n",
      "             0.9186,      0.9186,      0.9186,      0.9186,      0.9186,      0.9186,      0.9186,      0.9186,      0.9186,      0.9186,      0.9186,      0.9186,      0.9186,      0.9186,      0.9186,      0.9186,      0.9186,     0.91667,     0.91667,     0.91667,     0.91667,     0.91667,     0.91667,\n",
      "            0.91667,     0.91667,     0.91667,     0.91667,     0.91667,     0.91667,     0.91667,     0.91667,     0.91667,     0.91667,     0.91667,     0.91667,     0.91667,     0.91667,     0.91667,     0.91667,     0.91667,     0.91667,     0.91667,     0.91667,     0.91667,     0.91667,     0.91667,\n",
      "            0.91667,     0.91667,     0.91667,     0.91667,     0.91667,     0.91667,     0.91667,     0.91667,     0.91667,     0.91667,     0.91667,     0.91667,     0.91667,     0.91667,     0.91667,     0.91667,     0.91667,     0.91667,     0.91667,     0.91667,     0.91667,     0.91667,     0.91667,\n",
      "            0.91667,     0.91667,     0.91667,     0.91667,     0.91667,     0.91667,     0.91667,     0.91667,     0.91667,     0.91667,     0.91667,     0.91667,     0.91667,     0.91667,     0.91667,     0.91667,     0.91667,     0.91667,     0.91667,     0.91667,     0.91667,     0.91667,     0.91667,\n",
      "            0.91667,     0.91667,     0.91667,     0.91667,     0.91667,     0.91667,     0.91667,     0.91667,     0.91667,     0.91667,     0.91667,     0.91667,     0.91667,     0.91667,     0.91667,     0.91667,     0.91667,     0.91667,     0.91667,     0.91667,     0.91667,     0.91667,     0.91667,\n",
      "            0.91667,     0.91667,     0.91667,     0.91667,     0.91667,     0.91667,     0.91667,     0.91667,     0.91667,     0.91667,     0.91667,     0.91667,     0.91667,     0.91667,     0.91667,     0.91667,     0.91667,     0.89381,     0.89381,     0.89381,     0.89381,     0.89381,     0.89381,\n",
      "            0.89381,     0.89381,     0.89381,     0.89381,     0.89381,     0.89062,     0.89062,     0.89062,     0.89062,     0.89062,     0.89062,     0.89062,     0.89062,     0.89062,     0.89062,     0.89062,     0.89062,     0.89062,     0.89062,     0.89062,     0.89062,     0.89062,     0.89062,\n",
      "            0.89062,     0.89062,     0.89062,     0.89062,     0.89062,     0.89062,     0.89062,     0.89062,     0.89062,     0.89062,     0.89062,     0.89062,     0.89062,     0.89062,     0.89062,     0.89062,     0.89062,     0.89062,     0.89062,     0.89062,     0.89062,     0.89062,     0.89062,\n",
      "            0.89062,     0.89062,     0.89062,     0.89062,     0.89062,     0.89062,     0.89062,     0.89062,     0.89062,     0.89062,     0.89062,     0.89062,     0.89062,     0.89062,     0.89062,     0.89062,     0.89062,     0.89062,     0.89062,     0.89062,     0.89062,     0.89062,     0.89062,\n",
      "            0.89062,     0.89062,     0.89062,     0.89062,     0.89062,     0.89062,     0.89062,     0.89062,     0.89062,     0.89062,     0.89062,     0.87879,     0.87879,     0.87879,     0.87879,     0.87879,     0.87879,     0.87879,     0.87879,     0.87879,     0.87879,     0.87879,     0.85401,\n",
      "            0.85401,     0.85401,     0.85401,     0.85401,     0.85401,     0.84286,     0.84286,     0.84286,     0.84286,     0.84286,     0.84286,     0.82069,     0.82069,     0.82069,     0.82069,     0.82069,     0.82069,     0.80537,     0.80537,     0.80537,     0.80537,     0.80537,     0.79739,\n",
      "            0.79739,     0.79739,     0.79739,     0.79739,     0.79739,     0.79739,     0.79739,     0.79739,     0.79739,     0.79739,     0.79739,        0.75,        0.75,        0.75,        0.75,        0.75,        0.75,     0.74251,     0.74251,     0.74251,     0.74251,     0.74251,     0.73099,\n",
      "            0.73099,     0.73099,     0.73099,     0.73099,     0.73099,     0.72832,     0.72832,     0.72832,     0.72832,     0.72832,     0.72832,     0.72159,     0.72159,     0.72159,     0.72159,     0.72159,     0.72159,     0.65641,     0.65641,     0.65641,     0.65641,     0.65641,     0.65482,\n",
      "            0.65482,     0.65482,     0.65482,     0.65482,     0.65482,     0.60465,     0.60465,     0.60465,     0.60465,     0.60465,     0.60465,     0.57965,     0.57965,     0.57965,     0.57965,     0.57965,     0.57965,     0.57391,     0.57391,     0.57391,     0.57391,     0.57391,     0.54733,\n",
      "            0.54733,     0.54733,     0.54733,     0.54733,     0.54733,     0.48201,     0.48201,     0.48201,     0.48201,     0.48201,     0.48201,     0.45918,     0.45918,     0.45918,     0.45918,     0.45918,     0.45918,     0.40476,     0.40476,     0.40476,     0.40476,     0.40476,     0.37127,\n",
      "            0.37127,     0.37127,     0.37127,     0.37127,     0.37127,     0.36605,     0.36605,     0.36605,     0.36605,     0.36605,     0.36605,     0.35013,     0.35013,     0.35013,     0.35013,     0.35013,     0.35013,     0.29915,     0.29915,     0.29915,     0.29915,     0.29915,     0.28717,\n",
      "            0.28717,     0.28717,     0.28717,     0.28717,     0.28717,     0.28063,     0.28063,     0.28063,     0.28063,     0.28063,     0.28063,     0.22274,     0.22274,     0.22274,     0.22274,     0.22274,     0.22274,     0.21674,     0.21674,     0.21674,     0.21674,     0.21674,     0.21674,\n",
      "            0.21674,     0.21674,     0.21674,     0.21674,     0.21674,     0.17697,     0.17697,     0.17697,     0.17697,     0.17697,     0.17697,     0.16382,      0.1628,     0.16178,     0.16075,     0.15973,      0.1587,     0.15768,     0.15666,     0.15563,     0.15461,     0.15358,     0.15256,\n",
      "            0.15154,     0.15051,     0.14949,     0.14846,     0.14744,     0.14642,     0.14539,     0.14437,     0.14335,     0.14232,      0.1413,     0.14027,     0.13925,     0.13823,      0.1372,     0.13618,     0.13515,     0.13413,     0.13311,     0.13208,     0.13106,     0.13003,     0.12901,\n",
      "            0.12799,     0.12696,     0.12594,     0.12492,     0.12389,     0.12287,     0.12184,     0.12082,      0.1198,     0.11877,     0.11775,     0.11672,      0.1157,     0.11468,     0.11365,     0.11263,      0.1116,     0.11058,     0.10956,     0.10853,     0.10751,     0.10648,     0.10546,\n",
      "            0.10444,     0.10341,     0.10239,     0.10137,     0.10034,    0.099318,    0.098294,     0.09727,    0.096246,    0.095222,    0.094198,    0.093174,     0.09215,    0.091127,    0.090103,    0.089079,    0.088055,    0.087031,    0.086007,    0.084983,    0.083959,    0.082935,    0.081912,\n",
      "           0.080888,    0.079864,     0.07884,    0.077816,    0.076792,    0.075768,    0.074744,     0.07372,    0.072696,    0.071673,    0.070649,    0.069625,    0.068601,    0.067577,    0.066553,    0.065529,    0.064505,    0.063481,    0.062458,    0.061434,     0.06041,    0.059386,    0.058362,\n",
      "           0.057338,    0.056314,     0.05529,    0.054266,    0.053242,    0.052219,    0.051195,    0.050171,    0.049147,    0.048123,    0.047099,    0.046075,    0.045051,    0.044027,    0.043004,     0.04198,    0.040956,    0.039932,    0.038908,    0.037884,     0.03686,    0.035836,    0.034812,\n",
      "           0.033788,    0.032765,    0.031741,    0.030717,    0.029693,    0.028669,    0.027645,    0.026621,    0.025597,    0.024573,     0.02355,    0.022526,    0.021502,    0.020478,    0.019454,     0.01843,    0.017406,    0.016382,    0.015358,    0.014335,    0.013311,    0.012287,    0.011263,\n",
      "           0.010239,    0.009215,   0.0081912,   0.0071673,   0.0061434,   0.0051195,   0.0040956,   0.0030717,   0.0020478,   0.0010239,           0]]), 'Recall', 'Precision'], [array([          0,    0.001001,    0.002002,    0.003003,    0.004004,    0.005005,    0.006006,    0.007007,    0.008008,    0.009009,     0.01001,    0.011011,    0.012012,    0.013013,    0.014014,    0.015015,    0.016016,    0.017017,    0.018018,    0.019019,     0.02002,    0.021021,    0.022022,    0.023023,\n",
      "          0.024024,    0.025025,    0.026026,    0.027027,    0.028028,    0.029029,     0.03003,    0.031031,    0.032032,    0.033033,    0.034034,    0.035035,    0.036036,    0.037037,    0.038038,    0.039039,     0.04004,    0.041041,    0.042042,    0.043043,    0.044044,    0.045045,    0.046046,    0.047047,\n",
      "          0.048048,    0.049049,     0.05005,    0.051051,    0.052052,    0.053053,    0.054054,    0.055055,    0.056056,    0.057057,    0.058058,    0.059059,     0.06006,    0.061061,    0.062062,    0.063063,    0.064064,    0.065065,    0.066066,    0.067067,    0.068068,    0.069069,     0.07007,    0.071071,\n",
      "          0.072072,    0.073073,    0.074074,    0.075075,    0.076076,    0.077077,    0.078078,    0.079079,     0.08008,    0.081081,    0.082082,    0.083083,    0.084084,    0.085085,    0.086086,    0.087087,    0.088088,    0.089089,     0.09009,    0.091091,    0.092092,    0.093093,    0.094094,    0.095095,\n",
      "          0.096096,    0.097097,    0.098098,    0.099099,      0.1001,      0.1011,      0.1021,      0.1031,      0.1041,     0.10511,     0.10611,     0.10711,     0.10811,     0.10911,     0.11011,     0.11111,     0.11211,     0.11311,     0.11411,     0.11512,     0.11612,     0.11712,     0.11812,     0.11912,\n",
      "           0.12012,     0.12112,     0.12212,     0.12312,     0.12412,     0.12513,     0.12613,     0.12713,     0.12813,     0.12913,     0.13013,     0.13113,     0.13213,     0.13313,     0.13413,     0.13514,     0.13614,     0.13714,     0.13814,     0.13914,     0.14014,     0.14114,     0.14214,     0.14314,\n",
      "           0.14414,     0.14515,     0.14615,     0.14715,     0.14815,     0.14915,     0.15015,     0.15115,     0.15215,     0.15315,     0.15415,     0.15516,     0.15616,     0.15716,     0.15816,     0.15916,     0.16016,     0.16116,     0.16216,     0.16316,     0.16416,     0.16517,     0.16617,     0.16717,\n",
      "           0.16817,     0.16917,     0.17017,     0.17117,     0.17217,     0.17317,     0.17417,     0.17518,     0.17618,     0.17718,     0.17818,     0.17918,     0.18018,     0.18118,     0.18218,     0.18318,     0.18418,     0.18519,     0.18619,     0.18719,     0.18819,     0.18919,     0.19019,     0.19119,\n",
      "           0.19219,     0.19319,     0.19419,      0.1952,      0.1962,      0.1972,      0.1982,      0.1992,      0.2002,      0.2012,      0.2022,      0.2032,      0.2042,     0.20521,     0.20621,     0.20721,     0.20821,     0.20921,     0.21021,     0.21121,     0.21221,     0.21321,     0.21421,     0.21522,\n",
      "           0.21622,     0.21722,     0.21822,     0.21922,     0.22022,     0.22122,     0.22222,     0.22322,     0.22422,     0.22523,     0.22623,     0.22723,     0.22823,     0.22923,     0.23023,     0.23123,     0.23223,     0.23323,     0.23423,     0.23524,     0.23624,     0.23724,     0.23824,     0.23924,\n",
      "           0.24024,     0.24124,     0.24224,     0.24324,     0.24424,     0.24525,     0.24625,     0.24725,     0.24825,     0.24925,     0.25025,     0.25125,     0.25225,     0.25325,     0.25425,     0.25526,     0.25626,     0.25726,     0.25826,     0.25926,     0.26026,     0.26126,     0.26226,     0.26326,\n",
      "           0.26426,     0.26527,     0.26627,     0.26727,     0.26827,     0.26927,     0.27027,     0.27127,     0.27227,     0.27327,     0.27427,     0.27528,     0.27628,     0.27728,     0.27828,     0.27928,     0.28028,     0.28128,     0.28228,     0.28328,     0.28428,     0.28529,     0.28629,     0.28729,\n",
      "           0.28829,     0.28929,     0.29029,     0.29129,     0.29229,     0.29329,     0.29429,      0.2953,      0.2963,      0.2973,      0.2983,      0.2993,      0.3003,      0.3013,      0.3023,      0.3033,      0.3043,     0.30531,     0.30631,     0.30731,     0.30831,     0.30931,     0.31031,     0.31131,\n",
      "           0.31231,     0.31331,     0.31431,     0.31532,     0.31632,     0.31732,     0.31832,     0.31932,     0.32032,     0.32132,     0.32232,     0.32332,     0.32432,     0.32533,     0.32633,     0.32733,     0.32833,     0.32933,     0.33033,     0.33133,     0.33233,     0.33333,     0.33433,     0.33534,\n",
      "           0.33634,     0.33734,     0.33834,     0.33934,     0.34034,     0.34134,     0.34234,     0.34334,     0.34434,     0.34535,     0.34635,     0.34735,     0.34835,     0.34935,     0.35035,     0.35135,     0.35235,     0.35335,     0.35435,     0.35536,     0.35636,     0.35736,     0.35836,     0.35936,\n",
      "           0.36036,     0.36136,     0.36236,     0.36336,     0.36436,     0.36537,     0.36637,     0.36737,     0.36837,     0.36937,     0.37037,     0.37137,     0.37237,     0.37337,     0.37437,     0.37538,     0.37638,     0.37738,     0.37838,     0.37938,     0.38038,     0.38138,     0.38238,     0.38338,\n",
      "           0.38438,     0.38539,     0.38639,     0.38739,     0.38839,     0.38939,     0.39039,     0.39139,     0.39239,     0.39339,     0.39439,      0.3954,      0.3964,      0.3974,      0.3984,      0.3994,      0.4004,      0.4014,      0.4024,      0.4034,      0.4044,     0.40541,     0.40641,     0.40741,\n",
      "           0.40841,     0.40941,     0.41041,     0.41141,     0.41241,     0.41341,     0.41441,     0.41542,     0.41642,     0.41742,     0.41842,     0.41942,     0.42042,     0.42142,     0.42242,     0.42342,     0.42442,     0.42543,     0.42643,     0.42743,     0.42843,     0.42943,     0.43043,     0.43143,\n",
      "           0.43243,     0.43343,     0.43443,     0.43544,     0.43644,     0.43744,     0.43844,     0.43944,     0.44044,     0.44144,     0.44244,     0.44344,     0.44444,     0.44545,     0.44645,     0.44745,     0.44845,     0.44945,     0.45045,     0.45145,     0.45245,     0.45345,     0.45445,     0.45546,\n",
      "           0.45646,     0.45746,     0.45846,     0.45946,     0.46046,     0.46146,     0.46246,     0.46346,     0.46446,     0.46547,     0.46647,     0.46747,     0.46847,     0.46947,     0.47047,     0.47147,     0.47247,     0.47347,     0.47447,     0.47548,     0.47648,     0.47748,     0.47848,     0.47948,\n",
      "           0.48048,     0.48148,     0.48248,     0.48348,     0.48448,     0.48549,     0.48649,     0.48749,     0.48849,     0.48949,     0.49049,     0.49149,     0.49249,     0.49349,     0.49449,      0.4955,      0.4965,      0.4975,      0.4985,      0.4995,      0.5005,      0.5015,      0.5025,      0.5035,\n",
      "            0.5045,     0.50551,     0.50651,     0.50751,     0.50851,     0.50951,     0.51051,     0.51151,     0.51251,     0.51351,     0.51451,     0.51552,     0.51652,     0.51752,     0.51852,     0.51952,     0.52052,     0.52152,     0.52252,     0.52352,     0.52452,     0.52553,     0.52653,     0.52753,\n",
      "           0.52853,     0.52953,     0.53053,     0.53153,     0.53253,     0.53353,     0.53453,     0.53554,     0.53654,     0.53754,     0.53854,     0.53954,     0.54054,     0.54154,     0.54254,     0.54354,     0.54454,     0.54555,     0.54655,     0.54755,     0.54855,     0.54955,     0.55055,     0.55155,\n",
      "           0.55255,     0.55355,     0.55455,     0.55556,     0.55656,     0.55756,     0.55856,     0.55956,     0.56056,     0.56156,     0.56256,     0.56356,     0.56456,     0.56557,     0.56657,     0.56757,     0.56857,     0.56957,     0.57057,     0.57157,     0.57257,     0.57357,     0.57457,     0.57558,\n",
      "           0.57658,     0.57758,     0.57858,     0.57958,     0.58058,     0.58158,     0.58258,     0.58358,     0.58458,     0.58559,     0.58659,     0.58759,     0.58859,     0.58959,     0.59059,     0.59159,     0.59259,     0.59359,     0.59459,      0.5956,      0.5966,      0.5976,      0.5986,      0.5996,\n",
      "            0.6006,      0.6016,      0.6026,      0.6036,      0.6046,     0.60561,     0.60661,     0.60761,     0.60861,     0.60961,     0.61061,     0.61161,     0.61261,     0.61361,     0.61461,     0.61562,     0.61662,     0.61762,     0.61862,     0.61962,     0.62062,     0.62162,     0.62262,     0.62362,\n",
      "           0.62462,     0.62563,     0.62663,     0.62763,     0.62863,     0.62963,     0.63063,     0.63163,     0.63263,     0.63363,     0.63463,     0.63564,     0.63664,     0.63764,     0.63864,     0.63964,     0.64064,     0.64164,     0.64264,     0.64364,     0.64464,     0.64565,     0.64665,     0.64765,\n",
      "           0.64865,     0.64965,     0.65065,     0.65165,     0.65265,     0.65365,     0.65465,     0.65566,     0.65666,     0.65766,     0.65866,     0.65966,     0.66066,     0.66166,     0.66266,     0.66366,     0.66466,     0.66567,     0.66667,     0.66767,     0.66867,     0.66967,     0.67067,     0.67167,\n",
      "           0.67267,     0.67367,     0.67467,     0.67568,     0.67668,     0.67768,     0.67868,     0.67968,     0.68068,     0.68168,     0.68268,     0.68368,     0.68468,     0.68569,     0.68669,     0.68769,     0.68869,     0.68969,     0.69069,     0.69169,     0.69269,     0.69369,     0.69469,      0.6957,\n",
      "            0.6967,      0.6977,      0.6987,      0.6997,      0.7007,      0.7017,      0.7027,      0.7037,      0.7047,     0.70571,     0.70671,     0.70771,     0.70871,     0.70971,     0.71071,     0.71171,     0.71271,     0.71371,     0.71471,     0.71572,     0.71672,     0.71772,     0.71872,     0.71972,\n",
      "           0.72072,     0.72172,     0.72272,     0.72372,     0.72472,     0.72573,     0.72673,     0.72773,     0.72873,     0.72973,     0.73073,     0.73173,     0.73273,     0.73373,     0.73473,     0.73574,     0.73674,     0.73774,     0.73874,     0.73974,     0.74074,     0.74174,     0.74274,     0.74374,\n",
      "           0.74474,     0.74575,     0.74675,     0.74775,     0.74875,     0.74975,     0.75075,     0.75175,     0.75275,     0.75375,     0.75475,     0.75576,     0.75676,     0.75776,     0.75876,     0.75976,     0.76076,     0.76176,     0.76276,     0.76376,     0.76476,     0.76577,     0.76677,     0.76777,\n",
      "           0.76877,     0.76977,     0.77077,     0.77177,     0.77277,     0.77377,     0.77477,     0.77578,     0.77678,     0.77778,     0.77878,     0.77978,     0.78078,     0.78178,     0.78278,     0.78378,     0.78478,     0.78579,     0.78679,     0.78779,     0.78879,     0.78979,     0.79079,     0.79179,\n",
      "           0.79279,     0.79379,     0.79479,      0.7958,      0.7968,      0.7978,      0.7988,      0.7998,      0.8008,      0.8018,      0.8028,      0.8038,      0.8048,     0.80581,     0.80681,     0.80781,     0.80881,     0.80981,     0.81081,     0.81181,     0.81281,     0.81381,     0.81481,     0.81582,\n",
      "           0.81682,     0.81782,     0.81882,     0.81982,     0.82082,     0.82182,     0.82282,     0.82382,     0.82482,     0.82583,     0.82683,     0.82783,     0.82883,     0.82983,     0.83083,     0.83183,     0.83283,     0.83383,     0.83483,     0.83584,     0.83684,     0.83784,     0.83884,     0.83984,\n",
      "           0.84084,     0.84184,     0.84284,     0.84384,     0.84484,     0.84585,     0.84685,     0.84785,     0.84885,     0.84985,     0.85085,     0.85185,     0.85285,     0.85385,     0.85485,     0.85586,     0.85686,     0.85786,     0.85886,     0.85986,     0.86086,     0.86186,     0.86286,     0.86386,\n",
      "           0.86486,     0.86587,     0.86687,     0.86787,     0.86887,     0.86987,     0.87087,     0.87187,     0.87287,     0.87387,     0.87487,     0.87588,     0.87688,     0.87788,     0.87888,     0.87988,     0.88088,     0.88188,     0.88288,     0.88388,     0.88488,     0.88589,     0.88689,     0.88789,\n",
      "           0.88889,     0.88989,     0.89089,     0.89189,     0.89289,     0.89389,     0.89489,      0.8959,      0.8969,      0.8979,      0.8989,      0.8999,      0.9009,      0.9019,      0.9029,      0.9039,      0.9049,     0.90591,     0.90691,     0.90791,     0.90891,     0.90991,     0.91091,     0.91191,\n",
      "           0.91291,     0.91391,     0.91491,     0.91592,     0.91692,     0.91792,     0.91892,     0.91992,     0.92092,     0.92192,     0.92292,     0.92392,     0.92492,     0.92593,     0.92693,     0.92793,     0.92893,     0.92993,     0.93093,     0.93193,     0.93293,     0.93393,     0.93493,     0.93594,\n",
      "           0.93694,     0.93794,     0.93894,     0.93994,     0.94094,     0.94194,     0.94294,     0.94394,     0.94494,     0.94595,     0.94695,     0.94795,     0.94895,     0.94995,     0.95095,     0.95195,     0.95295,     0.95395,     0.95495,     0.95596,     0.95696,     0.95796,     0.95896,     0.95996,\n",
      "           0.96096,     0.96196,     0.96296,     0.96396,     0.96496,     0.96597,     0.96697,     0.96797,     0.96897,     0.96997,     0.97097,     0.97197,     0.97297,     0.97397,     0.97497,     0.97598,     0.97698,     0.97798,     0.97898,     0.97998,     0.98098,     0.98198,     0.98298,     0.98398,\n",
      "           0.98498,     0.98599,     0.98699,     0.98799,     0.98899,     0.98999,     0.99099,     0.99199,     0.99299,     0.99399,     0.99499,       0.996,       0.997,       0.998,       0.999,           1]), array([[    0.27521,     0.27528,      0.3516,     0.39945,      0.4278,     0.45278,     0.46935,     0.48643,     0.50029,     0.50202,      0.5095,     0.52107,     0.53047,     0.54202,     0.55045,        0.56,     0.56991,     0.57648,     0.57835,     0.58523,     0.58859,     0.58994,     0.59709,\n",
      "            0.60617,     0.61742,     0.61963,     0.62396,       0.631,     0.63463,     0.63644,     0.63729,     0.64028,     0.64691,     0.65087,     0.65082,     0.65317,     0.65313,     0.65934,      0.6615,     0.66831,     0.66734,     0.66638,     0.66542,     0.66605,     0.66987,     0.67246,\n",
      "            0.67542,     0.67577,     0.67612,     0.67648,     0.67683,     0.67896,     0.68086,     0.68175,     0.68267,     0.68388,     0.68593,     0.68854,     0.68971,     0.69213,      0.6931,     0.69323,     0.69147,     0.69379,     0.69457,     0.69515,     0.69574,     0.69741,     0.69936,\n",
      "            0.70064,     0.70171,     0.70227,     0.70284,      0.7034,     0.70532,     0.70642,     0.70736,      0.7085,     0.70974,     0.71129,     0.71324,     0.71571,     0.71614,     0.71657,       0.717,     0.71742,     0.72105,     0.72257,     0.72529,     0.72216,      0.7235,     0.72281,\n",
      "            0.72228,      0.7237,      0.7249,     0.72595,     0.72399,     0.72671,     0.72745,     0.72579,     0.72412,     0.72484,     0.72568,     0.72641,     0.72697,     0.72753,     0.72809,     0.72894,     0.73004,     0.73109,     0.73209,     0.73306,     0.73396,     0.73486,     0.73865,\n",
      "            0.73972,     0.74016,      0.7406,     0.74104,     0.74149,     0.74192,     0.74235,     0.74278,     0.74321,     0.74364,     0.74511,     0.74217,     0.74092,     0.73967,     0.73848,     0.73915,     0.73982,     0.74049,      0.7411,     0.74167,     0.74224,     0.74281,     0.73928,\n",
      "            0.74022,     0.74116,     0.74192,      0.7426,     0.74329,      0.7443,     0.74598,     0.74494,     0.74371,     0.74249,     0.74272,     0.74352,     0.74433,     0.74585,     0.74752,     0.74918,     0.74867,     0.75074,     0.75084,     0.74877,     0.74865,     0.74898,     0.74931,\n",
      "            0.74964,     0.74996,     0.75029,     0.75061,     0.75179,      0.7543,     0.75598,     0.75662,     0.75725,     0.75788,     0.75796,     0.75756,     0.75716,     0.75677,     0.75637,     0.75597,     0.75557,     0.75517,     0.75478,     0.75438,     0.75397,     0.75356,     0.75314,\n",
      "            0.75272,      0.7523,     0.75188,     0.75146,     0.75104,     0.75063,     0.75021,     0.75013,      0.7504,     0.75066,     0.75093,     0.75119,     0.75145,     0.75172,     0.75198,     0.75224,     0.75251,     0.75282,     0.75313,     0.75343,     0.75374,     0.75405,     0.75436,\n",
      "            0.75466,     0.75497,     0.75456,     0.75415,     0.75374,     0.75333,     0.75292,     0.75251,      0.7521,     0.75169,     0.75128,     0.75087,     0.75065,     0.75046,     0.75026,     0.75006,     0.74986,     0.74966,     0.74946,     0.74926,     0.74906,     0.74887,     0.74867,\n",
      "            0.74847,     0.74827,     0.74807,     0.74787,     0.74767,     0.74747,     0.74727,     0.74707,     0.74687,     0.74668,     0.74588,     0.74506,     0.74423,      0.7434,     0.74258,     0.73825,     0.73328,     0.73198,     0.73068,     0.72954,     0.72883,     0.72811,      0.7274,\n",
      "            0.72669,     0.72598,     0.72534,     0.72497,      0.7246,     0.72423,     0.72386,     0.72349,     0.72312,     0.72275,     0.72238,     0.72201,     0.72164,     0.72127,     0.72039,     0.71902,     0.71764,     0.71653,     0.71597,      0.7154,     0.71484,     0.71427,      0.7137,\n",
      "            0.71314,     0.71257,     0.71107,     0.70886,     0.70752,     0.70684,     0.70616,     0.70548,      0.7048,     0.70412,     0.70344,      0.7025,     0.70155,     0.70061,     0.69966,     0.69899,     0.69908,     0.69918,     0.69927,     0.69936,     0.69946,     0.69955,     0.69965,\n",
      "            0.69974,     0.69984,     0.69993,     0.70002,     0.70012,     0.70021,     0.70031,      0.7004,     0.70049,     0.70059,     0.70068,     0.70078,     0.70087,     0.70096,     0.70106,     0.70115,     0.70124,     0.70134,     0.70352,     0.70304,     0.70218,     0.70132,     0.70046,\n",
      "            0.69961,     0.69476,     0.69488,       0.695,     0.69512,     0.69524,     0.69536,     0.69548,      0.6956,     0.69572,     0.69584,     0.69595,     0.69607,     0.69619,     0.69631,     0.69643,     0.69655,     0.69667,     0.69679,      0.6969,     0.69702,     0.69714,     0.69758,\n",
      "            0.69819,      0.6988,     0.69941,     0.69987,     0.70023,     0.70058,     0.70094,      0.7013,     0.70166,     0.70201,     0.70181,     0.70134,     0.70087,      0.7004,     0.69992,     0.69945,     0.69898,     0.69851,     0.69803,     0.69756,     0.69446,     0.69275,     0.69256,\n",
      "            0.69237,     0.69217,     0.69198,     0.69178,     0.69159,     0.69139,      0.6912,       0.691,     0.69081,     0.69062,     0.69042,     0.69023,     0.69003,     0.68984,     0.68964,     0.68945,     0.68925,     0.68906,     0.68886,     0.68867,     0.68847,     0.68828,     0.68741,\n",
      "            0.68578,     0.68415,     0.68329,     0.68301,     0.68274,     0.68246,     0.68218,      0.6819,     0.68162,     0.68134,     0.68106,     0.68078,      0.6805,     0.68022,     0.67993,     0.67965,     0.67937,     0.67909,     0.67881,     0.67374,     0.67226,     0.67079,     0.66931,\n",
      "            0.66785,     0.66639,     0.66492,     0.66384,     0.66309,     0.66234,     0.66158,     0.66083,     0.66008,     0.65932,     0.65824,     0.65716,     0.65608,       0.655,     0.65325,     0.65067,     0.64914,     0.64856,     0.64799,     0.64741,     0.64683,     0.64625,     0.64567,\n",
      "            0.64509,     0.64451,     0.64316,     0.64171,     0.64026,     0.63586,     0.63395,     0.63349,     0.63302,     0.63256,      0.6321,     0.63164,     0.63117,     0.63071,     0.63024,     0.62978,     0.62932,     0.62085,     0.61868,     0.61833,     0.61799,     0.61764,     0.61729,\n",
      "            0.61695,      0.6166,     0.61625,      0.6159,     0.61556,     0.61521,     0.61486,     0.61451,     0.61416,     0.61382,     0.61368,     0.61376,     0.61385,     0.61393,     0.61402,      0.6141,     0.61419,     0.61428,     0.61436,     0.61445,     0.61453,     0.61462,      0.6147,\n",
      "            0.61479,     0.61487,     0.61496,     0.61504,     0.61512,     0.61521,     0.61529,     0.61538,     0.61546,     0.61555,     0.61563,     0.61572,      0.6158,     0.61589,     0.61594,     0.60942,     0.60591,     0.60544,     0.60554,     0.60563,     0.60572,     0.60582,     0.60591,\n",
      "              0.606,      0.6061,     0.60619,     0.60628,     0.60638,     0.60647,     0.60656,     0.60665,     0.60675,     0.60684,     0.60693,     0.60703,     0.60712,     0.60721,      0.6073,      0.6074,     0.60749,     0.60758,     0.60767,     0.60705,     0.60623,     0.60541,     0.60459,\n",
      "            0.60377,     0.60295,     0.60218,     0.60157,     0.60097,     0.60037,     0.59976,     0.59916,     0.59855,     0.59795,     0.59734,     0.59656,      0.5953,     0.59405,     0.59279,     0.59153,     0.59082,     0.59014,     0.58947,     0.58879,     0.58811,     0.58744,     0.58676,\n",
      "            0.58608,     0.58428,     0.58216,      0.5803,     0.57974,     0.57918,     0.57862,     0.57807,     0.57751,     0.57695,     0.57639,     0.57583,     0.57527,     0.57512,      0.5769,     0.57124,     0.56931,     0.56738,     0.56465,     0.56047,     0.56175,     0.56243,     0.56273,\n",
      "            0.56303,     0.56333,     0.56363,     0.56392,     0.56422,     0.56452,     0.55673,     0.55466,     0.55186,     0.54913,     0.53783,     0.53576,     0.53417,     0.53258,     0.53076,     0.52659,     0.52318,     0.52024,     0.51819,     0.51696,     0.51573,     0.51449,     0.51326,\n",
      "            0.51241,     0.51199,     0.51157,     0.51115,     0.51074,     0.51032,      0.5099,     0.50948,     0.50906,     0.50864,     0.50822,      0.5078,     0.50738,     0.50696,     0.50654,     0.50533,     0.50331,     0.50128,     0.50054,       0.502,     0.49814,     0.48683,     0.48241,\n",
      "            0.48146,     0.48052,     0.47957,     0.47863,     0.47768,     0.47673,     0.47418,     0.46954,     0.46674,     0.46392,     0.46122,      0.4586,     0.45609,      0.4554,     0.45471,     0.45401,     0.45332,     0.45262,     0.45192,     0.45123,     0.45053,     0.44983,     0.44905,\n",
      "            0.44809,     0.44712,     0.44615,     0.44518,     0.44421,     0.44323,     0.44019,     0.43237,     0.42874,     0.42922,     0.42969,     0.43016,     0.42952,     0.42607,     0.42347,     0.42364,     0.42382,       0.424,     0.42417,     0.42435,     0.42452,      0.4247,     0.42487,\n",
      "            0.42505,     0.42522,     0.42432,     0.42092,     0.41749,     0.41401,     0.41075,     0.40917,     0.40759,     0.40601,     0.40442,     0.40286,     0.40132,     0.39978,     0.39824,     0.39669,     0.39265,     0.38747,     0.38124,     0.37549,     0.37069,     0.36625,     0.36046,\n",
      "            0.35323,     0.34351,     0.32855,     0.32497,     0.32256,     0.32015,     0.30984,     0.30767,      0.3055,     0.30332,     0.30023,     0.29651,     0.29363,     0.29227,      0.2909,     0.28953,     0.28816,     0.28679,     0.28544,     0.28419,     0.28294,     0.28169,     0.28043,\n",
      "            0.27918,     0.27792,     0.27394,     0.26674,     0.25991,     0.25605,     0.25217,     0.24618,     0.24003,     0.23452,      0.2315,     0.22903,     0.22656,     0.22423,     0.22266,     0.22109,     0.21951,     0.21793,     0.21635,     0.21439,     0.21183,     0.20927,      0.2067,\n",
      "            0.20502,     0.20356,     0.20209,     0.20063,     0.19916,     0.19769,     0.19605,     0.19423,      0.1924,     0.19057,     0.18874,     0.18596,     0.18122,     0.17715,     0.17448,     0.17181,     0.16913,     0.15596,     0.14837,     0.12745,      0.1209,     0.11179,     0.10635,\n",
      "            0.10299,    0.099618,    0.097312,    0.095641,    0.093966,    0.092289,    0.090609,    0.088926,    0.085688,    0.080089,    0.074782,    0.069756,    0.055194,    0.044714,    0.044362,     0.04401,    0.043657,    0.043304,    0.042952,    0.042599,    0.042246,    0.041893,    0.041539,\n",
      "           0.041186,    0.040832,    0.040479,    0.040125,    0.039771,    0.039417,    0.039063,    0.038708,    0.038354,    0.037999,    0.037645,     0.03729,    0.036935,     0.03658,    0.036225,    0.035869,    0.035514,    0.035158,    0.034803,    0.034447,    0.034091,     0.03182,    0.027282,\n",
      "           0.022727,    0.022228,    0.021728,    0.021229,    0.020729,    0.020229,    0.019728,    0.019228,    0.018727,    0.018226,    0.017724,    0.017223,    0.016721,    0.016219,    0.015716,    0.015213,    0.014711,    0.014207,    0.013704,      0.0132,    0.012696,    0.012192,    0.011688,\n",
      "                  0,           0,           0,           0,           0,           0,           0,           0,           0,           0,           0,           0,           0,           0,           0,           0,           0,           0,           0,           0,           0,           0,           0,\n",
      "                  0,           0,           0,           0,           0,           0,           0,           0,           0,           0,           0,           0,           0,           0,           0,           0,           0,           0,           0,           0,           0,           0,           0,\n",
      "                  0,           0,           0,           0,           0,           0,           0,           0,           0,           0,           0,           0,           0,           0,           0,           0,           0,           0,           0,           0,           0,           0,           0,\n",
      "                  0,           0,           0,           0,           0,           0,           0,           0,           0,           0,           0,           0,           0,           0,           0,           0,           0,           0,           0,           0,           0,           0,           0,\n",
      "                  0,           0,           0,           0,           0,           0,           0,           0,           0,           0,           0,           0,           0,           0,           0,           0,           0,           0,           0,           0,           0,           0,           0,\n",
      "                  0,           0,           0,           0,           0,           0,           0,           0,           0,           0,           0,           0,           0,           0,           0,           0,           0,           0,           0,           0,           0,           0,           0,\n",
      "                  0,           0,           0,           0,           0,           0,           0,           0,           0,           0,           0,           0,           0,           0,           0,           0,           0,           0,           0,           0,           0,           0,           0,\n",
      "                  0,           0,           0,           0,           0,           0,           0,           0,           0,           0,           0]]), 'Confidence', 'F1'], [array([          0,    0.001001,    0.002002,    0.003003,    0.004004,    0.005005,    0.006006,    0.007007,    0.008008,    0.009009,     0.01001,    0.011011,    0.012012,    0.013013,    0.014014,    0.015015,    0.016016,    0.017017,    0.018018,    0.019019,     0.02002,    0.021021,    0.022022,    0.023023,\n",
      "          0.024024,    0.025025,    0.026026,    0.027027,    0.028028,    0.029029,     0.03003,    0.031031,    0.032032,    0.033033,    0.034034,    0.035035,    0.036036,    0.037037,    0.038038,    0.039039,     0.04004,    0.041041,    0.042042,    0.043043,    0.044044,    0.045045,    0.046046,    0.047047,\n",
      "          0.048048,    0.049049,     0.05005,    0.051051,    0.052052,    0.053053,    0.054054,    0.055055,    0.056056,    0.057057,    0.058058,    0.059059,     0.06006,    0.061061,    0.062062,    0.063063,    0.064064,    0.065065,    0.066066,    0.067067,    0.068068,    0.069069,     0.07007,    0.071071,\n",
      "          0.072072,    0.073073,    0.074074,    0.075075,    0.076076,    0.077077,    0.078078,    0.079079,     0.08008,    0.081081,    0.082082,    0.083083,    0.084084,    0.085085,    0.086086,    0.087087,    0.088088,    0.089089,     0.09009,    0.091091,    0.092092,    0.093093,    0.094094,    0.095095,\n",
      "          0.096096,    0.097097,    0.098098,    0.099099,      0.1001,      0.1011,      0.1021,      0.1031,      0.1041,     0.10511,     0.10611,     0.10711,     0.10811,     0.10911,     0.11011,     0.11111,     0.11211,     0.11311,     0.11411,     0.11512,     0.11612,     0.11712,     0.11812,     0.11912,\n",
      "           0.12012,     0.12112,     0.12212,     0.12312,     0.12412,     0.12513,     0.12613,     0.12713,     0.12813,     0.12913,     0.13013,     0.13113,     0.13213,     0.13313,     0.13413,     0.13514,     0.13614,     0.13714,     0.13814,     0.13914,     0.14014,     0.14114,     0.14214,     0.14314,\n",
      "           0.14414,     0.14515,     0.14615,     0.14715,     0.14815,     0.14915,     0.15015,     0.15115,     0.15215,     0.15315,     0.15415,     0.15516,     0.15616,     0.15716,     0.15816,     0.15916,     0.16016,     0.16116,     0.16216,     0.16316,     0.16416,     0.16517,     0.16617,     0.16717,\n",
      "           0.16817,     0.16917,     0.17017,     0.17117,     0.17217,     0.17317,     0.17417,     0.17518,     0.17618,     0.17718,     0.17818,     0.17918,     0.18018,     0.18118,     0.18218,     0.18318,     0.18418,     0.18519,     0.18619,     0.18719,     0.18819,     0.18919,     0.19019,     0.19119,\n",
      "           0.19219,     0.19319,     0.19419,      0.1952,      0.1962,      0.1972,      0.1982,      0.1992,      0.2002,      0.2012,      0.2022,      0.2032,      0.2042,     0.20521,     0.20621,     0.20721,     0.20821,     0.20921,     0.21021,     0.21121,     0.21221,     0.21321,     0.21421,     0.21522,\n",
      "           0.21622,     0.21722,     0.21822,     0.21922,     0.22022,     0.22122,     0.22222,     0.22322,     0.22422,     0.22523,     0.22623,     0.22723,     0.22823,     0.22923,     0.23023,     0.23123,     0.23223,     0.23323,     0.23423,     0.23524,     0.23624,     0.23724,     0.23824,     0.23924,\n",
      "           0.24024,     0.24124,     0.24224,     0.24324,     0.24424,     0.24525,     0.24625,     0.24725,     0.24825,     0.24925,     0.25025,     0.25125,     0.25225,     0.25325,     0.25425,     0.25526,     0.25626,     0.25726,     0.25826,     0.25926,     0.26026,     0.26126,     0.26226,     0.26326,\n",
      "           0.26426,     0.26527,     0.26627,     0.26727,     0.26827,     0.26927,     0.27027,     0.27127,     0.27227,     0.27327,     0.27427,     0.27528,     0.27628,     0.27728,     0.27828,     0.27928,     0.28028,     0.28128,     0.28228,     0.28328,     0.28428,     0.28529,     0.28629,     0.28729,\n",
      "           0.28829,     0.28929,     0.29029,     0.29129,     0.29229,     0.29329,     0.29429,      0.2953,      0.2963,      0.2973,      0.2983,      0.2993,      0.3003,      0.3013,      0.3023,      0.3033,      0.3043,     0.30531,     0.30631,     0.30731,     0.30831,     0.30931,     0.31031,     0.31131,\n",
      "           0.31231,     0.31331,     0.31431,     0.31532,     0.31632,     0.31732,     0.31832,     0.31932,     0.32032,     0.32132,     0.32232,     0.32332,     0.32432,     0.32533,     0.32633,     0.32733,     0.32833,     0.32933,     0.33033,     0.33133,     0.33233,     0.33333,     0.33433,     0.33534,\n",
      "           0.33634,     0.33734,     0.33834,     0.33934,     0.34034,     0.34134,     0.34234,     0.34334,     0.34434,     0.34535,     0.34635,     0.34735,     0.34835,     0.34935,     0.35035,     0.35135,     0.35235,     0.35335,     0.35435,     0.35536,     0.35636,     0.35736,     0.35836,     0.35936,\n",
      "           0.36036,     0.36136,     0.36236,     0.36336,     0.36436,     0.36537,     0.36637,     0.36737,     0.36837,     0.36937,     0.37037,     0.37137,     0.37237,     0.37337,     0.37437,     0.37538,     0.37638,     0.37738,     0.37838,     0.37938,     0.38038,     0.38138,     0.38238,     0.38338,\n",
      "           0.38438,     0.38539,     0.38639,     0.38739,     0.38839,     0.38939,     0.39039,     0.39139,     0.39239,     0.39339,     0.39439,      0.3954,      0.3964,      0.3974,      0.3984,      0.3994,      0.4004,      0.4014,      0.4024,      0.4034,      0.4044,     0.40541,     0.40641,     0.40741,\n",
      "           0.40841,     0.40941,     0.41041,     0.41141,     0.41241,     0.41341,     0.41441,     0.41542,     0.41642,     0.41742,     0.41842,     0.41942,     0.42042,     0.42142,     0.42242,     0.42342,     0.42442,     0.42543,     0.42643,     0.42743,     0.42843,     0.42943,     0.43043,     0.43143,\n",
      "           0.43243,     0.43343,     0.43443,     0.43544,     0.43644,     0.43744,     0.43844,     0.43944,     0.44044,     0.44144,     0.44244,     0.44344,     0.44444,     0.44545,     0.44645,     0.44745,     0.44845,     0.44945,     0.45045,     0.45145,     0.45245,     0.45345,     0.45445,     0.45546,\n",
      "           0.45646,     0.45746,     0.45846,     0.45946,     0.46046,     0.46146,     0.46246,     0.46346,     0.46446,     0.46547,     0.46647,     0.46747,     0.46847,     0.46947,     0.47047,     0.47147,     0.47247,     0.47347,     0.47447,     0.47548,     0.47648,     0.47748,     0.47848,     0.47948,\n",
      "           0.48048,     0.48148,     0.48248,     0.48348,     0.48448,     0.48549,     0.48649,     0.48749,     0.48849,     0.48949,     0.49049,     0.49149,     0.49249,     0.49349,     0.49449,      0.4955,      0.4965,      0.4975,      0.4985,      0.4995,      0.5005,      0.5015,      0.5025,      0.5035,\n",
      "            0.5045,     0.50551,     0.50651,     0.50751,     0.50851,     0.50951,     0.51051,     0.51151,     0.51251,     0.51351,     0.51451,     0.51552,     0.51652,     0.51752,     0.51852,     0.51952,     0.52052,     0.52152,     0.52252,     0.52352,     0.52452,     0.52553,     0.52653,     0.52753,\n",
      "           0.52853,     0.52953,     0.53053,     0.53153,     0.53253,     0.53353,     0.53453,     0.53554,     0.53654,     0.53754,     0.53854,     0.53954,     0.54054,     0.54154,     0.54254,     0.54354,     0.54454,     0.54555,     0.54655,     0.54755,     0.54855,     0.54955,     0.55055,     0.55155,\n",
      "           0.55255,     0.55355,     0.55455,     0.55556,     0.55656,     0.55756,     0.55856,     0.55956,     0.56056,     0.56156,     0.56256,     0.56356,     0.56456,     0.56557,     0.56657,     0.56757,     0.56857,     0.56957,     0.57057,     0.57157,     0.57257,     0.57357,     0.57457,     0.57558,\n",
      "           0.57658,     0.57758,     0.57858,     0.57958,     0.58058,     0.58158,     0.58258,     0.58358,     0.58458,     0.58559,     0.58659,     0.58759,     0.58859,     0.58959,     0.59059,     0.59159,     0.59259,     0.59359,     0.59459,      0.5956,      0.5966,      0.5976,      0.5986,      0.5996,\n",
      "            0.6006,      0.6016,      0.6026,      0.6036,      0.6046,     0.60561,     0.60661,     0.60761,     0.60861,     0.60961,     0.61061,     0.61161,     0.61261,     0.61361,     0.61461,     0.61562,     0.61662,     0.61762,     0.61862,     0.61962,     0.62062,     0.62162,     0.62262,     0.62362,\n",
      "           0.62462,     0.62563,     0.62663,     0.62763,     0.62863,     0.62963,     0.63063,     0.63163,     0.63263,     0.63363,     0.63463,     0.63564,     0.63664,     0.63764,     0.63864,     0.63964,     0.64064,     0.64164,     0.64264,     0.64364,     0.64464,     0.64565,     0.64665,     0.64765,\n",
      "           0.64865,     0.64965,     0.65065,     0.65165,     0.65265,     0.65365,     0.65465,     0.65566,     0.65666,     0.65766,     0.65866,     0.65966,     0.66066,     0.66166,     0.66266,     0.66366,     0.66466,     0.66567,     0.66667,     0.66767,     0.66867,     0.66967,     0.67067,     0.67167,\n",
      "           0.67267,     0.67367,     0.67467,     0.67568,     0.67668,     0.67768,     0.67868,     0.67968,     0.68068,     0.68168,     0.68268,     0.68368,     0.68468,     0.68569,     0.68669,     0.68769,     0.68869,     0.68969,     0.69069,     0.69169,     0.69269,     0.69369,     0.69469,      0.6957,\n",
      "            0.6967,      0.6977,      0.6987,      0.6997,      0.7007,      0.7017,      0.7027,      0.7037,      0.7047,     0.70571,     0.70671,     0.70771,     0.70871,     0.70971,     0.71071,     0.71171,     0.71271,     0.71371,     0.71471,     0.71572,     0.71672,     0.71772,     0.71872,     0.71972,\n",
      "           0.72072,     0.72172,     0.72272,     0.72372,     0.72472,     0.72573,     0.72673,     0.72773,     0.72873,     0.72973,     0.73073,     0.73173,     0.73273,     0.73373,     0.73473,     0.73574,     0.73674,     0.73774,     0.73874,     0.73974,     0.74074,     0.74174,     0.74274,     0.74374,\n",
      "           0.74474,     0.74575,     0.74675,     0.74775,     0.74875,     0.74975,     0.75075,     0.75175,     0.75275,     0.75375,     0.75475,     0.75576,     0.75676,     0.75776,     0.75876,     0.75976,     0.76076,     0.76176,     0.76276,     0.76376,     0.76476,     0.76577,     0.76677,     0.76777,\n",
      "           0.76877,     0.76977,     0.77077,     0.77177,     0.77277,     0.77377,     0.77477,     0.77578,     0.77678,     0.77778,     0.77878,     0.77978,     0.78078,     0.78178,     0.78278,     0.78378,     0.78478,     0.78579,     0.78679,     0.78779,     0.78879,     0.78979,     0.79079,     0.79179,\n",
      "           0.79279,     0.79379,     0.79479,      0.7958,      0.7968,      0.7978,      0.7988,      0.7998,      0.8008,      0.8018,      0.8028,      0.8038,      0.8048,     0.80581,     0.80681,     0.80781,     0.80881,     0.80981,     0.81081,     0.81181,     0.81281,     0.81381,     0.81481,     0.81582,\n",
      "           0.81682,     0.81782,     0.81882,     0.81982,     0.82082,     0.82182,     0.82282,     0.82382,     0.82482,     0.82583,     0.82683,     0.82783,     0.82883,     0.82983,     0.83083,     0.83183,     0.83283,     0.83383,     0.83483,     0.83584,     0.83684,     0.83784,     0.83884,     0.83984,\n",
      "           0.84084,     0.84184,     0.84284,     0.84384,     0.84484,     0.84585,     0.84685,     0.84785,     0.84885,     0.84985,     0.85085,     0.85185,     0.85285,     0.85385,     0.85485,     0.85586,     0.85686,     0.85786,     0.85886,     0.85986,     0.86086,     0.86186,     0.86286,     0.86386,\n",
      "           0.86486,     0.86587,     0.86687,     0.86787,     0.86887,     0.86987,     0.87087,     0.87187,     0.87287,     0.87387,     0.87487,     0.87588,     0.87688,     0.87788,     0.87888,     0.87988,     0.88088,     0.88188,     0.88288,     0.88388,     0.88488,     0.88589,     0.88689,     0.88789,\n",
      "           0.88889,     0.88989,     0.89089,     0.89189,     0.89289,     0.89389,     0.89489,      0.8959,      0.8969,      0.8979,      0.8989,      0.8999,      0.9009,      0.9019,      0.9029,      0.9039,      0.9049,     0.90591,     0.90691,     0.90791,     0.90891,     0.90991,     0.91091,     0.91191,\n",
      "           0.91291,     0.91391,     0.91491,     0.91592,     0.91692,     0.91792,     0.91892,     0.91992,     0.92092,     0.92192,     0.92292,     0.92392,     0.92492,     0.92593,     0.92693,     0.92793,     0.92893,     0.92993,     0.93093,     0.93193,     0.93293,     0.93393,     0.93493,     0.93594,\n",
      "           0.93694,     0.93794,     0.93894,     0.93994,     0.94094,     0.94194,     0.94294,     0.94394,     0.94494,     0.94595,     0.94695,     0.94795,     0.94895,     0.94995,     0.95095,     0.95195,     0.95295,     0.95395,     0.95495,     0.95596,     0.95696,     0.95796,     0.95896,     0.95996,\n",
      "           0.96096,     0.96196,     0.96296,     0.96396,     0.96496,     0.96597,     0.96697,     0.96797,     0.96897,     0.96997,     0.97097,     0.97197,     0.97297,     0.97397,     0.97497,     0.97598,     0.97698,     0.97798,     0.97898,     0.97998,     0.98098,     0.98198,     0.98298,     0.98398,\n",
      "           0.98498,     0.98599,     0.98699,     0.98799,     0.98899,     0.98999,     0.99099,     0.99199,     0.99299,     0.99399,     0.99499,       0.996,       0.997,       0.998,       0.999,           1]), array([[     0.1646,     0.16465,     0.22407,     0.26444,     0.29135,     0.31592,     0.33229,     0.34986,     0.36539,     0.36967,     0.37793,      0.3908,       0.403,     0.41649,     0.42653,      0.4381,     0.45036,     0.46066,     0.46305,     0.47194,     0.47632,     0.48023,     0.48988,\n",
      "            0.50223,     0.51786,     0.52098,     0.52713,     0.53727,     0.54254,     0.54649,     0.54942,     0.55387,     0.56388,     0.56992,     0.57244,     0.57679,     0.58015,     0.59001,     0.59348,     0.60461,     0.60409,     0.60358,     0.60306,     0.60462,     0.61094,     0.61526,\n",
      "            0.62023,     0.62083,     0.62143,     0.62202,     0.62262,     0.62624,     0.62948,       0.631,     0.63258,     0.63467,      0.6382,     0.64273,     0.64478,     0.65349,     0.65522,     0.65614,     0.65526,     0.66109,     0.66251,     0.66358,     0.66464,     0.66771,     0.67129,\n",
      "            0.67364,     0.67563,     0.67668,     0.67772,     0.67877,     0.68236,     0.68441,     0.68619,     0.68834,     0.69068,     0.69361,     0.69734,     0.70207,      0.7029,     0.70372,     0.70455,     0.70538,     0.71243,      0.7154,     0.72075,     0.72019,     0.72286,     0.72686,\n",
      "            0.73217,     0.73511,     0.73758,     0.74196,     0.74115,     0.74767,     0.74985,     0.74918,      0.7485,     0.75018,     0.75199,     0.75356,     0.75477,     0.75598,     0.75719,     0.75902,     0.76141,      0.7637,     0.76589,     0.76801,     0.76999,     0.77198,     0.78039,\n",
      "            0.78277,     0.78377,     0.78476,     0.78575,     0.78675,     0.78773,      0.7887,     0.78967,     0.79065,     0.79162,     0.79496,       0.796,     0.79556,     0.79512,     0.79475,     0.79631,     0.79786,     0.79941,     0.80083,     0.80217,     0.80351,     0.80485,     0.80441,\n",
      "            0.80664,     0.80887,     0.81068,     0.81232,     0.81396,     0.81638,     0.82043,     0.82033,     0.81994,     0.81955,     0.82086,     0.82283,      0.8248,     0.82855,     0.83269,     0.83681,     0.84443,     0.84971,      0.8536,     0.85304,     0.85364,     0.85449,     0.85534,\n",
      "            0.85619,     0.85704,     0.85789,     0.85875,     0.86184,     0.86845,     0.87294,     0.87463,     0.87632,     0.87801,     0.87874,     0.87865,     0.87856,     0.87847,     0.87838,     0.87829,      0.8782,     0.87811,     0.87802,     0.87793,     0.87783,     0.87774,     0.87764,\n",
      "            0.87755,     0.87745,     0.87735,     0.87726,     0.87716,     0.87707,     0.87697,     0.87729,     0.87802,     0.87874,     0.87946,     0.88019,     0.88091,     0.88163,     0.88236,     0.88308,     0.88382,     0.88467,     0.88552,     0.88637,     0.88722,     0.88808,     0.88893,\n",
      "            0.88978,     0.89062,     0.89054,     0.89045,     0.89037,     0.89028,      0.8902,     0.89011,     0.89003,     0.88994,     0.88986,     0.88977,     0.88973,     0.88968,     0.88964,      0.8896,     0.88956,     0.88952,     0.88948,     0.88943,     0.88939,     0.88935,     0.88931,\n",
      "            0.88927,     0.88923,     0.88918,     0.88914,      0.8891,     0.88906,     0.88902,     0.88897,     0.88893,     0.88889,     0.88872,     0.88855,     0.88837,      0.8882,     0.88802,      0.8871,     0.88602,     0.88574,     0.88545,      0.8852,     0.88505,     0.88489,     0.88473,\n",
      "            0.88458,     0.88442,     0.88428,      0.8842,     0.88411,     0.88403,     0.88395,     0.88387,     0.88379,      0.8837,     0.88362,     0.88354,     0.88346,     0.88337,     0.88318,     0.88287,     0.88256,     0.88231,     0.88218,     0.88205,     0.88192,      0.8818,     0.88167,\n",
      "            0.88154,     0.88141,     0.88107,     0.88056,     0.88025,      0.8801,     0.87994,     0.87978,     0.87962,     0.87947,     0.87931,     0.87909,     0.87887,     0.87865,     0.87842,     0.87834,     0.87864,     0.87893,     0.87923,     0.87953,     0.87983,     0.88013,     0.88043,\n",
      "            0.88073,     0.88103,     0.88132,     0.88162,     0.88192,     0.88222,     0.88252,     0.88282,     0.88312,     0.88341,     0.88371,     0.88401,     0.88431,     0.88461,     0.88491,     0.88521,      0.8855,      0.8858,     0.89279,     0.89364,     0.89346,     0.89328,      0.8931,\n",
      "            0.89292,     0.89197,     0.89237,     0.89276,     0.89315,     0.89355,     0.89394,     0.89434,     0.89473,     0.89513,     0.89552,     0.89592,     0.89631,     0.89671,      0.8971,     0.89749,     0.89789,     0.89828,     0.89868,     0.89907,     0.89947,     0.89986,     0.90133,\n",
      "            0.90338,     0.90542,     0.90747,       0.909,     0.91021,     0.91142,     0.91264,     0.91385,     0.91506,     0.91627,     0.91661,     0.91653,     0.91645,     0.91637,     0.91629,     0.91621,     0.91614,     0.91606,     0.91598,      0.9159,     0.91537,     0.91508,     0.91504,\n",
      "            0.91501,     0.91498,     0.91494,     0.91491,     0.91487,     0.91484,     0.91481,     0.91477,     0.91474,     0.91471,     0.91467,     0.91464,     0.91461,     0.91457,     0.91454,     0.91451,     0.91447,     0.91444,      0.9144,     0.91437,     0.91434,      0.9143,     0.91415,\n",
      "            0.91387,     0.91358,     0.91343,     0.91338,     0.91333,     0.91328,     0.91324,     0.91319,     0.91314,     0.91309,     0.91304,     0.91299,     0.91294,     0.91289,     0.91284,     0.91279,     0.91274,     0.91269,     0.91264,     0.91173,     0.91146,      0.9112,     0.91093,\n",
      "            0.91066,     0.91039,     0.91013,     0.90993,     0.90979,     0.90965,     0.90951,     0.90937,     0.90923,     0.90909,     0.90888,     0.90868,     0.90848,     0.90827,     0.90794,     0.90745,     0.90716,     0.90705,     0.90693,     0.90682,     0.90671,      0.9066,     0.90649,\n",
      "            0.90637,     0.90626,       0.906,     0.90571,     0.90543,     0.90456,     0.90418,     0.90409,     0.90399,      0.9039,     0.90381,     0.90371,     0.90362,     0.90353,     0.90343,     0.90334,     0.90325,     0.90151,     0.90106,     0.90099,     0.90091,     0.90084,     0.90077,\n",
      "            0.90069,     0.90062,     0.90055,     0.90048,      0.9004,     0.90033,     0.90026,     0.90018,     0.90011,     0.90004,     0.90018,     0.90055,     0.90091,     0.90128,     0.90165,     0.90202,     0.90239,     0.90275,     0.90312,     0.90349,     0.90386,     0.90423,     0.90459,\n",
      "            0.90496,     0.90533,      0.9057,     0.90607,     0.90643,      0.9068,     0.90717,     0.90754,     0.90791,     0.90827,     0.90864,     0.90901,     0.90938,     0.90975,     0.91011,     0.90884,     0.90815,      0.9084,     0.90882,     0.90924,     0.90967,     0.91009,     0.91051,\n",
      "            0.91093,     0.91135,     0.91177,     0.91219,     0.91261,     0.91304,     0.91346,     0.91388,      0.9143,     0.91472,     0.91514,     0.91556,     0.91598,     0.91641,     0.91683,     0.91725,     0.91767,     0.91809,     0.91851,     0.91849,     0.91834,      0.9182,     0.91805,\n",
      "            0.91791,     0.91776,     0.91762,     0.91751,      0.9174,     0.91729,     0.91718,     0.91707,     0.91696,     0.91686,     0.91675,      0.9166,     0.91637,     0.91614,     0.91591,     0.91568,     0.91555,     0.91542,     0.91529,     0.91517,     0.91504,     0.91491,     0.91479,\n",
      "            0.91466,     0.91432,     0.91391,     0.91356,     0.91345,     0.91335,     0.91324,     0.91313,     0.91302,     0.91291,     0.91281,      0.9127,     0.91259,      0.9141,     0.92315,     0.92304,      0.9227,     0.92237,     0.92188,     0.92362,     0.93058,     0.93433,     0.93599,\n",
      "            0.93765,     0.93931,     0.94097,     0.94263,     0.94429,     0.94594,     0.94495,     0.94468,     0.94431,     0.95714,     0.95595,     0.95573,     0.95555,     0.95538,     0.95518,     0.95472,     0.95434,     0.95401,     0.95377,     0.95363,     0.95349,     0.95334,      0.9532,\n",
      "             0.9531,     0.95305,       0.953,     0.95295,      0.9529,     0.95285,      0.9528,     0.95275,      0.9527,     0.95265,      0.9526,     0.95255,     0.95251,     0.95246,     0.95241,     0.95226,     0.95201,     0.95177,     0.95556,     0.96625,     0.96687,     0.96588,     0.96548,\n",
      "             0.9654,     0.96531,     0.96522,     0.96514,     0.96505,     0.96496,     0.96472,     0.96428,     0.96401,     0.96374,     0.96347,     0.96321,     0.96296,     0.96289,     0.96282,     0.96274,     0.96267,      0.9626,     0.96253,     0.96246,     0.96239,     0.96231,     0.96223,\n",
      "            0.96213,     0.96203,     0.96193,     0.96182,     0.96172,     0.96162,     0.96129,     0.96043,     0.96168,      0.9665,     0.97132,     0.97614,     0.97953,     0.97933,     0.97962,     0.98152,     0.98343,     0.98533,     0.98724,     0.98914,     0.99105,     0.99295,     0.99486,\n",
      "            0.99676,     0.99867,           1,           1,           1,           1,           1,           1,           1,           1,           1,           1,           1,           1,           1,           1,           1,           1,           1,           1,           1,           1,           1,\n",
      "                  1,           1,           1,           1,           1,           1,           1,           1,           1,           1,           1,           1,           1,           1,           1,           1,           1,           1,           1,           1,           1,           1,           1,\n",
      "                  1,           1,           1,           1,           1,           1,           1,           1,           1,           1,           1,           1,           1,           1,           1,           1,           1,           1,           1,           1,           1,           1,           1,\n",
      "                  1,           1,           1,           1,           1,           1,           1,           1,           1,           1,           1,           1,           1,           1,           1,           1,           1,           1,           1,           1,           1,           1,           1,\n",
      "                  1,           1,           1,           1,           1,           1,           1,           1,           1,           1,           1,           1,           1,           1,           1,           1,           1,           1,           1,           1,           1,           1,           1,\n",
      "                  1,           1,           1,           1,           1,           1,           1,           1,           1,           1,           1,           1,           1,           1,           1,           1,           1,           1,           1,           1,           1,           1,           1,\n",
      "                  1,           1,           1,           1,           1,           1,           1,           1,           1,           1,           1,           1,           1,           1,           1,           1,           1,           1,           1,           1,           1,           1,           1,\n",
      "                  1,           1,           1,           1,           1,           1,           1,           1,           1,           1,           1,           1,           1,           1,           1,           1,           1,           1,           1,           1,           1,           1,           1,\n",
      "                  1,           1,           1,           1,           1,           1,           1,           1,           1,           1,           1,           1,           1,           1,           1,           1,           1,           1,           1,           1,           1,           1,           1,\n",
      "                  1,           1,           1,           1,           1,           1,           1,           1,           1,           1,           1,           1,           1,           1,           1,           1,           1,           1,           1,           1,           1,           1,           1,\n",
      "                  1,           1,           1,           1,           1,           1,           1,           1,           1,           1,           1,           1,           1,           1,           1,           1,           1,           1,           1,           1,           1,           1,           1,\n",
      "                  1,           1,           1,           1,           1,           1,           1,           1,           1,           1,           1,           1,           1,           1,           1,           1,           1,           1,           1,           1,           1,           1,           1,\n",
      "                  1,           1,           1,           1,           1,           1,           1,           1,           1,           1,           1,           1,           1,           1,           1,           1,           1,           1,           1,           1,           1,           1,           1,\n",
      "                  1,           1,           1,           1,           1,           1,           1,           1,           1,           1,           1,           1,           1,           1,           1,           1,           1,           1,           1,           1,           1,           1,           1,\n",
      "                  1,           1,           1,           1,           1,           1,           1,           1,           1,           1,           1]]), 'Confidence', 'Precision'], [array([          0,    0.001001,    0.002002,    0.003003,    0.004004,    0.005005,    0.006006,    0.007007,    0.008008,    0.009009,     0.01001,    0.011011,    0.012012,    0.013013,    0.014014,    0.015015,    0.016016,    0.017017,    0.018018,    0.019019,     0.02002,    0.021021,    0.022022,    0.023023,\n",
      "          0.024024,    0.025025,    0.026026,    0.027027,    0.028028,    0.029029,     0.03003,    0.031031,    0.032032,    0.033033,    0.034034,    0.035035,    0.036036,    0.037037,    0.038038,    0.039039,     0.04004,    0.041041,    0.042042,    0.043043,    0.044044,    0.045045,    0.046046,    0.047047,\n",
      "          0.048048,    0.049049,     0.05005,    0.051051,    0.052052,    0.053053,    0.054054,    0.055055,    0.056056,    0.057057,    0.058058,    0.059059,     0.06006,    0.061061,    0.062062,    0.063063,    0.064064,    0.065065,    0.066066,    0.067067,    0.068068,    0.069069,     0.07007,    0.071071,\n",
      "          0.072072,    0.073073,    0.074074,    0.075075,    0.076076,    0.077077,    0.078078,    0.079079,     0.08008,    0.081081,    0.082082,    0.083083,    0.084084,    0.085085,    0.086086,    0.087087,    0.088088,    0.089089,     0.09009,    0.091091,    0.092092,    0.093093,    0.094094,    0.095095,\n",
      "          0.096096,    0.097097,    0.098098,    0.099099,      0.1001,      0.1011,      0.1021,      0.1031,      0.1041,     0.10511,     0.10611,     0.10711,     0.10811,     0.10911,     0.11011,     0.11111,     0.11211,     0.11311,     0.11411,     0.11512,     0.11612,     0.11712,     0.11812,     0.11912,\n",
      "           0.12012,     0.12112,     0.12212,     0.12312,     0.12412,     0.12513,     0.12613,     0.12713,     0.12813,     0.12913,     0.13013,     0.13113,     0.13213,     0.13313,     0.13413,     0.13514,     0.13614,     0.13714,     0.13814,     0.13914,     0.14014,     0.14114,     0.14214,     0.14314,\n",
      "           0.14414,     0.14515,     0.14615,     0.14715,     0.14815,     0.14915,     0.15015,     0.15115,     0.15215,     0.15315,     0.15415,     0.15516,     0.15616,     0.15716,     0.15816,     0.15916,     0.16016,     0.16116,     0.16216,     0.16316,     0.16416,     0.16517,     0.16617,     0.16717,\n",
      "           0.16817,     0.16917,     0.17017,     0.17117,     0.17217,     0.17317,     0.17417,     0.17518,     0.17618,     0.17718,     0.17818,     0.17918,     0.18018,     0.18118,     0.18218,     0.18318,     0.18418,     0.18519,     0.18619,     0.18719,     0.18819,     0.18919,     0.19019,     0.19119,\n",
      "           0.19219,     0.19319,     0.19419,      0.1952,      0.1962,      0.1972,      0.1982,      0.1992,      0.2002,      0.2012,      0.2022,      0.2032,      0.2042,     0.20521,     0.20621,     0.20721,     0.20821,     0.20921,     0.21021,     0.21121,     0.21221,     0.21321,     0.21421,     0.21522,\n",
      "           0.21622,     0.21722,     0.21822,     0.21922,     0.22022,     0.22122,     0.22222,     0.22322,     0.22422,     0.22523,     0.22623,     0.22723,     0.22823,     0.22923,     0.23023,     0.23123,     0.23223,     0.23323,     0.23423,     0.23524,     0.23624,     0.23724,     0.23824,     0.23924,\n",
      "           0.24024,     0.24124,     0.24224,     0.24324,     0.24424,     0.24525,     0.24625,     0.24725,     0.24825,     0.24925,     0.25025,     0.25125,     0.25225,     0.25325,     0.25425,     0.25526,     0.25626,     0.25726,     0.25826,     0.25926,     0.26026,     0.26126,     0.26226,     0.26326,\n",
      "           0.26426,     0.26527,     0.26627,     0.26727,     0.26827,     0.26927,     0.27027,     0.27127,     0.27227,     0.27327,     0.27427,     0.27528,     0.27628,     0.27728,     0.27828,     0.27928,     0.28028,     0.28128,     0.28228,     0.28328,     0.28428,     0.28529,     0.28629,     0.28729,\n",
      "           0.28829,     0.28929,     0.29029,     0.29129,     0.29229,     0.29329,     0.29429,      0.2953,      0.2963,      0.2973,      0.2983,      0.2993,      0.3003,      0.3013,      0.3023,      0.3033,      0.3043,     0.30531,     0.30631,     0.30731,     0.30831,     0.30931,     0.31031,     0.31131,\n",
      "           0.31231,     0.31331,     0.31431,     0.31532,     0.31632,     0.31732,     0.31832,     0.31932,     0.32032,     0.32132,     0.32232,     0.32332,     0.32432,     0.32533,     0.32633,     0.32733,     0.32833,     0.32933,     0.33033,     0.33133,     0.33233,     0.33333,     0.33433,     0.33534,\n",
      "           0.33634,     0.33734,     0.33834,     0.33934,     0.34034,     0.34134,     0.34234,     0.34334,     0.34434,     0.34535,     0.34635,     0.34735,     0.34835,     0.34935,     0.35035,     0.35135,     0.35235,     0.35335,     0.35435,     0.35536,     0.35636,     0.35736,     0.35836,     0.35936,\n",
      "           0.36036,     0.36136,     0.36236,     0.36336,     0.36436,     0.36537,     0.36637,     0.36737,     0.36837,     0.36937,     0.37037,     0.37137,     0.37237,     0.37337,     0.37437,     0.37538,     0.37638,     0.37738,     0.37838,     0.37938,     0.38038,     0.38138,     0.38238,     0.38338,\n",
      "           0.38438,     0.38539,     0.38639,     0.38739,     0.38839,     0.38939,     0.39039,     0.39139,     0.39239,     0.39339,     0.39439,      0.3954,      0.3964,      0.3974,      0.3984,      0.3994,      0.4004,      0.4014,      0.4024,      0.4034,      0.4044,     0.40541,     0.40641,     0.40741,\n",
      "           0.40841,     0.40941,     0.41041,     0.41141,     0.41241,     0.41341,     0.41441,     0.41542,     0.41642,     0.41742,     0.41842,     0.41942,     0.42042,     0.42142,     0.42242,     0.42342,     0.42442,     0.42543,     0.42643,     0.42743,     0.42843,     0.42943,     0.43043,     0.43143,\n",
      "           0.43243,     0.43343,     0.43443,     0.43544,     0.43644,     0.43744,     0.43844,     0.43944,     0.44044,     0.44144,     0.44244,     0.44344,     0.44444,     0.44545,     0.44645,     0.44745,     0.44845,     0.44945,     0.45045,     0.45145,     0.45245,     0.45345,     0.45445,     0.45546,\n",
      "           0.45646,     0.45746,     0.45846,     0.45946,     0.46046,     0.46146,     0.46246,     0.46346,     0.46446,     0.46547,     0.46647,     0.46747,     0.46847,     0.46947,     0.47047,     0.47147,     0.47247,     0.47347,     0.47447,     0.47548,     0.47648,     0.47748,     0.47848,     0.47948,\n",
      "           0.48048,     0.48148,     0.48248,     0.48348,     0.48448,     0.48549,     0.48649,     0.48749,     0.48849,     0.48949,     0.49049,     0.49149,     0.49249,     0.49349,     0.49449,      0.4955,      0.4965,      0.4975,      0.4985,      0.4995,      0.5005,      0.5015,      0.5025,      0.5035,\n",
      "            0.5045,     0.50551,     0.50651,     0.50751,     0.50851,     0.50951,     0.51051,     0.51151,     0.51251,     0.51351,     0.51451,     0.51552,     0.51652,     0.51752,     0.51852,     0.51952,     0.52052,     0.52152,     0.52252,     0.52352,     0.52452,     0.52553,     0.52653,     0.52753,\n",
      "           0.52853,     0.52953,     0.53053,     0.53153,     0.53253,     0.53353,     0.53453,     0.53554,     0.53654,     0.53754,     0.53854,     0.53954,     0.54054,     0.54154,     0.54254,     0.54354,     0.54454,     0.54555,     0.54655,     0.54755,     0.54855,     0.54955,     0.55055,     0.55155,\n",
      "           0.55255,     0.55355,     0.55455,     0.55556,     0.55656,     0.55756,     0.55856,     0.55956,     0.56056,     0.56156,     0.56256,     0.56356,     0.56456,     0.56557,     0.56657,     0.56757,     0.56857,     0.56957,     0.57057,     0.57157,     0.57257,     0.57357,     0.57457,     0.57558,\n",
      "           0.57658,     0.57758,     0.57858,     0.57958,     0.58058,     0.58158,     0.58258,     0.58358,     0.58458,     0.58559,     0.58659,     0.58759,     0.58859,     0.58959,     0.59059,     0.59159,     0.59259,     0.59359,     0.59459,      0.5956,      0.5966,      0.5976,      0.5986,      0.5996,\n",
      "            0.6006,      0.6016,      0.6026,      0.6036,      0.6046,     0.60561,     0.60661,     0.60761,     0.60861,     0.60961,     0.61061,     0.61161,     0.61261,     0.61361,     0.61461,     0.61562,     0.61662,     0.61762,     0.61862,     0.61962,     0.62062,     0.62162,     0.62262,     0.62362,\n",
      "           0.62462,     0.62563,     0.62663,     0.62763,     0.62863,     0.62963,     0.63063,     0.63163,     0.63263,     0.63363,     0.63463,     0.63564,     0.63664,     0.63764,     0.63864,     0.63964,     0.64064,     0.64164,     0.64264,     0.64364,     0.64464,     0.64565,     0.64665,     0.64765,\n",
      "           0.64865,     0.64965,     0.65065,     0.65165,     0.65265,     0.65365,     0.65465,     0.65566,     0.65666,     0.65766,     0.65866,     0.65966,     0.66066,     0.66166,     0.66266,     0.66366,     0.66466,     0.66567,     0.66667,     0.66767,     0.66867,     0.66967,     0.67067,     0.67167,\n",
      "           0.67267,     0.67367,     0.67467,     0.67568,     0.67668,     0.67768,     0.67868,     0.67968,     0.68068,     0.68168,     0.68268,     0.68368,     0.68468,     0.68569,     0.68669,     0.68769,     0.68869,     0.68969,     0.69069,     0.69169,     0.69269,     0.69369,     0.69469,      0.6957,\n",
      "            0.6967,      0.6977,      0.6987,      0.6997,      0.7007,      0.7017,      0.7027,      0.7037,      0.7047,     0.70571,     0.70671,     0.70771,     0.70871,     0.70971,     0.71071,     0.71171,     0.71271,     0.71371,     0.71471,     0.71572,     0.71672,     0.71772,     0.71872,     0.71972,\n",
      "           0.72072,     0.72172,     0.72272,     0.72372,     0.72472,     0.72573,     0.72673,     0.72773,     0.72873,     0.72973,     0.73073,     0.73173,     0.73273,     0.73373,     0.73473,     0.73574,     0.73674,     0.73774,     0.73874,     0.73974,     0.74074,     0.74174,     0.74274,     0.74374,\n",
      "           0.74474,     0.74575,     0.74675,     0.74775,     0.74875,     0.74975,     0.75075,     0.75175,     0.75275,     0.75375,     0.75475,     0.75576,     0.75676,     0.75776,     0.75876,     0.75976,     0.76076,     0.76176,     0.76276,     0.76376,     0.76476,     0.76577,     0.76677,     0.76777,\n",
      "           0.76877,     0.76977,     0.77077,     0.77177,     0.77277,     0.77377,     0.77477,     0.77578,     0.77678,     0.77778,     0.77878,     0.77978,     0.78078,     0.78178,     0.78278,     0.78378,     0.78478,     0.78579,     0.78679,     0.78779,     0.78879,     0.78979,     0.79079,     0.79179,\n",
      "           0.79279,     0.79379,     0.79479,      0.7958,      0.7968,      0.7978,      0.7988,      0.7998,      0.8008,      0.8018,      0.8028,      0.8038,      0.8048,     0.80581,     0.80681,     0.80781,     0.80881,     0.80981,     0.81081,     0.81181,     0.81281,     0.81381,     0.81481,     0.81582,\n",
      "           0.81682,     0.81782,     0.81882,     0.81982,     0.82082,     0.82182,     0.82282,     0.82382,     0.82482,     0.82583,     0.82683,     0.82783,     0.82883,     0.82983,     0.83083,     0.83183,     0.83283,     0.83383,     0.83483,     0.83584,     0.83684,     0.83784,     0.83884,     0.83984,\n",
      "           0.84084,     0.84184,     0.84284,     0.84384,     0.84484,     0.84585,     0.84685,     0.84785,     0.84885,     0.84985,     0.85085,     0.85185,     0.85285,     0.85385,     0.85485,     0.85586,     0.85686,     0.85786,     0.85886,     0.85986,     0.86086,     0.86186,     0.86286,     0.86386,\n",
      "           0.86486,     0.86587,     0.86687,     0.86787,     0.86887,     0.86987,     0.87087,     0.87187,     0.87287,     0.87387,     0.87487,     0.87588,     0.87688,     0.87788,     0.87888,     0.87988,     0.88088,     0.88188,     0.88288,     0.88388,     0.88488,     0.88589,     0.88689,     0.88789,\n",
      "           0.88889,     0.88989,     0.89089,     0.89189,     0.89289,     0.89389,     0.89489,      0.8959,      0.8969,      0.8979,      0.8989,      0.8999,      0.9009,      0.9019,      0.9029,      0.9039,      0.9049,     0.90591,     0.90691,     0.90791,     0.90891,     0.90991,     0.91091,     0.91191,\n",
      "           0.91291,     0.91391,     0.91491,     0.91592,     0.91692,     0.91792,     0.91892,     0.91992,     0.92092,     0.92192,     0.92292,     0.92392,     0.92492,     0.92593,     0.92693,     0.92793,     0.92893,     0.92993,     0.93093,     0.93193,     0.93293,     0.93393,     0.93493,     0.93594,\n",
      "           0.93694,     0.93794,     0.93894,     0.93994,     0.94094,     0.94194,     0.94294,     0.94394,     0.94494,     0.94595,     0.94695,     0.94795,     0.94895,     0.94995,     0.95095,     0.95195,     0.95295,     0.95395,     0.95495,     0.95596,     0.95696,     0.95796,     0.95896,     0.95996,\n",
      "           0.96096,     0.96196,     0.96296,     0.96396,     0.96496,     0.96597,     0.96697,     0.96797,     0.96897,     0.96997,     0.97097,     0.97197,     0.97297,     0.97397,     0.97497,     0.97598,     0.97698,     0.97798,     0.97898,     0.97998,     0.98098,     0.98198,     0.98298,     0.98398,\n",
      "           0.98498,     0.98599,     0.98699,     0.98799,     0.98899,     0.98999,     0.99099,     0.99199,     0.99299,     0.99399,     0.99499,       0.996,       0.997,       0.998,       0.999,           1]), array([[    0.83908,     0.83908,     0.81609,     0.81609,      0.8046,     0.79885,     0.79885,     0.79791,      0.7931,     0.78197,     0.78161,     0.78161,     0.77586,     0.77586,     0.77586,     0.77586,     0.77586,     0.77011,     0.77011,     0.77011,     0.77011,     0.76462,     0.76437,\n",
      "            0.76437,     0.76437,     0.76437,     0.76437,     0.76437,     0.76437,     0.76181,     0.75862,     0.75862,     0.75862,     0.75862,     0.75407,     0.75287,     0.74713,     0.74713,     0.74713,       0.747,     0.74539,     0.74378,     0.74217,     0.74138,     0.74138,     0.74138,\n",
      "            0.74138,     0.74138,     0.74138,     0.74138,     0.74138,     0.74138,     0.74138,     0.74138,     0.74138,     0.74138,     0.74138,     0.74138,     0.74138,     0.73563,     0.73563,     0.73476,     0.73191,     0.72989,     0.72989,     0.72989,     0.72989,     0.72989,     0.72989,\n",
      "            0.72989,     0.72989,     0.72989,     0.72989,     0.72989,     0.72989,     0.72989,     0.72989,     0.72989,     0.72989,     0.72989,     0.72989,     0.72989,     0.72989,     0.72989,     0.72989,     0.72989,     0.72989,     0.72989,     0.72989,     0.72414,     0.72414,      0.7188,\n",
      "            0.71264,     0.71264,     0.71264,      0.7106,      0.7076,      0.7069,     0.70634,     0.70381,     0.70128,     0.70115,     0.70115,     0.70115,     0.70115,     0.70115,     0.70115,     0.70115,     0.70115,     0.70115,     0.70115,     0.70115,     0.70115,     0.70115,     0.70115,\n",
      "            0.70115,     0.70115,     0.70115,     0.70115,     0.70115,     0.70115,     0.70115,     0.70115,     0.70115,     0.70115,     0.70115,     0.69517,     0.69331,     0.69145,     0.68966,     0.68966,     0.68966,     0.68966,     0.68966,     0.68966,     0.68966,     0.68966,     0.68391,\n",
      "            0.68391,     0.68391,     0.68391,     0.68391,     0.68391,     0.68391,     0.68391,     0.68224,     0.68045,     0.67867,     0.67816,     0.67816,     0.67816,     0.67816,     0.67816,     0.67816,     0.67241,     0.67241,     0.67017,     0.66721,     0.66667,     0.66667,     0.66667,\n",
      "            0.66667,     0.66667,     0.66667,     0.66667,     0.66667,     0.66667,     0.66667,     0.66667,     0.66667,     0.66667,     0.66636,      0.6658,     0.66524,     0.66468,     0.66412,     0.66356,       0.663,     0.66244,     0.66187,     0.66131,     0.66074,     0.66016,     0.65957,\n",
      "            0.65898,      0.6584,     0.65781,     0.65722,     0.65663,     0.65605,     0.65546,     0.65517,     0.65517,     0.65517,     0.65517,     0.65517,     0.65517,     0.65517,     0.65517,     0.65517,     0.65517,     0.65517,     0.65517,     0.65517,     0.65517,     0.65517,     0.65517,\n",
      "            0.65517,     0.65517,      0.6546,     0.65403,     0.65347,      0.6529,     0.65233,     0.65176,     0.65119,     0.65062,     0.65005,     0.64949,     0.64918,     0.64891,     0.64863,     0.64836,     0.64808,     0.64781,     0.64753,     0.64726,     0.64698,     0.64671,     0.64644,\n",
      "            0.64616,     0.64589,     0.64561,     0.64534,     0.64506,     0.64479,     0.64451,     0.64424,     0.64396,     0.64369,      0.6426,     0.64146,     0.64033,      0.6392,     0.63807,     0.63218,     0.62545,     0.62371,     0.62196,     0.62043,     0.61948,     0.61853,     0.61758,\n",
      "            0.61663,     0.61568,     0.61483,     0.61434,     0.61385,     0.61336,     0.61287,     0.61238,     0.61189,      0.6114,     0.61091,     0.61042,     0.60993,     0.60944,     0.60828,     0.60646,     0.60465,      0.6032,     0.60246,     0.60172,     0.60098,     0.60024,      0.5995,\n",
      "            0.59876,     0.59802,     0.59606,      0.5932,     0.59146,     0.59058,      0.5897,     0.58883,     0.58795,     0.58707,     0.58619,     0.58498,     0.58378,     0.58257,     0.58136,     0.58046,     0.58046,     0.58046,     0.58046,     0.58046,     0.58046,     0.58046,     0.58046,\n",
      "            0.58046,     0.58046,     0.58046,     0.58046,     0.58046,     0.58046,     0.58046,     0.58046,     0.58046,     0.58046,     0.58046,     0.58046,     0.58046,     0.58046,     0.58046,     0.58046,     0.58046,     0.58046,     0.58046,     0.57945,     0.57836,     0.57727,     0.57619,\n",
      "             0.5751,     0.56897,     0.56897,     0.56897,     0.56897,     0.56897,     0.56897,     0.56897,     0.56897,     0.56897,     0.56897,     0.56897,     0.56897,     0.56897,     0.56897,     0.56897,     0.56897,     0.56897,     0.56897,     0.56897,     0.56897,     0.56897,     0.56897,\n",
      "            0.56897,     0.56897,     0.56897,     0.56897,     0.56897,     0.56897,     0.56897,     0.56897,     0.56897,     0.56897,     0.56857,     0.56798,     0.56739,     0.56681,     0.56622,     0.56563,     0.56504,     0.56446,     0.56387,     0.56328,     0.55945,     0.55734,     0.55711,\n",
      "            0.55687,     0.55663,     0.55639,     0.55615,     0.55591,     0.55567,     0.55543,     0.55519,     0.55496,     0.55472,     0.55448,     0.55424,       0.554,     0.55376,     0.55352,     0.55328,     0.55304,     0.55281,     0.55257,     0.55233,     0.55209,     0.55185,     0.55079,\n",
      "            0.54881,     0.54683,     0.54578,     0.54544,     0.54511,     0.54477,     0.54443,     0.54409,     0.54375,     0.54341,     0.54307,     0.54274,      0.5424,     0.54206,     0.54172,     0.54138,     0.54104,      0.5407,     0.54036,     0.53427,     0.53251,     0.53075,     0.52899,\n",
      "            0.52726,     0.52553,      0.5238,     0.52252,     0.52164,     0.52075,     0.51987,     0.51899,     0.51811,     0.51722,     0.51596,      0.5147,     0.51344,     0.51218,     0.51014,     0.50716,      0.5054,     0.50473,     0.50407,      0.5034,     0.50273,     0.50207,      0.5014,\n",
      "            0.50074,     0.50007,     0.49853,     0.49688,     0.49523,     0.49023,     0.48808,     0.48756,     0.48704,     0.48652,       0.486,     0.48548,     0.48495,     0.48443,     0.48391,     0.48339,     0.48287,     0.47345,     0.47106,     0.47067,     0.47029,     0.46991,     0.46953,\n",
      "            0.46915,     0.46877,     0.46838,       0.468,     0.46762,     0.46724,     0.46686,     0.46648,     0.46609,     0.46571,     0.46552,     0.46552,     0.46552,     0.46552,     0.46552,     0.46552,     0.46552,     0.46552,     0.46552,     0.46552,     0.46552,     0.46552,     0.46552,\n",
      "            0.46552,     0.46552,     0.46552,     0.46552,     0.46552,     0.46552,     0.46552,     0.46552,     0.46552,     0.46552,     0.46552,     0.46552,     0.46552,     0.46552,     0.46549,     0.45839,     0.45461,     0.45402,     0.45402,     0.45402,     0.45402,     0.45402,     0.45402,\n",
      "            0.45402,     0.45402,     0.45402,     0.45402,     0.45402,     0.45402,     0.45402,     0.45402,     0.45402,     0.45402,     0.45402,     0.45402,     0.45402,     0.45402,     0.45402,     0.45402,     0.45402,     0.45402,     0.45402,     0.45334,     0.45246,     0.45158,     0.45071,\n",
      "            0.44983,     0.44895,     0.44813,     0.44749,     0.44684,      0.4462,     0.44556,     0.44492,     0.44428,     0.44364,     0.44299,     0.44217,     0.44084,     0.43952,      0.4382,     0.43688,     0.43613,     0.43542,     0.43472,     0.43401,      0.4333,      0.4326,     0.43189,\n",
      "            0.43119,     0.42931,     0.42711,     0.42519,     0.42462,     0.42404,     0.42346,     0.42289,     0.42231,     0.42174,     0.42116,     0.42059,     0.42001,     0.41954,     0.41954,      0.4136,     0.41165,     0.40971,     0.40696,      0.4023,      0.4023,      0.4023,      0.4023,\n",
      "             0.4023,      0.4023,      0.4023,      0.4023,      0.4023,      0.4023,     0.39461,     0.39258,     0.38985,     0.38501,     0.37417,      0.3722,      0.3707,     0.36919,     0.36747,     0.36356,     0.36037,     0.35763,     0.35573,     0.35459,     0.35345,     0.35231,     0.35117,\n",
      "            0.35039,     0.35001,     0.34963,     0.34924,     0.34886,     0.34847,     0.34809,     0.34771,     0.34732,     0.34694,     0.34656,     0.34617,     0.34579,      0.3454,     0.34502,     0.34391,     0.34208,     0.34024,     0.33908,     0.33908,      0.3355,     0.32543,     0.32153,\n",
      "             0.3207,     0.31987,     0.31905,     0.31822,     0.31739,     0.31656,     0.31434,     0.31033,     0.30791,     0.30549,     0.30318,     0.30094,     0.29881,     0.29822,     0.29763,     0.29705,     0.29646,     0.29587,     0.29528,     0.29469,     0.29411,     0.29352,     0.29286,\n",
      "            0.29205,     0.29124,     0.29042,     0.28961,      0.2888,     0.28799,     0.28545,     0.27898,     0.27586,     0.27586,     0.27586,     0.27586,     0.27507,     0.27226,     0.27011,     0.27011,     0.27011,     0.27011,     0.27011,     0.27011,     0.27011,     0.27011,     0.27011,\n",
      "            0.27011,     0.27011,     0.26929,     0.26656,     0.26382,     0.26104,     0.25846,     0.25721,     0.25596,     0.25471,     0.25346,     0.25223,     0.25103,     0.24983,     0.24863,     0.24742,     0.24429,     0.24029,     0.23552,     0.23114,     0.22751,     0.22418,     0.21986,\n",
      "             0.2145,     0.20737,     0.19656,     0.19401,     0.19229,     0.19058,     0.18332,      0.1818,     0.18029,     0.17877,     0.17663,     0.17406,     0.17208,     0.17114,     0.17021,     0.16927,     0.16833,      0.1674,     0.16648,     0.16563,     0.16478,     0.16393,     0.16308,\n",
      "            0.16224,     0.16139,     0.15871,     0.15389,     0.14937,     0.14682,     0.14428,     0.14037,     0.13638,     0.13284,      0.1309,     0.12932,     0.12775,     0.12627,     0.12528,     0.12428,     0.12329,     0.12229,      0.1213,     0.12006,     0.11846,     0.11686,     0.11526,\n",
      "            0.11422,     0.11331,      0.1124,      0.1115,     0.11059,     0.10968,     0.10868,     0.10756,     0.10644,     0.10532,      0.1042,     0.10251,    0.099641,    0.097181,     0.09558,    0.093979,    0.092378,    0.084577,    0.080129,    0.068062,    0.064339,    0.059202,    0.056163,\n",
      "           0.054292,     0.05242,    0.051144,    0.050222,    0.049299,    0.048377,    0.047454,    0.046532,    0.044762,    0.041715,    0.038843,    0.036138,     0.02838,    0.022868,    0.022684,      0.0225,    0.022316,    0.022131,    0.021947,    0.021763,    0.021579,    0.021394,     0.02121,\n",
      "           0.021026,    0.020842,    0.020657,    0.020473,    0.020289,    0.020105,     0.01992,    0.019736,    0.019552,    0.019368,    0.019183,    0.018999,    0.018815,    0.018631,    0.018446,    0.018262,    0.018078,    0.017894,    0.017709,    0.017525,    0.017341,    0.016167,     0.01383,\n",
      "           0.011494,    0.011239,    0.010983,    0.010728,    0.010473,    0.010218,   0.0099624,   0.0097072,   0.0094519,   0.0091966,   0.0089414,   0.0086861,   0.0084308,   0.0081756,   0.0079203,    0.007665,   0.0074098,   0.0071545,   0.0068993,    0.006644,   0.0063887,   0.0061335,   0.0058782,\n",
      "                  0,           0,           0,           0,           0,           0,           0,           0,           0,           0,           0,           0,           0,           0,           0,           0,           0,           0,           0,           0,           0,           0,           0,\n",
      "                  0,           0,           0,           0,           0,           0,           0,           0,           0,           0,           0,           0,           0,           0,           0,           0,           0,           0,           0,           0,           0,           0,           0,\n",
      "                  0,           0,           0,           0,           0,           0,           0,           0,           0,           0,           0,           0,           0,           0,           0,           0,           0,           0,           0,           0,           0,           0,           0,\n",
      "                  0,           0,           0,           0,           0,           0,           0,           0,           0,           0,           0,           0,           0,           0,           0,           0,           0,           0,           0,           0,           0,           0,           0,\n",
      "                  0,           0,           0,           0,           0,           0,           0,           0,           0,           0,           0,           0,           0,           0,           0,           0,           0,           0,           0,           0,           0,           0,           0,\n",
      "                  0,           0,           0,           0,           0,           0,           0,           0,           0,           0,           0,           0,           0,           0,           0,           0,           0,           0,           0,           0,           0,           0,           0,\n",
      "                  0,           0,           0,           0,           0,           0,           0,           0,           0,           0,           0,           0,           0,           0,           0,           0,           0,           0,           0,           0,           0,           0,           0,\n",
      "                  0,           0,           0,           0,           0,           0,           0,           0,           0,           0,           0]]), 'Confidence', 'Recall']]\n",
      "fitness: np.float64(0.3743029227630978)\n",
      "keys: ['metrics/precision(B)', 'metrics/recall(B)', 'metrics/mAP50(B)', 'metrics/mAP50-95(B)']\n",
      "maps: array([    0.33321])\n",
      "names: {0: 'bird'}\n",
      "plot: True\n",
      "results_dict: {'metrics/precision(B)': np.float64(0.8787392016627844), 'metrics/recall(B)': np.float64(0.6551724137931034), 'metrics/mAP50(B)': np.float64(0.7441170326818811), 'metrics/mAP50-95(B)': np.float64(0.3332124661054552), 'fitness': np.float64(0.3743029227630978)}\n",
      "save_dir: PosixPath('runs/detect/val')\n",
      "speed: {'preprocess': 16.928298096775418, 'inference': 61.130352580644946, 'loss': 0.0009269354838961003, 'postprocess': 19.115025387095336}\n",
      "task: 'detect'\n"
     ]
    }
   ],
   "source": [
    "custom_name = 'yolov11_freeze_10_base_hp_40_epochs_best.pt'\n",
    "\n",
    "# Load best or last checkpoint\n",
    "model = YOLO(f'{models}/{custom_name}')\n",
    "# Evaluate on the test split defined in test.yaml\n",
    "metrics = model.val(data=yolo_data, imgsz=1280, save=True, split='test')\n",
    "print(metrics)"
   ]
  }
 ],
 "metadata": {
  "accelerator": "GPU",
  "colab": {
   "gpuType": "T4",
   "provenance": []
  },
  "kernelspec": {
   "display_name": "Python 3 (ipykernel)",
   "language": "python",
   "name": "python3"
  },
  "language_info": {
   "codemirror_mode": {
    "name": "ipython",
    "version": 3
   },
   "file_extension": ".py",
   "mimetype": "text/x-python",
   "name": "python",
   "nbconvert_exporter": "python",
   "pygments_lexer": "ipython3",
   "version": "3.11.7"
  }
 },
 "nbformat": 4,
 "nbformat_minor": 4
}
